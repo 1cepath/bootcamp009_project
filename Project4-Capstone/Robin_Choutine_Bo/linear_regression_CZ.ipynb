{
 "cells": [
  {
   "cell_type": "code",
   "execution_count": null,
   "metadata": {
    "collapsed": true
   },
   "outputs": [],
   "source": []
  },
  {
   "cell_type": "code",
   "execution_count": 1,
   "metadata": {
    "collapsed": true
   },
   "outputs": [],
   "source": [
    "#### Loading the packages to be used\n",
    "import pandas as pd\n",
    "import numpy as np\n",
    "from __future__ import print_function  # Python 2 and 3\n",
    "from scipy import stats\n",
    "import matplotlib.pyplot as plt\n",
    "from sklearn import linear_model\n",
    "ols = linear_model.LinearRegression()"
   ]
  },
  {
   "cell_type": "code",
   "execution_count": 121,
   "metadata": {
    "collapsed": false,
    "scrolled": true
   },
   "outputs": [],
   "source": [
    "drug= pd.read_csv('drug.csv',dtype={'NDC': str})\n",
    "priceInfo=drug.copy()"
   ]
  },
  {
   "cell_type": "code",
   "execution_count": 34,
   "metadata": {
    "collapsed": false
   },
   "outputs": [
    {
     "data": {
      "text/plain": [
       "array([ '1 VIAL, SINGLE-DOSE in 1 PACKAGE (0009-3073-01)  > 1 mL in 1 VIAL, SINGLE-DOSE',\n",
       "       '1 BOTTLE in 1 CARTON (0009-3116-01)  > 30 mL in 1 BOTTLE',\n",
       "       '10 POUCH in 1 BOX (10019-553-01)  > 1 PATCH in 1 POUCH > 3 d in 1 PATCH',\n",
       "       ...,\n",
       "       '30 TABLET, FILM COATED, EXTENDED RELEASE in 1 BOTTLE (99207-466-30)',\n",
       "       '30 TABLET, FILM COATED, EXTENDED RELEASE in 1 BOTTLE (99207-467-30)',\n",
       "       '1 TUBE in 1 CARTON (99207-850-60)  > 60 g in 1 TUBE'], dtype=object)"
      ]
     },
     "execution_count": 34,
     "metadata": {},
     "output_type": "execute_result"
    }
   ],
   "source": [
    "drug['PACKAGEDESCRIPTION'].unique()"
   ]
  },
  {
   "cell_type": "code",
   "execution_count": 12,
   "metadata": {
    "collapsed": false
   },
   "outputs": [
    {
     "data": {
      "text/plain": [
       "PRODUCTID_x                                   object\n",
       "PRODUCTNDC                                    object\n",
       "NDCPACKAGECODE                                object\n",
       "PACKAGEDESCRIPTION                            object\n",
       "PRODUCTID_y                                   object\n",
       "PRODUCTTYPENAME                               object\n",
       "PROPRIETARYNAME                               object\n",
       "PROPRIETARYNAMESUFFIX                         object\n",
       "NONPROPRIETARYNAME                            object\n",
       "DOSAGEFORMNAME                                object\n",
       "ROUTENAME                                     object\n",
       "STARTMARKETINGDATE                           float64\n",
       "ENDMARKETINGDATE                             float64\n",
       "MARKETINGCATEGORYNAME                         object\n",
       "APPLICATIONNUMBER                             object\n",
       "LABELERNAME                                   object\n",
       "SUBSTANCENAME                                 object\n",
       "ACTIVE_NUMERATOR_STRENGTH                     object\n",
       "ACTIVE_INGRED_UNIT                            object\n",
       "PHARM_CLASSES                                 object\n",
       "DEASCHEDULE                                   object\n",
       "NDC_x                                          int64\n",
       "NDC10                                          int64\n",
       "NDC Description                               object\n",
       "NDC_y                                          int64\n",
       "NADAC_Per_Unit                               float64\n",
       "Effective_Date                                object\n",
       "Pricing_Unit                                  object\n",
       "Pharmacy_Type_Indicator                       object\n",
       "OTC                                           object\n",
       "Explanation_Code                              object\n",
       "Classification_for_Rate_Setting               object\n",
       "Corresponding_Generic_Drug_NADAC_Per_Unit    float64\n",
       "Corresponding_Generic_Drug_Effective_Date     object\n",
       "As of Date                                    object\n",
       "dtype: object"
      ]
     },
     "execution_count": 12,
     "metadata": {},
     "output_type": "execute_result"
    }
   ],
   "source": [
    "drug.dtypes"
   ]
  },
  {
   "cell_type": "code",
   "execution_count": 122,
   "metadata": {
    "collapsed": false
   },
   "outputs": [
    {
     "data": {
      "text/plain": [
       "(13102, 35)"
      ]
     },
     "execution_count": 122,
     "metadata": {},
     "output_type": "execute_result"
    }
   ],
   "source": [
    "priceInfo.shape"
   ]
  },
  {
   "cell_type": "code",
   "execution_count": 123,
   "metadata": {
    "collapsed": true
   },
   "outputs": [],
   "source": [
    "priceInfo = priceInfo.loc[:,['DOSAGEFORMNAME'] + ['ROUTENAME'] + ['STARTMARKETINGDATE'] + ['MARKETINGCATEGORYNAME']+ ['LABELERNAME']  + ['PHARM_CLASSES'] + ['DEASCHEDULE'] +['OTC']+['NADAC_Per_Unit']+['Classification_for_Rate_Setting']]\n",
    "def Dummify(column):\n",
    "    column_values = pd.get_dummies(priceInfo[column], prefix=column, prefix_sep='__')\n",
    "    return pd.concat([priceInfo.drop(column,axis=1),column_values],axis=1)\n",
    "\n",
    "priceInfo = Dummify('DOSAGEFORMNAME')\n",
    "priceInfo = Dummify('ROUTENAME')\n",
    "priceInfo = Dummify('LABELERNAME')\n",
    "priceInfo = Dummify('PHARM_CLASSES')\n",
    "priceInfo = Dummify('DEASCHEDULE')\n",
    "priceInfo = Dummify('Classification_for_Rate_Setting')\n",
    "priceInfo = Dummify('OTC')\n",
    "priceInfo = Dummify('MARKETINGCATEGORYNAME')\n"
   ]
  },
  {
   "cell_type": "code",
   "execution_count": 124,
   "metadata": {
    "collapsed": false
   },
   "outputs": [
    {
     "data": {
      "text/plain": [
       "(13102, 1145)"
      ]
     },
     "execution_count": 124,
     "metadata": {},
     "output_type": "execute_result"
    }
   ],
   "source": [
    "priceInfo.shape"
   ]
  },
  {
   "cell_type": "code",
   "execution_count": 125,
   "metadata": {
    "collapsed": true
   },
   "outputs": [],
   "source": [
    "y = priceInfo[\"NADAC_Per_Unit\"]\n",
    "x = priceInfo.ix[:, priceInfo.columns != 'NADAC_Per_Unit']"
   ]
  },
  {
   "cell_type": "code",
   "execution_count": 17,
   "metadata": {
    "collapsed": false
   },
   "outputs": [
    {
     "ename": "NameError",
     "evalue": "name 'k_fold' is not defined",
     "output_type": "error",
     "traceback": [
      "\u001b[0;31m---------------------------------------------------------------------------\u001b[0m",
      "\u001b[0;31mNameError\u001b[0m                                 Traceback (most recent call last)",
      "\u001b[0;32m<ipython-input-17-58a64d407aef>\u001b[0m in \u001b[0;36m<module>\u001b[0;34m()\u001b[0m\n\u001b[1;32m      2\u001b[0m \u001b[1;32mfrom\u001b[0m \u001b[0msklearn\u001b[0m\u001b[1;33m.\u001b[0m\u001b[0mmodel_selection\u001b[0m \u001b[1;32mimport\u001b[0m \u001b[0mKFold\u001b[0m\u001b[1;33m,\u001b[0m \u001b[0mcross_val_score\u001b[0m\u001b[1;33m\u001b[0m\u001b[0m\n\u001b[1;32m      3\u001b[0m \u001b[0mkfold\u001b[0m \u001b[1;33m=\u001b[0m \u001b[0mKFold\u001b[0m\u001b[1;33m(\u001b[0m\u001b[0mn_splits\u001b[0m\u001b[1;33m=\u001b[0m\u001b[1;36m3\u001b[0m\u001b[1;33m)\u001b[0m\u001b[1;33m\u001b[0m\u001b[0m\n\u001b[0;32m----> 4\u001b[0;31m \u001b[1;33m[\u001b[0m\u001b[0mols\u001b[0m\u001b[1;33m.\u001b[0m\u001b[0mfit\u001b[0m\u001b[1;33m(\u001b[0m\u001b[0mx\u001b[0m\u001b[1;33m[\u001b[0m\u001b[0mtrain\u001b[0m\u001b[1;33m]\u001b[0m\u001b[1;33m,\u001b[0m \u001b[0my\u001b[0m\u001b[1;33m[\u001b[0m\u001b[0mtrain\u001b[0m\u001b[1;33m]\u001b[0m\u001b[1;33m)\u001b[0m\u001b[1;33m.\u001b[0m\u001b[0mscore\u001b[0m\u001b[1;33m(\u001b[0m\u001b[0mx\u001b[0m\u001b[1;33m[\u001b[0m\u001b[0mtest\u001b[0m\u001b[1;33m]\u001b[0m\u001b[1;33m,\u001b[0m \u001b[0my\u001b[0m\u001b[1;33m[\u001b[0m\u001b[0mtest\u001b[0m\u001b[1;33m]\u001b[0m\u001b[1;33m)\u001b[0m \u001b[1;32mfor\u001b[0m \u001b[0mtrain\u001b[0m\u001b[1;33m,\u001b[0m \u001b[0mtest\u001b[0m \u001b[1;32min\u001b[0m \u001b[0mk_fold\u001b[0m\u001b[1;33m.\u001b[0m\u001b[0msplit\u001b[0m\u001b[1;33m(\u001b[0m\u001b[0mx\u001b[0m\u001b[1;33m)\u001b[0m\u001b[1;33m]\u001b[0m\u001b[1;33m\u001b[0m\u001b[0m\n\u001b[0m",
      "\u001b[0;31mNameError\u001b[0m: name 'k_fold' is not defined"
     ]
    }
   ],
   "source": [
    "# use cross validation\n",
    "# from sklearn.model_selection import KFold, cross_val_score\n",
    "# kfold = KFold(n_splits=3)\n",
    "# [ols.fit(x[train], y[train]).score(x[test], y[test]) for train, test in k_fold.split(x)]"
   ]
  },
  {
   "cell_type": "code",
   "execution_count": 35,
   "metadata": {
    "collapsed": false
   },
   "outputs": [
    {
     "data": {
      "text/plain": [
       "array([ -5.44022204e+01,  -2.49161686e-01,  -5.28834289e+09,\n",
       "        -1.70917816e+13,  -1.04435699e+12])"
      ]
     },
     "execution_count": 35,
     "metadata": {},
     "output_type": "execute_result"
    }
   ],
   "source": [
    "# cross validation score - NOT work\n",
    "import sklearn.model_selection as ms\n",
    "scores = ms.cross_val_score(estimator=ols, X=x, y=y, cv=5)\n",
    "scores"
   ]
  },
  {
   "cell_type": "code",
   "execution_count": 133,
   "metadata": {
    "collapsed": false
   },
   "outputs": [],
   "source": [
    "# BEST SPLIT SO FAR - use 0.1 train and test split\n",
    "try:  # train_test_split was moved in 0.18.0\n",
    "    from sklearn.model_selection import train_test_split\n",
    "except:  # Following import works through 0.19 but outputs a warning in 0.18\n",
    "    from sklearn.cross_validation import train_test_split\n",
    "X_train, X_test, y_train, y_test = train_test_split(x, y, test_size=0.1, random_state=42)"
   ]
  },
  {
   "cell_type": "code",
   "execution_count": 13,
   "metadata": {
    "collapsed": false
   },
   "outputs": [
    {
     "data": {
      "text/plain": [
       "4347      0.02258\n",
       "7733      3.24485\n",
       "3545      0.11749\n",
       "1237      0.84565\n",
       "720       0.02794\n",
       "8523      0.01173\n",
       "9314      0.10262\n",
       "9910      7.50384\n",
       "1739      0.02521\n",
       "2452      0.24712\n",
       "12005     0.47341\n",
       "1178      0.16945\n",
       "11791     0.58089\n",
       "10075     0.28330\n",
       "379       0.18324\n",
       "1935      0.29530\n",
       "7039      3.03085\n",
       "6866      0.17115\n",
       "4333      0.01426\n",
       "12875     0.05777\n",
       "4339      0.04692\n",
       "10800     0.20276\n",
       "11670     0.56360\n",
       "6497     29.70500\n",
       "2150      0.07607\n",
       "902       0.29317\n",
       "4257     13.12417\n",
       "1236      0.84565\n",
       "12607     0.10969\n",
       "6023      0.24949\n",
       "           ...   \n",
       "7377      0.09929\n",
       "8360      0.29975\n",
       "8204      0.08403\n",
       "11834     0.04703\n",
       "6939      0.47768\n",
       "2631      0.25059\n",
       "8731      0.15465\n",
       "3910      5.22662\n",
       "4750     11.57547\n",
       "732       5.64150\n",
       "245       0.11266\n",
       "2057      0.96209\n",
       "13059     0.54243\n",
       "10090     0.78737\n",
       "12662     1.16384\n",
       "6604      2.81522\n",
       "7539     13.37750\n",
       "8644      0.56360\n",
       "6286      0.09909\n",
       "12153     1.05668\n",
       "673       0.01319\n",
       "2117      0.03887\n",
       "3128      0.56973\n",
       "5151      0.07494\n",
       "476       0.06574\n",
       "5071     27.28893\n",
       "5967      0.73381\n",
       "9088      3.16621\n",
       "6926      0.02742\n",
       "2673      0.01224\n",
       "Name: NADAC_Per_Unit, dtype: float64"
      ]
     },
     "execution_count": 13,
     "metadata": {},
     "output_type": "execute_result"
    }
   ],
   "source": [
    "X_test\n",
    "y_test"
   ]
  },
  {
   "cell_type": "code",
   "execution_count": 134,
   "metadata": {
    "collapsed": false
   },
   "outputs": [
    {
     "name": "stdout",
     "output_type": "stream",
     "text": [
      "R^2 for train set: 0.919335\n",
      "--------------------------------------------------\n",
      "R^2 for test  set: 0.994431\n"
     ]
    }
   ],
   "source": [
    "ols.fit(X_train, y_train)\n",
    "print(\"R^2 for train set: %f\" %ols.score(X_train, y_train))\n",
    "\n",
    "print('-'*50)\n",
    "\n",
    "print(\"R^2 for test  set: %f\" %ols.score(X_test, y_test))\n",
    "\n",
    "# BEST SCORE SO FAR\n",
    "# R^2 for train set: 0.919335\n",
    "# --------------------------------------------------\n",
    "# R^2 for test  set: 0.994431"
   ]
  },
  {
   "cell_type": "code",
   "execution_count": 136,
   "metadata": {
    "collapsed": false
   },
   "outputs": [
    {
     "name": "stdout",
     "output_type": "stream",
     "text": [
      "Mean squared root error: 37.79\n"
     ]
    }
   ],
   "source": [
    "from sklearn.metrics import mean_squared_error\n",
    "\n",
    "#rms = np.sqrt(mean_squared_error(y_actual, y_predicted))\n",
    "print(\"Mean squared root error: %.2f\"\n",
    "      % np.sqrt(((ols.predict(X_test) - y_test) ** 2).mean()))\n",
    "        \n",
    "# Mean squared root error: 37.79"
   ]
  },
  {
   "cell_type": "code",
   "execution_count": 93,
   "metadata": {
    "collapsed": true
   },
   "outputs": [],
   "source": [
    "# ====================================================================================\n",
    "# ====================================================================================\n",
    "# NOT WORK- try to add more features \n",
    "\n",
    "# keyfeatures=(['DOSAGEFORMNAME','ROUTENAME','STARTMARKETINGDATE','MARKETINGCATEGORYNAME',\n",
    "#             'PHARM_CLASSES','DEASCHEDULE','OTC','Explanation_Code','NADAC_Per_Unit'])\n",
    "\n",
    "keyfeatures=(['DOSAGEFORMNAME','ROUTENAME','STARTMARKETINGDATE','LABELERNAME',\n",
    "            'PHARM_CLASSES','DEASCHEDULE','NADAC_Per_Unit'])\n",
    "\n",
    "drugPrice = drug.loc[:,keyfeatures]\n"
   ]
  },
  {
   "cell_type": "code",
   "execution_count": 84,
   "metadata": {
    "collapsed": false
   },
   "outputs": [
    {
     "data": {
      "text/plain": [
       "0                          NDA\n",
       "1                          NDA\n",
       "2                          NDA\n",
       "3                          NDA\n",
       "4                          NDA\n",
       "5                          NDA\n",
       "6                          NDA\n",
       "7                          NDA\n",
       "8                          NDA\n",
       "9                          NDA\n",
       "10                         NDA\n",
       "11                         NDA\n",
       "12                         NDA\n",
       "13                         NDA\n",
       "14                         NDA\n",
       "15                         NDA\n",
       "16                         NDA\n",
       "17                         NDA\n",
       "18                         NDA\n",
       "19                        ANDA\n",
       "20                         NDA\n",
       "21                         NDA\n",
       "22                         NDA\n",
       "23                        ANDA\n",
       "24                        ANDA\n",
       "25                        ANDA\n",
       "26                        ANDA\n",
       "27                        ANDA\n",
       "28                        ANDA\n",
       "29                        ANDA\n",
       "                 ...          \n",
       "13072                     ANDA\n",
       "13073                     ANDA\n",
       "13074                     ANDA\n",
       "13075                     ANDA\n",
       "13076                     ANDA\n",
       "13077                     ANDA\n",
       "13078                     ANDA\n",
       "13079      OTC MONOGRAPH FINAL\n",
       "13080      OTC MONOGRAPH FINAL\n",
       "13081      OTC MONOGRAPH FINAL\n",
       "13082      OTC MONOGRAPH FINAL\n",
       "13083      OTC MONOGRAPH FINAL\n",
       "13084    UNAPPROVED DRUG OTHER\n",
       "13085    UNAPPROVED DRUG OTHER\n",
       "13086    UNAPPROVED DRUG OTHER\n",
       "13087    UNAPPROVED DRUG OTHER\n",
       "13088    UNAPPROVED DRUG OTHER\n",
       "13089    UNAPPROVED DRUG OTHER\n",
       "13090    UNAPPROVED DRUG OTHER\n",
       "13091    UNAPPROVED DRUG OTHER\n",
       "13092                      NDA\n",
       "13093                      NDA\n",
       "13094                      NDA\n",
       "13095                      NDA\n",
       "13096                      NDA\n",
       "13097                      NDA\n",
       "13098                      NDA\n",
       "13099                      NDA\n",
       "13100                      NDA\n",
       "13101                      NDA\n",
       "Name: MARKETINGCATEGORYNAME, dtype: object"
      ]
     },
     "execution_count": 84,
     "metadata": {},
     "output_type": "execute_result"
    }
   ],
   "source": [
    "#drug.MARKETINGCATEGORYNAME"
   ]
  },
  {
   "cell_type": "code",
   "execution_count": 94,
   "metadata": {
    "collapsed": false
   },
   "outputs": [],
   "source": [
    "#drugPrice = Dummify(dummiedV)\n",
    "drugT=pd.concat([drugPrice, pd.get_dummies(drugPrice.loc[:,drugPrice.dtypes==\"object\"])], axis=1)"
   ]
  },
  {
   "cell_type": "code",
   "execution_count": 95,
   "metadata": {
    "collapsed": false
   },
   "outputs": [
    {
     "data": {
      "text/plain": [
       "['DOSAGEFORMNAME',\n",
       " 'ROUTENAME',\n",
       " 'STARTMARKETINGDATE',\n",
       " 'LABELERNAME',\n",
       " 'PHARM_CLASSES',\n",
       " 'DEASCHEDULE']"
      ]
     },
     "execution_count": 95,
     "metadata": {},
     "output_type": "execute_result"
    }
   ],
   "source": [
    "drop_old=keyfeatures[:-1]\n",
    "drop_old"
   ]
  },
  {
   "cell_type": "code",
   "execution_count": 96,
   "metadata": {
    "collapsed": false
   },
   "outputs": [],
   "source": [
    "drugT=drugT.drop(drop_old,axis=1)"
   ]
  },
  {
   "cell_type": "code",
   "execution_count": 97,
   "metadata": {
    "collapsed": false
   },
   "outputs": [
    {
     "data": {
      "text/plain": [
       "(13102, 1131)"
      ]
     },
     "execution_count": 97,
     "metadata": {},
     "output_type": "execute_result"
    }
   ],
   "source": [
    "drugT.shape"
   ]
  },
  {
   "cell_type": "code",
   "execution_count": 98,
   "metadata": {
    "collapsed": true
   },
   "outputs": [],
   "source": [
    "y = drugT[\"NADAC_Per_Unit\"]\n",
    "x = drugT.ix[:, drugT.columns != 'NADAC_Per_Unit']"
   ]
  },
  {
   "cell_type": "code",
   "execution_count": 99,
   "metadata": {
    "collapsed": true
   },
   "outputs": [],
   "source": [
    "try:  # train_test_split was moved in 0.18.0\n",
    "    from sklearn.model_selection import train_test_split\n",
    "except:  # Following import works through 0.19 but outputs a warning in 0.18\n",
    "    from sklearn.cross_validation import train_test_split\n",
    "X_train, X_test, y_train, y_test = train_test_split(x, y, test_size=0.1, random_state=42)"
   ]
  },
  {
   "cell_type": "code",
   "execution_count": 100,
   "metadata": {
    "collapsed": false
   },
   "outputs": [
    {
     "name": "stdout",
     "output_type": "stream",
     "text": [
      "R^2 for train set: 0.917570\n",
      "--------------------------------------------------\n",
      "R^2 for test  set: -142324822316929646592.000000\n"
     ]
    }
   ],
   "source": [
    "ols.fit(X_train, y_train)\n",
    "print(\"R^2 for train set: %f\" %ols.score(X_train, y_train))\n",
    "\n",
    "print('-'*50)\n",
    "\n",
    "print(\"R^2 for test  set: %f\" %ols.score(X_test, y_test))"
   ]
  }
 ],
 "metadata": {
  "kernelspec": {
   "display_name": "Python 2",
   "language": "python",
   "name": "python2"
  },
  "language_info": {
   "codemirror_mode": {
    "name": "ipython",
    "version": 2
   },
   "file_extension": ".py",
   "mimetype": "text/x-python",
   "name": "python",
   "nbconvert_exporter": "python",
   "pygments_lexer": "ipython2",
   "version": "2.7.13"
  }
 },
 "nbformat": 4,
 "nbformat_minor": 2
}
