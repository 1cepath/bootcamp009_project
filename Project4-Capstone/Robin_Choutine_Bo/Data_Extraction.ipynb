{
 "cells": [
  {
   "cell_type": "code",
   "execution_count": 1,
   "metadata": {
    "collapsed": true
   },
   "outputs": [],
   "source": [
    "import numpy as np\n",
    "import pandas as pd\n",
    "import re\n",
    "import os\n"
   ]
  },
  {
   "cell_type": "code",
   "execution_count": 3,
   "metadata": {
    "collapsed": false
   },
   "outputs": [],
   "source": [
    "#these are all the data files we will be using, the .csvs are not in the repository for space reasons\n",
    "#but the files are available on the google drive\n",
    "price= pd.read_csv('NADAC_as_of_2017-06-07.csv',dtype={'NDC': str})\n",
    "product= pd.read_csv('product.csv')\n",
    "package=pd.read_csv('package.csv')\n",
    "NADAC_Comparison = pd.read_csv('NADAC_Comparison.csv',dtype={'NDC':str})\n",
    "price_series = pd.read_csv('NADAC__National_Average_Drug_Acquisition_Cost_.csv')\n",
    "\n"
   ]
  },
  {
   "cell_type": "code",
   "execution_count": 5,
   "metadata": {
    "collapsed": false
   },
   "outputs": [],
   "source": [
    "#here are various data cleaning operations we must do to analyze the data\n",
    "\n",
    "#make percent change a float\n",
    "NADAC_Comparison['Percent Change']=NADAC_Comparison['Percent Change'].apply(lambda x: x[:-1])\n",
    "NADAC_Comparison['Percent Change']=NADAC_Comparison['Percent Change'].apply(pd.to_numeric)\n",
    "\n",
    "#change the NDC so it matches the NDC in the other .csv\n",
    "price['NDC10']=price['NDC'].apply(lambda x: x[0:5]+x[6:])  #de18.founded=de18.founded.apply(lambda x: x[8:])\n",
    "\n",
    "#merge two csv's together\n",
    "FDA = pd.merge(package,product,how='inner',on='PRODUCTNDC')\n",
    "\n",
    "#remove the - from the NDC to match the other NDC\n",
    "import re\n",
    "def func(x):                                       # replace the - for ''in column:NDCPACKAGECODE for file FDA\n",
    "    return re.sub('[-]',\"\", str(x))\n",
    "FDA['NDC'] = FDA['NDCPACKAGECODE'].apply(func)"
   ]
  },
  {
   "cell_type": "code",
   "execution_count": 7,
   "metadata": {
    "collapsed": false
   },
   "outputs": [],
   "source": [
    "FDA['NDC10']=FDA['NDC']\n",
    "drug = pd.merge(FDA,price,how='inner',on='NDC10')\n",
    "drug['date']=pd.to_datetime(drug['STARTMARKETINGDATE'])"
   ]
  }
 ],
 "metadata": {
  "kernelspec": {
   "display_name": "Python 2",
   "language": "python",
   "name": "python2"
  },
  "language_info": {
   "codemirror_mode": {
    "name": "ipython",
    "version": 2
   },
   "file_extension": ".py",
   "mimetype": "text/x-python",
   "name": "python",
   "nbconvert_exporter": "python",
   "pygments_lexer": "ipython2",
   "version": "2.7.13"
  }
 },
 "nbformat": 4,
 "nbformat_minor": 2
}
