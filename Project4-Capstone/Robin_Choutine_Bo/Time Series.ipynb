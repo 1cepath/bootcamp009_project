{
 "cells": [
  {
   "cell_type": "code",
   "execution_count": 7,
   "metadata": {
    "collapsed": true
   },
   "outputs": [],
   "source": [
    "import pandas as pd\n",
    "import numpy as np\n",
    "drugall = pd.read_csv(\"drugall.csv\")"
   ]
  },
  {
   "cell_type": "code",
   "execution_count": 4,
   "metadata": {
    "collapsed": false
   },
   "outputs": [
    {
     "data": {
      "text/html": [
       "<div>\n",
       "<table border=\"1\" class=\"dataframe\">\n",
       "  <thead>\n",
       "    <tr style=\"text-align: right;\">\n",
       "      <th></th>\n",
       "      <th>PRODUCTID_x</th>\n",
       "      <th>PRODUCTNDC</th>\n",
       "      <th>NDCPACKAGECODE</th>\n",
       "      <th>PACKAGEDESCRIPTION</th>\n",
       "      <th>PRODUCTID_y</th>\n",
       "      <th>PRODUCTTYPENAME</th>\n",
       "      <th>PROPRIETARYNAME</th>\n",
       "      <th>PROPRIETARYNAMESUFFIX</th>\n",
       "      <th>NONPROPRIETARYNAME</th>\n",
       "      <th>DOSAGEFORMNAME</th>\n",
       "      <th>...</th>\n",
       "      <th>NADAC_Per_Unit</th>\n",
       "      <th>Effective_Date</th>\n",
       "      <th>Pricing_Unit</th>\n",
       "      <th>Pharmacy_Type_Indicator</th>\n",
       "      <th>OTC</th>\n",
       "      <th>Explanation_Code</th>\n",
       "      <th>Classification_for_Rate_Setting</th>\n",
       "      <th>Corresponding_Generic_Drug_NADAC_Per_Unit</th>\n",
       "      <th>Corresponding_Generic_Drug_Effective_Date</th>\n",
       "      <th>As of Date</th>\n",
       "    </tr>\n",
       "  </thead>\n",
       "  <tbody>\n",
       "    <tr>\n",
       "      <th>0</th>\n",
       "      <td>0009-3073_0f1820e6-28cb-4dd7-89ee-00583ebab35d</td>\n",
       "      <td>Sep-73</td>\n",
       "      <td>0009-3073-01</td>\n",
       "      <td>1 VIAL, SINGLE-DOSE in 1 PACKAGE (0009-3073-01...</td>\n",
       "      <td>0009-3073_0f1820e6-28cb-4dd7-89ee-00583ebab35d</td>\n",
       "      <td>HUMAN PRESCRIPTION DRUG</td>\n",
       "      <td>Depo-Medrol</td>\n",
       "      <td>NaN</td>\n",
       "      <td>methylprednisolone acetate</td>\n",
       "      <td>INJECTION, SUSPENSION</td>\n",
       "      <td>...</td>\n",
       "      <td>0.03178</td>\n",
       "      <td>03/23/2016</td>\n",
       "      <td>EA</td>\n",
       "      <td>C/I</td>\n",
       "      <td>N</td>\n",
       "      <td>1</td>\n",
       "      <td>G</td>\n",
       "      <td>NaN</td>\n",
       "      <td>NaN</td>\n",
       "      <td>04/13/2016</td>\n",
       "    </tr>\n",
       "  </tbody>\n",
       "</table>\n",
       "<p>1 rows × 34 columns</p>\n",
       "</div>"
      ],
      "text/plain": [
       "                                      PRODUCTID_x PRODUCTNDC NDCPACKAGECODE  \\\n",
       "0  0009-3073_0f1820e6-28cb-4dd7-89ee-00583ebab35d     Sep-73   0009-3073-01   \n",
       "\n",
       "                                  PACKAGEDESCRIPTION  \\\n",
       "0  1 VIAL, SINGLE-DOSE in 1 PACKAGE (0009-3073-01...   \n",
       "\n",
       "                                      PRODUCTID_y          PRODUCTTYPENAME  \\\n",
       "0  0009-3073_0f1820e6-28cb-4dd7-89ee-00583ebab35d  HUMAN PRESCRIPTION DRUG   \n",
       "\n",
       "  PROPRIETARYNAME PROPRIETARYNAMESUFFIX          NONPROPRIETARYNAME  \\\n",
       "0     Depo-Medrol                   NaN  methylprednisolone acetate   \n",
       "\n",
       "          DOSAGEFORMNAME     ...     NADAC_Per_Unit  Effective_Date  \\\n",
       "0  INJECTION, SUSPENSION     ...            0.03178      03/23/2016   \n",
       "\n",
       "   Pricing_Unit Pharmacy_Type_Indicator OTC Explanation_Code  \\\n",
       "0            EA                     C/I   N                1   \n",
       "\n",
       "  Classification_for_Rate_Setting Corresponding_Generic_Drug_NADAC_Per_Unit  \\\n",
       "0                               G                                       NaN   \n",
       "\n",
       "  Corresponding_Generic_Drug_Effective_Date  As of Date  \n",
       "0                                       NaN  04/13/2016  \n",
       "\n",
       "[1 rows x 34 columns]"
      ]
     },
     "execution_count": 4,
     "metadata": {},
     "output_type": "execute_result"
    }
   ],
   "source": [
    "drugall.head(1)"
   ]
  },
  {
   "cell_type": "code",
   "execution_count": 8,
   "metadata": {
    "collapsed": true
   },
   "outputs": [],
   "source": [
    "#we take a subset of all the rows from above\n",
    "druglimited = drugall.loc[:,['NDC10'] + ['NADAC_Per_Unit'] + ['As of Date']]\n"
   ]
  },
  {
   "cell_type": "code",
   "execution_count": null,
   "metadata": {
    "collapsed": true
   },
   "outputs": [],
   "source": [
    "#we need to convert to a proper datetime\n",
    "druglimited['As of Date'] = pd.to_datetime(druglimited['As of Date'])"
   ]
  },
  {
   "cell_type": "code",
   "execution_count": 23,
   "metadata": {
    "collapsed": false
   },
   "outputs": [
    {
     "data": {
      "text/html": [
       "<div>\n",
       "<table border=\"1\" class=\"dataframe\">\n",
       "  <thead>\n",
       "    <tr style=\"text-align: right;\">\n",
       "      <th></th>\n",
       "      <th>NDC10</th>\n",
       "      <th>NADAC_Per_Unit</th>\n",
       "      <th>As of Date</th>\n",
       "    </tr>\n",
       "  </thead>\n",
       "  <tbody>\n",
       "    <tr>\n",
       "      <th>0</th>\n",
       "      <td>9307301</td>\n",
       "      <td>0.03178</td>\n",
       "      <td>2016-04-13</td>\n",
       "    </tr>\n",
       "  </tbody>\n",
       "</table>\n",
       "</div>"
      ],
      "text/plain": [
       "     NDC10  NADAC_Per_Unit As of Date\n",
       "0  9307301         0.03178 2016-04-13"
      ]
     },
     "execution_count": 23,
     "metadata": {},
     "output_type": "execute_result"
    }
   ],
   "source": [
    "druglimited.head(1)"
   ]
  },
  {
   "cell_type": "code",
   "execution_count": 10,
   "metadata": {
    "collapsed": true
   },
   "outputs": [],
   "source": [
    "%matplotlib inline\n",
    "import matplotlib.pyplot as plt"
   ]
  },
  {
   "cell_type": "code",
   "execution_count": 33,
   "metadata": {
    "collapsed": false
   },
   "outputs": [],
   "source": [
    "groupeddrugs = pd.groupby(druglimited, 'As of Date')['NADAC_Per_Unit'].median()"
   ]
  },
  {
   "cell_type": "code",
   "execution_count": 30,
   "metadata": {
    "collapsed": false
   },
   "outputs": [
    {
     "data": {
      "text/plain": [
       "As of Date\n",
       "2013-11-28    10.308744\n",
       "2013-12-05    10.304796\n",
       "2013-12-11    10.293076\n",
       "2013-12-18    10.372403\n",
       "2013-12-25    10.368600\n",
       "Name: NADAC_Per_Unit, dtype: float64"
      ]
     },
     "execution_count": 30,
     "metadata": {},
     "output_type": "execute_result"
    }
   ],
   "source": [
    "groupeddrugs.head()"
   ]
  },
  {
   "cell_type": "code",
   "execution_count": 22,
   "metadata": {
    "collapsed": false
   },
   "outputs": [],
   "source": []
  },
  {
   "cell_type": "code",
   "execution_count": 37,
   "metadata": {
    "collapsed": false
   },
   "outputs": [
    {
     "data": {
      "text/plain": [
       "<matplotlib.axes._subplots.AxesSubplot at 0x13db5a20>"
      ]
     },
     "execution_count": 37,
     "metadata": {},
     "output_type": "execute_result"
    },
    {
     "data": {
      "image/png": "[encoded data removed]",
      "text/plain": [
       "<matplotlib.figure.Figure at 0x1c1a6320>"
      ]
     },
     "metadata": {},
     "output_type": "display_data"
    }
   ],
   "source": [
    "#Count = len(druglimited)\n",
    "#Count.index = druglimited['As of Date']\n",
    "groupeddrugs.iloc[:,].plot()\n"
   ]
  }
 ],
 "metadata": {
  "kernelspec": {
   "display_name": "Python 2",
   "language": "python",
   "name": "python2"
  },
  "language_info": {
   "codemirror_mode": {
    "name": "ipython",
    "version": 2
   },
   "file_extension": ".py",
   "mimetype": "text/x-python",
   "name": "python",
   "nbconvert_exporter": "python",
   "pygments_lexer": "ipython2",
   "version": "2.7.13"
  }
 },
 "nbformat": 4,
 "nbformat_minor": 2
}
