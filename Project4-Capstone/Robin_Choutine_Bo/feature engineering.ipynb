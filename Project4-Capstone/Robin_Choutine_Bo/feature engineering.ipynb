{
 "cells": [
  {
   "cell_type": "code",
   "execution_count": 1,
   "metadata": {
    "collapsed": true
   },
   "outputs": [],
   "source": [
    "#### Loading the packages to be used\n",
    "import pandas as pd\n",
    "import numpy as np\n",
    "from matplotlib import pyplot as plt\n",
    "import seaborn as sns\n",
    "from __future__ import print_function  # Python 2 and 3\n",
    "#from treeinterpreter import treeinterpreter as ti\n",
    "from sklearn.tree import DecisionTreeRegressor\n",
    "from sklearn.ensemble import RandomForestRegressor\n",
    "from sklearn.model_selection import train_test_split\n",
    "import sklearn.model_selection as ms\n",
    "%matplotlib inline \n",
    "%config InlineBackend.figure_format = 'retina'\n",
    "# show all output and more columns and rows\n",
    "from IPython.core.interactiveshell import InteractiveShell\n",
    "InteractiveShell.ast_node_interactivity = \"all\"\n",
    "pd.options.display.max_columns = 410\n",
    "pd.options.display.max_rows = 2000"
   ]
  },
  {
   "cell_type": "code",
   "execution_count": 2,
   "metadata": {
    "collapsed": false
   },
   "outputs": [
    {
     "data": {
      "text/html": [
       "<div>\n",
       "<style>\n",
       "    .dataframe thead tr:only-child th {\n",
       "        text-align: right;\n",
       "    }\n",
       "\n",
       "    .dataframe thead th {\n",
       "        text-align: left;\n",
       "    }\n",
       "\n",
       "    .dataframe tbody tr th {\n",
       "        vertical-align: top;\n",
       "    }\n",
       "</style>\n",
       "<table border=\"1\" class=\"dataframe\">\n",
       "  <thead>\n",
       "    <tr style=\"text-align: right;\">\n",
       "      <th></th>\n",
       "      <th>PRODUCTID</th>\n",
       "      <th>PRODUCTNDC</th>\n",
       "      <th>NDCPACKAGECODE</th>\n",
       "      <th>PACKAGEDESCRIPTION</th>\n",
       "      <th>PRODUCTTYPENAME</th>\n",
       "      <th>PROPRIETARYNAME</th>\n",
       "      <th>PROPRIETARYNAMESUFFIX</th>\n",
       "      <th>NONPROPRIETARYNAME</th>\n",
       "      <th>DOSAGEFORMNAME</th>\n",
       "      <th>ROUTENAME</th>\n",
       "      <th>STARTMARKETINGDATE</th>\n",
       "      <th>ENDMARKETINGDATE</th>\n",
       "      <th>MARKETINGCATEGORYNAME</th>\n",
       "      <th>APPLICATIONNUMBER</th>\n",
       "      <th>LABELERNAME</th>\n",
       "      <th>SUBSTANCENAME</th>\n",
       "      <th>ACTIVE_NUMERATOR_STRENGTH</th>\n",
       "      <th>ACTIVE_INGRED_UNIT</th>\n",
       "      <th>PHARM_CLASSES</th>\n",
       "      <th>DEASCHEDULE</th>\n",
       "      <th>NDC10</th>\n",
       "      <th>NDC Description</th>\n",
       "      <th>NDC11</th>\n",
       "      <th>NADAC_Per_Unit</th>\n",
       "      <th>Effective_Date</th>\n",
       "      <th>Pricing_Unit</th>\n",
       "      <th>Pharmacy_Type_Indicator</th>\n",
       "      <th>OTC</th>\n",
       "      <th>Explanation_Code</th>\n",
       "      <th>Classification_for_Rate_Setting</th>\n",
       "      <th>Corresponding_Generic_Drug_NADAC_Per_Unit</th>\n",
       "      <th>Corresponding_Generic_Drug_Effective_Date</th>\n",
       "      <th>As of Date</th>\n",
       "      <th>logprice</th>\n",
       "      <th>price</th>\n",
       "    </tr>\n",
       "  </thead>\n",
       "  <tbody>\n",
       "    <tr>\n",
       "      <th>0</th>\n",
       "      <td>0009-3073_0f1820e6-28cb-4dd7-89ee-00583ebab35d</td>\n",
       "      <td>Sep-73</td>\n",
       "      <td>0009-3073-01</td>\n",
       "      <td>1 VIAL, SINGLE-DOSE in 1 PACKAGE (0009-3073-01...</td>\n",
       "      <td>HUMAN PRESCRIPTION DRUG</td>\n",
       "      <td>Depo-Medrol</td>\n",
       "      <td>NaN</td>\n",
       "      <td>methylprednisolone acetate</td>\n",
       "      <td>INJECTION, SUSPENSION</td>\n",
       "      <td>INTRA-ARTICULAR; INTRALESIONAL; INTRAMUSCULAR;...</td>\n",
       "      <td>19590528.0</td>\n",
       "      <td>NaN</td>\n",
       "      <td>NDA</td>\n",
       "      <td>NDA011757</td>\n",
       "      <td>Pharmacia and Upjohn Company LLC</td>\n",
       "      <td>METHYLPREDNISOLONE ACETATE</td>\n",
       "      <td>40</td>\n",
       "      <td>mg/mL</td>\n",
       "      <td>Corticosteroid [EPC],Corticosteroid Hormone Re...</td>\n",
       "      <td>NaN</td>\n",
       "      <td>9307301</td>\n",
       "      <td>ZOLPIDEM TARTRATE 5 MG TABLET</td>\n",
       "      <td>93007301</td>\n",
       "      <td>0.02878</td>\n",
       "      <td>05/17/2017</td>\n",
       "      <td>EA</td>\n",
       "      <td>C/I</td>\n",
       "      <td>N</td>\n",
       "      <td>1</td>\n",
       "      <td>G</td>\n",
       "      <td>NaN</td>\n",
       "      <td>NaN</td>\n",
       "      <td>06/07/2017</td>\n",
       "      <td>-3.548075</td>\n",
       "      <td>0.02878</td>\n",
       "    </tr>\n",
       "  </tbody>\n",
       "</table>\n",
       "</div>"
      ],
      "text/plain": [
       "                                        PRODUCTID PRODUCTNDC NDCPACKAGECODE  \\\n",
       "0  0009-3073_0f1820e6-28cb-4dd7-89ee-00583ebab35d     Sep-73   0009-3073-01   \n",
       "\n",
       "                                  PACKAGEDESCRIPTION          PRODUCTTYPENAME  \\\n",
       "0  1 VIAL, SINGLE-DOSE in 1 PACKAGE (0009-3073-01...  HUMAN PRESCRIPTION DRUG   \n",
       "\n",
       "  PROPRIETARYNAME PROPRIETARYNAMESUFFIX          NONPROPRIETARYNAME  \\\n",
       "0     Depo-Medrol                   NaN  methylprednisolone acetate   \n",
       "\n",
       "          DOSAGEFORMNAME                                          ROUTENAME  \\\n",
       "0  INJECTION, SUSPENSION  INTRA-ARTICULAR; INTRALESIONAL; INTRAMUSCULAR;...   \n",
       "\n",
       "   STARTMARKETINGDATE  ENDMARKETINGDATE MARKETINGCATEGORYNAME  \\\n",
       "0          19590528.0               NaN                   NDA   \n",
       "\n",
       "  APPLICATIONNUMBER                       LABELERNAME  \\\n",
       "0         NDA011757  Pharmacia and Upjohn Company LLC   \n",
       "\n",
       "                SUBSTANCENAME ACTIVE_NUMERATOR_STRENGTH ACTIVE_INGRED_UNIT  \\\n",
       "0  METHYLPREDNISOLONE ACETATE                        40              mg/mL   \n",
       "\n",
       "                                       PHARM_CLASSES DEASCHEDULE    NDC10  \\\n",
       "0  Corticosteroid [EPC],Corticosteroid Hormone Re...         NaN  9307301   \n",
       "\n",
       "                 NDC Description     NDC11  NADAC_Per_Unit Effective_Date  \\\n",
       "0  ZOLPIDEM TARTRATE 5 MG TABLET  93007301         0.02878     05/17/2017   \n",
       "\n",
       "  Pricing_Unit Pharmacy_Type_Indicator OTC Explanation_Code  \\\n",
       "0           EA                     C/I   N                1   \n",
       "\n",
       "  Classification_for_Rate_Setting  Corresponding_Generic_Drug_NADAC_Per_Unit  \\\n",
       "0                               G                                        NaN   \n",
       "\n",
       "  Corresponding_Generic_Drug_Effective_Date  As of Date  logprice    price  \n",
       "0                                       NaN  06/07/2017 -3.548075  0.02878  "
      ]
     },
     "execution_count": 2,
     "metadata": {},
     "output_type": "execute_result"
    }
   ],
   "source": [
    "drug= pd.read_csv('drug.csv')\n",
    "drug.head(1)"
   ]
  },
  {
   "cell_type": "code",
   "execution_count": 257,
   "metadata": {
    "collapsed": false
   },
   "outputs": [
    {
     "data": {
      "text/plain": [
       "(13102, 9)"
      ]
     },
     "execution_count": 257,
     "metadata": {},
     "output_type": "execute_result"
    },
    {
     "data": {
      "text/html": [
       "<div>\n",
       "<style>\n",
       "    .dataframe thead tr:only-child th {\n",
       "        text-align: right;\n",
       "    }\n",
       "\n",
       "    .dataframe thead th {\n",
       "        text-align: left;\n",
       "    }\n",
       "\n",
       "    .dataframe tbody tr th {\n",
       "        vertical-align: top;\n",
       "    }\n",
       "</style>\n",
       "<table border=\"1\" class=\"dataframe\">\n",
       "  <thead>\n",
       "    <tr style=\"text-align: right;\">\n",
       "      <th></th>\n",
       "      <th>STARTMARKETINGDATE</th>\n",
       "      <th>logprice</th>\n",
       "      <th>price</th>\n",
       "    </tr>\n",
       "  </thead>\n",
       "  <tbody>\n",
       "    <tr>\n",
       "      <th>count</th>\n",
       "      <td>1.310200e+04</td>\n",
       "      <td>13102.000000</td>\n",
       "      <td>13102.000000</td>\n",
       "    </tr>\n",
       "    <tr>\n",
       "      <th>mean</th>\n",
       "      <td>2.009666e+07</td>\n",
       "      <td>-1.188063</td>\n",
       "      <td>11.606463</td>\n",
       "    </tr>\n",
       "    <tr>\n",
       "      <th>std</th>\n",
       "      <td>7.176009e+04</td>\n",
       "      <td>2.003364</td>\n",
       "      <td>278.146418</td>\n",
       "    </tr>\n",
       "    <tr>\n",
       "      <th>min</th>\n",
       "      <td>1.900011e+07</td>\n",
       "      <td>-6.630124</td>\n",
       "      <td>0.001320</td>\n",
       "    </tr>\n",
       "    <tr>\n",
       "      <th>25%</th>\n",
       "      <td>2.007123e+07</td>\n",
       "      <td>-2.673069</td>\n",
       "      <td>0.069040</td>\n",
       "    </tr>\n",
       "    <tr>\n",
       "      <th>50%</th>\n",
       "      <td>2.011122e+07</td>\n",
       "      <td>-1.492589</td>\n",
       "      <td>0.224790</td>\n",
       "    </tr>\n",
       "    <tr>\n",
       "      <th>75%</th>\n",
       "      <td>2.014093e+07</td>\n",
       "      <td>0.024410</td>\n",
       "      <td>1.024710</td>\n",
       "    </tr>\n",
       "    <tr>\n",
       "      <th>max</th>\n",
       "      <td>2.017053e+07</td>\n",
       "      <td>9.813613</td>\n",
       "      <td>18280.916500</td>\n",
       "    </tr>\n",
       "  </tbody>\n",
       "</table>\n",
       "</div>"
      ],
      "text/plain": [
       "       STARTMARKETINGDATE      logprice         price\n",
       "count        1.310200e+04  13102.000000  13102.000000\n",
       "mean         2.009666e+07     -1.188063     11.606463\n",
       "std          7.176009e+04      2.003364    278.146418\n",
       "min          1.900011e+07     -6.630124      0.001320\n",
       "25%          2.007123e+07     -2.673069      0.069040\n",
       "50%          2.011122e+07     -1.492589      0.224790\n",
       "75%          2.014093e+07      0.024410      1.024710\n",
       "max          2.017053e+07      9.813613  18280.916500"
      ]
     },
     "execution_count": 257,
     "metadata": {},
     "output_type": "execute_result"
    }
   ],
   "source": [
    "# only using columns from FDA\n",
    "#['Explanation_Code']+['OTC']+['Classification_for_Rate_Setting']+\n",
    "df=drug.loc[:,['DOSAGEFORMNAME']+['ROUTENAME'] +['LABELERNAME']+ ['STARTMARKETINGDATE']  + ['PHARM_CLASSES'] + ['MARKETINGCATEGORYNAME']+['DEASCHEDULE']+['logprice']+['price']]\n",
    "df.shape\n",
    "df.describe()"
   ]
  },
  {
   "cell_type": "code",
   "execution_count": 258,
   "metadata": {
    "collapsed": true
   },
   "outputs": [],
   "source": [
    "# imputation by mean\n",
    "df.loc[df['STARTMARKETINGDATE']< 1.92e7,'STARTMARKETINGDATE']=2.009666e+07"
   ]
  },
  {
   "cell_type": "code",
   "execution_count": 259,
   "metadata": {
    "collapsed": false
   },
   "outputs": [
    {
     "data": {
      "text/html": [
       "<div>\n",
       "<style>\n",
       "    .dataframe thead tr:only-child th {\n",
       "        text-align: right;\n",
       "    }\n",
       "\n",
       "    .dataframe thead th {\n",
       "        text-align: left;\n",
       "    }\n",
       "\n",
       "    .dataframe tbody tr th {\n",
       "        vertical-align: top;\n",
       "    }\n",
       "</style>\n",
       "<table border=\"1\" class=\"dataframe\">\n",
       "  <thead>\n",
       "    <tr style=\"text-align: right;\">\n",
       "      <th></th>\n",
       "      <th>DOSAGEFORMNAME</th>\n",
       "      <th>ROUTENAME</th>\n",
       "      <th>LABELERNAME</th>\n",
       "      <th>STARTMARKETINGDATE</th>\n",
       "      <th>PHARM_CLASSES</th>\n",
       "      <th>MARKETINGCATEGORYNAME</th>\n",
       "      <th>DEASCHEDULE</th>\n",
       "      <th>logprice</th>\n",
       "      <th>price</th>\n",
       "    </tr>\n",
       "  </thead>\n",
       "  <tbody>\n",
       "    <tr>\n",
       "      <th>0</th>\n",
       "      <td>INJECTION, SUSPENSION</td>\n",
       "      <td>INTRA-ARTICULAR; INTRALESIONAL; INTRAMUSCULAR;...</td>\n",
       "      <td>Pharmacia and Upjohn Company LLC</td>\n",
       "      <td>19590528.0</td>\n",
       "      <td>Corticosteroid [EPC],Corticosteroid Hormone Re...</td>\n",
       "      <td>NDA</td>\n",
       "      <td>NaN</td>\n",
       "      <td>-3.548075</td>\n",
       "      <td>0.02878</td>\n",
       "    </tr>\n",
       "    <tr>\n",
       "      <th>1</th>\n",
       "      <td>INJECTION, SUSPENSION</td>\n",
       "      <td>INTRALESIONAL; INTRAMUSCULAR; INTRASYNOVIAL; S...</td>\n",
       "      <td>Pharmacia and Upjohn Company LLC</td>\n",
       "      <td>19590528.0</td>\n",
       "      <td>Corticosteroid [EPC],Corticosteroid Hormone Re...</td>\n",
       "      <td>NDA</td>\n",
       "      <td>NaN</td>\n",
       "      <td>-3.548075</td>\n",
       "      <td>0.02878</td>\n",
       "    </tr>\n",
       "  </tbody>\n",
       "</table>\n",
       "</div>"
      ],
      "text/plain": [
       "          DOSAGEFORMNAME                                          ROUTENAME  \\\n",
       "0  INJECTION, SUSPENSION  INTRA-ARTICULAR; INTRALESIONAL; INTRAMUSCULAR;...   \n",
       "1  INJECTION, SUSPENSION  INTRALESIONAL; INTRAMUSCULAR; INTRASYNOVIAL; S...   \n",
       "\n",
       "                        LABELERNAME  STARTMARKETINGDATE  \\\n",
       "0  Pharmacia and Upjohn Company LLC          19590528.0   \n",
       "1  Pharmacia and Upjohn Company LLC          19590528.0   \n",
       "\n",
       "                                       PHARM_CLASSES MARKETINGCATEGORYNAME  \\\n",
       "0  Corticosteroid [EPC],Corticosteroid Hormone Re...                   NDA   \n",
       "1  Corticosteroid [EPC],Corticosteroid Hormone Re...                   NDA   \n",
       "\n",
       "  DEASCHEDULE  logprice    price  \n",
       "0         NaN -3.548075  0.02878  \n",
       "1         NaN -3.548075  0.02878  "
      ]
     },
     "execution_count": 259,
     "metadata": {},
     "output_type": "execute_result"
    },
    {
     "data": {
      "text/html": [
       "<div>\n",
       "<style>\n",
       "    .dataframe thead tr:only-child th {\n",
       "        text-align: right;\n",
       "    }\n",
       "\n",
       "    .dataframe thead th {\n",
       "        text-align: left;\n",
       "    }\n",
       "\n",
       "    .dataframe tbody tr th {\n",
       "        vertical-align: top;\n",
       "    }\n",
       "</style>\n",
       "<table border=\"1\" class=\"dataframe\">\n",
       "  <thead>\n",
       "    <tr style=\"text-align: right;\">\n",
       "      <th></th>\n",
       "      <th>STARTMARKETINGDATE</th>\n",
       "      <th>logprice</th>\n",
       "      <th>price</th>\n",
       "    </tr>\n",
       "  </thead>\n",
       "  <tbody>\n",
       "    <tr>\n",
       "      <th>count</th>\n",
       "      <td>1.310200e+04</td>\n",
       "      <td>13102.000000</td>\n",
       "      <td>13102.000000</td>\n",
       "    </tr>\n",
       "    <tr>\n",
       "      <th>mean</th>\n",
       "      <td>2.009674e+07</td>\n",
       "      <td>-1.188063</td>\n",
       "      <td>11.606463</td>\n",
       "    </tr>\n",
       "    <tr>\n",
       "      <th>std</th>\n",
       "      <td>7.111767e+04</td>\n",
       "      <td>2.003364</td>\n",
       "      <td>278.146418</td>\n",
       "    </tr>\n",
       "    <tr>\n",
       "      <th>min</th>\n",
       "      <td>1.947073e+07</td>\n",
       "      <td>-6.630124</td>\n",
       "      <td>0.001320</td>\n",
       "    </tr>\n",
       "    <tr>\n",
       "      <th>25%</th>\n",
       "      <td>2.007123e+07</td>\n",
       "      <td>-2.673069</td>\n",
       "      <td>0.069040</td>\n",
       "    </tr>\n",
       "    <tr>\n",
       "      <th>50%</th>\n",
       "      <td>2.011122e+07</td>\n",
       "      <td>-1.492589</td>\n",
       "      <td>0.224790</td>\n",
       "    </tr>\n",
       "    <tr>\n",
       "      <th>75%</th>\n",
       "      <td>2.014093e+07</td>\n",
       "      <td>0.024410</td>\n",
       "      <td>1.024710</td>\n",
       "    </tr>\n",
       "    <tr>\n",
       "      <th>max</th>\n",
       "      <td>2.017053e+07</td>\n",
       "      <td>9.813613</td>\n",
       "      <td>18280.916500</td>\n",
       "    </tr>\n",
       "  </tbody>\n",
       "</table>\n",
       "</div>"
      ],
      "text/plain": [
       "       STARTMARKETINGDATE      logprice         price\n",
       "count        1.310200e+04  13102.000000  13102.000000\n",
       "mean         2.009674e+07     -1.188063     11.606463\n",
       "std          7.111767e+04      2.003364    278.146418\n",
       "min          1.947073e+07     -6.630124      0.001320\n",
       "25%          2.007123e+07     -2.673069      0.069040\n",
       "50%          2.011122e+07     -1.492589      0.224790\n",
       "75%          2.014093e+07      0.024410      1.024710\n",
       "max          2.017053e+07      9.813613  18280.916500"
      ]
     },
     "execution_count": 259,
     "metadata": {},
     "output_type": "execute_result"
    }
   ],
   "source": [
    "df.head(2)\n",
    "df.describe()"
   ]
  },
  {
   "cell_type": "code",
   "execution_count": 143,
   "metadata": {
    "collapsed": false
   },
   "outputs": [
    {
     "name": "stdout",
     "output_type": "stream",
     "text": [
      "TABLET                                            7658\n",
      "CAPSULE                                           1325\n",
      "TABLET, EXTENDED RELEASE                           858\n",
      "SOLUTION                                           371\n",
      "CAPSULE, EXTENDED RELEASE                          345\n",
      "CREAM                                              255\n",
      "KIT                                                201\n",
      "POWDER, FOR SOLUTION                               186\n",
      "SOLUTION/ DROPS                                    165\n",
      "SUSPENSION                                         159\n",
      "TABLET, ORALLY DISINTEGRATING                      154\n",
      "OINTMENT                                           150\n",
      "TABLET, CHEWABLE                                   142\n",
      "POWDER, FOR SUSPENSION                             134\n",
      "CAPSULE, LIQUID FILLED                             101\n",
      "GEL                                                 93\n",
      "INJECTION, SOLUTION                                 87\n",
      "INJECTION                                           60\n",
      "CAPSULE, COATED, EXTENDED RELEASE                   56\n",
      "PATCH, EXTENDED RELEASE                             46\n",
      "PATCH                                               45\n",
      "LOTION                                              42\n",
      "SYRUP                                               41\n",
      "SPRAY                                               36\n",
      "GUM, CHEWING                                        33\n",
      "SUSPENSION/ DROPS                                   33\n",
      "CAPSULE, GELATIN COATED                             32\n",
      "SUSPENSION, EXTENDED RELEASE                        26\n",
      "LOZENGE                                             26\n",
      "SPRAY, METERED                                      23\n",
      "INJECTION, POWDER, LYOPHILIZED, FOR SOLUTION        18\n",
      "SUPPOSITORY                                         17\n",
      "POWDER                                              16\n",
      "AEROSOL, FOAM                                       16\n",
      "SHAMPOO                                             12\n",
      "OIL                                                 11\n",
      "POWDER, METERED                                     11\n",
      "PASTE                                               10\n",
      "ENEMA                                               10\n",
      "FOR SUSPENSION                                      10\n",
      "JELLY                                                9\n",
      "TABLET, EFFERVESCENT                                 9\n",
      "INJECTION, POWDER, FOR SOLUTION                      8\n",
      "TABLET, SUGAR COATED                                 7\n",
      "CAPSULE, COATED PELLETS                              7\n",
      "GRANULE                                              7\n",
      "SOLUTION, CONCENTRATE                                7\n",
      "AEROSOL, SPRAY                                       6\n",
      "EMULSION                                             6\n",
      "INJECTION, SUSPENSION, EXTENDED RELEASE              5\n",
      "INJECTION, SUSPENSION                                4\n",
      "GRANULE, FOR SUSPENSION                              3\n",
      "ELIXIR                                               3\n",
      "TABLET, ORALLY DISINTEGRATING, DELAYED RELEASE       2\n",
      "FILM, EXTENDED RELEASE                               2\n",
      "SOLUTION, GEL FORMING, EXTENDED RELEASE              2\n",
      "TABLET, MULTILAYER, EXTENDED RELEASE                 1\n",
      "Name: DOSAGEFORMNAME, dtype: int64\n"
     ]
    }
   ],
   "source": [
    "print (df['DOSAGEFORMNAME'].value_counts(dropna=False))   #print(drug['APPLICATIONNUMBER'].value_counts(dropna=False))"
   ]
  },
  {
   "cell_type": "code",
   "execution_count": 272,
   "metadata": {
    "collapsed": false
   },
   "outputs": [
    {
     "data": {
      "text/plain": [
       "57"
      ]
     },
     "execution_count": 272,
     "metadata": {},
     "output_type": "execute_result"
    }
   ],
   "source": [
    "len(df.DOSAGEFORMNAME.unique())    # 80 categoriese"
   ]
  },
  {
   "cell_type": "code",
   "execution_count": 145,
   "metadata": {
    "collapsed": false
   },
   "outputs": [
    {
     "data": {
      "text/plain": [
       "<matplotlib.figure.Figure at 0x11f885490>"
      ]
     },
     "execution_count": 145,
     "metadata": {},
     "output_type": "execute_result"
    },
    {
     "data": {
      "text/plain": [
       "<matplotlib.axes._subplots.AxesSubplot at 0x11f49aa50>"
      ]
     },
     "execution_count": 145,
     "metadata": {},
     "output_type": "execute_result"
    },
    {
     "data": {
      "image/png": "[encoded data removed]",
      "text/plain": [
       "<matplotlib.figure.Figure at 0x11f885490>"
      ]
     },
     "metadata": {
      "image/png": {
       "height": 633,
       "width": 1037
      }
     },
     "output_type": "display_data"
    }
   ],
   "source": [
    "plt.figure(figsize=(18,6))\n",
    "df.groupby('DOSAGEFORMNAME')['logprice'].median().sort_values(ascending=False).plot.bar(color='r')"
   ]
  },
  {
   "cell_type": "code",
   "execution_count": 146,
   "metadata": {
    "collapsed": false
   },
   "outputs": [
    {
     "data": {
      "text/plain": [
       "DOSAGEFORMNAME\n",
       "INJECTION, SUSPENSION, EXTENDED RELEASE           681.881110\n",
       "POWDER, METERED                                    35.987870\n",
       "INJECTION, SUSPENSION                              34.973655\n",
       "INJECTION, POWDER, LYOPHILIZED, FOR SOLUTION       29.511670\n",
       "TABLET, MULTILAYER, EXTENDED RELEASE               28.510760\n",
       "INJECTION                                          18.540300\n",
       "PATCH, EXTENDED RELEASE                            18.489050\n",
       "SOLUTION, GEL FORMING, EXTENDED RELEASE            18.098760\n",
       "SUSPENSION/ DROPS                                  15.090360\n",
       "TABLET, ORALLY DISINTEGRATING, DELAYED RELEASE     13.317260\n",
       "PATCH                                              12.513320\n",
       "PASTE                                               7.224395\n",
       "CAPSULE, GELATIN COATED                             4.376350\n",
       "AEROSOL, FOAM                                       4.257155\n",
       "GEL                                                 3.210600\n",
       "TABLET, SUGAR COATED                                3.132450\n",
       "AEROSOL, SPRAY                                      3.057320\n",
       "INJECTION, SOLUTION                                 2.465840\n",
       "OINTMENT                                            2.099065\n",
       "INJECTION, POWDER, FOR SOLUTION                     1.715870\n",
       "CAPSULE, EXTENDED RELEASE                           1.685530\n",
       "SOLUTION/ DROPS                                     1.666480\n",
       "TABLET, ORALLY DISINTEGRATING                       1.309380\n",
       "GRANULE, FOR SUSPENSION                             1.231140\n",
       "OIL                                                 1.184560\n",
       "SPRAY, METERED                                      0.962400\n",
       "EMULSION                                            0.863500\n",
       "KIT                                                 0.745590\n",
       "SOLUTION, CONCENTRATE                               0.692170\n",
       "CREAM                                               0.646700\n",
       "GRANULE                                             0.588800\n",
       "CAPSULE, COATED PELLETS                             0.541060\n",
       "TABLET, EXTENDED RELEASE                            0.523130\n",
       "FOR SUSPENSION                                      0.522470\n",
       "FILM, EXTENDED RELEASE                              0.507625\n",
       "POWDER                                              0.431040\n",
       "SUSPENSION, EXTENDED RELEASE                        0.384850\n",
       "LOZENGE                                             0.354950\n",
       "SHAMPOO                                             0.337475\n",
       "SUPPOSITORY                                         0.308860\n",
       "CAPSULE, COATED, EXTENDED RELEASE                   0.301800\n",
       "POWDER, FOR SUSPENSION                              0.292410\n",
       "TABLET, EFFERVESCENT                                0.289730\n",
       "CAPSULE                                             0.283300\n",
       "CAPSULE, LIQUID FILLED                              0.270370\n",
       "GUM, CHEWING                                        0.256940\n",
       "JELLY                                               0.242690\n",
       "SOLUTION                                            0.184610\n",
       "TABLET, CHEWABLE                                    0.171150\n",
       "ENEMA                                               0.135570\n",
       "TABLET                                              0.133790\n",
       "ELIXIR                                              0.126270\n",
       "LOTION                                              0.095605\n",
       "SUSPENSION                                          0.057010\n",
       "SPRAY                                               0.055460\n",
       "SYRUP                                               0.044550\n",
       "POWDER, FOR SOLUTION                                0.021975\n",
       "Name: price, dtype: float64"
      ]
     },
     "execution_count": 146,
     "metadata": {},
     "output_type": "execute_result"
    }
   ],
   "source": [
    "df.groupby('DOSAGEFORMNAME')['price'].median().sort_values(ascending=False)"
   ]
  },
  {
   "cell_type": "code",
   "execution_count": 52,
   "metadata": {
    "collapsed": false
   },
   "outputs": [],
   "source": [
    "D1=pd.DataFrame(df['DOSAGEFORMNAME'].value_counts(dropna=False),index= None)"
   ]
  },
  {
   "cell_type": "code",
   "execution_count": 73,
   "metadata": {
    "collapsed": false
   },
   "outputs": [],
   "source": [
    "D1= D1.reset_index(drop=True)"
   ]
  },
  {
   "cell_type": "code",
   "execution_count": 69,
   "metadata": {
    "collapsed": false
   },
   "outputs": [
    {
     "data": {
      "text/plain": [
       "RangeIndex(start=0, stop=80, step=1)"
      ]
     },
     "execution_count": 69,
     "metadata": {},
     "output_type": "execute_result"
    }
   ],
   "source": [
    "D1.index"
   ]
  },
  {
   "cell_type": "code",
   "execution_count": 61,
   "metadata": {
    "collapsed": false
   },
   "outputs": [],
   "source": [
    "D1.rename(columns={'index': 'dose', 'DOSAGEFORMNAME': 'count'}, inplace=True)"
   ]
  },
  {
   "cell_type": "code",
   "execution_count": 30,
   "metadata": {
    "collapsed": true
   },
   "outputs": [],
   "source": [
    "D2= pd.DataFrame(df.groupby('DOSAGEFORMNAME')['logprice'].median().sort_values(ascending=False))"
   ]
  },
  {
   "cell_type": "code",
   "execution_count": 75,
   "metadata": {
    "collapsed": true
   },
   "outputs": [],
   "source": [
    "D2.rename(columns={'DOSAGEFORMNAME': 'dose'}, inplace=True)"
   ]
  },
  {
   "cell_type": "code",
   "execution_count": 70,
   "metadata": {
    "collapsed": false
   },
   "outputs": [],
   "source": [
    "D2= D2.reset_index(drop=False)"
   ]
  },
  {
   "cell_type": "code",
   "execution_count": 71,
   "metadata": {
    "collapsed": false
   },
   "outputs": [
    {
     "data": {
      "text/plain": [
       "RangeIndex(start=0, stop=80, step=1)"
      ]
     },
     "execution_count": 71,
     "metadata": {},
     "output_type": "execute_result"
    }
   ],
   "source": [
    "D2.index"
   ]
  },
  {
   "cell_type": "code",
   "execution_count": 78,
   "metadata": {
    "collapsed": false
   },
   "outputs": [
    {
     "data": {
      "text/html": [
       "<div>\n",
       "<style>\n",
       "    .dataframe thead tr:only-child th {\n",
       "        text-align: right;\n",
       "    }\n",
       "\n",
       "    .dataframe thead th {\n",
       "        text-align: left;\n",
       "    }\n",
       "\n",
       "    .dataframe tbody tr th {\n",
       "        vertical-align: top;\n",
       "    }\n",
       "</style>\n",
       "<table border=\"1\" class=\"dataframe\">\n",
       "  <thead>\n",
       "    <tr style=\"text-align: right;\">\n",
       "      <th></th>\n",
       "      <th>index</th>\n",
       "      <th>dose</th>\n",
       "      <th>count</th>\n",
       "    </tr>\n",
       "  </thead>\n",
       "  <tbody>\n",
       "    <tr>\n",
       "      <th>0</th>\n",
       "      <td>0</td>\n",
       "      <td>TABLET</td>\n",
       "      <td>4583</td>\n",
       "    </tr>\n",
       "    <tr>\n",
       "      <th>1</th>\n",
       "      <td>1</td>\n",
       "      <td>TABLET, FILM COATED</td>\n",
       "      <td>2722</td>\n",
       "    </tr>\n",
       "    <tr>\n",
       "      <th>2</th>\n",
       "      <td>2</td>\n",
       "      <td>CAPSULE</td>\n",
       "      <td>1089</td>\n",
       "    </tr>\n",
       "  </tbody>\n",
       "</table>\n",
       "</div>"
      ],
      "text/plain": [
       "   index                 dose  count\n",
       "0      0               TABLET   4583\n",
       "1      1  TABLET, FILM COATED   2722\n",
       "2      2              CAPSULE   1089"
      ]
     },
     "execution_count": 78,
     "metadata": {},
     "output_type": "execute_result"
    },
    {
     "data": {
      "text/html": [
       "<div>\n",
       "<style>\n",
       "    .dataframe thead tr:only-child th {\n",
       "        text-align: right;\n",
       "    }\n",
       "\n",
       "    .dataframe thead th {\n",
       "        text-align: left;\n",
       "    }\n",
       "\n",
       "    .dataframe tbody tr th {\n",
       "        vertical-align: top;\n",
       "    }\n",
       "</style>\n",
       "<table border=\"1\" class=\"dataframe\">\n",
       "  <thead>\n",
       "    <tr style=\"text-align: right;\">\n",
       "      <th></th>\n",
       "      <th>dose</th>\n",
       "      <th>logprice</th>\n",
       "    </tr>\n",
       "  </thead>\n",
       "  <tbody>\n",
       "    <tr>\n",
       "      <th>0</th>\n",
       "      <td>INJECTION, SUSPENSION, EXTENDED RELEASE</td>\n",
       "      <td>6.524855</td>\n",
       "    </tr>\n",
       "    <tr>\n",
       "      <th>1</th>\n",
       "      <td>POWDER, METERED</td>\n",
       "      <td>3.932549</td>\n",
       "    </tr>\n",
       "    <tr>\n",
       "      <th>2</th>\n",
       "      <td>INJECTION, POWDER, LYOPHILIZED, FOR SOLUTION</td>\n",
       "      <td>3.384786</td>\n",
       "    </tr>\n",
       "  </tbody>\n",
       "</table>\n",
       "</div>"
      ],
      "text/plain": [
       "                                           dose  logprice\n",
       "0       INJECTION, SUSPENSION, EXTENDED RELEASE  6.524855\n",
       "1                               POWDER, METERED  3.932549\n",
       "2  INJECTION, POWDER, LYOPHILIZED, FOR SOLUTION  3.384786"
      ]
     },
     "execution_count": 78,
     "metadata": {},
     "output_type": "execute_result"
    },
    {
     "data": {
      "text/plain": [
       "((80, 3), (80, 2))"
      ]
     },
     "execution_count": 78,
     "metadata": {},
     "output_type": "execute_result"
    }
   ],
   "source": [
    "D1.head(3) ; D2.head(3)\n",
    "D1.shape,D2.shape"
   ]
  },
  {
   "cell_type": "code",
   "execution_count": 80,
   "metadata": {
    "collapsed": false
   },
   "outputs": [],
   "source": [
    "D3=pd.merge(D1,D2, on='dose',how='inner')"
   ]
  },
  {
   "cell_type": "code",
   "execution_count": 82,
   "metadata": {
    "collapsed": false
   },
   "outputs": [],
   "source": [
    "D3.to_csv('Doseage.csv',index=0)"
   ]
  },
  {
   "cell_type": "code",
   "execution_count": 260,
   "metadata": {
    "collapsed": true
   },
   "outputs": [],
   "source": [
    "df.loc[df['DOSAGEFORMNAME']== 'TABLET, FILM COATED','DOSAGEFORMNAME']= 'TABLET'"
   ]
  },
  {
   "cell_type": "code",
   "execution_count": 261,
   "metadata": {
    "collapsed": false
   },
   "outputs": [],
   "source": [
    "df.loc[df['DOSAGEFORMNAME']== 'TABLET, FILM COATED, EXTENDED RELEASE','DOSAGEFORMNAME']= 'TABLET, EXTENDED RELEASE'\n",
    "df.loc[df['DOSAGEFORMNAME']== 'CAPSULE, DELAYED RELEASE','DOSAGEFORMNAME']= 'CAPSULE'\n",
    "\n",
    "#TABLET: TABLET, FILM COATED, EXTENDED RELEASE,TABLET, COATED, TABLET, DELAYED RELEASE\n",
    "#CAPSULE: DELAYED RELEASE, CAPSULE, DELAYED RELEASE PELLETS\n",
    "\n",
    "#POWDER, FOR SOLUTION:LUQUID\n",
    "\n",
    "#SUSPENSION: FOR SOLUTION,CREAM, AUGMENTED, GEL, DENTIFRICE, SHAMPOO, SUSPENSION\n",
    "#SOLUTION:RINSE, SOLUTION, GEL FORMING / DROPS\n",
    "#TABLET, CHEWABLE:TABLET, FOR SUSPENSION\n",
    "\n",
    "#POWDER, FOR SUSPENSION: GRANULE, FOR SOLUTION\n",
    "\n",
    "#POWDER: FOR SUSPENSION\n",
    "#CONCENTRATE\tSOLUTION, CONCENTRATE\t\n",
    "#AEROSOL, METERED\tPOWDER, METERED\t\n",
    "\t\t\n",
    "\t#PASTE\tSWAB,PELLET\tFILM\t\n",
    "\t\n",
    "\t\t\n",
    "#AEROSOL, SPRAY\tTINCTURE\t\n",
    "#KIT\tTABLET, MULTILAYER\t\n"
   ]
  },
  {
   "cell_type": "code",
   "execution_count": 262,
   "metadata": {
    "collapsed": false
   },
   "outputs": [],
   "source": [
    "df.loc[df['DOSAGEFORMNAME']== 'TABLET, COATED','DOSAGEFORMNAME']= 'TABLET'\n",
    "df.loc[df['DOSAGEFORMNAME']== 'LIQUID','DOSAGEFORMNAME']= 'POWDER, FOR SOLUTION'\n",
    "df.loc[df['DOSAGEFORMNAME']== 'AEROSOL, POWDER','DOSAGEFORMNAME']= 'POWDER, FOR SOLUTION'\n",
    "df.loc[df['DOSAGEFORMNAME']== 'FOR SOLUTION','DOSAGEFORMNAME']= 'SUSPENSION'\n",
    "df.loc[df['DOSAGEFORMNAME']== 'CREAM, AUGMENTED','DOSAGEFORMNAME']= 'SUSPENSION'\n",
    "df.loc[df['DOSAGEFORMNAME']== 'GEL, DENTIFRICE','DOSAGEFORMNAME']= 'SUSPENSION'\n",
    "df.loc[df['DOSAGEFORMNAME']== 'SHAMPOO, SUSPENSION','DOSAGEFORMNAME']= 'SUSPENSION'"
   ]
  },
  {
   "cell_type": "code",
   "execution_count": 263,
   "metadata": {
    "collapsed": false
   },
   "outputs": [],
   "source": [
    "df.loc[df['DOSAGEFORMNAME']== 'TABLET, DELAYED RELEASE','DOSAGEFORMNAME']= 'TABLET'\n",
    "df.loc[df['DOSAGEFORMNAME']== 'GEL FORMING / DROPS','DOSAGEFORMNAME']= 'SOLUTION'\n",
    "\n",
    "df.loc[df['DOSAGEFORMNAME']== 'SOLUTION, GEL FORMING / DROPS','DOSAGEFORMNAME']= 'SOLUTION'\n",
    "\n",
    "df.loc[df['DOSAGEFORMNAME']== 'RINSE','DOSAGEFORMNAME']= 'SOLUTION'\n",
    "df.loc[df['DOSAGEFORMNAME']== 'CAPSULE, DELAYED RELEASE PELLETS','DOSAGEFORMNAME']= 'CAPSULE'\n",
    "df.loc[df['DOSAGEFORMNAME']== 'TABLET, FOR SUSPENSION','DOSAGEFORMNAME']= 'TABLET, CHEWABLE'\n",
    "df.loc[df['DOSAGEFORMNAME']== 'GRANULE, FOR SOLUTION','DOSAGEFORMNAME']= 'POWDER, FOR SUSPENSION'\n",
    "df.loc[df['DOSAGEFORMNAME']== 'CONCENTRATE','DOSAGEFORMNAME']= 'SOLUTION, CONCENTRATE'\n",
    "df.loc[df['DOSAGEFORMNAME']== 'AEROSOL, METERED','DOSAGEFORMNAME']= 'POWDER, METERED'\n",
    "df.loc[df['DOSAGEFORMNAME']== 'TINCTURE','DOSAGEFORMNAME']= 'AEROSOL, SPRAY'\n",
    "df.loc[df['DOSAGEFORMNAME']== 'TABLET, MULTILAYER','DOSAGEFORMNAME']= 'KIT'"
   ]
  },
  {
   "cell_type": "code",
   "execution_count": 264,
   "metadata": {
    "collapsed": false
   },
   "outputs": [],
   "source": [
    "df.loc[df['DOSAGEFORMNAME'] ==('SWAB'),'DOSAGEFORMNAME']= 'PASTE'\n",
    "df.loc[df['DOSAGEFORMNAME'] ==('FILM'),'DOSAGEFORMNAME']= 'PASTE'\n",
    "df.loc[df['DOSAGEFORMNAME'] ==('PELLET'),'DOSAGEFORMNAME']= 'PASTE'\n"
   ]
  },
  {
   "cell_type": "code",
   "execution_count": 235,
   "metadata": {
    "collapsed": false
   },
   "outputs": [],
   "source": [
    "df.to_csv('drugFE.csv',index=0)"
   ]
  },
  {
   "cell_type": "code",
   "execution_count": 236,
   "metadata": {
    "collapsed": false
   },
   "outputs": [
    {
     "name": "stdout",
     "output_type": "stream",
     "text": [
      "ORAL                                                                       11523\n",
      "TOPICAL                                                                      653\n",
      "OPHTHALMIC                                                                   253\n",
      "NaN                                                                          164\n",
      "TRANSDERMAL                                                                   96\n",
      "SUBCUTANEOUS                                                                  53\n",
      "NASAL                                                                         50\n",
      "RESPIRATORY (INHALATION)                                                      36\n",
      "INTRAMUSCULAR; INTRAVENOUS                                                    36\n",
      "INTRAMUSCULAR                                                                 35\n",
      "RECTAL                                                                        31\n",
      "AURICULAR (OTIC)                                                              23\n",
      "INTRAVENOUS                                                                   21\n",
      "VAGINAL                                                                       21\n",
      "INTRAVENOUS; SUBCUTANEOUS                                                     19\n",
      "SUBLINGUAL                                                                    19\n",
      "INTRAMUSCULAR; INTRAVENOUS; SUBCUTANEOUS                                       7\n",
      "BUCCAL                                                                         7\n",
      "ORAL; RECTAL                                                                   6\n",
      "INTRAOCULAR                                                                    5\n",
      "INTRA-ARTERIAL; INTRAMUSCULAR; INTRATHECAL; INTRAVENOUS                        4\n",
      "CUTANEOUS                                                                      4\n",
      "ORAL; TOPICAL                                                                  3\n",
      "INTRAMUSCULAR; SUBCUTANEOUS                                                    3\n",
      "INTRA-ARTICULAR; INTRALESIONAL; INTRAMUSCULAR; INTRAVENOUS; SOFT TISSUE        3\n",
      "BUCCAL; SUBLINGUAL                                                             3\n",
      "INTRA-ARTERIAL; INTRAMUSCULAR; INTRAVENOUS                                     3\n",
      "ORAL; RESPIRATORY (INHALATION)                                                 3\n",
      "RECTAL; TOPICAL                                                                3\n",
      "OPHTHALMIC; TOPICAL                                                            3\n",
      "INTRADERMAL                                                                    2\n",
      "ORAL; TRANSMUCOSAL                                                             2\n",
      "DENTAL                                                                         2\n",
      "ORAL; ORAL                                                                     1\n",
      "PERINEURAL                                                                     1\n",
      "INTRA-ARTICULAR; INTRALESIONAL; INTRAMUSCULAR; SOFT TISSUE                     1\n",
      "INTRALESIONAL; INTRAMUSCULAR; INTRASYNOVIAL; SOFT TISSUE                       1\n",
      "ORAL; SUBLINGUAL                                                               1\n",
      "ENTERAL                                                                        1\n",
      "Name: ROUTENAME, dtype: int64\n"
     ]
    }
   ],
   "source": [
    "print (df['ROUTENAME'].value_counts(dropna=False))  "
   ]
  },
  {
   "cell_type": "code",
   "execution_count": 237,
   "metadata": {
    "collapsed": false
   },
   "outputs": [
    {
     "data": {
      "text/plain": [
       "ROUTENAME\n",
       "BUCCAL; SUBLINGUAL                                                         109.105480\n",
       "SUBCUTANEOUS                                                                87.093890\n",
       "INTRAMUSCULAR                                                               70.823980\n",
       "INTRADERMAL                                                                 61.195695\n",
       "INTRAMUSCULAR; SUBCUTANEOUS                                                 22.039400\n",
       "INTRAVENOUS; SUBCUTANEOUS                                                   14.068800\n",
       "TRANSDERMAL                                                                 13.310450\n",
       "INTRAVENOUS                                                                 13.242000\n",
       "ORAL; TRANSMUCOSAL                                                          12.751670\n",
       "AURICULAR (OTIC)                                                             7.619750\n",
       "BUCCAL                                                                       7.458740\n",
       "SUBLINGUAL                                                                   3.979520\n",
       "INTRA-ARTERIAL; INTRAMUSCULAR; INTRAVENOUS                                   3.244850\n",
       "OPHTHALMIC                                                                   2.290430\n",
       "VAGINAL                                                                      2.150000\n",
       "INTRA-ARTERIAL; INTRAMUSCULAR; INTRATHECAL; INTRAVENOUS                      1.132910\n",
       "NASAL                                                                        1.091870\n",
       "TOPICAL                                                                      1.056680\n",
       "OPHTHALMIC; TOPICAL                                                          0.948500\n",
       "INTRA-ARTICULAR; INTRALESIONAL; INTRAMUSCULAR; INTRAVENOUS; SOFT TISSUE      0.773930\n",
       "RECTAL; TOPICAL                                                              0.677330\n",
       "ENTERAL                                                                      0.563600\n",
       "INTRAMUSCULAR; INTRAVENOUS                                                   0.524880\n",
       "RESPIRATORY (INHALATION)                                                     0.517370\n",
       "CUTANEOUS                                                                    0.378615\n",
       "ORAL; RESPIRATORY (INHALATION)                                               0.315800\n",
       "RECTAL                                                                       0.238590\n",
       "ORAL; SUBLINGUAL                                                             0.234780\n",
       "ORAL                                                                         0.181820\n",
       "ORAL; ORAL                                                                   0.136830\n",
       "INTRAOCULAR                                                                  0.098760\n",
       "PERINEURAL                                                                   0.089210\n",
       "ORAL; RECTAL                                                                 0.088930\n",
       "INTRAMUSCULAR; INTRAVENOUS; SUBCUTANEOUS                                     0.084500\n",
       "DENTAL                                                                       0.067660\n",
       "INTRALESIONAL; INTRAMUSCULAR; INTRASYNOVIAL; SOFT TISSUE                     0.028780\n",
       "INTRA-ARTICULAR; INTRALESIONAL; INTRAMUSCULAR; SOFT TISSUE                   0.028780\n",
       "ORAL; TOPICAL                                                                0.003010\n",
       "Name: price, dtype: float64"
      ]
     },
     "execution_count": 237,
     "metadata": {},
     "output_type": "execute_result"
    }
   ],
   "source": [
    "df.groupby('ROUTENAME')['price'].median().sort_values(ascending=False)"
   ]
  },
  {
   "cell_type": "code",
   "execution_count": 164,
   "metadata": {
    "collapsed": false
   },
   "outputs": [
    {
     "data": {
      "text/html": [
       "<div>\n",
       "<style>\n",
       "    .dataframe thead tr:only-child th {\n",
       "        text-align: right;\n",
       "    }\n",
       "\n",
       "    .dataframe thead th {\n",
       "        text-align: left;\n",
       "    }\n",
       "\n",
       "    .dataframe tbody tr th {\n",
       "        vertical-align: top;\n",
       "    }\n",
       "</style>\n",
       "<table border=\"1\" class=\"dataframe\">\n",
       "  <thead>\n",
       "    <tr style=\"text-align: right;\">\n",
       "      <th></th>\n",
       "      <th>ROUTENAME</th>\n",
       "    </tr>\n",
       "  </thead>\n",
       "  <tbody>\n",
       "    <tr>\n",
       "      <th>ORAL</th>\n",
       "      <td>11523</td>\n",
       "    </tr>\n",
       "    <tr>\n",
       "      <th>TOPICAL</th>\n",
       "      <td>653</td>\n",
       "    </tr>\n",
       "  </tbody>\n",
       "</table>\n",
       "</div>"
      ],
      "text/plain": [
       "         ROUTENAME\n",
       "ORAL         11523\n",
       "TOPICAL        653"
      ]
     },
     "execution_count": 164,
     "metadata": {},
     "output_type": "execute_result"
    }
   ],
   "source": [
    "R1=pd.DataFrame(df['ROUTENAME'].value_counts(dropna=False),index= None)\n",
    "R1.head(2)"
   ]
  },
  {
   "cell_type": "code",
   "execution_count": 165,
   "metadata": {
    "collapsed": false
   },
   "outputs": [
    {
     "data": {
      "text/html": [
       "<div>\n",
       "<style>\n",
       "    .dataframe thead tr:only-child th {\n",
       "        text-align: right;\n",
       "    }\n",
       "\n",
       "    .dataframe thead th {\n",
       "        text-align: left;\n",
       "    }\n",
       "\n",
       "    .dataframe tbody tr th {\n",
       "        vertical-align: top;\n",
       "    }\n",
       "</style>\n",
       "<table border=\"1\" class=\"dataframe\">\n",
       "  <thead>\n",
       "    <tr style=\"text-align: right;\">\n",
       "      <th></th>\n",
       "      <th>logprice</th>\n",
       "    </tr>\n",
       "    <tr>\n",
       "      <th>ROUTENAME</th>\n",
       "      <th></th>\n",
       "    </tr>\n",
       "  </thead>\n",
       "  <tbody>\n",
       "    <tr>\n",
       "      <th>BUCCAL; SUBLINGUAL</th>\n",
       "      <td>4.692315</td>\n",
       "    </tr>\n",
       "    <tr>\n",
       "      <th>SUBCUTANEOUS</th>\n",
       "      <td>4.466987</td>\n",
       "    </tr>\n",
       "  </tbody>\n",
       "</table>\n",
       "</div>"
      ],
      "text/plain": [
       "                    logprice\n",
       "ROUTENAME                   \n",
       "BUCCAL; SUBLINGUAL  4.692315\n",
       "SUBCUTANEOUS        4.466987"
      ]
     },
     "execution_count": 165,
     "metadata": {},
     "output_type": "execute_result"
    }
   ],
   "source": [
    "R2=pd.DataFrame(df.groupby('ROUTENAME')['logprice'].median().sort_values(ascending=False))\n",
    "R2.head(2)"
   ]
  },
  {
   "cell_type": "code",
   "execution_count": 166,
   "metadata": {
    "collapsed": true
   },
   "outputs": [],
   "source": [
    "R1= R1.reset_index(drop=False)\n",
    "R2= R2.reset_index(drop=False)"
   ]
  },
  {
   "cell_type": "code",
   "execution_count": 171,
   "metadata": {
    "collapsed": false
   },
   "outputs": [
    {
     "data": {
      "text/html": [
       "<div>\n",
       "<style>\n",
       "    .dataframe thead tr:only-child th {\n",
       "        text-align: right;\n",
       "    }\n",
       "\n",
       "    .dataframe thead th {\n",
       "        text-align: left;\n",
       "    }\n",
       "\n",
       "    .dataframe tbody tr th {\n",
       "        vertical-align: top;\n",
       "    }\n",
       "</style>\n",
       "<table border=\"1\" class=\"dataframe\">\n",
       "  <thead>\n",
       "    <tr style=\"text-align: right;\">\n",
       "      <th></th>\n",
       "      <th>route</th>\n",
       "      <th>count</th>\n",
       "    </tr>\n",
       "  </thead>\n",
       "  <tbody>\n",
       "    <tr>\n",
       "      <th>0</th>\n",
       "      <td>ORAL</td>\n",
       "      <td>11523</td>\n",
       "    </tr>\n",
       "    <tr>\n",
       "      <th>1</th>\n",
       "      <td>TOPICAL</td>\n",
       "      <td>653</td>\n",
       "    </tr>\n",
       "    <tr>\n",
       "      <th>2</th>\n",
       "      <td>OPHTHALMIC</td>\n",
       "      <td>253</td>\n",
       "    </tr>\n",
       "    <tr>\n",
       "      <th>3</th>\n",
       "      <td>NaN</td>\n",
       "      <td>164</td>\n",
       "    </tr>\n",
       "    <tr>\n",
       "      <th>4</th>\n",
       "      <td>TRANSDERMAL</td>\n",
       "      <td>96</td>\n",
       "    </tr>\n",
       "  </tbody>\n",
       "</table>\n",
       "</div>"
      ],
      "text/plain": [
       "         route  count\n",
       "0         ORAL  11523\n",
       "1      TOPICAL    653\n",
       "2   OPHTHALMIC    253\n",
       "3          NaN    164\n",
       "4  TRANSDERMAL     96"
      ]
     },
     "execution_count": 171,
     "metadata": {},
     "output_type": "execute_result"
    },
    {
     "data": {
      "text/html": [
       "<div>\n",
       "<style>\n",
       "    .dataframe thead tr:only-child th {\n",
       "        text-align: right;\n",
       "    }\n",
       "\n",
       "    .dataframe thead th {\n",
       "        text-align: left;\n",
       "    }\n",
       "\n",
       "    .dataframe tbody tr th {\n",
       "        vertical-align: top;\n",
       "    }\n",
       "</style>\n",
       "<table border=\"1\" class=\"dataframe\">\n",
       "  <thead>\n",
       "    <tr style=\"text-align: right;\">\n",
       "      <th></th>\n",
       "      <th>route</th>\n",
       "      <th>logprice</th>\n",
       "    </tr>\n",
       "  </thead>\n",
       "  <tbody>\n",
       "    <tr>\n",
       "      <th>0</th>\n",
       "      <td>BUCCAL; SUBLINGUAL</td>\n",
       "      <td>4.692315</td>\n",
       "    </tr>\n",
       "    <tr>\n",
       "      <th>1</th>\n",
       "      <td>SUBCUTANEOUS</td>\n",
       "      <td>4.466987</td>\n",
       "    </tr>\n",
       "    <tr>\n",
       "      <th>2</th>\n",
       "      <td>INTRAMUSCULAR</td>\n",
       "      <td>4.260198</td>\n",
       "    </tr>\n",
       "    <tr>\n",
       "      <th>3</th>\n",
       "      <td>INTRADERMAL</td>\n",
       "      <td>4.106116</td>\n",
       "    </tr>\n",
       "    <tr>\n",
       "      <th>4</th>\n",
       "      <td>INTRAMUSCULAR; SUBCUTANEOUS</td>\n",
       "      <td>3.092832</td>\n",
       "    </tr>\n",
       "  </tbody>\n",
       "</table>\n",
       "</div>"
      ],
      "text/plain": [
       "                         route  logprice\n",
       "0           BUCCAL; SUBLINGUAL  4.692315\n",
       "1                 SUBCUTANEOUS  4.466987\n",
       "2                INTRAMUSCULAR  4.260198\n",
       "3                  INTRADERMAL  4.106116\n",
       "4  INTRAMUSCULAR; SUBCUTANEOUS  3.092832"
      ]
     },
     "execution_count": 171,
     "metadata": {},
     "output_type": "execute_result"
    }
   ],
   "source": [
    "R1.head();R2.head()"
   ]
  },
  {
   "cell_type": "code",
   "execution_count": 168,
   "metadata": {
    "collapsed": true
   },
   "outputs": [],
   "source": [
    "R1.rename(columns={'index': 'route', 'ROUTENAME':'count'}, inplace=True)\n"
   ]
  },
  {
   "cell_type": "code",
   "execution_count": 170,
   "metadata": {
    "collapsed": true
   },
   "outputs": [],
   "source": [
    "R2.rename(columns={'count': 'route'}, inplace=True)"
   ]
  },
  {
   "cell_type": "code",
   "execution_count": 172,
   "metadata": {
    "collapsed": false
   },
   "outputs": [
    {
     "data": {
      "text/plain": [
       "(38, 3)"
      ]
     },
     "execution_count": 172,
     "metadata": {},
     "output_type": "execute_result"
    }
   ],
   "source": [
    "R3=pd.merge(R1,R2, on='route',how='inner')\n",
    "R3.shape\n"
   ]
  },
  {
   "cell_type": "code",
   "execution_count": 175,
   "metadata": {
    "collapsed": true
   },
   "outputs": [],
   "source": [
    "R3.to_csv('ROUTE.csv',index=0)"
   ]
  },
  {
   "cell_type": "code",
   "execution_count": 265,
   "metadata": {
    "collapsed": false
   },
   "outputs": [],
   "source": [
    "df.loc[df['ROUTENAME']== 'ORAL; ORAL','ROUTENAME']= 'ORAL'\n",
    "\n",
    "df.loc[df['ROUTENAME']== 'ORAL; SUBLINGUAL','ROUTENAME']= 'ORAL'\n",
    "\n",
    "df.loc[df['ROUTENAME']== 'INTRA-ARTICULAR; INTRALESIONAL; INTRAMUSCULAR; SOFT TISSUE','ROUTENAME']= 'ORAL; TOPICAL'\n",
    "df.loc[df['ROUTENAME']== 'INTRALESIONAL; INTRAMUSCULAR; INTRASYNOVIAL; SOFT TISSUE','ROUTENAME']= 'ORAL; TOPICAL'\n",
    "\n",
    "df.loc[df['ROUTENAME']== 'OPHTHALMIC; TOPICAL','ROUTENAME']= 'TOPICAL'\n",
    "\n",
    "df.loc[df['ROUTENAME']== 'PERINEURAL','ROUTENAME']= 'DENTAL'\n",
    "\n",
    "df.loc[df['ROUTENAME']== 'ENTERAL','ROUTENAME']= 'RECTAL; TOPICAL'\n",
    "#RECTAL; TOPICAL,   ENTERAL\n",
    "#ORAL: ORAL; SUBLINGUAL\n",
    "\n",
    "#PERINEURAL\n",
    "#INTRA-ARTICULAR; INTRALESIONAL; INTRAMUSCULAR; SOFT TISSUE\n",
    "#INTRALESIONAL; INTRAMUSCULAR; INTRASYNOVIAL; SOFT TISSUE\n",
    "#ORAL; TOPICAL\n",
    "\n",
    "\n",
    "#TOPICAL ,OPHTHALMIC; TOPICAL"
   ]
  },
  {
   "cell_type": "code",
   "execution_count": 273,
   "metadata": {
    "collapsed": false
   },
   "outputs": [
    {
     "data": {
      "text/plain": [
       "32"
      ]
     },
     "execution_count": 273,
     "metadata": {},
     "output_type": "execute_result"
    }
   ],
   "source": [
    "len(df.ROUTENAME.unique())    # 39 categories"
   ]
  },
  {
   "cell_type": "code",
   "execution_count": 267,
   "metadata": {
    "collapsed": false
   },
   "outputs": [
    {
     "data": {
      "text/html": [
       "<div>\n",
       "<style>\n",
       "    .dataframe thead tr:only-child th {\n",
       "        text-align: right;\n",
       "    }\n",
       "\n",
       "    .dataframe thead th {\n",
       "        text-align: left;\n",
       "    }\n",
       "\n",
       "    .dataframe tbody tr th {\n",
       "        vertical-align: top;\n",
       "    }\n",
       "</style>\n",
       "<table border=\"1\" class=\"dataframe\">\n",
       "  <thead>\n",
       "    <tr style=\"text-align: right;\">\n",
       "      <th></th>\n",
       "      <th>DOSAGEFORMNAME</th>\n",
       "      <th>ROUTENAME</th>\n",
       "      <th>LABELERNAME</th>\n",
       "      <th>STARTMARKETINGDATE</th>\n",
       "      <th>PHARM_CLASSES</th>\n",
       "      <th>MARKETINGCATEGORYNAME</th>\n",
       "      <th>DEASCHEDULE</th>\n",
       "      <th>logprice</th>\n",
       "      <th>price</th>\n",
       "    </tr>\n",
       "  </thead>\n",
       "  <tbody>\n",
       "    <tr>\n",
       "      <th>4053</th>\n",
       "      <td>SPRAY</td>\n",
       "      <td>CUTANEOUS</td>\n",
       "      <td>AmerisourceBergen Drug Corporation</td>\n",
       "      <td>20111028.0</td>\n",
       "      <td>NaN</td>\n",
       "      <td>OTC MONOGRAPH NOT FINAL</td>\n",
       "      <td>NaN</td>\n",
       "      <td>-3.705009</td>\n",
       "      <td>0.02460</td>\n",
       "    </tr>\n",
       "    <tr>\n",
       "      <th>4064</th>\n",
       "      <td>LOTION</td>\n",
       "      <td>CUTANEOUS</td>\n",
       "      <td>AmerisourceBergen Drug Corporation</td>\n",
       "      <td>20130128.0</td>\n",
       "      <td>NaN</td>\n",
       "      <td>OTC MONOGRAPH NOT FINAL</td>\n",
       "      <td>NaN</td>\n",
       "      <td>-4.312501</td>\n",
       "      <td>0.01340</td>\n",
       "    </tr>\n",
       "    <tr>\n",
       "      <th>6385</th>\n",
       "      <td>LOTION</td>\n",
       "      <td>CUTANEOUS</td>\n",
       "      <td>STI Pharma</td>\n",
       "      <td>19850731.0</td>\n",
       "      <td>Corticosteroid [EPC],Corticosteroid Hormone Re...</td>\n",
       "      <td>ANDA</td>\n",
       "      <td>NaN</td>\n",
       "      <td>-0.311114</td>\n",
       "      <td>0.73263</td>\n",
       "    </tr>\n",
       "    <tr>\n",
       "      <th>8489</th>\n",
       "      <td>PATCH</td>\n",
       "      <td>CUTANEOUS</td>\n",
       "      <td>Endo Pharmaceuticals Inc.</td>\n",
       "      <td>19990320.0</td>\n",
       "      <td>Amide Local Anesthetic [EPC],Amides [Chemical/...</td>\n",
       "      <td>NDA</td>\n",
       "      <td>NaN</td>\n",
       "      <td>2.482786</td>\n",
       "      <td>11.97458</td>\n",
       "    </tr>\n",
       "  </tbody>\n",
       "</table>\n",
       "</div>"
      ],
      "text/plain": [
       "     DOSAGEFORMNAME  ROUTENAME                         LABELERNAME  \\\n",
       "4053          SPRAY  CUTANEOUS  AmerisourceBergen Drug Corporation   \n",
       "4064         LOTION  CUTANEOUS  AmerisourceBergen Drug Corporation   \n",
       "6385         LOTION  CUTANEOUS                          STI Pharma   \n",
       "8489          PATCH  CUTANEOUS           Endo Pharmaceuticals Inc.   \n",
       "\n",
       "      STARTMARKETINGDATE                                      PHARM_CLASSES  \\\n",
       "4053          20111028.0                                                NaN   \n",
       "4064          20130128.0                                                NaN   \n",
       "6385          19850731.0  Corticosteroid [EPC],Corticosteroid Hormone Re...   \n",
       "8489          19990320.0  Amide Local Anesthetic [EPC],Amides [Chemical/...   \n",
       "\n",
       "        MARKETINGCATEGORYNAME DEASCHEDULE  logprice     price  \n",
       "4053  OTC MONOGRAPH NOT FINAL         NaN -3.705009   0.02460  \n",
       "4064  OTC MONOGRAPH NOT FINAL         NaN -4.312501   0.01340  \n",
       "6385                     ANDA         NaN -0.311114   0.73263  \n",
       "8489                      NDA         NaN  2.482786  11.97458  "
      ]
     },
     "execution_count": 267,
     "metadata": {},
     "output_type": "execute_result"
    }
   ],
   "source": [
    "df.loc[df.ROUTENAME=='CUTANEOUS']"
   ]
  },
  {
   "cell_type": "code",
   "execution_count": 242,
   "metadata": {
    "collapsed": true
   },
   "outputs": [],
   "source": [
    "df.to_csv('drugFE.csv',index=0)"
   ]
  },
  {
   "cell_type": "code",
   "execution_count": 268,
   "metadata": {
    "collapsed": false
   },
   "outputs": [
    {
     "data": {
      "text/plain": [
       "420"
      ]
     },
     "execution_count": 268,
     "metadata": {},
     "output_type": "execute_result"
    },
    {
     "data": {
      "text/plain": [
       "8"
      ]
     },
     "execution_count": 268,
     "metadata": {},
     "output_type": "execute_result"
    }
   ],
   "source": [
    "len(df.PHARM_CLASSES.unique())\n",
    "len(df.MARKETINGCATEGORYNAME.unique())"
   ]
  },
  {
   "cell_type": "code",
   "execution_count": 244,
   "metadata": {
    "collapsed": false
   },
   "outputs": [
    {
     "data": {
      "text/html": [
       "<div>\n",
       "<style>\n",
       "    .dataframe thead tr:only-child th {\n",
       "        text-align: right;\n",
       "    }\n",
       "\n",
       "    .dataframe thead th {\n",
       "        text-align: left;\n",
       "    }\n",
       "\n",
       "    .dataframe tbody tr th {\n",
       "        vertical-align: top;\n",
       "    }\n",
       "</style>\n",
       "<table border=\"1\" class=\"dataframe\">\n",
       "  <thead>\n",
       "    <tr style=\"text-align: right;\">\n",
       "      <th></th>\n",
       "      <th>DOSAGEFORMNAME</th>\n",
       "      <th>ROUTENAME</th>\n",
       "      <th>LABELERNAME</th>\n",
       "      <th>STARTMARKETINGDATE</th>\n",
       "      <th>PHARM_CLASSES</th>\n",
       "      <th>MARKETINGCATEGORYNAME</th>\n",
       "      <th>DEASCHEDULE</th>\n",
       "      <th>logprice</th>\n",
       "      <th>price</th>\n",
       "    </tr>\n",
       "  </thead>\n",
       "  <tbody>\n",
       "    <tr>\n",
       "      <th>0</th>\n",
       "      <td>INJECTION, SUSPENSION</td>\n",
       "      <td>ORAL; TOPICAL</td>\n",
       "      <td>Pharmacia and Upjohn Company LLC</td>\n",
       "      <td>19590528.0</td>\n",
       "      <td>Corticosteroid [EPC],Corticosteroid Hormone Re...</td>\n",
       "      <td>NDA</td>\n",
       "      <td>NaN</td>\n",
       "      <td>-3.548075</td>\n",
       "      <td>0.02878</td>\n",
       "    </tr>\n",
       "    <tr>\n",
       "      <th>1</th>\n",
       "      <td>INJECTION, SUSPENSION</td>\n",
       "      <td>ORAL; TOPICAL</td>\n",
       "      <td>Pharmacia and Upjohn Company LLC</td>\n",
       "      <td>19590528.0</td>\n",
       "      <td>Corticosteroid [EPC],Corticosteroid Hormone Re...</td>\n",
       "      <td>NDA</td>\n",
       "      <td>NaN</td>\n",
       "      <td>-3.548075</td>\n",
       "      <td>0.02878</td>\n",
       "    </tr>\n",
       "    <tr>\n",
       "      <th>2</th>\n",
       "      <td>SOLUTION</td>\n",
       "      <td>TOPICAL</td>\n",
       "      <td>Pharmacia and Upjohn Company LLC</td>\n",
       "      <td>19800620.0</td>\n",
       "      <td>Decreased Sebaceous Gland Activity [PE],Lincos...</td>\n",
       "      <td>NDA</td>\n",
       "      <td>NaN</td>\n",
       "      <td>-1.748125</td>\n",
       "      <td>0.17410</td>\n",
       "    </tr>\n",
       "    <tr>\n",
       "      <th>3</th>\n",
       "      <td>PATCH, EXTENDED RELEASE</td>\n",
       "      <td>TRANSDERMAL</td>\n",
       "      <td>Baxter Healthcare Corporation</td>\n",
       "      <td>20030101.0</td>\n",
       "      <td>Anticholinergic [EPC],Cholinergic Antagonists ...</td>\n",
       "      <td>NDA</td>\n",
       "      <td>NaN</td>\n",
       "      <td>3.015722</td>\n",
       "      <td>20.40381</td>\n",
       "    </tr>\n",
       "    <tr>\n",
       "      <th>4</th>\n",
       "      <td>PATCH, EXTENDED RELEASE</td>\n",
       "      <td>TRANSDERMAL</td>\n",
       "      <td>Baxter Healthcare Corporation</td>\n",
       "      <td>20161201.0</td>\n",
       "      <td>Anticholinergic [EPC],Cholinergic Antagonists ...</td>\n",
       "      <td>NDA</td>\n",
       "      <td>NaN</td>\n",
       "      <td>3.015722</td>\n",
       "      <td>20.40381</td>\n",
       "    </tr>\n",
       "  </tbody>\n",
       "</table>\n",
       "</div>"
      ],
      "text/plain": [
       "            DOSAGEFORMNAME      ROUTENAME                       LABELERNAME  \\\n",
       "0    INJECTION, SUSPENSION  ORAL; TOPICAL  Pharmacia and Upjohn Company LLC   \n",
       "1    INJECTION, SUSPENSION  ORAL; TOPICAL  Pharmacia and Upjohn Company LLC   \n",
       "2                 SOLUTION        TOPICAL  Pharmacia and Upjohn Company LLC   \n",
       "3  PATCH, EXTENDED RELEASE    TRANSDERMAL     Baxter Healthcare Corporation   \n",
       "4  PATCH, EXTENDED RELEASE    TRANSDERMAL     Baxter Healthcare Corporation   \n",
       "\n",
       "   STARTMARKETINGDATE                                      PHARM_CLASSES  \\\n",
       "0          19590528.0  Corticosteroid [EPC],Corticosteroid Hormone Re...   \n",
       "1          19590528.0  Corticosteroid [EPC],Corticosteroid Hormone Re...   \n",
       "2          19800620.0  Decreased Sebaceous Gland Activity [PE],Lincos...   \n",
       "3          20030101.0  Anticholinergic [EPC],Cholinergic Antagonists ...   \n",
       "4          20161201.0  Anticholinergic [EPC],Cholinergic Antagonists ...   \n",
       "\n",
       "  MARKETINGCATEGORYNAME DEASCHEDULE  logprice     price  \n",
       "0                   NDA         NaN -3.548075   0.02878  \n",
       "1                   NDA         NaN -3.548075   0.02878  \n",
       "2                   NDA         NaN -1.748125   0.17410  \n",
       "3                   NDA         NaN  3.015722  20.40381  \n",
       "4                   NDA         NaN  3.015722  20.40381  "
      ]
     },
     "execution_count": 244,
     "metadata": {},
     "output_type": "execute_result"
    }
   ],
   "source": [
    "df.head()"
   ]
  },
  {
   "cell_type": "code",
   "execution_count": 246,
   "metadata": {
    "collapsed": false
   },
   "outputs": [
    {
     "data": {
      "text/html": [
       "<div>\n",
       "<style>\n",
       "    .dataframe thead tr:only-child th {\n",
       "        text-align: right;\n",
       "    }\n",
       "\n",
       "    .dataframe thead th {\n",
       "        text-align: left;\n",
       "    }\n",
       "\n",
       "    .dataframe tbody tr th {\n",
       "        vertical-align: top;\n",
       "    }\n",
       "</style>\n",
       "<table border=\"1\" class=\"dataframe\">\n",
       "  <thead>\n",
       "    <tr style=\"text-align: right;\">\n",
       "      <th></th>\n",
       "      <th>STARTMARKETINGDATE</th>\n",
       "      <th>logprice</th>\n",
       "      <th>price</th>\n",
       "    </tr>\n",
       "  </thead>\n",
       "  <tbody>\n",
       "    <tr>\n",
       "      <th>count</th>\n",
       "      <td>1.310200e+04</td>\n",
       "      <td>13102.000000</td>\n",
       "      <td>13102.000000</td>\n",
       "    </tr>\n",
       "    <tr>\n",
       "      <th>mean</th>\n",
       "      <td>2.009674e+07</td>\n",
       "      <td>-1.188063</td>\n",
       "      <td>11.606463</td>\n",
       "    </tr>\n",
       "    <tr>\n",
       "      <th>std</th>\n",
       "      <td>7.111767e+04</td>\n",
       "      <td>2.003364</td>\n",
       "      <td>278.146418</td>\n",
       "    </tr>\n",
       "    <tr>\n",
       "      <th>min</th>\n",
       "      <td>1.947073e+07</td>\n",
       "      <td>-6.630124</td>\n",
       "      <td>0.001320</td>\n",
       "    </tr>\n",
       "    <tr>\n",
       "      <th>25%</th>\n",
       "      <td>2.007123e+07</td>\n",
       "      <td>-2.673069</td>\n",
       "      <td>0.069040</td>\n",
       "    </tr>\n",
       "    <tr>\n",
       "      <th>50%</th>\n",
       "      <td>2.011122e+07</td>\n",
       "      <td>-1.492589</td>\n",
       "      <td>0.224790</td>\n",
       "    </tr>\n",
       "    <tr>\n",
       "      <th>75%</th>\n",
       "      <td>2.014093e+07</td>\n",
       "      <td>0.024410</td>\n",
       "      <td>1.024710</td>\n",
       "    </tr>\n",
       "    <tr>\n",
       "      <th>max</th>\n",
       "      <td>2.017053e+07</td>\n",
       "      <td>9.813613</td>\n",
       "      <td>18280.916500</td>\n",
       "    </tr>\n",
       "  </tbody>\n",
       "</table>\n",
       "</div>"
      ],
      "text/plain": [
       "       STARTMARKETINGDATE      logprice         price\n",
       "count        1.310200e+04  13102.000000  13102.000000\n",
       "mean         2.009674e+07     -1.188063     11.606463\n",
       "std          7.111767e+04      2.003364    278.146418\n",
       "min          1.947073e+07     -6.630124      0.001320\n",
       "25%          2.007123e+07     -2.673069      0.069040\n",
       "50%          2.011122e+07     -1.492589      0.224790\n",
       "75%          2.014093e+07      0.024410      1.024710\n",
       "max          2.017053e+07      9.813613  18280.916500"
      ]
     },
     "execution_count": 246,
     "metadata": {},
     "output_type": "execute_result"
    }
   ],
   "source": [
    "df.describe()"
   ]
  },
  {
   "cell_type": "code",
   "execution_count": null,
   "metadata": {
    "collapsed": true
   },
   "outputs": [],
   "source": []
  },
  {
   "cell_type": "code",
   "execution_count": 270,
   "metadata": {
    "collapsed": false
   },
   "outputs": [
    {
     "data": {
      "text/plain": [
       "MARKETINGCATEGORYNAME\n",
       "BLA                        943.59937\n",
       "NDA                          7.89226\n",
       "NDA AUTHORIZED GENERIC       2.00555\n",
       "UNAPPROVED DRUG OTHER        0.40339\n",
       "ANDA                         0.18912\n",
       "OTC MONOGRAPH FINAL          0.04977\n",
       "OTC MONOGRAPH NOT FINAL      0.02258\n",
       "Name: price, dtype: float64"
      ]
     },
     "execution_count": 270,
     "metadata": {},
     "output_type": "execute_result"
    }
   ],
   "source": [
    "df.groupby('MARKETINGCATEGORYNAME')['price'].median().sort_values(ascending=False)\n"
   ]
  },
  {
   "cell_type": "code",
   "execution_count": 216,
   "metadata": {
    "collapsed": true
   },
   "outputs": [],
   "source": []
  },
  {
   "cell_type": "code",
   "execution_count": 271,
   "metadata": {
    "collapsed": false
   },
   "outputs": [
    {
     "name": "stdout",
     "output_type": "stream",
     "text": [
      "ANDA                       10343\n",
      "NDA                         1173\n",
      "OTC MONOGRAPH FINAL          559\n",
      "NDA AUTHORIZED GENERIC       482\n",
      "OTC MONOGRAPH NOT FINAL      353\n",
      "UNAPPROVED DRUG OTHER        163\n",
      "BLA                           29\n",
      "Name: MARKETINGCATEGORYNAME, dtype: int64\n"
     ]
    }
   ],
   "source": [
    "print (df['MARKETINGCATEGORYNAME'].value_counts(dropna=False))  "
   ]
  },
  {
   "cell_type": "code",
   "execution_count": 269,
   "metadata": {
    "collapsed": true
   },
   "outputs": [],
   "source": [
    "df.loc[df['MARKETINGCATEGORYNAME']== 'UNAPPROVED OTHER','MARKETINGCATEGORYNAME']= 'UNAPPROVED DRUG OTHER'"
   ]
  },
  {
   "cell_type": "code",
   "execution_count": 274,
   "metadata": {
    "collapsed": true
   },
   "outputs": [],
   "source": [
    "df.to_csv('drugFE.csv',index=0)"
   ]
  },
  {
   "cell_type": "code",
   "execution_count": null,
   "metadata": {
    "collapsed": true
   },
   "outputs": [],
   "source": []
  },
  {
   "cell_type": "code",
   "execution_count": 215,
   "metadata": {
    "collapsed": false
   },
   "outputs": [
    {
     "data": {
      "text/plain": [
       "pandas.core.series.Series"
      ]
     },
     "execution_count": 215,
     "metadata": {},
     "output_type": "execute_result"
    }
   ],
   "source": []
  },
  {
   "cell_type": "code",
   "execution_count": null,
   "metadata": {
    "collapsed": true
   },
   "outputs": [],
   "source": []
  }
 ],
 "metadata": {
  "kernelspec": {
   "display_name": "Python [default]",
   "language": "python",
   "name": "python2"
  },
  "language_info": {
   "codemirror_mode": {
    "name": "ipython",
    "version": 2
   },
   "file_extension": ".py",
   "mimetype": "text/x-python",
   "name": "python",
   "nbconvert_exporter": "python",
   "pygments_lexer": "ipython2",
   "version": "2.7.13"
  }
 },
 "nbformat": 4,
 "nbformat_minor": 2
}
