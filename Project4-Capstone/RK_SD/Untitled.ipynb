{
 "cells": [
  {
   "cell_type": "code",
   "execution_count": 17,
   "metadata": {
    "collapsed": true
   },
   "outputs": [],
   "source": [
    "import pandas as pd\n",
    "import numpy as np\n",
    "import re"
   ]
  },
  {
   "cell_type": "code",
   "execution_count": 85,
   "metadata": {
    "collapsed": false
   },
   "outputs": [],
   "source": [
    "data = pd.read_table('part00', header=None)"
   ]
  },
  {
   "cell_type": "code",
   "execution_count": 86,
   "metadata": {
    "collapsed": false
   },
   "outputs": [
    {
     "data": {
      "text/html": [
       "<div>\n",
       "<style>\n",
       "    .dataframe thead tr:only-child th {\n",
       "        text-align: right;\n",
       "    }\n",
       "\n",
       "    .dataframe thead th {\n",
       "        text-align: left;\n",
       "    }\n",
       "\n",
       "    .dataframe tbody tr th {\n",
       "        vertical-align: top;\n",
       "    }\n",
       "</style>\n",
       "<table border=\"1\" class=\"dataframe\">\n",
       "  <thead>\n",
       "    <tr style=\"text-align: right;\">\n",
       "      <th></th>\n",
       "      <th>raw</th>\n",
       "    </tr>\n",
       "  </thead>\n",
       "  <tbody>\n",
       "    <tr>\n",
       "      <th>0</th>\n",
       "      <td>Row(id=5919594, title=u'Out of the Blue (Debbi...</td>\n",
       "    </tr>\n",
       "    <tr>\n",
       "      <th>1</th>\n",
       "      <td>Row(id=9493903, title=u'Ukhia Upazila', token_...</td>\n",
       "    </tr>\n",
       "    <tr>\n",
       "      <th>2</th>\n",
       "      <td>Row(id=12700466, title=u'Colophon westwoodi', ...</td>\n",
       "    </tr>\n",
       "    <tr>\n",
       "      <th>3</th>\n",
       "      <td>Row(id=21967963, title=u'Wikipedia:Articles fo...</td>\n",
       "    </tr>\n",
       "    <tr>\n",
       "      <th>4</th>\n",
       "      <td>Row(id=24642052, title=u'Hellotia', token_idf=...</td>\n",
       "    </tr>\n",
       "    <tr>\n",
       "      <th>5</th>\n",
       "      <td>Row(id=27884321, title=u'La Vampire Nue', toke...</td>\n",
       "    </tr>\n",
       "    <tr>\n",
       "      <th>6</th>\n",
       "      <td>Row(id=32480674, title=u'File:Once Upon a Time...</td>\n",
       "    </tr>\n",
       "    <tr>\n",
       "      <th>7</th>\n",
       "      <td>Row(id=33924592, title=u'Template:S-line/RE-SN...</td>\n",
       "    </tr>\n",
       "    <tr>\n",
       "      <th>8</th>\n",
       "      <td>Row(id=36548995, title=u'El Debate (Paraguay)'...</td>\n",
       "    </tr>\n",
       "    <tr>\n",
       "      <th>9</th>\n",
       "      <td>Row(id=45694910, title=u'1997 in Russia', toke...</td>\n",
       "    </tr>\n",
       "    <tr>\n",
       "      <th>10</th>\n",
       "      <td>Row(id=48530659, title=u'Template:Did you know...</td>\n",
       "    </tr>\n",
       "    <tr>\n",
       "      <th>11</th>\n",
       "      <td>Row(id=50328480, title=u'Kamakshi Movies', tok...</td>\n",
       "    </tr>\n",
       "    <tr>\n",
       "      <th>12</th>\n",
       "      <td>Row(id=52788473, title=u'Natasha Kanap\\xe9 Fon...</td>\n",
       "    </tr>\n",
       "  </tbody>\n",
       "</table>\n",
       "</div>"
      ],
      "text/plain": [
       "                                                  raw\n",
       "0   Row(id=5919594, title=u'Out of the Blue (Debbi...\n",
       "1   Row(id=9493903, title=u'Ukhia Upazila', token_...\n",
       "2   Row(id=12700466, title=u'Colophon westwoodi', ...\n",
       "3   Row(id=21967963, title=u'Wikipedia:Articles fo...\n",
       "4   Row(id=24642052, title=u'Hellotia', token_idf=...\n",
       "5   Row(id=27884321, title=u'La Vampire Nue', toke...\n",
       "6   Row(id=32480674, title=u'File:Once Upon a Time...\n",
       "7   Row(id=33924592, title=u'Template:S-line/RE-SN...\n",
       "8   Row(id=36548995, title=u'El Debate (Paraguay)'...\n",
       "9   Row(id=45694910, title=u'1997 in Russia', toke...\n",
       "10  Row(id=48530659, title=u'Template:Did you know...\n",
       "11  Row(id=50328480, title=u'Kamakshi Movies', tok...\n",
       "12  Row(id=52788473, title=u'Natasha Kanap\\xe9 Fon..."
      ]
     },
     "execution_count": 86,
     "metadata": {},
     "output_type": "execute_result"
    }
   ],
   "source": [
    "data.columns = ['raw']\n",
    "data\n",
    "#data['raw'].map(lambda x: )\n"
   ]
  },
  {
   "cell_type": "code",
   "execution_count": 87,
   "metadata": {
    "collapsed": false
   },
   "outputs": [],
   "source": [
    "def get_id(x):\n",
    "    return re.split(pattern='id=|,', string=x)[1]\n",
    "\n",
    "def get_title(x):\n",
    "    return re.split(pattern='title=u|,', string=x)[2]\n",
    "\n",
    "def get_idfs(x):\n",
    "    return re.split(pattern=\"SparseVector\\(256, \", string=x)[1][:-2]"
   ]
  },
  {
   "cell_type": "code",
   "execution_count": 88,
   "metadata": {
    "collapsed": false
   },
   "outputs": [
    {
     "data": {
      "text/html": [
       "<div>\n",
       "<style>\n",
       "    .dataframe thead tr:only-child th {\n",
       "        text-align: right;\n",
       "    }\n",
       "\n",
       "    .dataframe thead th {\n",
       "        text-align: left;\n",
       "    }\n",
       "\n",
       "    .dataframe tbody tr th {\n",
       "        vertical-align: top;\n",
       "    }\n",
       "</style>\n",
       "<table border=\"1\" class=\"dataframe\">\n",
       "  <thead>\n",
       "    <tr style=\"text-align: right;\">\n",
       "      <th></th>\n",
       "      <th>id</th>\n",
       "      <th>title</th>\n",
       "      <th>idfs</th>\n",
       "    </tr>\n",
       "  </thead>\n",
       "  <tbody>\n",
       "    <tr>\n",
       "      <th>0</th>\n",
       "      <td>5919594</td>\n",
       "      <td>'Out of the Blue (Debbie Gibson song)'</td>\n",
       "      <td>{3: 1.25, 4: 0.5801, 5: 0.6397, 6: 1.4184, 8: ...</td>\n",
       "    </tr>\n",
       "    <tr>\n",
       "      <th>1</th>\n",
       "      <td>9493903</td>\n",
       "      <td>'Ukhia Upazila'</td>\n",
       "      <td>{1: 1.3895, 7: 0.6768, 9: 0.7786, 12: 0.6584, ...</td>\n",
       "    </tr>\n",
       "    <tr>\n",
       "      <th>2</th>\n",
       "      <td>12700466</td>\n",
       "      <td>'Colophon westwoodi'</td>\n",
       "      <td>{1: 0.9263, 6: 0.7092, 22: 0.7197, 26: 0.613, ...</td>\n",
       "    </tr>\n",
       "    <tr>\n",
       "      <th>3</th>\n",
       "      <td>21967963</td>\n",
       "      <td>'Wikipedia:Articles for deletion/Aksyon Radyo ...</td>\n",
       "      <td>{1: 3.2421, 3: 5.625, 4: 1.1602, 9: 6.2285, 10...</td>\n",
       "    </tr>\n",
       "    <tr>\n",
       "      <th>4</th>\n",
       "      <td>24642052</td>\n",
       "      <td>'Hellotia'</td>\n",
       "      <td>{6: 0.7092, 7: 1.3536, 8: 0.7916, 12: 0.6584, ...</td>\n",
       "    </tr>\n",
       "    <tr>\n",
       "      <th>5</th>\n",
       "      <td>27884321</td>\n",
       "      <td>'La Vampire Nue'</td>\n",
       "      <td>{0: 1.5856, 1: 1.3895, 6: 0.7092, 9: 1.5571, 1...</td>\n",
       "    </tr>\n",
       "    <tr>\n",
       "      <th>6</th>\n",
       "      <td>32480674</td>\n",
       "      <td>'File:Once Upon a Time title card.jpg'</td>\n",
       "      <td>{50: 0.5436, 83: 0.6381, 93: 0.778, 127: 0.666...</td>\n",
       "    </tr>\n",
       "    <tr>\n",
       "      <th>7</th>\n",
       "      <td>33924592</td>\n",
       "      <td>'Template:S-line/RE-SN left/10'</td>\n",
       "      <td>{74: 1.4075, 83: 0.3191, 114: 0.9085, 136: 0.5...</td>\n",
       "    </tr>\n",
       "    <tr>\n",
       "      <th>8</th>\n",
       "      <td>36548995</td>\n",
       "      <td>'El Debate (Paraguay)'</td>\n",
       "      <td>{47: 0.4306, 92: 0.4619, 104: 0.6155, 124: 0.5...</td>\n",
       "    </tr>\n",
       "    <tr>\n",
       "      <th>9</th>\n",
       "      <td>45694910</td>\n",
       "      <td>'1997 in Russia'</td>\n",
       "      <td>{8: 0.7916, 28: 0.5996, 30: 0.6983, 33: 0.5595...</td>\n",
       "    </tr>\n",
       "    <tr>\n",
       "      <th>10</th>\n",
       "      <td>48530659</td>\n",
       "      <td>'Template:Did you know nominations/Persoonia l...</td>\n",
       "      <td>{1: 0.4632, 3: 0.625, 4: 1.1602, 7: 0.6768, 8:...</td>\n",
       "    </tr>\n",
       "    <tr>\n",
       "      <th>11</th>\n",
       "      <td>50328480</td>\n",
       "      <td>'Kamakshi Movies'</td>\n",
       "      <td>{0: 0.7928, 1: 0.9263, 3: 0.625, 4: 5.2208, 5:...</td>\n",
       "    </tr>\n",
       "    <tr>\n",
       "      <th>12</th>\n",
       "      <td>52788473</td>\n",
       "      <td>'Natasha Kanap\\xe9 Fontaine'</td>\n",
       "      <td>{0: 0.7928, 1: 0.4632, 2: 1.7176, 3: 0.625, 7:...</td>\n",
       "    </tr>\n",
       "  </tbody>\n",
       "</table>\n",
       "</div>"
      ],
      "text/plain": [
       "          id                                              title  \\\n",
       "0    5919594             'Out of the Blue (Debbie Gibson song)'   \n",
       "1    9493903                                    'Ukhia Upazila'   \n",
       "2   12700466                               'Colophon westwoodi'   \n",
       "3   21967963  'Wikipedia:Articles for deletion/Aksyon Radyo ...   \n",
       "4   24642052                                         'Hellotia'   \n",
       "5   27884321                                   'La Vampire Nue'   \n",
       "6   32480674             'File:Once Upon a Time title card.jpg'   \n",
       "7   33924592                    'Template:S-line/RE-SN left/10'   \n",
       "8   36548995                             'El Debate (Paraguay)'   \n",
       "9   45694910                                   '1997 in Russia'   \n",
       "10  48530659  'Template:Did you know nominations/Persoonia l...   \n",
       "11  50328480                                  'Kamakshi Movies'   \n",
       "12  52788473                       'Natasha Kanap\\xe9 Fontaine'   \n",
       "\n",
       "                                                 idfs  \n",
       "0   {3: 1.25, 4: 0.5801, 5: 0.6397, 6: 1.4184, 8: ...  \n",
       "1   {1: 1.3895, 7: 0.6768, 9: 0.7786, 12: 0.6584, ...  \n",
       "2   {1: 0.9263, 6: 0.7092, 22: 0.7197, 26: 0.613, ...  \n",
       "3   {1: 3.2421, 3: 5.625, 4: 1.1602, 9: 6.2285, 10...  \n",
       "4   {6: 0.7092, 7: 1.3536, 8: 0.7916, 12: 0.6584, ...  \n",
       "5   {0: 1.5856, 1: 1.3895, 6: 0.7092, 9: 1.5571, 1...  \n",
       "6   {50: 0.5436, 83: 0.6381, 93: 0.778, 127: 0.666...  \n",
       "7   {74: 1.4075, 83: 0.3191, 114: 0.9085, 136: 0.5...  \n",
       "8   {47: 0.4306, 92: 0.4619, 104: 0.6155, 124: 0.5...  \n",
       "9   {8: 0.7916, 28: 0.5996, 30: 0.6983, 33: 0.5595...  \n",
       "10  {1: 0.4632, 3: 0.625, 4: 1.1602, 7: 0.6768, 8:...  \n",
       "11  {0: 0.7928, 1: 0.9263, 3: 0.625, 4: 5.2208, 5:...  \n",
       "12  {0: 0.7928, 1: 0.4632, 2: 1.7176, 3: 0.625, 7:...  "
      ]
     },
     "execution_count": 88,
     "metadata": {},
     "output_type": "execute_result"
    }
   ],
   "source": [
    "data['id']=data['raw'].map(get_id)\n",
    "data['title'] = data['raw'].map(get_title)\n",
    "data['idfs']=data['raw'].map(get_idfs)\n",
    "data.drop(labels='raw', axis=1, inplace=True)\n",
    "data"
   ]
  },
  {
   "cell_type": "code",
   "execution_count": 84,
   "metadata": {
    "collapsed": false
   },
   "outputs": [
    {
     "data": {
      "text/plain": [
       "'{0: 1.5856, 1: 1.3895, 6: 0.7092, 9: 1.5571, 16: 2.0352, 20: 1.3303, 21: 2.9528, 23: 1.6623, 24: 0.5893, 26: 0.613, 28: 2.3983, 30: 2.0949, 31: 0.8524, 33: 0.5595, 35: 1.7588, 36: 0.7898, 38: 0.7371, 40: 2.0592, 44: 0.8879, 45: 1.1962, 46: 0.6594, 47: 0.4306, 48: 1.0567, 49: 0.57, 50: 3.8052, 52: 1.1276, 53: 1.215, 54: 3.1793, 55: 0.8873, 56: 0.7674, 59: 1.514, 60: 1.4707, 61: 0.7297, 62: 0.7286, 63: 0.8639, 64: 0.757, 66: 0.7518, 67: 0.6859, 69: 1.4195, 70: 0.618, 71: 1.2219, 72: 2.3891, 73: 0.9418, 75: 4.6714, 81: 3.7409, 82: 1.3814, 83: 1.5953, 85: 2.4841, 86: 3.5351, 87: 1.1718, 89: 0.7292, 90: 3.6797, 92: 0.4619, 94: 1.691, 97: 2.0625, 98: 1.5291, 99: 2.7586, 100: 4.7049, 102: 1.212, 103: 1.4595, 104: 1.2309, 108: 4.7353, 110: 0.797, 112: 1.2774, 113: 1.2051, 114: 2.7255, 115: 1.21, 116: 0.935, 117: 1.5014, 118: 1.6406, 122: 1.21, 124: 0.5767, 125: 0.9199, 128: 0.7203, 129: 0.7709, 131: 1.5865, 132: 1.3011, 133: 0.5662, 134: 0.5445, 135: 1.6672, 138: 1.3675, 139: 6.4127, 148: 1.7227, 149: 0.8256, 150: 1.0844, 152: 1.3388, 153: 0.8256, 155: 0.8349, 156: 1.6437, 157: 0.7946, 159: 7.2923, 160: 0.7651, 161: 0.9587, 162: 1.6647, 163: 0.7669, 165: 1.4798, 166: 1.7407, 168: 1.4372, 169: 0.7281, 170: 1.164, 173: 2.3631, 174: 0.8906, 177: 1.4031, 178: 3.7152, 179: 0.7727, 180: 1.8963, 181: 0.7964, 183: 3.3369, 188: 0.461, 189: 1.7258, 191: 0.4567, 192: 1.0141, 194: 0.8274, 196: 2.5214, 202: 0.8311, 205: 3.8605, 206: 1.7562, 207: 0.833, 208: 0.8231, 209: 1.5037, 212: 0.8237, 213: 1.4206, 214: 3.6124, 219: 1.0403, 222: 1.8374, 225: 0.8311, 227: 1.3251, 230: 1.6144, 232: 3.2013, 238: 0.8036, 242: 0.7303, 243: 2.1525, 244: 1.2429, 246: 0.7845, 247: 1.681, 249: 0.4141, 253: 1.296, 254: 1.7417, 255: 0.662}'"
      ]
     },
     "execution_count": 84,
     "metadata": {},
     "output_type": "execute_result"
    }
   ],
   "source": [
    "re.split(pattern=\"SparseVector\\(256, \", string=data.loc[5,'raw'])[1][:-2]"
   ]
  },
  {
   "cell_type": "code",
   "execution_count": 27,
   "metadata": {
    "collapsed": false
   },
   "outputs": [
    {
     "data": {
      "text/plain": [
       "\"Row(id=5919594, title=u'Out of the Blue (Debbie Gibson song)', token_idf=SparseVector(256, {3: 1.25, 4: 0.5801, 5: 0.6397, 6: 1.4184, 8: 0.7916, 13: 0.539, 20: 0.6652, 28: 1.1992, 30: 1.3966, 34: 0.7247, 36: 0.7898, 39: 0.5738, 41: 3.4671, 42: 0.609, 45: 0.5981, 46: 0.6594, 48: 0.5284, 49: 0.57, 52: 1.6914, 54: 0.4542, 56: 0.7674, 59: 0.757, 67: 2.7435, 70: 1.8539, 71: 0.611, 73: 0.4709, 74: 2.1112, 82: 0.6907, 84: 0.5913, 86: 0.707, 87: 0.5859, 88: 0.6832, 89: 0.7292, 95: 0.7727, 97: 1.375, 99: 0.6896, 100: 0.4705, 101: 3.256, 103: 2.1892, 104: 0.6155, 107: 0.6843, 109: 0.6988, 111: 0.8133, 112: 0.6387, 113: 4.8203, 114: 0.9085, 117: 0.7507, 118: 1.0937, 119: 1.464, 129: 1.5419, 130: 0.7109, 136: 9.0514, 137: 1.5823, 138: 0.6837, 142: 2.5878, 143: 0.7269, 150: 0.5422, 153: 1.6511, 155: 0.8349, 156: 0.8219, 163: 3.0674, 164: 0.6454, 170: 1.164, 171: 2.6974, 173: 1.1815, 176: 0.7258, 185: 0.5913, 186: 2.4072, 188: 1.3831, 189: 1.1505, 194: 0.8274, 200: 0.6526, 211: 0.5913, 214: 0.7225, 216: 0.662, 225: 0.8311, 226: 0.7886, 228: 2.2832, 232: 0.6403, 235: 0.7114, 238: 0.8036, 239: 2.6607, 241: 0.6752, 250: 1.5784, 253: 0.648, 255: 0.662}))\""
      ]
     },
     "execution_count": 27,
     "metadata": {},
     "output_type": "execute_result"
    }
   ],
   "source": [
    "data.loc[0,'id']"
   ]
  },
  {
   "cell_type": "code",
   "execution_count": null,
   "metadata": {
    "collapsed": true
   },
   "outputs": [],
   "source": []
  }
 ],
 "metadata": {
  "kernelspec": {
   "display_name": "Python 2",
   "language": "python",
   "name": "python2"
  },
  "language_info": {
   "codemirror_mode": {
    "name": "ipython",
    "version": 2
   },
   "file_extension": ".py",
   "mimetype": "text/x-python",
   "name": "python",
   "nbconvert_exporter": "python",
   "pygments_lexer": "ipython2",
   "version": "2.7.12"
  }
 },
 "nbformat": 4,
 "nbformat_minor": 0
}
