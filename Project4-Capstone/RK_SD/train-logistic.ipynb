{
 "cells": [
  {
   "cell_type": "code",
   "execution_count": 2,
   "metadata": {
    "collapsed": true
   },
   "outputs": [],
   "source": [
    "import pickle\n",
    "import pandas as pd\n",
    "import numpy as np\n",
    "import re"
   ]
  },
  {
   "cell_type": "code",
   "execution_count": 3,
   "metadata": {
    "collapsed": false
   },
   "outputs": [],
   "source": [
    "train = pd.read_pickle('train_clean.pkl')\n",
    "test = pd.read_pickle('test_clean.pkl')"
   ]
  },
  {
   "cell_type": "code",
   "execution_count": 4,
   "metadata": {
    "collapsed": false
   },
   "outputs": [
    {
     "data": {
      "text/html": [
       "<div>\n",
       "<style>\n",
       "    .dataframe thead tr:only-child th {\n",
       "        text-align: right;\n",
       "    }\n",
       "\n",
       "    .dataframe thead th {\n",
       "        text-align: left;\n",
       "    }\n",
       "\n",
       "    .dataframe tbody tr th {\n",
       "        vertical-align: top;\n",
       "    }\n",
       "</style>\n",
       "<table border=\"1\" class=\"dataframe\">\n",
       "  <thead>\n",
       "    <tr style=\"text-align: right;\">\n",
       "      <th></th>\n",
       "      <th>id</th>\n",
       "      <th>title</th>\n",
       "      <th>text_clean</th>\n",
       "    </tr>\n",
       "  </thead>\n",
       "  <tbody>\n",
       "    <tr>\n",
       "      <th>0</th>\n",
       "      <td>619941</td>\n",
       "      <td>Loch Katrine</td>\n",
       "      <td>\\n\\n\\n\\n\\nInfobox lake\\n name  Loch Katrine\\n ...</td>\n",
       "    </tr>\n",
       "    <tr>\n",
       "      <th>1</th>\n",
       "      <td>3884222</td>\n",
       "      <td>Bhadayasa</td>\n",
       "      <td>\\n\\nInfobox royalty\\n image  FileBhadrayasha c...</td>\n",
       "    </tr>\n",
       "    <tr>\n",
       "      <th>2</th>\n",
       "      <td>4229879</td>\n",
       "      <td>Lee Jones (author)</td>\n",
       "      <td>\\n\\nLee Jones is an online poker executive and...</td>\n",
       "    </tr>\n",
       "    <tr>\n",
       "      <th>3</th>\n",
       "      <td>5320685</td>\n",
       "      <td>School District 54 Bulkley Valley</td>\n",
       "      <td>Infobox school district\\n name            Scho...</td>\n",
       "    </tr>\n",
       "    <tr>\n",
       "      <th>4</th>\n",
       "      <td>9146365</td>\n",
       "      <td>Combing</td>\n",
       "      <td>Interlace disambiguationInterlacethe combing o...</td>\n",
       "    </tr>\n",
       "  </tbody>\n",
       "</table>\n",
       "</div>"
      ],
      "text/plain": [
       "        id                              title  \\\n",
       "0   619941                       Loch Katrine   \n",
       "1  3884222                          Bhadayasa   \n",
       "2  4229879                 Lee Jones (author)   \n",
       "3  5320685  School District 54 Bulkley Valley   \n",
       "4  9146365                            Combing   \n",
       "\n",
       "                                          text_clean  \n",
       "0  \\n\\n\\n\\n\\nInfobox lake\\n name  Loch Katrine\\n ...  \n",
       "1  \\n\\nInfobox royalty\\n image  FileBhadrayasha c...  \n",
       "2  \\n\\nLee Jones is an online poker executive and...  \n",
       "3  Infobox school district\\n name            Scho...  \n",
       "4  Interlace disambiguationInterlacethe combing o...  "
      ]
     },
     "execution_count": 4,
     "metadata": {},
     "output_type": "execute_result"
    }
   ],
   "source": [
    "train.head()"
   ]
  },
  {
   "cell_type": "code",
   "execution_count": 5,
   "metadata": {
    "collapsed": false
   },
   "outputs": [
    {
     "data": {
      "text/html": [
       "<div>\n",
       "<style>\n",
       "    .dataframe thead tr:only-child th {\n",
       "        text-align: right;\n",
       "    }\n",
       "\n",
       "    .dataframe thead th {\n",
       "        text-align: left;\n",
       "    }\n",
       "\n",
       "    .dataframe tbody tr th {\n",
       "        vertical-align: top;\n",
       "    }\n",
       "</style>\n",
       "<table border=\"1\" class=\"dataframe\">\n",
       "  <thead>\n",
       "    <tr style=\"text-align: right;\">\n",
       "      <th></th>\n",
       "      <th>id</th>\n",
       "      <th>title</th>\n",
       "      <th>text_clean</th>\n",
       "    </tr>\n",
       "  </thead>\n",
       "  <tbody>\n",
       "    <tr>\n",
       "      <th>0</th>\n",
       "      <td>2936718</td>\n",
       "      <td>Meitei Christians</td>\n",
       "      <td>\\n\\n\\nThe Meitei Christians are a Christianity...</td>\n",
       "    </tr>\n",
       "    <tr>\n",
       "      <th>1</th>\n",
       "      <td>17023672</td>\n",
       "      <td>Musical expression</td>\n",
       "      <td>\\n\\n\\n\\n\\nMusical expression is the art of pla...</td>\n",
       "    </tr>\n",
       "    <tr>\n",
       "      <th>2</th>\n",
       "      <td>37590035</td>\n",
       "      <td>READ 180</td>\n",
       "      <td>\\nREAD  is a reading intervention program in w...</td>\n",
       "    </tr>\n",
       "    <tr>\n",
       "      <th>3</th>\n",
       "      <td>3191002</td>\n",
       "      <td>The Ambulance</td>\n",
       "      <td>\\nInfobox film\\n name            The Ambulanc...</td>\n",
       "    </tr>\n",
       "    <tr>\n",
       "      <th>4</th>\n",
       "      <td>24154353</td>\n",
       "      <td>Sifo Company</td>\n",
       "      <td>\\n\\nThe Sifo Company which did business as Sif...</td>\n",
       "    </tr>\n",
       "  </tbody>\n",
       "</table>\n",
       "</div>"
      ],
      "text/plain": [
       "         id               title  \\\n",
       "0   2936718   Meitei Christians   \n",
       "1  17023672  Musical expression   \n",
       "2  37590035            READ 180   \n",
       "3   3191002       The Ambulance   \n",
       "4  24154353        Sifo Company   \n",
       "\n",
       "                                          text_clean  \n",
       "0  \\n\\n\\nThe Meitei Christians are a Christianity...  \n",
       "1  \\n\\n\\n\\n\\nMusical expression is the art of pla...  \n",
       "2  \\nREAD  is a reading intervention program in w...  \n",
       "3   \\nInfobox film\\n name            The Ambulanc...  \n",
       "4  \\n\\nThe Sifo Company which did business as Sif...  "
      ]
     },
     "execution_count": 5,
     "metadata": {},
     "output_type": "execute_result"
    }
   ],
   "source": [
    "test.head()"
   ]
  },
  {
   "cell_type": "code",
   "execution_count": 6,
   "metadata": {
    "collapsed": false
   },
   "outputs": [
    {
     "name": "stdout",
     "output_type": "stream",
     "text": [
      "(1578, 3) (4379, 3)\n"
     ]
    }
   ],
   "source": [
    "print test.shape, train.shape"
   ]
  },
  {
   "cell_type": "code",
   "execution_count": null,
   "metadata": {
    "collapsed": true
   },
   "outputs": [],
   "source": []
  },
  {
   "cell_type": "code",
   "execution_count": 7,
   "metadata": {
    "collapsed": false
   },
   "outputs": [
    {
     "data": {
      "text/html": [
       "<div>\n",
       "<style>\n",
       "    .dataframe thead tr:only-child th {\n",
       "        text-align: right;\n",
       "    }\n",
       "\n",
       "    .dataframe thead th {\n",
       "        text-align: left;\n",
       "    }\n",
       "\n",
       "    .dataframe tbody tr th {\n",
       "        vertical-align: top;\n",
       "    }\n",
       "</style>\n",
       "<table border=\"1\" class=\"dataframe\">\n",
       "  <thead>\n",
       "    <tr style=\"text-align: right;\">\n",
       "      <th></th>\n",
       "      <th>id</th>\n",
       "      <th>title</th>\n",
       "      <th>text_clean</th>\n",
       "    </tr>\n",
       "  </thead>\n",
       "  <tbody>\n",
       "    <tr>\n",
       "      <th>0</th>\n",
       "      <td>2936718</td>\n",
       "      <td>Meitei Christians</td>\n",
       "      <td>[the, meitei, christians, are, a, christianity...</td>\n",
       "    </tr>\n",
       "    <tr>\n",
       "      <th>1</th>\n",
       "      <td>17023672</td>\n",
       "      <td>Musical expression</td>\n",
       "      <td>[musical, expression, is, the, art, of, playin...</td>\n",
       "    </tr>\n",
       "    <tr>\n",
       "      <th>2</th>\n",
       "      <td>37590035</td>\n",
       "      <td>READ 180</td>\n",
       "      <td>[read, is, a, reading, intervention, program, ...</td>\n",
       "    </tr>\n",
       "    <tr>\n",
       "      <th>3</th>\n",
       "      <td>3191002</td>\n",
       "      <td>The Ambulance</td>\n",
       "      <td>[infobox, film, name, the, ambulance, image, t...</td>\n",
       "    </tr>\n",
       "    <tr>\n",
       "      <th>4</th>\n",
       "      <td>24154353</td>\n",
       "      <td>Sifo Company</td>\n",
       "      <td>[the, sifo, company, which, did, business, as,...</td>\n",
       "    </tr>\n",
       "  </tbody>\n",
       "</table>\n",
       "</div>"
      ],
      "text/plain": [
       "         id               title  \\\n",
       "0   2936718   Meitei Christians   \n",
       "1  17023672  Musical expression   \n",
       "2  37590035            READ 180   \n",
       "3   3191002       The Ambulance   \n",
       "4  24154353        Sifo Company   \n",
       "\n",
       "                                          text_clean  \n",
       "0  [the, meitei, christians, are, a, christianity...  \n",
       "1  [musical, expression, is, the, art, of, playin...  \n",
       "2  [read, is, a, reading, intervention, program, ...  \n",
       "3  [infobox, film, name, the, ambulance, image, t...  \n",
       "4  [the, sifo, company, which, did, business, as,...  "
      ]
     },
     "execution_count": 7,
     "metadata": {},
     "output_type": "execute_result"
    }
   ],
   "source": [
    "#Remove non-letters & split into words       \n",
    "train['text_clean'] = train['text_clean'].map(lambda x: re.sub(\"[^a-zA-Z]\", \" \", x).lower().split())\n",
    "test['text_clean'] = test['text_clean'].map(lambda x: re.sub(\"[^a-zA-Z]\", \" \", x).lower().split())\n",
    "test.head()"
   ]
  },
  {
   "cell_type": "code",
   "execution_count": 8,
   "metadata": {
    "collapsed": false
   },
   "outputs": [
    {
     "name": "stdout",
     "output_type": "stream",
     "text": [
      "[u'i', u'me', u'my', u'myself', u'we', u'our', u'ours', u'ourselves', u'you', u'your', u'yours', u'yourself', u'yourselves', u'he', u'him', u'his', u'himself', u'she', u'her', u'hers', u'herself', u'it', u'its', u'itself', u'they', u'them', u'their', u'theirs', u'themselves', u'what', u'which', u'who', u'whom', u'this', u'that', u'these', u'those', u'am', u'is', u'are', u'was', u'were', u'be', u'been', u'being', u'have', u'has', u'had', u'having', u'do', u'does', u'did', u'doing', u'a', u'an', u'the', u'and', u'but', u'if', u'or', u'because', u'as', u'until', u'while', u'of', u'at', u'by', u'for', u'with', u'about', u'against', u'between', u'into', u'through', u'during', u'before', u'after', u'above', u'below', u'to', u'from', u'up', u'down', u'in', u'out', u'on', u'off', u'over', u'under', u'again', u'further', u'then', u'once', u'here', u'there', u'when', u'where', u'why', u'how', u'all', u'any', u'both', u'each', u'few', u'more', u'most', u'other', u'some', u'such', u'no', u'nor', u'not', u'only', u'own', u'same', u'so', u'than', u'too', u'very', u's', u't', u'can', u'will', u'just', u'don', u'should', u'now', u'd', u'll', u'm', u'o', u're', u've', u'y', u'ain', u'aren', u'couldn', u'didn', u'doesn', u'hadn', u'hasn', u'haven', u'isn', u'ma', u'mightn', u'mustn', u'needn', u'shan', u'shouldn', u'wasn', u'weren', u'won', u'wouldn']\n"
     ]
    }
   ],
   "source": [
    "from nltk.corpus import stopwords # Import the stop word list\n",
    "print stopwords.words(\"english\") "
   ]
  },
  {
   "cell_type": "code",
   "execution_count": 9,
   "metadata": {
    "collapsed": true
   },
   "outputs": [],
   "source": [
    "stops = set(stopwords.words(\"english\")) "
   ]
  },
  {
   "cell_type": "code",
   "execution_count": 11,
   "metadata": {
    "collapsed": false
   },
   "outputs": [],
   "source": [
    "#remove stop words and words with length <= 2\n",
    "train['text_clean'] = train['text_clean'].map(lambda x: \" \".join([w for w in x if not w in stops and len(w)>2]))\n",
    "test['text_clean'] = test['text_clean'].map(lambda x: \" \".join([w for w in x if not w in stops and len(w)>2]))\n"
   ]
  },
  {
   "cell_type": "code",
   "execution_count": 12,
   "metadata": {
    "collapsed": false
   },
   "outputs": [],
   "source": [
    "from sklearn.feature_extraction.text import CountVectorizer"
   ]
  },
  {
   "cell_type": "code",
   "execution_count": 91,
   "metadata": {
    "collapsed": false
   },
   "outputs": [],
   "source": [
    "vectorizer = CountVectorizer(analyzer = \"word\",   \\\n",
    "                             tokenizer = None,    \\\n",
    "                             preprocessor = None, \\\n",
    "                             stop_words = None,   \\\n",
    "                             max_features = 9000) "
   ]
  },
  {
   "cell_type": "code",
   "execution_count": 92,
   "metadata": {
    "collapsed": true
   },
   "outputs": [],
   "source": [
    "train_data_features = vectorizer.fit_transform(train['text_clean'])"
   ]
  },
  {
   "cell_type": "code",
   "execution_count": 93,
   "metadata": {
    "collapsed": true
   },
   "outputs": [],
   "source": [
    "train_data_features = train_data_features.toarray()"
   ]
  },
  {
   "cell_type": "code",
   "execution_count": 94,
   "metadata": {
    "collapsed": false
   },
   "outputs": [
    {
     "name": "stdout",
     "output_type": "stream",
     "text": [
      "[u'aaa', u'aaron', u'aba', u'abandon', u'abandoned', u'abbas', u'abbey', u'abbreviation', u'abc', u'abd', u'abdul', u'abdullah', u'abilities', u'ability', u'abkhaz', u'abkhazia', u'able', u'aboard', u'abolished', u'aboriginal', u'abortion', u'abraham', u'abroad', u'absence', u'absent', u'absolute', u'absolutely', u'absorbed', u'abstract', u'abu', u'abuse', u'abused', u'abuses', u'academia', u'academic', u'academics', u'academy', u'accelerator', u'accept', u'acceptable', u'acceptance', u'accepted', u'accepting', u'access', u'accessdate', u'accessdatejanuary', u'accessdatemarch', u'accessed', u'accessible', u'accident', u'accidents', u'acclaimed', u'accommodate', u'accommodation', u'accompanied', u'accompanying', u'accomplished', u'accord', u'accordance', u'according', u'accordingly', u'account', u'accountability', u'accounting', u'accounts', u'accreditation', u'accredited', u'accuracy', u'accurate', u'accusations', u'accused', u'accusing', u'ace', u'achieve', u'achieved', u'achievement', u'achievements', u'achieving', u'acid', u'acknowledged', u'acm', u'acoustic', u'acquire', u'acquired', u'acquisition', u'acquitted', u'acre', u'acres', u'across', u'act', u'acted', u'acting', u'action', u'actions', u'activated', u'active', u'actively', u'activism', u'activist', u'activists', u'activities', u'activity', u'actor', u'actors', u'actress', u'acts', u'actual', u'actually', u'adam', u'adams', u'adaptation', u'adapted', u'add', u'added', u'addiction', u'addictive', u'adding', u'addition', u'additional', u'additionally', u'address', u'addressed', u'addresses', u'addressing', u'adds', u'adelaide', u'adele', u'adequate', u'adjacent', u'adjusted', u'adler', u'administered', u'administration', u'administrations', u'administrative', u'administrator', u'administrators', u'admiral', u'admission', u'admit', u'admits', u'admitted', u'adobe', u'adolf', u'adopt', u'adopted', u'adoption', u'adrian', u'ads', u'adult', u'adults', u'advance', u'advanced', u'advancement', u'advances', u'advancing', u'advantage', u'advantages', u'adventure', u'adventures', u'adverse', u'advertising', u'advice', u'advised', u'adviser', u'advisor', u'advisory', u'advocacy', u'advocate', u'advocated', u'advocates', u'aerial', u'afc', u'afed', u'affair', u'affairs', u'affect', u'affected', u'affecting', u'affects', u'affiliate', u'affiliated', u'affiliates', u'affiliation', u'affiliations', u'afford', u'affordable', u'afghan', u'afghanistan', u'africa', u'african', u'afro', u'aftermath', u'afternoon', u'afterwards', u'age', u'aged', u'agencies', u'agency', u'agenda', u'agent', u'agents', u'ages', u'aggression', u'aggressive', u'agile', u'agnes', u'ago', u'agree', u'agreed', u'agreement', u'agreements', u'agrees', u'agricultural', u'agriculture', u'ahead', u'ahmad', u'ahmed', u'aid', u'aided', u'aids', u'aim', u'aimed', u'aims', u'aint', u'air', u'aircraft', u'aired', u'aires', u'airline', u'airlines', u'airplane', u'airport', u'airstrike', u'airstrikes', u'ajaxo', u'aka', u'akbar', u'alabama', u'alain', u'alan', u'alaska', u'albania', u'albanian', u'albanians', u'albany', u'albeit', u'albert', u'alberta', u'alberto', u'album', u'albums', u'albuquerque', u'alcohol', u'alderman', u'aleppo', u'alert', u'alex', u'alexander', u'alexandra', u'alexandria', u'alfred', u'algeria', u'algonquin', u'algorithm', u'ali', u'alias', u'alice', u'alicia', u'alien', u'align', u'aligncenter', u'aligncentermdash', u'aligncenternbspkg', u'aligncentersingles', u'aligncenterunited', u'alignleft', u'alignright', u'alike', u'alive', u'allah', u'allan', u'allegations', u'alleged', u'allegedly', u'allegiance', u'allen', u'alliance', u'allied', u'allies', u'allison', u'allmusic', u'allow', u'allowed', u'allowing', u'allows', u'ally', u'almamater', u'almaty', u'almost', u'alone', u'along', u'alongside', u'alonso', u'alpha', u'already', u'also', u'alt', u'altered', u'alternate', u'alternative', u'alternatives', u'although', u'alto', u'altogether', u'altos', u'alumni', u'always', u'amateur', u'amazing', u'ambassador', u'ambassadors', u'amber', u'ambrose', u'amendment', u'amendments', u'america', u'american', u'americans', u'americas', u'amid', u'amin', u'amiq', u'amish', u'ammunition', u'amnesty', u'among', u'amongst', u'amor', u'amount', u'amounts', u'amro', u'amsterdam', u'amt', u'amy', u'ana', u'analyses', u'analysis', u'analyst', u'ancestors', u'ancestry', u'anchor', u'ancient', u'anderson', u'andhra', u'andor', u'andr', u'andre', u'andrea', u'andreas', u'andrew', u'andrews', u'android', u'andy', u'angel', u'angeles', u'angels', u'anger', u'anglican', u'anglo', u'angola', u'angry', u'animal', u'animalia', u'animals', u'animated', u'animation', u'anita', u'ann', u'anna', u'annals', u'anne', u'annexation', u'annexed', u'annie', u'anniversary', u'announced', u'announcement', u'announces', u'annual', u'annually', u'anonymous', u'another', u'ans', u'answer', u'answers', u'anta', u'ante', u'anthem', u'anthology', u'anthony', u'anthropology', u'anti', u'anticipated', u'antioquia', u'antiquities', u'antisemitism', u'antler', u'antlers', u'anton', u'antonio', u'anukulchandra', u'anyone', u'anything', u'anywhere', u'anz', u'apart', u'apartment', u'apartments', u'apollo', u'apology', u'apostle', u'apostles', u'apostolic', u'app', u'apparent', u'apparently', u'apparition', u'apparitions', u'appeal', u'appealed', u'appeals', u'appear', u'appearance', u'appearances', u'appeared', u'appearing', u'appears', u'appelbaum', u'apple', u'applicable', u'application', u'applications', u'applied', u'apply', u'applying', u'appointed', u'appointment', u'approach', u'approached', u'approaches', u'appropriate', u'approval', u'approved', u'approximately', u'apps', u'apr', u'april', u'arab', u'arabia', u'arabian', u'arabic', u'arabs', u'arbitration', u'archaeological', u'archaeology', u'archbishop', u'archdiocese', u'architect', u'architects', u'architectural', u'architecture', u'archive', u'archivedate', u'archives', u'archiveurl', u'arcus', u'area', u'areacode', u'areafootnotes', u'arealandkm', u'arealandsqmi', u'areamagnitude', u'areas', u'areaserved', u'areatotalkm', u'areatotalsqmi', u'areawaterkm', u'areawatersqmi', u'arena', u'argentina', u'argentine', u'argue', u'argued', u'argues', u'arguing', u'argument', u'arguments', u'ari', u'aria', u'arise', u'arizona', u'arkansas', u'arm', u'armed', u'armenia', u'armenian', u'armies', u'armor', u'arms', u'armstrong', u'army', u'arnold', u'arose', u'around', u'arranged', u'arrangement', u'arrangements', u'arranger', u'arras', u'array', u'arrest', u'arrested', u'arrests', u'arrival', u'arrive', u'arrived', u'arrives', u'arriving', u'arrow', u'art', u'arterial', u'arthropoda', u'arthur', u'article', u'articles', u'artifacts', u'artificial', u'artillery', u'artist', u'artistic', u'artists', u'arts', u'artwork', u'aryan', u'asahis', u'ash', u'ashley', u'ashraf', u'asia', u'asian', u'aside', u'ask', u'asked', u'asking', u'asks', u'aspect', u'aspects', u'assa', u'assad', u'assam', u'assas', u'assassinated', u'assassination', u'assault', u'assaults', u'assembled', u'assembly', u'assert', u'asserted', u'asserts', u'assess', u'assessment', u'assessments', u'asset', u'assets', u'assigned', u'assignment', u'assist', u'assistance', u'assistant', u'assisted', u'assists', u'associate', u'associated', u'associatedacts', u'associates', u'association', u'associations', u'assume', u'assumed', u'assumes', u'assuming', u'assumption', u'assumptions', u'asylum', u'athens', u'athlete', u'athletes', u'athletic', u'athletics', u'atl', u'atlanta', u'atlantic', u'atlas', u'atmosphere', u'atomic', u'atrocities', u'attached', u'attachment', u'attack', u'attacked', u'attacking', u'attacks', u'attain', u'attained', u'attempt', u'attempted', u'attempting', u'attempts', u'attend', u'attendance', u'attended', u'attending', u'attention', u'attitude', u'attitudes', u'attorney', u'attorneys', u'attract', u'attracted', u'attraction', u'attractions', u'attractive', u'attributed', u'attributes', u'auburn', u'auckland', u'auction', u'audience', u'audiences', u'audio', u'audit', u'aug', u'august', u'augustine', u'augustus', u'auis', u'austin', u'australia', u'australian', u'australias', u'austria', u'austrian', u'authentic', u'author', u'authored', u'authorities', u'authority', u'authorized', u'authorlink', u'authors', u'autism', u'auto', u'autobiography', u'automatic', u'automatically', u'automobile', u'autonomous', u'autonomy', u'autumn', u'auxiliary', u'availability', u'available', u'avant', u'ave', u'avengers', u'avenue', u'average', u'aviation', u'aviv', u'avoid', u'avolon', u'awakening', u'award', u'awarded', u'awards', u'aware', u'awareness', u'away', u'axis', u'azerbaijan', u'azerbaijani', u'aziz', u'bab', u'baba', u'babies', u'baby', u'babylon', u'bachelor', u'bachelors', u'back', u'backed', u'background', u'backgroundcfc', u'backgroundwhite', u'backing', u'backup', u'bacteria', u'bad', u'baden', u'badge', u'badly', u'badminton', u'bag', u'baghdad', u'baker', u'bal', u'balance', u'balanced', u'balkan', u'balkans', u'ball', u'ballet', u'ballot', u'baltic', u'baltimore', u'bamboozle', u'ban', u'banco', u'band', u'bands', u'bang', u'bangalore', u'bangkok', u'bangladesh', u'bank', u'bankers', u'banking', u'bankruptcy', u'banks', u'banned', u'banner', u'banning', u'baptism', u'baptist', u'bar', u'barack', u'barbados', u'barbara', u'barber', u'barcelona', u'baron', u'barotseland', u'barrel', u'barrio', u'barry', u'bars', u'base', u'baseball', u'based', u'basement', u'bases', u'basic', u'basilica', u'basin', u'basis', u'basketball', u'basque', u'bass', u'bat', u'bates', u'baton', u'battalion', u'battalions', u'battery', u'battle', u'battlefield', u'battles', u'baturina', u'bavaria', u'bay', u'bbc', u'bcc', u'bce', u'bdsm', u'beach', u'beak', u'beam', u'bear', u'bearing', u'bears', u'bearwood', u'beast', u'beat', u'beaten', u'beating', u'beautiful', u'beauty', u'bec', u'became', u'beck', u'become', u'becomes', u'becoming', u'becquerels', u'bed', u'beef', u'beer', u'beetle', u'began', u'begin', u'beginning', u'begins', u'begun', u'behalf', u'behavior', u'behavioral', u'behaviors', u'behaviour', u'behind', u'beijing', u'beings', u'beirut', u'beit', u'belarus', u'belarusian', u'belgian', u'belgium', u'belgrade', u'belief', u'beliefs', u'believe', u'believed', u'believers', u'believes', u'believing', u'bell', u'belong', u'belonged', u'belonging', u'belongs', u'belt', u'belvedere', u'ben', u'bench', u'beneficial', u'benefit', u'benefits', u'bengal', u'bengali', u'benjamin', u'bennett', u'benny', u'berkeley', u'berlin', u'bernard', u'besides', u'best', u'bet', u'beta', u'beth', u'bethlehem', u'better', u'betty', u'beyond', u'bgcolor', u'bgcolorafeeee', u'bgcolorb', u'bgcolorccffcc', u'bgcolorddffdd', u'bgcolordfff', u'bgcoloreee', u'bgcoloreeff', u'bgcolorff', u'bgcolorffffff', u'bhopal', u'bias', u'bible', u'biblical', u'bid', u'big', u'biggest', u'bihar', u'bike', u'bikram', u'bilateral', u'bill', u'billboard', u'billion', u'bills', u'billy', u'bin', u'binding', u'bing', u'binh', u'binomial', u'binomialauthority', u'bio', u'biographical', u'biography', u'biological', u'biology', u'bird', u'birds', u'birmingham', u'birth', u'birthdate', u'birthday', u'birthname', u'birthplace', u'births', u'bis', u'bishop', u'bishops', u'bison', u'bit', u'bitter', u'bivolaru', u'black', u'blacks', u'blackwell', u'blacky', u'blade', u'blair', u'blake', u'blame', u'blamed', u'blank', u'blankinfo', u'blankname', u'blast', u'blessed', u'blind', u'blindness', u'blixseth', u'bloc', u'bloch', u'block', u'blockade', u'blocked', u'blocking', u'blocks', u'bloemfontein', u'blog', u'blood', u'bloody', u'blow', u'blue', u'blues', u'bnp', u'board', u'boarding', u'boards', u'boat', u'boats', u'bob', u'bobby', u'bodies', u'body', u'boeing', u'boer', u'bold', u'bolivia', u'bologna', u'bomb', u'bombed', u'bomber', u'bombers', u'bombing', u'bombings', u'bombs', u'bond', u'bonds', u'bone', u'bones', u'bonus', u'bonython', u'book', u'books', u'boom', u'boost', u'boot', u'booth', u'bor', u'border', u'borders', u'boris', u'born', u'borough', u'bosnia', u'boss', u'boston', u'boswell', u'bottle', u'bottom', u'bought', u'bound', u'boundaries', u'boundary', u'boutonnat', u'bowen', u'bowl', u'bowling', u'box', u'boxing', u'boy', u'boycott', u'boyd', u'boyne', u'boys', u'brad', u'braigo', u'braille', u'brain', u'branch', u'branches', u'brand', u'brandenburg', u'brands', u'brasil', u'brass', u'bratislava', u'brazil', u'brazilian', u'breach', u'bread', u'break', u'breaking', u'breaks', u'breakthrough', u'breast', u'breed', u'breeding', u'brian', u'bribery', u'brick', u'bridge', u'bridges', u'brief', u'briefly', u'brigade', u'bright', u'brill', u'bring', u'bringing', u'brings', u'brisbane', u'bristol', u'britain', u'britains', u'britannica', u'british', u'broad', u'broadband', u'broadcast', u'broadcaster', u'broadcasting', u'broader', u'broadway', u'broke', u'broken', u'bronze', u'brooklyn', u'brooks', u'brother', u'brotherhood', u'brothers', u'brought', u'brown', u'browning', u'browns', u'bruce', u'bruno', u'brunswick', u'brussels', u'brutal', u'bryan', u'bsf', u'bucharest', u'buckley', u'budapest', u'buddha', u'buddhism', u'buddhist', u'budget', u'buenos', u'buffalo', u'buffy', u'build', u'builder', u'building', u'buildings', u'built', u'bulgaria', u'bulgarian', u'bulk', u'bull', u'bulldogs', u'bullet', u'bulletin', u'bullets', u'bulls', u'bullying', u'burbage', u'burden', u'bureau', u'burial', u'buried', u'burma', u'burmese', u'burn', u'burned', u'burning', u'burns', u'burnt', u'burundi', u'bus', u'buses', u'bush', u'business', u'businesses', u'businessgov', u'businessman', u'busy', u'butler', u'buy', u'buying', u'buzbee', u'byron', u'byzantine', u'caa', u'cabin', u'cabinet', u'cable', u'cadet', u'cadets', u'caesars', u'caesium', u'cage', u'cairo', u'cal', u'calcio', u'calculated', u'calculations', u'caldwell', u'caledonia', u'calendar', u'calgary', u'california', u'californias', u'call', u'called', u'calling', u'calls', u'calories', u'calvin', u'cambridge', u'came', u'camera', u'cameras', u'cameron', u'camp', u'campaign', u'campaigned', u'campaigns', u'campbell', u'campos', u'camps', u'campus', u'campuses', u'canada', u'canadas', u'canadian', u'canadians', u'canal', u'cancelled', u'cancer', u'candidate', u'candidates', u'candide', u'candy', u'cannes', u'cannon', u'cannot', u'canon', u'cant', u'canton', u'cantonese', u'canyon', u'cao', u'cap', u'capabilities', u'capability', u'capable', u'capacity', u'cape', u'capita', u'capital', u'capitalism', u'capitol', u'caps', u'captain', u'caption', u'capture', u'captured', u'capturing', u'car', u'caravan', u'carballo', u'carbon', u'card', u'cardinal', u'cardinals', u'cardiovascular', u'cards', u'care', u'career', u'careers', u'carefully', u'carew', u'cargo', u'caribbean', u'carl', u'carlos', u'carnegie', u'carol', u'carolina', u'caroline', u'carpathian', u'carpenter', u'carr', u'carried', u'carrier', u'carriers', u'carries', u'carry', u'carrying', u'cars', u'carson', u'carter', u'cas', u'case', u'cases', u'casey', u'cash', u'cassini', u'cast', u'castle', u'castles', u'castro', u'casualties', u'casualty', u'cat', u'catalog', u'catalogue', u'catch', u'categories', u'category', u'categoryamerican', u'categoryenglish', u'categoryexpatriate', u'categoryfrench', u'categoryhistory', u'categoryliving', u'categorymembers', u'categorypeople', u'categorypopulated', u'categorys', u'categoryst', u'categoryth', u'categoryunited', u'categoryuniversity', u'cathedral', u'catherine', u'catholic', u'catholicism', u'catholics', u'cattle', u'caucasus', u'caucus', u'caught', u'cause', u'caused', u'causes', u'causing', u'cavalry', u'cave', u'cbb', u'cbc', u'cbs', u'cease', u'ceased', u'ceasefire', u'cedillo', u'celebrate', u'celebrated', u'celebration', u'celebrations', u'celebrity', u'cell', u'cellpadding', u'cells', u'cellspacing', u'cement', u'cemetery', u'censorship', u'census', u'cent', u'center', u'centered', u'centers', u'central', u'centre', u'centres', u'centuries', u'century', u'ceo', u'ceremonies', u'ceremony', u'cert', u'certain', u'certainly', u'certificate', u'certificates', u'certification', u'certified', u'cesar', u'cesium', u'cfb', u'cfs', u'chah', u'chai', u'chain', u'chains', u'chair', u'chaired', u'chairman', u'chairperson', u'chairs', u'challenge', u'challenged', u'challenges', u'challenging', u'chamber', u'chambers', u'champion', u'champions', u'championship', u'championships', u'chan', u'chance', u'chancellor', u'chances', u'chang', u'change', u'changed', u'changes', u'changing', u'channel', u'channels', u'chaos', u'chapel', u'chapelle', u'chapter', u'chapters', u'character', u'characteristic', u'characteristics', u'characterized', u'characters', u'charge', u'charged', u'charges', u'charging', u'charismatic', u'charitable', u'charity', u'charles', u'charlie', u'charlotte', u'chart', u'charter', u'chartered', u'charters', u'charts', u'chase', u'che', u'check', u'checks', u'cheese', u'cheikh', u'chemical', u'chemicals', u'chemistry', u'chenaran', u'chernobyl', u'cherry', u'cheshmeh', u'chest', u'chevrolet', u'chi', u'chicago', u'chicano', u'chicken', u'chief', u'chiefs', u'child', u'childhood', u'children', u'childrens', u'childs', u'chile', u'chilean', u'china', u'chinas', u'chinese', u'cho', u'chocolate', u'choice', u'choices', u'choir', u'cholmondeley', u'choose', u'choosing', u'chord', u'chose', u'chosen', u'chris', u'christ', u'christian', u'christianity', u'christians', u'christmas', u'christopher', u'chronic', u'chronicle', u'chronicles', u'chronology', u'chrysler', u'chu', u'chuck', u'chung', u'church', u'churches', u'churchill', u'cia', u'cigarettes', u'cincinnati', u'cindy', u'cinema', u'cinematography', u'cir', u'circa', u'circle', u'circles', u'circuit', u'circular', u'circulation', u'circumcision', u'circumstances', u'citation', u'cite', u'cited', u'cites', u'cities', u'citing', u'citizen', u'citizens', u'citizenship', u'city', u'citys', u'ciudad', u'civic', u'civil', u'civilian', u'civilians', u'civilization', u'civilizations', u'ciw', u'claim', u'claimed', u'claiming', u'claims', u'clan', u'clara', u'clark', u'clarke', u'clarkson', u'clash', u'clashes', u'class', u'classes', u'classic', u'classical', u'classics', u'classification', u'classified', u'classis', u'classroom', u'classrooms', u'classunsortable', u'classwikitable', u'claude', u'claudio', u'clause', u'clay', u'clean', u'clear', u'cleared', u'clearing', u'clearly', u'clement', u'clergy', u'cleveland', u'client', u'clients', u'climate', u'climbing', u'clinic', u'clinical', u'clinton', u'clipper', u'clips', u'clock', u'close', u'closed', u'closely', u'closer', u'closest', u'closing', u'closure', u'clothes', u'clothing', u'cloud', u'club', u'clube', u'clubnumber', u'clubs', u'cluster', u'cnn', u'coach', u'coached', u'coaches', u'coaching', u'coal', u'coalition', u'coast', u'coastal', u'coat', u'cochin', u'cochran', u'code', u'codes', u'coffee', u'cognitive', u'cohen', u'coin', u'coined', u'col', u'cold', u'cole', u'coleman', u'coli', u'colin', u'coliseum', u'collaborated', u'collaboration', u'collaborative', u'collapse', u'collapsed', u'collapsible', u'collateral', u'colleagues', u'collect', u'collected', u'collecting', u'collection', u'collections', u'collective', u'collectively', u'collector', u'college', u'colleges', u'collegiate', u'collins', u'collor', u'colombia', u'colombian', u'colonel', u'colonial', u'colonies', u'colony', u'color', u'colorado', u'colored', u'colors', u'colorwhite', u'colour', u'colours', u'colspan', u'colspantotal', u'columbia', u'column', u'columnist', u'columns', u'combat', u'combatant', u'combination', u'combine', u'combined', u'combines', u'combining', u'come', u'comeback', u'comedian', u'comedy', u'comes', u'comic', u'comics', u'coming', u'command', u'commanded', u'commander', u'commanders', u'commanding', u'commands', u'commenced', u'comment', u'commentary', u'commented', u'comments', u'commerce', u'commercial', u'commercials', u'commission', u'commissioned', u'commissioner', u'commissioners', u'commissions', u'commit', u'commitment', u'committed', u'committee', u'committees', u'committing', u'common', u'commonly', u'commons', u'commonwealth', u'communal', u'commune', u'communicate', u'communication', u'communications', u'communion', u'communism', u'communist', u'communists', u'communities', u'community', u'compact', u'companies', u'companion', u'companions', u'company', u'companys', u'comparable', u'comparative', u'compare', u'compared', u'comparing', u'comparison', u'compatibility', u'compatible', u'compensation', u'compete', u'competed', u'competing', u'competition', u'competitions', u'competitive', u'competitors', u'compilation', u'compiled', u'complained', u'complaint', u'complaints', u'complement', u'complete', u'completed', u'completely', u'completing', u'completion', u'complex', u'compliance', u'complicated', u'comply', u'component', u'components', u'composed', u'composer', u'composers', u'composition', u'compositions', u'compound', u'comprehensive', u'comprised', u'comprises', u'comprising', u'compromise', u'computational', u'computer', u'computers', u'computing', u'comunicaci', u'con', u'concealed', u'conceived', u'concentrated', u'concentration', u'concept', u'conception', u'concepts', u'concern', u'concerned', u'concerning', u'concerns', u'concert', u'concerts', u'concluded', u'conclusion', u'conclusions', u'concrete', u'condemned', u'condition', u'conditions', u'conduct', u'conducted', u'conducting', u'confederation', u'conference', u'conferences', u'confession', u'confidence', u'configuration', u'confirmed', u'confirms', u'conflict', u'conflicts', u'confrontation', u'confstanding', u'confused', u'confusion', u'cong', u'congo', u'congregation', u'congregations', u'congress', u'congressional', u'congressman', u'conjunction', u'connect', u'connected', u'connecticut', u'connecting', u'connection', u'connections', u'conquered', u'conquest', u'conrad', u'conscience', u'conscious', u'consciousness', u'consecrated', u'consecutive', u'consensus', u'consent', u'consequence', u'consequences', u'consequently', u'conservation', u'conservatism', u'conservative', u'conservatives', u'consider', u'considerable', u'considerably', u'consideration', u'considered', u'considering', u'considers', u'consist', u'consisted', u'consistent', u'consistently', u'consisting', u'consists', u'consolidated', u'consolidation', u'consortium', u'conspiracy', u'constant', u'constantinople', u'constantly', u'constituency', u'constitute', u'constituted', u'constitution', u'constitutional', u'construct', u'constructed', u'construction', u'consul', u'consulate', u'consultant', u'consulting', u'consumed', u'consumer', u'consumers', u'consumption', u'contact', u'contacts', u'contain', u'contained', u'containing', u'contains', u'contaminated', u'contamination', u'contemporary', u'contempt', u'content', u'contents', u'contest', u'contested', u'context', u'continent', u'continental', u'continue', u'continued', u'continues', u'continuing', u'continuous', u'continuously', u'contract', u'contracts', u'contrary', u'contrast', u'contribute', u'contributed', u'contributing', u'contribution', u'contributions', u'contributor', u'control', u'controlled', u'controlling', u'controls', u'controversial', u'controversies', u'controversy', u'convention', u'conventional', u'conventions', u'conversation', u'conversations', u'conversion', u'convert', u'converted', u'convicted', u'conviction', u'convictions', u'convinced', u'convoy', u'cook', u'cooking', u'cool', u'cooper', u'cooperation', u'cooperative', u'coordinates', u'coordination', u'coordinator', u'copa', u'cope', u'copies', u'copper', u'copy', u'copyright', u'corbett', u'core', u'cornell', u'corner', u'cornerstone', u'cornwall', u'corp', u'corporate', u'corporation', u'corporations', u'corps', u'correct', u'correction', u'corrections', u'correlation', u'correspondence', u'correspondent', u'corresponding', u'corridor', u'corrugated', u'corrupt', u'corruption', u'cosmic', u'cossacks', u'cost', u'costa', u'costs', u'costume', u'cotton', u'could', u'council', u'councillor', u'councils', u'counsel', u'counseling', u'count', u'counted', u'counter', u'counties', u'countries', u'country', u'countrys', u'countryside', u'counts', u'county', u'countyotsego', u'coup', u'couple', u'coupled', u'couples', u'courage', u'course', u'courses', u'court', u'courtney', u'courts', u'cousin', u'covenant', u'cover', u'coverage', u'covered', u'covering', u'covers', u'covert', u'cox', u'cpted', u'craddick', u'craft', u'craig', u'crash', u'cream', u'create', u'created', u'creates', u'creating', u'creation', u'creative', u'creativity', u'creator', u'creators', u'credit', u'credited', u'credits', u'creek', u'crew', u'crews', u'cricket', u'cricketer', u'crime', u'crimes', u'criminal', u'criminals', u'crisis', u'cristina', u'criteria', u'critic', u'critical', u'critically', u'criticised', u'criticism', u'criticisms', u'criticized', u'critics', u'critique', u'croatia', u'croatian', u'croats', u'crops', u'cross', u'crossed', u'crosses', u'crossing', u'crowd', u'crown', u'crowned', u'crucial', u'crude', u'cruise', u'crusade', u'cruz', u'cry', u'crystal', u'ctor', u'cuba', u'cuban', u'cult', u'cultivation', u'cultura', u'cultural', u'culture', u'cultures', u'cunningham', u'cup', u'cure', u'currency', u'current', u'currentclub', u'currently', u'curriculum', u'curtis', u'curtiss', u'custody', u'custom', u'customer', u'customers', u'customs', u'cut', u'cuts', u'cutter', u'cutting', u'cycle', u'cycling', u'cyclone', u'cypriot', u'cyprus', u'cyril', u'czech', u'czechoslovak', u'czechoslovakia', u'daddy', u'dai', u'daily', u'dairy', u'dakota', u'dal', u'dale', u'dallas', u'dam', u'damage', u'damaged', u'damages', u'dame', u'dan', u'dana', u'dance', u'dancer', u'dancers', u'dancing', u'danger', u'dangerous', u'dangers', u'daniel', u'daniels', u'danish', u'danny', u'dans', u'dante', u'danube', u'dar', u'dark', u'darkness', u'darren', u'darwin', u'das', u'dass', u'data', u'database', u'date', u'dateaugust', u'dated', u'datejuly', u'datemarch', u'datemay', u'datenovember', u'dateoctober', u'dates', u'dateseptember', u'dating', u'daughter', u'daughters', u'dauphin', u'dave', u'david', u'davidson', u'davies', u'davis', u'dawn', u'day', u'daylight', u'days', u'deacon', u'dead', u'deadly', u'deadurlno', u'deadurlyes', u'deal', u'dealer', u'dealers', u'dealing', u'deals', u'dealt', u'dean', u'dear', u'death', u'deathdate', u'deathplace', u'deaths', u'debate', u'debated', u'debates', u'debt', u'debut', u'debuted', u'dec', u'decade', u'decades', u'deceased', u'december', u'decide', u'decided', u'decides', u'decision', u'decisions', u'decisive', u'deck', u'declaration', u'declare', u'declared', u'declaring', u'decline', u'declined', u'declining', u'decorated', u'decrease', u'decreased', u'decree', u'dedicated', u'dedication', u'dee', u'deemed', u'deep', u'deeper', u'deeply', u'deer', u'defamation', u'default', u'defeat', u'defeated', u'defeating', u'defence', u'defend', u'defendant', u'defendants', u'defended', u'defender', u'defenders', u'defending', u'defense', u'defensive', u'define', u'defined', u'defines', u'defining', u'definition', u'definitions', u'defunct', u'degree', u'degrees', u'deh', u'dei', u'del', u'delaware', u'delay', u'delayed', u'delegate', u'delegates', u'delegation', u'deleted', u'delhi', u'deliberate', u'deliberately', u'deliver', u'delivered', u'delivering', u'delivery', u'della', u'delta', u'demand', u'demanded', u'demanding', u'demands', u'demo', u'democracy', u'democrat', u'democratic', u'democrats', u'demographic', u'demolished', u'demonstrate', u'demonstrated', u'demonstrates', u'demonstration', u'demonstrations', u'den', u'denial', u'denied', u'denis', u'denmark', u'dennis', u'denomination', u'dense', u'density', u'dental', u'denver', u'deny', u'departed', u'department', u'departments', u'departure', u'dependent', u'depending', u'depends', u'depicted', u'depicts', u'deployed', u'deployment', u'deported', u'deportivo', u'deposit', u'depot', u'depression', u'deprived', u'deprogramming', u'depth', u'deputies', u'deputy', u'der', u'dera', u'derby', u'derek', u'derived', u'des', u'descendant', u'descendants', u'descended', u'descent', u'describe', u'described', u'describes', u'describing', u'description', u'desert', u'design', u'designated', u'designation', u'designed', u'designer', u'designers', u'designing', u'designs', u'desire', u'desired', u'desk', u'desperate', u'despite', u'destination', u'destiny', u'destroy', u'destroyed', u'destroyer', u'destroying', u'destruction', u'detail', u'detailed', u'details', u'detained', u'detected', u'detection', u'detective', u'detention', u'determination', u'determine', u'determined', u'detroit', u'deutsche', u'devant', u'devas', u'devastated', u'develop', u'developed', u'developer', u'developers', u'developing', u'development', u'developmental', u'developments', u'develops', u'devi', u'device', u'devices', u'devil', u'devils', u'devon', u'devoted', u'devotees', u'devotion', u'dhabi', u'dhaka', u'dharma', u'dia', u'diagnosed', u'dialect', u'dialogue', u'diameter', u'diamond', u'diana', u'diane', u'diaspora', u'dick', u'dictionary', u'didnt', u'die', u'died', u'diego', u'dies', u'diesel', u'diet', u'differ', u'difference', u'differences', u'different', u'difficult', u'difficulties', u'difficulty', u'digimarc', u'digital', u'dignity', u'dimension', u'dimensions', u'din', u'dinner', u'diocese', u'diop', u'diploma', u'diplomacy', u'diplomat', u'diplomatic', u'direct', u'directed', u'directing', u'direction', u'directions', u'directly', u'director', u'directorate', u'directors', u'directory', u'dirty', u'disabilities', u'disability', u'disabled', u'disappeared', u'disaster', u'disbanded', u'disc', u'discharge', u'disciple', u'disciples', u'discipline', u'disciplines', u'discontinued', u'discourse', u'discover', u'discovered', u'discovers', u'discovery', u'discrimination', u'discuss', u'discussed', u'discussing', u'discussion', u'discussions', u'disease', u'diseases', u'disk', u'dismissal', u'dismissed', u'disney', u'disorder', u'disorders', u'dispatch', u'displaced', u'displacement', u'display', u'displayed', u'dispute', u'disputed', u'disputes', u'dissolution', u'dissolved', u'distance', u'distant', u'distinct', u'distinction', u'distinctive', u'distinguish', u'distinguished', u'distributed', u'distribution', u'distributor', u'district', u'districts', u'ditions', u'diverse', u'diversity', u'divide', u'divided', u'divine', u'diving', u'divinity', u'divisi', u'division', u'divisions', u'divorce', u'divorced', u'dna', u'dnp', u'doctor', u'doctoral', u'doctorate', u'doctors', u'doctrine', u'document', u'documentary', u'documentation', u'documented', u'documents', u'dodge', u'doe', u'doesnt', u'dog', u'dogs', u'doherty', u'doi', u'doijx', u'dois', u'dollar', u'dollars', u'domain', u'dome', u'domestic', u'dominance', u'dominant', u'dominated', u'domination', u'dominic', u'dominican', u'dominique', u'donald', u'donated', u'donation', u'donations', u'done', u'dong', u'donor', u'dont', u'door', u'doors', u'dorman', u'dorothy', u'dos', u'dose', u'double', u'doubled', u'doubles', u'doubt', u'doug', u'douglas', u'download', u'downtown', u'dozen', u'dozens', u'draft', u'drafted', u'dragon', u'drake', u'drama', u'dramatic', u'dramatically', u'draw', u'drawing', u'drawings', u'drawn', u'draws', u'dream', u'dreams', u'dresden', u'dress', u'dressed', u'drew', u'drilling', u'drink', u'drinking', u'drive', u'driven', u'driver', u'drivers', u'drives', u'driving', u'drone', u'drop', u'dropped', u'drove', u'drug', u'drugs', u'drum', u'drummer', u'drummond', u'drums', u'dry', u'dual', u'dubai', u'dubbed', u'dublin', u'duchess', u'duchy', u'dudley', u'due', u'duke', u'dukes', u'duncan', u'duo', u'dur', u'duration', u'durham', u'dust', u'dutch', u'duties', u'duty', u'dvd', u'dying', u'dylan', u'dynamic', u'dynamics', u'dynasties', u'dynasty', u'dzungaria', u'dzungars', u'eagle', u'eagles', u'earl', u'earlier', u'earliest', u'early', u'earn', u'earned', u'earning', u'earnings', u'earth', u'earthquake', u'ease', u'easier', u'easily', u'east', u'eastern', u'eastman', u'easy', u'eat', u'eating', u'ecclesiastical', u'eck', u'eckankar', u'ecological', u'ecology', u'economic', u'economically', u'economics', u'economist', u'economists', u'economy', u'ecumenical', u'eddie', u'edgar', u'edge', u'edinburgh', u'edited', u'editing', u'edition', u'editions', u'editor', u'editorial', u'editors', u'edmonton', u'eds', u'educate', u'educated', u'education', u'educational', u'educators', u'edward', u'edwards', u'edwin', u'effect', u'effective', u'effectively', u'effectiveness', u'effects', u'efficacy', u'efficiency', u'efficient', u'effort', u'efforts', u'egg', u'eggs', u'egypt', u'egyptian', u'egyptians', u'eight', u'eighteen', u'eighteenth', u'eighth', u'eisenhower', u'either', u'elder', u'elderly', u'elders', u'eldest', u'elect', u'elected', u'election', u'elections', u'electoral', u'electors', u'electric', u'electrical', u'electricity', u'electronic', u'electronics', u'element', u'elementary', u'elements', u'elena', u'elephant', u'elevated', u'elevation', u'elevationfootnotes', u'elevationft', u'elevationm', u'eleven', u'elgin', u'eligible', u'eliminate', u'eliminated', u'eliminating', u'elimination', u'elite', u'elizabeth', u'ellen', u'elliott', u'ellis', u'else', u'elsewhere', u'email', u'embassy', u'embedded', u'emblem', u'embrace', u'emerged', u'emergence', u'emergency', u'emerging', u'emeritus', u'emigrated', u'emil', u'emilia', u'emini', u'emirates', u'emissions', u'emma', u'emmanuel', u'emmy', u'emotional', u'emperor', u'emphasis', u'emphasize', u'emphasized', u'empire', u'empirical', u'employ', u'employed', u'employee', u'employees', u'employer', u'employers', u'employment', u'employs', u'empty', u'enable', u'enabled', u'enables', u'enacted', u'encounter', u'encountered', u'encounters', u'encourage', u'encouraged', u'encourages', u'encouraging', u'encyclop', u'encyclopedia', u'end', u'endangered', u'ended', u'ending', u'endorsed', u'endowment', u'ends', u'enemies', u'enemy', u'energy', u'enforce', u'enforced', u'enforcement', u'engage', u'engaged', u'engagement', u'engaging', u'engine', u'engineer', u'engineering', u'engineers', u'engines', u'england', u'english', u'enhance', u'enhanced', u'enjoy', u'enjoyed', u'enlightenment', u'enormous', u'enough', u'enrichment', u'enrolled', u'enrollment', u'ensemble', u'ensure', u'ensuring', u'enter', u'entered', u'entering', u'enterprise', u'enterprises', u'enters', u'entertainer', u'entertainment', u'entire', u'entirely', u'entities', u'entitled', u'entity', u'entrance', u'entre', u'entrepreneur', u'entrepreneurs', u'entrepreneurship', u'entries', u'entry', u'environment', u'environmental', u'environments', u'epa', u'epic', u'episcopal', u'episode', u'episodenumber', u'episodes', u'equal', u'equality', u'equally', u'equinox', u'equipment', u'equipped', u'equity', u'equivalent', u'era', u'erected', u'erf', u'eric', u'ernest', u'ernst', u'erosion', u'errani', u'error', u'errors', u'escape', u'escaped', u'espa', u'especially', u'espn', u'essay', u'essays', u'essence', u'essential', u'essentially', u'essex', u'est', u'establish', u'established', u'establisheddate', u'establishedtitle', u'establishing', u'establishment', u'establishments', u'estate', u'estates', u'estimate', u'estimated', u'estimates', u'estonia', u'estonian', u'etc', u'eternal', u'ethical', u'ethics', u'ethiopia', u'ethiopian', u'ethnic', u'ethnicity', u'ethnographic', u'etrade', u'eugene', u'euro', u'europe', u'european', u'europeans', u'eva', u'evacuated', u'evacuation', u'evaluate', u'evaluated', u'evaluation', u'evan', u'evangelism', u'evans', u'eve', u'even', u'evening', u'event', u'events', u'eventual', u'eventually', u'ever', u'everett', u'every', u'everyday', u'everyone', u'everything', u'everywhere', u'evi', u'evidence', u'evident', u'evil', u'evolution', u'evolutionary', u'evolved', u'exact', u'exactly', u'exam', u'examination', u'examine', u'examined', u'example', u'examples', u'exceed', u'exceeded', u'exceeding', u'excellence', u'excellent', u'except', u'exception', u'exceptional', u'exceptions', u'excess', u'excessive', u'exchange', u'excluded', u'excluding', u'exclusion', u'exclusive', u'exclusively', u'executed', u'execution', u'executions', u'executive', u'executives', u'exempt', u'exemption', u'exercise', u'exercises', u'exhibit', u'exhibited', u'exhibition', u'exhibitions', u'exhibits', u'exile', u'exiled', u'exist', u'existed', u'existence', u'existing', u'exists', u'exit', u'expand', u'expanded', u'expanding', u'expansion', u'expectations', u'expected', u'expedition', u'expeditions', u'expelled', u'expense', u'expenses', u'expensive', u'experience', u'experienced', u'experiences', u'experiment', u'experimental', u'experiments', u'expert', u'expertise', u'experts', u'explain', u'explained', u'explaining', u'explains', u'explanation', u'explicit', u'explicitly', u'exploitation', u'exploration', u'explore', u'explored', u'explorer', u'exploring', u'explosion', u'explosive', u'explosives', u'expo', u'export', u'exports', u'exposed', u'exposure', u'express', u'expressed', u'expression', u'expulsion', u'extend', u'extended', u'extending', u'extends', u'extension', u'extensive', u'extensively', u'extent', u'external', u'extinct', u'extinction', u'extra', u'extraction', u'extraordinary', u'extreme', u'extremely', u'eye', u'eyes', u'face', u'facebook', u'faced', u'faces', u'facilitate', u'facilities', u'facility', u'facing', u'fact', u'faction', u'factions', u'facto', u'factor', u'factories', u'factors', u'factory', u'facts', u'faculty', u'fail', u'failed', u'failing', u'fails', u'failure', u'failures', u'fair', u'fairchild', u'fairly', u'faith', u'faithful', u'fake', u'falcon', u'falcons', u'fall', u'fallen', u'falling', u'falls', u'false', u'fame', u'familia', u'familiar', u'families', u'family', u'famous', u'fan', u'fans', u'fantasy', u'far', u'fariman', u'farm', u'farmer', u'farmers', u'farming', u'farms', u'fascism', u'fascist', u'fascists', u'fashion', u'fast', u'faster', u'fastest', u'fat', u'fatal', u'fatalities', u'fate', u'father', u'fathers', u'fault', u'fauntroy', u'favor', u'favorable', u'favorite', u'favour', u'favourite', u'fayard', u'fbi', u'fcc', u'fda', u'fear', u'fears', u'feat', u'feature', u'featured', u'features', u'featuring', u'feb', u'february', u'fed', u'federal', u'federation', u'fee', u'feed', u'feedback', u'feeding', u'feel', u'feeling', u'feelings', u'feels', u'fees', u'feet', u'fehmi', u'feiglin', u'fell', u'fellow', u'fellows', u'fellowship', u'felt', u'fem', u'female', u'females', u'femicide', u'feminism', u'feminist', u'fencer', u'fencing', u'ferdinand', u'ferguson', u'fern', u'fernando', u'ferrari', u'fertility', u'festival', u'festivals', u'fetishism', u'feudal', u'fever', u'fewer', u'fff', u'ffff', u'ffffff', u'fgm', u'fiction', u'fictional', u'field', u'fields', u'fifa', u'fifteen', u'fifth', u'fifty', u'fight', u'fighter', u'fighters', u'fighting', u'fights', u'figure', u'figures', u'fildebrandt', u'file', u'filed', u'fileflag', u'files', u'filipino', u'fill', u'filled', u'film', u'filmed', u'filming', u'filmmaker', u'films', u'final', u'finale', u'finalist', u'finally', u'finals', u'finance', u'financial', u'financing', u'find', u'finding', u'findings', u'finds', u'fine', u'fines', u'finger', u'finish', u'finished', u'finishing', u'finland', u'finnish', u'finra', u'fire', u'firearms', u'fired', u'firefighters', u'fires', u'firing', u'firm', u'firms', u'first', u'fiscal', u'fish', u'fisher', u'fishing', u'fit', u'fitness', u'fitzgerald', u'five', u'fixed', u'flag', u'flags', u'flame', u'flames', u'flash', u'flat', u'fled', u'flee', u'fleet', u'flesh', u'flew', u'flexibility', u'flexible', u'flight', u'flights', u'flood', u'flooding', u'floor', u'floors', u'flora', u'florence', u'florida', u'flow', u'flower', u'flowers', u'flows', u'fly', u'flyer', u'flying', u'flynn', u'focus', u'focused', u'focuses', u'focusing', u'foil', u'folk', u'folklore', u'follow', u'followed', u'followers', u'following', u'follows', u'font', u'food', u'foods', u'foot', u'footage', u'football', u'footballbox', u'footballer', u'footballers', u'footnote', u'footnotes', u'forbes', u'forbidden', u'force', u'forced', u'forces', u'forcibly', u'forcing', u'ford', u'foreign', u'foreigners', u'forensic', u'forest', u'forestry', u'forests', u'forever', u'forgotten', u'form', u'formal', u'formaldehyde', u'formally', u'format', u'formation', u'formations', u'formative', u'formatpdf', u'formats', u'formed', u'former', u'formerly', u'forming', u'forms', u'formula', u'fort', u'forth', u'fortified', u'fortress', u'fortune', u'forty', u'forum', u'forums', u'forward', u'foster', u'fought', u'found', u'foundation', u'foundations', u'founded', u'founder', u'founders', u'founding', u'fountain', u'four', u'fourier', u'fourteen', u'fourth', u'fox', u'frame', u'frames', u'framework', u'fran', u'france', u'frances', u'franchise', u'francis', u'franciscan', u'francisco', u'franco', u'frank', u'frankfurt', u'frankish', u'franklin', u'franks', u'franz', u'fraser', u'fraud', u'fred', u'frederick', u'free', u'freedom', u'freedoms', u'freelabel', u'freely', u'freestyle', u'freiburg', u'french', u'frenzy', u'frequency', u'frequent', u'frequently', u'fresh', u'freshman', u'friday', u'friedrich', u'friend', u'friendly', u'friends', u'friendship', u'friso', u'fritz', u'fromstart', u'front', u'frontier', u'fruit', u'fruits', u'fry', u'ftir', u'fuego', u'fuel', u'fukushima', u'fulfill', u'full', u'fuller', u'fullname', u'fully', u'fun', u'function', u'functional', u'functioning', u'functions', u'fund', u'fundamental', u'funded', u'funding', u'fundraising', u'funds', u'funeral', u'funk', u'furthermore', u'fusion', u'fuster', u'future', u'fwa', u'gabriel', u'gaelic', u'gain', u'gained', u'gaining', u'gains', u'gal', u'galleries', u'gallery', u'game', u'gamename', u'gameplay', u'games', u'gandhi', u'gang', u'gangs', u'ganz', u'gap', u'garc', u'garcia', u'garda', u'garden', u'gardens', u'garfield', u'garrison', u'garuda', u'gary', u'gas', u'gasoline', u'gate', u'gates', u'gather', u'gathered', u'gathering', u'gauge', u'gave', u'gay', u'gaza', u'gazette', u'gda', u'gdi', u'gdp', u'gear', u'gearhart', u'gel', u'gen', u'gena', u'gender', u'gene', u'general', u'generally', u'generals', u'generate', u'generated', u'generating', u'generation', u'generations', u'generic', u'genes', u'genesis', u'genetic', u'geneva', u'genital', u'genius', u'genoa', u'genocide', u'genre', u'genres', u'genus', u'geo', u'geoffrey', u'geographic', u'geographical', u'geography', u'geological', u'geology', u'georg', u'george', u'georges', u'georgetown', u'georgia', u'georgian', u'gerald', u'german', u'germans', u'germany', u'gestures', u'get', u'gets', u'getting', u'ghost', u'ghouls', u'gia', u'giant', u'giants', u'gibraltar', u'gibson', u'gift', u'gifts', u'gilbert', u'giles', u'giovanni', u'girl', u'girls', u'giuliani', u'giuseppe', u'give', u'given', u'gives', u'giving', u'gjat', u'glacier', u'glasgow', u'glass', u'glen', u'glenn', u'glick', u'glider', u'global', u'globe', u'gloria', u'glory', u'gmina', u'goal', u'goals', u'god', u'gods', u'goes', u'going', u'golan', u'gold', u'golden', u'goldman', u'goldstein', u'golf', u'golfer', u'gone', u'gonz', u'gonzalez', u'good', u'goods', u'google', u'gordon', u'gospel', u'got', u'gothic', u'goude', u'governance', u'governed', u'governing', u'governingbody', u'government', u'governmental', u'governmentfootnotes', u'governments', u'governmenttype', u'governor', u'governorate', u'governors', u'govt', u'gpl', u'grace', u'grade', u'grades', u'gradually', u'graduate', u'graduated', u'graduates', u'graduating', u'graduation', u'graffiti', u'graham', u'grain', u'grammar', u'grammy', u'grand', u'grande', u'grandfather', u'grandmother', u'grandson', u'grant', u'granted', u'granting', u'grants', u'graphic', u'graphics', u'grass', u'grassroots', u'grave', u'graves', u'gray', u'greacen', u'great', u'greater', u'greatest', u'greatly', u'greece', u'greek', u'greeks', u'green', u'greens', u'greenwood', u'greg', u'gregory', u'gremlin', u'grew', u'grey', u'grid', u'griffin', u'gross', u'ground', u'grounds', u'group', u'groups', u'grouse', u'grove', u'grow', u'growing', u'grown', u'grows', u'growth', u'guadalajara', u'guang', u'guarantee', u'guaranteed', u'guarantees', u'guard', u'guardian', u'guards', u'guatemala', u'gubernatorial', u'guerrilla', u'guest', u'guests', u'guez', u'guid', u'guidance', u'guide', u'guided', u'guidelines', u'guides', u'guild', u'guildford', u'guilt', u'guilty', u'guinea', u'guitar', u'guitarist', u'guitars', u'gulf', u'gun', u'guns', u'gupta', u'guru', u'gurus', u'guy', u'guyana', u'gym', u'gymnasium', u'gymnastics', u'haaretz', u'habitat', u'habits', u'hackett', u'hadith', u'hague', u'hair', u'haiti', u'hakkari', u'halakha', u'half', u'halifax', u'hall', u'halt', u'ham', u'hamas', u'hamburg', u'hamilton', u'hampshire', u'han', u'hand', u'handball', u'handbook', u'handed', u'handful', u'handgun', u'handle', u'handling', u'hands', u'hang', u'hanging', u'hans', u'happen', u'happened', u'happens', u'happiness', u'happy', u'harassment', u'harbor', u'harbour', u'hard', u'hardware', u'hari', u'harm', u'harmful', u'harmony', u'harold', u'harper', u'harris', u'harrison', u'harry', u'harsh', u'hart', u'hartford', u'haruto', u'harv', u'harvard', u'harvest', u'harvey', u'hasan', u'hassan', u'hat', u'hate', u'hatred', u'haw', u'hawaii', u'hawks', u'hayes', u'hazara', u'head', u'headache', u'headed', u'header', u'heading', u'headline', u'headmaster', u'headquartered', u'headquarters', u'heads', u'healing', u'health', u'healthcare', u'healthy', u'hear', u'heard', u'hearing', u'hearings', u'heart', u'hearts', u'heat', u'heath', u'heather', u'heaven', u'heavily', u'heavy', u'hebrew', u'hectares', u'height', u'heights', u'heinrich', u'heir', u'held', u'helen', u'helena', u'helicopter', u'helicopters', u'hell', u'helms', u'help', u'helped', u'helping', u'helps', u'helsinki', u'hence', u'henri', u'henry', u'herald', u'herbert', u'herd', u'hereditary', u'heritage', u'hermann', u'hern', u'hero', u'heroes', u'herzegovina', u'hes', u'hesse', u'heydarieh', u'hidden', u'hide', u'hiding', u'hierarchy', u'high', u'highassister', u'higher', u'highest', u'highland', u'highlighted', u'highlights', u'highly', u'highrebounder', u'highscorer', u'highway', u'hikaru', u'hill', u'hills', u'hindi', u'hindu', u'hindus', u'hip', u'hire', u'hired', u'hiring', u'hispanic', u'hist', u'historia', u'historian', u'historians', u'historic', u'historical', u'historically', u'histories', u'historiography', u'historis', u'history', u'hit', u'hitler', u'hitlers', u'hits', u'hiv', u'hms', u'hobbs', u'hockey', u'hold', u'holden', u'holder', u'holding', u'holdings', u'holds', u'hole', u'holes', u'holiday', u'holland', u'holly', u'hollywood', u'holmes', u'holocaust', u'holstein', u'holy', u'home', u'homecoming', u'homeland', u'homeless', u'homepage', u'homes', u'hometown', u'homicide', u'homosexuality', u'honaker', u'honda', u'honduras', u'hong', u'honolulu', u'honor', u'honorary', u'honored', u'honorific', u'honors', u'honour', u'honours', u'hood', u'hoodoo', u'hook', u'hoover', u'hop', u'hope', u'hoped', u'hopes', u'hopkins', u'horizon', u'horn', u'horrobin', u'horror', u'horse', u'horses', u'hoseynabad', u'hospital', u'hospitals', u'host', u'hosted', u'hostel', u'hostile', u'hosting', u'hosts', u'hot', u'hotel', u'hotels', u'hour', u'hours', u'house', u'housed', u'household', u'householder', u'households', u'houses', u'housewives', u'housing', u'houston', u'howard', u'howell', u'however', u'hrt', u'html', u'httpenscientificcommonsorg', u'httpinvestigadoresitesomxdetallepubphptipopub', u'httpwwwdevant', u'httpwwwespncricinfocomafrica', u'httpwwwwashingtonpostcomwp', u'hub', u'hudson', u'huffington', u'huge', u'hugh', u'hughes', u'hugo', u'hui', u'hull', u'hum', u'human', u'humanitarian', u'humanities', u'humanity', u'humans', u'humidity', u'hundred', u'hundreds', u'hung', u'hungarian', u'hungarians', u'hungary', u'hunger', u'hunt', u'hunte', u'hunter', u'hunters', u'hunting', u'hurricane', u'hurricanes', u'hurt', u'husayn', u'husband', u'husbands', u'hussain', u'hussein', u'hybrid', u'hyde', u'hyder', u'hydro', u'hydrogen', u'hypothesis', u'iaea', u'iaf', u'ian', u'ibn', u'ibrahim', u'ice', u'iconic', u'idaho', u'idea', u'ideal', u'ideals', u'ideas', u'identical', u'identification', u'identified', u'identifies', u'identify', u'identifying', u'identities', u'identity', u'ideological', u'ideology', u'idf', u'idol', u'iec', u'ieee', u'ignored', u'igor', u'iii', u'ilbe', u'ili', u'ill', u'illegal', u'illegally', u'illinois', u'illness', u'illustrated', u'image', u'imagealt', u'imagecaption', u'imageflag', u'imagemap', u'images', u'imageseal', u'imageshield', u'imagesize', u'imageskyline', u'imagewidth', u'imam', u'immediate', u'immediately', u'immigrant', u'immigrants', u'immigration', u'impact', u'impacts', u'impaired', u'imperial', u'imperialism', u'implement', u'implementation', u'implemented', u'implementing', u'implications', u'implies', u'import', u'importance', u'important', u'imports', u'impose', u'imposed', u'impossible', u'impressed', u'impression', u'impressive', u'imprisoned', u'imprisonment', u'improve', u'improved', u'improvement', u'improvements', u'improving', u'imre', u'inability', u'inaugural', u'inaugurated', u'inc', u'incentives', u'inception', u'inch', u'incidence', u'incident', u'incidents', u'include', u'included', u'includes', u'including', u'inclusion', u'income', u'incoming', u'incorporate', u'incorporated', u'incorporating', u'increase', u'increased', u'increases', u'increasing', u'increasingly', u'incredible', u'incumbent', u'ind', u'indeed', u'independence', u'independent', u'independently', u'index', u'india', u'indian', u'indiana', u'indianapolis', u'indians', u'indias', u'indicate', u'indicated', u'indicates', u'indicating', u'indicted', u'indie', u'indies', u'indigenous', u'indirect', u'individual', u'individuals', u'indo', u'indonesia', u'indonesian', u'indoor', u'inducted', u'industrial', u'industries', u'industry', u'inequality', u'infant', u'infantry', u'infants', u'inferior', u'infinite', u'infinity', u'inflation', u'influence', u'influenced', u'influences', u'influential', u'info', u'infobox', u'inform', u'informal', u'information', u'informed', u'infrastructure', u'ingredients', u'inhabitants', u'inhabited', u'inherent', u'inheritance', u'inherited', u'initial', u'initially', u'initiated', u'initiation', u'initiative', u'initiatives', u'injunction', u'injured', u'injuries', u'injury', u'injustice', u'inland', u'inlet', u'inn', u'inner', u'innocent', u'innovation', u'innovative', u'inns', u'input', u'inquiry', u'inquisition', u'inscription', u'insecta', u'inside', u'insight', u'insisted', u'inspector', u'inspiration', u'inspired', u'installation', u'installed', u'instance', u'instances', u'instant', u'instead', u'institut', u'institute', u'institutes', u'institution', u'institutional', u'institutions', u'instruction', u'instructions', u'instructor', u'instructors', u'instrument', u'instrumental', u'instruments', u'insufficient', u'insurance', u'insurgency', u'int', u'intake', u'inteco', u'integral', u'integrated', u'integration', u'integrity', u'intel', u'intellectual', u'intellectuals', u'intelligence', u'intelligent', u'intended', u'intense', u'intensified', u'intensity', u'intensive', u'intent', u'intention', u'intentions', u'inter', u'interact', u'interaction', u'interactions', u'interactive', u'intercontinental', u'interest', u'interested', u'interesting', u'interests', u'interface', u'interference', u'interim', u'interior', u'intermediate', u'internal', u'international', u'internationally', u'internazionale', u'internet', u'interpress', u'interpretation', u'interpretations', u'interpreted', u'intersection', u'interstate', u'intervention', u'interventions', u'interview', u'interviewed', u'interviews', u'intimate', u'introduce', u'introduced', u'introducing', u'introduction', u'invaded', u'invasion', u'invasive', u'invented', u'invention', u'inventor', u'invest', u'invested', u'investigate', u'investigated', u'investigating', u'investigation', u'investigations', u'investigative', u'investigator', u'investigators', u'investment', u'investments', u'investor', u'investors', u'invisible', u'invitation', u'invited', u'involuntary', u'involve', u'involved', u'involvement', u'involves', u'involving', u'iodine', u'iops', u'ios', u'iowa', u'ira', u'iran', u'iranian', u'irans', u'iraq', u'iraqi', u'iraqs', u'ireland', u'irish', u'iron', u'irs', u'isaac', u'isbn', u'ishikawa', u'islam', u'islamic', u'island', u'islands', u'ismail', u'isnt', u'isolated', u'isolation', u'israel', u'israeli', u'israelis', u'israels', u'isshin', u'issn', u'issue', u'issued', u'issues', u'issuing', u'istanbul', u'italian', u'italians', u'italy', u'item', u'items', u'itunes', u'iuj', u'ivan', u'ive', u'jack', u'jacket', u'jackie', u'jackson', u'jacksonville', u'jacob', u'jacobs', u'jacques', u'jahjaga', u'jail', u'jaime', u'jake', u'jam', u'jamaica', u'jamba', u'james', u'jamie', u'jammu', u'jan', u'jane', u'janeiro', u'janet', u'january', u'japan', u'japanese', u'jared', u'jason', u'java', u'javier', u'jay', u'jazz', u'jean', u'jeff', u'jeffrey', u'jehovahs', u'jenkins', u'jennifer', u'jenny', u'jeremy', u'jerome', u'jerry', u'jersey', u'jerusalem', u'jesse', u'jessica', u'jesuit', u'jesuits', u'jesus', u'jet', u'jets', u'jewish', u'jews', u'jihad', u'jim', u'jimmy', u'jin', u'joan', u'job', u'jobs', u'joe', u'joel', u'joey', u'johan', u'johann', u'john', u'johnny', u'johns', u'johnson', u'join', u'joined', u'joining', u'joins', u'joint', u'jointly', u'jolina', u'jon', u'jonas', u'jonathan', u'jones', u'jong', u'joordens', u'jordan', u'jorge', u'jos', u'jose', u'joseph', u'josh', u'joshua', u'josip', u'journal', u'journalism', u'journalist', u'journalists', u'journals', u'journey', u'joy', u'joyce', u'jpg', u'jstor', u'juan', u'juana', u'jubilee', u'judaism', u'judge', u'judgement', u'judges', u'judgment', u'judicial', u'judiciary', u'juice', u'jul', u'julia', u'julian', u'julie', u'julius', u'july', u'jump', u'jun', u'junction', u'june', u'jungle', u'junior', u'jurisdiction', u'jurisdictions', u'jurists', u'jury', u'justice', u'justification', u'justified', u'justify', u'justin', u'kalateh', u'kamen', u'kanjititle', u'kansas', u'kant', u'karachi', u'karate', u'karbala', u'karen', u'karl', u'kashgar', u'kashmir', u'kata', u'kate', u'katherine', u'kazakh', u'kazakhstan', u'kazakhstans', u'keep', u'keeping', u'keeps', u'keith', u'kelek', u'kelly', u'ken', u'kennedy', u'kennesaw', u'kenneth', u'kenny', u'kent', u'kentucky', u'kenya', u'kept', u'kerala', u'kerry', u'kerviel', u'kevin', u'key', u'keyboard', u'keyboards', u'keynote', u'keypeople', u'keys', u'kfi', u'khan', u'khmelnytsky', u'khorasan', u'khotan', u'khyber', u'kibbutz', u'kick', u'kickboxing', u'kid', u'kidnapping', u'kidney', u'kids', u'kiki', u'kill', u'killed', u'killer', u'killers', u'killing', u'killings', u'kills', u'kilogram', u'kilograms', u'kilometres', u'kim', u'kind', u'kinds', u'king', u'kingdom', u'kingdoms', u'kings', u'kingston', u'kirchner', u'kirkuk', u'kirtanananda', u'kiss', u'kit', u'kitchen', u'klaus', u'klubr', u'knee', u'knesset', u'knew', u'knight', u'knights', u'know', u'knowing', u'knowledge', u'known', u'knownfor', u'knows', u'kobach', u'kochi', u'kolkata', u'komi', u'komuna', u'kong', u'korea', u'korean', u'koreans', u'kosal', u'kosov', u'kosovo', u'koyomi', u'krantz', u'krishna', u'krusha', u'kumar', u'kurdish', u'kurdistan', u'kurds', u'kurt', u'kuwait', u'kyle', u'lab', u'label', u'labels', u'labor', u'laboratories', u'laboratory', u'labour', u'labs', u'lack', u'lacking', u'ladies', u'lady', u'lagos', u'lahore', u'laid', u'lake', u'lakes', u'lal', u'lamb', u'lambert', u'lambertella', u'lan', u'lance', u'land', u'landed', u'landfill', u'landgravine', u'landing', u'landmark', u'lands', u'landscape', u'lane', u'lang', u'language', u'languages', u'lanka', u'lankan', u'lap', u'laps', u'large', u'largely', u'larger', u'largest', u'larry', u'las', u'laser', u'last', u'lasted', u'lasting', u'lat', u'late', u'later', u'latest', u'latin', u'latino', u'latitude', u'latter', u'lauberson', u'launch', u'launched', u'launches', u'launching', u'laura', u'laurent', u'law', u'lawrence', u'laws', u'lawsuit', u'lawsuits', u'lawyer', u'lawyers', u'lay', u'layer', u'layout', u'lead', u'leader', u'leadername', u'leaders', u'leadership', u'leadertitle', u'leading', u'leads', u'leaf', u'league', u'leagues', u'learn', u'learned', u'learning', u'learns', u'lease', u'leasing', u'least', u'leave', u'leaves', u'leaving', u'lebanese', u'lebanon', u'lecture', u'lecturer', u'lectures', u'led', u'lee', u'leeds', u'left', u'leg', u'legacy', u'legal', u'legally', u'legend', u'legendary', u'legends', u'leggett', u'legion', u'legislation', u'legislative', u'legislature', u'legitimacy', u'legitimate', u'lego', u'leisure', u'lending', u'length', u'lens', u'leo', u'leon', u'leonard', u'leopold', u'lepidoptera', u'les', u'lesbian', u'leslie', u'less', u'lesser', u'lesson', u'lessons', u'let', u'lets', u'letter', u'letters', u'leung', u'level', u'levels', u'lewis', u'lez', u'lgbt', u'lia', u'liability', u'liao', u'liberal', u'liberalism', u'liberals', u'liberated', u'liberation', u'liberty', u'libraries', u'library', u'libya', u'libyan', u'licence', u'license', u'licensed', u'licenses', u'licensing', u'lie', u'lies', u'lieutenant', u'life', u'lifelong', u'lifestyle', u'lifetime', u'lift', u'lifted', u'liga', u'light', u'lighting', u'lightning', u'lights', u'like', u'likely', u'likes', u'likewise', u'likud', u'lil', u'lime', u'limit', u'limitations', u'limited', u'limits', u'lin', u'lincoln', u'linda', u'line', u'lineage', u'linear', u'linecolorff', u'lines', u'lineup', u'ling', u'linguistic', u'link', u'linked', u'links', u'linux', u'lion', u'lions', u'liquid', u'lisa', u'list', u'listed', u'listen', u'listening', u'listing', u'lists', u'lit', u'literacy', u'literally', u'literary', u'literature', u'lithuania', u'lithuanian', u'litigation', u'little', u'liu', u'live', u'lived', u'lives', u'livestock', u'living', u'liz', u'llapi', u'llc', u'ller', u'lloyd', u'load', u'loaded', u'loan', u'loans', u'lobby', u'lobbying', u'loc', u'local', u'locally', u'locals', u'located', u'location', u'locationcity', u'locationcountry', u'locationnone', u'locations', u'loch', u'lock', u'locked', u'locomotive', u'locomotives', u'lodge', u'loeb', u'log', u'logging', u'logic', u'logistics', u'logo', u'logopng', u'lok', u'lon', u'london', u'long', u'longer', u'longest', u'longitude', u'longtime', u'look', u'looked', u'looking', u'looks', u'loong', u'loop', u'loose', u'lord', u'lords', u'los', u'lose', u'losing', u'loss', u'losses', u'lost', u'lot', u'lou', u'louis', u'louise', u'louisiana', u'lovano', u'love', u'loved', u'lover', u'lovers', u'loves', u'low', u'lower', u'lowest', u'loyal', u'loyalty', u'loyola', u'lpga', u'ltd', u'ltte', u'lucas', u'lucknow', u'lucy', u'ludwig', u'luis', u'luke', u'lumber', u'lunch', u'lung', u'luther', u'lutheran', u'luxury', u'lviv', u'lying', u'lynch', u'lynn', u'lyon', u'lyrics', u'mac', u'macdonald', u'macedonia', u'machine', u'machinery', u'machines', u'macmillan', u'madagascar', u'made', u'madhe', u'madhya', u'madison', u'madrid', u'magazine', u'magazines', u'magdangal', u'magic', u'magisterialdistrict', u'magnetic', u'mah', u'maharashtra', u'mahmoud', u'mail', u'main', u'maine', u'mainland', u'mainly', u'mainstream', u'maintain', u'maintained', u'maintaining', u'maintains', u'maintenance', u'major', u'majority', u'make', u'maker', u'makers', u'makes', u'makeup', u'making', u'malabar', u'malawi', u'malay', u'malayalam', u'malaysia', u'malaysian', u'male', u'males', u'malik', u'mall', u'man', u'manage', u'managed', u'management', u'manager', u'managerclubs', u'managers', u'manageryears', u'manages', u'managing', u'manchester', u'manchu', u'mandate', u'mandatory', u'mandolin', u'manhattan', u'manifesto', u'manila', u'manipulation', u'manipur', u'manitoba', u'manner', u'manning', u'manor', u'mans', u'mansion', u'manual', u'manuel', u'manufacture', u'manufactured', u'manufacturer', u'manufacturers', u'manufacturing', u'manuscript', u'many', u'map', u'mapcaption', u'mapping', u'maps', u'mapsize', u'mar', u'marbled', u'marc', u'march', u'marched', u'marco', u'marcus', u'mare', u'margaret', u'margin', u'marginal', u'maria', u'marian', u'marie', u'marijuana', u'marine', u'marines', u'mario', u'maritime', u'mark', u'marked', u'market', u'marketed', u'marketing', u'marketplace', u'markets', u'marking', u'marko', u'marks', u'marriage', u'marriages', u'married', u'marry', u'mars', u'marsh', u'marshall', u'mart', u'martha', u'martial', u'martin', u'martyr', u'martyrs', u'marvel', u'marvin', u'marx', u'marxist', u'mary', u'maryland', u'marys', u'mascot', u'masculine', u'masculinity', u'mashhad', u'mask', u'mason', u'mass', u'massachusetts', u'massacre', u'massacres', u'masses', u'massive', u'master', u'masters', u'mat', u'match', u'matches', u'mate', u'material', u'materials', u'maternal', u'math', u'mathematical', u'mathematics', u'matt', u'matter', u'matters', u'matthew', u'maurice', u'max', u'maximum', u'may', u'mayo', u'mayor', u'mayoral', u'mayors', u'mba', u'mbunda', u'mccarthy', u'mcdonald', u'mcdonalds', u'mckissick', u'mcwilliams', u'mdash', u'meal', u'mean', u'meaning', u'means', u'meant', u'meanwhile', u'measure', u'measured', u'measurement', u'measurements', u'measures', u'measuring', u'meat', u'mec', u'mechanical', u'mechanics', u'mechanism', u'mechanisms', u'mecklenburg', u'med', u'medal', u'medals', u'medaltemplates', u'media', u'median', u'medical', u'medicine', u'medicines', u'medieval', u'meditation', u'mediterranean', u'medium', u'mednick', u'medusa', u'meet', u'meeting', u'meetings', u'meets', u'melbourne', u'member', u'members', u'membership', u'memoir', u'memoirs', u'memorial', u'memories', u'memory', u'memphis', u'men', u'mens', u'mental', u'mentally', u'mention', u'mentioned', u'mentions', u'mentor', u'mercedes', u'merchant', u'merchants', u'mercury', u'mercy', u'mere', u'merely', u'merged', u'merger', u'merit', u'merry', u'mesa', u'message', u'messages', u'met', u'metal', u'meter', u'meters', u'method', u'methodist', u'methodology', u'methods', u'metre', u'metres', u'metric', u'metro', u'metropolitan', u'mexican', u'mexico', u'meyer', u'mia', u'miami', u'michael', u'michel', u'michelle', u'michigan', u'mick', u'micro', u'microsoft', u'mid', u'middle', u'midfielder', u'mig', u'might', u'mighty', u'migraine', u'migrants', u'migrated', u'migration', u'miguel', u'mike', u'mil', u'milan', u'milano', u'mile', u'miles', u'militant', u'militants', u'military', u'militia', u'milk', u'mill', u'millan', u'millennium', u'miller', u'milligan', u'million', u'millions', u'mills', u'millward', u'milton', u'milwaukee', u'min', u'mind', u'minds', u'mine', u'mineral', u'miners', u'mines', u'ming', u'minh', u'mini', u'minimal', u'minimum', u'mining', u'miniseries', u'minister', u'ministers', u'ministries', u'ministry', u'minneapolis', u'minnesota', u'minor', u'minorities', u'minority', u'minute', u'minutes', u'mir', u'mirror', u'mirza', u'misogyny', u'miss', u'missed', u'missile', u'missiles', u'missing', u'mission', u'missionaries', u'missionary', u'missions', u'mississippi', u'missouri', u'mistake', u'mit', u'mitchell', u'mix', u'mixed', u'mixing', u'mixture', u'mlb', u'mobile', u'mode', u'model', u'modeling', u'models', u'moderate', u'modern', u'modes', u'modest', u'modified', u'module', u'mohamed', u'mohammad', u'mohammed', u'mohawk', u'moldova', u'moldovan', u'molecular', u'moment', u'moments', u'momentum', u'monaco', u'monarch', u'monarchs', u'monarchy', u'monastery', u'monday', u'monetary', u'money', u'mongol', u'mongolia', u'mongols', u'monica', u'monitor', u'monitoring', u'monk', u'monkey', u'monopoly', u'monroe', u'monster', u'monsters', u'montana', u'montenegro', u'montgomery', u'month', u'monthly', u'months', u'montreal', u'monument', u'monuments', u'mood', u'moon', u'moore', u'moral', u'moravia', u'moravian', u'moreover', u'morgan', u'morning', u'moroccan', u'morocco', u'morphin', u'morris', u'morrisey', u'morrison', u'mortality', u'mortar', u'mortgage', u'moscow', u'moses', u'mosque', u'mostly', u'moth', u'mother', u'mothers', u'motion', u'motivated', u'motivation', u'motm', u'motor', u'motorcycle', u'motors', u'motorsport', u'motto', u'mount', u'mountain', u'mountains', u'mounted', u'mountin', u'mouse', u'mouth', u'move', u'moved', u'movement', u'movements', u'moves', u'movie', u'movies', u'moving', u'mps', u'mrs', u'mtv', u'much', u'mud', u'muhammad', u'multi', u'multiple', u'mumbai', u'munich', u'municipal', u'municipalities', u'municipality', u'municipalname', u'murals', u'murder', u'murdered', u'murders', u'mures', u'murphy', u'murray', u'muscle', u'muscles', u'museum', u'museums', u'museveni', u'music', u'musical', u'musician', u'musicians', u'muslim', u'muslims', u'mussolini', u'must', u'mustafa', u'mutilation', u'mutual', u'mwene', u'myl', u'mylenepressearticles', u'mysore', u'mysterious', u'mystery', u'mystic', u'myth', u'mythology', u'myths', u'nacional', u'nader', u'nadu', u'nair', u'naked', u'nam', u'name', u'named', u'namedran', u'namely', u'names', u'naming', u'nancy', u'nano', u'naples', u'napoleon', u'narrative', u'narrator', u'narrow', u'nart', u'nasa', u'nash', u'nashville', u'nassau', u'nathan', u'nation', u'national', u'nationalcaps', u'nationalgoals', u'nationalism', u'nationalist', u'nationalists', u'nationality', u'nationally', u'nationals', u'nationalteam', u'nationalyears', u'nations', u'nationwide', u'native', u'nativename', u'nativenamelang', u'natives', u'nato', u'natural', u'naturally', u'nature', u'naval', u'navy', u'nazareth', u'nazi', u'nazis', u'nazism', u'nba', u'nbc', u'nbsp', u'nbspbhp', u'nbspcm', u'nbspft', u'nbsphp', u'nbspin', u'nbspkg', u'nbspkm', u'nbspkmh', u'nbspkw', u'nbspl', u'nbsplb', u'nbsplbhp', u'nbspm', u'nbspmillion', u'nbspmm', u'nbspmph', u'nbsputc', u'ncaa', u'nchez', u'ndash', u'ndez', u'neal', u'near', u'nearby', u'nearly', u'nebraska', u'necessarily', u'necessary', u'necessity', u'neck', u'need', u'needed', u'needs', u'negative', u'negotiated', u'negotiations', u'negro', u'neighborhood', u'neighborhoods', u'neighboring', u'neighbors', u'neighbourhood', u'neighbouring', u'neil', u'neither', u'nelson', u'neo', u'neoclassical', u'nep', u'nepal', u'nephew', u'neptune', u'nerve', u'nest', u'net', u'netherlands', u'netincome', u'network', u'networking', u'networks', u'neural', u'neutral', u'nevada', u'never', u'nevertheless', u'new', u'newark', u'newcastle', u'newfoundland', u'newham', u'newly', u'newman', u'newport', u'news', u'newsletter', u'newspaper', u'newspapers', u'newton', u'next', u'nez', u'nfl', u'ngo', u'ngos', u'nguy', u'nhl', u'nhra', u'nhs', u'nicaragua', u'nice', u'nicholas', u'nick', u'nickname', u'nicknamed', u'nicol', u'nicolas', u'nietzsche', u'niger', u'nigeria', u'nigerian', u'night', u'nights', u'nih', u'nikolaj', u'nina', u'nine', u'nineteenth', u'nino', u'ninth', u'nishapur', u'nito', u'nixon', u'nizami', u'nkurunziza', u'nmc', u'nobel', u'nobility', u'noble', u'noir', u'noise', u'nolte', u'nominal', u'nominated', u'nomination', u'nominations', u'nominee', u'non', u'nonconf', u'none', u'nonetheless', u'nonprofit', u'noon', u'nord', u'nordic', u'norfolk', u'normal', u'normally', u'norman', u'norms', u'north', u'northeast', u'northeastern', u'northern', u'northwest', u'northwestern', u'norway', u'norwegian', u'nos', u'notable', u'notably', u'note', u'noted', u'notes', u'nothing', u'notice', u'notification', u'noting', u'notion', u'notorious', u'notre', u'nottingham', u'nov', u'nova', u'novel', u'novelist', u'novels', u'november', u'nrhp', u'nsw', u'ntupdate', u'nuclear', u'number', u'numbered', u'numbers', u'numemployees', u'numerical', u'numerous', u'nuremberg', u'nurse', u'nursenursing', u'nursing', u'nutrition', u'nyc', u'oak', u'oakland', u'obama', u'obituary', u'object', u'objective', u'objectives', u'objects', u'oblast', u'obligations', u'obrien', u'observation', u'observations', u'observatory', u'observed', u'observer', u'observers', u'obtain', u'obtained', u'obtaining', u'obvious', u'occasion', u'occasional', u'occasionally', u'occasions', u'occitan', u'occupation', u'occupied', u'occupy', u'occur', u'occurred', u'occurring', u'occurs', u'ocean', u'oclc', u'oconnor', u'oct', u'october', u'odd', u'oder', u'odisha', u'offence', u'offences', u'offender', u'offenders', u'offense', u'offenses', u'offensive', u'offer', u'offered', u'offering', u'offers', u'office', u'officeholder', u'officer', u'officers', u'offices', u'official', u'officially', u'officialname', u'officials', u'offshore', u'often', u'ohio', u'oil', u'ois', u'ojeda', u'oklahoma', u'old', u'older', u'oldest', u'olga', u'olive', u'oliver', u'olivier', u'ollialiu', u'olya', u'olympic', u'olympics', u'omaha', u'omar', u'omokaged', u'one', u'ones', u'ongoing', u'online', u'ontario', u'onto', u'onwards', u'open', u'opened', u'opening', u'openly', u'opens', u'opera', u'operate', u'operated', u'operates', u'operating', u'operation', u'operational', u'operations', u'operator', u'operators', u'opes', u'opinion', u'opinions', u'oppenheimer', u'opponent', u'opponents', u'opportunities', u'opportunity', u'oppose', u'opposed', u'opposing', u'opposite', u'opposition', u'opprank', u'oppression', u'optical', u'option', u'optional', u'options', u'oral', u'orange', u'orchestra', u'ordained', u'order', u'ordered', u'orders', u'ordinance', u'ordinary', u'ordo', u'ore', u'oregon', u'orella', u'organ', u'organic', u'organisation', u'organisations', u'organised', u'organization', u'organizational', u'organizations', u'organize', u'organized', u'organizing', u'ori', u'oriental', u'orientation', u'oriented', u'origin', u'original', u'originalairdate', u'originally', u'originated', u'origins', u'orissa', u'orl', u'orlando', u'orleans', u'orphan', u'orthodox', u'orthodoxy', u'osborn', u'oscar', u'osteopathic', u'othername', u'othernames', u'others', u'otherstat', u'otherwise', u'ottawa', u'otto', u'ottoman', u'ottomans', u'outbreak', u'outcome', u'outcomes', u'outdoor', u'outer', u'outlets', u'outlined', u'outlook', u'output', u'outreach', u'outside', u'outstanding', u'oval', u'overall', u'overcome', u'overlap', u'overs', u'overseas', u'oversight', u'overtime', u'overview', u'overwhelming', u'owen', u'owing', u'owned', u'owner', u'owners', u'ownership', u'owns', u'oxford', u'pace', u'pacific', u'package', u'packard', u'packards', u'pact', u'pagan', u'page', u'pages', u'paid', u'pain', u'paint', u'painted', u'painter', u'painters', u'painting', u'paintings', u'pair', u'pairs', u'pakhtunkhwa', u'pakistan', u'pakistani', u'pala', u'palace', u'palestine', u'palestinian', u'palestinians', u'palm', u'palmer', u'pan', u'panama', u'panasonic', u'panel', u'panels', u'panth', u'panthers', u'papal', u'paper', u'paperback', u'papers', u'par', u'para', u'parachute', u'parade', u'paradise', u'parallel', u'parameters', u'parcc', u'parent', u'parental', u'parenthood', u'parenting', u'parents', u'paris', u'parish', u'park', u'parker', u'parking', u'parks', u'parliament', u'parliamentary', u'parody', u'parole', u'part', u'partial', u'partially', u'participant', u'participants', u'participate', u'participated', u'participating', u'participation', u'particular', u'particularly', u'parties', u'partisan', u'partly', u'partner', u'partners', u'partnership', u'partnerships', u'parts', u'party', u'partys', u'parveen', u'pas', u'pasha', u'pass', u'passage', u'passed', u'passenger', u'passengers', u'passes', u'passing', u'passion', u'passport', u'past', u'pastor', u'pat', u'patent', u'patents', u'path', u'paths', u'pathway', u'patient', u'patients', u'patriarch', u'patricia', u'patrick', u'patriot', u'patrol', u'patron', u'pattern', u'patterns', u'paul', u'paula', u'paulo', u'pavel', u'pay', u'paying', u'payment', u'payments', u'pays', u'paz', u'pcc', u'pcupdate', u'pdf', u'peace', u'peaceful', u'peairs', u'peak', u'peaked', u'pearl', u'pearson', u'peasant', u'peasants', u'pedro', u'peer', u'peers', u'pen', u'penal', u'penalties', u'penalty', u'pending', u'peninsula', u'penn', u'pennsylvania', u'pension', u'people', u'peoples', u'per', u'perceived', u'percent', u'percentage', u'perception', u'perceptions', u'percussion', u'perez', u'perfect', u'perform', u'performance', u'performances', u'performed', u'performer', u'performers', u'performing', u'performs', u'perhaps', u'period', u'periods', u'perk', u'permanent', u'permanently', u'permission', u'permit', u'permits', u'permitted', u'perpetrators', u'perry', u'persecution', u'persia', u'persian', u'person', u'personal', u'personalities', u'personality', u'personally', u'personnel', u'persons', u'perspective', u'perspectives', u'perth', u'peru', u'peruvian', u'pet', u'pete', u'peter', u'peters', u'petersburg', u'peterson', u'petition', u'petroleum', u'petrosyan', u'pez', u'pga', u'phantom', u'phantoms', u'phase', u'phd', u'phenomena', u'phenomenon', u'phi', u'phil', u'philadelphia', u'philip', u'philippe', u'philippine', u'philippines', u'phillips', u'philosopher', u'philosophers', u'philosophical', u'philosophy', u'phoenix', u'phone', u'phones', u'photo', u'photograph', u'photographer', u'photographs', u'photography', u'photos', u'phrase', u'phylum', u'physical', u'physically', u'physician', u'physicians', u'physicist', u'physics', u'pianist', u'piano', u'pick', u'picked', u'pickering', u'picks', u'picture', u'pictures', u'piece', u'pieces', u'pierre', u'pig', u'pike', u'pilgrimage', u'pilgrims', u'pilot', u'pilots', u'pine', u'pink', u'pioneer', u'pipeline', u'pirates', u'piskorski', u'pistol', u'pit', u'pitch', u'pitched', u'pittsburgh', u'pizza', u'pkk', u'place', u'placed', u'placement', u'places', u'placing', u'plain', u'plainrowheaders', u'plains', u'plan', u'plane', u'planes', u'planet', u'plani', u'planned', u'planning', u'plans', u'plant', u'plants', u'plastic', u'plate', u'plateau', u'plates', u'platform', u'platforms', u'platinum', u'plato', u'play', u'played', u'player', u'players', u'playing', u'playoff', u'playoffs', u'plays', u'playstation', u'playwright', u'plaza', u'plea', u'pleaded', u'please', u'pleasure', u'pledge', u'pledged', u'plevris', u'plot', u'plus', u'plushenko', u'plutonium', u'plymouth', u'pmc', u'pmid', u'pnbsp', u'png', u'pocket', u'pocklington', u'podujev', u'podujevo', u'poem', u'poems', u'poet', u'poetry', u'poets', u'point', u'pointed', u'points', u'pol', u'poland', u'pole', u'poles', u'police', u'policies', u'policing', u'policy', u'polish', u'political', u'politically', u'politician', u'politicians', u'politics', u'poll', u'polls', u'pollution', u'polo', u'pomerania', u'pomeranian', u'pool', u'poor', u'poorly', u'pop', u'pope', u'popular', u'popularity', u'popularly', u'populated', u'population', u'populationasof', u'populationdensitykm', u'populationdensitysqmi', u'populationfootnotes', u'populationnote', u'populations', u'populationtotal', u'por', u'pornography', u'port', u'portable', u'portal', u'porter', u'portfolio', u'portion', u'portions', u'portland', u'porto', u'portrait', u'portrayed', u'ports', u'portugal', u'portuguese', u'pos', u'pose', u'posed', u'poses', u'position', u'positions', u'positive', u'possessed', u'possession', u'possibility', u'possible', u'possibly', u'post', u'postal', u'postalcode', u'postalcodetype', u'posted', u'poster', u'posters', u'posting', u'posts', u'postwar', u'potential', u'potentially', u'potomac', u'potsdam', u'poultry', u'pound', u'pounds', u'pour', u'poverty', u'powell', u'power', u'powered', u'powerful', u'powers', u'powiat', u'ppnbsp', u'practical', u'practice', u'practiced', u'practices', u'practicing', u'practitioners', u'pradera', u'pradesh', u'prague', u'praise', u'praised', u'prayer', u'prayers', u'prc', u'pre', u'preaching', u'preceded', u'precedent', u'preceding', u'precious', u'precipitation', u'predecessor', u'predicted', u'predictions', u'predominantly', u'prefecture', u'preference', u'preferred', u'prefix', u'pregnancy', u'pregnant', u'prejudice', u'preliminary', u'premier', u'premiere', u'premiered', u'premises', u'premium', u'premiums', u'prep', u'preparation', u'preparatory', u'prepare', u'prepared', u'preparing', u'presbyterian', u'presence', u'present', u'presentation', u'presented', u'presenter', u'presenting', u'presents', u'preservation', u'preserve', u'preserved', u'presidency', u'president', u'presidential', u'presidents', u'press', u'pressure', u'pressures', u'prestigious', u'preston', u'pretender', u'pretty', u'prevalence', u'prevalent', u'prevent', u'prevented', u'preventing', u'prevention', u'preview', u'previous', u'previously', u'price', u'prices', u'pride', u'priest', u'priests', u'primarily', u'primary', u'prime', u'primitive', u'prince', u'princes', u'princess', u'princeton', u'principal', u'principality', u'principle', u'principles', u'print', u'printed', u'printer', u'printing', u'prints', u'prior', u'priority', u'prison', u'prisoner', u'prisoners', u'prisons', u'pristina', u'privacy', u'private', u'privately', u'privatization', u'privilege', u'privileges', u'prix', u'prize', u'prizes', u'prizren', u'pro', u'probability', u'probably', u'probation', u'probe', u'problem', u'problems', u'procedure', u'procedures', u'proceed', u'proceedings', u'proceeds', u'process', u'processed', u'processes', u'processing', u'proclaimed', u'produce', u'produced', u'producer', u'producers', u'produces', u'producing', u'product', u'production', u'productions', u'products', u'prof', u'profession', u'professional', u'professionals', u'professor', u'professors', u'profile', u'profit', u'profits', u'program', u'programme', u'programmes', u'programming', u'programs', u'progress', u'progressive', u'prohibited', u'prohibiting', u'prohibition', u'project', u'projected', u'projects', u'prominence', u'prominent', u'promise', u'promised', u'promises', u'promising', u'promote', u'promoted', u'promotes', u'promoting', u'promotion', u'promotional', u'prompted', u'pronounced', u'proof', u'propaganda', u'proper', u'properly', u'properties', u'property', u'prophet', u'proponents', u'proportion', u'proposal', u'proposals', u'proposed', u'proposition', u'proprietary', u'prosecution', u'prosecutor', u'prosecutors', u'prosperity', u'protect', u'protected', u'protecting', u'protection', u'protectorate', u'protein', u'proteins', u'protest', u'protestant', u'protested', u'protesters', u'protesting', u'protests', u'protocol', u'prototype', u'proud', u'prove', u'proved', u'proven', u'provide', u'provided', u'providence', u'provider', u'providers', u'provides', u'providing', u'province', u'provinces', u'provincial', u'provision', u'provisional', u'provisions', u'proximity', u'prussia', u'pseudonym', u'psychiatric', u'psychiatrist', u'psychiatry', u'psychological', u'psychologist', u'psychology', u'pti', u'public', u'publication', u'publications', u'publicity', u'publicly', u'publish', u'published', u'publisher', u'publishers', u'publisherthe', u'publishes', u'publishing', u'puerto', u'pulled', u'pulse', u'pune', u'punishment', u'punitive', u'punjab', u'punk', u'pupil', u'pupils', u'puppet', u'purchase', u'purchased', u'purchasing', u'pure', u'purely', u'purple', u'purpose', u'purposes', u'pursue', u'pursued', u'pursuing', u'pursuit', u'push', u'pushed', u'pushkolli', u'pushpinlabelposition', u'pushpinmap', u'pushpinmapcaption', u'pushpinmapsize', u'put', u'puts', u'putting', u'qaeda', u'qaleh', u'qatar', u'qigong', u'qing', u'quad', u'qualification', u'qualified', u'qualify', u'qualifying', u'qualities', u'quality', u'quantity', u'quantum', u'quarter', u'quarterback', u'quarterfinals', u'quarterly', u'quarters', u'que', u'quebec', u'queen', u'queens', u'queensland', u'quest', u'question', u'questionable', u'questioned', u'questioning', u'questions', u'qui', u'quick', u'quickly', u'quiet', u'quit', u'quite', u'quote', u'quoted', u'quotes', u'quran', u'rabbi', u'race', u'races', u'rachel', u'racial', u'racine', u'racing', u'racism', u'racist', u'racketeer', u'radar', u'radi', u'radiation', u'radical', u'radio', u'radioactive', u'radioactivity', u'raf', u'rafael', u'rahman', u'raid', u'raided', u'raider', u'raiders', u'raids', u'rail', u'railroad', u'railway', u'railways', u'rain', u'rainfall', u'raise', u'raised', u'raises', u'raising', u'raja', u'rajput', u'rajputs', u'rally', u'ralph', u'ram', u'rama', u'rams', u'ran', u'ranch', u'rancourt', u'random', u'randy', u'range', u'ranger', u'rangers', u'ranges', u'ranging', u'rank', u'ranked', u'ranking', u'rankings', u'ranks', u'rap', u'rape', u'raped', u'rapid', u'rapidly', u'rapper', u'rare', u'rarely', u'rat', u'rate', u'rated', u'rates', u'rather', u'rating', u'ratings', u'ratio', u'rational', u'raw', u'ray', u'raymond', u'rays', u'razavi', u'rcmp', u'rdoba', u'reach', u'reached', u'reaches', u'reaching', u'reaction', u'reactions', u'reactor', u'reactors', u'read', u'reader', u'readers', u'reading', u'readings', u'reads', u'ready', u'reagan', u'real', u'reality', u'realization', u'realize', u'realized', u'really', u'realm', u'rear', u'reason', u'reasonable', u'reasoning', u'reasons', u'rebecca', u'rebel', u'rebellion', u'rebels', u'rebounds', u'rebuilt', u'recall', u'recalled', u'receive', u'received', u'receiver', u'receives', u'receiving', u'recent', u'recently', u'reception', u'receptor', u'recipient', u'recognised', u'recognition', u'recognize', u'recognized', u'recognizes', u'recognizing', u'recommendations', u'recommended', u'reconciliation', u'reconnaissance', u'reconstruction', u'record', u'recorded', u'recording', u'recordings', u'records', u'recover', u'recovered', u'recovery', u'recreation', u'recreational', u'recruited', u'rectangle', u'rector', u'red', u'reduce', u'reduced', u'reduces', u'reducing', u'reduction', u'reed', u'ref', u'refer', u'referee', u'reference', u'references', u'referendum', u'referred', u'referring', u'refers', u'refharv', u'reflect', u'reflected', u'reflection', u'reflects', u'refnum', u'reform', u'reformation', u'reformed', u'reforms', u'refuge', u'refugee', u'refugees', u'refusal', u'refused', u'refuses', u'refusing', u'regard', u'regarded', u'regarding', u'regardless', u'regards', u'reggae', u'reggio', u'regime', u'regiment', u'regiments', u'regina', u'region', u'regional', u'regions', u'register', u'registered', u'registration', u'registry', u'regnum', u'reguillo', u'regular', u'regularly', u'regulated', u'regulation', u'regulations', u'regulatory', u'rehabilitation', u'reich', u'reign', u'reinforced', u'reinforcements', u'reject', u'rejected', u'rejection', u'rejects', u'related', u'relates', u'relating', u'relation', u'relations', u'relationship', u'relationships', u'relative', u'relatively', u'relatives', u'relay', u'release', u'released', u'releases', u'releasing', u'relevant', u'reliable', u'relied', u'relief', u'religion', u'religions', u'religious', u'relocated', u'rely', u'remain', u'remainder', u'remained', u'remaining', u'remains', u'remarkable', u'remarks', u'remember', u'remembered', u'remix', u'remote', u'removal', u'remove', u'removed', u'removing', u'ren', u'renaissance', u'renamed', u'rendered', u'renewal', u'renewed', u'rennert', u'renowned', u'rent', u'rep', u'repair', u'repeat', u'repeated', u'repeatedly', u'replace', u'replaced', u'replacement', u'replacing', u'replied', u'report', u'reported', u'reportedly', u'reporter', u'reporters', u'reporting', u'reports', u'represent', u'representation', u'representations', u'representative', u'representatives', u'represented', u'representing', u'represents', u'repression', u'republic', u'republican', u'republicans', u'reputation', u'request', u'requested', u'requests', u'require', u'required', u'requirement', u'requirements', u'requires', u'requiring', u'res', u'rescue', u'research', u'researcher', u'researchers', u'reserve', u'reserved', u'reserves', u'reservoir', u'residence', u'residency', u'resident', u'residential', u'residents', u'resides', u'residing', u'resign', u'resignation', u'resigned', u'resistance', u'resolution', u'resolutions', u'resolve', u'resolved', u'resort', u'resource', u'resources', u'respect', u'respected', u'respective', u'respectively', u'respond', u'responded', u'respondents', u'responding', u'response', u'responses', u'responsibilities', u'responsibility', u'responsible', u'rest', u'restaurant', u'restaurants', u'restingplace', u'restoration', u'restore', u'restored', u'restricted', u'restrictions', u'result', u'resulted', u'resulting', u'results', u'resumed', u'resurrection', u'ret', u'retail', u'retailers', u'retain', u'retained', u'retaliation', u'retired', u'retirement', u'retreat', u'retrieved', u'return', u'returned', u'returning', u'returns', u'reunion', u'reuters', u'rev', u'reveal', u'revealed', u'revealing', u'reveals', u'revelation', u'revenge', u'revenue', u'revenues', u'reverse', u'reversed', u'review', u'reviewed', u'reviews', u'revised', u'revision', u'revista', u'revival', u'revived', u'revolt', u'revolution', u'revolutionary', u'revscore', u'reward', u'rey', u'reynolds', u'rez', u'rhetoric', u'rhode', u'rhodes', u'rhythm', u'rhythmic', u'ria', u'riba', u'rica', u'rican', u'ricardo', u'rice', u'rich', u'richard', u'richards', u'richardson', u'richmond', u'rick', u'rico', u'rida', u'ride', u'rider', u'riders', u'ridge', u'riding', u'rie', u'rifle', u'rifles', u'right', u'righteousness', u'rights', u'riley', u'ring', u'rings', u'rinko', u'rio', u'riot', u'riots', u'rise', u'rising', u'risk', u'risks', u'rita', u'ritual', u'rival', u'rivalry', u'rivals', u'river', u'rivers', u'rnak', u'rnberg', u'road', u'roads', u'rob', u'robert', u'roberto', u'roberts', u'robertson', u'robin', u'robinson', u'robocon', u'robot', u'robots', u'roc', u'rochester', u'rock', u'rocket', u'rockets', u'rocks', u'rocky', u'rod', u'rodney', u'rodr', u'rodriguez', u'roger', u'rogers', u'roland', u'role', u'roles', u'roll', u'rolling', u'rolls', u'rom', u'roma', u'roman', u'romance', u'romania', u'romanian', u'romanians', u'romans', u'romantic', u'rome', u'ron', u'ronald', u'ronnie', u'roof', u'room', u'rooms', u'roosevelt', u'root', u'rooted', u'roots', u'rope', u'rosa', u'rose', u'ross', u'rouge', u'rough', u'roughly', u'round', u'rounded', u'rounds', u'route', u'routes', u'routine', u'routledge', u'row', u'rowe', u'rowspan', u'roy', u'royal', u'royalty', u'rpg', u'rttemberg', u'rubber', u'rugby', u'ruins', u'rule', u'ruled', u'ruler', u'rulers', u'rules', u'ruling', u'rumors', u'run', u'runner', u'runners', u'running', u'runs', u'runtime', u'rural', u'rush', u'russell', u'russells', u'russia', u'russian', u'russians', u'rutgers', u'ruth', u'rutherford', u'rwanda', u'rwandan', u'ryan', u'ryu', u'sabadell', u'sabah', u'sabha', u'sabre', u'sabzevar', u'sacred', u'sacrifice', u'sad', u'saddam', u'safe', u'safety', u'sage', u'sahab', u'sahara', u'saharan', u'sahib', u'sahra', u'said', u'sailed', u'sailor', u'saint', u'saints', u'sakura', u'salaries', u'salary', u'sale', u'salem', u'sales', u'salom', u'salon', u'saloum', u'salt', u'salvador', u'salvation', u'sam', u'sample', u'samples', u'samuel', u'san', u'sanctions', u'sanctuary', u'sand', u'sandra', u'sandstone', u'sandy', u'sanford', u'sang', u'sanskrit', u'sant', u'santa', u'santhosh', u'santiago', u'santos', u'sar', u'sara', u'sarah', u'sarwan', u'saskatchewan', u'sat', u'satellite', u'saturday', u'saudi', u'savage', u'save', u'saved', u'saving', u'savings', u'saw', u'saxe', u'saxophone', u'say', u'saying', u'says', u'sayyid', u'scale', u'scandal', u'scattered', u'scene', u'scenes', u'sch', u'schedule', u'scheduled', u'scheduling', u'scheme', u'schemes', u'schmidt', u'scholar', u'scholarly', u'scholars', u'scholarship', u'scholarships', u'school', u'schooling', u'schools', u'schuster', u'schwartz', u'science', u'sciences', u'scientific', u'scientist', u'scientists', u'scientology', u'scissors', u'scope', u'scopecol', u'scoperow', u'score', u'scorecard', u'scored', u'scorenbsp', u'scores', u'scoring', u'scotia', u'scotland', u'scott', u'scottish', u'screen', u'screening', u'screenplay', u'screenwriter', u'script', u'scripts', u'sculpture', u'sea', u'seahawks', u'seal', u'sean', u'search', u'searching', u'season', u'seasons', u'seat', u'seating', u'seats', u'seattle', u'sebastian', u'sec', u'seckel', u'second', u'secondary', u'seconds', u'secret', u'secretary', u'secretly', u'secrets', u'section', u'sections', u'sector', u'sectors', u'secular', u'secure', u'secured', u'securities', u'security', u'see', u'seed', u'seednbsp', u'seeds', u'seeing', u'seek', u'seeking', u'seeks', u'seem', u'seemed', u'seemingly', u'seems', u'seen', u'sees', u'segment', u'seized', u'select', u'selected', u'selection', u'selective', u'self', u'sell', u'seller', u'sellers', u'selling', u'sells', u'semester', u'semi', u'seminar', u'seminars', u'seminary', u'semitic', u'semple', u'sen', u'senate', u'senator', u'senators', u'send', u'sending', u'sends', u'senegal', u'senior', u'sense', u'sensitive', u'sensor', u'sent', u'sentence', u'sentenced', u'sentences', u'sentencing', u'sentiment', u'sentinel', u'seoul', u'sep', u'separate', u'separated', u'separation', u'sept', u'september', u'septembernbsp', u'sequence', u'serb', u'serbia', u'serbian', u'serbs', u'sergeant', u'serial', u'serie', u'series', u'serious', u'seriously', u'servant', u'servants', u'serve', u'served', u'server', u'serves', u'service', u'services', u'serving', u'session', u'sessions', u'set', u'sets', u'setting', u'settings', u'settle', u'settled', u'settlement', u'settlements', u'settlementtype', u'settlers', u'seung', u'seven', u'seventh', u'several', u'severe', u'severely', u'sex', u'sexual', u'sexuality', u'sexually', u'shadow', u'shah', u'shakespeare', u'shall', u'shanghai', u'shape', u'shaped', u'share', u'shared', u'shareholders', u'shares', u'sharia', u'sharing', u'sharona', u'sharp', u'shaw', u'shawn', u'shear', u'sheep', u'sheet', u'sheffield', u'sheikh', u'shell', u'shelling', u'shelter', u'shelters', u'sheng', u'shepherd', u'sheriff', u'shes', u'shi', u'shia', u'shield', u'shift', u'shifted', u'shimabuku', u'shin', u'shinran', u'ship', u'shipping', u'ships', u'shirts', u'shock', u'shoot', u'shooting', u'shop', u'shopping', u'shops', u'shore', u'short', u'shortly', u'shorts', u'shortsummary', u'shot', u'shots', u'shoulder', u'show', u'showed', u'showing', u'shown', u'shows', u'shrew', u'shri', u'shrine', u'shujaiyya', u'shunpei', u'shut', u'shuttle', u'siamese', u'sick', u'side', u'sided', u'sides', u'siege', u'sierra', u'sight', u'sign', u'signal', u'signaling', u'signals', u'signature', u'signatures', u'signed', u'significance', u'significant', u'significantly', u'signing', u'signs', u'sikh', u'sikhs', u'silence', u'silent', u'silicon', u'silk', u'silva', u'silver', u'similar', u'similarities', u'similarly', u'simon', u'simone', u'simple', u'simply', u'simpson', u'simulation', u'simultaneously', u'sin', u'sinai', u'since', u'sing', u'singapore', u'singer', u'singers', u'singh', u'singing', u'single', u'singles', u'sink', u'sinners', u'sino', u'sins', u'sir', u'sister', u'sisters', u'sit', u'site', u'sitecityst', u'sitename', u'sitereference', u'sites', u'sitestadium', u'sitting', u'situated', u'situation', u'situations', u'six', u'sixteen', u'sixth', u'sixty', u'size', u'sized', u'sizes', u'skate', u'skating', u'ski', u'skill', u'skilled', u'skills', u'skin', u'skull', u'sky', u'slaughter', u'slave', u'slavery', u'slaves', u'slavic', u'slavs', u'slayer', u'sleep', u'sleepers', u'sleeping', u'slide', u'slightly', u'slogan', u'slot', u'slovak', u'slovakia', u'slovaks', u'slovenia', u'slovenian', u'slow', u'slowly', u'smackdown', u'smad', u'small', u'smaller', u'smart', u'smartone', u'smith', u'smiths', u'smoke', u'smoking', u'smooth', u'smyrna', u'snake', u'snooker', u'snow', u'soap', u'soccer', u'soci', u'social', u'socialism', u'socialist', u'socially', u'societies', u'society', u'socio', u'sociological', u'sociology', u'socks', u'sofla', u'soft', u'software', u'soho', u'soicom', u'soicommonde', u'soil', u'solar', u'sold', u'soldier', u'soldiers', u'sole', u'solely', u'solid', u'solidarity', u'solo', u'solomon', u'solosinger', u'solution', u'solutions', u'solve', u'solving', u'somali', u'somalia', u'someone', u'something', u'sometimes', u'somewhat', u'son', u'song', u'songs', u'songwriter', u'sons', u'sony', u'soon', u'sophie', u'sophisticated', u'sophomore', u'sorn', u'sort', u'sortable', u'sought', u'soul', u'souls', u'sound', u'soundpainting', u'sounds', u'soundtrack', u'source', u'sources', u'south', u'southeast', u'southeastern', u'southern', u'southwest', u'southwestern', u'sovereign', u'sovereignty', u'soviet', u'soviets', u'space', u'spaces', u'spain', u'span', u'spanish', u'spark', u'sparked', u'speak', u'speaker', u'speakers', u'speaking', u'speaks', u'special', u'specialist', u'specialists', u'specialized', u'species', u'specific', u'specifically', u'specified', u'spectrum', u'speculation', u'speech', u'speeches', u'speed', u'speedway', u'spencer', u'spend', u'spending', u'spent', u'sphere', u'spike', u'spin', u'spinner', u'spirit', u'spiritual', u'spite', u'split', u'spoke', u'spoken', u'spokesman', u'spokesperson', u'sponsor', u'sponsored', u'sponsors', u'sport', u'sporting', u'sports', u'spot', u'spots', u'spouse', u'spray', u'spread', u'spreading', u'spring', u'springfield', u'springs', u'spy', u'squad', u'squadron', u'square', u'squirrel', u'sri', u'ssd', u'ssr', u'stability', u'stable', u'stack', u'stadium', u'staff', u'staffordshire', u'stage', u'staged', u'stages', u'stake', u'stakes', u'stalin', u'stamp', u'stamps', u'stan', u'stance', u'stand', u'standard', u'standards', u'standing', u'stands', u'stanford', u'stanley', u'star', u'stark', u'starred', u'starring', u'stars', u'start', u'started', u'starting', u'starts', u'startup', u'stat', u'state', u'stated', u'statement', u'statements', u'states', u'statesman', u'statewide', u'stating', u'station', u'stationed', u'stations', u'statistical', u'statistics', u'statue', u'status', u'statute', u'statutory', u'statvalue', u'stay', u'stayed', u'staying', u'steam', u'steel', u'stefan', u'steinberg', u'stem', u'step', u'stephanie', u'stephen', u'stepped', u'steps', u'stereotypes', u'sterling', u'stettin', u'steve', u'steven', u'stevens', u'stewart', u'stick', u'still', u'stock', u'stockholm', u'stolen', u'stone', u'stones', u'stoney', u'stood', u'stop', u'stopped', u'stops', u'storage', u'store', u'stored', u'stores', u'storey', u'stories', u'storm', u'storms', u'story', u'storyline', u'straight', u'strain', u'strange', u'strategic', u'strategies', u'strategy', u'stratford', u'stream', u'streams', u'street', u'streets', u'strength', u'strengthen', u'strengthening', u'stress', u'strict', u'strictly', u'strike', u'strikes', u'striking', u'string', u'strings', u'strip', u'stroke', u'strokes', u'strong', u'stronger', u'strongest', u'strongly', u'struck', u'structural', u'structure', u'structured', u'structures', u'struggle', u'struggles', u'stuart', u'stub', u'student', u'students', u'studied', u'studies', u'studio', u'studios', u'study', u'studying', u'stuttgart', u'style', u'stylebackground', u'stylebackgroundbbf', u'stylebackgroundbcde', u'stylebackgroundceceb', u'stylebackgrounddffeb', u'stylebackgroundefefef', u'stylebackgroundfbae', u'stylebackgroundfbb', u'stylebackgroundffefcf', u'stylebackgroundfff', u'stylebackgroundfffnr', u'stylebackgroundsalmon', u'stylebackgroundwhite', u'styleborder', u'stylecolor', u'stylecolorgray', u'stylefont', u'styleheightem', u'stylemargin', u'styles', u'styletext', u'stylewidth', u'stylewidthem', u'stylewidthemfont', u'stylewidthpx', u'sub', u'subdivision', u'subdivisionname', u'subdivisiontype', u'subject', u'subjected', u'subjects', u'submarine', u'submission', u'submit', u'submitted', u'subsequent', u'subsequently', u'subsid', u'subsidiary', u'substance', u'substantial', u'substantially', u'substitute', u'suburb', u'suburban', u'suburbs', u'subway', u'succeed', u'succeeded', u'success', u'successful', u'successfully', u'succession', u'successive', u'successor', u'sudan', u'sudden', u'suddenly', u'sue', u'sued', u'suffer', u'suffered', u'suffering', u'sufficient', u'suffix', u'sufi', u'sugar', u'suggest', u'suggested', u'suggesting', u'suggests', u'suicide', u'suit', u'suitable', u'suite', u'sukhumi', u'sullivan', u'sultan', u'sum', u'summary', u'summer', u'summers', u'summit', u'sums', u'sun', u'sunday', u'sung', u'sunni', u'sunshine', u'super', u'superintendent', u'superior', u'superiority', u'superkombat', u'supernatural', u'supervision', u'supplement', u'supplied', u'supplies', u'supply', u'support', u'supported', u'supporter', u'supporters', u'supporting', u'supports', u'supposed', u'supposedly', u'suppressed', u'suppression', u'supremacy', u'supreme', u'sur', u'sure', u'surface', u'surgeon', u'surgery', u'surgical', u'surname', u'surplus', u'surprise', u'surrender', u'surrendered', u'surrounded', u'surrounding', u'surveillance', u'survey', u'surveys', u'survival', u'survive', u'survived', u'surviving', u'survivor', u'survivors', u'susan', u'suspect', u'suspected', u'suspects', u'suspended', u'suspension', u'sustainable', u'sustained', u'sutton', u'suzuki', u'svg', u'swain', u'swami', u'swan', u'sweden', u'swedish', u'sweet', u'swimming', u'swing', u'swiss', u'switch', u'switched', u'switzerland', u'sword', u'sworn', u'sydney', u'syed', u'symbol', u'symbolic', u'symbols', u'symphony', u'symphysiotomy', u'symposium', u'syndrome', u'synod', u'synonyms', u'syntax', u'synthesis', u'syracuse', u'syria', u'syrian', u'system', u'systematic', u'systems', u'szczecin', u'szl', u'table', u'tables', u'tablet', u'tackle', u'tackles', u'tactical', u'tactics', u'tag', u'tags', u'tai', u'tail', u'tailed', u'taiwan', u'take', u'taken', u'takes', u'taking', u'tale', u'talent', u'talents', u'tales', u'talk', u'talked', u'talking', u'talks', u'tall', u'tamil', u'tampa', u'tan', u'tang', u'tank', u'tanks', u'tape', u'tar', u'target', u'targeted', u'targeting', u'targets', u'tarim', u'task', u'tasks', u'taste', u'tat', u'taught', u'tax', u'taxes', u'taxobox', u'taylor', u'tea', u'teach', u'teacher', u'teachers', u'teaches', u'teaching', u'teachings', u'team', u'teambracket', u'teams', u'teau', u'tech', u'technical', u'technique', u'techniques', u'technological', u'technologies', u'technology', u'ted', u'teen', u'teenage', u'teens', u'tehran', u'tel', u'telecommunications', u'telegraph', u'telephone', u'telet', u'television', u'tell', u'teller', u'telling', u'tells', u'telugu', u'temperature', u'temple', u'temples', u'temporarily', u'temporary', u'ten', u'tenants', u'tend', u'tended', u'tendency', u'tender', u'tends', u'tennessee', u'tennis', u'tens', u'tension', u'tensions', u'tent', u'tenth', u'tenure', u'tepco', u'ter', u'teresa', u'term', u'termed', u'termend', u'terminal', u'terminus', u'terms', u'termstart', u'terrain', u'terrier', u'territorial', u'territories', u'territory', u'terror', u'terrorism', u'terrorist', u'terrorists', u'terry', u'test', u'testament', u'tested', u'testified', u'testimony', u'testing', u'tests', u'teutonic', u'texas', u'text', u'texts', u'thai', u'thailand', u'thangal', u'thanks', u'thatcher', u'thats', u'theater', u'theatre', u'theatrical', u'theft', u'thematic', u'theme', u'themes', u'theodore', u'theologian', u'theologians', u'theological', u'theology', u'theoretical', u'theories', u'theory', u'therapy', u'thereafter', u'thereby', u'therefore', u'theres', u'thesis', u'thin', u'thing', u'things', u'think', u'thinking', u'third', u'thirds', u'thirteen', u'thirty', u'thomas', u'thompson', u'though', u'thought', u'thoughts', u'thousand', u'thousands', u'threat', u'threatened', u'threatening', u'threats', u'three', u'threshold', u'throne', u'throughout', u'throw', u'throwing', u'thrown', u'thursday', u'thus', u'thyroid', u'tibet', u'tibetan', u'tica', u'ticket', u'tico', u'tide', u'tie', u'tied', u'tier', u'tierra', u'ties', u'tiger', u'tigers', u'tight', u'till', u'tim', u'timber', u'time', u'timeline', u'times', u'timezone', u'timezonedst', u'timor', u'timothy', u'tina', u'tinnitus', u'tiny', u'tip', u'tipperary', u'tipu', u'tis', u'tissue', u'title', u'titlea', u'titled', u'titleja', u'titles', u'titlethe', u'titletv', u'tko', u'tobacco', u'today', u'todays', u'todd', u'together', u'tokyo', u'told', u'tolerance', u'toll', u'tom', u'tomb', u'tommy', u'tomorrow', u'tone', u'tongue', u'tons', u'tony', u'took', u'tool', u'tools', u'top', u'topic', u'topics', u'torah', u'torbat', u'torino', u'toronto', u'torres', u'torture', u'tortured', u'toss', u'total', u'totally', u'totaltype', u'touch', u'tough', u'tour', u'toured', u'touring', u'tourism', u'tourist', u'tourists', u'tournament', u'tournaments', u'tours', u'toward', u'towards', u'tower', u'towers', u'town', u'towns', u'township', u'toxic', u'toys', u'traced', u'traces', u'track', u'tracking', u'tracks', u'tract', u'tracy', u'trade', u'traded', u'trademark', u'trader', u'traders', u'trading', u'tradition', u'traditional', u'traditionally', u'traditions', u'traffic', u'trafficking', u'tragedy', u'trail', u'trailer', u'train', u'trained', u'trainer', u'training', u'trains', u'traits', u'tram', u'trans', u'transaction', u'transactions', u'transfer', u'transferred', u'transfers', u'transform', u'transformation', u'transformed', u'transgender', u'transit', u'transition', u'translated', u'translates', u'translation', u'translations', u'translator', u'transmission', u'transparency', u'transport', u'transportation', u'transylvania', u'trapped', u'trauma', u'travancore', u'travel', u'traveled', u'traveling', u'travelled', u'travelling', u'travels', u'tre', u'treasure', u'treasurer', u'treasury', u'treat', u'treated', u'treatment', u'treatments', u'treaty', u'tree', u'trees', u'trend', u'trends', u'trevor', u'tri', u'trial', u'trials', u'tribal', u'tribe', u'tribes', u'tribunal', u'tribune', u'tributary', u'tribute', u'trick', u'tried', u'tries', u'trigger', u'trimming', u'trinidad', u'trinity', u'trio', u'trip', u'triple', u'trips', u'troops', u'trophy', u'tropical', u'trouble', u'troubled', u'troy', u'truce', u'truck', u'trucks', u'true', u'truly', u'trump', u'trumpet', u'trunk', u'trust', u'trustees', u'truth', u'try', u'trying', u'tucker', u'tuesday', u'tuition', u'tune', u'tunisia', u'tunnel', u'turbine', u'turbo', u'turkestan', u'turkey', u'turkic', u'turkish', u'turkmen', u'turks', u'turn', u'turned', u'turner', u'turning', u'turnout', u'turns', u'tweet', u'tweetdeck', u'tweets', u'twelfth', u'twelve', u'twentieth', u'twenty', u'twice', u'twin', u'twins', u'twitchell', u'twitter', u'two', u'txint', u'tyler', u'type', u'typenrhp', u'types', u'typhlodromus', u'typical', u'typically', u'uae', u'uefa', u'uganda', u'ukraine', u'ukrainian', u'ukrainians', u'ultimate', u'ultimately', u'ultra', u'uluru', u'umar', u'una', u'unable', u'unanimous', u'unanimously', u'uncertain', u'uncle', u'unclear', u'unconscious', u'und', u'undergo', u'undergraduate', u'underground', u'underlying', u'understand', u'understanding', u'understood', u'undertaken', u'underwent', u'une', u'unemployment', u'unesco', u'unfortunately', u'unicef', u'unification', u'unified', u'uniform', u'uniforms', u'unincorporated', u'union', u'unions', u'unique', u'unit', u'united', u'unitpref', u'units', u'unity', u'universal', u'universe', u'universidad', u'universit', u'universities', u'university', u'universitys', u'unknown', u'unless', u'unlike', u'unlikely', u'unofficial', u'unprecedented', u'unsuccessful', u'unsuccessfully', u'unusual', u'upcoming', u'update', u'updated', u'updates', u'upgrade', u'upgraded', u'upheld', u'upon', u'upper', u'uprising', u'uranium', u'urban', u'urdu', u'urged', u'urging', u'url', u'uruguay', u'usa', u'usage', u'usc', u'usd', u'use', u'used', u'useful', u'user', u'users', u'uses', u'using', u'uss', u'ussr', u'usta', u'usual', u'usually', u'utada', u'utah', u'utc', u'utcoffset', u'utcoffsetdst', u'utility', u'utilized', u'utilizing', u'uttar', u'utusan', u'uyghur', u'uyghurs', u'vacant', u'val', u'vale', u'valencia', u'valentin', u'valid', u'validity', u'valigntop', u'valley', u'valuable', u'value', u'values', u'valve', u'vampire', u'van', u'vancouver', u'vanderbilt', u'var', u'variable', u'variables', u'variant', u'variation', u'variations', u'varied', u'varies', u'variety', u'various', u'varma', u'varsity', u'vary', u'varying', u'vast', u'vatican', u'vegas', u'vegetables', u'vegetation', u'vehicle', u'vehicles', u'vejnar', u'velimirovi', u'velvet', u'veneman', u'venetian', u'venezuela', u'venezuelan', u'venice', u'venture', u'venue', u'venues', u'vera', u'verdict', u'verlag', u'vermont', u'verse', u'verses', u'version', u'versions', u'versus', u'vertical', u'vessel', u'vessels', u'veteran', u'veterans', u'via', u'viable', u'vic', u'vice', u'vicinity', u'victim', u'victims', u'victor', u'victoria', u'victorian', u'victories', u'victory', u'video', u'videos', u'vienna', u'viet', u'vietnam', u'vietnamese', u'view', u'viewed', u'viewers', u'viewing', u'views', u'vii', u'viii', u'viking', u'vikings', u'viktor', u'villa', u'village', u'villagers', u'villages', u'villains', u'vilnius', u'vimy', u'vincent', u'vinyl', u'violated', u'violating', u'violation', u'violations', u'violence', u'violent', u'violin', u'virgin', u'virginia', u'virtual', u'virtually', u'visible', u'vision', u'visionary', u'visions', u'visit', u'visited', u'visiting', u'visitors', u'visits', u'vista', u'visual', u'vital', u'vladimir', u'vocal', u'vocalist', u'vocals', u'vocational', u'voice', u'voiced', u'voices', u'voivodeship', u'voivodeships', u'vol', u'volleyball', u'voltaire', u'voltaires', u'volume', u'volumes', u'voluntary', u'volunteer', u'volunteers', u'von', u'vote', u'voted', u'voter', u'voters', u'votes', u'voting', u'voyage', u'vpro', u'vulnerable', u'wade', u'wage', u'wages', u'wagner', u'wait', u'waiting', u'wake', u'wales', u'walk', u'walker', u'walking', u'wall', u'wallace', u'walls', u'walsh', u'walt', u'walter', u'wan', u'wang', u'want', u'wanted', u'wanting', u'wants', u'war', u'ward', u'warfare', u'warm', u'warned', u'warner', u'warning', u'warnings', u'warrant', u'warren', u'warrior', u'warriors', u'wars', u'warsaw', u'washington', u'wasnt', u'waste', u'watch', u'watching', u'watchtower', u'water', u'waters', u'watson', u'watts', u'wave', u'waves', u'way', u'wayne', u'ways', u'weak', u'weakened', u'wealth', u'wealthy', u'weapon', u'weapons', u'wear', u'wearing', u'weather', u'web', u'webcomic', u'website', u'websites', u'webster', u'wedding', u'week', u'weekend', u'weekly', u'weeks', u'wei', u'weight', u'weightlifting', u'weilburg', u'weir', u'welcome', u'welcomed', u'welfare', u'well', u'wellington', u'wells', u'welsh', u'went', u'werner', u'west', u'westchester', u'western', u'westminster', u'wet', u'whatever', u'whats', u'wheat', u'whedon', u'wheel', u'wheels', u'whereas', u'whereby', u'whether', u'whilst', u'white', u'whites', u'whole', u'whose', u'wicked', u'wickets', u'wide', u'widely', u'wider', u'widespread', u'widow', u'width', u'widthpx', u'wie', u'wife', u'wikipedia', u'wikitable', u'wild', u'wildlife', u'wiley', u'wilhelm', u'wilkes', u'wilkesboro', u'william', u'williams', u'willing', u'wilson', u'wimbledon', u'win', u'wind', u'window', u'windows', u'winds', u'wine', u'wing', u'wings', u'winner', u'winners', u'winning', u'winnipeg', u'wins', u'winston', u'winter', u'winton', u'wire', u'wireless', u'wisconsin', u'wisden', u'wisdom', u'wise', u'wish', u'wished', u'wishes', u'witch', u'withdraw', u'withdrawal', u'withdrawn', u'withdrew', u'within', u'without', u'witness', u'witnessed', u'witnesses', u'wives', u'wizard', u'wkg', u'wolf', u'wolfgang', u'woman', u'women', u'womens', u'wonder', u'wont', u'wood', u'wooden', u'woods', u'worcester', u'word', u'words', u'wore', u'work', u'worked', u'worker', u'workers', u'working', u'workplace', u'works', u'workshop', u'workshops', u'workthe', u'world', u'worlds', u'worldwide', u'worse', u'worship', u'worst', u'worth', u'worthy', u'would', u'wound', u'wounded', u'wounding', u'wounds', u'wreck', u'wrestling', u'wright', u'write', u'writer', u'writers', u'writes', u'writing', u'writings', u'written', u'wrong', u'wrongful', u'wrote', u'wta', u'wwe', u'wyoming', u'xavier', u'xico', u'xie', u'xii', u'xiii', u'xinjiang', u'yad', u'yahoo', u'yale', u'yam', u'yamaha', u'yang', u'yard', u'yards', u'year', u'yearbook', u'yearly', u'years', u'yearsactive', u'yellow', u'yellowstone', u'yemen', u'yes', u'yeshiva', u'yet', u'yeung', u'yield', u'yin', u'yoga', u'yogyakarta', u'yojanas', u'york', u'yorkshire', u'young', u'younger', u'youngest', u'youre', u'youth', u'youthclubs', u'youths', u'youthyears', u'youtube', u'yuan', u'yugoslav', u'yugoslavia', u'yusuf', u'zagreb', u'zambia', u'zarathustra', u'zealand', u'zero', u'zhang', u'ziegler', u'zimbabwe', u'zimmerman', u'zinc', u'zionist', u'zone', u'zones', u'zongmi', u'zoo', u'zuerlein', u'zur']\n"
     ]
    }
   ],
   "source": [
    "vocab = vectorizer.get_feature_names()\n",
    "print vocab"
   ]
  },
  {
   "cell_type": "code",
   "execution_count": 95,
   "metadata": {
    "collapsed": false
   },
   "outputs": [
    {
     "name": "stdout",
     "output_type": "stream",
     "text": [
      "(4379, 9000)\n"
     ]
    }
   ],
   "source": [
    "feature_matrix = pd.DataFrame(train_data_features, index = train['title'], columns=vectorizer.get_feature_names())\n",
    "print feature_matrix.shape"
   ]
  },
  {
   "cell_type": "code",
   "execution_count": 19,
   "metadata": {
    "collapsed": false
   },
   "outputs": [
    {
     "data": {
      "text/html": [
       "<div>\n",
       "<style>\n",
       "    .dataframe thead tr:only-child th {\n",
       "        text-align: right;\n",
       "    }\n",
       "\n",
       "    .dataframe thead th {\n",
       "        text-align: left;\n",
       "    }\n",
       "\n",
       "    .dataframe tbody tr th {\n",
       "        vertical-align: top;\n",
       "    }\n",
       "</style>\n",
       "<table border=\"1\" class=\"dataframe\">\n",
       "  <thead>\n",
       "    <tr style=\"text-align: right;\">\n",
       "      <th></th>\n",
       "      <th>id</th>\n",
       "      <th>title</th>\n",
       "    </tr>\n",
       "  </thead>\n",
       "  <tbody>\n",
       "    <tr>\n",
       "      <th>0</th>\n",
       "      <td>5597</td>\n",
       "      <td>'Politics of Cyprus'</td>\n",
       "    </tr>\n",
       "    <tr>\n",
       "      <th>1</th>\n",
       "      <td>14668</td>\n",
       "      <td>'Economy of Iraq'</td>\n",
       "    </tr>\n",
       "    <tr>\n",
       "      <th>2</th>\n",
       "      <td>24400</td>\n",
       "      <td>'Pair programming'</td>\n",
       "    </tr>\n",
       "    <tr>\n",
       "      <th>3</th>\n",
       "      <td>32783</td>\n",
       "      <td>'Antisemitism and the New Testament'</td>\n",
       "    </tr>\n",
       "    <tr>\n",
       "      <th>4</th>\n",
       "      <td>38424</td>\n",
       "      <td>'Bikram Yoga'</td>\n",
       "    </tr>\n",
       "  </tbody>\n",
       "</table>\n",
       "</div>"
      ],
      "text/plain": [
       "      id                                 title\n",
       "0   5597                  'Politics of Cyprus'\n",
       "1  14668                     'Economy of Iraq'\n",
       "2  24400                    'Pair programming'\n",
       "3  32783  'Antisemitism and the New Testament'\n",
       "4  38424                         'Bikram Yoga'"
      ]
     },
     "execution_count": 19,
     "metadata": {},
     "output_type": "execute_result"
    }
   ],
   "source": [
    "pov = pd.read_csv('POV.csv')\n",
    "pov.drop(labels=['Unnamed: 0'], axis=1, inplace=True)\n",
    "pov.head()"
   ]
  },
  {
   "cell_type": "code",
   "execution_count": 20,
   "metadata": {
    "collapsed": false
   },
   "outputs": [
    {
     "data": {
      "text/html": [
       "<div>\n",
       "<style>\n",
       "    .dataframe thead tr:only-child th {\n",
       "        text-align: right;\n",
       "    }\n",
       "\n",
       "    .dataframe thead th {\n",
       "        text-align: left;\n",
       "    }\n",
       "\n",
       "    .dataframe tbody tr th {\n",
       "        vertical-align: top;\n",
       "    }\n",
       "</style>\n",
       "<table border=\"1\" class=\"dataframe\">\n",
       "  <thead>\n",
       "    <tr style=\"text-align: right;\">\n",
       "      <th></th>\n",
       "      <th>id</th>\n",
       "      <th>title</th>\n",
       "      <th>title_strip</th>\n",
       "    </tr>\n",
       "  </thead>\n",
       "  <tbody>\n",
       "    <tr>\n",
       "      <th>0</th>\n",
       "      <td>5597</td>\n",
       "      <td>'Politics of Cyprus'</td>\n",
       "      <td>Politics of Cyprus</td>\n",
       "    </tr>\n",
       "    <tr>\n",
       "      <th>1</th>\n",
       "      <td>14668</td>\n",
       "      <td>'Economy of Iraq'</td>\n",
       "      <td>Economy of Iraq</td>\n",
       "    </tr>\n",
       "    <tr>\n",
       "      <th>2</th>\n",
       "      <td>24400</td>\n",
       "      <td>'Pair programming'</td>\n",
       "      <td>Pair programming</td>\n",
       "    </tr>\n",
       "    <tr>\n",
       "      <th>3</th>\n",
       "      <td>32783</td>\n",
       "      <td>'Antisemitism and the New Testament'</td>\n",
       "      <td>Antisemitism and the New Testament</td>\n",
       "    </tr>\n",
       "    <tr>\n",
       "      <th>4</th>\n",
       "      <td>38424</td>\n",
       "      <td>'Bikram Yoga'</td>\n",
       "      <td>Bikram Yoga</td>\n",
       "    </tr>\n",
       "  </tbody>\n",
       "</table>\n",
       "</div>"
      ],
      "text/plain": [
       "      id                                 title  \\\n",
       "0   5597                  'Politics of Cyprus'   \n",
       "1  14668                     'Economy of Iraq'   \n",
       "2  24400                    'Pair programming'   \n",
       "3  32783  'Antisemitism and the New Testament'   \n",
       "4  38424                         'Bikram Yoga'   \n",
       "\n",
       "                          title_strip  \n",
       "0                  Politics of Cyprus  \n",
       "1                     Economy of Iraq  \n",
       "2                    Pair programming  \n",
       "3  Antisemitism and the New Testament  \n",
       "4                         Bikram Yoga  "
      ]
     },
     "execution_count": 20,
     "metadata": {},
     "output_type": "execute_result"
    }
   ],
   "source": [
    "pov['title_strip'] = pov['title'].map(lambda x: re.sub(\"'\", '', x))\n",
    "pov.head()"
   ]
  },
  {
   "cell_type": "code",
   "execution_count": 21,
   "metadata": {
    "collapsed": false
   },
   "outputs": [
    {
     "data": {
      "text/html": [
       "<div>\n",
       "<style>\n",
       "    .dataframe thead tr:only-child th {\n",
       "        text-align: right;\n",
       "    }\n",
       "\n",
       "    .dataframe thead th {\n",
       "        text-align: left;\n",
       "    }\n",
       "\n",
       "    .dataframe tbody tr th {\n",
       "        vertical-align: top;\n",
       "    }\n",
       "</style>\n",
       "<table border=\"1\" class=\"dataframe\">\n",
       "  <thead>\n",
       "    <tr style=\"text-align: right;\">\n",
       "      <th></th>\n",
       "      <th>id</th>\n",
       "      <th>title</th>\n",
       "      <th>text_clean</th>\n",
       "      <th>pov</th>\n",
       "    </tr>\n",
       "  </thead>\n",
       "  <tbody>\n",
       "    <tr>\n",
       "      <th>0</th>\n",
       "      <td>2936718</td>\n",
       "      <td>Meitei Christians</td>\n",
       "      <td>meitei christians christianity movement based ...</td>\n",
       "      <td>True</td>\n",
       "    </tr>\n",
       "    <tr>\n",
       "      <th>1</th>\n",
       "      <td>17023672</td>\n",
       "      <td>Musical expression</td>\n",
       "      <td>musical expression art playing singing music e...</td>\n",
       "      <td>True</td>\n",
       "    </tr>\n",
       "    <tr>\n",
       "      <th>2</th>\n",
       "      <td>37590035</td>\n",
       "      <td>READ 180</td>\n",
       "      <td>read reading intervention program wide use stu...</td>\n",
       "      <td>True</td>\n",
       "    </tr>\n",
       "    <tr>\n",
       "      <th>3</th>\n",
       "      <td>3191002</td>\n",
       "      <td>The Ambulance</td>\n",
       "      <td>infobox film name ambulance image ambulancejpg...</td>\n",
       "      <td>False</td>\n",
       "    </tr>\n",
       "    <tr>\n",
       "      <th>4</th>\n",
       "      <td>24154353</td>\n",
       "      <td>Sifo Company</td>\n",
       "      <td>sifo company business sifos toys sifo novelty ...</td>\n",
       "      <td>False</td>\n",
       "    </tr>\n",
       "  </tbody>\n",
       "</table>\n",
       "</div>"
      ],
      "text/plain": [
       "         id               title  \\\n",
       "0   2936718   Meitei Christians   \n",
       "1  17023672  Musical expression   \n",
       "2  37590035            READ 180   \n",
       "3   3191002       The Ambulance   \n",
       "4  24154353        Sifo Company   \n",
       "\n",
       "                                          text_clean    pov  \n",
       "0  meitei christians christianity movement based ...   True  \n",
       "1  musical expression art playing singing music e...   True  \n",
       "2  read reading intervention program wide use stu...   True  \n",
       "3  infobox film name ambulance image ambulancejpg...  False  \n",
       "4  sifo company business sifos toys sifo novelty ...  False  "
      ]
     },
     "execution_count": 21,
     "metadata": {},
     "output_type": "execute_result"
    }
   ],
   "source": [
    "#add labels to train set\n",
    "train['pov'] = train['title'].isin(pov['title_strip'])\n",
    "test['pov'] = test['title'].isin(pov['title_strip'])\n",
    "\n",
    "test.head()"
   ]
  },
  {
   "cell_type": "code",
   "execution_count": null,
   "metadata": {
    "collapsed": false
   },
   "outputs": [],
   "source": [
    "#join features with labels\n",
    "#feature_matrix = pd.concat([feature_matrix, pd.DataFrame({'pov': list(df['pov'])}, index=df['title'])], axis=1)"
   ]
  },
  {
   "cell_type": "code",
   "execution_count": 101,
   "metadata": {
    "collapsed": false
   },
   "outputs": [],
   "source": [
    "from sklearn.linear_model import LogisticRegression\n",
    "logit = LogisticRegression(C=.5) \n",
    "\n",
    "logit = logit.fit(feature_matrix, train['pov'])"
   ]
  },
  {
   "cell_type": "code",
   "execution_count": 97,
   "metadata": {
    "collapsed": false
   },
   "outputs": [],
   "source": [
    "# Get a bag of words for the test set, and convert to a numpy array\n",
    "test_data_features = vectorizer.transform(test['text_clean'])\n",
    "test_data_features = test_data_features.toarray()\n"
   ]
  },
  {
   "cell_type": "code",
   "execution_count": 102,
   "metadata": {
    "collapsed": false
   },
   "outputs": [
    {
     "name": "stdout",
     "output_type": "stream",
     "text": [
      "test score: 0.880861850444\n",
      "train score: 0.99954327472\n"
     ]
    }
   ],
   "source": [
    "print \"test score:\", logit.score(test_data_features, test['pov'])\n",
    "print \"train score:\", logit.score(train_data_features, train['pov'])"
   ]
  },
  {
   "cell_type": "code",
   "execution_count": 65,
   "metadata": {
    "collapsed": false
   },
   "outputs": [
    {
     "data": {
      "text/plain": [
       "0.90646492434662995"
      ]
     },
     "execution_count": 65,
     "metadata": {},
     "output_type": "execute_result"
    }
   ],
   "source": [
    "logit.score(test_data_features[test['pov']],[True]*727)"
   ]
  },
  {
   "cell_type": "code",
   "execution_count": 66,
   "metadata": {
    "collapsed": false
   },
   "outputs": [
    {
     "data": {
      "text/plain": [
       "0.8683901292596945"
      ]
     },
     "execution_count": 66,
     "metadata": {},
     "output_type": "execute_result"
    }
   ],
   "source": [
    "logit.score(test_data_features[test['pov']==False],[False]*851)"
   ]
  },
  {
   "cell_type": "code",
   "execution_count": null,
   "metadata": {
    "collapsed": true
   },
   "outputs": [],
   "source": []
  }
 ],
 "metadata": {
  "kernelspec": {
   "display_name": "Python 2",
   "language": "python",
   "name": "python2"
  },
  "language_info": {
   "codemirror_mode": {
    "name": "ipython",
    "version": 2
   },
   "file_extension": ".py",
   "mimetype": "text/x-python",
   "name": "python",
   "nbconvert_exporter": "python",
   "pygments_lexer": "ipython2",
   "version": "2.7.12"
  }
 },
 "nbformat": 4,
 "nbformat_minor": 0
}
