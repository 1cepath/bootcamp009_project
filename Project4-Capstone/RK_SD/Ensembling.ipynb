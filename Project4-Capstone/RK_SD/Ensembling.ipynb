{
 "cells": [
  {
   "cell_type": "code",
   "execution_count": 68,
   "metadata": {
    "collapsed": false
   },
   "outputs": [
    {
     "name": "stderr",
     "output_type": "stream",
     "text": [
      "/Users/rachelkogan/anaconda/envs/py27/lib/python2.7/site-packages/IPython/html.py:14: ShimWarning: The `IPython.html` package has been deprecated. You should import from `notebook` instead. `IPython.html.widgets` has moved to `ipywidgets`.\n",
      "  \"`IPython.html.widgets` has moved to `ipywidgets`.\", ShimWarning)\n"
     ]
    }
   ],
   "source": [
    "import pickle\n",
    "import pandas as pd\n",
    "import numpy as np\n",
    "import re\n",
    "import matplotlib.pyplot as plt\n",
    "%matplotlib inline\n",
    "import seaborn as sns"
   ]
  },
  {
   "cell_type": "code",
   "execution_count": 6,
   "metadata": {
    "collapsed": false
   },
   "outputs": [
    {
     "data": {
      "text/html": [
       "<div>\n",
       "<style>\n",
       "    .dataframe thead tr:only-child th {\n",
       "        text-align: right;\n",
       "    }\n",
       "\n",
       "    .dataframe thead th {\n",
       "        text-align: left;\n",
       "    }\n",
       "\n",
       "    .dataframe tbody tr th {\n",
       "        vertical-align: top;\n",
       "    }\n",
       "</style>\n",
       "<table border=\"1\" class=\"dataframe\">\n",
       "  <thead>\n",
       "    <tr style=\"text-align: right;\">\n",
       "      <th></th>\n",
       "      <th>id</th>\n",
       "      <th>title</th>\n",
       "      <th>text_clean</th>\n",
       "      <th>pov</th>\n",
       "    </tr>\n",
       "  </thead>\n",
       "  <tbody>\n",
       "    <tr>\n",
       "      <th>0</th>\n",
       "      <td>619941</td>\n",
       "      <td>Loch Katrine</td>\n",
       "      <td>infobox lake name loch katrin imag loch katrin...</td>\n",
       "      <td>False</td>\n",
       "    </tr>\n",
       "    <tr>\n",
       "      <th>1</th>\n",
       "      <td>3884222</td>\n",
       "      <td>Bhadayasa</td>\n",
       "      <td>infobox royalti imag filebhadrayasha coinjpg a...</td>\n",
       "      <td>False</td>\n",
       "    </tr>\n",
       "    <tr>\n",
       "      <th>2</th>\n",
       "      <td>4229879</td>\n",
       "      <td>Lee Jones (author)</td>\n",
       "      <td>lee jone onlin poker execut author win low lim...</td>\n",
       "      <td>False</td>\n",
       "    </tr>\n",
       "    <tr>\n",
       "      <th>3</th>\n",
       "      <td>5320685</td>\n",
       "      <td>School District 54 Bulkley Valley</td>\n",
       "      <td>infobox school district name school district b...</td>\n",
       "      <td>False</td>\n",
       "    </tr>\n",
       "    <tr>\n",
       "      <th>4</th>\n",
       "      <td>9146365</td>\n",
       "      <td>Combing</td>\n",
       "      <td>interlac disambiguationinterlaceth comb hairco...</td>\n",
       "      <td>False</td>\n",
       "    </tr>\n",
       "  </tbody>\n",
       "</table>\n",
       "</div>"
      ],
      "text/plain": [
       "        id                              title  \\\n",
       "0   619941                       Loch Katrine   \n",
       "1  3884222                          Bhadayasa   \n",
       "2  4229879                 Lee Jones (author)   \n",
       "3  5320685  School District 54 Bulkley Valley   \n",
       "4  9146365                            Combing   \n",
       "\n",
       "                                          text_clean    pov  \n",
       "0  infobox lake name loch katrin imag loch katrin...  False  \n",
       "1  infobox royalti imag filebhadrayasha coinjpg a...  False  \n",
       "2  lee jone onlin poker execut author win low lim...  False  \n",
       "3  infobox school district name school district b...  False  \n",
       "4  interlac disambiguationinterlaceth comb hairco...  False  "
      ]
     },
     "execution_count": 6,
     "metadata": {},
     "output_type": "execute_result"
    }
   ],
   "source": [
    "train = pd.read_pickle('train_bow_labels.pkl')\n",
    "test = pd.read_pickle('test_bow_labels.pkl')\n",
    "\n",
    "train.head()"
   ]
  },
  {
   "cell_type": "code",
   "execution_count": 9,
   "metadata": {
    "collapsed": false
   },
   "outputs": [],
   "source": [
    "#create bag of words\n",
    "from sklearn.feature_extraction.text import CountVectorizer\n",
    "vectorizer = CountVectorizer(analyzer = \"word\",   \\\n",
    "                             tokenizer = None,    \\\n",
    "                             preprocessor = None, \\\n",
    "                             stop_words = None,   \\\n",
    "                             max_features = 5000) \n",
    "train_data_features = vectorizer.fit_transform(train['text_clean']).toarray()\n",
    "feature_matrix = pd.DataFrame(train_data_features, index = train['title'], columns=vectorizer.get_feature_names())\n",
    "\n",
    "test_data_features = vectorizer.transform(test['text_clean']).toarray()\n",
    "test_feature_matrix = pd.DataFrame(test_data_features, index = test['title'], columns=vectorizer.get_feature_names())"
   ]
  },
  {
   "cell_type": "code",
   "execution_count": 183,
   "metadata": {
    "collapsed": false
   },
   "outputs": [
    {
     "data": {
      "text/html": [
       "<div>\n",
       "<style>\n",
       "    .dataframe thead tr:only-child th {\n",
       "        text-align: right;\n",
       "    }\n",
       "\n",
       "    .dataframe thead th {\n",
       "        text-align: left;\n",
       "    }\n",
       "\n",
       "    .dataframe tbody tr th {\n",
       "        vertical-align: top;\n",
       "    }\n",
       "</style>\n",
       "<table border=\"1\" class=\"dataframe\">\n",
       "  <thead>\n",
       "    <tr style=\"text-align: right;\">\n",
       "      <th></th>\n",
       "      <th>pov</th>\n",
       "    </tr>\n",
       "    <tr>\n",
       "      <th>title</th>\n",
       "      <th></th>\n",
       "    </tr>\n",
       "  </thead>\n",
       "  <tbody>\n",
       "    <tr>\n",
       "      <th>Meitei Christians</th>\n",
       "      <td>True</td>\n",
       "    </tr>\n",
       "    <tr>\n",
       "      <th>Musical expression</th>\n",
       "      <td>True</td>\n",
       "    </tr>\n",
       "    <tr>\n",
       "      <th>READ 180</th>\n",
       "      <td>True</td>\n",
       "    </tr>\n",
       "    <tr>\n",
       "      <th>The Ambulance</th>\n",
       "      <td>False</td>\n",
       "    </tr>\n",
       "    <tr>\n",
       "      <th>Sifo Company</th>\n",
       "      <td>False</td>\n",
       "    </tr>\n",
       "  </tbody>\n",
       "</table>\n",
       "</div>"
      ],
      "text/plain": [
       "                      pov\n",
       "title                    \n",
       "Meitei Christians    True\n",
       "Musical expression   True\n",
       "READ 180             True\n",
       "The Ambulance       False\n",
       "Sifo Company        False"
      ]
     },
     "execution_count": 183,
     "metadata": {},
     "output_type": "execute_result"
    }
   ],
   "source": [
    "#create ensemble data frame\n",
    "\n",
    "ensemble = pd.DataFrame(test[['title', 'pov']]).set_index('title')\n",
    "ensemble.head()"
   ]
  },
  {
   "cell_type": "code",
   "execution_count": 185,
   "metadata": {
    "collapsed": false
   },
   "outputs": [
    {
     "data": {
      "text/html": [
       "<div>\n",
       "<style>\n",
       "    .dataframe thead tr:only-child th {\n",
       "        text-align: right;\n",
       "    }\n",
       "\n",
       "    .dataframe thead th {\n",
       "        text-align: left;\n",
       "    }\n",
       "\n",
       "    .dataframe tbody tr th {\n",
       "        vertical-align: top;\n",
       "    }\n",
       "</style>\n",
       "<table border=\"1\" class=\"dataframe\">\n",
       "  <thead>\n",
       "    <tr style=\"text-align: right;\">\n",
       "      <th></th>\n",
       "      <th>pov</th>\n",
       "      <th>logit</th>\n",
       "    </tr>\n",
       "    <tr>\n",
       "      <th>title</th>\n",
       "      <th></th>\n",
       "      <th></th>\n",
       "    </tr>\n",
       "  </thead>\n",
       "  <tbody>\n",
       "    <tr>\n",
       "      <th>Meitei Christians</th>\n",
       "      <td>True</td>\n",
       "      <td>0.995124</td>\n",
       "    </tr>\n",
       "    <tr>\n",
       "      <th>Musical expression</th>\n",
       "      <td>True</td>\n",
       "      <td>0.944641</td>\n",
       "    </tr>\n",
       "    <tr>\n",
       "      <th>READ 180</th>\n",
       "      <td>True</td>\n",
       "      <td>0.999841</td>\n",
       "    </tr>\n",
       "    <tr>\n",
       "      <th>The Ambulance</th>\n",
       "      <td>False</td>\n",
       "      <td>0.040362</td>\n",
       "    </tr>\n",
       "    <tr>\n",
       "      <th>Sifo Company</th>\n",
       "      <td>False</td>\n",
       "      <td>0.049162</td>\n",
       "    </tr>\n",
       "  </tbody>\n",
       "</table>\n",
       "</div>"
      ],
      "text/plain": [
       "                      pov     logit\n",
       "title                              \n",
       "Meitei Christians    True  0.995124\n",
       "Musical expression   True  0.944641\n",
       "READ 180             True  0.999841\n",
       "The Ambulance       False  0.040362\n",
       "Sifo Company        False  0.049162"
      ]
     },
     "execution_count": 185,
     "metadata": {},
     "output_type": "execute_result"
    }
   ],
   "source": [
    "from sklearn.linear_model import LogisticRegression\n",
    "logit = LogisticRegression(C=.4) \n",
    "\n",
    "logit = logit.fit(feature_matrix, train['pov'])\n",
    "ensemble['logit']=pd.DataFrame(logit.predict_proba(test_feature_matrix), index=test['title'])[1]\n",
    "ensemble.head()"
   ]
  },
  {
   "cell_type": "code",
   "execution_count": 186,
   "metadata": {
    "collapsed": false
   },
   "outputs": [
    {
     "data": {
      "text/html": [
       "<div>\n",
       "<style>\n",
       "    .dataframe thead tr:only-child th {\n",
       "        text-align: right;\n",
       "    }\n",
       "\n",
       "    .dataframe thead th {\n",
       "        text-align: left;\n",
       "    }\n",
       "\n",
       "    .dataframe tbody tr th {\n",
       "        vertical-align: top;\n",
       "    }\n",
       "</style>\n",
       "<table border=\"1\" class=\"dataframe\">\n",
       "  <thead>\n",
       "    <tr style=\"text-align: right;\">\n",
       "      <th></th>\n",
       "      <th>pov</th>\n",
       "      <th>logit</th>\n",
       "      <th>forest</th>\n",
       "    </tr>\n",
       "    <tr>\n",
       "      <th>title</th>\n",
       "      <th></th>\n",
       "      <th></th>\n",
       "      <th></th>\n",
       "    </tr>\n",
       "  </thead>\n",
       "  <tbody>\n",
       "    <tr>\n",
       "      <th>Meitei Christians</th>\n",
       "      <td>True</td>\n",
       "      <td>0.995124</td>\n",
       "      <td>0.90</td>\n",
       "    </tr>\n",
       "    <tr>\n",
       "      <th>Musical expression</th>\n",
       "      <td>True</td>\n",
       "      <td>0.944641</td>\n",
       "      <td>0.32</td>\n",
       "    </tr>\n",
       "    <tr>\n",
       "      <th>READ 180</th>\n",
       "      <td>True</td>\n",
       "      <td>0.999841</td>\n",
       "      <td>0.92</td>\n",
       "    </tr>\n",
       "    <tr>\n",
       "      <th>The Ambulance</th>\n",
       "      <td>False</td>\n",
       "      <td>0.040362</td>\n",
       "      <td>0.35</td>\n",
       "    </tr>\n",
       "    <tr>\n",
       "      <th>Sifo Company</th>\n",
       "      <td>False</td>\n",
       "      <td>0.049162</td>\n",
       "      <td>0.30</td>\n",
       "    </tr>\n",
       "  </tbody>\n",
       "</table>\n",
       "</div>"
      ],
      "text/plain": [
       "                      pov     logit  forest\n",
       "title                                      \n",
       "Meitei Christians    True  0.995124    0.90\n",
       "Musical expression   True  0.944641    0.32\n",
       "READ 180             True  0.999841    0.92\n",
       "The Ambulance       False  0.040362    0.35\n",
       "Sifo Company        False  0.049162    0.30"
      ]
     },
     "execution_count": 186,
     "metadata": {},
     "output_type": "execute_result"
    }
   ],
   "source": [
    "from sklearn.ensemble import RandomForestClassifier\n",
    "\n",
    "forest = RandomForestClassifier(n_estimators = 100, criterion='entropy') \n",
    "forest.fit(feature_matrix, train['pov'])\n",
    "ensemble['forest'] = pd.DataFrame(forest.predict_proba(test_feature_matrix), index=test['title'])[1]\n",
    "ensemble.head()"
   ]
  },
  {
   "cell_type": "code",
   "execution_count": 41,
   "metadata": {
    "collapsed": true
   },
   "outputs": [],
   "source": [
    "from sklearn.svm import SVC\n",
    "svc = SVC(C=100, kernel='linear', probability=True) \n",
    "svc = svc.fit(feature_matrix, train['pov'])"
   ]
  },
  {
   "cell_type": "code",
   "execution_count": 249,
   "metadata": {
    "collapsed": false
   },
   "outputs": [
    {
     "data": {
      "text/html": [
       "<div>\n",
       "<style>\n",
       "    .dataframe thead tr:only-child th {\n",
       "        text-align: right;\n",
       "    }\n",
       "\n",
       "    .dataframe thead th {\n",
       "        text-align: left;\n",
       "    }\n",
       "\n",
       "    .dataframe tbody tr th {\n",
       "        vertical-align: top;\n",
       "    }\n",
       "</style>\n",
       "<table border=\"1\" class=\"dataframe\">\n",
       "  <thead>\n",
       "    <tr style=\"text-align: right;\">\n",
       "      <th></th>\n",
       "      <th>pov</th>\n",
       "      <th>logit</th>\n",
       "      <th>forest</th>\n",
       "      <th>svc</th>\n",
       "      <th>mnb</th>\n",
       "      <th>xgboost</th>\n",
       "      <th>logit_p</th>\n",
       "      <th>forest_p</th>\n",
       "      <th>mnb_p</th>\n",
       "      <th>svc_p</th>\n",
       "      <th>xgboost_p</th>\n",
       "      <th>mean_by_p</th>\n",
       "      <th>mean_logit_forest_p</th>\n",
       "      <th>mean_logit_mnb_p</th>\n",
       "      <th>mean_logit_forest_xgb_p</th>\n",
       "      <th>mean_logit_xgb_p</th>\n",
       "      <th>mean_logit_xgb_mnb_p</th>\n",
       "      <th>mean_logit_xgb_mnb_svc_p</th>\n",
       "    </tr>\n",
       "    <tr>\n",
       "      <th>title</th>\n",
       "      <th></th>\n",
       "      <th></th>\n",
       "      <th></th>\n",
       "      <th></th>\n",
       "      <th></th>\n",
       "      <th></th>\n",
       "      <th></th>\n",
       "      <th></th>\n",
       "      <th></th>\n",
       "      <th></th>\n",
       "      <th></th>\n",
       "      <th></th>\n",
       "      <th></th>\n",
       "      <th></th>\n",
       "      <th></th>\n",
       "      <th></th>\n",
       "      <th></th>\n",
       "      <th></th>\n",
       "    </tr>\n",
       "  </thead>\n",
       "  <tbody>\n",
       "    <tr>\n",
       "      <th>Meitei Christians</th>\n",
       "      <td>1</td>\n",
       "      <td>0.995124</td>\n",
       "      <td>0.90</td>\n",
       "      <td>True</td>\n",
       "      <td>1.000000e+00</td>\n",
       "      <td>0.992602</td>\n",
       "      <td>1.0</td>\n",
       "      <td>1.0</td>\n",
       "      <td>1.0</td>\n",
       "      <td>0.0</td>\n",
       "      <td>1.0</td>\n",
       "      <td>0.868660</td>\n",
       "      <td>0.947562</td>\n",
       "      <td>0.997562</td>\n",
       "      <td>0.993863</td>\n",
       "      <td>0.993863</td>\n",
       "      <td>0.995909</td>\n",
       "      <td>0.860825</td>\n",
       "    </tr>\n",
       "    <tr>\n",
       "      <th>Musical expression</th>\n",
       "      <td>1</td>\n",
       "      <td>0.944641</td>\n",
       "      <td>0.32</td>\n",
       "      <td>True</td>\n",
       "      <td>1.000000e+00</td>\n",
       "      <td>0.146504</td>\n",
       "      <td>1.0</td>\n",
       "      <td>0.0</td>\n",
       "      <td>1.0</td>\n",
       "      <td>0.0</td>\n",
       "      <td>0.0</td>\n",
       "      <td>0.559182</td>\n",
       "      <td>0.632321</td>\n",
       "      <td>0.972321</td>\n",
       "      <td>0.545573</td>\n",
       "      <td>0.545573</td>\n",
       "      <td>0.697049</td>\n",
       "      <td>0.618977</td>\n",
       "    </tr>\n",
       "    <tr>\n",
       "      <th>READ 180</th>\n",
       "      <td>1</td>\n",
       "      <td>0.999841</td>\n",
       "      <td>0.92</td>\n",
       "      <td>True</td>\n",
       "      <td>1.000000e+00</td>\n",
       "      <td>0.997531</td>\n",
       "      <td>1.0</td>\n",
       "      <td>1.0</td>\n",
       "      <td>1.0</td>\n",
       "      <td>1.0</td>\n",
       "      <td>1.0</td>\n",
       "      <td>0.904567</td>\n",
       "      <td>0.959920</td>\n",
       "      <td>0.999920</td>\n",
       "      <td>0.998686</td>\n",
       "      <td>0.998686</td>\n",
       "      <td>0.999124</td>\n",
       "      <td>0.900709</td>\n",
       "    </tr>\n",
       "    <tr>\n",
       "      <th>The Ambulance</th>\n",
       "      <td>0</td>\n",
       "      <td>0.040362</td>\n",
       "      <td>0.35</td>\n",
       "      <td>False</td>\n",
       "      <td>4.585424e-22</td>\n",
       "      <td>0.060047</td>\n",
       "      <td>0.0</td>\n",
       "      <td>0.0</td>\n",
       "      <td>0.0</td>\n",
       "      <td>0.0</td>\n",
       "      <td>0.0</td>\n",
       "      <td>0.160353</td>\n",
       "      <td>0.195181</td>\n",
       "      <td>0.020181</td>\n",
       "      <td>0.050204</td>\n",
       "      <td>0.050204</td>\n",
       "      <td>0.033470</td>\n",
       "      <td>0.112941</td>\n",
       "    </tr>\n",
       "    <tr>\n",
       "      <th>Sifo Company</th>\n",
       "      <td>0</td>\n",
       "      <td>0.049162</td>\n",
       "      <td>0.30</td>\n",
       "      <td>False</td>\n",
       "      <td>7.758952e-07</td>\n",
       "      <td>0.115786</td>\n",
       "      <td>0.0</td>\n",
       "      <td>0.0</td>\n",
       "      <td>0.0</td>\n",
       "      <td>0.0</td>\n",
       "      <td>0.0</td>\n",
       "      <td>0.164247</td>\n",
       "      <td>0.174581</td>\n",
       "      <td>0.024581</td>\n",
       "      <td>0.082474</td>\n",
       "      <td>0.082474</td>\n",
       "      <td>0.054983</td>\n",
       "      <td>0.130309</td>\n",
       "    </tr>\n",
       "  </tbody>\n",
       "</table>\n",
       "</div>"
      ],
      "text/plain": [
       "                    pov     logit  forest    svc           mnb   xgboost  \\\n",
       "title                                                                      \n",
       "Meitei Christians     1  0.995124    0.90   True  1.000000e+00  0.992602   \n",
       "Musical expression    1  0.944641    0.32   True  1.000000e+00  0.146504   \n",
       "READ 180              1  0.999841    0.92   True  1.000000e+00  0.997531   \n",
       "The Ambulance         0  0.040362    0.35  False  4.585424e-22  0.060047   \n",
       "Sifo Company          0  0.049162    0.30  False  7.758952e-07  0.115786   \n",
       "\n",
       "                    logit_p  forest_p  mnb_p  svc_p  xgboost_p  mean_by_p  \\\n",
       "title                                                                       \n",
       "Meitei Christians       1.0       1.0    1.0    0.0        1.0   0.868660   \n",
       "Musical expression      1.0       0.0    1.0    0.0        0.0   0.559182   \n",
       "READ 180                1.0       1.0    1.0    1.0        1.0   0.904567   \n",
       "The Ambulance           0.0       0.0    0.0    0.0        0.0   0.160353   \n",
       "Sifo Company            0.0       0.0    0.0    0.0        0.0   0.164247   \n",
       "\n",
       "                    mean_logit_forest_p  mean_logit_mnb_p  \\\n",
       "title                                                       \n",
       "Meitei Christians              0.947562          0.997562   \n",
       "Musical expression             0.632321          0.972321   \n",
       "READ 180                       0.959920          0.999920   \n",
       "The Ambulance                  0.195181          0.020181   \n",
       "Sifo Company                   0.174581          0.024581   \n",
       "\n",
       "                    mean_logit_forest_xgb_p  mean_logit_xgb_p  \\\n",
       "title                                                           \n",
       "Meitei Christians                  0.993863          0.993863   \n",
       "Musical expression                 0.545573          0.545573   \n",
       "READ 180                           0.998686          0.998686   \n",
       "The Ambulance                      0.050204          0.050204   \n",
       "Sifo Company                       0.082474          0.082474   \n",
       "\n",
       "                    mean_logit_xgb_mnb_p  mean_logit_xgb_mnb_svc_p  \n",
       "title                                                               \n",
       "Meitei Christians               0.995909                  0.860825  \n",
       "Musical expression              0.697049                  0.618977  \n",
       "READ 180                        0.999124                  0.900709  \n",
       "The Ambulance                   0.033470                  0.112941  \n",
       "Sifo Company                    0.054983                  0.130309  "
      ]
     },
     "execution_count": 249,
     "metadata": {},
     "output_type": "execute_result"
    }
   ],
   "source": [
    "ensemble['svc'] = pd.DataFrame(svc.predict(test_feature_matrix), index=test['title'])\n",
    "ensemble.head()"
   ]
  },
  {
   "cell_type": "code",
   "execution_count": 43,
   "metadata": {
    "collapsed": true
   },
   "outputs": [],
   "source": [
    "from sklearn.naive_bayes import MultinomialNB\n",
    "\n",
    "mnb = MultinomialNB().fit(train_data_features, train['pov'])"
   ]
  },
  {
   "cell_type": "code",
   "execution_count": 188,
   "metadata": {
    "collapsed": false
   },
   "outputs": [
    {
     "data": {
      "text/html": [
       "<div>\n",
       "<style>\n",
       "    .dataframe thead tr:only-child th {\n",
       "        text-align: right;\n",
       "    }\n",
       "\n",
       "    .dataframe thead th {\n",
       "        text-align: left;\n",
       "    }\n",
       "\n",
       "    .dataframe tbody tr th {\n",
       "        vertical-align: top;\n",
       "    }\n",
       "</style>\n",
       "<table border=\"1\" class=\"dataframe\">\n",
       "  <thead>\n",
       "    <tr style=\"text-align: right;\">\n",
       "      <th></th>\n",
       "      <th>pov</th>\n",
       "      <th>logit</th>\n",
       "      <th>forest</th>\n",
       "      <th>svc</th>\n",
       "      <th>mnb</th>\n",
       "    </tr>\n",
       "    <tr>\n",
       "      <th>title</th>\n",
       "      <th></th>\n",
       "      <th></th>\n",
       "      <th></th>\n",
       "      <th></th>\n",
       "      <th></th>\n",
       "    </tr>\n",
       "  </thead>\n",
       "  <tbody>\n",
       "    <tr>\n",
       "      <th>Meitei Christians</th>\n",
       "      <td>True</td>\n",
       "      <td>0.995124</td>\n",
       "      <td>0.90</td>\n",
       "      <td>0.455575</td>\n",
       "      <td>1.000000e+00</td>\n",
       "    </tr>\n",
       "    <tr>\n",
       "      <th>Musical expression</th>\n",
       "      <td>True</td>\n",
       "      <td>0.944641</td>\n",
       "      <td>0.32</td>\n",
       "      <td>0.384762</td>\n",
       "      <td>1.000000e+00</td>\n",
       "    </tr>\n",
       "    <tr>\n",
       "      <th>READ 180</th>\n",
       "      <td>True</td>\n",
       "      <td>0.999841</td>\n",
       "      <td>0.92</td>\n",
       "      <td>0.605464</td>\n",
       "      <td>1.000000e+00</td>\n",
       "    </tr>\n",
       "    <tr>\n",
       "      <th>The Ambulance</th>\n",
       "      <td>False</td>\n",
       "      <td>0.040362</td>\n",
       "      <td>0.35</td>\n",
       "      <td>0.351355</td>\n",
       "      <td>4.585424e-22</td>\n",
       "    </tr>\n",
       "    <tr>\n",
       "      <th>Sifo Company</th>\n",
       "      <td>False</td>\n",
       "      <td>0.049162</td>\n",
       "      <td>0.30</td>\n",
       "      <td>0.356289</td>\n",
       "      <td>7.758952e-07</td>\n",
       "    </tr>\n",
       "  </tbody>\n",
       "</table>\n",
       "</div>"
      ],
      "text/plain": [
       "                      pov     logit  forest       svc           mnb\n",
       "title                                                              \n",
       "Meitei Christians    True  0.995124    0.90  0.455575  1.000000e+00\n",
       "Musical expression   True  0.944641    0.32  0.384762  1.000000e+00\n",
       "READ 180             True  0.999841    0.92  0.605464  1.000000e+00\n",
       "The Ambulance       False  0.040362    0.35  0.351355  4.585424e-22\n",
       "Sifo Company        False  0.049162    0.30  0.356289  7.758952e-07"
      ]
     },
     "execution_count": 188,
     "metadata": {},
     "output_type": "execute_result"
    }
   ],
   "source": [
    "ensemble['mnb'] = pd.DataFrame(mnb.predict_proba(test_feature_matrix), index=test['title'])[1]\n",
    "ensemble.head()"
   ]
  },
  {
   "cell_type": "code",
   "execution_count": 190,
   "metadata": {
    "collapsed": false
   },
   "outputs": [
    {
     "data": {
      "text/html": [
       "<div>\n",
       "<style>\n",
       "    .dataframe thead tr:only-child th {\n",
       "        text-align: right;\n",
       "    }\n",
       "\n",
       "    .dataframe thead th {\n",
       "        text-align: left;\n",
       "    }\n",
       "\n",
       "    .dataframe tbody tr th {\n",
       "        vertical-align: top;\n",
       "    }\n",
       "</style>\n",
       "<table border=\"1\" class=\"dataframe\">\n",
       "  <thead>\n",
       "    <tr style=\"text-align: right;\">\n",
       "      <th></th>\n",
       "      <th>pov</th>\n",
       "      <th>logit</th>\n",
       "      <th>forest</th>\n",
       "      <th>svc</th>\n",
       "      <th>mnb</th>\n",
       "      <th>xgboost</th>\n",
       "    </tr>\n",
       "    <tr>\n",
       "      <th>title</th>\n",
       "      <th></th>\n",
       "      <th></th>\n",
       "      <th></th>\n",
       "      <th></th>\n",
       "      <th></th>\n",
       "      <th></th>\n",
       "    </tr>\n",
       "  </thead>\n",
       "  <tbody>\n",
       "    <tr>\n",
       "      <th>Meitei Christians</th>\n",
       "      <td>1</td>\n",
       "      <td>0.995124</td>\n",
       "      <td>0.90</td>\n",
       "      <td>0.455575</td>\n",
       "      <td>1.000000e+00</td>\n",
       "      <td>0.992602</td>\n",
       "    </tr>\n",
       "    <tr>\n",
       "      <th>Musical expression</th>\n",
       "      <td>1</td>\n",
       "      <td>0.944641</td>\n",
       "      <td>0.32</td>\n",
       "      <td>0.384762</td>\n",
       "      <td>1.000000e+00</td>\n",
       "      <td>0.146504</td>\n",
       "    </tr>\n",
       "    <tr>\n",
       "      <th>READ 180</th>\n",
       "      <td>1</td>\n",
       "      <td>0.999841</td>\n",
       "      <td>0.92</td>\n",
       "      <td>0.605464</td>\n",
       "      <td>1.000000e+00</td>\n",
       "      <td>0.997531</td>\n",
       "    </tr>\n",
       "    <tr>\n",
       "      <th>The Ambulance</th>\n",
       "      <td>0</td>\n",
       "      <td>0.040362</td>\n",
       "      <td>0.35</td>\n",
       "      <td>0.351355</td>\n",
       "      <td>4.585424e-22</td>\n",
       "      <td>0.060047</td>\n",
       "    </tr>\n",
       "    <tr>\n",
       "      <th>Sifo Company</th>\n",
       "      <td>0</td>\n",
       "      <td>0.049162</td>\n",
       "      <td>0.30</td>\n",
       "      <td>0.356289</td>\n",
       "      <td>7.758952e-07</td>\n",
       "      <td>0.115786</td>\n",
       "    </tr>\n",
       "  </tbody>\n",
       "</table>\n",
       "</div>"
      ],
      "text/plain": [
       "                    pov     logit  forest       svc           mnb   xgboost\n",
       "title                                                                      \n",
       "Meitei Christians     1  0.995124    0.90  0.455575  1.000000e+00  0.992602\n",
       "Musical expression    1  0.944641    0.32  0.384762  1.000000e+00  0.146504\n",
       "READ 180              1  0.999841    0.92  0.605464  1.000000e+00  0.997531\n",
       "The Ambulance         0  0.040362    0.35  0.351355  4.585424e-22  0.060047\n",
       "Sifo Company          0  0.049162    0.30  0.356289  7.758952e-07  0.115786"
      ]
     },
     "execution_count": 190,
     "metadata": {},
     "output_type": "execute_result"
    }
   ],
   "source": [
    "ensemble['pov'] = ensemble['pov'].map(lambda x: int(x))\n",
    "#ensemble.reset_index(inplace=True)\n",
    "ensemble.head()\n"
   ]
  },
  {
   "cell_type": "code",
   "execution_count": 66,
   "metadata": {
    "collapsed": false
   },
   "outputs": [
    {
     "data": {
      "image/png": "[encoded data removed]",
      "text/plain": [
       "<matplotlib.figure.Figure at 0x115250f90>"
      ]
     },
     "metadata": {},
     "output_type": "display_data"
    }
   ],
   "source": [
    "Fig, ax = plt.subplots()\n",
    "ax.plot(x=ensemble['title'], y=ensemble['pov'], color='Blue', linestyle = 'None', label= 'True Label')\n",
    "\n",
    "#ax = ensemble.iloc[:50].plot(x='title', y='pov', color='DarkBlue', label='True Label', );\n",
    "plt.show()\n",
    "#df.plot.scatter(x='c', y='d', color='DarkGreen', label='Group 2', ax=ax);"
   ]
  },
  {
   "cell_type": "code",
   "execution_count": 88,
   "metadata": {
    "collapsed": false
   },
   "outputs": [
    {
     "data": {
      "image/png": "[encoded data removed]",
      "text/plain": [
       "<matplotlib.figure.Figure at 0x11a555c10>"
      ]
     },
     "metadata": {},
     "output_type": "display_data"
    }
   ],
   "source": [
    "sns.stripplot(x=\"title\", y=\"pov\", data=ensemble.iloc[:20], color='black', label='True Label')\n",
    "sns.stripplot(x=\"title\", y=\"logit\", data=ensemble.iloc[:20], color='orange', label='logit')\n",
    "sns.stripplot(x=\"title\", y=\"forest\", data=ensemble.iloc[:20], color='green', label='forest')\n",
    "sns.stripplot(x=\"title\", y=\"mnb\", data=ensemble.iloc[:20], color='purple', label='naive bayes')\n",
    "#sns.stripplot(x=\"title\", y=\"svcp\", data=ensemble.iloc[:20], color='red', label='support vector machine')\n",
    "\n",
    "#plt.legend()\n",
    "plt.show()"
   ]
  },
  {
   "cell_type": "code",
   "execution_count": 142,
   "metadata": {
    "collapsed": false
   },
   "outputs": [
    {
     "data": {
      "text/html": [
       "<div>\n",
       "<style>\n",
       "    .dataframe thead tr:only-child th {\n",
       "        text-align: right;\n",
       "    }\n",
       "\n",
       "    .dataframe thead th {\n",
       "        text-align: left;\n",
       "    }\n",
       "\n",
       "    .dataframe tbody tr th {\n",
       "        vertical-align: top;\n",
       "    }\n",
       "</style>\n",
       "<table border=\"1\" class=\"dataframe\">\n",
       "  <thead>\n",
       "    <tr style=\"text-align: right;\">\n",
       "      <th></th>\n",
       "      <th>title</th>\n",
       "      <th>pov</th>\n",
       "      <th>logit</th>\n",
       "      <th>forest</th>\n",
       "      <th>mnb</th>\n",
       "      <th>svc</th>\n",
       "      <th>logit_p</th>\n",
       "      <th>forest_p</th>\n",
       "      <th>mnb_p</th>\n",
       "      <th>svc_p</th>\n",
       "      <th>mean_by_p</th>\n",
       "      <th>mean_logit_forest_p</th>\n",
       "      <th>mean_logit_mnb_p</th>\n",
       "    </tr>\n",
       "  </thead>\n",
       "  <tbody>\n",
       "    <tr>\n",
       "      <th>0</th>\n",
       "      <td>Meitei Christians</td>\n",
       "      <td>1</td>\n",
       "      <td>0.004876</td>\n",
       "      <td>0.07</td>\n",
       "      <td>2.047682e-43</td>\n",
       "      <td>0.544425</td>\n",
       "      <td>0.0</td>\n",
       "      <td>0.0</td>\n",
       "      <td>0.0</td>\n",
       "      <td>1.0</td>\n",
       "      <td>0.154825</td>\n",
       "      <td>0.037438</td>\n",
       "      <td>0.002438</td>\n",
       "    </tr>\n",
       "    <tr>\n",
       "      <th>1</th>\n",
       "      <td>Musical expression</td>\n",
       "      <td>1</td>\n",
       "      <td>0.055359</td>\n",
       "      <td>0.59</td>\n",
       "      <td>7.765109e-14</td>\n",
       "      <td>0.615238</td>\n",
       "      <td>0.0</td>\n",
       "      <td>1.0</td>\n",
       "      <td>0.0</td>\n",
       "      <td>1.0</td>\n",
       "      <td>0.315149</td>\n",
       "      <td>0.322679</td>\n",
       "      <td>0.027679</td>\n",
       "    </tr>\n",
       "    <tr>\n",
       "      <th>2</th>\n",
       "      <td>READ 180</td>\n",
       "      <td>1</td>\n",
       "      <td>0.000159</td>\n",
       "      <td>0.10</td>\n",
       "      <td>8.635454e-69</td>\n",
       "      <td>0.394536</td>\n",
       "      <td>0.0</td>\n",
       "      <td>0.0</td>\n",
       "      <td>0.0</td>\n",
       "      <td>0.0</td>\n",
       "      <td>0.123674</td>\n",
       "      <td>0.050080</td>\n",
       "      <td>0.000080</td>\n",
       "    </tr>\n",
       "    <tr>\n",
       "      <th>3</th>\n",
       "      <td>The Ambulance</td>\n",
       "      <td>0</td>\n",
       "      <td>0.959638</td>\n",
       "      <td>0.58</td>\n",
       "      <td>1.000000e+00</td>\n",
       "      <td>0.648645</td>\n",
       "      <td>1.0</td>\n",
       "      <td>1.0</td>\n",
       "      <td>1.0</td>\n",
       "      <td>1.0</td>\n",
       "      <td>0.797071</td>\n",
       "      <td>0.769819</td>\n",
       "      <td>0.979819</td>\n",
       "    </tr>\n",
       "    <tr>\n",
       "      <th>4</th>\n",
       "      <td>Sifo Company</td>\n",
       "      <td>0</td>\n",
       "      <td>0.950838</td>\n",
       "      <td>0.82</td>\n",
       "      <td>9.999992e-01</td>\n",
       "      <td>0.643711</td>\n",
       "      <td>1.0</td>\n",
       "      <td>1.0</td>\n",
       "      <td>1.0</td>\n",
       "      <td>1.0</td>\n",
       "      <td>0.853637</td>\n",
       "      <td>0.885419</td>\n",
       "      <td>0.975419</td>\n",
       "    </tr>\n",
       "  </tbody>\n",
       "</table>\n",
       "</div>"
      ],
      "text/plain": [
       "                title  pov     logit  forest           mnb       svc  logit_p  \\\n",
       "0   Meitei Christians    1  0.004876    0.07  2.047682e-43  0.544425      0.0   \n",
       "1  Musical expression    1  0.055359    0.59  7.765109e-14  0.615238      0.0   \n",
       "2            READ 180    1  0.000159    0.10  8.635454e-69  0.394536      0.0   \n",
       "3       The Ambulance    0  0.959638    0.58  1.000000e+00  0.648645      1.0   \n",
       "4        Sifo Company    0  0.950838    0.82  9.999992e-01  0.643711      1.0   \n",
       "\n",
       "   forest_p  mnb_p  svc_p  mean_by_p  mean_logit_forest_p  mean_logit_mnb_p  \n",
       "0       0.0    0.0    1.0   0.154825             0.037438          0.002438  \n",
       "1       1.0    0.0    1.0   0.315149             0.322679          0.027679  \n",
       "2       0.0    0.0    0.0   0.123674             0.050080          0.000080  \n",
       "3       1.0    1.0    1.0   0.797071             0.769819          0.979819  \n",
       "4       1.0    1.0    1.0   0.853637             0.885419          0.975419  "
      ]
     },
     "execution_count": 142,
     "metadata": {},
     "output_type": "execute_result"
    }
   ],
   "source": [
    "logit_misclassified = ensemble[ensemble['pov']!=np.round(ensemble['logit'])]\n",
    "logit_misclassified.head()"
   ]
  },
  {
   "cell_type": "code",
   "execution_count": 104,
   "metadata": {
    "collapsed": false
   },
   "outputs": [
    {
     "data": {
      "text/html": [
       "<div>\n",
       "<style>\n",
       "    .dataframe thead tr:only-child th {\n",
       "        text-align: right;\n",
       "    }\n",
       "\n",
       "    .dataframe thead th {\n",
       "        text-align: left;\n",
       "    }\n",
       "\n",
       "    .dataframe tbody tr th {\n",
       "        vertical-align: top;\n",
       "    }\n",
       "</style>\n",
       "<table border=\"1\" class=\"dataframe\">\n",
       "  <thead>\n",
       "    <tr style=\"text-align: right;\">\n",
       "      <th></th>\n",
       "      <th>pov</th>\n",
       "      <th>logit</th>\n",
       "      <th>forest</th>\n",
       "      <th>mnb</th>\n",
       "      <th>svc</th>\n",
       "    </tr>\n",
       "  </thead>\n",
       "  <tbody>\n",
       "    <tr>\n",
       "      <th>pov</th>\n",
       "      <td>1.000000</td>\n",
       "      <td>0.764913</td>\n",
       "      <td>0.808483</td>\n",
       "      <td>0.524455</td>\n",
       "      <td>0.515737</td>\n",
       "    </tr>\n",
       "    <tr>\n",
       "      <th>logit</th>\n",
       "      <td>0.764913</td>\n",
       "      <td>1.000000</td>\n",
       "      <td>0.839441</td>\n",
       "      <td>0.603277</td>\n",
       "      <td>0.688552</td>\n",
       "    </tr>\n",
       "    <tr>\n",
       "      <th>forest</th>\n",
       "      <td>0.808483</td>\n",
       "      <td>0.839441</td>\n",
       "      <td>1.000000</td>\n",
       "      <td>0.627960</td>\n",
       "      <td>0.585851</td>\n",
       "    </tr>\n",
       "    <tr>\n",
       "      <th>mnb</th>\n",
       "      <td>0.524455</td>\n",
       "      <td>0.603277</td>\n",
       "      <td>0.627960</td>\n",
       "      <td>1.000000</td>\n",
       "      <td>0.477334</td>\n",
       "    </tr>\n",
       "    <tr>\n",
       "      <th>svc</th>\n",
       "      <td>0.515737</td>\n",
       "      <td>0.688552</td>\n",
       "      <td>0.585851</td>\n",
       "      <td>0.477334</td>\n",
       "      <td>1.000000</td>\n",
       "    </tr>\n",
       "  </tbody>\n",
       "</table>\n",
       "</div>"
      ],
      "text/plain": [
       "             pov     logit    forest       mnb       svc\n",
       "pov     1.000000  0.764913  0.808483  0.524455  0.515737\n",
       "logit   0.764913  1.000000  0.839441  0.603277  0.688552\n",
       "forest  0.808483  0.839441  1.000000  0.627960  0.585851\n",
       "mnb     0.524455  0.603277  0.627960  1.000000  0.477334\n",
       "svc     0.515737  0.688552  0.585851  0.477334  1.000000"
      ]
     },
     "execution_count": 104,
     "metadata": {},
     "output_type": "execute_result"
    }
   ],
   "source": [
    "ensemble.drop('svcp', axis=1, inplace=True)\n",
    "ensemble.corr()"
   ]
  },
  {
   "cell_type": "code",
   "execution_count": 108,
   "metadata": {
    "collapsed": false
   },
   "outputs": [
    {
     "data": {
      "text/html": [
       "<div>\n",
       "<style>\n",
       "    .dataframe thead tr:only-child th {\n",
       "        text-align: right;\n",
       "    }\n",
       "\n",
       "    .dataframe thead th {\n",
       "        text-align: left;\n",
       "    }\n",
       "\n",
       "    .dataframe tbody tr th {\n",
       "        vertical-align: top;\n",
       "    }\n",
       "</style>\n",
       "<table border=\"1\" class=\"dataframe\">\n",
       "  <thead>\n",
       "    <tr style=\"text-align: right;\">\n",
       "      <th></th>\n",
       "      <th>pov</th>\n",
       "      <th>logit</th>\n",
       "      <th>forest</th>\n",
       "      <th>mnb</th>\n",
       "      <th>svc</th>\n",
       "    </tr>\n",
       "  </thead>\n",
       "  <tbody>\n",
       "    <tr>\n",
       "      <th>pov</th>\n",
       "      <td>1.000000</td>\n",
       "      <td>-0.918039</td>\n",
       "      <td>-0.040849</td>\n",
       "      <td>-0.102278</td>\n",
       "      <td>-0.588672</td>\n",
       "    </tr>\n",
       "    <tr>\n",
       "      <th>logit</th>\n",
       "      <td>-0.918039</td>\n",
       "      <td>1.000000</td>\n",
       "      <td>0.165319</td>\n",
       "      <td>0.205900</td>\n",
       "      <td>0.680982</td>\n",
       "    </tr>\n",
       "    <tr>\n",
       "      <th>forest</th>\n",
       "      <td>-0.040849</td>\n",
       "      <td>0.165319</td>\n",
       "      <td>1.000000</td>\n",
       "      <td>0.330519</td>\n",
       "      <td>0.208250</td>\n",
       "    </tr>\n",
       "    <tr>\n",
       "      <th>mnb</th>\n",
       "      <td>-0.102278</td>\n",
       "      <td>0.205900</td>\n",
       "      <td>0.330519</td>\n",
       "      <td>1.000000</td>\n",
       "      <td>0.124092</td>\n",
       "    </tr>\n",
       "    <tr>\n",
       "      <th>svc</th>\n",
       "      <td>-0.588672</td>\n",
       "      <td>0.680982</td>\n",
       "      <td>0.208250</td>\n",
       "      <td>0.124092</td>\n",
       "      <td>1.000000</td>\n",
       "    </tr>\n",
       "  </tbody>\n",
       "</table>\n",
       "</div>"
      ],
      "text/plain": [
       "             pov     logit    forest       mnb       svc\n",
       "pov     1.000000 -0.918039 -0.040849 -0.102278 -0.588672\n",
       "logit  -0.918039  1.000000  0.165319  0.205900  0.680982\n",
       "forest -0.040849  0.165319  1.000000  0.330519  0.208250\n",
       "mnb    -0.102278  0.205900  0.330519  1.000000  0.124092\n",
       "svc    -0.588672  0.680982  0.208250  0.124092  1.000000"
      ]
     },
     "execution_count": 108,
     "metadata": {},
     "output_type": "execute_result"
    }
   ],
   "source": [
    "logit_misclassified.corr()"
   ]
  },
  {
   "cell_type": "code",
   "execution_count": 110,
   "metadata": {
    "collapsed": false
   },
   "outputs": [
    {
     "data": {
      "text/html": [
       "<div>\n",
       "<style>\n",
       "    .dataframe thead tr:only-child th {\n",
       "        text-align: right;\n",
       "    }\n",
       "\n",
       "    .dataframe thead th {\n",
       "        text-align: left;\n",
       "    }\n",
       "\n",
       "    .dataframe tbody tr th {\n",
       "        vertical-align: top;\n",
       "    }\n",
       "</style>\n",
       "<table border=\"1\" class=\"dataframe\">\n",
       "  <thead>\n",
       "    <tr style=\"text-align: right;\">\n",
       "      <th></th>\n",
       "      <th>title</th>\n",
       "      <th>pov</th>\n",
       "      <th>logit</th>\n",
       "      <th>forest</th>\n",
       "      <th>mnb</th>\n",
       "      <th>svc</th>\n",
       "    </tr>\n",
       "  </thead>\n",
       "  <tbody>\n",
       "    <tr>\n",
       "      <th>1</th>\n",
       "      <td>Musical expression</td>\n",
       "      <td>0</td>\n",
       "      <td>0.055359</td>\n",
       "      <td>0.59</td>\n",
       "      <td>7.765109e-14</td>\n",
       "      <td>0.615238</td>\n",
       "    </tr>\n",
       "    <tr>\n",
       "      <th>6</th>\n",
       "      <td>Functional Assessment of Cancer Therapy - Gene...</td>\n",
       "      <td>1</td>\n",
       "      <td>0.000230</td>\n",
       "      <td>0.36</td>\n",
       "      <td>8.420582e-84</td>\n",
       "      <td>0.593686</td>\n",
       "    </tr>\n",
       "    <tr>\n",
       "      <th>10</th>\n",
       "      <td>TV Channel 16/12</td>\n",
       "      <td>0</td>\n",
       "      <td>0.083336</td>\n",
       "      <td>0.64</td>\n",
       "      <td>2.529616e-21</td>\n",
       "      <td>0.629694</td>\n",
       "    </tr>\n",
       "    <tr>\n",
       "      <th>16</th>\n",
       "      <td>Mustafa Akhwand</td>\n",
       "      <td>1</td>\n",
       "      <td>0.123860</td>\n",
       "      <td>0.41</td>\n",
       "      <td>2.789547e-27</td>\n",
       "      <td>0.582938</td>\n",
       "    </tr>\n",
       "    <tr>\n",
       "      <th>18</th>\n",
       "      <td>Elena Zamolodchikova</td>\n",
       "      <td>0</td>\n",
       "      <td>0.082635</td>\n",
       "      <td>0.61</td>\n",
       "      <td>1.000000e+00</td>\n",
       "      <td>0.635210</td>\n",
       "    </tr>\n",
       "  </tbody>\n",
       "</table>\n",
       "</div>"
      ],
      "text/plain": [
       "                                                title  pov     logit  forest  \\\n",
       "1                                  Musical expression    0  0.055359    0.59   \n",
       "6   Functional Assessment of Cancer Therapy - Gene...    1  0.000230    0.36   \n",
       "10                                   TV Channel 16/12    0  0.083336    0.64   \n",
       "16                                    Mustafa Akhwand    1  0.123860    0.41   \n",
       "18                               Elena Zamolodchikova    0  0.082635    0.61   \n",
       "\n",
       "             mnb       svc  \n",
       "1   7.765109e-14  0.615238  \n",
       "6   8.420582e-84  0.593686  \n",
       "10  2.529616e-21  0.629694  \n",
       "16  2.789547e-27  0.582938  \n",
       "18  1.000000e+00  0.635210  "
      ]
     },
     "execution_count": 110,
     "metadata": {},
     "output_type": "execute_result"
    }
   ],
   "source": [
    "forest_misclassified = ensemble[ensemble['pov']!=np.round(ensemble['forest'])]\n",
    "forest_misclassified.head()"
   ]
  },
  {
   "cell_type": "code",
   "execution_count": 111,
   "metadata": {
    "collapsed": false
   },
   "outputs": [
    {
     "data": {
      "text/html": [
       "<div>\n",
       "<style>\n",
       "    .dataframe thead tr:only-child th {\n",
       "        text-align: right;\n",
       "    }\n",
       "\n",
       "    .dataframe thead th {\n",
       "        text-align: left;\n",
       "    }\n",
       "\n",
       "    .dataframe tbody tr th {\n",
       "        vertical-align: top;\n",
       "    }\n",
       "</style>\n",
       "<table border=\"1\" class=\"dataframe\">\n",
       "  <thead>\n",
       "    <tr style=\"text-align: right;\">\n",
       "      <th></th>\n",
       "      <th>pov</th>\n",
       "      <th>logit</th>\n",
       "      <th>forest</th>\n",
       "      <th>mnb</th>\n",
       "      <th>svc</th>\n",
       "    </tr>\n",
       "  </thead>\n",
       "  <tbody>\n",
       "    <tr>\n",
       "      <th>pov</th>\n",
       "      <td>1.000000</td>\n",
       "      <td>-0.082338</td>\n",
       "      <td>-0.803986</td>\n",
       "      <td>-0.164992</td>\n",
       "      <td>-0.135184</td>\n",
       "    </tr>\n",
       "    <tr>\n",
       "      <th>logit</th>\n",
       "      <td>-0.082338</td>\n",
       "      <td>1.000000</td>\n",
       "      <td>0.248246</td>\n",
       "      <td>0.324507</td>\n",
       "      <td>0.672422</td>\n",
       "    </tr>\n",
       "    <tr>\n",
       "      <th>forest</th>\n",
       "      <td>-0.803986</td>\n",
       "      <td>0.248246</td>\n",
       "      <td>1.000000</td>\n",
       "      <td>0.367904</td>\n",
       "      <td>0.263069</td>\n",
       "    </tr>\n",
       "    <tr>\n",
       "      <th>mnb</th>\n",
       "      <td>-0.164992</td>\n",
       "      <td>0.324507</td>\n",
       "      <td>0.367904</td>\n",
       "      <td>1.000000</td>\n",
       "      <td>0.218705</td>\n",
       "    </tr>\n",
       "    <tr>\n",
       "      <th>svc</th>\n",
       "      <td>-0.135184</td>\n",
       "      <td>0.672422</td>\n",
       "      <td>0.263069</td>\n",
       "      <td>0.218705</td>\n",
       "      <td>1.000000</td>\n",
       "    </tr>\n",
       "  </tbody>\n",
       "</table>\n",
       "</div>"
      ],
      "text/plain": [
       "             pov     logit    forest       mnb       svc\n",
       "pov     1.000000 -0.082338 -0.803986 -0.164992 -0.135184\n",
       "logit  -0.082338  1.000000  0.248246  0.324507  0.672422\n",
       "forest -0.803986  0.248246  1.000000  0.367904  0.263069\n",
       "mnb    -0.164992  0.324507  0.367904  1.000000  0.218705\n",
       "svc    -0.135184  0.672422  0.263069  0.218705  1.000000"
      ]
     },
     "execution_count": 111,
     "metadata": {},
     "output_type": "execute_result"
    }
   ],
   "source": [
    "forest_misclassified.corr()"
   ]
  },
  {
   "cell_type": "code",
   "execution_count": 151,
   "metadata": {
    "collapsed": false
   },
   "outputs": [
    {
     "data": {
      "text/html": [
       "<div>\n",
       "<style>\n",
       "    .dataframe thead tr:only-child th {\n",
       "        text-align: right;\n",
       "    }\n",
       "\n",
       "    .dataframe thead th {\n",
       "        text-align: left;\n",
       "    }\n",
       "\n",
       "    .dataframe tbody tr th {\n",
       "        vertical-align: top;\n",
       "    }\n",
       "</style>\n",
       "<table border=\"1\" class=\"dataframe\">\n",
       "  <thead>\n",
       "    <tr style=\"text-align: right;\">\n",
       "      <th></th>\n",
       "      <th>title</th>\n",
       "      <th>logit</th>\n",
       "    </tr>\n",
       "  </thead>\n",
       "  <tbody>\n",
       "    <tr>\n",
       "      <th>0</th>\n",
       "      <td>Meitei Christians</td>\n",
       "      <td>0.004876</td>\n",
       "    </tr>\n",
       "    <tr>\n",
       "      <th>1</th>\n",
       "      <td>Musical expression</td>\n",
       "      <td>0.055359</td>\n",
       "    </tr>\n",
       "    <tr>\n",
       "      <th>9</th>\n",
       "      <td>Rama Kishore Singh</td>\n",
       "      <td>0.195443</td>\n",
       "    </tr>\n",
       "    <tr>\n",
       "      <th>10</th>\n",
       "      <td>TV Channel 16/12</td>\n",
       "      <td>0.083336</td>\n",
       "    </tr>\n",
       "    <tr>\n",
       "      <th>18</th>\n",
       "      <td>Elena Zamolodchikova</td>\n",
       "      <td>0.082635</td>\n",
       "    </tr>\n",
       "  </tbody>\n",
       "</table>\n",
       "</div>"
      ],
      "text/plain": [
       "                   title     logit\n",
       "0      Meitei Christians  0.004876\n",
       "1     Musical expression  0.055359\n",
       "9     Rama Kishore Singh  0.195443\n",
       "10      TV Channel 16/12  0.083336\n",
       "18  Elena Zamolodchikova  0.082635"
      ]
     },
     "execution_count": 151,
     "metadata": {},
     "output_type": "execute_result"
    }
   ],
   "source": [
    "logit_misclassified[(logit_misclassified['pov']==1) & (logit_misclassified['svc']>.5)][['title', 'logit']].head()"
   ]
  },
  {
   "cell_type": "code",
   "execution_count": null,
   "metadata": {
    "collapsed": true
   },
   "outputs": [],
   "source": []
  },
  {
   "cell_type": "code",
   "execution_count": 256,
   "metadata": {
    "collapsed": false
   },
   "outputs": [
    {
     "data": {
      "image/png": "[encoded data removed]",
      "text/plain": [
       "<matplotlib.figure.Figure at 0x116ca3610>"
      ]
     },
     "metadata": {},
     "output_type": "display_data"
    }
   ],
   "source": [
    "plt.hist([ensemble['logit'], ensemble['forest'], ensemble['mnb'], ensemble['xgboost']], \n",
    "        label = ['logit', 'forest', 'mnb', 'xgboost'])\n",
    "plt.legend()\n",
    "plt.show()\n",
    "\n",
    "\n"
   ]
  },
  {
   "cell_type": "code",
   "execution_count": 126,
   "metadata": {
    "collapsed": false
   },
   "outputs": [
    {
     "name": "stdout",
     "output_type": "stream",
     "text": [
      "[0]\ttrain-error:0.250343\tval-error:0.307351\n",
      "Multiple eval metrics have been passed: 'val-error' will be used for early stopping.\n",
      "\n",
      "Will train until val-error hasn't improved in 50 rounds.\n",
      "[20]\ttrain-error:0.147328\tval-error:0.211027\n",
      "[40]\ttrain-error:0.095706\tval-error:0.186312\n",
      "[60]\ttrain-error:0.067839\tval-error:0.159696\n",
      "[80]\ttrain-error:0.049338\tval-error:0.149556\n",
      "[100]\ttrain-error:0.034491\tval-error:0.143853\n",
      "[120]\ttrain-error:0.023984\tval-error:0.13308\n",
      "[140]\ttrain-error:0.01873\tval-error:0.132446\n",
      "[160]\ttrain-error:0.014619\tval-error:0.126109\n",
      "[180]\ttrain-error:0.011421\tval-error:0.119772\n",
      "[200]\ttrain-error:0.009593\tval-error:0.119138\n",
      "[220]\ttrain-error:0.007081\tval-error:0.116603\n",
      "[240]\ttrain-error:0.006167\tval-error:0.115336\n",
      "[260]\ttrain-error:0.005482\tval-error:0.114702\n",
      "[280]\ttrain-error:0.003426\tval-error:0.112167\n",
      "[300]\ttrain-error:0.002969\tval-error:0.112801\n",
      "[320]\ttrain-error:0.002056\tval-error:0.1109\n",
      "[340]\ttrain-error:0.000685\tval-error:0.108999\n",
      "[360]\ttrain-error:0.000685\tval-error:0.112801\n",
      "Stopping. Best iteration:\n",
      "[327]\ttrain-error:0.001599\tval-error:0.106464\n",
      "\n"
     ]
    }
   ],
   "source": [
    "import xgboost as xgb\n",
    "dtrain = xgb.DMatrix(feature_matrix, train['pov'])\n",
    "d_val = xgb.DMatrix(test_feature_matrix, test['pov'])\n",
    "\n",
    "# hyperparameters\n",
    "xgb_params = {\n",
    "    'eta': 0.35,\n",
    "    'max_depth': 4,\n",
    "    'subsample': .8,\n",
    "    'colsample_bytree': 0.7,\n",
    "    'objective': 'binary:logistic',\n",
    "    'eval_metric': 'error',\n",
    "    'silent': 1\n",
    "}\n",
    "\n",
    "sub_model = xgb.train(xgb_params, dtrain, num_boost_round=2000, evals=[[dtrain, 'train'], (d_val, 'val')],\n",
    "                      early_stopping_rounds=50, verbose_eval=20)"
   ]
  },
  {
   "cell_type": "code",
   "execution_count": 129,
   "metadata": {
    "collapsed": false
   },
   "outputs": [
    {
     "name": "stdout",
     "output_type": "stream",
     "text": [
      "[0]\ttrain-error:0.238922\tval-error:0.298479\n",
      "Multiple eval metrics have been passed: 'val-error' will be used for early stopping.\n",
      "\n",
      "Will train until val-error hasn't improved in 50 rounds.\n",
      "[20]\ttrain-error:0.103472\tval-error:0.183777\n",
      "[40]\ttrain-error:0.060987\tval-error:0.1673\n",
      "[60]\ttrain-error:0.038831\tval-error:0.145754\n",
      "[80]\ttrain-error:0.029466\tval-error:0.140684\n",
      "[100]\ttrain-error:0.017588\tval-error:0.129278\n",
      "[120]\ttrain-error:0.012334\tval-error:0.123574\n",
      "[140]\ttrain-error:0.008908\tval-error:0.117871\n",
      "[160]\ttrain-error:0.006624\tval-error:0.116603\n",
      "[180]\ttrain-error:0.004797\tval-error:0.113435\n",
      "[200]\ttrain-error:0.003655\tval-error:0.114702\n",
      "[220]\ttrain-error:0.002513\tval-error:0.112801\n",
      "[240]\ttrain-error:0.001827\tval-error:0.1109\n",
      "[260]\ttrain-error:0.00137\tval-error:0.107731\n",
      "[280]\ttrain-error:0.000685\tval-error:0.1109\n",
      "[300]\ttrain-error:0.000457\tval-error:0.107731\n",
      "[320]\ttrain-error:0.000457\tval-error:0.108999\n",
      "[340]\ttrain-error:0.000457\tval-error:0.109632\n",
      "Stopping. Best iteration:\n",
      "[305]\ttrain-error:0.000457\tval-error:0.105196\n",
      "\n"
     ]
    }
   ],
   "source": [
    "xgb_params = {\n",
    "    'eta': 0.35,\n",
    "    'max_depth': 5,\n",
    "    'subsample': .8,\n",
    "    'colsample_bytree': 0.5,\n",
    "    'objective': 'binary:logistic',\n",
    "    'eval_metric': 'error',\n",
    "    'silent': 1\n",
    "}\n",
    "\n",
    "sub_model = xgb.train(xgb_params, dtrain, num_boost_round=2000, evals=[[dtrain, 'train'], (d_val, 'val')],\n",
    "                      early_stopping_rounds=50, verbose_eval=20)"
   ]
  },
  {
   "cell_type": "code",
   "execution_count": 189,
   "metadata": {
    "collapsed": false
   },
   "outputs": [
    {
     "data": {
      "text/html": [
       "<div>\n",
       "<style>\n",
       "    .dataframe thead tr:only-child th {\n",
       "        text-align: right;\n",
       "    }\n",
       "\n",
       "    .dataframe thead th {\n",
       "        text-align: left;\n",
       "    }\n",
       "\n",
       "    .dataframe tbody tr th {\n",
       "        vertical-align: top;\n",
       "    }\n",
       "</style>\n",
       "<table border=\"1\" class=\"dataframe\">\n",
       "  <thead>\n",
       "    <tr style=\"text-align: right;\">\n",
       "      <th></th>\n",
       "      <th>pov</th>\n",
       "      <th>logit</th>\n",
       "      <th>forest</th>\n",
       "      <th>svc</th>\n",
       "      <th>mnb</th>\n",
       "      <th>xgboost</th>\n",
       "    </tr>\n",
       "    <tr>\n",
       "      <th>title</th>\n",
       "      <th></th>\n",
       "      <th></th>\n",
       "      <th></th>\n",
       "      <th></th>\n",
       "      <th></th>\n",
       "      <th></th>\n",
       "    </tr>\n",
       "  </thead>\n",
       "  <tbody>\n",
       "    <tr>\n",
       "      <th>Meitei Christians</th>\n",
       "      <td>True</td>\n",
       "      <td>0.995124</td>\n",
       "      <td>0.90</td>\n",
       "      <td>0.455575</td>\n",
       "      <td>1.000000e+00</td>\n",
       "      <td>0.992602</td>\n",
       "    </tr>\n",
       "    <tr>\n",
       "      <th>Musical expression</th>\n",
       "      <td>True</td>\n",
       "      <td>0.944641</td>\n",
       "      <td>0.32</td>\n",
       "      <td>0.384762</td>\n",
       "      <td>1.000000e+00</td>\n",
       "      <td>0.146504</td>\n",
       "    </tr>\n",
       "    <tr>\n",
       "      <th>READ 180</th>\n",
       "      <td>True</td>\n",
       "      <td>0.999841</td>\n",
       "      <td>0.92</td>\n",
       "      <td>0.605464</td>\n",
       "      <td>1.000000e+00</td>\n",
       "      <td>0.997531</td>\n",
       "    </tr>\n",
       "    <tr>\n",
       "      <th>The Ambulance</th>\n",
       "      <td>False</td>\n",
       "      <td>0.040362</td>\n",
       "      <td>0.35</td>\n",
       "      <td>0.351355</td>\n",
       "      <td>4.585424e-22</td>\n",
       "      <td>0.060047</td>\n",
       "    </tr>\n",
       "    <tr>\n",
       "      <th>Sifo Company</th>\n",
       "      <td>False</td>\n",
       "      <td>0.049162</td>\n",
       "      <td>0.30</td>\n",
       "      <td>0.356289</td>\n",
       "      <td>7.758952e-07</td>\n",
       "      <td>0.115786</td>\n",
       "    </tr>\n",
       "  </tbody>\n",
       "</table>\n",
       "</div>"
      ],
      "text/plain": [
       "                      pov     logit  forest       svc           mnb   xgboost\n",
       "title                                                                        \n",
       "Meitei Christians    True  0.995124    0.90  0.455575  1.000000e+00  0.992602\n",
       "Musical expression   True  0.944641    0.32  0.384762  1.000000e+00  0.146504\n",
       "READ 180             True  0.999841    0.92  0.605464  1.000000e+00  0.997531\n",
       "The Ambulance       False  0.040362    0.35  0.351355  4.585424e-22  0.060047\n",
       "Sifo Company        False  0.049162    0.30  0.356289  7.758952e-07  0.115786"
      ]
     },
     "execution_count": 189,
     "metadata": {},
     "output_type": "execute_result"
    }
   ],
   "source": [
    "ensemble['xgboost']=sub_model.predict(d_val)\n",
    "ensemble.head()"
   ]
  },
  {
   "cell_type": "code",
   "execution_count": 251,
   "metadata": {
    "collapsed": false
   },
   "outputs": [
    {
     "data": {
      "image/png": "[encoded data removed]",
      "text/plain": [
       "<matplotlib.figure.Figure at 0x1185c9ed0>"
      ]
     },
     "metadata": {},
     "output_type": "display_data"
    }
   ],
   "source": [
    "from matplotlib_venn import venn3, venn3_circles\n",
    "set1 = set(ensemble[ensemble['pov']!=np.round(ensemble['xgboost'])].index)\n",
    "set2 = set(ensemble[ensemble['pov']!=np.round(ensemble['logit'])].index)\n",
    "set3 = set(ensemble[ensemble['pov']!=np.round(ensemble['svc'])].index)\n",
    "\n",
    "venn3([set1, set2, set3], ('xgboost', 'logistic', 'svc'))\n",
    "plt.title(\"Misclassified Pages\")\n",
    "plt.show()"
   ]
  },
  {
   "cell_type": "code",
   "execution_count": 252,
   "metadata": {
    "collapsed": false
   },
   "outputs": [
    {
     "data": {
      "image/png": "[encoded data removed]",
      "text/plain": [
       "<matplotlib.figure.Figure at 0x117bc4350>"
      ]
     },
     "metadata": {},
     "output_type": "display_data"
    }
   ],
   "source": [
    "from matplotlib_venn import venn3, venn3_circles\n",
    "set1 = set(ensemble[(ensemble['pov']!=np.round(ensemble['xgboost'])) & (ensemble['pov']==0)].index)\n",
    "set2 = set(ensemble[(ensemble['pov']!=np.round(ensemble['logit'])) & (ensemble['pov']==0)].index)\n",
    "set3 = set(ensemble[(ensemble['pov']!=np.round(ensemble['svc'])) & (ensemble['pov']==0)].index)\n",
    "\n",
    "venn3([set1, set2, set3], ('xgboost', 'logistic', 'svc'))\n",
    "plt.title(\"Type I Errors - False Positives\")\n",
    "plt.show()"
   ]
  },
  {
   "cell_type": "code",
   "execution_count": 253,
   "metadata": {
    "collapsed": false
   },
   "outputs": [
    {
     "data": {
      "image/png": "[encoded data removed]",
      "text/plain": [
       "<matplotlib.figure.Figure at 0x1179d6390>"
      ]
     },
     "metadata": {},
     "output_type": "display_data"
    }
   ],
   "source": [
    "from matplotlib_venn import venn3, venn3_circles\n",
    "set1 = set(ensemble[(ensemble['pov']!=np.round(ensemble['xgboost'])) & (ensemble['pov']==1)].index)\n",
    "set2 = set(ensemble[(ensemble['pov']!=np.round(ensemble['logit'])) & (ensemble['pov']==1)].index)\n",
    "set3 = set(ensemble[(ensemble['pov']!=np.round(ensemble['svc'])) & (ensemble['pov']==1)].index)\n",
    "\n",
    "venn3([set1, set2, set3], ('xgboost', 'logistic', 'svc'))\n",
    "plt.title(\"Type II Errors - False Negatives\")\n",
    "plt.show()"
   ]
  },
  {
   "cell_type": "code",
   "execution_count": 255,
   "metadata": {
    "collapsed": false
   },
   "outputs": [
    {
     "name": "stdout",
     "output_type": "stream",
     "text": [
      "logit 1378\n",
      "forest 1387\n",
      "mnb 1194\n",
      "svc 1358\n",
      "xgboost 1408\n",
      "mean_by_p 1400\n",
      "mean_logit_forest_p 1395\n",
      "mean_logit_xgb_p 1406\n",
      "mean_logit_xgb_mnb_p 1399\n",
      "mean_logit_xgb_mnb_svc_p 1397\n",
      "\n",
      "mean_logit_xgb_mnb_p 670\n",
      "mean_xgb_p 669\n"
     ]
    }
   ],
   "source": [
    "ensemble['logit_p']=np.round(ensemble['logit'])\n",
    "ensemble['forest_p']=np.round(ensemble['forest'])\n",
    "ensemble['mnb_p']=np.round(ensemble['mnb'])\n",
    "ensemble['svc_p']=np.round(ensemble['svc'])\n",
    "ensemble['xgboost_p']=np.round(ensemble['xgboost'])\n",
    "ensemble.head()\n",
    "\n",
    "models = ['logit', 'forest', 'mnb', 'svc', 'xgboost']\n",
    "for model in models:\n",
    "    print model, sum(ensemble['pov']==ensemble[model+\"_p\"])\n",
    "    \n",
    "ensemble['mean_by_p']=ensemble[models].mean(axis=1)\n",
    "\n",
    "\n",
    "print 'mean_by_p', sum(ensemble['pov']==np.round(ensemble['mean_by_p']))\n",
    "\n",
    "ensemble['mean_logit_forest_p']=ensemble[['logit', 'forest']].mean(axis=1)\n",
    "\n",
    "print 'mean_logit_forest_p', sum(ensemble['pov']==np.round(ensemble['mean_logit_forest_p']))\n",
    "\n",
    "ensemble['mean_logit_xgb_p']=ensemble[['logit', 'xgboost']].mean(axis=1)\n",
    "\n",
    "print 'mean_logit_xgb_p', sum(ensemble['pov']==np.round(ensemble['mean_logit_xgb_p']))\n",
    "\n",
    "ensemble['mean_logit_xgb_mnb_p']=ensemble[['logit', 'xgboost', 'mnb']].mean(axis=1)\n",
    "\n",
    "print 'mean_logit_xgb_mnb_p', sum(ensemble['pov']==np.round(ensemble['mean_logit_xgb_mnb_p']))\n",
    "\n",
    "ensemble['mean_logit_xgb_mnb_svc_p']=ensemble[['logit', 'xgboost', 'mnb', 'svc']].mean(axis=1)\n",
    "\n",
    "print 'mean_logit_xgb_mnb_svc_p', sum(ensemble['pov']==np.round(ensemble['mean_logit_xgb_mnb_svc_p']))\n",
    "\n",
    "print\n",
    "print 'mean_logit_xgb_mnb_p', sum((ensemble['pov']==np.round(ensemble['mean_logit_xgb_mnb_p'])) & ensemble['pov']==1)\n",
    "print 'mean_xgb_p', sum((ensemble['pov']==np.round(ensemble['xgboost_p'])) & ensemble['pov']==1)"
   ]
  },
  {
   "cell_type": "code",
   "execution_count": 223,
   "metadata": {
    "collapsed": false
   },
   "outputs": [
    {
     "data": {
      "image/png": "[encoded data removed]",
      "text/plain": [
       "<matplotlib.figure.Figure at 0x114b22150>"
      ]
     },
     "metadata": {},
     "output_type": "display_data"
    }
   ],
   "source": [
    "plt.hist([ensemble['mean_logit_xgb_mnb_p'], ensemble['xgboost']], )\n",
    "#plt.legend()\n",
    "plt.show()\n"
   ]
  },
  {
   "cell_type": "code",
   "execution_count": 240,
   "metadata": {
    "collapsed": false
   },
   "outputs": [
    {
     "data": {
      "image/png": "[encoded data removed]",
      "text/plain": [
       "<matplotlib.figure.Figure at 0x1148eb410>"
      ]
     },
     "metadata": {},
     "output_type": "display_data"
    }
   ],
   "source": [
    "ensemble_1 = ensemble[ensemble['pov']==1]\n",
    "ensemble_0 = ensemble[ensemble['pov']==0]\n",
    "\n",
    "sns.distplot([ensemble_1['mean_logit_xgb_mnb_p']], kde=False)\n",
    "sns.distplot([ensemble_0['mean_logit_xgb_mnb_p']], kde=False)\n",
    "\n",
    "#plt.legend()\n",
    "plt.show()"
   ]
  },
  {
   "cell_type": "code",
   "execution_count": null,
   "metadata": {
    "collapsed": true
   },
   "outputs": [],
   "source": []
  }
 ],
 "metadata": {
  "kernelspec": {
   "display_name": "Python 2",
   "language": "python",
   "name": "python2"
  },
  "language_info": {
   "codemirror_mode": {
    "name": "ipython",
    "version": 2
   },
   "file_extension": ".py",
   "mimetype": "text/x-python",
   "name": "python",
   "nbconvert_exporter": "python",
   "pygments_lexer": "ipython2",
   "version": "2.7.12"
  }
 },
 "nbformat": 4,
 "nbformat_minor": 0
}
