{
 "cells": [
  {
   "cell_type": "code",
   "execution_count": 53,
   "metadata": {
    "collapsed": true
   },
   "outputs": [],
   "source": [
    "import pickle\n",
    "import pandas as pd\n",
    "import numpy as np\n",
    "import re"
   ]
  },
  {
   "cell_type": "code",
   "execution_count": 54,
   "metadata": {
    "collapsed": false
   },
   "outputs": [],
   "source": [
    "train = pd.read_pickle('train_clean.pkl')\n",
    "test = pd.read_pickle('test_clean.pkl')"
   ]
  },
  {
   "cell_type": "code",
   "execution_count": 55,
   "metadata": {
    "collapsed": false
   },
   "outputs": [
    {
     "data": {
      "text/html": [
       "<div>\n",
       "<style>\n",
       "    .dataframe thead tr:only-child th {\n",
       "        text-align: right;\n",
       "    }\n",
       "\n",
       "    .dataframe thead th {\n",
       "        text-align: left;\n",
       "    }\n",
       "\n",
       "    .dataframe tbody tr th {\n",
       "        vertical-align: top;\n",
       "    }\n",
       "</style>\n",
       "<table border=\"1\" class=\"dataframe\">\n",
       "  <thead>\n",
       "    <tr style=\"text-align: right;\">\n",
       "      <th></th>\n",
       "      <th>id</th>\n",
       "      <th>title</th>\n",
       "      <th>text_clean</th>\n",
       "    </tr>\n",
       "  </thead>\n",
       "  <tbody>\n",
       "    <tr>\n",
       "      <th>0</th>\n",
       "      <td>619941</td>\n",
       "      <td>Loch Katrine</td>\n",
       "      <td>\\n\\n\\n\\n\\nInfobox lake\\n name  Loch Katrine\\n ...</td>\n",
       "    </tr>\n",
       "    <tr>\n",
       "      <th>1</th>\n",
       "      <td>3884222</td>\n",
       "      <td>Bhadayasa</td>\n",
       "      <td>\\n\\nInfobox royalty\\n image  FileBhadrayasha c...</td>\n",
       "    </tr>\n",
       "    <tr>\n",
       "      <th>2</th>\n",
       "      <td>4229879</td>\n",
       "      <td>Lee Jones (author)</td>\n",
       "      <td>\\n\\nLee Jones is an online poker executive and...</td>\n",
       "    </tr>\n",
       "    <tr>\n",
       "      <th>3</th>\n",
       "      <td>5320685</td>\n",
       "      <td>School District 54 Bulkley Valley</td>\n",
       "      <td>Infobox school district\\n name            Scho...</td>\n",
       "    </tr>\n",
       "    <tr>\n",
       "      <th>4</th>\n",
       "      <td>9146365</td>\n",
       "      <td>Combing</td>\n",
       "      <td>Interlace disambiguationInterlacethe combing o...</td>\n",
       "    </tr>\n",
       "  </tbody>\n",
       "</table>\n",
       "</div>"
      ],
      "text/plain": [
       "        id                              title  \\\n",
       "0   619941                       Loch Katrine   \n",
       "1  3884222                          Bhadayasa   \n",
       "2  4229879                 Lee Jones (author)   \n",
       "3  5320685  School District 54 Bulkley Valley   \n",
       "4  9146365                            Combing   \n",
       "\n",
       "                                          text_clean  \n",
       "0  \\n\\n\\n\\n\\nInfobox lake\\n name  Loch Katrine\\n ...  \n",
       "1  \\n\\nInfobox royalty\\n image  FileBhadrayasha c...  \n",
       "2  \\n\\nLee Jones is an online poker executive and...  \n",
       "3  Infobox school district\\n name            Scho...  \n",
       "4  Interlace disambiguationInterlacethe combing o...  "
      ]
     },
     "execution_count": 55,
     "metadata": {},
     "output_type": "execute_result"
    }
   ],
   "source": [
    "train.head()"
   ]
  },
  {
   "cell_type": "code",
   "execution_count": 56,
   "metadata": {
    "collapsed": false
   },
   "outputs": [
    {
     "data": {
      "text/html": [
       "<div>\n",
       "<style>\n",
       "    .dataframe thead tr:only-child th {\n",
       "        text-align: right;\n",
       "    }\n",
       "\n",
       "    .dataframe thead th {\n",
       "        text-align: left;\n",
       "    }\n",
       "\n",
       "    .dataframe tbody tr th {\n",
       "        vertical-align: top;\n",
       "    }\n",
       "</style>\n",
       "<table border=\"1\" class=\"dataframe\">\n",
       "  <thead>\n",
       "    <tr style=\"text-align: right;\">\n",
       "      <th></th>\n",
       "      <th>id</th>\n",
       "      <th>title</th>\n",
       "      <th>text_clean</th>\n",
       "    </tr>\n",
       "  </thead>\n",
       "  <tbody>\n",
       "    <tr>\n",
       "      <th>0</th>\n",
       "      <td>2936718</td>\n",
       "      <td>Meitei Christians</td>\n",
       "      <td>\\n\\n\\nThe Meitei Christians are a Christianity...</td>\n",
       "    </tr>\n",
       "    <tr>\n",
       "      <th>1</th>\n",
       "      <td>17023672</td>\n",
       "      <td>Musical expression</td>\n",
       "      <td>\\n\\n\\n\\n\\nMusical expression is the art of pla...</td>\n",
       "    </tr>\n",
       "    <tr>\n",
       "      <th>2</th>\n",
       "      <td>37590035</td>\n",
       "      <td>READ 180</td>\n",
       "      <td>\\nREAD  is a reading intervention program in w...</td>\n",
       "    </tr>\n",
       "    <tr>\n",
       "      <th>3</th>\n",
       "      <td>3191002</td>\n",
       "      <td>The Ambulance</td>\n",
       "      <td>\\nInfobox film\\n name            The Ambulanc...</td>\n",
       "    </tr>\n",
       "    <tr>\n",
       "      <th>4</th>\n",
       "      <td>24154353</td>\n",
       "      <td>Sifo Company</td>\n",
       "      <td>\\n\\nThe Sifo Company which did business as Sif...</td>\n",
       "    </tr>\n",
       "  </tbody>\n",
       "</table>\n",
       "</div>"
      ],
      "text/plain": [
       "         id               title  \\\n",
       "0   2936718   Meitei Christians   \n",
       "1  17023672  Musical expression   \n",
       "2  37590035            READ 180   \n",
       "3   3191002       The Ambulance   \n",
       "4  24154353        Sifo Company   \n",
       "\n",
       "                                          text_clean  \n",
       "0  \\n\\n\\nThe Meitei Christians are a Christianity...  \n",
       "1  \\n\\n\\n\\n\\nMusical expression is the art of pla...  \n",
       "2  \\nREAD  is a reading intervention program in w...  \n",
       "3   \\nInfobox film\\n name            The Ambulanc...  \n",
       "4  \\n\\nThe Sifo Company which did business as Sif...  "
      ]
     },
     "execution_count": 56,
     "metadata": {},
     "output_type": "execute_result"
    }
   ],
   "source": [
    "test.head()"
   ]
  },
  {
   "cell_type": "code",
   "execution_count": 57,
   "metadata": {
    "collapsed": false
   },
   "outputs": [
    {
     "name": "stdout",
     "output_type": "stream",
     "text": [
      "(1578, 3) (4379, 3)\n"
     ]
    }
   ],
   "source": [
    "print test.shape, train.shape"
   ]
  },
  {
   "cell_type": "code",
   "execution_count": 58,
   "metadata": {
    "collapsed": false
   },
   "outputs": [
    {
     "data": {
      "text/html": [
       "<div>\n",
       "<style>\n",
       "    .dataframe thead tr:only-child th {\n",
       "        text-align: right;\n",
       "    }\n",
       "\n",
       "    .dataframe thead th {\n",
       "        text-align: left;\n",
       "    }\n",
       "\n",
       "    .dataframe tbody tr th {\n",
       "        vertical-align: top;\n",
       "    }\n",
       "</style>\n",
       "<table border=\"1\" class=\"dataframe\">\n",
       "  <thead>\n",
       "    <tr style=\"text-align: right;\">\n",
       "      <th></th>\n",
       "      <th>id</th>\n",
       "      <th>title</th>\n",
       "      <th>text_clean</th>\n",
       "    </tr>\n",
       "  </thead>\n",
       "  <tbody>\n",
       "    <tr>\n",
       "      <th>0</th>\n",
       "      <td>2936718</td>\n",
       "      <td>Meitei Christians</td>\n",
       "      <td>[the, meitei, christians, are, a, christianity...</td>\n",
       "    </tr>\n",
       "    <tr>\n",
       "      <th>1</th>\n",
       "      <td>17023672</td>\n",
       "      <td>Musical expression</td>\n",
       "      <td>[musical, expression, is, the, art, of, playin...</td>\n",
       "    </tr>\n",
       "    <tr>\n",
       "      <th>2</th>\n",
       "      <td>37590035</td>\n",
       "      <td>READ 180</td>\n",
       "      <td>[read, is, a, reading, intervention, program, ...</td>\n",
       "    </tr>\n",
       "    <tr>\n",
       "      <th>3</th>\n",
       "      <td>3191002</td>\n",
       "      <td>The Ambulance</td>\n",
       "      <td>[infobox, film, name, the, ambulance, image, t...</td>\n",
       "    </tr>\n",
       "    <tr>\n",
       "      <th>4</th>\n",
       "      <td>24154353</td>\n",
       "      <td>Sifo Company</td>\n",
       "      <td>[the, sifo, company, which, did, business, as,...</td>\n",
       "    </tr>\n",
       "  </tbody>\n",
       "</table>\n",
       "</div>"
      ],
      "text/plain": [
       "         id               title  \\\n",
       "0   2936718   Meitei Christians   \n",
       "1  17023672  Musical expression   \n",
       "2  37590035            READ 180   \n",
       "3   3191002       The Ambulance   \n",
       "4  24154353        Sifo Company   \n",
       "\n",
       "                                          text_clean  \n",
       "0  [the, meitei, christians, are, a, christianity...  \n",
       "1  [musical, expression, is, the, art, of, playin...  \n",
       "2  [read, is, a, reading, intervention, program, ...  \n",
       "3  [infobox, film, name, the, ambulance, image, t...  \n",
       "4  [the, sifo, company, which, did, business, as,...  "
      ]
     },
     "execution_count": 58,
     "metadata": {},
     "output_type": "execute_result"
    }
   ],
   "source": [
    "#Remove non-letters & split into words       \n",
    "train['text_clean'] = train['text_clean'].map(lambda x: re.sub(\"[^a-zA-Z]\", \" \", x).lower().split())\n",
    "test['text_clean'] = test['text_clean'].map(lambda x: re.sub(\"[^a-zA-Z]\", \" \", x).lower().split())\n",
    "test.head()"
   ]
  },
  {
   "cell_type": "code",
   "execution_count": 59,
   "metadata": {
    "collapsed": false
   },
   "outputs": [
    {
     "name": "stdout",
     "output_type": "stream",
     "text": [
      "[u'i', u'me', u'my', u'myself', u'we', u'our', u'ours', u'ourselves', u'you', u'your', u'yours', u'yourself', u'yourselves', u'he', u'him', u'his', u'himself', u'she', u'her', u'hers', u'herself', u'it', u'its', u'itself', u'they', u'them', u'their', u'theirs', u'themselves', u'what', u'which', u'who', u'whom', u'this', u'that', u'these', u'those', u'am', u'is', u'are', u'was', u'were', u'be', u'been', u'being', u'have', u'has', u'had', u'having', u'do', u'does', u'did', u'doing', u'a', u'an', u'the', u'and', u'but', u'if', u'or', u'because', u'as', u'until', u'while', u'of', u'at', u'by', u'for', u'with', u'about', u'against', u'between', u'into', u'through', u'during', u'before', u'after', u'above', u'below', u'to', u'from', u'up', u'down', u'in', u'out', u'on', u'off', u'over', u'under', u'again', u'further', u'then', u'once', u'here', u'there', u'when', u'where', u'why', u'how', u'all', u'any', u'both', u'each', u'few', u'more', u'most', u'other', u'some', u'such', u'no', u'nor', u'not', u'only', u'own', u'same', u'so', u'than', u'too', u'very', u's', u't', u'can', u'will', u'just', u'don', u'should', u'now', u'd', u'll', u'm', u'o', u're', u've', u'y', u'ain', u'aren', u'couldn', u'didn', u'doesn', u'hadn', u'hasn', u'haven', u'isn', u'ma', u'mightn', u'mustn', u'needn', u'shan', u'shouldn', u'wasn', u'weren', u'won', u'wouldn']\n"
     ]
    }
   ],
   "source": [
    "from nltk.corpus import stopwords # Import the stop word list\n",
    "print stopwords.words(\"english\") "
   ]
  },
  {
   "cell_type": "code",
   "execution_count": 60,
   "metadata": {
    "collapsed": false
   },
   "outputs": [
    {
     "name": "stdout",
     "output_type": "stream",
     "text": [
      "set([u'all', u'just', u'being', u'over', u'both', u'through', u'yourselves', u'its', u'before', u'o', u'hadn', u'herself', u'll', u'had', u'should', u'to', u'only', u'won', u'under', u'ours', u'has', u'do', u'them', u'his', u'very', u'they', u'not', u'during', u'now', u'him', u'nor', u'd', u'did', u'didn', u'this', u'she', u'each', u'further', u'where', u'few', u'because', u'doing', u'some', u'hasn', u'are', u'our', u'ourselves', u'out', u'what', u'for', u'while', u're', u'does', u'above', u'between', u'mustn', u't', u'be', u'we', u'who', u'were', u'here', u'shouldn', u'hers', u'by', u'on', u'about', u'couldn', u'of', u'against', 'aligncenter', u's', u'isn', u'or', u'own', u'into', u'yourself', u'down', u'mightn', u'wasn', u'your', u'from', u'her', u'their', u'aren', u'there', u'been', u'whom', u'too', u'wouldn', u'themselves', u'weren', u'was', u'until', u'more', u'himself', u'that', u'but', 'alignright', u'don', u'with', u'than', u'those', u'he', u'me', u'myself', u'ma', u'these', u'up', u'will', u'below', u'ain', u'can', u'theirs', u'my', u'and', u've', u'then', u'is', u'am', u'it', u'doesn', u'an', u'as', u'itself', u'at', u'have', u'in', u'any', u'if', u'again', 'styletext', u'no', u'when', u'same', u'how', u'other', u'which', u'you', u'shan', u'needn', u'haven', u'after', u'most', 'aligncent', u'such', u'why', u'a', u'off', u'i', u'm', u'yours', u'so', u'y', u'the', u'having', u'once'])\n"
     ]
    }
   ],
   "source": [
    "stops = set(stopwords.words(\"english\") + ['alignright', 'styletext', 'aligncent', 'aligncenter'])\n",
    "print stops"
   ]
  },
  {
   "cell_type": "code",
   "execution_count": 61,
   "metadata": {
    "collapsed": false
   },
   "outputs": [],
   "source": [
    "from nltk.stem import SnowballStemmer\n",
    "ss = SnowballStemmer('english')"
   ]
  },
  {
   "cell_type": "code",
   "execution_count": 62,
   "metadata": {
    "collapsed": false
   },
   "outputs": [],
   "source": [
    "#remove stop words and words with length <= 2 & take stems of everything\n",
    "train['text_clean'] = train['text_clean'].map(lambda x: [ss.stem(w) for w in x if not w in stops and len(w)>2])\n",
    "test['text_clean'] = test['text_clean'].map(lambda x: [ss.stem(w) for w in x if not w in stops and len(w)>2])\n"
   ]
  },
  {
   "cell_type": "code",
   "execution_count": 63,
   "metadata": {
    "collapsed": true
   },
   "outputs": [],
   "source": [
    "train['text_clean'] = train['text_clean'].map(lambda x: ' '.join(x))\n",
    "test['text_clean'] = test['text_clean'].map(lambda x: ' '.join(x))\n"
   ]
  },
  {
   "cell_type": "code",
   "execution_count": 64,
   "metadata": {
    "collapsed": false
   },
   "outputs": [],
   "source": [
    "train.to_pickle('train_bow.pkl')\n",
    "test.to_pickle('test_bow.pkl')"
   ]
  },
  {
   "cell_type": "code",
   "execution_count": 42,
   "metadata": {
    "collapsed": false
   },
   "outputs": [],
   "source": [
    "from sklearn.feature_extraction.text import CountVectorizer"
   ]
  },
  {
   "cell_type": "code",
   "execution_count": 43,
   "metadata": {
    "collapsed": false
   },
   "outputs": [],
   "source": [
    "vectorizer = CountVectorizer(analyzer = \"word\",   \\\n",
    "                             tokenizer = None,    \\\n",
    "                             preprocessor = None, \\\n",
    "                             stop_words = None,   \\\n",
    "                             max_features = 5000) "
   ]
  },
  {
   "cell_type": "code",
   "execution_count": 44,
   "metadata": {
    "collapsed": false
   },
   "outputs": [],
   "source": [
    "train_data_features = vectorizer.fit_transform(train['text_clean'])"
   ]
  },
  {
   "cell_type": "code",
   "execution_count": 16,
   "metadata": {
    "collapsed": false
   },
   "outputs": [],
   "source": [
    "train_data_features = train_data_features.toarray()"
   ]
  },
  {
   "cell_type": "code",
   "execution_count": 17,
   "metadata": {
    "collapsed": false
   },
   "outputs": [
    {
     "name": "stdout",
     "output_type": "stream",
     "text": [
      "(4379, 5000)\n"
     ]
    }
   ],
   "source": [
    "print train_data_features.shape"
   ]
  },
  {
   "cell_type": "code",
   "execution_count": 18,
   "metadata": {
    "collapsed": false
   },
   "outputs": [
    {
     "name": "stdout",
     "output_type": "stream",
     "text": [
      "[u'aaron', u'aba', u'abandon', u'abbrevi', u'abc', u'abdul', u'abdullah', u'abil', u'abkhazia', u'abl', u'abolish', u'aborigin', u'abort', u'abraham', u'abroad', u'absenc', u'absolut', u'absorb', u'abstract', u'abu', u'abus', u'academ', u'academi', u'acceler', u'accept', u'access', u'accessd', u'accid', u'acclaim', u'accommod', u'accompani', u'accomplish', u'accord', u'account', u'accredit', u'accur', u'accus', u'ace', u'achiev', u'acid', u'acknowledg', u'acoust', u'acquir', u'acquisit', u'acr', u'across', u'act', u'action', u'activ', u'activist', u'actor', u'actress', u'actual', u'ad', u'adam', u'adapt', u'add', u'addict', u'addit', u'address', u'adel', u'adelaid', u'adequ', u'adher', u'adjac', u'adjust', u'adler', u'administ', u'administr', u'admir', u'admiss', u'admit', u'adob', u'adolesc', u'adolf', u'adopt', u'adrian', u'adult', u'advanc', u'advantag', u'adventur', u'advers', u'advertis', u'advic', u'advis', u'advisor', u'advisori', u'advoc', u'advocaci', u'aerial', u'affair', u'affect', u'affili', u'affirm', u'afford', u'afghan', u'afghanistan', u'africa', u'african', u'aftermath', u'afterward', u'age', u'agenc', u'agenda', u'agent', u'aggress', u'ago', u'agre', u'agreement', u'agricultur', u'ahead', u'ahm', u'ahmad', u'aid', u'aim', u'air', u'aircraft', u'airlin', u'airplan', u'airport', u'airstrik', u'ajaxo', u'aka', u'alabama', u'alan', u'alarm', u'alaska', u'albania', u'albanian', u'albert', u'alberta', u'alberto', u'album', u'albuquerqu', u'alcohol', u'aleppo', u'alert', u'alex', u'alexand', u'alexandria', u'alfr', u'algonquin', u'algorithm', u'ali', u'alia', u'alic', u'alien', u'align', u'aligncent', u'aligncentermdash', u'alignleft', u'alignright', u'aliv', u'allah', u'alleg', u'allegi', u'allen', u'alli', u'allianc', u'allmus', u'alloc', u'allow', u'almamat', u'almost', u'alon', u'along', u'alongsid', u'alpha', u'alreadi', u'also', u'alt', u'alter', u'altern', u'although', u'alto', u'alumni', u'alway', u'amateur', u'ambassador', u'ambros', u'amend', u'america', u'american', u'ami', u'amin', u'ammunit', u'amnesti', u'among', u'amongst', u'amount', u'amsterdam', u'amt', u'ana', u'analog', u'analys', u'analysi', u'analyst', u'analyz', u'ancestor', u'anchor', u'ancient', u'anderson', u'andi', u'andor', u'andr', u'andrea', u'andrew', u'angel', u'anger', u'anglican', u'anglo', u'anim', u'animalia', u'ann', u'anna', u'annex', u'anniversari', u'announc', u'annual', u'anonym', u'anoth', u'answer', u'ant', u'antholog', u'anthoni', u'anthropolog', u'anti', u'anticip', u'antioquia', u'antiqu', u'antisemit', u'antler', u'antonio', u'anyon', u'anyth', u'apart', u'apolog', u'apostl', u'apostol', u'app', u'appar', u'apparit', u'appeal', u'appear', u'appelbaum', u'appl', u'appli', u'applic', u'appoint', u'appreci', u'approach', u'appropri', u'approv', u'approxim', u'apr', u'april', u'arab', u'arabia', u'arbitr', u'arch', u'archaeolog', u'archbishop', u'architect', u'architectur', u'archiv', u'archived', u'area', u'areacod', u'areafootnot', u'arealandkm', u'areamagnitud', u'areaserv', u'areatotalkm', u'areawaterkm', u'arena', u'argentin', u'argentina', u'argu', u'argument', u'ari', u'aris', u'arizona', u'arkansa', u'arm', u'armenia', u'armenian', u'armi', u'armor', u'aros', u'around', u'arrang', u'arrest', u'arriv', u'art', u'arteri', u'arthropoda', u'arthur', u'articl', u'artifact', u'artifici', u'artilleri', u'artist', u'asahi', u'ash', u'asia', u'asian', u'asid', u'ask', u'aspect', u'aspir', u'assa', u'assad', u'assassin', u'assault', u'assembl', u'assert', u'assess', u'asset', u'assign', u'assimil', u'assist', u'associ', u'associatedact', u'assum', u'assumpt', u'assur', u'athen', u'athlet', u'atl', u'atlant', u'atlanta', u'atlas', u'atmospher', u'atom', u'atroc', u'attach', u'attack', u'attain', u'attempt', u'attend', u'attent', u'attitud', u'attorney', u'attract', u'attribut', u'auction', u'audienc', u'audio', u'audit', u'aug', u'august', u'augustin', u'aui', u'austin', u'australia', u'australian', u'austria', u'austrian', u'authent', u'author', u'authorlink', u'auto', u'automat', u'automobil', u'autonom', u'autonomi', u'autumn', u'avail', u'aveng', u'avenu', u'averag', u'aviat', u'aviv', u'avoid', u'avolon', u'awar', u'award', u'away', u'azerbaijan', u'azerbaijani', u'baba', u'babi', u'bachelor', u'back', u'background', u'backgroundcfc', u'backgroundwhit', u'bad', u'baden', u'badg', u'bag', u'baker', u'balanc', u'balkan', u'ball', u'ballet', u'ballot', u'baltic', u'baltimor', u'ban', u'band', u'bangladesh', u'bank', u'banker', u'bankruptci', u'banner', u'baptist', u'bar', u'barack', u'barbara', u'barcelona', u'baron', u'barotseland', u'barri', u'barrier', u'base', u'basebal', u'basi', u'basic', u'basin', u'basketbal', u'basqu', u'bass', u'bat', u'battalion', u'batteri', u'battl', u'battlefield', u'baturina', u'bay', u'bbc', u'bcc', u'be', u'beach', u'beak', u'beam', u'bear', u'bearwood', u'beast', u'beat', u'beauti', u'becam', u'becom', u'becquerel', u'bed', u'beer', u'began', u'begin', u'begun', u'behalf', u'behavior', u'behaviour', u'behind', u'beij', u'belarus', u'belgian', u'belgium', u'belgrad', u'belief', u'believ', u'bell', u'belong', u'belt', u'ben', u'benefit', u'bengal', u'benjamin', u'bennett', u'benni', u'berkeley', u'berlin', u'bernard', u'besid', u'best', u'bet', u'beta', u'bethlehem', u'betray', u'better', u'beyond', u'bgcolor', u'bgcolorafeee', u'bgcolorccffcc', u'bgcolorddffdd', u'bgcolorff', u'bgcolorffffff', u'bias', u'bibl', u'biblic', u'bid', u'big', u'biggest', u'bike', u'bilater', u'bill', u'billboard', u'billi', u'billion', u'bin', u'bind', u'binomi', u'binomialauthor', u'bio', u'biograph', u'biographi', u'biolog', u'bird', u'birmingham', u'birth', u'birthdat', u'birthday', u'birthnam', u'birthplac', u'bishop', u'bison', u'bit', u'black', u'blade', u'blame', u'blankinfo', u'blanknam', u'blast', u'blend', u'bless', u'blind', u'blixseth', u'bloch', u'block', u'blockad', u'bloemfontein', u'blog', u'blood', u'blow', u'blue', u'board', u'boat', u'bob', u'bobbi', u'bodi', u'bomb', u'bomber', u'bond', u'bone', u'bonus', u'book', u'boom', u'boost', u'boot', u'booth', u'border', u'born', u'borough', u'borrow', u'boston', u'bottl', u'bottom', u'bought', u'bound', u'boundari', u'bowl', u'box', u'boy', u'boycott', u'boyd', u'braill', u'brain', u'branch', u'brand', u'brandenburg', u'bratislava', u'brazil', u'brazilian', u'breach', u'break', u'breast', u'breath', u'breed', u'brian', u'brick', u'bridg', u'brief', u'briefli', u'brigad', u'bright', u'bring', u'brisban', u'britain', u'british', u'broad', u'broadcast', u'broader', u'broadway', u'broke', u'broken', u'bronz', u'brook', u'brooklyn', u'brother', u'brought', u'brown', u'bruce', u'brunswick', u'brussel', u'brutal', u'bryan', u'budapest', u'buddha', u'buddhism', u'buddhist', u'budget', u'bueno', u'buffalo', u'buffi', u'build', u'builder', u'built', u'bulgaria', u'bulgarian', u'bull', u'bulldog', u'bullet', u'bulletin', u'bulli', u'burden', u'bureau', u'buri', u'burial', u'burn', u'bus', u'buse', u'bush', u'busi', u'businessman', u'butler', u'buy', u'buzbe', u'byron', u'byzantin', u'cabin', u'cabinet', u'cadet', u'caesar', u'caesium', u'cairo', u'calcul', u'caldwel', u'calendar', u'calgari', u'california', u'call', u'calvin', u'cambridg', u'came', u'camera', u'cameron', u'camp', u'campaign', u'campbel', u'campus', u'canada', u'canadian', u'canal', u'cancel', u'cancer', u'candi', u'candid', u'cannot', u'canon', u'cant', u'cao', u'cap', u'capabl', u'capac', u'cape', u'capit', u'capita', u'capitol', u'captain', u'caption', u'captiv', u'captur', u'car', u'carbon', u'card', u'cardin', u'care', u'career', u'caribbean', u'carl', u'carlo', u'carol', u'carolin', u'carolina', u'carpathian', u'carr', u'carri', u'carrier', u'carter', u'cartoon', u'carv', u'cas', u'case', u'casey', u'cash', u'cassini', u'cast', u'castl', u'casualti', u'cat', u'catalog', u'catch', u'categori', u'categoryamerican', u'categoryhistori', u'categoryliv', u'categorypeopl', u'categoryst', u'categoryth', u'categoryunivers', u'cathedr', u'catherin', u'cathol', u'cattl', u'caught', u'caus', u'cavalri', u'cave', u'cbb', u'cbs', u'ceas', u'ceasefir', u'celebr', u'cell', u'cellpad', u'cellspac', u'cemeteri', u'census', u'cent', u'center', u'centr', u'central', u'centuri', u'ceo', u'ceremoni', u'certain', u'certif', u'certifi', u'cesium', u'cfb', u'cfs', u'chah', u'chai', u'chain', u'chair', u'chairman', u'challeng', u'chamber', u'champion', u'championship', u'chan', u'chanc', u'chancellor', u'chang', u'channel', u'chant', u'chao', u'chapel', u'chapter', u'charact', u'character', u'characterist', u'charg', u'charit', u'chariti', u'charl', u'charli', u'charlott', u'chart', u'charter', u'chase', u'check', u'chemic', u'chemistri', u'chevrolet', u'chi', u'chicago', u'chicken', u'chief', u'child', u'childhood', u'children', u'chile', u'china', u'chines', u'choic', u'choir', u'choos', u'chord', u'chose', u'chosen', u'chris', u'christ', u'christian', u'christma', u'christoph', u'chronicl', u'chronolog', u'chrysler', u'church', u'cia', u'cigarett', u'cincinnati', u'cindi', u'cinema', u'cinematographi', u'cir', u'circl', u'circuit', u'circul', u'circumcis', u'circumst', u'citat', u'cite', u'citi', u'citizen', u'citizenship', u'ciudad', u'civic', u'civil', u'civilian', u'ciw', u'claim', u'clan', u'clark', u'clash', u'class', u'classi', u'classic', u'classif', u'classifi', u'classroom', u'classwikit', u'claus', u'clay', u'clean', u'clear', u'clement', u'cleveland', u'client', u'cliff', u'climat', u'climb', u'clinic', u'clinton', u'clip', u'clipper', u'close', u'closer', u'closur', u'cloth', u'cloud', u'club', u'clubnumb', u'cluster', u'cnn', u'coach', u'coal', u'coalit', u'coast', u'coastal', u'coat', u'code', u'cognit', u'cohen', u'coin', u'col', u'cold', u'cole', u'coleman', u'colin', u'collabor', u'collaps', u'colleagu', u'collect', u'collector', u'colleg', u'collegi', u'collin', u'collor', u'colombia', u'colonel', u'coloni', u'color', u'colorado', u'colour', u'colspan', u'columbia', u'column', u'columnist', u'comb', u'combat', u'combin', u'come', u'comedi', u'comedian', u'comfort', u'comic', u'command', u'commemor', u'commenc', u'comment', u'commentari', u'commerc', u'commerci', u'commiss', u'commission', u'commit', u'committe', u'commod', u'common', u'commonwealth', u'communal', u'commune', u'communic', u'communion', u'communism', u'communist', u'communiti', u'compact', u'compani', u'companion', u'compar', u'comparison', u'compat', u'compens', u'compet', u'competit', u'competitor', u'compil', u'complain', u'complaint', u'complet', u'complex', u'compli', u'complic', u'compon', u'compos', u'composit', u'compound', u'comprehens', u'compris', u'compromis', u'comput', u'comunicaci', u'con', u'conceiv', u'concentr', u'concept', u'concern', u'concert', u'conclud', u'conclus', u'concret', u'condemn', u'condit', u'conduct', u'confeder', u'confer', u'confess', u'confid', u'configur', u'confin', u'confirm', u'conflict', u'confront', u'confus', u'cong', u'congreg', u'congress', u'congression', u'congressman', u'connect', u'connecticut', u'conquer', u'conquest', u'conrad', u'conscienc', u'conscious', u'consecr', u'consecut', u'consensus', u'consent', u'consequ', u'conserv', u'conservat', u'consid', u'consider', u'consist', u'consolid', u'conspiraci', u'constant', u'constantinopl', u'constitu', u'constitut', u'construct', u'consul', u'consult', u'consum', u'consumpt', u'contact', u'contain', u'contamin', u'contemporari', u'contend', u'content', u'contest', u'context', u'contin', u'continu', u'contract', u'contradict', u'contrari', u'contrast', u'contribut', u'contributor', u'control', u'controversi', u'convent', u'convers', u'convert', u'convict', u'convinc', u'cook', u'cool', u'cooper', u'coordin', u'copi', u'copyright', u'core', u'corner', u'corp', u'corpor', u'correct', u'correl', u'correspond', u'corrug', u'corrupt', u'cossack', u'cost', u'costa', u'costum', u'could', u'council', u'councillor', u'counsel', u'count', u'counter', u'counti', u'countri', u'countyotsego', u'coup', u'coupl', u'courag', u'cours', u'court', u'cousin', u'cover', u'coverag', u'cow', u'cpted', u'craft', u'craig', u'crash', u'creat', u'creation', u'creativ', u'creator', u'credit', u'creek', u'crew', u'cri', u'cricket', u'crime', u'crimin', u'crisi', u'cristina', u'criteria', u'critic', u'criticis', u'critiqu', u'croat', u'croatia', u'croatian', u'crop', u'cross', u'crowd', u'crown', u'crucial', u'cruis', u'crusad', u'crush', u'cruz', u'cuba', u'cuban', u'culmin', u'cult', u'cultiv', u'cultur', u'cultura', u'cup', u'cure', u'currenc', u'current', u'currentclub', u'curriculum', u'curtiss', u'custodi', u'custom', u'cut', u'cutter', u'cycl', u'cyclon', u'cyprus', u'cyril', u'czech', u'czechoslovak', u'czechoslovakia', u'daili', u'dairi', u'dakota', u'dalla', u'dam', u'damag', u'dame', u'dan', u'danc', u'dancer', u'danger', u'daniel', u'danish', u'dant', u'dar', u'dark', u'darwin', u'das', u'dass', u'data', u'databas', u'date', u'daughter', u'dauphin', u'dave', u'davi', u'david', u'dawn', u'day', u'deacon', u'dead', u'deadurlno', u'deadurly', u'deal', u'dealer', u'dean', u'death', u'deathdat', u'deathplac', u'debat', u'debt', u'debut', u'dec', u'decad', u'decemb', u'decid', u'decis', u'deck', u'declar', u'declin', u'decor', u'decre', u'decreas', u'dedic', u'deem', u'deep', u'deepli', u'deer', u'defam', u'defeat', u'defect', u'defenc', u'defend', u'defens', u'defin', u'definit', u'degre', u'del', u'delawar', u'delay', u'deleg', u'delet', u'delhi', u'deliber', u'deliv', u'deliveri', u'delta', u'demand', u'demo', u'democraci', u'democrat', u'demograph', u'demolish', u'demon', u'demonstr', u'den', u'deni', u'denial', u'denmark', u'denni', u'denomin', u'denounc', u'densiti', u'dental', u'denver', u'depart', u'departur', u'depend', u'depict', u'deploy', u'deport', u'deposit', u'depot', u'depress', u'depriv', u'deprogram', u'depth', u'deputi', u'der', u'dera', u'derek', u'deriv', u'des', u'descend', u'descent', u'describ', u'descript', u'desert', u'deserv', u'design', u'desir', u'desk', u'desper', u'despit', u'destin', u'destroy', u'destruct', u'detach', u'detail', u'detain', u'detect', u'deterior', u'determin', u'detroit', u'deutsch', u'deva', u'devant', u'devast', u'develop', u'devi', u'devic', u'devil', u'devot', u'devote', u'dhabi', u'dia', u'dialect', u'dialogu', u'diamond', u'dick', u'dictat', u'dictionari', u'didnt', u'die', u'diego', u'diesel', u'diet', u'differ', u'differenti', u'difficult', u'difficulti', u'digit', u'dimens', u'din', u'dioces', u'diop', u'diploma', u'diplomaci', u'diplomat', u'direct', u'director', u'directori', u'disabl', u'disadvantag', u'disappear', u'disast', u'disc', u'discharg', u'discipl', u'disciplin', u'discontinu', u'discours', u'discov', u'discoveri', u'discrimin', u'discuss', u'diseas', u'dismiss', u'disord', u'dispatch', u'displac', u'display', u'dispos', u'disput', u'disrupt', u'dissemin', u'dissolv', u'distanc', u'distinct', u'distinguish', u'distort', u'distribut', u'distributor', u'district', u'disturb', u'dition', u'dive', u'divers', u'divid', u'divin', u'divis', u'divisi', u'divorc', u'dna', u'dnp', u'doctor', u'doctrin', u'document', u'documentari', u'doesnt', u'dog', u'doherti', u'doi', u'dollar', u'domain', u'dome', u'domest', u'domin', u'dominican', u'donald', u'donat', u'done', u'donor', u'dont', u'door', u'dos', u'dose', u'doubl', u'doubt', u'dougla', u'download', u'downtown', u'dozen', u'draft', u'dragon', u'drama', u'dramat', u'draw', u'drawn', u'dream', u'dress', u'drew', u'dri', u'drill', u'drink', u'drive', u'driven', u'driver', u'drone', u'drop', u'drug', u'drum', u'drummer', u'dual', u'dub', u'dubai', u'dublin', u'duchi', u'due', u'duke', u'duncan', u'duo', u'durat', u'dust', u'dutch', u'duti', u'dvd', u'dwell', u'dynam', u'dynasti', u'dzungar', u'eagl', u'earl', u'earli', u'earlier', u'earliest', u'earn', u'earth', u'earthquak', u'easi', u'easili', u'east', u'eastern', u'eat', u'eck', u'eckankar', u'ecolog', u'econom', u'economi', u'economist', u'ecumen', u'ed', u'eddi', u'edg', u'edinburgh', u'edit', u'editor', u'editori', u'edmonton', u'educ', u'edward', u'effect', u'effici', u'effort', u'egg', u'egypt', u'egyptian', u'eight', u'eighth', u'either', u'elabor', u'elder', u'eldest', u'elect', u'elector', u'electr', u'electron', u'element', u'elementari', u'eleph', u'elev', u'elevationfootnot', u'elevationft', u'elevationm', u'eleven', u'elig', u'elimin', u'elit', u'elizabeth', u'els', u'elsewher', u'email', u'embassi', u'emblem', u'embrac', u'emerg', u'emigr', u'emir', u'emmi', u'emot', u'emperor', u'emphas', u'emphasi', u'empir', u'employ', u'employe', u'empti', u'enabl', u'enact', u'encompass', u'encount', u'encourag', u'encyclopedia', u'end', u'endang', u'endors', u'endow', u'endur', u'enemi', u'energi', u'enforc', u'engag', u'engin', u'england', u'english', u'enhanc', u'enjoy', u'enlighten', u'enough', u'enrich', u'enrol', u'ensembl', u'ensur', u'enter', u'enterpris', u'entertain', u'entir', u'entiti', u'entitl', u'entranc', u'entrepreneur', u'entri', u'environ', u'environment', u'epa', u'epic', u'episcop', u'episod', u'episodenumb', u'equal', u'equinox', u'equip', u'equiti', u'equival', u'era', u'erect', u'erf', u'eric', u'error', u'escap', u'espa', u'especi', u'espn', u'essay', u'essenti', u'est', u'establish', u'establishedd', u'establishedtitl', u'estat', u'estim', u'estonian', u'etc', u'etern', u'ethic', u'ethiopia', u'ethnic', u'eugen', u'euro', u'europ', u'european', u'evacu', u'evalu', u'evan', u'evangel', u'eve', u'even', u'event', u'eventu', u'ever', u'everi', u'everyon', u'everyth', u'evi', u'evid', u'evil', u'evolut', u'evolutionari', u'evolv', u'exact', u'exam', u'examin', u'exampl', u'excav', u'exceed', u'excel', u'except', u'excess', u'exchang', u'exclud', u'exclus', u'execut', u'exempt', u'exercis', u'exhibit', u'exil', u'exist', u'exit', u'expand', u'expans', u'expect', u'expedit', u'expel', u'expenditur', u'expens', u'experi', u'experienc', u'experiment', u'expert', u'explain', u'explan', u'explicit', u'exploit', u'explor', u'explos', u'export', u'expos', u'exposur', u'express', u'expuls', u'extend', u'extens', u'extent', u'extern', u'extinct', u'extra', u'extract', u'extrem', u'eye', u'fabric', u'face', u'facebook', u'facil', u'facilit', u'fact', u'faction', u'factor', u'factori', u'faculti', u'fail', u'failur', u'fair', u'fairchild', u'faith', u'falcon', u'fall', u'fals', u'fame', u'famili', u'familia', u'familiar', u'famous', u'fan', u'fantasi', u'far', u'farm', u'farmer', u'fascism', u'fascist', u'fashion', u'fast', u'fat', u'fatal', u'fate', u'father', u'fault', u'fauntroy', u'favor', u'favorit', u'favour', u'fayard', u'fbi', u'fda', u'fear', u'feat', u'featur', u'feb', u'februari', u'fed', u'feder', u'fee', u'feed', u'feedback', u'feel', u'feet', u'fehmi', u'feiglin', u'fell', u'fellow', u'fellowship', u'felt', u'femal', u'femicid', u'feminist', u'fenc', u'fencer', u'ferdinand', u'fernando', u'ferrari', u'ferri', u'fertil', u'festiv', u'fetish', u'fewer', u'fff', u'ffffff', u'fiction', u'field', u'fifa', u'fifteen', u'fifth', u'fifti', u'fight', u'fighter', u'figur', u'file', u'fill', u'film', u'filmmak', u'filter', u'final', u'finalist', u'financ', u'financi', u'find', u'fine', u'finger', u'finish', u'finland', u'finnish', u'fire', u'firearm', u'firefight', u'firm', u'first', u'fiscal', u'fish', u'fit', u'five', u'fix', u'flag', u'flame', u'flash', u'flat', u'fled', u'flee', u'fleet', u'flexibl', u'fli', u'flight', u'flood', u'floor', u'florida', u'flow', u'flower', u'flyer', u'focus', u'foil', u'fold', u'folk', u'follow', u'font', u'food', u'foot', u'footag', u'footbal', u'footnot', u'forb', u'forbidden', u'forc', u'ford', u'foreign', u'forens', u'forest', u'forev', u'form', u'formal', u'formaldehyd', u'format', u'former', u'formul', u'formula', u'fort', u'forth', u'forti', u'fortress', u'fortun', u'forum', u'forward', u'foster', u'fought', u'found', u'foundat', u'founder', u'four', u'fourier', u'fourth', u'fox', u'fragment', u'frame', u'framework', u'fran', u'franc', u'franchis', u'franci', u'franciscan', u'francisco', u'franco', u'frank', u'frankfurt', u'franklin', u'franz', u'fraser', u'fraud', u'fred', u'frederick', u'free', u'freedom', u'freestyl', u'french', u'frequenc', u'frequent', u'fresh', u'fri', u'friday', u'friedrich', u'friend', u'friendship', u'friso', u'front', u'frontier', u'fruit', u'fuel', u'fukushima', u'fulfil', u'full', u'fuller', u'fulli', u'fullnam', u'fun', u'function', u'fund', u'fundament', u'furthermor', u'fusion', u'fuster', u'futur', u'gabriel', u'gain', u'galleri', u'game', u'gamenam', u'gandhi', u'gang', u'gap', u'garc', u'garden', u'gari', u'garuda', u'gas', u'gate', u'gather', u'gave', u'gay', u'gaza', u'gazett', u'gdi', u'gdp', u'gear', u'gen', u'gender', u'gene', u'general', u'generat', u'generic', u'genet', u'genocid', u'genr', u'genus', u'geo', u'geograph', u'geographi', u'geolog', u'georg', u'georgia', u'georgian', u'gerald', u'german', u'germani', u'gestur', u'get', u'ghost', u'giant', u'gibraltar', u'gift', u'gilbert', u'girl', u'giuliani', u'give', u'given', u'gjat', u'glasgow', u'glass', u'glen', u'glenn', u'glider', u'global', u'globe', u'glori', u'gmina', u'go', u'goal', u'god', u'goe', u'gold', u'golden', u'golf', u'golfer', u'gone', u'gonz', u'good', u'googl', u'gordon', u'gospel', u'got', u'gothic', u'goud', u'govern', u'government', u'governmentfootnot', u'governmenttyp', u'governor', u'govt', u'gpl', u'grace', u'grade', u'gradual', u'graduat', u'graffiti', u'graham', u'grain', u'grammar', u'grammi', u'grand', u'grandfath', u'grandmoth', u'grandson', u'grant', u'graphic', u'grass', u'grave', u'gray', u'great', u'greater', u'greatest', u'greec', u'greek', u'green', u'greg', u'gregori', u'gremlin', u'grew', u'grey', u'grid', u'gross', u'ground', u'group', u'grove', u'grow', u'grown', u'growth', u'guarante', u'guard', u'guardian', u'guerrilla', u'guest', u'guez', u'guid', u'guidanc', u'guidelin', u'guilti', u'guinea', u'guitar', u'guitarist', u'gulf', u'gun', u'guru', u'gurus', u'guy', u'gymnast', u'habit', u'habitat', u'hadith', u'hail', u'hair', u'half', u'hall', u'halt', u'hama', u'hamilton', u'hampshir', u'han', u'hand', u'handbal', u'handbook', u'handgun', u'handl', u'hang', u'hansen', u'happen', u'happi', u'harass', u'harbor', u'hard', u'hardwar', u'hari', u'harm', u'harmoni', u'harold', u'harper', u'harri', u'harrison', u'harsh', u'haruto', u'harvard', u'harvest', u'harvey', u'hasan', u'hassan', u'hat', u'hate', u'haw', u'hawaii', u'hawk', u'hay', u'hazard', u'head', u'headach', u'header', u'headlin', u'headquart', u'heal', u'health', u'healthcar', u'healthi', u'hear', u'heard', u'heart', u'heat', u'heaven', u'heavi', u'heavili', u'hebrew', u'height', u'heir', u'held', u'helen', u'helicopt', u'hell', u'helm', u'help', u'henc', u'henri', u'herald', u'herbert', u'herd', u'hereditari', u'heritag', u'hero', u'hess', u'hidden', u'hide', u'high', u'higher', u'highest', u'highland', u'highlight', u'highway', u'hill', u'hindi', u'hindu', u'hindus', u'hip', u'hire', u'hispan', u'histor', u'histori', u'historia', u'historian', u'historiographi', u'hit', u'hitler', u'hobb', u'hockey', u'hold', u'holder', u'hole', u'holi', u'holiday', u'holland', u'holli', u'hollywood', u'holocaust', u'home', u'homecom', u'homeland', u'homeless', u'homepag', u'hometown', u'homicid', u'homosexu', u'honda', u'hong', u'honor', u'honorari', u'honorif', u'honour', u'hoodoo', u'hoover', u'hop', u'hope', u'horizon', u'horn', u'horrobin', u'horror', u'hors', u'hospit', u'host', u'hostil', u'hot', u'hotel', u'hour', u'hous', u'household', u'housew', u'houston', u'howard', u'howev', u'html', u'httpwwwdevant', u'huge', u'hugh', u'hugo', u'hui', u'human', u'humanitarian', u'humid', u'hundr', u'hungari', u'hungarian', u'hunger', u'hunt', u'hunter', u'hurrican', u'hurt', u'husayn', u'husband', u'hussein', u'hybrid', u'hydro', u'hypothesi', u'iaf', u'ian', u'ibn', u'ibrahim', u'ice', u'icon', u'idaho', u'idea', u'ideal', u'ident', u'identif', u'identifi', u'ideolog', u'idol', u'iec', u'ignor', u'iii', u'ilb', u'ill', u'illeg', u'illinoi', u'illustr', u'imag', u'imagealt', u'imagecapt', u'imageflag', u'imagemap', u'images', u'imageshield', u'imageskylin', u'imagin', u'imam', u'immedi', u'immigr', u'impact', u'impair', u'imperi', u'implement', u'impli', u'implic', u'import', u'impos', u'imposs', u'impress', u'imprison', u'improv', u'inaugur', u'inc', u'incent', u'inch', u'incid', u'includ', u'inclus', u'incom', u'incorpor', u'increas', u'incumb', u'ind', u'inde', u'independ', u'index', u'indi', u'india', u'indian', u'indiana', u'indic', u'indict', u'indigen', u'indirect', u'individu', u'indonesia', u'indonesian', u'indoor', u'induc', u'induct', u'industri', u'inequ', u'infant', u'infantri', u'infect', u'infiltr', u'inflat', u'influenc', u'influenti', u'infobox', u'inform', u'infrastructur', u'ingredi', u'inhabit', u'inherit', u'initi', u'injur', u'injuri', u'injustic', u'inland', u'inn', u'inner', u'innoc', u'innov', u'input', u'inquiri', u'inscript', u'insid', u'insight', u'insist', u'inspect', u'inspector', u'inspir', u'instal', u'instanc', u'instant', u'instead', u'institut', u'instruct', u'instructor', u'instrument', u'insult', u'insur', u'insurg', u'integr', u'intel', u'intellectu', u'intellig', u'intend', u'intens', u'intensifi', u'intent', u'inter', u'interact', u'intercept', u'interest', u'interfac', u'interfer', u'interim', u'interior', u'intermedi', u'intern', u'internet', u'interpress', u'interpret', u'intersect', u'interven', u'intervent', u'interview', u'introduc', u'introduct', u'invad', u'invas', u'invent', u'invest', u'investig', u'investor', u'invit', u'involv', u'iodin', u'iop', u'iowa', u'ira', u'iran', u'iranian', u'iraq', u'iraqi', u'ireland', u'irish', u'iron', u'isbn', u'isl', u'islam', u'island', u'ismail', u'isol', u'isra', u'israel', u'isshin', u'issn', u'issu', u'istanbul', u'itali', u'italian', u'item', u'ivan', u'jack', u'jacket', u'jackson', u'jacob', u'jacqu', u'jahjaga', u'jail', u'jaim', u'jam', u'jamaica', u'jame', u'jan', u'jane', u'januari', u'japan', u'japanes', u'jason', u'jay', u'jazz', u'jean', u'jeff', u'jeffrey', u'jehovah', u'jen', u'jennif', u'jerri', u'jersey', u'jerusalem', u'jess', u'jessica', u'jesuit', u'jesus', u'jet', u'jew', u'jewish', u'jim', u'jimmi', u'jin', u'joan', u'job', u'joe', u'joel', u'johann', u'john', u'johnni', u'johnson', u'join', u'joint', u'jon', u'jonathan', u'jone', u'jordan', u'jorg', u'jos', u'jose', u'joseph', u'josh', u'journal', u'journalist', u'journey', u'joy', u'jpg', u'jstor', u'juan', u'judaism', u'judg', u'judgment', u'judici', u'juic', u'jul', u'juli', u'julia', u'julian', u'jump', u'jun', u'junction', u'june', u'jungl', u'junior', u'juri', u'jurisdict', u'jurist', u'justic', u'justifi', u'justin', u'juvenil', u'kalateh', u'kamen', u'kansa', u'kant', u'karat', u'karl', u'kashmir', u'kata', u'kate', u'katherin', u'kazakhstan', u'keep', u'keith', u'kelli', u'ken', u'kennedi', u'kenneth', u'kenni', u'kent', u'kentucki', u'kept', u'kerala', u'kevin', u'key', u'keyboard', u'keypeopl', u'khan', u'khorasan', u'khyber', u'kibbutz', u'kick', u'kickbox', u'kid', u'kidnap', u'kidney', u'kill', u'killer', u'kilogram', u'kilometr', u'kim', u'kind', u'king', u'kingdom', u'kingston', u'kiss', u'kit', u'kitchen', u'klaus', u'klubr', u'knew', u'knight', u'knock', u'know', u'knowledg', u'known', u'knownfor', u'kobach', u'komi', u'komuna', u'kong', u'korea', u'korean', u'kosal', u'kosov', u'kosovo', u'koyomi', u'krantz', u'krishna', u'kurd', u'kurdish', u'kurdistan', u'lab', u'label', u'labor', u'laboratori', u'labour', u'lack', u'ladi', u'laid', u'lake', u'lambertella', u'land', u'landmark', u'landscap', u'lane', u'lang', u'languag', u'lanka', u'lankan', u'lap', u'larg', u'larger', u'largest', u'larri', u'las', u'laser', u'last', u'lat', u'late', u'later', u'latest', u'latin', u'latino', u'latitud', u'latter', u'launch', u'laura', u'laurent', u'law', u'lawrenc', u'lawsuit', u'lawyer', u'lay', u'layer', u'lead', u'leader', u'leadernam', u'leadership', u'leadertitl', u'leagu', u'leak', u'learn', u'leas', u'least', u'leav', u'lebanes', u'lebanon', u'lectur', u'led', u'lee', u'leed', u'left', u'leg', u'legaci', u'legal', u'legend', u'legendari', u'legisl', u'legislatur', u'legitim', u'len', u'lend', u'length', u'leo', u'leon', u'les', u'lesbian', u'lesli', u'less', u'lesser', u'lesson', u'let', u'letter', u'level', u'levi', u'lewi', u'lez', u'liber', u'liberti', u'librari', u'licenc', u'licens', u'lie', u'lieuten', u'life', u'lifestyl', u'lifetim', u'lift', u'liga', u'light', u'like', u'limit', u'lin', u'lincoln', u'line', u'ling', u'linguist', u'link', u'linux', u'lion', u'liquid', u'lisa', u'list', u'listen', u'liter', u'literaci', u'literari', u'literatur', u'lithuania', u'lithuanian', u'litig', u'littl', u'liu', u'live', u'llapi', u'llc', u'ller', u'lloyd', u'load', u'loan', u'lobbi', u'local', u'locat', u'lock', u'locomot', u'lodg', u'log', u'logic', u'logist', u'logo', u'lon', u'london', u'long', u'longer', u'longest', u'longitud', u'look', u'loong', u'loop', u'loos', u'loot', u'lord', u'los', u'lose', u'loss', u'lost', u'lot', u'loui', u'louis', u'louisiana', u'love', u'lover', u'low', u'lower', u'lowest', u'loyal', u'loyalti', u'lpga', u'ltd', u'ltte', u'luca', u'lui', u'luke', u'luther', u'lutheran', u'luxuri', u'lynch', u'lynn', u'lyon', u'lyric', u'mac', u'macedonia', u'machin', u'macmillan', u'mad', u'madagascar', u'made', u'madhya', u'madison', u'madrid', u'magazin', u'magdang', u'magic', u'magisterialdistrict', u'magnet', u'mail', u'main', u'mainstream', u'maintain', u'mainten', u'major', u'make', u'maker', u'malabar', u'malayalam', u'malaysia', u'male', u'mammal', u'man', u'manag', u'manageryear', u'manchest', u'mandat', u'mandatori', u'manhattan', u'mani', u'manifest', u'manifesto', u'manipul', u'manipur', u'manitoba', u'manner', u'manual', u'manuel', u'manufactur', u'manuscript', u'map', u'mapcapt', u'mapsiz', u'mar', u'marbl', u'marc', u'march', u'marco', u'margaret', u'margin', u'mari', u'maria', u'marian', u'marin', u'mario', u'maritim', u'mark', u'market', u'marko', u'marri', u'marriag', u'marshal', u'mart', u'martial', u'martin', u'martyr', u'maryland', u'mascot', u'masculin', u'mashhad', u'mask', u'mason', u'mass', u'massachusett', u'massacr', u'massiv', u'master', u'match', u'materi', u'matern', u'math', u'mathemat', u'matt', u'matter', u'matthew', u'matur', u'max', u'maximum', u'may', u'mayor', u'mcdonald', u'mdash', u'meal', u'mean', u'meant', u'meanwhil', u'measur', u'meat', u'mec', u'mechan', u'medal', u'medalist', u'media', u'median', u'medic', u'medicin', u'mediev', u'medit', u'mediterranean', u'medium', u'meet', u'melbourn', u'member', u'membership', u'memoir', u'memori', u'memphi', u'men', u'mental', u'mention', u'mentor', u'merced', u'merchant', u'mercuri', u'mere', u'merg', u'merger', u'merit', u'merri', u'messag', u'met', u'metal', u'meter', u'method', u'methodist', u'methodolog', u'metr', u'metric', u'metro', u'metropolitan', u'mexican', u'mexico', u'miami', u'michael', u'michel', u'michell', u'michigan', u'micro', u'microsoft', u'mid', u'middl', u'midfield', u'midland', u'mig', u'might', u'mighti', u'migrain', u'migrant', u'migrat', u'miguel', u'mike', u'milan', u'mile', u'milit', u'militari', u'militia', u'milk', u'mill', u'millan', u'millennium', u'miller', u'milligan', u'million', u'milton', u'min', u'mind', u'mine', u'miner', u'ming', u'minh', u'minim', u'minimum', u'minist', u'ministri', u'minnesota', u'minor', u'minut', u'mirror', u'miss', u'missil', u'mission', u'missionari', u'mississippi', u'missouri', u'mistak', u'mit', u'mitchel', u'mix', u'mlb', u'mobil', u'mode', u'model', u'moder', u'modern', u'modifi', u'modul', u'moham', u'mohammad', u'moment', u'monarch', u'monarchi', u'monasteri', u'monday', u'monetari', u'money', u'mongol', u'monitor', u'monk', u'monkey', u'monro', u'monster', u'mont', u'montana', u'montenegro', u'montgomeri', u'month', u'montreal', u'monument', u'moon', u'moor', u'moral', u'moravia', u'moravian', u'moreov', u'morgan', u'morn', u'morocco', u'morphin', u'morri', u'morrison', u'mortal', u'moscow', u'mosqu', u'most', u'mother', u'motion', u'motiv', u'motm', u'motor', u'motorcycl', u'motorsport', u'motto', u'mount', u'mountain', u'mous', u'mouth', u'move', u'movement', u'movi', u'mps', u'mrs', u'mtv', u'much', u'muhammad', u'multi', u'multipl', u'mumbai', u'munich', u'municip', u'municipalnam', u'mural', u'murder', u'mure', u'murphi', u'murray', u'muscl', u'museum', u'museveni', u'music', u'musician', u'muslim', u'mussolini', u'must', u'mutual', u'myl', u'mylenepressearticl', u'mysor', u'mysteri', u'mystic', u'myth', u'mytholog', u'nacion', u'nadu', u'nake', u'nam', u'name', u'nanci', u'napoleon', u'narrat', u'narrow', u'nart', u'nashvill', u'nassau', u'nation', u'nationalcap', u'nationalgo', u'nationalist', u'nationalteam', u'nationalyear', u'nationwid', u'nativ', u'nativenam', u'nativenamelang', u'nato', u'natur', u'naval', u'navi', u'nazi', u'nazism', u'nba', u'nbc', u'nbsp', u'nbspbhp', u'nbspft', u'nbspkg', u'nbspkm', u'nbspkw', u'nbsplb', u'nbsplbhp', u'nbspm', u'nbspmillion', u'nbspmm', u'nbsputc', u'ncaa', u'ndash', u'ndez', u'neal', u'near', u'nearbi', u'nebraska', u'necessari', u'necessarili', u'neck', u'need', u'negat', u'neglect', u'negoti', u'negro', u'neighbor', u'neighborhood', u'neighbour', u'neil', u'neither', u'nelson', u'neo', u'nepal', u'nephew', u'nest', u'net', u'netherland', u'network', u'neural', u'neutral', u'nevada', u'never', u'nevertheless', u'new', u'newcastl', u'newli', u'news', u'newspap', u'newton', u'next', u'nez', u'nfl', u'nguy', u'nhl', u'nhra', u'nhs', u'nichola', u'nick', u'nicknam', u'nicol', u'nietzsch', u'niger', u'nigeria', u'nigerian', u'night', u'nine', u'ninth', u'nishapur', u'nito', u'nizami', u'nmc', u'nobl', u'noir', u'nois', u'nolt', u'nomin', u'nomine', u'non', u'nonconf', u'none', u'nonprofit', u'noon', u'nordic', u'norm', u'normal', u'norman', u'north', u'northeast', u'northeastern', u'northern', u'northwest', u'norway', u'norwegian', u'notabl', u'note', u'noth', u'notic', u'notif', u'notion', u'notr', u'nov', u'nova', u'novel', u'novelist', u'novemb', u'nrhp', u'nuclear', u'number', u'numemploye', u'numer', u'nurs', u'nutrit', u'nyc', u'oak', u'obama', u'obituari', u'object', u'oblig', u'observ', u'observatori', u'obtain', u'obvious', u'occas', u'occasion', u'occup', u'occupi', u'occur', u'ocean', u'oclc', u'oct', u'octob', u'odd', u'offenc', u'offend', u'offens', u'offer', u'offic', u'officehold', u'offici', u'officialnam', u'often', u'ohio', u'oi', u'oil', u'ojeda', u'oklahoma', u'old', u'older', u'oldest', u'oliv', u'olya', u'olymp', u'one', u'ongo', u'onlin', u'ontario', u'onto', u'onward', u'ope', u'open', u'oper', u'opera', u'opinion', u'oppon', u'opportun', u'oppos', u'opposit', u'opprank', u'oppress', u'optim', u'option', u'oral', u'orang', u'orbit', u'orchestra', u'ordain', u'order', u'ordin', u'ordinari', u'ordo', u'oregon', u'organ', u'organis', u'organiz', u'orient', u'origin', u'orissa', u'orlean', u'orphan', u'orthodox', u'osborn', u'oscar', u'other', u'othernam', u'otherwis', u'ottawa', u'otto', u'ottoman', u'outbreak', u'outcom', u'outdoor', u'outer', u'outlet', u'outlin', u'output', u'outreach', u'outsid', u'outstand', u'oval', u'over', u'overal', u'overcom', u'overlap', u'overlook', u'oversea', u'overtim', u'overwhelm', u'owe', u'owen', u'own', u'owner', u'ownership', u'oxford', u'pace', u'pacif', u'pack', u'packag', u'packard', u'pagan', u'page', u'paid', u'pain', u'paint', u'painter', u'pair', u'pakhtunkhwa', u'pakistan', u'pakistani', u'pala', u'palac', u'palestin', u'palestinian', u'palm', u'palmer', u'pan', u'panel', u'panther', u'papal', u'paper', u'par', u'para', u'parachut', u'parad', u'paradis', u'parallel', u'paramet', u'parent', u'pari', u'parish', u'park', u'parker', u'parliament', u'parliamentari', u'parol', u'part', u'parti', u'partial', u'particip', u'particular', u'partisan', u'partner', u'partnership', u'pasha', u'pass', u'passag', u'passeng', u'passion', u'passport', u'past', u'pastor', u'pat', u'patent', u'path', u'pathway', u'patient', u'patriarch', u'patrick', u'patriot', u'patrol', u'patron', u'pattern', u'paul', u'paulo', u'pay', u'payment', u'pdf', u'peac', u'peak', u'peasant', u'pedro', u'peer', u'pen', u'penalti', u'peninsula', u'pennsylvania', u'pension', u'peopl', u'per', u'perceiv', u'percent', u'percentag', u'percept', u'perfect', u'perform', u'perhap', u'period', u'perman', u'permiss', u'permit', u'perpetr', u'perri', u'persecut', u'persian', u'persist', u'person', u'personnel', u'perspect', u'persuad', u'perth', u'peru', u'peruvian', u'pete', u'peter', u'petersburg', u'petit', u'petroleum', u'pga', u'phantom', u'phase', u'phd', u'phenomenon', u'phil', u'philadelphia', u'philip', u'philipp', u'philippin', u'phillip', u'philosoph', u'philosophi', u'phoenix', u'phone', u'photo', u'photograph', u'photographi', u'phrase', u'phylum', u'physic', u'physician', u'physicist', u'pianist', u'piano', u'pick', u'picker', u'pictur', u'piec', u'pierr', u'pig', u'pilot', u'pink', u'pioneer', u'pirat', u'pit', u'pitch', u'pittsburgh', u'pizza', u'pkk', u'place', u'plain', u'plainrowhead', u'plan', u'plane', u'planet', u'plant', u'plastic', u'plate', u'platform', u'platinum', u'plato', u'play', u'player', u'playoff', u'playwright', u'plead', u'pleas', u'pleasur', u'pledg', u'plot', u'plus', u'plushenko', u'plymouth', u'pmc', u'pmid', u'pnbsp', u'pocket', u'pocklington', u'podujev', u'podujevo', u'poem', u'poet', u'poetri', u'point', u'poison', u'pol', u'poland', u'pole', u'polic', u'polici', u'polish', u'polit', u'politician', u'poll', u'pollut', u'polo', u'pomerania', u'pomeranian', u'pool', u'poor', u'pop', u'pope', u'popul', u'popular', u'populationasof', u'populationdensitykm', u'populationfootnot', u'populationtot', u'por', u'port', u'portal', u'portfolio', u'portion', u'portrait', u'portray', u'portug', u'portugues', u'pos', u'pose', u'posit', u'possess', u'possibl', u'post', u'postal', u'postalcod', u'postalcodetyp', u'poster', u'postur', u'potenti', u'pound', u'pour', u'poverti', u'powel', u'power', u'ppnbsp', u'practic', u'practition', u'pradera', u'pradesh', u'pragu', u'prais', u'pray', u'prayer', u'pre', u'preach', u'preced', u'precipit', u'precis', u'predecessor', u'predict', u'predomin', u'prefectur', u'prefer', u'pregnant', u'premier', u'premis', u'premium', u'prepar', u'presbyterian', u'presenc', u'present', u'preserv', u'presid', u'presidenti', u'press', u'pressur', u'prestigi', u'pretend', u'prevail', u'preval', u'prevent', u'previous', u'price', u'pride', u'priest', u'primari', u'primarili', u'prime', u'princ', u'princess', u'princeton', u'princip', u'principl', u'print', u'printer', u'prior', u'prioriti', u'prison', u'pristina', u'privat', u'privileg', u'prix', u'prize', u'prizren', u'pro', u'probabl', u'probat', u'probe', u'problem', u'procedur', u'proceed', u'process', u'proclaim', u'produc', u'product', u'prof', u'profess', u'profession', u'professor', u'profil', u'profit', u'program', u'programm', u'progress', u'prohibit', u'project', u'promin', u'promis', u'promot', u'prompt', u'proof', u'propaganda', u'proper', u'properti', u'prophet', u'propon', u'proport', u'propos', u'prosecut', u'prosecutor', u'prospect', u'prosper', u'protect', u'protector', u'protein', u'protest', u'protocol', u'prototyp', u'prove', u'proven', u'provid', u'provinc', u'provinci', u'provis', u'provision', u'prussia', u'psychiatr', u'psychiatri', u'psychiatrist', u'psycholog', u'psychologist', u'public', u'publish', u'publisherth', u'puerto', u'pull', u'puls', u'punish', u'punjab', u'punk', u'pupil', u'purchas', u'pure', u'purpos', u'pursu', u'pursuit', u'push', u'pushkolli', u'pushpinlabelposit', u'pushpinmap', u'pushpinmapcapt', u'put', u'qaleh', u'qing', u'qualif', u'qualifi', u'qualiti', u'quantiti', u'quarter', u'que', u'quebec', u'queen', u'queensland', u'quest', u'question', u'quick', u'quit', u'quot', u'quran', u'rabbi', u'race', u'racial', u'racin', u'racism', u'racist', u'radiat', u'radic', u'radio', u'radioact', u'rahman', u'raid', u'raider', u'rail', u'railroad', u'railway', u'rain', u'rais', u'raja', u'rajput', u'ralli', u'ralph', u'ram', u'ran', u'rancourt', u'randi', u'random', u'rang', u'ranger', u'rank', u'rap', u'rape', u'rapid', u'rapper', u'rare', u'rat', u'rate', u'rather', u'ratio', u'ration', u'raw', u'ray', u'raymond', u'razavi', u'rcmp', u'reach', u'reaction', u'reactor', u'read', u'reader', u'readi', u'reagan', u'real', u'realiti', u'realiz', u'realli', u'realm', u'rear', u'reason', u'rebecca', u'rebel', u'rebellion', u'rebound', u'rebuilt', u'recal', u'receiv', u'recent', u'recept', u'receptor', u'recipi', u'recogn', u'recognis', u'recognit', u'recommend', u'reconstruct', u'record', u'recov', u'recoveri', u'recreat', u'recruit', u'red', u'reduc', u'reduct', u'reed', u'ref', u'refer', u'refere', u'referendum', u'refharv', u'reflect', u'refnum', u'reform', u'refuge', u'refus', u'regard', u'regardless', u'regim', u'regiment', u'region', u'regist', u'registr', u'registri', u'regnum', u'reguillo', u'regul', u'regular', u'regulatori', u'rehabilit', u'reign', u'reinforc', u'reject', u'relat', u'relationship', u'relay', u'releas', u'relev', u'reli', u'reliabl', u'relief', u'religi', u'religion', u'reloc', u'remain', u'remaind', u'remark', u'remedi', u'rememb', u'remind', u'remix', u'remot', u'remov', u'renaiss', u'renam', u'render', u'renew', u'renov', u'renown', u'rent', u'rep', u'repair', u'repeat', u'replac', u'repli', u'report', u'repres', u'represent', u'repress', u'republ', u'republican', u'reput', u'request', u'requir', u'res', u'rescu', u'research', u'resembl', u'reserv', u'resid', u'residenti', u'resign', u'resist', u'resolut', u'resolv', u'resort', u'resourc', u'respect', u'respond', u'respons', u'rest', u'restaur', u'restor', u'restrict', u'result', u'resum', u'ret', u'retail', u'retain', u'retali', u'retir', u'retreat', u'retriev', u'return', u'rev', u'reveal', u'revel', u'revenu', u'revers', u'review', u'revis', u'reviv', u'revolt', u'revolut', u'revolutionari', u'revscor', u'reward', u'rey', u'reynold', u'rez', u'rhode', u'rhythm', u'riba', u'rica', u'rican', u'ricardo', u'rice', u'rich', u'richard', u'richmond', u'rick', u'rico', u'ride', u'rider', u'ridg', u'rifl', u'right', u'righteous', u'ring', u'rinko', u'rio', u'riot', u'rise', u'risk', u'rita', u'ritual', u'rival', u'river', u'rnberg', u'road', u'rob', u'robert', u'roberto', u'robin', u'robinson', u'robot', u'roc', u'rock', u'rocket', u'rod', u'rodr', u'roger', u'role', u'roll', u'rom', u'roman', u'romanc', u'romania', u'romanian', u'romant', u'rome', u'ron', u'ronald', u'roof', u'room', u'roosevelt', u'root', u'rope', u'rosa', u'rose', u'ross', u'rotat', u'roug', u'rough', u'round', u'rout', u'routin', u'routledg', u'row', u'rowspan', u'roy', u'royal', u'royalti', u'rttemberg', u'rugbi', u'ruin', u'rule', u'ruler', u'rumor', u'run', u'runner', u'runtim', u'rural', u'rush', u'russel', u'russia', u'russian', u'rwanda', u'ryan', u'ryu', u'sabha', u'sabr', u'sack', u'sacr', u'sad', u'safe', u'safeti', u'sage', u'sahara', u'sahra', u'said', u'sail', u'sailor', u'saint', u'sakura', u'salari', u'sale', u'salt', u'salvador', u'salvat', u'sam', u'sampl', u'samuel', u'san', u'sanction', u'sand', u'sandi', u'sandra', u'sandston', u'sang', u'sant', u'santa', u'santhosh', u'santiago', u'santo', u'sar', u'sara', u'sarah', u'saskatchewan', u'sat', u'satellit', u'satisfi', u'saturday', u'saudi', u'save', u'saw', u'say', u'sayyid', u'scale', u'scandal', u'scene', u'schedul', u'scheme', u'scholar', u'scholarship', u'school', u'scienc', u'scientif', u'scientist', u'scientolog', u'scissor', u'scope', u'scopecol', u'scoperow', u'score', u'scorenbsp', u'scotia', u'scotland', u'scott', u'scottish', u'scrap', u'screen', u'script', u'scriptur', u'sculptur', u'sea', u'seahawk', u'seal', u'sean', u'search', u'season', u'seat', u'seattl', u'sec', u'second', u'secondari', u'secret', u'secretari', u'section', u'sector', u'secular', u'secur', u'see', u'seed', u'seednbsp', u'seek', u'seem', u'seen', u'segment', u'seiz', u'select', u'self', u'sell', u'seller', u'semi', u'seminar', u'seminari', u'semit', u'sempl', u'senat', u'send', u'senior', u'sens', u'sensit', u'sensor', u'sent', u'sentenc', u'sentiment', u'sentinel', u'sep', u'separ', u'separatist', u'sept', u'septemb', u'sequenc', u'serb', u'serbia', u'serbian', u'sergeant', u'seri', u'serial', u'serious', u'serv', u'servant', u'server', u'servic', u'session', u'set', u'settl', u'settlement', u'settlementtyp', u'settler', u'seung', u'seven', u'seventh', u'sever', u'sex', u'sexual', u'shadow', u'shah', u'shakespear', u'shall', u'shanghai', u'shape', u'share', u'sharehold', u'sharp', u'shaw', u'shawn', u'shear', u'sheep', u'sheet', u'sheikh', u'shell', u'shelter', u'shepherd', u'sheriff', u'shi', u'shield', u'shift', u'shin', u'shinran', u'ship', u'shirt', u'shock', u'shoot', u'shop', u'shore', u'short', u'shot', u'shoulder', u'show', u'shown', u'shri', u'shrine', u'shunpei', u'shut', u'sick', u'side', u'sieg', u'sierra', u'sight', u'sign', u'signal', u'signatur', u'signific', u'sikh', u'silenc', u'silent', u'silk', u'silver', u'similar', u'simon', u'simpl', u'simpli', u'simpson', u'simul', u'simultan', u'sin', u'sinc', u'sing', u'singapor', u'singer', u'singh', u'singl', u'sink', u'sir', u'sister', u'sit', u'site', u'sitecityst', u'sitenam', u'siterefer', u'sitestadium', u'situat', u'six', u'sixth', u'sixti', u'size', u'skate', u'ski', u'skill', u'skin', u'sky', u'slaughter', u'slav', u'slave', u'slaveri', u'slavic', u'slayer', u'sleep', u'slide', u'slight', u'slogan', u'slot', u'slovak', u'slovakia', u'slovenia', u'slow', u'small', u'smaller', u'smart', u'smile', u'smith', u'smoke', u'smooth', u'snooker', u'snow', u'soccer', u'social', u'socialist', u'societi', u'sociolog', u'sofla', u'soft', u'softwar', u'soho', u'soicom', u'soicommond', u'soil', u'solar', u'sold', u'soldier', u'sole', u'solid', u'solidar', u'solo', u'solut', u'solv', u'somalia', u'someon', u'someth', u'sometim', u'somewhat', u'son', u'song', u'songwrit', u'soni', u'soon', u'sort', u'sortabl', u'sought', u'soul', u'sound', u'soundtrack', u'sourc', u'south', u'southeast', u'southeastern', u'southern', u'southwest', u'sovereign', u'sovereignti', u'soviet', u'space', u'spain', u'span', u'spanish', u'spark', u'speak', u'speaker', u'speci', u'special', u'specialist', u'specif', u'specifi', u'spectrum', u'specul', u'speech', u'speed', u'spell', u'spencer', u'spend', u'spent', u'sphere', u'spi', u'spin', u'spirit', u'spiritu', u'split', u'spoke', u'spoken', u'spokesman', u'sponsor', u'sport', u'spot', u'spous', u'spray', u'spread', u'spring', u'squad', u'squadron', u'squar', u'sri', u'stabil', u'stabl', u'stack', u'stadium', u'staff', u'staffordshir', u'stage', u'stake', u'stalin', u'stamp', u'stanc', u'stand', u'standard', u'stanford', u'stanley', u'star', u'stark', u'start', u'stat', u'state', u'statement', u'station', u'statist', u'statu', u'status', u'statut', u'stay', u'steal', u'steam', u'steel', u'steinberg', u'stem', u'step', u'stephen', u'stereotyp', u'steve', u'steven', u'stewart', u'stick', u'still', u'stimul', u'stock', u'stockholm', u'stolen', u'stone', u'stood', u'stop', u'storag', u'store', u'storey', u'stori', u'storm', u'straight', u'strain', u'strang', u'strateg', u'strategi', u'stream', u'street', u'streetcar', u'strength', u'strengthen', u'stress', u'stretch', u'strict', u'strike', u'string', u'strip', u'stroke', u'strong', u'stronger', u'struck', u'structur', u'struggl', u'stuart', u'student', u'studi', u'studio', u'stuttgart', u'style', u'stylebackground', u'stylebackgroundbbf', u'stylebackgrounddffeb', u'stylebackgroundefefef', u'stylebackgroundfbb', u'stylebackgroundffefcf', u'stylebackgroundfff', u'stylebackgroundfffnr', u'stylebord', u'stylecolor', u'stylefont', u'styleheightem', u'styletext', u'stylewidth', u'stylewidthem', u'stylewidthpx', u'su', u'sub', u'subdivis', u'subdivisionnam', u'subdivisiontyp', u'subject', u'submarin', u'submiss', u'submit', u'subsequ', u'subsid', u'subsidiari', u'substanc', u'substanti', u'substitut', u'suburb', u'suburban', u'succeed', u'success', u'successor', u'sudan', u'sudden', u'suffer', u'suffici', u'sufi', u'sugar', u'suggest', u'suicid', u'suit', u'suitabl', u'sullivan', u'sultan', u'sum', u'summari', u'summer', u'summit', u'sun', u'sunday', u'sung', u'sunni', u'sunshin', u'super', u'superintend', u'superior', u'supervis', u'supplement', u'suppli', u'support', u'suppos', u'suppress', u'suprem', u'sur', u'sure', u'surfac', u'surgeon', u'surgeri', u'surnam', u'surpris', u'surrend', u'surround', u'surveil', u'survey', u'surviv', u'survivor', u'susan', u'suspect', u'suspend', u'suspens', u'sustain', u'sutton', u'svg', u'swan', u'sweden', u'swedish', u'sweet', u'swim', u'swing', u'swiss', u'switch', u'switzerland', u'sword', u'sydney', u'symbol', u'syndic', u'synod', u'synonym', u'syria', u'syrian', u'system', u'systemat', u'tabl', u'tackl', u'tactic', u'tag', u'tail', u'taiwan', u'take', u'taken', u'tale', u'talent', u'talk', u'tall', u'tamil', u'tang', u'tank', u'tape', u'target', u'tarim', u'task', u'tast', u'taught', u'tax', u'taxobox', u'taylor', u'tea', u'teach', u'teacher', u'team', u'tear', u'tech', u'technic', u'techniqu', u'technolog', u'ted', u'teen', u'teenag', u'tel', u'telecommun', u'telegraph', u'telephon', u'televis', u'tell', u'teller', u'temperatur', u'templ', u'temporari', u'ten', u'tend', u'tendenc', u'tender', u'tennesse', u'tenni', u'tension', u'tent', u'tenur', u'tepco', u'teresa', u'term', u'termend', u'termin', u'terminus', u'termstart', u'terri', u'territori', u'terror', u'terrorist', u'test', u'testament', u'testifi', u'testimoni', u'texa', u'text', u'thai', u'thailand', u'thank', u'that', u'theater', u'theatr', u'theft', u'themat', u'theme', u'theodor', u'theolog', u'theologian', u'theoret', u'theori', u'therapi', u'thereaft', u'therebi', u'therefor', u'thesi', u'thing', u'think', u'third', u'thirti', u'thoma', u'thompson', u'though', u'thought', u'thousand', u'threat', u'threaten', u'three', u'throne', u'throughout', u'throw', u'thus', u'tibet', u'tica', u'ticket', u'tico', u'tie', u'tier', u'tiger', u'tight', u'tile', u'till', u'tim', u'timber', u'time', u'timelin', u'timezon', u'timezonedst', u'timothi', u'tinnitus', u'tip', u'tipu', u'tissu', u'titl', u'titleth', u'tobacco', u'today', u'todd', u'togeth', u'tokyo', u'told', u'toler', u'toll', u'tom', u'tomb', u'tommi', u'ton', u'tone', u'toni', u'took', u'tool', u'top', u'topic', u'torah', u'torbat', u'torino', u'toronto', u'torr', u'tortur', u'toss', u'total', u'touch', u'tour', u'tourism', u'tourist', u'tournament', u'toward', u'tower', u'town', u'township', u'toxic', u'toy', u'trace', u'track', u'trade', u'trader', u'tradit', u'traffic', u'traffick', u'trail', u'trailer', u'train', u'trainer', u'trait', u'tram', u'tran', u'transact', u'transcript', u'transfer', u'transform', u'transgend', u'transit', u'translat', u'transmiss', u'transpar', u'transport', u'transylvania', u'trap', u'travancor', u'travel', u'treasur', u'treat', u'treati', u'treatment', u'tree', u'trend', u'tri', u'trial', u'tribal', u'tribe', u'tribun', u'tribut', u'trick', u'trigger', u'trim', u'triniti', u'trio', u'trip', u'tripl', u'troop', u'trophi', u'tropic', u'troubl', u'truck', u'true', u'trump', u'trumpet', u'trust', u'truste', u'truth', u'tucker', u'tune', u'tunnel', u'turbin', u'turk', u'turkey', u'turkic', u'turkish', u'turkmen', u'turn', u'turner', u'tweet', u'twelv', u'twenti', u'twentieth', u'twice', u'twin', u'twitchel', u'twitter', u'two', u'txint', u'type', u'typenrhp', u'typhlodromus', u'typic', u'uae', u'uefa', u'uganda', u'ukrain', u'ukrainian', u'ultim', u'umar', u'una', u'unabl', u'unanim', u'uncl', u'und', u'undergo', u'undergradu', u'underground', u'understand', u'understood', u'undertak', u'undertaken', u'unemploy', u'unesco', u'unfortun', u'unifi', u'uniform', u'union', u'uniqu', u'unit', u'uniti', u'unitpref', u'univers', u'universidad', u'unknown', u'unless', u'unlik', u'unsuccess', u'unusu', u'unveil', u'upcom', u'updat', u'upgrad', u'upon', u'upper', u'upris', u'uranium', u'urban', u'urg', u'url', u'usa', u'usag', u'use', u'user', u'uss', u'ussr', u'usual', u'utada', u'utah', u'utc', u'utcoffset', u'utcoffsetdst', u'util', u'utusan', u'uyghur', u'vacat', u'vale', u'valentin', u'valid', u'valigntop', u'valley', u'valu', u'valuabl', u'valv', u'vampir', u'van', u'vancouv', u'var', u'vari', u'variabl', u'variant', u'variat', u'varieti', u'various', u'varsiti', u'vast', u'vega', u'veget', u'vehicl', u'velimirovi', u'venezuela', u'venic', u'ventur', u'venu', u'vers', u'version', u'versus', u'vertic', u'vessel', u'veteran', u'via', u'vice', u'victim', u'victor', u'victori', u'victoria', u'video', u'vienna', u'viet', u'vietnam', u'vietnames', u'view', u'viewer', u'vii', u'vike', u'villa', u'villag', u'villain', u'vilnius', u'vincent', u'violat', u'violenc', u'violent', u'virgin', u'virginia', u'virtu', u'virtual', u'visibl', u'vision', u'visit', u'visitor', u'vista', u'visual', u'vital', u'vladimir', u'vocal', u'vocalist', u'vocat', u'voic', u'voivodeship', u'vol', u'volleybal', u'voltair', u'volum', u'volunt', u'voluntari', u'von', u'vote', u'voter', u'vulner', u'wade', u'wage', u'wagner', u'wait', u'wake', u'wale', u'walk', u'walker', u'wall', u'walter', u'wang', u'want', u'war', u'ward', u'warfar', u'warm', u'warn', u'warrant', u'warren', u'warrior', u'warsaw', u'washington', u'wast', u'watch', u'watchtow', u'water', u'watson', u'watt', u'wave', u'way', u'wayn', u'weak', u'weaken', u'wealth', u'wealthi', u'weapon', u'wear', u'weather', u'web', u'webcom', u'websit', u'wed', u'week', u'weekend', u'weight', u'welcom', u'welfar', u'well', u'went', u'werner', u'west', u'western', u'westminst', u'whatev', u'wheel', u'wherea', u'whether', u'whilst', u'white', u'whole', u'whose', u'wick', u'wicket', u'wide', u'wider', u'widespread', u'widow', u'width', u'widthpx', u'wie', u'wife', u'wild', u'wildlif', u'wilhelm', u'will', u'willi', u'william', u'wilson', u'win', u'wind', u'window', u'wine', u'wing', u'winner', u'winter', u'winton', u'wire', u'wireless', u'wisconsin', u'wisden', u'wisdom', u'wish', u'wit', u'withdraw', u'withdrew', u'within', u'without', u'wizard', u'wkg', u'wolf', u'woman', u'women', u'wonder', u'wood', u'wooden', u'word', u'work', u'worker', u'workshop', u'workth', u'world', u'worldwid', u'worri', u'wors', u'worship', u'worst', u'worth', u'would', u'wound', u'wrestl', u'wright', u'write', u'writer', u'written', u'wrong', u'wrote', u'wta', u'wwe', u'wyom', u'xavier', u'xico', u'xie', u'xinjiang', u'yahoo', u'yale', u'yam', u'yamaha', u'yang', u'yard', u'year', u'yearsact', u'yellow', u'yes', u'yet', u'yield', u'yin', u'yoga', u'yogyakarta', u'york', u'yorkshir', u'young', u'younger', u'youngest', u'youth', u'youthclub', u'youthyear', u'youtub', u'yugoslavia', u'zagreb', u'zealand', u'zero', u'ziegler', u'zimbabw', u'zone', u'zongmi']\n"
     ]
    }
   ],
   "source": [
    "vocab = vectorizer.get_feature_names()\n",
    "print vocab"
   ]
  },
  {
   "cell_type": "code",
   "execution_count": 23,
   "metadata": {
    "collapsed": false
   },
   "outputs": [
    {
     "name": "stdout",
     "output_type": "stream",
     "text": [
      "(4379, 5000)\n"
     ]
    }
   ],
   "source": [
    "feature_matrix = pd.DataFrame(train_data_features, index = train['title'], columns=vectorizer.get_feature_names())\n",
    "print feature_matrix.shape"
   ]
  },
  {
   "cell_type": "code",
   "execution_count": 19,
   "metadata": {
    "collapsed": false
   },
   "outputs": [
    {
     "data": {
      "text/html": [
       "<div>\n",
       "<style>\n",
       "    .dataframe thead tr:only-child th {\n",
       "        text-align: right;\n",
       "    }\n",
       "\n",
       "    .dataframe thead th {\n",
       "        text-align: left;\n",
       "    }\n",
       "\n",
       "    .dataframe tbody tr th {\n",
       "        vertical-align: top;\n",
       "    }\n",
       "</style>\n",
       "<table border=\"1\" class=\"dataframe\">\n",
       "  <thead>\n",
       "    <tr style=\"text-align: right;\">\n",
       "      <th></th>\n",
       "      <th>id</th>\n",
       "      <th>title</th>\n",
       "    </tr>\n",
       "  </thead>\n",
       "  <tbody>\n",
       "    <tr>\n",
       "      <th>0</th>\n",
       "      <td>5597</td>\n",
       "      <td>'Politics of Cyprus'</td>\n",
       "    </tr>\n",
       "    <tr>\n",
       "      <th>1</th>\n",
       "      <td>14668</td>\n",
       "      <td>'Economy of Iraq'</td>\n",
       "    </tr>\n",
       "    <tr>\n",
       "      <th>2</th>\n",
       "      <td>24400</td>\n",
       "      <td>'Pair programming'</td>\n",
       "    </tr>\n",
       "    <tr>\n",
       "      <th>3</th>\n",
       "      <td>32783</td>\n",
       "      <td>'Antisemitism and the New Testament'</td>\n",
       "    </tr>\n",
       "    <tr>\n",
       "      <th>4</th>\n",
       "      <td>38424</td>\n",
       "      <td>'Bikram Yoga'</td>\n",
       "    </tr>\n",
       "  </tbody>\n",
       "</table>\n",
       "</div>"
      ],
      "text/plain": [
       "      id                                 title\n",
       "0   5597                  'Politics of Cyprus'\n",
       "1  14668                     'Economy of Iraq'\n",
       "2  24400                    'Pair programming'\n",
       "3  32783  'Antisemitism and the New Testament'\n",
       "4  38424                         'Bikram Yoga'"
      ]
     },
     "execution_count": 19,
     "metadata": {},
     "output_type": "execute_result"
    }
   ],
   "source": [
    "pov = pd.read_csv('POV.csv')\n",
    "pov.drop(labels=['Unnamed: 0'], axis=1, inplace=True)\n",
    "pov.head()"
   ]
  },
  {
   "cell_type": "code",
   "execution_count": 20,
   "metadata": {
    "collapsed": false
   },
   "outputs": [
    {
     "data": {
      "text/html": [
       "<div>\n",
       "<style>\n",
       "    .dataframe thead tr:only-child th {\n",
       "        text-align: right;\n",
       "    }\n",
       "\n",
       "    .dataframe thead th {\n",
       "        text-align: left;\n",
       "    }\n",
       "\n",
       "    .dataframe tbody tr th {\n",
       "        vertical-align: top;\n",
       "    }\n",
       "</style>\n",
       "<table border=\"1\" class=\"dataframe\">\n",
       "  <thead>\n",
       "    <tr style=\"text-align: right;\">\n",
       "      <th></th>\n",
       "      <th>id</th>\n",
       "      <th>title</th>\n",
       "      <th>title_strip</th>\n",
       "    </tr>\n",
       "  </thead>\n",
       "  <tbody>\n",
       "    <tr>\n",
       "      <th>0</th>\n",
       "      <td>5597</td>\n",
       "      <td>'Politics of Cyprus'</td>\n",
       "      <td>Politics of Cyprus</td>\n",
       "    </tr>\n",
       "    <tr>\n",
       "      <th>1</th>\n",
       "      <td>14668</td>\n",
       "      <td>'Economy of Iraq'</td>\n",
       "      <td>Economy of Iraq</td>\n",
       "    </tr>\n",
       "    <tr>\n",
       "      <th>2</th>\n",
       "      <td>24400</td>\n",
       "      <td>'Pair programming'</td>\n",
       "      <td>Pair programming</td>\n",
       "    </tr>\n",
       "    <tr>\n",
       "      <th>3</th>\n",
       "      <td>32783</td>\n",
       "      <td>'Antisemitism and the New Testament'</td>\n",
       "      <td>Antisemitism and the New Testament</td>\n",
       "    </tr>\n",
       "    <tr>\n",
       "      <th>4</th>\n",
       "      <td>38424</td>\n",
       "      <td>'Bikram Yoga'</td>\n",
       "      <td>Bikram Yoga</td>\n",
       "    </tr>\n",
       "  </tbody>\n",
       "</table>\n",
       "</div>"
      ],
      "text/plain": [
       "      id                                 title  \\\n",
       "0   5597                  'Politics of Cyprus'   \n",
       "1  14668                     'Economy of Iraq'   \n",
       "2  24400                    'Pair programming'   \n",
       "3  32783  'Antisemitism and the New Testament'   \n",
       "4  38424                         'Bikram Yoga'   \n",
       "\n",
       "                          title_strip  \n",
       "0                  Politics of Cyprus  \n",
       "1                     Economy of Iraq  \n",
       "2                    Pair programming  \n",
       "3  Antisemitism and the New Testament  \n",
       "4                         Bikram Yoga  "
      ]
     },
     "execution_count": 20,
     "metadata": {},
     "output_type": "execute_result"
    }
   ],
   "source": [
    "pov['title_strip'] = pov['title'].map(lambda x: re.sub(\"'\", '', x))\n",
    "pov.head()"
   ]
  },
  {
   "cell_type": "code",
   "execution_count": 21,
   "metadata": {
    "collapsed": false
   },
   "outputs": [
    {
     "data": {
      "text/html": [
       "<div>\n",
       "<style>\n",
       "    .dataframe thead tr:only-child th {\n",
       "        text-align: right;\n",
       "    }\n",
       "\n",
       "    .dataframe thead th {\n",
       "        text-align: left;\n",
       "    }\n",
       "\n",
       "    .dataframe tbody tr th {\n",
       "        vertical-align: top;\n",
       "    }\n",
       "</style>\n",
       "<table border=\"1\" class=\"dataframe\">\n",
       "  <thead>\n",
       "    <tr style=\"text-align: right;\">\n",
       "      <th></th>\n",
       "      <th>id</th>\n",
       "      <th>title</th>\n",
       "      <th>text_clean</th>\n",
       "      <th>pov</th>\n",
       "    </tr>\n",
       "  </thead>\n",
       "  <tbody>\n",
       "    <tr>\n",
       "      <th>0</th>\n",
       "      <td>2936718</td>\n",
       "      <td>Meitei Christians</td>\n",
       "      <td>meitei christian christian movement base manip...</td>\n",
       "      <td>True</td>\n",
       "    </tr>\n",
       "    <tr>\n",
       "      <th>1</th>\n",
       "      <td>17023672</td>\n",
       "      <td>Musical expression</td>\n",
       "      <td>music express art play sing music emot communi...</td>\n",
       "      <td>True</td>\n",
       "    </tr>\n",
       "    <tr>\n",
       "      <th>2</th>\n",
       "      <td>37590035</td>\n",
       "      <td>READ 180</td>\n",
       "      <td>read read intervent program wide use student g...</td>\n",
       "      <td>True</td>\n",
       "    </tr>\n",
       "    <tr>\n",
       "      <th>3</th>\n",
       "      <td>3191002</td>\n",
       "      <td>The Ambulance</td>\n",
       "      <td>infobox film name ambul imag ambulancejpg imag...</td>\n",
       "      <td>False</td>\n",
       "    </tr>\n",
       "    <tr>\n",
       "      <th>4</th>\n",
       "      <td>24154353</td>\n",
       "      <td>Sifo Company</td>\n",
       "      <td>sifo compani busi sifo toy sifo novelti compan...</td>\n",
       "      <td>False</td>\n",
       "    </tr>\n",
       "  </tbody>\n",
       "</table>\n",
       "</div>"
      ],
      "text/plain": [
       "         id               title  \\\n",
       "0   2936718   Meitei Christians   \n",
       "1  17023672  Musical expression   \n",
       "2  37590035            READ 180   \n",
       "3   3191002       The Ambulance   \n",
       "4  24154353        Sifo Company   \n",
       "\n",
       "                                          text_clean    pov  \n",
       "0  meitei christian christian movement base manip...   True  \n",
       "1  music express art play sing music emot communi...   True  \n",
       "2  read read intervent program wide use student g...   True  \n",
       "3  infobox film name ambul imag ambulancejpg imag...  False  \n",
       "4  sifo compani busi sifo toy sifo novelti compan...  False  "
      ]
     },
     "execution_count": 21,
     "metadata": {},
     "output_type": "execute_result"
    }
   ],
   "source": [
    "#add labels to train and test set\n",
    "train['pov'] = train['title'].isin(pov['title_strip'])\n",
    "test['pov'] = test['title'].isin(pov['title_strip'])\n",
    "\n",
    "test.head()"
   ]
  },
  {
   "cell_type": "code",
   "execution_count": 100,
   "metadata": {
    "collapsed": false
   },
   "outputs": [],
   "source": [
    "#join features with labels\n",
    "#feature_matrix = pd.concat([feature_matrix, pd.DataFrame({'pov': list(df['pov'])}, index=df['title'])], axis=1)"
   ]
  },
  {
   "cell_type": "code",
   "execution_count": 24,
   "metadata": {
    "collapsed": false
   },
   "outputs": [],
   "source": [
    "from sklearn.ensemble import RandomForestClassifier\n",
    "\n",
    "# Initialize a Random Forest classifier with 100 trees\n",
    "forest = RandomForestClassifier(n_estimators = 100, criterion='entropy') \n",
    "\n",
    "# Fit the forest to the training set, using the bag of words as \n",
    "# features and the sentiment labels as the response variable\n",
    "#\n",
    "# This may take a few minutes to run\n",
    "forest = forest.fit(feature_matrix, train['pov'])"
   ]
  },
  {
   "cell_type": "code",
   "execution_count": 25,
   "metadata": {
    "collapsed": true
   },
   "outputs": [],
   "source": [
    "# Get a bag of words for the test set, and convert to a numpy array\n",
    "test_data_features = vectorizer.transform(test['text_clean'])\n",
    "test_data_features = test_data_features.toarray()\n"
   ]
  },
  {
   "cell_type": "code",
   "execution_count": 26,
   "metadata": {
    "collapsed": false
   },
   "outputs": [
    {
     "name": "stdout",
     "output_type": "stream",
     "text": [
      "test score: 0.879594423321\n"
     ]
    }
   ],
   "source": [
    "print \"test score:\", forest.score(test_data_features, test['pov'])"
   ]
  },
  {
   "cell_type": "code",
   "execution_count": 27,
   "metadata": {
    "collapsed": false
   },
   "outputs": [
    {
     "name": "stdout",
     "output_type": "stream",
     "text": [
      "train score: 1.0\n"
     ]
    }
   ],
   "source": [
    "print \"train score:\", forest.score(train_data_features, train['pov'])"
   ]
  },
  {
   "cell_type": "code",
   "execution_count": 25,
   "metadata": {
    "collapsed": false
   },
   "outputs": [
    {
     "data": {
      "text/plain": [
       "0.90646492434662995"
      ]
     },
     "execution_count": 25,
     "metadata": {},
     "output_type": "execute_result"
    }
   ],
   "source": [
    "forest.score(test_data_features[test['pov']],[True]*727)"
   ]
  },
  {
   "cell_type": "code",
   "execution_count": 26,
   "metadata": {
    "collapsed": false
   },
   "outputs": [
    {
     "data": {
      "text/plain": [
       "0.86368977673325498"
      ]
     },
     "execution_count": 26,
     "metadata": {},
     "output_type": "execute_result"
    }
   ],
   "source": [
    "forest.score(test_data_features[test['pov']==False],[False]*851)"
   ]
  }
 ],
 "metadata": {
  "kernelspec": {
   "display_name": "Python 2",
   "language": "python",
   "name": "python2"
  },
  "language_info": {
   "codemirror_mode": {
    "name": "ipython",
    "version": 2
   },
   "file_extension": ".py",
   "mimetype": "text/x-python",
   "name": "python",
   "nbconvert_exporter": "python",
   "pygments_lexer": "ipython2",
   "version": "2.7.12"
  }
 },
 "nbformat": 4,
 "nbformat_minor": 0
}
