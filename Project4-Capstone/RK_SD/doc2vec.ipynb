{
 "cells": [
  {
   "cell_type": "code",
   "execution_count": 19,
   "metadata": {
    "collapsed": true
   },
   "outputs": [],
   "source": [
    "import pickle\n",
    "import pandas as pd\n",
    "import numpy as np\n",
    "import re\n",
    "import os\n",
    "import matplotlib.pyplot as plt\n",
    "import gensim\n",
    "from gensim.utils import simple_preprocess\n",
    "from gensim.models.doc2vec import Doc2Vec, TaggedDocument"
   ]
  },
  {
   "cell_type": "code",
   "execution_count": 45,
   "metadata": {
    "collapsed": true
   },
   "outputs": [],
   "source": [
    "train = pd.read_pickle('train_bow.pkl')\n",
    "test = pd.read_pickle('test_bow.pkl')"
   ]
  },
  {
   "cell_type": "code",
   "execution_count": 91,
   "metadata": {
    "collapsed": false
   },
   "outputs": [
    {
     "data": {
      "text/html": [
       "<div>\n",
       "<style>\n",
       "    .dataframe thead tr:only-child th {\n",
       "        text-align: right;\n",
       "    }\n",
       "\n",
       "    .dataframe thead th {\n",
       "        text-align: left;\n",
       "    }\n",
       "\n",
       "    .dataframe tbody tr th {\n",
       "        vertical-align: top;\n",
       "    }\n",
       "</style>\n",
       "<table border=\"1\" class=\"dataframe\">\n",
       "  <thead>\n",
       "    <tr style=\"text-align: right;\">\n",
       "      <th></th>\n",
       "      <th>id</th>\n",
       "      <th>title</th>\n",
       "      <th>text_clean</th>\n",
       "      <th>pov</th>\n",
       "    </tr>\n",
       "  </thead>\n",
       "  <tbody>\n",
       "    <tr>\n",
       "      <th>0</th>\n",
       "      <td>619941</td>\n",
       "      <td>Loch Katrine</td>\n",
       "      <td>infobox lake name loch katrin imag loch katrin...</td>\n",
       "      <td>False</td>\n",
       "    </tr>\n",
       "    <tr>\n",
       "      <th>1</th>\n",
       "      <td>3884222</td>\n",
       "      <td>Bhadayasa</td>\n",
       "      <td>infobox royalti imag filebhadrayasha coinjpg a...</td>\n",
       "      <td>False</td>\n",
       "    </tr>\n",
       "    <tr>\n",
       "      <th>2</th>\n",
       "      <td>4229879</td>\n",
       "      <td>Lee Jones (author)</td>\n",
       "      <td>lee jone onlin poker execut author win low lim...</td>\n",
       "      <td>False</td>\n",
       "    </tr>\n",
       "    <tr>\n",
       "      <th>3</th>\n",
       "      <td>5320685</td>\n",
       "      <td>School District 54 Bulkley Valley</td>\n",
       "      <td>infobox school district name school district b...</td>\n",
       "      <td>False</td>\n",
       "    </tr>\n",
       "    <tr>\n",
       "      <th>4</th>\n",
       "      <td>9146365</td>\n",
       "      <td>Combing</td>\n",
       "      <td>interlac disambiguationinterlaceth comb hairco...</td>\n",
       "      <td>False</td>\n",
       "    </tr>\n",
       "  </tbody>\n",
       "</table>\n",
       "</div>"
      ],
      "text/plain": [
       "        id                              title  \\\n",
       "0   619941                       Loch Katrine   \n",
       "1  3884222                          Bhadayasa   \n",
       "2  4229879                 Lee Jones (author)   \n",
       "3  5320685  School District 54 Bulkley Valley   \n",
       "4  9146365                            Combing   \n",
       "\n",
       "                                          text_clean    pov  \n",
       "0  infobox lake name loch katrin imag loch katrin...  False  \n",
       "1  infobox royalti imag filebhadrayasha coinjpg a...  False  \n",
       "2  lee jone onlin poker execut author win low lim...  False  \n",
       "3  infobox school district name school district b...  False  \n",
       "4  interlac disambiguationinterlaceth comb hairco...  False  "
      ]
     },
     "execution_count": 91,
     "metadata": {},
     "output_type": "execute_result"
    }
   ],
   "source": [
    "train.head()"
   ]
  },
  {
   "cell_type": "code",
   "execution_count": 65,
   "metadata": {
    "collapsed": false
   },
   "outputs": [
    {
     "data": {
      "text/html": [
       "<div>\n",
       "<style>\n",
       "    .dataframe thead tr:only-child th {\n",
       "        text-align: right;\n",
       "    }\n",
       "\n",
       "    .dataframe thead th {\n",
       "        text-align: left;\n",
       "    }\n",
       "\n",
       "    .dataframe tbody tr th {\n",
       "        vertical-align: top;\n",
       "    }\n",
       "</style>\n",
       "<table border=\"1\" class=\"dataframe\">\n",
       "  <thead>\n",
       "    <tr style=\"text-align: right;\">\n",
       "      <th></th>\n",
       "      <th>id</th>\n",
       "      <th>title</th>\n",
       "      <th>title_strip</th>\n",
       "    </tr>\n",
       "  </thead>\n",
       "  <tbody>\n",
       "    <tr>\n",
       "      <th>0</th>\n",
       "      <td>5597</td>\n",
       "      <td>'Politics of Cyprus'</td>\n",
       "      <td>Politics of Cyprus</td>\n",
       "    </tr>\n",
       "    <tr>\n",
       "      <th>1</th>\n",
       "      <td>14668</td>\n",
       "      <td>'Economy of Iraq'</td>\n",
       "      <td>Economy of Iraq</td>\n",
       "    </tr>\n",
       "    <tr>\n",
       "      <th>2</th>\n",
       "      <td>24400</td>\n",
       "      <td>'Pair programming'</td>\n",
       "      <td>Pair programming</td>\n",
       "    </tr>\n",
       "    <tr>\n",
       "      <th>3</th>\n",
       "      <td>32783</td>\n",
       "      <td>'Antisemitism and the New Testament'</td>\n",
       "      <td>Antisemitism and the New Testament</td>\n",
       "    </tr>\n",
       "    <tr>\n",
       "      <th>4</th>\n",
       "      <td>38424</td>\n",
       "      <td>'Bikram Yoga'</td>\n",
       "      <td>Bikram Yoga</td>\n",
       "    </tr>\n",
       "  </tbody>\n",
       "</table>\n",
       "</div>"
      ],
      "text/plain": [
       "      id                                 title  \\\n",
       "0   5597                  'Politics of Cyprus'   \n",
       "1  14668                     'Economy of Iraq'   \n",
       "2  24400                    'Pair programming'   \n",
       "3  32783  'Antisemitism and the New Testament'   \n",
       "4  38424                         'Bikram Yoga'   \n",
       "\n",
       "                          title_strip  \n",
       "0                  Politics of Cyprus  \n",
       "1                     Economy of Iraq  \n",
       "2                    Pair programming  \n",
       "3  Antisemitism and the New Testament  \n",
       "4                         Bikram Yoga  "
      ]
     },
     "execution_count": 65,
     "metadata": {},
     "output_type": "execute_result"
    }
   ],
   "source": [
    "pov = pd.read_csv('POV.csv')\n",
    "pov.drop(labels=['Unnamed: 0'], axis=1, inplace=True)\n",
    "pov['title_strip'] = pov['title'].map(lambda x: re.sub(\"'\", '', x))\n",
    "pov.head()"
   ]
  },
  {
   "cell_type": "code",
   "execution_count": 66,
   "metadata": {
    "collapsed": false
   },
   "outputs": [
    {
     "data": {
      "text/html": [
       "<div>\n",
       "<style>\n",
       "    .dataframe thead tr:only-child th {\n",
       "        text-align: right;\n",
       "    }\n",
       "\n",
       "    .dataframe thead th {\n",
       "        text-align: left;\n",
       "    }\n",
       "\n",
       "    .dataframe tbody tr th {\n",
       "        vertical-align: top;\n",
       "    }\n",
       "</style>\n",
       "<table border=\"1\" class=\"dataframe\">\n",
       "  <thead>\n",
       "    <tr style=\"text-align: right;\">\n",
       "      <th></th>\n",
       "      <th>id</th>\n",
       "      <th>title</th>\n",
       "      <th>text_clean</th>\n",
       "      <th>pov</th>\n",
       "    </tr>\n",
       "  </thead>\n",
       "  <tbody>\n",
       "    <tr>\n",
       "      <th>0</th>\n",
       "      <td>2936718</td>\n",
       "      <td>Meitei Christians</td>\n",
       "      <td>meitei christian christian movement base manip...</td>\n",
       "      <td>True</td>\n",
       "    </tr>\n",
       "    <tr>\n",
       "      <th>1</th>\n",
       "      <td>17023672</td>\n",
       "      <td>Musical expression</td>\n",
       "      <td>music express art play sing music emot communi...</td>\n",
       "      <td>True</td>\n",
       "    </tr>\n",
       "    <tr>\n",
       "      <th>2</th>\n",
       "      <td>37590035</td>\n",
       "      <td>READ 180</td>\n",
       "      <td>read read interv program wide use student grad...</td>\n",
       "      <td>True</td>\n",
       "    </tr>\n",
       "    <tr>\n",
       "      <th>3</th>\n",
       "      <td>3191002</td>\n",
       "      <td>The Ambulance</td>\n",
       "      <td>infobox film name ambul imag ambulancejpg imag...</td>\n",
       "      <td>False</td>\n",
       "    </tr>\n",
       "    <tr>\n",
       "      <th>4</th>\n",
       "      <td>24154353</td>\n",
       "      <td>Sifo Company</td>\n",
       "      <td>sifo compani busi sifo toy sifo novelti compan...</td>\n",
       "      <td>False</td>\n",
       "    </tr>\n",
       "  </tbody>\n",
       "</table>\n",
       "</div>"
      ],
      "text/plain": [
       "         id               title  \\\n",
       "0   2936718   Meitei Christians   \n",
       "1  17023672  Musical expression   \n",
       "2  37590035            READ 180   \n",
       "3   3191002       The Ambulance   \n",
       "4  24154353        Sifo Company   \n",
       "\n",
       "                                          text_clean    pov  \n",
       "0  meitei christian christian movement base manip...   True  \n",
       "1  music express art play sing music emot communi...   True  \n",
       "2  read read interv program wide use student grad...   True  \n",
       "3  infobox film name ambul imag ambulancejpg imag...  False  \n",
       "4  sifo compani busi sifo toy sifo novelti compan...  False  "
      ]
     },
     "execution_count": 66,
     "metadata": {},
     "output_type": "execute_result"
    }
   ],
   "source": [
    "#add labels to train and test set\n",
    "train['pov'] = train['title'].isin(pov['title_strip'])\n",
    "test['pov'] = test['title'].isin(pov['title_strip'])\n",
    "\n",
    "test.head()"
   ]
  },
  {
   "cell_type": "code",
   "execution_count": 47,
   "metadata": {
    "collapsed": true
   },
   "outputs": [],
   "source": [
    "assert gensim.models.doc2vec.FAST_VERSION > -1, \"this will be painfully slow otherwise\""
   ]
  },
  {
   "cell_type": "code",
   "execution_count": 48,
   "metadata": {
    "collapsed": true
   },
   "outputs": [],
   "source": [
    "# MyDocs reading from a data frame\n",
    "class MyDocs(object):\n",
    "    def __iter__(self):\n",
    "        for i in range(train.shape[0]):\n",
    "            yield TaggedDocument(words=simple_preprocess(train.iloc[i,2]), tags=['%s' % train.iloc[i,1]])"
   ]
  },
  {
   "cell_type": "code",
   "execution_count": 88,
   "metadata": {
    "collapsed": false
   },
   "outputs": [
    {
     "name": "stdout",
     "output_type": "stream",
     "text": [
      "CPU times: user 295 ms, sys: 591 ms, total: 885 ms\n",
      "Wall time: 1.84 s\n"
     ]
    }
   ],
   "source": [
    "%%time\n",
    "\n",
    "if not os.path.exists('models/doc2vec.model'):\n",
    "    print \"start training doc2vec model...\"\n",
    "    documents = MyDocs()\n",
    "    doc2vec_model = Doc2Vec(dm=1, dbow_words=1, size=200, window=8, min_count=20, workers=1)\n",
    "    doc2vec_model.build_vocab(documents)\n",
    "    doc2vec_model.train(documents, total_examples=doc2vec_model.corpus_count, epochs=doc2vec_model.iter)\n",
    "    if not os.path.exists('models'):\n",
    "        os.makedirs('models')\n",
    "        doc2vec_model.save('models/doc2vec.model')\n",
    "    else:\n",
    "        doc2vec_model.save('models/doc2vec.model')\n",
    "else:\n",
    "    doc2vec_model = Doc2Vec.load('models/doc2vec.model')"
   ]
  },
  {
   "cell_type": "code",
   "execution_count": 85,
   "metadata": {
    "collapsed": true
   },
   "outputs": [],
   "source": [
    "doc2vec_model.initialize_word_vectors()"
   ]
  },
  {
   "cell_type": "code",
   "execution_count": 90,
   "metadata": {
    "collapsed": false
   },
   "outputs": [
    {
     "data": {
      "text/plain": [
       "array([ 0.01331308,  0.03355028,  0.00083345, -0.01781101, -0.00846532,\n",
       "        0.0115648 ,  0.03717271,  0.01931503, -0.00898304, -0.01628613,\n",
       "       -0.02143989, -0.01236345, -0.00175919, -0.00817022, -0.0319072 ,\n",
       "        0.01063433,  0.06575609, -0.02196492, -0.0052598 ,  0.00462697,\n",
       "        0.01951978, -0.0254368 ,  0.02517551,  0.0192138 , -0.10008786,\n",
       "        0.00689221, -0.00562786,  0.02308743,  0.03699073,  0.02374153,\n",
       "       -0.03125314,  0.03349215,  0.03653101,  0.03098488,  0.02748667,\n",
       "        0.02981285,  0.03268561, -0.06556045,  0.04465526, -0.01643338,\n",
       "       -0.06122965, -0.00427128,  0.03971937, -0.01968607,  0.00660813,\n",
       "       -0.03867188,  0.03125178, -0.02825534,  0.02126163, -0.01786485,\n",
       "        0.04203948,  0.02636727,  0.03465724, -0.03409329, -0.0070151 ,\n",
       "       -0.04217396, -0.02301036, -0.00711416, -0.04873128,  0.00234991,\n",
       "       -0.01196017,  0.01518714,  0.00164491, -0.00178916, -0.03028015,\n",
       "       -0.02253855, -0.00187654, -0.0302928 , -0.01497698, -0.03003307,\n",
       "        0.00961452, -0.0752284 ,  0.01955885, -0.02064745, -0.03895336,\n",
       "        0.00718448,  0.0025724 ,  0.04092578,  0.00414417, -0.007247  ,\n",
       "       -0.0133808 , -0.02750132,  0.03858105,  0.02254089,  0.03569986,\n",
       "       -0.06316391,  0.03349483, -0.01469817, -0.01387733,  0.03474054,\n",
       "        0.0036623 ,  0.00326937, -0.02201582, -0.05065762, -0.02623282,\n",
       "       -0.00453698, -0.04131854, -0.00077081,  0.00428524, -0.03608245,\n",
       "        0.01390905,  0.03435191, -0.00843325, -0.04807864, -0.00282006,\n",
       "       -0.02274253,  0.03406188,  0.01967352,  0.00953523,  0.03478391,\n",
       "        0.00916148, -0.00022597, -0.01937287, -0.01698536, -0.02356185,\n",
       "        0.02466031,  0.00948455,  0.03258587,  0.01004879, -0.04670552,\n",
       "        0.0148742 ,  0.02974334, -0.0191135 , -0.00738666,  0.00348948,\n",
       "        0.03178858, -0.02409419,  0.01309459, -0.03373038,  0.04105681,\n",
       "       -0.01267837,  0.02842156,  0.01773637, -0.02309563, -0.02117267,\n",
       "       -0.03577448,  0.02224705, -0.02271506, -0.01696694, -0.0580441 ,\n",
       "        0.03332863,  0.00624414,  0.00299917, -0.03567695,  0.02569653,\n",
       "        0.00389605, -0.0224209 , -0.01195608,  0.00654159, -0.00647088,\n",
       "       -0.01178597, -0.00421996, -0.01852442, -0.02062475, -0.01702214,\n",
       "       -0.00292204, -0.01462258,  0.00667607, -0.01654349,  0.01092851,\n",
       "       -0.03059689, -0.00527933, -0.02416091, -0.00342108, -0.00693439,\n",
       "        0.03664621,  0.02557944,  0.00193946, -0.00779246,  0.02125452,\n",
       "       -0.01856414,  0.00755813, -0.0192318 ,  0.01892409,  0.0069788 ,\n",
       "        0.01492883, -0.02127621,  0.01299507,  0.04996062, -0.04739986,\n",
       "        0.01472858,  0.06121074, -0.01225896,  0.0363516 , -0.05565482,\n",
       "       -0.03075264,  0.00803847,  0.00136178, -0.05497584,  0.04875497,\n",
       "       -0.01938154, -0.05588713,  0.01161373,  0.01476126,  0.09612786,\n",
       "       -0.03318957, -0.02927895,  0.04014821,  0.00275188, -0.0078653 ], dtype=float32)"
      ]
     },
     "execution_count": 90,
     "metadata": {},
     "output_type": "execute_result"
    }
   ],
   "source": [
    "doc2vec_model.infer_vector(['test', 'exam'])"
   ]
  },
  {
   "cell_type": "code",
   "execution_count": 62,
   "metadata": {
    "collapsed": false
   },
   "outputs": [],
   "source": [
    "feature_matrix = pd.concat([pd.Series(doc2vec_model.docvecs[i]) for i in range(0, train.shape[0])], axis=1).T"
   ]
  },
  {
   "cell_type": "code",
   "execution_count": null,
   "metadata": {
    "collapsed": true
   },
   "outputs": [],
   "source": [
    "doc2vec_model."
   ]
  },
  {
   "cell_type": "code",
   "execution_count": 76,
   "metadata": {
    "collapsed": false
   },
   "outputs": [],
   "source": [
    "from sklearn.linear_model import LogisticRegression\n",
    "logit = LogisticRegression(C=.01) \n",
    "\n",
    "logit = logit.fit(feature_matrix, train['pov'])"
   ]
  },
  {
   "cell_type": "code",
   "execution_count": 77,
   "metadata": {
    "collapsed": false
   },
   "outputs": [
    {
     "data": {
      "text/plain": [
       "0.68455915943353129"
      ]
     },
     "execution_count": 77,
     "metadata": {},
     "output_type": "execute_result"
    }
   ],
   "source": [
    "logit.score(feature_matrix, train['pov'])"
   ]
  },
  {
   "cell_type": "code",
   "execution_count": 78,
   "metadata": {
    "collapsed": true
   },
   "outputs": [],
   "source": [
    "from sklearn.ensemble import RandomForestClassifier\n",
    "\n",
    "forest = RandomForestClassifier(n_estimators = 100, criterion='entropy') \n",
    "forest = forest.fit(feature_matrix, train['pov'])"
   ]
  },
  {
   "cell_type": "code",
   "execution_count": 80,
   "metadata": {
    "collapsed": false
   },
   "outputs": [
    {
     "name": "stdout",
     "output_type": "stream",
     "text": [
      " train score: 1.0\n"
     ]
    }
   ],
   "source": [
    "#print \"test score:\", forest.score(test_data_features, test['pov'])\n",
    "print \"train score:\", forest.score(feature_matrix, train['pov'])"
   ]
  },
  {
   "cell_type": "code",
   "execution_count": 83,
   "metadata": {
    "collapsed": false
   },
   "outputs": [],
   "source": [
    "from sklearn.svm import SVC\n",
    "svc = SVC(C=100, kernel='linear') \n",
    "svc = svc.fit(feature_matrix, train['pov'])"
   ]
  },
  {
   "cell_type": "code",
   "execution_count": 84,
   "metadata": {
    "collapsed": false
   },
   "outputs": [
    {
     "name": "stdout",
     "output_type": "stream",
     "text": [
      "train score: 0.709913202376\n"
     ]
    }
   ],
   "source": [
    "print \"train score:\", svc.score(feature_matrix, train['pov'])"
   ]
  },
  {
   "cell_type": "code",
   "execution_count": null,
   "metadata": {
    "collapsed": true
   },
   "outputs": [],
   "source": []
  }
 ],
 "metadata": {
  "kernelspec": {
   "display_name": "Python 2",
   "language": "python",
   "name": "python2"
  },
  "language_info": {
   "codemirror_mode": {
    "name": "ipython",
    "version": 2
   },
   "file_extension": ".py",
   "mimetype": "text/x-python",
   "name": "python",
   "nbconvert_exporter": "python",
   "pygments_lexer": "ipython2",
   "version": "2.7.12"
  }
 },
 "nbformat": 4,
 "nbformat_minor": 0
}
