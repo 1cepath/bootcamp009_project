{
 "cells": [
  {
   "cell_type": "code",
   "execution_count": 1,
   "metadata": {
    "collapsed": true
   },
   "outputs": [],
   "source": [
    "import pickle\n",
    "import pandas as pd\n",
    "import numpy as np\n",
    "import re"
   ]
  },
  {
   "cell_type": "code",
   "execution_count": 2,
   "metadata": {
    "collapsed": false
   },
   "outputs": [],
   "source": [
    "train = pd.read_pickle('train_clean.pkl')\n",
    "test = pd.read_pickle('test_clean.pkl')"
   ]
  },
  {
   "cell_type": "code",
   "execution_count": 3,
   "metadata": {
    "collapsed": false
   },
   "outputs": [
    {
     "data": {
      "text/html": [
       "<div>\n",
       "<style>\n",
       "    .dataframe thead tr:only-child th {\n",
       "        text-align: right;\n",
       "    }\n",
       "\n",
       "    .dataframe thead th {\n",
       "        text-align: left;\n",
       "    }\n",
       "\n",
       "    .dataframe tbody tr th {\n",
       "        vertical-align: top;\n",
       "    }\n",
       "</style>\n",
       "<table border=\"1\" class=\"dataframe\">\n",
       "  <thead>\n",
       "    <tr style=\"text-align: right;\">\n",
       "      <th></th>\n",
       "      <th>id</th>\n",
       "      <th>title</th>\n",
       "      <th>text_clean</th>\n",
       "    </tr>\n",
       "  </thead>\n",
       "  <tbody>\n",
       "    <tr>\n",
       "      <th>0</th>\n",
       "      <td>619941</td>\n",
       "      <td>Loch Katrine</td>\n",
       "      <td>\\n\\n\\n\\n\\nInfobox lake\\n name  Loch Katrine\\n ...</td>\n",
       "    </tr>\n",
       "    <tr>\n",
       "      <th>1</th>\n",
       "      <td>3884222</td>\n",
       "      <td>Bhadayasa</td>\n",
       "      <td>\\n\\nInfobox royalty\\n image  FileBhadrayasha c...</td>\n",
       "    </tr>\n",
       "    <tr>\n",
       "      <th>2</th>\n",
       "      <td>4229879</td>\n",
       "      <td>Lee Jones (author)</td>\n",
       "      <td>\\n\\nLee Jones is an online poker executive and...</td>\n",
       "    </tr>\n",
       "    <tr>\n",
       "      <th>3</th>\n",
       "      <td>5320685</td>\n",
       "      <td>School District 54 Bulkley Valley</td>\n",
       "      <td>Infobox school district\\n name            Scho...</td>\n",
       "    </tr>\n",
       "    <tr>\n",
       "      <th>4</th>\n",
       "      <td>9146365</td>\n",
       "      <td>Combing</td>\n",
       "      <td>Interlace disambiguationInterlacethe combing o...</td>\n",
       "    </tr>\n",
       "  </tbody>\n",
       "</table>\n",
       "</div>"
      ],
      "text/plain": [
       "        id                              title  \\\n",
       "0   619941                       Loch Katrine   \n",
       "1  3884222                          Bhadayasa   \n",
       "2  4229879                 Lee Jones (author)   \n",
       "3  5320685  School District 54 Bulkley Valley   \n",
       "4  9146365                            Combing   \n",
       "\n",
       "                                          text_clean  \n",
       "0  \\n\\n\\n\\n\\nInfobox lake\\n name  Loch Katrine\\n ...  \n",
       "1  \\n\\nInfobox royalty\\n image  FileBhadrayasha c...  \n",
       "2  \\n\\nLee Jones is an online poker executive and...  \n",
       "3  Infobox school district\\n name            Scho...  \n",
       "4  Interlace disambiguationInterlacethe combing o...  "
      ]
     },
     "execution_count": 3,
     "metadata": {},
     "output_type": "execute_result"
    }
   ],
   "source": [
    "train.head()"
   ]
  },
  {
   "cell_type": "code",
   "execution_count": 4,
   "metadata": {
    "collapsed": false
   },
   "outputs": [
    {
     "data": {
      "text/html": [
       "<div>\n",
       "<style>\n",
       "    .dataframe thead tr:only-child th {\n",
       "        text-align: right;\n",
       "    }\n",
       "\n",
       "    .dataframe thead th {\n",
       "        text-align: left;\n",
       "    }\n",
       "\n",
       "    .dataframe tbody tr th {\n",
       "        vertical-align: top;\n",
       "    }\n",
       "</style>\n",
       "<table border=\"1\" class=\"dataframe\">\n",
       "  <thead>\n",
       "    <tr style=\"text-align: right;\">\n",
       "      <th></th>\n",
       "      <th>id</th>\n",
       "      <th>title</th>\n",
       "      <th>text_clean</th>\n",
       "    </tr>\n",
       "  </thead>\n",
       "  <tbody>\n",
       "    <tr>\n",
       "      <th>0</th>\n",
       "      <td>2936718</td>\n",
       "      <td>Meitei Christians</td>\n",
       "      <td>\\n\\n\\nThe Meitei Christians are a Christianity...</td>\n",
       "    </tr>\n",
       "    <tr>\n",
       "      <th>1</th>\n",
       "      <td>17023672</td>\n",
       "      <td>Musical expression</td>\n",
       "      <td>\\n\\n\\n\\n\\nMusical expression is the art of pla...</td>\n",
       "    </tr>\n",
       "    <tr>\n",
       "      <th>2</th>\n",
       "      <td>37590035</td>\n",
       "      <td>READ 180</td>\n",
       "      <td>\\nREAD  is a reading intervention program in w...</td>\n",
       "    </tr>\n",
       "    <tr>\n",
       "      <th>3</th>\n",
       "      <td>3191002</td>\n",
       "      <td>The Ambulance</td>\n",
       "      <td>\\nInfobox film\\n name            The Ambulanc...</td>\n",
       "    </tr>\n",
       "    <tr>\n",
       "      <th>4</th>\n",
       "      <td>24154353</td>\n",
       "      <td>Sifo Company</td>\n",
       "      <td>\\n\\nThe Sifo Company which did business as Sif...</td>\n",
       "    </tr>\n",
       "  </tbody>\n",
       "</table>\n",
       "</div>"
      ],
      "text/plain": [
       "         id               title  \\\n",
       "0   2936718   Meitei Christians   \n",
       "1  17023672  Musical expression   \n",
       "2  37590035            READ 180   \n",
       "3   3191002       The Ambulance   \n",
       "4  24154353        Sifo Company   \n",
       "\n",
       "                                          text_clean  \n",
       "0  \\n\\n\\nThe Meitei Christians are a Christianity...  \n",
       "1  \\n\\n\\n\\n\\nMusical expression is the art of pla...  \n",
       "2  \\nREAD  is a reading intervention program in w...  \n",
       "3   \\nInfobox film\\n name            The Ambulanc...  \n",
       "4  \\n\\nThe Sifo Company which did business as Sif...  "
      ]
     },
     "execution_count": 4,
     "metadata": {},
     "output_type": "execute_result"
    }
   ],
   "source": [
    "test.head()"
   ]
  },
  {
   "cell_type": "code",
   "execution_count": 5,
   "metadata": {
    "collapsed": false
   },
   "outputs": [
    {
     "name": "stdout",
     "output_type": "stream",
     "text": [
      "(1578, 3) (4379, 3)\n"
     ]
    }
   ],
   "source": [
    "print test.shape, train.shape"
   ]
  },
  {
   "cell_type": "code",
   "execution_count": 6,
   "metadata": {
    "collapsed": false
   },
   "outputs": [
    {
     "data": {
      "text/html": [
       "<div>\n",
       "<style>\n",
       "    .dataframe thead tr:only-child th {\n",
       "        text-align: right;\n",
       "    }\n",
       "\n",
       "    .dataframe thead th {\n",
       "        text-align: left;\n",
       "    }\n",
       "\n",
       "    .dataframe tbody tr th {\n",
       "        vertical-align: top;\n",
       "    }\n",
       "</style>\n",
       "<table border=\"1\" class=\"dataframe\">\n",
       "  <thead>\n",
       "    <tr style=\"text-align: right;\">\n",
       "      <th></th>\n",
       "      <th>id</th>\n",
       "      <th>title</th>\n",
       "      <th>text_clean</th>\n",
       "    </tr>\n",
       "  </thead>\n",
       "  <tbody>\n",
       "    <tr>\n",
       "      <th>0</th>\n",
       "      <td>2936718</td>\n",
       "      <td>Meitei Christians</td>\n",
       "      <td>[the, meitei, christians, are, a, christianity...</td>\n",
       "    </tr>\n",
       "    <tr>\n",
       "      <th>1</th>\n",
       "      <td>17023672</td>\n",
       "      <td>Musical expression</td>\n",
       "      <td>[musical, expression, is, the, art, of, playin...</td>\n",
       "    </tr>\n",
       "    <tr>\n",
       "      <th>2</th>\n",
       "      <td>37590035</td>\n",
       "      <td>READ 180</td>\n",
       "      <td>[read, is, a, reading, intervention, program, ...</td>\n",
       "    </tr>\n",
       "    <tr>\n",
       "      <th>3</th>\n",
       "      <td>3191002</td>\n",
       "      <td>The Ambulance</td>\n",
       "      <td>[infobox, film, name, the, ambulance, image, t...</td>\n",
       "    </tr>\n",
       "    <tr>\n",
       "      <th>4</th>\n",
       "      <td>24154353</td>\n",
       "      <td>Sifo Company</td>\n",
       "      <td>[the, sifo, company, which, did, business, as,...</td>\n",
       "    </tr>\n",
       "  </tbody>\n",
       "</table>\n",
       "</div>"
      ],
      "text/plain": [
       "         id               title  \\\n",
       "0   2936718   Meitei Christians   \n",
       "1  17023672  Musical expression   \n",
       "2  37590035            READ 180   \n",
       "3   3191002       The Ambulance   \n",
       "4  24154353        Sifo Company   \n",
       "\n",
       "                                          text_clean  \n",
       "0  [the, meitei, christians, are, a, christianity...  \n",
       "1  [musical, expression, is, the, art, of, playin...  \n",
       "2  [read, is, a, reading, intervention, program, ...  \n",
       "3  [infobox, film, name, the, ambulance, image, t...  \n",
       "4  [the, sifo, company, which, did, business, as,...  "
      ]
     },
     "execution_count": 6,
     "metadata": {},
     "output_type": "execute_result"
    }
   ],
   "source": [
    "#Remove non-letters & split into words       \n",
    "train['text_clean'] = train['text_clean'].map(lambda x: re.sub(\"[^a-zA-Z]\", \" \", x).lower().split())\n",
    "test['text_clean'] = test['text_clean'].map(lambda x: re.sub(\"[^a-zA-Z]\", \" \", x).lower().split())\n",
    "test.head()"
   ]
  },
  {
   "cell_type": "code",
   "execution_count": 7,
   "metadata": {
    "collapsed": false
   },
   "outputs": [
    {
     "name": "stdout",
     "output_type": "stream",
     "text": [
      "[u'i', u'me', u'my', u'myself', u'we', u'our', u'ours', u'ourselves', u'you', u'your', u'yours', u'yourself', u'yourselves', u'he', u'him', u'his', u'himself', u'she', u'her', u'hers', u'herself', u'it', u'its', u'itself', u'they', u'them', u'their', u'theirs', u'themselves', u'what', u'which', u'who', u'whom', u'this', u'that', u'these', u'those', u'am', u'is', u'are', u'was', u'were', u'be', u'been', u'being', u'have', u'has', u'had', u'having', u'do', u'does', u'did', u'doing', u'a', u'an', u'the', u'and', u'but', u'if', u'or', u'because', u'as', u'until', u'while', u'of', u'at', u'by', u'for', u'with', u'about', u'against', u'between', u'into', u'through', u'during', u'before', u'after', u'above', u'below', u'to', u'from', u'up', u'down', u'in', u'out', u'on', u'off', u'over', u'under', u'again', u'further', u'then', u'once', u'here', u'there', u'when', u'where', u'why', u'how', u'all', u'any', u'both', u'each', u'few', u'more', u'most', u'other', u'some', u'such', u'no', u'nor', u'not', u'only', u'own', u'same', u'so', u'than', u'too', u'very', u's', u't', u'can', u'will', u'just', u'don', u'should', u'now', u'd', u'll', u'm', u'o', u're', u've', u'y', u'ain', u'aren', u'couldn', u'didn', u'doesn', u'hadn', u'hasn', u'haven', u'isn', u'ma', u'mightn', u'mustn', u'needn', u'shan', u'shouldn', u'wasn', u'weren', u'won', u'wouldn']\n"
     ]
    }
   ],
   "source": [
    "from nltk.corpus import stopwords # Import the stop word list\n",
    "print stopwords.words(\"english\") "
   ]
  },
  {
   "cell_type": "code",
   "execution_count": 8,
   "metadata": {
    "collapsed": true
   },
   "outputs": [],
   "source": [
    "stops = set(stopwords.words(\"english\")) "
   ]
  },
  {
   "cell_type": "code",
   "execution_count": 9,
   "metadata": {
    "collapsed": false
   },
   "outputs": [],
   "source": [
    "#remove stop words and words with length <= 2\n",
    "train['text_clean'] = train['text_clean'].map(lambda x: \" \".join([w for w in x if not w in stops and len(w)>2]))\n",
    "test['text_clean'] = test['text_clean'].map(lambda x: \" \".join([w for w in x if not w in stops and len(w)>2]))\n"
   ]
  },
  {
   "cell_type": "code",
   "execution_count": 10,
   "metadata": {
    "collapsed": false
   },
   "outputs": [],
   "source": [
    "from sklearn.feature_extraction.text import CountVectorizer"
   ]
  },
  {
   "cell_type": "code",
   "execution_count": 44,
   "metadata": {
    "collapsed": false
   },
   "outputs": [],
   "source": [
    "vectorizer = CountVectorizer(analyzer = \"word\",   \\\n",
    "                             tokenizer = None,    \\\n",
    "                             preprocessor = None, \\\n",
    "                             stop_words = None,   \\\n",
    "                             max_features = 5000) "
   ]
  },
  {
   "cell_type": "code",
   "execution_count": 45,
   "metadata": {
    "collapsed": true
   },
   "outputs": [],
   "source": [
    "train_data_features = vectorizer.fit_transform(train['text_clean'])"
   ]
  },
  {
   "cell_type": "code",
   "execution_count": 46,
   "metadata": {
    "collapsed": true
   },
   "outputs": [],
   "source": [
    "train_data_features = train_data_features.toarray()"
   ]
  },
  {
   "cell_type": "code",
   "execution_count": 47,
   "metadata": {
    "collapsed": false
   },
   "outputs": [
    {
     "name": "stdout",
     "output_type": "stream",
     "text": [
      "(4379, 5000)\n"
     ]
    }
   ],
   "source": [
    "print train_data_features.shape"
   ]
  },
  {
   "cell_type": "code",
   "execution_count": 48,
   "metadata": {
    "collapsed": false
   },
   "outputs": [
    {
     "name": "stdout",
     "output_type": "stream",
     "text": [
      "[u'abandoned', u'abc', u'abdul', u'abdullah', u'ability', u'able', u'abortion', u'abroad', u'absence', u'abu', u'abuse', u'academic', u'academy', u'accept', u'acceptance', u'accepted', u'access', u'accessdate', u'accessed', u'accessible', u'accident', u'accidents', u'accompanied', u'according', u'account', u'accounts', u'accusations', u'accused', u'ace', u'achieve', u'achieved', u'achievement', u'acknowledged', u'acquired', u'acquisition', u'acres', u'across', u'act', u'acted', u'acting', u'action', u'actions', u'active', u'actively', u'activist', u'activists', u'activities', u'activity', u'actor', u'actors', u'actress', u'acts', u'actual', u'actually', u'adam', u'adams', u'adapted', u'add', u'added', u'addiction', u'adding', u'addition', u'additional', u'additionally', u'address', u'addressed', u'adelaide', u'adjacent', u'administration', u'administrative', u'administrator', u'admiral', u'admitted', u'adobe', u'adopted', u'adoption', u'adult', u'adults', u'advance', u'advanced', u'advantage', u'advertising', u'advice', u'advisor', u'advisory', u'advocacy', u'advocate', u'advocates', u'aerial', u'affair', u'affairs', u'affect', u'affected', u'affiliated', u'afghanistan', u'africa', u'african', u'afterwards', u'age', u'aged', u'agencies', u'agency', u'agenda', u'agent', u'agents', u'ages', u'ago', u'agree', u'agreed', u'agreement', u'agreements', u'agricultural', u'agriculture', u'ahead', u'ahmad', u'ahmed', u'aid', u'aids', u'aim', u'aimed', u'aims', u'air', u'aircraft', u'aired', u'aires', u'airport', u'aka', u'alabama', u'alan', u'alaska', u'albania', u'albanian', u'albert', u'alberta', u'album', u'albums', u'alcohol', u'aleppo', u'alex', u'alexander', u'alfred', u'ali', u'alias', u'align', u'aligncenter', u'aligncentermdash', u'alignleft', u'alignright', u'alive', u'allegations', u'alleged', u'allegedly', u'allen', u'alliance', u'allied', u'allies', u'allow', u'allowed', u'allowing', u'allows', u'almamater', u'almost', u'alone', u'along', u'alongside', u'already', u'also', u'alt', u'alternative', u'although', u'alumni', u'always', u'ambassador', u'ambrose', u'amendment', u'america', u'american', u'americans', u'americas', u'amnesty', u'among', u'amongst', u'amount', u'amounts', u'amsterdam', u'analysis', u'ancient', u'anderson', u'andor', u'andr', u'andrew', u'andy', u'angel', u'angeles', u'anglo', u'animal', u'animalia', u'animals', u'ann', u'anna', u'anne', u'anniversary', u'announced', u'announcement', u'annual', u'annually', u'another', u'answer', u'anthony', u'anthropology', u'anti', u'antioquia', u'antonio', u'anyone', u'anything', u'apart', u'apartment', u'app', u'apparently', u'apparitions', u'appeal', u'appealed', u'appeals', u'appear', u'appearance', u'appearances', u'appeared', u'appears', u'apple', u'application', u'applications', u'applied', u'apply', u'appointed', u'appointment', u'approach', u'approached', u'approaches', u'appropriate', u'approval', u'approved', u'approximately', u'apps', u'apr', u'april', u'arab', u'arabia', u'arabic', u'archaeological', u'architect', u'architectural', u'architecture', u'archive', u'archivedate', u'archives', u'area', u'areacode', u'areafootnotes', u'areas', u'areatotalkm', u'arena', u'argentina', u'argentine', u'argue', u'argued', u'argues', u'argument', u'arguments', u'arizona', u'arkansas', u'arm', u'armed', u'armenian', u'armor', u'arms', u'army', u'around', u'arrest', u'arrested', u'arrival', u'arrived', u'art', u'arthur', u'article', u'articles', u'artillery', u'artist', u'artistic', u'artists', u'arts', u'asia', u'asian', u'ask', u'asked', u'asking', u'aspect', u'aspects', u'assassination', u'assault', u'assembly', u'assessment', u'assets', u'assigned', u'assist', u'assistance', u'assistant', u'assisted', u'assists', u'associate', u'associated', u'association', u'associations', u'assumed', u'athens', u'athletic', u'athletics', u'atlanta', u'atlantic', u'atomic', u'attached', u'attack', u'attacked', u'attacks', u'attempt', u'attempted', u'attempting', u'attempts', u'attend', u'attendance', u'attended', u'attending', u'attention', u'attitude', u'attorney', u'attracted', u'attributed', u'audience', u'audiences', u'audio', u'aug', u'august', u'austin', u'australia', u'australian', u'austria', u'austrian', u'author', u'authored', u'authorities', u'authority', u'authorized', u'authorlink', u'authors', u'auto', u'automatic', u'automatically', u'automobile', u'autonomous', u'autonomy', u'autumn', u'available', u'avenue', u'average', u'aviation', u'aviv', u'avoid', u'award', u'awarded', u'awards', u'aware', u'awareness', u'away', u'azerbaijan', u'azerbaijani', u'baba', u'baby', u'bachelor', u'back', u'backed', u'background', u'backgroundwhite', u'bad', u'baden', u'baker', u'balance', u'ball', u'ballet', u'baltimore', u'ban', u'band', u'bands', u'bangladesh', u'bank', u'banking', u'banks', u'banned', u'bar', u'barbara', u'barcelona', u'baron', u'barry', u'base', u'baseball', u'based', u'basic', u'basin', u'basis', u'basketball', u'basque', u'bass', u'bat', u'battalion', u'battle', u'battles', u'bay', u'bbc', u'bcc', u'beach', u'beak', u'bear', u'beast', u'beat', u'beautiful', u'beauty', u'became', u'become', u'becomes', u'becoming', u'began', u'begin', u'beginning', u'begins', u'begun', u'behalf', u'behavior', u'behaviour', u'behind', u'beijing', u'beings', u'belgian', u'belgium', u'belief', u'beliefs', u'believe', u'believed', u'believes', u'bell', u'belonged', u'belonging', u'belt', u'ben', u'benefit', u'benefits', u'bengal', u'benjamin', u'bennett', u'berkeley', u'berlin', u'bernard', u'besides', u'best', u'better', u'beyond', u'bgcolor', u'bgcolorafeeee', u'bgcolorddffdd', u'bgcolorff', u'bible', u'biblical', u'bid', u'big', u'biggest', u'bill', u'billboard', u'billion', u'billy', u'bin', u'binomial', u'binomialauthority', u'biography', u'biological', u'biology', u'bird', u'birmingham', u'birth', u'birthdate', u'birthname', u'birthplace', u'births', u'bishop', u'bishops', u'bison', u'bit', u'black', u'blacks', u'blankinfo', u'blankname', u'block', u'bloemfontein', u'blog', u'blood', u'blue', u'blues', u'board', u'boards', u'boat', u'bob', u'bodies', u'body', u'bomb', u'bombed', u'bombing', u'bond', u'bone', u'book', u'books', u'booth', u'border', u'borders', u'born', u'borough', u'boston', u'bottom', u'bought', u'bound', u'boundary', u'bowl', u'box', u'boy', u'boycott', u'boyd', u'boys', u'brain', u'branch', u'branches', u'brand', u'brazil', u'brazilian', u'break', u'breaking', u'breast', u'brian', u'brick', u'bridge', u'bridges', u'brief', u'briefly', u'brigade', u'bring', u'bringing', u'brings', u'britain', u'british', u'broad', u'broadcast', u'broadcasting', u'broke', u'broken', u'bronze', u'brooklyn', u'brother', u'brothers', u'brought', u'brown', u'bruce', u'brunswick', u'budapest', u'buddhism', u'buddhist', u'budget', u'buenos', u'buffalo', u'buffy', u'build', u'building', u'buildings', u'built', u'bulgaria', u'bulgarian', u'bulldogs', u'bulls', u'bureau', u'buried', u'burn', u'burned', u'burning', u'burns', u'bus', u'buses', u'bush', u'business', u'businesses', u'butler', u'buy', u'byron', u'byzantine', u'cabinet', u'caesium', u'caldwell', u'calendar', u'california', u'call', u'called', u'calling', u'calls', u'cambridge', u'came', u'camera', u'cameron', u'camp', u'campaign', u'campaigns', u'campbell', u'camps', u'campus', u'campuses', u'canada', u'canadian', u'canal', u'cancer', u'candidate', u'candidates', u'candide', u'candy', u'cannot', u'canon', u'cant', u'cap', u'capable', u'capacity', u'cape', u'capita', u'capital', u'capitol', u'caps', u'captain', u'caption', u'capture', u'captured', u'car', u'carbon', u'card', u'care', u'career', u'caribbean', u'carl', u'carlos', u'carol', u'carolina', u'caroline', u'carried', u'carrier', u'carry', u'carrying', u'cars', u'carter', u'case', u'cases', u'cash', u'cast', u'castle', u'casualties', u'cat', u'categories', u'category', u'categoryamerican', u'categoryliving', u'categorypeople', u'categoryth', u'cathedral', u'catherine', u'catholic', u'cattle', u'caught', u'cause', u'caused', u'causes', u'causing', u'cbb', u'cbs', u'cease', u'ceasefire', u'celebrated', u'celebration', u'cell', u'cellpadding', u'cells', u'cellspacing', u'cemetery', u'census', u'cent', u'center', u'centers', u'central', u'centre', u'centres', u'centuries', u'century', u'ceo', u'ceremony', u'certain', u'certificate', u'certification', u'certified', u'cesium', u'cfs', u'chah', u'chai', u'chain', u'chair', u'chairman', u'challenge', u'challenged', u'challenges', u'challenging', u'chamber', u'champion', u'champions', u'championship', u'championships', u'chan', u'chance', u'chancellor', u'change', u'changed', u'changes', u'changing', u'channel', u'chapel', u'chapter', u'character', u'characteristics', u'characterized', u'characters', u'charge', u'charged', u'charges', u'charity', u'charles', u'charlie', u'chart', u'charter', u'charts', u'check', u'chemical', u'chemistry', u'chi', u'chicago', u'chief', u'child', u'childhood', u'children', u'childrens', u'chile', u'china', u'chinese', u'choice', u'choir', u'choose', u'chose', u'chosen', u'chris', u'christ', u'christian', u'christianity', u'christians', u'christmas', u'christopher', u'chronicle', u'chrysler', u'church', u'churches', u'cia', u'cindy', u'cinema', u'cir', u'circle', u'circuit', u'circulation', u'circumstances', u'citation', u'cite', u'cited', u'cities', u'citing', u'citizen', u'citizens', u'citizenship', u'city', u'citys', u'ciudad', u'civic', u'civil', u'civilian', u'civilians', u'civilization', u'claim', u'claimed', u'claiming', u'claims', u'clark', u'clarke', u'clashes', u'class', u'classes', u'classic', u'classical', u'classification', u'classified', u'classis', u'classroom', u'classwikitable', u'clay', u'clean', u'clear', u'clearly', u'cleveland', u'client', u'clients', u'climate', u'clinical', u'clinton', u'clipper', u'close', u'closed', u'closely', u'closer', u'closing', u'clothing', u'club', u'clubs', u'coach', u'coal', u'coalition', u'coast', u'coastal', u'code', u'codes', u'cognitive', u'col', u'cold', u'collaboration', u'collapse', u'collapsible', u'colleagues', u'collected', u'collection', u'collections', u'collective', u'college', u'colleges', u'collins', u'colombia', u'colonel', u'colonial', u'colony', u'color', u'colorado', u'colors', u'colour', u'colspan', u'columbia', u'column', u'combat', u'combination', u'combined', u'come', u'comedy', u'comes', u'comic', u'comics', u'coming', u'command', u'commander', u'commentary', u'comments', u'commerce', u'commercial', u'commission', u'commissioned', u'commissioner', u'commitment', u'committed', u'committee', u'committees', u'common', u'commonly', u'commons', u'commonwealth', u'communication', u'communications', u'communist', u'communities', u'community', u'compact', u'companies', u'companion', u'company', u'companys', u'comparative', u'compared', u'comparison', u'compensation', u'compete', u'competed', u'competition', u'competitions', u'competitive', u'compilation', u'complaint', u'complaints', u'complete', u'completed', u'completely', u'completion', u'complex', u'component', u'components', u'composed', u'composer', u'composition', u'comprehensive', u'computer', u'computers', u'comunicaci', u'con', u'concentrated', u'concentration', u'concept', u'concepts', u'concern', u'concerned', u'concerning', u'concerns', u'concert', u'concerts', u'concluded', u'conclusion', u'concrete', u'condemned', u'condition', u'conditions', u'conduct', u'conducted', u'conference', u'conferences', u'confidence', u'confirmed', u'conflict', u'conflicts', u'cong', u'congregation', u'congress', u'congressional', u'congressman', u'connected', u'connecticut', u'connection', u'connections', u'conquest', u'consciousness', u'consecutive', u'consent', u'consequences', u'conservation', u'conservative', u'conservatives', u'consider', u'considerable', u'considered', u'considering', u'consisted', u'consistent', u'consisting', u'consists', u'conspiracy', u'constant', u'constituency', u'constitution', u'constitutional', u'constructed', u'construction', u'consulate', u'consultant', u'consulting', u'consumer', u'consumers', u'consumption', u'contact', u'contain', u'contained', u'containing', u'contains', u'contaminated', u'contemporary', u'content', u'contest', u'contested', u'context', u'continue', u'continued', u'continues', u'continuing', u'continuous', u'contract', u'contracts', u'contrary', u'contrast', u'contribute', u'contributed', u'contributing', u'contribution', u'contributions', u'control', u'controlled', u'controversial', u'controversy', u'convention', u'conventional', u'conversion', u'converted', u'convicted', u'conviction', u'cook', u'cooper', u'cooperation', u'cooperative', u'coordinates', u'copies', u'copy', u'core', u'corner', u'corporate', u'corporation', u'corporations', u'corps', u'correct', u'corrupt', u'corruption', u'cost', u'costa', u'costs', u'could', u'council', u'councils', u'counsel', u'count', u'counter', u'counties', u'countries', u'country', u'countrys', u'counts', u'county', u'coup', u'couple', u'course', u'courses', u'court', u'courts', u'cover', u'coverage', u'covered', u'covering', u'covers', u'craig', u'crash', u'create', u'created', u'creates', u'creating', u'creation', u'creative', u'creativity', u'creator', u'credit', u'credited', u'credits', u'creek', u'crew', u'cricket', u'crime', u'crimes', u'criminal', u'crisis', u'cristina', u'criteria', u'critic', u'critical', u'criticism', u'criticized', u'critics', u'croatia', u'croatian', u'cross', u'crossing', u'crowd', u'crown', u'cruz', u'cuba', u'cuban', u'cult', u'cultural', u'culture', u'cultures', u'cup', u'currency', u'current', u'currently', u'curriculum', u'custody', u'custom', u'customer', u'customers', u'customs', u'cut', u'cuts', u'cutting', u'cycle', u'cyclone', u'czech', u'czechoslovakia', u'daily', u'dakota', u'dallas', u'damage', u'damaged', u'damages', u'dame', u'dan', u'dance', u'dancer', u'dancing', u'danger', u'dangerous', u'daniel', u'danish', u'dark', u'das', u'dass', u'data', u'database', u'date', u'dated', u'dates', u'dating', u'daughter', u'daughters', u'dauphin', u'dave', u'david', u'davis', u'day', u'days', u'dead', u'deadurlyes', u'deal', u'dealing', u'dean', u'death', u'deathdate', u'deathplace', u'deaths', u'debate', u'debates', u'debt', u'debut', u'dec', u'decade', u'decades', u'december', u'decide', u'decided', u'decision', u'decisions', u'declaration', u'declared', u'decline', u'declined', u'decrease', u'dedicated', u'deemed', u'deep', u'deeply', u'defeat', u'defeated', u'defence', u'defend', u'defended', u'defending', u'defense', u'defensive', u'define', u'defined', u'definition', u'degree', u'degrees', u'del', u'delegation', u'delhi', u'deliver', u'delivered', u'delivery', u'delta', u'demand', u'demanded', u'demands', u'democracy', u'democratic', u'democrats', u'demonstrated', u'demonstration', u'den', u'denied', u'denmark', u'dennis', u'density', u'denver', u'department', u'departments', u'departure', u'dependent', u'depending', u'deployed', u'depot', u'depression', u'depth', u'deputy', u'der', u'derek', u'derived', u'des', u'descent', u'describe', u'described', u'describes', u'describing', u'description', u'desert', u'design', u'designated', u'designed', u'designer', u'designs', u'desire', u'desk', u'desperate', u'despite', u'destroy', u'destroyed', u'destruction', u'detailed', u'details', u'determination', u'determine', u'determined', u'detroit', u'devant', u'develop', u'developed', u'developer', u'developers', u'developing', u'development', u'developments', u'device', u'devices', u'devil', u'devoted', u'dhabi', u'dia', u'dialogue', u'diamond', u'dictionary', u'didnt', u'die', u'died', u'diego', u'dies', u'diesel', u'difference', u'differences', u'different', u'difficult', u'difficulties', u'digital', u'din', u'diocese', u'diop', u'diplomatic', u'direct', u'directed', u'direction', u'directly', u'director', u'directors', u'disaster', u'disc', u'discipline', u'discovered', u'discovery', u'discrimination', u'discuss', u'discussed', u'discussion', u'discussions', u'disease', u'diseases', u'dismissed', u'disorders', u'display', u'dispute', u'disputed', u'disputes', u'dissolved', u'distance', u'distinct', u'distinction', u'distinguished', u'distributed', u'distribution', u'distributor', u'district', u'districts', u'diverse', u'diversity', u'divided', u'divine', u'division', u'divisions', u'divorce', u'dna', u'doctor', u'doctors', u'doctrine', u'document', u'documentary', u'documented', u'documents', u'dog', u'dogs', u'doi', u'dollar', u'dollars', u'domain', u'domestic', u'dominant', u'dominated', u'donald', u'donated', u'done', u'dont', u'door', u'doors', u'double', u'doubles', u'doubt', u'douglas', u'download', u'downtown', u'dozens', u'draft', u'drama', u'dramatic', u'draw', u'drawing', u'drawn', u'dream', u'dress', u'drew', u'drive', u'driven', u'driver', u'drivers', u'driving', u'drone', u'drop', u'dropped', u'drug', u'drugs', u'drum', u'drums', u'dry', u'dual', u'dubai', u'dublin', u'duchy', u'due', u'duke', u'duncan', u'duration', u'dutch', u'duties', u'duty', u'dvd', u'dynasty', u'eagle', u'eagles', u'earl', u'earlier', u'earliest', u'early', u'earn', u'earned', u'earth', u'earthquake', u'easily', u'east', u'eastern', u'easy', u'eat', u'eating', u'eckankar', u'economic', u'economics', u'economist', u'economy', u'edge', u'edited', u'editing', u'edition', u'editions', u'editor', u'editorial', u'editors', u'eds', u'educated', u'education', u'educational', u'edward', u'edwards', u'effect', u'effective', u'effectively', u'effectiveness', u'effects', u'efficiency', u'effort', u'efforts', u'egypt', u'egyptian', u'eight', u'either', u'elder', u'elected', u'election', u'elections', u'electoral', u'electric', u'electrical', u'electricity', u'electronic', u'element', u'elementary', u'elements', u'elevation', u'elevationfootnotes', u'elevationm', u'eleven', u'eliminated', u'elite', u'elizabeth', u'else', u'elsewhere', u'email', u'embassy', u'emerged', u'emergency', u'emerging', u'emotional', u'emperor', u'emphasis', u'empire', u'employed', u'employee', u'employees', u'employer', u'employers', u'employment', u'enable', u'enacted', u'encourage', u'encouraged', u'encouraging', u'encyclopedia', u'end', u'ended', u'ending', u'ends', u'enemy', u'energy', u'enforcement', u'engage', u'engaged', u'engine', u'engineer', u'engineering', u'engineers', u'england', u'english', u'enough', u'enrolled', u'enrollment', u'ensemble', u'ensure', u'enter', u'entered', u'entering', u'enterprise', u'enterprises', u'entertainment', u'entire', u'entirely', u'entitled', u'entrance', u'entrepreneur', u'entry', u'environment', u'environmental', u'epa', u'epic', u'episcopal', u'episode', u'episodenumber', u'episodes', u'equal', u'equality', u'equipment', u'equipped', u'equity', u'equivalent', u'era', u'erected', u'erf', u'eric', u'error', u'escape', u'espa', u'especially', u'espn', u'essay', u'essays', u'essential', u'est', u'establish', u'established', u'establisheddate', u'establishedtitle', u'establishing', u'establishment', u'establishments', u'estate', u'estimate', u'estimated', u'estimates', u'estonian', u'etc', u'eternal', u'ethics', u'ethiopia', u'ethnic', u'ethnicity', u'europe', u'european', u'evaluation', u'evans', u'eve', u'even', u'evening', u'event', u'events', u'eventually', u'ever', u'every', u'everyone', u'everything', u'evi', u'evidence', u'evil', u'evolution', u'examination', u'examined', u'example', u'examples', u'excellence', u'except', u'exception', u'exchange', u'exclusive', u'exclusively', u'executed', u'execution', u'executive', u'exercise', u'exhibition', u'exile', u'exist', u'existed', u'existence', u'existing', u'exists', u'expand', u'expanded', u'expanding', u'expansion', u'expected', u'expedition', u'expelled', u'expensive', u'experience', u'experienced', u'experiences', u'experimental', u'expert', u'experts', u'explain', u'explained', u'explains', u'explanation', u'export', u'exposed', u'exposure', u'express', u'expressed', u'expression', u'extend', u'extended', u'extension', u'extensive', u'extent', u'external', u'extra', u'extreme', u'extremely', u'eye', u'eyes', u'face', u'facebook', u'faced', u'faces', u'facilities', u'facility', u'facing', u'fact', u'factor', u'factors', u'factory', u'facts', u'faculty', u'fail', u'failed', u'failing', u'failure', u'fair', u'fairchild', u'faith', u'fall', u'falling', u'falls', u'false', u'fame', u'familia', u'families', u'family', u'famous', u'fan', u'fans', u'fantasy', u'far', u'farm', u'farmer', u'farmers', u'farming', u'farms', u'fascism', u'fascist', u'fashion', u'fast', u'fat', u'fate', u'father', u'fathers', u'favor', u'favour', u'fayard', u'fbi', u'fear', u'feat', u'feature', u'featured', u'features', u'featuring', u'feb', u'february', u'federal', u'federation', u'fee', u'feel', u'feeling', u'fees', u'feet', u'fehmi', u'feiglin', u'fell', u'fellow', u'fellowship', u'felt', u'female', u'females', u'femicide', u'feminist', u'ferrari', u'festival', u'festivals', u'fewer', u'fff', u'fiction', u'field', u'fields', u'fifa', u'fifth', u'fight', u'fighter', u'fighters', u'fighting', u'figure', u'figures', u'file', u'filed', u'files', u'filled', u'film', u'films', u'final', u'finally', u'finals', u'finance', u'financial', u'find', u'finding', u'findings', u'finds', u'fine', u'finish', u'finished', u'finland', u'finnish', u'fire', u'fired', u'firing', u'firm', u'firms', u'first', u'fiscal', u'fish', u'fishing', u'fit', u'five', u'fixed', u'flag', u'flat', u'fled', u'fleet', u'flight', u'floor', u'florida', u'flow', u'flowers', u'fly', u'flying', u'focus', u'focused', u'focuses', u'focusing', u'folk', u'follow', u'followed', u'followers', u'following', u'follows', u'food', u'foot', u'football', u'footballer', u'footballers', u'footnotes', u'forbes', u'force', u'forced', u'forces', u'forcing', u'ford', u'foreign', u'forest', u'forests', u'forever', u'form', u'formal', u'formally', u'format', u'formation', u'formed', u'former', u'formerly', u'forming', u'forms', u'formula', u'fort', u'forty', u'forum', u'forward', u'foster', u'fought', u'found', u'foundation', u'foundations', u'founded', u'founder', u'founders', u'founding', u'four', u'fourth', u'fox', u'framework', u'fran', u'france', u'francis', u'francisco', u'frank', u'franklin', u'franz', u'fraud', u'fred', u'frederick', u'free', u'freedom', u'french', u'frequency', u'frequent', u'frequently', u'fresh', u'friday', u'friend', u'friendly', u'friends', u'friendship', u'front', u'frontier', u'fuel', u'fukushima', u'full', u'fullname', u'fully', u'fun', u'function', u'functional', u'functions', u'fund', u'fundamental', u'funded', u'funding', u'funds', u'furthermore', u'fuster', u'future', u'gabriel', u'gain', u'gained', u'gains', u'gallery', u'game', u'gamename', u'games', u'gang', u'gap', u'garden', u'gary', u'gas', u'gate', u'gates', u'gathered', u'gathering', u'gave', u'gay', u'gaza', u'gender', u'general', u'generally', u'generals', u'generated', u'generation', u'genetic', u'genocide', u'genre', u'genus', u'geographic', u'geography', u'george', u'georgia', u'georgian', u'german', u'germans', u'germany', u'get', u'gets', u'getting', u'giant', u'gibraltar', u'gift', u'girl', u'girls', u'give', u'given', u'gives', u'giving', u'gjat', u'glass', u'glen', u'glenn', u'global', u'globe', u'glory', u'gmina', u'goal', u'goals', u'god', u'gods', u'goes', u'going', u'gold', u'golden', u'golf', u'gone', u'good', u'goods', u'google', u'gordon', u'gospel', u'got', u'governing', u'government', u'governmental', u'governments', u'governmenttype', u'governor', u'governors', u'grace', u'grade', u'grades', u'gradually', u'graduate', u'graduated', u'graduating', u'graffiti', u'graham', u'grammar', u'grand', u'grant', u'granted', u'grants', u'grave', u'gray', u'great', u'greater', u'greatest', u'greatly', u'greece', u'greek', u'green', u'greg', u'gregory', u'grew', u'grey', u'gross', u'ground', u'grounds', u'group', u'groups', u'grow', u'growing', u'grown', u'growth', u'guard', u'guardian', u'guards', u'guest', u'guez', u'guid', u'guidance', u'guide', u'guidelines', u'guilty', u'guinea', u'guitar', u'guitarist', u'gulf', u'gun', u'guns', u'guru', u'gurus', u'guy', u'gymnastics', u'hair', u'half', u'hall', u'hamas', u'hamilton', u'han', u'hand', u'handball', u'handbook', u'handed', u'handling', u'hands', u'hans', u'happened', u'happy', u'harassment', u'hard', u'harm', u'harold', u'harper', u'harris', u'harrison', u'harry', u'haruto', u'harvard', u'hasan', u'hate', u'hawaii', u'head', u'headed', u'header', u'headquarters', u'heads', u'healing', u'health', u'healthcare', u'hear', u'heard', u'hearing', u'heart', u'heat', u'heaven', u'heavily', u'heavy', u'hebrew', u'height', u'heights', u'held', u'hell', u'helms', u'help', u'helped', u'helping', u'helps', u'hence', u'henry', u'herald', u'heritage', u'hero', u'hesse', u'hidden', u'hide', u'high', u'higher', u'highest', u'highland', u'highly', u'highway', u'hill', u'hills', u'hindi', u'hindu', u'hindus', u'hip', u'hired', u'hispanic', u'historian', u'historians', u'historic', u'historical', u'historically', u'historis', u'history', u'hit', u'hitler', u'hits', u'hobbs', u'hockey', u'hold', u'holding', u'holds', u'holiday', u'hollywood', u'holocaust', u'holy', u'home', u'homecoming', u'homeless', u'homepage', u'homes', u'honda', u'hong', u'honor', u'honorary', u'honorific', u'honors', u'honour', u'hoover', u'hop', u'hope', u'horse', u'hospital', u'hospitals', u'host', u'hosted', u'hosts', u'hot', u'hotel', u'hour', u'hours', u'house', u'household', u'households', u'houses', u'housing', u'houston', u'howard', u'however', u'html', u'httpwwwdevant', u'huge', u'hugh', u'hughes', u'hui', u'human', u'humanitarian', u'humanity', u'humans', u'hundred', u'hundreds', u'hungarian', u'hungarians', u'hungary', u'hunger', u'hunt', u'hunter', u'hunting', u'hurricane', u'husband', u'ian', u'ibn', u'ice', u'idea', u'ideal', u'ideas', u'identification', u'identified', u'identify', u'identity', u'ideology', u'ignored', u'iii', u'ilbe', u'ill', u'illegal', u'illinois', u'illustrated', u'image', u'imagecaption', u'imageflag', u'imagemap', u'images', u'imagesize', u'imageskyline', u'immediate', u'immediately', u'immigrants', u'immigration', u'impact', u'imperial', u'implement', u'implementation', u'implemented', u'importance', u'important', u'imposed', u'impossible', u'imprisoned', u'imprisonment', u'improve', u'improved', u'improvement', u'improving', u'inc', u'inch', u'incident', u'incidents', u'include', u'included', u'includes', u'including', u'income', u'incorporated', u'increase', u'increased', u'increases', u'increasing', u'increasingly', u'indeed', u'independence', u'independent', u'index', u'india', u'indian', u'indiana', u'indians', u'indicate', u'indicated', u'indicates', u'indies', u'indigenous', u'individual', u'individuals', u'indonesia', u'industrial', u'industries', u'industry', u'inequality', u'infantry', u'influence', u'influenced', u'influences', u'influential', u'infobox', u'information', u'informed', u'infrastructure', u'inhabitants', u'initial', u'initially', u'initiated', u'initiative', u'initiatives', u'injured', u'injuries', u'injury', u'inner', u'innovation', u'innovative', u'inns', u'input', u'inquiry', u'inscription', u'inside', u'inspiration', u'inspired', u'installed', u'instance', u'instead', u'institute', u'institution', u'institutions', u'instruction', u'instrument', u'instrumental', u'instruments', u'insurance', u'integrated', u'integration', u'integrity', u'intel', u'intellectual', u'intelligence', u'intended', u'intent', u'intention', u'inter', u'interaction', u'interest', u'interested', u'interests', u'interior', u'internal', u'international', u'internationally', u'internet', u'interpress', u'interpretation', u'intervention', u'interview', u'interviewed', u'interviews', u'introduced', u'introduction', u'invasion', u'investigate', u'investigation', u'investigations', u'investment', u'investments', u'invited', u'involve', u'involved', u'involvement', u'involves', u'involving', u'iodine', u'iops', u'iowa', u'iran', u'iranian', u'iraq', u'iraqi', u'ireland', u'irish', u'iron', u'isbn', u'islam', u'islamic', u'island', u'islands', u'israel', u'israeli', u'issn', u'issue', u'issued', u'issues', u'italian', u'italy', u'items', u'ivan', u'jack', u'jackson', u'jacob', u'jahjaga', u'jail', u'jaime', u'jam', u'james', u'jan', u'jane', u'january', u'japan', u'japanese', u'jason', u'jay', u'jazz', u'jean', u'jeff', u'jehovahs', u'jennifer', u'jerry', u'jersey', u'jerusalem', u'jesse', u'jessica', u'jesuits', u'jesus', u'jewish', u'jews', u'jim', u'jimmy', u'joan', u'job', u'jobs', u'joe', u'john', u'johnny', u'johnson', u'join', u'joined', u'joining', u'joint', u'jon', u'jonathan', u'jones', u'jordan', u'jos', u'jose', u'joseph', u'journal', u'journalism', u'journalist', u'journalists', u'journey', u'joy', u'jpg', u'jstor', u'juan', u'judaism', u'judge', u'judges', u'judgment', u'judicial', u'jul', u'julia', u'july', u'jun', u'junction', u'june', u'junior', u'jurisdiction', u'jury', u'justice', u'justin', u'kalateh', u'kamen', u'kansas', u'karate', u'karl', u'kashmir', u'kata', u'katherine', u'kazakhstan', u'keep', u'keeping', u'keith', u'kelly', u'ken', u'kennedy', u'kenneth', u'kenny', u'kent', u'kentucky', u'kept', u'kerala', u'kevin', u'key', u'keypeople', u'khan', u'khorasan', u'kick', u'kids', u'kill', u'killed', u'killing', u'killings', u'kim', u'kind', u'kinds', u'king', u'kingdom', u'kings', u'kingston', u'kit', u'kitchen', u'klubr', u'knew', u'knights', u'know', u'knowledge', u'known', u'knownfor', u'kobach', u'kong', u'korea', u'korean', u'kosal', u'kosovo', u'krishna', u'kurdish', u'kurdistan', u'kurds', u'lab', u'label', u'labels', u'labor', u'laboratory', u'labour', u'lack', u'lady', u'laid', u'lake', u'lakes', u'land', u'landing', u'lands', u'landscape', u'lane', u'language', u'languages', u'lanka', u'lankan', u'large', u'largely', u'larger', u'largest', u'larry', u'las', u'last', u'lasted', u'lat', u'late', u'later', u'latest', u'latin', u'latino', u'latitude', u'latter', u'launch', u'launched', u'launches', u'law', u'lawrence', u'laws', u'lawsuit', u'lawyer', u'lawyers', u'lay', u'layer', u'lead', u'leader', u'leadername', u'leaders', u'leadership', u'leadertitle', u'leading', u'leads', u'league', u'learn', u'learned', u'learning', u'lease', u'least', u'leave', u'leaves', u'leaving', u'lebanon', u'lectures', u'led', u'lee', u'left', u'legacy', u'legal', u'legally', u'legend', u'legislation', u'legislative', u'legislature', u'length', u'leo', u'les', u'less', u'lesser', u'let', u'letter', u'letters', u'level', u'levels', u'lewis', u'liberal', u'liberation', u'liberty', u'library', u'license', u'licensed', u'licenses', u'licensing', u'lie', u'lies', u'lieutenant', u'life', u'lifetime', u'light', u'lights', u'like', u'likely', u'limit', u'limited', u'limits', u'lincoln', u'line', u'lines', u'linguistic', u'link', u'linked', u'links', u'lions', u'liquid', u'lisa', u'list', u'listed', u'lists', u'literacy', u'literally', u'literary', u'literature', u'lithuania', u'lithuanian', u'little', u'liu', u'live', u'lived', u'lives', u'living', u'llapi', u'loan', u'loans', u'lobby', u'local', u'located', u'location', u'locations', u'logo', u'lon', u'london', u'long', u'longer', u'longest', u'longitude', u'look', u'looking', u'loong', u'lord', u'los', u'lose', u'losing', u'loss', u'losses', u'lost', u'lot', u'louis', u'louise', u'louisiana', u'love', u'low', u'lower', u'lowest', u'ltd', u'ltte', u'luis', u'luke', u'luther', u'lynch', u'lyrics', u'mac', u'macedonia', u'machine', u'madagascar', u'made', u'madhya', u'madrid', u'magazine', u'magazines', u'magic', u'magisterialdistrict', u'mail', u'main', u'maine', u'mainly', u'mainstream', u'maintain', u'maintained', u'maintaining', u'maintenance', u'major', u'majority', u'make', u'makers', u'makes', u'making', u'malabar', u'malaysia', u'male', u'males', u'man', u'manage', u'managed', u'management', u'manager', u'managers', u'managing', u'manchester', u'mandatory', u'manhattan', u'manitoba', u'manner', u'mans', u'manual', u'manuel', u'manufacturer', u'manufacturing', u'many', u'map', u'mapcaption', u'maps', u'mapsize', u'mar', u'marc', u'march', u'margaret', u'margin', u'maria', u'marie', u'marine', u'mark', u'marked', u'market', u'marketing', u'markets', u'marks', u'marriage', u'married', u'marshall', u'mart', u'martial', u'martin', u'mary', u'maryland', u'mascot', u'mashhad', u'mason', u'mass', u'massachusetts', u'massacre', u'massive', u'master', u'masters', u'match', u'matches', u'material', u'materials', u'math', u'mathematical', u'mathematics', u'matt', u'matter', u'matters', u'matthew', u'max', u'maximum', u'may', u'mayor', u'mdash', u'mean', u'meaning', u'means', u'meant', u'meanwhile', u'measure', u'measured', u'measures', u'meat', u'medal', u'medals', u'media', u'median', u'medical', u'medicine', u'medieval', u'medium', u'meet', u'meeting', u'meetings', u'meets', u'melbourne', u'member', u'members', u'membership', u'memorial', u'memory', u'memphis', u'men', u'mens', u'mental', u'mention', u'mentioned', u'mentor', u'merged', u'merger', u'merit', u'message', u'messages', u'met', u'metal', u'meters', u'method', u'methods', u'metres', u'metro', u'metropolitan', u'mexican', u'mexico', u'miami', u'michael', u'michigan', u'microsoft', u'mid', u'middle', u'mig', u'might', u'mighty', u'migraine', u'migrants', u'migration', u'mike', u'milan', u'mile', u'miles', u'militant', u'militants', u'military', u'milk', u'mill', u'miller', u'million', u'millions', u'mills', u'milton', u'min', u'mind', u'mine', u'mines', u'minimum', u'mining', u'minister', u'ministers', u'ministry', u'minnesota', u'minor', u'minorities', u'minority', u'minute', u'minutes', u'miss', u'missile', u'missiles', u'missing', u'mission', u'missionary', u'missions', u'mississippi', u'missouri', u'mit', u'mitchell', u'mix', u'mixed', u'mobile', u'mode', u'model', u'models', u'moderate', u'modern', u'modified', u'mohammad', u'mohammed', u'moment', u'monarchy', u'monastery', u'money', u'monitor', u'monitoring', u'monk', u'monster', u'montana', u'montgomery', u'month', u'monthly', u'months', u'montreal', u'monument', u'moon', u'moore', u'moral', u'moravia', u'moreover', u'morning', u'morocco', u'morris', u'morrison', u'moscow', u'mosque', u'mostly', u'mother', u'mothers', u'motion', u'motor', u'motorcycle', u'motto', u'mount', u'mountain', u'mountains', u'mounted', u'mouse', u'move', u'moved', u'movement', u'movements', u'moves', u'movie', u'movies', u'moving', u'mrs', u'much', u'muhammad', u'multi', u'multiple', u'mumbai', u'municipal', u'municipalities', u'municipality', u'municipalname', u'murder', u'murdered', u'murphy', u'murray', u'museum', u'museums', u'museveni', u'music', u'musical', u'musician', u'musicians', u'muslim', u'muslims', u'mussolini', u'must', u'mutual', u'myl', u'mylenepressearticles', u'mysore', u'myth', u'nacional', u'naked', u'nam', u'name', u'named', u'names', u'narrative', u'nashville', u'nassau', u'nation', u'national', u'nationalcaps', u'nationalgoals', u'nationalism', u'nationalist', u'nationality', u'nationals', u'nationalteam', u'nationalyears', u'nations', u'native', u'nativename', u'nativenamelang', u'nato', u'natural', u'nature', u'naval', u'navy', u'nazi', u'nazis', u'nbc', u'nbsp', u'nbspbhp', u'nbspkg', u'nbspkm', u'nbspkw', u'nbsplb', u'nbsplbhp', u'nbspmm', u'ncaa', u'ndash', u'ndez', u'near', u'nearby', u'nearly', u'necessary', u'need', u'needed', u'needs', u'negative', u'negotiations', u'neighborhood', u'neighborhoods', u'neither', u'nelson', u'neo', u'nepal', u'net', u'netherlands', u'network', u'networks', u'neural', u'neutral', u'nevada', u'never', u'nevertheless', u'new', u'newly', u'news', u'newspaper', u'newspapers', u'next', u'nez', u'nfl', u'nguy', u'nhl', u'nhra', u'nhs', u'nicholas', u'nick', u'nickname', u'nigeria', u'nigerian', u'night', u'nine', u'nishapur', u'nito', u'nizami', u'nmc', u'noble', u'nolte', u'nominated', u'nomination', u'non', u'nonconf', u'none', u'normal', u'norman', u'north', u'northeast', u'northern', u'northwest', u'norway', u'norwegian', u'notable', u'notably', u'note', u'noted', u'notes', u'nothing', u'notice', u'nov', u'nova', u'novel', u'novels', u'november', u'nrhp', u'nuclear', u'number', u'numbers', u'numerous', u'nurse', u'obama', u'object', u'objective', u'objects', u'observed', u'obtain', u'obtained', u'occasion', u'occasionally', u'occupation', u'occupied', u'occur', u'occurred', u'occurs', u'ocean', u'oclc', u'oct', u'october', u'offender', u'offenders', u'offensive', u'offer', u'offered', u'offering', u'offers', u'office', u'officeholder', u'officer', u'officers', u'offices', u'official', u'officially', u'officialname', u'officials', u'often', u'ohio', u'oil', u'ois', u'oklahoma', u'old', u'older', u'oldest', u'oliver', u'olya', u'olympic', u'olympics', u'one', u'ones', u'ongoing', u'online', u'ontario', u'onto', u'open', u'opened', u'opening', u'openly', u'opera', u'operate', u'operated', u'operates', u'operating', u'operation', u'operations', u'operator', u'opes', u'opinion', u'opinions', u'opponent', u'opponents', u'opportunities', u'opportunity', u'opposed', u'opposite', u'opposition', u'opprank', u'option', u'options', u'oral', u'orange', u'orchestra', u'order', u'ordered', u'orders', u'ordinary', u'ordo', u'oregon', u'organic', u'organisation', u'organisations', u'organised', u'organization', u'organizations', u'organized', u'organizing', u'oriented', u'origin', u'original', u'originally', u'origins', u'orissa', u'orleans', u'orthodox', u'othername', u'othernames', u'others', u'otherwise', u'ottawa', u'otto', u'ottoman', u'outcome', u'outcomes', u'output', u'outreach', u'outside', u'outstanding', u'oval', u'overall', u'overs', u'overseas', u'overtime', u'owned', u'owner', u'owners', u'ownership', u'oxford', u'pacific', u'package', u'packard', u'page', u'pages', u'paid', u'pain', u'painted', u'painting', u'paintings', u'pair', u'pakistan', u'pakistani', u'palace', u'palestine', u'palestinian', u'palestinians', u'pan', u'panel', u'paper', u'papers', u'par', u'para', u'paradise', u'parallel', u'parent', u'parents', u'paris', u'parish', u'park', u'parking', u'parks', u'parliament', u'parliamentary', u'parole', u'part', u'participants', u'participate', u'participated', u'participating', u'participation', u'particular', u'particularly', u'parties', u'partly', u'partner', u'partners', u'partnership', u'parts', u'party', u'pass', u'passage', u'passed', u'passenger', u'passengers', u'passes', u'passing', u'past', u'pastor', u'patent', u'path', u'patient', u'patients', u'patriarch', u'patrick', u'patrol', u'pattern', u'patterns', u'paul', u'pay', u'paying', u'payment', u'payments', u'pdf', u'peace', u'peaceful', u'peak', u'pedro', u'peer', u'pen', u'penalty', u'peninsula', u'pennsylvania', u'people', u'peoples', u'per', u'perceived', u'percent', u'percentage', u'perception', u'perfect', u'perform', u'performance', u'performances', u'performed', u'performing', u'perhaps', u'period', u'periods', u'permanent', u'permit', u'permitted', u'perry', u'persian', u'person', u'personal', u'personality', u'personnel', u'persons', u'perspective', u'perspectives', u'peru', u'peter', u'petersburg', u'petition', u'pga', u'phantom', u'phase', u'phd', u'phenomenon', u'phil', u'philadelphia', u'philip', u'philippine', u'philippines', u'phillips', u'philosopher', u'philosophy', u'phoenix', u'phone', u'photo', u'photographer', u'photography', u'phylum', u'physical', u'physician', u'physicians', u'physics', u'pianist', u'piano', u'picture', u'pictures', u'piece', u'pieces', u'pierre', u'pilot', u'pilots', u'pink', u'pioneer', u'pittsburgh', u'pkk', u'place', u'placed', u'places', u'plain', u'plainrowheaders', u'plan', u'plane', u'planet', u'planned', u'planning', u'plans', u'plant', u'plants', u'platform', u'platforms', u'platinum', u'play', u'played', u'player', u'players', u'playing', u'plays', u'plot', u'plus', u'plymouth', u'pmc', u'pmid', u'pnbsp', u'pocklington', u'podujevo', u'poem', u'poems', u'poet', u'poetry', u'poets', u'point', u'pointed', u'points', u'poland', u'poles', u'police', u'policies', u'policy', u'polish', u'political', u'politically', u'politician', u'politicians', u'politics', u'pomerania', u'pool', u'poor', u'pop', u'pope', u'popular', u'popularity', u'population', u'populationasof', u'populationdensitykm', u'populationfootnotes', u'populations', u'populationtotal', u'por', u'port', u'portal', u'portion', u'portrait', u'portugal', u'portuguese', u'pos', u'position', u'positions', u'positive', u'possession', u'possibility', u'possible', u'possibly', u'post', u'postalcode', u'postalcodetype', u'posted', u'poster', u'potential', u'poverty', u'power', u'powerful', u'powers', u'ppnbsp', u'practical', u'practice', u'practiced', u'practices', u'pradera', u'pradesh', u'prague', u'praise', u'praised', u'prayer', u'pre', u'precipitation', u'predecessor', u'prefecture', u'premier', u'premium', u'preparation', u'prepare', u'prepared', u'presence', u'present', u'presentation', u'presented', u'presents', u'preserve', u'preserved', u'presidency', u'president', u'presidential', u'presidents', u'press', u'pressure', u'prevent', u'prevented', u'prevention', u'previous', u'previously', u'price', u'prices', u'priest', u'priests', u'primarily', u'primary', u'prime', u'prince', u'princess', u'principal', u'principle', u'principles', u'print', u'printed', u'printer', u'printing', u'prior', u'prison', u'prisoners', u'pristina', u'private', u'prix', u'prize', u'prizren', u'pro', u'probably', u'problem', u'problems', u'procedure', u'procedures', u'proceedings', u'process', u'processes', u'processing', u'produce', u'produced', u'producer', u'producers', u'produces', u'producing', u'product', u'production', u'productions', u'products', u'profession', u'professional', u'professionals', u'professor', u'professors', u'profile', u'profit', u'profits', u'program', u'programme', u'programmes', u'programming', u'programs', u'progress', u'progressive', u'prohibited', u'project', u'projects', u'prominent', u'promise', u'promised', u'promote', u'promoted', u'promoting', u'promotion', u'proof', u'propaganda', u'proper', u'properties', u'property', u'prophet', u'proposal', u'proposed', u'prosecution', u'protect', u'protected', u'protection', u'protest', u'protestant', u'protesters', u'protests', u'prove', u'proved', u'proven', u'provide', u'provided', u'providence', u'provides', u'providing', u'province', u'provinces', u'provincial', u'provision', u'provisional', u'prussia', u'psychiatric', u'psychological', u'psychology', u'public', u'publication', u'publications', u'publicly', u'published', u'publisher', u'publishers', u'publishing', u'puerto', u'punishment', u'punjab', u'punk', u'pupils', u'purchase', u'purchased', u'pure', u'purpose', u'purposes', u'pursue', u'push', u'pushed', u'pushkolli', u'pushpinlabelposition', u'pushpinmap', u'pushpinmapcaption', u'put', u'putting', u'qing', u'qualified', u'qualify', u'quality', u'quarter', u'quarterly', u'que', u'quebec', u'queen', u'queens', u'queensland', u'question', u'questioned', u'questions', u'quickly', u'quite', u'quote', u'quoted', u'quran', u'rabbi', u'race', u'races', u'racial', u'racine', u'racing', u'racism', u'radiation', u'radical', u'radio', u'radioactive', u'rahman', u'raid', u'raiders', u'raids', u'rail', u'railroad', u'railway', u'rain', u'raise', u'raised', u'raising', u'rajput', u'rally', u'ralph', u'ram', u'rams', u'ran', u'random', u'range', u'rangers', u'ranging', u'rank', u'ranked', u'ranking', u'ranks', u'rap', u'rape', u'rapid', u'rapidly', u'rapper', u'rare', u'rate', u'rates', u'rather', u'rating', u'ratings', u'ratio', u'raw', u'ray', u'raymond', u'razavi', u'reach', u'reached', u'reaching', u'reaction', u'reactor', u'read', u'readers', u'reading', u'ready', u'reagan', u'real', u'reality', u'really', u'realm', u'rear', u'reason', u'reasons', u'rebel', u'rebellion', u'rebels', u'rebounds', u'receive', u'received', u'receiving', u'recent', u'recently', u'recipient', u'recognition', u'recognize', u'recognized', u'recommendations', u'recommended', u'reconstruction', u'record', u'recorded', u'recording', u'recordings', u'records', u'recovered', u'recovery', u'red', u'reduce', u'reduced', u'reducing', u'reduction', u'reed', u'ref', u'refer', u'referee', u'reference', u'references', u'referendum', u'referred', u'referring', u'refers', u'refharv', u'reflect', u'refnum', u'reform', u'reformed', u'reforms', u'refugees', u'refused', u'regard', u'regarded', u'regarding', u'regardless', u'regime', u'regiment', u'region', u'regional', u'regions', u'register', u'registered', u'registration', u'regnum', u'reguillo', u'regular', u'regularly', u'regulation', u'regulations', u'regulatory', u'rehabilitation', u'reign', u'rejected', u'related', u'relating', u'relation', u'relations', u'relationship', u'relationships', u'relative', u'relatively', u'relatives', u'release', u'released', u'releases', u'relevant', u'relief', u'religion', u'religions', u'religious', u'remain', u'remained', u'remaining', u'remains', u'remix', u'remote', u'removal', u'remove', u'removed', u'renamed', u'renowned', u'repeated', u'repeatedly', u'replace', u'replaced', u'replacement', u'report', u'reported', u'reportedly', u'reporter', u'reporting', u'reports', u'represent', u'representation', u'representative', u'representatives', u'represented', u'representing', u'represents', u'republic', u'republican', u'reputation', u'request', u'requested', u'require', u'required', u'requirement', u'requirements', u'requires', u'rescue', u'research', u'researcher', u'researchers', u'reserve', u'residence', u'resident', u'residential', u'residents', u'resignation', u'resigned', u'resistance', u'resolution', u'resort', u'resource', u'resources', u'respect', u'respectively', u'respond', u'responded', u'response', u'responses', u'responsibility', u'responsible', u'rest', u'restaurant', u'restaurants', u'restoration', u'restore', u'restored', u'restricted', u'restrictions', u'result', u'resulted', u'resulting', u'results', u'ret', u'retail', u'retained', u'retired', u'retirement', u'retrieved', u'return', u'returned', u'returning', u'returns', u'rev', u'reveal', u'revealed', u'reveals', u'revenue', u'review', u'reviewed', u'reviews', u'revised', u'revival', u'revolt', u'revolution', u'revolutionary', u'revscore', u'rez', u'rhodes', u'riba', u'rican', u'rice', u'rich', u'richard', u'richards', u'richmond', u'rick', u'rico', u'ride', u'rider', u'riders', u'ridge', u'riding', u'right', u'righteousness', u'rights', u'ring', u'rinko', u'rio', u'riots', u'rise', u'rising', u'risk', u'risks', u'rival', u'river', u'rivers', u'rnberg', u'road', u'roads', u'robert', u'roberts', u'robin', u'robinson', u'roc', u'rock', u'rocket', u'rodr', u'roger', u'rogers', u'role', u'roles', u'roll', u'rolling', u'roman', u'romania', u'romanian', u'rome', u'ron', u'ronald', u'roof', u'room', u'rooms', u'root', u'roots', u'rose', u'ross', u'rouge', u'rough', u'roughly', u'round', u'route', u'routes', u'routledge', u'row', u'rowspan', u'roy', u'royal', u'rttemberg', u'rugby', u'rule', u'ruled', u'ruler', u'rulers', u'rules', u'ruling', u'run', u'running', u'runs', u'rural', u'rush', u'russell', u'russia', u'russian', u'ryan', u'sacred', u'safe', u'safety', u'sahara', u'sahra', u'said', u'saint', u'saints', u'salary', u'sale', u'sales', u'salt', u'salvador', u'salvation', u'sam', u'sample', u'samples', u'samuel', u'san', u'sanctions', u'sandstone', u'sandy', u'sang', u'sant', u'santa', u'santiago', u'sara', u'sarah', u'saskatchewan', u'satellite', u'saturday', u'saudi', u'save', u'saved', u'saw', u'say', u'saying', u'says', u'scale', u'scandal', u'scene', u'scenes', u'schedule', u'scheduled', u'scheme', u'scholar', u'scholars', u'scholarship', u'school', u'schools', u'science', u'sciences', u'scientific', u'scientist', u'scientists', u'scissors', u'scopecol', u'scoperow', u'score', u'scored', u'scorenbsp', u'scores', u'scoring', u'scotia', u'scotland', u'scott', u'scottish', u'screen', u'script', u'sea', u'search', u'season', u'seasons', u'seat', u'seats', u'seattle', u'sec', u'second', u'secondary', u'secret', u'secretary', u'section', u'sections', u'sector', u'sectors', u'secular', u'secure', u'securities', u'security', u'see', u'seed', u'seednbsp', u'seeing', u'seek', u'seeking', u'seeks', u'seem', u'seems', u'seen', u'sees', u'seized', u'select', u'selected', u'selection', u'self', u'sell', u'selling', u'semi', u'seminary', u'semple', u'senate', u'senator', u'senators', u'send', u'senior', u'sense', u'sent', u'sentence', u'sentenced', u'sentences', u'sentencing', u'sentinel', u'sep', u'separate', u'separated', u'separation', u'september', u'serbia', u'serbian', u'serial', u'series', u'serious', u'seriously', u'serve', u'served', u'serves', u'service', u'services', u'serving', u'session', u'sessions', u'set', u'sets', u'setting', u'settled', u'settlement', u'settlements', u'settlementtype', u'settlers', u'seung', u'seven', u'seventh', u'several', u'severe', u'sex', u'sexual', u'sexually', u'shadow', u'shah', u'shakespeare', u'shall', u'shanghai', u'shape', u'shaped', u'share', u'shared', u'shares', u'sharing', u'sharp', u'sheikh', u'shelter', u'shield', u'shift', u'ship', u'ships', u'shock', u'shoot', u'shooting', u'shop', u'shopping', u'shops', u'shore', u'short', u'shortly', u'shot', u'show', u'showed', u'showing', u'shown', u'shows', u'shri', u'shrine', u'shunpei', u'shut', u'side', u'sides', u'siege', u'sign', u'signal', u'signature', u'signed', u'significant', u'significantly', u'signs', u'silent', u'silver', u'similar', u'similarly', u'simon', u'simple', u'simply', u'simultaneously', u'sin', u'since', u'sing', u'singapore', u'singer', u'singers', u'singh', u'singing', u'single', u'singles', u'sir', u'sister', u'sisters', u'site', u'sitecityst', u'sitename', u'sitereference', u'sites', u'sitestadium', u'sitting', u'situated', u'situation', u'situations', u'six', u'sixth', u'size', u'skating', u'ski', u'skills', u'skin', u'sky', u'slave', u'slavery', u'slavic', u'slayer', u'sleep', u'sleeping', u'slightly', u'slovak', u'slovakia', u'slovenia', u'slow', u'small', u'smaller', u'smart', u'smith', u'snooker', u'snow', u'soccer', u'social', u'socialism', u'socialist', u'societies', u'society', u'sofla', u'software', u'soicom', u'soicommonde', u'soil', u'solar', u'sold', u'soldier', u'soldiers', u'sole', u'solid', u'solidarity', u'solo', u'solution', u'solutions', u'someone', u'something', u'sometimes', u'somewhat', u'son', u'song', u'songs', u'songwriter', u'sons', u'sony', u'soon', u'sort', u'sortable', u'sought', u'soul', u'sound', u'soundtrack', u'source', u'sources', u'south', u'southeast', u'southeastern', u'southern', u'southwest', u'sovereignty', u'soviet', u'space', u'spaces', u'spain', u'span', u'spanish', u'speak', u'speaker', u'speakers', u'speaking', u'special', u'specialized', u'species', u'specific', u'specifically', u'spectrum', u'speech', u'speed', u'spencer', u'spend', u'spending', u'spent', u'spirit', u'spiritual', u'split', u'spoke', u'spoken', u'sponsored', u'sport', u'sports', u'spot', u'spouse', u'spread', u'spring', u'springs', u'squad', u'squadron', u'square', u'sri', u'stable', u'stack', u'stadium', u'staff', u'stage', u'stages', u'stance', u'stand', u'standard', u'standards', u'standing', u'stands', u'stanford', u'star', u'stark', u'starring', u'stars', u'start', u'started', u'starting', u'starts', u'state', u'stated', u'statement', u'statements', u'states', u'stating', u'station', u'stations', u'statistical', u'statistics', u'statue', u'status', u'stay', u'stayed', u'steel', u'step', u'stephen', u'steps', u'steve', u'steven', u'stevens', u'stewart', u'still', u'stock', u'stolen', u'stone', u'stones', u'stood', u'stop', u'stopped', u'storage', u'store', u'stores', u'storey', u'stories', u'storm', u'story', u'straight', u'strategic', u'strategies', u'strategy', u'stream', u'street', u'streets', u'strength', u'stress', u'strict', u'strike', u'strikes', u'strip', u'strong', u'strongly', u'struck', u'structure', u'structures', u'struggle', u'stuart', u'student', u'students', u'studied', u'studies', u'studio', u'studios', u'study', u'studying', u'style', u'stylebackground', u'stylebackgroundffefcf', u'stylebackgroundfff', u'stylebackgroundfffnr', u'styleborder', u'stylecolor', u'stylefont', u'styles', u'styletext', u'stylewidth', u'stylewidthem', u'stylewidthpx', u'sub', u'subdivisionname', u'subdivisiontype', u'subject', u'subjects', u'submarine', u'submitted', u'subsequent', u'subsequently', u'subsidiary', u'substantial', u'succeeded', u'success', u'successful', u'successfully', u'succession', u'successor', u'sudan', u'suffer', u'suffered', u'suffering', u'sufficient', u'sugar', u'suggest', u'suggested', u'suggests', u'suicide', u'suit', u'sultan', u'sum', u'summary', u'summer', u'summit', u'sun', u'sunday', u'super', u'superior', u'supplies', u'supply', u'support', u'supported', u'supporters', u'supporting', u'supports', u'supposed', u'supreme', u'sur', u'surface', u'surgery', u'surrender', u'surrounded', u'surrounding', u'surveillance', u'survey', u'survive', u'survived', u'survivors', u'susan', u'suspected', u'suspended', u'sustainable', u'sustained', u'sutton', u'svg', u'sweden', u'swedish', u'swimming', u'swing', u'swiss', u'switzerland', u'sword', u'sydney', u'symbol', u'synonyms', u'syria', u'syrian', u'system', u'systematic', u'systems', u'table', u'tactical', u'tactics', u'tag', u'taiwan', u'take', u'taken', u'takes', u'taking', u'talent', u'talk', u'talking', u'talks', u'tamil', u'tank', u'tanks', u'target', u'targeted', u'targets', u'task', u'tasks', u'taught', u'tax', u'taxes', u'taxobox', u'taylor', u'teach', u'teacher', u'teachers', u'teaching', u'teachings', u'team', u'teams', u'tech', u'technical', u'technique', u'techniques', u'technologies', u'technology', u'ted', u'teen', u'tel', u'television', u'tell', u'teller', u'tells', u'temple', u'temples', u'temporary', u'ten', u'tend', u'tennessee', u'tennis', u'tent', u'tenure', u'teresa', u'term', u'termend', u'terminal', u'terms', u'termstart', u'territorial', u'territories', u'territory', u'terror', u'terrorism', u'terrorist', u'test', u'testament', u'testified', u'testimony', u'testing', u'tests', u'texas', u'text', u'texts', u'thai', u'thailand', u'thanks', u'theater', u'theatre', u'theft', u'theme', u'themes', u'theological', u'theology', u'theories', u'theory', u'therapy', u'thereafter', u'thereby', u'therefore', u'thesis', u'thing', u'things', u'think', u'thinking', u'third', u'thirty', u'thomas', u'thompson', u'though', u'thought', u'thousand', u'thousands', u'threat', u'threatened', u'threats', u'three', u'throne', u'throughout', u'thus', u'tied', u'ties', u'tiger', u'tigers', u'till', u'tim', u'timber', u'time', u'times', u'timezone', u'timezonedst', u'title', u'titled', u'titles', u'titlethe', u'tobacco', u'today', u'todd', u'together', u'tokyo', u'told', u'toll', u'tom', u'tone', u'tons', u'tony', u'took', u'tool', u'tools', u'top', u'topic', u'topics', u'torbat', u'toronto', u'torres', u'toss', u'total', u'tour', u'tourism', u'tournament', u'tours', u'toward', u'towards', u'tower', u'town', u'towns', u'township', u'track', u'tracks', u'trade', u'trading', u'tradition', u'traditional', u'traditions', u'traffic', u'trafficking', u'trail', u'train', u'trained', u'training', u'trains', u'trans', u'transfer', u'transferred', u'transform', u'transformation', u'transgender', u'transit', u'transition', u'translated', u'translation', u'transmission', u'transport', u'transportation', u'travel', u'treated', u'treatment', u'treaty', u'tree', u'trees', u'trial', u'trials', u'tribal', u'tribe', u'tribes', u'tribune', u'tribute', u'tried', u'tries', u'trinity', u'trip', u'triple', u'troops', u'trophy', u'tropical', u'truck', u'true', u'trumpet', u'trust', u'trustees', u'truth', u'try', u'trying', u'turbine', u'turkey', u'turkish', u'turkmen', u'turks', u'turn', u'turned', u'turner', u'turning', u'turns', u'twelve', u'twentieth', u'twenty', u'twice', u'twin', u'twitter', u'two', u'txint', u'type', u'types', u'typhlodromus', u'typical', u'typically', u'uae', u'uefa', u'uganda', u'ukraine', u'ukrainian', u'ultimate', u'ultimately', u'unable', u'unanimous', u'uncle', u'und', u'undergraduate', u'underground', u'understand', u'understanding', u'understood', u'unemployment', u'unesco', u'unified', u'union', u'unions', u'unique', u'unit', u'united', u'unitpref', u'units', u'unity', u'universal', u'universe', u'universidad', u'universities', u'university', u'unknown', u'unless', u'unlike', u'unusual', u'update', u'updated', u'upon', u'upper', u'uprising', u'urban', u'url', u'usa', u'usage', u'use', u'used', u'useful', u'user', u'users', u'uses', u'using', u'uss', u'ussr', u'usually', u'utada', u'utah', u'utc', u'utcoffset', u'utcoffsetdst', u'utility', u'uyghur', u'valid', u'valigntop', u'valley', u'value', u'values', u'vampire', u'van', u'vancouver', u'variable', u'variety', u'various', u'vast', u'vegas', u'vehicle', u'vehicles', u'venezuela', u'venice', u'venture', u'venue', u'verse', u'version', u'versions', u'versus', u'via', u'vice', u'victim', u'victims', u'victor', u'victoria', u'victory', u'video', u'videos', u'vienna', u'viet', u'vietnam', u'vietnamese', u'view', u'viewed', u'views', u'vii', u'village', u'villages', u'vilnius', u'violation', u'violations', u'violence', u'violent', u'virgin', u'virginia', u'virtual', u'visible', u'vision', u'visit', u'visited', u'visiting', u'visitors', u'visits', u'vista', u'visual', u'vladimir', u'vocal', u'vocals', u'voice', u'voices', u'voivodeship', u'vol', u'volleyball', u'voltaire', u'volume', u'voluntary', u'volunteer', u'volunteers', u'von', u'vote', u'voted', u'voters', u'votes', u'voting', u'wage', u'wages', u'waiting', u'wake', u'wales', u'walk', u'walker', u'walking', u'wall', u'walls', u'walter', u'want', u'wanted', u'wants', u'war', u'ward', u'warfare', u'warned', u'warning', u'warren', u'wars', u'washington', u'waste', u'watch', u'watchtower', u'water', u'waters', u'watson', u'wave', u'waves', u'way', u'wayne', u'ways', u'weak', u'wealth', u'weapon', u'weapons', u'wear', u'wearing', u'weather', u'web', u'website', u'week', u'weekend', u'weekly', u'weeks', u'weight', u'welfare', u'well', u'went', u'west', u'western', u'wheel', u'whereas', u'whether', u'whilst', u'white', u'whole', u'whose', u'wickets', u'wide', u'widely', u'wider', u'widespread', u'width', u'widthpx', u'wife', u'wild', u'wildlife', u'william', u'williams', u'willing', u'wilson', u'win', u'wind', u'window', u'windows', u'winds', u'wing', u'winner', u'winners', u'winning', u'wins', u'winter', u'wire', u'wireless', u'wisconsin', u'wisdom', u'wish', u'withdrew', u'within', u'without', u'witness', u'witnesses', u'wizard', u'wolf', u'woman', u'women', u'womens', u'wood', u'woods', u'word', u'words', u'work', u'worked', u'worker', u'workers', u'working', u'works', u'workshops', u'world', u'worlds', u'worldwide', u'worship', u'worst', u'worth', u'would', u'wounded', u'wrestling', u'write', u'writer', u'writers', u'writes', u'writing', u'writings', u'written', u'wrong', u'wrote', u'wta', u'wwe', u'wyoming', u'xico', u'xie', u'xinjiang', u'yale', u'yam', u'yamaha', u'yang', u'yard', u'yards', u'year', u'yearly', u'years', u'yearsactive', u'yellow', u'yes', u'yet', u'yin', u'yoga', u'yogyakarta', u'york', u'yorkshire', u'young', u'younger', u'youngest', u'youth', u'youtube', u'yugoslavia', u'zagreb', u'zealand', u'zero', u'ziegler', u'zone']\n"
     ]
    }
   ],
   "source": [
    "vocab = vectorizer.get_feature_names()\n",
    "print vocab"
   ]
  },
  {
   "cell_type": "code",
   "execution_count": 49,
   "metadata": {
    "collapsed": false
   },
   "outputs": [
    {
     "name": "stdout",
     "output_type": "stream",
     "text": [
      "(4379, 5000)\n"
     ]
    }
   ],
   "source": [
    "feature_matrix = pd.DataFrame(train_data_features, index = train['title'], columns=vectorizer.get_feature_names())\n",
    "print feature_matrix.shape"
   ]
  },
  {
   "cell_type": "code",
   "execution_count": 33,
   "metadata": {
    "collapsed": false
   },
   "outputs": [
    {
     "data": {
      "text/html": [
       "<div>\n",
       "<style>\n",
       "    .dataframe thead tr:only-child th {\n",
       "        text-align: right;\n",
       "    }\n",
       "\n",
       "    .dataframe thead th {\n",
       "        text-align: left;\n",
       "    }\n",
       "\n",
       "    .dataframe tbody tr th {\n",
       "        vertical-align: top;\n",
       "    }\n",
       "</style>\n",
       "<table border=\"1\" class=\"dataframe\">\n",
       "  <thead>\n",
       "    <tr style=\"text-align: right;\">\n",
       "      <th></th>\n",
       "      <th>id</th>\n",
       "      <th>title</th>\n",
       "    </tr>\n",
       "  </thead>\n",
       "  <tbody>\n",
       "    <tr>\n",
       "      <th>0</th>\n",
       "      <td>5597</td>\n",
       "      <td>'Politics of Cyprus'</td>\n",
       "    </tr>\n",
       "    <tr>\n",
       "      <th>1</th>\n",
       "      <td>14668</td>\n",
       "      <td>'Economy of Iraq'</td>\n",
       "    </tr>\n",
       "    <tr>\n",
       "      <th>2</th>\n",
       "      <td>24400</td>\n",
       "      <td>'Pair programming'</td>\n",
       "    </tr>\n",
       "    <tr>\n",
       "      <th>3</th>\n",
       "      <td>32783</td>\n",
       "      <td>'Antisemitism and the New Testament'</td>\n",
       "    </tr>\n",
       "    <tr>\n",
       "      <th>4</th>\n",
       "      <td>38424</td>\n",
       "      <td>'Bikram Yoga'</td>\n",
       "    </tr>\n",
       "  </tbody>\n",
       "</table>\n",
       "</div>"
      ],
      "text/plain": [
       "      id                                 title\n",
       "0   5597                  'Politics of Cyprus'\n",
       "1  14668                     'Economy of Iraq'\n",
       "2  24400                    'Pair programming'\n",
       "3  32783  'Antisemitism and the New Testament'\n",
       "4  38424                         'Bikram Yoga'"
      ]
     },
     "execution_count": 33,
     "metadata": {},
     "output_type": "execute_result"
    }
   ],
   "source": [
    "pov = pd.read_csv('POV.csv')\n",
    "pov.drop(labels=['Unnamed: 0'], axis=1, inplace=True)\n",
    "pov.head()"
   ]
  },
  {
   "cell_type": "code",
   "execution_count": 17,
   "metadata": {
    "collapsed": false
   },
   "outputs": [
    {
     "data": {
      "text/html": [
       "<div>\n",
       "<style>\n",
       "    .dataframe thead tr:only-child th {\n",
       "        text-align: right;\n",
       "    }\n",
       "\n",
       "    .dataframe thead th {\n",
       "        text-align: left;\n",
       "    }\n",
       "\n",
       "    .dataframe tbody tr th {\n",
       "        vertical-align: top;\n",
       "    }\n",
       "</style>\n",
       "<table border=\"1\" class=\"dataframe\">\n",
       "  <thead>\n",
       "    <tr style=\"text-align: right;\">\n",
       "      <th></th>\n",
       "      <th>id</th>\n",
       "      <th>title</th>\n",
       "      <th>title_strip</th>\n",
       "    </tr>\n",
       "  </thead>\n",
       "  <tbody>\n",
       "    <tr>\n",
       "      <th>0</th>\n",
       "      <td>5597</td>\n",
       "      <td>'Politics of Cyprus'</td>\n",
       "      <td>Politics of Cyprus</td>\n",
       "    </tr>\n",
       "    <tr>\n",
       "      <th>1</th>\n",
       "      <td>14668</td>\n",
       "      <td>'Economy of Iraq'</td>\n",
       "      <td>Economy of Iraq</td>\n",
       "    </tr>\n",
       "    <tr>\n",
       "      <th>2</th>\n",
       "      <td>24400</td>\n",
       "      <td>'Pair programming'</td>\n",
       "      <td>Pair programming</td>\n",
       "    </tr>\n",
       "    <tr>\n",
       "      <th>3</th>\n",
       "      <td>32783</td>\n",
       "      <td>'Antisemitism and the New Testament'</td>\n",
       "      <td>Antisemitism and the New Testament</td>\n",
       "    </tr>\n",
       "    <tr>\n",
       "      <th>4</th>\n",
       "      <td>38424</td>\n",
       "      <td>'Bikram Yoga'</td>\n",
       "      <td>Bikram Yoga</td>\n",
       "    </tr>\n",
       "  </tbody>\n",
       "</table>\n",
       "</div>"
      ],
      "text/plain": [
       "      id                                 title  \\\n",
       "0   5597                  'Politics of Cyprus'   \n",
       "1  14668                     'Economy of Iraq'   \n",
       "2  24400                    'Pair programming'   \n",
       "3  32783  'Antisemitism and the New Testament'   \n",
       "4  38424                         'Bikram Yoga'   \n",
       "\n",
       "                          title_strip  \n",
       "0                  Politics of Cyprus  \n",
       "1                     Economy of Iraq  \n",
       "2                    Pair programming  \n",
       "3  Antisemitism and the New Testament  \n",
       "4                         Bikram Yoga  "
      ]
     },
     "execution_count": 17,
     "metadata": {},
     "output_type": "execute_result"
    }
   ],
   "source": [
    "pov['title_strip'] = pov['title'].map(lambda x: re.sub(\"'\", '', x))\n",
    "pov.head()"
   ]
  },
  {
   "cell_type": "code",
   "execution_count": 18,
   "metadata": {
    "collapsed": false
   },
   "outputs": [
    {
     "data": {
      "text/html": [
       "<div>\n",
       "<style>\n",
       "    .dataframe thead tr:only-child th {\n",
       "        text-align: right;\n",
       "    }\n",
       "\n",
       "    .dataframe thead th {\n",
       "        text-align: left;\n",
       "    }\n",
       "\n",
       "    .dataframe tbody tr th {\n",
       "        vertical-align: top;\n",
       "    }\n",
       "</style>\n",
       "<table border=\"1\" class=\"dataframe\">\n",
       "  <thead>\n",
       "    <tr style=\"text-align: right;\">\n",
       "      <th></th>\n",
       "      <th>id</th>\n",
       "      <th>title</th>\n",
       "      <th>text_clean</th>\n",
       "      <th>pov</th>\n",
       "    </tr>\n",
       "  </thead>\n",
       "  <tbody>\n",
       "    <tr>\n",
       "      <th>0</th>\n",
       "      <td>2936718</td>\n",
       "      <td>Meitei Christians</td>\n",
       "      <td>meitei christians christianity movement based ...</td>\n",
       "      <td>True</td>\n",
       "    </tr>\n",
       "    <tr>\n",
       "      <th>1</th>\n",
       "      <td>17023672</td>\n",
       "      <td>Musical expression</td>\n",
       "      <td>musical expression art playing singing music e...</td>\n",
       "      <td>True</td>\n",
       "    </tr>\n",
       "    <tr>\n",
       "      <th>2</th>\n",
       "      <td>37590035</td>\n",
       "      <td>READ 180</td>\n",
       "      <td>read reading intervention program wide use stu...</td>\n",
       "      <td>True</td>\n",
       "    </tr>\n",
       "    <tr>\n",
       "      <th>3</th>\n",
       "      <td>3191002</td>\n",
       "      <td>The Ambulance</td>\n",
       "      <td>infobox film name ambulance image ambulancejpg...</td>\n",
       "      <td>False</td>\n",
       "    </tr>\n",
       "    <tr>\n",
       "      <th>4</th>\n",
       "      <td>24154353</td>\n",
       "      <td>Sifo Company</td>\n",
       "      <td>sifo company business sifos toys sifo novelty ...</td>\n",
       "      <td>False</td>\n",
       "    </tr>\n",
       "  </tbody>\n",
       "</table>\n",
       "</div>"
      ],
      "text/plain": [
       "         id               title  \\\n",
       "0   2936718   Meitei Christians   \n",
       "1  17023672  Musical expression   \n",
       "2  37590035            READ 180   \n",
       "3   3191002       The Ambulance   \n",
       "4  24154353        Sifo Company   \n",
       "\n",
       "                                          text_clean    pov  \n",
       "0  meitei christians christianity movement based ...   True  \n",
       "1  musical expression art playing singing music e...   True  \n",
       "2  read reading intervention program wide use stu...   True  \n",
       "3  infobox film name ambulance image ambulancejpg...  False  \n",
       "4  sifo company business sifos toys sifo novelty ...  False  "
      ]
     },
     "execution_count": 18,
     "metadata": {},
     "output_type": "execute_result"
    }
   ],
   "source": [
    "#add labels to train set\n",
    "train['pov'] = train['title'].isin(pov['title_strip'])\n",
    "test['pov'] = test['title'].isin(pov['title_strip'])\n",
    "\n",
    "test.head()"
   ]
  },
  {
   "cell_type": "code",
   "execution_count": 20,
   "metadata": {
    "collapsed": false
   },
   "outputs": [],
   "source": [
    "#join features with labels\n",
    "#feature_matrix = pd.concat([feature_matrix, pd.DataFrame({'pov': list(df['pov'])}, index=df['title'])], axis=1)"
   ]
  },
  {
   "cell_type": "code",
   "execution_count": 50,
   "metadata": {
    "collapsed": true
   },
   "outputs": [],
   "source": [
    "# Get a bag of words for the test set, and convert to a numpy array\n",
    "test_data_features = vectorizer.transform(test['text_clean'])\n",
    "test_data_features = test_data_features.toarray()"
   ]
  },
  {
   "cell_type": "code",
   "execution_count": null,
   "metadata": {
    "collapsed": false
   },
   "outputs": [],
   "source": [
    "from sklearn.svm import SVC\n",
    "svc = SVC(C=100, kernel='linear') \n",
    "svc = svc.fit(feature_matrix, train['pov'])"
   ]
  },
  {
   "cell_type": "code",
   "execution_count": null,
   "metadata": {
    "collapsed": true
   },
   "outputs": [],
   "source": [
    "svc_radial = SVC(C=1, kernel='rbf') \n",
    "svc_radial = svc_radial.fit(feature_matrix, train['pov'])"
   ]
  },
  {
   "cell_type": "code",
   "execution_count": 54,
   "metadata": {
    "collapsed": false
   },
   "outputs": [
    {
     "name": "stdout",
     "output_type": "stream",
     "text": [
      "test score: 0.854245880862\n",
      "train score: 1.0\n"
     ]
    }
   ],
   "source": [
    "print \"test score:\", svc.score(test_data_features, test['pov'])\n",
    "#print \"train score:\", svc.score(train_data_features, train['pov'])"
   ]
  },
  {
   "cell_type": "code",
   "execution_count": 37,
   "metadata": {
    "collapsed": false
   },
   "outputs": [
    {
     "data": {
      "text/plain": [
       "0.88720770288858319"
      ]
     },
     "execution_count": 37,
     "metadata": {},
     "output_type": "execute_result"
    }
   ],
   "source": [
    "svc.score(test_data_features[test['pov']],[True]*727)"
   ]
  },
  {
   "cell_type": "code",
   "execution_count": 38,
   "metadata": {
    "collapsed": false
   },
   "outputs": [
    {
     "data": {
      "text/plain": [
       "0.79553466509988247"
      ]
     },
     "execution_count": 38,
     "metadata": {},
     "output_type": "execute_result"
    }
   ],
   "source": [
    "svc.score(test_data_features[test['pov']==False],[False]*851)"
   ]
  },
  {
   "cell_type": "code",
   "execution_count": 26,
   "metadata": {
    "collapsed": false
   },
   "outputs": [
    {
     "data": {
      "text/plain": [
       "1.0"
      ]
     },
     "execution_count": 26,
     "metadata": {},
     "output_type": "execute_result"
    }
   ],
   "source": []
  },
  {
   "cell_type": "code",
   "execution_count": 28,
   "metadata": {
    "collapsed": false
   },
   "outputs": [
    {
     "name": "stdout",
     "output_type": "stream",
     "text": [
      "test score: 0.777566539924\n",
      "train score 0.867321306234\n"
     ]
    }
   ],
   "source": [
    "print \"test score:\", svc_radial.score(test_data_features, test['pov'])\n",
    "print \"train score\", svc_radial.score(train_data_features, train['pov'])"
   ]
  },
  {
   "cell_type": "code",
   "execution_count": 26,
   "metadata": {
    "collapsed": false
   },
   "outputs": [
    {
     "data": {
      "text/plain": [
       "array([[-0.0635912 , -0.18849899,  0.06561046, ...,  0.04556072,\n",
       "         0.        ,  0.22078349]])"
      ]
     },
     "execution_count": 26,
     "metadata": {},
     "output_type": "execute_result"
    }
   ],
   "source": [
    "svc.coef_"
   ]
  },
  {
   "cell_type": "code",
   "execution_count": null,
   "metadata": {
    "collapsed": true
   },
   "outputs": [],
   "source": []
  }
 ],
 "metadata": {
  "kernelspec": {
   "display_name": "Python 2",
   "language": "python",
   "name": "python2"
  },
  "language_info": {
   "codemirror_mode": {
    "name": "ipython",
    "version": 2
   },
   "file_extension": ".py",
   "mimetype": "text/x-python",
   "name": "python",
   "nbconvert_exporter": "python",
   "pygments_lexer": "ipython2",
   "version": "2.7.12"
  }
 },
 "nbformat": 4,
 "nbformat_minor": 0
}
