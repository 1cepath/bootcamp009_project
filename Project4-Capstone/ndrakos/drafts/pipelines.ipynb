{
 "cells": [
  {
   "cell_type": "code",
   "execution_count": 1,
   "metadata": {
    "collapsed": true
   },
   "outputs": [],
   "source": [
    "# To support both python 2 and python 3\n",
    "from __future__ import division, print_function, unicode_literals\n",
    "\n",
    "# usual imports\n",
    "import numpy as np\n",
    "import pandas as pd\n",
    "import visualization as vis\n",
    "\n",
    "# to make this notebook's output stable across runs\n",
    "np.random.seed(42)\n",
    "\n",
    "# To plot pretty figures\n",
    "%matplotlib inline\n",
    "import matplotlib\n",
    "import matplotlib.pyplot as plt\n",
    "plt.rcParams['axes.labelsize'] = 14\n",
    "plt.rcParams['xtick.labelsize'] = 12\n",
    "plt.rcParams['ytick.labelsize'] = 12"
   ]
  },
  {
   "cell_type": "code",
   "execution_count": 2,
   "metadata": {
    "collapsed": false
   },
   "outputs": [
    {
     "data": {
      "text/html": [
       "<div>\n",
       "<style>\n",
       "    .dataframe thead tr:only-child th {\n",
       "        text-align: right;\n",
       "    }\n",
       "\n",
       "    .dataframe thead th {\n",
       "        text-align: left;\n",
       "    }\n",
       "\n",
       "    .dataframe tbody tr th {\n",
       "        vertical-align: top;\n",
       "    }\n",
       "</style>\n",
       "<table border=\"1\" class=\"dataframe\">\n",
       "  <thead>\n",
       "    <tr style=\"text-align: right;\">\n",
       "      <th></th>\n",
       "      <th>Report Number</th>\n",
       "      <th>Supplemental Number</th>\n",
       "      <th>Accident Year</th>\n",
       "      <th>Accident Date/Time</th>\n",
       "      <th>Operator ID</th>\n",
       "      <th>Operator Name</th>\n",
       "      <th>Pipeline/Facility Name</th>\n",
       "      <th>Pipeline Location</th>\n",
       "      <th>Pipeline Type</th>\n",
       "      <th>Liquid Type</th>\n",
       "      <th>...</th>\n",
       "      <th>Other Fatalities</th>\n",
       "      <th>Public Fatalities</th>\n",
       "      <th>All Fatalities</th>\n",
       "      <th>Property Damage Costs</th>\n",
       "      <th>Lost Commodity Costs</th>\n",
       "      <th>Public/Private Property Damage Costs</th>\n",
       "      <th>Emergency Response Costs</th>\n",
       "      <th>Environmental Remediation Costs</th>\n",
       "      <th>Other Costs</th>\n",
       "      <th>All Costs</th>\n",
       "    </tr>\n",
       "  </thead>\n",
       "  <tbody>\n",
       "    <tr>\n",
       "      <th>0</th>\n",
       "      <td>20100016</td>\n",
       "      <td>17305</td>\n",
       "      <td>2010</td>\n",
       "      <td>1/1/2010 7:15 AM</td>\n",
       "      <td>32109</td>\n",
       "      <td>ONEOK NGL PIPELINE LP</td>\n",
       "      <td>KINDER MORGAN JCT</td>\n",
       "      <td>ONSHORE</td>\n",
       "      <td>ABOVEGROUND</td>\n",
       "      <td>HVL OR OTHER FLAMMABLE OR TOXIC FLUID, GAS</td>\n",
       "      <td>...</td>\n",
       "      <td>NaN</td>\n",
       "      <td>NaN</td>\n",
       "      <td>NaN</td>\n",
       "      <td>110.0</td>\n",
       "      <td>1517.0</td>\n",
       "      <td>0.0</td>\n",
       "      <td>0.0</td>\n",
       "      <td>0.0</td>\n",
       "      <td>0.0</td>\n",
       "      <td>1627</td>\n",
       "    </tr>\n",
       "    <tr>\n",
       "      <th>1</th>\n",
       "      <td>20100254</td>\n",
       "      <td>17331</td>\n",
       "      <td>2010</td>\n",
       "      <td>1/4/2010 8:30 AM</td>\n",
       "      <td>15786</td>\n",
       "      <td>PORTLAND PIPELINE CORP</td>\n",
       "      <td>24-INCH MAIN LINE</td>\n",
       "      <td>ONSHORE</td>\n",
       "      <td>ABOVEGROUND</td>\n",
       "      <td>CRUDE OIL</td>\n",
       "      <td>...</td>\n",
       "      <td>NaN</td>\n",
       "      <td>NaN</td>\n",
       "      <td>NaN</td>\n",
       "      <td>4000.0</td>\n",
       "      <td>8.0</td>\n",
       "      <td>0.0</td>\n",
       "      <td>0.0</td>\n",
       "      <td>0.0</td>\n",
       "      <td>0.0</td>\n",
       "      <td>4008</td>\n",
       "    </tr>\n",
       "    <tr>\n",
       "      <th>2</th>\n",
       "      <td>20100038</td>\n",
       "      <td>17747</td>\n",
       "      <td>2010</td>\n",
       "      <td>1/5/2010 10:30 AM</td>\n",
       "      <td>20160</td>\n",
       "      <td>PETROLOGISTICS OLEFINS, LLC</td>\n",
       "      <td>NaN</td>\n",
       "      <td>ONSHORE</td>\n",
       "      <td>ABOVEGROUND</td>\n",
       "      <td>HVL OR OTHER FLAMMABLE OR TOXIC FLUID, GAS</td>\n",
       "      <td>...</td>\n",
       "      <td>NaN</td>\n",
       "      <td>NaN</td>\n",
       "      <td>NaN</td>\n",
       "      <td>0.0</td>\n",
       "      <td>200.0</td>\n",
       "      <td>0.0</td>\n",
       "      <td>0.0</td>\n",
       "      <td>0.0</td>\n",
       "      <td>0.0</td>\n",
       "      <td>200</td>\n",
       "    </tr>\n",
       "    <tr>\n",
       "      <th>3</th>\n",
       "      <td>20100260</td>\n",
       "      <td>18574</td>\n",
       "      <td>2010</td>\n",
       "      <td>1/6/2010 7:30 PM</td>\n",
       "      <td>11169</td>\n",
       "      <td>ENBRIDGE ENERGY, LIMITED PARTNERSHIP</td>\n",
       "      <td>SUPERIOR TERMINAL</td>\n",
       "      <td>ONSHORE</td>\n",
       "      <td>UNDERGROUND</td>\n",
       "      <td>CRUDE OIL</td>\n",
       "      <td>...</td>\n",
       "      <td>NaN</td>\n",
       "      <td>NaN</td>\n",
       "      <td>NaN</td>\n",
       "      <td>200.0</td>\n",
       "      <td>40.0</td>\n",
       "      <td>0.0</td>\n",
       "      <td>11300.0</td>\n",
       "      <td>0.0</td>\n",
       "      <td>0.0</td>\n",
       "      <td>11540</td>\n",
       "    </tr>\n",
       "    <tr>\n",
       "      <th>4</th>\n",
       "      <td>20100030</td>\n",
       "      <td>16276</td>\n",
       "      <td>2010</td>\n",
       "      <td>1/7/2010 1:00 PM</td>\n",
       "      <td>300</td>\n",
       "      <td>PLAINS PIPELINE, L.P.</td>\n",
       "      <td>RED RIVER EAST</td>\n",
       "      <td>ONSHORE</td>\n",
       "      <td>UNDERGROUND</td>\n",
       "      <td>CRUDE OIL</td>\n",
       "      <td>...</td>\n",
       "      <td>NaN</td>\n",
       "      <td>NaN</td>\n",
       "      <td>NaN</td>\n",
       "      <td>20000.0</td>\n",
       "      <td>150.0</td>\n",
       "      <td>0.0</td>\n",
       "      <td>7500.0</td>\n",
       "      <td>2000.0</td>\n",
       "      <td>0.0</td>\n",
       "      <td>29650</td>\n",
       "    </tr>\n",
       "  </tbody>\n",
       "</table>\n",
       "<p>5 rows × 48 columns</p>\n",
       "</div>"
      ],
      "text/plain": [
       "   Report Number  Supplemental Number  Accident Year Accident Date/Time  \\\n",
       "0       20100016                17305           2010   1/1/2010 7:15 AM   \n",
       "1       20100254                17331           2010   1/4/2010 8:30 AM   \n",
       "2       20100038                17747           2010  1/5/2010 10:30 AM   \n",
       "3       20100260                18574           2010   1/6/2010 7:30 PM   \n",
       "4       20100030                16276           2010   1/7/2010 1:00 PM   \n",
       "\n",
       "   Operator ID                         Operator Name Pipeline/Facility Name  \\\n",
       "0        32109                 ONEOK NGL PIPELINE LP      KINDER MORGAN JCT   \n",
       "1        15786                PORTLAND PIPELINE CORP      24-INCH MAIN LINE   \n",
       "2        20160           PETROLOGISTICS OLEFINS, LLC                    NaN   \n",
       "3        11169  ENBRIDGE ENERGY, LIMITED PARTNERSHIP      SUPERIOR TERMINAL   \n",
       "4          300                 PLAINS PIPELINE, L.P.         RED RIVER EAST   \n",
       "\n",
       "  Pipeline Location Pipeline Type                                 Liquid Type  \\\n",
       "0           ONSHORE   ABOVEGROUND  HVL OR OTHER FLAMMABLE OR TOXIC FLUID, GAS   \n",
       "1           ONSHORE   ABOVEGROUND                                   CRUDE OIL   \n",
       "2           ONSHORE   ABOVEGROUND  HVL OR OTHER FLAMMABLE OR TOXIC FLUID, GAS   \n",
       "3           ONSHORE   UNDERGROUND                                   CRUDE OIL   \n",
       "4           ONSHORE   UNDERGROUND                                   CRUDE OIL   \n",
       "\n",
       "     ...     Other Fatalities Public Fatalities All Fatalities  \\\n",
       "0    ...                  NaN               NaN            NaN   \n",
       "1    ...                  NaN               NaN            NaN   \n",
       "2    ...                  NaN               NaN            NaN   \n",
       "3    ...                  NaN               NaN            NaN   \n",
       "4    ...                  NaN               NaN            NaN   \n",
       "\n",
       "  Property Damage Costs Lost Commodity Costs  \\\n",
       "0                 110.0               1517.0   \n",
       "1                4000.0                  8.0   \n",
       "2                   0.0                200.0   \n",
       "3                 200.0                 40.0   \n",
       "4               20000.0                150.0   \n",
       "\n",
       "   Public/Private Property Damage Costs  Emergency Response Costs  \\\n",
       "0                                   0.0                       0.0   \n",
       "1                                   0.0                       0.0   \n",
       "2                                   0.0                       0.0   \n",
       "3                                   0.0                   11300.0   \n",
       "4                                   0.0                    7500.0   \n",
       "\n",
       "  Environmental Remediation Costs Other Costs  All Costs  \n",
       "0                             0.0         0.0       1627  \n",
       "1                             0.0         0.0       4008  \n",
       "2                             0.0         0.0        200  \n",
       "3                             0.0         0.0      11540  \n",
       "4                          2000.0         0.0      29650  \n",
       "\n",
       "[5 rows x 48 columns]"
      ]
     },
     "execution_count": 2,
     "metadata": {},
     "output_type": "execute_result"
    }
   ],
   "source": [
    "pipe = pd.read_csv('~/projects/capstone/pipeline_data.csv')\n",
    "pipe.head()"
   ]
  },
  {
   "cell_type": "code",
   "execution_count": 3,
   "metadata": {
    "collapsed": false
   },
   "outputs": [
    {
     "data": {
      "text/plain": [
       "(2795, 48)"
      ]
     },
     "execution_count": 3,
     "metadata": {},
     "output_type": "execute_result"
    }
   ],
   "source": [
    "pipe.shape"
   ]
  },
  {
   "cell_type": "code",
   "execution_count": 4,
   "metadata": {
    "collapsed": false
   },
   "outputs": [
    {
     "name": "stdout",
     "output_type": "stream",
     "text": [
      "<class 'pandas.core.frame.DataFrame'>\n",
      "RangeIndex: 2795 entries, 0 to 2794\n",
      "Data columns (total 48 columns):\n",
      "Report Number                           2795 non-null int64\n",
      "Supplemental Number                     2795 non-null int64\n",
      "Accident Year                           2795 non-null int64\n",
      "Accident Date/Time                      2795 non-null object\n",
      "Operator ID                             2795 non-null int64\n",
      "Operator Name                           2795 non-null object\n",
      "Pipeline/Facility Name                  2674 non-null object\n",
      "Pipeline Location                       2795 non-null object\n",
      "Pipeline Type                           2777 non-null object\n",
      "Liquid Type                             2795 non-null object\n",
      "Liquid Subtype                          1349 non-null object\n",
      "Liquid Name                             222 non-null object\n",
      "Accident City                           2480 non-null object\n",
      "Accident County                         2720 non-null object\n",
      "Accident State                          2783 non-null object\n",
      "Accident Latitude                       2795 non-null float64\n",
      "Accident Longitude                      2795 non-null float64\n",
      "Cause Category                          2795 non-null object\n",
      "Cause Subcategory                       2795 non-null object\n",
      "Unintentional Release (Barrels)         2795 non-null float64\n",
      "Intentional Release (Barrels)           1209 non-null float64\n",
      "Liquid Recovery (Barrels)               2795 non-null float64\n",
      "Net Loss (Barrels)                      2795 non-null float64\n",
      "Liquid Ignition                         2795 non-null object\n",
      "Liquid Explosion                        2795 non-null object\n",
      "Pipeline Shutdown                       2583 non-null object\n",
      "Shutdown Date/Time                      1390 non-null object\n",
      "Restart Date/Time                       1341 non-null object\n",
      "Public Evacuations                      2338 non-null float64\n",
      "Operator Employee Injuries              12 non-null float64\n",
      "Operator Contractor Injuries            12 non-null float64\n",
      "Emergency Responder Injuries            12 non-null float64\n",
      "Other Injuries                          12 non-null float64\n",
      "Public Injuries                         12 non-null float64\n",
      "All Injuries                            12 non-null float64\n",
      "Operator Employee Fatalities            8 non-null float64\n",
      "Operator Contractor Fatalities          8 non-null float64\n",
      "Emergency Responder Fatalities          8 non-null float64\n",
      "Other Fatalities                        8 non-null float64\n",
      "Public Fatalities                       8 non-null float64\n",
      "All Fatalities                          8 non-null float64\n",
      "Property Damage Costs                   2788 non-null float64\n",
      "Lost Commodity Costs                    2791 non-null float64\n",
      "Public/Private Property Damage Costs    2785 non-null float64\n",
      "Emergency Response Costs                2789 non-null float64\n",
      "Environmental Remediation Costs         2787 non-null float64\n",
      "Other Costs                             2779 non-null float64\n",
      "All Costs                               2795 non-null int64\n",
      "dtypes: float64(25), int64(5), object(18)\n",
      "memory usage: 1.0+ MB\n"
     ]
    }
   ],
   "source": [
    "#Identify numeric vs. Categorical data\n",
    "pipe.info()\n"
   ]
  },
  {
   "cell_type": "markdown",
   "metadata": {},
   "source": [
    "## Visualization & understanding\n",
    "\n",
    "What are the intuitve factors that will affect 'ALL COSTS': To begin the analysis:\n",
    "1.) Accident date/time - Are there more frequent accidents based on extreme temperatures/ or late at night?\n",
    "2.)Location- What areas experience the most accidents \n",
    "3.) Operator name. Is one company more prone to accidents than others? If so, why?\n",
    "4.) Liquid type- Is there a certain liquid type that causes more accidents?\n",
    "5.) Cause Category - What is the main cited reason for accidents?"
   ]
  },
  {
   "cell_type": "code",
   "execution_count": 5,
   "metadata": {
    "collapsed": false
   },
   "outputs": [
    {
     "data": {
      "text/html": [
       "<div>\n",
       "<style>\n",
       "    .dataframe thead tr:only-child th {\n",
       "        text-align: right;\n",
       "    }\n",
       "\n",
       "    .dataframe thead th {\n",
       "        text-align: left;\n",
       "    }\n",
       "\n",
       "    .dataframe tbody tr th {\n",
       "        vertical-align: top;\n",
       "    }\n",
       "</style>\n",
       "<table border=\"1\" class=\"dataframe\">\n",
       "  <thead>\n",
       "    <tr style=\"text-align: right;\">\n",
       "      <th></th>\n",
       "      <th>Report Number</th>\n",
       "      <th>Supplemental Number</th>\n",
       "      <th>Accident Year</th>\n",
       "      <th>Operator ID</th>\n",
       "      <th>Accident Latitude</th>\n",
       "      <th>Accident Longitude</th>\n",
       "      <th>Unintentional Release (Barrels)</th>\n",
       "      <th>Intentional Release (Barrels)</th>\n",
       "      <th>Liquid Recovery (Barrels)</th>\n",
       "      <th>Net Loss (Barrels)</th>\n",
       "      <th>...</th>\n",
       "      <th>Other Fatalities</th>\n",
       "      <th>Public Fatalities</th>\n",
       "      <th>All Fatalities</th>\n",
       "      <th>Property Damage Costs</th>\n",
       "      <th>Lost Commodity Costs</th>\n",
       "      <th>Public/Private Property Damage Costs</th>\n",
       "      <th>Emergency Response Costs</th>\n",
       "      <th>Environmental Remediation Costs</th>\n",
       "      <th>Other Costs</th>\n",
       "      <th>All Costs</th>\n",
       "    </tr>\n",
       "  </thead>\n",
       "  <tbody>\n",
       "    <tr>\n",
       "      <th>count</th>\n",
       "      <td>2.795000e+03</td>\n",
       "      <td>2795.000000</td>\n",
       "      <td>2795.000000</td>\n",
       "      <td>2795.000000</td>\n",
       "      <td>2795.000000</td>\n",
       "      <td>2795.000000</td>\n",
       "      <td>2795.000000</td>\n",
       "      <td>1209.000000</td>\n",
       "      <td>2795.000000</td>\n",
       "      <td>2795.000000</td>\n",
       "      <td>...</td>\n",
       "      <td>8.000000</td>\n",
       "      <td>8.000000</td>\n",
       "      <td>8.00000</td>\n",
       "      <td>2.788000e+03</td>\n",
       "      <td>2.791000e+03</td>\n",
       "      <td>2.785000e+03</td>\n",
       "      <td>2.789000e+03</td>\n",
       "      <td>2.787000e+03</td>\n",
       "      <td>2.779000e+03</td>\n",
       "      <td>2.795000e+03</td>\n",
       "    </tr>\n",
       "    <tr>\n",
       "      <th>mean</th>\n",
       "      <td>2.013293e+07</td>\n",
       "      <td>19433.319499</td>\n",
       "      <td>2013.187835</td>\n",
       "      <td>21388.476565</td>\n",
       "      <td>35.781608</td>\n",
       "      <td>-95.682691</td>\n",
       "      <td>207.245843</td>\n",
       "      <td>238.533623</td>\n",
       "      <td>75.051792</td>\n",
       "      <td>132.194050</td>\n",
       "      <td>...</td>\n",
       "      <td>0.125000</td>\n",
       "      <td>0.625000</td>\n",
       "      <td>1.25000</td>\n",
       "      <td>1.122963e+05</td>\n",
       "      <td>9.805299e+03</td>\n",
       "      <td>2.512195e+04</td>\n",
       "      <td>2.918911e+05</td>\n",
       "      <td>3.628094e+05</td>\n",
       "      <td>3.435604e+04</td>\n",
       "      <td>8.340332e+05</td>\n",
       "    </tr>\n",
       "    <tr>\n",
       "      <th>std</th>\n",
       "      <td>1.982098e+04</td>\n",
       "      <td>1724.815370</td>\n",
       "      <td>1.972102</td>\n",
       "      <td>12430.973428</td>\n",
       "      <td>5.652599</td>\n",
       "      <td>12.328430</td>\n",
       "      <td>1368.667813</td>\n",
       "      <td>2781.771453</td>\n",
       "      <td>546.188247</td>\n",
       "      <td>1185.019252</td>\n",
       "      <td>...</td>\n",
       "      <td>0.353553</td>\n",
       "      <td>0.744024</td>\n",
       "      <td>0.46291</td>\n",
       "      <td>8.709947e+05</td>\n",
       "      <td>6.384075e+04</td>\n",
       "      <td>5.243581e+05</td>\n",
       "      <td>4.617076e+06</td>\n",
       "      <td>1.206887e+07</td>\n",
       "      <td>6.191235e+05</td>\n",
       "      <td>1.657830e+07</td>\n",
       "    </tr>\n",
       "    <tr>\n",
       "      <th>min</th>\n",
       "      <td>2.010000e+07</td>\n",
       "      <td>15072.000000</td>\n",
       "      <td>2010.000000</td>\n",
       "      <td>300.000000</td>\n",
       "      <td>18.448010</td>\n",
       "      <td>-158.099930</td>\n",
       "      <td>0.000000</td>\n",
       "      <td>0.000000</td>\n",
       "      <td>0.000000</td>\n",
       "      <td>0.000000</td>\n",
       "      <td>...</td>\n",
       "      <td>0.000000</td>\n",
       "      <td>0.000000</td>\n",
       "      <td>1.00000</td>\n",
       "      <td>0.000000e+00</td>\n",
       "      <td>0.000000e+00</td>\n",
       "      <td>0.000000e+00</td>\n",
       "      <td>0.000000e+00</td>\n",
       "      <td>0.000000e+00</td>\n",
       "      <td>0.000000e+00</td>\n",
       "      <td>0.000000e+00</td>\n",
       "    </tr>\n",
       "    <tr>\n",
       "      <th>25%</th>\n",
       "      <td>2.012004e+07</td>\n",
       "      <td>17978.500000</td>\n",
       "      <td>2012.000000</td>\n",
       "      <td>11169.000000</td>\n",
       "      <td>30.909375</td>\n",
       "      <td>-100.587636</td>\n",
       "      <td>0.480000</td>\n",
       "      <td>0.000000</td>\n",
       "      <td>0.000000</td>\n",
       "      <td>0.000000</td>\n",
       "      <td>...</td>\n",
       "      <td>0.000000</td>\n",
       "      <td>0.000000</td>\n",
       "      <td>1.00000</td>\n",
       "      <td>1.000000e+02</td>\n",
       "      <td>2.000000e+01</td>\n",
       "      <td>0.000000e+00</td>\n",
       "      <td>0.000000e+00</td>\n",
       "      <td>0.000000e+00</td>\n",
       "      <td>0.000000e+00</td>\n",
       "      <td>5.039500e+03</td>\n",
       "    </tr>\n",
       "    <tr>\n",
       "      <th>50%</th>\n",
       "      <td>2.013037e+07</td>\n",
       "      <td>19502.000000</td>\n",
       "      <td>2013.000000</td>\n",
       "      <td>26041.000000</td>\n",
       "      <td>34.925440</td>\n",
       "      <td>-95.488870</td>\n",
       "      <td>2.000000</td>\n",
       "      <td>0.000000</td>\n",
       "      <td>0.740000</td>\n",
       "      <td>0.000000</td>\n",
       "      <td>...</td>\n",
       "      <td>0.000000</td>\n",
       "      <td>0.500000</td>\n",
       "      <td>1.00000</td>\n",
       "      <td>3.000000e+03</td>\n",
       "      <td>1.000000e+02</td>\n",
       "      <td>0.000000e+00</td>\n",
       "      <td>2.520000e+03</td>\n",
       "      <td>8.000000e+02</td>\n",
       "      <td>0.000000e+00</td>\n",
       "      <td>2.312900e+04</td>\n",
       "    </tr>\n",
       "    <tr>\n",
       "      <th>75%</th>\n",
       "      <td>2.015023e+07</td>\n",
       "      <td>20996.500000</td>\n",
       "      <td>2015.000000</td>\n",
       "      <td>31618.000000</td>\n",
       "      <td>40.264062</td>\n",
       "      <td>-91.089463</td>\n",
       "      <td>20.000000</td>\n",
       "      <td>0.000000</td>\n",
       "      <td>8.000000</td>\n",
       "      <td>2.000000</td>\n",
       "      <td>...</td>\n",
       "      <td>0.000000</td>\n",
       "      <td>1.000000</td>\n",
       "      <td>1.25000</td>\n",
       "      <td>2.500000e+04</td>\n",
       "      <td>7.000000e+02</td>\n",
       "      <td>0.000000e+00</td>\n",
       "      <td>1.550000e+04</td>\n",
       "      <td>1.500000e+04</td>\n",
       "      <td>0.000000e+00</td>\n",
       "      <td>1.172325e+05</td>\n",
       "    </tr>\n",
       "    <tr>\n",
       "      <th>max</th>\n",
       "      <td>2.017003e+07</td>\n",
       "      <td>22049.000000</td>\n",
       "      <td>2017.000000</td>\n",
       "      <td>99043.000000</td>\n",
       "      <td>70.261265</td>\n",
       "      <td>104.263399</td>\n",
       "      <td>30565.000000</td>\n",
       "      <td>70191.000000</td>\n",
       "      <td>18245.000000</td>\n",
       "      <td>30565.000000</td>\n",
       "      <td>...</td>\n",
       "      <td>1.000000</td>\n",
       "      <td>2.000000</td>\n",
       "      <td>2.00000</td>\n",
       "      <td>2.700000e+07</td>\n",
       "      <td>1.417839e+06</td>\n",
       "      <td>2.300000e+07</td>\n",
       "      <td>1.770000e+08</td>\n",
       "      <td>6.350000e+08</td>\n",
       "      <td>2.235000e+07</td>\n",
       "      <td>8.405261e+08</td>\n",
       "    </tr>\n",
       "  </tbody>\n",
       "</table>\n",
       "<p>8 rows × 30 columns</p>\n",
       "</div>"
      ],
      "text/plain": [
       "       Report Number  Supplemental Number  Accident Year   Operator ID  \\\n",
       "count   2.795000e+03          2795.000000    2795.000000   2795.000000   \n",
       "mean    2.013293e+07         19433.319499    2013.187835  21388.476565   \n",
       "std     1.982098e+04          1724.815370       1.972102  12430.973428   \n",
       "min     2.010000e+07         15072.000000    2010.000000    300.000000   \n",
       "25%     2.012004e+07         17978.500000    2012.000000  11169.000000   \n",
       "50%     2.013037e+07         19502.000000    2013.000000  26041.000000   \n",
       "75%     2.015023e+07         20996.500000    2015.000000  31618.000000   \n",
       "max     2.017003e+07         22049.000000    2017.000000  99043.000000   \n",
       "\n",
       "       Accident Latitude  Accident Longitude  Unintentional Release (Barrels)  \\\n",
       "count        2795.000000         2795.000000                      2795.000000   \n",
       "mean           35.781608          -95.682691                       207.245843   \n",
       "std             5.652599           12.328430                      1368.667813   \n",
       "min            18.448010         -158.099930                         0.000000   \n",
       "25%            30.909375         -100.587636                         0.480000   \n",
       "50%            34.925440          -95.488870                         2.000000   \n",
       "75%            40.264062          -91.089463                        20.000000   \n",
       "max            70.261265          104.263399                     30565.000000   \n",
       "\n",
       "       Intentional Release (Barrels)  Liquid Recovery (Barrels)  \\\n",
       "count                    1209.000000                2795.000000   \n",
       "mean                      238.533623                  75.051792   \n",
       "std                      2781.771453                 546.188247   \n",
       "min                         0.000000                   0.000000   \n",
       "25%                         0.000000                   0.000000   \n",
       "50%                         0.000000                   0.740000   \n",
       "75%                         0.000000                   8.000000   \n",
       "max                     70191.000000               18245.000000   \n",
       "\n",
       "       Net Loss (Barrels)      ...       Other Fatalities  Public Fatalities  \\\n",
       "count         2795.000000      ...               8.000000           8.000000   \n",
       "mean           132.194050      ...               0.125000           0.625000   \n",
       "std           1185.019252      ...               0.353553           0.744024   \n",
       "min              0.000000      ...               0.000000           0.000000   \n",
       "25%              0.000000      ...               0.000000           0.000000   \n",
       "50%              0.000000      ...               0.000000           0.500000   \n",
       "75%              2.000000      ...               0.000000           1.000000   \n",
       "max          30565.000000      ...               1.000000           2.000000   \n",
       "\n",
       "       All Fatalities  Property Damage Costs  Lost Commodity Costs  \\\n",
       "count         8.00000           2.788000e+03          2.791000e+03   \n",
       "mean          1.25000           1.122963e+05          9.805299e+03   \n",
       "std           0.46291           8.709947e+05          6.384075e+04   \n",
       "min           1.00000           0.000000e+00          0.000000e+00   \n",
       "25%           1.00000           1.000000e+02          2.000000e+01   \n",
       "50%           1.00000           3.000000e+03          1.000000e+02   \n",
       "75%           1.25000           2.500000e+04          7.000000e+02   \n",
       "max           2.00000           2.700000e+07          1.417839e+06   \n",
       "\n",
       "       Public/Private Property Damage Costs  Emergency Response Costs  \\\n",
       "count                          2.785000e+03              2.789000e+03   \n",
       "mean                           2.512195e+04              2.918911e+05   \n",
       "std                            5.243581e+05              4.617076e+06   \n",
       "min                            0.000000e+00              0.000000e+00   \n",
       "25%                            0.000000e+00              0.000000e+00   \n",
       "50%                            0.000000e+00              2.520000e+03   \n",
       "75%                            0.000000e+00              1.550000e+04   \n",
       "max                            2.300000e+07              1.770000e+08   \n",
       "\n",
       "       Environmental Remediation Costs   Other Costs     All Costs  \n",
       "count                     2.787000e+03  2.779000e+03  2.795000e+03  \n",
       "mean                      3.628094e+05  3.435604e+04  8.340332e+05  \n",
       "std                       1.206887e+07  6.191235e+05  1.657830e+07  \n",
       "min                       0.000000e+00  0.000000e+00  0.000000e+00  \n",
       "25%                       0.000000e+00  0.000000e+00  5.039500e+03  \n",
       "50%                       8.000000e+02  0.000000e+00  2.312900e+04  \n",
       "75%                       1.500000e+04  0.000000e+00  1.172325e+05  \n",
       "max                       6.350000e+08  2.235000e+07  8.405261e+08  \n",
       "\n",
       "[8 rows x 30 columns]"
      ]
     },
     "execution_count": 5,
     "metadata": {},
     "output_type": "execute_result"
    }
   ],
   "source": [
    "# A closer look into the numerical features:\n",
    "pipe.describe()"
   ]
  },
  {
   "cell_type": "code",
   "execution_count": 8,
   "metadata": {
    "collapsed": false
   },
   "outputs": [
    {
     "data": {
      "text/plain": [
       "MATERIAL/WELD/EQUIP FAILURE    1435\n",
       "CORROSION                       592\n",
       "INCORRECT OPERATION             378\n",
       "ALL OTHER CAUSES                118\n",
       "NATURAL FORCE DAMAGE            118\n",
       "EXCAVATION DAMAGE                97\n",
       "OTHER OUTSIDE FORCE DAMAGE       57\n",
       "Name: Cause Category, dtype: int64"
      ]
     },
     "execution_count": 8,
     "metadata": {},
     "output_type": "execute_result"
    }
   ],
   "source": [
    "pipe['Cause Category'].value_counts()"
   ]
  },
  {
   "cell_type": "code",
   "execution_count": 9,
   "metadata": {
    "collapsed": false
   },
   "outputs": [
    {
     "data": {
      "text/plain": [
       "array([[<matplotlib.axes._subplots.AxesSubplot object at 0x1141690d0>,\n",
       "        <matplotlib.axes._subplots.AxesSubplot object at 0x114203990>,\n",
       "        <matplotlib.axes._subplots.AxesSubplot object at 0x11423ed10>,\n",
       "        <matplotlib.axes._subplots.AxesSubplot object at 0x116a49b10>,\n",
       "        <matplotlib.axes._subplots.AxesSubplot object at 0x116ad1c10>],\n",
       "       [<matplotlib.axes._subplots.AxesSubplot object at 0x116b43550>,\n",
       "        <matplotlib.axes._subplots.AxesSubplot object at 0x116bc9410>,\n",
       "        <matplotlib.axes._subplots.AxesSubplot object at 0x116c3d2d0>,\n",
       "        <matplotlib.axes._subplots.AxesSubplot object at 0x116cbf4d0>,\n",
       "        <matplotlib.axes._subplots.AxesSubplot object at 0x116c48d50>],\n",
       "       [<matplotlib.axes._subplots.AxesSubplot object at 0x116da9910>,\n",
       "        <matplotlib.axes._subplots.AxesSubplot object at 0x116e33890>,\n",
       "        <matplotlib.axes._subplots.AxesSubplot object at 0x116ea3750>,\n",
       "        <matplotlib.axes._subplots.AxesSubplot object at 0x116f277d0>,\n",
       "        <matplotlib.axes._subplots.AxesSubplot object at 0x116f9d090>],\n",
       "       [<matplotlib.axes._subplots.AxesSubplot object at 0x1170201d0>,\n",
       "        <matplotlib.axes._subplots.AxesSubplot object at 0x117088990>,\n",
       "        <matplotlib.axes._subplots.AxesSubplot object at 0x11710ec50>,\n",
       "        <matplotlib.axes._subplots.AxesSubplot object at 0x117182710>,\n",
       "        <matplotlib.axes._subplots.AxesSubplot object at 0x1172079d0>],\n",
       "       [<matplotlib.axes._subplots.AxesSubplot object at 0x11718fad0>,\n",
       "        <matplotlib.axes._subplots.AxesSubplot object at 0x1172fe9d0>,\n",
       "        <matplotlib.axes._subplots.AxesSubplot object at 0x11732dc50>,\n",
       "        <matplotlib.axes._subplots.AxesSubplot object at 0x1173f6750>,\n",
       "        <matplotlib.axes._subplots.AxesSubplot object at 0x11747d6d0>],\n",
       "       [<matplotlib.axes._subplots.AxesSubplot object at 0x1174ed290>,\n",
       "        <matplotlib.axes._subplots.AxesSubplot object at 0x1175752d0>,\n",
       "        <matplotlib.axes._subplots.AxesSubplot object at 0x1175dbe10>,\n",
       "        <matplotlib.axes._subplots.AxesSubplot object at 0x11766e050>,\n",
       "        <matplotlib.axes._subplots.AxesSubplot object at 0x1176d3ad0>]], dtype=object)"
      ]
     },
     "execution_count": 9,
     "metadata": {},
     "output_type": "execute_result"
    },
    {
     "data": {
      "image/png": "[encoded data removed]",
      "text/plain": [
       "<matplotlib.figure.Figure at 0x113b45290>"
      ]
     },
     "metadata": {},
     "output_type": "display_data"
    }
   ],
   "source": [
    "%matplotlib inline\n",
    "import matplotlib.pyplot as plt\n",
    "pipe.hist(bins=50, figsize=(20, 15))"
   ]
  },
  {
   "cell_type": "code",
   "execution_count": 11,
   "metadata": {
    "collapsed": false
   },
   "outputs": [
    {
     "data": {
      "image/png": "[encoded data removed]",
      "text/plain": [
       "<matplotlib.figure.Figure at 0x11a1c72d0>"
      ]
     },
     "metadata": {},
     "output_type": "display_data"
    }
   ],
   "source": [
    "#lets take a closer look at the target variable:\n",
    "import visualization as vis\n",
    "vis.hist_density_plot(pipe, x='All Costs')"
   ]
  },
  {
   "cell_type": "code",
   "execution_count": 12,
   "metadata": {
    "collapsed": false,
    "scrolled": true
   },
   "outputs": [
    {
     "data": {
      "image/png": "[encoded data removed]",
      "text/plain": [
       "<matplotlib.figure.Figure at 0x1177b3290>"
      ]
     },
     "metadata": {},
     "output_type": "display_data"
    }
   ],
   "source": [
    "#Gives us very little information, lets apply a log transformation to get a better idea:\n",
    "vis.hist_density_plot(pipe, x='All Costs', logx='True')"
   ]
  },
  {
   "cell_type": "code",
   "execution_count": 13,
   "metadata": {
    "collapsed": false
   },
   "outputs": [
    {
     "data": {
      "text/plain": [
       "2331122923"
      ]
     },
     "execution_count": 13,
     "metadata": {},
     "output_type": "execute_result"
    }
   ],
   "source": [
    "sum(pipe['All Costs']) # 2.3 Billion in total costs"
   ]
  },
  {
   "cell_type": "code",
   "execution_count": 15,
   "metadata": {
    "collapsed": false
   },
   "outputs": [
    {
     "data": {
      "text/plain": [
       "840526118"
      ]
     },
     "execution_count": 15,
     "metadata": {},
     "output_type": "execute_result"
    }
   ],
   "source": [
    "max(pipe['All Costs'])"
   ]
  },
  {
   "cell_type": "code",
   "execution_count": 18,
   "metadata": {
    "collapsed": false
   },
   "outputs": [
    {
     "data": {
      "text/html": [
       "<div>\n",
       "<style>\n",
       "    .dataframe thead tr:only-child th {\n",
       "        text-align: right;\n",
       "    }\n",
       "\n",
       "    .dataframe thead th {\n",
       "        text-align: left;\n",
       "    }\n",
       "\n",
       "    .dataframe tbody tr th {\n",
       "        vertical-align: top;\n",
       "    }\n",
       "</style>\n",
       "<table border=\"1\" class=\"dataframe\">\n",
       "  <thead>\n",
       "    <tr style=\"text-align: right;\">\n",
       "      <th></th>\n",
       "      <th>Report Number</th>\n",
       "      <th>Supplemental Number</th>\n",
       "      <th>Accident Year</th>\n",
       "      <th>Accident Date/Time</th>\n",
       "      <th>Operator ID</th>\n",
       "      <th>Operator Name</th>\n",
       "      <th>Pipeline/Facility Name</th>\n",
       "      <th>Pipeline Location</th>\n",
       "      <th>Pipeline Type</th>\n",
       "      <th>Liquid Type</th>\n",
       "      <th>...</th>\n",
       "      <th>Public Fatalities</th>\n",
       "      <th>All Fatalities</th>\n",
       "      <th>Property Damage Costs</th>\n",
       "      <th>Lost Commodity Costs</th>\n",
       "      <th>Public/Private Property Damage Costs</th>\n",
       "      <th>Emergency Response Costs</th>\n",
       "      <th>Environmental Remediation Costs</th>\n",
       "      <th>Other Costs</th>\n",
       "      <th>All Costs</th>\n",
       "      <th>Log_All</th>\n",
       "    </tr>\n",
       "  </thead>\n",
       "  <tbody>\n",
       "    <tr>\n",
       "      <th>0</th>\n",
       "      <td>20100016</td>\n",
       "      <td>17305</td>\n",
       "      <td>2010</td>\n",
       "      <td>1/1/2010 7:15 AM</td>\n",
       "      <td>32109</td>\n",
       "      <td>ONEOK NGL PIPELINE LP</td>\n",
       "      <td>KINDER MORGAN JCT</td>\n",
       "      <td>ONSHORE</td>\n",
       "      <td>ABOVEGROUND</td>\n",
       "      <td>HVL OR OTHER FLAMMABLE OR TOXIC FLUID, GAS</td>\n",
       "      <td>...</td>\n",
       "      <td>NaN</td>\n",
       "      <td>NaN</td>\n",
       "      <td>110.0</td>\n",
       "      <td>1517.0</td>\n",
       "      <td>0.0</td>\n",
       "      <td>0.0</td>\n",
       "      <td>0.0</td>\n",
       "      <td>0.0</td>\n",
       "      <td>1627</td>\n",
       "      <td>7.395108</td>\n",
       "    </tr>\n",
       "    <tr>\n",
       "      <th>1</th>\n",
       "      <td>20100254</td>\n",
       "      <td>17331</td>\n",
       "      <td>2010</td>\n",
       "      <td>1/4/2010 8:30 AM</td>\n",
       "      <td>15786</td>\n",
       "      <td>PORTLAND PIPELINE CORP</td>\n",
       "      <td>24-INCH MAIN LINE</td>\n",
       "      <td>ONSHORE</td>\n",
       "      <td>ABOVEGROUND</td>\n",
       "      <td>CRUDE OIL</td>\n",
       "      <td>...</td>\n",
       "      <td>NaN</td>\n",
       "      <td>NaN</td>\n",
       "      <td>4000.0</td>\n",
       "      <td>8.0</td>\n",
       "      <td>0.0</td>\n",
       "      <td>0.0</td>\n",
       "      <td>0.0</td>\n",
       "      <td>0.0</td>\n",
       "      <td>4008</td>\n",
       "      <td>8.296297</td>\n",
       "    </tr>\n",
       "    <tr>\n",
       "      <th>2</th>\n",
       "      <td>20100038</td>\n",
       "      <td>17747</td>\n",
       "      <td>2010</td>\n",
       "      <td>1/5/2010 10:30 AM</td>\n",
       "      <td>20160</td>\n",
       "      <td>PETROLOGISTICS OLEFINS, LLC</td>\n",
       "      <td>NaN</td>\n",
       "      <td>ONSHORE</td>\n",
       "      <td>ABOVEGROUND</td>\n",
       "      <td>HVL OR OTHER FLAMMABLE OR TOXIC FLUID, GAS</td>\n",
       "      <td>...</td>\n",
       "      <td>NaN</td>\n",
       "      <td>NaN</td>\n",
       "      <td>0.0</td>\n",
       "      <td>200.0</td>\n",
       "      <td>0.0</td>\n",
       "      <td>0.0</td>\n",
       "      <td>0.0</td>\n",
       "      <td>0.0</td>\n",
       "      <td>200</td>\n",
       "      <td>5.303305</td>\n",
       "    </tr>\n",
       "    <tr>\n",
       "      <th>3</th>\n",
       "      <td>20100260</td>\n",
       "      <td>18574</td>\n",
       "      <td>2010</td>\n",
       "      <td>1/6/2010 7:30 PM</td>\n",
       "      <td>11169</td>\n",
       "      <td>ENBRIDGE ENERGY, LIMITED PARTNERSHIP</td>\n",
       "      <td>SUPERIOR TERMINAL</td>\n",
       "      <td>ONSHORE</td>\n",
       "      <td>UNDERGROUND</td>\n",
       "      <td>CRUDE OIL</td>\n",
       "      <td>...</td>\n",
       "      <td>NaN</td>\n",
       "      <td>NaN</td>\n",
       "      <td>200.0</td>\n",
       "      <td>40.0</td>\n",
       "      <td>0.0</td>\n",
       "      <td>11300.0</td>\n",
       "      <td>0.0</td>\n",
       "      <td>0.0</td>\n",
       "      <td>11540</td>\n",
       "      <td>9.353661</td>\n",
       "    </tr>\n",
       "    <tr>\n",
       "      <th>4</th>\n",
       "      <td>20100030</td>\n",
       "      <td>16276</td>\n",
       "      <td>2010</td>\n",
       "      <td>1/7/2010 1:00 PM</td>\n",
       "      <td>300</td>\n",
       "      <td>PLAINS PIPELINE, L.P.</td>\n",
       "      <td>RED RIVER EAST</td>\n",
       "      <td>ONSHORE</td>\n",
       "      <td>UNDERGROUND</td>\n",
       "      <td>CRUDE OIL</td>\n",
       "      <td>...</td>\n",
       "      <td>NaN</td>\n",
       "      <td>NaN</td>\n",
       "      <td>20000.0</td>\n",
       "      <td>150.0</td>\n",
       "      <td>0.0</td>\n",
       "      <td>7500.0</td>\n",
       "      <td>2000.0</td>\n",
       "      <td>0.0</td>\n",
       "      <td>29650</td>\n",
       "      <td>10.297251</td>\n",
       "    </tr>\n",
       "  </tbody>\n",
       "</table>\n",
       "<p>5 rows × 49 columns</p>\n",
       "</div>"
      ],
      "text/plain": [
       "   Report Number  Supplemental Number  Accident Year Accident Date/Time  \\\n",
       "0       20100016                17305           2010   1/1/2010 7:15 AM   \n",
       "1       20100254                17331           2010   1/4/2010 8:30 AM   \n",
       "2       20100038                17747           2010  1/5/2010 10:30 AM   \n",
       "3       20100260                18574           2010   1/6/2010 7:30 PM   \n",
       "4       20100030                16276           2010   1/7/2010 1:00 PM   \n",
       "\n",
       "   Operator ID                         Operator Name Pipeline/Facility Name  \\\n",
       "0        32109                 ONEOK NGL PIPELINE LP      KINDER MORGAN JCT   \n",
       "1        15786                PORTLAND PIPELINE CORP      24-INCH MAIN LINE   \n",
       "2        20160           PETROLOGISTICS OLEFINS, LLC                    NaN   \n",
       "3        11169  ENBRIDGE ENERGY, LIMITED PARTNERSHIP      SUPERIOR TERMINAL   \n",
       "4          300                 PLAINS PIPELINE, L.P.         RED RIVER EAST   \n",
       "\n",
       "  Pipeline Location Pipeline Type                                 Liquid Type  \\\n",
       "0           ONSHORE   ABOVEGROUND  HVL OR OTHER FLAMMABLE OR TOXIC FLUID, GAS   \n",
       "1           ONSHORE   ABOVEGROUND                                   CRUDE OIL   \n",
       "2           ONSHORE   ABOVEGROUND  HVL OR OTHER FLAMMABLE OR TOXIC FLUID, GAS   \n",
       "3           ONSHORE   UNDERGROUND                                   CRUDE OIL   \n",
       "4           ONSHORE   UNDERGROUND                                   CRUDE OIL   \n",
       "\n",
       "     ...     Public Fatalities All Fatalities Property Damage Costs  \\\n",
       "0    ...                   NaN            NaN                 110.0   \n",
       "1    ...                   NaN            NaN                4000.0   \n",
       "2    ...                   NaN            NaN                   0.0   \n",
       "3    ...                   NaN            NaN                 200.0   \n",
       "4    ...                   NaN            NaN               20000.0   \n",
       "\n",
       "  Lost Commodity Costs Public/Private Property Damage Costs  \\\n",
       "0               1517.0                                  0.0   \n",
       "1                  8.0                                  0.0   \n",
       "2                200.0                                  0.0   \n",
       "3                 40.0                                  0.0   \n",
       "4                150.0                                  0.0   \n",
       "\n",
       "   Emergency Response Costs  Environmental Remediation Costs Other Costs  \\\n",
       "0                       0.0                              0.0         0.0   \n",
       "1                       0.0                              0.0         0.0   \n",
       "2                       0.0                              0.0         0.0   \n",
       "3                   11300.0                              0.0         0.0   \n",
       "4                    7500.0                           2000.0         0.0   \n",
       "\n",
       "  All Costs    Log_All  \n",
       "0      1627   7.395108  \n",
       "1      4008   8.296297  \n",
       "2       200   5.303305  \n",
       "3     11540   9.353661  \n",
       "4     29650  10.297251  \n",
       "\n",
       "[5 rows x 49 columns]"
      ]
     },
     "execution_count": 18,
     "metadata": {},
     "output_type": "execute_result"
    }
   ],
   "source": [
    "#Log tranformation for 'All Costs':\n",
    "\n",
    "pipe['Log_All'] = np.log1p(pipe['All Costs'])\n",
    "pipe.head()"
   ]
  },
  {
   "cell_type": "code",
   "execution_count": 14,
   "metadata": {
    "collapsed": false
   },
   "outputs": [
    {
     "data": {
      "text/plain": [
       "<matplotlib.axes._subplots.AxesSubplot at 0x1181fd850>"
      ]
     },
     "execution_count": 14,
     "metadata": {},
     "output_type": "execute_result"
    },
    {
     "data": {
      "image/png": "[encoded data removed]",
      "text/plain": [
       "<matplotlib.figure.Figure at 0x119030390>"
      ]
     },
     "metadata": {},
     "output_type": "display_data"
    }
   ],
   "source": [
    "import seaborn as sns\n",
    "sns.boxplot(x= 'Pipeline Shutdown',\n",
    "           y= 'All Costs',\n",
    "           data= pipe,\n",
    "           palette='Set3')\n"
   ]
  },
  {
   "cell_type": "code",
   "execution_count": 44,
   "metadata": {
    "collapsed": false
   },
   "outputs": [
    {
     "data": {
      "text/plain": [
       "<matplotlib.axes._subplots.AxesSubplot at 0x11a606bd0>"
      ]
     },
     "execution_count": 44,
     "metadata": {},
     "output_type": "execute_result"
    },
    {
     "data": {
      "image/png": "[encoded data removed]",
      "text/plain": [
       "<matplotlib.figure.Figure at 0x13d37f090>"
      ]
     },
     "metadata": {},
     "output_type": "display_data"
    }
   ],
   "source": [
    "pipe.plot.scatter( x='Accident Year', y='All Costs')"
   ]
  },
  {
   "cell_type": "code",
   "execution_count": 50,
   "metadata": {
    "collapsed": false
   },
   "outputs": [
    {
     "data": {
      "text/plain": [
       "ENTERPRISE CRUDE PIPELINE LLC                        195\n",
       "SUNOCO PIPELINE L.P.                                 180\n",
       "PLAINS PIPELINE, L.P.                                156\n",
       "ENTERPRISE PRODUCTS OPERATING LLC                    155\n",
       "MAGELLAN PIPELINE COMPANY, LP                        140\n",
       "COLONIAL PIPELINE CO                                 136\n",
       "BUCKEYE PARTNERS, LP                                 115\n",
       "MARATHON PIPE LINE LLC                                87\n",
       "KINDER MORGAN LIQUID TERMINALS, LLC                   87\n",
       "PHILLIPS 66 PIPELINE LLC                              80\n",
       "ENBRIDGE ENERGY, LIMITED PARTNERSHIP                  71\n",
       "SHELL PIPELINE CO., L.P.                              60\n",
       "EXXONMOBIL PIPELINE CO                                49\n",
       "EXPLORER PIPELINE CO                                  42\n",
       "ONEOK NGL PIPELINE LP                                 39\n",
       "MAGELLAN AMMONIA PIPELINE, L.P.                       37\n",
       "ONEOK NGL PIPELINE, LLC                               36\n",
       "KOCH PIPELINE COMPANY, L.P.                           36\n",
       "CHEVRON PIPE LINE CO                                  34\n",
       "CONOCOPHILLIPS                                        34\n",
       "NUSTAR PIPELINE OPERATING PARTNERSHIP L.P.            33\n",
       "WYOMING PIPELINE COMPANY                              32\n",
       "PLANTATION PIPE LINE CO                               32\n",
       "JAYHAWK PIPELINE LLC                                  30\n",
       "MID - VALLEY PIPELINE CO                              30\n",
       "WEST TEXAS GULF PIPELINE CO                           30\n",
       "MAGELLAN TERMINALS HOLDINGS, LP                       28\n",
       "HOLLY ENERGY PARTNERS - OPERATING, L.P.               26\n",
       "ROSE ROCK MIDSTREAM L.P.                              26\n",
       "SFPP, LP                                              20\n",
       "                                                    ... \n",
       "LACLEDE GAS CO                                         1\n",
       "GULF STATE PIPELINE CO INC                             1\n",
       "ENBRIDGE STORAGE (PATOKA) L.L.C.                       1\n",
       "TESORO LOGISTICS NORTHWEST PIPELINE LLC                1\n",
       "TESORO LOGISTICS OPERATIONS LLC - MOUNTAIN REGION      1\n",
       "CAMINO REAL GATHERING CO LLC                           1\n",
       "KEY PIPELINE LIMITED                                   1\n",
       "PARAMOUNT PETROLEUM CORP                               1\n",
       "DOW PIPELINE CO - CAYUSE                               1\n",
       "HAWAII INDEPENDENT ENERGY                              1\n",
       "FREEPORT-MCMORAN OIL & GAS                             1\n",
       "COLLINS PIPELINE CO                                    1\n",
       "KINDER MORGAN ENERGY PARTNERS, L.P.                    1\n",
       "PORTLAND PIPELINE CORP                                 1\n",
       "ULTRAMAR INC                                           1\n",
       "TORRANCE VALLEY PIPELINE COMPANY LLC                   1\n",
       "EXXONMOBIL OIL CORPORATION-TERMINALS                   1\n",
       "ITC PIPELINE COMPANY, LLC                              1\n",
       "BLUE RACER MIDSTREAM, LLC                              1\n",
       "SKEISUI SPECIALTY CHEMICALS AMERICA                    1\n",
       "TOTAL PETROCHEMICALS PIPELINE USA , INC.               1\n",
       "CHEVRON PRODUCTS COMPANY - HAWAII                      1\n",
       "DELEK CRUDE LOGISTICS, LLC.                            1\n",
       "REPUBLIC MIDSTREAM, LLC                                1\n",
       "GEL OFFSHORE PIPELINE, LLC                             1\n",
       "DENBURY GREEN PIPELINE-TEXAS, LLC                      1\n",
       "USG WHEATLAND PIPELINE, LLC                            1\n",
       "OILTANKING PORT NECHES, LLC                            1\n",
       "PIPELINES OF PUERTO RICO INCD, THE                     1\n",
       "BP OIL PIPELINE CO                                     1\n",
       "Name: Operator Name, Length: 229, dtype: int64"
      ]
     },
     "execution_count": 50,
     "metadata": {},
     "output_type": "execute_result"
    }
   ],
   "source": [
    "pipe['Operator Name'].value_counts()"
   ]
  },
  {
   "cell_type": "code",
   "execution_count": 51,
   "metadata": {
    "collapsed": false
   },
   "outputs": [
    {
     "data": {
      "text/plain": [
       "2331122923"
      ]
     },
     "execution_count": 51,
     "metadata": {},
     "output_type": "execute_result"
    }
   ],
   "source": [
    "sum(pipe['All Costs']) # 2.3 Billion in total costs"
   ]
  },
  {
   "cell_type": "markdown",
   "metadata": {
    "collapsed": true
   },
   "source": [
    "### Missing Data"
   ]
  },
  {
   "cell_type": "code",
   "execution_count": 19,
   "metadata": {
    "collapsed": true
   },
   "outputs": [],
   "source": [
    "pipe_na = (pipe.isnull().sum() / len(pipe)) * 100\n",
    "pipe_na = pipe_na.drop(pipe_na[pipe_na == 0].index).sort_values(ascending=False)"
   ]
  },
  {
   "cell_type": "code",
   "execution_count": 20,
   "metadata": {
    "collapsed": false
   },
   "outputs": [
    {
     "data": {
      "text/plain": [
       "[<matplotlib.text.Text at 0x11ab7e750>, <matplotlib.text.Text at 0x11ab5b810>]"
      ]
     },
     "execution_count": 20,
     "metadata": {},
     "output_type": "execute_result"
    },
    {
     "data": {
      "image/png": "[encoded data removed]",
      "text/plain": [
       "<matplotlib.figure.Figure at 0x11a966990>"
      ]
     },
     "metadata": {},
     "output_type": "display_data"
    }
   ],
   "source": [
    "f, ax = plt.subplots(figsize=(12, 8))\n",
    "plt.xticks(rotation='90')\n",
    "sns.barplot(x=pipe_na.index, y=pipe_na)\n",
    "ax.set(title='Percent missing data by feature', ylabel='% missing')"
   ]
  },
  {
   "cell_type": "code",
   "execution_count": null,
   "metadata": {
    "collapsed": true
   },
   "outputs": [],
   "source": []
  },
  {
   "cell_type": "code",
   "execution_count": null,
   "metadata": {
    "collapsed": true
   },
   "outputs": [],
   "source": []
  },
  {
   "cell_type": "code",
   "execution_count": null,
   "metadata": {
    "collapsed": true
   },
   "outputs": [],
   "source": []
  },
  {
   "cell_type": "code",
   "execution_count": null,
   "metadata": {
    "collapsed": true
   },
   "outputs": [],
   "source": []
  },
  {
   "cell_type": "code",
   "execution_count": null,
   "metadata": {
    "collapsed": true
   },
   "outputs": [],
   "source": []
  },
  {
   "cell_type": "code",
   "execution_count": null,
   "metadata": {
    "collapsed": true
   },
   "outputs": [],
   "source": []
  },
  {
   "cell_type": "code",
   "execution_count": null,
   "metadata": {
    "collapsed": true
   },
   "outputs": [],
   "source": []
  },
  {
   "cell_type": "code",
   "execution_count": null,
   "metadata": {
    "collapsed": true
   },
   "outputs": [],
   "source": []
  },
  {
   "cell_type": "code",
   "execution_count": null,
   "metadata": {
    "collapsed": true
   },
   "outputs": [],
   "source": []
  },
  {
   "cell_type": "code",
   "execution_count": null,
   "metadata": {
    "collapsed": true
   },
   "outputs": [],
   "source": []
  },
  {
   "cell_type": "code",
   "execution_count": null,
   "metadata": {
    "collapsed": true
   },
   "outputs": [],
   "source": []
  },
  {
   "cell_type": "code",
   "execution_count": null,
   "metadata": {
    "collapsed": true
   },
   "outputs": [],
   "source": []
  },
  {
   "cell_type": "code",
   "execution_count": null,
   "metadata": {
    "collapsed": true
   },
   "outputs": [],
   "source": []
  },
  {
   "cell_type": "code",
   "execution_count": null,
   "metadata": {
    "collapsed": true
   },
   "outputs": [],
   "source": []
  },
  {
   "cell_type": "code",
   "execution_count": null,
   "metadata": {
    "collapsed": true
   },
   "outputs": [],
   "source": []
  },
  {
   "cell_type": "code",
   "execution_count": null,
   "metadata": {
    "collapsed": true
   },
   "outputs": [],
   "source": []
  },
  {
   "cell_type": "code",
   "execution_count": null,
   "metadata": {
    "collapsed": true
   },
   "outputs": [],
   "source": []
  },
  {
   "cell_type": "code",
   "execution_count": null,
   "metadata": {
    "collapsed": true
   },
   "outputs": [],
   "source": []
  },
  {
   "cell_type": "code",
   "execution_count": null,
   "metadata": {
    "collapsed": true
   },
   "outputs": [],
   "source": []
  },
  {
   "cell_type": "code",
   "execution_count": null,
   "metadata": {
    "collapsed": true
   },
   "outputs": [],
   "source": []
  },
  {
   "cell_type": "code",
   "execution_count": null,
   "metadata": {
    "collapsed": true
   },
   "outputs": [],
   "source": []
  },
  {
   "cell_type": "code",
   "execution_count": null,
   "metadata": {
    "collapsed": true
   },
   "outputs": [],
   "source": []
  },
  {
   "cell_type": "code",
   "execution_count": null,
   "metadata": {
    "collapsed": true
   },
   "outputs": [],
   "source": []
  },
  {
   "cell_type": "code",
   "execution_count": null,
   "metadata": {
    "collapsed": true
   },
   "outputs": [],
   "source": []
  }
 ],
 "metadata": {
  "kernelspec": {
   "display_name": "Python 2",
   "language": "python",
   "name": "python2"
  },
  "language_info": {
   "codemirror_mode": {
    "name": "ipython",
    "version": 2
   },
   "file_extension": ".py",
   "mimetype": "text/x-python",
   "name": "python",
   "nbconvert_exporter": "python",
   "pygments_lexer": "ipython2",
   "version": "2.7.13"
  }
 },
 "nbformat": 4,
 "nbformat_minor": 2
}
