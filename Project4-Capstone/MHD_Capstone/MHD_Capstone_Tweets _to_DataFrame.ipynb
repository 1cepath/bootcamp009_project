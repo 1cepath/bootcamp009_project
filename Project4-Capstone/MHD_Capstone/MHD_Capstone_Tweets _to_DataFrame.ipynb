{
 "cells": [
  {
   "cell_type": "markdown",
   "metadata": {},
   "source": [
    "# Mohammad Haseeb Durrani\n",
    "# Capstone Project\n",
    "\n",
    "## Getting tweets from JSON and preparing a Data Frame "
   ]
  },
  {
   "cell_type": "code",
   "execution_count": 1,
   "metadata": {
    "collapsed": true
   },
   "outputs": [],
   "source": [
    "import pandas as pd\n",
    "import numpy as np \n",
    "import glob, os\n",
    "import re\n",
    "import sys\n",
    "import io\n",
    "from nltk import pos_tag\n",
    "import nltk\n",
    "import preprocessor as p\n",
    "from sklearn.feature_extraction import text \n",
    "\n",
    "    \n",
    "import warnings\n",
    "warnings.filterwarnings('ignore')"
   ]
  },
  {
   "cell_type": "code",
   "execution_count": 2,
   "metadata": {
    "collapsed": true
   },
   "outputs": [],
   "source": [
    "tweet_dic = dict()\n",
    "tweet_dic[\"tweet_id\"] = []\n",
    "tweet_dic[\"created_at\"] = []\n",
    "tweet_dic[\"text\"] = []\n",
    "tweet_dic[\"full_text\"] = []\n",
    "tweet_dic[\"user_id\"] = []\n",
    "tweet_dic[\"user_name\"] = []\n",
    "tweet_dic[\"user_screen_name\"] = []\n",
    "tweet_dic[\"hashtags\"] = []\n",
    "tweet_dic[\"mentions\"] = []\n",
    "tweet_dic[\"language\"] = []\n",
    "tweet_dic[\"source\"] = []\n",
    "tweet_dic[\"location\"] = []"
   ]
  },
  {
   "cell_type": "code",
   "execution_count": 3,
   "metadata": {
    "collapsed": false
   },
   "outputs": [
    {
     "data": {
      "text/plain": [
       "['./data/untitled folder/twitter_stream1.txt',\n",
       " './data/untitled folder/twitter_stream10.txt',\n",
       " './data/untitled folder/twitter_stream11.txt',\n",
       " './data/untitled folder/twitter_stream12.txt',\n",
       " './data/untitled folder/twitter_stream13.txt',\n",
       " './data/untitled folder/twitter_stream14.txt',\n",
       " './data/untitled folder/twitter_stream15.txt',\n",
       " './data/untitled folder/twitter_stream16.txt',\n",
       " './data/untitled folder/twitter_stream17.txt',\n",
       " './data/untitled folder/twitter_stream18.txt',\n",
       " './data/untitled folder/twitter_stream19.txt',\n",
       " './data/untitled folder/twitter_stream2.txt',\n",
       " './data/untitled folder/twitter_stream20.txt',\n",
       " './data/untitled folder/twitter_stream21.txt',\n",
       " './data/untitled folder/twitter_stream22.txt',\n",
       " './data/untitled folder/twitter_stream23.txt',\n",
       " './data/untitled folder/twitter_stream24.txt',\n",
       " './data/untitled folder/twitter_stream25.txt',\n",
       " './data/untitled folder/twitter_stream26.txt',\n",
       " './data/untitled folder/twitter_stream27.txt',\n",
       " './data/untitled folder/twitter_stream28.txt',\n",
       " './data/untitled folder/twitter_stream29.txt',\n",
       " './data/untitled folder/twitter_stream3.txt',\n",
       " './data/untitled folder/twitter_stream30.txt',\n",
       " './data/untitled folder/twitter_stream31.txt',\n",
       " './data/untitled folder/twitter_stream32.txt',\n",
       " './data/untitled folder/twitter_stream33.txt',\n",
       " './data/untitled folder/twitter_stream34.txt',\n",
       " './data/untitled folder/twitter_stream35.txt',\n",
       " './data/untitled folder/twitter_stream36.txt',\n",
       " './data/untitled folder/twitter_stream37.txt',\n",
       " './data/untitled folder/twitter_stream38.txt',\n",
       " './data/untitled folder/twitter_stream39.txt',\n",
       " './data/untitled folder/twitter_stream4.txt',\n",
       " './data/untitled folder/twitter_stream40.txt',\n",
       " './data/untitled folder/twitter_stream41.txt',\n",
       " './data/untitled folder/twitter_stream42.txt',\n",
       " './data/untitled folder/twitter_stream43.txt',\n",
       " './data/untitled folder/twitter_stream44.txt',\n",
       " './data/untitled folder/twitter_stream5.txt',\n",
       " './data/untitled folder/twitter_stream6.txt',\n",
       " './data/untitled folder/twitter_stream7.txt',\n",
       " './data/untitled folder/twitter_stream8.txt',\n",
       " './data/untitled folder/twitter_stream9.txt',\n",
       " './data/untitled folder/unlabeled_english_tweets1.txt',\n",
       " './data/untitled folder/unlabeled_english_tweets2.txt',\n",
       " './data/untitled folder/unlabeled_english_tweets3.txt',\n",
       " './data/untitled folder/unlabeled_english_tweets4.txt',\n",
       " './data/untitled folder/unlabeled_english_tweets5.txt',\n",
       " './data/untitled folder/unlabeled_english_tweets6.txt']"
      ]
     },
     "execution_count": 3,
     "metadata": {},
     "output_type": "execute_result"
    }
   ],
   "source": [
    "glob.glob(\"./data/untitled folder/*.txt\")"
   ]
  },
  {
   "cell_type": "code",
   "execution_count": 4,
   "metadata": {
    "collapsed": false
   },
   "outputs": [],
   "source": [
    "# Import the necessary package to process data in JSON format\n",
    "try:\n",
    "    import json\n",
    "except ImportError:\n",
    "    import simplejson as json\n",
    "\n",
    "# We use the file saved from last step as example\n",
    "\n",
    "for f in glob.glob(\"./data/untitled folder/*.txt\"): \n",
    "    \n",
    "    tweets_file = open(f, \"r\")\n",
    "    \n",
    "    for line in tweets_file:\n",
    "        try:\n",
    "            # Read in one line of the file, convert it into a json object \n",
    "            tweet = json.loads(line.strip())\n",
    "\n",
    "            if 'text' in tweet: \n",
    "\n",
    "                tweet_dic[\"tweet_id\"].append(tweet[\"id\"])\n",
    "\n",
    "                tweet_dic[\"created_at\"].append(tweet[\"created_at\"])\n",
    "\n",
    "                tweet_dic[\"text\"].append(tweet[\"text\"])\n",
    "\n",
    "                try:\n",
    "                    tweet_dic[\"full_text\"].append(tweet[\"retweeted_status\"][\"extended_tweet\"][\"full_text\"])\n",
    "                except:\n",
    "                    tweet_dic[\"full_text\"].append(\"\")\n",
    "\n",
    "                tweet_dic[\"user_id\"].append(tweet[\"user\"][\"id\"])\n",
    "                tweet_dic[\"user_name\"].append(tweet[\"user\"][\"name\"])\n",
    "                tweet_dic[\"user_screen_name\"].append(tweet[\"user\"][\"screen_name\"])\n",
    "\n",
    "                hashtags = []\n",
    "                for hashtag in tweet[\"entities\"][\"hashtags\"]:\n",
    "                    hashtags.append(hashtag[\"text\"])\n",
    "                tweet_dic[\"hashtags\"].append(hashtags)\n",
    "            \n",
    "                mentions_list = []\n",
    "                for mention in tweet['entities']['user_mentions']:\n",
    "                    mentions_list.append(mention[\"name\"])\n",
    "                    mentions_list.append(mention[\"screen_name\"])\n",
    "                tweet_dic[\"mentions\"].append(mentions_list) \n",
    "\n",
    "                tweet_dic[\"language\"].append(tweet[\"lang\"])\n",
    "\n",
    "                tweet_dic[\"source\"].append(tweet[\"source\"])\n",
    "\n",
    "                tweet_dic[\"location\"].append(tweet[\"coordinates\"])\n",
    "\n",
    "        except:\n",
    "            # read in a line is not in JSON format (sometimes error occured)\n",
    "            continue"
   ]
  },
  {
   "cell_type": "code",
   "execution_count": 5,
   "metadata": {
    "collapsed": false
   },
   "outputs": [],
   "source": [
    "tweet_df = pd.DataFrame(tweet_dic)"
   ]
  },
  {
   "cell_type": "code",
   "execution_count": 6,
   "metadata": {
    "collapsed": false
   },
   "outputs": [
    {
     "data": {
      "text/plain": [
       "(5754703, 12)"
      ]
     },
     "execution_count": 6,
     "metadata": {},
     "output_type": "execute_result"
    }
   ],
   "source": [
    "tweet_df.shape"
   ]
  },
  {
   "cell_type": "code",
   "execution_count": 7,
   "metadata": {
    "collapsed": false,
    "scrolled": false
   },
   "outputs": [
    {
     "data": {
      "text/html": [
       "<div>\n",
       "<style>\n",
       "    .dataframe thead tr:only-child th {\n",
       "        text-align: right;\n",
       "    }\n",
       "\n",
       "    .dataframe thead th {\n",
       "        text-align: left;\n",
       "    }\n",
       "\n",
       "    .dataframe tbody tr th {\n",
       "        vertical-align: top;\n",
       "    }\n",
       "</style>\n",
       "<table border=\"1\" class=\"dataframe\">\n",
       "  <thead>\n",
       "    <tr style=\"text-align: right;\">\n",
       "      <th></th>\n",
       "      <th>created_at</th>\n",
       "      <th>full_text</th>\n",
       "      <th>hashtags</th>\n",
       "      <th>language</th>\n",
       "      <th>location</th>\n",
       "      <th>mentions</th>\n",
       "      <th>source</th>\n",
       "      <th>text</th>\n",
       "      <th>tweet_id</th>\n",
       "      <th>user_id</th>\n",
       "      <th>user_name</th>\n",
       "      <th>user_screen_name</th>\n",
       "    </tr>\n",
       "  </thead>\n",
       "  <tbody>\n",
       "    <tr>\n",
       "      <th>0</th>\n",
       "      <td>Mon Jun 05 02:08:08 +0000 2017</td>\n",
       "      <td></td>\n",
       "      <td>[]</td>\n",
       "      <td>pt</td>\n",
       "      <td>None</td>\n",
       "      <td>[Bob Marley, RecitoBobMarIey]</td>\n",
       "      <td>&lt;a href=\"http://twitter.com/download/android\" ...</td>\n",
       "      <td>RT @RecitoBobMarIey: Sabe o que é lindo? Quand...</td>\n",
       "      <td>871549166958391296</td>\n",
       "      <td>3882799577</td>\n",
       "      <td>Ψ</td>\n",
       "      <td>s3xysmooth</td>\n",
       "    </tr>\n",
       "    <tr>\n",
       "      <th>1</th>\n",
       "      <td>Mon Jun 05 02:08:08 +0000 2017</td>\n",
       "      <td></td>\n",
       "      <td>[SundayMorning, LondonAttack, PrayForManchester]</td>\n",
       "      <td>en</td>\n",
       "      <td>None</td>\n",
       "      <td>[Kambree Kawahine Koa, KamVTV]</td>\n",
       "      <td>&lt;a href=\"http://twitter.com/download/iphone\" r...</td>\n",
       "      <td>RT @KamVTV: Breaking : 5,000 Canadians March i...</td>\n",
       "      <td>871549166970916869</td>\n",
       "      <td>541145032</td>\n",
       "      <td>concerned citizen</td>\n",
       "      <td>Morsebandit</td>\n",
       "    </tr>\n",
       "    <tr>\n",
       "      <th>2</th>\n",
       "      <td>Mon Jun 05 02:08:08 +0000 2017</td>\n",
       "      <td></td>\n",
       "      <td>[]</td>\n",
       "      <td>ar</td>\n",
       "      <td>None</td>\n",
       "      <td>[]</td>\n",
       "      <td>&lt;a href=\"http://twitter.com/download/iphone\" r...</td>\n",
       "      <td>ماذا فعلت بقلبِي كي اتمنّاك لهذا الحد؟.</td>\n",
       "      <td>871549166966755331</td>\n",
       "      <td>748310992682090496</td>\n",
       "      <td>حـور.</td>\n",
       "      <td>ihe3v</td>\n",
       "    </tr>\n",
       "  </tbody>\n",
       "</table>\n",
       "</div>"
      ],
      "text/plain": [
       "                       created_at full_text  \\\n",
       "0  Mon Jun 05 02:08:08 +0000 2017             \n",
       "1  Mon Jun 05 02:08:08 +0000 2017             \n",
       "2  Mon Jun 05 02:08:08 +0000 2017             \n",
       "\n",
       "                                           hashtags language location  \\\n",
       "0                                                []       pt     None   \n",
       "1  [SundayMorning, LondonAttack, PrayForManchester]       en     None   \n",
       "2                                                []       ar     None   \n",
       "\n",
       "                         mentions  \\\n",
       "0   [Bob Marley, RecitoBobMarIey]   \n",
       "1  [Kambree Kawahine Koa, KamVTV]   \n",
       "2                              []   \n",
       "\n",
       "                                              source  \\\n",
       "0  <a href=\"http://twitter.com/download/android\" ...   \n",
       "1  <a href=\"http://twitter.com/download/iphone\" r...   \n",
       "2  <a href=\"http://twitter.com/download/iphone\" r...   \n",
       "\n",
       "                                                text            tweet_id  \\\n",
       "0  RT @RecitoBobMarIey: Sabe o que é lindo? Quand...  871549166958391296   \n",
       "1  RT @KamVTV: Breaking : 5,000 Canadians March i...  871549166970916869   \n",
       "2            ماذا فعلت بقلبِي كي اتمنّاك لهذا الحد؟.  871549166966755331   \n",
       "\n",
       "              user_id          user_name user_screen_name  \n",
       "0          3882799577                  Ψ       s3xysmooth  \n",
       "1           541145032  concerned citizen      Morsebandit  \n",
       "2  748310992682090496              حـور.            ihe3v  "
      ]
     },
     "execution_count": 7,
     "metadata": {},
     "output_type": "execute_result"
    }
   ],
   "source": [
    "tweet_df.head(3)"
   ]
  },
  {
   "cell_type": "code",
   "execution_count": 8,
   "metadata": {
    "collapsed": false
   },
   "outputs": [
    {
     "data": {
      "text/plain": [
       "(4263443, 12)"
      ]
     },
     "execution_count": 8,
     "metadata": {},
     "output_type": "execute_result"
    }
   ],
   "source": [
    "tweet_df = tweet_df.loc[tweet_df.language == \"en\", ]\n",
    "tweet_df.shape"
   ]
  },
  {
   "cell_type": "code",
   "execution_count": 9,
   "metadata": {
    "collapsed": true
   },
   "outputs": [],
   "source": [
    "tweet_df.to_pickle(\"./unlabeled_tweets_df.pkl\")"
   ]
  },
  {
   "cell_type": "code",
   "execution_count": 10,
   "metadata": {
    "collapsed": false
   },
   "outputs": [],
   "source": [
    "tweet_df2 = pd.read_pickle(\"./unlabeled_tweets_df.pkl\")"
   ]
  },
  {
   "cell_type": "code",
   "execution_count": 11,
   "metadata": {
    "collapsed": false
   },
   "outputs": [
    {
     "data": {
      "text/plain": [
       "(4263443, 12)"
      ]
     },
     "execution_count": 11,
     "metadata": {},
     "output_type": "execute_result"
    }
   ],
   "source": [
    "tweet_df2.shape"
   ]
  },
  {
   "cell_type": "code",
   "execution_count": null,
   "metadata": {
    "collapsed": true
   },
   "outputs": [],
   "source": []
  }
 ],
 "metadata": {
  "kernelspec": {
   "display_name": "Python 2",
   "language": "python",
   "name": "python2"
  },
  "language_info": {
   "codemirror_mode": {
    "name": "ipython",
    "version": 2
   },
   "file_extension": ".py",
   "mimetype": "text/x-python",
   "name": "python",
   "nbconvert_exporter": "python",
   "pygments_lexer": "ipython2",
   "version": "2.7.13"
  }
 },
 "nbformat": 4,
 "nbformat_minor": 2
}
