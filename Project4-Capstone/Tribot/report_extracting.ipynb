{
 "cells": [
  {
   "cell_type": "markdown",
   "metadata": {},
   "source": [
    "These functions will help you extract the entire report and place them into a pandas dataframe - please remember to download the conversion table (dow 30 to cik #):\n",
    "1) getting_crawler(year_number, qtr): this function will download the index file as provdied by sec.gov. Please indicate the year as well the quarter you would like to extract the data from. For more information, visit https://www.sec.gov/edgar/searchedgar/accessing-edgar-data.htm\n",
    "\n",
    "2) milestone_search(file_name): milestone_search looks for where the listing begins in the index file.\n",
    "\n",
    "3) convert_to_pandas(file_name, data_start): convert_to_pandas function converts index file to a pandas data frame\n",
    "\n",
    "4) search_company_name(data, company_name, report_type): allows you to find the url for the report as well as the the specified companies. Please note that the function currently only take CIK# for accuracy. Many larger companies have multiple reporting sub-companies, i.e., J P Morgan.\n",
    "\n",
    "5) getting_data(url_list, year_number, qtr, report_type): Will download the entire webpage of the report as a file and put it into a pandas dataframe. For missing values, it will automatically assigned np.NaN\n",
    "\n",
    "6) adding_company_name(data): will add company name and other inforamtion back to the current dataframe\n",
    "\n",
    "7) putting_together(year_number,qtr, company_name, report_type): goes through the entire process and only return the data_frame with the full data.\n",
    "\n",
    "8) the functions now support saving and reading in pickle files!\n",
    "\n",
    "9) converting company tickers to ciks - there is a function that will search for cik using the tickers on sec.gov\n",
    "\n",
    "See below listing for the options for company_name"
   ]
  },
  {
   "cell_type": "code",
   "execution_count": 2,
   "metadata": {
    "collapsed": false
   },
   "outputs": [],
   "source": [
    "import urllib\n",
    "import pandas as pd\n",
    "import struct\n",
    "import numpy as np\n",
    "from bs4 import BeautifulSoup\n",
    "import requests\n",
    "import regex as re\n",
    "import pickle\n",
    "import os.path\n",
    "import datetime\n",
    "import spacy\n",
    "import string\n",
    "import bs4"
   ]
  },
  {
   "cell_type": "code",
   "execution_count": 4,
   "metadata": {
    "collapsed": true
   },
   "outputs": [],
   "source": [
    "sp500 = pd.read_csv(\"sp500.csv\")"
   ]
  },
  {
   "cell_type": "code",
   "execution_count": 7,
   "metadata": {
    "collapsed": false
   },
   "outputs": [
    {
     "data": {
      "text/html": [
       "<div>\n",
       "<style>\n",
       "    .dataframe thead tr:only-child th {\n",
       "        text-align: right;\n",
       "    }\n",
       "\n",
       "    .dataframe thead th {\n",
       "        text-align: left;\n",
       "    }\n",
       "\n",
       "    .dataframe tbody tr th {\n",
       "        vertical-align: top;\n",
       "    }\n",
       "</style>\n",
       "<table border=\"1\" class=\"dataframe\">\n",
       "  <thead>\n",
       "    <tr style=\"text-align: right;\">\n",
       "      <th></th>\n",
       "      <th>Ticker symbol</th>\n",
       "      <th>Security</th>\n",
       "      <th>SEC filings</th>\n",
       "      <th>GICS?Sector</th>\n",
       "      <th>GICS Sub Industry</th>\n",
       "      <th>Address of Headquarters</th>\n",
       "      <th>Date first added</th>\n",
       "      <th>CIK</th>\n",
       "    </tr>\n",
       "  </thead>\n",
       "  <tbody>\n",
       "    <tr>\n",
       "      <th>0</th>\n",
       "      <td>A</td>\n",
       "      <td>Agilent Technologies Inc</td>\n",
       "      <td>reports</td>\n",
       "      <td>Health Care</td>\n",
       "      <td>Health Care Equipment</td>\n",
       "      <td>Santa Clara, California</td>\n",
       "      <td>2000-06-05</td>\n",
       "      <td>1090872</td>\n",
       "    </tr>\n",
       "    <tr>\n",
       "      <th>1</th>\n",
       "      <td>AAL</td>\n",
       "      <td>American Airlines Group</td>\n",
       "      <td>reports</td>\n",
       "      <td>Industrials</td>\n",
       "      <td>Airlines</td>\n",
       "      <td>Fort Worth, Texas</td>\n",
       "      <td>2015-03-23</td>\n",
       "      <td>6201</td>\n",
       "    </tr>\n",
       "  </tbody>\n",
       "</table>\n",
       "</div>"
      ],
      "text/plain": [
       "  Ticker symbol                  Security SEC filings  GICS?Sector  \\\n",
       "0             A  Agilent Technologies Inc     reports  Health Care   \n",
       "1           AAL   American Airlines Group     reports  Industrials   \n",
       "\n",
       "       GICS Sub Industry  Address of Headquarters Date first added      CIK  \n",
       "0  Health Care Equipment  Santa Clara, California       2000-06-05  1090872  \n",
       "1               Airlines        Fort Worth, Texas       2015-03-23     6201  "
      ]
     },
     "execution_count": 7,
     "metadata": {},
     "output_type": "execute_result"
    }
   ],
   "source": [
    "sp500.head(2)"
   ]
  },
  {
   "cell_type": "code",
   "execution_count": 10,
   "metadata": {
    "collapsed": false
   },
   "outputs": [],
   "source": [
    "new = sp500[[\"Ticker symbol\",\"Security\",\"CIK\"]]"
   ]
  },
  {
   "cell_type": "code",
   "execution_count": 16,
   "metadata": {
    "collapsed": true
   },
   "outputs": [],
   "source": [
    "new = new.rename(columns={\"Ticker symbol\":\"Company\",\"Security\":\"Name\",\"CIK\":\"CIK #\"})"
   ]
  },
  {
   "cell_type": "code",
   "execution_count": 17,
   "metadata": {
    "collapsed": true
   },
   "outputs": [],
   "source": [
    "new.to_csv(\"sp500_new.csv\")"
   ]
  },
  {
   "cell_type": "code",
   "execution_count": 3,
   "metadata": {
    "collapsed": false
   },
   "outputs": [],
   "source": [
    "company_table = pd.read_csv(\"cik_list.csv\")"
   ]
  },
  {
   "cell_type": "code",
   "execution_count": 4,
   "metadata": {
    "collapsed": false
   },
   "outputs": [
    {
     "data": {
      "text/html": [
       "<div>\n",
       "<style>\n",
       "    .dataframe thead tr:only-child th {\n",
       "        text-align: right;\n",
       "    }\n",
       "\n",
       "    .dataframe thead th {\n",
       "        text-align: left;\n",
       "    }\n",
       "\n",
       "    .dataframe tbody tr th {\n",
       "        vertical-align: top;\n",
       "    }\n",
       "</style>\n",
       "<table border=\"1\" class=\"dataframe\">\n",
       "  <thead>\n",
       "    <tr style=\"text-align: right;\">\n",
       "      <th></th>\n",
       "      <th>Company</th>\n",
       "      <th>Name</th>\n",
       "      <th>CIK #</th>\n",
       "    </tr>\n",
       "  </thead>\n",
       "  <tbody>\n",
       "    <tr>\n",
       "      <th>0</th>\n",
       "      <td>AAPL</td>\n",
       "      <td>Apple Inc.</td>\n",
       "      <td>320193</td>\n",
       "    </tr>\n",
       "    <tr>\n",
       "      <th>1</th>\n",
       "      <td>AXP</td>\n",
       "      <td>American Expression Co.</td>\n",
       "      <td>4962</td>\n",
       "    </tr>\n",
       "    <tr>\n",
       "      <th>2</th>\n",
       "      <td>BA</td>\n",
       "      <td>Boeing Co.</td>\n",
       "      <td>12927</td>\n",
       "    </tr>\n",
       "  </tbody>\n",
       "</table>\n",
       "</div>"
      ],
      "text/plain": [
       "  Company                     Name   CIK #\n",
       "0    AAPL               Apple Inc.  320193\n",
       "1     AXP  American Expression Co.    4962\n",
       "2      BA               Boeing Co.   12927"
      ]
     },
     "execution_count": 4,
     "metadata": {},
     "output_type": "execute_result"
    }
   ],
   "source": [
    "company_table.head(3)"
   ]
  },
  {
   "cell_type": "code",
   "execution_count": 34,
   "metadata": {
    "collapsed": false
   },
   "outputs": [],
   "source": [
    "cik_lookup = pd.read_table(\"cik_look_up.txt\",names = [\"company\"])"
   ]
  },
  {
   "cell_type": "code",
   "execution_count": 35,
   "metadata": {
    "collapsed": false
   },
   "outputs": [
    {
     "data": {
      "text/html": [
       "<div>\n",
       "<style>\n",
       "    .dataframe thead tr:only-child th {\n",
       "        text-align: right;\n",
       "    }\n",
       "\n",
       "    .dataframe thead th {\n",
       "        text-align: left;\n",
       "    }\n",
       "\n",
       "    .dataframe tbody tr th {\n",
       "        vertical-align: top;\n",
       "    }\n",
       "</style>\n",
       "<table border=\"1\" class=\"dataframe\">\n",
       "  <thead>\n",
       "    <tr style=\"text-align: right;\">\n",
       "      <th></th>\n",
       "      <th>company</th>\n",
       "    </tr>\n",
       "  </thead>\n",
       "  <tbody>\n",
       "    <tr>\n",
       "      <th>0</th>\n",
       "      <td>!J INC:0001438823:</td>\n",
       "    </tr>\n",
       "    <tr>\n",
       "      <th>1</th>\n",
       "      <td>#1 A LIFESAFER HOLDINGS, INC.:0001509607:</td>\n",
       "    </tr>\n",
       "    <tr>\n",
       "      <th>2</th>\n",
       "      <td>#1 ARIZONA DISCOUNT PROPERTIES LLC:0001457512:</td>\n",
       "    </tr>\n",
       "    <tr>\n",
       "      <th>3</th>\n",
       "      <td>#1 PAINTBALL CORP:0001433777:</td>\n",
       "    </tr>\n",
       "    <tr>\n",
       "      <th>4</th>\n",
       "      <td>$ LLC:0001427189:</td>\n",
       "    </tr>\n",
       "  </tbody>\n",
       "</table>\n",
       "</div>"
      ],
      "text/plain": [
       "                                          company\n",
       "0                              !J INC:0001438823:\n",
       "1       #1 A LIFESAFER HOLDINGS, INC.:0001509607:\n",
       "2  #1 ARIZONA DISCOUNT PROPERTIES LLC:0001457512:\n",
       "3                   #1 PAINTBALL CORP:0001433777:\n",
       "4                               $ LLC:0001427189:"
      ]
     },
     "execution_count": 35,
     "metadata": {},
     "output_type": "execute_result"
    }
   ],
   "source": [
    "cik_lookup.head(5)"
   ]
  },
  {
   "cell_type": "code",
   "execution_count": 36,
   "metadata": {
    "collapsed": true
   },
   "outputs": [],
   "source": [
    "def clean_up(pattern, x):\n",
    "    if not re.match(pattern, x):\n",
    "        return np.NaN\n",
    "    else:\n",
    "        return re.match(pattern, x).group(1).lower()"
   ]
  },
  {
   "cell_type": "code",
   "execution_count": 37,
   "metadata": {
    "collapsed": false
   },
   "outputs": [],
   "source": [
    "cik_lookup.loc[:,\"Name\"] = cik_lookup[\"company\"].apply(lambda x: clean_up(\"(.+):\\d+:\",x))"
   ]
  },
  {
   "cell_type": "code",
   "execution_count": 38,
   "metadata": {
    "collapsed": true
   },
   "outputs": [],
   "source": [
    "cik_lookup.loc[:,\"cik #\"] = cik_lookup[\"company\"].apply(lambda x: clean_up(\".+:(\\d+):\",x))"
   ]
  },
  {
   "cell_type": "code",
   "execution_count": 39,
   "metadata": {
    "collapsed": false
   },
   "outputs": [
    {
     "data": {
      "text/html": [
       "<div>\n",
       "<style>\n",
       "    .dataframe thead tr:only-child th {\n",
       "        text-align: right;\n",
       "    }\n",
       "\n",
       "    .dataframe thead th {\n",
       "        text-align: left;\n",
       "    }\n",
       "\n",
       "    .dataframe tbody tr th {\n",
       "        vertical-align: top;\n",
       "    }\n",
       "</style>\n",
       "<table border=\"1\" class=\"dataframe\">\n",
       "  <thead>\n",
       "    <tr style=\"text-align: right;\">\n",
       "      <th></th>\n",
       "      <th>company</th>\n",
       "      <th>Name</th>\n",
       "      <th>cik #</th>\n",
       "    </tr>\n",
       "  </thead>\n",
       "  <tbody>\n",
       "    <tr>\n",
       "      <th>0</th>\n",
       "      <td>!J INC:0001438823:</td>\n",
       "      <td>!j inc</td>\n",
       "      <td>0001438823</td>\n",
       "    </tr>\n",
       "    <tr>\n",
       "      <th>1</th>\n",
       "      <td>#1 A LIFESAFER HOLDINGS, INC.:0001509607:</td>\n",
       "      <td>#1 a lifesafer holdings, inc.</td>\n",
       "      <td>0001509607</td>\n",
       "    </tr>\n",
       "    <tr>\n",
       "      <th>2</th>\n",
       "      <td>#1 ARIZONA DISCOUNT PROPERTIES LLC:0001457512:</td>\n",
       "      <td>#1 arizona discount properties llc</td>\n",
       "      <td>0001457512</td>\n",
       "    </tr>\n",
       "  </tbody>\n",
       "</table>\n",
       "</div>"
      ],
      "text/plain": [
       "                                          company  \\\n",
       "0                              !J INC:0001438823:   \n",
       "1       #1 A LIFESAFER HOLDINGS, INC.:0001509607:   \n",
       "2  #1 ARIZONA DISCOUNT PROPERTIES LLC:0001457512:   \n",
       "\n",
       "                                 Name       cik #  \n",
       "0                              !j inc  0001438823  \n",
       "1       #1 a lifesafer holdings, inc.  0001509607  \n",
       "2  #1 arizona discount properties llc  0001457512  "
      ]
     },
     "execution_count": 39,
     "metadata": {},
     "output_type": "execute_result"
    }
   ],
   "source": [
    "cik_lookup.head(3)"
   ]
  },
  {
   "cell_type": "code",
   "execution_count": 60,
   "metadata": {
    "collapsed": true
   },
   "outputs": [],
   "source": [
    "def stripping_0(x):\n",
    "    if not x:\n",
    "        return np.NaN\n",
    "    elif type(x) != str:\n",
    "        x = str(x)\n",
    "        return re.sub(\"^0+\",\"\",x)\n",
    "    else:\n",
    "        return re.sub(\"^0+\",\"\",x)"
   ]
  },
  {
   "cell_type": "code",
   "execution_count": 41,
   "metadata": {
    "collapsed": false
   },
   "outputs": [
    {
     "data": {
      "text/plain": [
       "str"
      ]
     },
     "execution_count": 41,
     "metadata": {},
     "output_type": "execute_result"
    }
   ],
   "source": [
    "stripping_0(cik_lookup.loc[0,\"cik #\"])\n",
    "type(cik_lookup.loc[0,\"cik #\"])"
   ]
  },
  {
   "cell_type": "code",
   "execution_count": 42,
   "metadata": {
    "collapsed": false
   },
   "outputs": [],
   "source": [
    "cik_lookup[\"CIK #\"] = cik_lookup[\"cik #\"].apply(lambda x: stripping_0(x))"
   ]
  },
  {
   "cell_type": "code",
   "execution_count": 43,
   "metadata": {
    "collapsed": false,
    "scrolled": true
   },
   "outputs": [
    {
     "data": {
      "text/html": [
       "<div>\n",
       "<style>\n",
       "    .dataframe thead tr:only-child th {\n",
       "        text-align: right;\n",
       "    }\n",
       "\n",
       "    .dataframe thead th {\n",
       "        text-align: left;\n",
       "    }\n",
       "\n",
       "    .dataframe tbody tr th {\n",
       "        vertical-align: top;\n",
       "    }\n",
       "</style>\n",
       "<table border=\"1\" class=\"dataframe\">\n",
       "  <thead>\n",
       "    <tr style=\"text-align: right;\">\n",
       "      <th></th>\n",
       "      <th>company</th>\n",
       "      <th>Name</th>\n",
       "      <th>cik #</th>\n",
       "      <th>CIK #</th>\n",
       "    </tr>\n",
       "  </thead>\n",
       "  <tbody>\n",
       "    <tr>\n",
       "      <th>0</th>\n",
       "      <td>!J INC:0001438823:</td>\n",
       "      <td>!j inc</td>\n",
       "      <td>0001438823</td>\n",
       "      <td>1438823</td>\n",
       "    </tr>\n",
       "    <tr>\n",
       "      <th>1</th>\n",
       "      <td>#1 A LIFESAFER HOLDINGS, INC.:0001509607:</td>\n",
       "      <td>#1 a lifesafer holdings, inc.</td>\n",
       "      <td>0001509607</td>\n",
       "      <td>1509607</td>\n",
       "    </tr>\n",
       "    <tr>\n",
       "      <th>2</th>\n",
       "      <td>#1 ARIZONA DISCOUNT PROPERTIES LLC:0001457512:</td>\n",
       "      <td>#1 arizona discount properties llc</td>\n",
       "      <td>0001457512</td>\n",
       "      <td>1457512</td>\n",
       "    </tr>\n",
       "    <tr>\n",
       "      <th>3</th>\n",
       "      <td>#1 PAINTBALL CORP:0001433777:</td>\n",
       "      <td>#1 paintball corp</td>\n",
       "      <td>0001433777</td>\n",
       "      <td>1433777</td>\n",
       "    </tr>\n",
       "    <tr>\n",
       "      <th>4</th>\n",
       "      <td>$ LLC:0001427189:</td>\n",
       "      <td>$ llc</td>\n",
       "      <td>0001427189</td>\n",
       "      <td>1427189</td>\n",
       "    </tr>\n",
       "  </tbody>\n",
       "</table>\n",
       "</div>"
      ],
      "text/plain": [
       "                                          company  \\\n",
       "0                              !J INC:0001438823:   \n",
       "1       #1 A LIFESAFER HOLDINGS, INC.:0001509607:   \n",
       "2  #1 ARIZONA DISCOUNT PROPERTIES LLC:0001457512:   \n",
       "3                   #1 PAINTBALL CORP:0001433777:   \n",
       "4                               $ LLC:0001427189:   \n",
       "\n",
       "                                 Name       cik #    CIK #  \n",
       "0                              !j inc  0001438823  1438823  \n",
       "1       #1 a lifesafer holdings, inc.  0001509607  1509607  \n",
       "2  #1 arizona discount properties llc  0001457512  1457512  \n",
       "3                   #1 paintball corp  0001433777  1433777  \n",
       "4                               $ llc  0001427189  1427189  "
      ]
     },
     "execution_count": 43,
     "metadata": {},
     "output_type": "execute_result"
    }
   ],
   "source": [
    "cik_lookup.head(5)"
   ]
  },
  {
   "cell_type": "code",
   "execution_count": 44,
   "metadata": {
    "collapsed": false
   },
   "outputs": [
    {
     "data": {
      "text/plain": [
       "(661046, 4)"
      ]
     },
     "execution_count": 44,
     "metadata": {},
     "output_type": "execute_result"
    }
   ],
   "source": [
    "cik_lookup.shape"
   ]
  },
  {
   "cell_type": "code",
   "execution_count": 45,
   "metadata": {
    "collapsed": false
   },
   "outputs": [],
   "source": [
    "cik_nm = cik_lookup.dropna().reset_index(drop=True)"
   ]
  },
  {
   "cell_type": "code",
   "execution_count": 46,
   "metadata": {
    "collapsed": false
   },
   "outputs": [
    {
     "data": {
      "text/plain": [
       "661042"
      ]
     },
     "execution_count": 46,
     "metadata": {},
     "output_type": "execute_result"
    }
   ],
   "source": [
    "cik_nm.shape[0]"
   ]
  },
  {
   "cell_type": "code",
   "execution_count": 511,
   "metadata": {
    "collapsed": false
   },
   "outputs": [],
   "source": [
    "cik_nm.to_csv(\"cik_nm.csv\",index=False)\n",
    "#cik_nm.to_pickle(\"cik_nm.txt\")"
   ]
  },
  {
   "cell_type": "code",
   "execution_count": 12,
   "metadata": {
    "collapsed": true
   },
   "outputs": [],
   "source": [
    "def getting_crawler(year_number,qtr):\n",
    "    base_url = \"https://www.sec.gov/Archives/edgar/full-index/\"\n",
    "    year = str(year_number) + \"/\"\n",
    "    if qtr == 1:\n",
    "        QTR = \"QTR1/\"\n",
    "    if qtr == 2:\n",
    "        QTR = \"QTR2/\"\n",
    "    if qtr == 3:\n",
    "        QTR = \"QTR3/\"\n",
    "    if qtr == 4:\n",
    "        QTR = \"QTR4/\"\n",
    "    download_file = \"crawler.idx\"\n",
    "    full = base_url + year + QTR + download_file\n",
    "    file_name = str(year_number) + \"_QTR\" + str(qtr) + \"_crawler.idx\"\n",
    "    testfile = urllib.URLopener()\n",
    "    testfile.retrieve(full, file_name)\n",
    "    return file_name"
   ]
  },
  {
   "cell_type": "code",
   "execution_count": 13,
   "metadata": {
    "collapsed": true
   },
   "outputs": [],
   "source": [
    "def milestone_search(file_name):\n",
    "    with open(file_name) as myFile:\n",
    "        for num, line in enumerate(myFile, 0):\n",
    "            if (\"CIK\" in line):\n",
    "                if (\"Form Type\" in line):\n",
    "                    #print 'found at line:', num\n",
    "                    line_start = num\n",
    "            if \"------------------\" in line:\n",
    "                #print \"found ----- at line:\", num\n",
    "                data_start = num+1\n",
    "                #print \"data starts at:\", data_start\n",
    "    return data_start"
   ]
  },
  {
   "cell_type": "code",
   "execution_count": 14,
   "metadata": {
    "collapsed": false
   },
   "outputs": [],
   "source": [
    "def convert_to_pandas(file_name, data_start):\n",
    "    company_name = list()\n",
    "    report_type = list()\n",
    "    CIK = list()\n",
    "    date = list()\n",
    "    url = list()\n",
    "    with open(file_name) as myfile:\n",
    "        testing = myfile.readlines()[data_start:]\n",
    "        for record in testing:\n",
    "            record_split = map(lambda x: x.strip(), filter(lambda x: x!=\"\" and x !=\"\\n\" and x != \" \\n\", record.split(\"  \")))\n",
    "            if len(record_split) < 5:\n",
    "                continue\n",
    "            else:\n",
    "                company_name.append(record_split[0])\n",
    "                report_type.append(record_split[1])\n",
    "                CIK.append(record_split[2])\n",
    "                date.append(record_split[3])\n",
    "                url.append(record_split[4])\n",
    "    data_dict = {\"company\":company_name,\n",
    "                 \"report\":report_type,\n",
    "                 \"CIK\":CIK,\n",
    "                 \"date\":date,\n",
    "                 \"url\":url}\n",
    "    df = pd.DataFrame.from_dict(data_dict)\n",
    "    df[\"company_l\"] = df[\"company\"].str.lower()\n",
    "    return df"
   ]
  },
  {
   "cell_type": "code",
   "execution_count": 15,
   "metadata": {
    "collapsed": true
   },
   "outputs": [],
   "source": [
    "def search_company_name(data, company_name, report_type):\n",
    "    data_report = data[data[\"report\"] == report_type]\n",
    "    company_table = pd.read_csv(company_name)\n",
    "    company_table = company_table[[\"Name\",\"CIK #\"]]\n",
    "    company_table[\"CIK #\"] = company_table[\"CIK #\"].astype(str)\n",
    "    result = pd.merge(data_report, company_table, how ='inner', left_on = \"CIK\", right_on = \"CIK #\")\n",
    "    result = result[[\"Name\", \"CIK #\", \"company\", \"report\", \"date\", \"url\"]].reset_index(drop=True)\n",
    "    return result"
   ]
  },
  {
   "cell_type": "code",
   "execution_count": 16,
   "metadata": {
    "collapsed": true
   },
   "outputs": [],
   "source": [
    "def getting_data(company_list, year_number, qtr, report_type):\n",
    "    for i in range(0, company_list.shape[0]):\n",
    "        url_address = company_list.loc[i,\"url\"]\n",
    "        text = requests.get(url_address).text\n",
    "        text = BeautifulSoup(text, \"html.parser\")\n",
    "        target = text.find(\"table\",{\"class\":\"tableFile\"})\n",
    "        link = target.find_all(\"tr\")[1].find_all(\"a\")[0][\"href\"]\n",
    "        final_link = \"https://www.sec.gov\"+link\n",
    "        text_report = requests.get(final_link).text\n",
    "        text_report = BeautifulSoup(text_report, \"html.parser\")\n",
    "        content = text_report.text\n",
    "        content = content.encode(encoding='UTF-8')\n",
    "        company_list.loc[i,\"full_text\"] = content\n",
    "    company_list[\"year\"] = year_number\n",
    "    company_list[\"quarter\"] = qtr\n",
    "    company_list[\"report_type\"] = report_type\n",
    "    return company_list"
   ]
  },
  {
   "cell_type": "code",
   "execution_count": 59,
   "metadata": {
    "collapsed": true
   },
   "outputs": [],
   "source": [
    "def putting_together(year_number, qtr, company_name, report_type, runtime=True):\n",
    "    start = datetime.datetime.now()\n",
    "    file_path = str(year_number) + \"_QTR\" + str(qtr) + \"_crawler.idx\"\n",
    "    if not os.path.isfile(file_path):\n",
    "        file_path = getting_crawler(year_number,qtr)\n",
    "        print \"downloaded idx file\"\n",
    "    print \"file already exist\"\n",
    "    data_start_num = milestone_search(file_path)\n",
    "    data_frame = convert_to_pandas(file_path, data_start_num)\n",
    "    results = search_company_name(data_frame, company_name, report_type)\n",
    "    final_data = getting_data(results, year_number, qtr, report_type)\n",
    "    end = datetime.datetime.now()\n",
    "    final_data[\"date\"] = pd.to_datetime(final_data[\"date\"])\n",
    "    print \"DataFrame rows: \" + str(final_data.shape[0])\n",
    "    if runtime:\n",
    "        print end - start\n",
    "    return final_data"
   ]
  },
  {
   "cell_type": "markdown",
   "metadata": {},
   "source": [
    "# Saving the final_dataset to a pickle file, and reading in a pickle file"
   ]
  },
  {
   "cell_type": "code",
   "execution_count": 18,
   "metadata": {
    "collapsed": true
   },
   "outputs": [],
   "source": [
    "def save_as_pickle(path_to_save, final_data):\n",
    "    final_data.to_pickle(path_to_save)"
   ]
  },
  {
   "cell_type": "code",
   "execution_count": 19,
   "metadata": {
    "collapsed": true
   },
   "outputs": [],
   "source": [
    "def read_data(path_to_open):\n",
    "    infile = open(path_to_open,\"rb\")\n",
    "    newdata = pickle.load(infile)\n",
    "    infile.close()\n",
    "    return newdata"
   ]
  },
  {
   "cell_type": "markdown",
   "metadata": {},
   "source": [
    "getting CIK # from tickers"
   ]
  },
  {
   "cell_type": "code",
   "execution_count": 53,
   "metadata": {
    "collapsed": true
   },
   "outputs": [],
   "source": [
    "_CIK_API_URI = 'http://www.sec.gov/cgi-bin/browse-edgar' \\\n",
    "           '?action=getcompany&CIK={s}&count=10&output=xml'\n",
    "\n",
    "def get_cik(symbol):\n",
    "    response = requests.get(_CIK_API_URI.format(s=symbol))\n",
    "    page_data = bs4.BeautifulSoup(response.text, \"html.parser\")\n",
    "    if page_data.companyinfo is None:\n",
    "        return np.NaN\n",
    "    else:\n",
    "        cik = page_data.companyinfo.cik.string\n",
    "        return cik\n",
    "        print symbol, cik"
   ]
  },
  {
   "cell_type": "markdown",
   "metadata": {},
   "source": [
    "# Demonstration - extracting the latest document for all 30 companies"
   ]
  },
  {
   "cell_type": "code",
   "execution_count": 28,
   "metadata": {
    "collapsed": false
   },
   "outputs": [
    {
     "name": "stdout",
     "output_type": "stream",
     "text": [
      "DataFrame rows: 16\n",
      "0:00:59.182327\n"
     ]
    }
   ],
   "source": [
    "data_2017_qrt2 = putting_together(2017, 2, \"sp500_new.csv\",\"10-K\")"
   ]
  },
  {
   "cell_type": "code",
   "execution_count": 29,
   "metadata": {
    "collapsed": false
   },
   "outputs": [
    {
     "name": "stdout",
     "output_type": "stream",
     "text": [
      "DataFrame rows: 401\n",
      "0:32:35.485005\n"
     ]
    }
   ],
   "source": [
    "data_2017_qrt1 = putting_together(2017, 1, \"sp500_new.csv\",\"10-K\")"
   ]
  },
  {
   "cell_type": "code",
   "execution_count": 30,
   "metadata": {
    "collapsed": false
   },
   "outputs": [
    {
     "name": "stdout",
     "output_type": "stream",
     "text": [
      "DataFrame rows: 44\n",
      "0:02:42.324531\n"
     ]
    }
   ],
   "source": [
    "data_2016_qrt4 = putting_together(2016, 4, \"sp500_new.csv\",\"10-K\")"
   ]
  },
  {
   "cell_type": "code",
   "execution_count": 31,
   "metadata": {
    "collapsed": false
   },
   "outputs": [
    {
     "name": "stdout",
     "output_type": "stream",
     "text": [
      "DataFrame rows: 29\n",
      "0:01:44.636659\n"
     ]
    }
   ],
   "source": [
    "data_2016_qrt3 = putting_together(2016, 3, \"sp500_new.csv\",\"10-K\")"
   ]
  },
  {
   "cell_type": "code",
   "execution_count": 32,
   "metadata": {
    "collapsed": false
   },
   "outputs": [],
   "source": [
    "latest_sp500 = data_2017_qrt2.append([data_2017_qrt1, data_2016_qrt4, data_2016_qrt3]).reset_index(drop=True)"
   ]
  },
  {
   "cell_type": "code",
   "execution_count": 34,
   "metadata": {
    "collapsed": false
   },
   "outputs": [],
   "source": [
    "latest_sp500.to_csv(\"latest_sp500.csv\",index=False)"
   ]
  },
  {
   "cell_type": "code",
   "execution_count": 127,
   "metadata": {
    "collapsed": false
   },
   "outputs": [
    {
     "data": {
      "text/html": [
       "<div>\n",
       "<style>\n",
       "    .dataframe thead tr:only-child th {\n",
       "        text-align: right;\n",
       "    }\n",
       "\n",
       "    .dataframe thead th {\n",
       "        text-align: left;\n",
       "    }\n",
       "\n",
       "    .dataframe tbody tr th {\n",
       "        vertical-align: top;\n",
       "    }\n",
       "</style>\n",
       "<table border=\"1\" class=\"dataframe\">\n",
       "  <thead>\n",
       "    <tr style=\"text-align: right;\">\n",
       "      <th></th>\n",
       "      <th>CIK #</th>\n",
       "      <th>Name</th>\n",
       "      <th>company</th>\n",
       "      <th>date</th>\n",
       "      <th>full_text</th>\n",
       "      <th>quarter</th>\n",
       "      <th>report</th>\n",
       "      <th>report_type</th>\n",
       "      <th>url</th>\n",
       "      <th>year</th>\n",
       "    </tr>\n",
       "  </thead>\n",
       "  <tbody>\n",
       "    <tr>\n",
       "      <th>20</th>\n",
       "      <td>806085</td>\n",
       "      <td>Lehman Brothers</td>\n",
       "      <td>LEHMAN BROTHERS HOLDINGS INC</td>\n",
       "      <td>2007-02-13</td>\n",
       "      <td>\\n10-K\\n1\\na07-4192_110k.htm\\n10-K\\n\\n\\n\\n\\n\\n...</td>\n",
       "      <td>1</td>\n",
       "      <td>10-K</td>\n",
       "      <td>10-K</td>\n",
       "      <td>https://www.sec.gov/Archives/edgar/data/806085...</td>\n",
       "      <td>2007</td>\n",
       "    </tr>\n",
       "  </tbody>\n",
       "</table>\n",
       "</div>"
      ],
      "text/plain": [
       "     CIK #             Name                       company       date  \\\n",
       "20  806085  Lehman Brothers  LEHMAN BROTHERS HOLDINGS INC 2007-02-13   \n",
       "\n",
       "                                            full_text  quarter report  \\\n",
       "20  \\n10-K\\n1\\na07-4192_110k.htm\\n10-K\\n\\n\\n\\n\\n\\n...        1   10-K   \n",
       "\n",
       "   report_type                                                url  year  \n",
       "20        10-K  https://www.sec.gov/Archives/edgar/data/806085...  2007  "
      ]
     },
     "execution_count": 127,
     "metadata": {},
     "output_type": "execute_result"
    }
   ],
   "source": [
    "#final.groupby(by =\"CIK #\")[\"Name\"].agg(\"count\")\n",
    "final[(final[\"CIK #\"]== \"806085\") & (final[\"year\"]==2007)]"
   ]
  },
  {
   "cell_type": "code",
   "execution_count": 277,
   "metadata": {
    "collapsed": false
   },
   "outputs": [
    {
     "ename": "NameError",
     "evalue": "name 'final' is not defined",
     "output_type": "error",
     "traceback": [
      "\u001b[0;31m---------------------------------------------------------------------------\u001b[0m",
      "\u001b[0;31mNameError\u001b[0m                                 Traceback (most recent call last)",
      "\u001b[0;32m<ipython-input-277-43aa07328ca4>\u001b[0m in \u001b[0;36m<module>\u001b[0;34m()\u001b[0m\n\u001b[0;32m----> 1\u001b[0;31m \u001b[0mfinal\u001b[0m\u001b[0;34m.\u001b[0m\u001b[0mhead\u001b[0m\u001b[0;34m(\u001b[0m\u001b[0;36m3\u001b[0m\u001b[0;34m)\u001b[0m\u001b[0;34m\u001b[0m\u001b[0m\n\u001b[0m",
      "\u001b[0;31mNameError\u001b[0m: name 'final' is not defined"
     ]
    }
   ],
   "source": [
    "final.head(3)"
   ]
  },
  {
   "cell_type": "markdown",
   "metadata": {},
   "source": [
    "Downloading all idx files to create a database for all report from year 2000 to 2017 qtr2 to facilitate data extraction"
   ]
  },
  {
   "cell_type": "code",
   "execution_count": 94,
   "metadata": {
    "collapsed": true
   },
   "outputs": [],
   "source": [
    "def download(year_number, qtr, runtime=True):\n",
    "    start = datetime.datetime.now()\n",
    "    file_path = str(year_number) + \"_QTR\" + str(qtr) + \"_crawler.idx\"\n",
    "    if not os.path.isfile(file_path):\n",
    "        file_path = getting_crawler(year_number,qtr)\n",
    "        print \"downloaded idx file\"\n",
    "    else:\n",
    "        print \"file already exists\"\n",
    "    if runtime:\n",
    "        end = datetime.datetime.now()\n",
    "        print \"total runtime: \" + str(end-start)"
   ]
  },
  {
   "cell_type": "code",
   "execution_count": 239,
   "metadata": {
    "collapsed": false
   },
   "outputs": [],
   "source": [
    "def create_idx(year_number, qtr):\n",
    "    file_path = str(year_number) + \"_QTR\" + str(qtr) + \"_crawler.idx\"\n",
    "    data_start_num = milestone_search(file_path)\n",
    "    data_frame = convert_to_pandas(file_path, data_start_num)\n",
    "    data_frame[\"year\"] = year_number\n",
    "    data_frame[\"qtr\"] = qtr\n",
    "    return data_frame"
   ]
  },
  {
   "cell_type": "code",
   "execution_count": 240,
   "metadata": {
    "collapsed": false
   },
   "outputs": [
    {
     "name": "stdout",
     "output_type": "stream",
     "text": [
      "file already exists\n",
      "total runtime: 0:00:00.000152\n",
      "file already exists\n",
      "total runtime: 0:00:00.000114\n"
     ]
    }
   ],
   "source": [
    "download(2017, 1)\n",
    "download(2017, 2)\n",
    "idx_2017_qtr1 = create_idx(2017, 1)\n",
    "idx_2017_qtr2 = create_idx(2017, 2)"
   ]
  },
  {
   "cell_type": "code",
   "execution_count": 241,
   "metadata": {
    "collapsed": false
   },
   "outputs": [
    {
     "name": "stdout",
     "output_type": "stream",
     "text": [
      "file already exists\n",
      "total runtime: 0:00:00.000176\n",
      "file already exists\n",
      "total runtime: 0:00:00.000167\n",
      "file already exists\n",
      "total runtime: 0:00:00.000204\n",
      "file already exists\n",
      "total runtime: 0:00:00.000040\n"
     ]
    }
   ],
   "source": [
    "download(2016,4)\n",
    "download(2016,3)\n",
    "download(2016,2)\n",
    "download(2016,1)\n",
    "idx_2016_qtr4 = create_idx(2016, 4)\n",
    "idx_2016_qtr3 = create_idx(2016, 3)\n",
    "idx_2016_qtr2 = create_idx(2016, 2)\n",
    "idx_2016_qtr1 = create_idx(2016, 1)"
   ]
  },
  {
   "cell_type": "code",
   "execution_count": 242,
   "metadata": {
    "collapsed": false
   },
   "outputs": [
    {
     "name": "stdout",
     "output_type": "stream",
     "text": [
      "file already exists\n",
      "total runtime: 0:00:00.000544\n",
      "file already exists\n",
      "total runtime: 0:00:00.000073\n",
      "file already exists\n",
      "total runtime: 0:00:00.000048\n",
      "file already exists\n",
      "total runtime: 0:00:00.000044\n"
     ]
    }
   ],
   "source": [
    "download(2015,4)\n",
    "download(2015,3)\n",
    "download(2015,2)\n",
    "download(2015,1)\n",
    "idx_2015_qtr4 = create_idx(2015, 4)\n",
    "idx_2015_qtr3 = create_idx(2015, 3)\n",
    "idx_2015_qtr2 = create_idx(2015, 2)\n",
    "idx_2015_qtr1 = create_idx(2015, 1)"
   ]
  },
  {
   "cell_type": "code",
   "execution_count": 243,
   "metadata": {
    "collapsed": false
   },
   "outputs": [
    {
     "name": "stdout",
     "output_type": "stream",
     "text": [
      "file already exists\n",
      "total runtime: 0:00:00.000187\n",
      "file already exists\n",
      "total runtime: 0:00:00.000146\n",
      "file already exists\n",
      "total runtime: 0:00:00.000051\n",
      "file already exists\n",
      "total runtime: 0:00:00.000040\n"
     ]
    }
   ],
   "source": [
    "download(2014,4)\n",
    "download(2014,3)\n",
    "download(2014,2)\n",
    "download(2014,1)\n",
    "idx_2014_qtr4 = create_idx(2014, 4)\n",
    "idx_2014_qtr3 = create_idx(2014, 3)\n",
    "idx_2014_qtr2 = create_idx(2014, 2)\n",
    "idx_2014_qtr1 = create_idx(2014, 1)"
   ]
  },
  {
   "cell_type": "code",
   "execution_count": 244,
   "metadata": {
    "collapsed": false
   },
   "outputs": [
    {
     "name": "stdout",
     "output_type": "stream",
     "text": [
      "file already exists\n",
      "total runtime: 0:00:00.000130\n",
      "file already exists\n",
      "total runtime: 0:00:00.000052\n",
      "file already exists\n",
      "total runtime: 0:00:00.000039\n",
      "file already exists\n",
      "total runtime: 0:00:00.000053\n"
     ]
    }
   ],
   "source": [
    "download(2013,4)\n",
    "download(2013,3)\n",
    "download(2013,2)\n",
    "download(2013,1)\n",
    "idx_2013_qtr4 = create_idx(2013, 4)\n",
    "idx_2013_qtr3 = create_idx(2013, 3)\n",
    "idx_2013_qtr2 = create_idx(2013, 2)\n",
    "idx_2013_qtr1 = create_idx(2013, 1)"
   ]
  },
  {
   "cell_type": "code",
   "execution_count": 245,
   "metadata": {
    "collapsed": false
   },
   "outputs": [
    {
     "name": "stdout",
     "output_type": "stream",
     "text": [
      "file already exists\n",
      "total runtime: 0:00:00.000127\n",
      "file already exists\n",
      "total runtime: 0:00:00.000051\n",
      "file already exists\n",
      "total runtime: 0:00:00.000041\n",
      "file already exists\n",
      "total runtime: 0:00:00.000039\n"
     ]
    }
   ],
   "source": [
    "download(2012,4)\n",
    "download(2012,3)\n",
    "download(2012,2)\n",
    "download(2012,1)\n",
    "idx_2012_qtr4 = create_idx(2012, 4)\n",
    "idx_2012_qtr3 = create_idx(2012, 3)\n",
    "idx_2012_qtr2 = create_idx(2012, 2)\n",
    "idx_2012_qtr1 = create_idx(2012, 1)"
   ]
  },
  {
   "cell_type": "code",
   "execution_count": 246,
   "metadata": {
    "collapsed": false
   },
   "outputs": [
    {
     "name": "stdout",
     "output_type": "stream",
     "text": [
      "file already exists\n",
      "total runtime: 0:00:00.000148\n",
      "file already exists\n",
      "total runtime: 0:00:00.000053\n",
      "file already exists\n",
      "total runtime: 0:00:00.000040\n",
      "file already exists\n",
      "total runtime: 0:00:00.000037\n"
     ]
    }
   ],
   "source": [
    "download(2011,4)\n",
    "download(2011,3)\n",
    "download(2011,2)\n",
    "download(2011,1)\n",
    "idx_2011_qtr4 = create_idx(2011, 4)\n",
    "idx_2011_qtr3 = create_idx(2011, 3)\n",
    "idx_2011_qtr2 = create_idx(2011, 2)\n",
    "idx_2011_qtr1 = create_idx(2011, 1)"
   ]
  },
  {
   "cell_type": "code",
   "execution_count": 247,
   "metadata": {
    "collapsed": false
   },
   "outputs": [
    {
     "name": "stdout",
     "output_type": "stream",
     "text": [
      "file already exists\n",
      "total runtime: 0:00:00.000255\n",
      "file already exists\n",
      "total runtime: 0:00:00.000091\n",
      "file already exists\n",
      "total runtime: 0:00:00.000042\n",
      "file already exists\n",
      "total runtime: 0:00:00.000096\n"
     ]
    }
   ],
   "source": [
    "download(2010,4)\n",
    "download(2010,3)\n",
    "download(2010,2)\n",
    "download(2010,1)\n",
    "idx_2010_qtr4 = create_idx(2010, 4)\n",
    "idx_2010_qtr3 = create_idx(2010, 3)\n",
    "idx_2010_qtr2 = create_idx(2010, 2)\n",
    "idx_2010_qtr1 = create_idx(2010, 1)"
   ]
  },
  {
   "cell_type": "code",
   "execution_count": 248,
   "metadata": {
    "collapsed": false
   },
   "outputs": [
    {
     "name": "stdout",
     "output_type": "stream",
     "text": [
      "file already exists\n",
      "total runtime: 0:00:00.000121\n",
      "file already exists\n",
      "total runtime: 0:00:00.000047\n",
      "file already exists\n",
      "total runtime: 0:00:00.000041\n",
      "file already exists\n",
      "total runtime: 0:00:00.000037\n"
     ]
    }
   ],
   "source": [
    "download(2009,4)\n",
    "download(2009,3)\n",
    "download(2009,2)\n",
    "download(2009,1)\n",
    "idx_2009_qtr4 = create_idx(2009, 4)\n",
    "idx_2009_qtr3 = create_idx(2009, 3)\n",
    "idx_2009_qtr2 = create_idx(2009, 2)\n",
    "idx_2009_qtr1 = create_idx(2009, 1)"
   ]
  },
  {
   "cell_type": "code",
   "execution_count": 249,
   "metadata": {
    "collapsed": false
   },
   "outputs": [
    {
     "name": "stdout",
     "output_type": "stream",
     "text": [
      "file already exists\n",
      "total runtime: 0:00:00.000137\n",
      "file already exists\n",
      "total runtime: 0:00:00.000041\n",
      "file already exists\n",
      "total runtime: 0:00:00.000035\n",
      "file already exists\n",
      "total runtime: 0:00:00.000037\n"
     ]
    }
   ],
   "source": [
    "download(2008,4)\n",
    "download(2008,3)\n",
    "download(2008,2)\n",
    "download(2008,1)\n",
    "idx_2008_qtr4 = create_idx(2008, 4)\n",
    "idx_2008_qtr3 = create_idx(2008, 3)\n",
    "idx_2008_qtr2 = create_idx(2008, 2)\n",
    "idx_2008_qtr1 = create_idx(2008, 1)"
   ]
  },
  {
   "cell_type": "code",
   "execution_count": 250,
   "metadata": {
    "collapsed": false
   },
   "outputs": [
    {
     "name": "stdout",
     "output_type": "stream",
     "text": [
      "file already exists\n",
      "total runtime: 0:00:00.000122\n",
      "file already exists\n",
      "total runtime: 0:00:00.000048\n",
      "file already exists\n",
      "total runtime: 0:00:00.000040\n",
      "file already exists\n",
      "total runtime: 0:00:00.000039\n"
     ]
    }
   ],
   "source": [
    "download(2007,4)\n",
    "download(2007,3)\n",
    "download(2007,2)\n",
    "download(2007,1)\n",
    "idx_2007_qtr4 = create_idx(2007, 4)\n",
    "idx_2007_qtr3 = create_idx(2007, 3)\n",
    "idx_2007_qtr2 = create_idx(2007, 2)\n",
    "idx_2007_qtr1 = create_idx(2007, 1)"
   ]
  },
  {
   "cell_type": "code",
   "execution_count": 251,
   "metadata": {
    "collapsed": false
   },
   "outputs": [
    {
     "name": "stdout",
     "output_type": "stream",
     "text": [
      "file already exists\n",
      "total runtime: 0:00:00.000229\n",
      "file already exists\n",
      "total runtime: 0:00:00.000051\n",
      "file already exists\n",
      "total runtime: 0:00:00.000037\n",
      "file already exists\n",
      "total runtime: 0:00:00.000037\n"
     ]
    }
   ],
   "source": [
    "download(2006,4)\n",
    "download(2006,3)\n",
    "download(2006,2)\n",
    "download(2006,1)\n",
    "idx_2006_qtr4 = create_idx(2006, 4)\n",
    "idx_2006_qtr3 = create_idx(2006, 3)\n",
    "idx_2006_qtr2 = create_idx(2006, 2)\n",
    "idx_2006_qtr1 = create_idx(2006, 1)"
   ]
  },
  {
   "cell_type": "code",
   "execution_count": 252,
   "metadata": {
    "collapsed": false
   },
   "outputs": [
    {
     "name": "stdout",
     "output_type": "stream",
     "text": [
      "file already exists\n",
      "total runtime: 0:00:00.000549\n",
      "file already exists\n",
      "total runtime: 0:00:00.000058\n",
      "file already exists\n",
      "total runtime: 0:00:00.000040\n",
      "file already exists\n",
      "total runtime: 0:00:00.000037\n"
     ]
    }
   ],
   "source": [
    "download(2005,4)\n",
    "download(2005,3)\n",
    "download(2005,2)\n",
    "download(2005,1)\n",
    "idx_2005_qtr4 = create_idx(2005, 4)\n",
    "idx_2005_qtr3 = create_idx(2005, 3)\n",
    "idx_2005_qtr2 = create_idx(2005, 2)\n",
    "idx_2005_qtr1 = create_idx(2005, 1)"
   ]
  },
  {
   "cell_type": "code",
   "execution_count": 253,
   "metadata": {
    "collapsed": false
   },
   "outputs": [
    {
     "name": "stdout",
     "output_type": "stream",
     "text": [
      "file already exists\n",
      "total runtime: 0:00:00.000118\n",
      "file already exists\n",
      "total runtime: 0:00:00.000055\n",
      "file already exists\n",
      "total runtime: 0:00:00.000054\n",
      "file already exists\n",
      "total runtime: 0:00:00.000048\n"
     ]
    }
   ],
   "source": [
    "download(2004,4)\n",
    "download(2004,3)\n",
    "download(2004,2)\n",
    "download(2004,1)\n",
    "idx_2004_qtr4 = create_idx(2004, 4)\n",
    "idx_2004_qtr3 = create_idx(2004, 3)\n",
    "idx_2004_qtr2 = create_idx(2004, 2)\n",
    "idx_2004_qtr1 = create_idx(2004, 1)"
   ]
  },
  {
   "cell_type": "code",
   "execution_count": 254,
   "metadata": {
    "collapsed": false
   },
   "outputs": [
    {
     "name": "stdout",
     "output_type": "stream",
     "text": [
      "file already exists\n",
      "total runtime: 0:00:00.000119\n",
      "file already exists\n",
      "total runtime: 0:00:00.000048\n",
      "file already exists\n",
      "total runtime: 0:00:00.000042\n",
      "file already exists\n",
      "total runtime: 0:00:00.000038\n"
     ]
    }
   ],
   "source": [
    "download(2003,4)\n",
    "download(2003,3)\n",
    "download(2003,2)\n",
    "download(2003,1)\n",
    "idx_2003_qtr4 = create_idx(2003, 4)\n",
    "idx_2003_qtr3 = create_idx(2003, 3)\n",
    "idx_2003_qtr2 = create_idx(2003, 2)\n",
    "idx_2003_qtr1 = create_idx(2003, 1)"
   ]
  },
  {
   "cell_type": "code",
   "execution_count": 255,
   "metadata": {
    "collapsed": false
   },
   "outputs": [
    {
     "name": "stdout",
     "output_type": "stream",
     "text": [
      "file already exists\n",
      "total runtime: 0:00:00.000116\n",
      "file already exists\n",
      "total runtime: 0:00:00.000043\n",
      "file already exists\n",
      "total runtime: 0:00:00.000037\n",
      "file already exists\n",
      "total runtime: 0:00:00.001303\n"
     ]
    }
   ],
   "source": [
    "download(2002,4)\n",
    "download(2002,3)\n",
    "download(2002,2)\n",
    "download(2002,1)\n",
    "idx_2002_qtr4 = create_idx(2002, 4)\n",
    "idx_2002_qtr3 = create_idx(2002, 3)\n",
    "idx_2002_qtr2 = create_idx(2002, 2)\n",
    "idx_2002_qtr1 = create_idx(2002, 1)"
   ]
  },
  {
   "cell_type": "code",
   "execution_count": 256,
   "metadata": {
    "collapsed": false
   },
   "outputs": [
    {
     "name": "stdout",
     "output_type": "stream",
     "text": [
      "file already exists\n",
      "total runtime: 0:00:00.000124\n",
      "file already exists\n",
      "total runtime: 0:00:00.000050\n",
      "file already exists\n",
      "total runtime: 0:00:00.000043\n",
      "file already exists\n",
      "total runtime: 0:00:00.000038\n"
     ]
    }
   ],
   "source": [
    "download(2001,4)\n",
    "download(2001,3)\n",
    "download(2001,2)\n",
    "download(2001,1)\n",
    "idx_2001_qtr4 = create_idx(2001, 4)\n",
    "idx_2001_qtr3 = create_idx(2001, 3)\n",
    "idx_2001_qtr2 = create_idx(2001, 2)\n",
    "idx_2001_qtr1 = create_idx(2001, 1)"
   ]
  },
  {
   "cell_type": "code",
   "execution_count": 257,
   "metadata": {
    "collapsed": false
   },
   "outputs": [
    {
     "name": "stdout",
     "output_type": "stream",
     "text": [
      "file already exists\n",
      "total runtime: 0:00:00.000110\n",
      "file already exists\n",
      "total runtime: 0:00:00.000040\n",
      "file already exists\n",
      "total runtime: 0:00:00.000038\n",
      "file already exists\n",
      "total runtime: 0:00:00.000038\n"
     ]
    }
   ],
   "source": [
    "download(2000,4)\n",
    "download(2000,3)\n",
    "download(2000,2)\n",
    "download(2000,1)\n",
    "idx_2000_qtr4 = create_idx(2000, 4)\n",
    "idx_2000_qtr3 = create_idx(2000, 3)\n",
    "idx_2000_qtr2 = create_idx(2000, 2)\n",
    "idx_2000_qtr1 = create_idx(2000, 1)"
   ]
  },
  {
   "cell_type": "code",
   "execution_count": 137,
   "metadata": {
    "collapsed": true
   },
   "outputs": [],
   "source": [
    "listing = [idx_2017_qtr2, idx_2017_qtr1, idx_2016_qtr4, idx_2016_qtr3, idx_2016_qtr2, idx_2016_qtr1,\n",
    "          idx_2015_qtr4, idx_2015_qtr3, idx_2015_qtr2, idx_2015_qtr1, \n",
    "           idx_2014_qtr4, idx_2014_qtr3, idx_2014_qtr2, idx_2014_qtr1,\n",
    "          idx_2013_qtr4, idx_2013_qtr3, idx_2013_qtr2, idx_2013_qtr1,\n",
    "          idx_2012_qtr4, idx_2012_qtr3, idx_2012_qtr2, idx_2012_qtr1,\n",
    "          idx_2011_qtr4, idx_2011_qtr3, idx_2011_qtr2, idx_2011_qtr1,\n",
    "          idx_2010_qtr4, idx_2010_qtr3, idx_2010_qtr2, idx_2010_qtr1,\n",
    "          idx_2009_qtr4, idx_2009_qtr3, idx_2009_qtr2, idx_2009_qtr1,\n",
    "          idx_2008_qtr4, idx_2008_qtr3, idx_2008_qtr2, idx_2008_qtr1,\n",
    "          idx_2007_qtr4, idx_2007_qtr3, idx_2007_qtr2, idx_2007_qtr1,\n",
    "           idx_2006_qtr4, idx_2006_qtr3, idx_2006_qtr2, idx_2006_qtr1,\n",
    "          idx_2005_qtr4, idx_2005_qtr3, idx_2005_qtr2, idx_2005_qtr1,\n",
    "          idx_2004_qtr4, idx_2004_qtr3, idx_2004_qtr2, idx_2004_qtr1,\n",
    "          idx_2003_qtr4, idx_2003_qtr3, idx_2003_qtr2, idx_2003_qtr1,\n",
    "          idx_2002_qtr4, idx_2002_qtr3, idx_2002_qtr2, idx_2002_qtr1,\n",
    "          idx_2001_qtr4, idx_2001_qtr3, idx_2001_qtr2, idx_2001_qtr1,\n",
    "          idx_2000_qtr4, idx_2000_qtr3, idx_2000_qtr2, idx_2000_qtr1]"
   ]
  },
  {
   "cell_type": "code",
   "execution_count": 716,
   "metadata": {
    "collapsed": true
   },
   "outputs": [],
   "source": [
    "all_listing = pd.concat(listing, axis=0)"
   ]
  },
  {
   "cell_type": "code",
   "execution_count": 717,
   "metadata": {
    "collapsed": false
   },
   "outputs": [
    {
     "data": {
      "text/plain": [
       "(15246085, 6)"
      ]
     },
     "execution_count": 717,
     "metadata": {},
     "output_type": "execute_result"
    }
   ],
   "source": [
    "all_listing.shape"
   ]
  },
  {
   "cell_type": "code",
   "execution_count": 718,
   "metadata": {
    "collapsed": false
   },
   "outputs": [
    {
     "data": {
      "text/html": [
       "<div>\n",
       "<style>\n",
       "    .dataframe thead tr:only-child th {\n",
       "        text-align: right;\n",
       "    }\n",
       "\n",
       "    .dataframe thead th {\n",
       "        text-align: left;\n",
       "    }\n",
       "\n",
       "    .dataframe tbody tr th {\n",
       "        vertical-align: top;\n",
       "    }\n",
       "</style>\n",
       "<table border=\"1\" class=\"dataframe\">\n",
       "  <thead>\n",
       "    <tr style=\"text-align: right;\">\n",
       "      <th></th>\n",
       "      <th>CIK</th>\n",
       "      <th>company</th>\n",
       "      <th>date</th>\n",
       "      <th>report</th>\n",
       "      <th>url</th>\n",
       "      <th>company_l</th>\n",
       "    </tr>\n",
       "  </thead>\n",
       "  <tbody>\n",
       "    <tr>\n",
       "      <th>0</th>\n",
       "      <td>1703629</td>\n",
       "      <td>'Ohana Labs Inc.</td>\n",
       "      <td>2017-04-12</td>\n",
       "      <td>D</td>\n",
       "      <td>https://www.sec.gov/Archives/edgar/data/170362...</td>\n",
       "      <td>'ohana labs inc.</td>\n",
       "    </tr>\n",
       "    <tr>\n",
       "      <th>1</th>\n",
       "      <td>1307969</td>\n",
       "      <td>024 Pharma, Inc.</td>\n",
       "      <td>2017-04-11</td>\n",
       "      <td>10-Q</td>\n",
       "      <td>https://www.sec.gov/Archives/edgar/data/130796...</td>\n",
       "      <td>024 pharma, inc.</td>\n",
       "    </tr>\n",
       "    <tr>\n",
       "      <th>2</th>\n",
       "      <td>1307969</td>\n",
       "      <td>024 Pharma, Inc.</td>\n",
       "      <td>2017-05-11</td>\n",
       "      <td>10-Q/A</td>\n",
       "      <td>https://www.sec.gov/Archives/edgar/data/130796...</td>\n",
       "      <td>024 pharma, inc.</td>\n",
       "    </tr>\n",
       "    <tr>\n",
       "      <th>3</th>\n",
       "      <td>1084869</td>\n",
       "      <td>1 800 FLOWERS COM INC</td>\n",
       "      <td>2017-05-12</td>\n",
       "      <td>10-Q</td>\n",
       "      <td>https://www.sec.gov/Archives/edgar/data/108486...</td>\n",
       "      <td>1 800 flowers com inc</td>\n",
       "    </tr>\n",
       "    <tr>\n",
       "      <th>4</th>\n",
       "      <td>1084869</td>\n",
       "      <td>1 800 FLOWERS COM INC</td>\n",
       "      <td>2017-05-24</td>\n",
       "      <td>4</td>\n",
       "      <td>https://www.sec.gov/Archives/edgar/data/108486...</td>\n",
       "      <td>1 800 flowers com inc</td>\n",
       "    </tr>\n",
       "  </tbody>\n",
       "</table>\n",
       "</div>"
      ],
      "text/plain": [
       "       CIK                company        date  report  \\\n",
       "0  1703629       'Ohana Labs Inc.  2017-04-12       D   \n",
       "1  1307969       024 Pharma, Inc.  2017-04-11    10-Q   \n",
       "2  1307969       024 Pharma, Inc.  2017-05-11  10-Q/A   \n",
       "3  1084869  1 800 FLOWERS COM INC  2017-05-12    10-Q   \n",
       "4  1084869  1 800 FLOWERS COM INC  2017-05-24       4   \n",
       "\n",
       "                                                 url              company_l  \n",
       "0  https://www.sec.gov/Archives/edgar/data/170362...       'ohana labs inc.  \n",
       "1  https://www.sec.gov/Archives/edgar/data/130796...       024 pharma, inc.  \n",
       "2  https://www.sec.gov/Archives/edgar/data/130796...       024 pharma, inc.  \n",
       "3  https://www.sec.gov/Archives/edgar/data/108486...  1 800 flowers com inc  \n",
       "4  https://www.sec.gov/Archives/edgar/data/108486...  1 800 flowers com inc  "
      ]
     },
     "execution_count": 718,
     "metadata": {},
     "output_type": "execute_result"
    }
   ],
   "source": [
    "all_listing.head(5)"
   ]
  },
  {
   "cell_type": "code",
   "execution_count": 719,
   "metadata": {
    "collapsed": false
   },
   "outputs": [],
   "source": [
    "all_listing[\"company\"] = all_listing[\"company\"].apply(lambda y: re.sub(\"'\",\"\",y))"
   ]
  },
  {
   "cell_type": "code",
   "execution_count": 720,
   "metadata": {
    "collapsed": false
   },
   "outputs": [],
   "source": [
    "cleaned = all_listing.reset_index(drop=True)"
   ]
  },
  {
   "cell_type": "code",
   "execution_count": 721,
   "metadata": {
    "collapsed": false
   },
   "outputs": [],
   "source": [
    "def find_text(x):\n",
    "    if re.search(\"\\d{4}-\\d{2}-\\d{2}\",x):\n",
    "        return 1\n",
    "    else:\n",
    "        return 0"
   ]
  },
  {
   "cell_type": "code",
   "execution_count": 723,
   "metadata": {
    "collapsed": false
   },
   "outputs": [
    {
     "data": {
      "text/plain": [
       "Index([u'CIK', u'company', u'date', u'report', u'url', u'company_l'], dtype='object')"
      ]
     },
     "execution_count": 723,
     "metadata": {},
     "output_type": "execute_result"
    }
   ],
   "source": [
    "cleaned.columns"
   ]
  },
  {
   "cell_type": "code",
   "execution_count": 724,
   "metadata": {
    "collapsed": false
   },
   "outputs": [],
   "source": [
    "cleaned[\"date_clean\"] = cleaned[\"date\"].apply(lambda y: find_text(y))"
   ]
  },
  {
   "cell_type": "code",
   "execution_count": 725,
   "metadata": {
    "collapsed": false
   },
   "outputs": [
    {
     "data": {
      "text/plain": [
       "1    15170492\n",
       "0       75593\n",
       "Name: date_clean, dtype: int64"
      ]
     },
     "execution_count": 725,
     "metadata": {},
     "output_type": "execute_result"
    }
   ],
   "source": [
    "cleaned[\"date_clean\"].value_counts()"
   ]
  },
  {
   "cell_type": "code",
   "execution_count": 726,
   "metadata": {
    "collapsed": false
   },
   "outputs": [],
   "source": [
    "cleaned = cleaned[cleaned[\"date_clean\"]==1]"
   ]
  },
  {
   "cell_type": "code",
   "execution_count": 727,
   "metadata": {
    "collapsed": false
   },
   "outputs": [
    {
     "name": "stderr",
     "output_type": "stream",
     "text": [
      "/Users/jasonchiu0803/anaconda2/lib/python2.7/site-packages/ipykernel/__main__.py:1: SettingWithCopyWarning: \n",
      "A value is trying to be set on a copy of a slice from a DataFrame.\n",
      "Try using .loc[row_indexer,col_indexer] = value instead\n",
      "\n",
      "See the caveats in the documentation: http://pandas.pydata.org/pandas-docs/stable/indexing.html#indexing-view-versus-copy\n",
      "  if __name__ == '__main__':\n"
     ]
    }
   ],
   "source": [
    "cleaned[\"date\"] = pd.to_datetime(cleaned[\"date\"],format = \"%Y-%m-%d\")"
   ]
  },
  {
   "cell_type": "code",
   "execution_count": 729,
   "metadata": {
    "collapsed": false
   },
   "outputs": [],
   "source": [
    "cleaned[\"year\"] = cleaned[\"date\"].apply(lambda z: z.year)"
   ]
  },
  {
   "cell_type": "code",
   "execution_count": 730,
   "metadata": {
    "collapsed": false
   },
   "outputs": [
    {
     "data": {
      "text/plain": [
       "(144032, 8)"
      ]
     },
     "execution_count": 730,
     "metadata": {},
     "output_type": "execute_result"
    }
   ],
   "source": [
    "cleaned[cleaned[\"report\"]==\"10-K\"].shape"
   ]
  },
  {
   "cell_type": "code",
   "execution_count": 731,
   "metadata": {
    "collapsed": false
   },
   "outputs": [
    {
     "data": {
      "text/html": [
       "<div>\n",
       "<style>\n",
       "    .dataframe thead tr:only-child th {\n",
       "        text-align: right;\n",
       "    }\n",
       "\n",
       "    .dataframe thead th {\n",
       "        text-align: left;\n",
       "    }\n",
       "\n",
       "    .dataframe tbody tr th {\n",
       "        vertical-align: top;\n",
       "    }\n",
       "</style>\n",
       "<table border=\"1\" class=\"dataframe\">\n",
       "  <thead>\n",
       "    <tr style=\"text-align: right;\">\n",
       "      <th></th>\n",
       "      <th>CIK</th>\n",
       "      <th>company</th>\n",
       "      <th>date</th>\n",
       "      <th>report</th>\n",
       "      <th>url</th>\n",
       "      <th>company_l</th>\n",
       "      <th>date_clean</th>\n",
       "      <th>year</th>\n",
       "    </tr>\n",
       "  </thead>\n",
       "  <tbody>\n",
       "    <tr>\n",
       "      <th>0</th>\n",
       "      <td>1703629</td>\n",
       "      <td>Ohana Labs Inc.</td>\n",
       "      <td>2017-04-12</td>\n",
       "      <td>D</td>\n",
       "      <td>https://www.sec.gov/Archives/edgar/data/170362...</td>\n",
       "      <td>'ohana labs inc.</td>\n",
       "      <td>1</td>\n",
       "      <td>2017</td>\n",
       "    </tr>\n",
       "    <tr>\n",
       "      <th>1</th>\n",
       "      <td>1307969</td>\n",
       "      <td>024 Pharma, Inc.</td>\n",
       "      <td>2017-04-11</td>\n",
       "      <td>10-Q</td>\n",
       "      <td>https://www.sec.gov/Archives/edgar/data/130796...</td>\n",
       "      <td>024 pharma, inc.</td>\n",
       "      <td>1</td>\n",
       "      <td>2017</td>\n",
       "    </tr>\n",
       "    <tr>\n",
       "      <th>2</th>\n",
       "      <td>1307969</td>\n",
       "      <td>024 Pharma, Inc.</td>\n",
       "      <td>2017-05-11</td>\n",
       "      <td>10-Q/A</td>\n",
       "      <td>https://www.sec.gov/Archives/edgar/data/130796...</td>\n",
       "      <td>024 pharma, inc.</td>\n",
       "      <td>1</td>\n",
       "      <td>2017</td>\n",
       "    </tr>\n",
       "    <tr>\n",
       "      <th>3</th>\n",
       "      <td>1084869</td>\n",
       "      <td>1 800 FLOWERS COM INC</td>\n",
       "      <td>2017-05-12</td>\n",
       "      <td>10-Q</td>\n",
       "      <td>https://www.sec.gov/Archives/edgar/data/108486...</td>\n",
       "      <td>1 800 flowers com inc</td>\n",
       "      <td>1</td>\n",
       "      <td>2017</td>\n",
       "    </tr>\n",
       "  </tbody>\n",
       "</table>\n",
       "</div>"
      ],
      "text/plain": [
       "       CIK                company       date  report  \\\n",
       "0  1703629        Ohana Labs Inc. 2017-04-12       D   \n",
       "1  1307969       024 Pharma, Inc. 2017-04-11    10-Q   \n",
       "2  1307969       024 Pharma, Inc. 2017-05-11  10-Q/A   \n",
       "3  1084869  1 800 FLOWERS COM INC 2017-05-12    10-Q   \n",
       "\n",
       "                                                 url              company_l  \\\n",
       "0  https://www.sec.gov/Archives/edgar/data/170362...       'ohana labs inc.   \n",
       "1  https://www.sec.gov/Archives/edgar/data/130796...       024 pharma, inc.   \n",
       "2  https://www.sec.gov/Archives/edgar/data/130796...       024 pharma, inc.   \n",
       "3  https://www.sec.gov/Archives/edgar/data/108486...  1 800 flowers com inc   \n",
       "\n",
       "   date_clean  year  \n",
       "0           1  2017  \n",
       "1           1  2017  \n",
       "2           1  2017  \n",
       "3           1  2017  "
      ]
     },
     "execution_count": 731,
     "metadata": {},
     "output_type": "execute_result"
    }
   ],
   "source": [
    "cleaned.head(4)"
   ]
  },
  {
   "cell_type": "code",
   "execution_count": 732,
   "metadata": {
    "collapsed": false
   },
   "outputs": [],
   "source": [
    "cleaned[\"company\"] = cleaned[\"company\"].str.replace(\",\",\"\")"
   ]
  },
  {
   "cell_type": "code",
   "execution_count": 733,
   "metadata": {
    "collapsed": true
   },
   "outputs": [],
   "source": [
    "cleaned[\"company_l\"] = cleaned[\"company_l\"].str.replace(\"'\",\"\")"
   ]
  },
  {
   "cell_type": "code",
   "execution_count": 734,
   "metadata": {
    "collapsed": true
   },
   "outputs": [],
   "source": [
    "cleaned[\"company_l\"] = cleaned[\"company_l\"].str.replace(\",\",\"\")"
   ]
  },
  {
   "cell_type": "code",
   "execution_count": 735,
   "metadata": {
    "collapsed": false
   },
   "outputs": [
    {
     "data": {
      "text/html": [
       "<div>\n",
       "<style>\n",
       "    .dataframe thead tr:only-child th {\n",
       "        text-align: right;\n",
       "    }\n",
       "\n",
       "    .dataframe thead th {\n",
       "        text-align: left;\n",
       "    }\n",
       "\n",
       "    .dataframe tbody tr th {\n",
       "        vertical-align: top;\n",
       "    }\n",
       "</style>\n",
       "<table border=\"1\" class=\"dataframe\">\n",
       "  <thead>\n",
       "    <tr style=\"text-align: right;\">\n",
       "      <th></th>\n",
       "      <th>CIK</th>\n",
       "      <th>company</th>\n",
       "      <th>date</th>\n",
       "      <th>report</th>\n",
       "      <th>url</th>\n",
       "      <th>company_l</th>\n",
       "      <th>date_clean</th>\n",
       "      <th>year</th>\n",
       "    </tr>\n",
       "  </thead>\n",
       "  <tbody>\n",
       "    <tr>\n",
       "      <th>0</th>\n",
       "      <td>1703629</td>\n",
       "      <td>Ohana Labs Inc.</td>\n",
       "      <td>2017-04-12</td>\n",
       "      <td>D</td>\n",
       "      <td>https://www.sec.gov/Archives/edgar/data/170362...</td>\n",
       "      <td>ohana labs inc.</td>\n",
       "      <td>1</td>\n",
       "      <td>2017</td>\n",
       "    </tr>\n",
       "    <tr>\n",
       "      <th>1</th>\n",
       "      <td>1307969</td>\n",
       "      <td>024 Pharma Inc.</td>\n",
       "      <td>2017-04-11</td>\n",
       "      <td>10-Q</td>\n",
       "      <td>https://www.sec.gov/Archives/edgar/data/130796...</td>\n",
       "      <td>024 pharma inc.</td>\n",
       "      <td>1</td>\n",
       "      <td>2017</td>\n",
       "    </tr>\n",
       "    <tr>\n",
       "      <th>2</th>\n",
       "      <td>1307969</td>\n",
       "      <td>024 Pharma Inc.</td>\n",
       "      <td>2017-05-11</td>\n",
       "      <td>10-Q/A</td>\n",
       "      <td>https://www.sec.gov/Archives/edgar/data/130796...</td>\n",
       "      <td>024 pharma inc.</td>\n",
       "      <td>1</td>\n",
       "      <td>2017</td>\n",
       "    </tr>\n",
       "    <tr>\n",
       "      <th>3</th>\n",
       "      <td>1084869</td>\n",
       "      <td>1 800 FLOWERS COM INC</td>\n",
       "      <td>2017-05-12</td>\n",
       "      <td>10-Q</td>\n",
       "      <td>https://www.sec.gov/Archives/edgar/data/108486...</td>\n",
       "      <td>1 800 flowers com inc</td>\n",
       "      <td>1</td>\n",
       "      <td>2017</td>\n",
       "    </tr>\n",
       "  </tbody>\n",
       "</table>\n",
       "</div>"
      ],
      "text/plain": [
       "       CIK                company       date  report  \\\n",
       "0  1703629        Ohana Labs Inc. 2017-04-12       D   \n",
       "1  1307969        024 Pharma Inc. 2017-04-11    10-Q   \n",
       "2  1307969        024 Pharma Inc. 2017-05-11  10-Q/A   \n",
       "3  1084869  1 800 FLOWERS COM INC 2017-05-12    10-Q   \n",
       "\n",
       "                                                 url              company_l  \\\n",
       "0  https://www.sec.gov/Archives/edgar/data/170362...        ohana labs inc.   \n",
       "1  https://www.sec.gov/Archives/edgar/data/130796...        024 pharma inc.   \n",
       "2  https://www.sec.gov/Archives/edgar/data/130796...        024 pharma inc.   \n",
       "3  https://www.sec.gov/Archives/edgar/data/108486...  1 800 flowers com inc   \n",
       "\n",
       "   date_clean  year  \n",
       "0           1  2017  \n",
       "1           1  2017  \n",
       "2           1  2017  \n",
       "3           1  2017  "
      ]
     },
     "execution_count": 735,
     "metadata": {},
     "output_type": "execute_result"
    }
   ],
   "source": [
    "cleaned.head(4)"
   ]
  },
  {
   "cell_type": "code",
   "execution_count": 736,
   "metadata": {
    "collapsed": false
   },
   "outputs": [],
   "source": [
    "cleaned = cleaned[[\"CIK\",\"company\",\"date\",\"report\",\"url\",\"company_l\"]]"
   ]
  },
  {
   "cell_type": "code",
   "execution_count": 737,
   "metadata": {
    "collapsed": false
   },
   "outputs": [],
   "source": [
    "cleaned.to_csv(\"idx_2000_2017_qtr2.csv\",index= False)"
   ]
  },
  {
   "cell_type": "markdown",
   "metadata": {},
   "source": [
    "# Writing a function to match company name to CIK # in the full list."
   ]
  },
  {
   "cell_type": "code",
   "execution_count": 278,
   "metadata": {
    "collapsed": true
   },
   "outputs": [],
   "source": [
    "new_name = pd.read_csv(\"Name.csv\")"
   ]
  },
  {
   "cell_type": "code",
   "execution_count": 279,
   "metadata": {
    "collapsed": false
   },
   "outputs": [
    {
     "data": {
      "text/html": [
       "<div>\n",
       "<style>\n",
       "    .dataframe thead tr:only-child th {\n",
       "        text-align: right;\n",
       "    }\n",
       "\n",
       "    .dataframe thead th {\n",
       "        text-align: left;\n",
       "    }\n",
       "\n",
       "    .dataframe tbody tr th {\n",
       "        vertical-align: top;\n",
       "    }\n",
       "</style>\n",
       "<table border=\"1\" class=\"dataframe\">\n",
       "  <thead>\n",
       "    <tr style=\"text-align: right;\">\n",
       "      <th></th>\n",
       "      <th>id</th>\n",
       "      <th>Ticker</th>\n",
       "      <th>Name</th>\n",
       "      <th>Sector</th>\n",
       "      <th>Industry</th>\n",
       "      <th>Headquarter</th>\n",
       "      <th>Country</th>\n",
       "      <th>Currency</th>\n",
       "    </tr>\n",
       "  </thead>\n",
       "  <tbody>\n",
       "    <tr>\n",
       "      <th>0</th>\n",
       "      <td>1</td>\n",
       "      <td>MMM</td>\n",
       "      <td>3M Company</td>\n",
       "      <td>Industrials</td>\n",
       "      <td>Industrial Conglomerates</td>\n",
       "      <td>St. Paul, Minnesota</td>\n",
       "      <td>USA</td>\n",
       "      <td>USD</td>\n",
       "    </tr>\n",
       "    <tr>\n",
       "      <th>1</th>\n",
       "      <td>2</td>\n",
       "      <td>ABT</td>\n",
       "      <td>Abbott Laboratories</td>\n",
       "      <td>Health Care</td>\n",
       "      <td>Health Care Equipment &amp; Services</td>\n",
       "      <td>North Chicago, Illinois</td>\n",
       "      <td>USA</td>\n",
       "      <td>USD</td>\n",
       "    </tr>\n",
       "  </tbody>\n",
       "</table>\n",
       "</div>"
      ],
      "text/plain": [
       "   id Ticker                 Name       Sector  \\\n",
       "0   1    MMM           3M Company  Industrials   \n",
       "1   2    ABT  Abbott Laboratories  Health Care   \n",
       "\n",
       "                           Industry              Headquarter Country Currency  \n",
       "0          Industrial Conglomerates      St. Paul, Minnesota     USA      USD  \n",
       "1  Health Care Equipment & Services  North Chicago, Illinois     USA      USD  "
      ]
     },
     "execution_count": 279,
     "metadata": {},
     "output_type": "execute_result"
    }
   ],
   "source": [
    "new_name.head(2)"
   ]
  },
  {
   "cell_type": "code",
   "execution_count": 280,
   "metadata": {
    "collapsed": true
   },
   "outputs": [],
   "source": [
    "new_name[\"Name_lower\"] = new_name[\"Name\"].str.lower()"
   ]
  },
  {
   "cell_type": "code",
   "execution_count": 281,
   "metadata": {
    "collapsed": false
   },
   "outputs": [
    {
     "data": {
      "text/html": [
       "<div>\n",
       "<style>\n",
       "    .dataframe thead tr:only-child th {\n",
       "        text-align: right;\n",
       "    }\n",
       "\n",
       "    .dataframe thead th {\n",
       "        text-align: left;\n",
       "    }\n",
       "\n",
       "    .dataframe tbody tr th {\n",
       "        vertical-align: top;\n",
       "    }\n",
       "</style>\n",
       "<table border=\"1\" class=\"dataframe\">\n",
       "  <thead>\n",
       "    <tr style=\"text-align: right;\">\n",
       "      <th></th>\n",
       "      <th>id</th>\n",
       "      <th>Ticker</th>\n",
       "      <th>Name</th>\n",
       "      <th>Sector</th>\n",
       "      <th>Industry</th>\n",
       "      <th>Headquarter</th>\n",
       "      <th>Country</th>\n",
       "      <th>Currency</th>\n",
       "      <th>Name_lower</th>\n",
       "    </tr>\n",
       "  </thead>\n",
       "  <tbody>\n",
       "    <tr>\n",
       "      <th>0</th>\n",
       "      <td>1</td>\n",
       "      <td>MMM</td>\n",
       "      <td>3M Company</td>\n",
       "      <td>Industrials</td>\n",
       "      <td>Industrial Conglomerates</td>\n",
       "      <td>St. Paul, Minnesota</td>\n",
       "      <td>USA</td>\n",
       "      <td>USD</td>\n",
       "      <td>3m company</td>\n",
       "    </tr>\n",
       "    <tr>\n",
       "      <th>1</th>\n",
       "      <td>2</td>\n",
       "      <td>ABT</td>\n",
       "      <td>Abbott Laboratories</td>\n",
       "      <td>Health Care</td>\n",
       "      <td>Health Care Equipment &amp; Services</td>\n",
       "      <td>North Chicago, Illinois</td>\n",
       "      <td>USA</td>\n",
       "      <td>USD</td>\n",
       "      <td>abbott laboratories</td>\n",
       "    </tr>\n",
       "  </tbody>\n",
       "</table>\n",
       "</div>"
      ],
      "text/plain": [
       "   id Ticker                 Name       Sector  \\\n",
       "0   1    MMM           3M Company  Industrials   \n",
       "1   2    ABT  Abbott Laboratories  Health Care   \n",
       "\n",
       "                           Industry              Headquarter Country Currency  \\\n",
       "0          Industrial Conglomerates      St. Paul, Minnesota     USA      USD   \n",
       "1  Health Care Equipment & Services  North Chicago, Illinois     USA      USD   \n",
       "\n",
       "            Name_lower  \n",
       "0           3m company  \n",
       "1  abbott laboratories  "
      ]
     },
     "execution_count": 281,
     "metadata": {},
     "output_type": "execute_result"
    }
   ],
   "source": [
    "new_name.head(2)"
   ]
  },
  {
   "cell_type": "code",
   "execution_count": 283,
   "metadata": {
    "collapsed": true
   },
   "outputs": [],
   "source": [
    "USA_only = new_name[new_name[\"Country\"]==\"USA\"]"
   ]
  },
  {
   "cell_type": "code",
   "execution_count": 284,
   "metadata": {
    "collapsed": false
   },
   "outputs": [
    {
     "data": {
      "text/html": [
       "<div>\n",
       "<style>\n",
       "    .dataframe thead tr:only-child th {\n",
       "        text-align: right;\n",
       "    }\n",
       "\n",
       "    .dataframe thead th {\n",
       "        text-align: left;\n",
       "    }\n",
       "\n",
       "    .dataframe tbody tr th {\n",
       "        vertical-align: top;\n",
       "    }\n",
       "</style>\n",
       "<table border=\"1\" class=\"dataframe\">\n",
       "  <thead>\n",
       "    <tr style=\"text-align: right;\">\n",
       "      <th></th>\n",
       "      <th>id</th>\n",
       "      <th>Ticker</th>\n",
       "      <th>Name</th>\n",
       "      <th>Sector</th>\n",
       "      <th>Industry</th>\n",
       "      <th>Headquarter</th>\n",
       "      <th>Country</th>\n",
       "      <th>Currency</th>\n",
       "      <th>Name_lower</th>\n",
       "    </tr>\n",
       "  </thead>\n",
       "  <tbody>\n",
       "    <tr>\n",
       "      <th>0</th>\n",
       "      <td>1</td>\n",
       "      <td>MMM</td>\n",
       "      <td>3M Company</td>\n",
       "      <td>Industrials</td>\n",
       "      <td>Industrial Conglomerates</td>\n",
       "      <td>St. Paul, Minnesota</td>\n",
       "      <td>USA</td>\n",
       "      <td>USD</td>\n",
       "      <td>3m company</td>\n",
       "    </tr>\n",
       "    <tr>\n",
       "      <th>1</th>\n",
       "      <td>2</td>\n",
       "      <td>ABT</td>\n",
       "      <td>Abbott Laboratories</td>\n",
       "      <td>Health Care</td>\n",
       "      <td>Health Care Equipment &amp; Services</td>\n",
       "      <td>North Chicago, Illinois</td>\n",
       "      <td>USA</td>\n",
       "      <td>USD</td>\n",
       "      <td>abbott laboratories</td>\n",
       "    </tr>\n",
       "  </tbody>\n",
       "</table>\n",
       "</div>"
      ],
      "text/plain": [
       "   id Ticker                 Name       Sector  \\\n",
       "0   1    MMM           3M Company  Industrials   \n",
       "1   2    ABT  Abbott Laboratories  Health Care   \n",
       "\n",
       "                           Industry              Headquarter Country Currency  \\\n",
       "0          Industrial Conglomerates      St. Paul, Minnesota     USA      USD   \n",
       "1  Health Care Equipment & Services  North Chicago, Illinois     USA      USD   \n",
       "\n",
       "            Name_lower  \n",
       "0           3m company  \n",
       "1  abbott laboratories  "
      ]
     },
     "execution_count": 284,
     "metadata": {},
     "output_type": "execute_result"
    }
   ],
   "source": [
    "USA_only.head(2)"
   ]
  },
  {
   "cell_type": "code",
   "execution_count": 292,
   "metadata": {
    "collapsed": false
   },
   "outputs": [],
   "source": [
    "# first merge:\n",
    "merged = pd.merge(USA_only, cik_nm, how='left', left_on=\"Name_lower\", right_on=\"Name\",\n",
    "         suffixes=('_x', '_y'))"
   ]
  },
  {
   "cell_type": "code",
   "execution_count": 293,
   "metadata": {
    "collapsed": false
   },
   "outputs": [
    {
     "data": {
      "text/plain": [
       "(3704, 13)"
      ]
     },
     "execution_count": 293,
     "metadata": {},
     "output_type": "execute_result"
    }
   ],
   "source": [
    "merged.shape"
   ]
  },
  {
   "cell_type": "code",
   "execution_count": 295,
   "metadata": {
    "collapsed": false
   },
   "outputs": [
    {
     "data": {
      "text/plain": [
       "3166"
      ]
     },
     "execution_count": 295,
     "metadata": {},
     "output_type": "execute_result"
    }
   ],
   "source": [
    "sum(pd.isnull(merged[\"CIK #\"]))"
   ]
  },
  {
   "cell_type": "code",
   "execution_count": 298,
   "metadata": {
    "collapsed": false
   },
   "outputs": [
    {
     "name": "stderr",
     "output_type": "stream",
     "text": [
      "/Users/jasonchiu0803/anaconda2/lib/python2.7/site-packages/ipykernel/__main__.py:2: SettingWithCopyWarning: \n",
      "A value is trying to be set on a copy of a slice from a DataFrame.\n",
      "Try using .loc[row_indexer,col_indexer] = value instead\n",
      "\n",
      "See the caveats in the documentation: http://pandas.pydata.org/pandas-docs/stable/indexing.html#indexing-view-versus-copy\n",
      "  from ipykernel import kernelapp as app\n"
     ]
    }
   ],
   "source": [
    "# replaceing Company with co\n",
    "USA_only[\"Name_lower\"] = USA_only[\"Name_lower\"].str.replace(\"company\", \"co\")"
   ]
  },
  {
   "cell_type": "code",
   "execution_count": 426,
   "metadata": {
    "collapsed": true
   },
   "outputs": [],
   "source": [
    "#second merge\n",
    "merged = pd.merge(USA_only, cik_nm, how='left', left_on=\"Name_lower\", right_on=\"Name\",\n",
    "         suffixes=('_x', '_y'))"
   ]
  },
  {
   "cell_type": "code",
   "execution_count": 427,
   "metadata": {
    "collapsed": false
   },
   "outputs": [
    {
     "data": {
      "text/plain": [
       "3161"
      ]
     },
     "execution_count": 427,
     "metadata": {},
     "output_type": "execute_result"
    }
   ],
   "source": [
    "sum(pd.isnull(merged[\"CIK #\"]))"
   ]
  },
  {
   "cell_type": "code",
   "execution_count": 332,
   "metadata": {
    "collapsed": false
   },
   "outputs": [
    {
     "data": {
      "text/html": [
       "<div>\n",
       "<style>\n",
       "    .dataframe thead tr:only-child th {\n",
       "        text-align: right;\n",
       "    }\n",
       "\n",
       "    .dataframe thead th {\n",
       "        text-align: left;\n",
       "    }\n",
       "\n",
       "    .dataframe tbody tr th {\n",
       "        vertical-align: top;\n",
       "    }\n",
       "</style>\n",
       "<table border=\"1\" class=\"dataframe\">\n",
       "  <thead>\n",
       "    <tr style=\"text-align: right;\">\n",
       "      <th></th>\n",
       "      <th>company</th>\n",
       "      <th>Name</th>\n",
       "      <th>cik #</th>\n",
       "      <th>CIK #</th>\n",
       "    </tr>\n",
       "  </thead>\n",
       "  <tbody>\n",
       "    <tr>\n",
       "      <th>0</th>\n",
       "      <td>!J INC:0001438823:</td>\n",
       "      <td>!j inc</td>\n",
       "      <td>0001438823</td>\n",
       "      <td>1438823</td>\n",
       "    </tr>\n",
       "  </tbody>\n",
       "</table>\n",
       "</div>"
      ],
      "text/plain": [
       "              company    Name       cik #    CIK #\n",
       "0  !J INC:0001438823:  !j inc  0001438823  1438823"
      ]
     },
     "execution_count": 332,
     "metadata": {},
     "output_type": "execute_result"
    }
   ],
   "source": [
    "cik_nm.head(1)"
   ]
  },
  {
   "cell_type": "code",
   "execution_count": 424,
   "metadata": {
    "collapsed": false
   },
   "outputs": [
    {
     "data": {
      "text/html": [
       "<div>\n",
       "<style>\n",
       "    .dataframe thead tr:only-child th {\n",
       "        text-align: right;\n",
       "    }\n",
       "\n",
       "    .dataframe thead th {\n",
       "        text-align: left;\n",
       "    }\n",
       "\n",
       "    .dataframe tbody tr th {\n",
       "        vertical-align: top;\n",
       "    }\n",
       "</style>\n",
       "<table border=\"1\" class=\"dataframe\">\n",
       "  <thead>\n",
       "    <tr style=\"text-align: right;\">\n",
       "      <th></th>\n",
       "      <th>id</th>\n",
       "      <th>Ticker</th>\n",
       "      <th>Name</th>\n",
       "      <th>Sector</th>\n",
       "      <th>Industry</th>\n",
       "      <th>Headquarter</th>\n",
       "      <th>Country</th>\n",
       "      <th>Currency</th>\n",
       "      <th>Name_lower</th>\n",
       "    </tr>\n",
       "  </thead>\n",
       "  <tbody>\n",
       "    <tr>\n",
       "      <th>0</th>\n",
       "      <td>1</td>\n",
       "      <td>MMM</td>\n",
       "      <td>3M Company</td>\n",
       "      <td>Industrials</td>\n",
       "      <td>Industrial Conglomerates</td>\n",
       "      <td>St. Paul, Minnesota</td>\n",
       "      <td>USA</td>\n",
       "      <td>USD</td>\n",
       "      <td>3m co</td>\n",
       "    </tr>\n",
       "  </tbody>\n",
       "</table>\n",
       "</div>"
      ],
      "text/plain": [
       "   id Ticker        Name       Sector                  Industry  \\\n",
       "0   1    MMM  3M Company  Industrials  Industrial Conglomerates   \n",
       "\n",
       "           Headquarter Country Currency Name_lower  \n",
       "0  St. Paul, Minnesota     USA      USD      3m co  "
      ]
     },
     "execution_count": 424,
     "metadata": {},
     "output_type": "execute_result"
    }
   ],
   "source": [
    "USA_only.head(1)"
   ]
  },
  {
   "cell_type": "code",
   "execution_count": 425,
   "metadata": {
    "collapsed": false
   },
   "outputs": [
    {
     "data": {
      "text/plain": [
       "'activision blizzard'"
      ]
     },
     "execution_count": 425,
     "metadata": {},
     "output_type": "execute_result"
    }
   ],
   "source": [
    "USA_only.loc[4,\"Name_lower\"]"
   ]
  },
  {
   "cell_type": "code",
   "execution_count": 428,
   "metadata": {
    "collapsed": false
   },
   "outputs": [],
   "source": [
    "def matching_name(x):\n",
    "    for i in range(x.shape[0]):\n",
    "        if pd.isnull(x.loc[i,\"cik #\"]):\n",
    "            company_name = x.loc[i, \"Name_lower\"]\n",
    "            a = cik_nm[cik_nm[\"Name\"].str.contains(company_name)].reset_index(drop=True)\n",
    "            new_name_inc = x.loc[i, \"Name_lower\"] + \" inc\"\n",
    "            new_name = x.loc[i, \"Name_lower\"].translate(None, string.punctuation)\n",
    "            new_name_inc_period = x.loc[i, \"Name_lower\"] + \" inc.\"\n",
    "            new_name_inc_comma = x.loc[i, \"Name_lower\"] + \", inc.\"\n",
    "            new_name_de = x.loc[i, \"Name_lower\"] + \" /DE/\"\n",
    "            new_name_plc = x.loc[i, \"Name_lower\"] + \" plc\"\n",
    "            new_name_space = re.sub(\",\",\"\",x.loc[i, \"Name_lower\"])\n",
    "            new_name_space_peroid = re.sub(\".\",\" \",x.loc[i, \"Name_lower\"])\n",
    "            new_name_no_class = re.sub(\"class a\", \"\", x.loc[i, \"Name_lower\"])\n",
    "            print new_name_no_class\n",
    "            new_name_no_classB = re.sub(\"class b\", \"\", x.loc[i, \"Name_lower\"])\n",
    "            print new_name_no_classB\n",
    "            print str(i) + \" word\"\n",
    "            #print new_name_inc\n",
    "            #print new_name_inc_period\n",
    "            #print a.shape\n",
    "            if a.empty:\n",
    "                print \"no data\"\n",
    "            else:\n",
    "                for j in range(a.shape[0]):\n",
    "                    if a.loc[j, \"Name\"] == new_name_inc_comma:\n",
    "                        x.loc[i, \"company\"] = a.loc[j,\"company\"]\n",
    "                        x.loc[i, \"Name_y\"] = a.loc[j,\"Name\"]\n",
    "                        x.loc[i, \"cik #\"] = a.loc[j,\"cik #\"]\n",
    "                        x.loc[i, \"CIK #\"] = a.loc[j,\"CIK #\"]\n",
    "                        print \"found it\"\n",
    "                        continue\n",
    "                    if a.loc[j, \"Name\"] == new_name_de:\n",
    "                        x.loc[i, \"company\"] = a.loc[j,\"company\"]\n",
    "                        x.loc[i, \"Name_y\"] = a.loc[j,\"Name\"]\n",
    "                        x.loc[i, \"cik #\"] = a.loc[j,\"cik #\"]\n",
    "                        x.loc[i, \"CIK #\"] = a.loc[j,\"CIK #\"]\n",
    "                        print \"found it\"\n",
    "                        continue\n",
    "                    if a.loc[j, \"Name\"] == new_name_plc:\n",
    "                        x.loc[i, \"company\"] = a.loc[j,\"company\"]\n",
    "                        x.loc[i, \"Name_y\"] = a.loc[j,\"Name\"]\n",
    "                        x.loc[i, \"cik #\"] = a.loc[j,\"cik #\"]\n",
    "                        x.loc[i, \"CIK #\"] = a.loc[j,\"CIK #\"]\n",
    "                        print \"found it\"\n",
    "                        continue\n",
    "                    if a.loc[j, \"Name\"] == new_name_space:\n",
    "                        x.loc[i, \"company\"] = a.loc[j,\"company\"]\n",
    "                        x.loc[i, \"Name_y\"] = a.loc[j,\"Name\"]\n",
    "                        x.loc[i, \"cik #\"] = a.loc[j,\"cik #\"]\n",
    "                        x.loc[i, \"CIK #\"] = a.loc[j,\"CIK #\"]\n",
    "                        print \"found it\"\n",
    "                        continue\n",
    "                    if a.loc[j, \"Name\"] == new_name_no_class:\n",
    "                        x.loc[i, \"company\"] = a.loc[j,\"company\"]\n",
    "                        x.loc[i, \"Name_y\"] = a.loc[j,\"Name\"]\n",
    "                        x.loc[i, \"cik #\"] = a.loc[j,\"cik #\"]\n",
    "                        x.loc[i, \"CIK #\"] = a.loc[j,\"CIK #\"]\n",
    "                        print \"found it\"\n",
    "                        continue\n",
    "                    if a.loc[j, \"Name\"] == new_name_no_classB:\n",
    "                        x.loc[i, \"company\"] = a.loc[j,\"company\"]\n",
    "                        x.loc[i, \"Name_y\"] = a.loc[j,\"Name\"]\n",
    "                        x.loc[i, \"cik #\"] = a.loc[j,\"cik #\"]\n",
    "                        x.loc[i, \"CIK #\"] = a.loc[j,\"CIK #\"]\n",
    "                        print \"found it\"\n",
    "                        continue\n",
    "                    if a.loc[j, \"Name\"] == new_name_space_peroid:\n",
    "                        x.loc[i, \"company\"] = a.loc[j,\"company\"]\n",
    "                        x.loc[i, \"Name_y\"] = a.loc[j,\"Name\"]\n",
    "                        x.loc[i, \"cik #\"] = a.loc[j,\"cik #\"]\n",
    "                        x.loc[i, \"CIK #\"] = a.loc[j,\"CIK #\"]\n",
    "                        print \"found it\"\n",
    "                        continue\n",
    "                    if a.loc[j, \"Name\"].translate(None, string.punctuation) == new_name_inc_comma:\n",
    "                        x.loc[i, \"company\"] = a.loc[j,\"company\"]\n",
    "                        x.loc[i, \"Name_y\"] = a.loc[j,\"Name\"]\n",
    "                        x.loc[i, \"cik #\"] = a.loc[j,\"cik #\"]\n",
    "                        x.loc[i, \"CIK #\"] = a.loc[j,\"CIK #\"]\n",
    "                        print \"found it\"\n",
    "                        continue\n",
    "                    if a.loc[j, \"Name\"] == new_name_inc:\n",
    "                        x.loc[i, \"company\"] = a.loc[j,\"company\"]\n",
    "                        x.loc[i, \"Name_y\"] = a.loc[j,\"Name\"]\n",
    "                        x.loc[i, \"cik #\"] = a.loc[j,\"cik #\"]\n",
    "                        x.loc[i, \"CIK #\"] = a.loc[j,\"CIK #\"]\n",
    "                        print \"found it\" \n",
    "                        continue\n",
    "                    if a.loc[j, \"Name\"] == new_name_inc_period:\n",
    "                        x.loc[i, \"company\"] = a.loc[j,\"company\"]\n",
    "                        x.loc[i, \"Name_y\"] = a.loc[j,\"Name\"]\n",
    "                        x.loc[i, \"cik #\"] = a.loc[j,\"cik #\"]\n",
    "                        x.loc[i, \"CIK #\"] = a.loc[j,\"CIK #\"]\n",
    "                        print \"found it\""
   ]
  },
  {
   "cell_type": "code",
   "execution_count": 796,
   "metadata": {
    "collapsed": false
   },
   "outputs": [],
   "source": [
    "#matching_name(merged)"
   ]
  },
  {
   "cell_type": "code",
   "execution_count": 423,
   "metadata": {
    "collapsed": false
   },
   "outputs": [
    {
     "data": {
      "text/plain": [
       "3004"
      ]
     },
     "execution_count": 423,
     "metadata": {},
     "output_type": "execute_result"
    }
   ],
   "source": [
    "sum(pd.isnull(merged[\"CIK #\"]))"
   ]
  },
  {
   "cell_type": "code",
   "execution_count": 529,
   "metadata": {
    "collapsed": false
   },
   "outputs": [
    {
     "data": {
      "text/html": [
       "<div>\n",
       "<style>\n",
       "    .dataframe thead tr:only-child th {\n",
       "        text-align: right;\n",
       "    }\n",
       "\n",
       "    .dataframe thead th {\n",
       "        text-align: left;\n",
       "    }\n",
       "\n",
       "    .dataframe tbody tr th {\n",
       "        vertical-align: top;\n",
       "    }\n",
       "</style>\n",
       "<table border=\"1\" class=\"dataframe\">\n",
       "  <thead>\n",
       "    <tr style=\"text-align: right;\">\n",
       "      <th></th>\n",
       "      <th>id</th>\n",
       "      <th>Ticker</th>\n",
       "      <th>Name_x</th>\n",
       "      <th>Sector</th>\n",
       "      <th>Industry</th>\n",
       "      <th>Headquarter</th>\n",
       "      <th>Country</th>\n",
       "      <th>Currency</th>\n",
       "      <th>Name_lower</th>\n",
       "      <th>company</th>\n",
       "      <th>Name_y</th>\n",
       "      <th>cik #</th>\n",
       "      <th>CIK #</th>\n",
       "    </tr>\n",
       "  </thead>\n",
       "  <tbody>\n",
       "    <tr>\n",
       "      <th>13</th>\n",
       "      <td>14</td>\n",
       "      <td>APD</td>\n",
       "      <td>Air Products &amp; Chemicals Inc</td>\n",
       "      <td>Materials</td>\n",
       "      <td>Industrial Gases</td>\n",
       "      <td>Allentown, Pennsylvania</td>\n",
       "      <td>USA</td>\n",
       "      <td>USD</td>\n",
       "      <td>air products &amp; chemicals inc</td>\n",
       "      <td>NaN</td>\n",
       "      <td>NaN</td>\n",
       "      <td>NaN</td>\n",
       "      <td>NaN</td>\n",
       "    </tr>\n",
       "    <tr>\n",
       "      <th>23</th>\n",
       "      <td>23</td>\n",
       "      <td>ADS</td>\n",
       "      <td>Alliance Data Systems</td>\n",
       "      <td>Information Technology</td>\n",
       "      <td>Data Processing &amp; Outsourced Services</td>\n",
       "      <td>Plano, Texas</td>\n",
       "      <td>USA</td>\n",
       "      <td>USD</td>\n",
       "      <td>alliance data systems</td>\n",
       "      <td>NaN</td>\n",
       "      <td>NaN</td>\n",
       "      <td>NaN</td>\n",
       "      <td>NaN</td>\n",
       "    </tr>\n",
       "  </tbody>\n",
       "</table>\n",
       "</div>"
      ],
      "text/plain": [
       "    id Ticker                        Name_x                  Sector  \\\n",
       "13  14    APD  Air Products & Chemicals Inc               Materials   \n",
       "23  23    ADS         Alliance Data Systems  Information Technology   \n",
       "\n",
       "                                 Industry              Headquarter Country  \\\n",
       "13                       Industrial Gases  Allentown, Pennsylvania     USA   \n",
       "23  Data Processing & Outsourced Services             Plano, Texas     USA   \n",
       "\n",
       "   Currency                    Name_lower company Name_y cik # CIK #  \n",
       "13      USD  air products & chemicals inc     NaN    NaN   NaN   NaN  \n",
       "23      USD         alliance data systems     NaN    NaN   NaN   NaN  "
      ]
     },
     "execution_count": 529,
     "metadata": {},
     "output_type": "execute_result"
    }
   ],
   "source": [
    "merged[pd.isnull(merged[\"CIK #\"])].head(2)"
   ]
  },
  {
   "cell_type": "code",
   "execution_count": 530,
   "metadata": {
    "collapsed": false
   },
   "outputs": [
    {
     "data": {
      "text/html": [
       "<div>\n",
       "<style>\n",
       "    .dataframe thead tr:only-child th {\n",
       "        text-align: right;\n",
       "    }\n",
       "\n",
       "    .dataframe thead th {\n",
       "        text-align: left;\n",
       "    }\n",
       "\n",
       "    .dataframe tbody tr th {\n",
       "        vertical-align: top;\n",
       "    }\n",
       "</style>\n",
       "<table border=\"1\" class=\"dataframe\">\n",
       "  <thead>\n",
       "    <tr style=\"text-align: right;\">\n",
       "      <th></th>\n",
       "      <th>company</th>\n",
       "      <th>Name</th>\n",
       "      <th>cik #</th>\n",
       "      <th>CIK #</th>\n",
       "    </tr>\n",
       "  </thead>\n",
       "  <tbody>\n",
       "    <tr>\n",
       "      <th>26218</th>\n",
       "      <td>AMAZON 13-30 LP:0001567126:</td>\n",
       "      <td>amazon 13-30 lp</td>\n",
       "      <td>0001567126</td>\n",
       "      <td>1567126</td>\n",
       "    </tr>\n",
       "    <tr>\n",
       "      <th>26219</th>\n",
       "      <td>AMAZON BIOTECH INC:0001088781:</td>\n",
       "      <td>amazon biotech inc</td>\n",
       "      <td>0001088781</td>\n",
       "      <td>1088781</td>\n",
       "    </tr>\n",
       "    <tr>\n",
       "      <th>26220</th>\n",
       "      <td>AMAZON COM INC:0001018724:</td>\n",
       "      <td>amazon com inc</td>\n",
       "      <td>0001018724</td>\n",
       "      <td>1018724</td>\n",
       "    </tr>\n",
       "  </tbody>\n",
       "</table>\n",
       "</div>"
      ],
      "text/plain": [
       "                              company                Name       cik #    CIK #\n",
       "26218     AMAZON 13-30 LP:0001567126:     amazon 13-30 lp  0001567126  1567126\n",
       "26219  AMAZON BIOTECH INC:0001088781:  amazon biotech inc  0001088781  1088781\n",
       "26220      AMAZON COM INC:0001018724:      amazon com inc  0001018724  1018724"
      ]
     },
     "execution_count": 530,
     "metadata": {},
     "output_type": "execute_result"
    }
   ],
   "source": [
    "cik_nm[cik_nm[\"Name\"].str.contains(\"amazon\")].head(3)"
   ]
  },
  {
   "cell_type": "code",
   "execution_count": 319,
   "metadata": {
    "collapsed": false
   },
   "outputs": [
    {
     "data": {
      "text/html": [
       "<div>\n",
       "<style>\n",
       "    .dataframe thead tr:only-child th {\n",
       "        text-align: right;\n",
       "    }\n",
       "\n",
       "    .dataframe thead th {\n",
       "        text-align: left;\n",
       "    }\n",
       "\n",
       "    .dataframe tbody tr th {\n",
       "        vertical-align: top;\n",
       "    }\n",
       "</style>\n",
       "<table border=\"1\" class=\"dataframe\">\n",
       "  <thead>\n",
       "    <tr style=\"text-align: right;\">\n",
       "      <th></th>\n",
       "      <th>id</th>\n",
       "      <th>Ticker</th>\n",
       "      <th>Name</th>\n",
       "      <th>Sector</th>\n",
       "      <th>Industry</th>\n",
       "      <th>Headquarter</th>\n",
       "      <th>Country</th>\n",
       "      <th>Currency</th>\n",
       "      <th>Name_lower</th>\n",
       "    </tr>\n",
       "  </thead>\n",
       "  <tbody>\n",
       "    <tr>\n",
       "      <th>0</th>\n",
       "      <td>1</td>\n",
       "      <td>MMM</td>\n",
       "      <td>3M Company</td>\n",
       "      <td>Industrials</td>\n",
       "      <td>Industrial Conglomerates</td>\n",
       "      <td>St. Paul, Minnesota</td>\n",
       "      <td>USA</td>\n",
       "      <td>USD</td>\n",
       "      <td>3m co</td>\n",
       "    </tr>\n",
       "    <tr>\n",
       "      <th>1</th>\n",
       "      <td>2</td>\n",
       "      <td>ABT</td>\n",
       "      <td>Abbott Laboratories</td>\n",
       "      <td>Health Care</td>\n",
       "      <td>Health Care Equipment &amp; Services</td>\n",
       "      <td>North Chicago, Illinois</td>\n",
       "      <td>USA</td>\n",
       "      <td>USD</td>\n",
       "      <td>abbott laboratories</td>\n",
       "    </tr>\n",
       "  </tbody>\n",
       "</table>\n",
       "</div>"
      ],
      "text/plain": [
       "   id Ticker                 Name       Sector  \\\n",
       "0   1    MMM           3M Company  Industrials   \n",
       "1   2    ABT  Abbott Laboratories  Health Care   \n",
       "\n",
       "                           Industry              Headquarter Country Currency  \\\n",
       "0          Industrial Conglomerates      St. Paul, Minnesota     USA      USD   \n",
       "1  Health Care Equipment & Services  North Chicago, Illinois     USA      USD   \n",
       "\n",
       "            Name_lower  \n",
       "0                3m co  \n",
       "1  abbott laboratories  "
      ]
     },
     "execution_count": 319,
     "metadata": {},
     "output_type": "execute_result"
    }
   ],
   "source": [
    "#replacing \n",
    "USA_only.head(2)"
   ]
  },
  {
   "cell_type": "code",
   "execution_count": 89,
   "metadata": {
    "collapsed": false
   },
   "outputs": [],
   "source": [
    "merged = pd.merge(new_name, cik_nm, how='left', left_on=\"Name_lower\", right_on=\"Name\",\n",
    "         suffixes=('_x', '_y'))"
   ]
  },
  {
   "cell_type": "code",
   "execution_count": 90,
   "metadata": {
    "collapsed": false
   },
   "outputs": [
    {
     "data": {
      "text/plain": [
       "(4275, 13)"
      ]
     },
     "execution_count": 90,
     "metadata": {},
     "output_type": "execute_result"
    }
   ],
   "source": [
    "merged.shape"
   ]
  },
  {
   "cell_type": "code",
   "execution_count": 266,
   "metadata": {
    "collapsed": false
   },
   "outputs": [],
   "source": [
    "USA_only = merged[merged[\"Country\"]==\"USA\"]"
   ]
  },
  {
   "cell_type": "code",
   "execution_count": 531,
   "metadata": {
    "collapsed": false
   },
   "outputs": [
    {
     "data": {
      "text/html": [
       "<div>\n",
       "<style>\n",
       "    .dataframe thead tr:only-child th {\n",
       "        text-align: right;\n",
       "    }\n",
       "\n",
       "    .dataframe thead th {\n",
       "        text-align: left;\n",
       "    }\n",
       "\n",
       "    .dataframe tbody tr th {\n",
       "        vertical-align: top;\n",
       "    }\n",
       "</style>\n",
       "<table border=\"1\" class=\"dataframe\">\n",
       "  <thead>\n",
       "    <tr style=\"text-align: right;\">\n",
       "      <th></th>\n",
       "      <th>id</th>\n",
       "      <th>Ticker</th>\n",
       "      <th>Name</th>\n",
       "      <th>Sector</th>\n",
       "      <th>Industry</th>\n",
       "      <th>Headquarter</th>\n",
       "      <th>Country</th>\n",
       "      <th>Currency</th>\n",
       "      <th>Name_lower</th>\n",
       "    </tr>\n",
       "  </thead>\n",
       "  <tbody>\n",
       "    <tr>\n",
       "      <th>0</th>\n",
       "      <td>1</td>\n",
       "      <td>MMM</td>\n",
       "      <td>3M Company</td>\n",
       "      <td>Industrials</td>\n",
       "      <td>Industrial Conglomerates</td>\n",
       "      <td>St. Paul, Minnesota</td>\n",
       "      <td>USA</td>\n",
       "      <td>USD</td>\n",
       "      <td>3m co</td>\n",
       "    </tr>\n",
       "    <tr>\n",
       "      <th>1</th>\n",
       "      <td>2</td>\n",
       "      <td>ABT</td>\n",
       "      <td>Abbott Laboratories</td>\n",
       "      <td>Health Care</td>\n",
       "      <td>Health Care Equipment &amp; Services</td>\n",
       "      <td>North Chicago, Illinois</td>\n",
       "      <td>USA</td>\n",
       "      <td>USD</td>\n",
       "      <td>abbott laboratories</td>\n",
       "    </tr>\n",
       "  </tbody>\n",
       "</table>\n",
       "</div>"
      ],
      "text/plain": [
       "   id Ticker                 Name       Sector  \\\n",
       "0   1    MMM           3M Company  Industrials   \n",
       "1   2    ABT  Abbott Laboratories  Health Care   \n",
       "\n",
       "                           Industry              Headquarter Country Currency  \\\n",
       "0          Industrial Conglomerates      St. Paul, Minnesota     USA      USD   \n",
       "1  Health Care Equipment & Services  North Chicago, Illinois     USA      USD   \n",
       "\n",
       "            Name_lower  \n",
       "0                3m co  \n",
       "1  abbott laboratories  "
      ]
     },
     "execution_count": 531,
     "metadata": {},
     "output_type": "execute_result"
    }
   ],
   "source": [
    "USA_only.head(2)"
   ]
  },
  {
   "cell_type": "markdown",
   "metadata": {},
   "source": [
    "# subset_good"
   ]
  },
  {
   "cell_type": "code",
   "execution_count": 444,
   "metadata": {
    "collapsed": false
   },
   "outputs": [],
   "source": [
    "winner = pd.read_csv(\"winners.csv\")"
   ]
  },
  {
   "cell_type": "code",
   "execution_count": 479,
   "metadata": {
    "collapsed": false
   },
   "outputs": [
    {
     "data": {
      "text/plain": [
       "Index([u'Unnamed: 0', u'Ticker'], dtype='object')"
      ]
     },
     "execution_count": 479,
     "metadata": {},
     "output_type": "execute_result"
    }
   ],
   "source": [
    "winner.columns"
   ]
  },
  {
   "cell_type": "code",
   "execution_count": 480,
   "metadata": {
    "collapsed": true
   },
   "outputs": [],
   "source": [
    "# converting ticker nos. to ciks\n",
    "winner[\"cik #\"] = winner[\"Ticker\"].apply(lambda x: get_cik(x))"
   ]
  },
  {
   "cell_type": "code",
   "execution_count": 515,
   "metadata": {
    "collapsed": false
   },
   "outputs": [
    {
     "data": {
      "text/html": [
       "<div>\n",
       "<style>\n",
       "    .dataframe thead tr:only-child th {\n",
       "        text-align: right;\n",
       "    }\n",
       "\n",
       "    .dataframe thead th {\n",
       "        text-align: left;\n",
       "    }\n",
       "\n",
       "    .dataframe tbody tr th {\n",
       "        vertical-align: top;\n",
       "    }\n",
       "</style>\n",
       "<table border=\"1\" class=\"dataframe\">\n",
       "  <thead>\n",
       "    <tr style=\"text-align: right;\">\n",
       "      <th></th>\n",
       "      <th>Ticker</th>\n",
       "      <th>cik #</th>\n",
       "      <th>status</th>\n",
       "    </tr>\n",
       "  </thead>\n",
       "  <tbody>\n",
       "    <tr>\n",
       "      <th>0</th>\n",
       "      <td>MMM</td>\n",
       "      <td>0000066740</td>\n",
       "      <td>winner</td>\n",
       "    </tr>\n",
       "    <tr>\n",
       "      <th>1</th>\n",
       "      <td>ACN</td>\n",
       "      <td>0001467373</td>\n",
       "      <td>winner</td>\n",
       "    </tr>\n",
       "  </tbody>\n",
       "</table>\n",
       "</div>"
      ],
      "text/plain": [
       "  Ticker       cik #  status\n",
       "0    MMM  0000066740  winner\n",
       "1    ACN  0001467373  winner"
      ]
     },
     "execution_count": 515,
     "metadata": {},
     "output_type": "execute_result"
    }
   ],
   "source": [
    "winner.head(2)"
   ]
  },
  {
   "cell_type": "code",
   "execution_count": 516,
   "metadata": {
    "collapsed": false
   },
   "outputs": [
    {
     "data": {
      "text/plain": [
       "(279, 3)"
      ]
     },
     "execution_count": 516,
     "metadata": {},
     "output_type": "execute_result"
    }
   ],
   "source": [
    "winner.shape"
   ]
  },
  {
   "cell_type": "code",
   "execution_count": 487,
   "metadata": {
    "collapsed": true
   },
   "outputs": [],
   "source": [
    "winner[\"status\"] = \"winner\""
   ]
  },
  {
   "cell_type": "code",
   "execution_count": 488,
   "metadata": {
    "collapsed": true
   },
   "outputs": [],
   "source": [
    "winner = winner[[\"Ticker\",\"cik #\", \"status\"]]"
   ]
  },
  {
   "cell_type": "code",
   "execution_count": 513,
   "metadata": {
    "collapsed": false
   },
   "outputs": [],
   "source": [
    "winner_list = pd.merge(winner, cik_nm, how = \"left\", on = \"cik #\")"
   ]
  },
  {
   "cell_type": "code",
   "execution_count": 518,
   "metadata": {
    "collapsed": false
   },
   "outputs": [],
   "source": [
    "winner_list_unique = winner_list.groupby('cik #').first().reset_index()"
   ]
  },
  {
   "cell_type": "code",
   "execution_count": 526,
   "metadata": {
    "collapsed": false
   },
   "outputs": [
    {
     "data": {
      "text/html": [
       "<div>\n",
       "<style>\n",
       "    .dataframe thead tr:only-child th {\n",
       "        text-align: right;\n",
       "    }\n",
       "\n",
       "    .dataframe thead th {\n",
       "        text-align: left;\n",
       "    }\n",
       "\n",
       "    .dataframe tbody tr th {\n",
       "        vertical-align: top;\n",
       "    }\n",
       "</style>\n",
       "<table border=\"1\" class=\"dataframe\">\n",
       "  <thead>\n",
       "    <tr style=\"text-align: right;\">\n",
       "      <th></th>\n",
       "      <th>cik #</th>\n",
       "      <th>Ticker</th>\n",
       "      <th>status</th>\n",
       "      <th>company</th>\n",
       "      <th>Name</th>\n",
       "      <th>CIK #</th>\n",
       "    </tr>\n",
       "  </thead>\n",
       "  <tbody>\n",
       "    <tr>\n",
       "      <th>0</th>\n",
       "      <td>0000004127</td>\n",
       "      <td>SWKS</td>\n",
       "      <td>winner</td>\n",
       "      <td>ALPHA INDUSTRIES INC:0000004127:</td>\n",
       "      <td>alpha industries inc</td>\n",
       "      <td>4127</td>\n",
       "    </tr>\n",
       "    <tr>\n",
       "      <th>1</th>\n",
       "      <td>0000005272</td>\n",
       "      <td>AIG</td>\n",
       "      <td>winner</td>\n",
       "      <td>AMERICAN INTERNATIONAL GROUP INC:0000005272:</td>\n",
       "      <td>american international group inc</td>\n",
       "      <td>5272</td>\n",
       "    </tr>\n",
       "    <tr>\n",
       "      <th>2</th>\n",
       "      <td>0000005513</td>\n",
       "      <td>UNM</td>\n",
       "      <td>winner</td>\n",
       "      <td>PROVIDENT COMPANIES INC /DE/:0000005513:</td>\n",
       "      <td>provident companies inc /de/</td>\n",
       "      <td>5513</td>\n",
       "    </tr>\n",
       "    <tr>\n",
       "      <th>3</th>\n",
       "      <td>0000006951</td>\n",
       "      <td>AMAT</td>\n",
       "      <td>winner</td>\n",
       "      <td>APPLIED MATERIALS INC /DE:0000006951:</td>\n",
       "      <td>applied materials inc /de</td>\n",
       "      <td>6951</td>\n",
       "    </tr>\n",
       "    <tr>\n",
       "      <th>4</th>\n",
       "      <td>0000008818</td>\n",
       "      <td>AVY</td>\n",
       "      <td>winner</td>\n",
       "      <td>AVERY DENNISON CORP:0000008818:</td>\n",
       "      <td>avery dennison corp</td>\n",
       "      <td>8818</td>\n",
       "    </tr>\n",
       "    <tr>\n",
       "      <th>5</th>\n",
       "      <td>0000009389</td>\n",
       "      <td>BLL</td>\n",
       "      <td>winner</td>\n",
       "      <td>BALL CORP:0000009389:</td>\n",
       "      <td>ball corp</td>\n",
       "      <td>9389</td>\n",
       "    </tr>\n",
       "    <tr>\n",
       "      <th>6</th>\n",
       "      <td>0000009892</td>\n",
       "      <td>BCR</td>\n",
       "      <td>winner</td>\n",
       "      <td>BARD C R INC /NJ/:0000009892:</td>\n",
       "      <td>bard c r inc /nj/</td>\n",
       "      <td>9892</td>\n",
       "    </tr>\n",
       "    <tr>\n",
       "      <th>7</th>\n",
       "      <td>0000010795</td>\n",
       "      <td>BDX</td>\n",
       "      <td>winner</td>\n",
       "      <td>BECTON DICKINSON &amp; CO:0000010795:</td>\n",
       "      <td>becton dickinson &amp; co</td>\n",
       "      <td>10795</td>\n",
       "    </tr>\n",
       "    <tr>\n",
       "      <th>8</th>\n",
       "      <td>0000012927</td>\n",
       "      <td>BA</td>\n",
       "      <td>winner</td>\n",
       "      <td>BOEING CO:0000012927:</td>\n",
       "      <td>boeing co</td>\n",
       "      <td>12927</td>\n",
       "    </tr>\n",
       "    <tr>\n",
       "      <th>9</th>\n",
       "      <td>0000016918</td>\n",
       "      <td>STZ</td>\n",
       "      <td>winner</td>\n",
       "      <td>CANANDAIGUA BRANDS INC:0000016918:</td>\n",
       "      <td>canandaigua brands inc</td>\n",
       "      <td>16918</td>\n",
       "    </tr>\n",
       "  </tbody>\n",
       "</table>\n",
       "</div>"
      ],
      "text/plain": [
       "        cik # Ticker  status                                       company  \\\n",
       "0  0000004127   SWKS  winner              ALPHA INDUSTRIES INC:0000004127:   \n",
       "1  0000005272    AIG  winner  AMERICAN INTERNATIONAL GROUP INC:0000005272:   \n",
       "2  0000005513    UNM  winner      PROVIDENT COMPANIES INC /DE/:0000005513:   \n",
       "3  0000006951   AMAT  winner         APPLIED MATERIALS INC /DE:0000006951:   \n",
       "4  0000008818    AVY  winner               AVERY DENNISON CORP:0000008818:   \n",
       "5  0000009389    BLL  winner                         BALL CORP:0000009389:   \n",
       "6  0000009892    BCR  winner                 BARD C R INC /NJ/:0000009892:   \n",
       "7  0000010795    BDX  winner             BECTON DICKINSON & CO:0000010795:   \n",
       "8  0000012927     BA  winner                         BOEING CO:0000012927:   \n",
       "9  0000016918    STZ  winner            CANANDAIGUA BRANDS INC:0000016918:   \n",
       "\n",
       "                               Name  CIK #  \n",
       "0              alpha industries inc   4127  \n",
       "1  american international group inc   5272  \n",
       "2      provident companies inc /de/   5513  \n",
       "3         applied materials inc /de   6951  \n",
       "4               avery dennison corp   8818  \n",
       "5                         ball corp   9389  \n",
       "6                 bard c r inc /nj/   9892  \n",
       "7             becton dickinson & co  10795  \n",
       "8                         boeing co  12927  \n",
       "9            canandaigua brands inc  16918  "
      ]
     },
     "execution_count": 526,
     "metadata": {},
     "output_type": "execute_result"
    }
   ],
   "source": [
    "winner_list_unique.head(10)"
   ]
  },
  {
   "cell_type": "code",
   "execution_count": 527,
   "metadata": {
    "collapsed": false
   },
   "outputs": [
    {
     "data": {
      "text/plain": [
       "0"
      ]
     },
     "execution_count": 527,
     "metadata": {},
     "output_type": "execute_result"
    }
   ],
   "source": [
    "sum(pd.isnull(winner_list_unique[\"cik #\"]))"
   ]
  },
  {
   "cell_type": "code",
   "execution_count": 528,
   "metadata": {
    "collapsed": true
   },
   "outputs": [],
   "source": [
    "winner_list_unique.to_csv(\"winner_list.csv\")"
   ]
  },
  {
   "cell_type": "code",
   "execution_count": 586,
   "metadata": {
    "collapsed": false
   },
   "outputs": [],
   "source": [
    "loser = pd.read_csv(\"losers.csv\")"
   ]
  },
  {
   "cell_type": "code",
   "execution_count": 589,
   "metadata": {
    "collapsed": false
   },
   "outputs": [],
   "source": [
    "loser[\"cik #\"] = loser[\"Ticker\"].apply(lambda x: get_cik(x))"
   ]
  },
  {
   "cell_type": "code",
   "execution_count": 599,
   "metadata": {
    "collapsed": false
   },
   "outputs": [
    {
     "data": {
      "text/html": [
       "<div>\n",
       "<style>\n",
       "    .dataframe thead tr:only-child th {\n",
       "        text-align: right;\n",
       "    }\n",
       "\n",
       "    .dataframe thead th {\n",
       "        text-align: left;\n",
       "    }\n",
       "\n",
       "    .dataframe tbody tr th {\n",
       "        vertical-align: top;\n",
       "    }\n",
       "</style>\n",
       "<table border=\"1\" class=\"dataframe\">\n",
       "  <thead>\n",
       "    <tr style=\"text-align: right;\">\n",
       "      <th></th>\n",
       "      <th>Ticker</th>\n",
       "      <th>cik #</th>\n",
       "      <th>status</th>\n",
       "    </tr>\n",
       "  </thead>\n",
       "  <tbody>\n",
       "    <tr>\n",
       "      <th>0</th>\n",
       "      <td>PPHM</td>\n",
       "      <td>0000704562</td>\n",
       "      <td>loser</td>\n",
       "    </tr>\n",
       "    <tr>\n",
       "      <th>1</th>\n",
       "      <td>CRK</td>\n",
       "      <td>0000023194</td>\n",
       "      <td>loser</td>\n",
       "    </tr>\n",
       "  </tbody>\n",
       "</table>\n",
       "</div>"
      ],
      "text/plain": [
       "  Ticker       cik # status\n",
       "0   PPHM  0000704562  loser\n",
       "1    CRK  0000023194  loser"
      ]
     },
     "execution_count": 599,
     "metadata": {},
     "output_type": "execute_result"
    }
   ],
   "source": [
    "loser.head(2)"
   ]
  },
  {
   "cell_type": "code",
   "execution_count": 600,
   "metadata": {
    "collapsed": false
   },
   "outputs": [
    {
     "data": {
      "text/plain": [
       "(74, 3)"
      ]
     },
     "execution_count": 600,
     "metadata": {},
     "output_type": "execute_result"
    }
   ],
   "source": [
    "loser.shape"
   ]
  },
  {
   "cell_type": "code",
   "execution_count": 601,
   "metadata": {
    "collapsed": false
   },
   "outputs": [],
   "source": [
    "loser = loser[[\"Ticker\",\"cik #\"]]"
   ]
  },
  {
   "cell_type": "code",
   "execution_count": 602,
   "metadata": {
    "collapsed": false
   },
   "outputs": [
    {
     "data": {
      "text/html": [
       "<div>\n",
       "<style>\n",
       "    .dataframe thead tr:only-child th {\n",
       "        text-align: right;\n",
       "    }\n",
       "\n",
       "    .dataframe thead th {\n",
       "        text-align: left;\n",
       "    }\n",
       "\n",
       "    .dataframe tbody tr th {\n",
       "        vertical-align: top;\n",
       "    }\n",
       "</style>\n",
       "<table border=\"1\" class=\"dataframe\">\n",
       "  <thead>\n",
       "    <tr style=\"text-align: right;\">\n",
       "      <th></th>\n",
       "      <th>Ticker</th>\n",
       "      <th>cik #</th>\n",
       "    </tr>\n",
       "  </thead>\n",
       "  <tbody>\n",
       "    <tr>\n",
       "      <th>5</th>\n",
       "      <td>ETAK</td>\n",
       "      <td>NaN</td>\n",
       "    </tr>\n",
       "    <tr>\n",
       "      <th>25</th>\n",
       "      <td>GLF</td>\n",
       "      <td>NaN</td>\n",
       "    </tr>\n",
       "    <tr>\n",
       "      <th>29</th>\n",
       "      <td>CYRX</td>\n",
       "      <td>NaN</td>\n",
       "    </tr>\n",
       "    <tr>\n",
       "      <th>56</th>\n",
       "      <td>GMAN</td>\n",
       "      <td>NaN</td>\n",
       "    </tr>\n",
       "    <tr>\n",
       "      <th>64</th>\n",
       "      <td>AST</td>\n",
       "      <td>NaN</td>\n",
       "    </tr>\n",
       "  </tbody>\n",
       "</table>\n",
       "</div>"
      ],
      "text/plain": [
       "   Ticker cik #\n",
       "5    ETAK   NaN\n",
       "25    GLF   NaN\n",
       "29   CYRX   NaN\n",
       "56   GMAN   NaN\n",
       "64    AST   NaN"
      ]
     },
     "execution_count": 602,
     "metadata": {},
     "output_type": "execute_result"
    }
   ],
   "source": [
    "loser[pd.isnull(loser[\"cik #\"])]"
   ]
  },
  {
   "cell_type": "code",
   "execution_count": 592,
   "metadata": {
    "collapsed": false
   },
   "outputs": [],
   "source": [
    "loser[\"status\"] = \"loser\""
   ]
  },
  {
   "cell_type": "code",
   "execution_count": 593,
   "metadata": {
    "collapsed": true
   },
   "outputs": [],
   "source": [
    "loser_list = pd.merge(loser, cik_nm, how = \"left\", on = \"cik #\")"
   ]
  },
  {
   "cell_type": "code",
   "execution_count": 595,
   "metadata": {
    "collapsed": false
   },
   "outputs": [
    {
     "data": {
      "text/plain": [
       "(125, 6)"
      ]
     },
     "execution_count": 595,
     "metadata": {},
     "output_type": "execute_result"
    }
   ],
   "source": [
    "loser_list.shape"
   ]
  },
  {
   "cell_type": "code",
   "execution_count": 596,
   "metadata": {
    "collapsed": true
   },
   "outputs": [],
   "source": [
    "loser_list_unique = loser_list.groupby('cik #').first().reset_index()"
   ]
  },
  {
   "cell_type": "code",
   "execution_count": 603,
   "metadata": {
    "collapsed": false
   },
   "outputs": [
    {
     "data": {
      "text/plain": [
       "(69, 6)"
      ]
     },
     "execution_count": 603,
     "metadata": {},
     "output_type": "execute_result"
    }
   ],
   "source": [
    "loser_list_unique.shape"
   ]
  },
  {
   "cell_type": "code",
   "execution_count": 604,
   "metadata": {
    "collapsed": true
   },
   "outputs": [],
   "source": [
    "loser_list_unique.to_csv(\"loser_list.csv\")"
   ]
  },
  {
   "cell_type": "code",
   "execution_count": 532,
   "metadata": {
    "collapsed": false
   },
   "outputs": [
    {
     "name": "stdout",
     "output_type": "stream",
     "text": [
      "DataFrame rows: 223\n",
      "0:17:12.964807\n"
     ]
    }
   ],
   "source": [
    "winner_2012_qrt1 = putting_together(2012, 1, \"winner_list.csv\",\"10-K\")"
   ]
  },
  {
   "cell_type": "code",
   "execution_count": 533,
   "metadata": {
    "collapsed": false
   },
   "outputs": [
    {
     "name": "stdout",
     "output_type": "stream",
     "text": [
      "DataFrame rows: 7\n",
      "0:00:26.726145\n"
     ]
    }
   ],
   "source": [
    "winner_2012_qrt2 = putting_together(2012, 2, \"winner_list.csv\",\"10-K\")"
   ]
  },
  {
   "cell_type": "code",
   "execution_count": 534,
   "metadata": {
    "collapsed": false
   },
   "outputs": [
    {
     "name": "stdout",
     "output_type": "stream",
     "text": [
      "DataFrame rows: 14\n",
      "0:00:43.625655\n"
     ]
    }
   ],
   "source": [
    "winner_2012_qrt3 = putting_together(2012, 3, \"winner_list.csv\",\"10-K\")"
   ]
  },
  {
   "cell_type": "code",
   "execution_count": 535,
   "metadata": {
    "collapsed": false
   },
   "outputs": [
    {
     "name": "stdout",
     "output_type": "stream",
     "text": [
      "DataFrame rows: 26\n",
      "0:01:21.470023\n"
     ]
    }
   ],
   "source": [
    "winner_2012_qrt4 = putting_together(2012, 4, \"winner_list.csv\",\"10-K\")"
   ]
  },
  {
   "cell_type": "code",
   "execution_count": 536,
   "metadata": {
    "collapsed": false
   },
   "outputs": [
    {
     "name": "stdout",
     "output_type": "stream",
     "text": [
      "DataFrame rows: 225\n",
      "0:16:22.939345\n",
      "DataFrame rows: 6\n",
      "0:00:22.691643\n",
      "DataFrame rows: 14\n",
      "0:00:46.539903\n",
      "DataFrame rows: 25\n",
      "0:01:15.834512\n"
     ]
    }
   ],
   "source": [
    "winner_2016_qrt1 = putting_together(2016, 1, \"winner_list.csv\",\"10-K\")\n",
    "winner_2016_qrt2 = putting_together(2016, 2, \"winner_list.csv\",\"10-K\")\n",
    "winner_2016_qrt3 = putting_together(2016, 3, \"winner_list.csv\",\"10-K\")\n",
    "winner_2016_qrt4 = putting_together(2016, 4, \"winner_list.csv\",\"10-K\")"
   ]
  },
  {
   "cell_type": "code",
   "execution_count": 545,
   "metadata": {
    "collapsed": false
   },
   "outputs": [],
   "source": [
    "winner_data = [winner_2012_qrt1,winner_2012_qrt2,winner_2012_qrt3,winner_2012_qrt4,\n",
    "              winner_2016_qrt1,winner_2016_qrt2,winner_2016_qrt3,winner_2016_qrt4]"
   ]
  },
  {
   "cell_type": "code",
   "execution_count": 546,
   "metadata": {
    "collapsed": false
   },
   "outputs": [],
   "source": [
    "all_winner_2012_2016 = pd.concat(winner_data, axis=0)"
   ]
  },
  {
   "cell_type": "code",
   "execution_count": 547,
   "metadata": {
    "collapsed": false
   },
   "outputs": [
    {
     "data": {
      "text/plain": [
       "(540, 10)"
      ]
     },
     "execution_count": 547,
     "metadata": {},
     "output_type": "execute_result"
    }
   ],
   "source": [
    "all_winner_2012_2016.shape"
   ]
  },
  {
   "cell_type": "code",
   "execution_count": 676,
   "metadata": {
    "collapsed": true
   },
   "outputs": [],
   "source": [
    "all_winner_2012_2016[\"status\"] = \"winner\""
   ]
  },
  {
   "cell_type": "code",
   "execution_count": 677,
   "metadata": {
    "collapsed": true
   },
   "outputs": [],
   "source": [
    "all_winner_2012_2016.reset_index(drop=True).to_csv(\"all_winner.csv\",index=False)"
   ]
  },
  {
   "cell_type": "code",
   "execution_count": 605,
   "metadata": {
    "collapsed": false
   },
   "outputs": [
    {
     "name": "stdout",
     "output_type": "stream",
     "text": [
      "DataFrame rows: 51\n",
      "0:02:25.707255\n",
      "DataFrame rows: 9\n",
      "0:00:25.012052\n",
      "DataFrame rows: 5\n",
      "0:00:13.404169\n",
      "DataFrame rows: 3\n",
      "0:00:10.673091\n",
      "DataFrame rows: 51\n",
      "0:02:33.571383\n",
      "DataFrame rows: 11\n",
      "0:00:29.530527\n",
      "DataFrame rows: 4\n",
      "0:00:10.880178\n",
      "DataFrame rows: 3\n",
      "0:00:08.960222\n"
     ]
    }
   ],
   "source": [
    "loser_2012_qrt1 = putting_together(2012, 1, \"loser_list.csv\",\"10-K\")\n",
    "loser_2012_qrt2 = putting_together(2012, 2, \"loser_list.csv\",\"10-K\")\n",
    "loser_2012_qrt3 = putting_together(2012, 3, \"loser_list.csv\",\"10-K\")\n",
    "loser_2012_qrt4 = putting_together(2012, 4, \"loser_list.csv\",\"10-K\")\n",
    "loser_2016_qrt1 = putting_together(2016, 1, \"loser_list.csv\",\"10-K\")\n",
    "loser_2016_qrt2 = putting_together(2016, 2, \"loser_list.csv\",\"10-K\")\n",
    "loser_2016_qrt3 = putting_together(2016, 3, \"loser_list.csv\",\"10-K\")\n",
    "loser_2016_qrt4 = putting_together(2016, 4, \"loser_list.csv\",\"10-K\")"
   ]
  },
  {
   "cell_type": "code",
   "execution_count": 606,
   "metadata": {
    "collapsed": true
   },
   "outputs": [],
   "source": [
    "loser_data = [loser_2012_qrt1,loser_2012_qrt2,loser_2012_qrt3,loser_2012_qrt4,\n",
    "              loser_2016_qrt1,loser_2016_qrt2,loser_2016_qrt3,loser_2016_qrt4]"
   ]
  },
  {
   "cell_type": "code",
   "execution_count": 607,
   "metadata": {
    "collapsed": true
   },
   "outputs": [],
   "source": [
    "all_loser_2012_2016 = pd.concat(loser_data, axis=0)"
   ]
  },
  {
   "cell_type": "code",
   "execution_count": 678,
   "metadata": {
    "collapsed": true
   },
   "outputs": [],
   "source": [
    "all_loser_2012_2016[\"status\"] = \"loser\""
   ]
  },
  {
   "cell_type": "code",
   "execution_count": 679,
   "metadata": {
    "collapsed": true
   },
   "outputs": [],
   "source": [
    "all_loser_2012_2016.reset_index(drop=True).to_csv(\"all_loser.csv\",index=False)"
   ]
  },
  {
   "cell_type": "code",
   "execution_count": 616,
   "metadata": {
    "collapsed": true
   },
   "outputs": [],
   "source": [
    "new_winner = pd.read_csv(\"new_winner.csv\")"
   ]
  },
  {
   "cell_type": "code",
   "execution_count": 625,
   "metadata": {
    "collapsed": false
   },
   "outputs": [],
   "source": [
    "new_winner.rename(columns={\"company\": \"Ticker\"},inplace=True)"
   ]
  },
  {
   "cell_type": "code",
   "execution_count": 626,
   "metadata": {
    "collapsed": false
   },
   "outputs": [],
   "source": [
    "new_winner[\"cik #\"] = new_winner[\"Ticker\"].apply(lambda x: get_cik(x))"
   ]
  },
  {
   "cell_type": "code",
   "execution_count": 629,
   "metadata": {
    "collapsed": true
   },
   "outputs": [],
   "source": [
    "new_winner = new_winner[[\"Ticker\",\"cik #\"]]"
   ]
  },
  {
   "cell_type": "code",
   "execution_count": 630,
   "metadata": {
    "collapsed": true
   },
   "outputs": [],
   "source": [
    "new_winner_list = pd.merge(new_winner, cik_nm, how = \"left\", on = \"cik #\")"
   ]
  },
  {
   "cell_type": "code",
   "execution_count": 631,
   "metadata": {
    "collapsed": false
   },
   "outputs": [
    {
     "data": {
      "text/html": [
       "<div>\n",
       "<style>\n",
       "    .dataframe thead tr:only-child th {\n",
       "        text-align: right;\n",
       "    }\n",
       "\n",
       "    .dataframe thead th {\n",
       "        text-align: left;\n",
       "    }\n",
       "\n",
       "    .dataframe tbody tr th {\n",
       "        vertical-align: top;\n",
       "    }\n",
       "</style>\n",
       "<table border=\"1\" class=\"dataframe\">\n",
       "  <thead>\n",
       "    <tr style=\"text-align: right;\">\n",
       "      <th></th>\n",
       "      <th>Ticker</th>\n",
       "      <th>cik #</th>\n",
       "      <th>company</th>\n",
       "      <th>Name</th>\n",
       "      <th>CIK #</th>\n",
       "    </tr>\n",
       "  </thead>\n",
       "  <tbody>\n",
       "    <tr>\n",
       "      <th>0</th>\n",
       "      <td>BMI</td>\n",
       "      <td>0000009092</td>\n",
       "      <td>BADGER METER INC:0000009092:</td>\n",
       "      <td>badger meter inc</td>\n",
       "      <td>9092</td>\n",
       "    </tr>\n",
       "    <tr>\n",
       "      <th>1</th>\n",
       "      <td>EOG</td>\n",
       "      <td>0000821189</td>\n",
       "      <td>ENRON OIL &amp; GAS CO:0000821189:</td>\n",
       "      <td>enron oil &amp; gas co</td>\n",
       "      <td>821189</td>\n",
       "    </tr>\n",
       "  </tbody>\n",
       "</table>\n",
       "</div>"
      ],
      "text/plain": [
       "  Ticker       cik #                         company                Name  \\\n",
       "0    BMI  0000009092    BADGER METER INC:0000009092:    badger meter inc   \n",
       "1    EOG  0000821189  ENRON OIL & GAS CO:0000821189:  enron oil & gas co   \n",
       "\n",
       "    CIK #  \n",
       "0    9092  \n",
       "1  821189  "
      ]
     },
     "execution_count": 631,
     "metadata": {},
     "output_type": "execute_result"
    }
   ],
   "source": [
    "new_winner_list.head(2)"
   ]
  },
  {
   "cell_type": "code",
   "execution_count": 633,
   "metadata": {
    "collapsed": false
   },
   "outputs": [
    {
     "data": {
      "text/plain": [
       "(790, 5)"
      ]
     },
     "execution_count": 633,
     "metadata": {},
     "output_type": "execute_result"
    }
   ],
   "source": [
    "new_winner_list.shape"
   ]
  },
  {
   "cell_type": "code",
   "execution_count": 634,
   "metadata": {
    "collapsed": true
   },
   "outputs": [],
   "source": [
    "new_winner_list_unique = new_winner_list.groupby('cik #').first().reset_index()"
   ]
  },
  {
   "cell_type": "code",
   "execution_count": 638,
   "metadata": {
    "collapsed": false
   },
   "outputs": [
    {
     "data": {
      "text/plain": [
       "(486, 5)"
      ]
     },
     "execution_count": 638,
     "metadata": {},
     "output_type": "execute_result"
    }
   ],
   "source": [
    "new_winner_list_unique.shape"
   ]
  },
  {
   "cell_type": "code",
   "execution_count": 680,
   "metadata": {
    "collapsed": true
   },
   "outputs": [],
   "source": [
    "new_winner_list[\"status\"]=\"winner\""
   ]
  },
  {
   "cell_type": "code",
   "execution_count": 681,
   "metadata": {
    "collapsed": true
   },
   "outputs": [],
   "source": [
    "new_winner_list_unique.to_csv(\"new_winner_list_unique.csv\")"
   ]
  },
  {
   "cell_type": "code",
   "execution_count": 640,
   "metadata": {
    "collapsed": false
   },
   "outputs": [
    {
     "name": "stdout",
     "output_type": "stream",
     "text": [
      "DataFrame rows: 388\n",
      "0:32:51.170469\n"
     ]
    }
   ],
   "source": [
    "new_winner_2012_qrt1 = putting_together(2012, 1, \"new_winner_list_unique.csv\",\"10-K\")"
   ]
  },
  {
   "cell_type": "code",
   "execution_count": 641,
   "metadata": {
    "collapsed": false
   },
   "outputs": [
    {
     "name": "stdout",
     "output_type": "stream",
     "text": [
      "DataFrame rows: 17\n",
      "0:01:01.030428\n"
     ]
    }
   ],
   "source": [
    "new_winner_2012_qrt2 = putting_together(2012, 2, \"new_winner_list_unique.csv\",\"10-K\")"
   ]
  },
  {
   "cell_type": "code",
   "execution_count": 642,
   "metadata": {
    "collapsed": false
   },
   "outputs": [
    {
     "name": "stdout",
     "output_type": "stream",
     "text": [
      "DataFrame rows: 32\n",
      "0:01:41.945213\n",
      "DataFrame rows: 44\n",
      "0:02:25.756305\n"
     ]
    }
   ],
   "source": [
    "new_winner_2012_qrt3 = putting_together(2012, 3, \"new_winner_list_unique.csv\",\"10-K\")\n",
    "new_winner_2012_qrt4 = putting_together(2012, 4, \"new_winner_list_unique.csv\",\"10-K\")"
   ]
  },
  {
   "cell_type": "code",
   "execution_count": 648,
   "metadata": {
    "collapsed": true
   },
   "outputs": [],
   "source": [
    "new_winner_data = [new_winner_2012_qrt1,new_winner_2012_qrt2,new_winner_2012_qrt3,new_winner_2012_qrt4]"
   ]
  },
  {
   "cell_type": "code",
   "execution_count": 649,
   "metadata": {
    "collapsed": true
   },
   "outputs": [],
   "source": [
    "new_winner_2012 = pd.concat(new_winner_data, axis=0)"
   ]
  },
  {
   "cell_type": "code",
   "execution_count": 682,
   "metadata": {
    "collapsed": true
   },
   "outputs": [],
   "source": [
    "new_winner_2012[\"status\"] = \"winner\""
   ]
  },
  {
   "cell_type": "code",
   "execution_count": 683,
   "metadata": {
    "collapsed": false
   },
   "outputs": [],
   "source": [
    "new_winner_2012.reset_index(drop=True).to_csv(\"new_winner_2012.csv\",index=False)"
   ]
  },
  {
   "cell_type": "code",
   "execution_count": 684,
   "metadata": {
    "collapsed": true
   },
   "outputs": [],
   "source": [
    "final_database = [new_winner_2012, all_loser_2012_2016, all_winner_2012_2016]"
   ]
  },
  {
   "cell_type": "code",
   "execution_count": 685,
   "metadata": {
    "collapsed": true
   },
   "outputs": [],
   "source": [
    "final_database_2012_2016 = pd.concat(final_database, axis = 0)"
   ]
  },
  {
   "cell_type": "code",
   "execution_count": 686,
   "metadata": {
    "collapsed": false
   },
   "outputs": [
    {
     "data": {
      "text/plain": [
       "(1158, 11)"
      ]
     },
     "execution_count": 686,
     "metadata": {},
     "output_type": "execute_result"
    }
   ],
   "source": [
    "final_database_2012_2016.shape"
   ]
  },
  {
   "cell_type": "code",
   "execution_count": 687,
   "metadata": {
    "collapsed": false
   },
   "outputs": [
    {
     "data": {
      "text/plain": [
       "Index([u'Name', u'CIK #', u'company', u'report', u'date', u'url', u'full_text',\n",
       "       u'year', u'quarter', u'report_type', u'status'],\n",
       "      dtype='object')"
      ]
     },
     "execution_count": 687,
     "metadata": {},
     "output_type": "execute_result"
    }
   ],
   "source": [
    "final_database_2012_2016.columns"
   ]
  },
  {
   "cell_type": "code",
   "execution_count": 688,
   "metadata": {
    "collapsed": false
   },
   "outputs": [],
   "source": [
    "final_2012 = final_database_2012_2016[final_database_2012_2016[\"year\"]==2012]"
   ]
  },
  {
   "cell_type": "code",
   "execution_count": 689,
   "metadata": {
    "collapsed": false
   },
   "outputs": [
    {
     "data": {
      "text/plain": [
       "(819, 11)"
      ]
     },
     "execution_count": 689,
     "metadata": {},
     "output_type": "execute_result"
    }
   ],
   "source": [
    "final_2012.shape"
   ]
  },
  {
   "cell_type": "code",
   "execution_count": 690,
   "metadata": {
    "collapsed": false
   },
   "outputs": [],
   "source": [
    "final_set = final_2012.groupby('CIK #').first().reset_index()"
   ]
  },
  {
   "cell_type": "code",
   "execution_count": 691,
   "metadata": {
    "collapsed": false
   },
   "outputs": [
    {
     "data": {
      "text/html": [
       "<div>\n",
       "<style>\n",
       "    .dataframe thead tr:only-child th {\n",
       "        text-align: right;\n",
       "    }\n",
       "\n",
       "    .dataframe thead th {\n",
       "        text-align: left;\n",
       "    }\n",
       "\n",
       "    .dataframe tbody tr th {\n",
       "        vertical-align: top;\n",
       "    }\n",
       "</style>\n",
       "<table border=\"1\" class=\"dataframe\">\n",
       "  <thead>\n",
       "    <tr style=\"text-align: right;\">\n",
       "      <th></th>\n",
       "      <th>CIK #</th>\n",
       "      <th>Name</th>\n",
       "      <th>company</th>\n",
       "      <th>report</th>\n",
       "      <th>date</th>\n",
       "      <th>url</th>\n",
       "      <th>full_text</th>\n",
       "      <th>year</th>\n",
       "      <th>quarter</th>\n",
       "      <th>report_type</th>\n",
       "      <th>status</th>\n",
       "    </tr>\n",
       "  </thead>\n",
       "  <tbody>\n",
       "    <tr>\n",
       "      <th>0</th>\n",
       "      <td>1000228</td>\n",
       "      <td>henry schein inc</td>\n",
       "      <td>HENRY SCHEIN INC</td>\n",
       "      <td>10-K</td>\n",
       "      <td>2012-02-15</td>\n",
       "      <td>https://www.sec.gov/Archives/edgar/data/100022...</td>\n",
       "      <td>\\n10-K\\n1\\nthe10k_2011.htm\\nTHE 2011 ANNUAL 10...</td>\n",
       "      <td>2012</td>\n",
       "      <td>1</td>\n",
       "      <td>10-K</td>\n",
       "      <td>winner</td>\n",
       "    </tr>\n",
       "    <tr>\n",
       "      <th>1</th>\n",
       "      <td>1001039</td>\n",
       "      <td>dc holdco inc</td>\n",
       "      <td>WALT DISNEY CO/</td>\n",
       "      <td>10-K</td>\n",
       "      <td>2012-11-21</td>\n",
       "      <td>https://www.sec.gov/Archives/edgar/data/100103...</td>\n",
       "      <td>\\n10-K\\n1\\nd405160d10k.htm\\nFORM 10-K\\n\\n\\nFor...</td>\n",
       "      <td>2012</td>\n",
       "      <td>4</td>\n",
       "      <td>10-K</td>\n",
       "      <td>winner</td>\n",
       "    </tr>\n",
       "    <tr>\n",
       "      <th>2</th>\n",
       "      <td>1001316</td>\n",
       "      <td>atlantic pharmaceuticals inc</td>\n",
       "      <td>MANHATTAN PHARMACEUTICALS INC</td>\n",
       "      <td>10-K</td>\n",
       "      <td>2012-03-14</td>\n",
       "      <td>https://www.sec.gov/Archives/edgar/data/100131...</td>\n",
       "      <td>\\n10-K\\n1\\nv305275_10k.htm\\nFORM 10-K\\n\\n\\n\\n\\...</td>\n",
       "      <td>2012</td>\n",
       "      <td>1</td>\n",
       "      <td>10-K</td>\n",
       "      <td>winner</td>\n",
       "    </tr>\n",
       "    <tr>\n",
       "      <th>3</th>\n",
       "      <td>100493</td>\n",
       "      <td>tyson foods inc</td>\n",
       "      <td>TYSON FOODS INC</td>\n",
       "      <td>10-K</td>\n",
       "      <td>2012-11-19</td>\n",
       "      <td>https://www.sec.gov/Archives/edgar/data/100493...</td>\n",
       "      <td>\\n10-K\\n1\\ntsn2012q410k.htm\\nFORM 10-K\\n\\n\\n\\n...</td>\n",
       "      <td>2012</td>\n",
       "      <td>4</td>\n",
       "      <td>10-K</td>\n",
       "      <td>winner</td>\n",
       "    </tr>\n",
       "    <tr>\n",
       "      <th>4</th>\n",
       "      <td>100517</td>\n",
       "      <td>ual corp /de/</td>\n",
       "      <td>United Continental Holdings, Inc.</td>\n",
       "      <td>10-K</td>\n",
       "      <td>2012-02-22</td>\n",
       "      <td>https://www.sec.gov/Archives/edgar/data/100517...</td>\n",
       "      <td>\\n10-K\\n1\\nd260625d10k.htm\\nFORM 10-K\\n\\n\\nFor...</td>\n",
       "      <td>2012</td>\n",
       "      <td>1</td>\n",
       "      <td>10-K</td>\n",
       "      <td>winner</td>\n",
       "    </tr>\n",
       "    <tr>\n",
       "      <th>5</th>\n",
       "      <td>1005201</td>\n",
       "      <td>depomed inc</td>\n",
       "      <td>DEPOMED INC</td>\n",
       "      <td>10-K</td>\n",
       "      <td>2012-03-08</td>\n",
       "      <td>https://www.sec.gov/Archives/edgar/data/100520...</td>\n",
       "      <td>\\n10-K\\n1\\na2207810z10-k.htm\\n10-K\\n\\n\\n\\n\\n\\n...</td>\n",
       "      <td>2012</td>\n",
       "      <td>1</td>\n",
       "      <td>10-K</td>\n",
       "      <td>winner</td>\n",
       "    </tr>\n",
       "    <tr>\n",
       "      <th>6</th>\n",
       "      <td>1005229</td>\n",
       "      <td>columbus mckinnon corp</td>\n",
       "      <td>COLUMBUS MCKINNON CORP</td>\n",
       "      <td>10-K</td>\n",
       "      <td>2012-05-30</td>\n",
       "      <td>https://www.sec.gov/Archives/edgar/data/100522...</td>\n",
       "      <td>\\n10-K\\n1\\nform10k.htm\\nCOLUMBUS MCKINNON CORP...</td>\n",
       "      <td>2012</td>\n",
       "      <td>2</td>\n",
       "      <td>10-K</td>\n",
       "      <td>winner</td>\n",
       "    </tr>\n",
       "    <tr>\n",
       "      <th>7</th>\n",
       "      <td>1005757</td>\n",
       "      <td>csg systems international inc</td>\n",
       "      <td>CSG SYSTEMS INTERNATIONAL INC</td>\n",
       "      <td>10-K</td>\n",
       "      <td>2012-03-15</td>\n",
       "      <td>https://www.sec.gov/Archives/edgar/data/100575...</td>\n",
       "      <td>\\n10-K\\n1\\nd280614d10k.htm\\nFORM 10-K\\n\\n\\nFOR...</td>\n",
       "      <td>2012</td>\n",
       "      <td>1</td>\n",
       "      <td>10-K</td>\n",
       "      <td>winner</td>\n",
       "    </tr>\n",
       "    <tr>\n",
       "      <th>8</th>\n",
       "      <td>1005817</td>\n",
       "      <td>tompkins county trustco inc</td>\n",
       "      <td>TOMPKINS FINANCIAL CORP</td>\n",
       "      <td>10-K</td>\n",
       "      <td>2012-03-09</td>\n",
       "      <td>https://www.sec.gov/Archives/edgar/data/100581...</td>\n",
       "      <td>\\n10-K\\n1\\ntompkins-10k_123111.htm\\nANNUAL REP...</td>\n",
       "      <td>2012</td>\n",
       "      <td>1</td>\n",
       "      <td>10-K</td>\n",
       "      <td>winner</td>\n",
       "    </tr>\n",
       "    <tr>\n",
       "      <th>9</th>\n",
       "      <td>1009626</td>\n",
       "      <td>brocade communications systems inc</td>\n",
       "      <td>BROCADE COMMUNICATIONS SYSTEMS INC</td>\n",
       "      <td>10-K</td>\n",
       "      <td>2012-12-14</td>\n",
       "      <td>https://www.sec.gov/Archives/edgar/data/100962...</td>\n",
       "      <td>\\n10-K\\n1\\nbrcd-10kxfy12xdoc.htm\\n10-K\\n\\n\\n\\n...</td>\n",
       "      <td>2012</td>\n",
       "      <td>4</td>\n",
       "      <td>10-K</td>\n",
       "      <td>winner</td>\n",
       "    </tr>\n",
       "    <tr>\n",
       "      <th>10</th>\n",
       "      <td>1011006</td>\n",
       "      <td>yahoo inc</td>\n",
       "      <td>YAHOO INC</td>\n",
       "      <td>10-K</td>\n",
       "      <td>2012-02-29</td>\n",
       "      <td>https://www.sec.gov/Archives/edgar/data/101100...</td>\n",
       "      <td>\\n10-K\\n1\\nd258337d10k.htm\\nANNUAL REPORT ON F...</td>\n",
       "      <td>2012</td>\n",
       "      <td>1</td>\n",
       "      <td>10-K</td>\n",
       "      <td>winner</td>\n",
       "    </tr>\n",
       "    <tr>\n",
       "      <th>11</th>\n",
       "      <td>1012100</td>\n",
       "      <td>grace holding inc</td>\n",
       "      <td>SEALED AIR CORP/DE</td>\n",
       "      <td>10-K</td>\n",
       "      <td>2012-02-29</td>\n",
       "      <td>https://www.sec.gov/Archives/edgar/data/101210...</td>\n",
       "      <td>\\n10-K\\n1\\nd268456d10k.htm\\nFORM 10-K\\n\\n\\nFor...</td>\n",
       "      <td>2012</td>\n",
       "      <td>1</td>\n",
       "      <td>10-K</td>\n",
       "      <td>winner</td>\n",
       "    </tr>\n",
       "    <tr>\n",
       "      <th>12</th>\n",
       "      <td>1012771</td>\n",
       "      <td>fbl financial group inc</td>\n",
       "      <td>FBL FINANCIAL GROUP INC</td>\n",
       "      <td>10-K</td>\n",
       "      <td>2012-02-17</td>\n",
       "      <td>https://www.sec.gov/Archives/edgar/data/101277...</td>\n",
       "      <td>\\n10-K\\n1\\nfbl10k2011.htm\\n\\n\\n\\n\\n\\n\\nFBL 10K...</td>\n",
       "      <td>2012</td>\n",
       "      <td>1</td>\n",
       "      <td>10-K</td>\n",
       "      <td>winner</td>\n",
       "    </tr>\n",
       "    <tr>\n",
       "      <th>13</th>\n",
       "      <td>1014473</td>\n",
       "      <td>verisign inc/ca</td>\n",
       "      <td>VERISIGN INC/CA</td>\n",
       "      <td>10-K</td>\n",
       "      <td>2012-02-24</td>\n",
       "      <td>https://www.sec.gov/Archives/edgar/data/101447...</td>\n",
       "      <td>\\n10-K\\n1\\nd296041d10k.htm\\nFORM 10-K\\n\\n\\nFor...</td>\n",
       "      <td>2012</td>\n",
       "      <td>1</td>\n",
       "      <td>10-K</td>\n",
       "      <td>winner</td>\n",
       "    </tr>\n",
       "    <tr>\n",
       "      <th>14</th>\n",
       "      <td>1015328</td>\n",
       "      <td>wintrust financial corp</td>\n",
       "      <td>WINTRUST FINANCIAL CORP</td>\n",
       "      <td>10-K</td>\n",
       "      <td>2012-02-29</td>\n",
       "      <td>https://www.sec.gov/Archives/edgar/data/101532...</td>\n",
       "      <td>\\n10-K\\n1\\nd263794d10k.htm\\nFORM 10-K\\n\\n\\nFor...</td>\n",
       "      <td>2012</td>\n",
       "      <td>1</td>\n",
       "      <td>10-K</td>\n",
       "      <td>winner</td>\n",
       "    </tr>\n",
       "    <tr>\n",
       "      <th>15</th>\n",
       "      <td>1015739</td>\n",
       "      <td>aware inc /ma/</td>\n",
       "      <td>AWARE INC /MA/</td>\n",
       "      <td>10-K</td>\n",
       "      <td>2012-02-21</td>\n",
       "      <td>https://www.sec.gov/Archives/edgar/data/101573...</td>\n",
       "      <td>\\n10-K\\n1\\nt72490_10k.htm\\nFORM 10-K\\n\\n\\n\\nt7...</td>\n",
       "      <td>2012</td>\n",
       "      <td>1</td>\n",
       "      <td>10-K</td>\n",
       "      <td>winner</td>\n",
       "    </tr>\n",
       "    <tr>\n",
       "      <th>16</th>\n",
       "      <td>1015780</td>\n",
       "      <td>e trade financial corp</td>\n",
       "      <td>E TRADE FINANCIAL Corp</td>\n",
       "      <td>10-K</td>\n",
       "      <td>2012-02-23</td>\n",
       "      <td>https://www.sec.gov/Archives/edgar/data/101578...</td>\n",
       "      <td>\\n10-K\\n1\\nd283628d10k.htm\\nFORM 10-K\\n\\n\\nFor...</td>\n",
       "      <td>2012</td>\n",
       "      <td>1</td>\n",
       "      <td>10-K</td>\n",
       "      <td>winner</td>\n",
       "    </tr>\n",
       "    <tr>\n",
       "      <th>17</th>\n",
       "      <td>1017491</td>\n",
       "      <td>apricus biosciences, inc.</td>\n",
       "      <td>APRICUS BIOSCIENCES, INC.</td>\n",
       "      <td>10-K</td>\n",
       "      <td>2012-03-13</td>\n",
       "      <td>https://www.sec.gov/Archives/edgar/data/101749...</td>\n",
       "      <td>\\n10-K\\n1\\nv304648_10k.htm\\n10-K\\n\\n\\n\\n\\n\\n\\n...</td>\n",
       "      <td>2012</td>\n",
       "      <td>1</td>\n",
       "      <td>10-K</td>\n",
       "      <td>loser</td>\n",
       "    </tr>\n",
       "    <tr>\n",
       "      <th>18</th>\n",
       "      <td>1018399</td>\n",
       "      <td>enterprise bancorp inc /ma/</td>\n",
       "      <td>ENTERPRISE BANCORP INC /MA/</td>\n",
       "      <td>10-K</td>\n",
       "      <td>2012-03-15</td>\n",
       "      <td>https://www.sec.gov/Archives/edgar/data/101839...</td>\n",
       "      <td>\\n10-K\\n1\\nebtc1231201110k.htm\\n\\n\\n\\n\\n\\n\\nEB...</td>\n",
       "      <td>2012</td>\n",
       "      <td>1</td>\n",
       "      <td>10-K</td>\n",
       "      <td>winner</td>\n",
       "    </tr>\n",
       "    <tr>\n",
       "      <th>19</th>\n",
       "      <td>1018724</td>\n",
       "      <td>amazon com inc</td>\n",
       "      <td>AMAZON COM INC</td>\n",
       "      <td>10-K</td>\n",
       "      <td>2012-02-01</td>\n",
       "      <td>https://www.sec.gov/Archives/edgar/data/101872...</td>\n",
       "      <td>\\n10-K\\n1\\nd269317d10k.htm\\nFORM 10-K\\n\\n\\nFOR...</td>\n",
       "      <td>2012</td>\n",
       "      <td>1</td>\n",
       "      <td>10-K</td>\n",
       "      <td>winner</td>\n",
       "    </tr>\n",
       "    <tr>\n",
       "      <th>20</th>\n",
       "      <td>1018840</td>\n",
       "      <td>abercrombie &amp; fitch co /de/</td>\n",
       "      <td>ABERCROMBIE &amp; FITCH CO /DE/</td>\n",
       "      <td>10-K</td>\n",
       "      <td>2012-03-27</td>\n",
       "      <td>https://www.sec.gov/Archives/edgar/data/101884...</td>\n",
       "      <td>\\n10-K\\n1\\nd284845d10k.htm\\nFORM 10-K\\n\\n\\nFor...</td>\n",
       "      <td>2012</td>\n",
       "      <td>1</td>\n",
       "      <td>10-K</td>\n",
       "      <td>loser</td>\n",
       "    </tr>\n",
       "    <tr>\n",
       "      <th>21</th>\n",
       "      <td>1019671</td>\n",
       "      <td>seachange international inc</td>\n",
       "      <td>SEACHANGE INTERNATIONAL INC</td>\n",
       "      <td>10-K</td>\n",
       "      <td>2012-04-05</td>\n",
       "      <td>https://www.sec.gov/Archives/edgar/data/101967...</td>\n",
       "      <td>\\n10-K\\n1\\nv308376_10k.htm\\nFORM 10-K\\n\\n\\n\\n\\...</td>\n",
       "      <td>2012</td>\n",
       "      <td>2</td>\n",
       "      <td>10-K</td>\n",
       "      <td>loser</td>\n",
       "    </tr>\n",
       "    <tr>\n",
       "      <th>22</th>\n",
       "      <td>1019849</td>\n",
       "      <td>penske automotive group, inc.</td>\n",
       "      <td>PENSKE AUTOMOTIVE GROUP, INC.</td>\n",
       "      <td>10-K</td>\n",
       "      <td>2012-02-24</td>\n",
       "      <td>https://www.sec.gov/Archives/edgar/data/101984...</td>\n",
       "      <td>\\n10-K\\n1\\nd263679d10k.htm\\nFORM 10-K\\n\\n\\nFor...</td>\n",
       "      <td>2012</td>\n",
       "      <td>1</td>\n",
       "      <td>10-K</td>\n",
       "      <td>winner</td>\n",
       "    </tr>\n",
       "    <tr>\n",
       "      <th>23</th>\n",
       "      <td>102212</td>\n",
       "      <td>univest corp of pennsylvania</td>\n",
       "      <td>UNIVEST CORP OF PENNSYLVANIA</td>\n",
       "      <td>10-K</td>\n",
       "      <td>2012-03-02</td>\n",
       "      <td>https://www.sec.gov/Archives/edgar/data/102212...</td>\n",
       "      <td>\\n10-K\\n1\\nc25955e10vk.htm\\nFORM 10-K\\n\\n\\n\\ne...</td>\n",
       "      <td>2012</td>\n",
       "      <td>1</td>\n",
       "      <td>10-K</td>\n",
       "      <td>winner</td>\n",
       "    </tr>\n",
       "    <tr>\n",
       "      <th>24</th>\n",
       "      <td>1023731</td>\n",
       "      <td>8x8 inc /de/</td>\n",
       "      <td>8X8 INC /DE/</td>\n",
       "      <td>10-K</td>\n",
       "      <td>2012-05-24</td>\n",
       "      <td>https://www.sec.gov/Archives/edgar/data/102373...</td>\n",
       "      <td>\\n10-K\\n1\\nbody10k.htm\\n10-K\\n\\n\\n\\nMarch 31 2...</td>\n",
       "      <td>2012</td>\n",
       "      <td>2</td>\n",
       "      <td>10-K</td>\n",
       "      <td>winner</td>\n",
       "    </tr>\n",
       "    <tr>\n",
       "      <th>25</th>\n",
       "      <td>1028954</td>\n",
       "      <td>sussex bancorp</td>\n",
       "      <td>SUSSEX BANCORP</td>\n",
       "      <td>10-K</td>\n",
       "      <td>2012-03-23</td>\n",
       "      <td>https://www.sec.gov/Archives/edgar/data/102895...</td>\n",
       "      <td>\\n10-K\\n1\\nv306079_10k.htm\\nANNUAL REPORT FORM...</td>\n",
       "      <td>2012</td>\n",
       "      <td>1</td>\n",
       "      <td>10-K</td>\n",
       "      <td>winner</td>\n",
       "    </tr>\n",
       "    <tr>\n",
       "      <th>26</th>\n",
       "      <td>1029142</td>\n",
       "      <td>dynavax technologies corp</td>\n",
       "      <td>DYNAVAX TECHNOLOGIES CORP</td>\n",
       "      <td>10-K</td>\n",
       "      <td>2012-03-12</td>\n",
       "      <td>https://www.sec.gov/Archives/edgar/data/102914...</td>\n",
       "      <td>\\n10-K\\n1\\nd274776d10k.htm\\nFORM 10-K\\n\\n\\nFor...</td>\n",
       "      <td>2012</td>\n",
       "      <td>1</td>\n",
       "      <td>10-K</td>\n",
       "      <td>loser</td>\n",
       "    </tr>\n",
       "    <tr>\n",
       "      <th>27</th>\n",
       "      <td>1034842</td>\n",
       "      <td>rigel pharmaceuticals inc</td>\n",
       "      <td>RIGEL PHARMACEUTICALS INC</td>\n",
       "      <td>10-K</td>\n",
       "      <td>2012-03-06</td>\n",
       "      <td>https://www.sec.gov/Archives/edgar/data/103484...</td>\n",
       "      <td>\\n10-K\\n1\\na2207753z10-k.htm\\n10-K\\n\\n\\n\\n\\n\\n...</td>\n",
       "      <td>2012</td>\n",
       "      <td>1</td>\n",
       "      <td>10-K</td>\n",
       "      <td>loser</td>\n",
       "    </tr>\n",
       "    <tr>\n",
       "      <th>28</th>\n",
       "      <td>1035002</td>\n",
       "      <td>valero energy corp/tx</td>\n",
       "      <td>VALERO ENERGY CORP/TX</td>\n",
       "      <td>10-K</td>\n",
       "      <td>2012-02-24</td>\n",
       "      <td>https://www.sec.gov/Archives/edgar/data/103500...</td>\n",
       "      <td>\\n10-K\\n1\\nvlo12311110k.htm\\n2011 VALERO ENERG...</td>\n",
       "      <td>2012</td>\n",
       "      <td>1</td>\n",
       "      <td>10-K</td>\n",
       "      <td>winner</td>\n",
       "    </tr>\n",
       "    <tr>\n",
       "      <th>29</th>\n",
       "      <td>1038133</td>\n",
       "      <td>heska corp</td>\n",
       "      <td>HESKA CORP</td>\n",
       "      <td>10-K</td>\n",
       "      <td>2012-02-28</td>\n",
       "      <td>https://www.sec.gov/Archives/edgar/data/103813...</td>\n",
       "      <td>\\n10-K\\n1\\nd305286d10k.htm\\nFORM 10-K\\n\\n\\nFOR...</td>\n",
       "      <td>2012</td>\n",
       "      <td>1</td>\n",
       "      <td>10-K</td>\n",
       "      <td>winner</td>\n",
       "    </tr>\n",
       "    <tr>\n",
       "      <th>...</th>\n",
       "      <td>...</td>\n",
       "      <td>...</td>\n",
       "      <td>...</td>\n",
       "      <td>...</td>\n",
       "      <td>...</td>\n",
       "      <td>...</td>\n",
       "      <td>...</td>\n",
       "      <td>...</td>\n",
       "      <td>...</td>\n",
       "      <td>...</td>\n",
       "      <td>...</td>\n",
       "    </tr>\n",
       "    <tr>\n",
       "      <th>518</th>\n",
       "      <td>920760</td>\n",
       "      <td>lennar corp /new/</td>\n",
       "      <td>LENNAR CORP /NEW/</td>\n",
       "      <td>10-K</td>\n",
       "      <td>2012-01-30</td>\n",
       "      <td>https://www.sec.gov/Archives/edgar/data/920760...</td>\n",
       "      <td>\\n10-K\\n1\\nd257946d10k.htm\\nFORM 10-K\\n\\n\\nFor...</td>\n",
       "      <td>2012</td>\n",
       "      <td>1</td>\n",
       "      <td>10-K</td>\n",
       "      <td>winner</td>\n",
       "    </tr>\n",
       "    <tr>\n",
       "      <th>519</th>\n",
       "      <td>921825</td>\n",
       "      <td>first industrial realty trust inc</td>\n",
       "      <td>FIRST INDUSTRIAL REALTY TRUST INC</td>\n",
       "      <td>10-K</td>\n",
       "      <td>2012-02-29</td>\n",
       "      <td>https://www.sec.gov/Archives/edgar/data/921825...</td>\n",
       "      <td>\\n10-K\\n1\\nd270035d10k.htm\\n10-K\\n\\n\\n10-K\\n\\n...</td>\n",
       "      <td>2012</td>\n",
       "      <td>1</td>\n",
       "      <td>10-K</td>\n",
       "      <td>winner</td>\n",
       "    </tr>\n",
       "    <tr>\n",
       "      <th>520</th>\n",
       "      <td>922521</td>\n",
       "      <td>falconstor software inc</td>\n",
       "      <td>FALCONSTOR SOFTWARE INC</td>\n",
       "      <td>10-K</td>\n",
       "      <td>2012-03-13</td>\n",
       "      <td>https://www.sec.gov/Archives/edgar/data/922521...</td>\n",
       "      <td>\\n10-K\\n1\\nform10k04673_12312011.htm\\n\\n\\n\\nfo...</td>\n",
       "      <td>2012</td>\n",
       "      <td>1</td>\n",
       "      <td>10-K</td>\n",
       "      <td>loser</td>\n",
       "    </tr>\n",
       "    <tr>\n",
       "      <th>521</th>\n",
       "      <td>923796</td>\n",
       "      <td>geo group inc</td>\n",
       "      <td>GEO GROUP INC</td>\n",
       "      <td>10-K</td>\n",
       "      <td>2012-03-01</td>\n",
       "      <td>https://www.sec.gov/Archives/edgar/data/923796...</td>\n",
       "      <td>\\n10-K\\n1\\nd259590d10k.htm\\n10-K\\n\\n\\n10-K\\n\\n...</td>\n",
       "      <td>2012</td>\n",
       "      <td>1</td>\n",
       "      <td>10-K</td>\n",
       "      <td>winner</td>\n",
       "    </tr>\n",
       "    <tr>\n",
       "      <th>522</th>\n",
       "      <td>92380</td>\n",
       "      <td>southwest airlines co</td>\n",
       "      <td>SOUTHWEST AIRLINES CO</td>\n",
       "      <td>10-K</td>\n",
       "      <td>2012-02-09</td>\n",
       "      <td>https://www.sec.gov/Archives/edgar/data/92380/...</td>\n",
       "      <td>\\n10-K\\n1\\nd293991d10k.htm\\nFORM 10-K\\n\\n\\nFor...</td>\n",
       "      <td>2012</td>\n",
       "      <td>1</td>\n",
       "      <td>10-K</td>\n",
       "      <td>winner</td>\n",
       "    </tr>\n",
       "    <tr>\n",
       "      <th>523</th>\n",
       "      <td>926423</td>\n",
       "      <td>mitcham industries inc</td>\n",
       "      <td>MITCHAM INDUSTRIES INC</td>\n",
       "      <td>10-K</td>\n",
       "      <td>2012-04-04</td>\n",
       "      <td>https://www.sec.gov/Archives/edgar/data/926423...</td>\n",
       "      <td>\\n10-K\\n1\\nd300144d10k.htm\\nFORM 10-K\\n\\n\\nFor...</td>\n",
       "      <td>2012</td>\n",
       "      <td>2</td>\n",
       "      <td>10-K</td>\n",
       "      <td>loser</td>\n",
       "    </tr>\n",
       "    <tr>\n",
       "      <th>524</th>\n",
       "      <td>927628</td>\n",
       "      <td>capital one financial corp</td>\n",
       "      <td>CAPITAL ONE FINANCIAL CORP</td>\n",
       "      <td>10-K</td>\n",
       "      <td>2012-02-29</td>\n",
       "      <td>https://www.sec.gov/Archives/edgar/data/927628...</td>\n",
       "      <td>\\n10-K\\n1\\nd258810d10k.htm\\nFORM 10-K\\n\\n\\nFor...</td>\n",
       "      <td>2012</td>\n",
       "      <td>1</td>\n",
       "      <td>10-K</td>\n",
       "      <td>winner</td>\n",
       "    </tr>\n",
       "    <tr>\n",
       "      <th>525</th>\n",
       "      <td>928022</td>\n",
       "      <td>callon petroleum co</td>\n",
       "      <td>CALLON PETROLEUM CO</td>\n",
       "      <td>10-K</td>\n",
       "      <td>2012-03-15</td>\n",
       "      <td>https://www.sec.gov/Archives/edgar/data/928022...</td>\n",
       "      <td>\\n10-K\\n1\\ncpe-20111231x10k.htm\\nCALLON PETROL...</td>\n",
       "      <td>2012</td>\n",
       "      <td>1</td>\n",
       "      <td>10-K</td>\n",
       "      <td>winner</td>\n",
       "    </tr>\n",
       "    <tr>\n",
       "      <th>526</th>\n",
       "      <td>928658</td>\n",
       "      <td>covenant transport inc</td>\n",
       "      <td>COVENANT TRANSPORTATION GROUP INC</td>\n",
       "      <td>10-K</td>\n",
       "      <td>2012-03-09</td>\n",
       "      <td>https://www.sec.gov/Archives/edgar/data/928658...</td>\n",
       "      <td>\\n10-K\\n1\\nform10k.htm\\nFORM 10-K (YEAR ENDED ...</td>\n",
       "      <td>2012</td>\n",
       "      <td>1</td>\n",
       "      <td>10-K</td>\n",
       "      <td>winner</td>\n",
       "    </tr>\n",
       "    <tr>\n",
       "      <th>527</th>\n",
       "      <td>931584</td>\n",
       "      <td>universal stainless &amp; alloy products inc</td>\n",
       "      <td>UNIVERSAL STAINLESS &amp; ALLOY PRODUCTS INC</td>\n",
       "      <td>10-K</td>\n",
       "      <td>2012-03-06</td>\n",
       "      <td>https://www.sec.gov/Archives/edgar/data/931584...</td>\n",
       "      <td>\\n10-K\\n1\\nd272220d10k.htm\\nFORM 10-K\\n\\n\\nFor...</td>\n",
       "      <td>2012</td>\n",
       "      <td>1</td>\n",
       "      <td>10-K</td>\n",
       "      <td>loser</td>\n",
       "    </tr>\n",
       "    <tr>\n",
       "      <th>528</th>\n",
       "      <td>9326</td>\n",
       "      <td>balchem corp</td>\n",
       "      <td>BALCHEM CORP</td>\n",
       "      <td>10-K</td>\n",
       "      <td>2012-02-29</td>\n",
       "      <td>https://www.sec.gov/Archives/edgar/data/9326/0...</td>\n",
       "      <td>\\n10-K\\n1\\nform10k.htm\\nBALCHEM CORPORATION 10...</td>\n",
       "      <td>2012</td>\n",
       "      <td>1</td>\n",
       "      <td>10-K</td>\n",
       "      <td>winner</td>\n",
       "    </tr>\n",
       "    <tr>\n",
       "      <th>529</th>\n",
       "      <td>932696</td>\n",
       "      <td>insight enterprises inc</td>\n",
       "      <td>INSIGHT ENTERPRISES INC</td>\n",
       "      <td>10-K</td>\n",
       "      <td>2012-02-24</td>\n",
       "      <td>https://www.sec.gov/Archives/edgar/data/932696...</td>\n",
       "      <td>\\n10-K\\n1\\nc25148e10vk.htm\\nFORM 10-K\\n\\n\\n\\ne...</td>\n",
       "      <td>2012</td>\n",
       "      <td>1</td>\n",
       "      <td>10-K</td>\n",
       "      <td>winner</td>\n",
       "    </tr>\n",
       "    <tr>\n",
       "      <th>530</th>\n",
       "      <td>93389</td>\n",
       "      <td>standard motor products inc</td>\n",
       "      <td>STANDARD MOTOR PRODUCTS INC</td>\n",
       "      <td>10-K</td>\n",
       "      <td>2012-03-09</td>\n",
       "      <td>https://www.sec.gov/Archives/edgar/data/93389/...</td>\n",
       "      <td>\\n10-K\\n1\\nform10k.htm\\nSTANDARD MOTOR PRODUCT...</td>\n",
       "      <td>2012</td>\n",
       "      <td>1</td>\n",
       "      <td>10-K</td>\n",
       "      <td>winner</td>\n",
       "    </tr>\n",
       "    <tr>\n",
       "      <th>531</th>\n",
       "      <td>937556</td>\n",
       "      <td>masimo corp</td>\n",
       "      <td>MASIMO CORP</td>\n",
       "      <td>10-K</td>\n",
       "      <td>2012-02-17</td>\n",
       "      <td>https://www.sec.gov/Archives/edgar/data/937556...</td>\n",
       "      <td>\\n10-K\\n1\\nd260251d10k.htm\\nFORM 10-K\\n\\n\\nFor...</td>\n",
       "      <td>2012</td>\n",
       "      <td>1</td>\n",
       "      <td>10-K</td>\n",
       "      <td>winner</td>\n",
       "    </tr>\n",
       "    <tr>\n",
       "      <th>532</th>\n",
       "      <td>937941</td>\n",
       "      <td>creative computers inc</td>\n",
       "      <td>PC MALL INC</td>\n",
       "      <td>10-K</td>\n",
       "      <td>2012-03-15</td>\n",
       "      <td>https://www.sec.gov/Archives/edgar/data/937941...</td>\n",
       "      <td>\\n10-K\\n1\\na12-1308_110k.htm\\n10-K\\n\\n\\n\\n\\n\\n...</td>\n",
       "      <td>2012</td>\n",
       "      <td>1</td>\n",
       "      <td>10-K</td>\n",
       "      <td>winner</td>\n",
       "    </tr>\n",
       "    <tr>\n",
       "      <th>533</th>\n",
       "      <td>9389</td>\n",
       "      <td>ball corp</td>\n",
       "      <td>BALL CORP</td>\n",
       "      <td>10-K</td>\n",
       "      <td>2012-02-22</td>\n",
       "      <td>https://www.sec.gov/Archives/edgar/data/9389/0...</td>\n",
       "      <td>\\n10-K\\n1\\na12-2233_110k.htm\\n10-K\\n\\n\\n\\n\\n\\n...</td>\n",
       "      <td>2012</td>\n",
       "      <td>1</td>\n",
       "      <td>10-K</td>\n",
       "      <td>winner</td>\n",
       "    </tr>\n",
       "    <tr>\n",
       "      <th>534</th>\n",
       "      <td>939767</td>\n",
       "      <td>exelixis inc</td>\n",
       "      <td>EXELIXIS INC</td>\n",
       "      <td>10-K</td>\n",
       "      <td>2012-02-22</td>\n",
       "      <td>https://www.sec.gov/Archives/edgar/data/939767...</td>\n",
       "      <td>\\n10-K\\n1\\nd246328d10k.htm\\nFORM 10-K\\n\\n\\nFor...</td>\n",
       "      <td>2012</td>\n",
       "      <td>1</td>\n",
       "      <td>10-K</td>\n",
       "      <td>winner</td>\n",
       "    </tr>\n",
       "    <tr>\n",
       "      <th>535</th>\n",
       "      <td>943819</td>\n",
       "      <td>resmed inc</td>\n",
       "      <td>RESMED INC</td>\n",
       "      <td>10-K</td>\n",
       "      <td>2012-08-14</td>\n",
       "      <td>https://www.sec.gov/Archives/edgar/data/943819...</td>\n",
       "      <td>\\n10-K\\n1\\nd372956d10k.htm\\nFORM 10-K\\n\\n\\nFor...</td>\n",
       "      <td>2012</td>\n",
       "      <td>3</td>\n",
       "      <td>10-K</td>\n",
       "      <td>winner</td>\n",
       "    </tr>\n",
       "    <tr>\n",
       "      <th>536</th>\n",
       "      <td>944148</td>\n",
       "      <td>cbiz, inc.</td>\n",
       "      <td>CBIZ, Inc.</td>\n",
       "      <td>10-K</td>\n",
       "      <td>2012-03-15</td>\n",
       "      <td>https://www.sec.gov/Archives/edgar/data/944148...</td>\n",
       "      <td>\\n10-K\\n1\\nd284802d10k.htm\\nFORM 10-K\\n\\n\\nFor...</td>\n",
       "      <td>2012</td>\n",
       "      <td>1</td>\n",
       "      <td>10-K</td>\n",
       "      <td>winner</td>\n",
       "    </tr>\n",
       "    <tr>\n",
       "      <th>537</th>\n",
       "      <td>944695</td>\n",
       "      <td>allmerica financial corp</td>\n",
       "      <td>HANOVER INSURANCE GROUP, INC.</td>\n",
       "      <td>10-K</td>\n",
       "      <td>2012-02-29</td>\n",
       "      <td>https://www.sec.gov/Archives/edgar/data/944695...</td>\n",
       "      <td>\\n10-K\\n1\\nd262770d10k.htm\\n10-K\\n\\n\\n10-K\\n\\n...</td>\n",
       "      <td>2012</td>\n",
       "      <td>1</td>\n",
       "      <td>10-K</td>\n",
       "      <td>winner</td>\n",
       "    </tr>\n",
       "    <tr>\n",
       "      <th>538</th>\n",
       "      <td>946644</td>\n",
       "      <td>hemispherx biopharma inc</td>\n",
       "      <td>HEMISPHERX BIOPHARMA INC</td>\n",
       "      <td>10-K</td>\n",
       "      <td>2012-03-14</td>\n",
       "      <td>https://www.sec.gov/Archives/edgar/data/946644...</td>\n",
       "      <td>\\n10-K\\n1\\nv304962_10k.htm\\nFORM 10-K\\n\\n\\n\\n\\...</td>\n",
       "      <td>2012</td>\n",
       "      <td>1</td>\n",
       "      <td>10-K</td>\n",
       "      <td>loser</td>\n",
       "    </tr>\n",
       "    <tr>\n",
       "      <th>539</th>\n",
       "      <td>946647</td>\n",
       "      <td>first defiance financial corp</td>\n",
       "      <td>FIRST DEFIANCE FINANCIAL CORP</td>\n",
       "      <td>10-K</td>\n",
       "      <td>2012-03-07</td>\n",
       "      <td>https://www.sec.gov/Archives/edgar/data/946647...</td>\n",
       "      <td>\\n10-K\\n1\\nd261921d10k.htm\\n10-K\\n\\n\\n10-K\\n\\n...</td>\n",
       "      <td>2012</td>\n",
       "      <td>1</td>\n",
       "      <td>10-K</td>\n",
       "      <td>winner</td>\n",
       "    </tr>\n",
       "    <tr>\n",
       "      <th>540</th>\n",
       "      <td>946673</td>\n",
       "      <td>banner corp</td>\n",
       "      <td>BANNER CORP</td>\n",
       "      <td>10-K</td>\n",
       "      <td>2012-03-13</td>\n",
       "      <td>https://www.sec.gov/Archives/edgar/data/946673...</td>\n",
       "      <td>\\n10-K\\n1\\nk123111.htm\\nBANNER CORPORATION FOR...</td>\n",
       "      <td>2012</td>\n",
       "      <td>1</td>\n",
       "      <td>10-K</td>\n",
       "      <td>winner</td>\n",
       "    </tr>\n",
       "    <tr>\n",
       "      <th>541</th>\n",
       "      <td>947484</td>\n",
       "      <td>arch capital group ltd.</td>\n",
       "      <td>ARCH CAPITAL GROUP LTD.</td>\n",
       "      <td>10-K</td>\n",
       "      <td>2012-02-29</td>\n",
       "      <td>https://www.sec.gov/Archives/edgar/data/947484...</td>\n",
       "      <td>\\n10-K\\n1\\na2207402z10-k.htm\\nFORM 10-K\\n\\n\\n\\...</td>\n",
       "      <td>2012</td>\n",
       "      <td>1</td>\n",
       "      <td>10-K</td>\n",
       "      <td>winner</td>\n",
       "    </tr>\n",
       "    <tr>\n",
       "      <th>542</th>\n",
       "      <td>947559</td>\n",
       "      <td>first bancshares inc /ms/</td>\n",
       "      <td>FIRST BANCSHARES INC /MS/</td>\n",
       "      <td>10-K</td>\n",
       "      <td>2012-03-29</td>\n",
       "      <td>https://www.sec.gov/Archives/edgar/data/947559...</td>\n",
       "      <td>\\n10-K\\n1\\nv306740_10k.htm\\nFORM 10-K\\n\\n\\n\\n\\...</td>\n",
       "      <td>2012</td>\n",
       "      <td>1</td>\n",
       "      <td>10-K</td>\n",
       "      <td>winner</td>\n",
       "    </tr>\n",
       "    <tr>\n",
       "      <th>543</th>\n",
       "      <td>949158</td>\n",
       "      <td>cray inc</td>\n",
       "      <td>CRAY INC</td>\n",
       "      <td>10-K</td>\n",
       "      <td>2012-02-27</td>\n",
       "      <td>https://www.sec.gov/Archives/edgar/data/949158...</td>\n",
       "      <td>\\n10-K\\n1\\nd278623d10k.htm\\nFORM 10-K\\n\\n\\nFor...</td>\n",
       "      <td>2012</td>\n",
       "      <td>1</td>\n",
       "      <td>10-K</td>\n",
       "      <td>winner</td>\n",
       "    </tr>\n",
       "    <tr>\n",
       "      <th>544</th>\n",
       "      <td>949428</td>\n",
       "      <td>clean diesel technologies inc</td>\n",
       "      <td>CLEAN DIESEL TECHNOLOGIES INC</td>\n",
       "      <td>10-K</td>\n",
       "      <td>2012-03-29</td>\n",
       "      <td>https://www.sec.gov/Archives/edgar/data/949428...</td>\n",
       "      <td>\\n10-K\\n1\\nd296278d10k.htm\\nFORM 10-K\\n\\n\\nFor...</td>\n",
       "      <td>2012</td>\n",
       "      <td>1</td>\n",
       "      <td>10-K</td>\n",
       "      <td>loser</td>\n",
       "    </tr>\n",
       "    <tr>\n",
       "      <th>545</th>\n",
       "      <td>97476</td>\n",
       "      <td>texas instruments inc</td>\n",
       "      <td>TEXAS INSTRUMENTS INC</td>\n",
       "      <td>10-K</td>\n",
       "      <td>2012-02-24</td>\n",
       "      <td>https://www.sec.gov/Archives/edgar/data/97476/...</td>\n",
       "      <td>\\n10-K\\n1\\ntxn-12312011x10xk.htm\\n\\n\\n\\n\\n\\n\\n...</td>\n",
       "      <td>2012</td>\n",
       "      <td>1</td>\n",
       "      <td>10-K</td>\n",
       "      <td>winner</td>\n",
       "    </tr>\n",
       "    <tr>\n",
       "      <th>546</th>\n",
       "      <td>97745</td>\n",
       "      <td>thermo electron corp</td>\n",
       "      <td>THERMO FISHER SCIENTIFIC INC.</td>\n",
       "      <td>10-K</td>\n",
       "      <td>2012-02-29</td>\n",
       "      <td>https://www.sec.gov/Archives/edgar/data/97745/...</td>\n",
       "      <td>\\n10-K\\n1\\ntmok11.htm\\nTHERMO FISHER SCIENTIFI...</td>\n",
       "      <td>2012</td>\n",
       "      <td>1</td>\n",
       "      <td>10-K</td>\n",
       "      <td>winner</td>\n",
       "    </tr>\n",
       "    <tr>\n",
       "      <th>547</th>\n",
       "      <td>9892</td>\n",
       "      <td>bard c r inc /nj/</td>\n",
       "      <td>BARD C R INC /NJ/</td>\n",
       "      <td>10-K</td>\n",
       "      <td>2012-02-23</td>\n",
       "      <td>https://www.sec.gov/Archives/edgar/data/9892/0...</td>\n",
       "      <td>\\n10-K\\n1\\nd259740d10k.htm\\nFORM 10-K\\n\\n\\nFor...</td>\n",
       "      <td>2012</td>\n",
       "      <td>1</td>\n",
       "      <td>10-K</td>\n",
       "      <td>winner</td>\n",
       "    </tr>\n",
       "  </tbody>\n",
       "</table>\n",
       "<p>548 rows × 11 columns</p>\n",
       "</div>"
      ],
      "text/plain": [
       "       CIK #                                      Name  \\\n",
       "0    1000228                          henry schein inc   \n",
       "1    1001039                             dc holdco inc   \n",
       "2    1001316              atlantic pharmaceuticals inc   \n",
       "3     100493                           tyson foods inc   \n",
       "4     100517                             ual corp /de/   \n",
       "5    1005201                               depomed inc   \n",
       "6    1005229                    columbus mckinnon corp   \n",
       "7    1005757             csg systems international inc   \n",
       "8    1005817               tompkins county trustco inc   \n",
       "9    1009626        brocade communications systems inc   \n",
       "10   1011006                                 yahoo inc   \n",
       "11   1012100                         grace holding inc   \n",
       "12   1012771                   fbl financial group inc   \n",
       "13   1014473                           verisign inc/ca   \n",
       "14   1015328                   wintrust financial corp   \n",
       "15   1015739                            aware inc /ma/   \n",
       "16   1015780                    e trade financial corp   \n",
       "17   1017491                 apricus biosciences, inc.   \n",
       "18   1018399               enterprise bancorp inc /ma/   \n",
       "19   1018724                            amazon com inc   \n",
       "20   1018840               abercrombie & fitch co /de/   \n",
       "21   1019671               seachange international inc   \n",
       "22   1019849             penske automotive group, inc.   \n",
       "23    102212              univest corp of pennsylvania   \n",
       "24   1023731                              8x8 inc /de/   \n",
       "25   1028954                            sussex bancorp   \n",
       "26   1029142                 dynavax technologies corp   \n",
       "27   1034842                 rigel pharmaceuticals inc   \n",
       "28   1035002                     valero energy corp/tx   \n",
       "29   1038133                                heska corp   \n",
       "..       ...                                       ...   \n",
       "518   920760                         lennar corp /new/   \n",
       "519   921825         first industrial realty trust inc   \n",
       "520   922521                   falconstor software inc   \n",
       "521   923796                             geo group inc   \n",
       "522    92380                     southwest airlines co   \n",
       "523   926423                    mitcham industries inc   \n",
       "524   927628                capital one financial corp   \n",
       "525   928022                       callon petroleum co   \n",
       "526   928658                    covenant transport inc   \n",
       "527   931584  universal stainless & alloy products inc   \n",
       "528     9326                              balchem corp   \n",
       "529   932696                   insight enterprises inc   \n",
       "530    93389               standard motor products inc   \n",
       "531   937556                               masimo corp   \n",
       "532   937941                    creative computers inc   \n",
       "533     9389                                 ball corp   \n",
       "534   939767                              exelixis inc   \n",
       "535   943819                                resmed inc   \n",
       "536   944148                                cbiz, inc.   \n",
       "537   944695                  allmerica financial corp   \n",
       "538   946644                  hemispherx biopharma inc   \n",
       "539   946647             first defiance financial corp   \n",
       "540   946673                               banner corp   \n",
       "541   947484                   arch capital group ltd.   \n",
       "542   947559                 first bancshares inc /ms/   \n",
       "543   949158                                  cray inc   \n",
       "544   949428             clean diesel technologies inc   \n",
       "545    97476                     texas instruments inc   \n",
       "546    97745                      thermo electron corp   \n",
       "547     9892                         bard c r inc /nj/   \n",
       "\n",
       "                                      company report       date  \\\n",
       "0                            HENRY SCHEIN INC   10-K 2012-02-15   \n",
       "1                             WALT DISNEY CO/   10-K 2012-11-21   \n",
       "2               MANHATTAN PHARMACEUTICALS INC   10-K 2012-03-14   \n",
       "3                             TYSON FOODS INC   10-K 2012-11-19   \n",
       "4           United Continental Holdings, Inc.   10-K 2012-02-22   \n",
       "5                                 DEPOMED INC   10-K 2012-03-08   \n",
       "6                      COLUMBUS MCKINNON CORP   10-K 2012-05-30   \n",
       "7               CSG SYSTEMS INTERNATIONAL INC   10-K 2012-03-15   \n",
       "8                     TOMPKINS FINANCIAL CORP   10-K 2012-03-09   \n",
       "9          BROCADE COMMUNICATIONS SYSTEMS INC   10-K 2012-12-14   \n",
       "10                                  YAHOO INC   10-K 2012-02-29   \n",
       "11                         SEALED AIR CORP/DE   10-K 2012-02-29   \n",
       "12                    FBL FINANCIAL GROUP INC   10-K 2012-02-17   \n",
       "13                            VERISIGN INC/CA   10-K 2012-02-24   \n",
       "14                    WINTRUST FINANCIAL CORP   10-K 2012-02-29   \n",
       "15                             AWARE INC /MA/   10-K 2012-02-21   \n",
       "16                     E TRADE FINANCIAL Corp   10-K 2012-02-23   \n",
       "17                  APRICUS BIOSCIENCES, INC.   10-K 2012-03-13   \n",
       "18                ENTERPRISE BANCORP INC /MA/   10-K 2012-03-15   \n",
       "19                             AMAZON COM INC   10-K 2012-02-01   \n",
       "20                ABERCROMBIE & FITCH CO /DE/   10-K 2012-03-27   \n",
       "21                SEACHANGE INTERNATIONAL INC   10-K 2012-04-05   \n",
       "22              PENSKE AUTOMOTIVE GROUP, INC.   10-K 2012-02-24   \n",
       "23               UNIVEST CORP OF PENNSYLVANIA   10-K 2012-03-02   \n",
       "24                               8X8 INC /DE/   10-K 2012-05-24   \n",
       "25                             SUSSEX BANCORP   10-K 2012-03-23   \n",
       "26                  DYNAVAX TECHNOLOGIES CORP   10-K 2012-03-12   \n",
       "27                  RIGEL PHARMACEUTICALS INC   10-K 2012-03-06   \n",
       "28                      VALERO ENERGY CORP/TX   10-K 2012-02-24   \n",
       "29                                 HESKA CORP   10-K 2012-02-28   \n",
       "..                                        ...    ...        ...   \n",
       "518                         LENNAR CORP /NEW/   10-K 2012-01-30   \n",
       "519         FIRST INDUSTRIAL REALTY TRUST INC   10-K 2012-02-29   \n",
       "520                   FALCONSTOR SOFTWARE INC   10-K 2012-03-13   \n",
       "521                             GEO GROUP INC   10-K 2012-03-01   \n",
       "522                     SOUTHWEST AIRLINES CO   10-K 2012-02-09   \n",
       "523                    MITCHAM INDUSTRIES INC   10-K 2012-04-04   \n",
       "524                CAPITAL ONE FINANCIAL CORP   10-K 2012-02-29   \n",
       "525                       CALLON PETROLEUM CO   10-K 2012-03-15   \n",
       "526         COVENANT TRANSPORTATION GROUP INC   10-K 2012-03-09   \n",
       "527  UNIVERSAL STAINLESS & ALLOY PRODUCTS INC   10-K 2012-03-06   \n",
       "528                              BALCHEM CORP   10-K 2012-02-29   \n",
       "529                   INSIGHT ENTERPRISES INC   10-K 2012-02-24   \n",
       "530               STANDARD MOTOR PRODUCTS INC   10-K 2012-03-09   \n",
       "531                               MASIMO CORP   10-K 2012-02-17   \n",
       "532                               PC MALL INC   10-K 2012-03-15   \n",
       "533                                 BALL CORP   10-K 2012-02-22   \n",
       "534                              EXELIXIS INC   10-K 2012-02-22   \n",
       "535                                RESMED INC   10-K 2012-08-14   \n",
       "536                                CBIZ, Inc.   10-K 2012-03-15   \n",
       "537             HANOVER INSURANCE GROUP, INC.   10-K 2012-02-29   \n",
       "538                  HEMISPHERX BIOPHARMA INC   10-K 2012-03-14   \n",
       "539             FIRST DEFIANCE FINANCIAL CORP   10-K 2012-03-07   \n",
       "540                               BANNER CORP   10-K 2012-03-13   \n",
       "541                   ARCH CAPITAL GROUP LTD.   10-K 2012-02-29   \n",
       "542                 FIRST BANCSHARES INC /MS/   10-K 2012-03-29   \n",
       "543                                  CRAY INC   10-K 2012-02-27   \n",
       "544             CLEAN DIESEL TECHNOLOGIES INC   10-K 2012-03-29   \n",
       "545                     TEXAS INSTRUMENTS INC   10-K 2012-02-24   \n",
       "546             THERMO FISHER SCIENTIFIC INC.   10-K 2012-02-29   \n",
       "547                         BARD C R INC /NJ/   10-K 2012-02-23   \n",
       "\n",
       "                                                   url  \\\n",
       "0    https://www.sec.gov/Archives/edgar/data/100022...   \n",
       "1    https://www.sec.gov/Archives/edgar/data/100103...   \n",
       "2    https://www.sec.gov/Archives/edgar/data/100131...   \n",
       "3    https://www.sec.gov/Archives/edgar/data/100493...   \n",
       "4    https://www.sec.gov/Archives/edgar/data/100517...   \n",
       "5    https://www.sec.gov/Archives/edgar/data/100520...   \n",
       "6    https://www.sec.gov/Archives/edgar/data/100522...   \n",
       "7    https://www.sec.gov/Archives/edgar/data/100575...   \n",
       "8    https://www.sec.gov/Archives/edgar/data/100581...   \n",
       "9    https://www.sec.gov/Archives/edgar/data/100962...   \n",
       "10   https://www.sec.gov/Archives/edgar/data/101100...   \n",
       "11   https://www.sec.gov/Archives/edgar/data/101210...   \n",
       "12   https://www.sec.gov/Archives/edgar/data/101277...   \n",
       "13   https://www.sec.gov/Archives/edgar/data/101447...   \n",
       "14   https://www.sec.gov/Archives/edgar/data/101532...   \n",
       "15   https://www.sec.gov/Archives/edgar/data/101573...   \n",
       "16   https://www.sec.gov/Archives/edgar/data/101578...   \n",
       "17   https://www.sec.gov/Archives/edgar/data/101749...   \n",
       "18   https://www.sec.gov/Archives/edgar/data/101839...   \n",
       "19   https://www.sec.gov/Archives/edgar/data/101872...   \n",
       "20   https://www.sec.gov/Archives/edgar/data/101884...   \n",
       "21   https://www.sec.gov/Archives/edgar/data/101967...   \n",
       "22   https://www.sec.gov/Archives/edgar/data/101984...   \n",
       "23   https://www.sec.gov/Archives/edgar/data/102212...   \n",
       "24   https://www.sec.gov/Archives/edgar/data/102373...   \n",
       "25   https://www.sec.gov/Archives/edgar/data/102895...   \n",
       "26   https://www.sec.gov/Archives/edgar/data/102914...   \n",
       "27   https://www.sec.gov/Archives/edgar/data/103484...   \n",
       "28   https://www.sec.gov/Archives/edgar/data/103500...   \n",
       "29   https://www.sec.gov/Archives/edgar/data/103813...   \n",
       "..                                                 ...   \n",
       "518  https://www.sec.gov/Archives/edgar/data/920760...   \n",
       "519  https://www.sec.gov/Archives/edgar/data/921825...   \n",
       "520  https://www.sec.gov/Archives/edgar/data/922521...   \n",
       "521  https://www.sec.gov/Archives/edgar/data/923796...   \n",
       "522  https://www.sec.gov/Archives/edgar/data/92380/...   \n",
       "523  https://www.sec.gov/Archives/edgar/data/926423...   \n",
       "524  https://www.sec.gov/Archives/edgar/data/927628...   \n",
       "525  https://www.sec.gov/Archives/edgar/data/928022...   \n",
       "526  https://www.sec.gov/Archives/edgar/data/928658...   \n",
       "527  https://www.sec.gov/Archives/edgar/data/931584...   \n",
       "528  https://www.sec.gov/Archives/edgar/data/9326/0...   \n",
       "529  https://www.sec.gov/Archives/edgar/data/932696...   \n",
       "530  https://www.sec.gov/Archives/edgar/data/93389/...   \n",
       "531  https://www.sec.gov/Archives/edgar/data/937556...   \n",
       "532  https://www.sec.gov/Archives/edgar/data/937941...   \n",
       "533  https://www.sec.gov/Archives/edgar/data/9389/0...   \n",
       "534  https://www.sec.gov/Archives/edgar/data/939767...   \n",
       "535  https://www.sec.gov/Archives/edgar/data/943819...   \n",
       "536  https://www.sec.gov/Archives/edgar/data/944148...   \n",
       "537  https://www.sec.gov/Archives/edgar/data/944695...   \n",
       "538  https://www.sec.gov/Archives/edgar/data/946644...   \n",
       "539  https://www.sec.gov/Archives/edgar/data/946647...   \n",
       "540  https://www.sec.gov/Archives/edgar/data/946673...   \n",
       "541  https://www.sec.gov/Archives/edgar/data/947484...   \n",
       "542  https://www.sec.gov/Archives/edgar/data/947559...   \n",
       "543  https://www.sec.gov/Archives/edgar/data/949158...   \n",
       "544  https://www.sec.gov/Archives/edgar/data/949428...   \n",
       "545  https://www.sec.gov/Archives/edgar/data/97476/...   \n",
       "546  https://www.sec.gov/Archives/edgar/data/97745/...   \n",
       "547  https://www.sec.gov/Archives/edgar/data/9892/0...   \n",
       "\n",
       "                                             full_text  year  quarter  \\\n",
       "0    \\n10-K\\n1\\nthe10k_2011.htm\\nTHE 2011 ANNUAL 10...  2012        1   \n",
       "1    \\n10-K\\n1\\nd405160d10k.htm\\nFORM 10-K\\n\\n\\nFor...  2012        4   \n",
       "2    \\n10-K\\n1\\nv305275_10k.htm\\nFORM 10-K\\n\\n\\n\\n\\...  2012        1   \n",
       "3    \\n10-K\\n1\\ntsn2012q410k.htm\\nFORM 10-K\\n\\n\\n\\n...  2012        4   \n",
       "4    \\n10-K\\n1\\nd260625d10k.htm\\nFORM 10-K\\n\\n\\nFor...  2012        1   \n",
       "5    \\n10-K\\n1\\na2207810z10-k.htm\\n10-K\\n\\n\\n\\n\\n\\n...  2012        1   \n",
       "6    \\n10-K\\n1\\nform10k.htm\\nCOLUMBUS MCKINNON CORP...  2012        2   \n",
       "7    \\n10-K\\n1\\nd280614d10k.htm\\nFORM 10-K\\n\\n\\nFOR...  2012        1   \n",
       "8    \\n10-K\\n1\\ntompkins-10k_123111.htm\\nANNUAL REP...  2012        1   \n",
       "9    \\n10-K\\n1\\nbrcd-10kxfy12xdoc.htm\\n10-K\\n\\n\\n\\n...  2012        4   \n",
       "10   \\n10-K\\n1\\nd258337d10k.htm\\nANNUAL REPORT ON F...  2012        1   \n",
       "11   \\n10-K\\n1\\nd268456d10k.htm\\nFORM 10-K\\n\\n\\nFor...  2012        1   \n",
       "12   \\n10-K\\n1\\nfbl10k2011.htm\\n\\n\\n\\n\\n\\n\\nFBL 10K...  2012        1   \n",
       "13   \\n10-K\\n1\\nd296041d10k.htm\\nFORM 10-K\\n\\n\\nFor...  2012        1   \n",
       "14   \\n10-K\\n1\\nd263794d10k.htm\\nFORM 10-K\\n\\n\\nFor...  2012        1   \n",
       "15   \\n10-K\\n1\\nt72490_10k.htm\\nFORM 10-K\\n\\n\\n\\nt7...  2012        1   \n",
       "16   \\n10-K\\n1\\nd283628d10k.htm\\nFORM 10-K\\n\\n\\nFor...  2012        1   \n",
       "17   \\n10-K\\n1\\nv304648_10k.htm\\n10-K\\n\\n\\n\\n\\n\\n\\n...  2012        1   \n",
       "18   \\n10-K\\n1\\nebtc1231201110k.htm\\n\\n\\n\\n\\n\\n\\nEB...  2012        1   \n",
       "19   \\n10-K\\n1\\nd269317d10k.htm\\nFORM 10-K\\n\\n\\nFOR...  2012        1   \n",
       "20   \\n10-K\\n1\\nd284845d10k.htm\\nFORM 10-K\\n\\n\\nFor...  2012        1   \n",
       "21   \\n10-K\\n1\\nv308376_10k.htm\\nFORM 10-K\\n\\n\\n\\n\\...  2012        2   \n",
       "22   \\n10-K\\n1\\nd263679d10k.htm\\nFORM 10-K\\n\\n\\nFor...  2012        1   \n",
       "23   \\n10-K\\n1\\nc25955e10vk.htm\\nFORM 10-K\\n\\n\\n\\ne...  2012        1   \n",
       "24   \\n10-K\\n1\\nbody10k.htm\\n10-K\\n\\n\\n\\nMarch 31 2...  2012        2   \n",
       "25   \\n10-K\\n1\\nv306079_10k.htm\\nANNUAL REPORT FORM...  2012        1   \n",
       "26   \\n10-K\\n1\\nd274776d10k.htm\\nFORM 10-K\\n\\n\\nFor...  2012        1   \n",
       "27   \\n10-K\\n1\\na2207753z10-k.htm\\n10-K\\n\\n\\n\\n\\n\\n...  2012        1   \n",
       "28   \\n10-K\\n1\\nvlo12311110k.htm\\n2011 VALERO ENERG...  2012        1   \n",
       "29   \\n10-K\\n1\\nd305286d10k.htm\\nFORM 10-K\\n\\n\\nFOR...  2012        1   \n",
       "..                                                 ...   ...      ...   \n",
       "518  \\n10-K\\n1\\nd257946d10k.htm\\nFORM 10-K\\n\\n\\nFor...  2012        1   \n",
       "519  \\n10-K\\n1\\nd270035d10k.htm\\n10-K\\n\\n\\n10-K\\n\\n...  2012        1   \n",
       "520  \\n10-K\\n1\\nform10k04673_12312011.htm\\n\\n\\n\\nfo...  2012        1   \n",
       "521  \\n10-K\\n1\\nd259590d10k.htm\\n10-K\\n\\n\\n10-K\\n\\n...  2012        1   \n",
       "522  \\n10-K\\n1\\nd293991d10k.htm\\nFORM 10-K\\n\\n\\nFor...  2012        1   \n",
       "523  \\n10-K\\n1\\nd300144d10k.htm\\nFORM 10-K\\n\\n\\nFor...  2012        2   \n",
       "524  \\n10-K\\n1\\nd258810d10k.htm\\nFORM 10-K\\n\\n\\nFor...  2012        1   \n",
       "525  \\n10-K\\n1\\ncpe-20111231x10k.htm\\nCALLON PETROL...  2012        1   \n",
       "526  \\n10-K\\n1\\nform10k.htm\\nFORM 10-K (YEAR ENDED ...  2012        1   \n",
       "527  \\n10-K\\n1\\nd272220d10k.htm\\nFORM 10-K\\n\\n\\nFor...  2012        1   \n",
       "528  \\n10-K\\n1\\nform10k.htm\\nBALCHEM CORPORATION 10...  2012        1   \n",
       "529  \\n10-K\\n1\\nc25148e10vk.htm\\nFORM 10-K\\n\\n\\n\\ne...  2012        1   \n",
       "530  \\n10-K\\n1\\nform10k.htm\\nSTANDARD MOTOR PRODUCT...  2012        1   \n",
       "531  \\n10-K\\n1\\nd260251d10k.htm\\nFORM 10-K\\n\\n\\nFor...  2012        1   \n",
       "532  \\n10-K\\n1\\na12-1308_110k.htm\\n10-K\\n\\n\\n\\n\\n\\n...  2012        1   \n",
       "533  \\n10-K\\n1\\na12-2233_110k.htm\\n10-K\\n\\n\\n\\n\\n\\n...  2012        1   \n",
       "534  \\n10-K\\n1\\nd246328d10k.htm\\nFORM 10-K\\n\\n\\nFor...  2012        1   \n",
       "535  \\n10-K\\n1\\nd372956d10k.htm\\nFORM 10-K\\n\\n\\nFor...  2012        3   \n",
       "536  \\n10-K\\n1\\nd284802d10k.htm\\nFORM 10-K\\n\\n\\nFor...  2012        1   \n",
       "537  \\n10-K\\n1\\nd262770d10k.htm\\n10-K\\n\\n\\n10-K\\n\\n...  2012        1   \n",
       "538  \\n10-K\\n1\\nv304962_10k.htm\\nFORM 10-K\\n\\n\\n\\n\\...  2012        1   \n",
       "539  \\n10-K\\n1\\nd261921d10k.htm\\n10-K\\n\\n\\n10-K\\n\\n...  2012        1   \n",
       "540  \\n10-K\\n1\\nk123111.htm\\nBANNER CORPORATION FOR...  2012        1   \n",
       "541  \\n10-K\\n1\\na2207402z10-k.htm\\nFORM 10-K\\n\\n\\n\\...  2012        1   \n",
       "542  \\n10-K\\n1\\nv306740_10k.htm\\nFORM 10-K\\n\\n\\n\\n\\...  2012        1   \n",
       "543  \\n10-K\\n1\\nd278623d10k.htm\\nFORM 10-K\\n\\n\\nFor...  2012        1   \n",
       "544  \\n10-K\\n1\\nd296278d10k.htm\\nFORM 10-K\\n\\n\\nFor...  2012        1   \n",
       "545  \\n10-K\\n1\\ntxn-12312011x10xk.htm\\n\\n\\n\\n\\n\\n\\n...  2012        1   \n",
       "546  \\n10-K\\n1\\ntmok11.htm\\nTHERMO FISHER SCIENTIFI...  2012        1   \n",
       "547  \\n10-K\\n1\\nd259740d10k.htm\\nFORM 10-K\\n\\n\\nFor...  2012        1   \n",
       "\n",
       "    report_type  status  \n",
       "0          10-K  winner  \n",
       "1          10-K  winner  \n",
       "2          10-K  winner  \n",
       "3          10-K  winner  \n",
       "4          10-K  winner  \n",
       "5          10-K  winner  \n",
       "6          10-K  winner  \n",
       "7          10-K  winner  \n",
       "8          10-K  winner  \n",
       "9          10-K  winner  \n",
       "10         10-K  winner  \n",
       "11         10-K  winner  \n",
       "12         10-K  winner  \n",
       "13         10-K  winner  \n",
       "14         10-K  winner  \n",
       "15         10-K  winner  \n",
       "16         10-K  winner  \n",
       "17         10-K   loser  \n",
       "18         10-K  winner  \n",
       "19         10-K  winner  \n",
       "20         10-K   loser  \n",
       "21         10-K   loser  \n",
       "22         10-K  winner  \n",
       "23         10-K  winner  \n",
       "24         10-K  winner  \n",
       "25         10-K  winner  \n",
       "26         10-K   loser  \n",
       "27         10-K   loser  \n",
       "28         10-K  winner  \n",
       "29         10-K  winner  \n",
       "..          ...     ...  \n",
       "518        10-K  winner  \n",
       "519        10-K  winner  \n",
       "520        10-K   loser  \n",
       "521        10-K  winner  \n",
       "522        10-K  winner  \n",
       "523        10-K   loser  \n",
       "524        10-K  winner  \n",
       "525        10-K  winner  \n",
       "526        10-K  winner  \n",
       "527        10-K   loser  \n",
       "528        10-K  winner  \n",
       "529        10-K  winner  \n",
       "530        10-K  winner  \n",
       "531        10-K  winner  \n",
       "532        10-K  winner  \n",
       "533        10-K  winner  \n",
       "534        10-K  winner  \n",
       "535        10-K  winner  \n",
       "536        10-K  winner  \n",
       "537        10-K  winner  \n",
       "538        10-K   loser  \n",
       "539        10-K  winner  \n",
       "540        10-K  winner  \n",
       "541        10-K  winner  \n",
       "542        10-K  winner  \n",
       "543        10-K  winner  \n",
       "544        10-K   loser  \n",
       "545        10-K  winner  \n",
       "546        10-K  winner  \n",
       "547        10-K  winner  \n",
       "\n",
       "[548 rows x 11 columns]"
      ]
     },
     "execution_count": 691,
     "metadata": {},
     "output_type": "execute_result"
    }
   ],
   "source": [
    "final_set"
   ]
  },
  {
   "cell_type": "code",
   "execution_count": 694,
   "metadata": {
    "collapsed": true
   },
   "outputs": [],
   "source": [
    "final_set.to_csv(\"final_set_wlabel.csv\")"
   ]
  },
  {
   "cell_type": "code",
   "execution_count": 695,
   "metadata": {
    "collapsed": false
   },
   "outputs": [
    {
     "data": {
      "text/plain": [
       "winner    480\n",
       "loser      68\n",
       "Name: status, dtype: int64"
      ]
     },
     "execution_count": 695,
     "metadata": {},
     "output_type": "execute_result"
    }
   ],
   "source": [
    "final_set.status.value_counts()"
   ]
  },
  {
   "cell_type": "code",
   "execution_count": 9,
   "metadata": {
    "collapsed": false
   },
   "outputs": [],
   "source": [
    "new_loser = pd.read_csv(\"losers_list.csv\")"
   ]
  },
  {
   "cell_type": "code",
   "execution_count": 8,
   "metadata": {
    "collapsed": true
   },
   "outputs": [],
   "source": [
    "#cik_nm = pd.read_csv(\"cik_nm.csv\")"
   ]
  },
  {
   "cell_type": "code",
   "execution_count": 47,
   "metadata": {
    "collapsed": false
   },
   "outputs": [
    {
     "data": {
      "text/html": [
       "<div>\n",
       "<style>\n",
       "    .dataframe thead tr:only-child th {\n",
       "        text-align: right;\n",
       "    }\n",
       "\n",
       "    .dataframe thead th {\n",
       "        text-align: left;\n",
       "    }\n",
       "\n",
       "    .dataframe tbody tr th {\n",
       "        vertical-align: top;\n",
       "    }\n",
       "</style>\n",
       "<table border=\"1\" class=\"dataframe\">\n",
       "  <thead>\n",
       "    <tr style=\"text-align: right;\">\n",
       "      <th></th>\n",
       "      <th>Unnamed: 0</th>\n",
       "      <th>Ticker</th>\n",
       "      <th>cik #</th>\n",
       "    </tr>\n",
       "  </thead>\n",
       "  <tbody>\n",
       "    <tr>\n",
       "      <th>0</th>\n",
       "      <td>0</td>\n",
       "      <td>EGY</td>\n",
       "      <td>0000894627</td>\n",
       "    </tr>\n",
       "    <tr>\n",
       "      <th>1</th>\n",
       "      <td>1</td>\n",
       "      <td>UQM</td>\n",
       "      <td>0000315449</td>\n",
       "    </tr>\n",
       "  </tbody>\n",
       "</table>\n",
       "</div>"
      ],
      "text/plain": [
       "   Unnamed: 0 Ticker       cik #\n",
       "0           0    EGY  0000894627\n",
       "1           1    UQM  0000315449"
      ]
     },
     "execution_count": 47,
     "metadata": {},
     "output_type": "execute_result"
    }
   ],
   "source": [
    "new_loser.head(2)"
   ]
  },
  {
   "cell_type": "code",
   "execution_count": 48,
   "metadata": {
    "collapsed": false
   },
   "outputs": [
    {
     "data": {
      "text/html": [
       "<div>\n",
       "<style>\n",
       "    .dataframe thead tr:only-child th {\n",
       "        text-align: right;\n",
       "    }\n",
       "\n",
       "    .dataframe thead th {\n",
       "        text-align: left;\n",
       "    }\n",
       "\n",
       "    .dataframe tbody tr th {\n",
       "        vertical-align: top;\n",
       "    }\n",
       "</style>\n",
       "<table border=\"1\" class=\"dataframe\">\n",
       "  <thead>\n",
       "    <tr style=\"text-align: right;\">\n",
       "      <th></th>\n",
       "      <th>company</th>\n",
       "      <th>Name</th>\n",
       "      <th>cik #</th>\n",
       "      <th>CIK #</th>\n",
       "    </tr>\n",
       "  </thead>\n",
       "  <tbody>\n",
       "    <tr>\n",
       "      <th>0</th>\n",
       "      <td>!J INC:0001438823:</td>\n",
       "      <td>!j inc</td>\n",
       "      <td>0001438823</td>\n",
       "      <td>1438823</td>\n",
       "    </tr>\n",
       "    <tr>\n",
       "      <th>1</th>\n",
       "      <td>#1 A LIFESAFER HOLDINGS, INC.:0001509607:</td>\n",
       "      <td>#1 a lifesafer holdings, inc.</td>\n",
       "      <td>0001509607</td>\n",
       "      <td>1509607</td>\n",
       "    </tr>\n",
       "  </tbody>\n",
       "</table>\n",
       "</div>"
      ],
      "text/plain": [
       "                                     company                           Name  \\\n",
       "0                         !J INC:0001438823:                         !j inc   \n",
       "1  #1 A LIFESAFER HOLDINGS, INC.:0001509607:  #1 a lifesafer holdings, inc.   \n",
       "\n",
       "        cik #    CIK #  \n",
       "0  0001438823  1438823  \n",
       "1  0001509607  1509607  "
      ]
     },
     "execution_count": 48,
     "metadata": {},
     "output_type": "execute_result"
    }
   ],
   "source": [
    "cik_nm.head(2)"
   ]
  },
  {
   "cell_type": "code",
   "execution_count": 49,
   "metadata": {
    "collapsed": true
   },
   "outputs": [],
   "source": [
    "new_loser.rename(columns={\"company\": \"Ticker\"},inplace=True)"
   ]
  },
  {
   "cell_type": "code",
   "execution_count": 50,
   "metadata": {
    "collapsed": false
   },
   "outputs": [],
   "source": [
    "new_loser[\"cik #\"] = new_loser[\"Ticker\"].apply(lambda x: get_cik(x))"
   ]
  },
  {
   "cell_type": "code",
   "execution_count": 55,
   "metadata": {
    "collapsed": false
   },
   "outputs": [],
   "source": [
    "new_loser = new_loser[[\"Ticker\",\"cik #\"]]"
   ]
  },
  {
   "cell_type": "code",
   "execution_count": 56,
   "metadata": {
    "collapsed": false
   },
   "outputs": [],
   "source": [
    "new_loser_list = pd.merge(new_loser, cik_nm, how = \"left\", on = \"cik #\")"
   ]
  },
  {
   "cell_type": "code",
   "execution_count": 57,
   "metadata": {
    "collapsed": false
   },
   "outputs": [
    {
     "data": {
      "text/html": [
       "<div>\n",
       "<style>\n",
       "    .dataframe thead tr:only-child th {\n",
       "        text-align: right;\n",
       "    }\n",
       "\n",
       "    .dataframe thead th {\n",
       "        text-align: left;\n",
       "    }\n",
       "\n",
       "    .dataframe tbody tr th {\n",
       "        vertical-align: top;\n",
       "    }\n",
       "</style>\n",
       "<table border=\"1\" class=\"dataframe\">\n",
       "  <thead>\n",
       "    <tr style=\"text-align: right;\">\n",
       "      <th></th>\n",
       "      <th>Ticker</th>\n",
       "      <th>cik #</th>\n",
       "      <th>company</th>\n",
       "      <th>Name</th>\n",
       "      <th>CIK #</th>\n",
       "    </tr>\n",
       "  </thead>\n",
       "  <tbody>\n",
       "    <tr>\n",
       "      <th>0</th>\n",
       "      <td>EGY</td>\n",
       "      <td>0000894627</td>\n",
       "      <td>VAALCO ENERGY INC /DE/:0000894627:</td>\n",
       "      <td>vaalco energy inc /de/</td>\n",
       "      <td>894627</td>\n",
       "    </tr>\n",
       "    <tr>\n",
       "      <th>1</th>\n",
       "      <td>UQM</td>\n",
       "      <td>0000315449</td>\n",
       "      <td>UNIQUE MOBILITY INC:0000315449:</td>\n",
       "      <td>unique mobility inc</td>\n",
       "      <td>315449</td>\n",
       "    </tr>\n",
       "  </tbody>\n",
       "</table>\n",
       "</div>"
      ],
      "text/plain": [
       "  Ticker       cik #                             company  \\\n",
       "0    EGY  0000894627  VAALCO ENERGY INC /DE/:0000894627:   \n",
       "1    UQM  0000315449     UNIQUE MOBILITY INC:0000315449:   \n",
       "\n",
       "                     Name   CIK #  \n",
       "0  vaalco energy inc /de/  894627  \n",
       "1     unique mobility inc  315449  "
      ]
     },
     "execution_count": 57,
     "metadata": {},
     "output_type": "execute_result"
    }
   ],
   "source": [
    "new_loser_list.head(2)"
   ]
  },
  {
   "cell_type": "code",
   "execution_count": 60,
   "metadata": {
    "collapsed": false
   },
   "outputs": [],
   "source": [
    "new_loser_list = new_loser_list.groupby(\"cik #\").first().reset_index()"
   ]
  },
  {
   "cell_type": "code",
   "execution_count": 67,
   "metadata": {
    "collapsed": false
   },
   "outputs": [],
   "source": [
    "old_loser = pd.read_csv(\"loser_list.csv\")"
   ]
  },
  {
   "cell_type": "code",
   "execution_count": 70,
   "metadata": {
    "collapsed": false
   },
   "outputs": [],
   "source": [
    "old_loser = old_loser[[\"cik #\", \"Ticker\",\"status\",\"company\",\"Name\",\"CIK #\"]]"
   ]
  },
  {
   "cell_type": "code",
   "execution_count": 102,
   "metadata": {
    "collapsed": false
   },
   "outputs": [],
   "source": [
    "joint_table = pd.merge(new_loser_list, old_loser, how = \"left\", on =\"cik #\")"
   ]
  },
  {
   "cell_type": "code",
   "execution_count": 103,
   "metadata": {
    "collapsed": false
   },
   "outputs": [
    {
     "data": {
      "text/plain": [
       "Index([u'cik #', u'Ticker_x', u'company_x', u'Name_x', u'CIK #_x', u'Ticker_y',\n",
       "       u'status', u'company_y', u'Name_y', u'CIK #_y'],\n",
       "      dtype='object')"
      ]
     },
     "execution_count": 103,
     "metadata": {},
     "output_type": "execute_result"
    }
   ],
   "source": [
    "joint_table.columns"
   ]
  },
  {
   "cell_type": "code",
   "execution_count": 104,
   "metadata": {
    "collapsed": false
   },
   "outputs": [],
   "source": [
    "joint_table = joint_table[pd.isnull(joint_table[\"company_y\"])][[\"cik #\", \"Ticker_x\",\"company_x\",\"Name_x\",\"CIK #_x\"]].reset_index(drop = True)"
   ]
  },
  {
   "cell_type": "code",
   "execution_count": 105,
   "metadata": {
    "collapsed": false
   },
   "outputs": [
    {
     "data": {
      "text/html": [
       "<div>\n",
       "<style>\n",
       "    .dataframe thead tr:only-child th {\n",
       "        text-align: right;\n",
       "    }\n",
       "\n",
       "    .dataframe thead th {\n",
       "        text-align: left;\n",
       "    }\n",
       "\n",
       "    .dataframe tbody tr th {\n",
       "        vertical-align: top;\n",
       "    }\n",
       "</style>\n",
       "<table border=\"1\" class=\"dataframe\">\n",
       "  <thead>\n",
       "    <tr style=\"text-align: right;\">\n",
       "      <th></th>\n",
       "      <th>cik #</th>\n",
       "      <th>Ticker_x</th>\n",
       "      <th>company_x</th>\n",
       "      <th>Name_x</th>\n",
       "      <th>CIK #_x</th>\n",
       "    </tr>\n",
       "  </thead>\n",
       "  <tbody>\n",
       "    <tr>\n",
       "      <th>0</th>\n",
       "      <td>0000006885</td>\n",
       "      <td>SSI</td>\n",
       "      <td>APPAREL RETAILERS INC:0000006885:</td>\n",
       "      <td>apparel retailers inc</td>\n",
       "      <td>6885</td>\n",
       "    </tr>\n",
       "    <tr>\n",
       "      <th>1</th>\n",
       "      <td>0000007332</td>\n",
       "      <td>SWN</td>\n",
       "      <td>SOUTHWESTERN ENERGY CO:0000007332:</td>\n",
       "      <td>southwestern energy co</td>\n",
       "      <td>7332</td>\n",
       "    </tr>\n",
       "  </tbody>\n",
       "</table>\n",
       "</div>"
      ],
      "text/plain": [
       "        cik # Ticker_x                           company_x  \\\n",
       "0  0000006885      SSI   APPAREL RETAILERS INC:0000006885:   \n",
       "1  0000007332      SWN  SOUTHWESTERN ENERGY CO:0000007332:   \n",
       "\n",
       "                   Name_x CIK #_x  \n",
       "0   apparel retailers inc    6885  \n",
       "1  southwestern energy co    7332  "
      ]
     },
     "execution_count": 105,
     "metadata": {},
     "output_type": "execute_result"
    }
   ],
   "source": [
    "joint_table.head(2)"
   ]
  },
  {
   "cell_type": "code",
   "execution_count": 106,
   "metadata": {
    "collapsed": false
   },
   "outputs": [],
   "source": [
    "joint_table.columns = (\"cik #\",\"Ticker\",\"company\",\"Name\", \"CIK #\")"
   ]
  },
  {
   "cell_type": "code",
   "execution_count": 107,
   "metadata": {
    "collapsed": false
   },
   "outputs": [
    {
     "data": {
      "text/html": [
       "<div>\n",
       "<style>\n",
       "    .dataframe thead tr:only-child th {\n",
       "        text-align: right;\n",
       "    }\n",
       "\n",
       "    .dataframe thead th {\n",
       "        text-align: left;\n",
       "    }\n",
       "\n",
       "    .dataframe tbody tr th {\n",
       "        vertical-align: top;\n",
       "    }\n",
       "</style>\n",
       "<table border=\"1\" class=\"dataframe\">\n",
       "  <thead>\n",
       "    <tr style=\"text-align: right;\">\n",
       "      <th></th>\n",
       "      <th>cik #</th>\n",
       "      <th>Ticker</th>\n",
       "      <th>company</th>\n",
       "      <th>Name</th>\n",
       "      <th>CIK #</th>\n",
       "    </tr>\n",
       "  </thead>\n",
       "  <tbody>\n",
       "    <tr>\n",
       "      <th>0</th>\n",
       "      <td>0000006885</td>\n",
       "      <td>SSI</td>\n",
       "      <td>APPAREL RETAILERS INC:0000006885:</td>\n",
       "      <td>apparel retailers inc</td>\n",
       "      <td>6885</td>\n",
       "    </tr>\n",
       "    <tr>\n",
       "      <th>1</th>\n",
       "      <td>0000007332</td>\n",
       "      <td>SWN</td>\n",
       "      <td>SOUTHWESTERN ENERGY CO:0000007332:</td>\n",
       "      <td>southwestern energy co</td>\n",
       "      <td>7332</td>\n",
       "    </tr>\n",
       "  </tbody>\n",
       "</table>\n",
       "</div>"
      ],
      "text/plain": [
       "        cik # Ticker                             company  \\\n",
       "0  0000006885    SSI   APPAREL RETAILERS INC:0000006885:   \n",
       "1  0000007332    SWN  SOUTHWESTERN ENERGY CO:0000007332:   \n",
       "\n",
       "                     Name CIK #  \n",
       "0   apparel retailers inc  6885  \n",
       "1  southwestern energy co  7332  "
      ]
     },
     "execution_count": 107,
     "metadata": {},
     "output_type": "execute_result"
    }
   ],
   "source": [
    "joint_table.head(2)"
   ]
  },
  {
   "cell_type": "code",
   "execution_count": 108,
   "metadata": {
    "collapsed": false
   },
   "outputs": [
    {
     "data": {
      "text/plain": [
       "(150, 5)"
      ]
     },
     "execution_count": 108,
     "metadata": {},
     "output_type": "execute_result"
    }
   ],
   "source": [
    "joint_table.shape"
   ]
  },
  {
   "cell_type": "code",
   "execution_count": 109,
   "metadata": {
    "collapsed": true
   },
   "outputs": [],
   "source": [
    "joint_table.to_csv(\"new_loser_list.csv\")"
   ]
  },
  {
   "cell_type": "code",
   "execution_count": 21,
   "metadata": {
    "collapsed": false
   },
   "outputs": [
    {
     "name": "stdout",
     "output_type": "stream",
     "text": [
      "DataFrame rows: 117\n",
      "0:05:31.702091\n",
      "DataFrame rows: 14\n",
      "0:00:43.995741\n",
      "DataFrame rows: 10\n",
      "0:00:22.360342\n",
      "DataFrame rows: 6\n",
      "0:00:19.296035\n"
     ]
    }
   ],
   "source": [
    "new_loser_2012_qrt1 = putting_together(2012, 1, \"new_loser_list.csv\",\"10-K\")\n",
    "new_loser_2012_qrt2 = putting_together(2012, 2, \"new_loser_list.csv\",\"10-K\")\n",
    "new_loser_2012_qrt3 = putting_together(2012, 3, \"new_loser_list.csv\",\"10-K\")\n",
    "new_loser_2012_qrt4 = putting_together(2012, 4, \"new_loser_list.csv\",\"10-K\")"
   ]
  },
  {
   "cell_type": "code",
   "execution_count": 27,
   "metadata": {
    "collapsed": false
   },
   "outputs": [],
   "source": [
    "new_list = [new_loser_2012_qrt1, new_loser_2012_qrt2, new_loser_2012_qrt3, new_loser_2012_qrt4]"
   ]
  },
  {
   "cell_type": "code",
   "execution_count": 31,
   "metadata": {
    "collapsed": false
   },
   "outputs": [],
   "source": [
    "new_loser_data = pd.concat(new_list, axis=0).reset_index(drop=True)"
   ]
  },
  {
   "cell_type": "code",
   "execution_count": 33,
   "metadata": {
    "collapsed": true
   },
   "outputs": [],
   "source": [
    "new_loser_data[\"status\"]=\"loser\""
   ]
  },
  {
   "cell_type": "code",
   "execution_count": 30,
   "metadata": {
    "collapsed": false
   },
   "outputs": [],
   "source": [
    "final_set_wlabel = pd.read_csv(\"final_set_wlabel.csv\")"
   ]
  },
  {
   "cell_type": "code",
   "execution_count": 34,
   "metadata": {
    "collapsed": false
   },
   "outputs": [
    {
     "data": {
      "text/plain": [
       "(147, 11)"
      ]
     },
     "execution_count": 34,
     "metadata": {},
     "output_type": "execute_result"
    }
   ],
   "source": [
    "new_loser_data.shape"
   ]
  },
  {
   "cell_type": "code",
   "execution_count": 39,
   "metadata": {
    "collapsed": false
   },
   "outputs": [],
   "source": [
    "final_set_wlabel = final_set_wlabel[[\"CIK #\",\"Name\",\"company\",\"report\",\"date\",\"url\",\"full_text\",\"year\",\"quarter\",\"report_type\",\"status\"]]"
   ]
  },
  {
   "cell_type": "code",
   "execution_count": 41,
   "metadata": {
    "collapsed": false
   },
   "outputs": [
    {
     "data": {
      "text/plain": [
       "(548, 11)"
      ]
     },
     "execution_count": 41,
     "metadata": {},
     "output_type": "execute_result"
    }
   ],
   "source": [
    "final_set_wlabel.shape"
   ]
  },
  {
   "cell_type": "code",
   "execution_count": 42,
   "metadata": {
    "collapsed": true
   },
   "outputs": [],
   "source": [
    "total = [final_set_wlabel, new_loser_data]"
   ]
  },
  {
   "cell_type": "code",
   "execution_count": 45,
   "metadata": {
    "collapsed": false
   },
   "outputs": [],
   "source": [
    "data_set_61617 = pd.concat(total, axis = 0)"
   ]
  },
  {
   "cell_type": "code",
   "execution_count": 46,
   "metadata": {
    "collapsed": true
   },
   "outputs": [],
   "source": [
    "data_set_61617.to_csv(\"data_file_61617.csv\")"
   ]
  },
  {
   "cell_type": "code",
   "execution_count": 54,
   "metadata": {
    "collapsed": false
   },
   "outputs": [
    {
     "data": {
      "text/html": [
       "<div>\n",
       "<style>\n",
       "    .dataframe thead tr:only-child th {\n",
       "        text-align: right;\n",
       "    }\n",
       "\n",
       "    .dataframe thead th {\n",
       "        text-align: left;\n",
       "    }\n",
       "\n",
       "    .dataframe tbody tr th {\n",
       "        vertical-align: top;\n",
       "    }\n",
       "</style>\n",
       "<table border=\"1\" class=\"dataframe\">\n",
       "  <thead>\n",
       "    <tr style=\"text-align: right;\">\n",
       "      <th></th>\n",
       "      <th>CIK #</th>\n",
       "      <th>Name</th>\n",
       "      <th>company</th>\n",
       "      <th>date</th>\n",
       "      <th>full_text</th>\n",
       "      <th>quarter</th>\n",
       "      <th>report</th>\n",
       "      <th>report_type</th>\n",
       "      <th>status</th>\n",
       "      <th>url</th>\n",
       "      <th>year</th>\n",
       "    </tr>\n",
       "  </thead>\n",
       "  <tbody>\n",
       "    <tr>\n",
       "      <th>0</th>\n",
       "      <td>1000228</td>\n",
       "      <td>henry schein inc</td>\n",
       "      <td>HENRY SCHEIN INC</td>\n",
       "      <td>2012-02-15</td>\n",
       "      <td>\\n10-K\\n1\\nthe10k_2011.htm\\nTHE 2011 ANNUAL 10...</td>\n",
       "      <td>1</td>\n",
       "      <td>10-K</td>\n",
       "      <td>10-K</td>\n",
       "      <td>winner</td>\n",
       "      <td>https://www.sec.gov/Archives/edgar/data/100022...</td>\n",
       "      <td>2012</td>\n",
       "    </tr>\n",
       "  </tbody>\n",
       "</table>\n",
       "</div>"
      ],
      "text/plain": [
       "     CIK #              Name           company        date  \\\n",
       "0  1000228  henry schein inc  HENRY SCHEIN INC  2012-02-15   \n",
       "\n",
       "                                           full_text  quarter report  \\\n",
       "0  \\n10-K\\n1\\nthe10k_2011.htm\\nTHE 2011 ANNUAL 10...        1   10-K   \n",
       "\n",
       "  report_type  status                                                url  year  \n",
       "0        10-K  winner  https://www.sec.gov/Archives/edgar/data/100022...  2012  "
      ]
     },
     "execution_count": 54,
     "metadata": {},
     "output_type": "execute_result"
    }
   ],
   "source": [
    "data_set_61617.head(1)"
   ]
  },
  {
   "cell_type": "code",
   "execution_count": 52,
   "metadata": {
    "collapsed": false
   },
   "outputs": [
    {
     "data": {
      "text/plain": [
       "(695, 10)"
      ]
     },
     "execution_count": 52,
     "metadata": {},
     "output_type": "execute_result"
    }
   ],
   "source": [
    "data_set_61617.groupby(\"CIK #\").first().shape"
   ]
  },
  {
   "cell_type": "code",
   "execution_count": 58,
   "metadata": {
    "collapsed": false
   },
   "outputs": [
    {
     "data": {
      "text/plain": [
       "0"
      ]
     },
     "execution_count": 58,
     "metadata": {},
     "output_type": "execute_result"
    }
   ],
   "source": [
    "sum(data_set_61617[\"CIK #\"].value_counts()>2)"
   ]
  },
  {
   "cell_type": "markdown",
   "metadata": {},
   "source": [
    "# grabbing historical data"
   ]
  },
  {
   "cell_type": "code",
   "execution_count": 61,
   "metadata": {
    "collapsed": false
   },
   "outputs": [
    {
     "name": "stdout",
     "output_type": "stream",
     "text": [
      "file already exist\n",
      "DataFrame rows: 38\n",
      "0:01:57.376349\n",
      "file already exist\n",
      "DataFrame rows: 548\n",
      "0:37:33.711576\n"
     ]
    }
   ],
   "source": [
    "data_2017_2 = putting_together(2017,2,\"data_file_61617.csv\",\"10-K\")\n",
    "data_2017_1 = putting_together(2017,1,\"data_file_61617.csv\",\"10-K\")"
   ]
  },
  {
   "cell_type": "code",
   "execution_count": 62,
   "metadata": {
    "collapsed": false
   },
   "outputs": [
    {
     "name": "stdout",
     "output_type": "stream",
     "text": [
      "file already exist\n",
      "DataFrame rows: 52\n",
      "0:02:55.149979\n",
      "file already exist\n",
      "DataFrame rows: 41\n",
      "0:01:54.514593\n",
      "file already exist\n",
      "DataFrame rows: 44\n",
      "0:02:13.559217\n",
      "file already exist\n"
     ]
    },
    {
     "ename": "ConnectionError",
     "evalue": "HTTPSConnectionPool(host='www.sec.gov', port=443): Max retries exceeded with url: /Archives/edgar/data/1000228/0001000228-16-000042-index.htm (Caused by NewConnectionError('<requests.packages.urllib3.connection.VerifiedHTTPSConnection object at 0x14564d050>: Failed to establish a new connection: [Errno 8] nodename nor servname provided, or not known',))",
     "output_type": "error",
     "traceback": [
      "\u001b[0;31m---------------------------------------------------------\u001b[0m",
      "\u001b[0;31mConnectionError\u001b[0m         Traceback (most recent call last)",
      "\u001b[0;32m<ipython-input-62-cc5eb5b5c768>\u001b[0m in \u001b[0;36m<module>\u001b[0;34m()\u001b[0m\n\u001b[1;32m      2\u001b[0m \u001b[0mdata_2016_3\u001b[0m \u001b[0;34m=\u001b[0m \u001b[0mputting_together\u001b[0m\u001b[0;34m(\u001b[0m\u001b[0;36m2016\u001b[0m\u001b[0;34m,\u001b[0m\u001b[0;36m3\u001b[0m\u001b[0;34m,\u001b[0m\u001b[0;34m\"data_file_61617.csv\"\u001b[0m\u001b[0;34m,\u001b[0m\u001b[0;34m\"10-K\"\u001b[0m\u001b[0;34m)\u001b[0m\u001b[0;34m\u001b[0m\u001b[0m\n\u001b[1;32m      3\u001b[0m \u001b[0mdata_2016_2\u001b[0m \u001b[0;34m=\u001b[0m \u001b[0mputting_together\u001b[0m\u001b[0;34m(\u001b[0m\u001b[0;36m2016\u001b[0m\u001b[0;34m,\u001b[0m\u001b[0;36m2\u001b[0m\u001b[0;34m,\u001b[0m\u001b[0;34m\"data_file_61617.csv\"\u001b[0m\u001b[0;34m,\u001b[0m\u001b[0;34m\"10-K\"\u001b[0m\u001b[0;34m)\u001b[0m\u001b[0;34m\u001b[0m\u001b[0m\n\u001b[0;32m----> 4\u001b[0;31m \u001b[0mdata_2016_1\u001b[0m \u001b[0;34m=\u001b[0m \u001b[0mputting_together\u001b[0m\u001b[0;34m(\u001b[0m\u001b[0;36m2016\u001b[0m\u001b[0;34m,\u001b[0m\u001b[0;36m1\u001b[0m\u001b[0;34m,\u001b[0m\u001b[0;34m\"data_file_61617.csv\"\u001b[0m\u001b[0;34m,\u001b[0m\u001b[0;34m\"10-K\"\u001b[0m\u001b[0;34m)\u001b[0m\u001b[0;34m\u001b[0m\u001b[0m\n\u001b[0m",
      "\u001b[0;32m<ipython-input-59-807cd89161f8>\u001b[0m in \u001b[0;36mputting_together\u001b[0;34m(year_number, qtr, company_name, report_type, runtime)\u001b[0m\n\u001b[1;32m      9\u001b[0m     \u001b[0mdata_frame\u001b[0m \u001b[0;34m=\u001b[0m \u001b[0mconvert_to_pandas\u001b[0m\u001b[0;34m(\u001b[0m\u001b[0mfile_path\u001b[0m\u001b[0;34m,\u001b[0m \u001b[0mdata_start_num\u001b[0m\u001b[0;34m)\u001b[0m\u001b[0;34m\u001b[0m\u001b[0m\n\u001b[1;32m     10\u001b[0m     \u001b[0mresults\u001b[0m \u001b[0;34m=\u001b[0m \u001b[0msearch_company_name\u001b[0m\u001b[0;34m(\u001b[0m\u001b[0mdata_frame\u001b[0m\u001b[0;34m,\u001b[0m \u001b[0mcompany_name\u001b[0m\u001b[0;34m,\u001b[0m \u001b[0mreport_type\u001b[0m\u001b[0;34m)\u001b[0m\u001b[0;34m\u001b[0m\u001b[0m\n\u001b[0;32m---> 11\u001b[0;31m     \u001b[0mfinal_data\u001b[0m \u001b[0;34m=\u001b[0m \u001b[0mgetting_data\u001b[0m\u001b[0;34m(\u001b[0m\u001b[0mresults\u001b[0m\u001b[0;34m,\u001b[0m \u001b[0myear_number\u001b[0m\u001b[0;34m,\u001b[0m \u001b[0mqtr\u001b[0m\u001b[0;34m,\u001b[0m \u001b[0mreport_type\u001b[0m\u001b[0;34m)\u001b[0m\u001b[0;34m\u001b[0m\u001b[0m\n\u001b[0m\u001b[1;32m     12\u001b[0m     \u001b[0mend\u001b[0m \u001b[0;34m=\u001b[0m \u001b[0mdatetime\u001b[0m\u001b[0;34m.\u001b[0m\u001b[0mdatetime\u001b[0m\u001b[0;34m.\u001b[0m\u001b[0mnow\u001b[0m\u001b[0;34m(\u001b[0m\u001b[0;34m)\u001b[0m\u001b[0;34m\u001b[0m\u001b[0m\n\u001b[1;32m     13\u001b[0m     \u001b[0mfinal_data\u001b[0m\u001b[0;34m[\u001b[0m\u001b[0;34m\"date\"\u001b[0m\u001b[0;34m]\u001b[0m \u001b[0;34m=\u001b[0m \u001b[0mpd\u001b[0m\u001b[0;34m.\u001b[0m\u001b[0mto_datetime\u001b[0m\u001b[0;34m(\u001b[0m\u001b[0mfinal_data\u001b[0m\u001b[0;34m[\u001b[0m\u001b[0;34m\"date\"\u001b[0m\u001b[0;34m]\u001b[0m\u001b[0;34m)\u001b[0m\u001b[0;34m\u001b[0m\u001b[0m\n",
      "\u001b[0;32m<ipython-input-16-def086fde0a1>\u001b[0m in \u001b[0;36mgetting_data\u001b[0;34m(company_list, year_number, qtr, report_type)\u001b[0m\n\u001b[1;32m      2\u001b[0m     \u001b[0;32mfor\u001b[0m \u001b[0mi\u001b[0m \u001b[0;32min\u001b[0m \u001b[0mrange\u001b[0m\u001b[0;34m(\u001b[0m\u001b[0;36m0\u001b[0m\u001b[0;34m,\u001b[0m \u001b[0mcompany_list\u001b[0m\u001b[0;34m.\u001b[0m\u001b[0mshape\u001b[0m\u001b[0;34m[\u001b[0m\u001b[0;36m0\u001b[0m\u001b[0;34m]\u001b[0m\u001b[0;34m)\u001b[0m\u001b[0;34m:\u001b[0m\u001b[0;34m\u001b[0m\u001b[0m\n\u001b[1;32m      3\u001b[0m         \u001b[0murl_address\u001b[0m \u001b[0;34m=\u001b[0m \u001b[0mcompany_list\u001b[0m\u001b[0;34m.\u001b[0m\u001b[0mloc\u001b[0m\u001b[0;34m[\u001b[0m\u001b[0mi\u001b[0m\u001b[0;34m,\u001b[0m\u001b[0;34m\"url\"\u001b[0m\u001b[0;34m]\u001b[0m\u001b[0;34m\u001b[0m\u001b[0m\n\u001b[0;32m----> 4\u001b[0;31m         \u001b[0mtext\u001b[0m \u001b[0;34m=\u001b[0m \u001b[0mrequests\u001b[0m\u001b[0;34m.\u001b[0m\u001b[0mget\u001b[0m\u001b[0;34m(\u001b[0m\u001b[0murl_address\u001b[0m\u001b[0;34m)\u001b[0m\u001b[0;34m.\u001b[0m\u001b[0mtext\u001b[0m\u001b[0;34m\u001b[0m\u001b[0m\n\u001b[0m\u001b[1;32m      5\u001b[0m         \u001b[0mtext\u001b[0m \u001b[0;34m=\u001b[0m \u001b[0mBeautifulSoup\u001b[0m\u001b[0;34m(\u001b[0m\u001b[0mtext\u001b[0m\u001b[0;34m,\u001b[0m \u001b[0;34m\"html.parser\"\u001b[0m\u001b[0;34m)\u001b[0m\u001b[0;34m\u001b[0m\u001b[0m\n\u001b[1;32m      6\u001b[0m         \u001b[0mtarget\u001b[0m \u001b[0;34m=\u001b[0m \u001b[0mtext\u001b[0m\u001b[0;34m.\u001b[0m\u001b[0mfind\u001b[0m\u001b[0;34m(\u001b[0m\u001b[0;34m\"table\"\u001b[0m\u001b[0;34m,\u001b[0m\u001b[0;34m{\u001b[0m\u001b[0;34m\"class\"\u001b[0m\u001b[0;34m:\u001b[0m\u001b[0;34m\"tableFile\"\u001b[0m\u001b[0;34m}\u001b[0m\u001b[0;34m)\u001b[0m\u001b[0;34m\u001b[0m\u001b[0m\n",
      "\u001b[0;32m/Users/jasonchiu0803/anaconda2/lib/python2.7/site-packages/requests/api.pyc\u001b[0m in \u001b[0;36mget\u001b[0;34m(url, params, **kwargs)\u001b[0m\n\u001b[1;32m     68\u001b[0m \u001b[0;34m\u001b[0m\u001b[0m\n\u001b[1;32m     69\u001b[0m     \u001b[0mkwargs\u001b[0m\u001b[0;34m.\u001b[0m\u001b[0msetdefault\u001b[0m\u001b[0;34m(\u001b[0m\u001b[0;34m'allow_redirects'\u001b[0m\u001b[0;34m,\u001b[0m \u001b[0mTrue\u001b[0m\u001b[0;34m)\u001b[0m\u001b[0;34m\u001b[0m\u001b[0m\n\u001b[0;32m---> 70\u001b[0;31m     \u001b[0;32mreturn\u001b[0m \u001b[0mrequest\u001b[0m\u001b[0;34m(\u001b[0m\u001b[0;34m'get'\u001b[0m\u001b[0;34m,\u001b[0m \u001b[0murl\u001b[0m\u001b[0;34m,\u001b[0m \u001b[0mparams\u001b[0m\u001b[0;34m=\u001b[0m\u001b[0mparams\u001b[0m\u001b[0;34m,\u001b[0m \u001b[0;34m**\u001b[0m\u001b[0mkwargs\u001b[0m\u001b[0;34m)\u001b[0m\u001b[0;34m\u001b[0m\u001b[0m\n\u001b[0m\u001b[1;32m     71\u001b[0m \u001b[0;34m\u001b[0m\u001b[0m\n\u001b[1;32m     72\u001b[0m \u001b[0;34m\u001b[0m\u001b[0m\n",
      "\u001b[0;32m/Users/jasonchiu0803/anaconda2/lib/python2.7/site-packages/requests/api.pyc\u001b[0m in \u001b[0;36mrequest\u001b[0;34m(method, url, **kwargs)\u001b[0m\n\u001b[1;32m     54\u001b[0m     \u001b[0;31m# cases, and look like a memory leak in others.\u001b[0m\u001b[0;34m\u001b[0m\u001b[0;34m\u001b[0m\u001b[0m\n\u001b[1;32m     55\u001b[0m     \u001b[0;32mwith\u001b[0m \u001b[0msessions\u001b[0m\u001b[0;34m.\u001b[0m\u001b[0mSession\u001b[0m\u001b[0;34m(\u001b[0m\u001b[0;34m)\u001b[0m \u001b[0;32mas\u001b[0m \u001b[0msession\u001b[0m\u001b[0;34m:\u001b[0m\u001b[0;34m\u001b[0m\u001b[0m\n\u001b[0;32m---> 56\u001b[0;31m         \u001b[0;32mreturn\u001b[0m \u001b[0msession\u001b[0m\u001b[0;34m.\u001b[0m\u001b[0mrequest\u001b[0m\u001b[0;34m(\u001b[0m\u001b[0mmethod\u001b[0m\u001b[0;34m=\u001b[0m\u001b[0mmethod\u001b[0m\u001b[0;34m,\u001b[0m \u001b[0murl\u001b[0m\u001b[0;34m=\u001b[0m\u001b[0murl\u001b[0m\u001b[0;34m,\u001b[0m \u001b[0;34m**\u001b[0m\u001b[0mkwargs\u001b[0m\u001b[0;34m)\u001b[0m\u001b[0;34m\u001b[0m\u001b[0m\n\u001b[0m\u001b[1;32m     57\u001b[0m \u001b[0;34m\u001b[0m\u001b[0m\n\u001b[1;32m     58\u001b[0m \u001b[0;34m\u001b[0m\u001b[0m\n",
      "\u001b[0;32m/Users/jasonchiu0803/anaconda2/lib/python2.7/site-packages/requests/sessions.pyc\u001b[0m in \u001b[0;36mrequest\u001b[0;34m(self, method, url, params, data, headers, cookies, files, auth, timeout, allow_redirects, proxies, hooks, stream, verify, cert, json)\u001b[0m\n\u001b[1;32m    486\u001b[0m         }\n\u001b[1;32m    487\u001b[0m         \u001b[0msend_kwargs\u001b[0m\u001b[0;34m.\u001b[0m\u001b[0mupdate\u001b[0m\u001b[0;34m(\u001b[0m\u001b[0msettings\u001b[0m\u001b[0;34m)\u001b[0m\u001b[0;34m\u001b[0m\u001b[0m\n\u001b[0;32m--> 488\u001b[0;31m         \u001b[0mresp\u001b[0m \u001b[0;34m=\u001b[0m \u001b[0mself\u001b[0m\u001b[0;34m.\u001b[0m\u001b[0msend\u001b[0m\u001b[0;34m(\u001b[0m\u001b[0mprep\u001b[0m\u001b[0;34m,\u001b[0m \u001b[0;34m**\u001b[0m\u001b[0msend_kwargs\u001b[0m\u001b[0;34m)\u001b[0m\u001b[0;34m\u001b[0m\u001b[0m\n\u001b[0m\u001b[1;32m    489\u001b[0m \u001b[0;34m\u001b[0m\u001b[0m\n\u001b[1;32m    490\u001b[0m         \u001b[0;32mreturn\u001b[0m \u001b[0mresp\u001b[0m\u001b[0;34m\u001b[0m\u001b[0m\n",
      "\u001b[0;32m/Users/jasonchiu0803/anaconda2/lib/python2.7/site-packages/requests/sessions.pyc\u001b[0m in \u001b[0;36msend\u001b[0;34m(self, request, **kwargs)\u001b[0m\n\u001b[1;32m    607\u001b[0m \u001b[0;34m\u001b[0m\u001b[0m\n\u001b[1;32m    608\u001b[0m         \u001b[0;31m# Send the request\u001b[0m\u001b[0;34m\u001b[0m\u001b[0;34m\u001b[0m\u001b[0m\n\u001b[0;32m--> 609\u001b[0;31m         \u001b[0mr\u001b[0m \u001b[0;34m=\u001b[0m \u001b[0madapter\u001b[0m\u001b[0;34m.\u001b[0m\u001b[0msend\u001b[0m\u001b[0;34m(\u001b[0m\u001b[0mrequest\u001b[0m\u001b[0;34m,\u001b[0m \u001b[0;34m**\u001b[0m\u001b[0mkwargs\u001b[0m\u001b[0;34m)\u001b[0m\u001b[0;34m\u001b[0m\u001b[0m\n\u001b[0m\u001b[1;32m    610\u001b[0m \u001b[0;34m\u001b[0m\u001b[0m\n\u001b[1;32m    611\u001b[0m         \u001b[0;31m# Total elapsed time of the request (approximately)\u001b[0m\u001b[0;34m\u001b[0m\u001b[0;34m\u001b[0m\u001b[0m\n",
      "\u001b[0;32m/Users/jasonchiu0803/anaconda2/lib/python2.7/site-packages/requests/adapters.pyc\u001b[0m in \u001b[0;36msend\u001b[0;34m(self, request, stream, timeout, verify, cert, proxies)\u001b[0m\n\u001b[1;32m    485\u001b[0m                 \u001b[0;32mraise\u001b[0m \u001b[0mProxyError\u001b[0m\u001b[0;34m(\u001b[0m\u001b[0me\u001b[0m\u001b[0;34m,\u001b[0m \u001b[0mrequest\u001b[0m\u001b[0;34m=\u001b[0m\u001b[0mrequest\u001b[0m\u001b[0;34m)\u001b[0m\u001b[0;34m\u001b[0m\u001b[0m\n\u001b[1;32m    486\u001b[0m \u001b[0;34m\u001b[0m\u001b[0m\n\u001b[0;32m--> 487\u001b[0;31m             \u001b[0;32mraise\u001b[0m \u001b[0mConnectionError\u001b[0m\u001b[0;34m(\u001b[0m\u001b[0me\u001b[0m\u001b[0;34m,\u001b[0m \u001b[0mrequest\u001b[0m\u001b[0;34m=\u001b[0m\u001b[0mrequest\u001b[0m\u001b[0;34m)\u001b[0m\u001b[0;34m\u001b[0m\u001b[0m\n\u001b[0m\u001b[1;32m    488\u001b[0m \u001b[0;34m\u001b[0m\u001b[0m\n\u001b[1;32m    489\u001b[0m         \u001b[0;32mexcept\u001b[0m \u001b[0mClosedPoolError\u001b[0m \u001b[0;32mas\u001b[0m \u001b[0me\u001b[0m\u001b[0;34m:\u001b[0m\u001b[0;34m\u001b[0m\u001b[0m\n",
      "\u001b[0;31mConnectionError\u001b[0m: HTTPSConnectionPool(host='www.sec.gov', port=443): Max retries exceeded with url: /Archives/edgar/data/1000228/0001000228-16-000042-index.htm (Caused by NewConnectionError('<requests.packages.urllib3.connection.VerifiedHTTPSConnection object at 0x14564d050>: Failed to establish a new connection: [Errno 8] nodename nor servname provided, or not known',))"
     ]
    }
   ],
   "source": [
    "data_2016_4 = putting_together(2016,4,\"data_file_61617.csv\",\"10-K\")\n",
    "data_2016_3 = putting_together(2016,3,\"data_file_61617.csv\",\"10-K\")\n",
    "data_2016_2 = putting_together(2016,2,\"data_file_61617.csv\",\"10-K\")\n",
    "data_2016_1 = putting_together(2016,1,\"data_file_61617.csv\",\"10-K\")"
   ]
  },
  {
   "cell_type": "code",
   "execution_count": 64,
   "metadata": {
    "collapsed": false
   },
   "outputs": [
    {
     "name": "stdout",
     "output_type": "stream",
     "text": [
      "file already exist\n",
      "DataFrame rows: 553\n",
      "0:37:01.552655\n"
     ]
    }
   ],
   "source": [
    "data_2016_1 = putting_together(2016,1,\"data_file_61617.csv\",\"10-K\")"
   ]
  },
  {
   "cell_type": "code",
   "execution_count": 63,
   "metadata": {
    "collapsed": false
   },
   "outputs": [
    {
     "data": {
      "text/html": [
       "<div>\n",
       "<style>\n",
       "    .dataframe thead tr:only-child th {\n",
       "        text-align: right;\n",
       "    }\n",
       "\n",
       "    .dataframe thead th {\n",
       "        text-align: left;\n",
       "    }\n",
       "\n",
       "    .dataframe tbody tr th {\n",
       "        vertical-align: top;\n",
       "    }\n",
       "</style>\n",
       "<table border=\"1\" class=\"dataframe\">\n",
       "  <thead>\n",
       "    <tr style=\"text-align: right;\">\n",
       "      <th></th>\n",
       "      <th>Name</th>\n",
       "      <th>CIK #</th>\n",
       "      <th>company</th>\n",
       "      <th>report</th>\n",
       "      <th>date</th>\n",
       "      <th>url</th>\n",
       "      <th>full_text</th>\n",
       "      <th>year</th>\n",
       "      <th>quarter</th>\n",
       "      <th>report_type</th>\n",
       "    </tr>\n",
       "  </thead>\n",
       "  <tbody>\n",
       "    <tr>\n",
       "      <th>0</th>\n",
       "      <td>acuity brands inc</td>\n",
       "      <td>1144215</td>\n",
       "      <td>ACUITY BRANDS INC</td>\n",
       "      <td>10-K</td>\n",
       "      <td>2016-10-27</td>\n",
       "      <td>https://www.sec.gov/Archives/edgar/data/114421...</td>\n",
       "      <td>\\n10-K\\n1\\nayi-2016831x10k.htm\\n10-K\\n\\n\\n\\n\\n...</td>\n",
       "      <td>2016</td>\n",
       "      <td>4</td>\n",
       "      <td>10-K</td>\n",
       "    </tr>\n",
       "    <tr>\n",
       "      <th>1</th>\n",
       "      <td>amerisource bergen corp</td>\n",
       "      <td>1140859</td>\n",
       "      <td>AMERISOURCEBERGEN CORP</td>\n",
       "      <td>10-K</td>\n",
       "      <td>2016-11-22</td>\n",
       "      <td>https://www.sec.gov/Archives/edgar/data/114085...</td>\n",
       "      <td>\\n10-K\\n1\\nabc10-kxseptember302016.htm\\n10-K\\n...</td>\n",
       "      <td>2016</td>\n",
       "      <td>4</td>\n",
       "      <td>10-K</td>\n",
       "    </tr>\n",
       "    <tr>\n",
       "      <th>2</th>\n",
       "      <td>apple computer inc/ fa</td>\n",
       "      <td>320193</td>\n",
       "      <td>APPLE INC</td>\n",
       "      <td>10-K</td>\n",
       "      <td>2016-10-26</td>\n",
       "      <td>https://www.sec.gov/Archives/edgar/data/320193...</td>\n",
       "      <td>\\n10-K\\n1\\na201610-k9242016.htm\\n10-K\\n\\n\\n\\n\\...</td>\n",
       "      <td>2016</td>\n",
       "      <td>4</td>\n",
       "      <td>10-K</td>\n",
       "    </tr>\n",
       "  </tbody>\n",
       "</table>\n",
       "</div>"
      ],
      "text/plain": [
       "                      Name    CIK #                 company report       date  \\\n",
       "0        acuity brands inc  1144215       ACUITY BRANDS INC   10-K 2016-10-27   \n",
       "1  amerisource bergen corp  1140859  AMERISOURCEBERGEN CORP   10-K 2016-11-22   \n",
       "2   apple computer inc/ fa   320193               APPLE INC   10-K 2016-10-26   \n",
       "\n",
       "                                                 url  \\\n",
       "0  https://www.sec.gov/Archives/edgar/data/114421...   \n",
       "1  https://www.sec.gov/Archives/edgar/data/114085...   \n",
       "2  https://www.sec.gov/Archives/edgar/data/320193...   \n",
       "\n",
       "                                           full_text  year  quarter  \\\n",
       "0  \\n10-K\\n1\\nayi-2016831x10k.htm\\n10-K\\n\\n\\n\\n\\n...  2016        4   \n",
       "1  \\n10-K\\n1\\nabc10-kxseptember302016.htm\\n10-K\\n...  2016        4   \n",
       "2  \\n10-K\\n1\\na201610-k9242016.htm\\n10-K\\n\\n\\n\\n\\...  2016        4   \n",
       "\n",
       "  report_type  \n",
       "0        10-K  \n",
       "1        10-K  \n",
       "2        10-K  "
      ]
     },
     "execution_count": 63,
     "metadata": {},
     "output_type": "execute_result"
    }
   ],
   "source": [
    "data_2016_4.head(3)"
   ]
  },
  {
   "cell_type": "code",
   "execution_count": 65,
   "metadata": {
    "collapsed": false
   },
   "outputs": [
    {
     "name": "stdout",
     "output_type": "stream",
     "text": [
      "file already exist\n",
      "DataFrame rows: 53\n",
      "0:03:41.924745\n",
      "file already exist\n",
      "DataFrame rows: 43\n",
      "0:02:09.040601\n",
      "file already exist\n",
      "DataFrame rows: 46\n",
      "0:02:51.048820\n",
      "file already exist\n",
      "DataFrame rows: 551\n",
      "0:39:33.312180\n"
     ]
    }
   ],
   "source": [
    "data_2015_4 = putting_together(2015,4,\"data_file_61617.csv\",\"10-K\")\n",
    "data_2015_3 = putting_together(2015,3,\"data_file_61617.csv\",\"10-K\")\n",
    "data_2015_2 = putting_together(2015,2,\"data_file_61617.csv\",\"10-K\")\n",
    "data_2015_1 = putting_together(2015,1,\"data_file_61617.csv\",\"10-K\")"
   ]
  },
  {
   "cell_type": "code",
   "execution_count": 66,
   "metadata": {
    "collapsed": false
   },
   "outputs": [
    {
     "name": "stdout",
     "output_type": "stream",
     "text": [
      "file already exist\n",
      "DataFrame rows: 53\n",
      "0:03:15.785112\n",
      "file already exist\n",
      "DataFrame rows: 44\n",
      "0:02:19.224738\n",
      "file already exist\n",
      "DataFrame rows: 49\n",
      "0:02:48.407083\n",
      "file already exist\n"
     ]
    },
    {
     "ename": "ConnectionError",
     "evalue": "HTTPSConnectionPool(host='www.sec.gov', port=443): Max retries exceeded with url: /Archives/edgar/data/1103021/000119312514098673/d647728d10k.htm (Caused by NewConnectionError('<requests.packages.urllib3.connection.VerifiedHTTPSConnection object at 0x117339990>: Failed to establish a new connection: [Errno 65] No route to host',))",
     "output_type": "error",
     "traceback": [
      "\u001b[0;31m---------------------------------------------------------\u001b[0m",
      "\u001b[0;31mConnectionError\u001b[0m         Traceback (most recent call last)",
      "\u001b[0;32m<ipython-input-66-707dbb0cc8d2>\u001b[0m in \u001b[0;36m<module>\u001b[0;34m()\u001b[0m\n\u001b[1;32m      2\u001b[0m \u001b[0mdata_2014_3\u001b[0m \u001b[0;34m=\u001b[0m \u001b[0mputting_together\u001b[0m\u001b[0;34m(\u001b[0m\u001b[0;36m2014\u001b[0m\u001b[0;34m,\u001b[0m\u001b[0;36m3\u001b[0m\u001b[0;34m,\u001b[0m\u001b[0;34m\"data_file_61617.csv\"\u001b[0m\u001b[0;34m,\u001b[0m\u001b[0;34m\"10-K\"\u001b[0m\u001b[0;34m)\u001b[0m\u001b[0;34m\u001b[0m\u001b[0m\n\u001b[1;32m      3\u001b[0m \u001b[0mdata_2014_2\u001b[0m \u001b[0;34m=\u001b[0m \u001b[0mputting_together\u001b[0m\u001b[0;34m(\u001b[0m\u001b[0;36m2014\u001b[0m\u001b[0;34m,\u001b[0m\u001b[0;36m2\u001b[0m\u001b[0;34m,\u001b[0m\u001b[0;34m\"data_file_61617.csv\"\u001b[0m\u001b[0;34m,\u001b[0m\u001b[0;34m\"10-K\"\u001b[0m\u001b[0;34m)\u001b[0m\u001b[0;34m\u001b[0m\u001b[0m\n\u001b[0;32m----> 4\u001b[0;31m \u001b[0mdata_2014_1\u001b[0m \u001b[0;34m=\u001b[0m \u001b[0mputting_together\u001b[0m\u001b[0;34m(\u001b[0m\u001b[0;36m2014\u001b[0m\u001b[0;34m,\u001b[0m\u001b[0;36m1\u001b[0m\u001b[0;34m,\u001b[0m\u001b[0;34m\"data_file_61617.csv\"\u001b[0m\u001b[0;34m,\u001b[0m\u001b[0;34m\"10-K\"\u001b[0m\u001b[0;34m)\u001b[0m\u001b[0;34m\u001b[0m\u001b[0m\n\u001b[0m",
      "\u001b[0;32m<ipython-input-59-807cd89161f8>\u001b[0m in \u001b[0;36mputting_together\u001b[0;34m(year_number, qtr, company_name, report_type, runtime)\u001b[0m\n\u001b[1;32m      9\u001b[0m     \u001b[0mdata_frame\u001b[0m \u001b[0;34m=\u001b[0m \u001b[0mconvert_to_pandas\u001b[0m\u001b[0;34m(\u001b[0m\u001b[0mfile_path\u001b[0m\u001b[0;34m,\u001b[0m \u001b[0mdata_start_num\u001b[0m\u001b[0;34m)\u001b[0m\u001b[0;34m\u001b[0m\u001b[0m\n\u001b[1;32m     10\u001b[0m     \u001b[0mresults\u001b[0m \u001b[0;34m=\u001b[0m \u001b[0msearch_company_name\u001b[0m\u001b[0;34m(\u001b[0m\u001b[0mdata_frame\u001b[0m\u001b[0;34m,\u001b[0m \u001b[0mcompany_name\u001b[0m\u001b[0;34m,\u001b[0m \u001b[0mreport_type\u001b[0m\u001b[0;34m)\u001b[0m\u001b[0;34m\u001b[0m\u001b[0m\n\u001b[0;32m---> 11\u001b[0;31m     \u001b[0mfinal_data\u001b[0m \u001b[0;34m=\u001b[0m \u001b[0mgetting_data\u001b[0m\u001b[0;34m(\u001b[0m\u001b[0mresults\u001b[0m\u001b[0;34m,\u001b[0m \u001b[0myear_number\u001b[0m\u001b[0;34m,\u001b[0m \u001b[0mqtr\u001b[0m\u001b[0;34m,\u001b[0m \u001b[0mreport_type\u001b[0m\u001b[0;34m)\u001b[0m\u001b[0;34m\u001b[0m\u001b[0m\n\u001b[0m\u001b[1;32m     12\u001b[0m     \u001b[0mend\u001b[0m \u001b[0;34m=\u001b[0m \u001b[0mdatetime\u001b[0m\u001b[0;34m.\u001b[0m\u001b[0mdatetime\u001b[0m\u001b[0;34m.\u001b[0m\u001b[0mnow\u001b[0m\u001b[0;34m(\u001b[0m\u001b[0;34m)\u001b[0m\u001b[0;34m\u001b[0m\u001b[0m\n\u001b[1;32m     13\u001b[0m     \u001b[0mfinal_data\u001b[0m\u001b[0;34m[\u001b[0m\u001b[0;34m\"date\"\u001b[0m\u001b[0;34m]\u001b[0m \u001b[0;34m=\u001b[0m \u001b[0mpd\u001b[0m\u001b[0;34m.\u001b[0m\u001b[0mto_datetime\u001b[0m\u001b[0;34m(\u001b[0m\u001b[0mfinal_data\u001b[0m\u001b[0;34m[\u001b[0m\u001b[0;34m\"date\"\u001b[0m\u001b[0;34m]\u001b[0m\u001b[0;34m)\u001b[0m\u001b[0;34m\u001b[0m\u001b[0m\n",
      "\u001b[0;32m<ipython-input-16-def086fde0a1>\u001b[0m in \u001b[0;36mgetting_data\u001b[0;34m(company_list, year_number, qtr, report_type)\u001b[0m\n\u001b[1;32m      7\u001b[0m         \u001b[0mlink\u001b[0m \u001b[0;34m=\u001b[0m \u001b[0mtarget\u001b[0m\u001b[0;34m.\u001b[0m\u001b[0mfind_all\u001b[0m\u001b[0;34m(\u001b[0m\u001b[0;34m\"tr\"\u001b[0m\u001b[0;34m)\u001b[0m\u001b[0;34m[\u001b[0m\u001b[0;36m1\u001b[0m\u001b[0;34m]\u001b[0m\u001b[0;34m.\u001b[0m\u001b[0mfind_all\u001b[0m\u001b[0;34m(\u001b[0m\u001b[0;34m\"a\"\u001b[0m\u001b[0;34m)\u001b[0m\u001b[0;34m[\u001b[0m\u001b[0;36m0\u001b[0m\u001b[0;34m]\u001b[0m\u001b[0;34m[\u001b[0m\u001b[0;34m\"href\"\u001b[0m\u001b[0;34m]\u001b[0m\u001b[0;34m\u001b[0m\u001b[0m\n\u001b[1;32m      8\u001b[0m         \u001b[0mfinal_link\u001b[0m \u001b[0;34m=\u001b[0m \u001b[0;34m\"https://www.sec.gov\"\u001b[0m\u001b[0;34m+\u001b[0m\u001b[0mlink\u001b[0m\u001b[0;34m\u001b[0m\u001b[0m\n\u001b[0;32m----> 9\u001b[0;31m         \u001b[0mtext_report\u001b[0m \u001b[0;34m=\u001b[0m \u001b[0mrequests\u001b[0m\u001b[0;34m.\u001b[0m\u001b[0mget\u001b[0m\u001b[0;34m(\u001b[0m\u001b[0mfinal_link\u001b[0m\u001b[0;34m)\u001b[0m\u001b[0;34m.\u001b[0m\u001b[0mtext\u001b[0m\u001b[0;34m\u001b[0m\u001b[0m\n\u001b[0m\u001b[1;32m     10\u001b[0m         \u001b[0mtext_report\u001b[0m \u001b[0;34m=\u001b[0m \u001b[0mBeautifulSoup\u001b[0m\u001b[0;34m(\u001b[0m\u001b[0mtext_report\u001b[0m\u001b[0;34m,\u001b[0m \u001b[0;34m\"html.parser\"\u001b[0m\u001b[0;34m)\u001b[0m\u001b[0;34m\u001b[0m\u001b[0m\n\u001b[1;32m     11\u001b[0m         \u001b[0mcontent\u001b[0m \u001b[0;34m=\u001b[0m \u001b[0mtext_report\u001b[0m\u001b[0;34m.\u001b[0m\u001b[0mtext\u001b[0m\u001b[0;34m\u001b[0m\u001b[0m\n",
      "\u001b[0;32m/Users/jasonchiu0803/anaconda2/lib/python2.7/site-packages/requests/api.pyc\u001b[0m in \u001b[0;36mget\u001b[0;34m(url, params, **kwargs)\u001b[0m\n\u001b[1;32m     68\u001b[0m \u001b[0;34m\u001b[0m\u001b[0m\n\u001b[1;32m     69\u001b[0m     \u001b[0mkwargs\u001b[0m\u001b[0;34m.\u001b[0m\u001b[0msetdefault\u001b[0m\u001b[0;34m(\u001b[0m\u001b[0;34m'allow_redirects'\u001b[0m\u001b[0;34m,\u001b[0m \u001b[0mTrue\u001b[0m\u001b[0;34m)\u001b[0m\u001b[0;34m\u001b[0m\u001b[0m\n\u001b[0;32m---> 70\u001b[0;31m     \u001b[0;32mreturn\u001b[0m \u001b[0mrequest\u001b[0m\u001b[0;34m(\u001b[0m\u001b[0;34m'get'\u001b[0m\u001b[0;34m,\u001b[0m \u001b[0murl\u001b[0m\u001b[0;34m,\u001b[0m \u001b[0mparams\u001b[0m\u001b[0;34m=\u001b[0m\u001b[0mparams\u001b[0m\u001b[0;34m,\u001b[0m \u001b[0;34m**\u001b[0m\u001b[0mkwargs\u001b[0m\u001b[0;34m)\u001b[0m\u001b[0;34m\u001b[0m\u001b[0m\n\u001b[0m\u001b[1;32m     71\u001b[0m \u001b[0;34m\u001b[0m\u001b[0m\n\u001b[1;32m     72\u001b[0m \u001b[0;34m\u001b[0m\u001b[0m\n",
      "\u001b[0;32m/Users/jasonchiu0803/anaconda2/lib/python2.7/site-packages/requests/api.pyc\u001b[0m in \u001b[0;36mrequest\u001b[0;34m(method, url, **kwargs)\u001b[0m\n\u001b[1;32m     54\u001b[0m     \u001b[0;31m# cases, and look like a memory leak in others.\u001b[0m\u001b[0;34m\u001b[0m\u001b[0;34m\u001b[0m\u001b[0m\n\u001b[1;32m     55\u001b[0m     \u001b[0;32mwith\u001b[0m \u001b[0msessions\u001b[0m\u001b[0;34m.\u001b[0m\u001b[0mSession\u001b[0m\u001b[0;34m(\u001b[0m\u001b[0;34m)\u001b[0m \u001b[0;32mas\u001b[0m \u001b[0msession\u001b[0m\u001b[0;34m:\u001b[0m\u001b[0;34m\u001b[0m\u001b[0m\n\u001b[0;32m---> 56\u001b[0;31m         \u001b[0;32mreturn\u001b[0m \u001b[0msession\u001b[0m\u001b[0;34m.\u001b[0m\u001b[0mrequest\u001b[0m\u001b[0;34m(\u001b[0m\u001b[0mmethod\u001b[0m\u001b[0;34m=\u001b[0m\u001b[0mmethod\u001b[0m\u001b[0;34m,\u001b[0m \u001b[0murl\u001b[0m\u001b[0;34m=\u001b[0m\u001b[0murl\u001b[0m\u001b[0;34m,\u001b[0m \u001b[0;34m**\u001b[0m\u001b[0mkwargs\u001b[0m\u001b[0;34m)\u001b[0m\u001b[0;34m\u001b[0m\u001b[0m\n\u001b[0m\u001b[1;32m     57\u001b[0m \u001b[0;34m\u001b[0m\u001b[0m\n\u001b[1;32m     58\u001b[0m \u001b[0;34m\u001b[0m\u001b[0m\n",
      "\u001b[0;32m/Users/jasonchiu0803/anaconda2/lib/python2.7/site-packages/requests/sessions.pyc\u001b[0m in \u001b[0;36mrequest\u001b[0;34m(self, method, url, params, data, headers, cookies, files, auth, timeout, allow_redirects, proxies, hooks, stream, verify, cert, json)\u001b[0m\n\u001b[1;32m    486\u001b[0m         }\n\u001b[1;32m    487\u001b[0m         \u001b[0msend_kwargs\u001b[0m\u001b[0;34m.\u001b[0m\u001b[0mupdate\u001b[0m\u001b[0;34m(\u001b[0m\u001b[0msettings\u001b[0m\u001b[0;34m)\u001b[0m\u001b[0;34m\u001b[0m\u001b[0m\n\u001b[0;32m--> 488\u001b[0;31m         \u001b[0mresp\u001b[0m \u001b[0;34m=\u001b[0m \u001b[0mself\u001b[0m\u001b[0;34m.\u001b[0m\u001b[0msend\u001b[0m\u001b[0;34m(\u001b[0m\u001b[0mprep\u001b[0m\u001b[0;34m,\u001b[0m \u001b[0;34m**\u001b[0m\u001b[0msend_kwargs\u001b[0m\u001b[0;34m)\u001b[0m\u001b[0;34m\u001b[0m\u001b[0m\n\u001b[0m\u001b[1;32m    489\u001b[0m \u001b[0;34m\u001b[0m\u001b[0m\n\u001b[1;32m    490\u001b[0m         \u001b[0;32mreturn\u001b[0m \u001b[0mresp\u001b[0m\u001b[0;34m\u001b[0m\u001b[0m\n",
      "\u001b[0;32m/Users/jasonchiu0803/anaconda2/lib/python2.7/site-packages/requests/sessions.pyc\u001b[0m in \u001b[0;36msend\u001b[0;34m(self, request, **kwargs)\u001b[0m\n\u001b[1;32m    607\u001b[0m \u001b[0;34m\u001b[0m\u001b[0m\n\u001b[1;32m    608\u001b[0m         \u001b[0;31m# Send the request\u001b[0m\u001b[0;34m\u001b[0m\u001b[0;34m\u001b[0m\u001b[0m\n\u001b[0;32m--> 609\u001b[0;31m         \u001b[0mr\u001b[0m \u001b[0;34m=\u001b[0m \u001b[0madapter\u001b[0m\u001b[0;34m.\u001b[0m\u001b[0msend\u001b[0m\u001b[0;34m(\u001b[0m\u001b[0mrequest\u001b[0m\u001b[0;34m,\u001b[0m \u001b[0;34m**\u001b[0m\u001b[0mkwargs\u001b[0m\u001b[0;34m)\u001b[0m\u001b[0;34m\u001b[0m\u001b[0m\n\u001b[0m\u001b[1;32m    610\u001b[0m \u001b[0;34m\u001b[0m\u001b[0m\n\u001b[1;32m    611\u001b[0m         \u001b[0;31m# Total elapsed time of the request (approximately)\u001b[0m\u001b[0;34m\u001b[0m\u001b[0;34m\u001b[0m\u001b[0m\n",
      "\u001b[0;32m/Users/jasonchiu0803/anaconda2/lib/python2.7/site-packages/requests/adapters.pyc\u001b[0m in \u001b[0;36msend\u001b[0;34m(self, request, stream, timeout, verify, cert, proxies)\u001b[0m\n\u001b[1;32m    485\u001b[0m                 \u001b[0;32mraise\u001b[0m \u001b[0mProxyError\u001b[0m\u001b[0;34m(\u001b[0m\u001b[0me\u001b[0m\u001b[0;34m,\u001b[0m \u001b[0mrequest\u001b[0m\u001b[0;34m=\u001b[0m\u001b[0mrequest\u001b[0m\u001b[0;34m)\u001b[0m\u001b[0;34m\u001b[0m\u001b[0m\n\u001b[1;32m    486\u001b[0m \u001b[0;34m\u001b[0m\u001b[0m\n\u001b[0;32m--> 487\u001b[0;31m             \u001b[0;32mraise\u001b[0m \u001b[0mConnectionError\u001b[0m\u001b[0;34m(\u001b[0m\u001b[0me\u001b[0m\u001b[0;34m,\u001b[0m \u001b[0mrequest\u001b[0m\u001b[0;34m=\u001b[0m\u001b[0mrequest\u001b[0m\u001b[0;34m)\u001b[0m\u001b[0;34m\u001b[0m\u001b[0m\n\u001b[0m\u001b[1;32m    488\u001b[0m \u001b[0;34m\u001b[0m\u001b[0m\n\u001b[1;32m    489\u001b[0m         \u001b[0;32mexcept\u001b[0m \u001b[0mClosedPoolError\u001b[0m \u001b[0;32mas\u001b[0m \u001b[0me\u001b[0m\u001b[0;34m:\u001b[0m\u001b[0;34m\u001b[0m\u001b[0m\n",
      "\u001b[0;31mConnectionError\u001b[0m: HTTPSConnectionPool(host='www.sec.gov', port=443): Max retries exceeded with url: /Archives/edgar/data/1103021/000119312514098673/d647728d10k.htm (Caused by NewConnectionError('<requests.packages.urllib3.connection.VerifiedHTTPSConnection object at 0x117339990>: Failed to establish a new connection: [Errno 65] No route to host',))"
     ]
    }
   ],
   "source": [
    "data_2014_4 = putting_together(2014,4,\"data_file_61617.csv\",\"10-K\")\n",
    "data_2014_3 = putting_together(2014,3,\"data_file_61617.csv\",\"10-K\")\n",
    "data_2014_2 = putting_together(2014,2,\"data_file_61617.csv\",\"10-K\")"
   ]
  },
  {
   "cell_type": "code",
   "execution_count": 67,
   "metadata": {
    "collapsed": false
   },
   "outputs": [
    {
     "name": "stdout",
     "output_type": "stream",
     "text": [
      "file already exist\n",
      "DataFrame rows: 548\n",
      "0:35:08.770875\n"
     ]
    }
   ],
   "source": [
    "data_2014_1 = putting_together(2014,1,\"data_file_61617.csv\",\"10-K\")"
   ]
  },
  {
   "cell_type": "code",
   "execution_count": 68,
   "metadata": {
    "collapsed": false
   },
   "outputs": [
    {
     "name": "stdout",
     "output_type": "stream",
     "text": [
      "file already exist\n",
      "DataFrame rows: 52\n",
      "0:03:06.605270\n",
      "file already exist\n",
      "DataFrame rows: 51\n",
      "0:02:35.372047\n",
      "file already exist\n",
      "DataFrame rows: 54\n",
      "0:03:01.924375\n"
     ]
    }
   ],
   "source": [
    "data_2013_4 = putting_together(2013,4,\"data_file_61617.csv\",\"10-K\")\n",
    "data_2013_3 = putting_together(2013,3,\"data_file_61617.csv\",\"10-K\")\n",
    "data_2013_2 = putting_together(2013,2,\"data_file_61617.csv\",\"10-K\")"
   ]
  },
  {
   "cell_type": "code",
   "execution_count": 69,
   "metadata": {
    "collapsed": false
   },
   "outputs": [
    {
     "name": "stdout",
     "output_type": "stream",
     "text": [
      "file already exist\n",
      "DataFrame rows: 537\n",
      "0:40:16.422262\n"
     ]
    }
   ],
   "source": [
    "data_2013_1 = putting_together(2013,1,\"data_file_61617.csv\",\"10-K\")"
   ]
  },
  {
   "cell_type": "code",
   "execution_count": 70,
   "metadata": {
    "collapsed": false
   },
   "outputs": [
    {
     "name": "stdout",
     "output_type": "stream",
     "text": [
      "file already exist\n",
      "DataFrame rows: 49\n",
      "0:02:42.231412\n",
      "file already exist\n",
      "DataFrame rows: 50\n",
      "0:02:12.135185\n",
      "file already exist\n",
      "DataFrame rows: 48\n",
      "0:02:26.314624\n",
      "file already exist\n",
      "DataFrame rows: 534\n",
      "0:34:52.602900\n"
     ]
    }
   ],
   "source": [
    "data_2011_4 = putting_together(2011,4,\"data_file_61617.csv\",\"10-K\")\n",
    "data_2011_3 = putting_together(2011,3,\"data_file_61617.csv\",\"10-K\")\n",
    "data_2011_2 = putting_together(2011,2,\"data_file_61617.csv\",\"10-K\")\n",
    "data_2011_1 = putting_together(2011,1,\"data_file_61617.csv\",\"10-K\")"
   ]
  },
  {
   "cell_type": "code",
   "execution_count": 91,
   "metadata": {
    "collapsed": false
   },
   "outputs": [
    {
     "name": "stdout",
     "output_type": "stream",
     "text": [
      "file already exist\n",
      "DataFrame rows: 53\n",
      "0:02:51.772387\n"
     ]
    }
   ],
   "source": [
    "data_2010_4 = putting_together(2010,4,\"data_file_61617.csv\",\"10-K\")\n",
    "#data_2010_3 = putting_together(2010,3,\"data_file_61617.csv\",\"10-K\")\n",
    "#data_2010_2 = putting_together(2010,2,\"data_file_61617.csv\",\"10-K\")\n",
    "#data_2010_1 = putting_together(2010,1,\"data_file_61617.csv\",\"10-K\")"
   ]
  },
  {
   "cell_type": "code",
   "execution_count": 106,
   "metadata": {
    "collapsed": false
   },
   "outputs": [],
   "source": [
    "data_2017 = [data_2017_2, data_2017_1]\n",
    "data_2016 = [data_2016_4, data_2016_3, data_2016_2, data_2016_1]\n",
    "data_2015 = [data_2015_4, data_2015_3, data_2015_2, data_2015_1]\n",
    "data_2014 = [data_2014_4, data_2014_3, data_2014_2, data_2014_1]\n",
    "data_2013 = [data_2013_4, data_2013_3, data_2013_2, data_2013_1]\n",
    "data_2011 = [data_2011_4, data_2011_3, data_2011_2, data_2011_1]\n",
    "data_2010 = [data_2010_4, data_2010_3, data_2010_2, data_2010_1]"
   ]
  },
  {
   "cell_type": "code",
   "execution_count": 85,
   "metadata": {
    "collapsed": false
   },
   "outputs": [
    {
     "data": {
      "text/html": [
       "<div>\n",
       "<style>\n",
       "    .dataframe thead tr:only-child th {\n",
       "        text-align: right;\n",
       "    }\n",
       "\n",
       "    .dataframe thead th {\n",
       "        text-align: left;\n",
       "    }\n",
       "\n",
       "    .dataframe tbody tr th {\n",
       "        vertical-align: top;\n",
       "    }\n",
       "</style>\n",
       "<table border=\"1\" class=\"dataframe\">\n",
       "  <thead>\n",
       "    <tr style=\"text-align: right;\">\n",
       "      <th></th>\n",
       "      <th>Name</th>\n",
       "      <th>CIK #</th>\n",
       "      <th>company</th>\n",
       "      <th>report</th>\n",
       "      <th>date</th>\n",
       "      <th>url</th>\n",
       "      <th>full_text</th>\n",
       "      <th>year</th>\n",
       "      <th>quarter</th>\n",
       "      <th>report_type</th>\n",
       "    </tr>\n",
       "  </thead>\n",
       "  <tbody>\n",
       "    <tr>\n",
       "      <th>0</th>\n",
       "      <td>8x8 inc /de/</td>\n",
       "      <td>1023731</td>\n",
       "      <td>8X8 INC /DE/</td>\n",
       "      <td>10-K</td>\n",
       "      <td>2017-05-30</td>\n",
       "      <td>https://www.sec.gov/Archives/edgar/data/102373...</td>\n",
       "      <td>\\n10-K\\n1\\nbody10k.htm\\n10-K\\n\\n\\n\\nMarch 31, ...</td>\n",
       "      <td>2017</td>\n",
       "      <td>2</td>\n",
       "      <td>10-K</td>\n",
       "    </tr>\n",
       "  </tbody>\n",
       "</table>\n",
       "</div>"
      ],
      "text/plain": [
       "           Name    CIK #       company report       date  \\\n",
       "0  8x8 inc /de/  1023731  8X8 INC /DE/   10-K 2017-05-30   \n",
       "\n",
       "                                                 url  \\\n",
       "0  https://www.sec.gov/Archives/edgar/data/102373...   \n",
       "\n",
       "                                           full_text  year  quarter  \\\n",
       "0  \\n10-K\\n1\\nbody10k.htm\\n10-K\\n\\n\\n\\nMarch 31, ...  2017        2   \n",
       "\n",
       "  report_type  \n",
       "0        10-K  "
      ]
     },
     "execution_count": 85,
     "metadata": {},
     "output_type": "execute_result"
    }
   ],
   "source": [
    "data_2017_2.head(1)"
   ]
  },
  {
   "cell_type": "code",
   "execution_count": 129,
   "metadata": {
    "collapsed": false
   },
   "outputs": [
    {
     "data": {
      "text/plain": [
       "(695, 11)"
      ]
     },
     "execution_count": 129,
     "metadata": {},
     "output_type": "execute_result"
    }
   ],
   "source": [
    "data_set_61617.shape"
   ]
  },
  {
   "cell_type": "code",
   "execution_count": 130,
   "metadata": {
    "collapsed": true
   },
   "outputs": [],
   "source": [
    "data_table = pd.read_csv(\"data_file_61617.csv\")"
   ]
  },
  {
   "cell_type": "code",
   "execution_count": 132,
   "metadata": {
    "collapsed": false
   },
   "outputs": [],
   "source": [
    "del data_table[\"Unnamed: 0\"]"
   ]
  },
  {
   "cell_type": "code",
   "execution_count": 133,
   "metadata": {
    "collapsed": false
   },
   "outputs": [
    {
     "data": {
      "text/html": [
       "<div>\n",
       "<style>\n",
       "    .dataframe thead tr:only-child th {\n",
       "        text-align: right;\n",
       "    }\n",
       "\n",
       "    .dataframe thead th {\n",
       "        text-align: left;\n",
       "    }\n",
       "\n",
       "    .dataframe tbody tr th {\n",
       "        vertical-align: top;\n",
       "    }\n",
       "</style>\n",
       "<table border=\"1\" class=\"dataframe\">\n",
       "  <thead>\n",
       "    <tr style=\"text-align: right;\">\n",
       "      <th></th>\n",
       "      <th>CIK #</th>\n",
       "      <th>Name</th>\n",
       "      <th>company</th>\n",
       "      <th>date</th>\n",
       "      <th>full_text</th>\n",
       "      <th>quarter</th>\n",
       "      <th>report</th>\n",
       "      <th>report_type</th>\n",
       "      <th>status</th>\n",
       "      <th>url</th>\n",
       "      <th>year</th>\n",
       "    </tr>\n",
       "  </thead>\n",
       "  <tbody>\n",
       "    <tr>\n",
       "      <th>0</th>\n",
       "      <td>1000228</td>\n",
       "      <td>henry schein inc</td>\n",
       "      <td>HENRY SCHEIN INC</td>\n",
       "      <td>2012-02-15</td>\n",
       "      <td>\\n10-K\\n1\\nthe10k_2011.htm\\nTHE 2011 ANNUAL 10...</td>\n",
       "      <td>1</td>\n",
       "      <td>10-K</td>\n",
       "      <td>10-K</td>\n",
       "      <td>winner</td>\n",
       "      <td>https://www.sec.gov/Archives/edgar/data/100022...</td>\n",
       "      <td>2012</td>\n",
       "    </tr>\n",
       "    <tr>\n",
       "      <th>1</th>\n",
       "      <td>1001039</td>\n",
       "      <td>dc holdco inc</td>\n",
       "      <td>WALT DISNEY CO/</td>\n",
       "      <td>2012-11-21</td>\n",
       "      <td>\\n10-K\\n1\\nd405160d10k.htm\\nFORM 10-K\\n\\n\\nFor...</td>\n",
       "      <td>4</td>\n",
       "      <td>10-K</td>\n",
       "      <td>10-K</td>\n",
       "      <td>winner</td>\n",
       "      <td>https://www.sec.gov/Archives/edgar/data/100103...</td>\n",
       "      <td>2012</td>\n",
       "    </tr>\n",
       "    <tr>\n",
       "      <th>2</th>\n",
       "      <td>1001316</td>\n",
       "      <td>atlantic pharmaceuticals inc</td>\n",
       "      <td>MANHATTAN PHARMACEUTICALS INC</td>\n",
       "      <td>2012-03-14</td>\n",
       "      <td>\\n10-K\\n1\\nv305275_10k.htm\\nFORM 10-K\\n\\n\\n\\n\\...</td>\n",
       "      <td>1</td>\n",
       "      <td>10-K</td>\n",
       "      <td>10-K</td>\n",
       "      <td>winner</td>\n",
       "      <td>https://www.sec.gov/Archives/edgar/data/100131...</td>\n",
       "      <td>2012</td>\n",
       "    </tr>\n",
       "  </tbody>\n",
       "</table>\n",
       "</div>"
      ],
      "text/plain": [
       "     CIK #                          Name                        company  \\\n",
       "0  1000228              henry schein inc               HENRY SCHEIN INC   \n",
       "1  1001039                 dc holdco inc                WALT DISNEY CO/   \n",
       "2  1001316  atlantic pharmaceuticals inc  MANHATTAN PHARMACEUTICALS INC   \n",
       "\n",
       "         date                                          full_text  quarter  \\\n",
       "0  2012-02-15  \\n10-K\\n1\\nthe10k_2011.htm\\nTHE 2011 ANNUAL 10...        1   \n",
       "1  2012-11-21  \\n10-K\\n1\\nd405160d10k.htm\\nFORM 10-K\\n\\n\\nFor...        4   \n",
       "2  2012-03-14  \\n10-K\\n1\\nv305275_10k.htm\\nFORM 10-K\\n\\n\\n\\n\\...        1   \n",
       "\n",
       "  report report_type  status  \\\n",
       "0   10-K        10-K  winner   \n",
       "1   10-K        10-K  winner   \n",
       "2   10-K        10-K  winner   \n",
       "\n",
       "                                                 url  year  \n",
       "0  https://www.sec.gov/Archives/edgar/data/100022...  2012  \n",
       "1  https://www.sec.gov/Archives/edgar/data/100103...  2012  \n",
       "2  https://www.sec.gov/Archives/edgar/data/100131...  2012  "
      ]
     },
     "execution_count": 133,
     "metadata": {},
     "output_type": "execute_result"
    }
   ],
   "source": [
    "data_table.head(3)"
   ]
  },
  {
   "cell_type": "code",
   "execution_count": 141,
   "metadata": {
    "collapsed": false
   },
   "outputs": [],
   "source": [
    "def remove_duplicate(bundle):\n",
    "    x = pd.concat(bundle, axis = 0)\n",
    "    x[\"CIK #\"] = x[\"CIK #\"].astype(str)\n",
    "    data_table[\"CIK #\"] = data_table[\"CIK #\"].astype(str)\n",
    "    y = pd.merge(x, data_table[[\"CIK #\",\"status\"]], how=\"left\",on = \"CIK #\")\n",
    "    z = y.groupby(\"CIK #\").first().reset_index()\n",
    "    return z"
   ]
  },
  {
   "cell_type": "code",
   "execution_count": 142,
   "metadata": {
    "collapsed": false
   },
   "outputs": [],
   "source": [
    "data_2017_c = remove_duplicate(data_2017)\n",
    "data_2016_c = remove_duplicate(data_2016)\n",
    "data_2015_c = remove_duplicate(data_2015)\n",
    "data_2014_c = remove_duplicate(data_2014)\n",
    "data_2013_c = remove_duplicate(data_2013)\n",
    "data_2011_c = remove_duplicate(data_2011)\n",
    "data_2010_c = remove_duplicate(data_2010)"
   ]
  },
  {
   "cell_type": "code",
   "execution_count": 146,
   "metadata": {
    "collapsed": true
   },
   "outputs": [],
   "source": [
    "all_2010_2017 = [data_2017_c, data_2016_c, data_2015_c, data_2014_c, data_2013_c, data_2011_c, data_2010_c]"
   ]
  },
  {
   "cell_type": "code",
   "execution_count": 147,
   "metadata": {
    "collapsed": false,
    "scrolled": false
   },
   "outputs": [],
   "source": [
    "data_2010_2017_61717 = pd.concat(all_2010_2017, axis = 0)"
   ]
  },
  {
   "cell_type": "code",
   "execution_count": 148,
   "metadata": {
    "collapsed": false
   },
   "outputs": [],
   "source": [
    "data_2010_2017_61717.to_csv(\"data_2010_2017_61717.csv\",index = False)"
   ]
  },
  {
   "cell_type": "markdown",
   "metadata": {},
   "source": [
    "# Scraping news headlines"
   ]
  },
  {
   "cell_type": "code",
   "execution_count": 761,
   "metadata": {
    "collapsed": false
   },
   "outputs": [],
   "source": [
    "a = new_winner_list[[\"Ticker\"]].drop_duplicates().reset_index(drop=True)"
   ]
  },
  {
   "cell_type": "code",
   "execution_count": 762,
   "metadata": {
    "collapsed": true
   },
   "outputs": [],
   "source": [
    "b = loser_list[[\"Ticker\"]].drop_duplicates().reset_index(drop=True)"
   ]
  },
  {
   "cell_type": "code",
   "execution_count": 768,
   "metadata": {
    "collapsed": false
   },
   "outputs": [],
   "source": [
    "c = winner_list_unique[[\"Ticker\"]].drop_duplicates().reset_index(drop=True)"
   ]
  },
  {
   "cell_type": "code",
   "execution_count": 765,
   "metadata": {
    "collapsed": false
   },
   "outputs": [],
   "source": [
    "all_listing = [a,b,c]"
   ]
  },
  {
   "cell_type": "code",
   "execution_count": 766,
   "metadata": {
    "collapsed": true
   },
   "outputs": [],
   "source": [
    "total_list = pd.concat(all_listing, axis = 0)"
   ]
  },
  {
   "cell_type": "code",
   "execution_count": 770,
   "metadata": {
    "collapsed": false
   },
   "outputs": [],
   "source": [
    "total_list = total_list.drop_duplicates()"
   ]
  },
  {
   "cell_type": "code",
   "execution_count": 771,
   "metadata": {
    "collapsed": false
   },
   "outputs": [
    {
     "data": {
      "text/plain": [
       "(571, 1)"
      ]
     },
     "execution_count": 771,
     "metadata": {},
     "output_type": "execute_result"
    }
   ],
   "source": [
    "total_list.shape"
   ]
  },
  {
   "cell_type": "code",
   "execution_count": 777,
   "metadata": {
    "collapsed": false
   },
   "outputs": [],
   "source": [
    "ticker_list = list(total_list[\"Ticker\"])"
   ]
  },
  {
   "cell_type": "code",
   "execution_count": 778,
   "metadata": {
    "collapsed": false
   },
   "outputs": [],
   "source": [
    "with open('ticker_list', 'wb') as handle:\n",
    "    pickle.dump(ticker_list, handle, protocol=pickle.HIGHEST_PROTOCOL)"
   ]
  },
  {
   "cell_type": "code",
   "execution_count": 780,
   "metadata": {
    "collapsed": false
   },
   "outputs": [],
   "source": [
    "with open('ticker_list', 'rb') as handle:\n",
    "    b = pickle.load(handle)"
   ]
  },
  {
   "cell_type": "markdown",
   "metadata": {
    "collapsed": true
   },
   "source": [
    "# Creating a database for Sparks"
   ]
  },
  {
   "cell_type": "code",
   "execution_count": 782,
   "metadata": {
    "collapsed": false
   },
   "outputs": [
    {
     "data": {
      "text/plain": [
       "Index([u'CIK #', u'Name', u'company', u'report', u'date', u'url', u'full_text',\n",
       "       u'year', u'quarter', u'report_type', u'status'],\n",
       "      dtype='object')"
      ]
     },
     "execution_count": 782,
     "metadata": {},
     "output_type": "execute_result"
    }
   ],
   "source": [
    "final_set.columns"
   ]
  },
  {
   "cell_type": "code",
   "execution_count": 793,
   "metadata": {
    "collapsed": false
   },
   "outputs": [],
   "source": [
    "for i in range(final_set.shape[0]):\n",
    "    name = final_set.loc[i,\"CIK #\"] + \".txt\"\n",
    "    filepath = \"./txt_files/\" + name\n",
    "    text_file = open(filepath, \"w\")\n",
    "    text_file.write(final_set.loc[i,\"full_text\"])\n",
    "    text_file.close()"
   ]
  },
  {
   "cell_type": "code",
   "execution_count": 794,
   "metadata": {
    "collapsed": true
   },
   "outputs": [],
   "source": [
    "final_set_1 = final_set[[\"CIK #\", \"Name\",\"company\",\"report\",\"date\",\"url\",\"year\",\"quarter\",\"report_type\",\"status\"]]"
   ]
  },
  {
   "cell_type": "code",
   "execution_count": 795,
   "metadata": {
    "collapsed": true
   },
   "outputs": [],
   "source": [
    "final_set_1.to_csv(\"final_set_1.csv\",index = False)"
   ]
  },
  {
   "cell_type": "code",
   "execution_count": 3,
   "metadata": {
    "collapsed": false
   },
   "outputs": [],
   "source": [
    "text_report = requests.get(\"https://www.sec.gov/Archives/edgar/data/1652044/000165204417000008/goog10-kq42016.htm#s9FFFC4C562B4028925242B6543354A33\").text"
   ]
  },
  {
   "cell_type": "code",
   "execution_count": 4,
   "metadata": {
    "collapsed": true
   },
   "outputs": [],
   "source": [
    "text_report = BeautifulSoup(text_report, \"html.parser\")"
   ]
  },
  {
   "cell_type": "code",
   "execution_count": 7,
   "metadata": {
    "collapsed": false
   },
   "outputs": [],
   "source": [
    "a = text_report.find_all(\"div\")"
   ]
  },
  {
   "cell_type": "code",
   "execution_count": 29,
   "metadata": {
    "collapsed": false
   },
   "outputs": [],
   "source": [
    "html_text = list()\n",
    "for each in a:\n",
    "    html_text.append(each.text)"
   ]
  },
  {
   "cell_type": "code",
   "execution_count": 31,
   "metadata": {
    "collapsed": false
   },
   "outputs": [],
   "source": [
    "c = [x.lower() for x in html_text]"
   ]
  },
  {
   "cell_type": "markdown",
   "metadata": {},
   "source": [
    "# finding cik number"
   ]
  },
  {
   "cell_type": "code",
   "execution_count": 50,
   "metadata": {
    "collapsed": true
   },
   "outputs": [],
   "source": [
    "sector = pd.read_csv(\"ticker_sector.csv\")"
   ]
  },
  {
   "cell_type": "code",
   "execution_count": 51,
   "metadata": {
    "collapsed": false
   },
   "outputs": [
    {
     "data": {
      "text/html": [
       "<div>\n",
       "<style>\n",
       "    .dataframe thead tr:only-child th {\n",
       "        text-align: right;\n",
       "    }\n",
       "\n",
       "    .dataframe thead th {\n",
       "        text-align: left;\n",
       "    }\n",
       "\n",
       "    .dataframe tbody tr th {\n",
       "        vertical-align: top;\n",
       "    }\n",
       "</style>\n",
       "<table border=\"1\" class=\"dataframe\">\n",
       "  <thead>\n",
       "    <tr style=\"text-align: right;\">\n",
       "      <th></th>\n",
       "      <th>id</th>\n",
       "      <th>Ticker</th>\n",
       "      <th>Name</th>\n",
       "      <th>Sector</th>\n",
       "      <th>Industry</th>\n",
       "      <th>Headquarter</th>\n",
       "      <th>Country</th>\n",
       "      <th>Currency</th>\n",
       "    </tr>\n",
       "  </thead>\n",
       "  <tbody>\n",
       "    <tr>\n",
       "      <th>0</th>\n",
       "      <td>1</td>\n",
       "      <td>MMM</td>\n",
       "      <td>3M Company</td>\n",
       "      <td>Industrials</td>\n",
       "      <td>Industrial Conglomerates</td>\n",
       "      <td>St. Paul, Minnesota</td>\n",
       "      <td>USA</td>\n",
       "      <td>USD</td>\n",
       "    </tr>\n",
       "    <tr>\n",
       "      <th>1</th>\n",
       "      <td>2</td>\n",
       "      <td>ABT</td>\n",
       "      <td>Abbott Laboratories</td>\n",
       "      <td>Health Care</td>\n",
       "      <td>Health Care Equipment &amp; Services</td>\n",
       "      <td>North Chicago, Illinois</td>\n",
       "      <td>USA</td>\n",
       "      <td>USD</td>\n",
       "    </tr>\n",
       "  </tbody>\n",
       "</table>\n",
       "</div>"
      ],
      "text/plain": [
       "   id Ticker                 Name       Sector  \\\n",
       "0   1    MMM           3M Company  Industrials   \n",
       "1   2    ABT  Abbott Laboratories  Health Care   \n",
       "\n",
       "                           Industry              Headquarter Country Currency  \n",
       "0          Industrial Conglomerates      St. Paul, Minnesota     USA      USD  \n",
       "1  Health Care Equipment & Services  North Chicago, Illinois     USA      USD  "
      ]
     },
     "execution_count": 51,
     "metadata": {},
     "output_type": "execute_result"
    }
   ],
   "source": [
    "sector.head(2)"
   ]
  },
  {
   "cell_type": "code",
   "execution_count": 54,
   "metadata": {
    "collapsed": false
   },
   "outputs": [],
   "source": [
    "sector[\"cik_number\"] = sector[\"Ticker\"].apply(lambda x: get_cik(x))"
   ]
  },
  {
   "cell_type": "code",
   "execution_count": 55,
   "metadata": {
    "collapsed": false
   },
   "outputs": [
    {
     "data": {
      "text/html": [
       "<div>\n",
       "<style>\n",
       "    .dataframe thead tr:only-child th {\n",
       "        text-align: right;\n",
       "    }\n",
       "\n",
       "    .dataframe thead th {\n",
       "        text-align: left;\n",
       "    }\n",
       "\n",
       "    .dataframe tbody tr th {\n",
       "        vertical-align: top;\n",
       "    }\n",
       "</style>\n",
       "<table border=\"1\" class=\"dataframe\">\n",
       "  <thead>\n",
       "    <tr style=\"text-align: right;\">\n",
       "      <th></th>\n",
       "      <th>id</th>\n",
       "      <th>Ticker</th>\n",
       "      <th>Name</th>\n",
       "      <th>Sector</th>\n",
       "      <th>Industry</th>\n",
       "      <th>Headquarter</th>\n",
       "      <th>Country</th>\n",
       "      <th>Currency</th>\n",
       "      <th>cik_number</th>\n",
       "    </tr>\n",
       "  </thead>\n",
       "  <tbody>\n",
       "    <tr>\n",
       "      <th>0</th>\n",
       "      <td>1</td>\n",
       "      <td>MMM</td>\n",
       "      <td>3M Company</td>\n",
       "      <td>Industrials</td>\n",
       "      <td>Industrial Conglomerates</td>\n",
       "      <td>St. Paul, Minnesota</td>\n",
       "      <td>USA</td>\n",
       "      <td>USD</td>\n",
       "      <td>0000066740</td>\n",
       "    </tr>\n",
       "    <tr>\n",
       "      <th>1</th>\n",
       "      <td>2</td>\n",
       "      <td>ABT</td>\n",
       "      <td>Abbott Laboratories</td>\n",
       "      <td>Health Care</td>\n",
       "      <td>Health Care Equipment &amp; Services</td>\n",
       "      <td>North Chicago, Illinois</td>\n",
       "      <td>USA</td>\n",
       "      <td>USD</td>\n",
       "      <td>0000001800</td>\n",
       "    </tr>\n",
       "    <tr>\n",
       "      <th>2</th>\n",
       "      <td>3</td>\n",
       "      <td>ABBV</td>\n",
       "      <td>AbbVie</td>\n",
       "      <td>Health Care</td>\n",
       "      <td>Pharmaceuticals</td>\n",
       "      <td>North Chicago, Illinois</td>\n",
       "      <td>USA</td>\n",
       "      <td>USD</td>\n",
       "      <td>0001551152</td>\n",
       "    </tr>\n",
       "    <tr>\n",
       "      <th>3</th>\n",
       "      <td>4</td>\n",
       "      <td>ACN</td>\n",
       "      <td>Accenture plc</td>\n",
       "      <td>Information Technology</td>\n",
       "      <td>IT Consulting &amp; Other Services</td>\n",
       "      <td>Dublin, Ireland</td>\n",
       "      <td>USA</td>\n",
       "      <td>USD</td>\n",
       "      <td>0001467373</td>\n",
       "    </tr>\n",
       "    <tr>\n",
       "      <th>4</th>\n",
       "      <td>5</td>\n",
       "      <td>ATVI</td>\n",
       "      <td>Activision Blizzard</td>\n",
       "      <td>Information Technology</td>\n",
       "      <td>Home Entertainment Software</td>\n",
       "      <td>Santa Monica, California</td>\n",
       "      <td>USA</td>\n",
       "      <td>USD</td>\n",
       "      <td>0000718877</td>\n",
       "    </tr>\n",
       "    <tr>\n",
       "      <th>5</th>\n",
       "      <td>6</td>\n",
       "      <td>AYI</td>\n",
       "      <td>Acuity Brands Inc</td>\n",
       "      <td>Industrials</td>\n",
       "      <td>Electrical Components &amp; Equipment</td>\n",
       "      <td>Atlanta, Georgia</td>\n",
       "      <td>USA</td>\n",
       "      <td>USD</td>\n",
       "      <td>0001144215</td>\n",
       "    </tr>\n",
       "    <tr>\n",
       "      <th>6</th>\n",
       "      <td>7</td>\n",
       "      <td>ADBE</td>\n",
       "      <td>Adobe Systems Inc</td>\n",
       "      <td>Information Technology</td>\n",
       "      <td>Application Software</td>\n",
       "      <td>San Jose, California</td>\n",
       "      <td>USA</td>\n",
       "      <td>USD</td>\n",
       "      <td>0000796343</td>\n",
       "    </tr>\n",
       "    <tr>\n",
       "      <th>7</th>\n",
       "      <td>8</td>\n",
       "      <td>AAP</td>\n",
       "      <td>Advance Auto Parts</td>\n",
       "      <td>Consumer Discretionary</td>\n",
       "      <td>Automotive Retail</td>\n",
       "      <td>Roanoke, Virginia</td>\n",
       "      <td>USA</td>\n",
       "      <td>USD</td>\n",
       "      <td>0001158449</td>\n",
       "    </tr>\n",
       "    <tr>\n",
       "      <th>8</th>\n",
       "      <td>9</td>\n",
       "      <td>AES</td>\n",
       "      <td>AES Corp</td>\n",
       "      <td>Utilities</td>\n",
       "      <td>Independent Power Producers &amp; Energy Traders</td>\n",
       "      <td>Arlington, Virginia</td>\n",
       "      <td>USA</td>\n",
       "      <td>USD</td>\n",
       "      <td>0000874761</td>\n",
       "    </tr>\n",
       "    <tr>\n",
       "      <th>9</th>\n",
       "      <td>10</td>\n",
       "      <td>AET</td>\n",
       "      <td>Aetna Inc</td>\n",
       "      <td>Health Care</td>\n",
       "      <td>Managed Health Care</td>\n",
       "      <td>Hartford, Connecticut</td>\n",
       "      <td>USA</td>\n",
       "      <td>USD</td>\n",
       "      <td>0001122304</td>\n",
       "    </tr>\n",
       "    <tr>\n",
       "      <th>10</th>\n",
       "      <td>11</td>\n",
       "      <td>AFL</td>\n",
       "      <td>AFLAC Inc</td>\n",
       "      <td>Financials</td>\n",
       "      <td>Life &amp; Health Insurance</td>\n",
       "      <td>Columbus, Georgia</td>\n",
       "      <td>USA</td>\n",
       "      <td>USD</td>\n",
       "      <td>0000004977</td>\n",
       "    </tr>\n",
       "    <tr>\n",
       "      <th>11</th>\n",
       "      <td>12</td>\n",
       "      <td>AMG</td>\n",
       "      <td>Affiliated Managers Group Inc</td>\n",
       "      <td>Financials</td>\n",
       "      <td>Asset Management &amp; Custody Banks</td>\n",
       "      <td>Beverly, Massachusetts</td>\n",
       "      <td>USA</td>\n",
       "      <td>USD</td>\n",
       "      <td>0001004434</td>\n",
       "    </tr>\n",
       "    <tr>\n",
       "      <th>12</th>\n",
       "      <td>13</td>\n",
       "      <td>A</td>\n",
       "      <td>Agilent Technologies Inc</td>\n",
       "      <td>Health Care</td>\n",
       "      <td>Health Care Equipment &amp; Services</td>\n",
       "      <td>Santa Clara, California</td>\n",
       "      <td>USA</td>\n",
       "      <td>USD</td>\n",
       "      <td>0001090872</td>\n",
       "    </tr>\n",
       "    <tr>\n",
       "      <th>13</th>\n",
       "      <td>14</td>\n",
       "      <td>APD</td>\n",
       "      <td>Air Products &amp; Chemicals Inc</td>\n",
       "      <td>Materials</td>\n",
       "      <td>Industrial Gases</td>\n",
       "      <td>Allentown, Pennsylvania</td>\n",
       "      <td>USA</td>\n",
       "      <td>USD</td>\n",
       "      <td>0000002969</td>\n",
       "    </tr>\n",
       "    <tr>\n",
       "      <th>14</th>\n",
       "      <td>15</td>\n",
       "      <td>AKAM</td>\n",
       "      <td>Akamai Technologies Inc</td>\n",
       "      <td>Information Technology</td>\n",
       "      <td>Internet Software &amp; Services</td>\n",
       "      <td>Cambridge, Massachusetts</td>\n",
       "      <td>USA</td>\n",
       "      <td>USD</td>\n",
       "      <td>0001086222</td>\n",
       "    </tr>\n",
       "    <tr>\n",
       "      <th>15</th>\n",
       "      <td>16</td>\n",
       "      <td>ALK</td>\n",
       "      <td>Alaska Air Group Inc</td>\n",
       "      <td>Industrials</td>\n",
       "      <td>Airlines</td>\n",
       "      <td>Seattle, Washington</td>\n",
       "      <td>USA</td>\n",
       "      <td>USD</td>\n",
       "      <td>0000766421</td>\n",
       "    </tr>\n",
       "    <tr>\n",
       "      <th>16</th>\n",
       "      <td>17</td>\n",
       "      <td>ALB</td>\n",
       "      <td>Albemarle Corp</td>\n",
       "      <td>Materials</td>\n",
       "      <td>Specialty Chemicals</td>\n",
       "      <td>Baton Rouge, Louisiana</td>\n",
       "      <td>USA</td>\n",
       "      <td>USD</td>\n",
       "      <td>0000915913</td>\n",
       "    </tr>\n",
       "    <tr>\n",
       "      <th>17</th>\n",
       "      <td>18</td>\n",
       "      <td>AA</td>\n",
       "      <td>Alcoa Inc</td>\n",
       "      <td>Materials</td>\n",
       "      <td>Aluminum</td>\n",
       "      <td>New York, New York</td>\n",
       "      <td>USA</td>\n",
       "      <td>USD</td>\n",
       "      <td>0001675149</td>\n",
       "    </tr>\n",
       "    <tr>\n",
       "      <th>18</th>\n",
       "      <td>19</td>\n",
       "      <td>AGN</td>\n",
       "      <td>Allergan plc</td>\n",
       "      <td>Health Care</td>\n",
       "      <td>Pharmaceuticals</td>\n",
       "      <td>Dublin, Ireland</td>\n",
       "      <td>USA</td>\n",
       "      <td>USD</td>\n",
       "      <td>0001578845</td>\n",
       "    </tr>\n",
       "    <tr>\n",
       "      <th>19</th>\n",
       "      <td>20</td>\n",
       "      <td>LNT</td>\n",
       "      <td>Alliant Energy Corp</td>\n",
       "      <td>Utilities</td>\n",
       "      <td>Electric Utilities</td>\n",
       "      <td>Madison, Wisconsin</td>\n",
       "      <td>USA</td>\n",
       "      <td>USD</td>\n",
       "      <td>0000352541</td>\n",
       "    </tr>\n",
       "    <tr>\n",
       "      <th>20</th>\n",
       "      <td>21</td>\n",
       "      <td>ALXN</td>\n",
       "      <td>Alexion Pharmaceuticals</td>\n",
       "      <td>Health Care</td>\n",
       "      <td>Biotechnology</td>\n",
       "      <td>Cheshire, Connecticut</td>\n",
       "      <td>USA</td>\n",
       "      <td>USD</td>\n",
       "      <td>0000899866</td>\n",
       "    </tr>\n",
       "    <tr>\n",
       "      <th>21</th>\n",
       "      <td>22</td>\n",
       "      <td>ALLE</td>\n",
       "      <td>Allegion</td>\n",
       "      <td>Industrials</td>\n",
       "      <td>Building Products</td>\n",
       "      <td>Dublin, Ireland</td>\n",
       "      <td>USA</td>\n",
       "      <td>USD</td>\n",
       "      <td>0001579241</td>\n",
       "    </tr>\n",
       "    <tr>\n",
       "      <th>22</th>\n",
       "      <td>23</td>\n",
       "      <td>ADS</td>\n",
       "      <td>Alliance Data Systems</td>\n",
       "      <td>Information Technology</td>\n",
       "      <td>Data Processing &amp; Outsourced Services</td>\n",
       "      <td>Plano, Texas</td>\n",
       "      <td>USA</td>\n",
       "      <td>USD</td>\n",
       "      <td>0001101215</td>\n",
       "    </tr>\n",
       "    <tr>\n",
       "      <th>23</th>\n",
       "      <td>24</td>\n",
       "      <td>ALL</td>\n",
       "      <td>Allstate Corp</td>\n",
       "      <td>Financials</td>\n",
       "      <td>Property &amp; Casualty Insurance</td>\n",
       "      <td>Northfield Township, Illinois</td>\n",
       "      <td>USA</td>\n",
       "      <td>USD</td>\n",
       "      <td>0000899051</td>\n",
       "    </tr>\n",
       "    <tr>\n",
       "      <th>24</th>\n",
       "      <td>25</td>\n",
       "      <td>GOOGL</td>\n",
       "      <td>Alphabet Inc Class A</td>\n",
       "      <td>Information Technology</td>\n",
       "      <td>Internet Software &amp; Services</td>\n",
       "      <td>Mountain View, California</td>\n",
       "      <td>USA</td>\n",
       "      <td>USD</td>\n",
       "      <td>0001652044</td>\n",
       "    </tr>\n",
       "    <tr>\n",
       "      <th>25</th>\n",
       "      <td>26</td>\n",
       "      <td>GOOG</td>\n",
       "      <td>Alphabet Inc Class C</td>\n",
       "      <td>Information Technology</td>\n",
       "      <td>Internet Software &amp; Services</td>\n",
       "      <td>Mountain View, California</td>\n",
       "      <td>USA</td>\n",
       "      <td>USD</td>\n",
       "      <td>0001652044</td>\n",
       "    </tr>\n",
       "    <tr>\n",
       "      <th>26</th>\n",
       "      <td>27</td>\n",
       "      <td>MO</td>\n",
       "      <td>Altria Group Inc</td>\n",
       "      <td>Consumer Staples</td>\n",
       "      <td>Tobacco</td>\n",
       "      <td>Richmond, Virginia</td>\n",
       "      <td>USA</td>\n",
       "      <td>USD</td>\n",
       "      <td>0000764180</td>\n",
       "    </tr>\n",
       "    <tr>\n",
       "      <th>27</th>\n",
       "      <td>28</td>\n",
       "      <td>AMZN</td>\n",
       "      <td>Amazon.com Inc</td>\n",
       "      <td>Consumer Discretionary</td>\n",
       "      <td>Internet Retail</td>\n",
       "      <td>Seattle, Washington</td>\n",
       "      <td>USA</td>\n",
       "      <td>USD</td>\n",
       "      <td>0001018724</td>\n",
       "    </tr>\n",
       "    <tr>\n",
       "      <th>28</th>\n",
       "      <td>29</td>\n",
       "      <td>AEE</td>\n",
       "      <td>Ameren Corp</td>\n",
       "      <td>Utilities</td>\n",
       "      <td>MultiUtilities</td>\n",
       "      <td>St. Louis, Missouri</td>\n",
       "      <td>USA</td>\n",
       "      <td>USD</td>\n",
       "      <td>0001002910</td>\n",
       "    </tr>\n",
       "    <tr>\n",
       "      <th>29</th>\n",
       "      <td>30</td>\n",
       "      <td>AAL</td>\n",
       "      <td>American Airlines Group</td>\n",
       "      <td>Industrials</td>\n",
       "      <td>Airlines</td>\n",
       "      <td>Fort Worth, Texas</td>\n",
       "      <td>USA</td>\n",
       "      <td>USD</td>\n",
       "      <td>0000006201</td>\n",
       "    </tr>\n",
       "    <tr>\n",
       "      <th>...</th>\n",
       "      <td>...</td>\n",
       "      <td>...</td>\n",
       "      <td>...</td>\n",
       "      <td>...</td>\n",
       "      <td>...</td>\n",
       "      <td>...</td>\n",
       "      <td>...</td>\n",
       "      <td>...</td>\n",
       "      <td>...</td>\n",
       "    </tr>\n",
       "    <tr>\n",
       "      <th>4229</th>\n",
       "      <td>4230</td>\n",
       "      <td>NOVN</td>\n",
       "      <td>Novan</td>\n",
       "      <td>NaN</td>\n",
       "      <td>NaN</td>\n",
       "      <td>NaN</td>\n",
       "      <td>USA</td>\n",
       "      <td>USD</td>\n",
       "      <td>0001467154</td>\n",
       "    </tr>\n",
       "    <tr>\n",
       "      <th>4230</th>\n",
       "      <td>4231</td>\n",
       "      <td>NTLA</td>\n",
       "      <td>Intellia Therapeutics</td>\n",
       "      <td>NaN</td>\n",
       "      <td>NaN</td>\n",
       "      <td>NaN</td>\n",
       "      <td>USA</td>\n",
       "      <td>USD</td>\n",
       "      <td>0001652130</td>\n",
       "    </tr>\n",
       "    <tr>\n",
       "      <th>4231</th>\n",
       "      <td>4232</td>\n",
       "      <td>NVCR</td>\n",
       "      <td>NovoCure</td>\n",
       "      <td>NaN</td>\n",
       "      <td>NaN</td>\n",
       "      <td>NaN</td>\n",
       "      <td>USA</td>\n",
       "      <td>USD</td>\n",
       "      <td>0001645113</td>\n",
       "    </tr>\n",
       "    <tr>\n",
       "      <th>4232</th>\n",
       "      <td>4233</td>\n",
       "      <td>PI</td>\n",
       "      <td>IMPINJ</td>\n",
       "      <td>NaN</td>\n",
       "      <td>NaN</td>\n",
       "      <td>NaN</td>\n",
       "      <td>USA</td>\n",
       "      <td>USD</td>\n",
       "      <td>0001114995</td>\n",
       "    </tr>\n",
       "    <tr>\n",
       "      <th>4233</th>\n",
       "      <td>4234</td>\n",
       "      <td>PLSE</td>\n",
       "      <td>Pulse Biosciences</td>\n",
       "      <td>NaN</td>\n",
       "      <td>NaN</td>\n",
       "      <td>NaN</td>\n",
       "      <td>USA</td>\n",
       "      <td>USD</td>\n",
       "      <td>0001625101</td>\n",
       "    </tr>\n",
       "    <tr>\n",
       "      <th>4234</th>\n",
       "      <td>4235</td>\n",
       "      <td>PTGX</td>\n",
       "      <td>Protagonist Therapeutics</td>\n",
       "      <td>NaN</td>\n",
       "      <td>NaN</td>\n",
       "      <td>NaN</td>\n",
       "      <td>USA</td>\n",
       "      <td>USD</td>\n",
       "      <td>0001377121</td>\n",
       "    </tr>\n",
       "    <tr>\n",
       "      <th>4235</th>\n",
       "      <td>4236</td>\n",
       "      <td>PTHN</td>\n",
       "      <td>Patheon N.V.</td>\n",
       "      <td>NaN</td>\n",
       "      <td>NaN</td>\n",
       "      <td>NaN</td>\n",
       "      <td>USA</td>\n",
       "      <td>USD</td>\n",
       "      <td>0001643848</td>\n",
       "    </tr>\n",
       "    <tr>\n",
       "      <th>4236</th>\n",
       "      <td>4237</td>\n",
       "      <td>PTI</td>\n",
       "      <td>Proteostasis Therapeutics</td>\n",
       "      <td>NaN</td>\n",
       "      <td>NaN</td>\n",
       "      <td>NaN</td>\n",
       "      <td>USA</td>\n",
       "      <td>USD</td>\n",
       "      <td>0001445283</td>\n",
       "    </tr>\n",
       "    <tr>\n",
       "      <th>4237</th>\n",
       "      <td>4238</td>\n",
       "      <td>PZRX</td>\n",
       "      <td>PhaseRx</td>\n",
       "      <td>NaN</td>\n",
       "      <td>NaN</td>\n",
       "      <td>NaN</td>\n",
       "      <td>USA</td>\n",
       "      <td>USD</td>\n",
       "      <td>0001429386</td>\n",
       "    </tr>\n",
       "    <tr>\n",
       "      <th>4238</th>\n",
       "      <td>4239</td>\n",
       "      <td>RACE</td>\n",
       "      <td>Ferrari N.V.</td>\n",
       "      <td>NaN</td>\n",
       "      <td>NaN</td>\n",
       "      <td>NaN</td>\n",
       "      <td>EUR</td>\n",
       "      <td>NaN</td>\n",
       "      <td>0001648416</td>\n",
       "    </tr>\n",
       "    <tr>\n",
       "      <th>4239</th>\n",
       "      <td>4240</td>\n",
       "      <td>RRR</td>\n",
       "      <td>Red Rock Resorts</td>\n",
       "      <td>NaN</td>\n",
       "      <td>NaN</td>\n",
       "      <td>NaN</td>\n",
       "      <td>USA</td>\n",
       "      <td>USD</td>\n",
       "      <td>0001653653</td>\n",
       "    </tr>\n",
       "    <tr>\n",
       "      <th>4240</th>\n",
       "      <td>4241</td>\n",
       "      <td>SBPH</td>\n",
       "      <td>Spring Bank Pharmaceuticals</td>\n",
       "      <td>NaN</td>\n",
       "      <td>NaN</td>\n",
       "      <td>NaN</td>\n",
       "      <td>USA</td>\n",
       "      <td>USD</td>\n",
       "      <td>NaN</td>\n",
       "    </tr>\n",
       "    <tr>\n",
       "      <th>4241</th>\n",
       "      <td>4242</td>\n",
       "      <td>SELB</td>\n",
       "      <td>Selecta Biosciences</td>\n",
       "      <td>NaN</td>\n",
       "      <td>NaN</td>\n",
       "      <td>NaN</td>\n",
       "      <td>USA</td>\n",
       "      <td>USD</td>\n",
       "      <td>0001453687</td>\n",
       "    </tr>\n",
       "    <tr>\n",
       "      <th>4242</th>\n",
       "      <td>4243</td>\n",
       "      <td>SITE</td>\n",
       "      <td>SiteOne Landscape Supply</td>\n",
       "      <td>NaN</td>\n",
       "      <td>NaN</td>\n",
       "      <td>NaN</td>\n",
       "      <td>USA</td>\n",
       "      <td>USD</td>\n",
       "      <td>0001650729</td>\n",
       "    </tr>\n",
       "    <tr>\n",
       "      <th>4243</th>\n",
       "      <td>4244</td>\n",
       "      <td>SNDX</td>\n",
       "      <td>Syndax Pharmaceuticals</td>\n",
       "      <td>NaN</td>\n",
       "      <td>NaN</td>\n",
       "      <td>NaN</td>\n",
       "      <td>USA</td>\n",
       "      <td>USD</td>\n",
       "      <td>NaN</td>\n",
       "    </tr>\n",
       "    <tr>\n",
       "      <th>4244</th>\n",
       "      <td>4245</td>\n",
       "      <td>SQ</td>\n",
       "      <td>Square</td>\n",
       "      <td>NaN</td>\n",
       "      <td>NaN</td>\n",
       "      <td>NaN</td>\n",
       "      <td>USA</td>\n",
       "      <td>USD</td>\n",
       "      <td>0001512673</td>\n",
       "    </tr>\n",
       "    <tr>\n",
       "      <th>4245</th>\n",
       "      <td>4246</td>\n",
       "      <td>SUPV</td>\n",
       "      <td>Grupo Supervielle S.A.</td>\n",
       "      <td>NaN</td>\n",
       "      <td>NaN</td>\n",
       "      <td>NaN</td>\n",
       "      <td>Argentina</td>\n",
       "      <td>ARS</td>\n",
       "      <td>0001662922</td>\n",
       "    </tr>\n",
       "    <tr>\n",
       "      <th>4246</th>\n",
       "      <td>4247</td>\n",
       "      <td>SYRS</td>\n",
       "      <td>Syros Pharmaceuticals</td>\n",
       "      <td>NaN</td>\n",
       "      <td>NaN</td>\n",
       "      <td>NaN</td>\n",
       "      <td>USA</td>\n",
       "      <td>USD</td>\n",
       "      <td>NaN</td>\n",
       "    </tr>\n",
       "    <tr>\n",
       "      <th>4247</th>\n",
       "      <td>4248</td>\n",
       "      <td>TCMD</td>\n",
       "      <td>Tactile Systems Technology</td>\n",
       "      <td>NaN</td>\n",
       "      <td>NaN</td>\n",
       "      <td>NaN</td>\n",
       "      <td>USA</td>\n",
       "      <td>USD</td>\n",
       "      <td>0001027838</td>\n",
       "    </tr>\n",
       "    <tr>\n",
       "      <th>4248</th>\n",
       "      <td>4249</td>\n",
       "      <td>TEAM</td>\n",
       "      <td>Atlassian Corporation Plc</td>\n",
       "      <td>NaN</td>\n",
       "      <td>NaN</td>\n",
       "      <td>NaN</td>\n",
       "      <td>USA</td>\n",
       "      <td>USD</td>\n",
       "      <td>0001650372</td>\n",
       "    </tr>\n",
       "    <tr>\n",
       "      <th>4249</th>\n",
       "      <td>4250</td>\n",
       "      <td>TLND</td>\n",
       "      <td>Talend SA</td>\n",
       "      <td>NaN</td>\n",
       "      <td>NaN</td>\n",
       "      <td>NaN</td>\n",
       "      <td>USA</td>\n",
       "      <td>USD</td>\n",
       "      <td>0001668105</td>\n",
       "    </tr>\n",
       "    <tr>\n",
       "      <th>4250</th>\n",
       "      <td>4251</td>\n",
       "      <td>TPB</td>\n",
       "      <td>Turning Point Brands</td>\n",
       "      <td>NaN</td>\n",
       "      <td>NaN</td>\n",
       "      <td>NaN</td>\n",
       "      <td>USA</td>\n",
       "      <td>USD</td>\n",
       "      <td>0001290677</td>\n",
       "    </tr>\n",
       "    <tr>\n",
       "      <th>4251</th>\n",
       "      <td>4252</td>\n",
       "      <td>TPIC</td>\n",
       "      <td>TPI Composites</td>\n",
       "      <td>NaN</td>\n",
       "      <td>NaN</td>\n",
       "      <td>NaN</td>\n",
       "      <td>USA</td>\n",
       "      <td>USD</td>\n",
       "      <td>0001455684</td>\n",
       "    </tr>\n",
       "    <tr>\n",
       "      <th>4252</th>\n",
       "      <td>4253</td>\n",
       "      <td>TTD</td>\n",
       "      <td>The Trade Desk</td>\n",
       "      <td>NaN</td>\n",
       "      <td>NaN</td>\n",
       "      <td>NaN</td>\n",
       "      <td>USA</td>\n",
       "      <td>USD</td>\n",
       "      <td>0001671933</td>\n",
       "    </tr>\n",
       "    <tr>\n",
       "      <th>4253</th>\n",
       "      <td>4254</td>\n",
       "      <td>TWLO</td>\n",
       "      <td>Twilio</td>\n",
       "      <td>NaN</td>\n",
       "      <td>NaN</td>\n",
       "      <td>NaN</td>\n",
       "      <td>USA</td>\n",
       "      <td>USD</td>\n",
       "      <td>0001447669</td>\n",
       "    </tr>\n",
       "    <tr>\n",
       "      <th>4254</th>\n",
       "      <td>4255</td>\n",
       "      <td>VYGR</td>\n",
       "      <td>Voyager Therapeutics</td>\n",
       "      <td>NaN</td>\n",
       "      <td>NaN</td>\n",
       "      <td>NaN</td>\n",
       "      <td>USA</td>\n",
       "      <td>USD</td>\n",
       "      <td>0001640266</td>\n",
       "    </tr>\n",
       "    <tr>\n",
       "      <th>4255</th>\n",
       "      <td>4256</td>\n",
       "      <td>WVE</td>\n",
       "      <td>Wave Life Sciences Pte Ltd.</td>\n",
       "      <td>NaN</td>\n",
       "      <td>NaN</td>\n",
       "      <td>NaN</td>\n",
       "      <td>USA</td>\n",
       "      <td>USD</td>\n",
       "      <td>NaN</td>\n",
       "    </tr>\n",
       "    <tr>\n",
       "      <th>4256</th>\n",
       "      <td>4257</td>\n",
       "      <td>XCOM</td>\n",
       "      <td>Xtera Communications</td>\n",
       "      <td>NaN</td>\n",
       "      <td>NaN</td>\n",
       "      <td>NaN</td>\n",
       "      <td>USA</td>\n",
       "      <td>USD</td>\n",
       "      <td>0001122051</td>\n",
       "    </tr>\n",
       "    <tr>\n",
       "      <th>4257</th>\n",
       "      <td>4258</td>\n",
       "      <td>YIN</td>\n",
       "      <td>Yintech Investment Holdings Limited</td>\n",
       "      <td>NaN</td>\n",
       "      <td>NaN</td>\n",
       "      <td>NaN</td>\n",
       "      <td>China</td>\n",
       "      <td>CNY</td>\n",
       "      <td>0001661125</td>\n",
       "    </tr>\n",
       "    <tr>\n",
       "      <th>4258</th>\n",
       "      <td>4259</td>\n",
       "      <td>YRD</td>\n",
       "      <td>Yirendai Ltd.</td>\n",
       "      <td>NaN</td>\n",
       "      <td>NaN</td>\n",
       "      <td>NaN</td>\n",
       "      <td>USA</td>\n",
       "      <td>USD</td>\n",
       "      <td>0001631761</td>\n",
       "    </tr>\n",
       "  </tbody>\n",
       "</table>\n",
       "<p>4259 rows × 9 columns</p>\n",
       "</div>"
      ],
      "text/plain": [
       "        id Ticker                                 Name  \\\n",
       "0        1    MMM                           3M Company   \n",
       "1        2    ABT                  Abbott Laboratories   \n",
       "2        3   ABBV                               AbbVie   \n",
       "3        4    ACN                        Accenture plc   \n",
       "4        5   ATVI                  Activision Blizzard   \n",
       "5        6    AYI                    Acuity Brands Inc   \n",
       "6        7   ADBE                    Adobe Systems Inc   \n",
       "7        8    AAP                   Advance Auto Parts   \n",
       "8        9    AES                             AES Corp   \n",
       "9       10    AET                            Aetna Inc   \n",
       "10      11    AFL                            AFLAC Inc   \n",
       "11      12    AMG        Affiliated Managers Group Inc   \n",
       "12      13      A             Agilent Technologies Inc   \n",
       "13      14    APD         Air Products & Chemicals Inc   \n",
       "14      15   AKAM              Akamai Technologies Inc   \n",
       "15      16    ALK                 Alaska Air Group Inc   \n",
       "16      17    ALB                       Albemarle Corp   \n",
       "17      18     AA                            Alcoa Inc   \n",
       "18      19    AGN                         Allergan plc   \n",
       "19      20    LNT                  Alliant Energy Corp   \n",
       "20      21   ALXN              Alexion Pharmaceuticals   \n",
       "21      22   ALLE                             Allegion   \n",
       "22      23    ADS                Alliance Data Systems   \n",
       "23      24    ALL                        Allstate Corp   \n",
       "24      25  GOOGL                 Alphabet Inc Class A   \n",
       "25      26   GOOG                 Alphabet Inc Class C   \n",
       "26      27     MO                     Altria Group Inc   \n",
       "27      28   AMZN                       Amazon.com Inc   \n",
       "28      29    AEE                          Ameren Corp   \n",
       "29      30    AAL              American Airlines Group   \n",
       "...    ...    ...                                  ...   \n",
       "4229  4230   NOVN                                Novan   \n",
       "4230  4231   NTLA                Intellia Therapeutics   \n",
       "4231  4232   NVCR                             NovoCure   \n",
       "4232  4233     PI                               IMPINJ   \n",
       "4233  4234   PLSE                    Pulse Biosciences   \n",
       "4234  4235   PTGX             Protagonist Therapeutics   \n",
       "4235  4236   PTHN                         Patheon N.V.   \n",
       "4236  4237    PTI            Proteostasis Therapeutics   \n",
       "4237  4238   PZRX                              PhaseRx   \n",
       "4238  4239   RACE                         Ferrari N.V.   \n",
       "4239  4240    RRR                     Red Rock Resorts   \n",
       "4240  4241   SBPH          Spring Bank Pharmaceuticals   \n",
       "4241  4242   SELB                  Selecta Biosciences   \n",
       "4242  4243   SITE             SiteOne Landscape Supply   \n",
       "4243  4244   SNDX               Syndax Pharmaceuticals   \n",
       "4244  4245     SQ                               Square   \n",
       "4245  4246   SUPV               Grupo Supervielle S.A.   \n",
       "4246  4247   SYRS                Syros Pharmaceuticals   \n",
       "4247  4248   TCMD           Tactile Systems Technology   \n",
       "4248  4249   TEAM            Atlassian Corporation Plc   \n",
       "4249  4250   TLND                            Talend SA   \n",
       "4250  4251    TPB                 Turning Point Brands   \n",
       "4251  4252   TPIC                       TPI Composites   \n",
       "4252  4253    TTD                       The Trade Desk   \n",
       "4253  4254   TWLO                               Twilio   \n",
       "4254  4255   VYGR                 Voyager Therapeutics   \n",
       "4255  4256    WVE          Wave Life Sciences Pte Ltd.   \n",
       "4256  4257   XCOM                 Xtera Communications   \n",
       "4257  4258    YIN  Yintech Investment Holdings Limited   \n",
       "4258  4259    YRD                        Yirendai Ltd.   \n",
       "\n",
       "                      Sector                                      Industry  \\\n",
       "0                Industrials                      Industrial Conglomerates   \n",
       "1                Health Care              Health Care Equipment & Services   \n",
       "2                Health Care                               Pharmaceuticals   \n",
       "3     Information Technology                IT Consulting & Other Services   \n",
       "4     Information Technology                   Home Entertainment Software   \n",
       "5                Industrials             Electrical Components & Equipment   \n",
       "6     Information Technology                          Application Software   \n",
       "7     Consumer Discretionary                             Automotive Retail   \n",
       "8                  Utilities  Independent Power Producers & Energy Traders   \n",
       "9                Health Care                           Managed Health Care   \n",
       "10                Financials                       Life & Health Insurance   \n",
       "11                Financials              Asset Management & Custody Banks   \n",
       "12               Health Care              Health Care Equipment & Services   \n",
       "13                 Materials                              Industrial Gases   \n",
       "14    Information Technology                  Internet Software & Services   \n",
       "15               Industrials                                      Airlines   \n",
       "16                 Materials                           Specialty Chemicals   \n",
       "17                 Materials                                      Aluminum   \n",
       "18               Health Care                               Pharmaceuticals   \n",
       "19                 Utilities                            Electric Utilities   \n",
       "20               Health Care                                 Biotechnology   \n",
       "21               Industrials                             Building Products   \n",
       "22    Information Technology         Data Processing & Outsourced Services   \n",
       "23                Financials                 Property & Casualty Insurance   \n",
       "24    Information Technology                  Internet Software & Services   \n",
       "25    Information Technology                  Internet Software & Services   \n",
       "26          Consumer Staples                                       Tobacco   \n",
       "27    Consumer Discretionary                               Internet Retail   \n",
       "28                 Utilities                                MultiUtilities   \n",
       "29               Industrials                                      Airlines   \n",
       "...                      ...                                           ...   \n",
       "4229                     NaN                                           NaN   \n",
       "4230                     NaN                                           NaN   \n",
       "4231                     NaN                                           NaN   \n",
       "4232                     NaN                                           NaN   \n",
       "4233                     NaN                                           NaN   \n",
       "4234                     NaN                                           NaN   \n",
       "4235                     NaN                                           NaN   \n",
       "4236                     NaN                                           NaN   \n",
       "4237                     NaN                                           NaN   \n",
       "4238                     NaN                                           NaN   \n",
       "4239                     NaN                                           NaN   \n",
       "4240                     NaN                                           NaN   \n",
       "4241                     NaN                                           NaN   \n",
       "4242                     NaN                                           NaN   \n",
       "4243                     NaN                                           NaN   \n",
       "4244                     NaN                                           NaN   \n",
       "4245                     NaN                                           NaN   \n",
       "4246                     NaN                                           NaN   \n",
       "4247                     NaN                                           NaN   \n",
       "4248                     NaN                                           NaN   \n",
       "4249                     NaN                                           NaN   \n",
       "4250                     NaN                                           NaN   \n",
       "4251                     NaN                                           NaN   \n",
       "4252                     NaN                                           NaN   \n",
       "4253                     NaN                                           NaN   \n",
       "4254                     NaN                                           NaN   \n",
       "4255                     NaN                                           NaN   \n",
       "4256                     NaN                                           NaN   \n",
       "4257                     NaN                                           NaN   \n",
       "4258                     NaN                                           NaN   \n",
       "\n",
       "                        Headquarter    Country Currency  cik_number  \n",
       "0               St. Paul, Minnesota        USA      USD  0000066740  \n",
       "1           North Chicago, Illinois        USA      USD  0000001800  \n",
       "2           North Chicago, Illinois        USA      USD  0001551152  \n",
       "3                   Dublin, Ireland        USA      USD  0001467373  \n",
       "4          Santa Monica, California        USA      USD  0000718877  \n",
       "5                  Atlanta, Georgia        USA      USD  0001144215  \n",
       "6              San Jose, California        USA      USD  0000796343  \n",
       "7                 Roanoke, Virginia        USA      USD  0001158449  \n",
       "8               Arlington, Virginia        USA      USD  0000874761  \n",
       "9             Hartford, Connecticut        USA      USD  0001122304  \n",
       "10                Columbus, Georgia        USA      USD  0000004977  \n",
       "11           Beverly, Massachusetts        USA      USD  0001004434  \n",
       "12          Santa Clara, California        USA      USD  0001090872  \n",
       "13          Allentown, Pennsylvania        USA      USD  0000002969  \n",
       "14         Cambridge, Massachusetts        USA      USD  0001086222  \n",
       "15              Seattle, Washington        USA      USD  0000766421  \n",
       "16           Baton Rouge, Louisiana        USA      USD  0000915913  \n",
       "17               New York, New York        USA      USD  0001675149  \n",
       "18                  Dublin, Ireland        USA      USD  0001578845  \n",
       "19               Madison, Wisconsin        USA      USD  0000352541  \n",
       "20            Cheshire, Connecticut        USA      USD  0000899866  \n",
       "21                  Dublin, Ireland        USA      USD  0001579241  \n",
       "22                     Plano, Texas        USA      USD  0001101215  \n",
       "23    Northfield Township, Illinois        USA      USD  0000899051  \n",
       "24        Mountain View, California        USA      USD  0001652044  \n",
       "25        Mountain View, California        USA      USD  0001652044  \n",
       "26               Richmond, Virginia        USA      USD  0000764180  \n",
       "27              Seattle, Washington        USA      USD  0001018724  \n",
       "28              St. Louis, Missouri        USA      USD  0001002910  \n",
       "29                Fort Worth, Texas        USA      USD  0000006201  \n",
       "...                             ...        ...      ...         ...  \n",
       "4229                            NaN        USA      USD  0001467154  \n",
       "4230                            NaN        USA      USD  0001652130  \n",
       "4231                            NaN        USA      USD  0001645113  \n",
       "4232                            NaN        USA      USD  0001114995  \n",
       "4233                            NaN        USA      USD  0001625101  \n",
       "4234                            NaN        USA      USD  0001377121  \n",
       "4235                            NaN        USA      USD  0001643848  \n",
       "4236                            NaN        USA      USD  0001445283  \n",
       "4237                            NaN        USA      USD  0001429386  \n",
       "4238                            NaN        EUR      NaN  0001648416  \n",
       "4239                            NaN        USA      USD  0001653653  \n",
       "4240                            NaN        USA      USD         NaN  \n",
       "4241                            NaN        USA      USD  0001453687  \n",
       "4242                            NaN        USA      USD  0001650729  \n",
       "4243                            NaN        USA      USD         NaN  \n",
       "4244                            NaN        USA      USD  0001512673  \n",
       "4245                            NaN  Argentina      ARS  0001662922  \n",
       "4246                            NaN        USA      USD         NaN  \n",
       "4247                            NaN        USA      USD  0001027838  \n",
       "4248                            NaN        USA      USD  0001650372  \n",
       "4249                            NaN        USA      USD  0001668105  \n",
       "4250                            NaN        USA      USD  0001290677  \n",
       "4251                            NaN        USA      USD  0001455684  \n",
       "4252                            NaN        USA      USD  0001671933  \n",
       "4253                            NaN        USA      USD  0001447669  \n",
       "4254                            NaN        USA      USD  0001640266  \n",
       "4255                            NaN        USA      USD         NaN  \n",
       "4256                            NaN        USA      USD  0001122051  \n",
       "4257                            NaN      China      CNY  0001661125  \n",
       "4258                            NaN        USA      USD  0001631761  \n",
       "\n",
       "[4259 rows x 9 columns]"
      ]
     },
     "execution_count": 55,
     "metadata": {},
     "output_type": "execute_result"
    }
   ],
   "source": [
    "sector"
   ]
  },
  {
   "cell_type": "code",
   "execution_count": 62,
   "metadata": {
    "collapsed": true
   },
   "outputs": [],
   "source": [
    "sector[\"CIK #\"] = sector[\"cik_number\"].apply(lambda x: stripping_0(x))"
   ]
  },
  {
   "cell_type": "code",
   "execution_count": 66,
   "metadata": {
    "collapsed": false
   },
   "outputs": [
    {
     "data": {
      "text/plain": [
       "(4259, 10)"
      ]
     },
     "execution_count": 66,
     "metadata": {},
     "output_type": "execute_result"
    }
   ],
   "source": [
    "sector.shape"
   ]
  },
  {
   "cell_type": "code",
   "execution_count": 67,
   "metadata": {
    "collapsed": true
   },
   "outputs": [],
   "source": [
    "sector.to_csv(\"sector_cik.csv\",index= False)"
   ]
  },
  {
   "cell_type": "code",
   "execution_count": 69,
   "metadata": {
    "collapsed": false
   },
   "outputs": [],
   "source": [
    "all_idx_listing = pd.read_csv(\"idx_2000_2017_qtr2.csv\")"
   ]
  },
  {
   "cell_type": "code",
   "execution_count": 71,
   "metadata": {
    "collapsed": false
   },
   "outputs": [
    {
     "data": {
      "text/html": [
       "<div>\n",
       "<style>\n",
       "    .dataframe thead tr:only-child th {\n",
       "        text-align: right;\n",
       "    }\n",
       "\n",
       "    .dataframe thead th {\n",
       "        text-align: left;\n",
       "    }\n",
       "\n",
       "    .dataframe tbody tr th {\n",
       "        vertical-align: top;\n",
       "    }\n",
       "</style>\n",
       "<table border=\"1\" class=\"dataframe\">\n",
       "  <thead>\n",
       "    <tr style=\"text-align: right;\">\n",
       "      <th></th>\n",
       "      <th>CIK</th>\n",
       "      <th>company</th>\n",
       "      <th>date</th>\n",
       "      <th>report</th>\n",
       "      <th>url</th>\n",
       "      <th>company_l</th>\n",
       "    </tr>\n",
       "  </thead>\n",
       "  <tbody>\n",
       "    <tr>\n",
       "      <th>0</th>\n",
       "      <td>1703629</td>\n",
       "      <td>Ohana Labs Inc.</td>\n",
       "      <td>2017-04-12</td>\n",
       "      <td>D</td>\n",
       "      <td>https://www.sec.gov/Archives/edgar/data/170362...</td>\n",
       "      <td>ohana labs inc.</td>\n",
       "    </tr>\n",
       "    <tr>\n",
       "      <th>1</th>\n",
       "      <td>1307969</td>\n",
       "      <td>024 Pharma Inc.</td>\n",
       "      <td>2017-04-11</td>\n",
       "      <td>10-Q</td>\n",
       "      <td>https://www.sec.gov/Archives/edgar/data/130796...</td>\n",
       "      <td>024 pharma inc.</td>\n",
       "    </tr>\n",
       "  </tbody>\n",
       "</table>\n",
       "</div>"
      ],
      "text/plain": [
       "       CIK          company        date report  \\\n",
       "0  1703629  Ohana Labs Inc.  2017-04-12      D   \n",
       "1  1307969  024 Pharma Inc.  2017-04-11   10-Q   \n",
       "\n",
       "                                                 url        company_l  \n",
       "0  https://www.sec.gov/Archives/edgar/data/170362...  ohana labs inc.  \n",
       "1  https://www.sec.gov/Archives/edgar/data/130796...  024 pharma inc.  "
      ]
     },
     "execution_count": 71,
     "metadata": {},
     "output_type": "execute_result"
    }
   ],
   "source": [
    "all_idx_listing.head(2)"
   ]
  },
  {
   "cell_type": "code",
   "execution_count": 72,
   "metadata": {
    "collapsed": true
   },
   "outputs": [],
   "source": [
    "all_idx_listing[\"new_date\"] = pd.to_datetime(all_idx_listing[\"date\"], format = \"%Y-%m-%d\")"
   ]
  },
  {
   "cell_type": "code",
   "execution_count": 75,
   "metadata": {
    "collapsed": false
   },
   "outputs": [],
   "source": [
    "all_idx_listing[\"year\"] = pd.to_datetime(all_idx_listing[\"date\"], format = \"%Y-%m-%d\").apply(lambda y: y.year)"
   ]
  },
  {
   "cell_type": "code",
   "execution_count": 76,
   "metadata": {
    "collapsed": false
   },
   "outputs": [
    {
     "data": {
      "text/html": [
       "<div>\n",
       "<style>\n",
       "    .dataframe thead tr:only-child th {\n",
       "        text-align: right;\n",
       "    }\n",
       "\n",
       "    .dataframe thead th {\n",
       "        text-align: left;\n",
       "    }\n",
       "\n",
       "    .dataframe tbody tr th {\n",
       "        vertical-align: top;\n",
       "    }\n",
       "</style>\n",
       "<table border=\"1\" class=\"dataframe\">\n",
       "  <thead>\n",
       "    <tr style=\"text-align: right;\">\n",
       "      <th></th>\n",
       "      <th>CIK</th>\n",
       "      <th>company</th>\n",
       "      <th>date</th>\n",
       "      <th>report</th>\n",
       "      <th>url</th>\n",
       "      <th>company_l</th>\n",
       "      <th>new_date</th>\n",
       "      <th>year</th>\n",
       "    </tr>\n",
       "  </thead>\n",
       "  <tbody>\n",
       "    <tr>\n",
       "      <th>0</th>\n",
       "      <td>1703629</td>\n",
       "      <td>Ohana Labs Inc.</td>\n",
       "      <td>2017-04-12</td>\n",
       "      <td>D</td>\n",
       "      <td>https://www.sec.gov/Archives/edgar/data/170362...</td>\n",
       "      <td>ohana labs inc.</td>\n",
       "      <td>2017-04-12</td>\n",
       "      <td>2017</td>\n",
       "    </tr>\n",
       "    <tr>\n",
       "      <th>1</th>\n",
       "      <td>1307969</td>\n",
       "      <td>024 Pharma Inc.</td>\n",
       "      <td>2017-04-11</td>\n",
       "      <td>10-Q</td>\n",
       "      <td>https://www.sec.gov/Archives/edgar/data/130796...</td>\n",
       "      <td>024 pharma inc.</td>\n",
       "      <td>2017-04-11</td>\n",
       "      <td>2017</td>\n",
       "    </tr>\n",
       "  </tbody>\n",
       "</table>\n",
       "</div>"
      ],
      "text/plain": [
       "       CIK          company        date report  \\\n",
       "0  1703629  Ohana Labs Inc.  2017-04-12      D   \n",
       "1  1307969  024 Pharma Inc.  2017-04-11   10-Q   \n",
       "\n",
       "                                                 url        company_l  \\\n",
       "0  https://www.sec.gov/Archives/edgar/data/170362...  ohana labs inc.   \n",
       "1  https://www.sec.gov/Archives/edgar/data/130796...  024 pharma inc.   \n",
       "\n",
       "    new_date  year  \n",
       "0 2017-04-12  2017  \n",
       "1 2017-04-11  2017  "
      ]
     },
     "execution_count": 76,
     "metadata": {},
     "output_type": "execute_result"
    }
   ],
   "source": [
    "all_idx_listing.head(2)"
   ]
  },
  {
   "cell_type": "code",
   "execution_count": 82,
   "metadata": {
    "collapsed": false
   },
   "outputs": [],
   "source": [
    "year_agg = all_idx_listing[all_idx_listing[\"report\"]==\"10-K\"][[\"company\",\"year\"]].groupby(\"year\").agg(\"count\").reset_index()"
   ]
  },
  {
   "cell_type": "code",
   "execution_count": 83,
   "metadata": {
    "collapsed": false
   },
   "outputs": [
    {
     "data": {
      "text/plain": [
       "Index([u'year', u'company'], dtype='object')"
      ]
     },
     "execution_count": 83,
     "metadata": {},
     "output_type": "execute_result"
    }
   ],
   "source": [
    "year_agg.columns"
   ]
  },
  {
   "cell_type": "code",
   "execution_count": 102,
   "metadata": {
    "collapsed": false
   },
   "outputs": [
    {
     "data": {
      "text/plain": [
       "[<matplotlib.text.Text at 0x155747710>, <matplotlib.text.Text at 0x155739dd0>]"
      ]
     },
     "execution_count": 102,
     "metadata": {},
     "output_type": "execute_result"
    },
    {
     "data": {
      "image/png": "[encoded data removed]",
      "text/plain": [
       "<matplotlib.figure.Figure at 0x154693cd0>"
      ]
     },
     "metadata": {},
     "output_type": "display_data"
    }
   ],
   "source": [
    "import seaborn as sns\n",
    "current_palette_12 = sns.color_palette(\"Set1\", n_colors=12, desat=.5)\n",
    "sns.set(style=\"ticks\", context=\"talk\",palette=current_palette_12)\n",
    "import matplotlib.pyplot as plt\n",
    "import matplotlib.patheffects as PathEffects\n",
    "import matplotlib\n",
    "%matplotlib inline\n",
    "sns.set_style('darkgrid')\n",
    "sns.set_palette('muted')\n",
    "sns.set_context(\"notebook\", font_scale=0.8,\n",
    "                rc={\"lines.linewidth\": 2.5})\n",
    "\n",
    "ax = sns.pointplot(x=\"year\", y=\"company\", data=year_agg,scale=0.5)\n",
    "ax.set_title('No. of 10-K Reports by year')\n",
    "ax.set(ylim=(0, 11000))\n",
    "ax.set(xlabel='Year', ylabel='No of 10-K Submitted')"
   ]
  },
  {
   "cell_type": "code",
   "execution_count": 103,
   "metadata": {
    "collapsed": false
   },
   "outputs": [
    {
     "data": {
      "text/plain": [
       "(15170492, 8)"
      ]
     },
     "execution_count": 103,
     "metadata": {},
     "output_type": "execute_result"
    }
   ],
   "source": [
    "all_idx_listing.shape"
   ]
  },
  {
   "cell_type": "code",
   "execution_count": null,
   "metadata": {
    "collapsed": true
   },
   "outputs": [],
   "source": []
  },
  {
   "cell_type": "code",
   "execution_count": null,
   "metadata": {
    "collapsed": true
   },
   "outputs": [],
   "source": []
  },
  {
   "cell_type": "code",
   "execution_count": null,
   "metadata": {
    "collapsed": true
   },
   "outputs": [],
   "source": []
  },
  {
   "cell_type": "code",
   "execution_count": null,
   "metadata": {
    "collapsed": true
   },
   "outputs": [],
   "source": []
  }
 ],
 "metadata": {
  "anaconda-cloud": {},
  "kernelspec": {
   "display_name": "Python [conda root]",
   "language": "python",
   "name": "conda-root-py"
  },
  "language_info": {
   "codemirror_mode": {
    "name": "ipython",
    "version": 2
   },
   "file_extension": ".py",
   "mimetype": "text/x-python",
   "name": "python",
   "nbconvert_exporter": "python",
   "pygments_lexer": "ipython2",
   "version": "2.7.12"
  }
 },
 "nbformat": 4,
 "nbformat_minor": 2
}
