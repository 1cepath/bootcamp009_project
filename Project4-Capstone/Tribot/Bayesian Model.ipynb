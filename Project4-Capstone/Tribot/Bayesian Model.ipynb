{
 "cells": [
  {
   "cell_type": "code",
   "execution_count": 1,
   "metadata": {
    "collapsed": false
   },
   "outputs": [
    {
     "data": {
      "text/plain": [
       "131072"
      ]
     },
     "execution_count": 1,
     "metadata": {},
     "output_type": "execute_result"
    }
   ],
   "source": [
    "import spacy\n",
    "import pandas as pd\n",
    "import itertools as it\n",
    "import regex as re\n",
    "import datetime\n",
    "from gensim.models import Phrases\n",
    "from gensim.models.word2vec import LineSentence\n",
    "import os\n",
    "import sys\n",
    "import csv\n",
    "\n",
    "csv.field_size_limit(sys.maxsize)"
   ]
  },
  {
   "cell_type": "code",
   "execution_count": 2,
   "metadata": {
    "collapsed": false
   },
   "outputs": [],
   "source": [
    "data_2010_2017 = pd.read_csv(\"data_2010_2017_61717.csv\",engine='python')"
   ]
  },
  {
   "cell_type": "code",
   "execution_count": 12,
   "metadata": {
    "collapsed": false
   },
   "outputs": [
    {
     "ename": "NameError",
     "evalue": "name 'data_2010_2017' is not defined",
     "output_type": "error",
     "traceback": [
      "\u001b[0;31m---------------------------------------------------------------------------\u001b[0m",
      "\u001b[0;31mNameError\u001b[0m                                 Traceback (most recent call last)",
      "\u001b[0;32m<ipython-input-12-277f11344ace>\u001b[0m in \u001b[0;36m<module>\u001b[0;34m()\u001b[0m\n\u001b[0;32m----> 1\u001b[0;31m \u001b[0mdata_2010_2017\u001b[0m\u001b[0;34m.\u001b[0m\u001b[0msort_values\u001b[0m\u001b[0;34m(\u001b[0m\u001b[0mby\u001b[0m \u001b[0;34m=\u001b[0m \u001b[0;34m\"CIK #\"\u001b[0m\u001b[0;34m)\u001b[0m\u001b[0;34m\u001b[0m\u001b[0m\n\u001b[0m",
      "\u001b[0;31mNameError\u001b[0m: name 'data_2010_2017' is not defined"
     ]
    }
   ],
   "source": [
    "data_2010_2017.sort_values(by = \"CIK #\")"
   ]
  },
  {
   "cell_type": "code",
   "execution_count": 15,
   "metadata": {
    "collapsed": true
   },
   "outputs": [],
   "source": [
    "nlp = spacy.load('en')"
   ]
  },
  {
   "cell_type": "code",
   "execution_count": 61,
   "metadata": {
    "collapsed": true
   },
   "outputs": [],
   "source": [
    "data_2012 = pd.read_csv(\"data_file_61717.csv\",encoding='utf-8')"
   ]
  },
  {
   "cell_type": "code",
   "execution_count": 62,
   "metadata": {
    "collapsed": false
   },
   "outputs": [],
   "source": [
    "data_to_clean = data_2012[[\"CIK #\",\"Name\",\"company\",\"date\",\"full_text\",\"quarter\",\"report\",\"status\",\"url\",\"year\"]]"
   ]
  },
  {
   "cell_type": "code",
   "execution_count": 63,
   "metadata": {
    "collapsed": false
   },
   "outputs": [
    {
     "name": "stderr",
     "output_type": "stream",
     "text": [
      "/Users/jasonchiu0803/anaconda2/lib/python2.7/site-packages/ipykernel/__main__.py:1: SettingWithCopyWarning: \n",
      "A value is trying to be set on a copy of a slice from a DataFrame.\n",
      "Try using .loc[row_indexer,col_indexer] = value instead\n",
      "\n",
      "See the caveats in the documentation: http://pandas.pydata.org/pandas-docs/stable/indexing.html#indexing-view-versus-copy\n",
      "  if __name__ == '__main__':\n"
     ]
    }
   ],
   "source": [
    "data_to_clean[\"first_round\"] = data_to_clean[\"full_text\"].str.replace(\"htm\",\"\")"
   ]
  },
  {
   "cell_type": "code",
   "execution_count": 64,
   "metadata": {
    "collapsed": false
   },
   "outputs": [
    {
     "name": "stderr",
     "output_type": "stream",
     "text": [
      "/Users/jasonchiu0803/anaconda2/lib/python2.7/site-packages/ipykernel/__main__.py:1: SettingWithCopyWarning: \n",
      "A value is trying to be set on a copy of a slice from a DataFrame.\n",
      "Try using .loc[row_indexer,col_indexer] = value instead\n",
      "\n",
      "See the caveats in the documentation: http://pandas.pydata.org/pandas-docs/stable/indexing.html#indexing-view-versus-copy\n",
      "  if __name__ == '__main__':\n"
     ]
    }
   ],
   "source": [
    "data_to_clean[\"first_round\"] = data_to_clean[\"full_text\"].str.replace(\"form|Form|_|AND EXCHANGE COMMISSION|UNITED STATESSECURITIES|Washington, D.C.|10K|10k|Washington, D. C.|Table of Contents|FORM|htm|\\x95|\\x97|\\n|10-K|UNITED STATES SECURITIES AND EXCHANGE COMMISSION\",\"\")"
   ]
  },
  {
   "cell_type": "code",
   "execution_count": 65,
   "metadata": {
    "collapsed": false
   },
   "outputs": [
    {
     "data": {
      "text/plain": [
       "0      1acme2011.acme2011.   20549   [X]ANNUAL REPORT...\n",
       "1      1d257108d.     UNITED STATES SECURITIES    205...\n",
       "2      1fy129282012.FY12  9.28.2012  20549 RANNUAL RE...\n",
       "3      1mar.MARCH 31, 2012 mar. 20549  (Mark One)RANN...\n",
       "4      1a2207458z10-k.Use these links to rapidly revi...\n",
       "5      1unm12312011-10xk.UNM.12.31.2011 -   WASHINGTO...\n",
       "6      1.STAGE STORES, INC.,  . UNITED STATESSECURITI...\n",
       "7      1amat10282012-doc.AMAT 10.28.2012- DOCWashingt...\n",
       "8      1swn123111.SWN 2011  SWN 2011  UNITED STATESSE...\n",
       "9      1d292916d.     UNITED STATES SECURITIES ANDEXC...\n",
       "10     1atw-9302012x.  FOR FISCAL YEAR ENDED SEPTEMBE...\n",
       "11     1d251638d.  2011       UNITED STATES SECURITIE...\n",
       "12     1d. AVP  2011   20549 ýAnnual Report Pursuant ...\n",
       "13     1d312481d.  UNITED STATES  SECURITIES   WASHIN...\n",
       "14     1d281210d.     UNITED STATES SECURITIES ANDEXC...\n",
       "15     1.BALCHEM CORPORATION  12-31-2011.UNITED STATE...\n",
       "16     1a12-22331.   UNITED STATESSECURITIES  20549  ...\n",
       "17     1d259740d.     UNITED STATES SECURITIES   2054...\n",
       "18     1d402053d.  As filed with the Securities and E...\n",
       "19     1d255574d.   UNITED STATES  SECURITIES    2054...\n",
       "20     1d285276d.     UNITED STATES SECURITIES   WASH...\n",
       "21     1d274665d.  UNITED STATES  SECURITIES   Washin...\n",
       "22     1corp2011. CORP  2011 WASHINGTON, D.C. 20549 A...\n",
       "23     1d302139d.     UNITED STATES SECURITIES    205...\n",
       "24     1v239554. United StatesSecurities and Exchange...\n",
       "25     1a9292012.9.29.2012  Use these links to rapidl...\n",
       "26     1csc330201210-k.CSC 3.30.2012 WASHINGTON, D.C....\n",
       "27     1d261903d.UNITED STATES  SECURITIES    20549  ...\n",
       "28     1d259684d.     UNITED STATES SECURITIES ANDEXC...\n",
       "29     1tap2011123110-k.TAP 2011.12.31    20549 (Mark...\n",
       "                             ...                        \n",
       "597    1eri-123111. eri-123111.Washington D.C. 20549 ...\n",
       "598    1v307730.  UNITEDSTATESSECURITIES WASHINGTON, ...\n",
       "599    1jbt-123111. jbt-123111.UNITED STATESSECURITIE...\n",
       "600    1d265172d.     UNITED STATES SECURITIES    205...\n",
       "601    1d283838d.     UNITED STATES SECURITIES    205...\n",
       "602    1a12-21871.ANNUAL REPORT PURSUANT TO SECTION 1...\n",
       "603    1d269788d.     UNITED STATES SECURITIES    205...\n",
       "604    1d302160d.     UNITED STATES SECURITIES    205...\n",
       "605    1d282185d.     UNITED STATES SECURITIES    205...\n",
       "606    110k2011.  201110k2011.   UNITED STATESSECURIT...\n",
       "607    1v306650. UNITED STATESSECURITIES WASHINGTON, ...\n",
       "608    1d315406d.     UNITED STATES SECURITIES   WASH...\n",
       "609    1ir-12312011x. IR-12.31.2011- 20549 (Mark One)...\n",
       "610    1acn8312012. ACN 8.31.2012   WASHINGTON, D.C. ...\n",
       "611    1d263954d.     UNITED STATES SECURITIES   2054...\n",
       "612    1a50390506.EAGLE BANCORP MONTANA, INC. a503905...\n",
       "613    1a2207750z10-k.Use these links to rapidly revi...\n",
       "614    1hpp2011.HPP 2011   20549   ANNUAL REPORT PURS...\n",
       "615    1v304901.      20549      (Mark one)   x ANNUA...\n",
       "616    1amrc1231201110-k.AMRC 12.31.2011             ...\n",
       "617    1d300123d.     UNITED STATES SECURITIES   Wash...\n",
       "618    1d281578d.     UNITED STATES SECURITIES    205...\n",
       "619    1d304716d.     UNITED STATES SECURITIES    205...\n",
       "620    1d281994d.     UNITED STATES SECURITIES    205...\n",
       "621    1d260652d.     20549    ANNUAL REPORT PURSUANT...\n",
       "622    1d400092d.     UNITED STATES SECURITIES   WASH...\n",
       "623    1d289278d.  UNITED STATES  SECURITIES   Washin...\n",
       "624    1d289754d.     UNITED STATES SECURITIES    205...\n",
       "625    1d299912d.  UNITED STATES  SECURITIES    20549...\n",
       "626    1t75195. t75195.UNITED STATESSECURITIES  20549...\n",
       "Name: first_round, Length: 627, dtype: object"
      ]
     },
     "execution_count": 65,
     "metadata": {},
     "output_type": "execute_result"
    }
   ],
   "source": [
    "data_to_clean[\"first_round\"]"
   ]
  },
  {
   "cell_type": "code",
   "execution_count": 120,
   "metadata": {
    "collapsed": false
   },
   "outputs": [],
   "source": [
    "def punct_space(token):\n",
    "    return (token.is_punct or token.is_space or token.is_stop or token.is_digit)\n",
    "\n",
    "def getting_file_ready(text, process_time = True):\n",
    "    nospace = re.sub(\"\\n\",\" \", text)\n",
    "    new = nlp(nospace)\n",
    "    return new\n",
    "\n",
    "def lemmatized_sentence_corpus(data_file):\n",
    "    parsed_review = getting_file_ready(data_file)\n",
    "    lemmatized = list()\n",
    "    for sentence in parsed_review.sents:\n",
    "        for token in sentence:\n",
    "            if not punct_space(token):\n",
    "                lemmatized.append(token.lemma_)\n",
    "    lemmatized = filter(lambda x: len(x)>2, lemmatized)\n",
    "    lemmatized = filter(lambda x: \"-\" not in x, lemmatized)\n",
    "    return lemmatized"
   ]
  },
  {
   "cell_type": "code",
   "execution_count": null,
   "metadata": {
    "collapsed": true
   },
   "outputs": [],
   "source": [
    "def punct_space(token):\n",
    "    \"\"\"\n",
    "    helper function to eliminate tokens\n",
    "    that are pure punctuation, whitespace, stop words, and digits\n",
    "    \"\"\"\n",
    "    \n",
    "    return token.is_punct or token.is_space or token.is_stop or token.is_digit\n",
    "\n",
    "def line_review(filename):\n",
    "    \"\"\"\n",
    "    generator function to read in reviews from the file\n",
    "    and un-escape the original line breaks in the text\n",
    "    \"\"\"\n",
    "    \n",
    "    with codecs.open(filename, encoding='utf_8') as f:\n",
    "        for review in f:\n",
    "            yield review.replace('\\\\n', '\\n')\n",
    "            \n",
    "def lemmatized_sentence_corpus(filename):\n",
    "    \"\"\"\n",
    "    generator function to use spaCy to parse reviews,\n",
    "    lemmatize the text, and yield sentences\n",
    "    \"\"\"\n",
    "    \n",
    "    for parsed_review in nlp.pipe(line_review(filename),\n",
    "                                  batch_size=10000, n_threads=4):\n",
    "        \n",
    "        for sent in parsed_review.sents:\n",
    "            yield u' '.join([token.lemma_ for token in sent\n",
    "                             if not punct_space(token)])"
   ]
  },
  {
   "cell_type": "code",
   "execution_count": 75,
   "metadata": {
    "collapsed": false
   },
   "outputs": [],
   "source": [
    "data_to_clean['parsed_text'] = None"
   ]
  },
  {
   "cell_type": "code",
   "execution_count": 76,
   "metadata": {
    "collapsed": true
   },
   "outputs": [],
   "source": [
    "# filepaths\n",
    "unigram_sentences_filepath = os.path.join('unigram.txt')\n",
    "bigram_sentences_filepath = os.path.join('bigrams.txt')\n",
    "bigram_model_filepath = os.path.join('bigram_model_all')\n",
    "trigram_sentences_filepath = os.path.join('trigrams.txt')\n",
    "trigram_model_filepath = os.path.join('trigram_model_all')\n",
    "review_txt_filepath = os.path.join('review_text_all.txt')"
   ]
  },
  {
   "cell_type": "code",
   "execution_count": 126,
   "metadata": {
    "collapsed": false
   },
   "outputs": [
    {
     "name": "stderr",
     "output_type": "stream",
     "text": [
      "/Users/jasonchiu0803/anaconda2/lib/python2.7/site-packages/ipykernel/__main__.py:7: SettingWithCopyWarning: \n",
      "A value is trying to be set on a copy of a slice from a DataFrame\n",
      "\n",
      "See the caveats in the documentation: http://pandas.pydata.org/pandas-docs/stable/indexing.html#indexing-view-versus-copy\n"
     ]
    }
   ],
   "source": [
    "# load the finished model from disk\n",
    "import gensim\n",
    "i = 0 \n",
    "for row in data_to_clean[\"full_text_cleaned\"]:\n",
    "    tokens = lemmatized_sentence_corpus(row)\n",
    "    bigram = Phrases(tokens, min_count=1, threshold=2)\n",
    "    data_to_clean[\"parsed_text\"][i] = bigram[tokens]\n",
    "    i = i + 1"
   ]
  },
  {
   "cell_type": "code",
   "execution_count": 129,
   "metadata": {
    "collapsed": false
   },
   "outputs": [
    {
     "data": {
      "text/plain": [
       "[u'1acme2011.acme2011',\n",
       " u'x]annual',\n",
       " u'report',\n",
       " u'pursuant',\n",
       " u'section',\n",
       " u'security',\n",
       " u'exchange',\n",
       " u'act',\n",
       " u'fiscal',\n",
       " u'year',\n",
       " u'end',\n",
       " u'december',\n",
       " u'transition',\n",
       " u'report',\n",
       " u'pursuant',\n",
       " u'section',\n",
       " u'ofthe',\n",
       " u'security',\n",
       " u'exchange',\n",
       " u'act',\n",
       " u'commission',\n",
       " u'file',\n",
       " u'number',\n",
       " u'07698acme',\n",
       " u'united',\n",
       " u'corporationexact',\n",
       " u'registrant',\n",
       " u'specify',\n",
       " u'charter',\n",
       " u'connecticut06',\n",
       " u'0236700(state',\n",
       " u'jurisdiction',\n",
       " u'of(i.r.s',\n",
       " u'employerincorporation',\n",
       " u'organization)identification',\n",
       " u'round',\n",
       " u'hill',\n",
       " u'road',\n",
       " u'fairfield',\n",
       " u'connecticut',\n",
       " u'06824(address',\n",
       " u'principal',\n",
       " u'executive',\n",
       " u'offices)(zip',\n",
       " u'code',\n",
       " u'registrant',\n",
       " u'telephone',\n",
       " u'number',\n",
       " u'include',\n",
       " u'area',\n",
       " u'code',\n",
       " u'security',\n",
       " u'register',\n",
       " u'pursuant',\n",
       " u'section',\n",
       " u'12(b',\n",
       " u'act',\n",
       " u'exchange',\n",
       " u'ontitle',\n",
       " u'classwhich',\n",
       " u'registered$2.50',\n",
       " u'par',\n",
       " u'value',\n",
       " u'common',\n",
       " u'stocknyse',\n",
       " u'amex',\n",
       " u'security',\n",
       " u'register',\n",
       " u'pursuant',\n",
       " u'section',\n",
       " u'act',\n",
       " u'noneindicate',\n",
       " u'check',\n",
       " u'mark',\n",
       " u'registrant',\n",
       " u'know',\n",
       " u'seasoned',\n",
       " u'issuer',\n",
       " u'define',\n",
       " u'rule',\n",
       " u'security',\n",
       " u'act',\n",
       " u'yes',\n",
       " u'indicate',\n",
       " u'check',\n",
       " u'mark',\n",
       " u'registrant',\n",
       " u'require',\n",
       " u'file',\n",
       " u'report',\n",
       " u'pursuant',\n",
       " u'section',\n",
       " u'section',\n",
       " u'15(d',\n",
       " u'act',\n",
       " u'yes',\n",
       " u'x]indicate',\n",
       " u'check',\n",
       " u'mark',\n",
       " u'registrant',\n",
       " u'file',\n",
       " u'report',\n",
       " u'require',\n",
       " u'file',\n",
       " u'section',\n",
       " u'security',\n",
       " u'exchange',\n",
       " u'act',\n",
       " u'precede',\n",
       " u'month',\n",
       " u'short',\n",
       " u'period',\n",
       " u'registrant',\n",
       " u'require',\n",
       " u'file',\n",
       " u'report',\n",
       " u'subject',\n",
       " u'filing',\n",
       " u'requirement',\n",
       " u'past',\n",
       " u'day',\n",
       " u'yes',\n",
       " u'indicate',\n",
       " u'check',\n",
       " u'mark',\n",
       " u'registrant',\n",
       " u'submit',\n",
       " u'electronically',\n",
       " u'post',\n",
       " u'corporate',\n",
       " u'web',\n",
       " u'site',\n",
       " u'interactive',\n",
       " u'datum',\n",
       " u'file',\n",
       " u'require',\n",
       " u'submit',\n",
       " u'post',\n",
       " u'pursuant',\n",
       " u'rule',\n",
       " u'regulation',\n",
       " u'sec',\n",
       " u'232.405',\n",
       " u'chapter',\n",
       " u'precede',\n",
       " u'month',\n",
       " u'short',\n",
       " u'period',\n",
       " u'registrant',\n",
       " u'require',\n",
       " u'submit',\n",
       " u'post',\n",
       " u'file',\n",
       " u'yes',\n",
       " u'indicate',\n",
       " u'check',\n",
       " u'mark',\n",
       " u'disclosure',\n",
       " u'delinquent',\n",
       " u'filer',\n",
       " u'pursuant',\n",
       " u'item',\n",
       " u'regulation',\n",
       " u'sec',\n",
       " u'229.405',\n",
       " u'contain',\n",
       " u'contain',\n",
       " u'good',\n",
       " u'registrant',\n",
       " u'knowledge',\n",
       " u'definitive',\n",
       " u'proxy',\n",
       " u'ination',\n",
       " u'statement',\n",
       " u'incorporate',\n",
       " u'reference',\n",
       " u'iii',\n",
       " u'amendment',\n",
       " u'.ye',\n",
       " u'indicate',\n",
       " u'check',\n",
       " u'mark',\n",
       " u'registrant',\n",
       " u'large',\n",
       " u'accelerate',\n",
       " u'filer',\n",
       " u'accelerate',\n",
       " u'filer',\n",
       " u'non',\n",
       " u'accelerate',\n",
       " u'filer',\n",
       " u'small',\n",
       " u'report',\n",
       " u'company',\n",
       " u'definition',\n",
       " u'large',\n",
       " u'accelerated',\n",
       " u'filer',\n",
       " u'accelerate',\n",
       " u'filer',\n",
       " u'small',\n",
       " u'report',\n",
       " u'company',\n",
       " u'rule',\n",
       " u'exchange',\n",
       " u'act',\n",
       " u'check',\n",
       " u'large',\n",
       " u'accelerated',\n",
       " u'filer',\n",
       " u'accelerate',\n",
       " u'filer',\n",
       " u'non',\n",
       " u'accelerate',\n",
       " u'filer',\n",
       " u'small',\n",
       " u'report',\n",
       " u'company',\n",
       " u'x]indicate',\n",
       " u'check',\n",
       " u'mark',\n",
       " u'registrant',\n",
       " u'shell',\n",
       " u'company',\n",
       " u'define',\n",
       " u'rule',\n",
       " u'exchange',\n",
       " u'act',\n",
       " u'yes',\n",
       " u'x]the',\n",
       " u'aggregate',\n",
       " u'market',\n",
       " u'value',\n",
       " u'vote',\n",
       " u'non',\n",
       " u'voting',\n",
       " u'stock',\n",
       " u'hold',\n",
       " u'non',\n",
       " u'affiliate',\n",
       " u'registrant',\n",
       " u'business',\n",
       " u'day',\n",
       " u'registrant',\n",
       " u'recently',\n",
       " u'complete',\n",
       " u'second',\n",
       " u'fiscal',\n",
       " u'quarter',\n",
       " u'24,711,429',\n",
       " u'registrant',\n",
       " u'3,139,977',\n",
       " u'share',\n",
       " u'2.50',\n",
       " u'par',\n",
       " u'value',\n",
       " u'common',\n",
       " u'stock',\n",
       " u'outstanding',\n",
       " u'march',\n",
       " u'2012.document',\n",
       " u'incorporate',\n",
       " u'reference(1',\n",
       " u'certain',\n",
       " u'portion',\n",
       " u'company',\n",
       " u'proxy',\n",
       " u'statement',\n",
       " u'annual',\n",
       " u'meeting',\n",
       " u'schedule',\n",
       " u'april',\n",
       " u'incorporate',\n",
       " u'company',\n",
       " u'annual',\n",
       " u'report',\n",
       " u'iii.2',\n",
       " u'page',\n",
       " u'item',\n",
       " u'1.business',\n",
       " u'item',\n",
       " u'1a.risk',\n",
       " u'factor',\n",
       " u'item',\n",
       " u'1b.unresolved',\n",
       " u'staff',\n",
       " u'comment',\n",
       " u'item',\n",
       " u'2.propertie',\n",
       " u'item',\n",
       " u'legal',\n",
       " u'proceeding',\n",
       " u'item',\n",
       " u'4.mine',\n",
       " u'safety',\n",
       " u'disclosur',\n",
       " u'item',\n",
       " u'5.market',\n",
       " u'registrant',\n",
       " u'common',\n",
       " u'equity',\n",
       " u'relate',\n",
       " u'stockholder',\n",
       " u'matter',\n",
       " u'issuer',\n",
       " u'purchase',\n",
       " u'equity',\n",
       " u'security',\n",
       " u'item',\n",
       " u'6.select',\n",
       " u'financial',\n",
       " u'datum',\n",
       " u'item',\n",
       " u'management',\n",
       " u'discussion',\n",
       " u'analysis',\n",
       " u'financial',\n",
       " u'condition',\n",
       " u'result',\n",
       " u'operation',\n",
       " u'item',\n",
       " u'7a.quantitative',\n",
       " u'qualitative',\n",
       " u'disclosure',\n",
       " u'market',\n",
       " u'risk',\n",
       " u'item',\n",
       " u'8.financial',\n",
       " u'statement',\n",
       " u'supplementary',\n",
       " u'datum',\n",
       " u'item',\n",
       " u'9.change',\n",
       " u'disagreement',\n",
       " u'accountant',\n",
       " u'accounting',\n",
       " u'financial',\n",
       " u'disclosure',\n",
       " u'item',\n",
       " u'9a.control',\n",
       " u'procedure',\n",
       " u'item',\n",
       " u'ination',\n",
       " u'iii',\n",
       " u'item',\n",
       " u'director',\n",
       " u'executive',\n",
       " u'officer',\n",
       " u'corporate',\n",
       " u'governance',\n",
       " u'item',\n",
       " u'11.executive',\n",
       " u'compensation',\n",
       " u'item',\n",
       " u'12.security',\n",
       " u'ownership',\n",
       " u'certain',\n",
       " u'beneficial',\n",
       " u'owner',\n",
       " u'management',\n",
       " u'relate',\n",
       " u'stockholder',\n",
       " u'matter',\n",
       " u'item',\n",
       " u'certain',\n",
       " u'relationship',\n",
       " u'relate',\n",
       " u'transaction',\n",
       " u'director',\n",
       " u'independence',\n",
       " u'item',\n",
       " u'14.principal',\n",
       " u'accountant',\n",
       " u'fee',\n",
       " u'service',\n",
       " u'item',\n",
       " u'15.exhibit',\n",
       " u'financial',\n",
       " u'statement',\n",
       " u'schedule',\n",
       " u'signature',\n",
       " u'iitem',\n",
       " u'businessgeneralacme',\n",
       " u'united',\n",
       " u'corporation',\n",
       " u'subsidiary',\n",
       " u'company',\n",
       " u'organize',\n",
       " u'partnership',\n",
       " u'l867',\n",
       " u'incorporate',\n",
       " u'l882',\n",
       " u'law',\n",
       " u'state',\n",
       " u'connecticut',\n",
       " u'company',\n",
       " u'lead',\n",
       " u'worldwide',\n",
       " u'supplier',\n",
       " u'innovative',\n",
       " u'cutting',\n",
       " u'measure',\n",
       " u'safety',\n",
       " u'product',\n",
       " u'school',\n",
       " u'home',\n",
       " u'office',\n",
       " u'hardware',\n",
       " u'industrial',\n",
       " u'market',\n",
       " u'company',\n",
       " u'operation',\n",
       " u'united',\n",
       " u'state',\n",
       " u'canada',\n",
       " u'europe',\n",
       " u'locate',\n",
       " u'germany',\n",
       " u'asia',\n",
       " u'locate',\n",
       " u'hong',\n",
       " u'kong',\n",
       " u'china',\n",
       " u'operation',\n",
       " u'united',\n",
       " u'state',\n",
       " u'canada',\n",
       " u'europe',\n",
       " u'primarily',\n",
       " u'involve',\n",
       " u'product',\n",
       " u'development',\n",
       " u'marketing',\n",
       " u'sale',\n",
       " u'administrative',\n",
       " u'distribution',\n",
       " u'activity',\n",
       " u'operation',\n",
       " u'asia',\n",
       " u'consist',\n",
       " u'source',\n",
       " u'product',\n",
       " u'development',\n",
       " u'production',\n",
       " u'plan',\n",
       " u'quality',\n",
       " u'control',\n",
       " u'sale',\n",
       " u'activity',\n",
       " u'net',\n",
       " u'sale',\n",
       " u'unite',\n",
       " u'state',\n",
       " u'include',\n",
       " u'direct',\n",
       " u'import',\n",
       " u'sale',\n",
       " u'asia',\n",
       " u'56.7',\n",
       " u'million',\n",
       " u'canada',\n",
       " u'8.5',\n",
       " u'million',\n",
       " u'europe',\n",
       " u'8.1',\n",
       " u'million',\n",
       " u'company',\n",
       " u'group',\n",
       " u'operation',\n",
       " u'reportable',\n",
       " u'segment',\n",
       " u'base',\n",
       " u'company',\n",
       " u'geographical',\n",
       " u'organization',\n",
       " u'structure',\n",
       " u'united',\n",
       " u'state',\n",
       " u'include',\n",
       " u'asian',\n",
       " u'operation',\n",
       " u'canada',\n",
       " u'europe',\n",
       " u'refer',\n",
       " u'note',\n",
       " u'note',\n",
       " u'consolidated',\n",
       " u'financial',\n",
       " u'statement',\n",
       " u'additional',\n",
       " u'segment',\n",
       " u'ination',\n",
       " u'business',\n",
       " u'strategythe',\n",
       " u'company',\n",
       " u'business',\n",
       " u'strategy',\n",
       " u'include',\n",
       " u'follow',\n",
       " u'key',\n",
       " u'elements:\\xb7',\n",
       " u'commitment',\n",
       " u'technological',\n",
       " u'innovation',\n",
       " u'achieve',\n",
       " u'consumer',\n",
       " u'insight',\n",
       " u'creativity',\n",
       " u'speed',\n",
       " u'market;\\xb7',\n",
       " u'broad',\n",
       " u'selection',\n",
       " u'product',\n",
       " u'brand',\n",
       " u'private',\n",
       " u'label;\\xb7',\n",
       " u'prompt',\n",
       " u'response',\n",
       " u'day',\n",
       " u'shipping;\\xb7',\n",
       " u'superior',\n",
       " u'customer',\n",
       " u'service',\n",
       " u'and\\xb7',\n",
       " u'value',\n",
       " u'price',\n",
       " u'acquisitionson',\n",
       " u'february',\n",
       " u'company',\n",
       " u'purchase',\n",
       " u'substantially',\n",
       " u'asset',\n",
       " u'pac',\n",
       " u'kit',\n",
       " u'safety',\n",
       " u'equipment',\n",
       " u'company',\n",
       " u'lead',\n",
       " u'manufacturer',\n",
       " u'aid',\n",
       " u'kit',\n",
       " u'industrial',\n",
       " u'safety',\n",
       " u'transportation',\n",
       " u'marine',\n",
       " u'market',\n",
       " u'company',\n",
       " u'purchase',\n",
       " u'account',\n",
       " u'receivable',\n",
       " u'inventory',\n",
       " u'equipment',\n",
       " u'intangible',\n",
       " u'asset',\n",
       " u'pac',\n",
       " u'kit',\n",
       " u'approximately',\n",
       " u'3.4',\n",
       " u'million',\n",
       " u'liability',\n",
       " u'assume',\n",
       " u'310,000',\n",
       " u'fund',\n",
       " u'borrow',\n",
       " u'company',\n",
       " u'revolving',\n",
       " u'loan',\n",
       " u'agreement',\n",
       " u'well',\n",
       " u'fargo',\n",
       " u'company',\n",
       " u'record',\n",
       " u'1.9',\n",
       " u'million',\n",
       " u'asset',\n",
       " u'acquire',\n",
       " u'include',\n",
       " u'account',\n",
       " u'receivable',\n",
       " u'inventory',\n",
       " u'fix',\n",
       " u'asset',\n",
       " u'1.5',\n",
       " u'million',\n",
       " u'intangible',\n",
       " u'asset',\n",
       " u'consist',\n",
       " u'customer',\n",
       " u'relationship',\n",
       " u'pac',\n",
       " u'kit',\n",
       " u'trade',\n",
       " u'company',\n",
       " u'incur',\n",
       " u'approximately',\n",
       " u'125,000',\n",
       " u'integration',\n",
       " u'transaction',\n",
       " u'cost',\n",
       " u'associate',\n",
       " u'acquisition',\n",
       " u'cost',\n",
       " u'record',\n",
       " u'sell',\n",
       " u'general',\n",
       " u'administrative',\n",
       " u'expense',\n",
       " u'principal',\n",
       " u'productsthe',\n",
       " u'company',\n",
       " u'market',\n",
       " u'sell',\n",
       " u'main',\n",
       " u'brand',\n",
       " u'westcott\\xae',\n",
       " u'clauss\\xae',\n",
       " u'camillus\\xae',\n",
       " u'physicianscare\\xae',\n",
       " u'pac',\n",
       " u'kit\\xae.cutt',\n",
       " u'principal',\n",
       " u'product',\n",
       " u'cutting',\n",
       " u'device',\n",
       " u'category',\n",
       " u'scissor',\n",
       " u'shear',\n",
       " u'guillotine',\n",
       " u'paper',\n",
       " u'trimmer',\n",
       " u'rotary',\n",
       " u'paper',\n",
       " u'trimmer',\n",
       " u'rotary',\n",
       " u'cutter',\n",
       " u'knife',\n",
       " u'hobby',\n",
       " u'knife',\n",
       " u'blade',\n",
       " u'utility',\n",
       " u'knife',\n",
       " u'pruner',\n",
       " u'lopper',\n",
       " u'see',\n",
       " u'manicure',\n",
       " u'product',\n",
       " u'medical',\n",
       " u'cut',\n",
       " u'instrument',\n",
       " u'pencil',\n",
       " u'sharpener',\n",
       " u'product',\n",
       " u'introduce',\n",
       " u'include',\n",
       " u'expand',\n",
       " u'line',\n",
       " u'heavy',\n",
       " u'duty',\n",
       " u'school',\n",
       " u'office',\n",
       " u'ipoint\\xae',\n",
       " u'pencil',\n",
       " u'sharpener',\n",
       " u'recent',\n",
       " u'product',\n",
       " u'introduction',\n",
       " u'include',\n",
       " u'westcott',\n",
       " u'trimair\\xae',\n",
       " u'paper',\n",
       " u'trimmer',\n",
       " u'patent',\n",
       " u'titanium',\n",
       " u'coat',\n",
       " u'proprietary',\n",
       " u'blade',\n",
       " u'change',\n",
       " u'system',\n",
       " u'rotary',\n",
       " u'personal',\n",
       " u'trimmer',\n",
       " u'westcott',\n",
       " u'ultra',\n",
       " u'soft',\n",
       " u'handle',\n",
       " u'scissor',\n",
       " u'anti',\n",
       " u'microbial',\n",
       " u'product',\n",
       " u'protection',\n",
       " u'true',\n",
       " u'professional\\u2122',\n",
       " u'sewing',\n",
       " u'shear',\n",
       " u'line',\n",
       " u'ipoint\\xae',\n",
       " u'pencil',\n",
       " u'sharpener',\n",
       " u'utilize',\n",
       " u'company',\n",
       " u'proprietary',\n",
       " u'non',\n",
       " u'stick',\n",
       " u'coating',\n",
       " u'company',\n",
       " u'add',\n",
       " u'kleenearth\\xae',\n",
       " u'family',\n",
       " u'recycle',\n",
       " u'product',\n",
       " u'modify',\n",
       " u'production',\n",
       " u'process',\n",
       " u'allow',\n",
       " u'multi',\n",
       " u'color',\n",
       " u'product',\n",
       " u'oppose',\n",
       " u'traditional',\n",
       " u'black',\n",
       " u'year',\n",
       " u'ago',\n",
       " u'company',\n",
       " u'acquire',\n",
       " u'patent',\n",
       " u'intellectual',\n",
       " u'property',\n",
       " u'camillus',\n",
       " u'cutlery',\n",
       " u'old',\n",
       " u'knife',\n",
       " u'company',\n",
       " u'unite',\n",
       " u'state',\n",
       " u'launch',\n",
       " u'new',\n",
       " u'family',\n",
       " u'knife',\n",
       " u'proprietary',\n",
       " u'design',\n",
       " u'high',\n",
       " u'perance',\n",
       " u'titanium',\n",
       " u'carbonitride',\n",
       " u'coating',\n",
       " u'camillus',\n",
       " u'expand',\n",
       " u'range',\n",
       " u'knife',\n",
       " u'tactical',\n",
       " u'outdoor',\n",
       " u'sporting',\n",
       " u'use.4',\n",
       " u'clauss',\n",
       " u'introduce',\n",
       " u'airshoc\\xae',\n",
       " u'line',\n",
       " u'titanium',\n",
       " u'coat',\n",
       " u'non',\n",
       " u'stick',\n",
       " u'garden',\n",
       " u'tool',\n",
       " u'claus',\n",
       " u'introduce',\n",
       " u'high',\n",
       " u'perance',\n",
       " u'marine',\n",
       " u'tool',\n",
       " u'saltwater',\n",
       " u'fishing',\n",
       " u'measure',\n",
       " u'principal',\n",
       " u'product',\n",
       " u'measure',\n",
       " u'instrument',\n",
       " u'category',\n",
       " u'ruler',\n",
       " u'math',\n",
       " u'tool',\n",
       " u'recent',\n",
       " u'product',\n",
       " u'introduction',\n",
       " u'include',\n",
       " u'westcott',\n",
       " u'brand',\n",
       " u'compass',\n",
       " u'protractor',\n",
       " u'ruler',\n",
       " u'math',\n",
       " u'kit',\n",
       " u'anti',\n",
       " u'microbial',\n",
       " u'product',\n",
       " u'protection',\n",
       " u'safety',\n",
       " u'principal',\n",
       " u'product',\n",
       " u'safety',\n",
       " u'product',\n",
       " u'category',\n",
       " u'aid',\n",
       " u'kit',\n",
       " u'personal',\n",
       " u'protection',\n",
       " u'product',\n",
       " u'counter',\n",
       " u'medication',\n",
       " u'refill',\n",
       " u'company',\n",
       " u'market',\n",
       " u'product',\n",
       " u'physicianscare',\n",
       " u'brand',\n",
       " u'february',\n",
       " u'company',\n",
       " u'extend',\n",
       " u'physicianscare',\n",
       " u'line',\n",
       " u'aid',\n",
       " u'kit',\n",
       " u'refill',\n",
       " u'acquire',\n",
       " u'pac',\n",
       " u'kit',\n",
       " u'safety',\n",
       " u'equipment',\n",
       " u'company',\n",
       " u'lead',\n",
       " u'manufacturer',\n",
       " u'aid',\n",
       " u'kit',\n",
       " u'industrial',\n",
       " u'safety',\n",
       " u'transportation',\n",
       " u'marine',\n",
       " u'market',\n",
       " u'pac',\n",
       " u'kit',\n",
       " u'pioneer',\n",
       " u'industrial',\n",
       " u'aid',\n",
       " u'product',\n",
       " u'today',\n",
       " u'sell',\n",
       " u'high',\n",
       " u'quality',\n",
       " u'unitized',\n",
       " u'kit',\n",
       " u'broad',\n",
       " u'range',\n",
       " u'company',\n",
       " u'distributor',\n",
       " u'know',\n",
       " u'tailor',\n",
       " u'item',\n",
       " u'meet',\n",
       " u'user',\n",
       " u'requirement',\n",
       " u'rapid',\n",
       " u'turnaround',\n",
       " u'product',\n",
       " u'development',\n",
       " u'strong',\n",
       " u'commitment',\n",
       " u'understand',\n",
       " u'consumer',\n",
       " u'define',\n",
       " u'product',\n",
       " u'fulfill',\n",
       " u'innovation',\n",
       " u'drive',\n",
       " u'product',\n",
       " u'development',\n",
       " u'strategy',\n",
       " u'believe',\n",
       " u'key',\n",
       " u'contributor',\n",
       " u'success',\n",
       " u'company',\n",
       " u'incur',\n",
       " u'research',\n",
       " u'development',\n",
       " u'cost',\n",
       " u'535,500',\n",
       " u'486,778',\n",
       " u'intellectual',\n",
       " u'property',\n",
       " u'company',\n",
       " u'patent',\n",
       " u'trademark',\n",
       " u'important',\n",
       " u'business',\n",
       " u'company',\n",
       " u'success',\n",
       " u'depend',\n",
       " u'ability',\n",
       " u'maintain',\n",
       " u'patent',\n",
       " u'protection',\n",
       " u'product',\n",
       " u'preserve',\n",
       " u'proprietary',\n",
       " u'technology',\n",
       " u'operate',\n",
       " u'infringe',\n",
       " u'patent',\n",
       " u'proprietary',\n",
       " u'right',\n",
       " u'company',\n",
       " u'generally',\n",
       " u'file',\n",
       " u'patent',\n",
       " u'application',\n",
       " u'united',\n",
       " u'state',\n",
       " u'foreign',\n",
       " u'country',\n",
       " u'patent',\n",
       " u'protection',\n",
       " u'technology',\n",
       " u'appropriate',\n",
       " u'available',\n",
       " u'company',\n",
       " u'consider',\n",
       " u'trademark',\n",
       " u'important',\n",
       " u'success',\n",
       " u'business',\n",
       " u'significant',\n",
       " u'trademark',\n",
       " u'include',\n",
       " u'westcott',\n",
       " u'clauss',\n",
       " u'camillus',\n",
       " u'physicianscare',\n",
       " u'pac',\n",
       " u'kit',\n",
       " u'product',\n",
       " u'distribution',\n",
       " u'major',\n",
       " u'customersindependent',\n",
       " u'manufacturer',\n",
       " u'representative',\n",
       " u'direct',\n",
       " u'sale',\n",
       " u'primarily',\n",
       " u'sell',\n",
       " u'company',\n",
       " u'line',\n",
       " u'consumer',\n",
       " u'product',\n",
       " u'wholesale',\n",
       " u'contract',\n",
       " u'retail',\n",
       " u'stationery',\n",
       " u'distributor',\n",
       " u'office',\n",
       " u'supply',\n",
       " u'super',\n",
       " u'store',\n",
       " u'school',\n",
       " u'supply',\n",
       " u'distributor',\n",
       " u'industrial',\n",
       " u'distributor',\n",
       " u'wholesale',\n",
       " u'florist',\n",
       " u'mass',\n",
       " u'market',\n",
       " u'retailer',\n",
       " u'hardware',\n",
       " u'chain',\n",
       " u'company',\n",
       " u'customer',\n",
       " u'individually',\n",
       " u'exce',\n",
       " u'10%',\n",
       " u'consolidated',\n",
       " u'net',\n",
       " u'sale',\n",
       " u'net',\n",
       " u'sale',\n",
       " u'customer',\n",
       " u'approximately',\n",
       " u'20%',\n",
       " u'consolidate',\n",
       " u'net',\n",
       " u'sale',\n",
       " u'21%',\n",
       " u'2010.competitionthe',\n",
       " u'company',\n",
       " u'compete',\n",
       " u'company',\n",
       " u'market',\n",
       " u'geographic',\n",
       " u'area',\n",
       " u'company',\n",
       " u'believe',\n",
       " u'principal',\n",
       " ...]"
      ]
     },
     "execution_count": 129,
     "metadata": {},
     "output_type": "execute_result"
    }
   ],
   "source": [
    "data_to_clean[\"parsed_text\"][0]"
   ]
  },
  {
   "cell_type": "code",
   "execution_count": null,
   "metadata": {
    "collapsed": true
   },
   "outputs": [],
   "source": [
    "data_to_clean[\"trigram\"] = None"
   ]
  },
  {
   "cell_type": "code",
   "execution_count": null,
   "metadata": {
    "collapsed": true
   },
   "outputs": [],
   "source": [
    "i = 0 \n",
    "for row in data_to_clean[\"parsed_text\"]:\n",
    "    tokens = lemmatized_sentence_corpus(row)\n",
    "    trigram = Phrases(bigram[tokens], min_count=1, threshold=2)\n",
    "    data_to_clean[\"trigram\"][i] = trigram[tokens]\n",
    "    i = i + 1"
   ]
  },
  {
   "cell_type": "code",
   "execution_count": 106,
   "metadata": {
    "collapsed": false
   },
   "outputs": [
    {
     "name": "stdout",
     "output_type": "stream",
     "text": [
      "[u'the', u'mayor', u'of', u'new_york', u'was', u'there']\n"
     ]
    },
    {
     "name": "stderr",
     "output_type": "stream",
     "text": [
      "/Users/jasonchiu0803/anaconda2/lib/python2.7/site-packages/gensim/models/phrases.py:274: UserWarning: For a faster implementation, use the gensim.models.phrases.Phraser class\n",
      "  warnings.warn(\"For a faster implementation, use the gensim.models.phrases.Phraser class\")\n"
     ]
    }
   ],
   "source": [
    "from gensim.models import Phrases\n",
    "documents = [\"the mayor of new york was there\", \"machine learning can be useful sometimes\",\"new york mayor was present\"]\n",
    "\n",
    "sentence_stream = [doc.split(\" \") for doc in documents]\n",
    "bigram = Phrases(sentence_stream, min_count=1, threshold=2)\n",
    "sent = [u'the', u'mayor', u'of', u'new', u'york', u'was', u'there']\n",
    "print(bigram[sent])"
   ]
  },
  {
   "cell_type": "code",
   "execution_count": 114,
   "metadata": {
    "collapsed": false
   },
   "outputs": [
    {
     "data": {
      "text/plain": [
       "[u'12b-2',\n",
       " u'12b-2',\n",
       " u'10-q',\n",
       " u'8-k',\n",
       " u'800-sec-0330',\n",
       " u'10-q',\n",
       " u'8-k',\n",
       " u'short-',\n",
       " u'holders-0',\n",
       " u'-0-total943,000$10.84107,438',\n",
       " u'.327-.330',\n",
       " u'.336-.359',\n",
       " u'13a-15(b',\n",
       " u'8-k',\n",
       " u'13a-14(a',\n",
       " u'15d-14(a',\n",
       " u'13a-14(a',\n",
       " u'15d-14(a',\n",
       " u's-1',\n",
       " u's-8',\n",
       " u's-8',\n",
       " u's-8',\n",
       " u's-8',\n",
       " u's-8',\n",
       " u's-8',\n",
       " u'8-k',\n",
       " u's-8',\n",
       " u'8-k']"
      ]
     },
     "execution_count": 114,
     "metadata": {},
     "output_type": "execute_result"
    }
   ],
   "source": [
    "trigram = Phrases(bigram[sentence_stream])\n",
    "sent = [u'the', u'new', u'york', u'times', u'is', u'a', u'newspaper']\n",
    "print(trigram[bigram[sent]])"
   ]
  },
  {
   "cell_type": "code",
   "execution_count": 165,
   "metadata": {
    "collapsed": false
   },
   "outputs": [],
   "source": [
    "data_to_clean[\"no_number\"] = data_to_clean[\"parsed_text\"].\\\n",
    "apply(lambda x: filter(lambda y: not bool(re.search(r'\\d',y)), x))"
   ]
  },
  {
   "cell_type": "code",
   "execution_count": 179,
   "metadata": {
    "collapsed": false
   },
   "outputs": [],
   "source": [
    "from sklearn.feature_extraction.text import CountVectorizer\n",
    "count_vect = CountVectorizer()"
   ]
  },
  {
   "cell_type": "code",
   "execution_count": 168,
   "metadata": {
    "collapsed": false
   },
   "outputs": [
    {
     "data": {
      "text/plain": [
       "Index([            u'CIK #',              u'Name',           u'company',\n",
       "                    u'date',         u'full_text',           u'quarter',\n",
       "                  u'report',            u'status',               u'url',\n",
       "                    u'year',       u'first_round', u'full_text_cleaned',\n",
       "             u'parsed_text',         u'no_number'],\n",
       "      dtype='object')"
      ]
     },
     "execution_count": 168,
     "metadata": {},
     "output_type": "execute_result"
    }
   ],
   "source": [
    "data_to_clean.columns"
   ]
  },
  {
   "cell_type": "code",
   "execution_count": 169,
   "metadata": {
    "collapsed": true
   },
   "outputs": [],
   "source": [
    "data_to_clean[\"no_number_sentence\"] = data_to_clean[\"no_number\"].\\\n",
    "apply(lambda x:\" \".join(x))"
   ]
  },
  {
   "cell_type": "code",
   "execution_count": 171,
   "metadata": {
    "collapsed": false
   },
   "outputs": [],
   "source": [
    "X = data_to_clean[[\"no_number_sentence\"]]"
   ]
  },
  {
   "cell_type": "code",
   "execution_count": 172,
   "metadata": {
    "collapsed": true
   },
   "outputs": [],
   "source": [
    "y = data_to_clean[[\"status\"]]"
   ]
  },
  {
   "cell_type": "code",
   "execution_count": 186,
   "metadata": {
    "collapsed": false
   },
   "outputs": [],
   "source": [
    "X_counts = count_vect.fit_transform(data_to_clean[\"no_number_sentence\"])"
   ]
  },
  {
   "cell_type": "code",
   "execution_count": 187,
   "metadata": {
    "collapsed": false
   },
   "outputs": [
    {
     "data": {
      "text/plain": [
       "(627, 231234)"
      ]
     },
     "execution_count": 187,
     "metadata": {},
     "output_type": "execute_result"
    }
   ],
   "source": [
    "X_counts.shape"
   ]
  },
  {
   "cell_type": "code",
   "execution_count": 192,
   "metadata": {
    "collapsed": false
   },
   "outputs": [
    {
     "data": {
      "text/plain": [
       "Index([             u'CIK #',               u'Name',            u'company',\n",
       "                     u'date',          u'full_text',            u'quarter',\n",
       "                   u'report',             u'status',                u'url',\n",
       "                     u'year',        u'first_round',  u'full_text_cleaned',\n",
       "              u'parsed_text',          u'no_number', u'no_number_sentence'],\n",
       "      dtype='object')"
      ]
     },
     "execution_count": 192,
     "metadata": {},
     "output_type": "execute_result"
    }
   ],
   "source": [
    "data_to_clean.columns"
   ]
  },
  {
   "cell_type": "code",
   "execution_count": 194,
   "metadata": {
    "collapsed": false
   },
   "outputs": [],
   "source": [
    "from sklearn.feature_extraction.text import TfidfTransformer\n",
    "tfidf_transformer = TfidfTransformer()\n",
    "X_counts_tfidf = tfidf_transformer.fit_transform(X_counts)"
   ]
  },
  {
   "cell_type": "code",
   "execution_count": 195,
   "metadata": {
    "collapsed": false
   },
   "outputs": [
    {
     "data": {
      "text/plain": [
       "(627, 231234)"
      ]
     },
     "execution_count": 195,
     "metadata": {},
     "output_type": "execute_result"
    }
   ],
   "source": [
    "X_counts_tfidf.shape"
   ]
  },
  {
   "cell_type": "code",
   "execution_count": 301,
   "metadata": {
    "collapsed": true
   },
   "outputs": [],
   "source": [
    "from sklearn.model_selection import train_test_split\n",
    "X_train, X_test, y_train, y_test = train_test_split(X_counts_tfidf, y, test_size=0.30, random_state=32)"
   ]
  },
  {
   "cell_type": "code",
   "execution_count": 218,
   "metadata": {
    "collapsed": false
   },
   "outputs": [
    {
     "data": {
      "text/plain": [
       "(438, 231234)"
      ]
     },
     "execution_count": 218,
     "metadata": {},
     "output_type": "execute_result"
    }
   ],
   "source": [
    "X_train.shape"
   ]
  },
  {
   "cell_type": "code",
   "execution_count": 219,
   "metadata": {
    "collapsed": false
   },
   "outputs": [],
   "source": [
    "from sklearn.naive_bayes import MultinomialNB\n",
    "clf = MultinomialNB().fit(X_train, y_train)"
   ]
  },
  {
   "cell_type": "code",
   "execution_count": 220,
   "metadata": {
    "collapsed": true
   },
   "outputs": [],
   "source": [
    "y_pred = clf.predict(X_test)"
   ]
  },
  {
   "cell_type": "code",
   "execution_count": 221,
   "metadata": {
    "collapsed": false
   },
   "outputs": [],
   "source": [
    "y_pred_prob = clf.predict_proba(X_test)"
   ]
  },
  {
   "cell_type": "code",
   "execution_count": 222,
   "metadata": {
    "collapsed": false
   },
   "outputs": [
    {
     "data": {
      "text/plain": [
       "array([[  2.17114825e-06,   9.99997829e-01],\n",
       "       [  1.73672470e-05,   9.99982633e-01],\n",
       "       [  6.64497365e-06,   9.99993355e-01],\n",
       "       [  2.22114901e-03,   9.97778851e-01],\n",
       "       [  2.79639555e-06,   9.99997204e-01],\n",
       "       [  1.29812212e-06,   9.99998702e-01],\n",
       "       [  3.95883367e-05,   9.99960412e-01],\n",
       "       [  3.77709797e-06,   9.99996223e-01],\n",
       "       [  9.05437229e-07,   9.99999095e-01],\n",
       "       [  7.95737494e-07,   9.99999204e-01],\n",
       "       [  3.56642978e-07,   9.99999643e-01],\n",
       "       [  3.68775248e-08,   9.99999963e-01],\n",
       "       [  2.06957070e-05,   9.99979304e-01],\n",
       "       [  3.33612058e-04,   9.99666388e-01],\n",
       "       [  2.43004501e-03,   9.97569955e-01],\n",
       "       [  9.89455467e-07,   9.99999011e-01],\n",
       "       [  1.62934591e-07,   9.99999837e-01],\n",
       "       [  5.78626202e-07,   9.99999421e-01],\n",
       "       [  3.71031581e-05,   9.99962897e-01],\n",
       "       [  1.13328996e-05,   9.99988667e-01],\n",
       "       [  7.31076445e-07,   9.99999269e-01],\n",
       "       [  1.71181008e-06,   9.99998288e-01],\n",
       "       [  3.52940262e-06,   9.99996471e-01],\n",
       "       [  4.48413978e-05,   9.99955159e-01],\n",
       "       [  7.21225898e-05,   9.99927877e-01],\n",
       "       [  1.31153529e-05,   9.99986885e-01],\n",
       "       [  1.04026386e-06,   9.99998960e-01],\n",
       "       [  8.90081757e-06,   9.99991099e-01],\n",
       "       [  2.57081217e-06,   9.99997429e-01],\n",
       "       [  1.12994423e-06,   9.99998870e-01],\n",
       "       [  1.80645013e-05,   9.99981935e-01],\n",
       "       [  7.55309823e-07,   9.99999245e-01],\n",
       "       [  6.44187165e-05,   9.99935581e-01],\n",
       "       [  9.92028776e-07,   9.99999008e-01],\n",
       "       [  1.42912562e-04,   9.99857087e-01],\n",
       "       [  1.87956617e-04,   9.99812043e-01],\n",
       "       [  1.57118135e-03,   9.98428819e-01],\n",
       "       [  5.84049868e-06,   9.99994160e-01],\n",
       "       [  8.19864146e-08,   9.99999918e-01],\n",
       "       [  6.43606386e-04,   9.99356394e-01],\n",
       "       [  9.31773098e-06,   9.99990682e-01],\n",
       "       [  3.15587171e-05,   9.99968441e-01],\n",
       "       [  2.01385290e-04,   9.99798615e-01],\n",
       "       [  5.22117122e-06,   9.99994779e-01],\n",
       "       [  1.63598236e-06,   9.99998364e-01],\n",
       "       [  1.21742427e-05,   9.99987826e-01],\n",
       "       [  2.16218105e-05,   9.99978378e-01],\n",
       "       [  1.21542602e-06,   9.99998785e-01],\n",
       "       [  2.14741582e-05,   9.99978526e-01],\n",
       "       [  2.57503767e-05,   9.99974250e-01],\n",
       "       [  3.73124133e-06,   9.99996269e-01],\n",
       "       [  6.03252801e-05,   9.99939675e-01],\n",
       "       [  5.07180361e-06,   9.99994928e-01],\n",
       "       [  2.12087212e-06,   9.99997879e-01],\n",
       "       [  1.54108634e-05,   9.99984589e-01],\n",
       "       [  6.22750723e-04,   9.99377249e-01],\n",
       "       [  1.58266096e-04,   9.99841734e-01],\n",
       "       [  2.88489989e-03,   9.97115100e-01],\n",
       "       [  3.88534670e-06,   9.99996115e-01],\n",
       "       [  5.44376875e-06,   9.99994556e-01],\n",
       "       [  7.30396647e-08,   9.99999927e-01],\n",
       "       [  3.90958293e-05,   9.99960904e-01],\n",
       "       [  3.04982488e-03,   9.96950175e-01],\n",
       "       [  4.58154093e-07,   9.99999542e-01],\n",
       "       [  7.02225651e-03,   9.92977743e-01],\n",
       "       [  4.68862009e-05,   9.99953114e-01],\n",
       "       [  1.46214258e-07,   9.99999854e-01],\n",
       "       [  3.54620383e-06,   9.99996454e-01],\n",
       "       [  8.87347849e-06,   9.99991127e-01],\n",
       "       [  9.50792366e-07,   9.99999049e-01],\n",
       "       [  7.77559431e-04,   9.99222441e-01],\n",
       "       [  1.45894821e-04,   9.99854105e-01],\n",
       "       [  2.95035540e-06,   9.99997050e-01],\n",
       "       [  9.66358821e-06,   9.99990336e-01],\n",
       "       [  5.99395506e-08,   9.99999940e-01],\n",
       "       [  1.61911411e-04,   9.99838089e-01],\n",
       "       [  2.60873843e-06,   9.99997391e-01],\n",
       "       [  3.36881131e-05,   9.99966312e-01],\n",
       "       [  2.46305750e-05,   9.99975369e-01],\n",
       "       [  3.23404412e-05,   9.99967660e-01],\n",
       "       [  3.47228484e-04,   9.99652772e-01],\n",
       "       [  7.11153872e-05,   9.99928885e-01],\n",
       "       [  1.35356101e-05,   9.99986464e-01],\n",
       "       [  1.06399268e-05,   9.99989360e-01],\n",
       "       [  2.61893196e-07,   9.99999738e-01],\n",
       "       [  1.48941713e-05,   9.99985106e-01],\n",
       "       [  2.83918474e-07,   9.99999716e-01],\n",
       "       [  6.54924757e-05,   9.99934508e-01],\n",
       "       [  4.07651542e-06,   9.99995923e-01],\n",
       "       [  1.35508164e-06,   9.99998645e-01],\n",
       "       [  4.03761139e-07,   9.99999596e-01],\n",
       "       [  3.76885296e-07,   9.99999623e-01],\n",
       "       [  2.07966113e-04,   9.99792034e-01],\n",
       "       [  3.60444609e-04,   9.99639555e-01],\n",
       "       [  6.32309877e-06,   9.99993677e-01],\n",
       "       [  1.85860764e-07,   9.99999814e-01],\n",
       "       [  6.39341751e-08,   9.99999936e-01],\n",
       "       [  9.84211800e-07,   9.99999016e-01],\n",
       "       [  2.02946245e-05,   9.99979705e-01],\n",
       "       [  8.90733635e-08,   9.99999911e-01],\n",
       "       [  1.80528887e-07,   9.99999819e-01],\n",
       "       [  2.42633202e-07,   9.99999757e-01],\n",
       "       [  6.90515926e-05,   9.99930948e-01],\n",
       "       [  7.53550071e-06,   9.99992464e-01],\n",
       "       [  4.18602597e-07,   9.99999581e-01],\n",
       "       [  1.61658667e-06,   9.99998383e-01],\n",
       "       [  1.36348588e-04,   9.99863651e-01],\n",
       "       [  1.32697561e-03,   9.98673024e-01],\n",
       "       [  2.11943557e-05,   9.99978806e-01],\n",
       "       [  1.53446026e-04,   9.99846554e-01],\n",
       "       [  1.05676014e-04,   9.99894324e-01],\n",
       "       [  5.39461110e-07,   9.99999461e-01],\n",
       "       [  6.67883075e-04,   9.99332117e-01],\n",
       "       [  1.52011684e-05,   9.99984799e-01],\n",
       "       [  4.38617174e-07,   9.99999561e-01],\n",
       "       [  1.70140113e-05,   9.99982986e-01],\n",
       "       [  3.51065716e-06,   9.99996489e-01],\n",
       "       [  1.99706842e-05,   9.99980029e-01],\n",
       "       [  2.15437153e-06,   9.99997846e-01],\n",
       "       [  4.67420022e-06,   9.99995326e-01],\n",
       "       [  1.86043264e-06,   9.99998140e-01],\n",
       "       [  5.47989579e-07,   9.99999452e-01],\n",
       "       [  2.65947895e-07,   9.99999734e-01],\n",
       "       [  1.66964853e-06,   9.99998330e-01],\n",
       "       [  6.37377167e-07,   9.99999363e-01],\n",
       "       [  1.48528545e-06,   9.99998515e-01],\n",
       "       [  7.01728795e-06,   9.99992983e-01],\n",
       "       [  2.61048792e-07,   9.99999739e-01],\n",
       "       [  8.73690064e-06,   9.99991263e-01],\n",
       "       [  1.56353629e-05,   9.99984365e-01],\n",
       "       [  1.09002215e-04,   9.99890998e-01],\n",
       "       [  1.59556178e-06,   9.99998404e-01],\n",
       "       [  2.19585118e-07,   9.99999780e-01],\n",
       "       [  2.70110427e-05,   9.99972989e-01],\n",
       "       [  2.17582914e-06,   9.99997824e-01],\n",
       "       [  1.19487298e-06,   9.99998805e-01],\n",
       "       [  3.38308695e-06,   9.99996617e-01],\n",
       "       [  1.68652579e-05,   9.99983135e-01],\n",
       "       [  9.88722133e-06,   9.99990113e-01],\n",
       "       [  2.12910052e-06,   9.99997871e-01],\n",
       "       [  1.49796066e-04,   9.99850204e-01],\n",
       "       [  4.62427887e-04,   9.99537572e-01],\n",
       "       [  2.58420612e-07,   9.99999742e-01],\n",
       "       [  8.72557264e-06,   9.99991274e-01],\n",
       "       [  1.56007383e-04,   9.99843993e-01],\n",
       "       [  6.22434212e-05,   9.99937757e-01],\n",
       "       [  6.18339886e-07,   9.99999382e-01],\n",
       "       [  8.22350636e-06,   9.99991776e-01],\n",
       "       [  9.17677197e-04,   9.99082323e-01],\n",
       "       [  2.04846657e-07,   9.99999795e-01],\n",
       "       [  1.69377413e-05,   9.99983062e-01],\n",
       "       [  2.12392870e-06,   9.99997876e-01],\n",
       "       [  7.35143852e-07,   9.99999265e-01],\n",
       "       [  2.17082484e-03,   9.97829175e-01],\n",
       "       [  3.08579973e-06,   9.99996914e-01],\n",
       "       [  1.62173653e-06,   9.99998378e-01],\n",
       "       [  8.39807850e-06,   9.99991602e-01],\n",
       "       [  4.34399761e-07,   9.99999566e-01],\n",
       "       [  4.66030029e-06,   9.99995340e-01],\n",
       "       [  1.76545948e-05,   9.99982345e-01],\n",
       "       [  9.04984225e-05,   9.99909502e-01],\n",
       "       [  5.12745632e-05,   9.99948725e-01],\n",
       "       [  2.67181461e-05,   9.99973282e-01],\n",
       "       [  1.72665169e-07,   9.99999827e-01],\n",
       "       [  4.21258905e-05,   9.99957874e-01],\n",
       "       [  9.43073826e-08,   9.99999906e-01],\n",
       "       [  1.00790799e-05,   9.99989921e-01],\n",
       "       [  4.65076606e-06,   9.99995349e-01],\n",
       "       [  1.69613202e-06,   9.99998304e-01],\n",
       "       [  9.83495985e-06,   9.99990165e-01],\n",
       "       [  4.93377961e-06,   9.99995066e-01],\n",
       "       [  2.62902101e-05,   9.99973710e-01],\n",
       "       [  5.76207565e-05,   9.99942379e-01],\n",
       "       [  2.48981329e-07,   9.99999751e-01],\n",
       "       [  1.11396648e-07,   9.99999889e-01],\n",
       "       [  1.13591571e-06,   9.99998864e-01],\n",
       "       [  7.47736482e-07,   9.99999252e-01],\n",
       "       [  6.80438087e-07,   9.99999320e-01],\n",
       "       [  2.09538251e-04,   9.99790462e-01],\n",
       "       [  9.85282814e-07,   9.99999015e-01],\n",
       "       [  8.41408351e-05,   9.99915859e-01],\n",
       "       [  6.37040743e-06,   9.99993630e-01],\n",
       "       [  1.16155856e-05,   9.99988384e-01],\n",
       "       [  2.62414538e-06,   9.99997376e-01],\n",
       "       [  9.38742837e-07,   9.99999061e-01],\n",
       "       [  7.94891508e-05,   9.99920511e-01],\n",
       "       [  3.28029738e-05,   9.99967197e-01],\n",
       "       [  5.04769668e-05,   9.99949523e-01],\n",
       "       [  1.10617319e-04,   9.99889383e-01]])"
      ]
     },
     "execution_count": 222,
     "metadata": {},
     "output_type": "execute_result"
    }
   ],
   "source": [
    "y_pred_prob"
   ]
  },
  {
   "cell_type": "code",
   "execution_count": 223,
   "metadata": {
    "collapsed": true
   },
   "outputs": [],
   "source": [
    "y_train_pred = clf.predict(X_train)"
   ]
  },
  {
   "cell_type": "code",
   "execution_count": 224,
   "metadata": {
    "collapsed": false
   },
   "outputs": [
    {
     "data": {
      "text/plain": [
       "0.77168949771689499"
      ]
     },
     "execution_count": 224,
     "metadata": {},
     "output_type": "execute_result"
    }
   ],
   "source": [
    "clf.score(X_train, y_train)"
   ]
  },
  {
   "cell_type": "code",
   "execution_count": 225,
   "metadata": {
    "collapsed": false
   },
   "outputs": [
    {
     "data": {
      "text/plain": [
       "array([[  0,  47],\n",
       "       [  0, 142]])"
      ]
     },
     "execution_count": 225,
     "metadata": {},
     "output_type": "execute_result"
    }
   ],
   "source": [
    "from sklearn.metrics import confusion_matrix\n",
    "confusion_matrix(y_test, y_pred)"
   ]
  },
  {
   "cell_type": "code",
   "execution_count": 227,
   "metadata": {
    "collapsed": false
   },
   "outputs": [
    {
     "name": "stdout",
     "output_type": "stream",
     "text": [
      "Counter({u'status': 1})\n"
     ]
    }
   ],
   "source": [
    "from collections import Counter\n",
    "list1=list(y_test)\n",
    "counts = Counter(list1)\n",
    "print(counts)"
   ]
  },
  {
   "cell_type": "code",
   "execution_count": 136,
   "metadata": {
    "collapsed": false
   },
   "outputs": [],
   "source": [
    "print(gnb.score(iris.data, iris.target))"
   ]
  },
  {
   "cell_type": "code",
   "execution_count": 236,
   "metadata": {
    "collapsed": false
   },
   "outputs": [
    {
     "data": {
      "text/plain": [
       "winner    142\n",
       "loser      47\n",
       "Name: status, dtype: int64"
      ]
     },
     "execution_count": 236,
     "metadata": {},
     "output_type": "execute_result"
    }
   ],
   "source": [
    "y_test[\"status\"].value_counts()"
   ]
  },
  {
   "cell_type": "markdown",
   "metadata": {},
   "source": [
    "# Logistic model"
   ]
  },
  {
   "cell_type": "code",
   "execution_count": 237,
   "metadata": {
    "collapsed": true
   },
   "outputs": [],
   "source": [
    "from sklearn import linear_model\n",
    "logreg=linear_model.LogisticRegression(C=10)"
   ]
  },
  {
   "cell_type": "code",
   "execution_count": 241,
   "metadata": {
    "collapsed": false
   },
   "outputs": [
    {
     "data": {
      "text/plain": [
       "LogisticRegression(C=10, class_weight=None, dual=False, fit_intercept=True,\n",
       "          intercept_scaling=1, max_iter=100, multi_class='ovr', n_jobs=1,\n",
       "          penalty='l2', random_state=None, solver='liblinear', tol=0.0001,\n",
       "          verbose=0, warm_start=False)"
      ]
     },
     "execution_count": 241,
     "metadata": {},
     "output_type": "execute_result"
    }
   ],
   "source": [
    "logreg.fit(X_train, y_train)"
   ]
  },
  {
   "cell_type": "code",
   "execution_count": 239,
   "metadata": {
    "collapsed": true
   },
   "outputs": [],
   "source": [
    "result= logreg.predict(X_test)"
   ]
  },
  {
   "cell_type": "code",
   "execution_count": 242,
   "metadata": {
    "collapsed": false
   },
   "outputs": [
    {
     "data": {
      "text/plain": [
       "0.78306878306878303"
      ]
     },
     "execution_count": 242,
     "metadata": {},
     "output_type": "execute_result"
    }
   ],
   "source": [
    "logreg.score(X_test,y_test)"
   ]
  },
  {
   "cell_type": "code",
   "execution_count": 243,
   "metadata": {
    "collapsed": false
   },
   "outputs": [
    {
     "data": {
      "text/plain": [
       "array([[ 10,  37],\n",
       "       [  4, 138]])"
      ]
     },
     "execution_count": 243,
     "metadata": {},
     "output_type": "execute_result"
    }
   ],
   "source": [
    "confusion_matrix(y_test, result)"
   ]
  },
  {
   "cell_type": "code",
   "execution_count": 283,
   "metadata": {
    "collapsed": false
   },
   "outputs": [
    {
     "data": {
      "text/plain": [
       "(438, 231234)"
      ]
     },
     "execution_count": 283,
     "metadata": {},
     "output_type": "execute_result"
    }
   ],
   "source": [
    "X_train.shape"
   ]
  },
  {
   "cell_type": "markdown",
   "metadata": {},
   "source": [
    "# Random Forest"
   ]
  },
  {
   "cell_type": "code",
   "execution_count": 286,
   "metadata": {
    "collapsed": false
   },
   "outputs": [
    {
     "name": "stderr",
     "output_type": "stream",
     "text": [
      "/Users/jasonchiu0803/anaconda2/lib/python2.7/site-packages/ipykernel/__main__.py:3: DataConversionWarning: A column-vector y was passed when a 1d array was expected. Please change the shape of y to (n_samples,), for example using ravel().\n",
      "  app.launch_new_instance()\n"
     ]
    },
    {
     "name": "stdout",
     "output_type": "stream",
     "text": [
      "0.87899543379\n",
      "0.746031746032\n"
     ]
    }
   ],
   "source": [
    "from sklearn import ensemble\n",
    "rf=ensemble.RandomForestClassifier(n_estimators=500, max_depth=4, min_samples_leaf=2, max_features=2312)\n",
    "rf=rf.fit(X_train, y_train)\n",
    "print rf.score(X_train, y_train)\n",
    "print rf.score(X_test, y_test)"
   ]
  },
  {
   "cell_type": "code",
   "execution_count": 290,
   "metadata": {
    "collapsed": false
   },
   "outputs": [],
   "source": [
    "tree_y = rf.predict(X_test)"
   ]
  },
  {
   "cell_type": "code",
   "execution_count": 294,
   "metadata": {
    "collapsed": false
   },
   "outputs": [
    {
     "data": {
      "text/plain": [
       "array([[  1,  46],\n",
       "       [  2, 140]])"
      ]
     },
     "execution_count": 294,
     "metadata": {},
     "output_type": "execute_result"
    }
   ],
   "source": [
    "confusion_matrix(y_test, tree_y)"
   ]
  },
  {
   "cell_type": "code",
   "execution_count": 302,
   "metadata": {
    "collapsed": false
   },
   "outputs": [
    {
     "data": {
      "text/plain": [
       "10      True\n",
       "66     False\n",
       "334    False\n",
       "611    False\n",
       "225    False\n",
       "405    False\n",
       "52     False\n",
       "137    False\n",
       "411     True\n",
       "526     True\n",
       "300    False\n",
       "13     False\n",
       "101    False\n",
       "33     False\n",
       "533     True\n",
       "391     True\n",
       "323    False\n",
       "122    False\n",
       "197    False\n",
       "417    False\n",
       "12      True\n",
       "269     True\n",
       "146    False\n",
       "192    False\n",
       "201    False\n",
       "388    False\n",
       "72     False\n",
       "506    False\n",
       "344     True\n",
       "464    False\n",
       "       ...  \n",
       "221    False\n",
       "564     True\n",
       "474    False\n",
       "120     True\n",
       "395    False\n",
       "62     False\n",
       "589    False\n",
       "166    False\n",
       "249    False\n",
       "185    False\n",
       "100    False\n",
       "434    False\n",
       "594    False\n",
       "554    False\n",
       "35     False\n",
       "418     True\n",
       "577    False\n",
       "259    False\n",
       "465     True\n",
       "4      False\n",
       "9      False\n",
       "234    False\n",
       "601    False\n",
       "510     True\n",
       "71     False\n",
       "252    False\n",
       "403    False\n",
       "88     False\n",
       "310     True\n",
       "555     True\n",
       "Name: status, Length: 438, dtype: bool"
      ]
     },
     "execution_count": 302,
     "metadata": {},
     "output_type": "execute_result"
    }
   ],
   "source": [
    "y_train[\"status\"] == \"loser\""
   ]
  },
  {
   "cell_type": "markdown",
   "metadata": {},
   "source": [
    "# SVM"
   ]
  },
  {
   "cell_type": "code",
   "execution_count": 292,
   "metadata": {
    "collapsed": true
   },
   "outputs": [],
   "source": [
    "from sklearn import svm, datasets\n",
    "from sklearn.model_selection import GridSearchCV\n",
    "parameters = {\"kernel\":(\"linear\", \"rbf\"), \"C\":[1, 10]}\n",
    "svr = svm.SVC()\n",
    "clf_2 = GridSearchCV(svr, parameters,cv=3)"
   ]
  },
  {
   "cell_type": "code",
   "execution_count": 304,
   "metadata": {
    "collapsed": false
   },
   "outputs": [],
   "source": [
    "a = clf_2.fit(X_train, y_train[\"status\"] == \"loser\")"
   ]
  },
  {
   "cell_type": "code",
   "execution_count": 305,
   "metadata": {
    "collapsed": true
   },
   "outputs": [],
   "source": [
    "b = a.best_estimator_"
   ]
  },
  {
   "cell_type": "code",
   "execution_count": 306,
   "metadata": {
    "collapsed": false
   },
   "outputs": [
    {
     "data": {
      "text/plain": [
       "{'C': 10, 'kernel': 'linear'}"
      ]
     },
     "execution_count": 306,
     "metadata": {},
     "output_type": "execute_result"
    }
   ],
   "source": [
    "a.best_params_"
   ]
  },
  {
   "cell_type": "code",
   "execution_count": 307,
   "metadata": {
    "collapsed": false
   },
   "outputs": [
    {
     "data": {
      "text/plain": [
       "SVC(C=10, cache_size=200, class_weight=None, coef0=0.0,\n",
       "  decision_function_shape=None, degree=3, gamma='auto', kernel='linear',\n",
       "  max_iter=-1, probability=False, random_state=None, shrinking=True,\n",
       "  tol=0.001, verbose=False)"
      ]
     },
     "execution_count": 307,
     "metadata": {},
     "output_type": "execute_result"
    }
   ],
   "source": [
    "b.fit(X_train, y_train)"
   ]
  },
  {
   "cell_type": "code",
   "execution_count": 313,
   "metadata": {
    "collapsed": true
   },
   "outputs": [],
   "source": [
    "svm_y = b.predict(X_test)"
   ]
  },
  {
   "cell_type": "code",
   "execution_count": 315,
   "metadata": {
    "collapsed": false
   },
   "outputs": [
    {
     "data": {
      "text/plain": [
       "array([[ 12,  35],\n",
       "       [  6, 136]])"
      ]
     },
     "execution_count": 315,
     "metadata": {},
     "output_type": "execute_result"
    }
   ],
   "source": [
    "confusion_matrix(y_test, svm_y)"
   ]
  },
  {
   "cell_type": "code",
   "execution_count": 316,
   "metadata": {
    "collapsed": false
   },
   "outputs": [
    {
     "data": {
      "text/plain": [
       "0.78306878306878303"
      ]
     },
     "execution_count": 316,
     "metadata": {},
     "output_type": "execute_result"
    }
   ],
   "source": [
    "b.score(X_test,y_test)"
   ]
  },
  {
   "cell_type": "code",
   "execution_count": 317,
   "metadata": {
    "collapsed": false
   },
   "outputs": [
    {
     "data": {
      "text/plain": [
       "array([u'winner', u'winner', u'winner', u'winner', u'winner', u'winner',\n",
       "       u'winner', u'winner', u'winner', u'winner', u'winner', u'winner',\n",
       "       u'winner', u'winner', u'winner', u'winner', u'winner', u'winner',\n",
       "       u'winner', u'winner', u'winner', u'winner', u'loser', u'winner',\n",
       "       u'winner', u'winner', u'winner', u'winner', u'winner', u'winner',\n",
       "       u'winner', u'winner', u'loser', u'winner', u'winner', u'loser',\n",
       "       u'winner', u'winner', u'winner', u'loser', u'winner', u'winner',\n",
       "       u'winner', u'winner', u'winner', u'winner', u'winner', u'winner',\n",
       "       u'winner', u'winner', u'winner', u'winner', u'winner', u'winner',\n",
       "       u'loser', u'loser', u'winner', u'winner', u'winner', u'winner',\n",
       "       u'winner', u'loser', u'loser', u'winner', u'winner', u'winner',\n",
       "       u'winner', u'winner', u'winner', u'winner', u'winner', u'loser',\n",
       "       u'winner', u'winner', u'winner', u'winner', u'winner', u'loser',\n",
       "       u'winner', u'winner', u'winner', u'winner', u'winner', u'winner',\n",
       "       u'winner', u'winner', u'winner', u'loser', u'winner', u'winner',\n",
       "       u'winner', u'winner', u'winner', u'loser', u'winner', u'winner',\n",
       "       u'winner', u'winner', u'winner', u'winner', u'winner', u'winner',\n",
       "       u'winner', u'winner', u'winner', u'winner', u'loser', u'winner',\n",
       "       u'winner', u'winner', u'winner', u'winner', u'winner', u'winner',\n",
       "       u'winner', u'winner', u'winner', u'winner', u'winner', u'winner',\n",
       "       u'winner', u'winner', u'winner', u'winner', u'winner', u'winner',\n",
       "       u'winner', u'winner', u'winner', u'winner', u'loser', u'winner',\n",
       "       u'winner', u'winner', u'winner', u'winner', u'winner', u'winner',\n",
       "       u'winner', u'winner', u'winner', u'winner', u'winner', u'winner',\n",
       "       u'winner', u'winner', u'winner', u'winner', u'winner', u'winner',\n",
       "       u'winner', u'winner', u'winner', u'winner', u'winner', u'loser',\n",
       "       u'winner', u'winner', u'winner', u'winner', u'winner', u'winner',\n",
       "       u'winner', u'winner', u'winner', u'winner', u'loser', u'winner',\n",
       "       u'loser', u'winner', u'winner', u'winner', u'winner', u'winner',\n",
       "       u'winner', u'winner', u'winner', u'winner', u'winner', u'winner',\n",
       "       u'loser', u'winner', u'winner', u'winner', u'winner', u'winner',\n",
       "       u'winner', u'winner', u'winner'], dtype=object)"
      ]
     },
     "execution_count": 317,
     "metadata": {},
     "output_type": "execute_result"
    }
   ],
   "source": [
    "svm_y"
   ]
  },
  {
   "cell_type": "code",
   "execution_count": 158,
   "metadata": {
    "collapsed": false
   },
   "outputs": [],
   "source": []
  }
 ],
 "metadata": {
  "anaconda-cloud": {},
  "kernelspec": {
   "display_name": "Python [conda root]",
   "language": "python",
   "name": "conda-root-py"
  },
  "language_info": {
   "codemirror_mode": {
    "name": "ipython",
    "version": 2
   },
   "file_extension": ".py",
   "mimetype": "text/x-python",
   "name": "python",
   "nbconvert_exporter": "python",
   "pygments_lexer": "ipython2",
   "version": "2.7.12"
  }
 },
 "nbformat": 4,
 "nbformat_minor": 2
}
