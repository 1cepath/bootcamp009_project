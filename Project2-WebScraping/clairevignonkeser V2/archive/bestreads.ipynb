{
 "cells": [
  {
   "cell_type": "markdown",
   "metadata": {},
   "source": [
    "# The Challenge"
   ]
  },
  {
   "cell_type": "markdown",
   "metadata": {},
   "source": [
    "### I am a bookworm; I read 3-4 books a month (non-fiction books only) and start 80% of my sentences with \"I read that...\" \n",
    "\n",
    "This is why I decided to scrape goodreads.com for this web-scrapping project (the second of NYC DataScience Academy Bootcamp). Goodreads.com is the world's largest site for readers and book recommendations. Amazon acquired goodreads.com in 2013.\n",
    "\n",
    "For this project, I was interested in analyzing the common traits of top 500 books on goodreads.com. This would later help predict the success of a book, to some extent. We have not got to machine learning yet... one step at a time!\n",
    "\n",
    "I only grabbed data for the books under ['best book ever list'](https://www.goodreads.com/list/show/1.Best_Books_Ever). The list includes more than 48,000 books. I **focused on the top 500** for this analysis."
   ]
  },
  {
   "cell_type": "markdown",
   "metadata": {},
   "source": [
    "# Importing the modules and files"
   ]
  },
  {
   "cell_type": "code",
   "execution_count": 1,
   "metadata": {},
   "outputs": [
    {
     "data": {
      "text/html": [
       "\n",
       "    <div class=\"bk-root\">\n",
       "        <a href=\"http://bokeh.pydata.org\" target=\"_blank\" class=\"bk-logo bk-logo-small bk-logo-notebook\"></a>\n",
       "        <span id=\"bdb99fa2-e20c-4698-b741-0b6462dc9189\">Loading BokehJS ...</span>\n",
       "    </div>"
      ]
     },
     "metadata": {},
     "output_type": "display_data"
    },
    {
     "data": {
      "application/javascript": [
       "\n",
       "(function(global) {\n",
       "  function now() {\n",
       "    return new Date();\n",
       "  }\n",
       "\n",
       "  var force = true;\n",
       "\n",
       "  if (typeof (window._bokeh_onload_callbacks) === \"undefined\" || force === true) {\n",
       "    window._bokeh_onload_callbacks = [];\n",
       "    window._bokeh_is_loading = undefined;\n",
       "  }\n",
       "\n",
       "\n",
       "  \n",
       "  if (typeof (window._bokeh_timeout) === \"undefined\" || force === true) {\n",
       "    window._bokeh_timeout = Date.now() + 5000;\n",
       "    window._bokeh_failed_load = false;\n",
       "  }\n",
       "\n",
       "  var NB_LOAD_WARNING = {'data': {'text/html':\n",
       "     \"<div style='background-color: #fdd'>\\n\"+\n",
       "     \"<p>\\n\"+\n",
       "     \"BokehJS does not appear to have successfully loaded. If loading BokehJS from CDN, this \\n\"+\n",
       "     \"may be due to a slow or bad network connection. Possible fixes:\\n\"+\n",
       "     \"</p>\\n\"+\n",
       "     \"<ul>\\n\"+\n",
       "     \"<li>re-rerun `output_notebook()` to attempt to load from CDN again, or</li>\\n\"+\n",
       "     \"<li>use INLINE resources instead, as so:</li>\\n\"+\n",
       "     \"</ul>\\n\"+\n",
       "     \"<code>\\n\"+\n",
       "     \"from bokeh.resources import INLINE\\n\"+\n",
       "     \"output_notebook(resources=INLINE)\\n\"+\n",
       "     \"</code>\\n\"+\n",
       "     \"</div>\"}};\n",
       "\n",
       "  function display_loaded() {\n",
       "    if (window.Bokeh !== undefined) {\n",
       "      var el = document.getElementById(\"bdb99fa2-e20c-4698-b741-0b6462dc9189\");\n",
       "      el.textContent = \"BokehJS \" + Bokeh.version + \" successfully loaded.\";\n",
       "    } else if (Date.now() < window._bokeh_timeout) {\n",
       "      setTimeout(display_loaded, 100)\n",
       "    }\n",
       "  }\n",
       "\n",
       "  function run_callbacks() {\n",
       "    window._bokeh_onload_callbacks.forEach(function(callback) { callback() });\n",
       "    delete window._bokeh_onload_callbacks\n",
       "    console.info(\"Bokeh: all callbacks have finished\");\n",
       "  }\n",
       "\n",
       "  function load_libs(js_urls, callback) {\n",
       "    window._bokeh_onload_callbacks.push(callback);\n",
       "    if (window._bokeh_is_loading > 0) {\n",
       "      console.log(\"Bokeh: BokehJS is being loaded, scheduling callback at\", now());\n",
       "      return null;\n",
       "    }\n",
       "    if (js_urls == null || js_urls.length === 0) {\n",
       "      run_callbacks();\n",
       "      return null;\n",
       "    }\n",
       "    console.log(\"Bokeh: BokehJS not loaded, scheduling load and callback at\", now());\n",
       "    window._bokeh_is_loading = js_urls.length;\n",
       "    for (var i = 0; i < js_urls.length; i++) {\n",
       "      var url = js_urls[i];\n",
       "      var s = document.createElement('script');\n",
       "      s.src = url;\n",
       "      s.async = false;\n",
       "      s.onreadystatechange = s.onload = function() {\n",
       "        window._bokeh_is_loading--;\n",
       "        if (window._bokeh_is_loading === 0) {\n",
       "          console.log(\"Bokeh: all BokehJS libraries loaded\");\n",
       "          run_callbacks()\n",
       "        }\n",
       "      };\n",
       "      s.onerror = function() {\n",
       "        console.warn(\"failed to load library \" + url);\n",
       "      };\n",
       "      console.log(\"Bokeh: injecting script tag for BokehJS library: \", url);\n",
       "      document.getElementsByTagName(\"head\")[0].appendChild(s);\n",
       "    }\n",
       "  };var element = document.getElementById(\"bdb99fa2-e20c-4698-b741-0b6462dc9189\");\n",
       "  if (element == null) {\n",
       "    console.log(\"Bokeh: ERROR: autoload.js configured with elementid 'bdb99fa2-e20c-4698-b741-0b6462dc9189' but no matching script tag was found. \")\n",
       "    return false;\n",
       "  }\n",
       "\n",
       "  var js_urls = [\"https://cdn.pydata.org/bokeh/release/bokeh-0.12.5.min.js\", \"https://cdn.pydata.org/bokeh/release/bokeh-widgets-0.12.5.min.js\"];\n",
       "\n",
       "  var inline_js = [\n",
       "    function(Bokeh) {\n",
       "      Bokeh.set_log_level(\"info\");\n",
       "    },\n",
       "    \n",
       "    function(Bokeh) {\n",
       "      \n",
       "    },\n",
       "    \n",
       "    function(Bokeh) {\n",
       "      \n",
       "      document.getElementById(\"bdb99fa2-e20c-4698-b741-0b6462dc9189\").textContent = \"BokehJS is loading...\";\n",
       "    },\n",
       "    function(Bokeh) {\n",
       "      console.log(\"Bokeh: injecting CSS: https://cdn.pydata.org/bokeh/release/bokeh-0.12.5.min.css\");\n",
       "      Bokeh.embed.inject_css(\"https://cdn.pydata.org/bokeh/release/bokeh-0.12.5.min.css\");\n",
       "      console.log(\"Bokeh: injecting CSS: https://cdn.pydata.org/bokeh/release/bokeh-widgets-0.12.5.min.css\");\n",
       "      Bokeh.embed.inject_css(\"https://cdn.pydata.org/bokeh/release/bokeh-widgets-0.12.5.min.css\");\n",
       "    }\n",
       "  ];\n",
       "\n",
       "  function run_inline_js() {\n",
       "    \n",
       "    if ((window.Bokeh !== undefined) || (force === true)) {\n",
       "      for (var i = 0; i < inline_js.length; i++) {\n",
       "        inline_js[i](window.Bokeh);\n",
       "      }if (force === true) {\n",
       "        display_loaded();\n",
       "      }} else if (Date.now() < window._bokeh_timeout) {\n",
       "      setTimeout(run_inline_js, 100);\n",
       "    } else if (!window._bokeh_failed_load) {\n",
       "      console.log(\"Bokeh: BokehJS failed to load within specified timeout.\");\n",
       "      window._bokeh_failed_load = true;\n",
       "    } else if (force !== true) {\n",
       "      var cell = $(document.getElementById(\"bdb99fa2-e20c-4698-b741-0b6462dc9189\")).parents('.cell').data().cell;\n",
       "      cell.output_area.append_execute_result(NB_LOAD_WARNING)\n",
       "    }\n",
       "\n",
       "  }\n",
       "\n",
       "  if (window._bokeh_is_loading === 0) {\n",
       "    console.log(\"Bokeh: BokehJS loaded, going straight to plotting\");\n",
       "    run_inline_js();\n",
       "  } else {\n",
       "    load_libs(js_urls, function() {\n",
       "      console.log(\"Bokeh: BokehJS plotting callback run at\", now());\n",
       "      run_inline_js();\n",
       "    });\n",
       "  }\n",
       "}(this));"
      ]
     },
     "metadata": {},
     "output_type": "display_data"
    }
   ],
   "source": [
    "import csv\n",
    "import os\n",
    "import re\n",
    "import pandas as pd\n",
    "import numpy as np\n",
    "import json\n",
    "\n",
    "import matplotlib.pyplot as plt\n",
    "%matplotlib inline  \n",
    "from  matplotlib import style\n",
    "from matplotlib import rcParams\n",
    "\n",
    "from ipywidgets import interact\n",
    "from bokeh.io import push_notebook, show, output_notebook\n",
    "from bokeh.plotting import figure\n",
    "output_notebook()"
   ]
  },
  {
   "cell_type": "code",
   "execution_count": 2,
   "metadata": {
    "collapsed": true
   },
   "outputs": [],
   "source": [
    "bestreads = pd.read_csv('bestreads.csv')"
   ]
  },
  {
   "cell_type": "code",
   "execution_count": 3,
   "metadata": {},
   "outputs": [
    {
     "data": {
      "text/html": [
       "<div>\n",
       "<table border=\"1\" class=\"dataframe\">\n",
       "  <thead>\n",
       "    <tr style=\"text-align: right;\">\n",
       "      <th></th>\n",
       "      <th>NumberOfPages</th>\n",
       "      <th>Description</th>\n",
       "      <th>BookCoverURL</th>\n",
       "      <th>Author</th>\n",
       "      <th>Reviews</th>\n",
       "      <th>MainGenre</th>\n",
       "      <th>Score</th>\n",
       "      <th>NumberOfReviews</th>\n",
       "      <th>NumberOfRating</th>\n",
       "      <th>Year</th>\n",
       "      <th>Title</th>\n",
       "      <th>TotalScore</th>\n",
       "      <th>AllGenres</th>\n",
       "      <th>Ranking</th>\n",
       "    </tr>\n",
       "  </thead>\n",
       "  <tbody>\n",
       "    <tr>\n",
       "      <th>0</th>\n",
       "      <td>374</td>\n",
       "      <td>The nation of Panem, formed from a post-apocal...</td>\n",
       "      <td>https://www.goodreads.com/book/photo/2767052-t...</td>\n",
       "      <td>Suzanne Collins</td>\n",
       "      <td>I have got to stop poking fun at this series w...</td>\n",
       "      <td>Young Adult</td>\n",
       "      <td>4.35</td>\n",
       "      <td>154127</td>\n",
       "      <td>4788705</td>\n",
       "      <td>2008</td>\n",
       "      <td>The Hunger Games</td>\n",
       "      <td>2,717,540</td>\n",
       "      <td>Young Adult,Fiction,Science Fiction,Dystopia,F...</td>\n",
       "      <td>1</td>\n",
       "    </tr>\n",
       "    <tr>\n",
       "      <th>1</th>\n",
       "      <td>974</td>\n",
       "      <td>See alternate cover edition</td>\n",
       "      <td>https://www.goodreads.com/book/photo/58696.Dav...</td>\n",
       "      <td>Charles Dickens</td>\n",
       "      <td>DAVID COPPERFIELD: MASTER VILLAINoh you archit...</td>\n",
       "      <td>Classics</td>\n",
       "      <td>3.96</td>\n",
       "      <td>4477</td>\n",
       "      <td>160848</td>\n",
       "      <td>2004</td>\n",
       "      <td>David Copperfield</td>\n",
       "      <td>63,116</td>\n",
       "      <td>Classics,Fiction,Literature,Historical,Literat...</td>\n",
       "      <td>201</td>\n",
       "    </tr>\n",
       "    <tr>\n",
       "      <th>2</th>\n",
       "      <td>1152</td>\n",
       "      <td>A bold English adventurer. An invincible Japan...</td>\n",
       "      <td>https://www.goodreads.com/book/photo/402093.Sh...</td>\n",
       "      <td>James Clavell</td>\n",
       "      <td>So sorry, I am not worthy of the honor of revi...</td>\n",
       "      <td>Historical</td>\n",
       "      <td>4.36</td>\n",
       "      <td>2980</td>\n",
       "      <td>112868</td>\n",
       "      <td>2009</td>\n",
       "      <td>Shgun</td>\n",
       "      <td>61,792</td>\n",
       "      <td>Historical,Cultural,Japan,Fiction,Classics,Adv...</td>\n",
       "      <td>206</td>\n",
       "    </tr>\n",
       "    <tr>\n",
       "      <th>3</th>\n",
       "      <td>870</td>\n",
       "      <td>Harry Potter is due to start his fifth year at...</td>\n",
       "      <td>https://www.goodreads.com/book/photo/2.Harry_P...</td>\n",
       "      <td>J.K. Rowling</td>\n",
       "      <td>I finished this book with tears in my eyes and...</td>\n",
       "      <td>Fantasy</td>\n",
       "      <td>4.46</td>\n",
       "      <td>27414</td>\n",
       "      <td>1792966</td>\n",
       "      <td>2004</td>\n",
       "      <td>Harry Potter and the Order of the Phoenix</td>\n",
       "      <td>2,261,901</td>\n",
       "      <td>Fantasy,Childrens,Audiobook</td>\n",
       "      <td>2</td>\n",
       "    </tr>\n",
       "    <tr>\n",
       "      <th>4</th>\n",
       "      <td>326</td>\n",
       "      <td>Nine-year-old Oskar Schell is an inventor, ama...</td>\n",
       "      <td>https://www.goodreads.com/book/photo/4588.Extr...</td>\n",
       "      <td>Jonathan Safran Foer</td>\n",
       "      <td>well, i'm naturally drawn to those people who ...</td>\n",
       "      <td>Fiction</td>\n",
       "      <td>3.97</td>\n",
       "      <td>20855</td>\n",
       "      <td>311495</td>\n",
       "      <td>2006</td>\n",
       "      <td>Extremely Loud and Incredibly Close</td>\n",
       "      <td>61,819</td>\n",
       "      <td>Fiction,Contemporary,Historical</td>\n",
       "      <td>205</td>\n",
       "    </tr>\n",
       "  </tbody>\n",
       "</table>\n",
       "</div>"
      ],
      "text/plain": [
       "   NumberOfPages                                        Description  \\\n",
       "0            374  The nation of Panem, formed from a post-apocal...   \n",
       "1            974                        See alternate cover edition   \n",
       "2           1152  A bold English adventurer. An invincible Japan...   \n",
       "3            870  Harry Potter is due to start his fifth year at...   \n",
       "4            326  Nine-year-old Oskar Schell is an inventor, ama...   \n",
       "\n",
       "                                        BookCoverURL                Author  \\\n",
       "0  https://www.goodreads.com/book/photo/2767052-t...       Suzanne Collins   \n",
       "1  https://www.goodreads.com/book/photo/58696.Dav...       Charles Dickens   \n",
       "2  https://www.goodreads.com/book/photo/402093.Sh...         James Clavell   \n",
       "3  https://www.goodreads.com/book/photo/2.Harry_P...          J.K. Rowling   \n",
       "4  https://www.goodreads.com/book/photo/4588.Extr...  Jonathan Safran Foer   \n",
       "\n",
       "                                             Reviews    MainGenre  Score  \\\n",
       "0  I have got to stop poking fun at this series w...  Young Adult   4.35   \n",
       "1  DAVID COPPERFIELD: MASTER VILLAINoh you archit...     Classics   3.96   \n",
       "2  So sorry, I am not worthy of the honor of revi...   Historical   4.36   \n",
       "3  I finished this book with tears in my eyes and...      Fantasy   4.46   \n",
       "4  well, i'm naturally drawn to those people who ...      Fiction   3.97   \n",
       "\n",
       "   NumberOfReviews  NumberOfRating  Year  \\\n",
       "0           154127         4788705  2008   \n",
       "1             4477          160848  2004   \n",
       "2             2980          112868  2009   \n",
       "3            27414         1792966  2004   \n",
       "4            20855          311495  2006   \n",
       "\n",
       "                                       Title TotalScore  \\\n",
       "0                           The Hunger Games  2,717,540   \n",
       "1                          David Copperfield     63,116   \n",
       "2                                      Shgun     61,792   \n",
       "3  Harry Potter and the Order of the Phoenix  2,261,901   \n",
       "4        Extremely Loud and Incredibly Close     61,819   \n",
       "\n",
       "                                           AllGenres  Ranking  \n",
       "0  Young Adult,Fiction,Science Fiction,Dystopia,F...        1  \n",
       "1  Classics,Fiction,Literature,Historical,Literat...      201  \n",
       "2  Historical,Cultural,Japan,Fiction,Classics,Adv...      206  \n",
       "3                        Fantasy,Childrens,Audiobook        2  \n",
       "4                    Fiction,Contemporary,Historical      205  "
      ]
     },
     "execution_count": 3,
     "metadata": {},
     "output_type": "execute_result"
    }
   ],
   "source": [
    "bestreads.head()"
   ]
  },
  {
   "cell_type": "markdown",
   "metadata": {},
   "source": [
    "# Cleaning the data"
   ]
  },
  {
   "cell_type": "markdown",
   "metadata": {},
   "source": [
    "First, let's make sure all our observations are **unique**."
   ]
  },
  {
   "cell_type": "code",
   "execution_count": 4,
   "metadata": {
    "collapsed": true
   },
   "outputs": [],
   "source": [
    "bestreads.drop_duplicates(inplace = True)"
   ]
  },
  {
   "cell_type": "markdown",
   "metadata": {},
   "source": [
    "The columns 'Ranking', 'NumberOfPages', 'NumberOfReviews', 'NumberOfRatings' and 'Score' are already of numeric type.\n",
    "We need to **turn the column 'TotalScore' into a numeric type**."
   ]
  },
  {
   "cell_type": "code",
   "execution_count": 5,
   "metadata": {
    "collapsed": true
   },
   "outputs": [],
   "source": [
    "bestreads['TotalScore'] = bestreads['TotalScore'].str.replace(',', '')\n",
    "bestreads['TotalScore'] = bestreads['TotalScore'].apply(lambda x: int(x))"
   ]
  },
  {
   "cell_type": "markdown",
   "metadata": {},
   "source": [
    "In our analysis, we will differentiate the books by their ranking. We'll create categories such as 'Top 100', 'Top 100 - 200', etc.. In order to do that, we will **add a new column 'RankingCat'**."
   ]
  },
  {
   "cell_type": "code",
   "execution_count": 6,
   "metadata": {
    "collapsed": true
   },
   "outputs": [],
   "source": [
    "bestreads['Ranking'] = bestreads['Ranking'].apply(lambda x: int(x)) # convert to integer\n",
    "\n",
    "def rankingcat(row):\n",
    "\tif (row['Ranking'] >= 1) and (row['Ranking'] <=100):\n",
    "\t\treturn 'Top 100'\n",
    "\telif (row['Ranking'] > 100) and (row['Ranking'] <=200):\n",
    "\t\treturn 'Top 100 - 200'\n",
    "\telif (row['Ranking'] > 200) and (row['Ranking'] <=300):\n",
    "\t\treturn 'Top 200 - 300'\n",
    "\telif (row['Ranking'] > 300) and (row['Ranking'] <=400):\n",
    "\t\treturn 'Top 300 - 400'\n",
    "\telse:\n",
    "\t\treturn 'Top 400 - 500'\n",
    "\n",
    "bestreads['RankingCat'] = bestreads.apply(lambda x: rankingcat(x), axis = 1)"
   ]
  },
  {
   "cell_type": "markdown",
   "metadata": {},
   "source": [
    "## The 'Reviews' column"
   ]
  },
  {
   "cell_type": "markdown",
   "metadata": {},
   "source": [
    "The 'Reviews' column requires a little bit more cleaning. We will have to do some **stemming and lemmatization**. But first lets' remove any puntuation and replace multiple white spaces with one."
   ]
  },
  {
   "cell_type": "code",
   "execution_count": 7,
   "metadata": {
    "collapsed": true
   },
   "outputs": [],
   "source": [
    "bestreads['Reviews'] = [re.sub( '[.:\\',\\-;\"()?]', \" \", reviews).strip() for reviews in bestreads['Reviews']]\n",
    "bestreads['Reviews'] = [re.sub( '\\s+', \" \", reviews ).strip() for reviews in bestreads['Reviews']]\n",
    "bestreads['Reviews'] = [reviews.lower() for reviews in bestreads['Reviews']]"
   ]
  },
  {
   "cell_type": "markdown",
   "metadata": {},
   "source": [
    "We remove the words that don't matter from the Reviews column (e.g. I, and, the, this, etc.)"
   ]
  },
  {
   "cell_type": "code",
   "execution_count": 8,
   "metadata": {
    "collapsed": true
   },
   "outputs": [],
   "source": [
    "from nltk.corpus import stopwords\n",
    "from nltk.tag import pos_tag\n",
    "\n",
    "stop_words = set(stopwords.words(\"english\"))\n",
    "bestreads['Reviews'] = bestreads['Reviews'].apply(lambda x: ' '.join([word for word in x.split() if word not in stop_words]))"
   ]
  },
  {
   "cell_type": "markdown",
   "metadata": {},
   "source": [
    "We remove proper noun from the Reviews column and remove the commas."
   ]
  },
  {
   "cell_type": "code",
   "execution_count": 9,
   "metadata": {},
   "outputs": [],
   "source": [
    "# bestreads['Reviews'] = bestreads['Reviews'].apply(lambda x: [word for word,pos in pos_tag(x.split()) if pos != 'NNP'])"
   ]
  },
  {
   "cell_type": "code",
   "execution_count": 10,
   "metadata": {},
   "outputs": [],
   "source": [
    "# bestreads['Reviews'].head()"
   ]
  },
  {
   "cell_type": "markdown",
   "metadata": {},
   "source": [
    "We also remove any words with 1 or 2 letters."
   ]
  },
  {
   "cell_type": "code",
   "execution_count": 11,
   "metadata": {
    "collapsed": true
   },
   "outputs": [],
   "source": [
    "shortword = re.compile(r'\\W*\\b\\w{1,2}\\b')\n",
    "bestreads['Reviews'] = [shortword.sub('', word) for word in bestreads['Reviews']]"
   ]
  },
  {
   "cell_type": "markdown",
   "metadata": {},
   "source": [
    "# 1- A few things to consider before you write your next book..."
   ]
  },
  {
   "cell_type": "markdown",
   "metadata": {},
   "source": [
    "Let's do a quick Exploratory Data Analysis before moving on to the more serious graphs... Below are the 3 mains questions:\n",
    "\n",
    "+ What is the distribution of the top books by genre?\n",
    "\n"
   ]
  },
  {
   "cell_type": "markdown",
   "metadata": {},
   "source": [
    "### Distribution of Top 500 books by year of publication"
   ]
  },
  {
   "cell_type": "code",
   "execution_count": 12,
   "metadata": {},
   "outputs": [
    {
     "data": {
      "image/png": "[encoded data removed]",
      "text/plain": [
       "<matplotlib.figure.Figure at 0x1081d9d10>"
      ]
     },
     "metadata": {},
     "output_type": "display_data"
    }
   ],
   "source": [
    "import seaborn as sns\n",
    "sns.set_style(\"whitegrid\", {'axes.grid' : False})\n",
    "with sns.color_palette(\"Set2\", 5), sns.plotting_context(\"notebook\",font_scale=1.3):\n",
    "    year_df = (bestreads['Year'])\n",
    "    year_df.plot.hist(bins = max(bestreads['Year']) - min(bestreads['Year']), figsize=(14, 6))\n",
    "    plt.ylabel('')\n",
    "#     plt.title('Number of books in top 500 list by year of publication', fontsize=16)"
   ]
  },
  {
   "cell_type": "code",
   "execution_count": 13,
   "metadata": {},
   "outputs": [],
   "source": [
    "# genre_year_df = sns.FacetGrid(bestreads, col=\"MainGenre\", hue=\"MainGenre\", col_wrap=5)\n",
    "# genre_year_df.map(plt.hist, \"Year\")"
   ]
  },
  {
   "cell_type": "code",
   "execution_count": 14,
   "metadata": {},
   "outputs": [],
   "source": [
    "# # histogram with density plot\n",
    "# with sns.color_palette(\"Set2\", 5):\n",
    "#     sns.distplot(bestreads['Year'], \n",
    "#                  bins = max(bestreads['Year']) - min(bestreads['Year']))\n",
    "#     plt.title('Number of books in top 500 list by year of publication', fontsize=16)"
   ]
  },
  {
   "cell_type": "markdown",
   "metadata": {},
   "source": [
    "### Distribution of Top 500 books by genre"
   ]
  },
  {
   "cell_type": "markdown",
   "metadata": {},
   "source": [
    "A book may have multiple genres. Right now, the genres are all in one column (separated by a tab) so we will need to create a dataframe and have as many rows as there are genres for each book.\n",
    "\n",
    "We'll have to separate the genres first, then create a Python dictionary from the `dataframe` function and convert it back to a `dataframe`."
   ]
  },
  {
   "cell_type": "code",
   "execution_count": 35,
   "metadata": {
    "collapsed": true
   },
   "outputs": [],
   "source": [
    "df_genre = bestreads.copy()\n",
    "df_genre.AllGenres = df_genre.AllGenres.apply(lambda x: x.split(','))"
   ]
  },
  {
   "cell_type": "code",
   "execution_count": 36,
   "metadata": {
    "collapsed": true
   },
   "outputs": [],
   "source": [
    "df_genre.iloc[0].to_dict()\n",
    "df_genre = pd.concat([pd.DataFrame(df_genre.iloc[i].to_dict()) for i in range(len(df_genre))])"
   ]
  },
  {
   "cell_type": "code",
   "execution_count": 37,
   "metadata": {},
   "outputs": [
    {
     "data": {
      "text/html": [
       "<div>\n",
       "<table border=\"1\" class=\"dataframe\">\n",
       "  <thead>\n",
       "    <tr style=\"text-align: right;\">\n",
       "      <th></th>\n",
       "      <th>AllGenres</th>\n",
       "      <th>Author</th>\n",
       "      <th>BookCoverURL</th>\n",
       "      <th>Description</th>\n",
       "      <th>MainGenre</th>\n",
       "      <th>NumberOfPages</th>\n",
       "      <th>NumberOfRating</th>\n",
       "      <th>NumberOfReviews</th>\n",
       "      <th>Ranking</th>\n",
       "      <th>RankingCat</th>\n",
       "      <th>Reviews</th>\n",
       "      <th>Score</th>\n",
       "      <th>Title</th>\n",
       "      <th>TotalScore</th>\n",
       "      <th>Year</th>\n",
       "    </tr>\n",
       "  </thead>\n",
       "  <tbody>\n",
       "    <tr>\n",
       "      <th>0</th>\n",
       "      <td>Young Adult</td>\n",
       "      <td>Suzanne Collins</td>\n",
       "      <td>https://www.goodreads.com/book/photo/2767052-t...</td>\n",
       "      <td>The nation of Panem, formed from a post-apocal...</td>\n",
       "      <td>Young Adult</td>\n",
       "      <td>374</td>\n",
       "      <td>4788705</td>\n",
       "      <td>154127</td>\n",
       "      <td>1</td>\n",
       "      <td>Top 100</td>\n",
       "      <td>got stop poking fun series memes someone take ...</td>\n",
       "      <td>4.35</td>\n",
       "      <td>The Hunger Games</td>\n",
       "      <td>2717540</td>\n",
       "      <td>2008</td>\n",
       "    </tr>\n",
       "    <tr>\n",
       "      <th>1</th>\n",
       "      <td>Fiction</td>\n",
       "      <td>Suzanne Collins</td>\n",
       "      <td>https://www.goodreads.com/book/photo/2767052-t...</td>\n",
       "      <td>The nation of Panem, formed from a post-apocal...</td>\n",
       "      <td>Young Adult</td>\n",
       "      <td>374</td>\n",
       "      <td>4788705</td>\n",
       "      <td>154127</td>\n",
       "      <td>1</td>\n",
       "      <td>Top 100</td>\n",
       "      <td>got stop poking fun series memes someone take ...</td>\n",
       "      <td>4.35</td>\n",
       "      <td>The Hunger Games</td>\n",
       "      <td>2717540</td>\n",
       "      <td>2008</td>\n",
       "    </tr>\n",
       "    <tr>\n",
       "      <th>2</th>\n",
       "      <td>Science Fiction</td>\n",
       "      <td>Suzanne Collins</td>\n",
       "      <td>https://www.goodreads.com/book/photo/2767052-t...</td>\n",
       "      <td>The nation of Panem, formed from a post-apocal...</td>\n",
       "      <td>Young Adult</td>\n",
       "      <td>374</td>\n",
       "      <td>4788705</td>\n",
       "      <td>154127</td>\n",
       "      <td>1</td>\n",
       "      <td>Top 100</td>\n",
       "      <td>got stop poking fun series memes someone take ...</td>\n",
       "      <td>4.35</td>\n",
       "      <td>The Hunger Games</td>\n",
       "      <td>2717540</td>\n",
       "      <td>2008</td>\n",
       "    </tr>\n",
       "    <tr>\n",
       "      <th>3</th>\n",
       "      <td>Dystopia</td>\n",
       "      <td>Suzanne Collins</td>\n",
       "      <td>https://www.goodreads.com/book/photo/2767052-t...</td>\n",
       "      <td>The nation of Panem, formed from a post-apocal...</td>\n",
       "      <td>Young Adult</td>\n",
       "      <td>374</td>\n",
       "      <td>4788705</td>\n",
       "      <td>154127</td>\n",
       "      <td>1</td>\n",
       "      <td>Top 100</td>\n",
       "      <td>got stop poking fun series memes someone take ...</td>\n",
       "      <td>4.35</td>\n",
       "      <td>The Hunger Games</td>\n",
       "      <td>2717540</td>\n",
       "      <td>2008</td>\n",
       "    </tr>\n",
       "    <tr>\n",
       "      <th>4</th>\n",
       "      <td>Fantasy</td>\n",
       "      <td>Suzanne Collins</td>\n",
       "      <td>https://www.goodreads.com/book/photo/2767052-t...</td>\n",
       "      <td>The nation of Panem, formed from a post-apocal...</td>\n",
       "      <td>Young Adult</td>\n",
       "      <td>374</td>\n",
       "      <td>4788705</td>\n",
       "      <td>154127</td>\n",
       "      <td>1</td>\n",
       "      <td>Top 100</td>\n",
       "      <td>got stop poking fun series memes someone take ...</td>\n",
       "      <td>4.35</td>\n",
       "      <td>The Hunger Games</td>\n",
       "      <td>2717540</td>\n",
       "      <td>2008</td>\n",
       "    </tr>\n",
       "  </tbody>\n",
       "</table>\n",
       "</div>"
      ],
      "text/plain": [
       "         AllGenres           Author  \\\n",
       "0      Young Adult  Suzanne Collins   \n",
       "1          Fiction  Suzanne Collins   \n",
       "2  Science Fiction  Suzanne Collins   \n",
       "3         Dystopia  Suzanne Collins   \n",
       "4          Fantasy  Suzanne Collins   \n",
       "\n",
       "                                        BookCoverURL  \\\n",
       "0  https://www.goodreads.com/book/photo/2767052-t...   \n",
       "1  https://www.goodreads.com/book/photo/2767052-t...   \n",
       "2  https://www.goodreads.com/book/photo/2767052-t...   \n",
       "3  https://www.goodreads.com/book/photo/2767052-t...   \n",
       "4  https://www.goodreads.com/book/photo/2767052-t...   \n",
       "\n",
       "                                         Description    MainGenre  \\\n",
       "0  The nation of Panem, formed from a post-apocal...  Young Adult   \n",
       "1  The nation of Panem, formed from a post-apocal...  Young Adult   \n",
       "2  The nation of Panem, formed from a post-apocal...  Young Adult   \n",
       "3  The nation of Panem, formed from a post-apocal...  Young Adult   \n",
       "4  The nation of Panem, formed from a post-apocal...  Young Adult   \n",
       "\n",
       "   NumberOfPages  NumberOfRating  NumberOfReviews  Ranking RankingCat  \\\n",
       "0            374         4788705           154127        1    Top 100   \n",
       "1            374         4788705           154127        1    Top 100   \n",
       "2            374         4788705           154127        1    Top 100   \n",
       "3            374         4788705           154127        1    Top 100   \n",
       "4            374         4788705           154127        1    Top 100   \n",
       "\n",
       "                                             Reviews  Score             Title  \\\n",
       "0  got stop poking fun series memes someone take ...   4.35  The Hunger Games   \n",
       "1  got stop poking fun series memes someone take ...   4.35  The Hunger Games   \n",
       "2  got stop poking fun series memes someone take ...   4.35  The Hunger Games   \n",
       "3  got stop poking fun series memes someone take ...   4.35  The Hunger Games   \n",
       "4  got stop poking fun series memes someone take ...   4.35  The Hunger Games   \n",
       "\n",
       "   TotalScore  Year  \n",
       "0     2717540  2008  \n",
       "1     2717540  2008  \n",
       "2     2717540  2008  \n",
       "3     2717540  2008  \n",
       "4     2717540  2008  "
      ]
     },
     "execution_count": 37,
     "metadata": {},
     "output_type": "execute_result"
    }
   ],
   "source": [
    "df_genre.head()"
   ]
  },
  {
   "cell_type": "markdown",
   "metadata": {},
   "source": [
    "Before doing any plots involving genres, we'll check how many of them we have and select the ones that constitute 80% of the dataset."
   ]
  },
  {
   "cell_type": "code",
   "execution_count": 34,
   "metadata": {},
   "outputs": [
    {
     "data": {
      "text/plain": [
       "193"
      ]
     },
     "execution_count": 34,
     "metadata": {},
     "output_type": "execute_result"
    }
   ],
   "source": [
    "len(set(df_genre['AllGenres'])) #there are 193 genres. "
   ]
  },
  {
   "cell_type": "code",
   "execution_count": 41,
   "metadata": {},
   "outputs": [
    {
     "name": "stderr",
     "output_type": "stream",
     "text": [
      "/usr/local/lib/python2.7/site-packages/ipykernel_launcher.py:7: SettingWithCopyWarning: \n",
      "A value is trying to be set on a copy of a slice from a DataFrame\n",
      "\n",
      "See the caveats in the documentation: http://pandas.pydata.org/pandas-docs/stable/indexing.html#indexing-view-versus-copy\n",
      "  import sys\n"
     ]
    },
    {
     "data": {
      "text/html": [
       "<div>\n",
       "<table border=\"1\" class=\"dataframe\">\n",
       "  <thead>\n",
       "    <tr style=\"text-align: right;\">\n",
       "      <th></th>\n",
       "      <th>Genre</th>\n",
       "      <th>Count</th>\n",
       "    </tr>\n",
       "  </thead>\n",
       "  <tbody>\n",
       "    <tr>\n",
       "      <th>39</th>\n",
       "      <td>Fiction</td>\n",
       "      <td>306</td>\n",
       "    </tr>\n",
       "    <tr>\n",
       "      <th>14</th>\n",
       "      <td>Classics</td>\n",
       "      <td>243</td>\n",
       "    </tr>\n",
       "    <tr>\n",
       "      <th>187</th>\n",
       "      <td>Fantasy</td>\n",
       "      <td>227</td>\n",
       "    </tr>\n",
       "    <tr>\n",
       "      <th>97</th>\n",
       "      <td>Young Adult</td>\n",
       "      <td>154</td>\n",
       "    </tr>\n",
       "    <tr>\n",
       "      <th>111</th>\n",
       "      <td>Literature</td>\n",
       "      <td>150</td>\n",
       "    </tr>\n",
       "    <tr>\n",
       "      <th>81</th>\n",
       "      <td>Historical</td>\n",
       "      <td>118</td>\n",
       "    </tr>\n",
       "    <tr>\n",
       "      <th>181</th>\n",
       "      <td>Childrens</td>\n",
       "      <td>96</td>\n",
       "    </tr>\n",
       "    <tr>\n",
       "      <th>58</th>\n",
       "      <td>Romance</td>\n",
       "      <td>95</td>\n",
       "    </tr>\n",
       "    <tr>\n",
       "      <th>20</th>\n",
       "      <td>Science Fiction</td>\n",
       "      <td>79</td>\n",
       "    </tr>\n",
       "    <tr>\n",
       "      <th>113</th>\n",
       "      <td>Other</td>\n",
       "      <td>66</td>\n",
       "    </tr>\n",
       "    <tr>\n",
       "      <th>129</th>\n",
       "      <td>Other</td>\n",
       "      <td>60</td>\n",
       "    </tr>\n",
       "    <tr>\n",
       "      <th>57</th>\n",
       "      <td>Other</td>\n",
       "      <td>52</td>\n",
       "    </tr>\n",
       "    <tr>\n",
       "      <th>70</th>\n",
       "      <td>Other</td>\n",
       "      <td>50</td>\n",
       "    </tr>\n",
       "    <tr>\n",
       "      <th>167</th>\n",
       "      <td>Other</td>\n",
       "      <td>46</td>\n",
       "    </tr>\n",
       "    <tr>\n",
       "      <th>44</th>\n",
       "      <td>Other</td>\n",
       "      <td>45</td>\n",
       "    </tr>\n",
       "  </tbody>\n",
       "</table>\n",
       "</div>"
      ],
      "text/plain": [
       "               Genre  Count\n",
       "39           Fiction    306\n",
       "14          Classics    243\n",
       "187          Fantasy    227\n",
       "97       Young Adult    154\n",
       "111       Literature    150\n",
       "81        Historical    118\n",
       "181        Childrens     96\n",
       "58           Romance     95\n",
       "20   Science Fiction     79\n",
       "113            Other     66\n",
       "129            Other     60\n",
       "57             Other     52\n",
       "70             Other     50\n",
       "167            Other     46\n",
       "44             Other     45"
      ]
     },
     "execution_count": 41,
     "metadata": {},
     "output_type": "execute_result"
    }
   ],
   "source": [
    "from collections import Counter\n",
    "counter = Counter(df_genre['AllGenres']) # create dictionary with list of each genre and # of books per genre\n",
    "counter_df = pd.DataFrame(counter.items(), columns = ['Genre', 'Count']) # turn dictionary into dataframe\n",
    "counter_df = counter_df.sort_values('Count', ascending = False)\n",
    "\n",
    "# replace name of Genre to \"Other\" when Genre has less than 75 books associated with it\n",
    "counter_df['Genre'][counter_df['Count']<75] = 'Other'\n",
    "    \n",
    "counter_df.head(15)"
   ]
  },
  {
   "cell_type": "code",
   "execution_count": 56,
   "metadata": {},
   "outputs": [],
   "source": [
    "# import plotly.plotly as py\n",
    "# import plotly.graph_objs as go\n",
    "\n",
    "# fig = {\n",
    "#     'data': [{'labels': ['Residential', 'Non-Residential', 'Utility'],\n",
    "#               'values': [19, 26, 55],\n",
    "#               'type': 'pie'}],\n",
    "#     'layout': {'title': 'Forcasted 2014 U.S. PV Installations by Market Segment'}\n",
    "#      }\n",
    "\n",
    "# py.iplot(fig)\n",
    "\n",
    "\n",
    "# df_pie = go.Pie(labels=counter_df['Genre'], values=counter_df['Count'])\n",
    "\n",
    "# py.iplot([df_pie])"
   ]
  },
  {
   "cell_type": "code",
   "execution_count": 96,
   "metadata": {},
   "outputs": [
    {
     "ename": "PlotlyRequestError",
     "evalue": "Hey there! You've hit one of our API request limits. \n\nTo get unlimited API calls(10,000/day), please upgrade to a paid plan. \n\nUPGRADE HERE: https://goo.gl/i7glmM \n\nThanks for using Plotly! Happy Plotting!",
     "output_type": "error",
     "traceback": [
      "\u001b[0;31m---------------------------------------------------------------------------\u001b[0m",
      "\u001b[0;31mPlotlyRequestError\u001b[0m                        Traceback (most recent call last)",
      "\u001b[0;32m<ipython-input-96-2a4c95ae348a>\u001b[0m in \u001b[0;36m<module>\u001b[0;34m()\u001b[0m\n\u001b[1;32m     37\u001b[0m \u001b[0;34m\u001b[0m\u001b[0m\n\u001b[1;32m     38\u001b[0m \u001b[0mfig\u001b[0m \u001b[0;34m=\u001b[0m \u001b[0mgo\u001b[0m\u001b[0;34m.\u001b[0m\u001b[0mFigure\u001b[0m\u001b[0;34m(\u001b[0m\u001b[0mdata\u001b[0m\u001b[0;34m=\u001b[0m\u001b[0mdata\u001b[0m\u001b[0;34m,\u001b[0m \u001b[0mlayout\u001b[0m\u001b[0;34m=\u001b[0m\u001b[0mlayout\u001b[0m\u001b[0;34m)\u001b[0m\u001b[0;34m\u001b[0m\u001b[0m\n\u001b[0;32m---> 39\u001b[0;31m \u001b[0mpy\u001b[0m\u001b[0;34m.\u001b[0m\u001b[0miplot\u001b[0m\u001b[0;34m(\u001b[0m\u001b[0mfig\u001b[0m\u001b[0;34m)\u001b[0m\u001b[0;34m\u001b[0m\u001b[0m\n\u001b[0m",
      "\u001b[0;32m/usr/local/lib/python2.7/site-packages/plotly/plotly/plotly.pyc\u001b[0m in \u001b[0;36miplot\u001b[0;34m(figure_or_data, **plot_options)\u001b[0m\n\u001b[1;32m    132\u001b[0m     \u001b[0;32mif\u001b[0m \u001b[0;34m'auto_open'\u001b[0m \u001b[0;32mnot\u001b[0m \u001b[0;32min\u001b[0m \u001b[0mplot_options\u001b[0m\u001b[0;34m:\u001b[0m\u001b[0;34m\u001b[0m\u001b[0m\n\u001b[1;32m    133\u001b[0m         \u001b[0mplot_options\u001b[0m\u001b[0;34m[\u001b[0m\u001b[0;34m'auto_open'\u001b[0m\u001b[0;34m]\u001b[0m \u001b[0;34m=\u001b[0m \u001b[0mFalse\u001b[0m\u001b[0;34m\u001b[0m\u001b[0m\n\u001b[0;32m--> 134\u001b[0;31m     \u001b[0murl\u001b[0m \u001b[0;34m=\u001b[0m \u001b[0mplot\u001b[0m\u001b[0;34m(\u001b[0m\u001b[0mfigure_or_data\u001b[0m\u001b[0;34m,\u001b[0m \u001b[0;34m**\u001b[0m\u001b[0mplot_options\u001b[0m\u001b[0;34m)\u001b[0m\u001b[0;34m\u001b[0m\u001b[0m\n\u001b[0m\u001b[1;32m    135\u001b[0m \u001b[0;34m\u001b[0m\u001b[0m\n\u001b[1;32m    136\u001b[0m     \u001b[0;32mif\u001b[0m \u001b[0misinstance\u001b[0m\u001b[0;34m(\u001b[0m\u001b[0mfigure_or_data\u001b[0m\u001b[0;34m,\u001b[0m \u001b[0mdict\u001b[0m\u001b[0;34m)\u001b[0m\u001b[0;34m:\u001b[0m\u001b[0;34m\u001b[0m\u001b[0m\n",
      "\u001b[0;32m/usr/local/lib/python2.7/site-packages/plotly/plotly/plotly.pyc\u001b[0m in \u001b[0;36mplot\u001b[0;34m(figure_or_data, validate, **plot_options)\u001b[0m\n\u001b[1;32m    225\u001b[0m     \u001b[0mdata\u001b[0m \u001b[0;34m=\u001b[0m \u001b[0mfig\u001b[0m\u001b[0;34m.\u001b[0m\u001b[0mget\u001b[0m\u001b[0;34m(\u001b[0m\u001b[0;34m'data'\u001b[0m\u001b[0;34m,\u001b[0m \u001b[0;34m[\u001b[0m\u001b[0;34m]\u001b[0m\u001b[0;34m)\u001b[0m\u001b[0;34m\u001b[0m\u001b[0m\n\u001b[1;32m    226\u001b[0m     \u001b[0mplot_options\u001b[0m\u001b[0;34m[\u001b[0m\u001b[0;34m'layout'\u001b[0m\u001b[0;34m]\u001b[0m \u001b[0;34m=\u001b[0m \u001b[0mfig\u001b[0m\u001b[0;34m.\u001b[0m\u001b[0mget\u001b[0m\u001b[0;34m(\u001b[0m\u001b[0;34m'layout'\u001b[0m\u001b[0;34m,\u001b[0m \u001b[0;34m{\u001b[0m\u001b[0;34m}\u001b[0m\u001b[0;34m)\u001b[0m\u001b[0;34m\u001b[0m\u001b[0m\n\u001b[0;32m--> 227\u001b[0;31m     \u001b[0mresponse\u001b[0m \u001b[0;34m=\u001b[0m \u001b[0mv1\u001b[0m\u001b[0;34m.\u001b[0m\u001b[0mclientresp\u001b[0m\u001b[0;34m(\u001b[0m\u001b[0mdata\u001b[0m\u001b[0;34m,\u001b[0m \u001b[0;34m**\u001b[0m\u001b[0mplot_options\u001b[0m\u001b[0;34m)\u001b[0m\u001b[0;34m\u001b[0m\u001b[0m\n\u001b[0m\u001b[1;32m    228\u001b[0m \u001b[0;34m\u001b[0m\u001b[0m\n\u001b[1;32m    229\u001b[0m     \u001b[0;31m# Check if the url needs a secret key\u001b[0m\u001b[0;34m\u001b[0m\u001b[0;34m\u001b[0m\u001b[0m\n",
      "\u001b[0;32m/usr/local/lib/python2.7/site-packages/plotly/api/v1/clientresp.pyc\u001b[0m in \u001b[0;36mclientresp\u001b[0;34m(data, **kwargs)\u001b[0m\n\u001b[1;32m     33\u001b[0m \u001b[0;34m\u001b[0m\u001b[0m\n\u001b[1;32m     34\u001b[0m     \u001b[0murl\u001b[0m \u001b[0;34m=\u001b[0m \u001b[0;34m'{plotly_domain}/clientresp'\u001b[0m\u001b[0;34m.\u001b[0m\u001b[0mformat\u001b[0m\u001b[0;34m(\u001b[0m\u001b[0;34m**\u001b[0m\u001b[0mcfg\u001b[0m\u001b[0;34m)\u001b[0m\u001b[0;34m\u001b[0m\u001b[0m\n\u001b[0;32m---> 35\u001b[0;31m     \u001b[0mresponse\u001b[0m \u001b[0;34m=\u001b[0m \u001b[0mrequest\u001b[0m\u001b[0;34m(\u001b[0m\u001b[0;34m'post'\u001b[0m\u001b[0;34m,\u001b[0m \u001b[0murl\u001b[0m\u001b[0;34m,\u001b[0m \u001b[0mdata\u001b[0m\u001b[0;34m=\u001b[0m\u001b[0mpayload\u001b[0m\u001b[0;34m)\u001b[0m\u001b[0;34m\u001b[0m\u001b[0m\n\u001b[0m\u001b[1;32m     36\u001b[0m \u001b[0;34m\u001b[0m\u001b[0m\n\u001b[1;32m     37\u001b[0m     \u001b[0;31m# Old functionality, just keeping it around.\u001b[0m\u001b[0;34m\u001b[0m\u001b[0;34m\u001b[0m\u001b[0m\n",
      "\u001b[0;32m/usr/local/lib/python2.7/site-packages/plotly/api/v1/utils.pyc\u001b[0m in \u001b[0;36mrequest\u001b[0;34m(method, url, **kwargs)\u001b[0m\n\u001b[1;32m     84\u001b[0m         \u001b[0mcontent\u001b[0m \u001b[0;34m=\u001b[0m \u001b[0mresponse\u001b[0m\u001b[0;34m.\u001b[0m\u001b[0mcontent\u001b[0m \u001b[0;32mif\u001b[0m \u001b[0mresponse\u001b[0m \u001b[0;32melse\u001b[0m \u001b[0;34m'No content'\u001b[0m\u001b[0;34m\u001b[0m\u001b[0m\n\u001b[1;32m     85\u001b[0m         \u001b[0;32mraise\u001b[0m \u001b[0mexceptions\u001b[0m\u001b[0;34m.\u001b[0m\u001b[0mPlotlyRequestError\u001b[0m\u001b[0;34m(\u001b[0m\u001b[0mmessage\u001b[0m\u001b[0;34m,\u001b[0m \u001b[0mstatus_code\u001b[0m\u001b[0;34m,\u001b[0m \u001b[0mcontent\u001b[0m\u001b[0;34m)\u001b[0m\u001b[0;34m\u001b[0m\u001b[0m\n\u001b[0;32m---> 86\u001b[0;31m     \u001b[0mvalidate_response\u001b[0m\u001b[0;34m(\u001b[0m\u001b[0mresponse\u001b[0m\u001b[0;34m)\u001b[0m\u001b[0;34m\u001b[0m\u001b[0m\n\u001b[0m\u001b[1;32m     87\u001b[0m     \u001b[0;32mreturn\u001b[0m \u001b[0mresponse\u001b[0m\u001b[0;34m\u001b[0m\u001b[0m\n",
      "\u001b[0;32m/usr/local/lib/python2.7/site-packages/plotly/api/v1/utils.pyc\u001b[0m in \u001b[0;36mvalidate_response\u001b[0;34m(response)\u001b[0m\n\u001b[1;32m     36\u001b[0m         \u001b[0mmessage\u001b[0m \u001b[0;34m=\u001b[0m \u001b[0mcontent\u001b[0m \u001b[0;32mif\u001b[0m \u001b[0mcontent\u001b[0m \u001b[0;32melse\u001b[0m \u001b[0;34m'No Content'\u001b[0m\u001b[0;34m\u001b[0m\u001b[0m\n\u001b[1;32m     37\u001b[0m \u001b[0;34m\u001b[0m\u001b[0m\n\u001b[0;32m---> 38\u001b[0;31m     \u001b[0;32mraise\u001b[0m \u001b[0mexceptions\u001b[0m\u001b[0;34m.\u001b[0m\u001b[0mPlotlyRequestError\u001b[0m\u001b[0;34m(\u001b[0m\u001b[0mmessage\u001b[0m\u001b[0;34m,\u001b[0m \u001b[0mstatus_code\u001b[0m\u001b[0;34m,\u001b[0m \u001b[0mcontent\u001b[0m\u001b[0;34m)\u001b[0m\u001b[0;34m\u001b[0m\u001b[0m\n\u001b[0m\u001b[1;32m     39\u001b[0m \u001b[0;34m\u001b[0m\u001b[0m\n\u001b[1;32m     40\u001b[0m \u001b[0;34m\u001b[0m\u001b[0m\n",
      "\u001b[0;31mPlotlyRequestError\u001b[0m: Hey there! You've hit one of our API request limits. \n\nTo get unlimited API calls(10,000/day), please upgrade to a paid plan. \n\nUPGRADE HERE: https://goo.gl/i7glmM \n\nThanks for using Plotly! Happy Plotting!"
     ]
    }
   ],
   "source": [
    "data = [\n",
    "    go.Area(\n",
    "    r=counter_df['Count'],\n",
    "    t=counter_df['Genre'],\n",
    "    name='Number of Books',\n",
    "    marker=dict(\n",
    "        color='rgb(102,166,30)'\n",
    "    ))\n",
    "        ] \n",
    "\n",
    "axis_template = dict(\n",
    "    showgrid= False,\n",
    "    zeroline=False,\n",
    "    nticks = 20,\n",
    "    showline = False,\n",
    "    showticklabels=False\n",
    "    )\n",
    "\n",
    "layout = go.Layout(\n",
    "    title='Distribution of Top 500 books by genre',\n",
    "    font=dict(\n",
    "        size=14,\n",
    "        color = '#000'\n",
    "    ),\n",
    "    showlegend = False,\n",
    "    legend=dict(\n",
    "        font=dict(\n",
    "            size=10\n",
    "        )\n",
    "    ),\n",
    "    angularaxis=dict(\n",
    "        tickcolor='#CCC',\n",
    "        showline=False,\n",
    "    ),\n",
    "    xaxis = axis_template,\n",
    "    orientation= 90\n",
    ")\n",
    "\n",
    "fig = go.Figure(data=data, layout=layout)\n",
    "py.iplot(fig)"
   ]
  },
  {
   "cell_type": "markdown",
   "metadata": {},
   "source": [
    "### Distribution of Top 500 books by number of pages"
   ]
  },
  {
   "cell_type": "code",
   "execution_count": 88,
   "metadata": {},
   "outputs": [
    {
     "data": {
      "image/png": "[encoded data removed]",
      "text/plain": [
       "<matplotlib.figure.Figure at 0x10a37f4d0>"
      ]
     },
     "metadata": {},
     "output_type": "display_data"
    }
   ],
   "source": [
    "with sns.color_palette(\"Set2\", 5), sns.plotting_context(\"notebook\",font_scale=1.7):\n",
    "    sns.lmplot(\"Score\", \"NumberOfPages\", bestreads, palette=\"Set2\", fit_reg=False, size=8, aspect = 1.7)\n",
    "    plt.ylabel('Number of Pages')\n",
    "    plt.xlabel('Score')"
   ]
  },
  {
   "cell_type": "code",
   "execution_count": 13,
   "metadata": {
    "collapsed": true
   },
   "outputs": [],
   "source": [
    "from bokeh.charts import Donut\n"
   ]
  },
  {
   "cell_type": "code",
   "execution_count": 30,
   "metadata": {},
   "outputs": [
    {
     "data": {
      "text/plain": [
       "RankingCat    388\n",
       "Reviews       388\n",
       "dtype: int64"
      ]
     },
     "execution_count": 30,
     "metadata": {},
     "output_type": "execute_result"
    }
   ],
   "source": [
    "from itertools import *\n",
    "from nltk.tokenize import wordpunct_tokenize \n",
    "from afinn import Afinn\n",
    "afinn = Afinn()\n",
    "\n",
    "filtered_df = bestreads[['RankingCat','Reviews']]\n",
    "filtered_df.count()"
   ]
  },
  {
   "cell_type": "code",
   "execution_count": 31,
   "metadata": {},
   "outputs": [],
   "source": [
    "stop_words = set(stopwords.words('english'))\n",
    "\n",
    "unigrams = []\n",
    "afinn_value = []\n",
    "ranking_category = []\n",
    "for ind, review in islice(filtered_df.iterrows(),388):\n",
    "    unigrams = ( [i.lower() for i in wordpunct_tokenize(review['Reviews']) if i.lower() not in stop_words])\n",
    "    afinn_value.append(np.mean(list(map(lambda x: afinn.score(str(x.encode('utf-8'))), unigrams))))\n",
    "    ranking_category.append(review['RankingCat'])"
   ]
  },
  {
   "cell_type": "code",
   "execution_count": 32,
   "metadata": {},
   "outputs": [
    {
     "data": {
      "text/plain": [
       "'Top 100'"
      ]
     },
     "execution_count": 32,
     "metadata": {},
     "output_type": "execute_result"
    }
   ],
   "source": [
    "score_boxplot = pd.DataFrame()\n",
    "score_boxplot['ranking_category'] = ranking_category\n",
    "score_boxplot['senti_value'] = afinn_value\n",
    "score_boxplot['ranking_category'].min()"
   ]
  },
  {
   "cell_type": "code",
   "execution_count": 36,
   "metadata": {},
   "outputs": [
    {
     "data": {
      "image/png": "[encoded data removed]",
      "text/plain": [
       "<matplotlib.figure.Figure at 0x10e06a050>"
      ]
     },
     "metadata": {},
     "output_type": "display_data"
    }
   ],
   "source": [
    "rcParams.update({'font.size': 15})\n",
    "plt.style.use('seaborn-white')\n",
    "ax = score_boxplot.boxplot(by=['ranking_category'], figsize=(10,6))\n",
    "ax.get_figure().suptitle(\"\")\n",
    "ax.set_title('Average sentiment score and rating. - Using AFINN')\n",
    "ax.set_xlabel('Score')\n",
    "ax.set_ylabel('Average sentiment score')\n",
    "ax.grid(False)"
   ]
  },
  {
   "cell_type": "code",
   "execution_count": null,
   "metadata": {
    "collapsed": true
   },
   "outputs": [],
   "source": []
  },
  {
   "cell_type": "code",
   "execution_count": null,
   "metadata": {
    "collapsed": true
   },
   "outputs": [],
   "source": []
  },
  {
   "cell_type": "code",
   "execution_count": null,
   "metadata": {
    "collapsed": true
   },
   "outputs": [],
   "source": [
    "# create a new plot\n",
    "p = figure(\n",
    "   tools=\"pan,box_zoom,reset,save\",\n",
    "   y_axis_type=\"log\", y_range=[0.001, 10**11], title=\"log axis example\",\n",
    "   x_axis_label='sections', y_axis_label='particles'\n",
    ")\n",
    "\n",
    "# add some renderers\n",
    "p.line(x, x, legend=\"y=x\")\n",
    "p.circle(x, x, legend=\"y=x\", fill_color=\"white\", size=8)\n",
    "p.line(x, y0, legend=\"y=x^2\", line_width=3)\n",
    "p.line(x, y1, legend=\"y=10^x\", line_color=\"red\")\n",
    "p.circle(x, y1, legend=\"y=10^x\", fill_color=\"red\", line_color=\"red\", size=6)\n",
    "p.line(x, y2, legend=\"y=10^x^2\", line_color=\"orange\", line_dash=\"4 4\")\n",
    "\n",
    "# show the results\n",
    "show(p)"
   ]
  }
 ],
 "metadata": {
  "kernelspec": {
   "display_name": "Python 2",
   "language": "python",
   "name": "python2"
  },
  "language_info": {
   "codemirror_mode": {
    "name": "ipython",
    "version": 2
   },
   "file_extension": ".py",
   "mimetype": "text/x-python",
   "name": "python",
   "nbconvert_exporter": "python",
   "pygments_lexer": "ipython2",
   "version": "2.7.13"
  }
 },
 "nbformat": 4,
 "nbformat_minor": 2
}
