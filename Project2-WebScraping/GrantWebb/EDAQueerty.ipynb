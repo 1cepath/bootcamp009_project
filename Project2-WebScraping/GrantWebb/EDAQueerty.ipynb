{
 "cells": [
  {
   "cell_type": "code",
   "execution_count": 1,
   "metadata": {
    "collapsed": true
   },
   "outputs": [],
   "source": [
    "# Standard imports \n",
    "import pandas as pd\n",
    "import glob\n",
    "import numpy as np \n",
    "import math \n",
    "from datetime import datetime\n",
    "from bokeh.plotting import figure, output_notebook, show"
   ]
  },
  {
   "cell_type": "code",
   "execution_count": 2,
   "metadata": {
    "collapsed": false
   },
   "outputs": [
    {
     "data": {
      "text/html": [
       "\n",
       "    <div class=\"bk-root\">\n",
       "        <a href=\"http://bokeh.pydata.org\" target=\"_blank\" class=\"bk-logo bk-logo-small bk-logo-notebook\"></a>\n",
       "        <span id=\"ada82837-86fc-4b07-ac38-1c8dd11e1335\">Loading BokehJS ...</span>\n",
       "    </div>"
      ]
     },
     "metadata": {},
     "output_type": "display_data"
    },
    {
     "data": {
      "application/javascript": [
       "\n",
       "(function(global) {\n",
       "  function now() {\n",
       "    return new Date();\n",
       "  }\n",
       "\n",
       "  var force = true;\n",
       "\n",
       "  if (typeof (window._bokeh_onload_callbacks) === \"undefined\" || force === true) {\n",
       "    window._bokeh_onload_callbacks = [];\n",
       "    window._bokeh_is_loading = undefined;\n",
       "  }\n",
       "\n",
       "\n",
       "  \n",
       "  if (typeof (window._bokeh_timeout) === \"undefined\" || force === true) {\n",
       "    window._bokeh_timeout = Date.now() + 5000;\n",
       "    window._bokeh_failed_load = false;\n",
       "  }\n",
       "\n",
       "  var NB_LOAD_WARNING = {'data': {'text/html':\n",
       "     \"<div style='background-color: #fdd'>\\n\"+\n",
       "     \"<p>\\n\"+\n",
       "     \"BokehJS does not appear to have successfully loaded. If loading BokehJS from CDN, this \\n\"+\n",
       "     \"may be due to a slow or bad network connection. Possible fixes:\\n\"+\n",
       "     \"</p>\\n\"+\n",
       "     \"<ul>\\n\"+\n",
       "     \"<li>re-rerun `output_notebook()` to attempt to load from CDN again, or</li>\\n\"+\n",
       "     \"<li>use INLINE resources instead, as so:</li>\\n\"+\n",
       "     \"</ul>\\n\"+\n",
       "     \"<code>\\n\"+\n",
       "     \"from bokeh.resources import INLINE\\n\"+\n",
       "     \"output_notebook(resources=INLINE)\\n\"+\n",
       "     \"</code>\\n\"+\n",
       "     \"</div>\"}};\n",
       "\n",
       "  function display_loaded() {\n",
       "    if (window.Bokeh !== undefined) {\n",
       "      var el = document.getElementById(\"ada82837-86fc-4b07-ac38-1c8dd11e1335\");\n",
       "      el.textContent = \"BokehJS \" + Bokeh.version + \" successfully loaded.\";\n",
       "    } else if (Date.now() < window._bokeh_timeout) {\n",
       "      setTimeout(display_loaded, 100)\n",
       "    }\n",
       "  }\n",
       "\n",
       "  function run_callbacks() {\n",
       "    window._bokeh_onload_callbacks.forEach(function(callback) { callback() });\n",
       "    delete window._bokeh_onload_callbacks\n",
       "    console.info(\"Bokeh: all callbacks have finished\");\n",
       "  }\n",
       "\n",
       "  function load_libs(js_urls, callback) {\n",
       "    window._bokeh_onload_callbacks.push(callback);\n",
       "    if (window._bokeh_is_loading > 0) {\n",
       "      console.log(\"Bokeh: BokehJS is being loaded, scheduling callback at\", now());\n",
       "      return null;\n",
       "    }\n",
       "    if (js_urls == null || js_urls.length === 0) {\n",
       "      run_callbacks();\n",
       "      return null;\n",
       "    }\n",
       "    console.log(\"Bokeh: BokehJS not loaded, scheduling load and callback at\", now());\n",
       "    window._bokeh_is_loading = js_urls.length;\n",
       "    for (var i = 0; i < js_urls.length; i++) {\n",
       "      var url = js_urls[i];\n",
       "      var s = document.createElement('script');\n",
       "      s.src = url;\n",
       "      s.async = false;\n",
       "      s.onreadystatechange = s.onload = function() {\n",
       "        window._bokeh_is_loading--;\n",
       "        if (window._bokeh_is_loading === 0) {\n",
       "          console.log(\"Bokeh: all BokehJS libraries loaded\");\n",
       "          run_callbacks()\n",
       "        }\n",
       "      };\n",
       "      s.onerror = function() {\n",
       "        console.warn(\"failed to load library \" + url);\n",
       "      };\n",
       "      console.log(\"Bokeh: injecting script tag for BokehJS library: \", url);\n",
       "      document.getElementsByTagName(\"head\")[0].appendChild(s);\n",
       "    }\n",
       "  };var element = document.getElementById(\"ada82837-86fc-4b07-ac38-1c8dd11e1335\");\n",
       "  if (element == null) {\n",
       "    console.log(\"Bokeh: ERROR: autoload.js configured with elementid 'ada82837-86fc-4b07-ac38-1c8dd11e1335' but no matching script tag was found. \")\n",
       "    return false;\n",
       "  }\n",
       "\n",
       "  var js_urls = [\"https://cdn.pydata.org/bokeh/release/bokeh-0.12.5.min.js\", \"https://cdn.pydata.org/bokeh/release/bokeh-widgets-0.12.5.min.js\"];\n",
       "\n",
       "  var inline_js = [\n",
       "    function(Bokeh) {\n",
       "      Bokeh.set_log_level(\"info\");\n",
       "    },\n",
       "    \n",
       "    function(Bokeh) {\n",
       "      \n",
       "    },\n",
       "    \n",
       "    function(Bokeh) {\n",
       "      \n",
       "      document.getElementById(\"ada82837-86fc-4b07-ac38-1c8dd11e1335\").textContent = \"BokehJS is loading...\";\n",
       "    },\n",
       "    function(Bokeh) {\n",
       "      console.log(\"Bokeh: injecting CSS: https://cdn.pydata.org/bokeh/release/bokeh-0.12.5.min.css\");\n",
       "      Bokeh.embed.inject_css(\"https://cdn.pydata.org/bokeh/release/bokeh-0.12.5.min.css\");\n",
       "      console.log(\"Bokeh: injecting CSS: https://cdn.pydata.org/bokeh/release/bokeh-widgets-0.12.5.min.css\");\n",
       "      Bokeh.embed.inject_css(\"https://cdn.pydata.org/bokeh/release/bokeh-widgets-0.12.5.min.css\");\n",
       "    }\n",
       "  ];\n",
       "\n",
       "  function run_inline_js() {\n",
       "    \n",
       "    if ((window.Bokeh !== undefined) || (force === true)) {\n",
       "      for (var i = 0; i < inline_js.length; i++) {\n",
       "        inline_js[i](window.Bokeh);\n",
       "      }if (force === true) {\n",
       "        display_loaded();\n",
       "      }} else if (Date.now() < window._bokeh_timeout) {\n",
       "      setTimeout(run_inline_js, 100);\n",
       "    } else if (!window._bokeh_failed_load) {\n",
       "      console.log(\"Bokeh: BokehJS failed to load within specified timeout.\");\n",
       "      window._bokeh_failed_load = true;\n",
       "    } else if (force !== true) {\n",
       "      var cell = $(document.getElementById(\"ada82837-86fc-4b07-ac38-1c8dd11e1335\")).parents('.cell').data().cell;\n",
       "      cell.output_area.append_execute_result(NB_LOAD_WARNING)\n",
       "    }\n",
       "\n",
       "  }\n",
       "\n",
       "  if (window._bokeh_is_loading === 0) {\n",
       "    console.log(\"Bokeh: BokehJS loaded, going straight to plotting\");\n",
       "    run_inline_js();\n",
       "  } else {\n",
       "    load_libs(js_urls, function() {\n",
       "      console.log(\"Bokeh: BokehJS plotting callback run at\", now());\n",
       "      run_inline_js();\n",
       "    });\n",
       "  }\n",
       "}(this));"
      ]
     },
     "metadata": {},
     "output_type": "display_data"
    }
   ],
   "source": [
    "output_notebook()"
   ]
  },
  {
   "cell_type": "code",
   "execution_count": 3,
   "metadata": {
    "collapsed": false
   },
   "outputs": [],
   "source": [
    "# Read in all the csv files from \n",
    "path =r'/Users/yogadude/Desktop/Main Folder/bc9_datascience/WebScrapingProject' # use your path\n",
    "allFiles = glob.glob(path + \"/*.csv\")\n",
    "frame = pd.DataFrame()\n",
    "list_ = []\n",
    "for file_ in allFiles:\n",
    "    df = pd.read_csv(file_,index_col=None, header=0)\n",
    "    list_.append(df)\n",
    "frame = pd.concat(list_)"
   ]
  },
  {
   "cell_type": "code",
   "execution_count": 4,
   "metadata": {
    "collapsed": false,
    "scrolled": true
   },
   "outputs": [
    {
     "data": {
      "text/html": [
       "<div>\n",
       "<table border=\"1\" class=\"dataframe\">\n",
       "  <thead>\n",
       "    <tr style=\"text-align: right;\">\n",
       "      <th></th>\n",
       "      <th>category</th>\n",
       "      <th>author</th>\n",
       "      <th>title</th>\n",
       "      <th>num_comments</th>\n",
       "      <th>tags</th>\n",
       "      <th>article_url</th>\n",
       "      <th>time</th>\n",
       "      <th>recs_urls</th>\n",
       "    </tr>\n",
       "  </thead>\n",
       "  <tbody>\n",
       "    <tr>\n",
       "      <th>0</th>\n",
       "      <td>life</td>\n",
       "      <td>Graham Gremore</td>\n",
       "      <td>Bigotry is winning? LGBTQ people are retreatin...</td>\n",
       "      <td>NaN</td>\n",
       "      <td>life|antigay|bigotry|closeted|discrimination|h...</td>\n",
       "      <td>https://www.queerty.com/bigotry-winning-lgbtq-...</td>\n",
       "      <td>2017-05-02T14:05:51+00:00</td>\n",
       "      <td>http://saveondentalimplant.com/?utm_source=tbo...</td>\n",
       "    </tr>\n",
       "    <tr>\n",
       "      <th>1</th>\n",
       "      <td>life</td>\n",
       "      <td>NaN</td>\n",
       "      <td>The National Equality March is right around th...</td>\n",
       "      <td>3.0</td>\n",
       "      <td>life|facebook|nicole-murray ramirez|pride|san ...</td>\n",
       "      <td>https://www.queerty.com/national-equality-marc...</td>\n",
       "      <td>2017-05-02T13:38:32+00:00</td>\n",
       "      <td>http://saveondentalimplant.com/?utm_source=tbo...</td>\n",
       "    </tr>\n",
       "    <tr>\n",
       "      <th>2</th>\n",
       "      <td>life</td>\n",
       "      <td>NaN</td>\n",
       "      <td>Will Young has sent out so many private pics, ...</td>\n",
       "      <td>5.0</td>\n",
       "      <td>life|the week in leaks|will young</td>\n",
       "      <td>https://www.queerty.com/will-young-sent-many-p...</td>\n",
       "      <td>2017-05-02T13:05:34+00:00</td>\n",
       "      <td>http://saveondentalimplant.com/?utm_source=tbo...</td>\n",
       "    </tr>\n",
       "    <tr>\n",
       "      <th>3</th>\n",
       "      <td>life</td>\n",
       "      <td>Derek de Koff</td>\n",
       "      <td>Study: Straight men are more attracted to thei...</td>\n",
       "      <td>13.0</td>\n",
       "      <td>life|alcohol|gay|gay sex|straight|study</td>\n",
       "      <td>https://www.queerty.com/study-straight-men-att...</td>\n",
       "      <td>2017-05-02T11:00:52+00:00</td>\n",
       "      <td>http://definition.org/waltons-family-happened/...</td>\n",
       "    </tr>\n",
       "    <tr>\n",
       "      <th>4</th>\n",
       "      <td>life</td>\n",
       "      <td>NaN</td>\n",
       "      <td>Heres how Matt Bomer came out to his family</td>\n",
       "      <td>3.0</td>\n",
       "      <td>life|coming out|matt bomer</td>\n",
       "      <td>https://www.queerty.com/heres-matt-bomer-came-...</td>\n",
       "      <td>2017-05-01T16:22:50+00:00</td>\n",
       "      <td>http://www.historyinorbit.com/russias-new-gene...</td>\n",
       "    </tr>\n",
       "  </tbody>\n",
       "</table>\n",
       "</div>"
      ],
      "text/plain": [
       "  category          author                                              title  \\\n",
       "0     life  Graham Gremore  Bigotry is winning? LGBTQ people are retreatin...   \n",
       "1     life             NaN  The National Equality March is right around th...   \n",
       "2     life             NaN  Will Young has sent out so many private pics, ...   \n",
       "3     life   Derek de Koff  Study: Straight men are more attracted to thei...   \n",
       "4     life             NaN        Heres how Matt Bomer came out to his family   \n",
       "\n",
       "   num_comments                                               tags  \\\n",
       "0           NaN  life|antigay|bigotry|closeted|discrimination|h...   \n",
       "1           3.0  life|facebook|nicole-murray ramirez|pride|san ...   \n",
       "2           5.0                  life|the week in leaks|will young   \n",
       "3          13.0            life|alcohol|gay|gay sex|straight|study   \n",
       "4           3.0                         life|coming out|matt bomer   \n",
       "\n",
       "                                         article_url  \\\n",
       "0  https://www.queerty.com/bigotry-winning-lgbtq-...   \n",
       "1  https://www.queerty.com/national-equality-marc...   \n",
       "2  https://www.queerty.com/will-young-sent-many-p...   \n",
       "3  https://www.queerty.com/study-straight-men-att...   \n",
       "4  https://www.queerty.com/heres-matt-bomer-came-...   \n",
       "\n",
       "                        time  \\\n",
       "0  2017-05-02T14:05:51+00:00   \n",
       "1  2017-05-02T13:38:32+00:00   \n",
       "2  2017-05-02T13:05:34+00:00   \n",
       "3  2017-05-02T11:00:52+00:00   \n",
       "4  2017-05-01T16:22:50+00:00   \n",
       "\n",
       "                                           recs_urls  \n",
       "0  http://saveondentalimplant.com/?utm_source=tbo...  \n",
       "1  http://saveondentalimplant.com/?utm_source=tbo...  \n",
       "2  http://saveondentalimplant.com/?utm_source=tbo...  \n",
       "3  http://definition.org/waltons-family-happened/...  \n",
       "4  http://www.historyinorbit.com/russias-new-gene...  "
      ]
     },
     "execution_count": 4,
     "metadata": {},
     "output_type": "execute_result"
    }
   ],
   "source": [
    "# Some standard EDA \n",
    "#look at the DF\n",
    "frame = frame.reindex()\n",
    "frame.head()"
   ]
  },
  {
   "cell_type": "code",
   "execution_count": 5,
   "metadata": {
    "collapsed": false
   },
   "outputs": [
    {
     "data": {
      "text/plain": [
       "Index([u'category', u'author', u'title', u'num_comments', u'tags',\n",
       "       u'article_url', u'time', u'recs_urls'],\n",
       "      dtype='object')"
      ]
     },
     "execution_count": 5,
     "metadata": {},
     "output_type": "execute_result"
    }
   ],
   "source": [
    "# the column names \n",
    "frame.columns"
   ]
  },
  {
   "cell_type": "code",
   "execution_count": 6,
   "metadata": {
    "collapsed": false
   },
   "outputs": [
    {
     "data": {
      "text/plain": [
       "category         object\n",
       "author           object\n",
       "title            object\n",
       "num_comments    float64\n",
       "tags             object\n",
       "article_url      object\n",
       "time             object\n",
       "recs_urls        object\n",
       "dtype: object"
      ]
     },
     "execution_count": 6,
     "metadata": {},
     "output_type": "execute_result"
    }
   ],
   "source": [
    "frame.dtypes #convert time to datetime object"
   ]
  },
  {
   "cell_type": "code",
   "execution_count": 7,
   "metadata": {
    "collapsed": false
   },
   "outputs": [
    {
     "name": "stdout",
     "output_type": "stream",
     "text": [
      "(8109, 8)\n",
      "(5110, 8)\n"
     ]
    }
   ],
   "source": [
    "# Dimensions of the Dataframe \n",
    "print frame.shape \n",
    "frame.dropna(axis=0, how =\"any\", inplace = True)\n",
    "print frame.shape"
   ]
  },
  {
   "cell_type": "code",
   "execution_count": 8,
   "metadata": {
    "collapsed": false
   },
   "outputs": [
    {
     "data": {
      "text/html": [
       "<div>\n",
       "<table border=\"1\" class=\"dataframe\">\n",
       "  <thead>\n",
       "    <tr style=\"text-align: right;\">\n",
       "      <th></th>\n",
       "      <th>num_comments</th>\n",
       "    </tr>\n",
       "  </thead>\n",
       "  <tbody>\n",
       "    <tr>\n",
       "      <th>count</th>\n",
       "      <td>5110.000000</td>\n",
       "    </tr>\n",
       "    <tr>\n",
       "      <th>mean</th>\n",
       "      <td>14.267319</td>\n",
       "    </tr>\n",
       "    <tr>\n",
       "      <th>std</th>\n",
       "      <td>21.587717</td>\n",
       "    </tr>\n",
       "    <tr>\n",
       "      <th>min</th>\n",
       "      <td>1.000000</td>\n",
       "    </tr>\n",
       "    <tr>\n",
       "      <th>25%</th>\n",
       "      <td>4.000000</td>\n",
       "    </tr>\n",
       "    <tr>\n",
       "      <th>50%</th>\n",
       "      <td>8.000000</td>\n",
       "    </tr>\n",
       "    <tr>\n",
       "      <th>75%</th>\n",
       "      <td>17.000000</td>\n",
       "    </tr>\n",
       "    <tr>\n",
       "      <th>max</th>\n",
       "      <td>357.000000</td>\n",
       "    </tr>\n",
       "  </tbody>\n",
       "</table>\n",
       "</div>"
      ],
      "text/plain": [
       "       num_comments\n",
       "count   5110.000000\n",
       "mean      14.267319\n",
       "std       21.587717\n",
       "min        1.000000\n",
       "25%        4.000000\n",
       "50%        8.000000\n",
       "75%       17.000000\n",
       "max      357.000000"
      ]
     },
     "execution_count": 8,
     "metadata": {},
     "output_type": "execute_result"
    }
   ],
   "source": [
    "frame.describe() # not much numerical data tho"
   ]
  },
  {
   "cell_type": "code",
   "execution_count": 9,
   "metadata": {
    "collapsed": false
   },
   "outputs": [
    {
     "data": {
      "text/plain": [
       "entertainment    3327\n",
       "politics         1415\n",
       "life              368\n",
       "Name: category, dtype: int64"
      ]
     },
     "execution_count": 9,
     "metadata": {},
     "output_type": "execute_result"
    }
   ],
   "source": [
    "frame[\"category\"].value_counts()"
   ]
  },
  {
   "cell_type": "code",
   "execution_count": 10,
   "metadata": {
    "collapsed": false
   },
   "outputs": [],
   "source": [
    "#Convert the Time to a datetime object\n",
    "frame['time'] = frame['time'].apply(lambda x: x.split('T')[0])"
   ]
  },
  {
   "cell_type": "code",
   "execution_count": 11,
   "metadata": {
    "collapsed": false
   },
   "outputs": [],
   "source": [
    "frame['time'] = pd.to_datetime(frame['time'])"
   ]
  },
  {
   "cell_type": "code",
   "execution_count": 12,
   "metadata": {
    "collapsed": false
   },
   "outputs": [
    {
     "data": {
      "text/plain": [
       "category                object\n",
       "author                  object\n",
       "title                   object\n",
       "num_comments           float64\n",
       "tags                    object\n",
       "article_url             object\n",
       "time            datetime64[ns]\n",
       "recs_urls               object\n",
       "dtype: object"
      ]
     },
     "execution_count": 12,
     "metadata": {},
     "output_type": "execute_result"
    }
   ],
   "source": [
    "frame.dtypes"
   ]
  },
  {
   "cell_type": "code",
   "execution_count": 13,
   "metadata": {
    "collapsed": true
   },
   "outputs": [],
   "source": [
    "# Make a copy of the original dataframe\n",
    "df_urls = frame.copy()\n",
    "# Split the column the column using '|'\n",
    "df_urls.recs_urls = df_urls.recs_urls.apply(lambda x: x.split('|'))"
   ]
  },
  {
   "cell_type": "code",
   "execution_count": 14,
   "metadata": {
    "collapsed": false
   },
   "outputs": [
    {
     "data": {
      "text/plain": [
       "3    [http://definition.org/waltons-family-happened...\n",
       "5    [http://definition.org/waltons-family-happened...\n",
       "6    [http://definition.org/waltons-family-happened...\n",
       "7    [http://www.lifedaily.com/story/someone-spotte...\n",
       "8    [http://www.historyinorbit.com/russias-new-gen...\n",
       "Name: recs_urls, dtype: object"
      ]
     },
     "execution_count": 14,
     "metadata": {},
     "output_type": "execute_result"
    }
   ],
   "source": [
    "df_urls.recs_urls.head() # How many urls are in the reccommended urls and make the length of the list a new feature"
   ]
  },
  {
   "cell_type": "code",
   "execution_count": 15,
   "metadata": {
    "collapsed": false
   },
   "outputs": [
    {
     "name": "stdout",
     "output_type": "stream",
     "text": [
      "3    36\n",
      "5    36\n",
      "6    36\n",
      "7    36\n",
      "8    36\n",
      "Name: recs_urls, dtype: int64\n",
      "2128    16\n",
      "2129    16\n",
      "2131    16\n",
      "2133    16\n",
      "2134    16\n",
      "Name: recs_urls, dtype: int64\n"
     ]
    }
   ],
   "source": [
    "print df_urls.recs_urls.apply(lambda x: len(x)).head()\n",
    "print df_urls.recs_urls.apply(lambda x: len(x)).tail()"
   ]
  },
  {
   "cell_type": "code",
   "execution_count": 16,
   "metadata": {
    "collapsed": false
   },
   "outputs": [],
   "source": [
    "df_urls = pd.concat([pd.DataFrame(df_urls.iloc[i].to_dict()) for i in range(len(df_urls))])"
   ]
  },
  {
   "cell_type": "code",
   "execution_count": 17,
   "metadata": {
    "collapsed": false
   },
   "outputs": [
    {
     "data": {
      "text/plain": [
       "(143080, 8)"
      ]
     },
     "execution_count": 17,
     "metadata": {},
     "output_type": "execute_result"
    }
   ],
   "source": [
    "df_urls.shape # it works "
   ]
  },
  {
   "cell_type": "code",
   "execution_count": 18,
   "metadata": {
    "collapsed": false
   },
   "outputs": [
    {
     "data": {
      "text/html": [
       "<div>\n",
       "<table border=\"1\" class=\"dataframe\">\n",
       "  <thead>\n",
       "    <tr style=\"text-align: right;\">\n",
       "      <th></th>\n",
       "      <th>article_url</th>\n",
       "      <th>author</th>\n",
       "      <th>category</th>\n",
       "      <th>num_comments</th>\n",
       "      <th>recs_urls</th>\n",
       "      <th>tags</th>\n",
       "      <th>time</th>\n",
       "      <th>title</th>\n",
       "    </tr>\n",
       "  </thead>\n",
       "  <tbody>\n",
       "    <tr>\n",
       "      <th>0</th>\n",
       "      <td>https://www.queerty.com/study-straight-men-att...</td>\n",
       "      <td>Derek de Koff</td>\n",
       "      <td>life</td>\n",
       "      <td>13.0</td>\n",
       "      <td>http://definition.org/waltons-family-happened/...</td>\n",
       "      <td>life|alcohol|gay|gay sex|straight|study</td>\n",
       "      <td>2017-05-02</td>\n",
       "      <td>Study: Straight men are more attracted to thei...</td>\n",
       "    </tr>\n",
       "    <tr>\n",
       "      <th>1</th>\n",
       "      <td>https://www.queerty.com/study-straight-men-att...</td>\n",
       "      <td>Derek de Koff</td>\n",
       "      <td>life</td>\n",
       "      <td>13.0</td>\n",
       "      <td>http://definition.org/waltons-family-happened/...</td>\n",
       "      <td>life|alcohol|gay|gay sex|straight|study</td>\n",
       "      <td>2017-05-02</td>\n",
       "      <td>Study: Straight men are more attracted to thei...</td>\n",
       "    </tr>\n",
       "    <tr>\n",
       "      <th>2</th>\n",
       "      <td>https://www.queerty.com/study-straight-men-att...</td>\n",
       "      <td>Derek de Koff</td>\n",
       "      <td>life</td>\n",
       "      <td>13.0</td>\n",
       "      <td>https://www.queerty.com/straight-guys-confess-...</td>\n",
       "      <td>life|alcohol|gay|gay sex|straight|study</td>\n",
       "      <td>2017-05-02</td>\n",
       "      <td>Study: Straight men are more attracted to thei...</td>\n",
       "    </tr>\n",
       "    <tr>\n",
       "      <th>3</th>\n",
       "      <td>https://www.queerty.com/study-straight-men-att...</td>\n",
       "      <td>Derek de Koff</td>\n",
       "      <td>life</td>\n",
       "      <td>13.0</td>\n",
       "      <td>https://www.queerty.com/straight-guys-confess-...</td>\n",
       "      <td>life|alcohol|gay|gay sex|straight|study</td>\n",
       "      <td>2017-05-02</td>\n",
       "      <td>Study: Straight men are more attracted to thei...</td>\n",
       "    </tr>\n",
       "    <tr>\n",
       "      <th>4</th>\n",
       "      <td>https://www.queerty.com/study-straight-men-att...</td>\n",
       "      <td>Derek de Koff</td>\n",
       "      <td>life</td>\n",
       "      <td>13.0</td>\n",
       "      <td>http://www.lifedaily.com/story/someone-spotted...</td>\n",
       "      <td>life|alcohol|gay|gay sex|straight|study</td>\n",
       "      <td>2017-05-02</td>\n",
       "      <td>Study: Straight men are more attracted to thei...</td>\n",
       "    </tr>\n",
       "  </tbody>\n",
       "</table>\n",
       "</div>"
      ],
      "text/plain": [
       "                                         article_url         author category  \\\n",
       "0  https://www.queerty.com/study-straight-men-att...  Derek de Koff     life   \n",
       "1  https://www.queerty.com/study-straight-men-att...  Derek de Koff     life   \n",
       "2  https://www.queerty.com/study-straight-men-att...  Derek de Koff     life   \n",
       "3  https://www.queerty.com/study-straight-men-att...  Derek de Koff     life   \n",
       "4  https://www.queerty.com/study-straight-men-att...  Derek de Koff     life   \n",
       "\n",
       "   num_comments                                          recs_urls  \\\n",
       "0          13.0  http://definition.org/waltons-family-happened/...   \n",
       "1          13.0  http://definition.org/waltons-family-happened/...   \n",
       "2          13.0  https://www.queerty.com/straight-guys-confess-...   \n",
       "3          13.0  https://www.queerty.com/straight-guys-confess-...   \n",
       "4          13.0  http://www.lifedaily.com/story/someone-spotted...   \n",
       "\n",
       "                                      tags       time  \\\n",
       "0  life|alcohol|gay|gay sex|straight|study 2017-05-02   \n",
       "1  life|alcohol|gay|gay sex|straight|study 2017-05-02   \n",
       "2  life|alcohol|gay|gay sex|straight|study 2017-05-02   \n",
       "3  life|alcohol|gay|gay sex|straight|study 2017-05-02   \n",
       "4  life|alcohol|gay|gay sex|straight|study 2017-05-02   \n",
       "\n",
       "                                               title  \n",
       "0  Study: Straight men are more attracted to thei...  \n",
       "1  Study: Straight men are more attracted to thei...  \n",
       "2  Study: Straight men are more attracted to thei...  \n",
       "3  Study: Straight men are more attracted to thei...  \n",
       "4  Study: Straight men are more attracted to thei...  "
      ]
     },
     "execution_count": 18,
     "metadata": {},
     "output_type": "execute_result"
    }
   ],
   "source": [
    "df_urls.head()\n",
    "# Create new columns of the attributes \n",
    "# Double the columns text_x and text_y \n",
    "# Split the tags columns of the merged dataframe to get a list of tags\n",
    "# convert to list to a set and find the intesection of these two sets. which gives the commonality "
   ]
  },
  {
   "cell_type": "code",
   "execution_count": 20,
   "metadata": {
    "collapsed": false
   },
   "outputs": [
    {
     "data": {
      "text/plain": [
       "(4504000, 15)"
      ]
     },
     "execution_count": 20,
     "metadata": {},
     "output_type": "execute_result"
    }
   ],
   "source": [
    "# Merge the dataframe with itself based on the article url left inner \n",
    "df_urls2 = df_urls.copy()\n",
    "df_merged = pd.merge(df_urls, df_urls2, on=\"article_url\") # default is inner join but is this correct\n",
    "#Shouldn't it be a merging on the recommended urls? We see from a few lines down in the code that the \n",
    "# intersection of all the sets are the same if merged on the original article url. Let's try it. \n",
    "#df_merged = pd.merge(df_urls, df_urls2, on=\"recs_urls\")\n",
    "df_merged.head()\n",
    "df_merged.shape"
   ]
  },
  {
   "cell_type": "code",
   "execution_count": 21,
   "metadata": {
    "collapsed": true
   },
   "outputs": [],
   "source": [
    "# Split the tags columns of the merged dataframe to get a list of tags\n",
    "df_merged.tags_x = df_merged.tags_x.apply(lambda x: x.split('|'))"
   ]
  },
  {
   "cell_type": "code",
   "execution_count": 22,
   "metadata": {
    "collapsed": true
   },
   "outputs": [],
   "source": [
    "df_merged.tags_y = df_merged.tags_y.apply(lambda x: x.split('|'))"
   ]
  },
  {
   "cell_type": "code",
   "execution_count": 23,
   "metadata": {
    "collapsed": false
   },
   "outputs": [],
   "source": [
    "#checking the tags are now a list and convert to sets\n",
    "df_merged['tags_x'] = df_merged['tags_x'].apply(set)"
   ]
  },
  {
   "cell_type": "code",
   "execution_count": 24,
   "metadata": {
    "collapsed": true
   },
   "outputs": [],
   "source": [
    "df_merged['tags_y'] = df_merged['tags_y'].apply(set)"
   ]
  },
  {
   "cell_type": "code",
   "execution_count": 27,
   "metadata": {
    "collapsed": false
   },
   "outputs": [
    {
     "data": {
      "text/html": [
       "<div>\n",
       "<table border=\"1\" class=\"dataframe\">\n",
       "  <thead>\n",
       "    <tr style=\"text-align: right;\">\n",
       "      <th></th>\n",
       "      <th>tags_x</th>\n",
       "      <th>tags_y</th>\n",
       "    </tr>\n",
       "  </thead>\n",
       "  <tbody>\n",
       "    <tr>\n",
       "      <th>4503995</th>\n",
       "      <td>{politics, art, uk}</td>\n",
       "      <td>{politics, art, uk}</td>\n",
       "    </tr>\n",
       "    <tr>\n",
       "      <th>4503996</th>\n",
       "      <td>{politics, art, uk}</td>\n",
       "      <td>{politics, art, uk}</td>\n",
       "    </tr>\n",
       "    <tr>\n",
       "      <th>4503997</th>\n",
       "      <td>{politics, art, uk}</td>\n",
       "      <td>{politics, art, uk}</td>\n",
       "    </tr>\n",
       "    <tr>\n",
       "      <th>4503998</th>\n",
       "      <td>{politics, art, uk}</td>\n",
       "      <td>{politics, art, uk}</td>\n",
       "    </tr>\n",
       "    <tr>\n",
       "      <th>4503999</th>\n",
       "      <td>{politics, art, uk}</td>\n",
       "      <td>{politics, art, uk}</td>\n",
       "    </tr>\n",
       "  </tbody>\n",
       "</table>\n",
       "</div>"
      ],
      "text/plain": [
       "                      tags_x               tags_y\n",
       "4503995  {politics, art, uk}  {politics, art, uk}\n",
       "4503996  {politics, art, uk}  {politics, art, uk}\n",
       "4503997  {politics, art, uk}  {politics, art, uk}\n",
       "4503998  {politics, art, uk}  {politics, art, uk}\n",
       "4503999  {politics, art, uk}  {politics, art, uk}"
      ]
     },
     "execution_count": 27,
     "metadata": {},
     "output_type": "execute_result"
    }
   ],
   "source": [
    "df_merged[['tags_x','tags_y']].tail()"
   ]
  },
  {
   "cell_type": "code",
   "execution_count": null,
   "metadata": {
    "collapsed": false
   },
   "outputs": [],
   "source": [
    "df_merged['intersect'] = df_merged.apply(lambda x: (x['tags_x'] & x['tags_y']), axis=1) # this takes a while"
   ]
  },
  {
   "cell_type": "code",
   "execution_count": null,
   "metadata": {
    "collapsed": false
   },
   "outputs": [],
   "source": [
    "# Is there any differences seen in the tags? \n",
    "len(df_merged['tags_x'] == df_merged['tags_y']) # No, the tags are the same"
   ]
  },
  {
   "cell_type": "code",
   "execution_count": null,
   "metadata": {
    "collapsed": true
   },
   "outputs": [],
   "source": [
    "%matplotlib inline\n",
    "from matplotlib import pyplot as plt\n",
    "import seaborn as sns"
   ]
  },
  {
   "cell_type": "code",
   "execution_count": null,
   "metadata": {
    "collapsed": false
   },
   "outputs": [],
   "source": [
    "# Does an author get more comments from readers than others? \n",
    "frame.groupby('author')['num_comments'].mean().sort_values(ascending=True).head(20).plot.barh()\n",
    "plt.xlabel('Averge Number of Comments')"
   ]
  },
  {
   "cell_type": "code",
   "execution_count": null,
   "metadata": {
    "collapsed": false
   },
   "outputs": [],
   "source": [
    "# Does an author get more comments from readers than others? \n",
    "frame.groupby(['category'])['num_comments'].mean().sort_values(ascending=True).plot.bar()\n",
    "plt.ylabel('Averge Number of Comments')"
   ]
  },
  {
   "cell_type": "code",
   "execution_count": null,
   "metadata": {
    "collapsed": false
   },
   "outputs": [],
   "source": [
    "# Is there any correlation with the title length and the number of comments? \n",
    "frame['title_length'] = frame['title'].str.split().str.len()\n",
    "sns.plt.scatter(frame['title_length'], frame['num_comments'],c='r')\n",
    "# frame.groupby(['category'])['num_comments'].mean().sort_values(ascending=True).plot.bar()\n",
    "plt.xlabel('Title Length')\n",
    "plt.ylabel('Number of Comments')"
   ]
  },
  {
   "cell_type": "code",
   "execution_count": null,
   "metadata": {
    "collapsed": true
   },
   "outputs": [],
   "source": [
    "# Not really\n",
    "\n",
    "def find_"
   ]
  }
 ],
 "metadata": {
  "anaconda-cloud": {},
  "kernelspec": {
   "display_name": "Python [default]",
   "language": "python",
   "name": "python2"
  },
  "language_info": {
   "codemirror_mode": {
    "name": "ipython",
    "version": 2
   },
   "file_extension": ".py",
   "mimetype": "text/x-python",
   "name": "python",
   "nbconvert_exporter": "python",
   "pygments_lexer": "ipython2",
   "version": "2.7.12"
  }
 },
 "nbformat": 4,
 "nbformat_minor": 1
}
