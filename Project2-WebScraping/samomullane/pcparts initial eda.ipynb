{
 "cells": [
  {
   "cell_type": "code",
   "execution_count": 1,
   "metadata": {
    "collapsed": true
   },
   "outputs": [],
   "source": [
    "import pandas as pd\n",
    "import re\n",
    "import numpy as np\n",
    "from matplotlib import pyplot as plt\n",
    "import seaborn as sns\n",
    "%matplotlib inline\n",
    "\n",
    "file_path = '~/Desktop/pcparts/datatables/'"
   ]
  },
  {
   "cell_type": "code",
   "execution_count": 2,
   "metadata": {
    "collapsed": true
   },
   "outputs": [],
   "source": [
    "#Function to convert from single size measurements to numbers:\n",
    "def size_to_num(df, column_str):\n",
    "    list_val=[]\n",
    "\n",
    "    for i in range(1, df.shape[0]+1):\n",
    "        if type(df[column_str][i])==int:\n",
    "            list_val.append(0)\n",
    "        else:\n",
    "            list_val.append(float(re.search('[0-9]{1,2}\\.[0-9]+', df[column_str][i]).group(0)))\n",
    "\n",
    "    return list_val"
   ]
  },
  {
   "cell_type": "code",
   "execution_count": 3,
   "metadata": {
    "collapsed": true
   },
   "outputs": [],
   "source": [
    "#Function to grab compatible COOLERS based on CPU socket\n",
    "def socket_filter(socket):\n",
    "    return [True if re.search(socket, x) else False for x in cooler['supported sockets']]"
   ]
  },
  {
   "cell_type": "code",
   "execution_count": 436,
   "metadata": {
    "collapsed": false
   },
   "outputs": [],
   "source": [
    "#Function to convert from cross-fire/sli words to numeric values\n",
    "def sli_cross_num(df, column_str):\n",
    "    list_val=[]\n",
    "    \n",
    "    for x in df[column_str]:\n",
    "        if x == 'No':\n",
    "            list_val.append(1)\n",
    "        elif x == 'Yes':\n",
    "            list_val.append(2)\n",
    "        else:\n",
    "            try:\n",
    "                re.search('(4-way)', x).group(1)\n",
    "                list_val.append(4)\n",
    "            except:\n",
    "                list_val.append(3)\n",
    "            \n",
    "    return list_val"
   ]
  },
  {
   "cell_type": "code",
   "execution_count": 5,
   "metadata": {
    "collapsed": false
   },
   "outputs": [],
   "source": [
    "#Function to convert range values into [min, max] or [0, only value] list\n",
    "def limit_finder(df, column_str, ret_type, exp_groups):\n",
    "    min_list = []\n",
    "    max_list = []\n",
    "    \n",
    "    for el in df[column_str]:\n",
    "        limit_search = re.search('([0-9]{1,3}[\\.]?[0-9])(\\s-\\s)?([0-9]{1,4}[\\.]?[0-9]?)?', el)\n",
    "        try:\n",
    "            if limit_search.group(exp_groups) == None:\n",
    "                min_list.append(ret_type(0))\n",
    "                max_list.append(ret_type(limit_search.group(1)))\n",
    "            else:\n",
    "                min_list.append(ret_type(limit_search.group(1)))\n",
    "                max_list.append(ret_type(limit_search.group(exp_groups)))\n",
    "        except:\n",
    "            min_list.append(ret_type(0))\n",
    "            max_list.append(ret_type(0))\n",
    "        \n",
    "    return [min_list, max_list]"
   ]
  },
  {
   "cell_type": "code",
   "execution_count": null,
   "metadata": {
    "collapsed": true
   },
   "outputs": [],
   "source": [
    "#Take in RAM speed, type and output compatible mobos:\n",
    "def mobo_ram_compatibility(mem_speed):\n",
    "    mem_type = int(re.search('^DDR([234])', mem_speed).group(1))\n",
    "    temp_bool_type = [mem_type == x for x in motherboard['DDR type']]\n",
    "    \n",
    "    mem_n = re.search('([0-9]{2,4})', mem_speed).group(1)\n",
    "    temp_bool_n = [(mem_n in x) for x in motherboard['memory type']]\n",
    "    return ([a and b for a, b in zip(temp_bool_type, temp_bool_n)])"
   ]
  },
  {
   "cell_type": "markdown",
   "metadata": {},
   "source": [
    "## Import all files and fill in NAs with 0s"
   ]
  },
  {
   "cell_type": "code",
   "execution_count": 6,
   "metadata": {
    "collapsed": false
   },
   "outputs": [
    {
     "data": {
      "text/html": [
       "<div>\n",
       "<table border=\"1\" class=\"dataframe\">\n",
       "  <thead>\n",
       "    <tr style=\"text-align: right;\">\n",
       "      <th></th>\n",
       "      <th>color</th>\n",
       "      <th>manufacturer</th>\n",
       "      <th>part #</th>\n",
       "      <th>type</th>\n",
       "      <th>model</th>\n",
       "      <th>motherboard compatibility</th>\n",
       "      <th>internal 2.5\"\" bays</th>\n",
       "      <th>internal 3.5\"\" bays</th>\n",
       "      <th>external 5.25\"\" bays</th>\n",
       "      <th>external 3.5\"\" bays</th>\n",
       "      <th>includes power supply</th>\n",
       "      <th>maximum video card length</th>\n",
       "      <th>prod_type</th>\n",
       "      <th>rating_val</th>\n",
       "      <th>rating_n</th>\n",
       "      <th>prod_name</th>\n",
       "      <th>prod_price</th>\n",
       "    </tr>\n",
       "  </thead>\n",
       "  <tbody>\n",
       "    <tr>\n",
       "      <th>1</th>\n",
       "      <td>Black/Red</td>\n",
       "      <td>NZXT</td>\n",
       "      <td>CA-S340W-BR1</td>\n",
       "      <td>ATX Mid Tower</td>\n",
       "      <td>S340 (Black/Red)</td>\n",
       "      <td>ATX-Micro ATX-Mini ITX</td>\n",
       "      <td>2.0</td>\n",
       "      <td>3.0</td>\n",
       "      <td>0.0</td>\n",
       "      <td>0.0</td>\n",
       "      <td>No</td>\n",
       "      <td>13.15\"\" (334mm) With Drive Cages</td>\n",
       "      <td>Case</td>\n",
       "      <td>4.7</td>\n",
       "      <td>56</td>\n",
       "      <td>NZXT S340 (Black/Red) ATX Mid Tower Case</td>\n",
       "      <td>64.98</td>\n",
       "    </tr>\n",
       "    <tr>\n",
       "      <th>2</th>\n",
       "      <td>Black</td>\n",
       "      <td>Azza</td>\n",
       "      <td>CSAZ-206S</td>\n",
       "      <td>ATX Mid Tower</td>\n",
       "      <td>SIRIUS</td>\n",
       "      <td>ATX-Micro ATX</td>\n",
       "      <td>0.0</td>\n",
       "      <td>3.0</td>\n",
       "      <td>3.0</td>\n",
       "      <td>0.0</td>\n",
       "      <td>No</td>\n",
       "      <td>0</td>\n",
       "      <td>Case</td>\n",
       "      <td>4.3</td>\n",
       "      <td>10</td>\n",
       "      <td>Azza SIRIUS ATX Mid Tower Case</td>\n",
       "      <td>19.98</td>\n",
       "    </tr>\n",
       "    <tr>\n",
       "      <th>3</th>\n",
       "      <td>Black/Blue</td>\n",
       "      <td>Deepcool</td>\n",
       "      <td>TESSERACT SW</td>\n",
       "      <td>ATX Mid Tower</td>\n",
       "      <td>0</td>\n",
       "      <td>ATX-Micro ATX-Mini ITX</td>\n",
       "      <td>0.0</td>\n",
       "      <td>4.0</td>\n",
       "      <td>2.0</td>\n",
       "      <td>0.0</td>\n",
       "      <td>No</td>\n",
       "      <td>12.20\"\"</td>\n",
       "      <td>Case</td>\n",
       "      <td>4.3</td>\n",
       "      <td>46</td>\n",
       "      <td>Deepcool TESSERACT SW ATX Mid Tower Case</td>\n",
       "      <td>39.98</td>\n",
       "    </tr>\n",
       "    <tr>\n",
       "      <th>4</th>\n",
       "      <td>White</td>\n",
       "      <td>NZXT</td>\n",
       "      <td>CA-S340W-W1</td>\n",
       "      <td>ATX Mid Tower</td>\n",
       "      <td>S340 (White)</td>\n",
       "      <td>ATX-Micro ATX-Mini ITX</td>\n",
       "      <td>2.0</td>\n",
       "      <td>3.0</td>\n",
       "      <td>0.0</td>\n",
       "      <td>0.0</td>\n",
       "      <td>No</td>\n",
       "      <td>13.15\"\" (334mm) With Drive Cages</td>\n",
       "      <td>Case</td>\n",
       "      <td>4.6</td>\n",
       "      <td>121</td>\n",
       "      <td>NZXT S340 (White) ATX Mid Tower Case</td>\n",
       "      <td>64.98</td>\n",
       "    </tr>\n",
       "    <tr>\n",
       "      <th>5</th>\n",
       "      <td>Black</td>\n",
       "      <td>Corsair</td>\n",
       "      <td>200R</td>\n",
       "      <td>ATX Mid Tower</td>\n",
       "      <td>0</td>\n",
       "      <td>ATX-Micro ATX-Mini ITX</td>\n",
       "      <td>4.0</td>\n",
       "      <td>4.0</td>\n",
       "      <td>3.0</td>\n",
       "      <td>0.0</td>\n",
       "      <td>No</td>\n",
       "      <td>11.81\"\" (300mm) With Drive Cages</td>\n",
       "      <td>Case</td>\n",
       "      <td>4.6</td>\n",
       "      <td>182</td>\n",
       "      <td>Corsair 200R ATX Mid Tower Case</td>\n",
       "      <td>54.98</td>\n",
       "    </tr>\n",
       "  </tbody>\n",
       "</table>\n",
       "</div>"
      ],
      "text/plain": [
       "        color manufacturer        part #           type             model  \\\n",
       "1   Black/Red         NZXT  CA-S340W-BR1  ATX Mid Tower  S340 (Black/Red)   \n",
       "2       Black         Azza     CSAZ-206S  ATX Mid Tower            SIRIUS   \n",
       "3  Black/Blue     Deepcool  TESSERACT SW  ATX Mid Tower                 0   \n",
       "4       White         NZXT   CA-S340W-W1  ATX Mid Tower      S340 (White)   \n",
       "5       Black      Corsair          200R  ATX Mid Tower                 0   \n",
       "\n",
       "  motherboard compatibility   internal 2.5\"\" bays   internal 3.5\"\" bays  \\\n",
       "1    ATX-Micro ATX-Mini ITX                   2.0                   3.0   \n",
       "2             ATX-Micro ATX                   0.0                   3.0   \n",
       "3    ATX-Micro ATX-Mini ITX                   0.0                   4.0   \n",
       "4    ATX-Micro ATX-Mini ITX                   2.0                   3.0   \n",
       "5    ATX-Micro ATX-Mini ITX                   4.0                   4.0   \n",
       "\n",
       "    external 5.25\"\" bays   external 3.5\"\" bays includes power supply  \\\n",
       "1                    0.0                   0.0                    No   \n",
       "2                    3.0                   0.0                    No   \n",
       "3                    2.0                   0.0                    No   \n",
       "4                    0.0                   0.0                    No   \n",
       "5                    3.0                   0.0                    No   \n",
       "\n",
       "           maximum video card length prod_type  rating_val  rating_n  \\\n",
       "1   13.15\"\" (334mm) With Drive Cages      Case         4.7        56   \n",
       "2                                  0      Case         4.3        10   \n",
       "3                            12.20\"\"      Case         4.3        46   \n",
       "4   13.15\"\" (334mm) With Drive Cages      Case         4.6       121   \n",
       "5   11.81\"\" (300mm) With Drive Cages      Case         4.6       182   \n",
       "\n",
       "                                  prod_name  prod_price  \n",
       "1  NZXT S340 (Black/Red) ATX Mid Tower Case       64.98  \n",
       "2            Azza SIRIUS ATX Mid Tower Case       19.98  \n",
       "3  Deepcool TESSERACT SW ATX Mid Tower Case       39.98  \n",
       "4      NZXT S340 (White) ATX Mid Tower Case       64.98  \n",
       "5           Corsair 200R ATX Mid Tower Case       54.98  "
      ]
     },
     "execution_count": 6,
     "metadata": {},
     "output_type": "execute_result"
    }
   ],
   "source": [
    "case = pd.read_csv('{}case_dt.csv'.format(file_path), sep=',', engine='python', index_col=0)\n",
    "case.fillna(value=0, inplace=True)\n",
    "case['prod_price'] = case['prod_price'][case['prod_price'] > 0]\n",
    "case.head()"
   ]
  },
  {
   "cell_type": "code",
   "execution_count": 7,
   "metadata": {
    "collapsed": false
   },
   "outputs": [
    {
     "data": {
      "text/html": [
       "<div>\n",
       "<table border=\"1\" class=\"dataframe\">\n",
       "  <thead>\n",
       "    <tr style=\"text-align: right;\">\n",
       "      <th></th>\n",
       "      <th>manufacturer</th>\n",
       "      <th>part #</th>\n",
       "      <th>model</th>\n",
       "      <th>data width</th>\n",
       "      <th>socket</th>\n",
       "      <th>operating frequency</th>\n",
       "      <th>max turbo frequency</th>\n",
       "      <th>cores</th>\n",
       "      <th>l1 cache</th>\n",
       "      <th>l2 cache</th>\n",
       "      <th>...</th>\n",
       "      <th>includes cpu cooler</th>\n",
       "      <th>hyper-threading</th>\n",
       "      <th>maximum supported memory</th>\n",
       "      <th>integrated graphics</th>\n",
       "      <th>prod_type</th>\n",
       "      <th>rating_val</th>\n",
       "      <th>rating_n</th>\n",
       "      <th>prod_name</th>\n",
       "      <th>prod_price</th>\n",
       "      <th>l2 cache-2</th>\n",
       "    </tr>\n",
       "  </thead>\n",
       "  <tbody>\n",
       "    <tr>\n",
       "      <th>1</th>\n",
       "      <td>Intel</td>\n",
       "      <td>BX80677I77700K</td>\n",
       "      <td>0</td>\n",
       "      <td>64-bit</td>\n",
       "      <td>LGA1151</td>\n",
       "      <td>4.2GHz</td>\n",
       "      <td>4.5GHz</td>\n",
       "      <td>4</td>\n",
       "      <td>4 x 32KB Instruction</td>\n",
       "      <td>4 x 256KB</td>\n",
       "      <td>...</td>\n",
       "      <td>No</td>\n",
       "      <td>Yes</td>\n",
       "      <td>64GB</td>\n",
       "      <td>Intel HD Graphics 630</td>\n",
       "      <td>CPU</td>\n",
       "      <td>4.8</td>\n",
       "      <td>80</td>\n",
       "      <td>Intel Core i7-7700K 4.2GHz Quad-Core Processor</td>\n",
       "      <td>338.33</td>\n",
       "      <td>4 x 32KB</td>\n",
       "    </tr>\n",
       "    <tr>\n",
       "      <th>2</th>\n",
       "      <td>Intel</td>\n",
       "      <td>BX80677I57600K</td>\n",
       "      <td>0</td>\n",
       "      <td>64-bit</td>\n",
       "      <td>LGA1151</td>\n",
       "      <td>3.8GHz</td>\n",
       "      <td>4.2GHz</td>\n",
       "      <td>4</td>\n",
       "      <td>4 x 32KB Instruction</td>\n",
       "      <td>4 x 256KB</td>\n",
       "      <td>...</td>\n",
       "      <td>No</td>\n",
       "      <td>No</td>\n",
       "      <td>64GB</td>\n",
       "      <td>Intel HD Graphics 630</td>\n",
       "      <td>CPU</td>\n",
       "      <td>4.9</td>\n",
       "      <td>42</td>\n",
       "      <td>Intel Core i5-7600K 3.8GHz Quad-Core Processor</td>\n",
       "      <td>228.88</td>\n",
       "      <td>4 x 32KB</td>\n",
       "    </tr>\n",
       "  </tbody>\n",
       "</table>\n",
       "<p>2 rows × 23 columns</p>\n",
       "</div>"
      ],
      "text/plain": [
       "  manufacturer          part # model data width   socket operating frequency  \\\n",
       "1        Intel  BX80677I77700K     0     64-bit  LGA1151              4.2GHz   \n",
       "2        Intel  BX80677I57600K     0     64-bit  LGA1151              3.8GHz   \n",
       "\n",
       "  max turbo frequency  cores              l1 cache   l2 cache     ...      \\\n",
       "1              4.5GHz      4  4 x 32KB Instruction  4 x 256KB     ...       \n",
       "2              4.2GHz      4  4 x 32KB Instruction  4 x 256KB     ...       \n",
       "\n",
       "  includes cpu cooler hyper-threading maximum supported memory  \\\n",
       "1                  No             Yes                     64GB   \n",
       "2                  No              No                     64GB   \n",
       "\n",
       "     integrated graphics prod_type rating_val rating_n  \\\n",
       "1  Intel HD Graphics 630       CPU        4.8       80   \n",
       "2  Intel HD Graphics 630       CPU        4.9       42   \n",
       "\n",
       "                                        prod_name  prod_price  l2 cache-2  \n",
       "1  Intel Core i7-7700K 4.2GHz Quad-Core Processor      338.33    4 x 32KB  \n",
       "2  Intel Core i5-7600K 3.8GHz Quad-Core Processor      228.88    4 x 32KB  \n",
       "\n",
       "[2 rows x 23 columns]"
      ]
     },
     "execution_count": 7,
     "metadata": {},
     "output_type": "execute_result"
    }
   ],
   "source": [
    "cpu = pd.read_csv('{}cpu_dt.csv'.format(file_path), sep=',', engine='python', index_col=0)\n",
    "cpu.fillna(value=0, inplace=True)\n",
    "cpu['prod_price'] = cpu['prod_price'][cpu['prod_price'] > 0]\n",
    "cpu.head(2)"
   ]
  },
  {
   "cell_type": "code",
   "execution_count": 8,
   "metadata": {
    "collapsed": false
   },
   "outputs": [
    {
     "data": {
      "text/html": [
       "<div>\n",
       "<table border=\"1\" class=\"dataframe\">\n",
       "  <thead>\n",
       "    <tr style=\"text-align: right;\">\n",
       "      <th></th>\n",
       "      <th>manufacturer</th>\n",
       "      <th>part #</th>\n",
       "      <th>model</th>\n",
       "      <th>height</th>\n",
       "      <th>prod_type</th>\n",
       "      <th>rating_val</th>\n",
       "      <th>rating_n</th>\n",
       "      <th>prod_name</th>\n",
       "      <th>prod_price</th>\n",
       "      <th>radiator size</th>\n",
       "      <th>noise level</th>\n",
       "      <th>supported sockets</th>\n",
       "      <th>fan rpm</th>\n",
       "      <th>liquid cooled</th>\n",
       "    </tr>\n",
       "  </thead>\n",
       "  <tbody>\n",
       "    <tr>\n",
       "      <th>1</th>\n",
       "      <td>Cooler Master</td>\n",
       "      <td>RR-212E-20PK-R2</td>\n",
       "      <td>Hyper 212 EVO</td>\n",
       "      <td>6.26\"\" (159mm)</td>\n",
       "      <td>CPU Cooler</td>\n",
       "      <td>4.6</td>\n",
       "      <td>1234</td>\n",
       "      <td>Cooler Master Hyper 212 EVO 82.9 CFM Sleeve Be...</td>\n",
       "      <td>24.87</td>\n",
       "      <td></td>\n",
       "      <td>9.0 - 36.0 dbA</td>\n",
       "      <td>AM2-AM2+-AM3-AM3+-AM4-FM1-FM2-FM2+-LGA1150-LG...</td>\n",
       "      <td>600 - 2000 RPM</td>\n",
       "      <td>No</td>\n",
       "    </tr>\n",
       "    <tr>\n",
       "      <th>2</th>\n",
       "      <td>Corsair</td>\n",
       "      <td>CW-9060025-WW</td>\n",
       "      <td>H100i v2</td>\n",
       "      <td>0</td>\n",
       "      <td>CPU Cooler</td>\n",
       "      <td>4.6</td>\n",
       "      <td>157</td>\n",
       "      <td>Corsair H100i v2 70.7 CFM Liquid CPU Cooler</td>\n",
       "      <td>119.88</td>\n",
       "      <td>240mm</td>\n",
       "      <td>37.7 dbA</td>\n",
       "      <td>AM2-AM2+-AM3-AM3+-AM4-FM1-FM2-FM2+-LGA1150-LG...</td>\n",
       "      <td>2435 RPM</td>\n",
       "      <td>Yes</td>\n",
       "    </tr>\n",
       "  </tbody>\n",
       "</table>\n",
       "</div>"
      ],
      "text/plain": [
       "    manufacturer           part #          model           height   prod_type  \\\n",
       "1  Cooler Master  RR-212E-20PK-R2  Hyper 212 EVO   6.26\"\" (159mm)  CPU Cooler   \n",
       "2        Corsair    CW-9060025-WW       H100i v2                0  CPU Cooler   \n",
       "\n",
       "   rating_val  rating_n                                          prod_name  \\\n",
       "1         4.6      1234  Cooler Master Hyper 212 EVO 82.9 CFM Sleeve Be...   \n",
       "2         4.6       157        Corsair H100i v2 70.7 CFM Liquid CPU Cooler   \n",
       "\n",
       "   prod_price radiator size      noise level  \\\n",
       "1       24.87                 9.0 - 36.0 dbA   \n",
       "2      119.88         240mm         37.7 dbA   \n",
       "\n",
       "                                   supported sockets          fan rpm  \\\n",
       "1   AM2-AM2+-AM3-AM3+-AM4-FM1-FM2-FM2+-LGA1150-LG...   600 - 2000 RPM   \n",
       "2   AM2-AM2+-AM3-AM3+-AM4-FM1-FM2-FM2+-LGA1150-LG...         2435 RPM   \n",
       "\n",
       "  liquid cooled  \n",
       "1            No  \n",
       "2           Yes  "
      ]
     },
     "execution_count": 8,
     "metadata": {},
     "output_type": "execute_result"
    }
   ],
   "source": [
    "cooler = pd.read_csv('{}cooler_dt.csv'.format(file_path), sep=',', engine='python', index_col=0)\n",
    "cooler.fillna(value=0, inplace=True)\n",
    "cooler['prod_price'] = cooler['prod_price'][cooler['prod_price'] > 0]\n",
    "cooler.head(2)"
   ]
  },
  {
   "cell_type": "code",
   "execution_count": 9,
   "metadata": {
    "collapsed": false
   },
   "outputs": [
    {
     "data": {
      "text/html": [
       "<div>\n",
       "<table border=\"1\" class=\"dataframe\">\n",
       "  <thead>\n",
       "    <tr style=\"text-align: right;\">\n",
       "      <th></th>\n",
       "      <th>manufacturer</th>\n",
       "      <th>part #</th>\n",
       "      <th>model</th>\n",
       "      <th>interface</th>\n",
       "      <th>chipset</th>\n",
       "      <th>sli support</th>\n",
       "      <th>memory size</th>\n",
       "      <th>memory type</th>\n",
       "      <th>crossfire support</th>\n",
       "      <th>core clock</th>\n",
       "      <th>...</th>\n",
       "      <th>mini-hdmi</th>\n",
       "      <th>displayport</th>\n",
       "      <th>length</th>\n",
       "      <th>tdp</th>\n",
       "      <th>supports g-sync</th>\n",
       "      <th>prod_type</th>\n",
       "      <th>rating_val</th>\n",
       "      <th>rating_n</th>\n",
       "      <th>prod_name</th>\n",
       "      <th>prod_price</th>\n",
       "    </tr>\n",
       "  </thead>\n",
       "  <tbody>\n",
       "    <tr>\n",
       "      <th>1</th>\n",
       "      <td>MSI</td>\n",
       "      <td>GEFORCE GTX 1060 GAMING X 6G</td>\n",
       "      <td>0</td>\n",
       "      <td>PCI-Express x16</td>\n",
       "      <td>GeForce GTX 1060 6GB</td>\n",
       "      <td>No</td>\n",
       "      <td>6GB</td>\n",
       "      <td>GDDR5</td>\n",
       "      <td>No</td>\n",
       "      <td>1.51GHz</td>\n",
       "      <td>...</td>\n",
       "      <td>0.0</td>\n",
       "      <td>3.0</td>\n",
       "      <td>10.91\"\" (277mm)</td>\n",
       "      <td>120 Watts</td>\n",
       "      <td>Yes</td>\n",
       "      <td>Video Card</td>\n",
       "      <td>4.8</td>\n",
       "      <td>30</td>\n",
       "      <td>MSI GeForce GTX 1060 6GB 6GB GAMING X Video Card</td>\n",
       "      <td>259.98</td>\n",
       "    </tr>\n",
       "    <tr>\n",
       "      <th>2</th>\n",
       "      <td>EVGA</td>\n",
       "      <td>04G-P4-6255-KR</td>\n",
       "      <td>0</td>\n",
       "      <td>PCI-Express x16</td>\n",
       "      <td>GeForce GTX 1050 Ti</td>\n",
       "      <td>No</td>\n",
       "      <td>4GB</td>\n",
       "      <td>GDDR5</td>\n",
       "      <td>No</td>\n",
       "      <td>1.37GHz</td>\n",
       "      <td>...</td>\n",
       "      <td>0.0</td>\n",
       "      <td>1.0</td>\n",
       "      <td>9.02\"\" (229mm)</td>\n",
       "      <td>75 Watts</td>\n",
       "      <td>Yes</td>\n",
       "      <td>Video Card</td>\n",
       "      <td>5.0</td>\n",
       "      <td>2</td>\n",
       "      <td>EVGA GeForce GTX 1050 Ti 4GB SSC GAMING ACX 3....</td>\n",
       "      <td>119.98</td>\n",
       "    </tr>\n",
       "    <tr>\n",
       "      <th>3</th>\n",
       "      <td>Asus</td>\n",
       "      <td>ROG STRIX-GTX1070-O8G-GAMING</td>\n",
       "      <td>0</td>\n",
       "      <td>PCI-Express x16</td>\n",
       "      <td>GeForce GTX 1070</td>\n",
       "      <td>Yes</td>\n",
       "      <td>8GB</td>\n",
       "      <td>GDDR5</td>\n",
       "      <td>No</td>\n",
       "      <td>1.63GHz</td>\n",
       "      <td>...</td>\n",
       "      <td>0.0</td>\n",
       "      <td>2.0</td>\n",
       "      <td>11.73\"\" (298mm)</td>\n",
       "      <td>150 Watts</td>\n",
       "      <td>Yes</td>\n",
       "      <td>Video Card</td>\n",
       "      <td>4.9</td>\n",
       "      <td>63</td>\n",
       "      <td>Asus GeForce GTX 1070 8GB Video Card</td>\n",
       "      <td>389.98</td>\n",
       "    </tr>\n",
       "    <tr>\n",
       "      <th>4</th>\n",
       "      <td>EVGA</td>\n",
       "      <td>06G-P4-6163-KR</td>\n",
       "      <td>0</td>\n",
       "      <td>PCI-Express x16</td>\n",
       "      <td>GeForce GTX 1060 6GB</td>\n",
       "      <td>No</td>\n",
       "      <td>6GB</td>\n",
       "      <td>GDDR5</td>\n",
       "      <td>No</td>\n",
       "      <td>1.61GHz</td>\n",
       "      <td>...</td>\n",
       "      <td>0.0</td>\n",
       "      <td>3.0</td>\n",
       "      <td>6.81\"\" (173mm)</td>\n",
       "      <td>120 Watts</td>\n",
       "      <td>Yes</td>\n",
       "      <td>Video Card</td>\n",
       "      <td>4.9</td>\n",
       "      <td>16</td>\n",
       "      <td>EVGA GeForce GTX 1060 6GB 6GB SC GAMING Video ...</td>\n",
       "      <td>209.98</td>\n",
       "    </tr>\n",
       "    <tr>\n",
       "      <th>5</th>\n",
       "      <td>EVGA</td>\n",
       "      <td>04G-P4-6253-KR</td>\n",
       "      <td>0</td>\n",
       "      <td>PCI-Express x16</td>\n",
       "      <td>GeForce GTX 1050 Ti</td>\n",
       "      <td>No</td>\n",
       "      <td>4GB</td>\n",
       "      <td>GDDR5</td>\n",
       "      <td>No</td>\n",
       "      <td>1.35GHz</td>\n",
       "      <td>...</td>\n",
       "      <td>0.0</td>\n",
       "      <td>1.0</td>\n",
       "      <td>5.71\"\" (145mm)</td>\n",
       "      <td>75 Watts</td>\n",
       "      <td>Yes</td>\n",
       "      <td>Video Card</td>\n",
       "      <td>4.9</td>\n",
       "      <td>7</td>\n",
       "      <td>EVGA GeForce GTX 1050 Ti 4GB SC GAMING ACX 2.0...</td>\n",
       "      <td>142.97</td>\n",
       "    </tr>\n",
       "  </tbody>\n",
       "</table>\n",
       "<p>5 rows × 24 columns</p>\n",
       "</div>"
      ],
      "text/plain": [
       "  manufacturer                        part # model        interface  \\\n",
       "1          MSI  GEFORCE GTX 1060 GAMING X 6G     0  PCI-Express x16   \n",
       "2         EVGA                04G-P4-6255-KR     0  PCI-Express x16   \n",
       "3         Asus  ROG STRIX-GTX1070-O8G-GAMING     0  PCI-Express x16   \n",
       "4         EVGA                06G-P4-6163-KR     0  PCI-Express x16   \n",
       "5         EVGA                04G-P4-6253-KR     0  PCI-Express x16   \n",
       "\n",
       "                chipset sli support memory size memory type crossfire support  \\\n",
       "1  GeForce GTX 1060 6GB          No         6GB       GDDR5                No   \n",
       "2   GeForce GTX 1050 Ti          No         4GB       GDDR5                No   \n",
       "3      GeForce GTX 1070         Yes         8GB       GDDR5                No   \n",
       "4  GeForce GTX 1060 6GB          No         6GB       GDDR5                No   \n",
       "5   GeForce GTX 1050 Ti          No         4GB       GDDR5                No   \n",
       "\n",
       "  core clock    ...     mini-hdmi  displayport            length        tdp  \\\n",
       "1    1.51GHz    ...           0.0          3.0   10.91\"\" (277mm)  120 Watts   \n",
       "2    1.37GHz    ...           0.0          1.0    9.02\"\" (229mm)   75 Watts   \n",
       "3    1.63GHz    ...           0.0          2.0   11.73\"\" (298mm)  150 Watts   \n",
       "4    1.61GHz    ...           0.0          3.0    6.81\"\" (173mm)  120 Watts   \n",
       "5    1.35GHz    ...           0.0          1.0    5.71\"\" (145mm)   75 Watts   \n",
       "\n",
       "   supports g-sync   prod_type rating_val rating_n  \\\n",
       "1              Yes  Video Card        4.8       30   \n",
       "2              Yes  Video Card        5.0        2   \n",
       "3              Yes  Video Card        4.9       63   \n",
       "4              Yes  Video Card        4.9       16   \n",
       "5              Yes  Video Card        4.9        7   \n",
       "\n",
       "                                           prod_name prod_price  \n",
       "1   MSI GeForce GTX 1060 6GB 6GB GAMING X Video Card     259.98  \n",
       "2  EVGA GeForce GTX 1050 Ti 4GB SSC GAMING ACX 3....     119.98  \n",
       "3               Asus GeForce GTX 1070 8GB Video Card     389.98  \n",
       "4  EVGA GeForce GTX 1060 6GB 6GB SC GAMING Video ...     209.98  \n",
       "5  EVGA GeForce GTX 1050 Ti 4GB SC GAMING ACX 2.0...     142.97  \n",
       "\n",
       "[5 rows x 24 columns]"
      ]
     },
     "execution_count": 9,
     "metadata": {},
     "output_type": "execute_result"
    }
   ],
   "source": [
    "gpu = pd.read_csv('{}gpu_dt.csv'.format(file_path), sep=',', engine='python', index_col=0)\n",
    "gpu.fillna(value=0, inplace=True)\n",
    "gpu['prod_price'] = gpu['prod_price'][gpu['prod_price'] > 0]\n",
    "gpu.head()"
   ]
  },
  {
   "cell_type": "code",
   "execution_count": 10,
   "metadata": {
    "collapsed": false
   },
   "outputs": [
    {
     "data": {
      "text/html": [
       "<div>\n",
       "<table border=\"1\" class=\"dataframe\">\n",
       "  <thead>\n",
       "    <tr style=\"text-align: right;\">\n",
       "      <th></th>\n",
       "      <th>color</th>\n",
       "      <th>manufacturer</th>\n",
       "      <th>part #</th>\n",
       "      <th>type</th>\n",
       "      <th>price/gb</th>\n",
       "      <th>speed</th>\n",
       "      <th>size</th>\n",
       "      <th>cas latency</th>\n",
       "      <th>voltage</th>\n",
       "      <th>heat spreader</th>\n",
       "      <th>ecc</th>\n",
       "      <th>registered</th>\n",
       "      <th>prod_type</th>\n",
       "      <th>rating_val</th>\n",
       "      <th>rating_n</th>\n",
       "      <th>prod_name</th>\n",
       "      <th>prod_price</th>\n",
       "    </tr>\n",
       "  </thead>\n",
       "  <tbody>\n",
       "    <tr>\n",
       "      <th>1</th>\n",
       "      <td>Green</td>\n",
       "      <td>Kingston</td>\n",
       "      <td>KVR1333D3N9/8G</td>\n",
       "      <td>240-pin DIMM</td>\n",
       "      <td>$6.62</td>\n",
       "      <td>DDR3-1333</td>\n",
       "      <td>8GB (1 x 8GB)</td>\n",
       "      <td>9</td>\n",
       "      <td>1.5V</td>\n",
       "      <td>No</td>\n",
       "      <td>No</td>\n",
       "      <td>No</td>\n",
       "      <td>Memory</td>\n",
       "      <td>4.5</td>\n",
       "      <td>4</td>\n",
       "      <td>Kingston 8GB (1 x 8GB) DDR3-1333 Memory</td>\n",
       "      <td>52.98</td>\n",
       "    </tr>\n",
       "    <tr>\n",
       "      <th>2</th>\n",
       "      <td>Black/Red</td>\n",
       "      <td>G.Skill</td>\n",
       "      <td>F3-2133C9D-16GTX</td>\n",
       "      <td>240-pin DIMM</td>\n",
       "      <td>$6.87</td>\n",
       "      <td>DDR3-2133</td>\n",
       "      <td>16GB (2 x 8GB)</td>\n",
       "      <td>9</td>\n",
       "      <td>1.6V</td>\n",
       "      <td>Yes</td>\n",
       "      <td>No</td>\n",
       "      <td>No</td>\n",
       "      <td>Memory</td>\n",
       "      <td>5.0</td>\n",
       "      <td>7</td>\n",
       "      <td>G.Skill Trident X 16GB (2 x 8GB) DDR3-2133 Memory</td>\n",
       "      <td>109.98</td>\n",
       "    </tr>\n",
       "    <tr>\n",
       "      <th>3</th>\n",
       "      <td>Black/Red</td>\n",
       "      <td>Corsair</td>\n",
       "      <td>CMY16GX3M2C1600C9R</td>\n",
       "      <td>240-pin DIMM</td>\n",
       "      <td>$7.50</td>\n",
       "      <td>DDR3-1600</td>\n",
       "      <td>16GB (2 x 8GB)</td>\n",
       "      <td>11</td>\n",
       "      <td>1.35V</td>\n",
       "      <td>Yes</td>\n",
       "      <td>No</td>\n",
       "      <td>No</td>\n",
       "      <td>Memory</td>\n",
       "      <td>5.0</td>\n",
       "      <td>1</td>\n",
       "      <td>Corsair Vengeance Pro 16GB (2 x 8GB) DDR3-1600...</td>\n",
       "      <td>119.98</td>\n",
       "    </tr>\n",
       "    <tr>\n",
       "      <th>4</th>\n",
       "      <td>Black/Gold</td>\n",
       "      <td>Team</td>\n",
       "      <td>TPD44GM2133HC1501</td>\n",
       "      <td>288-pin DIMM</td>\n",
       "      <td>$8.49</td>\n",
       "      <td>DDR4-2133</td>\n",
       "      <td>4GB (1 x 4GB)</td>\n",
       "      <td>15</td>\n",
       "      <td>1.2V</td>\n",
       "      <td>Yes</td>\n",
       "      <td>No</td>\n",
       "      <td>No</td>\n",
       "      <td>Memory</td>\n",
       "      <td>5.0</td>\n",
       "      <td>1</td>\n",
       "      <td>Team Elite Plus 4GB (1 x 4GB) DDR4-2133 Memory</td>\n",
       "      <td>33.97</td>\n",
       "    </tr>\n",
       "    <tr>\n",
       "      <th>5</th>\n",
       "      <td>Black/Silver</td>\n",
       "      <td>Corsair</td>\n",
       "      <td>CMD16GX4M4A2666C15</td>\n",
       "      <td>288-pin DIMM</td>\n",
       "      <td>$11.87</td>\n",
       "      <td>DDR4-2666</td>\n",
       "      <td>16GB (4 x 4GB)</td>\n",
       "      <td>15</td>\n",
       "      <td>1.2V</td>\n",
       "      <td>Yes</td>\n",
       "      <td>No</td>\n",
       "      <td>No</td>\n",
       "      <td>Memory</td>\n",
       "      <td>4.8</td>\n",
       "      <td>4</td>\n",
       "      <td>Corsair DOMINATOR Platinum 16GB (4 x 4GB) DDR4...</td>\n",
       "      <td>189.98</td>\n",
       "    </tr>\n",
       "  </tbody>\n",
       "</table>\n",
       "</div>"
      ],
      "text/plain": [
       "          color manufacturer              part #          type price/gb  \\\n",
       "1         Green     Kingston      KVR1333D3N9/8G  240-pin DIMM    $6.62   \n",
       "2     Black/Red      G.Skill    F3-2133C9D-16GTX  240-pin DIMM    $6.87   \n",
       "3     Black/Red      Corsair  CMY16GX3M2C1600C9R  240-pin DIMM    $7.50   \n",
       "4    Black/Gold         Team   TPD44GM2133HC1501  288-pin DIMM    $8.49   \n",
       "5  Black/Silver      Corsair  CMD16GX4M4A2666C15  288-pin DIMM   $11.87   \n",
       "\n",
       "       speed            size  cas latency voltage heat spreader ecc  \\\n",
       "1  DDR3-1333   8GB (1 x 8GB)            9    1.5V            No  No   \n",
       "2  DDR3-2133  16GB (2 x 8GB)            9    1.6V           Yes  No   \n",
       "3  DDR3-1600  16GB (2 x 8GB)           11   1.35V           Yes  No   \n",
       "4  DDR4-2133   4GB (1 x 4GB)           15    1.2V           Yes  No   \n",
       "5  DDR4-2666  16GB (4 x 4GB)           15    1.2V           Yes  No   \n",
       "\n",
       "  registered prod_type  rating_val  rating_n  \\\n",
       "1         No    Memory         4.5         4   \n",
       "2         No    Memory         5.0         7   \n",
       "3         No    Memory         5.0         1   \n",
       "4         No    Memory         5.0         1   \n",
       "5         No    Memory         4.8         4   \n",
       "\n",
       "                                           prod_name  prod_price  \n",
       "1            Kingston 8GB (1 x 8GB) DDR3-1333 Memory       52.98  \n",
       "2  G.Skill Trident X 16GB (2 x 8GB) DDR3-2133 Memory      109.98  \n",
       "3  Corsair Vengeance Pro 16GB (2 x 8GB) DDR3-1600...      119.98  \n",
       "4     Team Elite Plus 4GB (1 x 4GB) DDR4-2133 Memory       33.97  \n",
       "5  Corsair DOMINATOR Platinum 16GB (4 x 4GB) DDR4...      189.98  "
      ]
     },
     "execution_count": 10,
     "metadata": {},
     "output_type": "execute_result"
    }
   ],
   "source": [
    "memory = pd.read_csv('{}memory_dt.csv'.format(file_path), sep=',', engine='python', index_col=0)\n",
    "memory.fillna(value=0, inplace=True)\n",
    "memory['prod_price'] = memory['prod_price'][memory['prod_price'] > 0]\n",
    "memory.head()"
   ]
  },
  {
   "cell_type": "code",
   "execution_count": 11,
   "metadata": {
    "collapsed": false
   },
   "outputs": [
    {
     "name": "stderr",
     "output_type": "stream",
     "text": [
      "/Users/samo/anaconda/lib/python2.7/site-packages/ipykernel/__main__.py:4: SettingWithCopyWarning: \n",
      "A value is trying to be set on a copy of a slice from a DataFrame\n",
      "\n",
      "See the caveats in the documentation: http://pandas.pydata.org/pandas-docs/stable/indexing.html#indexing-view-versus-copy\n"
     ]
    },
    {
     "data": {
      "text/html": [
       "<div>\n",
       "<table border=\"1\" class=\"dataframe\">\n",
       "  <thead>\n",
       "    <tr style=\"text-align: right;\">\n",
       "      <th></th>\n",
       "      <th>manufacturer</th>\n",
       "      <th>part #</th>\n",
       "      <th>model</th>\n",
       "      <th>maximum supported memory</th>\n",
       "      <th>form factor</th>\n",
       "      <th>chipset</th>\n",
       "      <th>sli support</th>\n",
       "      <th>memory type</th>\n",
       "      <th>crossfire support</th>\n",
       "      <th>cpu socket</th>\n",
       "      <th>...</th>\n",
       "      <th>sata express</th>\n",
       "      <th>onboard ethernet</th>\n",
       "      <th>onboard usb 3.0 header(s)</th>\n",
       "      <th>u.2</th>\n",
       "      <th>onboard video</th>\n",
       "      <th>prod_type</th>\n",
       "      <th>rating_val</th>\n",
       "      <th>rating_n</th>\n",
       "      <th>prod_name</th>\n",
       "      <th>prod_price</th>\n",
       "    </tr>\n",
       "  </thead>\n",
       "  <tbody>\n",
       "    <tr>\n",
       "      <th>1</th>\n",
       "      <td>Asus</td>\n",
       "      <td>STRIX Z270-E GAMING</td>\n",
       "      <td>0</td>\n",
       "      <td>64GB</td>\n",
       "      <td>ATX</td>\n",
       "      <td>Intel Z270</td>\n",
       "      <td>Yes</td>\n",
       "      <td>DDR4-2133 / 2400 / 2666 / 2800 / 3000 / 3200 /...</td>\n",
       "      <td>Yes</td>\n",
       "      <td>LGA1151</td>\n",
       "      <td>...</td>\n",
       "      <td>0.0</td>\n",
       "      <td>1 x 10/100/1000 Mbps</td>\n",
       "      <td>Yes</td>\n",
       "      <td>0.0</td>\n",
       "      <td>Depends on CPU</td>\n",
       "      <td>Motherboard</td>\n",
       "      <td>4.8</td>\n",
       "      <td>16</td>\n",
       "      <td>Asus STRIX Z270-E GAMING ATX LGA1151 Motherboard</td>\n",
       "      <td>186.98</td>\n",
       "    </tr>\n",
       "    <tr>\n",
       "      <th>2</th>\n",
       "      <td>MSI</td>\n",
       "      <td>B350M GAMING PRO</td>\n",
       "      <td>0</td>\n",
       "      <td>32GB</td>\n",
       "      <td>Micro ATX</td>\n",
       "      <td>AMD B350</td>\n",
       "      <td>No</td>\n",
       "      <td>DDR4-1866 / 2133 / 2400 / 2666 / 2933 / 3200</td>\n",
       "      <td>No</td>\n",
       "      <td>AM4</td>\n",
       "      <td>...</td>\n",
       "      <td>0.0</td>\n",
       "      <td>1 x 10/100/1000 Mbps</td>\n",
       "      <td>Yes</td>\n",
       "      <td>0.0</td>\n",
       "      <td>Depends on CPU</td>\n",
       "      <td>Motherboard</td>\n",
       "      <td>4.0</td>\n",
       "      <td>1</td>\n",
       "      <td>MSI B350M GAMING PRO Micro ATX AM4 Motherboard</td>\n",
       "      <td>78.87</td>\n",
       "    </tr>\n",
       "    <tr>\n",
       "      <th>3</th>\n",
       "      <td>MSI</td>\n",
       "      <td>B150M BAZOOKA</td>\n",
       "      <td>0</td>\n",
       "      <td>64GB</td>\n",
       "      <td>Micro ATX</td>\n",
       "      <td>Intel B150</td>\n",
       "      <td>No</td>\n",
       "      <td>DDR4-2133</td>\n",
       "      <td>No</td>\n",
       "      <td>LGA1151</td>\n",
       "      <td>...</td>\n",
       "      <td>1.0</td>\n",
       "      <td>1 x 10/100/1000 Mbps</td>\n",
       "      <td>Yes</td>\n",
       "      <td>0.0</td>\n",
       "      <td>Depends on CPU</td>\n",
       "      <td>Motherboard</td>\n",
       "      <td>4.4</td>\n",
       "      <td>14</td>\n",
       "      <td>MSI B150M BAZOOKA Micro ATX LGA1151 Motherboard</td>\n",
       "      <td>41.97</td>\n",
       "    </tr>\n",
       "    <tr>\n",
       "      <th>4</th>\n",
       "      <td>MSI</td>\n",
       "      <td>Z170A GAMING M5</td>\n",
       "      <td>0</td>\n",
       "      <td>64GB</td>\n",
       "      <td>ATX</td>\n",
       "      <td>Intel Z170</td>\n",
       "      <td>Yes</td>\n",
       "      <td>DDR4-2133 / 2400 / 2800 / 3000 / 3200</td>\n",
       "      <td>Yes</td>\n",
       "      <td>LGA1151</td>\n",
       "      <td>...</td>\n",
       "      <td>2.0</td>\n",
       "      <td>1 x 10/100/1000 Mbps</td>\n",
       "      <td>Yes</td>\n",
       "      <td>0.0</td>\n",
       "      <td>Depends on CPU</td>\n",
       "      <td>Motherboard</td>\n",
       "      <td>4.7</td>\n",
       "      <td>49</td>\n",
       "      <td>MSI Z170A GAMING M5 ATX LGA1151 Motherboard</td>\n",
       "      <td>123.97</td>\n",
       "    </tr>\n",
       "    <tr>\n",
       "      <th>5</th>\n",
       "      <td>Gigabyte</td>\n",
       "      <td>GA-B250M-DS3H</td>\n",
       "      <td>0</td>\n",
       "      <td>64GB</td>\n",
       "      <td>Micro ATX</td>\n",
       "      <td>Intel B250</td>\n",
       "      <td>No</td>\n",
       "      <td>DDR4-2133 / 2400</td>\n",
       "      <td>No</td>\n",
       "      <td>LGA1151</td>\n",
       "      <td>...</td>\n",
       "      <td>0.0</td>\n",
       "      <td>1 x 10/100/1000 Mbps</td>\n",
       "      <td>Yes</td>\n",
       "      <td>0.0</td>\n",
       "      <td>Depends on CPU</td>\n",
       "      <td>Motherboard</td>\n",
       "      <td>4.0</td>\n",
       "      <td>5</td>\n",
       "      <td>Gigabyte GA-B250M-DS3H Micro ATX LGA1151 Mothe...</td>\n",
       "      <td>69.88</td>\n",
       "    </tr>\n",
       "  </tbody>\n",
       "</table>\n",
       "<p>5 rows × 23 columns</p>\n",
       "</div>"
      ],
      "text/plain": [
       "  manufacturer               part # model maximum supported memory  \\\n",
       "1         Asus  STRIX Z270-E GAMING     0                     64GB   \n",
       "2          MSI     B350M GAMING PRO     0                     32GB   \n",
       "3          MSI        B150M BAZOOKA     0                     64GB   \n",
       "4          MSI      Z170A GAMING M5     0                     64GB   \n",
       "5     Gigabyte        GA-B250M-DS3H     0                     64GB   \n",
       "\n",
       "  form factor     chipset sli support  \\\n",
       "1         ATX  Intel Z270         Yes   \n",
       "2   Micro ATX    AMD B350          No   \n",
       "3   Micro ATX  Intel B150          No   \n",
       "4         ATX  Intel Z170         Yes   \n",
       "5   Micro ATX  Intel B250          No   \n",
       "\n",
       "                                         memory type crossfire support  \\\n",
       "1  DDR4-2133 / 2400 / 2666 / 2800 / 3000 / 3200 /...               Yes   \n",
       "2       DDR4-1866 / 2133 / 2400 / 2666 / 2933 / 3200                No   \n",
       "3                                          DDR4-2133                No   \n",
       "4              DDR4-2133 / 2400 / 2800 / 3000 / 3200               Yes   \n",
       "5                                   DDR4-2133 / 2400                No   \n",
       "\n",
       "  cpu socket     ...     sata express      onboard ethernet  \\\n",
       "1    LGA1151     ...              0.0  1 x 10/100/1000 Mbps   \n",
       "2        AM4     ...              0.0  1 x 10/100/1000 Mbps   \n",
       "3    LGA1151     ...              1.0  1 x 10/100/1000 Mbps   \n",
       "4    LGA1151     ...              2.0  1 x 10/100/1000 Mbps   \n",
       "5    LGA1151     ...              0.0  1 x 10/100/1000 Mbps   \n",
       "\n",
       "   onboard usb 3.0 header(s)  u.2   onboard video    prod_type  rating_val  \\\n",
       "1                        Yes  0.0  Depends on CPU  Motherboard         4.8   \n",
       "2                        Yes  0.0  Depends on CPU  Motherboard         4.0   \n",
       "3                        Yes  0.0  Depends on CPU  Motherboard         4.4   \n",
       "4                        Yes  0.0  Depends on CPU  Motherboard         4.7   \n",
       "5                        Yes  0.0  Depends on CPU  Motherboard         4.0   \n",
       "\n",
       "  rating_n                                          prod_name  prod_price  \n",
       "1       16   Asus STRIX Z270-E GAMING ATX LGA1151 Motherboard      186.98  \n",
       "2        1     MSI B350M GAMING PRO Micro ATX AM4 Motherboard       78.87  \n",
       "3       14    MSI B150M BAZOOKA Micro ATX LGA1151 Motherboard       41.97  \n",
       "4       49        MSI Z170A GAMING M5 ATX LGA1151 Motherboard      123.97  \n",
       "5        5  Gigabyte GA-B250M-DS3H Micro ATX LGA1151 Mothe...       69.88  \n",
       "\n",
       "[5 rows x 23 columns]"
      ]
     },
     "execution_count": 11,
     "metadata": {},
     "output_type": "execute_result"
    }
   ],
   "source": [
    "motherboard = pd.read_csv('{}motherboard_dt.csv'.format(file_path), sep=',', engine='python', index_col=0)\n",
    "motherboard.fillna(value=0, inplace=True)\n",
    "motherboard['prod_price'] = motherboard['prod_price'][motherboard['prod_price'] > 0]\n",
    "motherboard['maximum supported memory'][motherboard['maximum supported memory'] == 0] = '1TB'\n",
    "motherboard = motherboard[~(motherboard['cpu socket'] == 0)]\n",
    "motherboard.head()"
   ]
  },
  {
   "cell_type": "code",
   "execution_count": 12,
   "metadata": {
    "collapsed": false
   },
   "outputs": [
    {
     "data": {
      "text/html": [
       "<div>\n",
       "<table border=\"1\" class=\"dataframe\">\n",
       "  <thead>\n",
       "    <tr style=\"text-align: right;\">\n",
       "      <th></th>\n",
       "      <th>manufacturer</th>\n",
       "      <th>part #</th>\n",
       "      <th>type</th>\n",
       "      <th>model</th>\n",
       "      <th>wattage</th>\n",
       "      <th>modular</th>\n",
       "      <th>efficiency</th>\n",
       "      <th>efficiency certification</th>\n",
       "      <th>output</th>\n",
       "      <th>pci-express 6+2-pin connectors</th>\n",
       "      <th>fans</th>\n",
       "      <th>prod_type</th>\n",
       "      <th>rating_val</th>\n",
       "      <th>rating_n</th>\n",
       "      <th>prod_name</th>\n",
       "      <th>prod_price</th>\n",
       "    </tr>\n",
       "  </thead>\n",
       "  <tbody>\n",
       "    <tr>\n",
       "      <th>1</th>\n",
       "      <td>EVGA</td>\n",
       "      <td>120-G1-0650-XR</td>\n",
       "      <td>ATX12V / EPS12V</td>\n",
       "      <td>SuperNOVA 650</td>\n",
       "      <td>650 Watts</td>\n",
       "      <td>Full</td>\n",
       "      <td>90% Typical</td>\n",
       "      <td>80+ Gold</td>\n",
       "      <td>+3.3V@25A-+5V@25A-+12V1@20A-+12V2@20A-+12V3@20...</td>\n",
       "      <td>4.0</td>\n",
       "      <td>1</td>\n",
       "      <td>Power Supply</td>\n",
       "      <td>4.7</td>\n",
       "      <td>194</td>\n",
       "      <td>EVGA SuperNOVA NEX 650W 80+ Gold Certified Ful...</td>\n",
       "      <td>74.88</td>\n",
       "    </tr>\n",
       "    <tr>\n",
       "      <th>2</th>\n",
       "      <td>EVGA</td>\n",
       "      <td>100-B1-0500-KR</td>\n",
       "      <td>ATX12V / EPS12V</td>\n",
       "      <td>500B</td>\n",
       "      <td>500 Watts</td>\n",
       "      <td>No</td>\n",
       "      <td>&lt; 85%</td>\n",
       "      <td>80+ Bronze</td>\n",
       "      <td>0</td>\n",
       "      <td>2.0</td>\n",
       "      <td>1</td>\n",
       "      <td>Power Supply</td>\n",
       "      <td>4.5</td>\n",
       "      <td>147</td>\n",
       "      <td>EVGA 500W 80+ Bronze Certified ATX Power Supply</td>\n",
       "      <td>36.87</td>\n",
       "    </tr>\n",
       "    <tr>\n",
       "      <th>3</th>\n",
       "      <td>Corsair</td>\n",
       "      <td>CP-9020101-NA</td>\n",
       "      <td>ATX</td>\n",
       "      <td>CX450M</td>\n",
       "      <td>450 Watts</td>\n",
       "      <td>Semi</td>\n",
       "      <td>0</td>\n",
       "      <td>80+ Bronze</td>\n",
       "      <td>0</td>\n",
       "      <td>2.0</td>\n",
       "      <td>1</td>\n",
       "      <td>Power Supply</td>\n",
       "      <td>4.5</td>\n",
       "      <td>27</td>\n",
       "      <td>Corsair CXM 450W 80+ Bronze Certified Semi-Mod...</td>\n",
       "      <td>32.97</td>\n",
       "    </tr>\n",
       "    <tr>\n",
       "      <th>4</th>\n",
       "      <td>EVGA</td>\n",
       "      <td>220-G2-0750-XR</td>\n",
       "      <td>ATX12V / EPS12V</td>\n",
       "      <td>SuperNOVA 750</td>\n",
       "      <td>750 Watts</td>\n",
       "      <td>Full</td>\n",
       "      <td>90% Typical</td>\n",
       "      <td>80+ Gold</td>\n",
       "      <td>+5V@24A +3.3V@24A +12V@62.4A&lt;br/&gt;-12V@0.5A +5V...</td>\n",
       "      <td>4.0</td>\n",
       "      <td>1</td>\n",
       "      <td>Power Supply</td>\n",
       "      <td>4.9</td>\n",
       "      <td>250</td>\n",
       "      <td>EVGA SuperNOVA G2 750W 80+ Gold Certified Full...</td>\n",
       "      <td>99.98</td>\n",
       "    </tr>\n",
       "    <tr>\n",
       "      <th>5</th>\n",
       "      <td>EVGA</td>\n",
       "      <td>220-G2-0850-XR</td>\n",
       "      <td>ATX</td>\n",
       "      <td>SuperNOVA 850</td>\n",
       "      <td>850 Watts</td>\n",
       "      <td>Full</td>\n",
       "      <td>90% Typical</td>\n",
       "      <td>80+ Gold</td>\n",
       "      <td>+5V@24A +3.3V@24A +12V@70.8A -12V@0.5A +5Vsb@2.5A</td>\n",
       "      <td>4.0</td>\n",
       "      <td>1</td>\n",
       "      <td>Power Supply</td>\n",
       "      <td>4.9</td>\n",
       "      <td>132</td>\n",
       "      <td>EVGA SuperNOVA G2 850W 80+ Gold Certified Full...</td>\n",
       "      <td>96.97</td>\n",
       "    </tr>\n",
       "  </tbody>\n",
       "</table>\n",
       "</div>"
      ],
      "text/plain": [
       "  manufacturer          part #             type          model    wattage  \\\n",
       "1         EVGA  120-G1-0650-XR  ATX12V / EPS12V  SuperNOVA 650  650 Watts   \n",
       "2         EVGA  100-B1-0500-KR  ATX12V / EPS12V           500B  500 Watts   \n",
       "3      Corsair   CP-9020101-NA              ATX         CX450M  450 Watts   \n",
       "4         EVGA  220-G2-0750-XR  ATX12V / EPS12V  SuperNOVA 750  750 Watts   \n",
       "5         EVGA  220-G2-0850-XR              ATX  SuperNOVA 850  850 Watts   \n",
       "\n",
       "  modular   efficiency efficiency certification  \\\n",
       "1    Full  90% Typical                 80+ Gold   \n",
       "2      No        < 85%               80+ Bronze   \n",
       "3    Semi            0               80+ Bronze   \n",
       "4    Full  90% Typical                 80+ Gold   \n",
       "5    Full  90% Typical                 80+ Gold   \n",
       "\n",
       "                                              output  \\\n",
       "1  +3.3V@25A-+5V@25A-+12V1@20A-+12V2@20A-+12V3@20...   \n",
       "2                                                  0   \n",
       "3                                                  0   \n",
       "4  +5V@24A +3.3V@24A +12V@62.4A<br/>-12V@0.5A +5V...   \n",
       "5  +5V@24A +3.3V@24A +12V@70.8A -12V@0.5A +5Vsb@2.5A   \n",
       "\n",
       "   pci-express 6+2-pin connectors  fans     prod_type  rating_val  rating_n  \\\n",
       "1                             4.0     1  Power Supply         4.7       194   \n",
       "2                             2.0     1  Power Supply         4.5       147   \n",
       "3                             2.0     1  Power Supply         4.5        27   \n",
       "4                             4.0     1  Power Supply         4.9       250   \n",
       "5                             4.0     1  Power Supply         4.9       132   \n",
       "\n",
       "                                           prod_name  prod_price  \n",
       "1  EVGA SuperNOVA NEX 650W 80+ Gold Certified Ful...       74.88  \n",
       "2    EVGA 500W 80+ Bronze Certified ATX Power Supply       36.87  \n",
       "3  Corsair CXM 450W 80+ Bronze Certified Semi-Mod...       32.97  \n",
       "4  EVGA SuperNOVA G2 750W 80+ Gold Certified Full...       99.98  \n",
       "5  EVGA SuperNOVA G2 850W 80+ Gold Certified Full...       96.97  "
      ]
     },
     "execution_count": 12,
     "metadata": {},
     "output_type": "execute_result"
    }
   ],
   "source": [
    "psu = pd.read_csv('{}psu_dt.csv'.format(file_path), sep=',', engine='python', index_col=0)\n",
    "psu.fillna(value=0, inplace=True)\n",
    "psu['prod_price'] = psu['prod_price'][psu['prod_price'] > 0]\n",
    "psu.head()"
   ]
  },
  {
   "cell_type": "code",
   "execution_count": 13,
   "metadata": {
    "collapsed": false
   },
   "outputs": [
    {
     "data": {
      "text/html": [
       "<div>\n",
       "<table border=\"1\" class=\"dataframe\">\n",
       "  <thead>\n",
       "    <tr style=\"text-align: right;\">\n",
       "      <th></th>\n",
       "      <th>manufacturer</th>\n",
       "      <th>part #</th>\n",
       "      <th>model</th>\n",
       "      <th>capacity</th>\n",
       "      <th>interface</th>\n",
       "      <th>form factor</th>\n",
       "      <th>price/gb</th>\n",
       "      <th>prod_type</th>\n",
       "      <th>rating_val</th>\n",
       "      <th>rating_n</th>\n",
       "      <th>prod_name</th>\n",
       "      <th>prod_price</th>\n",
       "      <th>cache</th>\n",
       "      <th>nand flash type</th>\n",
       "    </tr>\n",
       "  </thead>\n",
       "  <tbody>\n",
       "    <tr>\n",
       "      <th>1</th>\n",
       "      <td>ADATA</td>\n",
       "      <td>ASP550SS3-480GM-C</td>\n",
       "      <td>0</td>\n",
       "      <td>480GB</td>\n",
       "      <td>SATA 6 Gb/s</td>\n",
       "      <td>2.5\"\"</td>\n",
       "      <td>$0.28</td>\n",
       "      <td>Storage</td>\n",
       "      <td>4.7</td>\n",
       "      <td>3</td>\n",
       "      <td>ADATA Premier SP550 480GB 2.5\"\" Solid State Drive</td>\n",
       "      <td>134.48</td>\n",
       "      <td>0</td>\n",
       "      <td></td>\n",
       "    </tr>\n",
       "    <tr>\n",
       "      <th>2</th>\n",
       "      <td>Western Digital</td>\n",
       "      <td>WD7500AYYS</td>\n",
       "      <td>0</td>\n",
       "      <td>750GB</td>\n",
       "      <td>SATA 3 Gb/s</td>\n",
       "      <td>3.5\"\"</td>\n",
       "      <td>$0.06</td>\n",
       "      <td>Storage</td>\n",
       "      <td>5.0</td>\n",
       "      <td>2</td>\n",
       "      <td>Western Digital RE2 750GB 3.5\"\" 7200RPM Intern...</td>\n",
       "      <td>41.99</td>\n",
       "      <td>16MB</td>\n",
       "      <td></td>\n",
       "    </tr>\n",
       "    <tr>\n",
       "      <th>3</th>\n",
       "      <td>ADATA</td>\n",
       "      <td>ASU800SS-256GT-C</td>\n",
       "      <td>0</td>\n",
       "      <td>256GB</td>\n",
       "      <td>SATA 6 Gb/s</td>\n",
       "      <td>2.5\"\"</td>\n",
       "      <td>$0.35</td>\n",
       "      <td>Storage</td>\n",
       "      <td>4.6</td>\n",
       "      <td>9</td>\n",
       "      <td>ADATA Ultimate SU800 256GB 2.5\"\" Solid State D...</td>\n",
       "      <td>89.97</td>\n",
       "      <td>0</td>\n",
       "      <td></td>\n",
       "    </tr>\n",
       "    <tr>\n",
       "      <th>4</th>\n",
       "      <td>Corsair</td>\n",
       "      <td>CSSD-F240GBLEB</td>\n",
       "      <td>0</td>\n",
       "      <td>240GB</td>\n",
       "      <td>SATA 6 Gb/s</td>\n",
       "      <td>2.5\"\"</td>\n",
       "      <td>$0.37</td>\n",
       "      <td>Storage</td>\n",
       "      <td>4.7</td>\n",
       "      <td>14</td>\n",
       "      <td>Corsair Force LE 240GB 2.5\"\" Solid State Drive</td>\n",
       "      <td>89.98</td>\n",
       "      <td>0</td>\n",
       "      <td></td>\n",
       "    </tr>\n",
       "    <tr>\n",
       "      <th>5</th>\n",
       "      <td>Samsung</td>\n",
       "      <td>MZHPV256HDGL-00000</td>\n",
       "      <td>0</td>\n",
       "      <td>256GB</td>\n",
       "      <td>M.2 (M)</td>\n",
       "      <td>M.2-2280</td>\n",
       "      <td>$0.47</td>\n",
       "      <td>Storage</td>\n",
       "      <td>4.8</td>\n",
       "      <td>6</td>\n",
       "      <td>Samsung SM951 256GB M.2-2280 Solid State Drive</td>\n",
       "      <td>119.98</td>\n",
       "      <td>512MB</td>\n",
       "      <td></td>\n",
       "    </tr>\n",
       "  </tbody>\n",
       "</table>\n",
       "</div>"
      ],
      "text/plain": [
       "      manufacturer              part # model capacity    interface  \\\n",
       "1            ADATA   ASP550SS3-480GM-C     0    480GB  SATA 6 Gb/s   \n",
       "2  Western Digital          WD7500AYYS     0    750GB  SATA 3 Gb/s   \n",
       "3            ADATA    ASU800SS-256GT-C     0    256GB  SATA 6 Gb/s   \n",
       "4          Corsair      CSSD-F240GBLEB     0    240GB  SATA 6 Gb/s   \n",
       "5          Samsung  MZHPV256HDGL-00000     0    256GB      M.2 (M)   \n",
       "\n",
       "  form factor price/gb prod_type  rating_val  rating_n  \\\n",
       "1       2.5\"\"    $0.28   Storage         4.7         3   \n",
       "2       3.5\"\"    $0.06   Storage         5.0         2   \n",
       "3       2.5\"\"    $0.35   Storage         4.6         9   \n",
       "4       2.5\"\"    $0.37   Storage         4.7        14   \n",
       "5    M.2-2280    $0.47   Storage         4.8         6   \n",
       "\n",
       "                                           prod_name  prod_price  cache  \\\n",
       "1  ADATA Premier SP550 480GB 2.5\"\" Solid State Drive      134.48      0   \n",
       "2  Western Digital RE2 750GB 3.5\"\" 7200RPM Intern...       41.99   16MB   \n",
       "3  ADATA Ultimate SU800 256GB 2.5\"\" Solid State D...       89.97      0   \n",
       "4     Corsair Force LE 240GB 2.5\"\" Solid State Drive       89.98      0   \n",
       "5     Samsung SM951 256GB M.2-2280 Solid State Drive      119.98  512MB   \n",
       "\n",
       "  nand flash type  \n",
       "1                  \n",
       "2                  \n",
       "3                  \n",
       "4                  \n",
       "5                  "
      ]
     },
     "execution_count": 13,
     "metadata": {},
     "output_type": "execute_result"
    }
   ],
   "source": [
    "storage = pd.read_csv('{}storage_dt.csv'.format(file_path), sep=',', engine='python', index_col=0)\n",
    "storage.fillna(value=0, inplace=True)\n",
    "storage['prod_price'] = storage['prod_price'][storage['prod_price'] > 0]\n",
    "storage.head()"
   ]
  },
  {
   "cell_type": "markdown",
   "metadata": {
    "collapsed": true
   },
   "source": [
    "# Case datatable cleaning and organizing"
   ]
  },
  {
   "cell_type": "markdown",
   "metadata": {},
   "source": [
    "## 1. Case types with respect to ratings and price"
   ]
  },
  {
   "cell_type": "code",
   "execution_count": 14,
   "metadata": {
    "collapsed": false
   },
   "outputs": [
    {
     "data": {
      "text/plain": [
       "array(['ATX Mid Tower', 'MicroATX Mini Tower', 'ATX Full Tower',\n",
       "       'MicroATX Mid Tower', 'Mini ITX Tower', 'Mini ITX Desktop', 'HTPC',\n",
       "       'ATX Desktop', 'ATX Mini Tower'], dtype=object)"
      ]
     },
     "execution_count": 14,
     "metadata": {},
     "output_type": "execute_result"
    }
   ],
   "source": [
    "case['type'].unique()"
   ]
  },
  {
   "cell_type": "code",
   "execution_count": 15,
   "metadata": {
    "collapsed": false
   },
   "outputs": [
    {
     "data": {
      "text/html": [
       "<div>\n",
       "<table border=\"1\" class=\"dataframe\">\n",
       "  <thead>\n",
       "    <tr style=\"text-align: right;\">\n",
       "      <th></th>\n",
       "      <th>rating_n</th>\n",
       "      <th>rating_val</th>\n",
       "      <th>prod_price</th>\n",
       "    </tr>\n",
       "  </thead>\n",
       "  <tbody>\n",
       "    <tr>\n",
       "      <th>1</th>\n",
       "      <td>56</td>\n",
       "      <td>4.7</td>\n",
       "      <td>64.98</td>\n",
       "    </tr>\n",
       "    <tr>\n",
       "      <th>2</th>\n",
       "      <td>10</td>\n",
       "      <td>4.3</td>\n",
       "      <td>19.98</td>\n",
       "    </tr>\n",
       "    <tr>\n",
       "      <th>3</th>\n",
       "      <td>46</td>\n",
       "      <td>4.3</td>\n",
       "      <td>39.98</td>\n",
       "    </tr>\n",
       "  </tbody>\n",
       "</table>\n",
       "</div>"
      ],
      "text/plain": [
       "   rating_n  rating_val  prod_price\n",
       "1        56         4.7       64.98\n",
       "2        10         4.3       19.98\n",
       "3        46         4.3       39.98"
      ]
     },
     "execution_count": 15,
     "metadata": {},
     "output_type": "execute_result"
    }
   ],
   "source": [
    "case[['rating_n', 'rating_val', 'prod_price']].head(3)"
   ]
  },
  {
   "cell_type": "code",
   "execution_count": 16,
   "metadata": {
    "collapsed": false
   },
   "outputs": [
    {
     "data": {
      "text/plain": [
       "<seaborn.axisgrid.PairGrid at 0x1137a1890>"
      ]
     },
     "execution_count": 16,
     "metadata": {},
     "output_type": "execute_result"
    },
    {
     "data": {
      "image/png": "[encoded data removed]",
      "text/plain": [
       "<matplotlib.figure.Figure at 0x113675610>"
      ]
     },
     "metadata": {},
     "output_type": "display_data"
    }
   ],
   "source": [
    "g = sns.PairGrid(case[['rating_n', 'rating_val', 'prod_price', 'type']], hue='type', palette='Set2')\n",
    "g.map_diag(plt.hist, bins=10)\n",
    "g.map_offdiag(plt.scatter)\n",
    "g.add_legend()"
   ]
  },
  {
   "cell_type": "markdown",
   "metadata": {},
   "source": [
    "## 2. Making case-motherboard compatibility extractable"
   ]
  },
  {
   "cell_type": "markdown",
   "metadata": {},
   "source": [
    "### There are only 5 motherboard form factors we need to worry about:"
   ]
  },
  {
   "cell_type": "code",
   "execution_count": 17,
   "metadata": {
    "collapsed": false
   },
   "outputs": [
    {
     "data": {
      "text/plain": [
       "['ATX', 'Micro ATX', 'Mini ITX', 'EATX', 'SSI EEB']"
      ]
     },
     "execution_count": 17,
     "metadata": {},
     "output_type": "execute_result"
    }
   ],
   "source": [
    "list(motherboard['form factor'].unique())"
   ]
  },
  {
   "cell_type": "code",
   "execution_count": 18,
   "metadata": {
    "collapsed": false
   },
   "outputs": [
    {
     "name": "stdout",
     "output_type": "stream",
     "text": [
      "count                        212\n",
      "unique                        21\n",
      "top       ATX-Micro ATX-Mini ITX\n",
      "freq                          91\n",
      "Name: motherboard compatibility, dtype: object\n"
     ]
    }
   ],
   "source": [
    "print case['motherboard compatibility'].describe()"
   ]
  },
  {
   "cell_type": "markdown",
   "metadata": {},
   "source": [
    "### Add a boolean column to the case dataframe indicating compatibility for each of the 5 mobos"
   ]
  },
  {
   "cell_type": "code",
   "execution_count": 19,
   "metadata": {
    "collapsed": false
   },
   "outputs": [
    {
     "data": {
      "text/html": [
       "<div>\n",
       "<table border=\"1\" class=\"dataframe\">\n",
       "  <thead>\n",
       "    <tr style=\"text-align: right;\">\n",
       "      <th></th>\n",
       "      <th>color</th>\n",
       "      <th>manufacturer</th>\n",
       "      <th>part #</th>\n",
       "      <th>type</th>\n",
       "      <th>model</th>\n",
       "      <th>motherboard compatibility</th>\n",
       "      <th>internal 2.5\"\" bays</th>\n",
       "      <th>internal 3.5\"\" bays</th>\n",
       "      <th>external 5.25\"\" bays</th>\n",
       "      <th>external 3.5\"\" bays</th>\n",
       "      <th>...</th>\n",
       "      <th>prod_type</th>\n",
       "      <th>rating_val</th>\n",
       "      <th>rating_n</th>\n",
       "      <th>prod_name</th>\n",
       "      <th>prod_price</th>\n",
       "      <th>ATX compatibility</th>\n",
       "      <th>Micro ATX compatibility</th>\n",
       "      <th>Mini ITX compatibility</th>\n",
       "      <th>EATX compatibility</th>\n",
       "      <th>SSI EEB compatibility</th>\n",
       "    </tr>\n",
       "  </thead>\n",
       "  <tbody>\n",
       "    <tr>\n",
       "      <th>1</th>\n",
       "      <td>Black/Red</td>\n",
       "      <td>NZXT</td>\n",
       "      <td>CA-S340W-BR1</td>\n",
       "      <td>ATX Mid Tower</td>\n",
       "      <td>S340 (Black/Red)</td>\n",
       "      <td>ATX-Micro ATX-Mini ITX</td>\n",
       "      <td>2.0</td>\n",
       "      <td>3.0</td>\n",
       "      <td>0.0</td>\n",
       "      <td>0.0</td>\n",
       "      <td>...</td>\n",
       "      <td>Case</td>\n",
       "      <td>4.7</td>\n",
       "      <td>56</td>\n",
       "      <td>NZXT S340 (Black/Red) ATX Mid Tower Case</td>\n",
       "      <td>64.98</td>\n",
       "      <td>True</td>\n",
       "      <td>True</td>\n",
       "      <td>True</td>\n",
       "      <td>False</td>\n",
       "      <td>False</td>\n",
       "    </tr>\n",
       "    <tr>\n",
       "      <th>2</th>\n",
       "      <td>Black</td>\n",
       "      <td>Azza</td>\n",
       "      <td>CSAZ-206S</td>\n",
       "      <td>ATX Mid Tower</td>\n",
       "      <td>SIRIUS</td>\n",
       "      <td>ATX-Micro ATX</td>\n",
       "      <td>0.0</td>\n",
       "      <td>3.0</td>\n",
       "      <td>3.0</td>\n",
       "      <td>0.0</td>\n",
       "      <td>...</td>\n",
       "      <td>Case</td>\n",
       "      <td>4.3</td>\n",
       "      <td>10</td>\n",
       "      <td>Azza SIRIUS ATX Mid Tower Case</td>\n",
       "      <td>19.98</td>\n",
       "      <td>True</td>\n",
       "      <td>True</td>\n",
       "      <td>False</td>\n",
       "      <td>False</td>\n",
       "      <td>False</td>\n",
       "    </tr>\n",
       "    <tr>\n",
       "      <th>3</th>\n",
       "      <td>Black/Blue</td>\n",
       "      <td>Deepcool</td>\n",
       "      <td>TESSERACT SW</td>\n",
       "      <td>ATX Mid Tower</td>\n",
       "      <td>0</td>\n",
       "      <td>ATX-Micro ATX-Mini ITX</td>\n",
       "      <td>0.0</td>\n",
       "      <td>4.0</td>\n",
       "      <td>2.0</td>\n",
       "      <td>0.0</td>\n",
       "      <td>...</td>\n",
       "      <td>Case</td>\n",
       "      <td>4.3</td>\n",
       "      <td>46</td>\n",
       "      <td>Deepcool TESSERACT SW ATX Mid Tower Case</td>\n",
       "      <td>39.98</td>\n",
       "      <td>True</td>\n",
       "      <td>True</td>\n",
       "      <td>True</td>\n",
       "      <td>False</td>\n",
       "      <td>False</td>\n",
       "    </tr>\n",
       "    <tr>\n",
       "      <th>4</th>\n",
       "      <td>White</td>\n",
       "      <td>NZXT</td>\n",
       "      <td>CA-S340W-W1</td>\n",
       "      <td>ATX Mid Tower</td>\n",
       "      <td>S340 (White)</td>\n",
       "      <td>ATX-Micro ATX-Mini ITX</td>\n",
       "      <td>2.0</td>\n",
       "      <td>3.0</td>\n",
       "      <td>0.0</td>\n",
       "      <td>0.0</td>\n",
       "      <td>...</td>\n",
       "      <td>Case</td>\n",
       "      <td>4.6</td>\n",
       "      <td>121</td>\n",
       "      <td>NZXT S340 (White) ATX Mid Tower Case</td>\n",
       "      <td>64.98</td>\n",
       "      <td>True</td>\n",
       "      <td>True</td>\n",
       "      <td>True</td>\n",
       "      <td>False</td>\n",
       "      <td>False</td>\n",
       "    </tr>\n",
       "    <tr>\n",
       "      <th>5</th>\n",
       "      <td>Black</td>\n",
       "      <td>Corsair</td>\n",
       "      <td>200R</td>\n",
       "      <td>ATX Mid Tower</td>\n",
       "      <td>0</td>\n",
       "      <td>ATX-Micro ATX-Mini ITX</td>\n",
       "      <td>4.0</td>\n",
       "      <td>4.0</td>\n",
       "      <td>3.0</td>\n",
       "      <td>0.0</td>\n",
       "      <td>...</td>\n",
       "      <td>Case</td>\n",
       "      <td>4.6</td>\n",
       "      <td>182</td>\n",
       "      <td>Corsair 200R ATX Mid Tower Case</td>\n",
       "      <td>54.98</td>\n",
       "      <td>True</td>\n",
       "      <td>True</td>\n",
       "      <td>True</td>\n",
       "      <td>False</td>\n",
       "      <td>False</td>\n",
       "    </tr>\n",
       "  </tbody>\n",
       "</table>\n",
       "<p>5 rows × 22 columns</p>\n",
       "</div>"
      ],
      "text/plain": [
       "        color manufacturer        part #           type             model  \\\n",
       "1   Black/Red         NZXT  CA-S340W-BR1  ATX Mid Tower  S340 (Black/Red)   \n",
       "2       Black         Azza     CSAZ-206S  ATX Mid Tower            SIRIUS   \n",
       "3  Black/Blue     Deepcool  TESSERACT SW  ATX Mid Tower                 0   \n",
       "4       White         NZXT   CA-S340W-W1  ATX Mid Tower      S340 (White)   \n",
       "5       Black      Corsair          200R  ATX Mid Tower                 0   \n",
       "\n",
       "  motherboard compatibility   internal 2.5\"\" bays   internal 3.5\"\" bays  \\\n",
       "1    ATX-Micro ATX-Mini ITX                   2.0                   3.0   \n",
       "2             ATX-Micro ATX                   0.0                   3.0   \n",
       "3    ATX-Micro ATX-Mini ITX                   0.0                   4.0   \n",
       "4    ATX-Micro ATX-Mini ITX                   2.0                   3.0   \n",
       "5    ATX-Micro ATX-Mini ITX                   4.0                   4.0   \n",
       "\n",
       "    external 5.25\"\" bays   external 3.5\"\" bays          ...           \\\n",
       "1                    0.0                   0.0          ...            \n",
       "2                    3.0                   0.0          ...            \n",
       "3                    2.0                   0.0          ...            \n",
       "4                    0.0                   0.0          ...            \n",
       "5                    3.0                   0.0          ...            \n",
       "\n",
       "  prod_type rating_val rating_n                                 prod_name  \\\n",
       "1      Case        4.7       56  NZXT S340 (Black/Red) ATX Mid Tower Case   \n",
       "2      Case        4.3       10            Azza SIRIUS ATX Mid Tower Case   \n",
       "3      Case        4.3       46  Deepcool TESSERACT SW ATX Mid Tower Case   \n",
       "4      Case        4.6      121      NZXT S340 (White) ATX Mid Tower Case   \n",
       "5      Case        4.6      182           Corsair 200R ATX Mid Tower Case   \n",
       "\n",
       "   prod_price ATX compatibility  Micro ATX compatibility  \\\n",
       "1       64.98              True                     True   \n",
       "2       19.98              True                     True   \n",
       "3       39.98              True                     True   \n",
       "4       64.98              True                     True   \n",
       "5       54.98              True                     True   \n",
       "\n",
       "  Mini ITX compatibility EATX compatibility SSI EEB compatibility  \n",
       "1                   True              False                 False  \n",
       "2                  False              False                 False  \n",
       "3                   True              False                 False  \n",
       "4                   True              False                 False  \n",
       "5                   True              False                 False  \n",
       "\n",
       "[5 rows x 22 columns]"
      ]
     },
     "execution_count": 19,
     "metadata": {},
     "output_type": "execute_result"
    }
   ],
   "source": [
    "mbus = list(motherboard['form factor'].unique())\n",
    "for mbu in mbus:\n",
    "    case['{} compatibility'.format(mbu)] = case['motherboard compatibility'].str.contains('{}'.format(mbu))\n",
    "case.head(5)"
   ]
  },
  {
   "cell_type": "markdown",
   "metadata": {},
   "source": [
    "## 3. Convert ragged GPU size limits into inches (numeric)"
   ]
  },
  {
   "cell_type": "code",
   "execution_count": 20,
   "metadata": {
    "collapsed": false
   },
   "outputs": [],
   "source": [
    "#size_to_num defined in first few lines of document\n",
    "    \n",
    "case['gpu limit in'] = size_to_num(case, 'maximum video card length')"
   ]
  },
  {
   "cell_type": "code",
   "execution_count": 21,
   "metadata": {
    "collapsed": false
   },
   "outputs": [
    {
     "data": {
      "text/html": [
       "<div>\n",
       "<table border=\"1\" class=\"dataframe\">\n",
       "  <thead>\n",
       "    <tr style=\"text-align: right;\">\n",
       "      <th></th>\n",
       "      <th>color</th>\n",
       "      <th>manufacturer</th>\n",
       "      <th>part #</th>\n",
       "      <th>type</th>\n",
       "      <th>model</th>\n",
       "      <th>motherboard compatibility</th>\n",
       "      <th>internal 2.5\"\" bays</th>\n",
       "      <th>internal 3.5\"\" bays</th>\n",
       "      <th>external 5.25\"\" bays</th>\n",
       "      <th>external 3.5\"\" bays</th>\n",
       "      <th>...</th>\n",
       "      <th>rating_val</th>\n",
       "      <th>rating_n</th>\n",
       "      <th>prod_name</th>\n",
       "      <th>prod_price</th>\n",
       "      <th>ATX compatibility</th>\n",
       "      <th>Micro ATX compatibility</th>\n",
       "      <th>Mini ITX compatibility</th>\n",
       "      <th>EATX compatibility</th>\n",
       "      <th>SSI EEB compatibility</th>\n",
       "      <th>gpu limit in</th>\n",
       "    </tr>\n",
       "  </thead>\n",
       "  <tbody>\n",
       "    <tr>\n",
       "      <th>1</th>\n",
       "      <td>Black/Red</td>\n",
       "      <td>NZXT</td>\n",
       "      <td>CA-S340W-BR1</td>\n",
       "      <td>ATX Mid Tower</td>\n",
       "      <td>S340 (Black/Red)</td>\n",
       "      <td>ATX-Micro ATX-Mini ITX</td>\n",
       "      <td>2.0</td>\n",
       "      <td>3.0</td>\n",
       "      <td>0.0</td>\n",
       "      <td>0.0</td>\n",
       "      <td>...</td>\n",
       "      <td>4.7</td>\n",
       "      <td>56</td>\n",
       "      <td>NZXT S340 (Black/Red) ATX Mid Tower Case</td>\n",
       "      <td>64.98</td>\n",
       "      <td>True</td>\n",
       "      <td>True</td>\n",
       "      <td>True</td>\n",
       "      <td>False</td>\n",
       "      <td>False</td>\n",
       "      <td>13.15</td>\n",
       "    </tr>\n",
       "  </tbody>\n",
       "</table>\n",
       "<p>1 rows × 23 columns</p>\n",
       "</div>"
      ],
      "text/plain": [
       "       color manufacturer        part #           type             model  \\\n",
       "1  Black/Red         NZXT  CA-S340W-BR1  ATX Mid Tower  S340 (Black/Red)   \n",
       "\n",
       "  motherboard compatibility   internal 2.5\"\" bays   internal 3.5\"\" bays  \\\n",
       "1    ATX-Micro ATX-Mini ITX                   2.0                   3.0   \n",
       "\n",
       "    external 5.25\"\" bays   external 3.5\"\" bays     ...      rating_val  \\\n",
       "1                    0.0                   0.0     ...             4.7   \n",
       "\n",
       "  rating_n                                 prod_name  prod_price  \\\n",
       "1       56  NZXT S340 (Black/Red) ATX Mid Tower Case       64.98   \n",
       "\n",
       "   ATX compatibility Micro ATX compatibility  Mini ITX compatibility  \\\n",
       "1               True                    True                    True   \n",
       "\n",
       "  EATX compatibility SSI EEB compatibility gpu limit in  \n",
       "1              False                 False        13.15  \n",
       "\n",
       "[1 rows x 23 columns]"
      ]
     },
     "execution_count": 21,
     "metadata": {},
     "output_type": "execute_result"
    }
   ],
   "source": [
    "case.head(1)"
   ]
  },
  {
   "cell_type": "markdown",
   "metadata": {},
   "source": [
    "## 4. Color filtering for case"
   ]
  },
  {
   "cell_type": "code",
   "execution_count": 22,
   "metadata": {
    "collapsed": false
   },
   "outputs": [
    {
     "data": {
      "text/html": [
       "<div>\n",
       "<table border=\"1\" class=\"dataframe\">\n",
       "  <thead>\n",
       "    <tr style=\"text-align: right;\">\n",
       "      <th></th>\n",
       "      <th>color</th>\n",
       "      <th>manufacturer</th>\n",
       "      <th>part #</th>\n",
       "      <th>type</th>\n",
       "      <th>model</th>\n",
       "      <th>motherboard compatibility</th>\n",
       "      <th>internal 2.5\"\" bays</th>\n",
       "      <th>internal 3.5\"\" bays</th>\n",
       "      <th>external 5.25\"\" bays</th>\n",
       "      <th>external 3.5\"\" bays</th>\n",
       "      <th>...</th>\n",
       "      <th>rating_val</th>\n",
       "      <th>rating_n</th>\n",
       "      <th>prod_name</th>\n",
       "      <th>prod_price</th>\n",
       "      <th>ATX compatibility</th>\n",
       "      <th>Micro ATX compatibility</th>\n",
       "      <th>Mini ITX compatibility</th>\n",
       "      <th>EATX compatibility</th>\n",
       "      <th>SSI EEB compatibility</th>\n",
       "      <th>gpu limit in</th>\n",
       "    </tr>\n",
       "  </thead>\n",
       "  <tbody>\n",
       "    <tr>\n",
       "      <th>67</th>\n",
       "      <td>Black/Green</td>\n",
       "      <td>NZXT</td>\n",
       "      <td>CA-S340W-RA</td>\n",
       "      <td>ATX Mid Tower</td>\n",
       "      <td>S340 - Designed by Razer</td>\n",
       "      <td>ATX-Micro ATX-Mini ITX</td>\n",
       "      <td>2.0</td>\n",
       "      <td>3.0</td>\n",
       "      <td>0.0</td>\n",
       "      <td>0.0</td>\n",
       "      <td>...</td>\n",
       "      <td>4.5</td>\n",
       "      <td>22</td>\n",
       "      <td>NZXT S340 - Designed by Razer ATX Mid Tower Case</td>\n",
       "      <td>89.98</td>\n",
       "      <td>True</td>\n",
       "      <td>True</td>\n",
       "      <td>True</td>\n",
       "      <td>False</td>\n",
       "      <td>False</td>\n",
       "      <td>13.15</td>\n",
       "    </tr>\n",
       "    <tr>\n",
       "      <th>155</th>\n",
       "      <td>Black/Green</td>\n",
       "      <td>NZXT</td>\n",
       "      <td>CA-H440W-RA</td>\n",
       "      <td>ATX Mid Tower</td>\n",
       "      <td>H440 Designed by Razer</td>\n",
       "      <td>ATX-Micro ATX-Mini ITX</td>\n",
       "      <td>11.0</td>\n",
       "      <td>8.0</td>\n",
       "      <td>0.0</td>\n",
       "      <td>0.0</td>\n",
       "      <td>...</td>\n",
       "      <td>4.4</td>\n",
       "      <td>15</td>\n",
       "      <td>NZXT H440 Designed by Razer ATX Mid Tower Case</td>\n",
       "      <td>149.98</td>\n",
       "      <td>True</td>\n",
       "      <td>True</td>\n",
       "      <td>True</td>\n",
       "      <td>False</td>\n",
       "      <td>False</td>\n",
       "      <td>11.57</td>\n",
       "    </tr>\n",
       "    <tr>\n",
       "      <th>162</th>\n",
       "      <td>Green</td>\n",
       "      <td>Corsair</td>\n",
       "      <td>C70 Military Green</td>\n",
       "      <td>ATX Mid Tower</td>\n",
       "      <td>C70 Military Green (Green)</td>\n",
       "      <td>ATX-EATX-Micro ATX-Mini ITX</td>\n",
       "      <td>0.0</td>\n",
       "      <td>6.0</td>\n",
       "      <td>3.0</td>\n",
       "      <td>0.0</td>\n",
       "      <td>...</td>\n",
       "      <td>4.8</td>\n",
       "      <td>38</td>\n",
       "      <td>Corsair C70 Military Green (Green) ATX Mid Tow...</td>\n",
       "      <td>109.98</td>\n",
       "      <td>True</td>\n",
       "      <td>True</td>\n",
       "      <td>True</td>\n",
       "      <td>True</td>\n",
       "      <td>False</td>\n",
       "      <td>12.60</td>\n",
       "    </tr>\n",
       "    <tr>\n",
       "      <th>190</th>\n",
       "      <td>Black/Green</td>\n",
       "      <td>DIYPC</td>\n",
       "      <td>Cuboid-G</td>\n",
       "      <td>MicroATX Mini Tower</td>\n",
       "      <td>0</td>\n",
       "      <td>Micro ATX-Mini ITX</td>\n",
       "      <td>2.0</td>\n",
       "      <td>3.0</td>\n",
       "      <td>1.0</td>\n",
       "      <td>0.0</td>\n",
       "      <td>...</td>\n",
       "      <td>3.5</td>\n",
       "      <td>2</td>\n",
       "      <td>DIYPC Cuboid-G MicroATX Mini Tower Case</td>\n",
       "      <td>49.98</td>\n",
       "      <td>True</td>\n",
       "      <td>True</td>\n",
       "      <td>True</td>\n",
       "      <td>False</td>\n",
       "      <td>False</td>\n",
       "      <td>13.39</td>\n",
       "    </tr>\n",
       "  </tbody>\n",
       "</table>\n",
       "<p>4 rows × 23 columns</p>\n",
       "</div>"
      ],
      "text/plain": [
       "           color manufacturer              part #                 type  \\\n",
       "67   Black/Green         NZXT         CA-S340W-RA        ATX Mid Tower   \n",
       "155  Black/Green         NZXT         CA-H440W-RA        ATX Mid Tower   \n",
       "162        Green      Corsair  C70 Military Green        ATX Mid Tower   \n",
       "190  Black/Green        DIYPC            Cuboid-G  MicroATX Mini Tower   \n",
       "\n",
       "                          model    motherboard compatibility  \\\n",
       "67     S340 - Designed by Razer       ATX-Micro ATX-Mini ITX   \n",
       "155      H440 Designed by Razer       ATX-Micro ATX-Mini ITX   \n",
       "162  C70 Military Green (Green)  ATX-EATX-Micro ATX-Mini ITX   \n",
       "190                           0           Micro ATX-Mini ITX   \n",
       "\n",
       "      internal 2.5\"\" bays   internal 3.5\"\" bays   external 5.25\"\" bays  \\\n",
       "67                    2.0                   3.0                    0.0   \n",
       "155                  11.0                   8.0                    0.0   \n",
       "162                   0.0                   6.0                    3.0   \n",
       "190                   2.0                   3.0                    1.0   \n",
       "\n",
       "      external 3.5\"\" bays     ...      rating_val rating_n  \\\n",
       "67                    0.0     ...             4.5       22   \n",
       "155                   0.0     ...             4.4       15   \n",
       "162                   0.0     ...             4.8       38   \n",
       "190                   0.0     ...             3.5        2   \n",
       "\n",
       "                                             prod_name  prod_price  \\\n",
       "67    NZXT S340 - Designed by Razer ATX Mid Tower Case       89.98   \n",
       "155     NZXT H440 Designed by Razer ATX Mid Tower Case      149.98   \n",
       "162  Corsair C70 Military Green (Green) ATX Mid Tow...      109.98   \n",
       "190            DIYPC Cuboid-G MicroATX Mini Tower Case       49.98   \n",
       "\n",
       "     ATX compatibility Micro ATX compatibility  Mini ITX compatibility  \\\n",
       "67                True                    True                    True   \n",
       "155               True                    True                    True   \n",
       "162               True                    True                    True   \n",
       "190               True                    True                    True   \n",
       "\n",
       "    EATX compatibility SSI EEB compatibility gpu limit in  \n",
       "67               False                 False        13.15  \n",
       "155              False                 False        11.57  \n",
       "162               True                 False        12.60  \n",
       "190              False                 False        13.39  \n",
       "\n",
       "[4 rows x 23 columns]"
      ]
     },
     "execution_count": 22,
     "metadata": {},
     "output_type": "execute_result"
    }
   ],
   "source": [
    "#This doesn't require more work, can use simple filters as below\n",
    "case[case['color'].str.contains('Green')]"
   ]
  },
  {
   "cell_type": "markdown",
   "metadata": {},
   "source": [
    "# CPU datatable cleaning and organizing"
   ]
  },
  {
   "cell_type": "markdown",
   "metadata": {},
   "source": [
    "## 1. CPU specs with respect to rating and price"
   ]
  },
  {
   "cell_type": "code",
   "execution_count": 23,
   "metadata": {
    "collapsed": false
   },
   "outputs": [
    {
     "data": {
      "text/plain": [
       "Index([u'manufacturer', u'part #', u'model', u'data width', u'socket',\n",
       "       u'operating frequency', u'max turbo frequency', u'cores', u'l1 cache',\n",
       "       u'l2 cache', u'l3 cache', u'lithography', u'thermal design power',\n",
       "       u'includes cpu cooler', u'hyper-threading', u'maximum supported memory',\n",
       "       u'integrated graphics', u'prod_type', u'rating_val', u'rating_n',\n",
       "       u'prod_name', u'prod_price', u'l2 cache-2'],\n",
       "      dtype='object')"
      ]
     },
     "execution_count": 23,
     "metadata": {},
     "output_type": "execute_result"
    }
   ],
   "source": [
    "cpu.columns"
   ]
  },
  {
   "cell_type": "code",
   "execution_count": 24,
   "metadata": {
    "collapsed": false
   },
   "outputs": [
    {
     "data": {
      "text/plain": [
       "<seaborn.axisgrid.PairGrid at 0x117c686d0>"
      ]
     },
     "execution_count": 24,
     "metadata": {},
     "output_type": "execute_result"
    },
    {
     "data": {
      "image/png": "[encoded data removed]",
      "text/plain": [
       "<matplotlib.figure.Figure at 0x117c68310>"
      ]
     },
     "metadata": {},
     "output_type": "display_data"
    }
   ],
   "source": [
    "g = sns.PairGrid(cpu[['rating_n', 'rating_val', 'prod_price', 'cores']], hue='cores', palette='Set2')\n",
    "g.map_diag(plt.hist, bins=10)\n",
    "g.map_offdiag(plt.scatter)\n",
    "g.add_legend()"
   ]
  },
  {
   "cell_type": "markdown",
   "metadata": {},
   "source": [
    "## 2. Clean lithography node (in nm) to numeric to make it plottable"
   ]
  },
  {
   "cell_type": "code",
   "execution_count": 25,
   "metadata": {
    "collapsed": false
   },
   "outputs": [
    {
     "data": {
      "text/html": [
       "<div>\n",
       "<table border=\"1\" class=\"dataframe\">\n",
       "  <thead>\n",
       "    <tr style=\"text-align: right;\">\n",
       "      <th></th>\n",
       "      <th>lithography</th>\n",
       "      <th>prod_name</th>\n",
       "      <th>prod_price</th>\n",
       "    </tr>\n",
       "  </thead>\n",
       "  <tbody>\n",
       "    <tr>\n",
       "      <th>1</th>\n",
       "      <td>14</td>\n",
       "      <td>Intel Core i7-7700K 4.2GHz Quad-Core Processor</td>\n",
       "      <td>338.33</td>\n",
       "    </tr>\n",
       "    <tr>\n",
       "      <th>2</th>\n",
       "      <td>14</td>\n",
       "      <td>Intel Core i5-7600K 3.8GHz Quad-Core Processor</td>\n",
       "      <td>228.88</td>\n",
       "    </tr>\n",
       "    <tr>\n",
       "      <th>3</th>\n",
       "      <td>14</td>\n",
       "      <td>Intel Core i5-7500 3.4GHz Quad-Core Processor</td>\n",
       "      <td>188.88</td>\n",
       "    </tr>\n",
       "    <tr>\n",
       "      <th>4</th>\n",
       "      <td>14</td>\n",
       "      <td>AMD Ryzen 5 1600 3.2GHz 6-Core Processor</td>\n",
       "      <td>217.54</td>\n",
       "    </tr>\n",
       "    <tr>\n",
       "      <th>5</th>\n",
       "      <td>14</td>\n",
       "      <td>Intel Pentium G4560 3.5GHz Dual-Core Processor</td>\n",
       "      <td>59.47</td>\n",
       "    </tr>\n",
       "  </tbody>\n",
       "</table>\n",
       "</div>"
      ],
      "text/plain": [
       "   lithography                                       prod_name  prod_price\n",
       "1           14  Intel Core i7-7700K 4.2GHz Quad-Core Processor      338.33\n",
       "2           14  Intel Core i5-7600K 3.8GHz Quad-Core Processor      228.88\n",
       "3           14   Intel Core i5-7500 3.4GHz Quad-Core Processor      188.88\n",
       "4           14        AMD Ryzen 5 1600 3.2GHz 6-Core Processor      217.54\n",
       "5           14  Intel Pentium G4560 3.5GHz Dual-Core Processor       59.47"
      ]
     },
     "execution_count": 25,
     "metadata": {},
     "output_type": "execute_result"
    }
   ],
   "source": [
    "litho = [int(re.search('[0-9]{1,2}', cpu['lithography'][x]).group(0)) for x in range(1, cpu.shape[0]+1)]\n",
    "\n",
    "cpu['lithography'] = litho\n",
    "cpu[['lithography','prod_name','prod_price']].head()"
   ]
  },
  {
   "cell_type": "code",
   "execution_count": 26,
   "metadata": {
    "collapsed": false
   },
   "outputs": [
    {
     "data": {
      "text/plain": [
       "<seaborn.axisgrid.PairGrid at 0x1197cced0>"
      ]
     },
     "execution_count": 26,
     "metadata": {},
     "output_type": "execute_result"
    },
    {
     "data": {
      "image/png": "[encoded data removed]",
      "text/plain": [
       "<matplotlib.figure.Figure at 0x1197cc590>"
      ]
     },
     "metadata": {},
     "output_type": "display_data"
    }
   ],
   "source": [
    "g = sns.PairGrid(cpu[['rating_n', 'rating_val', 'prod_price', 'lithography']], hue='lithography', palette='Set2')\n",
    "g.map_diag(plt.hist, bins=10)\n",
    "g.map_offdiag(plt.scatter)\n",
    "g.add_legend()"
   ]
  },
  {
   "cell_type": "code",
   "execution_count": 27,
   "metadata": {
    "collapsed": false
   },
   "outputs": [
    {
     "data": {
      "text/plain": [
       "<seaborn.axisgrid.JointGrid at 0x1197cc450>"
      ]
     },
     "execution_count": 27,
     "metadata": {},
     "output_type": "execute_result"
    },
    {
     "data": {
      "image/png": "[encoded data removed]",
      "text/plain": [
       "<matplotlib.figure.Figure at 0x1197cc690>"
      ]
     },
     "metadata": {},
     "output_type": "display_data"
    }
   ],
   "source": [
    "sns.jointplot(cpu['rating_val'], cpu['prod_price'])"
   ]
  },
  {
   "cell_type": "markdown",
   "metadata": {},
   "source": [
    "## 3. Determine restrictive/interesting values for PC building"
   ]
  },
  {
   "cell_type": "code",
   "execution_count": 28,
   "metadata": {
    "collapsed": false
   },
   "outputs": [
    {
     "name": "stdout",
     "output_type": "stream",
     "text": [
      "socket unique values: ['LGA1151' 'AM4' 'AM3+' 'LGA2011-3' 'FM2+' 'LGA1150' 'LGA775' 'LGA1155'\n",
      " 'FM2' 'AM3/AM2+' 'LGA2011' 'AM1' 'LGA1156' 'LGA1366' 'AM3']\n",
      "l1 cache unique values: ['4 x 32KB Instruction' '6 x 64KB Instruction' '2 x 32KB Instruction'\n",
      " '4 x 64KB Instruction' '8 x 64KB Instruction' '3 x 64KB Instruction'\n",
      " '6 x 32KB Instruction' '10 x 32KB Instruction' '2 x 96KB Instruction'\n",
      " '8 x 32KB Instruction' '2 x 64KB Instruction' '1 x 64KB Instruction'\n",
      " '1 x 96KB Instruction' '14 x 32KB Instruction' '12 x 32KB Instruction'\n",
      " '6 x 16KB Instruction' '8 x 16KB Instruction']\n",
      "l2 cache unique values: ['4 x 256KB' '6 x 512KB' '2 x 256KB' '4 x 512KB' '8 x 512KB' '4 x 2MB'\n",
      " '3 x 2MB' '6 x 256KB' '10 x 256KB' '2 x 2MB' '1 x 6MB' '8 x 256KB'\n",
      " '1 x 1MB' '2 x 512KB' '2 x 4MB' '14 x 256KB' '12 x 256KB' '2 x 6MB'\n",
      " '1 x 3MB' '6 x 1MB' '1 x 4MB' '2 x 1MB' '8 x 1MB' '1 x 2MB' '3 x 512KB'\n",
      " '2 x 3MB']\n",
      "l2 cache-2 unique values: [' 4 x 32KB' ' 6 x 32KB' ' 2 x 32KB' ' 8 x 32KB' ' 8 x 16KB' ' 6 x 16KB'\n",
      " ' 0 x 32KB' ' 4 x 16KB' ' 2 x 16KB' ' 2 x 64KB' ' 4 x 64KB' ' 3 x 64KB']\n",
      "l3 cache unique values: ['1 x 8MB' '1 x 6MB' '2 x 8MB' '1 x 3MB' '1 x 15MB' '1 x 25MB' 'None'\n",
      " '1 x 20MB' '1 x 4MB' '1 x 2MB' '1 x 3.0MB' '1 x 10MB' '1 x 12MB'\n",
      " '1 x 35MB' '1 x 30MB']\n",
      "includes cpu cooler unique values: ['No' 'Yes']\n"
     ]
    }
   ],
   "source": [
    "for el in ['socket', 'l1 cache', 'l2 cache', 'l2 cache-2', 'l3 cache', 'includes cpu cooler']:\n",
    "    print '{} unique values: {}'.format(el, cpu[el].unique())"
   ]
  },
  {
   "cell_type": "markdown",
   "metadata": {},
   "source": [
    "### Work with the L1 L2 L3 data to form numeric columns"
   ]
  },
  {
   "cell_type": "code",
   "execution_count": 29,
   "metadata": {
    "collapsed": false
   },
   "outputs": [
    {
     "data": {
      "text/html": [
       "<div>\n",
       "<table border=\"1\" class=\"dataframe\">\n",
       "  <thead>\n",
       "    <tr style=\"text-align: right;\">\n",
       "      <th></th>\n",
       "      <th>manufacturer</th>\n",
       "      <th>part #</th>\n",
       "      <th>model</th>\n",
       "      <th>data width</th>\n",
       "      <th>socket</th>\n",
       "      <th>operating frequency</th>\n",
       "      <th>max turbo frequency</th>\n",
       "      <th>cores</th>\n",
       "      <th>l1 cache</th>\n",
       "      <th>l2 cache</th>\n",
       "      <th>...</th>\n",
       "      <th>hyper-threading</th>\n",
       "      <th>maximum supported memory</th>\n",
       "      <th>integrated graphics</th>\n",
       "      <th>prod_type</th>\n",
       "      <th>rating_val</th>\n",
       "      <th>rating_n</th>\n",
       "      <th>prod_name</th>\n",
       "      <th>prod_price</th>\n",
       "      <th>l2 cache-2</th>\n",
       "      <th>l1 total</th>\n",
       "    </tr>\n",
       "  </thead>\n",
       "  <tbody>\n",
       "    <tr>\n",
       "      <th>1</th>\n",
       "      <td>Intel</td>\n",
       "      <td>BX80677I77700K</td>\n",
       "      <td>0</td>\n",
       "      <td>64-bit</td>\n",
       "      <td>LGA1151</td>\n",
       "      <td>4.2GHz</td>\n",
       "      <td>4.5GHz</td>\n",
       "      <td>4</td>\n",
       "      <td>4 x 32KB Instruction</td>\n",
       "      <td>4 x 256KB</td>\n",
       "      <td>...</td>\n",
       "      <td>Yes</td>\n",
       "      <td>64GB</td>\n",
       "      <td>Intel HD Graphics 630</td>\n",
       "      <td>CPU</td>\n",
       "      <td>4.8</td>\n",
       "      <td>80</td>\n",
       "      <td>Intel Core i7-7700K 4.2GHz Quad-Core Processor</td>\n",
       "      <td>338.33</td>\n",
       "      <td>4 x 32KB</td>\n",
       "      <td>128</td>\n",
       "    </tr>\n",
       "  </tbody>\n",
       "</table>\n",
       "<p>1 rows × 24 columns</p>\n",
       "</div>"
      ],
      "text/plain": [
       "  manufacturer          part # model data width   socket operating frequency  \\\n",
       "1        Intel  BX80677I77700K     0     64-bit  LGA1151              4.2GHz   \n",
       "\n",
       "  max turbo frequency  cores              l1 cache   l2 cache    ...     \\\n",
       "1              4.5GHz      4  4 x 32KB Instruction  4 x 256KB    ...      \n",
       "\n",
       "  hyper-threading  maximum supported memory    integrated graphics prod_type  \\\n",
       "1             Yes                      64GB  Intel HD Graphics 630       CPU   \n",
       "\n",
       "  rating_val rating_n                                       prod_name  \\\n",
       "1        4.8       80  Intel Core i7-7700K 4.2GHz Quad-Core Processor   \n",
       "\n",
       "  prod_price  l2 cache-2  l1 total  \n",
       "1     338.33    4 x 32KB       128  \n",
       "\n",
       "[1 rows x 24 columns]"
      ]
     },
     "execution_count": 29,
     "metadata": {},
     "output_type": "execute_result"
    }
   ],
   "source": [
    "###   First work with L1 data   ###\n",
    "#Grab all of the L1 data out of the L1 column\n",
    "l1 = [re.search('([0-9]{1,2}) x ([0-9]{1,2})([A-Za-z]{1,2})', cpu['l1 cache'][x]) for x in range(1, cpu.shape[0]+1)]\n",
    "\n",
    "#Get the multiplier out of the L1 data\n",
    "l1_mult = [int(l1[x].group(1)) for x in range(0, cpu.shape[0])]\n",
    "#Likewise for the data-size value\n",
    "l1_val = [int(l1[x].group(2)) for x in range(0, cpu.shape[0])]\n",
    "#And finally the data type\n",
    "l1_type = [str(l1[x].group(3)) for x in range(0, cpu.shape[0])]\n",
    "\n",
    "for i in range(0, cpu.shape[0]):\n",
    "    if str(l1[i].group(3)) != 'KB':\n",
    "        print 'Not L1 in KB'\n",
    "\n",
    "#All values for L1 are in KB, can multiply both L1 values together without data type problems\n",
    "cpu['l1 total'] = [x[0]*x[1] for x in zip(l1_mult, l1_val)]\n",
    "cpu.head(1)"
   ]
  },
  {
   "cell_type": "code",
   "execution_count": 30,
   "metadata": {
    "collapsed": false,
    "scrolled": true
   },
   "outputs": [
    {
     "data": {
      "text/html": [
       "<div>\n",
       "<table border=\"1\" class=\"dataframe\">\n",
       "  <thead>\n",
       "    <tr style=\"text-align: right;\">\n",
       "      <th></th>\n",
       "      <th>manufacturer</th>\n",
       "      <th>part #</th>\n",
       "      <th>model</th>\n",
       "      <th>data width</th>\n",
       "      <th>socket</th>\n",
       "      <th>operating frequency</th>\n",
       "      <th>max turbo frequency</th>\n",
       "      <th>cores</th>\n",
       "      <th>l1 cache</th>\n",
       "      <th>l2 cache</th>\n",
       "      <th>...</th>\n",
       "      <th>maximum supported memory</th>\n",
       "      <th>integrated graphics</th>\n",
       "      <th>prod_type</th>\n",
       "      <th>rating_val</th>\n",
       "      <th>rating_n</th>\n",
       "      <th>prod_name</th>\n",
       "      <th>prod_price</th>\n",
       "      <th>l2 cache-2</th>\n",
       "      <th>l1 total</th>\n",
       "      <th>l2 total</th>\n",
       "    </tr>\n",
       "  </thead>\n",
       "  <tbody>\n",
       "    <tr>\n",
       "      <th>1</th>\n",
       "      <td>Intel</td>\n",
       "      <td>BX80677I77700K</td>\n",
       "      <td>0</td>\n",
       "      <td>64-bit</td>\n",
       "      <td>LGA1151</td>\n",
       "      <td>4.2GHz</td>\n",
       "      <td>4.5GHz</td>\n",
       "      <td>4</td>\n",
       "      <td>4 x 32KB Instruction</td>\n",
       "      <td>4 x 256KB</td>\n",
       "      <td>...</td>\n",
       "      <td>64GB</td>\n",
       "      <td>Intel HD Graphics 630</td>\n",
       "      <td>CPU</td>\n",
       "      <td>4.8</td>\n",
       "      <td>80</td>\n",
       "      <td>Intel Core i7-7700K 4.2GHz Quad-Core Processor</td>\n",
       "      <td>338.33</td>\n",
       "      <td>4 x 32KB</td>\n",
       "      <td>128</td>\n",
       "      <td>1024</td>\n",
       "    </tr>\n",
       "  </tbody>\n",
       "</table>\n",
       "<p>1 rows × 25 columns</p>\n",
       "</div>"
      ],
      "text/plain": [
       "  manufacturer          part # model data width   socket operating frequency  \\\n",
       "1        Intel  BX80677I77700K     0     64-bit  LGA1151              4.2GHz   \n",
       "\n",
       "  max turbo frequency  cores              l1 cache   l2 cache    ...     \\\n",
       "1              4.5GHz      4  4 x 32KB Instruction  4 x 256KB    ...      \n",
       "\n",
       "  maximum supported memory    integrated graphics prod_type rating_val  \\\n",
       "1                     64GB  Intel HD Graphics 630       CPU        4.8   \n",
       "\n",
       "  rating_n                                       prod_name prod_price  \\\n",
       "1       80  Intel Core i7-7700K 4.2GHz Quad-Core Processor     338.33   \n",
       "\n",
       "  l2 cache-2  l1 total  l2 total  \n",
       "1   4 x 32KB       128      1024  \n",
       "\n",
       "[1 rows x 25 columns]"
      ]
     },
     "execution_count": 30,
     "metadata": {},
     "output_type": "execute_result"
    }
   ],
   "source": [
    "###   Now work with L2 data   ###\n",
    "#Grab all of the L2 data out of the L2 column\n",
    "l2 = [re.search('([0-9]{1,2}) x ([0-9]{1,3})([A-Za-z]{1,2})', cpu['l2 cache'][x]) for x in range(1, cpu.shape[0]+1)]\n",
    "\n",
    "#Get the multiplier out of the L1 data\n",
    "l2_mult = [int(l2[x].group(1)) for x in range(0, cpu.shape[0])]\n",
    "#Likewise for the data-size value\n",
    "l2_val = [int(l2[x].group(2)) for x in range(0, cpu.shape[0])]\n",
    "#And finally the data type\n",
    "l2_type = [str(l2[x].group(3)) for x in range(0, cpu.shape[0])]\n",
    "\n",
    "#Convert MB to KB\n",
    "l2_val = [int(l2[x].group(2)) if str(l2[x].group(3)) == 'KB' else int(l2[x].group(2))*2**10 for x in range(0, cpu.shape[0])]\n",
    "\n",
    "#Assign values to dataframe\n",
    "cpu['l2 total'] = [x[0]*x[1] for x in zip(l2_mult, l2_val)]\n",
    "cpu.head(1)"
   ]
  },
  {
   "cell_type": "code",
   "execution_count": 31,
   "metadata": {
    "collapsed": false
   },
   "outputs": [
    {
     "data": {
      "text/html": [
       "<div>\n",
       "<table border=\"1\" class=\"dataframe\">\n",
       "  <thead>\n",
       "    <tr style=\"text-align: right;\">\n",
       "      <th></th>\n",
       "      <th>l2 cache-2</th>\n",
       "      <th>l2-2 total</th>\n",
       "    </tr>\n",
       "  </thead>\n",
       "  <tbody>\n",
       "    <tr>\n",
       "      <th>1</th>\n",
       "      <td>4 x 32KB</td>\n",
       "      <td>128</td>\n",
       "    </tr>\n",
       "    <tr>\n",
       "      <th>2</th>\n",
       "      <td>4 x 32KB</td>\n",
       "      <td>128</td>\n",
       "    </tr>\n",
       "    <tr>\n",
       "      <th>3</th>\n",
       "      <td>4 x 32KB</td>\n",
       "      <td>128</td>\n",
       "    </tr>\n",
       "    <tr>\n",
       "      <th>4</th>\n",
       "      <td>6 x 32KB</td>\n",
       "      <td>192</td>\n",
       "    </tr>\n",
       "    <tr>\n",
       "      <th>5</th>\n",
       "      <td>2 x 32KB</td>\n",
       "      <td>64</td>\n",
       "    </tr>\n",
       "  </tbody>\n",
       "</table>\n",
       "</div>"
      ],
      "text/plain": [
       "  l2 cache-2  l2-2 total\n",
       "1   4 x 32KB         128\n",
       "2   4 x 32KB         128\n",
       "3   4 x 32KB         128\n",
       "4   6 x 32KB         192\n",
       "5   2 x 32KB          64"
      ]
     },
     "execution_count": 31,
     "metadata": {},
     "output_type": "execute_result"
    }
   ],
   "source": [
    "###   Next work with L2-2 data   ###\n",
    "#Grab all of the L2-2 data out of the L2-2 column\n",
    "l2_2 = [re.search('([0-9]{1,2}) x ([0-9]{1,3})([A-Za-z]{1,2})', cpu['l2 cache-2'][x]) for x in range(1, cpu.shape[0]+1)]\n",
    "\n",
    "#Get the multiplier out of the L1 data\n",
    "l2_2_mult = [int(l2_2[x].group(1)) for x in range(0, cpu.shape[0])]\n",
    "#Likewise for the data-size value\n",
    "l2_2_val = [int(l2_2[x].group(2)) for x in range(0, cpu.shape[0])]\n",
    "#And finally the data type\n",
    "l2_2_type = [str(l2_2[x].group(3)) for x in range(0, cpu.shape[0])]\n",
    "\n",
    "#Convert MB to KB\n",
    "l2_2_val = [int(l2_2[x].group(2)) if str(l2_2[x].group(3)) == 'KB' else int(l2_2[x].group(2))*2**10 for x in range(0, cpu.shape[0])]\n",
    "\n",
    "#Assign values to dataframe\n",
    "cpu['l2-2 total'] = [x[0]*x[1] for x in zip(l2_2_mult, l2_2_val)]\n",
    "cpu[['l2 cache-2', 'l2-2 total']].head()"
   ]
  },
  {
   "cell_type": "code",
   "execution_count": 32,
   "metadata": {
    "collapsed": false
   },
   "outputs": [
    {
     "data": {
      "text/html": [
       "<div>\n",
       "<table border=\"1\" class=\"dataframe\">\n",
       "  <thead>\n",
       "    <tr style=\"text-align: right;\">\n",
       "      <th></th>\n",
       "      <th>l3 cache</th>\n",
       "      <th>l3 total</th>\n",
       "    </tr>\n",
       "  </thead>\n",
       "  <tbody>\n",
       "    <tr>\n",
       "      <th>199</th>\n",
       "      <td>1 x 3MB</td>\n",
       "      <td>3</td>\n",
       "    </tr>\n",
       "    <tr>\n",
       "      <th>200</th>\n",
       "      <td>1 x 35MB</td>\n",
       "      <td>35</td>\n",
       "    </tr>\n",
       "    <tr>\n",
       "      <th>201</th>\n",
       "      <td>1 x 6MB</td>\n",
       "      <td>6</td>\n",
       "    </tr>\n",
       "    <tr>\n",
       "      <th>202</th>\n",
       "      <td>1 x 2MB</td>\n",
       "      <td>2</td>\n",
       "    </tr>\n",
       "    <tr>\n",
       "      <th>203</th>\n",
       "      <td>None</td>\n",
       "      <td>0</td>\n",
       "    </tr>\n",
       "  </tbody>\n",
       "</table>\n",
       "</div>"
      ],
      "text/plain": [
       "     l3 cache  l3 total\n",
       "199   1 x 3MB         3\n",
       "200  1 x 35MB        35\n",
       "201   1 x 6MB         6\n",
       "202   1 x 2MB         2\n",
       "203      None         0"
      ]
     },
     "execution_count": 32,
     "metadata": {},
     "output_type": "execute_result"
    }
   ],
   "source": [
    "###   Finally work with L2-2 data   ###\n",
    "#Grab all of the L3 data out of the L3 column\n",
    "l3 = [re.search('([0-9]{1,2}) x ([0-9]{1,2})([A-Za-z]{1,2})', cpu['l3 cache'][x]) for x in range(1, cpu.shape[0]+1)]\n",
    "\n",
    "l3_mult = []\n",
    "l3_val = []\n",
    "    \n",
    "for x in range(0, cpu.shape[0]):\n",
    "    #Get the multiplier out of the L3 data\n",
    "    try:\n",
    "        l3_mult.append(int(l3[x].group(1)))\n",
    "    except:\n",
    "        l3_mult.append(0)\n",
    "\n",
    "    #Likewise for the data-size value\n",
    "    try:\n",
    "        l3_val.append(int(l3[x].group(2)))\n",
    "    except: \n",
    "        l3_val.append(0)\n",
    "\n",
    "#All values for L3 are in MB, can multiply both L3 values together without data type problems\n",
    "cpu['l3 total'] = [x[0]*x[1] for x in zip(l3_mult, l3_val)]\n",
    "cpu[['l3 cache', 'l3 total']].tail()"
   ]
  },
  {
   "cell_type": "markdown",
   "metadata": {},
   "source": [
    "### Clean up the socket column"
   ]
  },
  {
   "cell_type": "code",
   "execution_count": 33,
   "metadata": {
    "collapsed": false
   },
   "outputs": [
    {
     "name": "stdout",
     "output_type": "stream",
     "text": [
      "['LGA1151', 'AM4', 'AM3+', 'LGA2011-3', 'FM2+', 'LGA1150', 'LGA775', 'LGA1155', 'FM2', 'AM3/AM2+', 'LGA2011', 'AM1', 'LGA1156', 'LGA1366', 'AM3']\n"
     ]
    }
   ],
   "source": [
    "#Get all unique values\n",
    "sockets = list(cpu['socket'].unique())\n",
    "print sockets"
   ]
  },
  {
   "cell_type": "code",
   "execution_count": 34,
   "metadata": {
    "collapsed": false
   },
   "outputs": [],
   "source": [
    "#Most of the entries are fine, need to clean up 'AM3/AM2+'\n",
    "clean_socket = []\n",
    "for el in cpu['socket']:\n",
    "    try:\n",
    "        re.search('(AM3/AM2\\+)', el).group(0)\n",
    "        clean_socket.append('AM2+-AM3')\n",
    "    except:\n",
    "        clean_socket.append(el)\n",
    "cpu['socket'] = clean_socket"
   ]
  },
  {
   "cell_type": "markdown",
   "metadata": {},
   "source": [
    "# Cooler dataframe cleaning and organizing"
   ]
  },
  {
   "cell_type": "markdown",
   "metadata": {},
   "source": [
    "## 1. Cooler specs with respect to rating and price"
   ]
  },
  {
   "cell_type": "code",
   "execution_count": 35,
   "metadata": {
    "collapsed": false
   },
   "outputs": [
    {
     "data": {
      "text/plain": [
       "Index([u'manufacturer', u'part #', u'model', u'height', u'prod_type',\n",
       "       u'rating_val', u'rating_n', u'prod_name', u'prod_price',\n",
       "       u'radiator size', u'noise level', u'supported sockets', u'fan rpm',\n",
       "       u'liquid cooled'],\n",
       "      dtype='object')"
      ]
     },
     "execution_count": 35,
     "metadata": {},
     "output_type": "execute_result"
    }
   ],
   "source": [
    "cooler.columns"
   ]
  },
  {
   "cell_type": "code",
   "execution_count": 36,
   "metadata": {
    "collapsed": false
   },
   "outputs": [
    {
     "data": {
      "text/plain": [
       "<seaborn.axisgrid.PairGrid at 0x11b578a10>"
      ]
     },
     "execution_count": 36,
     "metadata": {},
     "output_type": "execute_result"
    },
    {
     "data": {
      "image/png": "[encoded data removed]",
      "text/plain": [
       "<matplotlib.figure.Figure at 0x11b042250>"
      ]
     },
     "metadata": {},
     "output_type": "display_data"
    }
   ],
   "source": [
    "cooler_filter = cooler[['rating_n', 'rating_val', 'prod_price', 'radiator size']][cooler['radiator size'] != ' ']\n",
    "g = sns.PairGrid(cooler_filter, hue='radiator size', palette='Set2')\n",
    "g.map_diag(plt.hist, bins=10, normed=False)\n",
    "g.map_offdiag(plt.scatter)\n",
    "g.add_legend()"
   ]
  },
  {
   "cell_type": "markdown",
   "metadata": {},
   "source": [
    "## 2. Convert ragged height and size specs into numeric values"
   ]
  },
  {
   "cell_type": "code",
   "execution_count": 37,
   "metadata": {
    "collapsed": false
   },
   "outputs": [],
   "source": [
    "#Take a look at the height column first\n",
    "cooler_limit=[]\n",
    "for i in range(1, cooler.shape[0]+1):\n",
    "    if type(cooler['height'][i])==int:\n",
    "        cooler_limit.append(0.0)\n",
    "    else:\n",
    "        cooler_limit.append(float(re.search('[0-9]{1,2}\\.[0-9]+', cooler['height'][i]).group(0)))\n",
    "\n",
    "cooler['numeric height'] = cooler_limit"
   ]
  },
  {
   "cell_type": "code",
   "execution_count": 38,
   "metadata": {
    "collapsed": false
   },
   "outputs": [
    {
     "name": "stdout",
     "output_type": "stream",
     "text": [
      "[  0 240 280 120 360 140]\n"
     ]
    }
   ],
   "source": [
    "#Apply same correction to radiator size column\n",
    "cooler_limit=[]\n",
    "for i in range(1, cooler.shape[0]+1):\n",
    "    if cooler['radiator size'][i]==' ':\n",
    "        cooler_limit.append(0)\n",
    "    else:\n",
    "        cooler_limit.append(int(re.search('[0-9]{1,3}', cooler['radiator size'][i]).group(0)))\n",
    "\n",
    "cooler['numeric size'] = cooler_limit\n",
    "print cooler['numeric size'].unique()"
   ]
  },
  {
   "cell_type": "markdown",
   "metadata": {},
   "source": [
    "## 3. Convert potential values of interest to useable form"
   ]
  },
  {
   "cell_type": "markdown",
   "metadata": {},
   "source": [
    "### Start with liquid cooled: convert to boolean"
   ]
  },
  {
   "cell_type": "code",
   "execution_count": 39,
   "metadata": {
    "collapsed": false
   },
   "outputs": [
    {
     "name": "stdout",
     "output_type": "stream",
     "text": [
      "1      No\n",
      "2     Yes\n",
      "3     Yes\n",
      "4      No\n",
      "5     Yes\n",
      "Name: liquid cooled, dtype: object\n",
      "1    False\n",
      "2     True\n",
      "3     True\n",
      "4    False\n",
      "5     True\n",
      "Name: liquid cooled, dtype: bool\n"
     ]
    }
   ],
   "source": [
    "print cooler['liquid cooled'].head()\n",
    "cooler['liquid cooled'] = [True if x == ' Yes' else False for x in cooler['liquid cooled']]\n",
    "print cooler['liquid cooled'].head()"
   ]
  },
  {
   "cell_type": "markdown",
   "metadata": {},
   "source": [
    "### Now analyze noise level information"
   ]
  },
  {
   "cell_type": "code",
   "execution_count": 40,
   "metadata": {
    "collapsed": false
   },
   "outputs": [
    {
     "name": "stdout",
     "output_type": "stream",
     "text": [
      "1      9.0 - 36.0 dbA\n",
      "2            37.7 dbA\n",
      "3     21.0 - 38.0 dbA\n",
      "4      1.0 - 25.0 dbA\n",
      "5            30.9 dbA\n",
      "Name: noise level, dtype: object\n",
      "\n",
      "\n",
      "        noise level  noise level min  noise level max\n",
      "1    9.0 - 36.0 dbA              9.0             36.0\n",
      "2          37.7 dbA              0.0             37.7\n",
      "3   21.0 - 38.0 dbA             21.0             38.0\n",
      "4    1.0 - 25.0 dbA              1.0             25.0\n",
      "5          30.9 dbA              0.0             30.9\n"
     ]
    }
   ],
   "source": [
    "print cooler['noise level'].head()\n",
    "print '\\n'\n",
    "\n",
    "#Limit finder return a list of lists: first list is min\n",
    "cooler['noise level min'] = limit_finder(cooler,'noise level', float, 3)[0]\n",
    "#Second list is max noise level (or nominal if min is missing)\n",
    "cooler['noise level max'] = limit_finder(cooler,'noise level', float, 3)[1]\n",
    "\n",
    "print cooler[['noise level', 'noise level min', 'noise level max']].head()"
   ]
  },
  {
   "cell_type": "markdown",
   "metadata": {},
   "source": [
    "### Next look at RPM information"
   ]
  },
  {
   "cell_type": "code",
   "execution_count": 41,
   "metadata": {
    "collapsed": false
   },
   "outputs": [
    {
     "name": "stdout",
     "output_type": "stream",
     "text": [
      "1     600 - 2000 RPM\n",
      "2           2435 RPM\n",
      "3     500 - 1800 RPM\n",
      "4     330 - 1600 RPM\n",
      "5           2000 RPM\n",
      "Name: fan rpm, dtype: object\n",
      "\n",
      "\n",
      "           fan rpm  fan rpm min  fan rpm max\n",
      "1   600 - 2000 RPM          600         2000\n",
      "2         2435 RPM            0         2435\n",
      "3   500 - 1800 RPM          500         1800\n",
      "4   330 - 1600 RPM          330         1600\n",
      "5         2000 RPM            0         2000\n"
     ]
    }
   ],
   "source": [
    "#Has same format as noise level information\n",
    "print cooler['fan rpm'].head()\n",
    "print '\\n'\n",
    "\n",
    "#Limit finder return a list of lists: first list is min\n",
    "cooler['fan rpm min'] = limit_finder(cooler,'fan rpm', int, 3)[0]\n",
    "#Second list is max noise level (or nominal if min is missing)\n",
    "cooler['fan rpm max'] = limit_finder(cooler,'fan rpm', int, 3)[1]\n",
    "\n",
    "print cooler[['fan rpm', 'fan rpm min', 'fan rpm max']].head()"
   ]
  },
  {
   "cell_type": "markdown",
   "metadata": {},
   "source": [
    "### Convert compatible socket information to boolean columns for convenience"
   ]
  },
  {
   "cell_type": "code",
   "execution_count": 42,
   "metadata": {
    "collapsed": false,
    "scrolled": true
   },
   "outputs": [
    {
     "name": "stdout",
     "output_type": "stream",
     "text": [
      "unique sockets from cpu list:\n",
      " ['LGA1151', 'AM4', 'AM3+', 'LGA2011-3', 'FM2+', 'LGA1150', 'LGA775', 'LGA1155', 'FM2', 'AM2+-AM3', 'LGA2011', 'AM1', 'LGA1156', 'LGA1366', 'AM3'] \n",
      "\n"
     ]
    }
   ],
   "source": [
    "sockets = list(cpu['socket'].unique())\n",
    "print 'unique sockets from cpu list:\\n {} \\n'.format(sockets)\n",
    "\n",
    "def cooler_tests(df, column_str, specific_arg, general_arg):\n",
    "    if len(df[column_str][~(df[column_str].str.contains(specific_arg)) &\n",
    "                                       (df[column_str].str.contains(general_arg))]) == 0:\n",
    "        return 'If {} is supported, {} is also supported \\n'.format(general_arg, specific_arg)\n",
    "    \n",
    "    else:\n",
    "        return 'Need to separate {} & {}\\n'.format(general_arg, specific_arg)\n"
   ]
  },
  {
   "cell_type": "code",
   "execution_count": 43,
   "metadata": {
    "collapsed": false
   },
   "outputs": [
    {
     "name": "stdout",
     "output_type": "stream",
     "text": [
      "If LGA2011 is supported, LGA2011-3 is also supported \n",
      "\n",
      "If FM2 is supported, FM2+ is also supported \n",
      "\n",
      "If AM2 is supported, AM3+ is also supported \n",
      "\n",
      "Need to separate AM3 & AM4\n",
      "\n"
     ]
    }
   ],
   "source": [
    "for el in [['LGA2011-3', 'LGA2011'],\n",
    "           ['FM2+', 'FM2'],\n",
    "           ['AM3+', 'AM2'],\n",
    "           ['AM4', 'AM3']]:\n",
    "    print cooler_tests(cooler, 'supported sockets', el[0], el[1])\n",
    "#Lets generalize this to figure out what our minimum number of values is"
   ]
  },
  {
   "cell_type": "code",
   "execution_count": 44,
   "metadata": {
    "collapsed": false
   },
   "outputs": [],
   "source": [
    "def cooler_tests_v2(df, column_str, df2, column_str2, general_arg):\n",
    "    return_list = []\n",
    "    for el in df2[column_str2].unique():\n",
    "        if len(df[column_str][~(df[column_str].str.contains(el)) &\n",
    "                                           (df[column_str].str.contains(general_arg))]) == 0:\n",
    "            return_list.append('If {} is supported, {} is also supported \\n'.format(general_arg, el))\n",
    "            if len(df[column_str][~(df[column_str].str.contains(general_arg)) &\n",
    "                                               (df[column_str].str.contains(el))]) == 0:\n",
    "                return_list.append('If {} is supported, {} is also supported \\n'.format(el, general_arg))\n",
    "            else: return_list.append('Need to separate {} & {}\\n'.format(el, general_arg))\n",
    "        else:\n",
    "            return_list.append('Need to separate {} & {}\\n'.format(general_arg, el))\n",
    "            if len(df[column_str][~(df[column_str].str.contains(general_arg)) &\n",
    "                                               (df[column_str].str.contains(el))]) == 0:\n",
    "                return_list.append('If {} is supported, {} is also supported \\n'.format(el, general_arg))\n",
    "            else:\n",
    "                return_list.append('Need to separate {} & {}\\n'.format(el, general_arg))\n",
    "    return return_list"
   ]
  },
  {
   "cell_type": "code",
   "execution_count": 45,
   "metadata": {
    "collapsed": false
   },
   "outputs": [
    {
     "name": "stdout",
     "output_type": "stream",
     "text": [
      "['AM1', 'AM4', 'LGA775', 'LGA1366', 'AM2', 'AM3', 'LGA1151', 'LGA2011']\n"
     ]
    }
   ],
   "source": [
    "#for el in list(cpu['socket'].unique()):\n",
    "    #for x in cooler_tests_v2(cooler, 'supported sockets', cpu, 'socket', 'AM1'):\n",
    "        #print x\n",
    "        \n",
    "#AM1, AM4, LGA775, LGA1366 have no equal\n",
    "#LGA1151, LGA1150, LGA1155, LGA1156 are interchangeable\n",
    "#AM3, AM3+, FM2+, FM2 are interchangeable\n",
    "#LGA2011, LGA2011-3 are interchangeable\n",
    "#If AM2+-AM3 is supported, everything is supported\n",
    "\n",
    "unique_sockets = ['AM1', 'AM4', 'LGA775', 'LGA1366', 'AM2', 'AM3', 'LGA1151', 'LGA2011']\n",
    "print unique_sockets"
   ]
  },
  {
   "cell_type": "markdown",
   "metadata": {},
   "source": [
    "### Key result: can now grab compatible coolers from cpu filtering"
   ]
  },
  {
   "cell_type": "code",
   "execution_count": 46,
   "metadata": {
    "collapsed": false
   },
   "outputs": [
    {
     "name": "stdout",
     "output_type": "stream",
     "text": [
      "LGA775 socket for chosen CPU\n",
      "\n",
      "\n",
      "compatible sockets for chosen cooler: \n",
      " AM2-AM2+-AM3-AM3+-AM4-FM1-FM2-FM2+-LGA1150-LGA1151-LGA1155-LGA1156-LGA1366-LGA2011-LGA2011-3-LGA775\n"
     ]
    }
   ],
   "source": [
    "def socket_filter(socket):\n",
    "    return [True if re.search(socket, x) else False for x in cooler['supported sockets']]\n",
    "\n",
    "print '{} socket for chosen CPU'.format(cpu['socket'][203])\n",
    "print '\\n'\n",
    "print 'compatible sockets for chosen cooler: \\n{}'.format(cooler['supported sockets'][socket_filter(cpu['socket'][203])][1])"
   ]
  },
  {
   "cell_type": "code",
   "execution_count": 47,
   "metadata": {
    "collapsed": false
   },
   "outputs": [
    {
     "data": {
      "text/html": [
       "<div>\n",
       "<table border=\"1\" class=\"dataframe\">\n",
       "  <thead>\n",
       "    <tr style=\"text-align: right;\">\n",
       "      <th></th>\n",
       "      <th>manufacturer</th>\n",
       "      <th>part #</th>\n",
       "      <th>model</th>\n",
       "      <th>height</th>\n",
       "      <th>prod_type</th>\n",
       "      <th>rating_val</th>\n",
       "      <th>rating_n</th>\n",
       "      <th>prod_name</th>\n",
       "      <th>prod_price</th>\n",
       "      <th>radiator size</th>\n",
       "      <th>noise level</th>\n",
       "      <th>supported sockets</th>\n",
       "      <th>fan rpm</th>\n",
       "      <th>liquid cooled</th>\n",
       "      <th>numeric height</th>\n",
       "      <th>numeric size</th>\n",
       "      <th>noise level min</th>\n",
       "      <th>noise level max</th>\n",
       "      <th>fan rpm min</th>\n",
       "      <th>fan rpm max</th>\n",
       "    </tr>\n",
       "  </thead>\n",
       "  <tbody>\n",
       "    <tr>\n",
       "      <th>1</th>\n",
       "      <td>Cooler Master</td>\n",
       "      <td>RR-212E-20PK-R2</td>\n",
       "      <td>Hyper 212 EVO</td>\n",
       "      <td>6.26\"\" (159mm)</td>\n",
       "      <td>CPU Cooler</td>\n",
       "      <td>4.6</td>\n",
       "      <td>1234</td>\n",
       "      <td>Cooler Master Hyper 212 EVO 82.9 CFM Sleeve Be...</td>\n",
       "      <td>24.87</td>\n",
       "      <td></td>\n",
       "      <td>9.0 - 36.0 dbA</td>\n",
       "      <td>AM2-AM2+-AM3-AM3+-AM4-FM1-FM2-FM2+-LGA1150-LG...</td>\n",
       "      <td>600 - 2000 RPM</td>\n",
       "      <td>False</td>\n",
       "      <td>6.26</td>\n",
       "      <td>0</td>\n",
       "      <td>9.0</td>\n",
       "      <td>36.0</td>\n",
       "      <td>600</td>\n",
       "      <td>2000</td>\n",
       "    </tr>\n",
       "  </tbody>\n",
       "</table>\n",
       "</div>"
      ],
      "text/plain": [
       "    manufacturer           part #          model           height   prod_type  \\\n",
       "1  Cooler Master  RR-212E-20PK-R2  Hyper 212 EVO   6.26\"\" (159mm)  CPU Cooler   \n",
       "\n",
       "   rating_val  rating_n                                          prod_name  \\\n",
       "1         4.6      1234  Cooler Master Hyper 212 EVO 82.9 CFM Sleeve Be...   \n",
       "\n",
       "   prod_price radiator size      noise level  \\\n",
       "1       24.87                 9.0 - 36.0 dbA   \n",
       "\n",
       "                                   supported sockets          fan rpm  \\\n",
       "1   AM2-AM2+-AM3-AM3+-AM4-FM1-FM2-FM2+-LGA1150-LG...   600 - 2000 RPM   \n",
       "\n",
       "  liquid cooled  numeric height  numeric size  noise level min  \\\n",
       "1         False            6.26             0              9.0   \n",
       "\n",
       "   noise level max  fan rpm min  fan rpm max  \n",
       "1             36.0          600         2000  "
      ]
     },
     "execution_count": 47,
     "metadata": {},
     "output_type": "execute_result"
    }
   ],
   "source": [
    "cooler.head(1)"
   ]
  },
  {
   "cell_type": "markdown",
   "metadata": {},
   "source": [
    "# GPU dataframe cleaning and organizing"
   ]
  },
  {
   "cell_type": "markdown",
   "metadata": {},
   "source": [
    "## 1. GPU specs with respect to rating and price"
   ]
  },
  {
   "cell_type": "code",
   "execution_count": 48,
   "metadata": {
    "collapsed": false
   },
   "outputs": [
    {
     "name": "stdout",
     "output_type": "stream",
     "text": [
      "Index([u'manufacturer', u'part #', u'model', u'interface', u'chipset',\n",
      "       u'sli support', u'memory size', u'memory type', u'crossfire support',\n",
      "       u'core clock', u'boost clock', u'dvi-d dual-link', u'dvi-i dual-link',\n",
      "       u'hdmi', u'mini-hdmi', u'displayport', u'length', u'tdp',\n",
      "       u'supports g-sync', u'prod_type', u'rating_val', u'rating_n',\n",
      "       u'prod_name', u'prod_price'],\n",
      "      dtype='object')\n"
     ]
    }
   ],
   "source": [
    "print gpu.columns"
   ]
  },
  {
   "cell_type": "code",
   "execution_count": 49,
   "metadata": {
    "collapsed": false
   },
   "outputs": [
    {
     "data": {
      "text/plain": [
       "<seaborn.axisgrid.PairGrid at 0x11ba7fad0>"
      ]
     },
     "execution_count": 49,
     "metadata": {},
     "output_type": "execute_result"
    },
    {
     "data": {
      "image/png": "[encoded data removed]",
      "text/plain": [
       "<matplotlib.figure.Figure at 0x11bb02c10>"
      ]
     },
     "metadata": {},
     "output_type": "display_data"
    }
   ],
   "source": [
    "gpu_filter = gpu[gpu['memory size'].isin(['12GB', '11GB', '8GB', '6GB'])]\n",
    "g = sns.PairGrid(gpu_filter[['rating_n', 'rating_val', 'prod_price', 'memory size']], hue='memory size', palette='Set2')\n",
    "g.map_diag(plt.hist)\n",
    "g.map_offdiag(plt.scatter)\n",
    "g.add_legend()"
   ]
  },
  {
   "cell_type": "code",
   "execution_count": 50,
   "metadata": {
    "collapsed": false
   },
   "outputs": [
    {
     "data": {
      "text/plain": [
       "<seaborn.axisgrid.JointGrid at 0x11b7bc190>"
      ]
     },
     "execution_count": 50,
     "metadata": {},
     "output_type": "execute_result"
    },
    {
     "data": {
      "image/png": "[encoded data removed]",
      "text/plain": [
       "<matplotlib.figure.Figure at 0x11b7bc810>"
      ]
     },
     "metadata": {},
     "output_type": "display_data"
    }
   ],
   "source": [
    "gpu_filter = gpu[gpu['rating_n'] > 3]\n",
    "sns.jointplot(gpu_filter['rating_val'], gpu_filter['prod_price'])"
   ]
  },
  {
   "cell_type": "code",
   "execution_count": 51,
   "metadata": {
    "collapsed": false
   },
   "outputs": [
    {
     "name": "stderr",
     "output_type": "stream",
     "text": [
      "/Users/samo/anaconda/lib/python2.7/site-packages/numpy/lib/function_base.py:583: RuntimeWarning: invalid value encountered in greater_equal\n",
      "  keep = (tmp_a >= mn)\n",
      "/Users/samo/anaconda/lib/python2.7/site-packages/numpy/lib/function_base.py:584: RuntimeWarning: invalid value encountered in less_equal\n",
      "  keep &= (tmp_a <= mx)\n"
     ]
    },
    {
     "data": {
      "text/plain": [
       "<seaborn.axisgrid.PairGrid at 0x119ba7390>"
      ]
     },
     "execution_count": 51,
     "metadata": {},
     "output_type": "execute_result"
    },
    {
     "data": {
      "image/png": "[encoded data removed]",
      "text/plain": [
       "<matplotlib.figure.Figure at 0x11d4cc050>"
      ]
     },
     "metadata": {},
     "output_type": "display_data"
    }
   ],
   "source": [
    "gpu_filter = gpu[gpu['rating_n'] > 3]\n",
    "g = sns.PairGrid(gpu_filter[['rating_val', 'prod_price', 'sli support', 'crossfire support']], hue='sli support', palette='Set2')\n",
    "g.map_diag(plt.hist)\n",
    "g.map_offdiag(plt.scatter)\n",
    "g.add_legend()"
   ]
  },
  {
   "cell_type": "markdown",
   "metadata": {},
   "source": [
    "## 2. Determine interesting/restrictive values for GPUs"
   ]
  },
  {
   "cell_type": "code",
   "execution_count": 52,
   "metadata": {
    "collapsed": false
   },
   "outputs": [
    {
     "name": "stdout",
     "output_type": "stream",
     "text": [
      "tdp unique values: ['120 Watts' '75 Watts' '150 Watts' '170 Watts' '180 Watts' '250 Watts'\n",
      " '215 Watts' '60 Watts' '225 Watts' '270 Watts' '145 Watts' '230 Watts'\n",
      " '30 Watts' '19 Watts' '29 Watts' '165 Watts' '55 Watts' '190 Watts'\n",
      " '90 Watts' '100 Watts' '65 Watts' '175 Watts' '142 Watts' '110 Watts'\n",
      " '27 Watts' '300 Watts' '140 Watts' '275 Watts' '20 Watts' '66 Watts'\n",
      " '195 Watts' '200 Watts' '15 Watts' '49 Watts' '130 Watts' '210 Watts']\n",
      "memory type unique values: ['GDDR5' 'GDDR5X' 'DDR3' 'HBM' 'DDR2' 'DDR5']\n",
      "sli support unique values: ['No' 'Yes' '4-way SLI' '3-way SLI']\n",
      "crossfire support unique values: ['No' 'Yes' '4-way CrossFire']\n",
      "supports g-sync unique values: ['Yes' 0]\n"
     ]
    }
   ],
   "source": [
    "for el in ['tdp', 'memory type', 'sli support', 'crossfire support', 'supports g-sync']:\n",
    "    print '{} unique values: {}'.format(el, gpu[el].unique())"
   ]
  },
  {
   "cell_type": "code",
   "execution_count": 53,
   "metadata": {
    "collapsed": true
   },
   "outputs": [],
   "source": [
    "#Need to rescrape html for 'supports freesync' if we want to use g-sync info"
   ]
  },
  {
   "cell_type": "markdown",
   "metadata": {},
   "source": [
    "## 3. Cleaning values into proper numeric form where necessary"
   ]
  },
  {
   "cell_type": "code",
   "execution_count": 54,
   "metadata": {
    "collapsed": false
   },
   "outputs": [],
   "source": [
    "#TDP is related to energy used under load\n",
    "tdp_vals = [int(re.search('([0-9]{2,3})', gpu['tdp'][x]).group(1)) for x in range(1, gpu.shape[0]+1)]\n",
    "gpu['tdp'] = tdp_vals"
   ]
  },
  {
   "cell_type": "code",
   "execution_count": 55,
   "metadata": {
    "collapsed": false
   },
   "outputs": [],
   "source": [
    "#Length is in inches, need to strip out unnecessary parts\n",
    "gpu['length'] = size_to_num(gpu, 'length')"
   ]
  },
  {
   "cell_type": "code",
   "execution_count": 438,
   "metadata": {
    "collapsed": false
   },
   "outputs": [],
   "source": [
    "#Convert from text to number of gpus allowed (sli or crossfire) and store the max of the two numbers\n",
    "gpu['max gpus'] = map(lambda x: max([x[0],x[1]]),\n",
    "                      zip(sli_cross_num(gpu, 'sli support'),\n",
    "                          sli_cross_num(gpu, 'crossfire support')))"
   ]
  },
  {
   "cell_type": "code",
   "execution_count": 57,
   "metadata": {
    "collapsed": false
   },
   "outputs": [
    {
     "data": {
      "text/plain": [
       "array(['PCI-Express x16'], dtype=object)"
      ]
     },
     "execution_count": 57,
     "metadata": {},
     "output_type": "execute_result"
    }
   ],
   "source": [
    "gpu['interface'].unique()"
   ]
  },
  {
   "cell_type": "code",
   "execution_count": 441,
   "metadata": {
    "collapsed": false
   },
   "outputs": [
    {
     "data": {
      "text/html": [
       "<div>\n",
       "<table border=\"1\" class=\"dataframe\">\n",
       "  <thead>\n",
       "    <tr style=\"text-align: right;\">\n",
       "      <th></th>\n",
       "      <th>length</th>\n",
       "      <th>tdp</th>\n",
       "      <th>max gpus</th>\n",
       "    </tr>\n",
       "  </thead>\n",
       "  <tbody>\n",
       "    <tr>\n",
       "      <th>1</th>\n",
       "      <td>10.91</td>\n",
       "      <td>120</td>\n",
       "      <td>1</td>\n",
       "    </tr>\n",
       "    <tr>\n",
       "      <th>2</th>\n",
       "      <td>9.02</td>\n",
       "      <td>75</td>\n",
       "      <td>1</td>\n",
       "    </tr>\n",
       "    <tr>\n",
       "      <th>3</th>\n",
       "      <td>11.73</td>\n",
       "      <td>150</td>\n",
       "      <td>2</td>\n",
       "    </tr>\n",
       "    <tr>\n",
       "      <th>4</th>\n",
       "      <td>6.81</td>\n",
       "      <td>120</td>\n",
       "      <td>1</td>\n",
       "    </tr>\n",
       "    <tr>\n",
       "      <th>5</th>\n",
       "      <td>5.71</td>\n",
       "      <td>75</td>\n",
       "      <td>1</td>\n",
       "    </tr>\n",
       "  </tbody>\n",
       "</table>\n",
       "</div>"
      ],
      "text/plain": [
       "   length  tdp  max gpus\n",
       "1   10.91  120         1\n",
       "2    9.02   75         1\n",
       "3   11.73  150         2\n",
       "4    6.81  120         1\n",
       "5    5.71   75         1"
      ]
     },
     "execution_count": 441,
     "metadata": {},
     "output_type": "execute_result"
    }
   ],
   "source": [
    "gpu[['length','tdp', 'max gpus']].head()"
   ]
  },
  {
   "cell_type": "markdown",
   "metadata": {},
   "source": [
    "# Memory dataframe cleaning and organizing"
   ]
  },
  {
   "cell_type": "markdown",
   "metadata": {},
   "source": [
    "## 1. Memory specs with respect to rating and price"
   ]
  },
  {
   "cell_type": "code",
   "execution_count": 59,
   "metadata": {
    "collapsed": false
   },
   "outputs": [
    {
     "name": "stdout",
     "output_type": "stream",
     "text": [
      "Index([u'color', u'manufacturer', u'part #', u'type', u'price/gb', u'speed',\n",
      "       u'size', u'cas latency', u'voltage', u'heat spreader', u'ecc',\n",
      "       u'registered', u'prod_type', u'rating_val', u'rating_n', u'prod_name',\n",
      "       u'prod_price'],\n",
      "      dtype='object')\n"
     ]
    }
   ],
   "source": [
    "print memory.columns"
   ]
  },
  {
   "cell_type": "code",
   "execution_count": 60,
   "metadata": {
    "collapsed": false
   },
   "outputs": [
    {
     "data": {
      "image/png": "[encoded data removed]",
      "text/plain": [
       "<matplotlib.figure.Figure at 0x11d68c350>"
      ]
     },
     "metadata": {},
     "output_type": "display_data"
    }
   ],
   "source": [
    "memory_filter = memory[memory['rating_n']>1]\n",
    "g = sns.jointplot(memory_filter['rating_val'], memory_filter['prod_price'])"
   ]
  },
  {
   "cell_type": "markdown",
   "metadata": {},
   "source": [
    "### Quick strip of dollar sign from price/gb column"
   ]
  },
  {
   "cell_type": "code",
   "execution_count": 61,
   "metadata": {
    "collapsed": false
   },
   "outputs": [
    {
     "name": "stdout",
     "output_type": "stream",
     "text": [
      "     price/gb dollars price/gb\n",
      "199              7.25    $7.25\n",
      "200              8.12    $8.12\n"
     ]
    }
   ],
   "source": [
    "memory['price/gb dollars'] = [float(re.search('\\$([0-9]{1,4}\\.[0-9]+)', x).group(1)) for x in memory['price/gb']]\n",
    "print memory[['price/gb dollars', 'price/gb']].tail(2)\n"
   ]
  },
  {
   "cell_type": "code",
   "execution_count": 62,
   "metadata": {
    "collapsed": false
   },
   "outputs": [
    {
     "data": {
      "image/png": "[encoded data removed]",
      "text/plain": [
       "<matplotlib.figure.Figure at 0x11d6b6f90>"
      ]
     },
     "metadata": {},
     "output_type": "display_data"
    }
   ],
   "source": [
    "memory_filter = memory[memory['rating_n']>1]\n",
    "g = sns.jointplot(memory_filter['rating_val'], memory_filter['price/gb dollars'])"
   ]
  },
  {
   "cell_type": "markdown",
   "metadata": {},
   "source": [
    "## 2. Cleaning values for compatibility: memory"
   ]
  },
  {
   "cell_type": "code",
   "execution_count": 63,
   "metadata": {
    "collapsed": false
   },
   "outputs": [
    {
     "data": {
      "text/plain": [
       "array(['DDR3-1333', 'DDR3-2133', 'DDR3-1600', 'DDR4-2133', 'DDR4-2666',\n",
       "       'DDR4-2400', 'DDR4-3200', 'DDR3-1866', 'DDR4-2800', 'DDR3-2400',\n",
       "       'DDR2-667', 'DDR4-3000', 'DDR4-3333', 'DDR2-800', 'DDR3-2666'], dtype=object)"
      ]
     },
     "execution_count": 63,
     "metadata": {},
     "output_type": "execute_result"
    }
   ],
   "source": [
    "#Speed is already good for motherboard compatibility check\n",
    "memory['speed'].unique()"
   ]
  },
  {
   "cell_type": "markdown",
   "metadata": {},
   "source": [
    "### Motherboard only contains 240-pin DIMM and 288-pin DIMM: make numeric then filter"
   ]
  },
  {
   "cell_type": "code",
   "execution_count": 64,
   "metadata": {
    "collapsed": false
   },
   "outputs": [
    {
     "name": "stdout",
     "output_type": "stream",
     "text": [
      "['240-pin DIMM' '288-pin DIMM' '260-pin SODIMM' '204-pin SODIMM']\n"
     ]
    }
   ],
   "source": [
    "#Find unique values of memory type\n",
    "print memory['type'].unique()"
   ]
  },
  {
   "cell_type": "code",
   "execution_count": 65,
   "metadata": {
    "collapsed": false
   },
   "outputs": [
    {
     "name": "stdout",
     "output_type": "stream",
     "text": [
      "           type  mem type\n",
      "1  240-pin DIMM       240\n",
      "2  240-pin DIMM       240\n",
      "3  240-pin DIMM       240\n"
     ]
    }
   ],
   "source": [
    "#Create new column with numeric values of the type column for easy filtering\n",
    "memory['mem type'] = [int(re.search('([0-9]{3,})', x).group(1)) for x in memory['type']]\n",
    "print memory[['type', 'mem type']].head(3)"
   ]
  },
  {
   "cell_type": "code",
   "execution_count": 66,
   "metadata": {
    "collapsed": false
   },
   "outputs": [
    {
     "name": "stdout",
     "output_type": "stream",
     "text": [
      "['240-pin DIMM' '288-pin DIMM']\n"
     ]
    }
   ],
   "source": [
    "#Filter out columns that are not 240 or 288 pin\n",
    "memory = memory[memory['mem type'].isin([240, 288])]\n",
    "print memory['type'].unique()"
   ]
  },
  {
   "cell_type": "markdown",
   "metadata": {},
   "source": [
    "# Motherboard dataframe cleaning and organizing"
   ]
  },
  {
   "cell_type": "markdown",
   "metadata": {},
   "source": [
    "## 1. Motherboard specs with respect to rating and price"
   ]
  },
  {
   "cell_type": "code",
   "execution_count": 67,
   "metadata": {
    "collapsed": false
   },
   "outputs": [
    {
     "name": "stdout",
     "output_type": "stream",
     "text": [
      "Index([u'manufacturer', u'part #', u'model', u'maximum supported memory',\n",
      "       u'form factor', u'chipset', u'sli support', u'memory type',\n",
      "       u'crossfire support', u'cpu socket', u'memory slots', u'raid support',\n",
      "       u'sata 6 gb/s', u'sata express', u'onboard ethernet',\n",
      "       u'onboard usb 3.0 header(s)', u'u.2', u'onboard video', u'prod_type',\n",
      "       u'rating_val', u'rating_n', u'prod_name', u'prod_price'],\n",
      "      dtype='object')\n"
     ]
    }
   ],
   "source": [
    "print motherboard.columns"
   ]
  },
  {
   "cell_type": "code",
   "execution_count": 68,
   "metadata": {
    "collapsed": false
   },
   "outputs": [],
   "source": [
    "#Found out NaN price value that slipped through earlier filtering\n",
    "motherboard = motherboard[~motherboard['prod_price'][[x != 0 for x in motherboard['prod_price']]].isnull()]"
   ]
  },
  {
   "cell_type": "code",
   "execution_count": 69,
   "metadata": {
    "collapsed": false
   },
   "outputs": [
    {
     "data": {
      "text/plain": [
       "<seaborn.axisgrid.FacetGrid at 0x11becb890>"
      ]
     },
     "execution_count": 69,
     "metadata": {},
     "output_type": "execute_result"
    },
    {
     "data": {
      "image/png": "[encoded data removed]",
      "text/plain": [
       "<matplotlib.figure.Figure at 0x11e5d5350>"
      ]
     },
     "metadata": {},
     "output_type": "display_data"
    }
   ],
   "source": [
    "mobo_filtern = motherboard[motherboard['rating_n'] > 3]\n",
    "sns.lmplot(\"rating_val\", \"prod_price\", mobo_filtern, hue=\"sli support\",\n",
    "           palette={\"Yes\": \"b\", \"No\": \"r\", \"3-way SLI\": \"g\", \"4-way SLI\": \"y\"})"
   ]
  },
  {
   "cell_type": "code",
   "execution_count": 70,
   "metadata": {
    "collapsed": false
   },
   "outputs": [
    {
     "data": {
      "text/plain": [
       "<seaborn.axisgrid.FacetGrid at 0x11e5f2810>"
      ]
     },
     "execution_count": 70,
     "metadata": {},
     "output_type": "execute_result"
    },
    {
     "data": {
      "image/png": "[encoded data removed]",
      "text/plain": [
       "<matplotlib.figure.Figure at 0x11e64d450>"
      ]
     },
     "metadata": {},
     "output_type": "display_data"
    }
   ],
   "source": [
    "mobo_filtern = motherboard[motherboard['rating_n'] > 3]\n",
    "sns.lmplot(\"rating_val\", \"prod_price\", mobo_filtern, hue=\"crossfire support\", palette={\"Yes\": \"b\", \"No\": \"r\"})"
   ]
  },
  {
   "cell_type": "markdown",
   "metadata": {},
   "source": [
    "## 2. Determine interesting/restrictive values for Motherboards"
   ]
  },
  {
   "cell_type": "code",
   "execution_count": 71,
   "metadata": {
    "collapsed": false
   },
   "outputs": [
    {
     "name": "stdout",
     "output_type": "stream",
     "text": [
      "                                         memory type form factor  \\\n",
      "1  DDR4-2133 / 2400 / 2666 / 2800 / 3000 / 3200 /...         ATX   \n",
      "2       DDR4-1866 / 2133 / 2400 / 2666 / 2933 / 3200   Micro ATX   \n",
      "3                                          DDR4-2133   Micro ATX   \n",
      "4              DDR4-2133 / 2400 / 2800 / 3000 / 3200         ATX   \n",
      "5                                   DDR4-2133 / 2400   Micro ATX   \n",
      "\n",
      "  maximum supported memory sli support crossfire support cpu socket  \\\n",
      "1                     64GB         Yes               Yes    LGA1151   \n",
      "2                     32GB          No                No        AM4   \n",
      "3                     64GB          No                No    LGA1151   \n",
      "4                     64GB         Yes               Yes    LGA1151   \n",
      "5                     64GB          No                No    LGA1151   \n",
      "\n",
      "  raid support      onboard ethernet      memory slots  \n",
      "1          Yes  1 x 10/100/1000 Mbps  4 x 288-pin DIMM  \n",
      "2          Yes  1 x 10/100/1000 Mbps  2 x 288-pin DIMM  \n",
      "3           No  1 x 10/100/1000 Mbps  4 x 288-pin DIMM  \n",
      "4          Yes  1 x 10/100/1000 Mbps  4 x 288-pin DIMM  \n",
      "5           No  1 x 10/100/1000 Mbps  4 x 288-pin DIMM  \n"
     ]
    }
   ],
   "source": [
    "#Print out some columns of interest:\n",
    "print motherboard[['memory type', 'form factor',\n",
    "                   'maximum supported memory', 'sli support',\n",
    "                   'crossfire support', 'cpu socket',\n",
    "                   'raid support', 'onboard ethernet',\n",
    "                   'memory slots']].head()"
   ]
  },
  {
   "cell_type": "markdown",
   "metadata": {},
   "source": [
    "### Form factor (motherboard-case compatibility)"
   ]
  },
  {
   "cell_type": "code",
   "execution_count": 72,
   "metadata": {
    "collapsed": false
   },
   "outputs": [
    {
     "name": "stdout",
     "output_type": "stream",
     "text": [
      "Unique values of \"form factor\" column from mobo:\n",
      "['ATX' 'Micro ATX' 'Mini ITX' 'EATX' 'SSI EEB']\n",
      "\n",
      "Boolean columns from case dataframe:\n",
      "['ATX compatibility', 'Micro ATX compatibility', 'Mini ITX compatibility', 'EATX compatibility', 'SSI EEB compatibility']\n"
     ]
    }
   ],
   "source": [
    "### We cleaned the case dataframe to make this easier!\n",
    "print 'Unique values of \"form factor\" column from mobo:\\n{}\\n'.format(motherboard['form factor'].unique())\n",
    "print 'Boolean columns from case dataframe:\\n{}'.format(list(case.columns)[-6:-1])"
   ]
  },
  {
   "cell_type": "code",
   "execution_count": 73,
   "metadata": {
    "collapsed": false
   },
   "outputs": [
    {
     "name": "stdout",
     "output_type": "stream",
     "text": [
      "\n",
      "Type of mother board:\n",
      "EATX\n",
      "\n",
      "Subset of cases that are compatible:\n",
      "                                            prod_name  \\\n",
      "10                   Corsair 750D ATX Full Tower Case   \n",
      "18            Corsair Carbide 400C ATX Mid Tower Case   \n",
      "20                Inwin 909 BLACK ATX Full Tower Case   \n",
      "22  Phanteks ECLIPSE P400 TEMPERED GLASS ATX Mid T...   \n",
      "27           Phanteks ECLIPSE P400 ATX Mid Tower Case   \n",
      "\n",
      "             motherboard compatibility  \n",
      "10  ATX-EATX-Micro ATX-Mini ITX-XL ATX  \n",
      "18         ATX-EATX-Micro ATX-Mini ITX  \n",
      "20         ATX-EATX-Micro ATX-Mini ITX  \n",
      "22         ATX-EATX-Micro ATX-Mini ITX  \n",
      "27         ATX-EATX-Micro ATX-Mini ITX  \n"
     ]
    }
   ],
   "source": [
    "#Example filtering usage:\n",
    "print '\\nType of mother board:\\n{}\\n'.format(motherboard['form factor'][200])\n",
    "print 'Subset of cases that are compatible:\\n{}'.format(case[['prod_name', 'motherboard compatibility']][case['{} compatibility'.format(motherboard['form factor'][200])]].head())"
   ]
  },
  {
   "cell_type": "markdown",
   "metadata": {},
   "source": [
    "### Max memory (RAM): just need to strip GB from values"
   ]
  },
  {
   "cell_type": "code",
   "execution_count": 74,
   "metadata": {
    "collapsed": false
   },
   "outputs": [
    {
     "name": "stdout",
     "output_type": "stream",
     "text": [
      "Unique values of \"maximum supported memory\" column:\n",
      "['64GB' '32GB' '128GB' '16GB' '1TB' '512GB' '8GB']\n",
      "\n",
      "Unique values of \"max mem int\" (converted) column:\n",
      "[  64   32  128   16 1024  512    8]\n",
      "\n"
     ]
    }
   ],
   "source": [
    "print 'Unique values of \"maximum supported memory\" column:\\n{}\\n'.format(motherboard['maximum supported memory'].unique())\n",
    "\n",
    "#Look for GB and TB identifier, store the number value in the first group; store the unit in the second/third group\n",
    "mobo_mem = [re.search('([0-9]+)(GB)?(TB)?', x) for x in motherboard['maximum supported memory']]\n",
    "\n",
    "#Multiply by the appropriate conversion\n",
    "motherboard['max mem int'] = [int(x.group(1))*2**10 if x.group(3)=='TB' else int(x.group(1)) for x in mobo_mem]\n",
    "\n",
    "print 'Unique values of \"max mem int\" (converted) column:\\n{}\\n'.format(motherboard['max mem int'].unique())"
   ]
  },
  {
   "cell_type": "markdown",
   "metadata": {},
   "source": [
    "### Extract useful information from the onboard ethernet column"
   ]
  },
  {
   "cell_type": "code",
   "execution_count": 75,
   "metadata": {
    "collapsed": false
   },
   "outputs": [
    {
     "name": "stdout",
     "output_type": "stream",
     "text": [
      "Unique values of \"onboard ethernet\" column:\n",
      "['1 x 10/100/1000 Mbps' '2 x 10/100/1000 Mbps' '1 x 10/100 Mbps'\n",
      " '4 x 10/100/1000 Mbps']\n",
      "\n",
      "\n",
      "1 x 10/100/1000 Mbps\n",
      "['1', '1000']\n",
      "\n",
      "\n",
      "1 x 10/100 Mbps\n",
      "['1', '100']\n"
     ]
    }
   ],
   "source": [
    "#The slashed values for this column actually indicate a range. The max value is all that's needed in practice\n",
    "## The number of ports is also useful\n",
    "print 'Unique values of \"onboard ethernet\" column:\\n{}\\n\\n'.format(motherboard['onboard ethernet'].unique())\n",
    "\n",
    "#Grab all of the values in the column\n",
    "ethernet_list = [re.search('([0-9]) x ([0-9]*/)+([0-9]*) Mbps', x) for x in motherboard['onboard ethernet']]\n",
    "\n",
    "#Example 1: standard 3 element slash\n",
    "#Show all of the elements\n",
    "print ethernet_list[1].group(0)\n",
    "#Show the elements of interest\n",
    "print [ethernet_list[1].group(1), ethernet_list[1].group(3)]\n",
    "print '\\n'\n",
    "\n",
    "#Example 2: short onboard ethernet list\n",
    "#Show all of the elements\n",
    "print ethernet_list[82].group(0)\n",
    "#Show the elements of interest\n",
    "print [ethernet_list[82].group(1), ethernet_list[82].group(3)]"
   ]
  },
  {
   "cell_type": "code",
   "execution_count": 76,
   "metadata": {
    "collapsed": false
   },
   "outputs": [
    {
     "name": "stdout",
     "output_type": "stream",
     "text": [
      "Unique values for number of ports:\n",
      "[1 2 4]\n",
      "\n",
      "Unique values for speed limit, ethernet port:\n",
      "[1000  100]\n",
      "\n"
     ]
    }
   ],
   "source": [
    "#Assign these values to the dataframe:\n",
    "### First, get the number of ports\n",
    "motherboard['ethernet port n'] = [int(x.group(1)) for x in ethernet_list]\n",
    "\n",
    "print 'Unique values for number of ports:\\n{}\\n'.format(motherboard['ethernet port n'].unique())\n",
    "\n",
    "### Next, assign the max value for ethernet speed\n",
    "motherboard['ethernet port lim'] = [int(x.group(3)) for x in ethernet_list]\n",
    "\n",
    "print 'Unique values for speed limit, ethernet port:\\n{}\\n'.format(motherboard['ethernet port lim'].unique())"
   ]
  },
  {
   "cell_type": "markdown",
   "metadata": {},
   "source": [
    "### Extract number of CPUs and socket type allowed on MOBO"
   ]
  },
  {
   "cell_type": "code",
   "execution_count": 121,
   "metadata": {
    "collapsed": false
   },
   "outputs": [
    {
     "name": "stdout",
     "output_type": "stream",
     "text": [
      "Unique values of \"cpu socket\" column:\n",
      "['LGA1151' 'AM4' 'AM3+' 'LGA2011-3' 'FM2+' 'LGA1150' 'AM3+/AM3' 'LGA1155'\n",
      " '2 x LGA2011-3' 'AM1' 'LGA2011-3 Narrow' '2 x LGA2011' 'FM2' 'AM3' 'FM1']\n",
      "\n",
      "Unique values of \"cpu socket n\" column:\n",
      "[1 2]\n",
      "\n"
     ]
    }
   ],
   "source": [
    "print 'Unique values of \"cpu socket\" column:\\n{}\\n'.format(motherboard['cpu socket'].unique())\n",
    "\n",
    "#Search for required CPU-MOBO compatibility elements\n",
    "mobo_cpu = [re.search('([0-9]+)?( x )?([A-Z]{1,3}[0-9]{1,4}\\+?-?3?)', x) for x in motherboard['cpu socket']]\n",
    "\n",
    "#Grab the number of supported CPUs per mobo\n",
    "motherboard['cpu socket n'] = [1 if x.group(1) == None else int(x.group(1)) for x in mobo_cpu]\n",
    "print 'Unique values of \"cpu socket n\" column:\\n{}\\n'.format(motherboard['cpu socket n'].unique())"
   ]
  },
  {
   "cell_type": "code",
   "execution_count": 122,
   "metadata": {
    "collapsed": false
   },
   "outputs": [
    {
     "name": "stdout",
     "output_type": "stream",
     "text": [
      "Unique values of \"cpu socket type\" column:\n",
      "['LGA1151' 'AM4' 'AM3+' 'LGA2011-3' 'FM2+' 'LGA1150' 'LGA1155' 'AM1'\n",
      " 'LGA2011' 'FM2' 'AM3' 'FM1']\n",
      "\n"
     ]
    }
   ],
   "source": [
    "#Grab the type of supported CPUs for each mobo\n",
    "motherboard['cpu socket type'] = [x.group(3) for x in mobo_cpu]\n",
    "print 'Unique values of \"cpu socket type\" column:\\n{}\\n'.format(motherboard['cpu socket type'].unique())"
   ]
  },
  {
   "cell_type": "code",
   "execution_count": 80,
   "metadata": {
    "collapsed": false
   },
   "outputs": [
    {
     "name": "stdout",
     "output_type": "stream",
     "text": [
      "['LGA1151' 'AM4' 'AM3+' 'LGA2011-3' 'FM2+' 'LGA1150' 'LGA775' 'LGA1155'\n",
      " 'FM2' 'AM2+-AM3' 'LGA2011' 'AM1' 'LGA1156' 'LGA1366' 'AM3']\n"
     ]
    }
   ],
   "source": [
    "#For reference, here's the available socket types from the cpu dataframe\n",
    "### These are strict compatibility requirements:\n",
    "##### 1. must exactly match LGAs\n",
    "##### 2. an AM or FM mobo with a + can handle both + and normal types\n",
    "####### e.g. AM2+ mobo can handle AM2 or AM2+ cpu\n",
    "print cpu['socket'].unique()"
   ]
  },
  {
   "cell_type": "code",
   "execution_count": 208,
   "metadata": {
    "collapsed": false
   },
   "outputs": [
    {
     "data": {
      "text/html": [
       "<div>\n",
       "<table border=\"1\" class=\"dataframe\">\n",
       "  <thead>\n",
       "    <tr style=\"text-align: right;\">\n",
       "      <th></th>\n",
       "      <th>manufacturer</th>\n",
       "      <th>part #</th>\n",
       "      <th>model</th>\n",
       "      <th>maximum supported memory</th>\n",
       "      <th>form factor</th>\n",
       "      <th>chipset</th>\n",
       "      <th>sli support</th>\n",
       "      <th>memory type</th>\n",
       "      <th>crossfire support</th>\n",
       "      <th>cpu socket</th>\n",
       "      <th>...</th>\n",
       "      <th>prod_type</th>\n",
       "      <th>rating_val</th>\n",
       "      <th>rating_n</th>\n",
       "      <th>prod_name</th>\n",
       "      <th>prod_price</th>\n",
       "      <th>max mem int</th>\n",
       "      <th>ethernet port n</th>\n",
       "      <th>ethernet port lim</th>\n",
       "      <th>cpu socket n</th>\n",
       "      <th>cpu socket type</th>\n",
       "    </tr>\n",
       "  </thead>\n",
       "  <tbody>\n",
       "    <tr>\n",
       "      <th>436</th>\n",
       "      <td>Asus</td>\n",
       "      <td>M4A88TD-M/USB3</td>\n",
       "      <td>0</td>\n",
       "      <td>16GB</td>\n",
       "      <td>Micro ATX</td>\n",
       "      <td>AMD 880G</td>\n",
       "      <td>No</td>\n",
       "      <td>DDR3-1066 / 1333 / 1600 / 2000</td>\n",
       "      <td>Yes</td>\n",
       "      <td>AM3</td>\n",
       "      <td>...</td>\n",
       "      <td>Motherboard</td>\n",
       "      <td>5.0</td>\n",
       "      <td>1</td>\n",
       "      <td>Asus M4A88TD-M/USB3 Micro ATX AM3 Motherboard</td>\n",
       "      <td>125.25</td>\n",
       "      <td>16</td>\n",
       "      <td>1</td>\n",
       "      <td>1000</td>\n",
       "      <td>1</td>\n",
       "      <td>AM3</td>\n",
       "    </tr>\n",
       "  </tbody>\n",
       "</table>\n",
       "<p>1 rows × 28 columns</p>\n",
       "</div>"
      ],
      "text/plain": [
       "    manufacturer          part # model maximum supported memory form factor  \\\n",
       "436         Asus  M4A88TD-M/USB3     0                     16GB   Micro ATX   \n",
       "\n",
       "      chipset sli support                     memory type crossfire support  \\\n",
       "436  AMD 880G          No  DDR3-1066 / 1333 / 1600 / 2000               Yes   \n",
       "\n",
       "    cpu socket       ...           prod_type rating_val  rating_n  \\\n",
       "436        AM3       ...         Motherboard        5.0         1   \n",
       "\n",
       "                                         prod_name prod_price max mem int  \\\n",
       "436  Asus M4A88TD-M/USB3 Micro ATX AM3 Motherboard     125.25          16   \n",
       "\n",
       "     ethernet port n ethernet port lim cpu socket n  cpu socket type  \n",
       "436                1              1000            1              AM3  \n",
       "\n",
       "[1 rows x 28 columns]"
      ]
     },
     "execution_count": 208,
     "metadata": {},
     "output_type": "execute_result"
    }
   ],
   "source": [
    "def mobo_cpu_socket_bool(socket):\n",
    "    if socket == 'AM2+-AM3':\n",
    "        return motherboard['cpu socket type'] == 'AM3'\n",
    "    else:\n",
    "        x = re.search('([A-Z]{1,3}[0-9]{1,4}\\+?-?3?)', socket)\n",
    "        return motherboard['cpu socket type'] == x.group(0)\n",
    "\n",
    "motherboard[mobo_cpu_socket_bool('AM2+-AM3')]"
   ]
  },
  {
   "cell_type": "markdown",
   "metadata": {},
   "source": [
    "### Separate memory column in motherboard database into format and speed"
   ]
  },
  {
   "cell_type": "code",
   "execution_count": 222,
   "metadata": {
    "collapsed": false
   },
   "outputs": [
    {
     "name": "stdout",
     "output_type": "stream",
     "text": [
      "5 values from \"memory type\" column:\n",
      "11                              DDR4-2133 / 2400 / 2666\n",
      "12    DDR4-2133 / 2400 / 2666 / 2800 / 3000 / 3200 /...\n",
      "13    DDR4-2133 / 2400 / 2666 / 2800 / 3000 / 3200 /...\n",
      "14                                            DDR4-2133\n",
      "15                DDR4-2133 / 2400 / 2666 / 2933 / 3200\n",
      "16                DDR3-1066 / 1333 / 1600 / 1866 / 2133\n",
      "Name: memory type, dtype: object\n",
      "\n"
     ]
    }
   ],
   "source": [
    "# There is no overlap between DDR3 and DDR4 compatibility\n",
    "print '5 values from \"memory type\" column:\\n{}\\n'.format(motherboard['memory type'][10:16])"
   ]
  },
  {
   "cell_type": "code",
   "execution_count": 393,
   "metadata": {
    "collapsed": false
   },
   "outputs": [
    {
     "data": {
      "text/html": [
       "<div>\n",
       "<table border=\"1\" class=\"dataframe\">\n",
       "  <thead>\n",
       "    <tr style=\"text-align: right;\">\n",
       "      <th></th>\n",
       "      <th>DDR type</th>\n",
       "      <th>memory type</th>\n",
       "    </tr>\n",
       "  </thead>\n",
       "  <tbody>\n",
       "    <tr>\n",
       "      <th>1</th>\n",
       "      <td>4</td>\n",
       "      <td>DDR4-2133 / 2400 / 2666 / 2800 / 3000 / 3200 /...</td>\n",
       "    </tr>\n",
       "    <tr>\n",
       "      <th>2</th>\n",
       "      <td>4</td>\n",
       "      <td>DDR4-1866 / 2133 / 2400 / 2666 / 2933 / 3200</td>\n",
       "    </tr>\n",
       "  </tbody>\n",
       "</table>\n",
       "</div>"
      ],
      "text/plain": [
       "   DDR type                                        memory type\n",
       "1         4  DDR4-2133 / 2400 / 2666 / 2800 / 3000 / 3200 /...\n",
       "2         4       DDR4-1866 / 2133 / 2400 / 2666 / 2933 / 3200"
      ]
     },
     "execution_count": 393,
     "metadata": {},
     "output_type": "execute_result"
    }
   ],
   "source": [
    "### Getting the type is very easy (search for DDR# where # is what we want)\n",
    "motherboard['DDR type'] = [int(re.search('^DDR([234])', x).group(1)) for x in motherboard['memory type']]\n",
    "# We're half way done:\n",
    "motherboard[['DDR type', 'memory type']].head(2)"
   ]
  },
  {
   "cell_type": "code",
   "execution_count": 352,
   "metadata": {
    "collapsed": false
   },
   "outputs": [
    {
     "name": "stdout",
     "output_type": "stream",
     "text": [
      "2     DDR3-2133\n",
      "3     DDR3-1600\n",
      "4     DDR4-2133\n",
      "5     DDR4-2666\n",
      "6     DDR4-2666\n",
      "7     DDR4-2400\n",
      "8     DDR3-1600\n",
      "9     DDR4-3200\n",
      "10    DDR3-1600\n",
      "Name: speed, dtype: object\n"
     ]
    }
   ],
   "source": [
    "# Now work on extracting the speed compatibility\n",
    "# Here is what the input will be\n",
    "print memory['speed'][1:10]"
   ]
  },
  {
   "cell_type": "code",
   "execution_count": 392,
   "metadata": {
    "collapsed": false
   },
   "outputs": [
    {
     "data": {
      "text/html": [
       "<div>\n",
       "<table border=\"1\" class=\"dataframe\">\n",
       "  <thead>\n",
       "    <tr style=\"text-align: right;\">\n",
       "      <th></th>\n",
       "      <th>manufacturer</th>\n",
       "      <th>part #</th>\n",
       "      <th>model</th>\n",
       "      <th>maximum supported memory</th>\n",
       "      <th>form factor</th>\n",
       "      <th>chipset</th>\n",
       "      <th>sli support</th>\n",
       "      <th>memory type</th>\n",
       "      <th>crossfire support</th>\n",
       "      <th>cpu socket</th>\n",
       "      <th>...</th>\n",
       "      <th>rating_val</th>\n",
       "      <th>rating_n</th>\n",
       "      <th>prod_name</th>\n",
       "      <th>prod_price</th>\n",
       "      <th>max mem int</th>\n",
       "      <th>ethernet port n</th>\n",
       "      <th>ethernet port lim</th>\n",
       "      <th>cpu socket n</th>\n",
       "      <th>cpu socket type</th>\n",
       "      <th>DDR type</th>\n",
       "    </tr>\n",
       "  </thead>\n",
       "  <tbody>\n",
       "    <tr>\n",
       "      <th>89</th>\n",
       "      <td>Asus</td>\n",
       "      <td>Z10PE-D16 WS</td>\n",
       "      <td>0</td>\n",
       "      <td>1TB</td>\n",
       "      <td>SSI EEB</td>\n",
       "      <td>Intel C612</td>\n",
       "      <td>3-way SLI</td>\n",
       "      <td>DDR4-1600 / 1866 / 2133 / 2400</td>\n",
       "      <td>Yes</td>\n",
       "      <td>2 x LGA2011-3</td>\n",
       "      <td>...</td>\n",
       "      <td>5.0</td>\n",
       "      <td>1</td>\n",
       "      <td>Asus Z10PE-D16 WS SSI EEB Dual-CPU LGA2011-3 M...</td>\n",
       "      <td>461.98</td>\n",
       "      <td>1024</td>\n",
       "      <td>2</td>\n",
       "      <td>1000</td>\n",
       "      <td>2</td>\n",
       "      <td>LGA2011-3</td>\n",
       "      <td>4</td>\n",
       "    </tr>\n",
       "    <tr>\n",
       "      <th>121</th>\n",
       "      <td>Supermicro</td>\n",
       "      <td>MBD-X10DAX</td>\n",
       "      <td>0</td>\n",
       "      <td>1TB</td>\n",
       "      <td>EATX</td>\n",
       "      <td>Intel C612</td>\n",
       "      <td>3-way SLI</td>\n",
       "      <td>DDR4-1600 / 1866 / 2133 / 2400</td>\n",
       "      <td>Yes</td>\n",
       "      <td>2 x LGA2011-3</td>\n",
       "      <td>...</td>\n",
       "      <td>5.0</td>\n",
       "      <td>1</td>\n",
       "      <td>Supermicro MBD-X10DAX EATX Dual-CPU LGA2011-3 ...</td>\n",
       "      <td>439.71</td>\n",
       "      <td>1024</td>\n",
       "      <td>2</td>\n",
       "      <td>1000</td>\n",
       "      <td>2</td>\n",
       "      <td>LGA2011-3</td>\n",
       "      <td>4</td>\n",
       "    </tr>\n",
       "    <tr>\n",
       "      <th>143</th>\n",
       "      <td>ASRock</td>\n",
       "      <td>X99X Killer</td>\n",
       "      <td>Fatal1ty X99X Killer</td>\n",
       "      <td>128GB</td>\n",
       "      <td>ATX</td>\n",
       "      <td>Intel X99</td>\n",
       "      <td>3-way SLI</td>\n",
       "      <td>DDR4-1600 / 1866 / 2133 / 2400 / 2666 / 2800 /...</td>\n",
       "      <td>Yes</td>\n",
       "      <td>LGA2011-3</td>\n",
       "      <td>...</td>\n",
       "      <td>5.0</td>\n",
       "      <td>6</td>\n",
       "      <td>ASRock Fatal1ty X99X Killer ATX LGA2011-3 Moth...</td>\n",
       "      <td>226.97</td>\n",
       "      <td>128</td>\n",
       "      <td>2</td>\n",
       "      <td>1000</td>\n",
       "      <td>1</td>\n",
       "      <td>LGA2011-3</td>\n",
       "      <td>4</td>\n",
       "    </tr>\n",
       "  </tbody>\n",
       "</table>\n",
       "<p>3 rows × 29 columns</p>\n",
       "</div>"
      ],
      "text/plain": [
       "    manufacturer        part #                 model maximum supported memory  \\\n",
       "89          Asus  Z10PE-D16 WS                     0                      1TB   \n",
       "121   Supermicro    MBD-X10DAX                     0                      1TB   \n",
       "143       ASRock   X99X Killer  Fatal1ty X99X Killer                    128GB   \n",
       "\n",
       "    form factor     chipset sli support  \\\n",
       "89      SSI EEB  Intel C612   3-way SLI   \n",
       "121        EATX  Intel C612   3-way SLI   \n",
       "143         ATX   Intel X99   3-way SLI   \n",
       "\n",
       "                                           memory type crossfire support  \\\n",
       "89                      DDR4-1600 / 1866 / 2133 / 2400               Yes   \n",
       "121                     DDR4-1600 / 1866 / 2133 / 2400               Yes   \n",
       "143  DDR4-1600 / 1866 / 2133 / 2400 / 2666 / 2800 /...               Yes   \n",
       "\n",
       "        cpu socket    ...    rating_val rating_n  \\\n",
       "89   2 x LGA2011-3    ...           5.0        1   \n",
       "121  2 x LGA2011-3    ...           5.0        1   \n",
       "143      LGA2011-3    ...           5.0        6   \n",
       "\n",
       "                                             prod_name  prod_price  \\\n",
       "89   Asus Z10PE-D16 WS SSI EEB Dual-CPU LGA2011-3 M...      461.98   \n",
       "121  Supermicro MBD-X10DAX EATX Dual-CPU LGA2011-3 ...      439.71   \n",
       "143  ASRock Fatal1ty X99X Killer ATX LGA2011-3 Moth...      226.97   \n",
       "\n",
       "    max mem int ethernet port n  ethernet port lim cpu socket n  \\\n",
       "89         1024               2               1000            2   \n",
       "121        1024               2               1000            2   \n",
       "143         128               2               1000            1   \n",
       "\n",
       "    cpu socket type  DDR type  \n",
       "89        LGA2011-3         4  \n",
       "121       LGA2011-3         4  \n",
       "143       LGA2011-3         4  \n",
       "\n",
       "[3 rows x 29 columns]"
      ]
     },
     "execution_count": 392,
     "metadata": {},
     "output_type": "execute_result"
    }
   ],
   "source": [
    "#Take in RAM speed, type and output compatible mobos:\n",
    "def mobo_ram_compatibility(mem_speed):\n",
    "    mem_type = int(re.search('^DDR([234])', mem_speed).group(1))\n",
    "    temp_bool_type = [mem_type == x for x in motherboard['DDR type']]\n",
    "    \n",
    "    mem_n = re.search('([0-9]{2,4})', mem_speed).group(1)\n",
    "    temp_bool_n = [(mem_n in x) for x in motherboard['memory type']]\n",
    "    return ([a and b for a, b in zip(temp_bool_type, temp_bool_n)])\n",
    "\n",
    "#Example usage with specific speed (from memory['speed'])\n",
    "motherboard[mobo_ram_compatibility('DDR4-1600')].head(3)"
   ]
  },
  {
   "cell_type": "code",
   "execution_count": 404,
   "metadata": {
    "collapsed": false
   },
   "outputs": [
    {
     "name": "stdout",
     "output_type": "stream",
     "text": [
      "Type of first four memory sticks\n",
      "2    DDR3-2133\n",
      "3    DDR3-1600\n",
      "4    DDR4-2133\n",
      "5    DDR4-2666\n",
      "Name: speed, dtype: object\n",
      "\n",
      "\n",
      "Number of compatible mobos for first four memory sticks:\n",
      "[79, 186, 256, 87]\n"
     ]
    }
   ],
   "source": [
    "print 'Type of first four memory sticks\\n{}'.format(memory['speed'][0:4])\n",
    "print '\\n'\n",
    "print 'Number of compatible mobos for first four memory sticks:\\n{}'.format([len(motherboard[mobo_ram_compatibility(x)]) for x in memory['speed']][0:4])"
   ]
  },
  {
   "cell_type": "markdown",
   "metadata": {},
   "source": [
    "### Convert sli and crossfire support to max numerical variable (as we did for GPU)\n",
    "\n",
    "#### Can use the function sli_cross_num for both cases"
   ]
  },
  {
   "cell_type": "code",
   "execution_count": 446,
   "metadata": {
    "collapsed": false
   },
   "outputs": [
    {
     "name": "stdout",
     "output_type": "stream",
     "text": [
      "Choices for sli support:\n",
      "['Yes' 'No' '4-way SLI' '3-way SLI']\n",
      "\n",
      "Choices for crossfire support:\n",
      "['Yes' 'No']\n"
     ]
    }
   ],
   "source": [
    "print 'Choices for sli support:\\n{}\\n'.format(motherboard['sli support'].unique())\n",
    "print 'Choices for crossfire support:\\n{}'.format(motherboard['crossfire support'].unique())"
   ]
  },
  {
   "cell_type": "code",
   "execution_count": 457,
   "metadata": {
    "collapsed": false
   },
   "outputs": [
    {
     "data": {
      "text/html": [
       "<div>\n",
       "<table border=\"1\" class=\"dataframe\">\n",
       "  <thead>\n",
       "    <tr style=\"text-align: right;\">\n",
       "      <th></th>\n",
       "      <th>max gpus</th>\n",
       "      <th>crossfire support</th>\n",
       "      <th>sli support</th>\n",
       "    </tr>\n",
       "  </thead>\n",
       "  <tbody>\n",
       "    <tr>\n",
       "      <th>22</th>\n",
       "      <td>4</td>\n",
       "      <td>Yes</td>\n",
       "      <td>4-way SLI</td>\n",
       "    </tr>\n",
       "    <tr>\n",
       "      <th>23</th>\n",
       "      <td>2</td>\n",
       "      <td>Yes</td>\n",
       "      <td>Yes</td>\n",
       "    </tr>\n",
       "    <tr>\n",
       "      <th>24</th>\n",
       "      <td>2</td>\n",
       "      <td>Yes</td>\n",
       "      <td>No</td>\n",
       "    </tr>\n",
       "    <tr>\n",
       "      <th>25</th>\n",
       "      <td>2</td>\n",
       "      <td>Yes</td>\n",
       "      <td>Yes</td>\n",
       "    </tr>\n",
       "    <tr>\n",
       "      <th>26</th>\n",
       "      <td>1</td>\n",
       "      <td>No</td>\n",
       "      <td>No</td>\n",
       "    </tr>\n",
       "  </tbody>\n",
       "</table>\n",
       "</div>"
      ],
      "text/plain": [
       "    max gpus crossfire support sli support\n",
       "22         4               Yes   4-way SLI\n",
       "23         2               Yes         Yes\n",
       "24         2               Yes          No\n",
       "25         2               Yes         Yes\n",
       "26         1                No          No"
      ]
     },
     "execution_count": 457,
     "metadata": {},
     "output_type": "execute_result"
    }
   ],
   "source": [
    "#Convert from text to number of gpus allowed (sli or crossfire) and store the max of the two numbers\n",
    "motherboard['max gpus'] = map(lambda x: max([x[0],x[1]]),\n",
    "                              zip(sli_cross_num(motherboard, 'sli support'),\n",
    "                                  sli_cross_num(motherboard, 'crossfire support')))\n",
    "\n",
    "motherboard[['max gpus', 'crossfire support', 'sli support']][21:26]"
   ]
  },
  {
   "cell_type": "markdown",
   "metadata": {},
   "source": [
    "## 3. New data analysis with updated columns"
   ]
  },
  {
   "cell_type": "code",
   "execution_count": 458,
   "metadata": {
    "collapsed": false
   },
   "outputs": [
    {
     "data": {
      "text/plain": [
       "<matplotlib.axes._subplots.AxesSubplot at 0x120d5c550>"
      ]
     },
     "execution_count": 458,
     "metadata": {},
     "output_type": "execute_result"
    },
    {
     "data": {
      "image/png": "[encoded data removed]",
      "text/plain": [
       "<matplotlib.figure.Figure at 0x11ee33fd0>"
      ]
     },
     "metadata": {},
     "output_type": "display_data"
    }
   ],
   "source": [
    "sns.heatmap(motherboard[['rating_val', 'rating_n',\n",
    "                         'DDR type', 'cpu socket n',\n",
    "                         'prod_price', 'max mem int',\n",
    "                         'memory slots', 'ethernet port n',\n",
    "                         'sata 6 gb/s', 'sata express',\n",
    "                         'onboard usb 3.0 header(s)', 'max gpus', 'u.2']].corr().round(2), annot=True)"
   ]
  },
  {
   "cell_type": "markdown",
   "metadata": {},
   "source": [
    "# PSU dataframe cleaning and organizing"
   ]
  },
  {
   "cell_type": "markdown",
   "metadata": {},
   "source": [
    "## 1. PSU rating and price plot"
   ]
  },
  {
   "cell_type": "code",
   "execution_count": 498,
   "metadata": {
    "collapsed": false
   },
   "outputs": [
    {
     "data": {
      "text/html": [
       "<div>\n",
       "<table border=\"1\" class=\"dataframe\">\n",
       "  <thead>\n",
       "    <tr style=\"text-align: right;\">\n",
       "      <th></th>\n",
       "      <th>manufacturer</th>\n",
       "      <th>part #</th>\n",
       "      <th>type</th>\n",
       "      <th>model</th>\n",
       "      <th>wattage</th>\n",
       "      <th>modular</th>\n",
       "      <th>efficiency</th>\n",
       "      <th>efficiency certification</th>\n",
       "      <th>output</th>\n",
       "      <th>pci-express 6+2-pin connectors</th>\n",
       "      <th>fans</th>\n",
       "      <th>prod_type</th>\n",
       "      <th>rating_val</th>\n",
       "      <th>rating_n</th>\n",
       "      <th>prod_name</th>\n",
       "      <th>prod_price</th>\n",
       "      <th>watt n</th>\n",
       "    </tr>\n",
       "  </thead>\n",
       "  <tbody>\n",
       "    <tr>\n",
       "      <th>1</th>\n",
       "      <td>EVGA</td>\n",
       "      <td>120-G1-0650-XR</td>\n",
       "      <td>ATX12V / EPS12V</td>\n",
       "      <td>SuperNOVA 650</td>\n",
       "      <td>650 Watts</td>\n",
       "      <td>Full</td>\n",
       "      <td>90% Typical</td>\n",
       "      <td>80+ Gold</td>\n",
       "      <td>+3.3V@25A-+5V@25A-+12V1@20A-+12V2@20A-+12V3@20...</td>\n",
       "      <td>4.0</td>\n",
       "      <td>1</td>\n",
       "      <td>Power Supply</td>\n",
       "      <td>4.7</td>\n",
       "      <td>194</td>\n",
       "      <td>EVGA SuperNOVA NEX 650W 80+ Gold Certified Ful...</td>\n",
       "      <td>74.88</td>\n",
       "      <td>650</td>\n",
       "    </tr>\n",
       "    <tr>\n",
       "      <th>2</th>\n",
       "      <td>EVGA</td>\n",
       "      <td>100-B1-0500-KR</td>\n",
       "      <td>ATX12V / EPS12V</td>\n",
       "      <td>500B</td>\n",
       "      <td>500 Watts</td>\n",
       "      <td>No</td>\n",
       "      <td>&lt; 85%</td>\n",
       "      <td>80+ Bronze</td>\n",
       "      <td>0</td>\n",
       "      <td>2.0</td>\n",
       "      <td>1</td>\n",
       "      <td>Power Supply</td>\n",
       "      <td>4.5</td>\n",
       "      <td>147</td>\n",
       "      <td>EVGA 500W 80+ Bronze Certified ATX Power Supply</td>\n",
       "      <td>36.87</td>\n",
       "      <td>500</td>\n",
       "    </tr>\n",
       "  </tbody>\n",
       "</table>\n",
       "</div>"
      ],
      "text/plain": [
       "  manufacturer          part #             type          model    wattage  \\\n",
       "1         EVGA  120-G1-0650-XR  ATX12V / EPS12V  SuperNOVA 650  650 Watts   \n",
       "2         EVGA  100-B1-0500-KR  ATX12V / EPS12V           500B  500 Watts   \n",
       "\n",
       "  modular   efficiency efficiency certification  \\\n",
       "1    Full  90% Typical                 80+ Gold   \n",
       "2      No        < 85%               80+ Bronze   \n",
       "\n",
       "                                              output  \\\n",
       "1  +3.3V@25A-+5V@25A-+12V1@20A-+12V2@20A-+12V3@20...   \n",
       "2                                                  0   \n",
       "\n",
       "   pci-express 6+2-pin connectors  fans     prod_type  rating_val  rating_n  \\\n",
       "1                             4.0     1  Power Supply         4.7       194   \n",
       "2                             2.0     1  Power Supply         4.5       147   \n",
       "\n",
       "                                           prod_name  prod_price  watt n  \n",
       "1  EVGA SuperNOVA NEX 650W 80+ Gold Certified Ful...       74.88     650  \n",
       "2    EVGA 500W 80+ Bronze Certified ATX Power Supply       36.87     500  "
      ]
     },
     "execution_count": 498,
     "metadata": {},
     "output_type": "execute_result"
    }
   ],
   "source": [
    "psu.head(2)"
   ]
  },
  {
   "cell_type": "code",
   "execution_count": 467,
   "metadata": {
    "collapsed": false
   },
   "outputs": [
    {
     "name": "stdout",
     "output_type": "stream",
     "text": [
      "Index([u'manufacturer', u'part #', u'type', u'model', u'wattage', u'modular',\n",
      "       u'efficiency', u'efficiency certification', u'output',\n",
      "       u'pci-express 6+2-pin connectors', u'fans', u'prod_type', u'rating_val',\n",
      "       u'rating_n', u'prod_name', u'prod_price'],\n",
      "      dtype='object')\n"
     ]
    }
   ],
   "source": [
    "print psu.columns"
   ]
  },
  {
   "cell_type": "code",
   "execution_count": 468,
   "metadata": {
    "collapsed": false
   },
   "outputs": [
    {
     "data": {
      "text/plain": [
       "<seaborn.axisgrid.FacetGrid at 0x11ed46110>"
      ]
     },
     "execution_count": 468,
     "metadata": {},
     "output_type": "execute_result"
    },
    {
     "data": {
      "image/png": "[encoded data removed]",
      "text/plain": [
       "<matplotlib.figure.Figure at 0x120d85550>"
      ]
     },
     "metadata": {},
     "output_type": "display_data"
    }
   ],
   "source": [
    "psu_filtern = psu[psu['rating_n'] > 3]\n",
    "sns.lmplot(\"rating_val\", \"prod_price\", psu_filtern)"
   ]
  },
  {
   "cell_type": "markdown",
   "metadata": {},
   "source": [
    "## 2. Cleaning PSU specs for use\n",
    "\n",
    "### Strip out Watts from Wattage column"
   ]
  },
  {
   "cell_type": "code",
   "execution_count": 469,
   "metadata": {
    "collapsed": false
   },
   "outputs": [
    {
     "data": {
      "text/plain": [
       "array(['650 Watts', '500 Watts', '450 Watts', '750 Watts', '850 Watts',\n",
       "       '550 Watts', '430 Watts', '520 Watts', '600 Watts', '1000 Watts',\n",
       "       '1500 Watts', '1200 Watts', '700 Watts', '620 Watts', '400 Watts',\n",
       "       '1600 Watts', '760 Watts', '860 Watts', '480 Watts', '300 Watts',\n",
       "       '1300 Watts', '350 Watts', '660 Watts', '1050 Watts', '380 Watts',\n",
       "       '530 Watts', '220 Watts', '800 Watts', '680 Watts', '1250 Watts',\n",
       "       '1475 Watts', '360 Watts', '575 Watts', '460 Watts', '585 Watts',\n",
       "       '900 Watts', '1275 Watts', '525 Watts', '250 Watts', '485 Watts',\n",
       "       '950 Watts'], dtype=object)"
      ]
     },
     "execution_count": 469,
     "metadata": {},
     "output_type": "execute_result"
    }
   ],
   "source": [
    "psu['wattage'].unique()"
   ]
  },
  {
   "cell_type": "code",
   "execution_count": 472,
   "metadata": {
    "collapsed": false
   },
   "outputs": [
    {
     "data": {
      "text/html": [
       "<div>\n",
       "<table border=\"1\" class=\"dataframe\">\n",
       "  <thead>\n",
       "    <tr style=\"text-align: right;\">\n",
       "      <th></th>\n",
       "      <th>watt n</th>\n",
       "      <th>wattage</th>\n",
       "    </tr>\n",
       "  </thead>\n",
       "  <tbody>\n",
       "    <tr>\n",
       "      <th>1</th>\n",
       "      <td>650</td>\n",
       "      <td>650 Watts</td>\n",
       "    </tr>\n",
       "    <tr>\n",
       "      <th>2</th>\n",
       "      <td>500</td>\n",
       "      <td>500 Watts</td>\n",
       "    </tr>\n",
       "    <tr>\n",
       "      <th>3</th>\n",
       "      <td>450</td>\n",
       "      <td>450 Watts</td>\n",
       "    </tr>\n",
       "  </tbody>\n",
       "</table>\n",
       "</div>"
      ],
      "text/plain": [
       "   watt n    wattage\n",
       "1     650  650 Watts\n",
       "2     500  500 Watts\n",
       "3     450  450 Watts"
      ]
     },
     "execution_count": 472,
     "metadata": {},
     "output_type": "execute_result"
    }
   ],
   "source": [
    "psu['watt n'] = [int(re.search('[0-9]{1,4}', x).group(0)) for x in psu['wattage']]\n",
    "\n",
    "psu[['watt n', 'wattage']].head(3)"
   ]
  },
  {
   "cell_type": "markdown",
   "metadata": {},
   "source": [
    "## "
   ]
  },
  {
   "cell_type": "code",
   "execution_count": 497,
   "metadata": {
    "collapsed": false
   },
   "outputs": [
    {
     "data": {
      "text/plain": [
       "2                                                     0\n",
       "3                                                     0\n",
       "4     +5V@24A +3.3V@24A +12V@62.4A<br/>-12V@0.5A +5V...\n",
       "5     +5V@24A +3.3V@24A +12V@70.8A -12V@0.5A +5Vsb@2.5A\n",
       "6                                                     0\n",
       "7                                                     0\n",
       "8                                                     0\n",
       "9     +3.3V@24A-+5V@22A-+12V@54.1A-+5VSB@3.0A--12V@0.5A\n",
       "10        +5V@20A-+3.3V@24A-+12V@49A--12V@0.3A-+5VSB@3A\n",
       "Name: output, dtype: object"
      ]
     },
     "execution_count": 497,
     "metadata": {},
     "output_type": "execute_result"
    }
   ],
   "source": [
    "print psu['output'][1:10]\n",
    "print '\\n'\n",
    "print psu['']"
   ]
  },
  {
   "cell_type": "code",
   "execution_count": 493,
   "metadata": {
    "collapsed": false
   },
   "outputs": [
    {
     "data": {
      "text/html": [
       "<div>\n",
       "<table border=\"1\" class=\"dataframe\">\n",
       "  <thead>\n",
       "    <tr style=\"text-align: right;\">\n",
       "      <th></th>\n",
       "      <th>manufacturer</th>\n",
       "      <th>part #</th>\n",
       "      <th>type</th>\n",
       "      <th>model</th>\n",
       "      <th>wattage</th>\n",
       "      <th>modular</th>\n",
       "      <th>efficiency</th>\n",
       "      <th>efficiency certification</th>\n",
       "      <th>output</th>\n",
       "      <th>pci-express 6+2-pin connectors</th>\n",
       "      <th>fans</th>\n",
       "      <th>prod_type</th>\n",
       "      <th>rating_val</th>\n",
       "      <th>rating_n</th>\n",
       "      <th>prod_name</th>\n",
       "      <th>prod_price</th>\n",
       "      <th>watt n</th>\n",
       "    </tr>\n",
       "  </thead>\n",
       "  <tbody>\n",
       "    <tr>\n",
       "      <th>7</th>\n",
       "      <td>EVGA</td>\n",
       "      <td>100-W1-0430-KR</td>\n",
       "      <td>ATX12V / EPS12V</td>\n",
       "      <td>0</td>\n",
       "      <td>430 Watts</td>\n",
       "      <td>No</td>\n",
       "      <td>0</td>\n",
       "      <td>80+</td>\n",
       "      <td>0</td>\n",
       "      <td>1.0</td>\n",
       "      <td>1</td>\n",
       "      <td>Power Supply</td>\n",
       "      <td>4.5</td>\n",
       "      <td>89</td>\n",
       "      <td>EVGA 430W 80+ Certified ATX Power Supply</td>\n",
       "      <td>29.88</td>\n",
       "      <td>430</td>\n",
       "    </tr>\n",
       "    <tr>\n",
       "      <th>15</th>\n",
       "      <td>EVGA</td>\n",
       "      <td>100-W1-0500-KR</td>\n",
       "      <td>ATX12V / EPS12V</td>\n",
       "      <td>0</td>\n",
       "      <td>500 Watts</td>\n",
       "      <td>No</td>\n",
       "      <td>0</td>\n",
       "      <td>80+</td>\n",
       "      <td>0</td>\n",
       "      <td>2.0</td>\n",
       "      <td>1</td>\n",
       "      <td>Power Supply</td>\n",
       "      <td>4.5</td>\n",
       "      <td>127</td>\n",
       "      <td>EVGA 500W 80+ Certified ATX Power Supply</td>\n",
       "      <td>32.56</td>\n",
       "      <td>500</td>\n",
       "    </tr>\n",
       "    <tr>\n",
       "      <th>40</th>\n",
       "      <td>EVGA</td>\n",
       "      <td>100-W1-0600-K1</td>\n",
       "      <td>ATX</td>\n",
       "      <td>0</td>\n",
       "      <td>600 Watts</td>\n",
       "      <td>No</td>\n",
       "      <td>0</td>\n",
       "      <td>80+</td>\n",
       "      <td>0</td>\n",
       "      <td>2.0</td>\n",
       "      <td>1</td>\n",
       "      <td>Power Supply</td>\n",
       "      <td>4.7</td>\n",
       "      <td>3</td>\n",
       "      <td>EVGA 600W 80+ Certified ATX Power Supply</td>\n",
       "      <td>42.47</td>\n",
       "      <td>600</td>\n",
       "    </tr>\n",
       "    <tr>\n",
       "      <th>59</th>\n",
       "      <td>Cooler Master</td>\n",
       "      <td>RS500-ACABB1-UK</td>\n",
       "      <td>ATX</td>\n",
       "      <td>0</td>\n",
       "      <td>500 Watts</td>\n",
       "      <td>No</td>\n",
       "      <td>0</td>\n",
       "      <td>80+</td>\n",
       "      <td>0</td>\n",
       "      <td>2.0</td>\n",
       "      <td>1</td>\n",
       "      <td>Power Supply</td>\n",
       "      <td>4.0</td>\n",
       "      <td>1</td>\n",
       "      <td>Cooler Master B500 ver.2 500W 80+ Certified AT...</td>\n",
       "      <td>NaN</td>\n",
       "      <td>500</td>\n",
       "    </tr>\n",
       "    <tr>\n",
       "      <th>136</th>\n",
       "      <td>Corsair</td>\n",
       "      <td>CMPSU-650TX</td>\n",
       "      <td>ATX12V / EPS12V</td>\n",
       "      <td>TX650</td>\n",
       "      <td>650 Watts</td>\n",
       "      <td>No</td>\n",
       "      <td>&gt; 80%</td>\n",
       "      <td>80+</td>\n",
       "      <td>+3.3V@24A-+5V@30A-+12V@52A--12V@0.8A-+5VSB@3.0A</td>\n",
       "      <td>2.0</td>\n",
       "      <td>1</td>\n",
       "      <td>Power Supply</td>\n",
       "      <td>4.5</td>\n",
       "      <td>11</td>\n",
       "      <td>Corsair Enthusiast 650W 80+ Certified ATX Powe...</td>\n",
       "      <td>99.98</td>\n",
       "      <td>650</td>\n",
       "    </tr>\n",
       "    <tr>\n",
       "      <th>155</th>\n",
       "      <td>Thermaltake</td>\n",
       "      <td>SP-530P</td>\n",
       "      <td>ATX12V</td>\n",
       "      <td>0</td>\n",
       "      <td>530 Watts</td>\n",
       "      <td>No</td>\n",
       "      <td>80%</td>\n",
       "      <td>80+</td>\n",
       "      <td>+5V@15A-+3.3V@24A-+12V@38A--12V@0.3A-+5VSB@3.0A</td>\n",
       "      <td>2.0</td>\n",
       "      <td>1</td>\n",
       "      <td>Power Supply</td>\n",
       "      <td>3.5</td>\n",
       "      <td>2</td>\n",
       "      <td>Thermaltake Smart 530W 80+ Certified ATX Power...</td>\n",
       "      <td>76.31</td>\n",
       "      <td>530</td>\n",
       "    </tr>\n",
       "    <tr>\n",
       "      <th>161</th>\n",
       "      <td>FSP Group</td>\n",
       "      <td>FSP220-60LE(80)</td>\n",
       "      <td>Mini ITX</td>\n",
       "      <td>0</td>\n",
       "      <td>220 Watts</td>\n",
       "      <td>No</td>\n",
       "      <td>80%</td>\n",
       "      <td>80+</td>\n",
       "      <td>+3.3V@14A-+5V@16A-+12V1@16A-+12V2@10A--12V@0.8...</td>\n",
       "      <td>0.0</td>\n",
       "      <td>1</td>\n",
       "      <td>Power Supply</td>\n",
       "      <td>5.0</td>\n",
       "      <td>1</td>\n",
       "      <td>FSP Group 220W 80+ Certified Mini ITX Power Su...</td>\n",
       "      <td>52.98</td>\n",
       "      <td>220</td>\n",
       "    </tr>\n",
       "    <tr>\n",
       "      <th>163</th>\n",
       "      <td>Corsair</td>\n",
       "      <td>CMPSU-400CX</td>\n",
       "      <td>ATX12V</td>\n",
       "      <td>CX400</td>\n",
       "      <td>400 Watts</td>\n",
       "      <td>No</td>\n",
       "      <td>0</td>\n",
       "      <td>80+</td>\n",
       "      <td>+3.3V@20A-+5V@20A-+12V@30A--12V@0.8A-+5VSB@2.5A</td>\n",
       "      <td>0.0</td>\n",
       "      <td>1</td>\n",
       "      <td>Power Supply</td>\n",
       "      <td>4.0</td>\n",
       "      <td>1</td>\n",
       "      <td>Corsair Builder 400W 80+ Certified ATX Power S...</td>\n",
       "      <td>59.98</td>\n",
       "      <td>400</td>\n",
       "    </tr>\n",
       "    <tr>\n",
       "      <th>164</th>\n",
       "      <td>Corsair</td>\n",
       "      <td>CMPSU-1000HX</td>\n",
       "      <td>ATX12V / EPS12V</td>\n",
       "      <td>HX1000</td>\n",
       "      <td>1000 Watts</td>\n",
       "      <td>Semi</td>\n",
       "      <td>&lt; 80%</td>\n",
       "      <td>80+</td>\n",
       "      <td>+3.3V@30A-+5V30A-+12V1@40A-+12V2@40A--12V@0.8A...</td>\n",
       "      <td>6.0</td>\n",
       "      <td>1</td>\n",
       "      <td>Power Supply</td>\n",
       "      <td>4.5</td>\n",
       "      <td>2</td>\n",
       "      <td>Corsair Professional 1000W 80+ Certified Semi-...</td>\n",
       "      <td>249.88</td>\n",
       "      <td>1000</td>\n",
       "    </tr>\n",
       "    <tr>\n",
       "      <th>165</th>\n",
       "      <td>Corsair</td>\n",
       "      <td>CMPSU-800G</td>\n",
       "      <td>ATX12V</td>\n",
       "      <td>G800</td>\n",
       "      <td>800 Watts</td>\n",
       "      <td>No</td>\n",
       "      <td>&gt; 80%</td>\n",
       "      <td>80+</td>\n",
       "      <td>+3.3V@25A-+5V@25A-+12V@65A--12V@0.8A-+5VSB@3.0A</td>\n",
       "      <td>4.0</td>\n",
       "      <td>1</td>\n",
       "      <td>Power Supply</td>\n",
       "      <td>4.5</td>\n",
       "      <td>2</td>\n",
       "      <td>Corsair Gaming 800W 80+ Certified ATX Power Su...</td>\n",
       "      <td>129.98</td>\n",
       "      <td>800</td>\n",
       "    </tr>\n",
       "    <tr>\n",
       "      <th>166</th>\n",
       "      <td>EVGA</td>\n",
       "      <td>100-W1-0600-K3</td>\n",
       "      <td>ATX</td>\n",
       "      <td>0</td>\n",
       "      <td>600 Watts</td>\n",
       "      <td>No</td>\n",
       "      <td>0</td>\n",
       "      <td>80+</td>\n",
       "      <td>0</td>\n",
       "      <td>2.0</td>\n",
       "      <td>1</td>\n",
       "      <td>Power Supply</td>\n",
       "      <td>4.1</td>\n",
       "      <td>7</td>\n",
       "      <td>EVGA 600W 80+ Certified ATX Power Supply</td>\n",
       "      <td>94.69</td>\n",
       "      <td>600</td>\n",
       "    </tr>\n",
       "    <tr>\n",
       "      <th>217</th>\n",
       "      <td>Corsair</td>\n",
       "      <td>CMPSU-700G</td>\n",
       "      <td>ATX12V</td>\n",
       "      <td>G700</td>\n",
       "      <td>700 Watts</td>\n",
       "      <td>No</td>\n",
       "      <td>&gt; 80%</td>\n",
       "      <td>80+</td>\n",
       "      <td>+3.3V@25A-+5V@25A-+12V@56A--12V@0.8A-+5VSB@3.0A</td>\n",
       "      <td>2.0</td>\n",
       "      <td>1</td>\n",
       "      <td>Power Supply</td>\n",
       "      <td>5.0</td>\n",
       "      <td>1</td>\n",
       "      <td>Corsair Gaming 700W 80+ Certified ATX Power Su...</td>\n",
       "      <td>114.98</td>\n",
       "      <td>700</td>\n",
       "    </tr>\n",
       "    <tr>\n",
       "      <th>227</th>\n",
       "      <td>Corsair</td>\n",
       "      <td>CMPSU-850TX</td>\n",
       "      <td>ATX12V / EPS12V</td>\n",
       "      <td>TX850</td>\n",
       "      <td>850 Watts</td>\n",
       "      <td>No</td>\n",
       "      <td>&gt; 80%</td>\n",
       "      <td>80+</td>\n",
       "      <td>+3.3V@30A-+5V30A-+12V@70A--12V@0.8A-+5VSB@3A</td>\n",
       "      <td>4.0</td>\n",
       "      <td>1</td>\n",
       "      <td>Power Supply</td>\n",
       "      <td>5.0</td>\n",
       "      <td>1</td>\n",
       "      <td>Corsair Enthusiast 850W 80+ Certified ATX Powe...</td>\n",
       "      <td>139.98</td>\n",
       "      <td>850</td>\n",
       "    </tr>\n",
       "    <tr>\n",
       "      <th>234</th>\n",
       "      <td>CoolMax</td>\n",
       "      <td>ZX-500</td>\n",
       "      <td>ATX12V / EPS12V</td>\n",
       "      <td>0</td>\n",
       "      <td>500 Watts</td>\n",
       "      <td>No</td>\n",
       "      <td>&lt; 80%</td>\n",
       "      <td>80+</td>\n",
       "      <td>+5V@20A-+3.3V@25A-+12V@34A--12V@0.8A-+5VSB@3A</td>\n",
       "      <td>1.0</td>\n",
       "      <td>1</td>\n",
       "      <td>Power Supply</td>\n",
       "      <td>5.0</td>\n",
       "      <td>1</td>\n",
       "      <td>CoolMax 500W 80+ Certified ATX Power Supply</td>\n",
       "      <td>38.98</td>\n",
       "      <td>500</td>\n",
       "    </tr>\n",
       "    <tr>\n",
       "      <th>263</th>\n",
       "      <td>OCZ</td>\n",
       "      <td>OCZ500MXSP</td>\n",
       "      <td>ATX12V / EPS12V</td>\n",
       "      <td>0</td>\n",
       "      <td>500 Watts</td>\n",
       "      <td>Semi</td>\n",
       "      <td>82%</td>\n",
       "      <td>80+</td>\n",
       "      <td>+3.3V@25A-+5V@25A-+12V1@18A-+12V2@18A--12V@0.3...</td>\n",
       "      <td>1.0</td>\n",
       "      <td>1</td>\n",
       "      <td>Power Supply</td>\n",
       "      <td>4.4</td>\n",
       "      <td>8</td>\n",
       "      <td>OCZ ModXStream Pro 500W 80+ Certified Semi-Mod...</td>\n",
       "      <td>88.10</td>\n",
       "      <td>500</td>\n",
       "    </tr>\n",
       "    <tr>\n",
       "      <th>269</th>\n",
       "      <td>Corsair</td>\n",
       "      <td>CMPSU-750TX</td>\n",
       "      <td>ATX12V / EPS12V</td>\n",
       "      <td>TX750</td>\n",
       "      <td>750 Watts</td>\n",
       "      <td>No</td>\n",
       "      <td>&gt; 80%</td>\n",
       "      <td>80+</td>\n",
       "      <td>+3.3V@30A-+5V@28A-+12V@60A--12V@0.8A-+5VSB@3.0A</td>\n",
       "      <td>4.0</td>\n",
       "      <td>1</td>\n",
       "      <td>Power Supply</td>\n",
       "      <td>4.5</td>\n",
       "      <td>10</td>\n",
       "      <td>Corsair Enthusiast 750W 80+ Certified ATX Powe...</td>\n",
       "      <td>119.98</td>\n",
       "      <td>750</td>\n",
       "    </tr>\n",
       "    <tr>\n",
       "      <th>276</th>\n",
       "      <td>Antec</td>\n",
       "      <td>BP550 Plus</td>\n",
       "      <td>ATX12V</td>\n",
       "      <td>0</td>\n",
       "      <td>550 Watts</td>\n",
       "      <td>Semi</td>\n",
       "      <td>&lt; 85%</td>\n",
       "      <td>80+</td>\n",
       "      <td>+3.3V@28A-+5V@26A-+12V1@22A-+12V2@22A-+12V3@25...</td>\n",
       "      <td>1.0</td>\n",
       "      <td>1</td>\n",
       "      <td>Power Supply</td>\n",
       "      <td>4.5</td>\n",
       "      <td>13</td>\n",
       "      <td>Antec Basiq Plus 550W 80+ Certified Semi-Modul...</td>\n",
       "      <td>119.98</td>\n",
       "      <td>550</td>\n",
       "    </tr>\n",
       "    <tr>\n",
       "      <th>291</th>\n",
       "      <td>Antec</td>\n",
       "      <td>BP430</td>\n",
       "      <td>ATX12V</td>\n",
       "      <td>0</td>\n",
       "      <td>430 Watts</td>\n",
       "      <td>No</td>\n",
       "      <td>0</td>\n",
       "      <td>80+</td>\n",
       "      <td>+3.3V@20A-+5V@20A-+12V1@17A-+12V2@16A--12V@0.8...</td>\n",
       "      <td>0.0</td>\n",
       "      <td>1</td>\n",
       "      <td>Power Supply</td>\n",
       "      <td>4.0</td>\n",
       "      <td>1</td>\n",
       "      <td>Antec Basiq 430W 80+ Certified ATX Power Supply</td>\n",
       "      <td>36.83</td>\n",
       "      <td>430</td>\n",
       "    </tr>\n",
       "    <tr>\n",
       "      <th>297</th>\n",
       "      <td>Corsair</td>\n",
       "      <td>CMPSU-600G</td>\n",
       "      <td>ATX12V</td>\n",
       "      <td>G600</td>\n",
       "      <td>600 Watts</td>\n",
       "      <td>No</td>\n",
       "      <td>&gt; 80%</td>\n",
       "      <td>80+</td>\n",
       "      <td>+3.3V@25A-+5V@25A-+12V@48A--12V@0.8A-+5VSB@3.0A</td>\n",
       "      <td>2.0</td>\n",
       "      <td>1</td>\n",
       "      <td>Power Supply</td>\n",
       "      <td>4.0</td>\n",
       "      <td>2</td>\n",
       "      <td>Corsair Gaming 600W 80+ Certified ATX Power Su...</td>\n",
       "      <td>99.98</td>\n",
       "      <td>600</td>\n",
       "    </tr>\n",
       "    <tr>\n",
       "      <th>315</th>\n",
       "      <td>Silverstone</td>\n",
       "      <td>ST60F-ES</td>\n",
       "      <td>ATX12V / EPS12V</td>\n",
       "      <td>0</td>\n",
       "      <td>600 Watts</td>\n",
       "      <td>No</td>\n",
       "      <td>&gt; 80%</td>\n",
       "      <td>80+</td>\n",
       "      <td>+3.3V@25A-+5V@25A-+12V1@42A-+5VSB@2.5A--12V@0.3A</td>\n",
       "      <td>1.0</td>\n",
       "      <td>1</td>\n",
       "      <td>Power Supply</td>\n",
       "      <td>4.3</td>\n",
       "      <td>3</td>\n",
       "      <td>Silverstone Strider Essential 600W 80+ Certifi...</td>\n",
       "      <td>149.94</td>\n",
       "      <td>600</td>\n",
       "    </tr>\n",
       "    <tr>\n",
       "      <th>330</th>\n",
       "      <td>CoolMax</td>\n",
       "      <td>ZX-700</td>\n",
       "      <td>ATX12V / EPS12V</td>\n",
       "      <td>0</td>\n",
       "      <td>700 Watts</td>\n",
       "      <td>No</td>\n",
       "      <td>&lt; 80%</td>\n",
       "      <td>80+</td>\n",
       "      <td>+5V@25A-+3.3V@25A-+12V@56A--12V@0.8A-+5VSB@3A</td>\n",
       "      <td>1.0</td>\n",
       "      <td>1</td>\n",
       "      <td>Power Supply</td>\n",
       "      <td>4.0</td>\n",
       "      <td>3</td>\n",
       "      <td>CoolMax 700W 80+ Certified ATX Power Supply</td>\n",
       "      <td>48.98</td>\n",
       "      <td>700</td>\n",
       "    </tr>\n",
       "    <tr>\n",
       "      <th>335</th>\n",
       "      <td>CoolMax</td>\n",
       "      <td>ZX-600</td>\n",
       "      <td>ATX12V / EPS12V</td>\n",
       "      <td>0</td>\n",
       "      <td>600 Watts</td>\n",
       "      <td>No</td>\n",
       "      <td>&lt; 80%</td>\n",
       "      <td>80+</td>\n",
       "      <td>+5V@25A-+3.3V@25A-+12V@40A--12V@0.8A-+5VSB@3A</td>\n",
       "      <td>1.0</td>\n",
       "      <td>1</td>\n",
       "      <td>Power Supply</td>\n",
       "      <td>2.5</td>\n",
       "      <td>2</td>\n",
       "      <td>CoolMax 600W 80+ Certified ATX Power Supply</td>\n",
       "      <td>45.98</td>\n",
       "      <td>600</td>\n",
       "    </tr>\n",
       "  </tbody>\n",
       "</table>\n",
       "</div>"
      ],
      "text/plain": [
       "      manufacturer           part #             type   model     wattage  \\\n",
       "7             EVGA   100-W1-0430-KR  ATX12V / EPS12V       0   430 Watts   \n",
       "15            EVGA   100-W1-0500-KR  ATX12V / EPS12V       0   500 Watts   \n",
       "40            EVGA   100-W1-0600-K1              ATX       0   600 Watts   \n",
       "59   Cooler Master  RS500-ACABB1-UK              ATX       0   500 Watts   \n",
       "136        Corsair      CMPSU-650TX  ATX12V / EPS12V   TX650   650 Watts   \n",
       "155    Thermaltake          SP-530P           ATX12V       0   530 Watts   \n",
       "161      FSP Group  FSP220-60LE(80)         Mini ITX       0   220 Watts   \n",
       "163        Corsair      CMPSU-400CX           ATX12V   CX400   400 Watts   \n",
       "164        Corsair     CMPSU-1000HX  ATX12V / EPS12V  HX1000  1000 Watts   \n",
       "165        Corsair       CMPSU-800G           ATX12V    G800   800 Watts   \n",
       "166           EVGA   100-W1-0600-K3              ATX       0   600 Watts   \n",
       "217        Corsair       CMPSU-700G           ATX12V    G700   700 Watts   \n",
       "227        Corsair      CMPSU-850TX  ATX12V / EPS12V   TX850   850 Watts   \n",
       "234        CoolMax           ZX-500  ATX12V / EPS12V       0   500 Watts   \n",
       "263            OCZ       OCZ500MXSP  ATX12V / EPS12V       0   500 Watts   \n",
       "269        Corsair      CMPSU-750TX  ATX12V / EPS12V   TX750   750 Watts   \n",
       "276          Antec       BP550 Plus           ATX12V       0   550 Watts   \n",
       "291          Antec            BP430           ATX12V       0   430 Watts   \n",
       "297        Corsair       CMPSU-600G           ATX12V    G600   600 Watts   \n",
       "315    Silverstone         ST60F-ES  ATX12V / EPS12V       0   600 Watts   \n",
       "330        CoolMax           ZX-700  ATX12V / EPS12V       0   700 Watts   \n",
       "335        CoolMax           ZX-600  ATX12V / EPS12V       0   600 Watts   \n",
       "\n",
       "    modular efficiency efficiency certification  \\\n",
       "7        No          0                      80+   \n",
       "15       No          0                      80+   \n",
       "40       No          0                      80+   \n",
       "59       No          0                      80+   \n",
       "136      No      > 80%                      80+   \n",
       "155      No        80%                      80+   \n",
       "161      No        80%                      80+   \n",
       "163      No          0                      80+   \n",
       "164    Semi      < 80%                      80+   \n",
       "165      No      > 80%                      80+   \n",
       "166      No          0                      80+   \n",
       "217      No      > 80%                      80+   \n",
       "227      No      > 80%                      80+   \n",
       "234      No      < 80%                      80+   \n",
       "263    Semi        82%                      80+   \n",
       "269      No      > 80%                      80+   \n",
       "276    Semi      < 85%                      80+   \n",
       "291      No          0                      80+   \n",
       "297      No      > 80%                      80+   \n",
       "315      No      > 80%                      80+   \n",
       "330      No      < 80%                      80+   \n",
       "335      No      < 80%                      80+   \n",
       "\n",
       "                                                output  \\\n",
       "7                                                    0   \n",
       "15                                                   0   \n",
       "40                                                   0   \n",
       "59                                                   0   \n",
       "136    +3.3V@24A-+5V@30A-+12V@52A--12V@0.8A-+5VSB@3.0A   \n",
       "155    +5V@15A-+3.3V@24A-+12V@38A--12V@0.3A-+5VSB@3.0A   \n",
       "161  +3.3V@14A-+5V@16A-+12V1@16A-+12V2@10A--12V@0.8...   \n",
       "163    +3.3V@20A-+5V@20A-+12V@30A--12V@0.8A-+5VSB@2.5A   \n",
       "164  +3.3V@30A-+5V30A-+12V1@40A-+12V2@40A--12V@0.8A...   \n",
       "165    +3.3V@25A-+5V@25A-+12V@65A--12V@0.8A-+5VSB@3.0A   \n",
       "166                                                  0   \n",
       "217    +3.3V@25A-+5V@25A-+12V@56A--12V@0.8A-+5VSB@3.0A   \n",
       "227       +3.3V@30A-+5V30A-+12V@70A--12V@0.8A-+5VSB@3A   \n",
       "234      +5V@20A-+3.3V@25A-+12V@34A--12V@0.8A-+5VSB@3A   \n",
       "263  +3.3V@25A-+5V@25A-+12V1@18A-+12V2@18A--12V@0.3...   \n",
       "269    +3.3V@30A-+5V@28A-+12V@60A--12V@0.8A-+5VSB@3.0A   \n",
       "276  +3.3V@28A-+5V@26A-+12V1@22A-+12V2@22A-+12V3@25...   \n",
       "291  +3.3V@20A-+5V@20A-+12V1@17A-+12V2@16A--12V@0.8...   \n",
       "297    +3.3V@25A-+5V@25A-+12V@48A--12V@0.8A-+5VSB@3.0A   \n",
       "315   +3.3V@25A-+5V@25A-+12V1@42A-+5VSB@2.5A--12V@0.3A   \n",
       "330      +5V@25A-+3.3V@25A-+12V@56A--12V@0.8A-+5VSB@3A   \n",
       "335      +5V@25A-+3.3V@25A-+12V@40A--12V@0.8A-+5VSB@3A   \n",
       "\n",
       "     pci-express 6+2-pin connectors  fans     prod_type  rating_val  rating_n  \\\n",
       "7                               1.0     1  Power Supply         4.5        89   \n",
       "15                              2.0     1  Power Supply         4.5       127   \n",
       "40                              2.0     1  Power Supply         4.7         3   \n",
       "59                              2.0     1  Power Supply         4.0         1   \n",
       "136                             2.0     1  Power Supply         4.5        11   \n",
       "155                             2.0     1  Power Supply         3.5         2   \n",
       "161                             0.0     1  Power Supply         5.0         1   \n",
       "163                             0.0     1  Power Supply         4.0         1   \n",
       "164                             6.0     1  Power Supply         4.5         2   \n",
       "165                             4.0     1  Power Supply         4.5         2   \n",
       "166                             2.0     1  Power Supply         4.1         7   \n",
       "217                             2.0     1  Power Supply         5.0         1   \n",
       "227                             4.0     1  Power Supply         5.0         1   \n",
       "234                             1.0     1  Power Supply         5.0         1   \n",
       "263                             1.0     1  Power Supply         4.4         8   \n",
       "269                             4.0     1  Power Supply         4.5        10   \n",
       "276                             1.0     1  Power Supply         4.5        13   \n",
       "291                             0.0     1  Power Supply         4.0         1   \n",
       "297                             2.0     1  Power Supply         4.0         2   \n",
       "315                             1.0     1  Power Supply         4.3         3   \n",
       "330                             1.0     1  Power Supply         4.0         3   \n",
       "335                             1.0     1  Power Supply         2.5         2   \n",
       "\n",
       "                                             prod_name  prod_price  watt n  \n",
       "7             EVGA 430W 80+ Certified ATX Power Supply       29.88     430  \n",
       "15            EVGA 500W 80+ Certified ATX Power Supply       32.56     500  \n",
       "40            EVGA 600W 80+ Certified ATX Power Supply       42.47     600  \n",
       "59   Cooler Master B500 ver.2 500W 80+ Certified AT...         NaN     500  \n",
       "136  Corsair Enthusiast 650W 80+ Certified ATX Powe...       99.98     650  \n",
       "155  Thermaltake Smart 530W 80+ Certified ATX Power...       76.31     530  \n",
       "161  FSP Group 220W 80+ Certified Mini ITX Power Su...       52.98     220  \n",
       "163  Corsair Builder 400W 80+ Certified ATX Power S...       59.98     400  \n",
       "164  Corsair Professional 1000W 80+ Certified Semi-...      249.88    1000  \n",
       "165  Corsair Gaming 800W 80+ Certified ATX Power Su...      129.98     800  \n",
       "166           EVGA 600W 80+ Certified ATX Power Supply       94.69     600  \n",
       "217  Corsair Gaming 700W 80+ Certified ATX Power Su...      114.98     700  \n",
       "227  Corsair Enthusiast 850W 80+ Certified ATX Powe...      139.98     850  \n",
       "234        CoolMax 500W 80+ Certified ATX Power Supply       38.98     500  \n",
       "263  OCZ ModXStream Pro 500W 80+ Certified Semi-Mod...       88.10     500  \n",
       "269  Corsair Enthusiast 750W 80+ Certified ATX Powe...      119.98     750  \n",
       "276  Antec Basiq Plus 550W 80+ Certified Semi-Modul...      119.98     550  \n",
       "291    Antec Basiq 430W 80+ Certified ATX Power Supply       36.83     430  \n",
       "297  Corsair Gaming 600W 80+ Certified ATX Power Su...       99.98     600  \n",
       "315  Silverstone Strider Essential 600W 80+ Certifi...      149.94     600  \n",
       "330        CoolMax 700W 80+ Certified ATX Power Supply       48.98     700  \n",
       "335        CoolMax 600W 80+ Certified ATX Power Supply       45.98     600  "
      ]
     },
     "execution_count": 493,
     "metadata": {},
     "output_type": "execute_result"
    }
   ],
   "source": []
  },
  {
   "cell_type": "markdown",
   "metadata": {},
   "source": [
    "# Final write of modified data files to csv"
   ]
  },
  {
   "cell_type": "code",
   "execution_count": null,
   "metadata": {
    "collapsed": true
   },
   "outputs": [],
   "source": [
    "#for el in ['case', 'cpu', 'cooler', 'gpu', 'memory', 'motherboard', 'psu', 'storage']\n",
    "    #eval(el).to_csv('{}{}_pd.csv'.format(file_path, el))"
   ]
  }
 ],
 "metadata": {
  "kernelspec": {
   "display_name": "Python 2",
   "language": "python",
   "name": "python2"
  },
  "language_info": {
   "codemirror_mode": {
    "name": "ipython",
    "version": 2
   },
   "file_extension": ".py",
   "mimetype": "text/x-python",
   "name": "python",
   "nbconvert_exporter": "python",
   "pygments_lexer": "ipython2",
   "version": "2.7.13"
  }
 },
 "nbformat": 4,
 "nbformat_minor": 2
}
