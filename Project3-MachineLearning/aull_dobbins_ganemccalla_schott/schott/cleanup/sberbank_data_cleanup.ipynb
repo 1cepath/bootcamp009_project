{
 "cells": [
  {
   "cell_type": "code",
   "execution_count": 2,
   "metadata": {
    "collapsed": true
   },
   "outputs": [],
   "source": [
    "import numpy as np\n",
    "import pandas as pd\n",
    "import matplotlib.pyplot as plt"
   ]
  },
  {
   "cell_type": "code",
   "execution_count": 39,
   "metadata": {},
   "outputs": [],
   "source": [
    "train = pd.read_csv('data/train_mod.csv',index_col='id', parse_dates=['timestamp'])\n",
    "test = pd.read_csv('data/test_mod.csv',index_col='id', parse_dates=['timestamp'])"
   ]
  },
  {
   "cell_type": "code",
   "execution_count": 9,
   "metadata": {
    "collapsed": true
   },
   "outputs": [],
   "source": [
    "property_features = ['timestamp', 'full_sq', 'life_sq', 'floor', \n",
    "                     'max_floor', 'material', 'build_year', 'num_room',\n",
    "                     'kitch_sq', 'state', 'product_type', 'sub_area', \n",
    "                     'price_doc']"
   ]
  },
  {
   "cell_type": "code",
   "execution_count": 25,
   "metadata": {},
   "outputs": [
    {
     "name": "stdout",
     "output_type": "stream",
     "text": [
      "area_m\n"
     ]
    },
    {
     "data": {
      "text/plain": [
       "'railroad_terminal_raion'"
      ]
     },
     "execution_count": 25,
     "metadata": {},
     "output_type": "execute_result"
    }
   ],
   "source": [
    "print train.columns[12]\n",
    "train.columns[36]"
   ]
  },
  {
   "cell_type": "code",
   "execution_count": 29,
   "metadata": {},
   "outputs": [],
   "source": [
    "train.drop(property_features, axis=1, inplace=True)"
   ]
  },
  {
   "cell_type": "code",
   "execution_count": 38,
   "metadata": {},
   "outputs": [
    {
     "data": {
      "text/plain": [
       "area_m                                   False\n",
       "raion_popul                              False\n",
       "green_zone_part                          False\n",
       "indust_part                              False\n",
       "children_preschool                       False\n",
       "preschool_quota                           True\n",
       "preschool_education_centers_raion        False\n",
       "children_school                          False\n",
       "school_quota                              True\n",
       "school_education_centers_raion           False\n",
       "school_education_centers_top_20_raion    False\n",
       "hospital_beds_raion                       True\n",
       "healthcare_centers_raion                 False\n",
       "university_top_20_raion                  False\n",
       "sport_objects_raion                      False\n",
       "additional_education_raion               False\n",
       "culture_objects_top_25                   False\n",
       "culture_objects_top_25_raion             False\n",
       "shopping_centers_raion                   False\n",
       "office_raion                             False\n",
       "thermal_power_plant_raion                False\n",
       "incineration_raion                       False\n",
       "oil_chemistry_raion                      False\n",
       "radiation_raion                          False\n",
       "railroad_terminal_raion                  False\n",
       "big_market_raion                         False\n",
       "nuclear_reactor_raion                    False\n",
       "detention_facility_raion                 False\n",
       "full_all                                 False\n",
       "male_f                                   False\n",
       "                                         ...  \n",
       "church_count_3000                        False\n",
       "mosque_count_3000                        False\n",
       "leisure_count_3000                       False\n",
       "sport_count_3000                         False\n",
       "market_count_3000                        False\n",
       "green_part_5000                          False\n",
       "prom_part_5000                            True\n",
       "office_count_5000                        False\n",
       "office_sqm_5000                          False\n",
       "trc_count_5000                           False\n",
       "trc_sqm_5000                             False\n",
       "cafe_count_5000                          False\n",
       "cafe_sum_5000_min_price_avg               True\n",
       "cafe_sum_5000_max_price_avg               True\n",
       "cafe_avg_price_5000                       True\n",
       "cafe_count_5000_na_price                 False\n",
       "cafe_count_5000_price_500                False\n",
       "cafe_count_5000_price_1000               False\n",
       "cafe_count_5000_price_1500               False\n",
       "cafe_count_5000_price_2500               False\n",
       "cafe_count_5000_price_4000               False\n",
       "cafe_count_5000_price_high               False\n",
       "big_church_count_5000                    False\n",
       "church_count_5000                        False\n",
       "mosque_count_5000                        False\n",
       "leisure_count_5000                       False\n",
       "sport_count_5000                         False\n",
       "market_count_5000                        False\n",
       "sq_metr                                   True\n",
       "log_price_doc                            False\n",
       "Length: 280, dtype: bool"
      ]
     },
     "execution_count": 38,
     "metadata": {},
     "output_type": "execute_result"
    }
   ],
   "source": [
    "train.isnull().apply(any,axis=0)"
   ]
  },
  {
   "cell_type": "code",
   "execution_count": null,
   "metadata": {
    "collapsed": true
   },
   "outputs": [],
   "source": []
  }
 ],
 "metadata": {
  "kernelspec": {
   "display_name": "Python 2",
   "language": "python",
   "name": "python2"
  },
  "language_info": {
   "codemirror_mode": {
    "name": "ipython",
    "version": 2
   },
   "file_extension": ".py",
   "mimetype": "text/x-python",
   "name": "python",
   "nbconvert_exporter": "python",
   "pygments_lexer": "ipython2",
   "version": "2.7.13"
  }
 },
 "nbformat": 4,
 "nbformat_minor": 2
}
