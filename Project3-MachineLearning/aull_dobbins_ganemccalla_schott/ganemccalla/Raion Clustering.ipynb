{
 "cells": [
  {
   "cell_type": "code",
   "execution_count": 2,
   "metadata": {
    "collapsed": false
   },
   "outputs": [
    {
     "data": {
      "text/html": [
       "<div>\n",
       "<table border=\"1\" class=\"dataframe\">\n",
       "  <thead>\n",
       "    <tr style=\"text-align: right;\">\n",
       "      <th></th>\n",
       "      <th>sub_area</th>\n",
       "      <th>log_price</th>\n",
       "      <th>log_price_per_log_fullsq</th>\n",
       "    </tr>\n",
       "  </thead>\n",
       "  <tbody>\n",
       "    <tr>\n",
       "      <th>0</th>\n",
       "      <td>Ajeroport</td>\n",
       "      <td>15.941682</td>\n",
       "      <td>4.076548</td>\n",
       "    </tr>\n",
       "    <tr>\n",
       "      <th>1</th>\n",
       "      <td>Akademicheskoe</td>\n",
       "      <td>15.915494</td>\n",
       "      <td>4.003658</td>\n",
       "    </tr>\n",
       "    <tr>\n",
       "      <th>2</th>\n",
       "      <td>Alekseevskoe</td>\n",
       "      <td>15.795134</td>\n",
       "      <td>4.119120</td>\n",
       "    </tr>\n",
       "    <tr>\n",
       "      <th>3</th>\n",
       "      <td>Altuf'evskoe</td>\n",
       "      <td>15.312836</td>\n",
       "      <td>4.084878</td>\n",
       "    </tr>\n",
       "    <tr>\n",
       "      <th>4</th>\n",
       "      <td>Arbat</td>\n",
       "      <td>16.354411</td>\n",
       "      <td>4.191241</td>\n",
       "    </tr>\n",
       "  </tbody>\n",
       "</table>\n",
       "</div>"
      ],
      "text/plain": [
       "         sub_area  log_price  log_price_per_log_fullsq\n",
       "0       Ajeroport  15.941682                  4.076548\n",
       "1  Akademicheskoe  15.915494                  4.003658\n",
       "2    Alekseevskoe  15.795134                  4.119120\n",
       "3    Altuf'evskoe  15.312836                  4.084878\n",
       "4           Arbat  16.354411                  4.191241"
      ]
     },
     "execution_count": 2,
     "metadata": {},
     "output_type": "execute_result"
    }
   ],
   "source": [
    "import pandas as pd\n",
    "data = pd.read_csv('raion_prices.csv')\n",
    "data.head()"
   ]
  },
  {
   "cell_type": "code",
   "execution_count": 5,
   "metadata": {
    "collapsed": false
   },
   "outputs": [
    {
     "data": {
      "text/plain": [
       "array([[ 15.94168239,   4.07654828],\n",
       "       [ 15.91549394,   4.00365751],\n",
       "       [ 15.79513354,   4.1191203 ],\n",
       "       [ 15.31283585,   4.08487838],\n",
       "       [ 16.35441125,   4.19124136],\n",
       "       [ 15.67070475,   4.08797661],\n",
       "       [ 16.09122665,   4.04702983],\n",
       "       [ 16.05271324,   4.10874956],\n",
       "       [ 15.52712899,   4.03353257],\n",
       "       [ 15.59424709,   4.04483654],\n",
       "       [ 15.41330986,   4.03936589],\n",
       "       [ 15.3845094 ,   4.07711612],\n",
       "       [ 15.51767601,   4.13059538],\n",
       "       [ 15.59290966,   4.02435785],\n",
       "       [ 15.66181734,   4.05059446],\n",
       "       [ 15.48087303,   4.22503653],\n",
       "       [ 15.84860871,   4.1439788 ],\n",
       "       [ 15.64201122,   4.08137802],\n",
       "       [ 15.64596829,   4.07220788],\n",
       "       [ 15.71600368,   4.11396384],\n",
       "       [ 15.90310946,   4.05933349],\n",
       "       [ 15.46061812,   4.12137816],\n",
       "       [ 15.98175317,   3.99602988],\n",
       "       [ 16.17849035,   4.08387521],\n",
       "       [ 15.80824438,   4.05678976],\n",
       "       [ 15.70023399,   4.09112679],\n",
       "       [ 16.17007764,   4.02426701],\n",
       "       [ 15.41715712,   4.1109501 ],\n",
       "       [ 15.51219287,   4.11774006],\n",
       "       [ 16.58516284,   4.02154532],\n",
       "       [ 15.67445974,   4.07015537],\n",
       "       [ 15.97695585,   4.09832627],\n",
       "       [ 15.77976608,   3.9843544 ],\n",
       "       [ 15.45551885,   4.05434773],\n",
       "       [ 15.84692317,   3.96467649],\n",
       "       [ 16.00975496,   3.91036495],\n",
       "       [ 15.52463081,   4.04920262],\n",
       "       [ 15.79210082,   4.00196972],\n",
       "       [ 15.58776539,   3.98608003],\n",
       "       [ 15.48358044,   4.01388064],\n",
       "       [ 15.61401423,   4.07998148],\n",
       "       [ 15.87841469,   4.07065305],\n",
       "       [ 15.40553755,   4.04097193],\n",
       "       [ 15.83371678,   4.10207151],\n",
       "       [ 15.60464131,   4.12893085],\n",
       "       [ 15.53045519,   3.98006503],\n",
       "       [ 15.6511877 ,   4.16196613],\n",
       "       [ 16.07717974,   4.07286955],\n",
       "       [ 15.50063337,   3.88482713],\n",
       "       [ 16.20094426,   3.95986589],\n",
       "       [ 15.76543227,   3.99884965],\n",
       "       [ 16.29701679,   3.60836789],\n",
       "       [ 15.50266163,   4.16565182],\n",
       "       [ 15.67054462,   4.1204194 ],\n",
       "       [ 15.80938383,   3.96140485],\n",
       "       [ 15.57917873,   4.01524049],\n",
       "       [ 15.52319673,   4.10540671],\n",
       "       [ 16.20954594,   3.98293853],\n",
       "       [ 15.69318646,   4.06611981],\n",
       "       [ 15.77780049,   4.0842151 ],\n",
       "       [ 15.69626853,   4.00857489],\n",
       "       [ 15.55297005,   4.06976073],\n",
       "       [ 15.25266308,   3.95855575],\n",
       "       [ 16.01132733,   4.13556498],\n",
       "       [ 15.49374893,   4.18240253],\n",
       "       [ 15.9144491 ,   3.95673445],\n",
       "       [ 14.50530763,   3.44406633],\n",
       "       [ 15.69579948,   4.06258729],\n",
       "       [ 15.59042973,   4.09021222],\n",
       "       [ 15.69248607,   4.13268271],\n",
       "       [ 15.86484233,   4.11101011],\n",
       "       [ 15.95357244,   4.07303555],\n",
       "       [ 15.47201823,   3.88553832],\n",
       "       [ 15.48526405,   4.12146318],\n",
       "       [ 15.54934392,   3.93280978],\n",
       "       [ 15.51368655,   4.17864075],\n",
       "       [ 15.71223765,   3.97527859],\n",
       "       [ 16.15885473,   3.80342076],\n",
       "       [ 15.69690214,   4.03745042],\n",
       "       [ 15.62703957,   4.07970411],\n",
       "       [ 15.58479296,   4.02494371],\n",
       "       [ 15.80626128,   4.14122629],\n",
       "       [ 15.62770057,   4.05659016],\n",
       "       [ 15.42616587,   4.13618883],\n",
       "       [ 15.4788082 ,   4.14105531],\n",
       "       [ 15.86642982,   4.07403662],\n",
       "       [ 15.27760695,   3.97604557],\n",
       "       [ 14.97067607,   3.9934123 ],\n",
       "       [ 15.89930339,   3.69399907],\n",
       "       [ 13.81551056,   3.67316551],\n",
       "       [ 14.92087891,   3.79843581],\n",
       "       [ 14.97104998,   3.73237559],\n",
       "       [ 14.77076944,   3.93152794],\n",
       "       [ 15.06254285,   3.89092243],\n",
       "       [ 15.48655781,   3.85078886],\n",
       "       [ 15.26528837,   3.98558688],\n",
       "       [ 14.79526021,   3.84773146],\n",
       "       [ 15.3304672 ,   3.60447552],\n",
       "       [ 15.44019054,   3.74881215],\n",
       "       [ 15.6644436 ,   3.20559371],\n",
       "       [ 14.88865161,   3.56683963],\n",
       "       [ 15.20159616,   3.95126057],\n",
       "       [ 15.43639965,   3.88107046],\n",
       "       [ 15.60223022,   3.91198552],\n",
       "       [ 15.06428267,   3.88731441],\n",
       "       [ 15.46116581,   3.87697224],\n",
       "       [ 15.55529759,   4.17954603],\n",
       "       [ 16.03576179,   4.03996607],\n",
       "       [ 16.05541068,   3.98549746],\n",
       "       [ 16.10452166,   3.96247858],\n",
       "       [ 15.59770518,   4.08176251],\n",
       "       [ 15.58556686,   4.06171845],\n",
       "       [ 15.26367899,   3.93549909],\n",
       "       [ 15.75343806,   4.14194481],\n",
       "       [ 15.44309846,   3.91089523],\n",
       "       [ 15.71926059,   4.01048436],\n",
       "       [ 15.47244499,   4.17189929],\n",
       "       [ 15.59954269,   4.07214798],\n",
       "       [ 15.77877768,   4.08036343],\n",
       "       [ 15.83493737,   4.0914512 ],\n",
       "       [ 15.45543027,   3.88771325],\n",
       "       [ 15.84787453,   3.950133  ],\n",
       "       [ 16.11467678,   4.08927038],\n",
       "       [ 15.63175846,   4.11651417],\n",
       "       [ 15.42240855,   4.05205773],\n",
       "       [ 15.21002661,   3.89848226],\n",
       "       [ 15.88611839,   4.053153  ],\n",
       "       [ 15.77250779,   4.08382931],\n",
       "       [ 15.81893557,   4.03970571],\n",
       "       [ 15.61314072,   4.07646033],\n",
       "       [ 15.73059441,   4.01869981],\n",
       "       [ 15.65208288,   4.08505093],\n",
       "       [ 15.3683597 ,   3.75524375],\n",
       "       [ 16.0947731 ,   3.88649948],\n",
       "       [ 15.58597178,   3.90327793],\n",
       "       [ 15.46085715,   4.0999805 ],\n",
       "       [ 15.34220749,   3.98409041],\n",
       "       [ 15.84199894,   3.99062288],\n",
       "       [ 15.36658204,   4.190454  ],\n",
       "       [ 15.57803936,   4.06056865],\n",
       "       [ 15.36067926,   4.31388154],\n",
       "       [ 15.55140975,   4.06100363],\n",
       "       [ 16.41566972,   4.01548658],\n",
       "       [ 15.38897941,   3.93590813],\n",
       "       [ 15.58812748,   4.07975085],\n",
       "       [ 15.70829642,   4.11438133]])"
      ]
     },
     "execution_count": 5,
     "metadata": {},
     "output_type": "execute_result"
    }
   ],
   "source": [
    "import numpy as np\n",
    "price = np.array(data['log_price'])\n",
    "sqft = np.array(data['log_price_per_log_fullsq'])\n",
    "#full_sq = np.array(data['full_sq'])\n",
    "x = np.dstack([price, sqft])\n",
    "#this is done because of how dstack works, it gives us a usable array\n",
    "x = x[0]\n",
    "x"
   ]
  },
  {
   "cell_type": "code",
   "execution_count": 6,
   "metadata": {
    "collapsed": true
   },
   "outputs": [],
   "source": [
    "from sklearn.cluster import KMeans\n",
    "kmeans = KMeans()"
   ]
  },
  {
   "cell_type": "code",
   "execution_count": 10,
   "metadata": {
    "collapsed": false
   },
   "outputs": [
    {
     "data": {
      "image/png": "[encoded data removed]",
      "text/plain": [
       "<matplotlib.figure.Figure at 0xc487048>"
      ]
     },
     "metadata": {},
     "output_type": "display_data"
    },
    {
     "data": {
      "text/plain": [
       "KMeans(algorithm='auto', copy_x=True, init='k-means++', max_iter=300,\n",
       "    n_clusters=5, n_init=10, n_jobs=1, precompute_distances='auto',\n",
       "    random_state=None, tol=0.0001, verbose=0)"
      ]
     },
     "execution_count": 10,
     "metadata": {},
     "output_type": "execute_result"
    }
   ],
   "source": [
    "import matplotlib.pyplot as plt\n",
    "import sklearn.preprocessing\n",
    "X_normalized = sklearn.preprocessing.normalize(x, norm='l2')\n",
    "plt.scatter(price,sqft)\n",
    "plt.show()\n",
    "\n",
    "kmeans.set_params(n_clusters = 5)\n",
    "kmeans.fit(X_normalized)"
   ]
  },
  {
   "cell_type": "code",
   "execution_count": 8,
   "metadata": {
    "collapsed": false
   },
   "outputs": [
    {
     "data": {
      "text/plain": [
       "array([[ 0.96720902,  0.25395215],\n",
       "       [ 0.97462771,  0.22356484],\n",
       "       [ 0.96976841,  0.24399669]])"
      ]
     },
     "execution_count": 8,
     "metadata": {},
     "output_type": "execute_result"
    }
   ],
   "source": [
    "kmeans.cluster_centers_"
   ]
  },
  {
   "cell_type": "code",
   "execution_count": 11,
   "metadata": {
    "collapsed": false
   },
   "outputs": [
    {
     "data": {
      "image/png": "[encoded data removed]",
      "text/plain": [
       "<matplotlib.figure.Figure at 0xc588278>"
      ]
     },
     "metadata": {},
     "output_type": "display_data"
    }
   ],
   "source": [
    "plt.scatter(price, sqft, c = kmeans.labels_, alpha = 0.8)\n",
    "plt.show()"
   ]
  }
 ],
 "metadata": {
  "kernelspec": {
   "display_name": "Python 2",
   "language": "python",
   "name": "python2"
  },
  "language_info": {
   "codemirror_mode": {
    "name": "ipython",
    "version": 2
   },
   "file_extension": ".py",
   "mimetype": "text/x-python",
   "name": "python",
   "nbconvert_exporter": "python",
   "pygments_lexer": "ipython2",
   "version": "2.7.13"
  }
 },
 "nbformat": 4,
 "nbformat_minor": 2
}
