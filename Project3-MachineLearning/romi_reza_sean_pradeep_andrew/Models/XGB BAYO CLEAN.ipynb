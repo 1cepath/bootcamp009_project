{
 "cells": [
  {
   "cell_type": "code",
   "execution_count": 46,
   "metadata": {
    "collapsed": false
   },
   "outputs": [
    {
     "name": "stdout",
     "output_type": "stream",
     "text": [
      "(30471, 292)\n",
      "(30404, 292)\n"
     ]
    }
   ],
   "source": [
    "import numpy as np\n",
    "import pandas as pd\n",
    "import xgboost as xgb\n",
    "import matplotlib.pyplot as plt\n",
    "from scipy.stats import skew\n",
    "\n",
    "from sklearn.preprocessing import scale\n",
    "\n",
    "\n",
    "\n",
    "df_train = pd.read_csv(\"train.csv\", parse_dates=['timestamp'])\n",
    "df_test = pd.read_csv(\"test.csv\", parse_dates=['timestamp'])\n",
    "df_macro = pd.read_csv(\"macro.csv\", parse_dates=['timestamp'])\n",
    "\n",
    "df_train.head()\n",
    "\n",
    "# =============================\n",
    "# =============================\n",
    "# cleanup\n",
    "# brings error down a lot by removing extreme price per sqm\n",
    "print(df_train.shape)\n",
    "df_train.loc[df_train.full_sq == 0, 'full_sq'] = 30\n",
    "df_train = df_train[df_train.price_doc/df_train.full_sq <= 600000]\n",
    "df_train = df_train[df_train.price_doc/df_train.full_sq >= 10000]\n",
    "print(df_train.shape)\n",
    "# =============================\n",
    "# ============================="
   ]
  },
  {
   "cell_type": "code",
   "execution_count": 47,
   "metadata": {
    "collapsed": false
   },
   "outputs": [],
   "source": [
    "df_train = df_train[(df_train['timestamp'] >= '2013-7-1')]"
   ]
  },
  {
   "cell_type": "code",
   "execution_count": 48,
   "metadata": {
    "collapsed": false
   },
   "outputs": [
    {
     "name": "stdout",
     "output_type": "stream",
     "text": [
      "(29301, 390)\n"
     ]
    }
   ],
   "source": [
    "y_train = df_train['price_doc'].values\n",
    "id_test = df_test['id']\n",
    "\n",
    "df_train.drop(['id', 'price_doc'], axis=1, inplace=True)\n",
    "df_test.drop(['id'], axis=1, inplace=True)\n",
    "\n",
    "# Build df_all = (df_train+df_test).join(df_macro)\n",
    "num_train = len(df_train)    # save so can separate later\n",
    "df_all = pd.concat([df_train, df_test])\n",
    "df_all = df_all.join(df_macro, on='timestamp', rsuffix='_macro')\n",
    "print(df_all.shape)\n",
    "\n",
    "\n",
    "# ==============================\n",
    "# Add month-year\n",
    "month_year = (df_all.timestamp.dt.month + df_all.timestamp.dt.year * 100)\n",
    "month_year_cnt_map = month_year.value_counts().to_dict()\n",
    "df_all['month_year_cnt'] = month_year.map(month_year_cnt_map)\n",
    "\n",
    "# Add week-year count\n",
    "week_year = (df_all.timestamp.dt.weekofyear + df_all.timestamp.dt.year * 100)\n",
    "week_year_cnt_map = week_year.value_counts().to_dict()\n",
    "df_all['week_year_cnt'] = week_year.map(week_year_cnt_map)\n",
    "\n",
    "# Add month and day-of-week\n",
    "df_all['month'] = df_all.timestamp.dt.month\n",
    "df_all['dow'] = df_all.timestamp.dt.dayofweek\n",
    "\n",
    "# Other feature engineering\n",
    "df_all['rel_floor'] = df_all['floor'] / df_all['max_floor'].astype(float)\n",
    "df_all['rel_kitch_sq'] = df_all['kitch_sq'] / df_all['full_sq'].astype(float)\n",
    "\n",
    "# Remove timestamp column (may overfit the model in train)\n",
    "df_all.drop(['timestamp', 'timestamp_macro'], axis=1, inplace=True)\n",
    "\n",
    "\n",
    "\n",
    "\n",
    "\n",
    "\n",
    "\n",
    "# Separate dtypes\n",
    "df_numeric = df_all.select_dtypes(exclude=['object'])    \n",
    "df_obj = df_all.select_dtypes(include=['object']).copy()\n",
    "\n",
    "\n",
    "# Deal with categorical values\n",
    "for c in df_obj:\n",
    "    df_obj[c] = pd.factorize(df_obj[c])[0]    # how is this different from above????\n",
    "\n",
    "\n",
    "# Log transform skewed numeric features \n",
    "get_col = df_numeric.dtypes[(df_numeric.dtypes == \"int64\") | (df_numeric.dtypes == \"float64\")].index\n",
    "get_skews = df_numeric[get_col].apply(lambda x: skew(x.dropna()))\n",
    "get_skews = get_skews[get_skews>0.5]\n",
    "get_skews = get_skews.index\n",
    "df_numeric[get_skews] = np.log1p(df_numeric[get_skews])       \n",
    "\n",
    "\n",
    "\n",
    "\n",
    "# concatenate back    \n",
    "df_values = pd.concat([df_numeric, df_obj], axis=1)\n",
    "\n",
    "\n",
    "\n",
    "\n",
    "\n",
    "\n",
    "\n",
    "\n",
    "\n",
    " \n",
    "\n",
    "\n",
    "# # select continuous numeric columns\n",
    "# numerics = ['int16', 'int32', 'int64', 'float16', 'float32', 'float64']\n",
    "# num_df = df.select_dtypes(include=numerics)\n",
    "# num_df.shape # 364 features\n",
    "\n",
    "\n",
    "# # impute missing values with mean\n",
    "# df = num_df.apply(lambda x: x.fillna(x.mean()),axis=0) # newdf is the numeric columns\n",
    "\n",
    "\n",
    "# # scale the data frame\n",
    "# df = (df - df.mean()) / (df.max() - df.min())\n"
   ]
  },
  {
   "cell_type": "code",
   "execution_count": 49,
   "metadata": {
    "collapsed": false
   },
   "outputs": [
    {
     "name": "stdout",
     "output_type": "stream",
     "text": [
      "(29301L, 394L)\n"
     ]
    }
   ],
   "source": [
    "\n",
    "# Convert to numpy values\n",
    "X_all = df_values.values\n",
    "print(X_all.shape)\n",
    "\n",
    "\n",
    "# Set the training and test sets\n",
    "X_train = X_all[:num_train]\n",
    "X_test = X_all[num_train:]\n",
    "\n",
    "\n",
    "# Save the column names for features names\n",
    "df_columns = df_values.columns\n",
    "\n",
    "\n",
    "# Set the parameters\n",
    "xgb_params = {\n",
    "    'eta': 0.05,\n",
    "    'max_depth': 5,\n",
    "    'subsample': 0.7,\n",
    "    'colsample_bytree': 0.7,\n",
    "    'objective': 'reg:linear',\n",
    "    'eval_metric': 'rmse',\n",
    "    'silent': 1\n",
    "}\n",
    "\n",
    "# Train the set against the actual prices and then mak predictions\n",
    "dtrain = xgb.DMatrix(X_train, y_train, feature_names=df_columns)\n",
    "dtest = xgb.DMatrix(X_test, feature_names=df_columns)\n",
    "\n",
    "\n",
    "# Tune XGB `num_boost_rounds`\n",
    "#cv_result = xgb.cv(xgb_params, dtrain, num_boost_round=1000, early_stopping_rounds=20,\n",
    "#    verbose_eval=True, show_stdv=False)\n",
    "#cv_result[['train-rmse-mean', 'test-rmse-mean']].plot()\n",
    "#num_boost_rounds = len(cv_result)\n",
    "\n",
    "num_boost_round = 489\n",
    "\n",
    "\n",
    "# Run the model\n",
    "model = xgb.train(dict(xgb_params, silent=0), dtrain, num_boost_round=num_boost_round)\n",
    "\n",
    "\n",
    "# Plot the feature importance\n",
    "# fig, ax = plt.subplots(1, 1, figsize=(8, 16))\n",
    "# xgb.plot_importance(model, max_num_features=50, height=0.5, ax=ax)\n",
    "\n",
    "\n",
    "# Make the predictions\n",
    "y_pred = model.predict(dtest)\n",
    "y_pred = np.round(y_pred * 0.99)\n",
    "df_sub = pd.DataFrame({'id': id_test, 'price_doc': y_pred})\n",
    "\n",
    "\n",
    "# Save the csv\n",
    "df_sub.to_csv('sub2.csv', index=False)"
   ]
  },
  {
   "cell_type": "code",
   "execution_count": 53,
   "metadata": {
    "collapsed": false
   },
   "outputs": [
    {
     "name": "stdout",
     "output_type": "stream",
     "text": [
      "id           3.430450e+04\n",
      "price_doc    7.423775e+06\n",
      "dtype: float64\n",
      "id           3.430450e+04\n",
      "price_doc    7.362361e+06\n",
      "dtype: float64\n"
     ]
    }
   ],
   "source": [
    "# Inspect results\n",
    "df_sub_orig = pd.read_csv('sub_orig.csv')\n",
    "print(df_sub.mean())\n",
    "print(df_sub_orig.mean())"
   ]
  }
 ],
 "metadata": {
  "kernelspec": {
   "display_name": "Python 2",
   "language": "python",
   "name": "python2"
  }
 },
 "nbformat": 4,
 "nbformat_minor": 2
}
