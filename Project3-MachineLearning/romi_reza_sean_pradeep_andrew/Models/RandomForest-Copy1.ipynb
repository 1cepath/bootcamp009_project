{
 "cells": [
  {
   "cell_type": "markdown",
   "metadata": {},
   "source": [
    "# Random Forest "
   ]
  },
  {
   "cell_type": "markdown",
   "metadata": {},
   "source": [
    "### Import Libraries"
   ]
  },
  {
   "cell_type": "code",
   "execution_count": 1,
   "metadata": {
    "collapsed": false
   },
   "outputs": [],
   "source": [
    "import pandas as pd\n",
    "import numpy as np\n",
    "\n",
    "pd.set_option('display.max_columns', None)"
   ]
  },
  {
   "cell_type": "markdown",
   "metadata": {
    "collapsed": false
   },
   "source": [
    "### Import Dataset"
   ]
  },
  {
   "cell_type": "code",
   "execution_count": 94,
   "metadata": {
    "collapsed": false
   },
   "outputs": [],
   "source": [
    "df = pd.read_csv(\"../EDA/cleaned_df_2017-05-26.csv\",  parse_dates=['timestamp'], index_col=False, low_memory=False)\n",
    "y_train = df.loc[df['price_doc_log'].notnull(), 'price_doc_log']\n",
    "X_train = df.loc[df['price_doc_log'].notnull(), df.columns != 'price_doc_log']\n",
    "X_test = df.loc[df['price_doc_log'].isnull(), df.columns != 'price_doc_log'].drop('price_doc', axis=1)"
   ]
  },
  {
   "cell_type": "code",
   "execution_count": 95,
   "metadata": {
    "collapsed": false
   },
   "outputs": [
    {
     "data": {
      "text/plain": [
       "Int64Index([30471, 30472, 30473, 30474, 30475, 30476, 30477, 30478, 30479,\n",
       "            30480,\n",
       "            ...\n",
       "            38123, 38124, 38125, 38126, 38127, 38128, 38129, 38130, 38131,\n",
       "            38132],\n",
       "           dtype='int64', length=7662)"
      ]
     },
     "execution_count": 95,
     "metadata": {},
     "output_type": "execute_result"
    }
   ],
   "source": [
    "id_test = X_test.index"
   ]
  },
  {
   "cell_type": "code",
   "execution_count": 96,
   "metadata": {
    "collapsed": false
   },
   "outputs": [
    {
     "data": {
      "text/plain": [
       "0    15.581952\n",
       "1    15.607270\n",
       "2    15.555977\n",
       "3    16.388123\n",
       "4    16.608603\n",
       "Name: price_doc_log, dtype: float64"
      ]
     },
     "execution_count": 96,
     "metadata": {},
     "output_type": "execute_result"
    }
   ],
   "source": [
    "y_train.head()"
   ]
  },
  {
   "cell_type": "markdown",
   "metadata": {},
   "source": [
    "### Encode Non-numerical Data "
   ]
  },
  {
   "cell_type": "code",
   "execution_count": 97,
   "metadata": {
    "collapsed": true
   },
   "outputs": [],
   "source": [
    "from sklearn import model_selection, preprocessing\n",
    "from sklearn.preprocessing import LabelEncoder\n",
    "\n",
    "def encode_object_features(df):\n",
    "    '''\n",
    "    Will encode each non-numerical column.\n",
    "    '''\n",
    "    for f in df.columns:\n",
    "        if df[f].dtype=='object':\n",
    "            print(f)\n",
    "            lbl = preprocessing.LabelEncoder()\n",
    "            lbl.fit(list(df[f].values.astype('str')) + list(df[f].values.astype('str')))\n",
    "            df[f] = lbl.transform(list(df[f].values.astype('str')))    \n",
    "    return df"
   ]
  },
  {
   "cell_type": "code",
   "execution_count": 98,
   "metadata": {
    "collapsed": false
   },
   "outputs": [
    {
     "name": "stdout",
     "output_type": "stream",
     "text": [
      "one_month_lag\n",
      "three_month_lag\n",
      "six_month_lag\n",
      "twelve_month_lag\n",
      "timestamp_1\n",
      "timestamp_3\n",
      "timestamp_6\n",
      "timestamp_12\n",
      "big_market_raion\n",
      "big_road1_1line\n",
      "culture_objects_top_25\n",
      "detention_facility_raion\n",
      "ecology\n",
      "incineration_raion\n",
      "nuclear_reactor_raion\n",
      "oil_chemistry_raion\n",
      "product_type\n",
      "radiation_raion\n",
      "railroad_1line\n",
      "railroad_terminal_raion\n",
      "sub_area\n",
      "thermal_power_plant_raion\n",
      "water_1line\n",
      "child_on_acc_pre_school\n",
      "modern_education_share\n",
      "old_education_build_share\n",
      "one_month_lag\n",
      "three_month_lag\n",
      "six_month_lag\n",
      "twelve_month_lag\n",
      "timestamp_1\n",
      "timestamp_3\n",
      "timestamp_6\n",
      "timestamp_12\n",
      "big_market_raion\n",
      "big_road1_1line\n",
      "culture_objects_top_25\n",
      "detention_facility_raion\n",
      "ecology\n",
      "incineration_raion\n",
      "nuclear_reactor_raion\n",
      "oil_chemistry_raion\n",
      "product_type\n",
      "radiation_raion\n",
      "railroad_1line\n",
      "railroad_terminal_raion\n",
      "sub_area\n",
      "thermal_power_plant_raion\n",
      "water_1line\n",
      "child_on_acc_pre_school\n",
      "modern_education_share\n",
      "old_education_build_share\n"
     ]
    }
   ],
   "source": [
    "X_train = encode_object_features(X_train)\n",
    "X_test = encode_object_features(X_test)"
   ]
  },
  {
   "cell_type": "code",
   "execution_count": 99,
   "metadata": {
    "collapsed": false
   },
   "outputs": [],
   "source": [
    "feature_list = ['full_sq',\n",
    "                'life_sq',\n",
    "                'floor',\n",
    "                'max_floor',\n",
    "                'material',\n",
    "                'build_year',\n",
    "                'num_room',\n",
    "                'kitch_sq',\n",
    "                'state',\n",
    "                'product_type',\n",
    "                'sub_area',\n",
    "                'indust_part',\n",
    "                'school_education_centers_raion',\n",
    "                'sport_objects_raion',\n",
    "                'culture_objects_top_25_raion',\n",
    "                'oil_chemistry_raion',\n",
    "                'metro_min_avto',\n",
    "                'green_zone_km',\n",
    "                'industrial_km',\n",
    "                'kremlin_km',\n",
    "                'radiation_km',\n",
    "                'ts_km',\n",
    "                'fitness_km',\n",
    "                'stadium_km',\n",
    "                'additional_education_km',\n",
    "                'cafe_count_1500_price_500',\n",
    "                'cafe_count_1500_price_high',\n",
    "                'cafe_count_2000_price_2500',\n",
    "                'trc_sqm_5000',\n",
    "                'cafe_count_5000',\n",
    "                'cafe_count_5000_price_high',\n",
    "                'delta_oil_1',\n",
    "                'delta_oil_3',\n",
    "                'delta_oil_6',\n",
    "                'delta_oil_12',\n",
    "                'delta_usdrub_1',\n",
    "                'delta_usdrub_3',\n",
    "                'delta_usdrub_6',\n",
    "                'delta_usdrub_12',\n",
    "                'delta_labor_force_1',\n",
    "                'delta_labor_force_3',\n",
    "                'delta_labor_force_6',\n",
    "                'delta_labor_force_12']"
   ]
  },
  {
   "cell_type": "code",
   "execution_count": 100,
   "metadata": {
    "collapsed": false
   },
   "outputs": [],
   "source": [
    "X_train = X_train.fillna(0)\n",
    "X_test = X_test.fillna(0)"
   ]
  },
  {
   "cell_type": "code",
   "execution_count": 101,
   "metadata": {
    "collapsed": false,
    "scrolled": true
   },
   "outputs": [
    {
     "data": {
      "text/plain": [
       "0_13_all                      0\n",
       "0_13_female                   0\n",
       "0_13_male                     0\n",
       "0_17_all                      0\n",
       "0_17_female                   0\n",
       "0_17_male                     0\n",
       "0_6_all                       0\n",
       "0_6_female                    0\n",
       "0_6_male                      0\n",
       "16_29_all                     0\n",
       "16_29_female                  0\n",
       "16_29_male                    0\n",
       "7_14_all                      0\n",
       "7_14_female                   0\n",
       "7_14_male                     0\n",
       "ID_big_road1                  0\n",
       "ID_big_road2                  0\n",
       "ID_bus_terminal               0\n",
       "ID_metro                      0\n",
       "ID_railroad_station_avto      0\n",
       "ID_railroad_station_walk      0\n",
       "ID_railroad_terminal          0\n",
       "additional_education_km       0\n",
       "additional_education_raion    0\n",
       "area_m                        0\n",
       "basketball_km                 0\n",
       "big_church_count_1000         0\n",
       "big_church_count_1500         0\n",
       "big_church_count_2000         0\n",
       "big_church_count_3000         0\n",
       "                             ..\n",
       "delta_usdrub_1                0\n",
       "delta_usdrub_3                0\n",
       "delta_usdrub_6                0\n",
       "delta_usdrub_12               0\n",
       "delta_labor_force_1           0\n",
       "delta_labor_force_3           0\n",
       "delta_labor_force_6           0\n",
       "delta_labor_force_12          0\n",
       "micex_rgbi_tr_1               0\n",
       "micex_rgbi_tr_3               0\n",
       "micex_rgbi_tr_6               0\n",
       "micex_rgbi_tr_12              0\n",
       "big_market_raion              0\n",
       "big_road1_1line               0\n",
       "culture_objects_top_25        0\n",
       "detention_facility_raion      0\n",
       "ecology                       0\n",
       "incineration_raion            0\n",
       "nuclear_reactor_raion         0\n",
       "oil_chemistry_raion           0\n",
       "product_type                  0\n",
       "radiation_raion               0\n",
       "railroad_1line                0\n",
       "railroad_terminal_raion       0\n",
       "sub_area                      0\n",
       "thermal_power_plant_raion     0\n",
       "water_1line                   0\n",
       "child_on_acc_pre_school       0\n",
       "modern_education_share        0\n",
       "old_education_build_share     0\n",
       "dtype: int64"
      ]
     },
     "execution_count": 101,
     "metadata": {},
     "output_type": "execute_result"
    }
   ],
   "source": [
    "np.sum(X_test.isnull())\n",
    "# fillna(0)"
   ]
  },
  {
   "cell_type": "markdown",
   "metadata": {
    "collapsed": true
   },
   "source": [
    "## Selecting Features"
   ]
  },
  {
   "cell_type": "code",
   "execution_count": 102,
   "metadata": {
    "collapsed": false
   },
   "outputs": [
    {
     "name": "stderr",
     "output_type": "stream",
     "text": [
      "[Parallel(n_jobs=-1)]: Done  42 tasks      | elapsed:    5.2s\n",
      "[Parallel(n_jobs=-1)]: Done 192 tasks      | elapsed:   24.3s\n",
      "[Parallel(n_jobs=-1)]: Done 442 tasks      | elapsed:   54.9s\n",
      "[Parallel(n_jobs=-1)]: Done 792 tasks      | elapsed:  1.6min\n",
      "[Parallel(n_jobs=-1)]: Done 1000 out of 1000 | elapsed:  2.0min finished\n"
     ]
    },
    {
     "name": "stdout",
     "output_type": "stream",
     "text": [
      "Leaf Size: 50\n"
     ]
    },
    {
     "name": "stderr",
     "output_type": "stream",
     "text": [
      "[Parallel(n_jobs=4)]: Done  42 tasks      | elapsed:    0.1s\n",
      "[Parallel(n_jobs=4)]: Done 192 tasks      | elapsed:    0.4s\n",
      "[Parallel(n_jobs=4)]: Done 442 tasks      | elapsed:    0.9s\n",
      "[Parallel(n_jobs=4)]: Done 792 tasks      | elapsed:    1.5s\n",
      "[Parallel(n_jobs=4)]: Done 1000 out of 1000 | elapsed:    2.0s finished\n"
     ]
    },
    {
     "name": "stdout",
     "output_type": "stream",
     "text": [
      "0.505769477952\n"
     ]
    },
    {
     "name": "stderr",
     "output_type": "stream",
     "text": [
      "[Parallel(n_jobs=-1)]: Done  42 tasks      | elapsed:    6.2s\n",
      "[Parallel(n_jobs=-1)]: Done 192 tasks      | elapsed:   24.9s\n",
      "[Parallel(n_jobs=-1)]: Done 442 tasks      | elapsed:   57.4s\n",
      "[Parallel(n_jobs=-1)]: Done 792 tasks      | elapsed:  1.8min\n",
      "[Parallel(n_jobs=-1)]: Done 1000 out of 1000 | elapsed:  2.3min finished\n"
     ]
    },
    {
     "name": "stdout",
     "output_type": "stream",
     "text": [
      "Leaf Size: 100\n"
     ]
    },
    {
     "name": "stderr",
     "output_type": "stream",
     "text": [
      "[Parallel(n_jobs=4)]: Done  42 tasks      | elapsed:    0.1s\n",
      "[Parallel(n_jobs=4)]: Done 192 tasks      | elapsed:    0.4s\n",
      "[Parallel(n_jobs=4)]: Done 442 tasks      | elapsed:    0.9s\n",
      "[Parallel(n_jobs=4)]: Done 792 tasks      | elapsed:    1.5s\n",
      "[Parallel(n_jobs=4)]: Done 1000 out of 1000 | elapsed:    2.0s finished\n"
     ]
    },
    {
     "name": "stdout",
     "output_type": "stream",
     "text": [
      "0.505769477952\n"
     ]
    },
    {
     "name": "stderr",
     "output_type": "stream",
     "text": [
      "[Parallel(n_jobs=-1)]: Done  42 tasks      | elapsed:    5.4s\n",
      "[Parallel(n_jobs=-1)]: Done 192 tasks      | elapsed:   25.9s\n",
      "[Parallel(n_jobs=-1)]: Done 442 tasks      | elapsed:   56.8s\n",
      "[Parallel(n_jobs=-1)]: Done 792 tasks      | elapsed:  1.7min\n",
      "[Parallel(n_jobs=-1)]: Done 1000 out of 1000 | elapsed:  2.1min finished\n"
     ]
    },
    {
     "name": "stdout",
     "output_type": "stream",
     "text": [
      "Leaf Size: 200\n"
     ]
    },
    {
     "name": "stderr",
     "output_type": "stream",
     "text": [
      "[Parallel(n_jobs=4)]: Done  42 tasks      | elapsed:    0.1s\n",
      "[Parallel(n_jobs=4)]: Done 192 tasks      | elapsed:    0.4s\n",
      "[Parallel(n_jobs=4)]: Done 442 tasks      | elapsed:    0.9s\n",
      "[Parallel(n_jobs=4)]: Done 792 tasks      | elapsed:    1.7s\n",
      "[Parallel(n_jobs=4)]: Done 1000 out of 1000 | elapsed:    2.1s finished\n"
     ]
    },
    {
     "name": "stdout",
     "output_type": "stream",
     "text": [
      "0.505769477952\n"
     ]
    },
    {
     "name": "stderr",
     "output_type": "stream",
     "text": [
      "[Parallel(n_jobs=-1)]: Done  42 tasks      | elapsed:    5.4s\n",
      "[Parallel(n_jobs=-1)]: Done 192 tasks      | elapsed:   24.4s\n",
      "[Parallel(n_jobs=-1)]: Done 442 tasks      | elapsed:   57.9s\n",
      "[Parallel(n_jobs=-1)]: Done 792 tasks      | elapsed:  1.7min\n",
      "[Parallel(n_jobs=-1)]: Done 1000 out of 1000 | elapsed:  2.2min finished\n"
     ]
    },
    {
     "ename": "KeyboardInterrupt",
     "evalue": "",
     "output_type": "error",
     "traceback": [
      "\u001b[0;31m---------------------------------------------------------------------------\u001b[0m",
      "\u001b[0;31mKeyboardInterrupt\u001b[0m                         Traceback (most recent call last)",
      "\u001b[0;32m<ipython-input-102-bd826f83fc3c>\u001b[0m in \u001b[0;36m<module>\u001b[0;34m()\u001b[0m\n\u001b[1;32m     13\u001b[0m                                    verbose = 1, random_state = 42, min_samples_leaf = 50)\n\u001b[1;32m     14\u001b[0m     \u001b[0;31m# Train the model using the training sets and check score\u001b[0m\u001b[0;34m\u001b[0m\u001b[0;34m\u001b[0m\u001b[0m\n\u001b[0;32m---> 15\u001b[0;31m     \u001b[0mrfr50\u001b[0m\u001b[0;34m.\u001b[0m\u001b[0mfit\u001b[0m\u001b[0;34m(\u001b[0m\u001b[0mX\u001b[0m\u001b[0;34m,\u001b[0m \u001b[0my\u001b[0m\u001b[0;34m.\u001b[0m\u001b[0mvalues\u001b[0m\u001b[0;34m)\u001b[0m\u001b[0;34m\u001b[0m\u001b[0m\n\u001b[0m\u001b[1;32m     16\u001b[0m     \u001b[0;32mprint\u001b[0m \u001b[0;34m\"Leaf Size: %d\"\u001b[0m \u001b[0;34m%\u001b[0m \u001b[0;34m(\u001b[0m\u001b[0mleaf_size\u001b[0m\u001b[0;34m)\u001b[0m\u001b[0;34m\u001b[0m\u001b[0m\n\u001b[1;32m     17\u001b[0m     \u001b[0;32mprint\u001b[0m \u001b[0mrfr50\u001b[0m\u001b[0;34m.\u001b[0m\u001b[0mscore\u001b[0m\u001b[0;34m(\u001b[0m\u001b[0mX\u001b[0m\u001b[0;34m,\u001b[0m \u001b[0my\u001b[0m\u001b[0;34m)\u001b[0m\u001b[0;34m\u001b[0m\u001b[0m\n",
      "\u001b[0;32m/Users/andrewrubino/anaconda2/lib/python2.7/site-packages/sklearn/ensemble/forest.pyc\u001b[0m in \u001b[0;36mfit\u001b[0;34m(self, X, y, sample_weight)\u001b[0m\n\u001b[1;32m    330\u001b[0m \u001b[0;34m\u001b[0m\u001b[0m\n\u001b[1;32m    331\u001b[0m         \u001b[0;32mif\u001b[0m \u001b[0mself\u001b[0m\u001b[0;34m.\u001b[0m\u001b[0moob_score\u001b[0m\u001b[0;34m:\u001b[0m\u001b[0;34m\u001b[0m\u001b[0m\n\u001b[0;32m--> 332\u001b[0;31m             \u001b[0mself\u001b[0m\u001b[0;34m.\u001b[0m\u001b[0m_set_oob_score\u001b[0m\u001b[0;34m(\u001b[0m\u001b[0mX\u001b[0m\u001b[0;34m,\u001b[0m \u001b[0my\u001b[0m\u001b[0;34m)\u001b[0m\u001b[0;34m\u001b[0m\u001b[0m\n\u001b[0m\u001b[1;32m    333\u001b[0m \u001b[0;34m\u001b[0m\u001b[0m\n\u001b[1;32m    334\u001b[0m         \u001b[0;31m# Decapsulate classes_ attributes\u001b[0m\u001b[0;34m\u001b[0m\u001b[0;34m\u001b[0m\u001b[0m\n",
      "\u001b[0;32m/Users/andrewrubino/anaconda2/lib/python2.7/site-packages/sklearn/ensemble/forest.pyc\u001b[0m in \u001b[0;36m_set_oob_score\u001b[0;34m(self, X, y)\u001b[0m\n\u001b[1;32m    712\u001b[0m                 estimator.random_state, n_samples)\n\u001b[1;32m    713\u001b[0m             p_estimator = estimator.predict(\n\u001b[0;32m--> 714\u001b[0;31m                 X[unsampled_indices, :], check_input=False)\n\u001b[0m\u001b[1;32m    715\u001b[0m \u001b[0;34m\u001b[0m\u001b[0m\n\u001b[1;32m    716\u001b[0m             \u001b[0;32mif\u001b[0m \u001b[0mself\u001b[0m\u001b[0;34m.\u001b[0m\u001b[0mn_outputs_\u001b[0m \u001b[0;34m==\u001b[0m \u001b[0;36m1\u001b[0m\u001b[0;34m:\u001b[0m\u001b[0;34m\u001b[0m\u001b[0m\n",
      "\u001b[0;31mKeyboardInterrupt\u001b[0m: "
     ]
    }
   ],
   "source": [
    "from sklearn.ensemble import RandomForestRegressor\n",
    "\n",
    "X = X_train.loc[:,feature_list]\n",
    "\n",
    "y = y_train\n",
    "\n",
    "x_test = X_test.loc[:,feature_list]\n",
    "\n",
    "#sample_leaf_options = [50,100,200,500]\n",
    "\n",
    "for leaf_size in sample_leaf_options :\n",
    "    rfr50 = RandomForestRegressor(n_estimators=1000, oob_score=True, n_jobs = -1,\n",
    "                                   verbose = 1, random_state = 42, min_samples_leaf = 50)\n",
    "    # Train the model using the training sets and check score\n",
    "    rfr50.fit(X, y.values)\n",
    "    print \"Leaf Size: %d\" % (leaf_size)\n",
    "    print rfr50.score(X, y)\n"
   ]
  },
  {
   "cell_type": "code",
   "execution_count": null,
   "metadata": {
    "collapsed": true
   },
   "outputs": [],
   "source": [
    "rfr50 = RandomForestRegressor(n_estimators=1000, oob_score=True, n_jobs = -1,\n",
    "                              verbose = 1, random_state = 69, min_samples_leaf = 50)"
   ]
  },
  {
   "cell_type": "code",
   "execution_count": 48,
   "metadata": {
    "collapsed": true
   },
   "outputs": [],
   "source": [
    "rfr100 = RandomForestRegressor(n_estimators=1000, oob_score=True, n_jobs = -1,\n",
    "                              verbose = 1, random_state = 69, min_samples_leaf = 100)"
   ]
  },
  {
   "cell_type": "code",
   "execution_count": 63,
   "metadata": {
    "collapsed": false
   },
   "outputs": [
    {
     "name": "stderr",
     "output_type": "stream",
     "text": [
      "[Parallel(n_jobs=-1)]: Done  42 tasks      | elapsed:    5.9s\n",
      "[Parallel(n_jobs=-1)]: Done 192 tasks      | elapsed:   28.5s\n",
      "[Parallel(n_jobs=-1)]: Done 442 tasks      | elapsed:  1.1min\n",
      "[Parallel(n_jobs=-1)]: Done 792 tasks      | elapsed:  1.8min\n",
      "[Parallel(n_jobs=-1)]: Done 1000 out of 1000 | elapsed:  2.3min finished\n"
     ]
    },
    {
     "data": {
      "text/plain": [
       "RandomForestRegressor(bootstrap=True, criterion='mse', max_depth=None,\n",
       "           max_features='auto', max_leaf_nodes=None,\n",
       "           min_impurity_split=1e-07, min_samples_leaf=50,\n",
       "           min_samples_split=2, min_weight_fraction_leaf=0.0,\n",
       "           n_estimators=1000, n_jobs=-1, oob_score=True, random_state=69,\n",
       "           verbose=1, warm_start=False)"
      ]
     },
     "execution_count": 63,
     "metadata": {},
     "output_type": "execute_result"
    }
   ],
   "source": [
    "rfr50.fit(X, y.values.ravel())"
   ]
  },
  {
   "cell_type": "code",
   "execution_count": null,
   "metadata": {
    "collapsed": false
   },
   "outputs": [],
   "source": [
    "rfr50.predict(X_test)"
   ]
  },
  {
   "cell_type": "code",
   "execution_count": null,
   "metadata": {
    "collapsed": true
   },
   "outputs": [],
   "source": [
    "id_test = test['id']\n",
    "y_pred = np.round(predicted * 0.99)\n",
    "df_sub = pd.DataFrame({'id': id_test, 'price_doc': y_pred})"
   ]
  }
 ],
 "metadata": {
  "kernelspec": {
   "display_name": "Python 2",
   "language": "python",
   "name": "python2"
  },
  "language_info": {
   "codemirror_mode": {
    "name": "ipython",
    "version": 2
   },
   "file_extension": ".py",
   "mimetype": "text/x-python",
   "name": "python",
   "nbconvert_exporter": "python",
   "pygments_lexer": "ipython2",
   "version": "2.7.13"
  }
 },
 "nbformat": 4,
 "nbformat_minor": 2
}
