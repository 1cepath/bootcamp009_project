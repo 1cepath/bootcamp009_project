{
 "cells": [
  {
   "cell_type": "markdown",
   "metadata": {},
   "source": [
    "# Multiple Linear Regression Exploration"
   ]
  },
  {
   "cell_type": "markdown",
   "metadata": {},
   "source": [
    "## Import libraries"
   ]
  },
  {
   "cell_type": "code",
   "execution_count": 1,
   "metadata": {
    "collapsed": true
   },
   "outputs": [],
   "source": [
    "import numpy as np\n",
    "import pandas as pd\n",
    "\n",
    "import matplotlib.pyplot as plt\n",
    "import seaborn as sns\n",
    "\n",
    "from __future__ import print_function\n",
    "\n",
    "from scipy import stats\n",
    "from sklearn import linear_model\n",
    "\n",
    "\n",
    "%matplotlib inline\n",
    "\n",
    "pd.options.mode.chained_assignment = None # default = 'warn'\n",
    "pd.set_option('display.max_columns', 500)\n",
    "color = sns.color_palette()"
   ]
  },
  {
   "cell_type": "markdown",
   "metadata": {},
   "source": [
    "## Pull data and create regression object"
   ]
  },
  {
   "cell_type": "code",
   "execution_count": 143,
   "metadata": {
    "collapsed": false
   },
   "outputs": [],
   "source": [
    "train = pd.read_csv('train.csv', parse_dates=['timestamp'])\n",
    "test = pd.read_csv('test.csv', parse_dates = ['timestamp'])\n",
    "macro = pd.read_csv('macro.csv', parse_dates = ['timestamp'])\n",
    "\n",
    "ols = linear_model.LinearRegression()  # create the object easily"
   ]
  },
  {
   "cell_type": "markdown",
   "metadata": {},
   "source": [
    "# Combine Datasets"
   ]
  },
  {
   "cell_type": "code",
   "execution_count": 137,
   "metadata": {
    "collapsed": false
   },
   "outputs": [
    {
     "data": {
      "text/plain": [
       "(38133, 392)"
      ]
     },
     "execution_count": 137,
     "metadata": {},
     "output_type": "execute_result"
    }
   ],
   "source": [
    "train['dataset'] = 'train'\n",
    "test['dataset'] = 'test'\n",
    "\n",
    "# concat train and test\n",
    "df = pd.concat([train, test])\n",
    "\n",
    "# merge macro set \n",
    "df = pd.merge(df, macro, how='left', on = 'timestamp')\n",
    "\n",
    "df.shape"
   ]
  },
  {
   "cell_type": "markdown",
   "metadata": {},
   "source": [
    "# Subset important columns"
   ]
  },
  {
   "cell_type": "code",
   "execution_count": 157,
   "metadata": {
    "collapsed": false
   },
   "outputs": [],
   "source": [
    "df_important = df.loc[:, ['id', 'timestamp', 'full_sq',\n",
    "                          'life_sq', 'floor', 'max_floor', 'material',\n",
    "                          'build_year', 'num_room',\n",
    "                          'kitch_sq', 'state',\n",
    "                          'product_type', 'sub_area',\n",
    "                          'indust_part', 'school_education_centers_raion',\n",
    "                          'sport_objects_raion', 'culture_objects_top_25_raion',\n",
    "                          'oil_chemistry_raion', 'metro_min_avto',\n",
    "                          'green_zone_km', 'industrial_km',\n",
    "                          'kremlin_km', 'radiation_km',\n",
    "                          'ts_km', 'fitness_km',\n",
    "                          'stadium_km', 'additional_education_km',\n",
    "                          'cafe_count_1500_price_500', 'cafe_count_1500_price_high',\n",
    "                          'cafe_count_2000_price_2500', 'trc_sqm_5000',\n",
    "                          'cafe_count_5000', 'cafe_count_5000_price_high',\n",
    "                          'gdp_quart', 'cpi',\n",
    "                          'ppi', 'usdrub',\n",
    "                          'eurrub', 'gdp_annual',\n",
    "                          'rts', 'micex',\n",
    "                          'micex_cbi_tr', 'deposits_rate',\n",
    "                          'mortgage_rate', 'income_per_cap',\n",
    "                          'salary', 'labor_force',\n",
    "                          'unemployment', 'employment']]"
   ]
  },
  {
   "cell_type": "code",
   "execution_count": 161,
   "metadata": {
    "collapsed": false
   },
   "outputs": [],
   "source": [
    "# check missing values\n",
    "# df_important.info()\n",
    "# it checked out"
   ]
  },
  {
   "cell_type": "code",
   "execution_count": 142,
   "metadata": {
    "collapsed": false
   },
   "outputs": [
    {
     "data": {
      "text/plain": [
       "array(['id', 'timestamp', 'full_sq', 'life_sq', 'floor', 'max_floor',\n",
       "       'material', 'build_year', 'num_room', 'kitch_sq', 'tk/state',\n",
       "       'product_type', 'sub_area', 'indust_part',\n",
       "       'school_education_centers_raion', 'sport_objects_raion',\n",
       "       'culture_objects_top_25_raion', 'oil_chemistry_raion',\n",
       "       'metro_min_avto', 'green_zone_km', 'industrial_zone_km',\n",
       "       'kremlin_km', 'radiation_km', 'ts_km', 'fitness_km', 'stadium_km',\n",
       "       'additional_education_km', 'cafe_count_1500_price_500',\n",
       "       'cafe_count_1500_price_high', 'cafe_count_2000_price_2500',\n",
       "       'trc_sqm_5000', 'cafe_count_5000', 'cafe_count_5000_price_high',\n",
       "       'gdp_quart', 'cpi', 'ppi', 'usdrub', 'eurrub', 'gdp_annual', 'rts',\n",
       "       'micex', 'micex_cbi_tr', 'deposits_rate', 'mortgage_rate',\n",
       "       'income_per_cap', 'salary', 'labor_force', 'unemployment',\n",
       "       'employment'], dtype=object)"
      ]
     },
     "execution_count": 142,
     "metadata": {},
     "output_type": "execute_result"
    }
   ],
   "source": [
    "df_important.columns.values"
   ]
  },
  {
   "cell_type": "code",
   "execution_count": null,
   "metadata": {
    "collapsed": true
   },
   "outputs": [],
   "source": []
  },
  {
   "cell_type": "code",
   "execution_count": 96,
   "metadata": {
    "collapsed": false
   },
   "outputs": [],
   "source": [
    "train['price_doc_log'] = np.log1p(train['price_doc'])\n",
    "train['price_doc_log10'] = np.log10(train['price_doc'])\n",
    "train_nona = train.dropna()"
   ]
  },
  {
   "cell_type": "code",
   "execution_count": 97,
   "metadata": {
    "collapsed": false
   },
   "outputs": [],
   "source": [
    "x = train_nona.drop('price_doc', axis = 1)\n",
    "x = x.drop('price_doc_log', axis = 1)\n",
    "x = x.drop('price_doc_log10', axis = 1)\n",
    "x = x.select_dtypes(include=['float64'])\n"
   ]
  },
  {
   "cell_type": "code",
   "execution_count": 98,
   "metadata": {
    "collapsed": false
   },
   "outputs": [],
   "source": [
    "y = train_nona[['price_doc_log']]"
   ]
  },
  {
   "cell_type": "markdown",
   "metadata": {},
   "source": [
    "## Fit the Regression"
   ]
  }
 ],
 "metadata": {
  "kernelspec": {
   "display_name": "Python 2",
   "language": "python",
   "name": "python2"
  },
  "language_info": {
   "codemirror_mode": {
    "name": "ipython",
    "version": 2
   },
   "file_extension": ".py",
   "mimetype": "text/x-python",
   "name": "python",
   "nbconvert_exporter": "python",
   "pygments_lexer": "ipython2",
   "version": "2.7.13"
  }
 },
 "nbformat": 4,
 "nbformat_minor": 2
}
