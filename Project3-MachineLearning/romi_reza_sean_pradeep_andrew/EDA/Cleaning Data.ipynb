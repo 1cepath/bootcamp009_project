{
 "cells": [
  {
   "cell_type": "markdown",
   "metadata": {},
   "source": [
    "# Data Cleaning \n",
    "\n",
    "### From Kaggle Kernels:\n",
    "#### Extensive Sberbank Exploratory Analysis:\n",
    "**source:** https://www.kaggle.com/captcalculator/a-very-extensive-sberbank-exploratory-analysis/comments#latest-185178\n",
    "\n",
    "* 37 observations where life_sq is greater than full_sq.\n",
    "* A vast majority of the apartments have three rooms or less.\n",
    "* Look to see how life sq ~ price changes based on sub-area or distance to kremlin\n",
    "* Home price does seem to increase with population density.\n",
    "* There does not appear to be a relationship between the mean home price in a district and the district’s share of working age population.\n",
    "* Surprisingly, there is little to no correlation between price and the school variables. The school variables however are highly correlated with each other, indicating that we would not want to use all of them in a linear regression model due to multicollinearity.\n",
    "* homes with >3 top 20 universities show signs of correlation, but only one house fits that description.\n",
    "* raions that have a top 25 cultural object have a median home sale price that is higher by 1.2 million (using this feature as a factor)\n",
    "* strong positive correlation between sport_objects_raion and price_doc\n",
    "\n",
    "#### Simple Exploration Notebook - Sberbank\n",
    "**source:** https://www.kaggle.com/sudalairajkumar/simple-exploration-notebook-sberbank/comments/notebook\n",
    "\n",
    "* overall increasing trend in price as floor_num increases. A sudden increase in the house price is also observed at floor 18.\n",
    "* Individual houses seems to be costlier, check price of 0 floor houses.\n",
    "\n",
    "#### Map visualizations with external shapefile\n",
    "**source:** https://www.kaggle.com/jtremoureux/map-visualizations-with-external-shapefile/notebook\n",
    "\n",
    "* replace regions with map shapefile coordinates\n",
    "\n"
   ]
  },
  {
   "cell_type": "markdown",
   "metadata": {},
   "source": [
    "## Import Libraries & Data"
   ]
  },
  {
   "cell_type": "code",
   "execution_count": 1,
   "metadata": {
    "collapsed": false
   },
   "outputs": [],
   "source": [
    "import pandas as pd\n",
    "import numpy as np\n",
    "from sklearn import preprocessing\n",
    "from datetime import datetime\n",
    "\n",
    "# load dataset\n",
    "train_df = pd.read_csv(\"../Sberbank/train.csv\", parse_dates=['timestamp'], index_col=False, low_memory=False)\n",
    "test_df = pd.read_csv(\"../Sberbank/test.csv\", parse_dates=['timestamp'], index_col=False, low_memory=False)\n",
    "macro_df = pd.read_csv(\"../Sberbank/macro.csv\", parse_dates=['timestamp'], index_col=False, low_memory=False)"
   ]
  },
  {
   "cell_type": "markdown",
   "metadata": {},
   "source": [
    "### Merge Train & Test"
   ]
  },
  {
   "cell_type": "code",
   "execution_count": 2,
   "metadata": {
    "collapsed": true
   },
   "outputs": [],
   "source": [
    "frames = [train_df, test_df]\n",
    "\n",
    "df = pd.concat(frames)"
   ]
  },
  {
   "cell_type": "markdown",
   "metadata": {},
   "source": [
    "### Add Macro"
   ]
  },
  {
   "cell_type": "code",
   "execution_count": 3,
   "metadata": {
    "collapsed": true
   },
   "outputs": [],
   "source": [
    "# add macro data to train/test data\n",
    "\n",
    "train_df = pd.merge(train_df, macro_df, how='left', on='timestamp')\n",
    "test_df = pd.merge(test_df, macro_df, how='left', on='timestamp')\n",
    "\n",
    "df = pd.merge(df, macro_df, how='left', on='timestamp')"
   ]
  },
  {
   "cell_type": "markdown",
   "metadata": {},
   "source": [
    "## Transformations"
   ]
  },
  {
   "cell_type": "markdown",
   "metadata": {},
   "source": [
    "### Add Date/Time "
   ]
  },
  {
   "cell_type": "code",
   "execution_count": 4,
   "metadata": {
    "collapsed": true
   },
   "outputs": [],
   "source": [
    "# add month, day, year to train and test data\n",
    "df['month'] = df['timestamp'].dt.month\n",
    "df['day'] = df['timestamp'].dt.day\n",
    "df['year'] = df['timestamp'].dt.year\n",
    "\n",
    "# Add month-year\n",
    "month_year = (df.timestamp.dt.month + df.timestamp.dt.year * 100)\n",
    "month_year_map = month_year.value_counts().to_dict()\n",
    "df['month_year'] = month_year.map(month_year_map)\n",
    "\n",
    "\n",
    "# Add week-year count\n",
    "week_year = (df.timestamp.dt.weekofyear + df.timestamp.dt.year * 100)\n",
    "week_year_map = week_year.value_counts().to_dict()\n",
    "df['week_year'] = week_year.map(week_year_map)\n",
    "\n",
    "\n",
    "# Add month and day-of-week\n",
    "df['month'] = df.timestamp.dt.month\n",
    "df['dow'] = df.timestamp.dt.dayofweek"
   ]
  },
  {
   "cell_type": "markdown",
   "metadata": {},
   "source": [
    "### Price:"
   ]
  },
  {
   "cell_type": "code",
   "execution_count": 5,
   "metadata": {
    "collapsed": false
   },
   "outputs": [],
   "source": [
    "df['price_doc_log'] = np.log1p(df['price_doc'])\n",
    "df['price_doc_log10'] = np.log10(df['price_doc'])"
   ]
  },
  {
   "cell_type": "markdown",
   "metadata": {},
   "source": [
    "### Unit Size:"
   ]
  },
  {
   "cell_type": "code",
   "execution_count": 6,
   "metadata": {
    "collapsed": true
   },
   "outputs": [],
   "source": [
    "# squared and square root of full sq\n",
    "df['full_sq^2'] = np.square(df['full_sq'])\n",
    "df['full_sqrt'] = np.sqrt(df['full_sq'])\n",
    "\n",
    "# floor ratios\n",
    "df['rel_floor'] = df['floor'] / df['max_floor'].astype(float)\n",
    "df['rel_kitch_sq'] = df['kitch_sq'] / df['full_sq'].astype(float)\n",
    "\n",
    "\n",
    "# area and population density\n",
    "df['area_km'] = df['area_m'] / 1000000\n",
    "df['density'] = df['raion_popul'] / df['area_km']\n",
    "\n",
    "\n",
    "# working population\n",
    "df['work_share'] = df['work_all'] / df['raion_popul']"
   ]
  },
  {
   "cell_type": "markdown",
   "metadata": {},
   "source": [
    "## Adding Lags and calculating deltas"
   ]
  },
  {
   "cell_type": "markdown",
   "metadata": {},
   "source": [
    "#### Create lag timestamps for one month, three months, 6 months, and 12 months."
   ]
  },
  {
   "cell_type": "code",
   "execution_count": 7,
   "metadata": {
    "collapsed": false
   },
   "outputs": [],
   "source": [
    "df['one_month_lag'] = df['timestamp'] - pd.to_timedelta('30 days')\n",
    "df['three_month_lag'] = df['timestamp'] - pd.to_timedelta('90 days')\n",
    "df['six_month_lag'] = df['timestamp'] - pd.to_timedelta('180 days')\n",
    "df['twelve_month_lag'] = df['timestamp'] - pd.to_timedelta('360 days')"
   ]
  },
  {
   "cell_type": "code",
   "execution_count": 8,
   "metadata": {
    "collapsed": false
   },
   "outputs": [],
   "source": [
    "# df[['timestamp', 'one_month_lag', 'three_month_lag', 'six_month_lag', 'twelve_month_lag']]"
   ]
  },
  {
   "cell_type": "markdown",
   "metadata": {},
   "source": [
    "### Join macro features with chosen delay intervals"
   ]
  },
  {
   "cell_type": "code",
   "execution_count": 9,
   "metadata": {
    "collapsed": false
   },
   "outputs": [],
   "source": [
    "lag_features = ['timestamp' ,'oil_urals', 'gdp_quart',\n",
    "                'cpi', 'usdrub', 'micex_cbi_tr', 'labor_force']\n",
    "# 1-month lag\n",
    "df = pd.merge(df, macro_df[lag_features], how = 'left', left_on='one_month_lag', right_on='timestamp', suffixes=('','_1'))\n",
    "# 3-month lag\n",
    "df = pd.merge(df, macro_df[lag_features], how = 'left', left_on='three_month_lag', right_on='timestamp', suffixes=('','_3'))\n",
    "# 6 month lag\n",
    "df = pd.merge(df, macro_df[lag_features], how = 'left', left_on='six_month_lag', right_on='timestamp', suffixes=('','_6'))\n",
    "# 12 month lag\n",
    "df = pd.merge(df, macro_df[lag_features], how = 'left', left_on='twelve_month_lag', right_on='timestamp', suffixes=('','_12'))"
   ]
  },
  {
   "cell_type": "markdown",
   "metadata": {},
   "source": [
    "### Deltas:"
   ]
  },
  {
   "cell_type": "markdown",
   "metadata": {},
   "source": [
    "### Oil:"
   ]
  },
  {
   "cell_type": "code",
   "execution_count": 10,
   "metadata": {
    "collapsed": false
   },
   "outputs": [],
   "source": [
    "df['delta_oil_1'] = (df['oil_urals'] - df['oil_urals_1']) / df['oil_urals']\n",
    "df['delta_oil_3'] = (df['oil_urals'] - df['oil_urals_3']) / df['oil_urals']\n",
    "df['delta_oil_6'] = (df['oil_urals'] - df['oil_urals_6']) / df['oil_urals']\n",
    "df['delta_oil_12'] = (df['oil_urals'] - df['oil_urals_12']) / df['oil_urals']"
   ]
  },
  {
   "cell_type": "markdown",
   "metadata": {},
   "source": [
    "### Currency"
   ]
  },
  {
   "cell_type": "code",
   "execution_count": 11,
   "metadata": {
    "collapsed": true
   },
   "outputs": [],
   "source": [
    "df['delta_usdrub_1'] = (df['usdrub'] - df['usdrub_1']) / df['usdrub']\n",
    "df['delta_usdrub_3'] = (df['usdrub'] - df['usdrub_3']) / df['usdrub']\n",
    "df['delta_usdrub_6'] = (df['usdrub'] - df['usdrub_6']) / df['usdrub']\n",
    "df['delta_usdrub_12'] = (df['usdrub'] - df['usdrub_12']) / df['usdrub']"
   ]
  },
  {
   "cell_type": "markdown",
   "metadata": {},
   "source": [
    "### Labor Force"
   ]
  },
  {
   "cell_type": "code",
   "execution_count": 12,
   "metadata": {
    "collapsed": true
   },
   "outputs": [],
   "source": [
    "df['delta_labor_force_1'] = (df['labor_force'] - df['labor_force_1']) / df['labor_force']\n",
    "df['delta_labor_force_3'] = (df['labor_force'] - df['labor_force_3']) / df['labor_force']\n",
    "df['delta_labor_force_6'] = (df['labor_force'] - df['labor_force_6']) / df['labor_force']\n",
    "df['delta_labor_force_12'] = (df['labor_force'] - df['labor_force_12']) / df['labor_force']"
   ]
  },
  {
   "cell_type": "markdown",
   "metadata": {},
   "source": [
    "# micex_rgbi_tr"
   ]
  },
  {
   "cell_type": "code",
   "execution_count": 13,
   "metadata": {
    "collapsed": true
   },
   "outputs": [],
   "source": [
    "df['micex_rgbi_tr_1'] = (df['labor_force'] - df['labor_force_1']) / df['labor_force']\n",
    "df['micex_rgbi_tr_3'] = (df['labor_force'] - df['labor_force_3']) / df['labor_force']\n",
    "df['micex_rgbi_tr_6'] = (df['labor_force'] - df['labor_force_6']) / df['labor_force']\n",
    "df['micex_rgbi_tr_12'] = (df['labor_force'] - df['labor_force_12']) / df['labor_force']"
   ]
  },
  {
   "cell_type": "markdown",
   "metadata": {},
   "source": [
    "## Manual Imputing:"
   ]
  },
  {
   "cell_type": "code",
   "execution_count": 14,
   "metadata": {
    "collapsed": true
   },
   "outputs": [],
   "source": [
    "# Cleaning values with incorrect information \n",
    "df.loc[df['state'] == 33, 'state'] = 3\n",
    "df = df.loc[df['id'] != 24718] \n",
    "df = df.loc[df['floor'] != 0] \n",
    "\n",
    "df.loc[df['build_year'] == 20052009, 'build_year'] = 2009\n",
    "df.loc[df['build_year'] == 215, 'build_year'] = 2015\n",
    "df = df.loc[df['build_year'] != 4965, :]\n",
    "df.loc[df['build_year'] == 0, 'build_year'] = df['year']\n",
    "df.loc[df['build_year'] == 1, 'build_year'] = df['year']\n",
    "df.loc[df['build_year'] == 2, 'build_year'] = df['year']\n",
    "df.loc[df['build_year'] == 3, 'build_year'] = df['year']\n",
    "df.loc[df['build_year'] == 20, 'build_year'] = 1920\n",
    "df.loc[df['build_year'] == 71, 'build_year'] = 1971\n",
    "df.loc[df['build_year'] == 1691, 'build_year'] = 1961\n"
   ]
  },
  {
   "cell_type": "code",
   "execution_count": 15,
   "metadata": {
    "collapsed": false
   },
   "outputs": [
    {
     "data": {
      "text/plain": [
       "14158    1860.0\n",
       "27751    1860.0\n",
       "35079    1875.0\n",
       "17212    1876.0\n",
       "29517    1886.0\n",
       "37938    1890.0\n",
       "23174    1890.0\n",
       "19541    1890.0\n",
       "23117    1890.0\n",
       "34357    1890.0\n",
       "18933    1890.0\n",
       "18079    1890.0\n",
       "32012    1895.0\n",
       "16581    1895.0\n",
       "15282    1896.0\n",
       "12068    1896.0\n",
       "37822    1898.0\n",
       "17296    1900.0\n",
       "22778    1900.0\n",
       "34071    1902.0\n",
       "21897    1904.0\n",
       "31442    1905.0\n",
       "28821    1905.0\n",
       "22665    1906.0\n",
       "35353    1906.0\n",
       "17582    1907.0\n",
       "8056     1907.0\n",
       "35352    1908.0\n",
       "15306    1910.0\n",
       "19514    1910.0\n",
       "          ...  \n",
       "37939       NaN\n",
       "37951       NaN\n",
       "37952       NaN\n",
       "37957       NaN\n",
       "37972       NaN\n",
       "37988       NaN\n",
       "37992       NaN\n",
       "38000       NaN\n",
       "38001       NaN\n",
       "38004       NaN\n",
       "38006       NaN\n",
       "38037       NaN\n",
       "38038       NaN\n",
       "38045       NaN\n",
       "38055       NaN\n",
       "38059       NaN\n",
       "38060       NaN\n",
       "38061       NaN\n",
       "38077       NaN\n",
       "38081       NaN\n",
       "38085       NaN\n",
       "38089       NaN\n",
       "38095       NaN\n",
       "38106       NaN\n",
       "38109       NaN\n",
       "38113       NaN\n",
       "38120       NaN\n",
       "38126       NaN\n",
       "38127       NaN\n",
       "38129       NaN\n",
       "Name: build_year, Length: 38122, dtype: float64"
      ]
     },
     "execution_count": 15,
     "metadata": {},
     "output_type": "execute_result"
    },
    {
     "data": {
      "image/png": "[encoded data removed]",
      "text/plain": [
       "<matplotlib.figure.Figure at 0x1176acd10>"
      ]
     },
     "metadata": {},
     "output_type": "display_data"
    }
   ],
   "source": [
    "import seaborn as sns\n",
    "from matplotlib import pyplot as plt\n",
    "\n",
    "sns.set(style=\"white\", color_codes=True)\n",
    "\n",
    "%matplotlib inline\n",
    "\n",
    "# grid = sns.JointGrid(x, y, space=0, size=12, ratio=50)\n",
    "\n",
    "sns.stripplot(df['build_year'])\n",
    "df['build_year'].sort_values()"
   ]
  },
  {
   "cell_type": "markdown",
   "metadata": {},
   "source": [
    "## Functions for Scaling/Normalizing/Reshaping\n",
    " (Note: not necessary for Random Forest Models)"
   ]
  },
  {
   "cell_type": "code",
   "execution_count": 16,
   "metadata": {
    "collapsed": true
   },
   "outputs": [],
   "source": [
    "# def rescale(feature):\n",
    "#     return feature.apply(lambda x: (x - np.mean(x))/np.std(x))\n",
    "\n",
    "# def normalize(feature):\n",
    "#     return feature.apply(lambda x: (x-np.min(x))/(np.max(x)-np.min(x)))"
   ]
  },
  {
   "cell_type": "markdown",
   "metadata": {},
   "source": [
    "#### Check dtypes and split objects and numeric types"
   ]
  },
  {
   "cell_type": "code",
   "execution_count": 17,
   "metadata": {
    "collapsed": false
   },
   "outputs": [],
   "source": [
    "df_numerics = df.select_dtypes(exclude=['object'])\n",
    "df_objects = df.select_dtypes(include=['object'])"
   ]
  },
  {
   "cell_type": "markdown",
   "metadata": {},
   "source": [
    "#### Normalize and rescale numeric features"
   ]
  },
  {
   "cell_type": "code",
   "execution_count": 18,
   "metadata": {
    "collapsed": false
   },
   "outputs": [],
   "source": [
    "# df_numerics.loc[:, df_numerics.columns != 'timestamp'] = df_numerics.select_dtypes(exclude=['datetime'])"
   ]
  },
  {
   "cell_type": "markdown",
   "metadata": {},
   "source": [
    "### Merge again"
   ]
  },
  {
   "cell_type": "code",
   "execution_count": 19,
   "metadata": {
    "collapsed": false
   },
   "outputs": [],
   "source": [
    "frames = [df_numerics, df_objects]\n",
    "\n",
    "df = pd.concat(frames,axis=1)"
   ]
  },
  {
   "cell_type": "code",
   "execution_count": 20,
   "metadata": {
    "collapsed": false
   },
   "outputs": [
    {
     "data": {
      "text/plain": [
       "(38122, 454)"
      ]
     },
     "execution_count": 20,
     "metadata": {},
     "output_type": "execute_result"
    }
   ],
   "source": [
    "df.shape"
   ]
  },
  {
   "cell_type": "markdown",
   "metadata": {},
   "source": [
    "### Creating X and y sets"
   ]
  },
  {
   "cell_type": "code",
   "execution_count": 21,
   "metadata": {
    "collapsed": false
   },
   "outputs": [],
   "source": [
    "y_full = df['price_doc'].values\n",
    "X_full = df.loc[:, df.columns != 'price_doc'].values"
   ]
  },
  {
   "cell_type": "markdown",
   "metadata": {},
   "source": [
    "### Add imputed build and state values"
   ]
  },
  {
   "cell_type": "code",
   "execution_count": 22,
   "metadata": {
    "collapsed": false
   },
   "outputs": [],
   "source": [
    "# build = pd.read_csv('./df_build_year_2017-05-26.csv')\n",
    "# state = pd.read_csv('./df_state_2017-05-26.csv')"
   ]
  },
  {
   "cell_type": "code",
   "execution_count": 23,
   "metadata": {
    "collapsed": false
   },
   "outputs": [],
   "source": [
    "# df.loc[df['build_year'].isnull(), 'build_year'] = build['build_year']\n",
    "# df.loc[df['state'].isnull(), 'state'] = state['state']"
   ]
  },
  {
   "cell_type": "markdown",
   "metadata": {},
   "source": [
    "Check to see if any feature consists of non-float value"
   ]
  },
  {
   "cell_type": "markdown",
   "metadata": {},
   "source": [
    "#### Confirm data's status before saving"
   ]
  },
  {
   "cell_type": "code",
   "execution_count": 24,
   "metadata": {
    "collapsed": false
   },
   "outputs": [
    {
     "data": {
      "text/plain": [
       "count    23872.000000\n",
       "mean         2.070585\n",
       "std          0.841263\n",
       "min          1.000000\n",
       "25%          1.000000\n",
       "50%          2.000000\n",
       "75%          3.000000\n",
       "max          4.000000\n",
       "Name: state, dtype: float64"
      ]
     },
     "execution_count": 24,
     "metadata": {},
     "output_type": "execute_result"
    }
   ],
   "source": [
    "df['build_year'].describe()\n",
    "df['state'].describe()"
   ]
  },
  {
   "cell_type": "markdown",
   "metadata": {},
   "source": [
    "## Save to CSV"
   ]
  },
  {
   "cell_type": "code",
   "execution_count": 25,
   "metadata": {
    "collapsed": false
   },
   "outputs": [],
   "source": [
    "df.to_csv('./cleaned_df_{0}.csv'.format(datetime.date(datetime.now())), index=False)"
   ]
  }
 ],
 "metadata": {
  "kernelspec": {
   "display_name": "Python 2",
   "language": "python",
   "name": "python2"
  },
  "language_info": {
   "codemirror_mode": {
    "name": "ipython",
    "version": 2
   },
   "file_extension": ".py",
   "mimetype": "text/x-python",
   "name": "python",
   "nbconvert_exporter": "python",
   "pygments_lexer": "ipython2",
   "version": "2.7.13"
  }
 },
 "nbformat": 4,
 "nbformat_minor": 2
}
