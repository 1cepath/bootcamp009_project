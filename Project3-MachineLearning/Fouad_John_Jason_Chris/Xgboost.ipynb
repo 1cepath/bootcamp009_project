{
 "cells": [
  {
   "cell_type": "code",
   "execution_count": 146,
   "metadata": {
    "collapsed": false
   },
   "outputs": [],
   "source": [
    "import numpy as np\n",
    "import pandas as pd\n",
    "import xgboost as xgb\n",
    "total=pd.read_csv(\"./Final2.csv\")"
   ]
  },
  {
   "cell_type": "code",
   "execution_count": 147,
   "metadata": {
    "collapsed": true
   },
   "outputs": [],
   "source": [
    "property_features = ['id','price_doc',\n",
    "                'full_sq',\n",
    "                'life_sq',\n",
    "                'num_room',\n",
    "                'sport_count_5000',\n",
    "                'trc_count_5000',\n",
    "                'zd_vokzaly_avto_km',\n",
    "                'sadovoe_km',\n",
    "                'kremlin_km',\n",
    "                'bulvar_ring_km',\n",
    "                'ttk_km',\n",
    "                'office_sqm_5000',\n",
    "                'nuclear_reactor_km',\n",
    "                'cafe_count_5000_price_1000',\n",
    "                'stadium_km',\n",
    "                'kitch_sq',\n",
    "                'theater_km',\n",
    "                'swim_pool_km',\n",
    "                'catering_km',\n",
    "                'workplaces_km',\n",
    "                'school_education_centers_raion',\n",
    "                'big_church_km',\n",
    "                'metro_min_avto',\n",
    "                'public_healthcare_km',\n",
    "                'big_road2_km',\n",
    "                'ratio_brick',\n",
    "                'green_part_5000',\n",
    "                'ice_rink_km',\n",
    "                'additional_education_km',\n",
    "                'school_km',\n",
    "                'ratio_1920',\n",
    "                'railroad_station_avto_min','train_or_test','OKRUG','log_log_linear','Stack']\n",
    "\n",
    "total1=total[property_features]"
   ]
  },
  {
   "cell_type": "code",
   "execution_count": 148,
   "metadata": {
    "collapsed": true
   },
   "outputs": [],
   "source": [
    "from sklearn import preprocessing\n",
    "le_state = preprocessing.LabelEncoder()"
   ]
  },
  {
   "cell_type": "code",
   "execution_count": 149,
   "metadata": {
    "collapsed": false
   },
   "outputs": [
    {
     "data": {
      "text/plain": [
       "LabelEncoder()"
      ]
     },
     "execution_count": 149,
     "metadata": {},
     "output_type": "execute_result"
    }
   ],
   "source": [
    "le_state.fit(total1[\"OKRUG\"])"
   ]
  },
  {
   "cell_type": "code",
   "execution_count": 150,
   "metadata": {
    "collapsed": false
   },
   "outputs": [
    {
     "name": "stderr",
     "output_type": "stream",
     "text": [
      "/Users/mac/anaconda2/lib/python2.7/site-packages/ipykernel/__main__.py:1: SettingWithCopyWarning: \n",
      "A value is trying to be set on a copy of a slice from a DataFrame.\n",
      "Try using .loc[row_indexer,col_indexer] = value instead\n",
      "\n",
      "See the caveats in the documentation: http://pandas.pydata.org/pandas-docs/stable/indexing.html#indexing-view-versus-copy\n",
      "  if __name__ == '__main__':\n"
     ]
    }
   ],
   "source": [
    "total1[\"OKRUG\"] = le_state.transform(total1[\"OKRUG\"])"
   ]
  },
  {
   "cell_type": "code",
   "execution_count": 152,
   "metadata": {
    "collapsed": true
   },
   "outputs": [],
   "source": [
    "a = pd.get_dummies(total1.OKRUG)\n",
    "L = range(0, len(a.columns)) \n",
    "a.columns = [\"OKRUG\"+str(x) for x in L]\n",
    "total1 = pd.concat([total1,a], axis=1)"
   ]
  },
  {
   "cell_type": "code",
   "execution_count": 153,
   "metadata": {
    "collapsed": false
   },
   "outputs": [],
   "source": [
    "total1.drop(['OKRUG'],inplace = True, axis=1)"
   ]
  },
  {
   "cell_type": "code",
   "execution_count": 154,
   "metadata": {
    "collapsed": true
   },
   "outputs": [],
   "source": [
    "test = total1[total1['train_or_test']=='test']\n",
    "train = total1[total1[\"train_or_test\"]==\"train\"]"
   ]
  },
  {
   "cell_type": "code",
   "execution_count": 155,
   "metadata": {
    "collapsed": false
   },
   "outputs": [],
   "source": [
    "test = test.drop([\"id\",\"train_or_test\",\"price_doc\"], axis= 1)"
   ]
  },
  {
   "cell_type": "code",
   "execution_count": 156,
   "metadata": {
    "collapsed": false
   },
   "outputs": [
    {
     "name": "stderr",
     "output_type": "stream",
     "text": [
      "/Users/mac/anaconda2/lib/python2.7/site-packages/ipykernel/__main__.py:1: SettingWithCopyWarning: \n",
      "A value is trying to be set on a copy of a slice from a DataFrame.\n",
      "Try using .loc[row_indexer,col_indexer] = value instead\n",
      "\n",
      "See the caveats in the documentation: http://pandas.pydata.org/pandas-docs/stable/indexing.html#indexing-view-versus-copy\n",
      "  if __name__ == '__main__':\n"
     ]
    }
   ],
   "source": [
    "train[\"log_price\"] = train[\"price_doc\"].apply(np.log)"
   ]
  },
  {
   "cell_type": "code",
   "execution_count": 157,
   "metadata": {
    "collapsed": false
   },
   "outputs": [],
   "source": [
    "train = train.drop([\"id\", \"train_or_test\",'price_doc'], axis = 1)"
   ]
  },
  {
   "cell_type": "code",
   "execution_count": 158,
   "metadata": {
    "collapsed": false
   },
   "outputs": [
    {
     "data": {
      "text/plain": [
       "(30464, 58)"
      ]
     },
     "execution_count": 158,
     "metadata": {},
     "output_type": "execute_result"
    }
   ],
   "source": [
    "train.shape"
   ]
  },
  {
   "cell_type": "code",
   "execution_count": 159,
   "metadata": {
    "collapsed": false
   },
   "outputs": [
    {
     "data": {
      "text/plain": [
       "(7662, 57)"
      ]
     },
     "execution_count": 159,
     "metadata": {},
     "output_type": "execute_result"
    }
   ],
   "source": [
    "test.shape"
   ]
  },
  {
   "cell_type": "code",
   "execution_count": 160,
   "metadata": {
    "collapsed": false
   },
   "outputs": [
    {
     "data": {
      "text/plain": [
       "array(['full_sq', 'life_sq', 'num_room', 'sport_count_5000',\n",
       "       'trc_count_5000', 'zd_vokzaly_avto_km', 'sadovoe_km', 'kremlin_km',\n",
       "       'bulvar_ring_km', 'ttk_km', 'office_sqm_5000', 'nuclear_reactor_km',\n",
       "       'cafe_count_5000_price_1000', 'stadium_km', 'kitch_sq',\n",
       "       'theater_km', 'swim_pool_km', 'catering_km', 'workplaces_km',\n",
       "       'school_education_centers_raion', 'big_church_km', 'metro_min_avto',\n",
       "       'public_healthcare_km', 'big_road2_km', 'ratio_brick',\n",
       "       'green_part_5000', 'ice_rink_km', 'additional_education_km',\n",
       "       'school_km', 'ratio_1920', 'railroad_station_avto_min',\n",
       "       'log_log_linear', 'Stack', 'OKRUG0', 'OKRUG1', 'OKRUG2', 'OKRUG3',\n",
       "       'OKRUG4', 'OKRUG5', 'OKRUG6', 'OKRUG7', 'OKRUG8', 'OKRUG9',\n",
       "       'OKRUG10', 'OKRUG11', 'OKRUG0', 'OKRUG1', 'OKRUG2', 'OKRUG3',\n",
       "       'OKRUG4', 'OKRUG5', 'OKRUG6', 'OKRUG7', 'OKRUG8', 'OKRUG9',\n",
       "       'OKRUG10', 'OKRUG11', 'log_price'], dtype=object)"
      ]
     },
     "execution_count": 160,
     "metadata": {},
     "output_type": "execute_result"
    }
   ],
   "source": [
    "train.columns.values"
   ]
  },
  {
   "cell_type": "code",
   "execution_count": 162,
   "metadata": {
    "collapsed": true
   },
   "outputs": [],
   "source": [
    "property_features_1 = [\n",
    "                'full_sq',\n",
    "                'life_sq',\n",
    "                'num_room',\n",
    "                'sport_count_5000',\n",
    "                'trc_count_5000',\n",
    "                'zd_vokzaly_avto_km',\n",
    "                'sadovoe_km',\n",
    "                'kremlin_km',\n",
    "                'bulvar_ring_km',\n",
    "                'ttk_km',\n",
    "                'office_sqm_5000',\n",
    "                'nuclear_reactor_km',\n",
    "                'cafe_count_5000_price_1000',\n",
    "                'stadium_km',\n",
    "                'kitch_sq',\n",
    "                'theater_km',\n",
    "                'swim_pool_km',\n",
    "                'catering_km',\n",
    "                'workplaces_km',\n",
    "                'school_education_centers_raion',\n",
    "                'big_church_km',\n",
    "                'metro_min_avto',\n",
    "                'public_healthcare_km',\n",
    "                'big_road2_km',\n",
    "                'ratio_brick',\n",
    "                'green_part_5000',\n",
    "                'ice_rink_km',\n",
    "                'additional_education_km',\n",
    "                'school_km',\n",
    "                'ratio_1920',\n",
    "                'railroad_station_avto_min',\n",
    "                'log_log_linear','Stack']"
   ]
  },
  {
   "cell_type": "code",
   "execution_count": 163,
   "metadata": {
    "collapsed": false
   },
   "outputs": [],
   "source": [
    "X_train = train[property_features_1].values\n",
    "Y_train = train['log_price'].values\n",
    "X_test = test[property_features_1].values\n",
    "\n",
    "size_ = 7000\n",
    "X_train_sub, Y_train_sub = X_train[:-size_],  Y_train[:-size_]\n",
    "X_val, Y_val = X_train[-size_:],  Y_train[-size_:]"
   ]
  },
  {
   "cell_type": "code",
   "execution_count": 164,
   "metadata": {
    "collapsed": true
   },
   "outputs": [],
   "source": [
    "dtrain = xgb.DMatrix(X_train, \n",
    "                    Y_train, \n",
    "                    feature_names=property_features_1)\n",
    "dtrain_sub = xgb.DMatrix(X_train_sub, \n",
    "                        Y_train_sub, \n",
    "                        feature_names=property_features_1)\n",
    "d_val = xgb.DMatrix(X_val, \n",
    "                    Y_val, \n",
    "                    feature_names=property_features_1)\n",
    "dtest = xgb.DMatrix(X_test, \n",
    "                    feature_names=property_features_1)"
   ]
  },
  {
   "cell_type": "code",
   "execution_count": 165,
   "metadata": {
    "collapsed": false
   },
   "outputs": [
    {
     "name": "stdout",
     "output_type": "stream",
     "text": [
      "[0]\tval-rmse:14.9181\n",
      "Will train until val-rmse hasn't improved in 20 rounds.\n",
      "[20]\tval-rmse:9.97452\n",
      "[40]\tval-rmse:6.6718\n",
      "[60]\tval-rmse:4.46754\n",
      "[80]\tval-rmse:2.99893\n",
      "[100]\tval-rmse:2.02253\n",
      "[120]\tval-rmse:1.37717\n",
      "[140]\tval-rmse:0.954807\n",
      "[160]\tval-rmse:0.684105\n",
      "[180]\tval-rmse:0.518595\n",
      "[200]\tval-rmse:0.422769\n",
      "[220]\tval-rmse:0.372523\n",
      "[240]\tval-rmse:0.346062\n",
      "[260]\tval-rmse:0.332841\n",
      "[280]\tval-rmse:0.326513\n",
      "[300]\tval-rmse:0.322696\n",
      "[320]\tval-rmse:0.320549\n",
      "[340]\tval-rmse:0.319225\n",
      "[360]\tval-rmse:0.317739\n",
      "[380]\tval-rmse:0.316905\n",
      "[400]\tval-rmse:0.316031\n",
      "[420]\tval-rmse:0.315389\n",
      "[440]\tval-rmse:0.314864\n",
      "[460]\tval-rmse:0.314007\n",
      "[480]\tval-rmse:0.313404\n",
      "[500]\tval-rmse:0.312853\n",
      "[520]\tval-rmse:0.312219\n",
      "[540]\tval-rmse:0.311624\n",
      "[560]\tval-rmse:0.311187\n",
      "[580]\tval-rmse:0.3107\n",
      "[600]\tval-rmse:0.31016\n",
      "[620]\tval-rmse:0.309601\n",
      "[640]\tval-rmse:0.30909\n",
      "[660]\tval-rmse:0.308619\n",
      "[680]\tval-rmse:0.308082\n",
      "[700]\tval-rmse:0.307794\n",
      "[720]\tval-rmse:0.307332\n",
      "[740]\tval-rmse:0.307041\n",
      "[760]\tval-rmse:0.306707\n",
      "[780]\tval-rmse:0.306377\n",
      "[800]\tval-rmse:0.306211\n",
      "[820]\tval-rmse:0.305787\n",
      "[840]\tval-rmse:0.30553\n",
      "[860]\tval-rmse:0.305189\n",
      "[880]\tval-rmse:0.305031\n",
      "[900]\tval-rmse:0.304677\n",
      "[920]\tval-rmse:0.304461\n",
      "[940]\tval-rmse:0.304233\n",
      "[960]\tval-rmse:0.304092\n",
      "[980]\tval-rmse:0.30397\n",
      "[1000]\tval-rmse:0.303661\n",
      "[1020]\tval-rmse:0.303451\n",
      "[1040]\tval-rmse:0.303295\n",
      "[1060]\tval-rmse:0.303172\n",
      "[1080]\tval-rmse:0.303012\n",
      "[1100]\tval-rmse:0.302814\n",
      "[1120]\tval-rmse:0.302631\n",
      "[1140]\tval-rmse:0.302455\n",
      "[1160]\tval-rmse:0.302189\n",
      "[1180]\tval-rmse:0.302089\n",
      "[1200]\tval-rmse:0.302005\n",
      "[1220]\tval-rmse:0.301846\n",
      "[1240]\tval-rmse:0.30158\n",
      "[1260]\tval-rmse:0.301511\n",
      "[1280]\tval-rmse:0.301426\n",
      "[1300]\tval-rmse:0.301346\n",
      "[1320]\tval-rmse:0.301135\n",
      "[1340]\tval-rmse:0.301026\n",
      "[1360]\tval-rmse:0.300975\n",
      "[1380]\tval-rmse:0.300943\n",
      "[1400]\tval-rmse:0.300868\n",
      "[1420]\tval-rmse:0.300799\n",
      "[1440]\tval-rmse:0.300688\n",
      "[1460]\tval-rmse:0.300719\n",
      "Stopping. Best iteration:\n",
      "[1441]\tval-rmse:0.300685\n",
      "\n"
     ]
    }
   ],
   "source": [
    "# hyperparameters\n",
    "xgb_params = {\n",
    "    'eta': 0.02,\n",
    "    'max_depth': 5,\n",
    "    'subsample': .8,\n",
    "    'colsample_bytree': 0.7,\n",
    "    'objective': 'reg:linear',\n",
    "    'eval_metric': 'rmse',\n",
    "    'silent': 1\n",
    "}\n",
    "\n",
    "# Uncomment to tune XGB `num_boost_rounds`\n",
    "sub_model = xgb.train(xgb_params, \n",
    "                      dtrain_sub, \n",
    "                      num_boost_round=2000,\n",
    "                      evals=[(d_val, 'val')],\n",
    "                      early_stopping_rounds=20, \n",
    "                      verbose_eval=20)"
   ]
  },
  {
   "cell_type": "code",
   "execution_count": 166,
   "metadata": {
    "collapsed": true
   },
   "outputs": [],
   "source": [
    "full_model = xgb.train(xgb_params,\n",
    "                       dtrain, \n",
    "                       num_boost_round=sub_model.best_iteration,\n",
    "                       verbose_eval=20)"
   ]
  },
  {
   "cell_type": "code",
   "execution_count": 167,
   "metadata": {
    "collapsed": true
   },
   "outputs": [],
   "source": [
    "log_y_pred = full_model.predict(dtest)\n",
    "y_pred = np.exp(log_y_pred) - 1"
   ]
  },
  {
   "cell_type": "code",
   "execution_count": 171,
   "metadata": {
    "collapsed": true
   },
   "outputs": [],
   "source": [
    "submit = pd.DataFrame({'id': np.array(test.index), 'price_doc': y_pred})\n",
    "submit.to_csv('submission_xg_boost_diff.csv', index=False)"
   ]
  },
  {
   "cell_type": "code",
   "execution_count": 169,
   "metadata": {
    "collapsed": false
   },
   "outputs": [
    {
     "data": {
      "text/plain": [
       "(7662, 2)"
      ]
     },
     "execution_count": 169,
     "metadata": {},
     "output_type": "execute_result"
    }
   ],
   "source": [
    "submit.shape"
   ]
  },
  {
   "cell_type": "code",
   "execution_count": null,
   "metadata": {
    "collapsed": true
   },
   "outputs": [],
   "source": []
  }
 ],
 "metadata": {
  "kernelspec": {
   "display_name": "Python 2",
   "language": "python",
   "name": "python2"
  },
  "language_info": {
   "codemirror_mode": {
    "name": "ipython",
    "version": 2
   },
   "file_extension": ".py",
   "mimetype": "text/x-python",
   "name": "python",
   "nbconvert_exporter": "python",
   "pygments_lexer": "ipython2",
   "version": "2.7.13"
  }
 },
 "nbformat": 4,
 "nbformat_minor": 2
}
