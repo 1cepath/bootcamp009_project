{
 "cells": [
  {
   "cell_type": "code",
   "execution_count": 165,
   "metadata": {
    "collapsed": false
   },
   "outputs": [],
   "source": [
    "import pandas as pd\n",
    "import matplotlib.pyplot as plt\n",
    "import matplotlib\n",
    "import seaborn as sns\n",
    "import numpy as np\n",
    "import scipy as sp\n",
    "import os\n",
    "import datetime\n",
    "import xgboost as xgb\n",
    "import warnings\n",
    "%matplotlib inline"
   ]
  },
  {
   "cell_type": "code",
   "execution_count": 166,
   "metadata": {
    "collapsed": false
   },
   "outputs": [],
   "source": [
    "train = pd.read_csv('train_cleaned.csv')\n",
    "test = pd.read_csv('test_cleaned.csv')\n"
   ]
  },
  {
   "cell_type": "code",
   "execution_count": 167,
   "metadata": {
    "collapsed": false
   },
   "outputs": [],
   "source": [
    "#drop training rows where full_sq is missing\n",
    "train = train[~train['full_sq'].isnull()]"
   ]
  },
  {
   "cell_type": "code",
   "execution_count": 168,
   "metadata": {
    "collapsed": true
   },
   "outputs": [],
   "source": [
    "#clean up dates in training data\n",
    "train['year'] = train['timestamp'].map(lambda x: int(x.split('-')[0]))\n",
    "train['month'] = train['timestamp'].map(lambda x: int(x.split('-')[1]))\n",
    "train['day'] = train['timestamp'].map(lambda x: int(x.split('-')[2]))\n",
    "\n",
    "train['date'] = train.apply(lambda x: datetime.date(x['year'], x['month'], x['day']), axis=1)"
   ]
  },
  {
   "cell_type": "code",
   "execution_count": 169,
   "metadata": {
    "collapsed": true
   },
   "outputs": [],
   "source": [
    "#clean up dates in test data\n",
    "test['year'] = test['timestamp'].map(lambda x: int(x.split('-')[0]))\n",
    "test['month'] = test['timestamp'].map(lambda x: int(x.split('-')[1]))\n",
    "test['day'] = test['timestamp'].map(lambda x: int(x.split('-')[2]))\n",
    "\n",
    "test['date'] = test.apply(lambda x: datetime.date(x['year'], x['month'], x['day']), axis=1)"
   ]
  },
  {
   "cell_type": "code",
   "execution_count": 170,
   "metadata": {
    "collapsed": false
   },
   "outputs": [],
   "source": [
    "#impute 5 missing full_sq in test data\n",
    "test.loc[test['id'] == 30938, 'full_sq'] = 37.80\n",
    "test.loc[test['id'] == 35857, 'full_sq'] = 42.07\n",
    "test.loc[test['id'] == 34670, 'full_sq'] = 122.60\n",
    "\n",
    "#np.nanmedian(test.full_sq)\n",
    "\n",
    "test.loc[test['id'] == 36824, 'full_sq'] = 50.42\n",
    "test.loc[test['id'] == 35108, 'full_sq'] = 50.42"
   ]
  },
  {
   "cell_type": "code",
   "execution_count": 171,
   "metadata": {
    "collapsed": true
   },
   "outputs": [],
   "source": [
    "## log transformation\n",
    "train.loc[:, 'log_price_doc'] = np.log(train['price_doc'] + 1)\n"
   ]
  },
  {
   "cell_type": "code",
   "execution_count": 172,
   "metadata": {
    "collapsed": false
   },
   "outputs": [],
   "source": [
    "#impute test product_type as investment\n",
    "\n",
    "test.loc[test['product_type'].isnull(),'product_type'] = \"Investment\""
   ]
  },
  {
   "cell_type": "code",
   "execution_count": 173,
   "metadata": {
    "collapsed": false
   },
   "outputs": [
    {
     "name": "stdout",
     "output_type": "stream",
     "text": [
      "encoding feature: product_type\n",
      "encoding feature: sub_area\n"
     ]
    }
   ],
   "source": [
    "## label encoding\n",
    "from sklearn.preprocessing import LabelEncoder\n",
    "\n",
    "label_encoder = dict()\n",
    "\n",
    "for feature in ['product_type', 'sub_area']:\n",
    "    print('encoding feature: {}'.format(feature))\n",
    "    label_encoder[feature] = LabelEncoder()\n",
    "    label_encoder[feature].fit(train[feature])\n",
    "    train.loc[:, feature + '_le'] = label_encoder[feature].transform(train[feature])\n",
    "    test.loc[:, feature + '_le'] = label_encoder[feature].transform(test[feature])"
   ]
  },
  {
   "cell_type": "code",
   "execution_count": 208,
   "metadata": {
    "collapsed": false
   },
   "outputs": [
    {
     "name": "stdout",
     "output_type": "stream",
     "text": [
      "(30428, 12)\n",
      "(30428,)\n",
      "(7662, 12)\n"
     ]
    }
   ],
   "source": [
    "#make test and train sets\n",
    "# Convert to numpy values\n",
    "model_features = ['full_sq', 'floor', 'month', 'cpi', 'usdrub_3m_vol',\n",
    "                  'material', 'build_year', 'num_room', 'usdrub',\n",
    "                  'state', 'product_type_le', 'sub_area_le']\n",
    "\n",
    "X_train = train_macro[model_features].values\n",
    "Y_train = train_macro['log_price_doc'].values\n",
    "X_test = test_macro[model_features].values\n",
    "\n",
    "print(X_train.shape)\n",
    "print(Y_train.shape)\n",
    "print(X_test.shape)"
   ]
  },
  {
   "cell_type": "code",
   "execution_count": 209,
   "metadata": {
    "collapsed": true
   },
   "outputs": [],
   "source": [
    "from sklearn.cross_validation import train_test_split\n",
    "\n",
    "X_train_sub, X_val, Y_train_sub, Y_val = train_test_split(X_train, Y_train, random_state=1, train_size=0.7)"
   ]
  },
  {
   "cell_type": "code",
   "execution_count": 129,
   "metadata": {
    "collapsed": true
   },
   "outputs": [],
   "source": [
    "#size_ = 7000\n",
    "#X_train_sub, Y_train_sub = X_train[:-size_],  Y_train[:-size_]\n",
    "#X_val, Y_val = X_train[-size_:],  Y_train[-size_:]"
   ]
  },
  {
   "cell_type": "code",
   "execution_count": 210,
   "metadata": {
    "collapsed": false
   },
   "outputs": [],
   "source": [
    "dtrain = xgb.DMatrix(X_train, \n",
    "                    Y_train, \n",
    "                    feature_names=model_features)\n",
    "dtrain_sub = xgb.DMatrix(X_train_sub, \n",
    "                        Y_train_sub, \n",
    "                        feature_names=model_features)\n",
    "d_val = xgb.DMatrix(X_val, \n",
    "                    Y_val, \n",
    "                    feature_names=model_features)\n",
    "dtest = xgb.DMatrix(X_test, \n",
    "                    feature_names=model_features)"
   ]
  },
  {
   "cell_type": "code",
   "execution_count": 213,
   "metadata": {
    "collapsed": false
   },
   "outputs": [],
   "source": [
    "# hyperparameters\n",
    "xgb_params = {\n",
    "    'eta': 0.05,\n",
    "    'gamma': 0,\n",
    "    'alpha': 1,\n",
    "    'max_depth': 6,\n",
    "    'subsample': .8,\n",
    "    'colsample_bytree': 0.75,\n",
    "    'objective': 'reg:linear',\n",
    "    'eval_metric': 'rmse',\n",
    "    'silent': 1\n",
    "}"
   ]
  },
  {
   "cell_type": "code",
   "execution_count": 214,
   "metadata": {
    "collapsed": false
   },
   "outputs": [
    {
     "name": "stdout",
     "output_type": "stream",
     "text": [
      "[0]\tval-rmse:14.3636\n",
      "Will train until val-rmse hasn't improved in 50 rounds.\n",
      "[50]\tval-rmse:1.21227\n",
      "[100]\tval-rmse:0.49779\n",
      "[150]\tval-rmse:0.485616\n",
      "[200]\tval-rmse:0.482629\n",
      "[250]\tval-rmse:0.481888\n",
      "[300]\tval-rmse:0.481287\n",
      "Stopping. Best iteration:\n",
      "[299]\tval-rmse:0.481232\n",
      "\n"
     ]
    }
   ],
   "source": [
    "sub_model = xgb.train(xgb_params, \n",
    "                      dtrain_sub, \n",
    "                      num_boost_round=6000,\n",
    "                      evals=[(d_val, 'val')],\n",
    "                      early_stopping_rounds=50, \n",
    "                      verbose_eval=50)"
   ]
  },
  {
   "cell_type": "code",
   "execution_count": 215,
   "metadata": {
    "collapsed": false
   },
   "outputs": [
    {
     "data": {
      "text/plain": [
       "<matplotlib.axes._subplots.AxesSubplot at 0x11058c890>"
      ]
     },
     "execution_count": 215,
     "metadata": {},
     "output_type": "execute_result"
    },
    {
     "data": {
      "image/png": "[encoded data removed]",
      "text/plain": [
       "<matplotlib.figure.Figure at 0x1106c0950>"
      ]
     },
     "metadata": {},
     "output_type": "display_data"
    }
   ],
   "source": [
    "xgb.plot_importance(sub_model)"
   ]
  },
  {
   "cell_type": "code",
   "execution_count": 216,
   "metadata": {
    "collapsed": true
   },
   "outputs": [],
   "source": [
    "full_model = xgb.train(xgb_params,\n",
    "                       dtrain, \n",
    "                       num_boost_round=sub_model.best_iteration,\n",
    "                       verbose_eval=20)"
   ]
  },
  {
   "cell_type": "code",
   "execution_count": 217,
   "metadata": {
    "collapsed": true
   },
   "outputs": [],
   "source": [
    "log_y_pred = full_model.predict(dtest)\n",
    "y_pred = np.exp(log_y_pred) - 1"
   ]
  },
  {
   "cell_type": "code",
   "execution_count": 218,
   "metadata": {
    "collapsed": true
   },
   "outputs": [],
   "source": [
    "submit = pd.DataFrame({'id': np.array(test.index), 'price_doc': y_pred})\n",
    "submit.to_csv('submission.csv', index=False)"
   ]
  },
  {
   "cell_type": "markdown",
   "metadata": {},
   "source": [
    "# Code to Read in Macro Data"
   ]
  },
  {
   "cell_type": "code",
   "execution_count": 148,
   "metadata": {
    "collapsed": true
   },
   "outputs": [],
   "source": [
    "macro_test = pd.read_csv('macro_test.csv')\n",
    "macro_train = pd.read_csv('macro_train.csv')"
   ]
  },
  {
   "cell_type": "code",
   "execution_count": 144,
   "metadata": {
    "collapsed": false
   },
   "outputs": [
    {
     "data": {
      "text/html": [
       "<div>\n",
       "<style>\n",
       "    .dataframe thead tr:only-child th {\n",
       "        text-align: right;\n",
       "    }\n",
       "\n",
       "    .dataframe thead th {\n",
       "        text-align: left;\n",
       "    }\n",
       "\n",
       "    .dataframe tbody tr th {\n",
       "        vertical-align: top;\n",
       "    }\n",
       "</style>\n",
       "<table border=\"1\" class=\"dataframe\">\n",
       "  <thead>\n",
       "    <tr style=\"text-align: right;\">\n",
       "      <th></th>\n",
       "      <th>cpi</th>\n",
       "      <th>usdrub</th>\n",
       "      <th>micex</th>\n",
       "      <th>mortgage_rate</th>\n",
       "      <th>date</th>\n",
       "      <th>usdrub_3m_vol</th>\n",
       "      <th>usdrub_1m_vol</th>\n",
       "    </tr>\n",
       "  </thead>\n",
       "  <tbody>\n",
       "    <tr>\n",
       "      <th>0</th>\n",
       "      <td>490.5</td>\n",
       "      <td>55.5989</td>\n",
       "      <td>1639.70</td>\n",
       "      <td>13.29</td>\n",
       "      <td>2015-07-01</td>\n",
       "      <td>2.155952</td>\n",
       "      <td>0.901930</td>\n",
       "    </tr>\n",
       "    <tr>\n",
       "      <th>1</th>\n",
       "      <td>490.5</td>\n",
       "      <td>55.4093</td>\n",
       "      <td>1641.05</td>\n",
       "      <td>13.29</td>\n",
       "      <td>2015-07-02</td>\n",
       "      <td>2.133872</td>\n",
       "      <td>0.822948</td>\n",
       "    </tr>\n",
       "    <tr>\n",
       "      <th>2</th>\n",
       "      <td>490.5</td>\n",
       "      <td>55.9695</td>\n",
       "      <td>1631.65</td>\n",
       "      <td>13.29</td>\n",
       "      <td>2015-07-03</td>\n",
       "      <td>2.120414</td>\n",
       "      <td>0.837574</td>\n",
       "    </tr>\n",
       "    <tr>\n",
       "      <th>3</th>\n",
       "      <td>490.5</td>\n",
       "      <td>55.9695</td>\n",
       "      <td>1631.65</td>\n",
       "      <td>13.29</td>\n",
       "      <td>2015-07-04</td>\n",
       "      <td>2.106840</td>\n",
       "      <td>0.837046</td>\n",
       "    </tr>\n",
       "    <tr>\n",
       "      <th>4</th>\n",
       "      <td>490.5</td>\n",
       "      <td>55.9695</td>\n",
       "      <td>1631.65</td>\n",
       "      <td>13.29</td>\n",
       "      <td>2015-07-05</td>\n",
       "      <td>2.118570</td>\n",
       "      <td>0.829804</td>\n",
       "    </tr>\n",
       "  </tbody>\n",
       "</table>\n",
       "</div>"
      ],
      "text/plain": [
       "     cpi   usdrub    micex  mortgage_rate        date  usdrub_3m_vol  \\\n",
       "0  490.5  55.5989  1639.70          13.29  2015-07-01       2.155952   \n",
       "1  490.5  55.4093  1641.05          13.29  2015-07-02       2.133872   \n",
       "2  490.5  55.9695  1631.65          13.29  2015-07-03       2.120414   \n",
       "3  490.5  55.9695  1631.65          13.29  2015-07-04       2.106840   \n",
       "4  490.5  55.9695  1631.65          13.29  2015-07-05       2.118570   \n",
       "\n",
       "   usdrub_1m_vol  \n",
       "0       0.901930  \n",
       "1       0.822948  \n",
       "2       0.837574  \n",
       "3       0.837046  \n",
       "4       0.829804  "
      ]
     },
     "execution_count": 144,
     "metadata": {},
     "output_type": "execute_result"
    }
   ],
   "source": [
    "macro_test.head()"
   ]
  },
  {
   "cell_type": "code",
   "execution_count": 149,
   "metadata": {
    "collapsed": false
   },
   "outputs": [
    {
     "data": {
      "text/html": [
       "<div>\n",
       "<style>\n",
       "    .dataframe thead tr:only-child th {\n",
       "        text-align: right;\n",
       "    }\n",
       "\n",
       "    .dataframe thead th {\n",
       "        text-align: left;\n",
       "    }\n",
       "\n",
       "    .dataframe tbody tr th {\n",
       "        vertical-align: top;\n",
       "    }\n",
       "</style>\n",
       "<table border=\"1\" class=\"dataframe\">\n",
       "  <thead>\n",
       "    <tr style=\"text-align: right;\">\n",
       "      <th></th>\n",
       "      <th>cpi</th>\n",
       "      <th>usdrub</th>\n",
       "      <th>micex</th>\n",
       "      <th>mortgage_rate</th>\n",
       "      <th>date</th>\n",
       "      <th>price_doc</th>\n",
       "      <th>usdrub_3m_vol</th>\n",
       "      <th>usdrub_1m_vol</th>\n",
       "    </tr>\n",
       "  </thead>\n",
       "  <tbody>\n",
       "    <tr>\n",
       "      <th>0</th>\n",
       "      <td>354.0</td>\n",
       "      <td>29.0048</td>\n",
       "      <td>1438.74</td>\n",
       "      <td>11.84</td>\n",
       "      <td>2011-08-20</td>\n",
       "      <td>NaN</td>\n",
       "      <td>0.475248</td>\n",
       "      <td>0.730178</td>\n",
       "    </tr>\n",
       "    <tr>\n",
       "      <th>1</th>\n",
       "      <td>354.0</td>\n",
       "      <td>29.0048</td>\n",
       "      <td>1438.74</td>\n",
       "      <td>11.84</td>\n",
       "      <td>2011-08-21</td>\n",
       "      <td>NaN</td>\n",
       "      <td>0.482400</td>\n",
       "      <td>0.728679</td>\n",
       "    </tr>\n",
       "    <tr>\n",
       "      <th>2</th>\n",
       "      <td>354.0</td>\n",
       "      <td>29.1005</td>\n",
       "      <td>1443.93</td>\n",
       "      <td>11.84</td>\n",
       "      <td>2011-08-22</td>\n",
       "      <td>NaN</td>\n",
       "      <td>0.492191</td>\n",
       "      <td>0.727382</td>\n",
       "    </tr>\n",
       "    <tr>\n",
       "      <th>3</th>\n",
       "      <td>354.0</td>\n",
       "      <td>28.9525</td>\n",
       "      <td>1444.11</td>\n",
       "      <td>11.84</td>\n",
       "      <td>2011-08-23</td>\n",
       "      <td>NaN</td>\n",
       "      <td>0.498799</td>\n",
       "      <td>0.719693</td>\n",
       "    </tr>\n",
       "    <tr>\n",
       "      <th>4</th>\n",
       "      <td>354.0</td>\n",
       "      <td>28.9506</td>\n",
       "      <td>1461.62</td>\n",
       "      <td>11.84</td>\n",
       "      <td>2011-08-24</td>\n",
       "      <td>NaN</td>\n",
       "      <td>0.505481</td>\n",
       "      <td>0.707092</td>\n",
       "    </tr>\n",
       "  </tbody>\n",
       "</table>\n",
       "</div>"
      ],
      "text/plain": [
       "     cpi   usdrub    micex  mortgage_rate        date  price_doc  \\\n",
       "0  354.0  29.0048  1438.74          11.84  2011-08-20        NaN   \n",
       "1  354.0  29.0048  1438.74          11.84  2011-08-21        NaN   \n",
       "2  354.0  29.1005  1443.93          11.84  2011-08-22        NaN   \n",
       "3  354.0  28.9525  1444.11          11.84  2011-08-23        NaN   \n",
       "4  354.0  28.9506  1461.62          11.84  2011-08-24        NaN   \n",
       "\n",
       "   usdrub_3m_vol  usdrub_1m_vol  \n",
       "0       0.475248       0.730178  \n",
       "1       0.482400       0.728679  \n",
       "2       0.492191       0.727382  \n",
       "3       0.498799       0.719693  \n",
       "4       0.505481       0.707092  "
      ]
     },
     "execution_count": 149,
     "metadata": {},
     "output_type": "execute_result"
    }
   ],
   "source": [
    "macro_train.head()"
   ]
  },
  {
   "cell_type": "code",
   "execution_count": 201,
   "metadata": {
    "collapsed": true
   },
   "outputs": [],
   "source": [
    "#clean up dates in training data\n",
    "macro_train['year'] = macro_train['date'].map(lambda x: int(x.split('-')[0]))\n",
    "macro_train['month'] = macro_train['date'].map(lambda x: int(x.split('-')[1]))\n",
    "macro_train['day'] = macro_train['date'].map(lambda x: int(x.split('-')[2]))\n",
    "\n",
    "macro_train['date'] = macro_train.apply(lambda x: datetime.date(x['year'], x['month'], x['day']), axis=1)"
   ]
  },
  {
   "cell_type": "code",
   "execution_count": 202,
   "metadata": {
    "collapsed": true
   },
   "outputs": [],
   "source": [
    "#clean up dates in training data\n",
    "macro_test['year'] = macro_test['date'].map(lambda x: int(x.split('-')[0]))\n",
    "macro_test['month'] = macro_test['date'].map(lambda x: int(x.split('-')[1]))\n",
    "macro_test['day'] = macro_test['date'].map(lambda x: int(x.split('-')[2]))\n",
    "\n",
    "macro_test['date'] = macro_test.apply(lambda x: datetime.date(x['year'], x['month'], x['day']), axis=1)"
   ]
  },
  {
   "cell_type": "code",
   "execution_count": 194,
   "metadata": {
    "collapsed": false
   },
   "outputs": [
    {
     "data": {
      "text/html": [
       "<div>\n",
       "<style>\n",
       "    .dataframe thead tr:only-child th {\n",
       "        text-align: right;\n",
       "    }\n",
       "\n",
       "    .dataframe thead th {\n",
       "        text-align: left;\n",
       "    }\n",
       "\n",
       "    .dataframe tbody tr th {\n",
       "        vertical-align: top;\n",
       "    }\n",
       "</style>\n",
       "<table border=\"1\" class=\"dataframe\">\n",
       "  <thead>\n",
       "    <tr style=\"text-align: right;\">\n",
       "      <th></th>\n",
       "      <th>id</th>\n",
       "      <th>timestamp</th>\n",
       "      <th>full_sq</th>\n",
       "      <th>life_sq</th>\n",
       "      <th>floor</th>\n",
       "      <th>max_floor</th>\n",
       "      <th>material</th>\n",
       "      <th>build_year</th>\n",
       "      <th>num_room</th>\n",
       "      <th>kitch_sq</th>\n",
       "      <th>...</th>\n",
       "      <th>young_female</th>\n",
       "      <th>young_male</th>\n",
       "      <th>zd_vokzaly_avto_km</th>\n",
       "      <th>year</th>\n",
       "      <th>month</th>\n",
       "      <th>day</th>\n",
       "      <th>date</th>\n",
       "      <th>log_price_doc</th>\n",
       "      <th>product_type_le</th>\n",
       "      <th>sub_area_le</th>\n",
       "    </tr>\n",
       "  </thead>\n",
       "  <tbody>\n",
       "    <tr>\n",
       "      <th>0</th>\n",
       "      <td>1</td>\n",
       "      <td>2011-08-20</td>\n",
       "      <td>43.0</td>\n",
       "      <td>27.0</td>\n",
       "      <td>4.0</td>\n",
       "      <td>NaN</td>\n",
       "      <td>NaN</td>\n",
       "      <td>NaN</td>\n",
       "      <td>NaN</td>\n",
       "      <td>NaN</td>\n",
       "      <td>...</td>\n",
       "      <td>10147</td>\n",
       "      <td>11007</td>\n",
       "      <td>14.231961</td>\n",
       "      <td>2011</td>\n",
       "      <td>8</td>\n",
       "      <td>20</td>\n",
       "      <td>2011-08-20</td>\n",
       "      <td>15.581952</td>\n",
       "      <td>0</td>\n",
       "      <td>9</td>\n",
       "    </tr>\n",
       "    <tr>\n",
       "      <th>1</th>\n",
       "      <td>2</td>\n",
       "      <td>2011-08-23</td>\n",
       "      <td>34.0</td>\n",
       "      <td>19.0</td>\n",
       "      <td>3.0</td>\n",
       "      <td>NaN</td>\n",
       "      <td>NaN</td>\n",
       "      <td>NaN</td>\n",
       "      <td>NaN</td>\n",
       "      <td>NaN</td>\n",
       "      <td>...</td>\n",
       "      <td>7802</td>\n",
       "      <td>7925</td>\n",
       "      <td>9.242586</td>\n",
       "      <td>2011</td>\n",
       "      <td>8</td>\n",
       "      <td>23</td>\n",
       "      <td>2011-08-23</td>\n",
       "      <td>15.607270</td>\n",
       "      <td>0</td>\n",
       "      <td>70</td>\n",
       "    </tr>\n",
       "    <tr>\n",
       "      <th>2</th>\n",
       "      <td>3</td>\n",
       "      <td>2011-08-27</td>\n",
       "      <td>43.0</td>\n",
       "      <td>29.0</td>\n",
       "      <td>2.0</td>\n",
       "      <td>NaN</td>\n",
       "      <td>NaN</td>\n",
       "      <td>NaN</td>\n",
       "      <td>NaN</td>\n",
       "      <td>NaN</td>\n",
       "      <td>...</td>\n",
       "      <td>6193</td>\n",
       "      <td>6835</td>\n",
       "      <td>9.540544</td>\n",
       "      <td>2011</td>\n",
       "      <td>8</td>\n",
       "      <td>27</td>\n",
       "      <td>2011-08-27</td>\n",
       "      <td>15.555977</td>\n",
       "      <td>0</td>\n",
       "      <td>129</td>\n",
       "    </tr>\n",
       "    <tr>\n",
       "      <th>3</th>\n",
       "      <td>4</td>\n",
       "      <td>2011-09-01</td>\n",
       "      <td>89.0</td>\n",
       "      <td>50.0</td>\n",
       "      <td>9.0</td>\n",
       "      <td>NaN</td>\n",
       "      <td>NaN</td>\n",
       "      <td>NaN</td>\n",
       "      <td>NaN</td>\n",
       "      <td>NaN</td>\n",
       "      <td>...</td>\n",
       "      <td>13883</td>\n",
       "      <td>14680</td>\n",
       "      <td>17.478380</td>\n",
       "      <td>2011</td>\n",
       "      <td>9</td>\n",
       "      <td>1</td>\n",
       "      <td>2011-09-01</td>\n",
       "      <td>16.388123</td>\n",
       "      <td>0</td>\n",
       "      <td>65</td>\n",
       "    </tr>\n",
       "    <tr>\n",
       "      <th>4</th>\n",
       "      <td>5</td>\n",
       "      <td>2011-09-05</td>\n",
       "      <td>77.0</td>\n",
       "      <td>77.0</td>\n",
       "      <td>4.0</td>\n",
       "      <td>NaN</td>\n",
       "      <td>NaN</td>\n",
       "      <td>NaN</td>\n",
       "      <td>NaN</td>\n",
       "      <td>NaN</td>\n",
       "      <td>...</td>\n",
       "      <td>6209</td>\n",
       "      <td>7159</td>\n",
       "      <td>1.595898</td>\n",
       "      <td>2011</td>\n",
       "      <td>9</td>\n",
       "      <td>5</td>\n",
       "      <td>2011-09-05</td>\n",
       "      <td>16.608603</td>\n",
       "      <td>0</td>\n",
       "      <td>6</td>\n",
       "    </tr>\n",
       "  </tbody>\n",
       "</table>\n",
       "<p>5 rows × 299 columns</p>\n",
       "</div>"
      ],
      "text/plain": [
       "   id   timestamp  full_sq  life_sq  floor  max_floor  material  build_year  \\\n",
       "0   1  2011-08-20     43.0     27.0    4.0        NaN       NaN         NaN   \n",
       "1   2  2011-08-23     34.0     19.0    3.0        NaN       NaN         NaN   \n",
       "2   3  2011-08-27     43.0     29.0    2.0        NaN       NaN         NaN   \n",
       "3   4  2011-09-01     89.0     50.0    9.0        NaN       NaN         NaN   \n",
       "4   5  2011-09-05     77.0     77.0    4.0        NaN       NaN         NaN   \n",
       "\n",
       "   num_room  kitch_sq     ...       young_female young_male  \\\n",
       "0       NaN       NaN     ...              10147      11007   \n",
       "1       NaN       NaN     ...               7802       7925   \n",
       "2       NaN       NaN     ...               6193       6835   \n",
       "3       NaN       NaN     ...              13883      14680   \n",
       "4       NaN       NaN     ...               6209       7159   \n",
       "\n",
       "  zd_vokzaly_avto_km  year  month  day        date  log_price_doc  \\\n",
       "0          14.231961  2011      8   20  2011-08-20      15.581952   \n",
       "1           9.242586  2011      8   23  2011-08-23      15.607270   \n",
       "2           9.540544  2011      8   27  2011-08-27      15.555977   \n",
       "3          17.478380  2011      9    1  2011-09-01      16.388123   \n",
       "4           1.595898  2011      9    5  2011-09-05      16.608603   \n",
       "\n",
       "   product_type_le  sub_area_le  \n",
       "0                0            9  \n",
       "1                0           70  \n",
       "2                0          129  \n",
       "3                0           65  \n",
       "4                0            6  \n",
       "\n",
       "[5 rows x 299 columns]"
      ]
     },
     "execution_count": 194,
     "metadata": {},
     "output_type": "execute_result"
    }
   ],
   "source": [
    "train.head()"
   ]
  },
  {
   "cell_type": "code",
   "execution_count": 203,
   "metadata": {
    "collapsed": false
   },
   "outputs": [],
   "source": [
    "train_macro = pd.merge(left=train, \n",
    "         right=macro_train[['cpi', 'usdrub', 'usdrub_3m_vol', 'date']], \n",
    "         how=\"left\", on=\"date\")"
   ]
  },
  {
   "cell_type": "code",
   "execution_count": 206,
   "metadata": {
    "collapsed": true
   },
   "outputs": [],
   "source": [
    "test_macro = pd.merge(left=test, \n",
    "         right=macro_test[['cpi', 'usdrub', 'usdrub_3m_vol', 'date']], \n",
    "         how=\"left\", on=\"date\")"
   ]
  },
  {
   "cell_type": "code",
   "execution_count": 207,
   "metadata": {
    "collapsed": false
   },
   "outputs": [
    {
     "data": {
      "text/html": [
       "<div>\n",
       "<style>\n",
       "    .dataframe thead tr:only-child th {\n",
       "        text-align: right;\n",
       "    }\n",
       "\n",
       "    .dataframe thead th {\n",
       "        text-align: left;\n",
       "    }\n",
       "\n",
       "    .dataframe tbody tr th {\n",
       "        vertical-align: top;\n",
       "    }\n",
       "</style>\n",
       "<table border=\"1\" class=\"dataframe\">\n",
       "  <thead>\n",
       "    <tr style=\"text-align: right;\">\n",
       "      <th></th>\n",
       "      <th>id</th>\n",
       "      <th>timestamp</th>\n",
       "      <th>full_sq</th>\n",
       "      <th>life_sq</th>\n",
       "      <th>floor</th>\n",
       "      <th>max_floor</th>\n",
       "      <th>material</th>\n",
       "      <th>build_year</th>\n",
       "      <th>num_room</th>\n",
       "      <th>kitch_sq</th>\n",
       "      <th>...</th>\n",
       "      <th>zd_vokzaly_avto_km</th>\n",
       "      <th>year</th>\n",
       "      <th>month</th>\n",
       "      <th>day</th>\n",
       "      <th>date</th>\n",
       "      <th>product_type_le</th>\n",
       "      <th>sub_area_le</th>\n",
       "      <th>cpi</th>\n",
       "      <th>usdrub</th>\n",
       "      <th>usdrub_3m_vol</th>\n",
       "    </tr>\n",
       "  </thead>\n",
       "  <tbody>\n",
       "    <tr>\n",
       "      <th>0</th>\n",
       "      <td>30474</td>\n",
       "      <td>2015-07-01</td>\n",
       "      <td>39.0</td>\n",
       "      <td>20.7</td>\n",
       "      <td>2</td>\n",
       "      <td>9.0</td>\n",
       "      <td>1.0</td>\n",
       "      <td>1998.0</td>\n",
       "      <td>1.0</td>\n",
       "      <td>8.9</td>\n",
       "      <td>...</td>\n",
       "      <td>27.553486</td>\n",
       "      <td>2015</td>\n",
       "      <td>7</td>\n",
       "      <td>1</td>\n",
       "      <td>2015-07-01</td>\n",
       "      <td>0</td>\n",
       "      <td>38</td>\n",
       "      <td>490.5</td>\n",
       "      <td>55.5989</td>\n",
       "      <td>2.155952</td>\n",
       "    </tr>\n",
       "    <tr>\n",
       "      <th>1</th>\n",
       "      <td>30475</td>\n",
       "      <td>2015-07-01</td>\n",
       "      <td>79.2</td>\n",
       "      <td>NaN</td>\n",
       "      <td>8</td>\n",
       "      <td>17.0</td>\n",
       "      <td>1.0</td>\n",
       "      <td>NaN</td>\n",
       "      <td>3.0</td>\n",
       "      <td>1.0</td>\n",
       "      <td>...</td>\n",
       "      <td>27.421853</td>\n",
       "      <td>2015</td>\n",
       "      <td>7</td>\n",
       "      <td>1</td>\n",
       "      <td>2015-07-01</td>\n",
       "      <td>1</td>\n",
       "      <td>103</td>\n",
       "      <td>490.5</td>\n",
       "      <td>55.5989</td>\n",
       "      <td>2.155952</td>\n",
       "    </tr>\n",
       "    <tr>\n",
       "      <th>2</th>\n",
       "      <td>30476</td>\n",
       "      <td>2015-07-01</td>\n",
       "      <td>40.5</td>\n",
       "      <td>25.1</td>\n",
       "      <td>3</td>\n",
       "      <td>5.0</td>\n",
       "      <td>2.0</td>\n",
       "      <td>1960.0</td>\n",
       "      <td>2.0</td>\n",
       "      <td>4.8</td>\n",
       "      <td>...</td>\n",
       "      <td>10.093318</td>\n",
       "      <td>2015</td>\n",
       "      <td>7</td>\n",
       "      <td>1</td>\n",
       "      <td>2015-07-01</td>\n",
       "      <td>0</td>\n",
       "      <td>84</td>\n",
       "      <td>490.5</td>\n",
       "      <td>55.5989</td>\n",
       "      <td>2.155952</td>\n",
       "    </tr>\n",
       "    <tr>\n",
       "      <th>3</th>\n",
       "      <td>30477</td>\n",
       "      <td>2015-07-01</td>\n",
       "      <td>62.8</td>\n",
       "      <td>36.0</td>\n",
       "      <td>17</td>\n",
       "      <td>17.0</td>\n",
       "      <td>1.0</td>\n",
       "      <td>2016.0</td>\n",
       "      <td>2.0</td>\n",
       "      <td>62.8</td>\n",
       "      <td>...</td>\n",
       "      <td>37.436772</td>\n",
       "      <td>2015</td>\n",
       "      <td>7</td>\n",
       "      <td>1</td>\n",
       "      <td>2015-07-01</td>\n",
       "      <td>1</td>\n",
       "      <td>105</td>\n",
       "      <td>490.5</td>\n",
       "      <td>55.5989</td>\n",
       "      <td>2.155952</td>\n",
       "    </tr>\n",
       "    <tr>\n",
       "      <th>4</th>\n",
       "      <td>30478</td>\n",
       "      <td>2015-07-01</td>\n",
       "      <td>40.0</td>\n",
       "      <td>40.0</td>\n",
       "      <td>17</td>\n",
       "      <td>17.0</td>\n",
       "      <td>1.0</td>\n",
       "      <td>NaN</td>\n",
       "      <td>1.0</td>\n",
       "      <td>1.0</td>\n",
       "      <td>...</td>\n",
       "      <td>25.699461</td>\n",
       "      <td>2015</td>\n",
       "      <td>7</td>\n",
       "      <td>1</td>\n",
       "      <td>2015-07-01</td>\n",
       "      <td>1</td>\n",
       "      <td>103</td>\n",
       "      <td>490.5</td>\n",
       "      <td>55.5989</td>\n",
       "      <td>2.155952</td>\n",
       "    </tr>\n",
       "  </tbody>\n",
       "</table>\n",
       "<p>5 rows × 300 columns</p>\n",
       "</div>"
      ],
      "text/plain": [
       "      id   timestamp  full_sq  life_sq  floor  max_floor  material  \\\n",
       "0  30474  2015-07-01     39.0     20.7      2        9.0       1.0   \n",
       "1  30475  2015-07-01     79.2      NaN      8       17.0       1.0   \n",
       "2  30476  2015-07-01     40.5     25.1      3        5.0       2.0   \n",
       "3  30477  2015-07-01     62.8     36.0     17       17.0       1.0   \n",
       "4  30478  2015-07-01     40.0     40.0     17       17.0       1.0   \n",
       "\n",
       "   build_year  num_room  kitch_sq      ...        zd_vokzaly_avto_km  year  \\\n",
       "0      1998.0       1.0       8.9      ...                 27.553486  2015   \n",
       "1         NaN       3.0       1.0      ...                 27.421853  2015   \n",
       "2      1960.0       2.0       4.8      ...                 10.093318  2015   \n",
       "3      2016.0       2.0      62.8      ...                 37.436772  2015   \n",
       "4         NaN       1.0       1.0      ...                 25.699461  2015   \n",
       "\n",
       "  month  day        date  product_type_le  sub_area_le    cpi   usdrub  \\\n",
       "0     7    1  2015-07-01                0           38  490.5  55.5989   \n",
       "1     7    1  2015-07-01                1          103  490.5  55.5989   \n",
       "2     7    1  2015-07-01                0           84  490.5  55.5989   \n",
       "3     7    1  2015-07-01                1          105  490.5  55.5989   \n",
       "4     7    1  2015-07-01                1          103  490.5  55.5989   \n",
       "\n",
       "   usdrub_3m_vol  \n",
       "0       2.155952  \n",
       "1       2.155952  \n",
       "2       2.155952  \n",
       "3       2.155952  \n",
       "4       2.155952  \n",
       "\n",
       "[5 rows x 300 columns]"
      ]
     },
     "execution_count": 207,
     "metadata": {},
     "output_type": "execute_result"
    }
   ],
   "source": [
    "test_macro.head()"
   ]
  },
  {
   "cell_type": "code",
   "execution_count": 193,
   "metadata": {
    "collapsed": false
   },
   "outputs": [
    {
     "data": {
      "text/plain": [
       "30428"
      ]
     },
     "execution_count": 193,
     "metadata": {},
     "output_type": "execute_result"
    }
   ],
   "source": [
    "train_macro[model_features]['cpi'].isnull().sum()"
   ]
  }
 ],
 "metadata": {
  "kernelspec": {
   "display_name": "Python 2",
   "language": "python",
   "name": "python2"
  },
  "language_info": {
   "codemirror_mode": {
    "name": "ipython",
    "version": 2
   },
   "file_extension": ".py",
   "mimetype": "text/x-python",
   "name": "python",
   "nbconvert_exporter": "python",
   "pygments_lexer": "ipython2",
   "version": "2.7.12"
  }
 },
 "nbformat": 4,
 "nbformat_minor": 0
}
