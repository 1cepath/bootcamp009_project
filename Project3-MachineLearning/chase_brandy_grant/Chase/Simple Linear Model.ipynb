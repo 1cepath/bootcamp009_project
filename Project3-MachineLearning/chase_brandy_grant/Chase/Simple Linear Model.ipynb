{
 "cells": [
  {
   "cell_type": "code",
   "execution_count": 80,
   "metadata": {
    "collapsed": true
   },
   "outputs": [],
   "source": [
    "import pandas as pd\n",
    "from sklearn import preprocessing\n",
    "import numpy as np\n",
    "%matplotlib inline\n",
    "pd.set_option('display.max_columns', 500)\n"
   ]
  },
  {
   "cell_type": "markdown",
   "metadata": {},
   "source": [
    "### Playing around with using different columns that are complete"
   ]
  },
  {
   "cell_type": "code",
   "execution_count": 359,
   "metadata": {
    "collapsed": true
   },
   "outputs": [],
   "source": [
    "train = pd.read_csv('../Chase/clean_training_60_cols_chase.csv', parse_dates=['timestamp'], index_col=\"id\")  \n",
    "test = pd.read_csv('../Chase/clean_test_59_cols_chase.csv', parse_dates=['timestamp'], index_col=\"id\")\n",
    "\n",
    "cols = test.columns.tolist()\n",
    "cols.append('price_doc')\n",
    "\n",
    "train_index = train.index.tolist()\n",
    "test_index = test.index.tolist()\n",
    "\n",
    "df = train[cols].copy()\n",
    "df = pd.concat([df,test],ignore_index=False)\n",
    "\n"
   ]
  },
  {
   "cell_type": "code",
   "execution_count": 325,
   "metadata": {
    "collapsed": true
   },
   "outputs": [],
   "source": [
    "macro = pd.read_csv('../Chase/macro_chase.csv')\n",
    "macro['quarter'] = pd.PeriodIndex(macro['Unnamed: 0'], freq='Q').strftime('Q%q-%y')\n",
    "df['quarter'] = pd.PeriodIndex(df['timestamp'], freq='Q').strftime('Q%q-%y')\n",
    "\n",
    "df = pd.merge(df,macro[['quarter','nominal_index']], how=\"left\", on=\"quarter\").reset_index(drop=True).set_index(df.index)"
   ]
  },
  {
   "cell_type": "code",
   "execution_count": 326,
   "metadata": {
    "collapsed": true
   },
   "outputs": [],
   "source": [
    "df['kitch_to_life'] = df.kitch_sq / df.life_sq\n",
    "df['life_to_full'] = df.life_sq / df.full_sq\n",
    "df['bld_type'] = 'med_rise'\n",
    "df.loc[df.max_floor <= 5,'bld_type'] = 'low_rise'\n",
    "df.loc[df.max_floor >= 17,'bld_type'] = 'high_rise'\n",
    "df['walk_up_penalty'] = 0\n",
    "df.loc[(df.floor>4) & (df.max_floor < 6),'walk_up_penalty'] = 1 "
   ]
  },
  {
   "cell_type": "code",
   "execution_count": 327,
   "metadata": {
    "collapsed": true
   },
   "outputs": [],
   "source": [
    "df['price_doc'] = df.price_doc / df.nominal_index\n",
    "df['price_full'] = df.price_doc / df.full_sq\n",
    "df['log_price'] = np.log(df.price_doc)\n",
    "# df['price_doc'] = df.price_doc / 1000\n"
   ]
  },
  {
   "cell_type": "markdown",
   "metadata": {},
   "source": [
    "### Multiple Linear Regression"
   ]
  },
  {
   "cell_type": "code",
   "execution_count": 342,
   "metadata": {
    "collapsed": true
   },
   "outputs": [],
   "source": [
    "from sklearn import linear_model\n",
    "from sklearn.model_selection import KFold, cross_val_score\n",
    "\n",
    "ols = linear_model.LinearRegression()\n",
    "\n",
    "# cols to drop\n",
    "# drop_cols = ['timestamp','price_doc','nominal_index','adj_price_doc','price_full','log_price','price_full']\n",
    "cols = ['full_sq','life_sq','kitch_sq', 'max_floor','floor', 'kitch_to_life', 'life_to_full', 'sub_area']\n",
    "lm_data = df[cols].copy()\n",
    "\n",
    "df_obj = lm_data.select_dtypes(include=['object'])\n",
    "df_num = lm_data.select_dtypes(exclude=['object'])\n",
    "\n",
    "\n",
    "dummies = pd.get_dummies(df_obj)\n",
    "df_all = pd.concat([df_num,dummies],axis=1)\n",
    "\n",
    "x_train = df_all.loc[train_index,:]\n",
    "y_train = df.loc[train_index,'price_full']\n",
    "\n",
    "x_test = df_all.loc[test_index,:]\n",
    "\n",
    "\n",
    "\n",
    "# df.log_price"
   ]
  },
  {
   "cell_type": "code",
   "execution_count": null,
   "metadata": {},
   "outputs": [],
   "source": []
  },
  {
   "cell_type": "code",
   "execution_count": 351,
   "metadata": {},
   "outputs": [
    {
     "data": {
      "text/plain": [
       "LinearRegression(copy_X=True, fit_intercept=True, n_jobs=1, normalize=False)"
      ]
     },
     "execution_count": 351,
     "metadata": {},
     "output_type": "execute_result"
    }
   ],
   "source": [
    "ols.fit(x_train,y_train)\n"
   ]
  },
  {
   "cell_type": "code",
   "execution_count": 352,
   "metadata": {},
   "outputs": [
    {
     "name": "stdout",
     "output_type": "stream",
     "text": [
      "[ 0.11819023  0.23812165  0.30496662  0.26559796  0.33095024  0.33033659\n",
      "  0.28441396  0.40940807  0.36841847  0.33229627]\n"
     ]
    }
   ],
   "source": [
    "cv_scores = cross_val_score(ols, x_train, y_train, cv=10)\n",
    "print cv_scores"
   ]
  },
  {
   "cell_type": "code",
   "execution_count": 353,
   "metadata": {},
   "outputs": [
    {
     "data": {
      "text/plain": [
       "array([ 113399.62994275,  131072.761082  ,  117530.96851896, ...,\n",
       "        130642.71865854,  122099.30137363,  122800.09541939])"
      ]
     },
     "execution_count": 353,
     "metadata": {},
     "output_type": "execute_result"
    }
   ],
   "source": [
    "ols.predict(x_test)"
   ]
  },
  {
   "cell_type": "code",
   "execution_count": 354,
   "metadata": {},
   "outputs": [
    {
     "name": "stdout",
     "output_type": "stream",
     "text": [
      "[ 0.11819023  0.23812165  0.30496662  0.26559796  0.33095024  0.33033659\n",
      "  0.28441396  0.40940807  0.36841847  0.33229627]\n"
     ]
    }
   ],
   "source": [
    "cv_scores = cross_val_score(ols, x_train, y_train, cv=10)\n",
    "print cv_scores"
   ]
  },
  {
   "cell_type": "code",
   "execution_count": 355,
   "metadata": {
    "collapsed": true
   },
   "outputs": [],
   "source": [
    "test1 = pd.DataFrame({'price_doc': ols.predict(x_test)},index=test_index)"
   ]
  },
  {
   "cell_type": "code",
   "execution_count": 356,
   "metadata": {},
   "outputs": [],
   "source": [
    "test['price_doc'] = ols.predict(x_test)"
   ]
  },
  {
   "cell_type": "code",
   "execution_count": 357,
   "metadata": {
    "collapsed": true
   },
   "outputs": [],
   "source": [
    "from sklearn.linear_model import Ridge\n",
    "from sklearn.pipeline import make_pipeline\n",
    "from sklearn.preprocessing import MinMaxScaler\n",
    "from sklearn.model_selection import GridSearchCV\n",
    "\n",
    "\n",
    "pipe  =  make_pipeline(MinMaxScaler(), Ridge())\n",
    "param_grid = {'ridge__alpha': [100,10,1,0.1,0.01,0.001,0.0001,0]}\n",
    "grid =  GridSearchCV(pipe, param_grid, cv=5)\n",
    "lm_predictions = grid.fit(x_train, y_train)"
   ]
  },
  {
   "cell_type": "code",
   "execution_count": 358,
   "metadata": {},
   "outputs": [
    {
     "name": "stdout",
     "output_type": "stream",
     "text": [
      "0.298188249736\n"
     ]
    }
   ],
   "source": [
    "# print lm_predictions.predict(x_train)\n",
    "print lm_predictions.best_score_"
   ]
  },
  {
   "cell_type": "code",
   "execution_count": 224,
   "metadata": {},
   "outputs": [
    {
     "data": {
      "text/plain": [
       "GridSearchCV(cv=5, error_score='raise',\n",
       "       estimator=Pipeline(steps=[('minmaxscaler', MinMaxScaler(copy=True, feature_range=(0, 1))), ('ridge', Ridge(alpha=1.0, copy_X=True, fit_intercept=True, max_iter=None,\n",
       "   normalize=False, random_state=None, solver='auto', tol=0.001))]),\n",
       "       fit_params={}, iid=True, n_jobs=1,\n",
       "       param_grid={'ridge__alpha': [100, 10, 1, 0.1, 0.01, 0.001, 0.0001, 0]},\n",
       "       pre_dispatch='2*n_jobs', refit=True, return_train_score=True,\n",
       "       scoring=None, verbose=0)"
      ]
     },
     "execution_count": 224,
     "metadata": {},
     "output_type": "execute_result"
    }
   ],
   "source": [
    "cols = ['timestamp','price_doc','nominal_index','adj_price_doc','price_full','log_price','price_full']\n",
    "\n",
    "pipe  =  make_pipeline(MinMaxScaler(), Ridge())\n",
    "param_grid = {'ridge__alpha': [100,10,1,0.1,0.01,0.001,0.0001,0]}\n",
    "grid =  GridSearchCV(pipe, param_grid, cv=5)\n",
    "grid.fit(x_train, y_train)"
   ]
  },
  {
   "cell_type": "code",
   "execution_count": 230,
   "metadata": {
    "collapsed": true
   },
   "outputs": [],
   "source": [
    "sub = grid.predict(x_test)"
   ]
  },
  {
   "cell_type": "code",
   "execution_count": 231,
   "metadata": {
    "collapsed": true
   },
   "outputs": [],
   "source": [
    "sub = pd.DataFrame({'id': test_index, 'price_doc':sub})"
   ]
  },
  {
   "cell_type": "code",
   "execution_count": 244,
   "metadata": {
    "collapsed": true
   },
   "outputs": [],
   "source": [
    "sub.loc[:,'nominal_index'] = df.loc[test_index,'nominal_index'].values"
   ]
  },
  {
   "cell_type": "code",
   "execution_count": 246,
   "metadata": {
    "collapsed": true
   },
   "outputs": [],
   "source": [
    "sub.price_doc = sub.price_doc * sub.nominal_index"
   ]
  },
  {
   "cell_type": "code",
   "execution_count": 248,
   "metadata": {
    "collapsed": true
   },
   "outputs": [],
   "source": [
    "sub.loc[:,'price_doc'].to_frame().to_csv('../Chase/submissions/052517_linear_regression.csv')"
   ]
  },
  {
   "cell_type": "code",
   "execution_count": 249,
   "metadata": {},
   "outputs": [
    {
     "data": {
      "text/html": [
       "<div>\n",
       "<style>\n",
       "    .dataframe thead tr:only-child th {\n",
       "        text-align: right;\n",
       "    }\n",
       "\n",
       "    .dataframe thead th {\n",
       "        text-align: left;\n",
       "    }\n",
       "\n",
       "    .dataframe tbody tr th {\n",
       "        vertical-align: top;\n",
       "    }\n",
       "</style>\n",
       "<table border=\"1\" class=\"dataframe\">\n",
       "  <thead>\n",
       "    <tr style=\"text-align: right;\">\n",
       "      <th></th>\n",
       "      <th>id</th>\n",
       "      <th>price_doc</th>\n",
       "      <th>nominal_index</th>\n",
       "    </tr>\n",
       "  </thead>\n",
       "  <tbody>\n",
       "    <tr>\n",
       "      <th>1247</th>\n",
       "      <td>31776</td>\n",
       "      <td>-7.431058e+06</td>\n",
       "      <td>1.214295</td>\n",
       "    </tr>\n",
       "    <tr>\n",
       "      <th>2986</th>\n",
       "      <td>33568</td>\n",
       "      <td>-7.421459e+06</td>\n",
       "      <td>1.194126</td>\n",
       "    </tr>\n",
       "    <tr>\n",
       "      <th>3259</th>\n",
       "      <td>33856</td>\n",
       "      <td>-7.395029e+06</td>\n",
       "      <td>1.194126</td>\n",
       "    </tr>\n",
       "    <tr>\n",
       "      <th>67</th>\n",
       "      <td>30542</td>\n",
       "      <td>-7.389825e+06</td>\n",
       "      <td>1.214295</td>\n",
       "    </tr>\n",
       "    <tr>\n",
       "      <th>392</th>\n",
       "      <td>30881</td>\n",
       "      <td>-7.313506e+06</td>\n",
       "      <td>1.214295</td>\n",
       "    </tr>\n",
       "    <tr>\n",
       "      <th>333</th>\n",
       "      <td>30817</td>\n",
       "      <td>-7.313506e+06</td>\n",
       "      <td>1.214295</td>\n",
       "    </tr>\n",
       "    <tr>\n",
       "      <th>196</th>\n",
       "      <td>30675</td>\n",
       "      <td>-7.313506e+06</td>\n",
       "      <td>1.214295</td>\n",
       "    </tr>\n",
       "    <tr>\n",
       "      <th>573</th>\n",
       "      <td>31073</td>\n",
       "      <td>-7.313506e+06</td>\n",
       "      <td>1.214295</td>\n",
       "    </tr>\n",
       "    <tr>\n",
       "      <th>1968</th>\n",
       "      <td>32520</td>\n",
       "      <td>-7.307632e+06</td>\n",
       "      <td>1.194126</td>\n",
       "    </tr>\n",
       "    <tr>\n",
       "      <th>2094</th>\n",
       "      <td>32651</td>\n",
       "      <td>-7.307632e+06</td>\n",
       "      <td>1.194126</td>\n",
       "    </tr>\n",
       "    <tr>\n",
       "      <th>412</th>\n",
       "      <td>30902</td>\n",
       "      <td>-7.292436e+06</td>\n",
       "      <td>1.214295</td>\n",
       "    </tr>\n",
       "    <tr>\n",
       "      <th>90</th>\n",
       "      <td>30567</td>\n",
       "      <td>-7.289145e+06</td>\n",
       "      <td>1.214295</td>\n",
       "    </tr>\n",
       "    <tr>\n",
       "      <th>1478</th>\n",
       "      <td>32012</td>\n",
       "      <td>-7.276169e+06</td>\n",
       "      <td>1.194126</td>\n",
       "    </tr>\n",
       "    <tr>\n",
       "      <th>646</th>\n",
       "      <td>31149</td>\n",
       "      <td>-7.271365e+06</td>\n",
       "      <td>1.214295</td>\n",
       "    </tr>\n",
       "    <tr>\n",
       "      <th>4926</th>\n",
       "      <td>35617</td>\n",
       "      <td>-7.270173e+06</td>\n",
       "      <td>1.173957</td>\n",
       "    </tr>\n",
       "    <tr>\n",
       "      <th>1595</th>\n",
       "      <td>32132</td>\n",
       "      <td>-7.255449e+06</td>\n",
       "      <td>1.194126</td>\n",
       "    </tr>\n",
       "    <tr>\n",
       "      <th>4948</th>\n",
       "      <td>35640</td>\n",
       "      <td>-7.163807e+06</td>\n",
       "      <td>1.173957</td>\n",
       "    </tr>\n",
       "    <tr>\n",
       "      <th>4367</th>\n",
       "      <td>35026</td>\n",
       "      <td>-7.163807e+06</td>\n",
       "      <td>1.173957</td>\n",
       "    </tr>\n",
       "    <tr>\n",
       "      <th>5186</th>\n",
       "      <td>35896</td>\n",
       "      <td>-7.163807e+06</td>\n",
       "      <td>1.173957</td>\n",
       "    </tr>\n",
       "    <tr>\n",
       "      <th>3950</th>\n",
       "      <td>34586</td>\n",
       "      <td>-7.153274e+06</td>\n",
       "      <td>1.173957</td>\n",
       "    </tr>\n",
       "    <tr>\n",
       "      <th>2979</th>\n",
       "      <td>33561</td>\n",
       "      <td>-7.150591e+06</td>\n",
       "      <td>1.194126</td>\n",
       "    </tr>\n",
       "    <tr>\n",
       "      <th>4429</th>\n",
       "      <td>35091</td>\n",
       "      <td>-7.050187e+06</td>\n",
       "      <td>1.173957</td>\n",
       "    </tr>\n",
       "    <tr>\n",
       "      <th>6651</th>\n",
       "      <td>37412</td>\n",
       "      <td>-6.981298e+06</td>\n",
       "      <td>1.162486</td>\n",
       "    </tr>\n",
       "    <tr>\n",
       "      <th>76</th>\n",
       "      <td>30552</td>\n",
       "      <td>-6.933929e+06</td>\n",
       "      <td>1.214295</td>\n",
       "    </tr>\n",
       "    <tr>\n",
       "      <th>2235</th>\n",
       "      <td>32794</td>\n",
       "      <td>-6.852662e+06</td>\n",
       "      <td>1.194126</td>\n",
       "    </tr>\n",
       "    <tr>\n",
       "      <th>1872</th>\n",
       "      <td>32421</td>\n",
       "      <td>-6.818760e+06</td>\n",
       "      <td>1.194126</td>\n",
       "    </tr>\n",
       "    <tr>\n",
       "      <th>2653</th>\n",
       "      <td>33223</td>\n",
       "      <td>-6.791393e+06</td>\n",
       "      <td>1.194126</td>\n",
       "    </tr>\n",
       "    <tr>\n",
       "      <th>5829</th>\n",
       "      <td>36566</td>\n",
       "      <td>-6.787406e+06</td>\n",
       "      <td>1.173957</td>\n",
       "    </tr>\n",
       "    <tr>\n",
       "      <th>2893</th>\n",
       "      <td>33471</td>\n",
       "      <td>-6.720845e+06</td>\n",
       "      <td>1.194126</td>\n",
       "    </tr>\n",
       "    <tr>\n",
       "      <th>3038</th>\n",
       "      <td>33621</td>\n",
       "      <td>-6.700124e+06</td>\n",
       "      <td>1.194126</td>\n",
       "    </tr>\n",
       "    <tr>\n",
       "      <th>...</th>\n",
       "      <td>...</td>\n",
       "      <td>...</td>\n",
       "      <td>...</td>\n",
       "    </tr>\n",
       "    <tr>\n",
       "      <th>6837</th>\n",
       "      <td>37604</td>\n",
       "      <td>2.575829e+07</td>\n",
       "      <td>1.162486</td>\n",
       "    </tr>\n",
       "    <tr>\n",
       "      <th>4130</th>\n",
       "      <td>34781</td>\n",
       "      <td>2.575963e+07</td>\n",
       "      <td>1.173957</td>\n",
       "    </tr>\n",
       "    <tr>\n",
       "      <th>6979</th>\n",
       "      <td>37753</td>\n",
       "      <td>2.589033e+07</td>\n",
       "      <td>1.162486</td>\n",
       "    </tr>\n",
       "    <tr>\n",
       "      <th>2566</th>\n",
       "      <td>33133</td>\n",
       "      <td>2.607825e+07</td>\n",
       "      <td>1.194126</td>\n",
       "    </tr>\n",
       "    <tr>\n",
       "      <th>6443</th>\n",
       "      <td>37198</td>\n",
       "      <td>2.617605e+07</td>\n",
       "      <td>1.173957</td>\n",
       "    </tr>\n",
       "    <tr>\n",
       "      <th>3889</th>\n",
       "      <td>34521</td>\n",
       "      <td>2.646523e+07</td>\n",
       "      <td>1.173957</td>\n",
       "    </tr>\n",
       "    <tr>\n",
       "      <th>5799</th>\n",
       "      <td>36535</td>\n",
       "      <td>2.686744e+07</td>\n",
       "      <td>1.173957</td>\n",
       "    </tr>\n",
       "    <tr>\n",
       "      <th>1711</th>\n",
       "      <td>32254</td>\n",
       "      <td>2.701197e+07</td>\n",
       "      <td>1.194126</td>\n",
       "    </tr>\n",
       "    <tr>\n",
       "      <th>464</th>\n",
       "      <td>30958</td>\n",
       "      <td>2.747640e+07</td>\n",
       "      <td>1.214295</td>\n",
       "    </tr>\n",
       "    <tr>\n",
       "      <th>2280</th>\n",
       "      <td>32839</td>\n",
       "      <td>2.850511e+07</td>\n",
       "      <td>1.194126</td>\n",
       "    </tr>\n",
       "    <tr>\n",
       "      <th>4280</th>\n",
       "      <td>34937</td>\n",
       "      <td>2.865497e+07</td>\n",
       "      <td>1.173957</td>\n",
       "    </tr>\n",
       "    <tr>\n",
       "      <th>1044</th>\n",
       "      <td>31562</td>\n",
       "      <td>2.889174e+07</td>\n",
       "      <td>1.214295</td>\n",
       "    </tr>\n",
       "    <tr>\n",
       "      <th>1508</th>\n",
       "      <td>32043</td>\n",
       "      <td>2.954575e+07</td>\n",
       "      <td>1.194126</td>\n",
       "    </tr>\n",
       "    <tr>\n",
       "      <th>2557</th>\n",
       "      <td>33123</td>\n",
       "      <td>2.954805e+07</td>\n",
       "      <td>1.194126</td>\n",
       "    </tr>\n",
       "    <tr>\n",
       "      <th>7159</th>\n",
       "      <td>37941</td>\n",
       "      <td>3.000586e+07</td>\n",
       "      <td>1.162486</td>\n",
       "    </tr>\n",
       "    <tr>\n",
       "      <th>1672</th>\n",
       "      <td>32211</td>\n",
       "      <td>3.004619e+07</td>\n",
       "      <td>1.194126</td>\n",
       "    </tr>\n",
       "    <tr>\n",
       "      <th>1696</th>\n",
       "      <td>32237</td>\n",
       "      <td>3.025178e+07</td>\n",
       "      <td>1.194126</td>\n",
       "    </tr>\n",
       "    <tr>\n",
       "      <th>5714</th>\n",
       "      <td>36449</td>\n",
       "      <td>3.201634e+07</td>\n",
       "      <td>1.173957</td>\n",
       "    </tr>\n",
       "    <tr>\n",
       "      <th>1608</th>\n",
       "      <td>32145</td>\n",
       "      <td>3.283930e+07</td>\n",
       "      <td>1.194126</td>\n",
       "    </tr>\n",
       "    <tr>\n",
       "      <th>4779</th>\n",
       "      <td>35464</td>\n",
       "      <td>3.440683e+07</td>\n",
       "      <td>1.173957</td>\n",
       "    </tr>\n",
       "    <tr>\n",
       "      <th>952</th>\n",
       "      <td>31466</td>\n",
       "      <td>3.479440e+07</td>\n",
       "      <td>1.214295</td>\n",
       "    </tr>\n",
       "    <tr>\n",
       "      <th>1657</th>\n",
       "      <td>32196</td>\n",
       "      <td>3.498685e+07</td>\n",
       "      <td>1.194126</td>\n",
       "    </tr>\n",
       "    <tr>\n",
       "      <th>2181</th>\n",
       "      <td>32739</td>\n",
       "      <td>3.532940e+07</td>\n",
       "      <td>1.194126</td>\n",
       "    </tr>\n",
       "    <tr>\n",
       "      <th>798</th>\n",
       "      <td>31310</td>\n",
       "      <td>3.548614e+07</td>\n",
       "      <td>1.214295</td>\n",
       "    </tr>\n",
       "    <tr>\n",
       "      <th>1467</th>\n",
       "      <td>32001</td>\n",
       "      <td>3.597564e+07</td>\n",
       "      <td>1.194126</td>\n",
       "    </tr>\n",
       "    <tr>\n",
       "      <th>6282</th>\n",
       "      <td>37033</td>\n",
       "      <td>3.635467e+07</td>\n",
       "      <td>1.173957</td>\n",
       "    </tr>\n",
       "    <tr>\n",
       "      <th>2379</th>\n",
       "      <td>32941</td>\n",
       "      <td>4.541182e+07</td>\n",
       "      <td>1.194126</td>\n",
       "    </tr>\n",
       "    <tr>\n",
       "      <th>6915</th>\n",
       "      <td>37686</td>\n",
       "      <td>5.052741e+07</td>\n",
       "      <td>1.162486</td>\n",
       "    </tr>\n",
       "    <tr>\n",
       "      <th>4027</th>\n",
       "      <td>34670</td>\n",
       "      <td>5.147938e+07</td>\n",
       "      <td>1.173957</td>\n",
       "    </tr>\n",
       "    <tr>\n",
       "      <th>868</th>\n",
       "      <td>31381</td>\n",
       "      <td>1.511974e+08</td>\n",
       "      <td>1.214295</td>\n",
       "    </tr>\n",
       "  </tbody>\n",
       "</table>\n",
       "<p>7328 rows × 3 columns</p>\n",
       "</div>"
      ],
      "text/plain": [
       "         id     price_doc  nominal_index\n",
       "1247  31776 -7.431058e+06       1.214295\n",
       "2986  33568 -7.421459e+06       1.194126\n",
       "3259  33856 -7.395029e+06       1.194126\n",
       "67    30542 -7.389825e+06       1.214295\n",
       "392   30881 -7.313506e+06       1.214295\n",
       "333   30817 -7.313506e+06       1.214295\n",
       "196   30675 -7.313506e+06       1.214295\n",
       "573   31073 -7.313506e+06       1.214295\n",
       "1968  32520 -7.307632e+06       1.194126\n",
       "2094  32651 -7.307632e+06       1.194126\n",
       "412   30902 -7.292436e+06       1.214295\n",
       "90    30567 -7.289145e+06       1.214295\n",
       "1478  32012 -7.276169e+06       1.194126\n",
       "646   31149 -7.271365e+06       1.214295\n",
       "4926  35617 -7.270173e+06       1.173957\n",
       "1595  32132 -7.255449e+06       1.194126\n",
       "4948  35640 -7.163807e+06       1.173957\n",
       "4367  35026 -7.163807e+06       1.173957\n",
       "5186  35896 -7.163807e+06       1.173957\n",
       "3950  34586 -7.153274e+06       1.173957\n",
       "2979  33561 -7.150591e+06       1.194126\n",
       "4429  35091 -7.050187e+06       1.173957\n",
       "6651  37412 -6.981298e+06       1.162486\n",
       "76    30552 -6.933929e+06       1.214295\n",
       "2235  32794 -6.852662e+06       1.194126\n",
       "1872  32421 -6.818760e+06       1.194126\n",
       "2653  33223 -6.791393e+06       1.194126\n",
       "5829  36566 -6.787406e+06       1.173957\n",
       "2893  33471 -6.720845e+06       1.194126\n",
       "3038  33621 -6.700124e+06       1.194126\n",
       "...     ...           ...            ...\n",
       "6837  37604  2.575829e+07       1.162486\n",
       "4130  34781  2.575963e+07       1.173957\n",
       "6979  37753  2.589033e+07       1.162486\n",
       "2566  33133  2.607825e+07       1.194126\n",
       "6443  37198  2.617605e+07       1.173957\n",
       "3889  34521  2.646523e+07       1.173957\n",
       "5799  36535  2.686744e+07       1.173957\n",
       "1711  32254  2.701197e+07       1.194126\n",
       "464   30958  2.747640e+07       1.214295\n",
       "2280  32839  2.850511e+07       1.194126\n",
       "4280  34937  2.865497e+07       1.173957\n",
       "1044  31562  2.889174e+07       1.214295\n",
       "1508  32043  2.954575e+07       1.194126\n",
       "2557  33123  2.954805e+07       1.194126\n",
       "7159  37941  3.000586e+07       1.162486\n",
       "1672  32211  3.004619e+07       1.194126\n",
       "1696  32237  3.025178e+07       1.194126\n",
       "5714  36449  3.201634e+07       1.173957\n",
       "1608  32145  3.283930e+07       1.194126\n",
       "4779  35464  3.440683e+07       1.173957\n",
       "952   31466  3.479440e+07       1.214295\n",
       "1657  32196  3.498685e+07       1.194126\n",
       "2181  32739  3.532940e+07       1.194126\n",
       "798   31310  3.548614e+07       1.214295\n",
       "1467  32001  3.597564e+07       1.194126\n",
       "6282  37033  3.635467e+07       1.173957\n",
       "2379  32941  4.541182e+07       1.194126\n",
       "6915  37686  5.052741e+07       1.162486\n",
       "4027  34670  5.147938e+07       1.173957\n",
       "868   31381  1.511974e+08       1.214295\n",
       "\n",
       "[7328 rows x 3 columns]"
      ]
     },
     "execution_count": 249,
     "metadata": {},
     "output_type": "execute_result"
    }
   ],
   "source": [
    "sub.sort_values('price_doc')"
   ]
  },
  {
   "cell_type": "code",
   "execution_count": 237,
   "metadata": {
    "collapsed": true
   },
   "outputs": [],
   "source": [
    "# df.loc[test_index,'nominal_index']"
   ]
  },
  {
   "cell_type": "code",
   "execution_count": 247,
   "metadata": {},
   "outputs": [
    {
     "data": {
      "text/html": [
       "<div>\n",
       "<style>\n",
       "    .dataframe thead tr:only-child th {\n",
       "        text-align: right;\n",
       "    }\n",
       "\n",
       "    .dataframe thead th {\n",
       "        text-align: left;\n",
       "    }\n",
       "\n",
       "    .dataframe tbody tr th {\n",
       "        vertical-align: top;\n",
       "    }\n",
       "</style>\n",
       "<table border=\"1\" class=\"dataframe\">\n",
       "  <thead>\n",
       "    <tr style=\"text-align: right;\">\n",
       "      <th></th>\n",
       "      <th>id</th>\n",
       "      <th>price_doc</th>\n",
       "      <th>nominal_index</th>\n",
       "    </tr>\n",
       "  </thead>\n",
       "  <tbody>\n",
       "    <tr>\n",
       "      <th>0</th>\n",
       "      <td>30474</td>\n",
       "      <td>4.176246e+06</td>\n",
       "      <td>1.214295</td>\n",
       "    </tr>\n",
       "    <tr>\n",
       "      <th>1</th>\n",
       "      <td>30475</td>\n",
       "      <td>9.594552e+06</td>\n",
       "      <td>1.214295</td>\n",
       "    </tr>\n",
       "    <tr>\n",
       "      <th>2</th>\n",
       "      <td>30476</td>\n",
       "      <td>5.235794e+06</td>\n",
       "      <td>1.214295</td>\n",
       "    </tr>\n",
       "    <tr>\n",
       "      <th>3</th>\n",
       "      <td>30477</td>\n",
       "      <td>9.846788e+06</td>\n",
       "      <td>1.214295</td>\n",
       "    </tr>\n",
       "    <tr>\n",
       "      <th>4</th>\n",
       "      <td>30478</td>\n",
       "      <td>2.628036e+06</td>\n",
       "      <td>1.214295</td>\n",
       "    </tr>\n",
       "  </tbody>\n",
       "</table>\n",
       "</div>"
      ],
      "text/plain": [
       "      id     price_doc  nominal_index\n",
       "0  30474  4.176246e+06       1.214295\n",
       "1  30475  9.594552e+06       1.214295\n",
       "2  30476  5.235794e+06       1.214295\n",
       "3  30477  9.846788e+06       1.214295\n",
       "4  30478  2.628036e+06       1.214295"
      ]
     },
     "execution_count": 247,
     "metadata": {},
     "output_type": "execute_result"
    }
   ],
   "source": [
    "sub.head()"
   ]
  },
  {
   "cell_type": "code",
   "execution_count": null,
   "metadata": {
    "collapsed": true
   },
   "outputs": [],
   "source": []
  }
 ],
 "metadata": {
  "kernelspec": {
   "display_name": "Python 2",
   "language": "python",
   "name": "python2"
  },
  "language_info": {
   "codemirror_mode": {
    "name": "ipython",
    "version": 2
   },
   "file_extension": ".py",
   "mimetype": "text/x-python",
   "name": "python",
   "nbconvert_exporter": "python",
   "pygments_lexer": "ipython2",
   "version": "2.7.13"
  }
 },
 "nbformat": 4,
 "nbformat_minor": 2
}
