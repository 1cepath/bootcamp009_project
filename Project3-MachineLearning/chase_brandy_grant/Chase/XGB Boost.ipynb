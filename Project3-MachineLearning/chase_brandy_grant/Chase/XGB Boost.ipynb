{
 "cells": [
  {
   "cell_type": "code",
   "execution_count": 2,
   "metadata": {
    "collapsed": true
   },
   "outputs": [],
   "source": [
    "import pandas as pd\n",
    "from sklearn import preprocessing\n",
    "import numpy as np\n",
    "%matplotlib inline\n",
    "pd.set_option('display.max_columns', 500)\n"
   ]
  },
  {
   "cell_type": "markdown",
   "metadata": {},
   "source": [
    "### Playing around with using different columns that are complete"
   ]
  },
  {
   "cell_type": "code",
   "execution_count": 139,
   "metadata": {},
   "outputs": [],
   "source": [
    "train = pd.read_csv('../Chase/clean_train_all_cols_chase.csv', parse_dates=['timestamp'], index_col=\"id\")  \n",
    "test = pd.read_csv('../Chase/clean_test_all_cols_chase.csv', parse_dates=['timestamp'], index_col=\"id\")\n"
   ]
  },
  {
   "cell_type": "code",
   "execution_count": 140,
   "metadata": {},
   "outputs": [],
   "source": [
    "train_index = train.index.tolist()\n",
    "test_index = test.index.tolist()\n",
    "\n",
    "cols = ['life_sq','full_sq','floor','max_floor','kitch_sq','sub_area','kremlin_km','price_doc','timestamp']\n",
    "\n",
    "test['price_doc'] = np.nan\n",
    "\n",
    "df = pd.concat([train[cols].copy(),\n",
    "                test[cols].copy()],\n",
    "               ignore_index=False)\n",
    "\n",
    "df['month'] = df.timestamp.dt.month.astype(object)"
   ]
  },
  {
   "cell_type": "code",
   "execution_count": 141,
   "metadata": {},
   "outputs": [],
   "source": [
    "macro = pd.read_csv('../Chase/macro_chase.csv')\n",
    "macro['quarter'] = pd.PeriodIndex(macro['Unnamed: 0'], freq='Q').strftime('Q%q-%y')\n",
    "df['quarter'] = pd.PeriodIndex(df['timestamp'], freq='Q').strftime('Q%q-%y')\n",
    "\n",
    "df = pd.merge(df,macro[['quarter','nominal_index']], how=\"left\", on=\"quarter\").reset_index(drop=True).set_index(df.index)"
   ]
  },
  {
   "cell_type": "code",
   "execution_count": 142,
   "metadata": {
    "collapsed": true
   },
   "outputs": [],
   "source": [
    "df['kitch_to_life'] = df.kitch_sq / df.life_sq\n",
    "df['life_to_full'] = df.life_sq / df.full_sq\n",
    "df['bld_type'] = 'med_rise'\n",
    "df.loc[df.max_floor <= 5,'bld_type'] = 'low_rise'\n",
    "df.loc[df.max_floor >= 17,'bld_type'] = 'high_rise'\n",
    "df['walk_up_penalty'] = 0\n",
    "df.loc[(df.floor>4) & (df.max_floor < 6),'walk_up_penalty'] = 1 "
   ]
  },
  {
   "cell_type": "code",
   "execution_count": 143,
   "metadata": {},
   "outputs": [],
   "source": [
    "df['price_doc'] = df.price_doc / df.nominal_index\n",
    "df['price_full'] = df.price_doc / df.full_sq\n",
    "df['log_price'] = np.log(df.price_doc)\n",
    "# df['price_doc'] = df.price_doc / 1000\n"
   ]
  },
  {
   "cell_type": "markdown",
   "metadata": {},
   "source": [
    "### Multiple Linear Regression"
   ]
  },
  {
   "cell_type": "code",
   "execution_count": 144,
   "metadata": {},
   "outputs": [
    {
     "name": "stdout",
     "output_type": "stream",
     "text": [
      "R^2: 0.58\n"
     ]
    }
   ],
   "source": [
    "from sklearn import linear_model\n",
    "from sklearn.model_selection import KFold, cross_val_score\n",
    "\n",
    "ols = linear_model.LinearRegression()\n",
    "\n",
    "# cols to drop\n",
    "# drop_cols = ['timestamp','price_doc','nominal_index','adj_price_doc','price_full','log_price','price_full']\n",
    "cols = ['full_sq','floor','sub_area','kremlin_km','month']\n",
    "lm_data = df[cols].copy()\n",
    "\n",
    "df_obj = lm_data.select_dtypes(include=['object'])\n",
    "df_num = lm_data.select_dtypes(exclude=['object'])\n",
    "\n",
    "\n",
    "dummies = pd.get_dummies(df_obj)\n",
    "df_all = pd.concat([df_num,dummies],axis=1)\n",
    "\n",
    "x_train = df_all.loc[train_index]\n",
    "\n",
    "y_train = df.loc[train_index,'log_price']\n",
    "\n",
    "x_test = df_all.loc[test_index,:]\n",
    "\n",
    "ols.fit(x_train,y_train)\n",
    "print('R^2: %.2f' % ols.score(x_train, y_train))\n",
    "# df.log_price"
   ]
  },
  {
   "cell_type": "code",
   "execution_count": 145,
   "metadata": {},
   "outputs": [],
   "source": [
    "df.loc[test_index,'price_doc'] = np.exp(ols.predict(x_test)) * df.loc[test_index,'nominal_index']"
   ]
  },
  {
   "cell_type": "code",
   "execution_count": 146,
   "metadata": {},
   "outputs": [],
   "source": [
    "# df.loc[test_index,'price_doc']\n",
    "df['price_full'] = df.price_doc / df.full_sq"
   ]
  },
  {
   "cell_type": "code",
   "execution_count": 152,
   "metadata": {},
   "outputs": [],
   "source": [
    "cols = ['price_doc','full_sq','price_full']\n",
    "sub = df.loc[test_index,cols]"
   ]
  },
  {
   "cell_type": "code",
   "execution_count": 130,
   "metadata": {},
   "outputs": [],
   "source": [
    "# submission.drop('id',axis=1).to_csv('submission_linear')"
   ]
  },
  {
   "cell_type": "code",
   "execution_count": 157,
   "metadata": {
    "collapsed": true
   },
   "outputs": [],
   "source": [
    "sub['price_doc'].to_frame().to_csv('../Chase/submissions/simple_linear_052616.csv')"
   ]
  },
  {
   "cell_type": "code",
   "execution_count": null,
   "metadata": {
    "collapsed": true
   },
   "outputs": [],
   "source": []
  },
  {
   "cell_type": "code",
   "execution_count": null,
   "metadata": {
    "collapsed": true
   },
   "outputs": [],
   "source": []
  },
  {
   "cell_type": "code",
   "execution_count": null,
   "metadata": {
    "collapsed": true
   },
   "outputs": [],
   "source": []
  },
  {
   "cell_type": "code",
   "execution_count": null,
   "metadata": {
    "collapsed": true
   },
   "outputs": [],
   "source": []
  },
  {
   "cell_type": "code",
   "execution_count": null,
   "metadata": {
    "collapsed": true
   },
   "outputs": [],
   "source": []
  },
  {
   "cell_type": "code",
   "execution_count": null,
   "metadata": {
    "collapsed": true
   },
   "outputs": [],
   "source": []
  },
  {
   "cell_type": "code",
   "execution_count": null,
   "metadata": {
    "collapsed": true
   },
   "outputs": [],
   "source": []
  },
  {
   "cell_type": "code",
   "execution_count": 53,
   "metadata": {},
   "outputs": [
    {
     "name": "stdout",
     "output_type": "stream",
     "text": [
      "[ 0.42788215  0.55501799  0.5988087   0.5554951   0.54050592  0.55748369\n",
      "  0.55827505  0.61427153  0.57239928  0.61094148]\n"
     ]
    }
   ],
   "source": [
    "cv_scores = cross_val_score(ols, x_train, y_train, cv=10)\n",
    "print cv_scores"
   ]
  },
  {
   "cell_type": "code",
   "execution_count": 54,
   "metadata": {},
   "outputs": [
    {
     "data": {
      "text/plain": [
       "array([ 15.26927389,  15.76154285,  15.32017376, ...,  15.15358656,\n",
       "        15.2948478 ,  15.72791287])"
      ]
     },
     "execution_count": 54,
     "metadata": {},
     "output_type": "execute_result"
    }
   ],
   "source": [
    "ols.predict(x_test)"
   ]
  },
  {
   "cell_type": "code",
   "execution_count": 55,
   "metadata": {},
   "outputs": [
    {
     "name": "stdout",
     "output_type": "stream",
     "text": [
      "[ 0.42788215  0.55501799  0.5988087   0.5554951   0.54050592  0.55748369\n",
      "  0.55827505  0.61427153  0.57239928  0.61094148]\n"
     ]
    }
   ],
   "source": [
    "cv_scores = cross_val_score(ols, x_train, y_train, cv=10)\n",
    "print cv_scores"
   ]
  },
  {
   "cell_type": "code",
   "execution_count": 47,
   "metadata": {
    "collapsed": true
   },
   "outputs": [],
   "source": [
    "test1 = pd.DataFrame({'price_doc': ols.predict(x_test)},index=test_index)"
   ]
  },
  {
   "cell_type": "code",
   "execution_count": 48,
   "metadata": {
    "collapsed": true
   },
   "outputs": [],
   "source": [
    "test['price_doc'] = ols.predict(x_test)"
   ]
  },
  {
   "cell_type": "code",
   "execution_count": 56,
   "metadata": {
    "collapsed": true
   },
   "outputs": [],
   "source": [
    "from sklearn.linear_model import Ridge\n",
    "from sklearn.pipeline import make_pipeline\n",
    "from sklearn.preprocessing import MinMaxScaler\n",
    "from sklearn.model_selection import GridSearchCV\n",
    "\n",
    "\n",
    "pipe  =  make_pipeline(MinMaxScaler(), Ridge())\n",
    "param_grid = {'ridge__alpha': [100,10,1,0.1,0.01,0.001,0.0001,0]}\n",
    "grid =  GridSearchCV(pipe, param_grid, cv=5)\n",
    "lm_predictions = grid.fit(x_train, y_train)"
   ]
  },
  {
   "cell_type": "code",
   "execution_count": 57,
   "metadata": {},
   "outputs": [
    {
     "name": "stdout",
     "output_type": "stream",
     "text": [
      "0.55986024025\n"
     ]
    }
   ],
   "source": [
    "# print lm_predictions.predict(x_train)\n",
    "print lm_predictions.best_score_"
   ]
  },
  {
   "cell_type": "code",
   "execution_count": null,
   "metadata": {
    "collapsed": true
   },
   "outputs": [],
   "source": [
    "from sklearn import preprocessing "
   ]
  },
  {
   "cell_type": "code",
   "execution_count": null,
   "metadata": {
    "collapsed": true
   },
   "outputs": [],
   "source": []
  },
  {
   "cell_type": "code",
   "execution_count": null,
   "metadata": {
    "collapsed": true
   },
   "outputs": [],
   "source": [
    "np.exp(log_y_test)"
   ]
  },
  {
   "cell_type": "code",
   "execution_count": 58,
   "metadata": {},
   "outputs": [
    {
     "data": {
      "text/plain": [
       "GridSearchCV(cv=5, error_score='raise',\n",
       "       estimator=Pipeline(steps=[('minmaxscaler', MinMaxScaler(copy=True, feature_range=(0, 1))), ('ridge', Ridge(alpha=1.0, copy_X=True, fit_intercept=True, max_iter=None,\n",
       "   normalize=False, random_state=None, solver='auto', tol=0.001))]),\n",
       "       fit_params={}, iid=True, n_jobs=1,\n",
       "       param_grid={'ridge__alpha': [100, 10, 1, 0.1, 0.01, 0.001, 0.0001, 0]},\n",
       "       pre_dispatch='2*n_jobs', refit=True, return_train_score=True,\n",
       "       scoring=None, verbose=0)"
      ]
     },
     "execution_count": 58,
     "metadata": {},
     "output_type": "execute_result"
    }
   ],
   "source": [
    "cols = ['timestamp','price_doc','nominal_index','adj_price_doc','price_full','log_price','price_full']\n",
    "\n",
    "pipe  =  make_pipeline(MinMaxScaler(), Ridge())\n",
    "param_grid = {'ridge__alpha': [100,10,1,0.1,0.01,0.001,0.0001,0]}\n",
    "grid =  GridSearchCV(pipe, param_grid, cv=5)\n",
    "grid.fit(x_train, y_train)"
   ]
  },
  {
   "cell_type": "code",
   "execution_count": 59,
   "metadata": {
    "collapsed": true
   },
   "outputs": [],
   "source": [
    "sub = grid.predict(x_test)"
   ]
  },
  {
   "cell_type": "code",
   "execution_count": 60,
   "metadata": {
    "collapsed": true
   },
   "outputs": [],
   "source": [
    "sub = pd.DataFrame({'id': test_index, 'price_doc':sub})"
   ]
  },
  {
   "cell_type": "code",
   "execution_count": 61,
   "metadata": {
    "collapsed": true
   },
   "outputs": [],
   "source": [
    "sub.loc[:,'nominal_index'] = df.loc[test_index,'nominal_index'].values"
   ]
  },
  {
   "cell_type": "code",
   "execution_count": 66,
   "metadata": {},
   "outputs": [
    {
     "data": {
      "text/plain": [
       "'112889900.000000'"
      ]
     },
     "execution_count": 66,
     "metadata": {},
     "output_type": "execute_result"
    }
   ],
   "source": [
    "'%f' % 1.128899e+08"
   ]
  },
  {
   "cell_type": "code",
   "execution_count": 62,
   "metadata": {
    "collapsed": true
   },
   "outputs": [],
   "source": [
    "sub.price_doc = sub.price_doc * sub.nominal_index"
   ]
  },
  {
   "cell_type": "code",
   "execution_count": 63,
   "metadata": {
    "collapsed": true
   },
   "outputs": [],
   "source": [
    "sub.loc[:,'price_doc'].to_frame().to_csv('../Chase/submissions/052617_linear_ridge_regression.csv')"
   ]
  },
  {
   "cell_type": "code",
   "execution_count": 64,
   "metadata": {},
   "outputs": [
    {
     "data": {
      "text/html": [
       "<div>\n",
       "<style>\n",
       "    .dataframe thead tr:only-child th {\n",
       "        text-align: right;\n",
       "    }\n",
       "\n",
       "    .dataframe thead th {\n",
       "        text-align: left;\n",
       "    }\n",
       "\n",
       "    .dataframe tbody tr th {\n",
       "        vertical-align: top;\n",
       "    }\n",
       "</style>\n",
       "<table border=\"1\" class=\"dataframe\">\n",
       "  <thead>\n",
       "    <tr style=\"text-align: right;\">\n",
       "      <th></th>\n",
       "      <th>id</th>\n",
       "      <th>price_doc</th>\n",
       "      <th>nominal_index</th>\n",
       "    </tr>\n",
       "  </thead>\n",
       "  <tbody>\n",
       "    <tr>\n",
       "      <th>6938</th>\n",
       "      <td>37412</td>\n",
       "      <td>16.722780</td>\n",
       "      <td>1.162486</td>\n",
       "    </tr>\n",
       "    <tr>\n",
       "      <th>7654</th>\n",
       "      <td>38128</td>\n",
       "      <td>16.795930</td>\n",
       "      <td>1.162486</td>\n",
       "    </tr>\n",
       "    <tr>\n",
       "      <th>5143</th>\n",
       "      <td>35617</td>\n",
       "      <td>16.865221</td>\n",
       "      <td>1.173957</td>\n",
       "    </tr>\n",
       "    <tr>\n",
       "      <th>6092</th>\n",
       "      <td>36566</td>\n",
       "      <td>16.874353</td>\n",
       "      <td>1.173957</td>\n",
       "    </tr>\n",
       "    <tr>\n",
       "      <th>5422</th>\n",
       "      <td>35896</td>\n",
       "      <td>16.875906</td>\n",
       "      <td>1.173957</td>\n",
       "    </tr>\n",
       "    <tr>\n",
       "      <th>4552</th>\n",
       "      <td>35026</td>\n",
       "      <td>16.875906</td>\n",
       "      <td>1.173957</td>\n",
       "    </tr>\n",
       "    <tr>\n",
       "      <th>5166</th>\n",
       "      <td>35640</td>\n",
       "      <td>16.875906</td>\n",
       "      <td>1.173957</td>\n",
       "    </tr>\n",
       "    <tr>\n",
       "      <th>4112</th>\n",
       "      <td>34586</td>\n",
       "      <td>16.877455</td>\n",
       "      <td>1.173957</td>\n",
       "    </tr>\n",
       "    <tr>\n",
       "      <th>5638</th>\n",
       "      <td>36112</td>\n",
       "      <td>16.879989</td>\n",
       "      <td>1.173957</td>\n",
       "    </tr>\n",
       "    <tr>\n",
       "      <th>4617</th>\n",
       "      <td>35091</td>\n",
       "      <td>16.887796</td>\n",
       "      <td>1.173957</td>\n",
       "    </tr>\n",
       "    <tr>\n",
       "      <th>4697</th>\n",
       "      <td>35171</td>\n",
       "      <td>16.911206</td>\n",
       "      <td>1.173957</td>\n",
       "    </tr>\n",
       "    <tr>\n",
       "      <th>5751</th>\n",
       "      <td>36225</td>\n",
       "      <td>16.957039</td>\n",
       "      <td>1.173957</td>\n",
       "    </tr>\n",
       "    <tr>\n",
       "      <th>4042</th>\n",
       "      <td>34516</td>\n",
       "      <td>16.988215</td>\n",
       "      <td>1.173957</td>\n",
       "    </tr>\n",
       "    <tr>\n",
       "      <th>5651</th>\n",
       "      <td>36125</td>\n",
       "      <td>17.042997</td>\n",
       "      <td>1.173957</td>\n",
       "    </tr>\n",
       "    <tr>\n",
       "      <th>7085</th>\n",
       "      <td>37559</td>\n",
       "      <td>17.061701</td>\n",
       "      <td>1.162486</td>\n",
       "    </tr>\n",
       "    <tr>\n",
       "      <th>4852</th>\n",
       "      <td>35326</td>\n",
       "      <td>17.062022</td>\n",
       "      <td>1.173957</td>\n",
       "    </tr>\n",
       "    <tr>\n",
       "      <th>7526</th>\n",
       "      <td>38000</td>\n",
       "      <td>17.067083</td>\n",
       "      <td>1.162486</td>\n",
       "    </tr>\n",
       "    <tr>\n",
       "      <th>7318</th>\n",
       "      <td>37792</td>\n",
       "      <td>17.069329</td>\n",
       "      <td>1.162486</td>\n",
       "    </tr>\n",
       "    <tr>\n",
       "      <th>7468</th>\n",
       "      <td>37942</td>\n",
       "      <td>17.131200</td>\n",
       "      <td>1.162486</td>\n",
       "    </tr>\n",
       "    <tr>\n",
       "      <th>2911</th>\n",
       "      <td>33385</td>\n",
       "      <td>17.131981</td>\n",
       "      <td>1.194126</td>\n",
       "    </tr>\n",
       "    <tr>\n",
       "      <th>6942</th>\n",
       "      <td>37416</td>\n",
       "      <td>17.138135</td>\n",
       "      <td>1.162486</td>\n",
       "    </tr>\n",
       "    <tr>\n",
       "      <th>3094</th>\n",
       "      <td>33568</td>\n",
       "      <td>17.144261</td>\n",
       "      <td>1.194126</td>\n",
       "    </tr>\n",
       "    <tr>\n",
       "      <th>5867</th>\n",
       "      <td>36341</td>\n",
       "      <td>17.147322</td>\n",
       "      <td>1.173957</td>\n",
       "    </tr>\n",
       "    <tr>\n",
       "      <th>2320</th>\n",
       "      <td>32794</td>\n",
       "      <td>17.154779</td>\n",
       "      <td>1.194126</td>\n",
       "    </tr>\n",
       "    <tr>\n",
       "      <th>4851</th>\n",
       "      <td>35325</td>\n",
       "      <td>17.154889</td>\n",
       "      <td>1.173957</td>\n",
       "    </tr>\n",
       "    <tr>\n",
       "      <th>3271</th>\n",
       "      <td>33745</td>\n",
       "      <td>17.165836</td>\n",
       "      <td>1.194126</td>\n",
       "    </tr>\n",
       "    <tr>\n",
       "      <th>1947</th>\n",
       "      <td>32421</td>\n",
       "      <td>17.165838</td>\n",
       "      <td>1.194126</td>\n",
       "    </tr>\n",
       "    <tr>\n",
       "      <th>4516</th>\n",
       "      <td>34990</td>\n",
       "      <td>17.167156</td>\n",
       "      <td>1.173957</td>\n",
       "    </tr>\n",
       "    <tr>\n",
       "      <th>1538</th>\n",
       "      <td>32012</td>\n",
       "      <td>17.167415</td>\n",
       "      <td>1.194126</td>\n",
       "    </tr>\n",
       "    <tr>\n",
       "      <th>1658</th>\n",
       "      <td>32132</td>\n",
       "      <td>17.168994</td>\n",
       "      <td>1.194126</td>\n",
       "    </tr>\n",
       "    <tr>\n",
       "      <th>...</th>\n",
       "      <td>...</td>\n",
       "      <td>...</td>\n",
       "      <td>...</td>\n",
       "    </tr>\n",
       "    <tr>\n",
       "      <th>1780</th>\n",
       "      <td>32254</td>\n",
       "      <td>20.347228</td>\n",
       "      <td>1.194126</td>\n",
       "    </tr>\n",
       "    <tr>\n",
       "      <th>174</th>\n",
       "      <td>30648</td>\n",
       "      <td>20.375927</td>\n",
       "      <td>1.214295</td>\n",
       "    </tr>\n",
       "    <tr>\n",
       "      <th>1385</th>\n",
       "      <td>31859</td>\n",
       "      <td>20.378740</td>\n",
       "      <td>1.214295</td>\n",
       "    </tr>\n",
       "    <tr>\n",
       "      <th>1039</th>\n",
       "      <td>31513</td>\n",
       "      <td>20.392890</td>\n",
       "      <td>1.214295</td>\n",
       "    </tr>\n",
       "    <tr>\n",
       "      <th>1148</th>\n",
       "      <td>31622</td>\n",
       "      <td>20.419493</td>\n",
       "      <td>1.214295</td>\n",
       "    </tr>\n",
       "    <tr>\n",
       "      <th>2659</th>\n",
       "      <td>33133</td>\n",
       "      <td>20.427074</td>\n",
       "      <td>1.194126</td>\n",
       "    </tr>\n",
       "    <tr>\n",
       "      <th>216</th>\n",
       "      <td>30690</td>\n",
       "      <td>20.455450</td>\n",
       "      <td>1.214295</td>\n",
       "    </tr>\n",
       "    <tr>\n",
       "      <th>910</th>\n",
       "      <td>31384</td>\n",
       "      <td>20.469155</td>\n",
       "      <td>1.214295</td>\n",
       "    </tr>\n",
       "    <tr>\n",
       "      <th>1737</th>\n",
       "      <td>32211</td>\n",
       "      <td>20.531033</td>\n",
       "      <td>1.194126</td>\n",
       "    </tr>\n",
       "    <tr>\n",
       "      <th>2265</th>\n",
       "      <td>32739</td>\n",
       "      <td>20.611443</td>\n",
       "      <td>1.194126</td>\n",
       "    </tr>\n",
       "    <tr>\n",
       "      <th>905</th>\n",
       "      <td>31379</td>\n",
       "      <td>20.654308</td>\n",
       "      <td>1.214295</td>\n",
       "    </tr>\n",
       "    <tr>\n",
       "      <th>484</th>\n",
       "      <td>30958</td>\n",
       "      <td>20.688419</td>\n",
       "      <td>1.214295</td>\n",
       "    </tr>\n",
       "    <tr>\n",
       "      <th>1763</th>\n",
       "      <td>32237</td>\n",
       "      <td>20.727001</td>\n",
       "      <td>1.194126</td>\n",
       "    </tr>\n",
       "    <tr>\n",
       "      <th>1467</th>\n",
       "      <td>31941</td>\n",
       "      <td>20.742698</td>\n",
       "      <td>1.214295</td>\n",
       "    </tr>\n",
       "    <tr>\n",
       "      <th>950</th>\n",
       "      <td>31424</td>\n",
       "      <td>20.781847</td>\n",
       "      <td>1.214295</td>\n",
       "    </tr>\n",
       "    <tr>\n",
       "      <th>2649</th>\n",
       "      <td>33123</td>\n",
       "      <td>20.782861</td>\n",
       "      <td>1.194126</td>\n",
       "    </tr>\n",
       "    <tr>\n",
       "      <th>1569</th>\n",
       "      <td>32043</td>\n",
       "      <td>20.902349</td>\n",
       "      <td>1.194126</td>\n",
       "    </tr>\n",
       "    <tr>\n",
       "      <th>2365</th>\n",
       "      <td>32839</td>\n",
       "      <td>20.922755</td>\n",
       "      <td>1.194126</td>\n",
       "    </tr>\n",
       "    <tr>\n",
       "      <th>6559</th>\n",
       "      <td>37033</td>\n",
       "      <td>20.970929</td>\n",
       "      <td>1.173957</td>\n",
       "    </tr>\n",
       "    <tr>\n",
       "      <th>1088</th>\n",
       "      <td>31562</td>\n",
       "      <td>20.982963</td>\n",
       "      <td>1.214295</td>\n",
       "    </tr>\n",
       "    <tr>\n",
       "      <th>4990</th>\n",
       "      <td>35464</td>\n",
       "      <td>21.022479</td>\n",
       "      <td>1.173957</td>\n",
       "    </tr>\n",
       "    <tr>\n",
       "      <th>5975</th>\n",
       "      <td>36449</td>\n",
       "      <td>21.047286</td>\n",
       "      <td>1.173957</td>\n",
       "    </tr>\n",
       "    <tr>\n",
       "      <th>1671</th>\n",
       "      <td>32145</td>\n",
       "      <td>21.128344</td>\n",
       "      <td>1.194126</td>\n",
       "    </tr>\n",
       "    <tr>\n",
       "      <th>1722</th>\n",
       "      <td>32196</td>\n",
       "      <td>21.129048</td>\n",
       "      <td>1.194126</td>\n",
       "    </tr>\n",
       "    <tr>\n",
       "      <th>1527</th>\n",
       "      <td>32001</td>\n",
       "      <td>21.222425</td>\n",
       "      <td>1.194126</td>\n",
       "    </tr>\n",
       "    <tr>\n",
       "      <th>992</th>\n",
       "      <td>31466</td>\n",
       "      <td>21.322528</td>\n",
       "      <td>1.214295</td>\n",
       "    </tr>\n",
       "    <tr>\n",
       "      <th>836</th>\n",
       "      <td>31310</td>\n",
       "      <td>21.455155</td>\n",
       "      <td>1.214295</td>\n",
       "    </tr>\n",
       "    <tr>\n",
       "      <th>2467</th>\n",
       "      <td>32941</td>\n",
       "      <td>22.130290</td>\n",
       "      <td>1.194126</td>\n",
       "    </tr>\n",
       "    <tr>\n",
       "      <th>4196</th>\n",
       "      <td>34670</td>\n",
       "      <td>22.371742</td>\n",
       "      <td>1.173957</td>\n",
       "    </tr>\n",
       "    <tr>\n",
       "      <th>7212</th>\n",
       "      <td>37686</td>\n",
       "      <td>22.528478</td>\n",
       "      <td>1.162486</td>\n",
       "    </tr>\n",
       "  </tbody>\n",
       "</table>\n",
       "<p>7662 rows × 3 columns</p>\n",
       "</div>"
      ],
      "text/plain": [
       "         id  price_doc  nominal_index\n",
       "6938  37412  16.722780       1.162486\n",
       "7654  38128  16.795930       1.162486\n",
       "5143  35617  16.865221       1.173957\n",
       "6092  36566  16.874353       1.173957\n",
       "5422  35896  16.875906       1.173957\n",
       "4552  35026  16.875906       1.173957\n",
       "5166  35640  16.875906       1.173957\n",
       "4112  34586  16.877455       1.173957\n",
       "5638  36112  16.879989       1.173957\n",
       "4617  35091  16.887796       1.173957\n",
       "4697  35171  16.911206       1.173957\n",
       "5751  36225  16.957039       1.173957\n",
       "4042  34516  16.988215       1.173957\n",
       "5651  36125  17.042997       1.173957\n",
       "7085  37559  17.061701       1.162486\n",
       "4852  35326  17.062022       1.173957\n",
       "7526  38000  17.067083       1.162486\n",
       "7318  37792  17.069329       1.162486\n",
       "7468  37942  17.131200       1.162486\n",
       "2911  33385  17.131981       1.194126\n",
       "6942  37416  17.138135       1.162486\n",
       "3094  33568  17.144261       1.194126\n",
       "5867  36341  17.147322       1.173957\n",
       "2320  32794  17.154779       1.194126\n",
       "4851  35325  17.154889       1.173957\n",
       "3271  33745  17.165836       1.194126\n",
       "1947  32421  17.165838       1.194126\n",
       "4516  34990  17.167156       1.173957\n",
       "1538  32012  17.167415       1.194126\n",
       "1658  32132  17.168994       1.194126\n",
       "...     ...        ...            ...\n",
       "1780  32254  20.347228       1.194126\n",
       "174   30648  20.375927       1.214295\n",
       "1385  31859  20.378740       1.214295\n",
       "1039  31513  20.392890       1.214295\n",
       "1148  31622  20.419493       1.214295\n",
       "2659  33133  20.427074       1.194126\n",
       "216   30690  20.455450       1.214295\n",
       "910   31384  20.469155       1.214295\n",
       "1737  32211  20.531033       1.194126\n",
       "2265  32739  20.611443       1.194126\n",
       "905   31379  20.654308       1.214295\n",
       "484   30958  20.688419       1.214295\n",
       "1763  32237  20.727001       1.194126\n",
       "1467  31941  20.742698       1.214295\n",
       "950   31424  20.781847       1.214295\n",
       "2649  33123  20.782861       1.194126\n",
       "1569  32043  20.902349       1.194126\n",
       "2365  32839  20.922755       1.194126\n",
       "6559  37033  20.970929       1.173957\n",
       "1088  31562  20.982963       1.214295\n",
       "4990  35464  21.022479       1.173957\n",
       "5975  36449  21.047286       1.173957\n",
       "1671  32145  21.128344       1.194126\n",
       "1722  32196  21.129048       1.194126\n",
       "1527  32001  21.222425       1.194126\n",
       "992   31466  21.322528       1.214295\n",
       "836   31310  21.455155       1.214295\n",
       "2467  32941  22.130290       1.194126\n",
       "4196  34670  22.371742       1.173957\n",
       "7212  37686  22.528478       1.162486\n",
       "\n",
       "[7662 rows x 3 columns]"
      ]
     },
     "execution_count": 64,
     "metadata": {},
     "output_type": "execute_result"
    }
   ],
   "source": [
    "sub.sort_values('price_doc')"
   ]
  },
  {
   "cell_type": "code",
   "execution_count": 237,
   "metadata": {
    "collapsed": true
   },
   "outputs": [],
   "source": [
    "# df.loc[test_index,'nominal_index']"
   ]
  },
  {
   "cell_type": "code",
   "execution_count": 247,
   "metadata": {},
   "outputs": [
    {
     "data": {
      "text/html": [
       "<div>\n",
       "<style>\n",
       "    .dataframe thead tr:only-child th {\n",
       "        text-align: right;\n",
       "    }\n",
       "\n",
       "    .dataframe thead th {\n",
       "        text-align: left;\n",
       "    }\n",
       "\n",
       "    .dataframe tbody tr th {\n",
       "        vertical-align: top;\n",
       "    }\n",
       "</style>\n",
       "<table border=\"1\" class=\"dataframe\">\n",
       "  <thead>\n",
       "    <tr style=\"text-align: right;\">\n",
       "      <th></th>\n",
       "      <th>id</th>\n",
       "      <th>price_doc</th>\n",
       "      <th>nominal_index</th>\n",
       "    </tr>\n",
       "  </thead>\n",
       "  <tbody>\n",
       "    <tr>\n",
       "      <th>0</th>\n",
       "      <td>30474</td>\n",
       "      <td>4.176246e+06</td>\n",
       "      <td>1.214295</td>\n",
       "    </tr>\n",
       "    <tr>\n",
       "      <th>1</th>\n",
       "      <td>30475</td>\n",
       "      <td>9.594552e+06</td>\n",
       "      <td>1.214295</td>\n",
       "    </tr>\n",
       "    <tr>\n",
       "      <th>2</th>\n",
       "      <td>30476</td>\n",
       "      <td>5.235794e+06</td>\n",
       "      <td>1.214295</td>\n",
       "    </tr>\n",
       "    <tr>\n",
       "      <th>3</th>\n",
       "      <td>30477</td>\n",
       "      <td>9.846788e+06</td>\n",
       "      <td>1.214295</td>\n",
       "    </tr>\n",
       "    <tr>\n",
       "      <th>4</th>\n",
       "      <td>30478</td>\n",
       "      <td>2.628036e+06</td>\n",
       "      <td>1.214295</td>\n",
       "    </tr>\n",
       "  </tbody>\n",
       "</table>\n",
       "</div>"
      ],
      "text/plain": [
       "      id     price_doc  nominal_index\n",
       "0  30474  4.176246e+06       1.214295\n",
       "1  30475  9.594552e+06       1.214295\n",
       "2  30476  5.235794e+06       1.214295\n",
       "3  30477  9.846788e+06       1.214295\n",
       "4  30478  2.628036e+06       1.214295"
      ]
     },
     "execution_count": 247,
     "metadata": {},
     "output_type": "execute_result"
    }
   ],
   "source": [
    "sub.head()"
   ]
  },
  {
   "cell_type": "code",
   "execution_count": null,
   "metadata": {
    "collapsed": true
   },
   "outputs": [],
   "source": []
  }
 ],
 "metadata": {
  "kernelspec": {
   "display_name": "Python 2",
   "language": "python",
   "name": "python2"
  },
  "language_info": {
   "codemirror_mode": {
    "name": "ipython",
    "version": 2
   },
   "file_extension": ".py",
   "mimetype": "text/x-python",
   "name": "python",
   "nbconvert_exporter": "python",
   "pygments_lexer": "ipython2",
   "version": "2.7.13"
  }
 },
 "nbformat": 4,
 "nbformat_minor": 2
}
