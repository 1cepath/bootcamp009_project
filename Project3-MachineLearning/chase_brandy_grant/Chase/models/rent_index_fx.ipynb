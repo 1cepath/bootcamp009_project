{
 "cells": [
  {
   "cell_type": "code",
   "execution_count": 21,
   "metadata": {
    "collapsed": true
   },
   "outputs": [],
   "source": [
    "import pandas as pd\n",
    "import numpy as np\n",
    "import matplotlib.pyplot as plt\n",
    "import seaborn as sns\n",
    "from numpy.polynomial.chebyshev import *\n",
    "from fancyimpute import KNN\n",
    "%matplotlib inline\n",
    "pd.set_option('display.max_columns', 500)"
   ]
  },
  {
   "cell_type": "code",
   "execution_count": 22,
   "metadata": {
    "collapsed": true
   },
   "outputs": [],
   "source": [
    "macro = pd.read_csv('../../data/macro.csv')\n",
    "# indices = pd.read_csv('../data/district_indices.csv')\n",
    "# moscow = pd.read_csv('../data/moscow_index.csv',header=None,parse_dates=[0])\n",
    "# locales = pd.read_csv('../data/okurg_chase.csv')\n",
    "# train = pd.read_csv('../data/clean_train_all_cols_chase.csv',parse_dates=['timestamp'],index_col='id')\n",
    "# test = pd.read_csv('../data/clean_test_all_cols_chase.csv',parse_dates=['timestamp'],index_col='id')"
   ]
  },
  {
   "cell_type": "code",
   "execution_count": 23,
   "metadata": {
    "collapsed": true
   },
   "outputs": [],
   "source": [
    "import re\n",
    "from itertools import compress\n",
    "\n",
    "\n",
    "macro_columns = macro.columns.tolist()\n",
    "\n",
    "# return macro_columns that are true in the search\n",
    "rents_cols = list(compress(macro_columns,\n",
    "                      [re.search(\"rent_\",x) != None for x in macro_columns]))\n",
    "rents_cols.append('usdrub')\n",
    "rents_cols.append('eurrub')\n",
    "rents_cols.append('timestamp')\n",
    "rents = macro[rents_cols].copy()\n",
    "\n",
    "rents['month_year'] = pd.PeriodIndex(rents.timestamp, freq='M').strftime('%m/%y')"
   ]
  },
  {
   "cell_type": "code",
   "execution_count": 24,
   "metadata": {
    "collapsed": true
   },
   "outputs": [],
   "source": [
    "rents = rents.groupby('month_year').mean()"
   ]
  },
  {
   "cell_type": "code",
   "execution_count": 25,
   "metadata": {
    "collapsed": true
   },
   "outputs": [],
   "source": [
    "rents.reset_index(inplace=True)"
   ]
  },
  {
   "cell_type": "code",
   "execution_count": 26,
   "metadata": {
    "collapsed": true
   },
   "outputs": [],
   "source": [
    "rents['date'] = pd.to_datetime(rents.month_year,format=\"%m/%y\")"
   ]
  },
  {
   "cell_type": "code",
   "execution_count": 19,
   "metadata": {
    "collapsed": true
   },
   "outputs": [],
   "source": [
    "rents.sort_values('date',inplace=True)"
   ]
  },
  {
   "cell_type": "code",
   "execution_count": 20,
   "metadata": {
    "collapsed": true
   },
   "outputs": [],
   "source": [
    "rents.to_csv('../data/rents_with_fx.csv')"
   ]
  },
  {
   "cell_type": "code",
   "execution_count": null,
   "metadata": {
    "collapsed": true
   },
   "outputs": [],
   "source": []
  }
 ],
 "metadata": {
  "kernelspec": {
   "display_name": "Python 2",
   "language": "python",
   "name": "python2"
  },
  "language_info": {
   "codemirror_mode": {
    "name": "ipython",
    "version": 2
   },
   "file_extension": ".py",
   "mimetype": "text/x-python",
   "name": "python",
   "nbconvert_exporter": "python",
   "pygments_lexer": "ipython2",
   "version": "2.7.13"
  }
 },
 "nbformat": 4,
 "nbformat_minor": 2
}
