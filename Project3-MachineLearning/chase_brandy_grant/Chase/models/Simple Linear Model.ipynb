{
 "cells": [
  {
   "cell_type": "code",
   "execution_count": 35,
   "metadata": {
    "collapsed": true
   },
   "outputs": [],
   "source": [
    "import pandas as pd\n",
    "from sklearn import preprocessing\n",
    "import numpy as np\n",
    "import statsmodels.formula.api as sm\n",
    "import matplotlib.pyplot as plt\n",
    "%matplotlib inline\n",
    "pd.set_option('display.max_columns', 500)\n",
    "pd.set_option('display.float_format', lambda x: '%.1f' % x)\n"
   ]
  },
  {
   "cell_type": "markdown",
   "metadata": {},
   "source": [
    "### Playing around with using different columns that are complete"
   ]
  },
  {
   "cell_type": "code",
   "execution_count": 246,
   "metadata": {
    "collapsed": true
   },
   "outputs": [],
   "source": [
    "train = pd.read_csv('../data/clean_train_all_cols_chase.csv', parse_dates=['timestamp'], index_col=\"id\")  \n",
    "test = pd.read_csv('../data/clean_test_all_cols_chase.csv', parse_dates=['timestamp'], index_col=\"id\")"
   ]
  },
  {
   "cell_type": "code",
   "execution_count": 247,
   "metadata": {
    "collapsed": true
   },
   "outputs": [],
   "source": [
    "bad = train[train.state.isnull() & (train.product_type=='OwnerOccupier')].copy()\n",
    "bad.loc[:,'state'] = 1\n",
    "bad.loc[bad.build_year>1972,'state'] = 2\n",
    "bad.loc[bad.build_year>1983,'state'] = 3\n",
    "bad.loc[bad.build_year>1994,'state'] = 4\n",
    "train.loc[bad.index,'state'] = bad.state"
   ]
  },
  {
   "cell_type": "code",
   "execution_count": 248,
   "metadata": {},
   "outputs": [
    {
     "data": {
      "text/plain": [
       "6456"
      ]
     },
     "execution_count": 248,
     "metadata": {},
     "output_type": "execute_result"
    }
   ],
   "source": [
    "sum(train.state.isnull())"
   ]
  },
  {
   "cell_type": "code",
   "execution_count": 249,
   "metadata": {
    "collapsed": true
   },
   "outputs": [],
   "source": [
    "# get the cols that in both\n",
    "tr_cols = train.columns.tolist()\n",
    "te_cols = test.columns.tolist()\n",
    "cols = list(set(tr_cols).intersection(te_cols))\n",
    "cols.append('price_doc')"
   ]
  },
  {
   "cell_type": "code",
   "execution_count": 250,
   "metadata": {},
   "outputs": [],
   "source": [
    "train_index = train.index.tolist()\n",
    "test_index = test.index.tolist()\n",
    "\n",
    "# cols = ['life_sq','full_sq','floor','max_floor','kitch_sq','product_type',\n",
    "#         'sub_area','kremlin_km','price_doc','timestamp']\n",
    "\n",
    "test['price_doc'] = np.nan\n",
    "\n",
    "df = pd.concat([train[cols].copy(),\n",
    "                test[cols].copy()],\n",
    "               ignore_index=False)\n",
    "\n",
    "\n",
    "\n",
    "# locales = pd.read_csv('../data/okurg_chase.csv')\n",
    "indices = pd.read_csv('../data/district_indices.csv')\n",
    "macro = pd.read_csv('../data/macro_chase.csv', parse_dates=[0])\n",
    "\n",
    "\n",
    "macro['quarter'] = pd.PeriodIndex(macro['Unnamed: 0'], freq='Q').strftime('Q%q-%y')\n",
    "df['month'] = df.timestamp.dt.month.astype(object)\n",
    "df['quarter'] = pd.PeriodIndex(df['timestamp'], freq='Q').strftime('Q%q-%y')\n",
    "\n",
    "# df = pd.merge(df,locales[['sub_area','okurg_district']],\n",
    "#               how=\"left\", on=\"sub_area\").reset_index(drop=True).set_index(df.index)\n",
    "\n",
    "df = pd.merge(df,macro[['quarter','nominal_index']],\n",
    "              how=\"left\", on=\"quarter\").reset_index(drop=True).set_index(df.index)\n",
    "\n",
    "\n",
    "\n",
    "# indices['month_year'] = pd.PeriodIndex(indices['date'], freq='M').strftime('%m/%y')\n",
    "# df['month_year'] = pd.PeriodIndex(df['timestamp'], freq='M').strftime('%m/%y')\n",
    "# indices.columns = ['id', 'okurg_district', 'month_year', 'price', 'date', 'nominal_index']"
   ]
  },
  {
   "cell_type": "code",
   "execution_count": null,
   "metadata": {
    "collapsed": true
   },
   "outputs": [],
   "source": []
  },
  {
   "cell_type": "code",
   "execution_count": 251,
   "metadata": {
    "collapsed": true
   },
   "outputs": [],
   "source": [
    "df.sub_area = df.sub_area.apply(lambda x: x.replace(\" \", \"_\"))\n",
    "df.sub_area = df.sub_area.apply(lambda x: x.replace(\"'\", \"\"))\n",
    "df.sub_area = df.sub_area.apply(lambda x: x.replace(\"-\", \"\"))"
   ]
  },
  {
   "cell_type": "code",
   "execution_count": 252,
   "metadata": {
    "collapsed": true
   },
   "outputs": [],
   "source": [
    "df['kitch_to_life'] = df.kitch_sq / df.life_sq\n",
    "df['life_to_full'] = df.life_sq / df.full_sq\n",
    "# df['bld_type'] = 'med_rise'\n",
    "# df.loc[df.max_floor <= 5,'bld_type'] = 'low_rise'\n",
    "# df.loc[df.max_floor >= 17,'bld_type'] = 'high_rise'\n",
    "df['floor_ratio'] = df.floor / df.max_floor\n",
    "df['walk_up_penalty'] = 0\n",
    "df.loc[(df.floor>4) & (df.max_floor < 6),'walk_up_penalty'] = 1 "
   ]
  },
  {
   "cell_type": "code",
   "execution_count": 253,
   "metadata": {
    "collapsed": true
   },
   "outputs": [],
   "source": [
    "df['price_doc'] = df.price_doc / df.nominal_index\n",
    "df['price_full'] = df.price_doc / df.full_sq\n",
    "df['log_price'] = np.log(df.price_doc+1)\n",
    "# df['price_doc'] = df.price_doc / 1000\n"
   ]
  },
  {
   "cell_type": "code",
   "execution_count": null,
   "metadata": {
    "collapsed": true
   },
   "outputs": [],
   "source": []
  },
  {
   "cell_type": "markdown",
   "metadata": {},
   "source": [
    "### Multiple Linear Regression"
   ]
  },
  {
   "cell_type": "code",
   "execution_count": 254,
   "metadata": {
    "collapsed": true
   },
   "outputs": [],
   "source": [
    "# print df.shape\n",
    "# recent_df = df[(df.timestamp>'2013-01-01')].copy()\n",
    "# print recent_df.shape\n",
    "# train_index = recent_df[~recent_df.price_doc.isnull()].index.tolist()"
   ]
  },
  {
   "cell_type": "code",
   "execution_count": 306,
   "metadata": {},
   "outputs": [
    {
     "name": "stdout",
     "output_type": "stream",
     "text": [
      "R^2: 0.58\n"
     ]
    }
   ],
   "source": [
    "target = \"log_price\"\n",
    "from sklearn import linear_model\n",
    "from sklearn.model_selection import KFold, cross_val_score\n",
    "from sklearn.pipeline import make_pipeline\n",
    "from sklearn.preprocessing import MinMaxScaler\n",
    "from sklearn.model_selection import GridSearchCV\n",
    "\n",
    "\n",
    "ols = linear_model.LinearRegression()\n",
    "pipe  =  make_pipeline(MinMaxScaler(), ols)\n",
    "\n",
    "cols = ['full_sq','floor','sub_area','kremlin_km','month','product_type','life_to_full','kitch_to_life','max_floor']\n",
    "\n",
    "lm_data = df[cols]\n",
    "df_obj = lm_data.select_dtypes(include=['object'])\n",
    "df_num = lm_data.select_dtypes(exclude=['object'])\n",
    "\n",
    "\n",
    "dummies = pd.get_dummies(df_obj)\n",
    "df_all = pd.concat([df_num,dummies],axis=1)\n",
    "\n",
    "x_train = df_all.loc[train_index,:]\n",
    "x_test = df_all.loc[test_index,:]\n",
    "y_train = df.loc[train_index,target]\n",
    "\n",
    "ols.fit(x_train,y_train)\n",
    "cross_val_score(ols, x_train, y_train, cv=5)\n",
    "print('R^2: %.2f' % ols.score(x_train, y_train))\n",
    "sub = np.exp(ols.predict(x_test)) - 1"
   ]
  },
  {
   "cell_type": "code",
   "execution_count": null,
   "metadata": {
    "collapsed": true
   },
   "outputs": [],
   "source": []
  },
  {
   "cell_type": "code",
   "execution_count": 264,
   "metadata": {},
   "outputs": [],
   "source": [
    "pd.DataFrame({'price_doc':sub},index=test_index).to_csv('../submissions/simple_linear_sq_subarea_0530_1130pm.csv')"
   ]
  },
  {
   "cell_type": "code",
   "execution_count": 268,
   "metadata": {},
   "outputs": [
    {
     "name": "stderr",
     "output_type": "stream",
     "text": [
      "/Library/Frameworks/Python.framework/Versions/2.7/lib/python2.7/site-packages/sklearn/utils/deprecation.py:70: DeprecationWarning: Function residues_ is deprecated; ``residues_`` is deprecated and will be removed in 0.19\n",
      "  warnings.warn(msg, category=DeprecationWarning)\n"
     ]
    },
    {
     "data": {
      "text/plain": [
       "array([], dtype=float64)"
      ]
     },
     "execution_count": 268,
     "metadata": {},
     "output_type": "execute_result"
    }
   ],
   "source": [
    "ols.fit(x_train,y_train)\n"
   ]
  },
  {
   "cell_type": "code",
   "execution_count": 323,
   "metadata": {
    "scrolled": false
   },
   "outputs": [
    {
     "name": "stdout",
     "output_type": "stream",
     "text": [
      "                            OLS Regression Results                            \n",
      "==============================================================================\n",
      "Dep. Variable:              log_price   R-squared:                       0.577\n",
      "Model:                            OLS   Adj. R-squared:                  0.575\n",
      "Method:                 Least Squares   F-statistic:                     265.3\n",
      "Date:                Tue, 30 May 2017   Prob (F-statistic):               0.00\n",
      "Time:                        23:59:56   Log-Likelihood:                -9220.6\n",
      "No. Observations:               29096   AIC:                         1.874e+04\n",
      "Df Residuals:                   28946   BIC:                         1.998e+04\n",
      "Df Model:                         149                                         \n",
      "Covariance Type:            nonrobust                                         \n",
      "==========================================================================================================\n",
      "                                             coef    std err          t      P>|t|      [0.025      0.975]\n",
      "----------------------------------------------------------------------------------------------------------\n",
      "Intercept                                  9.9379      0.021    462.806      0.000       9.896       9.980\n",
      "full_sq                                    0.0142      0.000    133.472      0.000       0.014       0.014\n",
      "floor                                      0.0013      0.000      2.687      0.007       0.000       0.002\n",
      "max_floor                                  0.0050      0.000     10.345      0.000       0.004       0.006\n",
      "life_to_full                              -0.1116      0.024     -4.733      0.000      -0.158      -0.065\n",
      "kitch_to_life                             -0.1586      0.028     -5.650      0.000      -0.214      -0.104\n",
      "product_type_Investment                    4.9614      0.009    553.891      0.000       4.944       4.979\n",
      "product_type_OwnerOccupier                 4.9764      0.014    349.646      0.000       4.949       5.004\n",
      "sub_area_Ajeroport                         0.1570      0.037      4.250      0.000       0.085       0.229\n",
      "sub_area_Akademicheskoe                    0.2076      0.032      6.471      0.000       0.145       0.270\n",
      "sub_area_Alekseevskoe                      0.1882      0.040      4.666      0.000       0.109       0.267\n",
      "sub_area_Altufevskoe                      -0.1575      0.048     -3.266      0.001      -0.252      -0.063\n",
      "sub_area_Arbat                             0.5326      0.089      6.015      0.000       0.359       0.706\n",
      "sub_area_Babushkinskoe                     0.0147      0.038      0.392      0.695      -0.059       0.088\n",
      "sub_area_Basmannoe                         0.2457      0.040      6.137      0.000       0.167       0.324\n",
      "sub_area_Begovoe                           0.2588      0.048      5.364      0.000       0.164       0.353\n",
      "sub_area_Beskudnikovskoe                  -0.1040      0.034     -3.028      0.002      -0.171      -0.037\n",
      "sub_area_Bibirevo                         -0.0601      0.031     -1.947      0.052      -0.121       0.000\n",
      "sub_area_Birjulevo_Vostochnoe             -0.2001      0.030     -6.699      0.000      -0.259      -0.142\n",
      "sub_area_Birjulevo_Zapadnoe               -0.1748      0.039     -4.528      0.000      -0.250      -0.099\n",
      "sub_area_Bogorodskoe                      -0.0763      0.029     -2.649      0.008      -0.133      -0.020\n",
      "sub_area_Brateevo                         -0.0683      0.033     -2.060      0.039      -0.133      -0.003\n",
      "sub_area_Butyrskoe                         0.0412      0.040      1.021      0.307      -0.038       0.120\n",
      "sub_area_Caricyno                         -0.0547      0.031     -1.751      0.080      -0.116       0.007\n",
      "sub_area_Cheremushki                       0.1705      0.034      4.975      0.000       0.103       0.238\n",
      "sub_area_Chertanovo_Centralnoe             0.0064      0.032      0.197      0.844      -0.057       0.070\n",
      "sub_area_Chertanovo_Juzhnoe               -0.0040      0.030     -0.133      0.894      -0.062       0.054\n",
      "sub_area_Chertanovo_Severnoe               0.0010      0.032      0.032      0.975      -0.061       0.063\n",
      "sub_area_Danilovskoe                       0.1330      0.032      4.157      0.000       0.070       0.196\n",
      "sub_area_Dmitrovskoe                      -0.0986      0.033     -2.946      0.003      -0.164      -0.033\n",
      "sub_area_Donskoe                           0.2397      0.036      6.578      0.000       0.168       0.311\n",
      "sub_area_Dorogomilovo                      0.4832      0.051      9.513      0.000       0.384       0.583\n",
      "sub_area_Filevskij_Park                    0.1452      0.035      4.094      0.000       0.076       0.215\n",
      "sub_area_Fili_Davydkovo                    0.0332      0.036      0.920      0.358      -0.038       0.104\n",
      "sub_area_Gagarinskoe                       0.3021      0.043      6.954      0.000       0.217       0.387\n",
      "sub_area_Goljanovo                        -0.0991      0.029     -3.381      0.001      -0.157      -0.042\n",
      "sub_area_Golovinskoe                      -0.0884      0.031     -2.839      0.005      -0.149      -0.027\n",
      "sub_area_Hamovniki                         0.6154      0.041     14.936      0.000       0.535       0.696\n",
      "sub_area_HoroshevoMnevniki                 0.0649      0.030      2.147      0.032       0.006       0.124\n",
      "sub_area_Horoshevskoe                      0.2194      0.036      6.082      0.000       0.149       0.290\n",
      "sub_area_Hovrino                          -0.0107      0.033     -0.322      0.747      -0.076       0.054\n",
      "sub_area_Ivanovskoe                       -0.1140      0.032     -3.510      0.000      -0.178      -0.050\n",
      "sub_area_Izmajlovo                         0.0033      0.029      0.114      0.910      -0.053       0.060\n",
      "sub_area_Jakimanka                         0.1048      0.044      2.359      0.018       0.018       0.192\n",
      "sub_area_Jaroslavskoe                     -0.1324      0.037     -3.549      0.000      -0.206      -0.059\n",
      "sub_area_Jasenevo                          0.0415      0.031      1.353      0.176      -0.019       0.102\n",
      "sub_area_Juzhnoe_Butovo                   -0.1084      0.027     -4.061      0.000      -0.161      -0.056\n",
      "sub_area_Juzhnoe_Medvedkovo               -0.1169      0.036     -3.238      0.001      -0.188      -0.046\n",
      "sub_area_Juzhnoe_Tushino                  -0.0300      0.034     -0.895      0.371      -0.096       0.036\n",
      "sub_area_Juzhnoportovoe                    0.1019      0.037      2.783      0.005       0.030       0.174\n",
      "sub_area_Kapotnja                         -0.1838      0.053     -3.436      0.001      -0.289      -0.079\n",
      "sub_area_Konkovo                           0.1000      0.031      3.222      0.001       0.039       0.161\n",
      "sub_area_Koptevo                          -0.0246      0.032     -0.775      0.438      -0.087       0.038\n",
      "sub_area_KosinoUhtomskoe                  -0.1373      0.031     -4.444      0.000      -0.198      -0.077\n",
      "sub_area_Kotlovka                          0.0898      0.035      2.541      0.011       0.021       0.159\n",
      "sub_area_Krasnoselskoe                     0.2817      0.059      4.739      0.000       0.165       0.398\n",
      "sub_area_Krjukovo                         -0.2334      0.026     -8.920      0.000      -0.285      -0.182\n",
      "sub_area_Krylatskoe                        0.2651      0.039      6.744      0.000       0.188       0.342\n",
      "sub_area_Kuncevo                           0.0436      0.033      1.320      0.187      -0.021       0.108\n",
      "sub_area_Kurkino                          -0.0851      0.048     -1.756      0.079      -0.180       0.010\n",
      "sub_area_Kuzminki                         -0.0715      0.031     -2.296      0.022      -0.132      -0.010\n",
      "sub_area_Lefortovo                         0.0117      0.038      0.312      0.755      -0.062       0.085\n",
      "sub_area_Levoberezhnoe                     0.0108      0.037      0.295      0.768      -0.061       0.083\n",
      "sub_area_Lianozovo                        -0.0494      0.037     -1.321      0.187      -0.123       0.024\n",
      "sub_area_Ljublino                         -0.0707      0.029     -2.440      0.015      -0.128      -0.014\n",
      "sub_area_Lomonosovskoe                     0.3158      0.035      8.968      0.000       0.247       0.385\n",
      "sub_area_Losinoostrovskoe                  0.0087      0.033      0.263      0.792      -0.056       0.074\n",
      "sub_area_Marfino                          -0.0590      0.043     -1.372      0.170      -0.143       0.025\n",
      "sub_area_Marina_Roshha                     0.0611      0.038      1.616      0.106      -0.013       0.135\n",
      "sub_area_Marino                           -0.0229      0.026     -0.882      0.378      -0.074       0.028\n",
      "sub_area_Matushkino                       -0.2640      0.040     -6.626      0.000      -0.342      -0.186\n",
      "sub_area_Meshhanskoe                       0.2691      0.041      6.543      0.000       0.188       0.350\n",
      "sub_area_Metrogorodok                     -0.1013      0.049     -2.056      0.040      -0.198      -0.005\n",
      "sub_area_Mitino                            0.0184      0.025      0.732      0.464      -0.031       0.068\n",
      "sub_area_Molzhaninovskoe                  -0.5390      0.334     -1.615      0.106      -1.193       0.115\n",
      "sub_area_MoskvorecheSaburovo               0.0138      0.040      0.343      0.732      -0.065       0.092\n",
      "sub_area_Mozhajskoe                       -0.0654      0.032     -2.023      0.043      -0.129      -0.002\n",
      "sub_area_NagatinoSadovniki                 0.0120      0.034      0.351      0.726      -0.055       0.079\n",
      "sub_area_Nagatinskij_Zaton                 0.1185      0.028      4.167      0.000       0.063       0.174\n",
      "sub_area_Nagornoe                          0.1718      0.029      5.933      0.000       0.115       0.228\n",
      "sub_area_Nekrasovka                       -0.3424      0.024    -14.436      0.000      -0.389      -0.296\n",
      "sub_area_Nizhegorodskoe                   -0.1014      0.044     -2.286      0.022      -0.188      -0.014\n",
      "sub_area_NovoPeredelkino                  -0.1473      0.035     -4.187      0.000      -0.216      -0.078\n",
      "sub_area_Novogireevo                      -0.0248      0.032     -0.774      0.439      -0.088       0.038\n",
      "sub_area_Novokosino                       -0.0473      0.036     -1.322      0.186      -0.117       0.023\n",
      "sub_area_Obruchevskoe                     -0.0346      0.033     -1.042      0.298      -0.100       0.031\n",
      "sub_area_OchakovoMatveevskoe              -0.0258      0.030     -0.859      0.390      -0.085       0.033\n",
      "sub_area_OrehovoBorisovo_Juzhnoe          -0.0380      0.032     -1.204      0.229      -0.100       0.024\n",
      "sub_area_OrehovoBorisovo_Severnoe         -0.1157      0.032     -3.655      0.000      -0.178      -0.054\n",
      "sub_area_Ostankinskoe                      0.1680      0.044      3.850      0.000       0.083       0.254\n",
      "sub_area_Otradnoe                          0.0017      0.028      0.062      0.951      -0.053       0.056\n",
      "sub_area_Pechatniki                       -0.1068      0.033     -3.279      0.001      -0.171      -0.043\n",
      "sub_area_Perovo                           -0.0795      0.030     -2.613      0.009      -0.139      -0.020\n",
      "sub_area_Pokrovskoe_Streshnevo             0.0654      0.034      1.938      0.053      -0.001       0.132\n",
      "sub_area_Poselenie_Desjonovskoe           -0.4476      0.028    -15.767      0.000      -0.503      -0.392\n",
      "sub_area_Poselenie_Filimonkovskoe         -0.6921      0.027    -25.640      0.000      -0.745      -0.639\n",
      "sub_area_Poselenie_Kievskij               -0.2101      0.237     -0.888      0.374      -0.674       0.253\n",
      "sub_area_Poselenie_Kokoshkino             -0.6345      0.086     -7.344      0.000      -0.804      -0.465\n",
      "sub_area_Poselenie_Krasnopahorskoe        -0.7443      0.078     -9.536      0.000      -0.897      -0.591\n",
      "sub_area_Poselenie_Marushkinskoe          -0.6861      0.150     -4.560      0.000      -0.981      -0.391\n",
      "sub_area_Poselenie_MihajlovoJarcevskoe    -0.6304      0.334     -1.889      0.059      -1.285       0.024\n",
      "sub_area_Poselenie_Moskovskij             -0.4083      0.025    -16.528      0.000      -0.457      -0.360\n",
      "sub_area_Poselenie_Mosrentgen             -0.4858      0.079     -6.125      0.000      -0.641      -0.330\n",
      "sub_area_Poselenie_Novofedorovskoe        -0.9031      0.036    -25.421      0.000      -0.973      -0.833\n",
      "sub_area_Poselenie_Pervomajskoe           -0.8194      0.037    -22.147      0.000      -0.892      -0.747\n",
      "sub_area_Poselenie_Rjazanovskoe           -0.5352      0.063     -8.432      0.000      -0.660      -0.411\n",
      "sub_area_Poselenie_Rogovskoe              -1.2880      0.065    -19.962      0.000      -1.414      -1.162\n",
      "sub_area_Poselenie_Shhapovskoe          2.385e-16    3.7e-17      6.451      0.000    1.66e-16    3.11e-16\n",
      "sub_area_Poselenie_Shherbinka             -0.5515      0.027    -20.244      0.000      -0.605      -0.498\n",
      "sub_area_Poselenie_Sosenskoe              -0.4248      0.024    -18.046      0.000      -0.471      -0.379\n",
      "sub_area_Poselenie_Vnukovskoe             -0.2666      0.024    -11.112      0.000      -0.314      -0.220\n",
      "sub_area_Poselenie_Voronovskoe            -0.6176      0.138     -4.485      0.000      -0.888      -0.348\n",
      "sub_area_Poselenie_Voskresenskoe          -0.4042      0.027    -14.932      0.000      -0.457      -0.351\n",
      "sub_area_Preobrazhenskoe                   0.0196      0.035      0.562      0.574      -0.049       0.088\n",
      "sub_area_Presnenskoe                       0.2360      0.033      7.159      0.000       0.171       0.301\n",
      "sub_area_Prospekt_Vernadskogo              0.1977      0.040      4.902      0.000       0.119       0.277\n",
      "sub_area_Ramenki                           0.1888      0.030      6.196      0.000       0.129       0.248\n",
      "sub_area_Rjazanskij                       -0.0609      0.033     -1.846      0.065      -0.126       0.004\n",
      "sub_area_Rostokino                         0.0398      0.049      0.819      0.413      -0.055       0.135\n",
      "sub_area_Savelki                          -0.2427      0.041     -5.903      0.000      -0.323      -0.162\n",
      "sub_area_Savelovskoe                       0.1525      0.043      3.527      0.000       0.068       0.237\n",
      "sub_area_Severnoe                         -0.3210      0.060     -5.337      0.000      -0.439      -0.203\n",
      "sub_area_Severnoe_Butovo                   0.0478      0.033      1.439      0.150      -0.017       0.113\n",
      "sub_area_Severnoe_Izmajlovo               -0.0996      0.034     -2.944      0.003      -0.166      -0.033\n",
      "sub_area_Severnoe_Medvedkovo               0.0053      0.034      0.157      0.875      -0.061       0.072\n",
      "sub_area_Severnoe_Tushino                  0.0732      0.029      2.509      0.012       0.016       0.130\n",
      "sub_area_Shhukino                          0.1254      0.035      3.621      0.000       0.058       0.193\n",
      "sub_area_Silino                           -0.3000      0.040     -7.410      0.000      -0.379      -0.221\n",
      "sub_area_Sokol                             0.1466      0.046      3.160      0.002       0.056       0.238\n",
      "sub_area_Sokolinaja_Gora                  -0.0032      0.033     -0.096      0.923      -0.067       0.061\n",
      "sub_area_Sokolniki                         0.2882      0.048      6.016      0.000       0.194       0.382\n",
      "sub_area_Solncevo                         -0.2928      0.027    -10.818      0.000      -0.346      -0.240\n",
      "sub_area_Staroe_Krjukovo                  -0.2690      0.043     -6.197      0.000      -0.354      -0.184\n",
      "sub_area_Strogino                          0.1519      0.029      5.229      0.000       0.095       0.209\n",
      "sub_area_Sviblovo                          0.0718      0.036      1.970      0.049       0.000       0.143\n",
      "sub_area_Taganskoe                         0.2225      0.034      6.509      0.000       0.156       0.290\n",
      "sub_area_Tekstilshhiki                    -0.0737      0.029     -2.558      0.011      -0.130      -0.017\n",
      "sub_area_Teplyj_Stan                       0.0413      0.034      1.210      0.226      -0.026       0.108\n",
      "sub_area_Timirjazevskoe                    0.0248      0.035      0.713      0.476      -0.043       0.093\n",
      "sub_area_Troickij_okrug                   -0.4980      0.036    -13.660      0.000      -0.569      -0.427\n",
      "sub_area_TroparevoNikulino                 0.1655      0.037      4.441      0.000       0.092       0.239\n",
      "sub_area_Tverskoe                         -0.2789      0.025    -10.943      0.000      -0.329      -0.229\n",
      "sub_area_Veshnjaki                        -0.1188      0.032     -3.763      0.000      -0.181      -0.057\n",
      "sub_area_Vnukovo                          -0.2713      0.056     -4.834      0.000      -0.381      -0.161\n",
      "sub_area_Vojkovskoe                        0.0436      0.037      1.188      0.235      -0.028       0.115\n",
      "sub_area_Vostochnoe                       -0.2270      0.128     -1.778      0.075      -0.477       0.023\n",
      "sub_area_Vostochnoe_Degunino              -0.0358      0.038     -0.938      0.348      -0.110       0.039\n",
      "sub_area_Vostochnoe_Izmajlovo             -0.1670      0.035     -4.814      0.000      -0.235      -0.099\n",
      "sub_area_VyhinoZhulebino                  -0.0727      0.030     -2.437      0.015      -0.131      -0.014\n",
      "sub_area_Zamoskvoreche                     0.4907      0.053      9.341      0.000       0.388       0.594\n",
      "sub_area_Zapadnoe_Degunino                -0.3430      0.027    -12.517      0.000      -0.397      -0.289\n",
      "sub_area_Zjablikovo                       -0.0022      0.037     -0.058      0.954      -0.075       0.071\n",
      "==============================================================================\n",
      "Omnibus:                    14580.626   Durbin-Watson:                   1.971\n",
      "Prob(Omnibus):                  0.000   Jarque-Bera (JB):            99759.425\n",
      "Skew:                          -2.348   Prob(JB):                         0.00\n",
      "Kurtosis:                      10.761   Cond. No.                     1.51e+18\n",
      "==============================================================================\n",
      "\n",
      "Warnings:\n",
      "[1] Standard Errors assume that the covariance matrix of the errors is correctly specified.\n",
      "[2] The smallest eigenvalue is 4.56e-29. This might indicate that there are\n",
      "strong multicollinearity problems or that the design matrix is singular.\n"
     ]
    }
   ],
   "source": [
    "import statsmodels.formula.api as sm\n",
    "from statsmodels.regression import linear_model\n",
    "target = 'log_price'\n",
    "cols = [target, 'full_sq','floor','max_floor','life_to_full','kitch_to_life','product_type','sub_area']\n",
    "\n",
    "lm_data = df[cols]\n",
    "\n",
    "df_obj = lm_data.select_dtypes(include=['object'])\n",
    "df_num = lm_data.select_dtypes(exclude=['object'])\n",
    "\n",
    "if len(df_obj) > 0:\n",
    "    dummies = pd.get_dummies(df_obj)\n",
    "    df_all = pd.concat([df_num,dummies],axis=1)\n",
    "else:\n",
    "    df_all = df_num\n",
    "\n",
    "all_columns = \"+\".join(df_all.columns[1:-1])\n",
    "model = sm.ols(formula =target + ' ~ ' + all_columns, data = df_all)\n",
    "fitted = model.fit()\n",
    "print fitted.summary()\n"
   ]
  },
  {
   "cell_type": "code",
   "execution_count": null,
   "metadata": {
    "collapsed": true
   },
   "outputs": [],
   "source": []
  },
  {
   "cell_type": "code",
   "execution_count": 324,
   "metadata": {},
   "outputs": [
    {
     "data": {
      "text/plain": [
       "<matplotlib.axes._subplots.AxesSubplot at 0x11ac4eed0>"
      ]
     },
     "execution_count": 324,
     "metadata": {},
     "output_type": "execute_result"
    },
    {
     "data": {
      "image/png": "[encoded data removed]",
      "text/plain": [
       "<matplotlib.figure.Figure at 0x110abdad0>"
      ]
     },
     "metadata": {},
     "output_type": "display_data"
    }
   ],
   "source": [
    "fig, axs = plt.subplots(figsize=(6,4))\n",
    "axs.set_title('Residuals')\n",
    "fitted.resid.hist(bins=20)"
   ]
  },
  {
   "cell_type": "code",
   "execution_count": 301,
   "metadata": {},
   "outputs": [
    {
     "data": {
      "text/plain": [
       "<matplotlib.collections.PathCollection at 0x11506bd90>"
      ]
     },
     "execution_count": 301,
     "metadata": {},
     "output_type": "execute_result"
    },
    {
     "data": {
      "image/png": "[encoded data removed]",
      "text/plain": [
       "<matplotlib.figure.Figure at 0x1111beb90>"
      ]
     },
     "metadata": {},
     "output_type": "display_data"
    }
   ],
   "source": [
    "fig, axs = plt.subplots(figsize=(6,6))\n",
    "axs.set_xlabel('predicted')\n",
    "axs.set_ylabel('residuals')\n",
    "plt.scatter(x=np.exp(fitted.predict(x_train)),y=fitted.resid)"
   ]
  },
  {
   "cell_type": "code",
   "execution_count": 274,
   "metadata": {},
   "outputs": [
    {
     "ename": "AttributeError",
     "evalue": "'OLSResults' object has no attribute 'norm_resid'",
     "output_type": "error",
     "traceback": [
      "\u001b[0;31m---------------------------------------------------------------------------\u001b[0m",
      "\u001b[0;31mAttributeError\u001b[0m                            Traceback (most recent call last)",
      "\u001b[0;32m<ipython-input-274-219772e63bcc>\u001b[0m in \u001b[0;36m<module>\u001b[0;34m()\u001b[0m\n\u001b[0;32m----> 1\u001b[0;31m \u001b[0mplt\u001b[0m\u001b[0;34m.\u001b[0m\u001b[0mhist\u001b[0m\u001b[0;34m(\u001b[0m\u001b[0mfitted\u001b[0m\u001b[0;34m.\u001b[0m\u001b[0mnorm_resid\u001b[0m\u001b[0;34m(\u001b[0m\u001b[0;34m)\u001b[0m\u001b[0;34m)\u001b[0m\u001b[0;34m\u001b[0m\u001b[0m\n\u001b[0m",
      "\u001b[0;32m/Library/Frameworks/Python.framework/Versions/2.7/lib/python2.7/site-packages/statsmodels/base/wrapper.pyc\u001b[0m in \u001b[0;36m__getattribute__\u001b[0;34m(self, attr)\u001b[0m\n\u001b[1;32m     33\u001b[0m             \u001b[0;32mpass\u001b[0m\u001b[0;34m\u001b[0m\u001b[0m\n\u001b[1;32m     34\u001b[0m \u001b[0;34m\u001b[0m\u001b[0m\n\u001b[0;32m---> 35\u001b[0;31m         \u001b[0mobj\u001b[0m \u001b[0;34m=\u001b[0m \u001b[0mgetattr\u001b[0m\u001b[0;34m(\u001b[0m\u001b[0mresults\u001b[0m\u001b[0;34m,\u001b[0m \u001b[0mattr\u001b[0m\u001b[0;34m)\u001b[0m\u001b[0;34m\u001b[0m\u001b[0m\n\u001b[0m\u001b[1;32m     36\u001b[0m         \u001b[0mdata\u001b[0m \u001b[0;34m=\u001b[0m \u001b[0mresults\u001b[0m\u001b[0;34m.\u001b[0m\u001b[0mmodel\u001b[0m\u001b[0;34m.\u001b[0m\u001b[0mdata\u001b[0m\u001b[0;34m\u001b[0m\u001b[0m\n\u001b[1;32m     37\u001b[0m         \u001b[0mhow\u001b[0m \u001b[0;34m=\u001b[0m \u001b[0mself\u001b[0m\u001b[0;34m.\u001b[0m\u001b[0m_wrap_attrs\u001b[0m\u001b[0;34m.\u001b[0m\u001b[0mget\u001b[0m\u001b[0;34m(\u001b[0m\u001b[0mattr\u001b[0m\u001b[0;34m)\u001b[0m\u001b[0;34m\u001b[0m\u001b[0m\n",
      "\u001b[0;31mAttributeError\u001b[0m: 'OLSResults' object has no attribute 'norm_resid'"
     ]
    }
   ],
   "source": [
    "plt.hist(fitted.norm_resid())"
   ]
  },
  {
   "cell_type": "code",
   "execution_count": null,
   "metadata": {
    "collapsed": true
   },
   "outputs": [],
   "source": []
  },
  {
   "cell_type": "code",
   "execution_count": 181,
   "metadata": {
    "collapsed": true
   },
   "outputs": [],
   "source": [
    "districts = df.okurg_district.unique()"
   ]
  },
  {
   "cell_type": "code",
   "execution_count": 237,
   "metadata": {},
   "outputs": [
    {
     "name": "stdout",
     "output_type": "stream",
     "text": [
      "central R^2: 0.59\n",
      "eastern R^2: 0.44\n",
      "northeastern R^2: 0.33\n",
      "northern R^2: 0.46\n",
      "northwestern R^2: 0.47\n",
      "outside R^2: 0.76\n",
      "southeastern R^2: 0.48\n",
      "southern R^2: 0.44\n",
      "southwestern R^2: 0.52\n",
      "western R^2: 0.55\n",
      "zelenograd R^2: 0.46\n"
     ]
    },
    {
     "data": {
      "text/plain": [
       "<matplotlib.axes._subplots.AxesSubplot at 0x10ae12d50>"
      ]
     },
     "execution_count": 237,
     "metadata": {},
     "output_type": "execute_result"
    },
    {
     "data": {
      "image/png": "[encoded data removed]",
      "text/plain": [
       "<matplotlib.figure.Figure at 0x10bbc03d0>"
      ]
     },
     "metadata": {},
     "output_type": "display_data"
    }
   ],
   "source": [
    "target = 'log_price' \n",
    "cols = [target,'full_sq','sub_area']\n",
    "sub = df.loc[test_index,:].copy()\n",
    "for group in df.groupby('okurg_district'):\n",
    "    \n",
    "    data = group[1]\n",
    "    ols = linear_model.LinearRegression()\n",
    "    group_train_index = data[~data.price_doc.isnull()].index\n",
    "    group_test_index = data[data.price_doc.isnull()].index\n",
    "    \n",
    "    lm_data = data[cols]\n",
    "\n",
    "    df_obj = lm_data.select_dtypes(include=['object'])\n",
    "    df_num = lm_data.select_dtypes(exclude=['object'])\n",
    "\n",
    "    if len(df_obj) > 0:\n",
    "        dummies = pd.get_dummies(df_obj)\n",
    "        df_all = pd.concat([df_num,dummies],axis=1)\n",
    "    else:\n",
    "        df_all = df_num\n",
    "\n",
    "    x_train = df_all.loc[group_train_index,:].drop(target,axis=1)\n",
    "    x_test = df_all.loc[group_test_index,:].drop(target,axis=1)\n",
    "    y_train = df_all.loc[group_train_index,target]\n",
    "\n",
    "    ols.fit(x_train,y_train)\n",
    "    print('%s R^2: %.2f' % (group[0], ols.score(x_train, y_train)))\n",
    "    if target == \"log_price\":\n",
    "        sub.loc[group_test_index,'price_doc'] = np.exp(ols.predict(x_test)) + 1\n",
    "    else:\n",
    "        sub.loc[group_test_index,target] = ols.predict(x_test)\n",
    "\n",
    "sub.price_full = sub.price_doc / sub.full_sq\n",
    "sub.price_full.hist()"
   ]
  },
  {
   "cell_type": "code",
   "execution_count": 238,
   "metadata": {},
   "outputs": [],
   "source": [
    "\n",
    "# sub.price_full = sub.price_doc / sub.full_sq"
   ]
  },
  {
   "cell_type": "code",
   "execution_count": 239,
   "metadata": {},
   "outputs": [
    {
     "data": {
      "text/plain": [
       "<matplotlib.axes._subplots.AxesSubplot at 0x116917f50>"
      ]
     },
     "execution_count": 239,
     "metadata": {},
     "output_type": "execute_result"
    },
    {
     "data": {
      "image/png": "[encoded data removed]",
      "text/plain": [
       "<matplotlib.figure.Figure at 0x116911ad0>"
      ]
     },
     "metadata": {},
     "output_type": "display_data"
    }
   ],
   "source": [
    "sub.price_full.hist()"
   ]
  },
  {
   "cell_type": "code",
   "execution_count": 240,
   "metadata": {},
   "outputs": [
    {
     "data": {
      "text/plain": [
       "array(['northeastern', 'southern', 'southeastern', 'northwestern',\n",
       "       'central', 'eastern', 'northern', 'western', 'zelenograd',\n",
       "       'southwestern', 'outside'], dtype=object)"
      ]
     },
     "execution_count": 240,
     "metadata": {},
     "output_type": "execute_result"
    }
   ],
   "source": [
    "df.okurg_district.unique()"
   ]
  },
  {
   "cell_type": "code",
   "execution_count": 241,
   "metadata": {
    "collapsed": true
   },
   "outputs": [],
   "source": [
    "group1 = [\"central\"]\n",
    "group2 = [\"northwestern\",\"southwestern\",\"western\"]\n",
    "group3 = [\"northern\",\"eastern\",\"southern\",\"northeastern\",\"southeastern\",\"outside\"]\n",
    "group4 = [\"zelenograd\"]"
   ]
  },
  {
   "cell_type": "code",
   "execution_count": 242,
   "metadata": {
    "collapsed": true
   },
   "outputs": [],
   "source": [
    "df['new_group'] = np.nan"
   ]
  },
  {
   "cell_type": "code",
   "execution_count": 243,
   "metadata": {},
   "outputs": [],
   "source": [
    "df.loc[df.okurg_district==\"central\",\"new_group\"] = \"1\"\n",
    "df.loc[df.okurg_district.isin(group2),\"new_group\"] = \"2\"\n",
    "df.loc[df.okurg_district.isin(group3),\"new_group\"] = \"3\"\n",
    "df.loc[df.okurg_district.isin(group4),\"new_group\"] = \"4\""
   ]
  },
  {
   "cell_type": "code",
   "execution_count": 244,
   "metadata": {},
   "outputs": [
    {
     "name": "stdout",
     "output_type": "stream",
     "text": [
      "1 R^2: 0.59\n",
      "2 R^2: 0.52\n",
      "3 R^2: 0.55\n",
      "4 R^2: 0.46\n"
     ]
    },
    {
     "data": {
      "text/plain": [
       "<matplotlib.axes._subplots.AxesSubplot at 0x11af65110>"
      ]
     },
     "execution_count": 244,
     "metadata": {},
     "output_type": "execute_result"
    },
    {
     "data": {
      "image/png": "[encoded data removed]",
      "text/plain": [
       "<matplotlib.figure.Figure at 0x11af2ba10>"
      ]
     },
     "metadata": {},
     "output_type": "display_data"
    }
   ],
   "source": [
    "target = 'log_price' \n",
    "cols = [target,'full_sq','sub_area']\n",
    "sub = df.loc[test_index,:].copy()\n",
    "for group in df.groupby('new_group'):\n",
    "    \n",
    "    data = group[1]\n",
    "    ols = linear_model.LinearRegression()\n",
    "    group_train_index = data[~data.price_doc.isnull()].index\n",
    "    group_test_index = data[data.price_doc.isnull()].index\n",
    "    \n",
    "    lm_data = data[cols]\n",
    "\n",
    "    df_obj = lm_data.select_dtypes(include=['object'])\n",
    "    df_num = lm_data.select_dtypes(exclude=['object'])\n",
    "\n",
    "    if len(df_obj) > 0:\n",
    "        dummies = pd.get_dummies(df_obj)\n",
    "        df_all = pd.concat([df_num,dummies],axis=1)\n",
    "    else:\n",
    "        df_all = df_num\n",
    "\n",
    "    x_train = df_all.loc[group_train_index,:].drop(target,axis=1)\n",
    "    x_test = df_all.loc[group_test_index,:].drop(target,axis=1)\n",
    "    y_train = df_all.loc[group_train_index,target]\n",
    "\n",
    "    ols.fit(x_train,y_train)\n",
    "    print('%s R^2: %.2f' % (group[0], ols.score(x_train, y_train)))\n",
    "    if target == \"log_price\":\n",
    "        sub.loc[group_test_index,'price_doc'] = np.exp(ols.predict(x_test)) - 1\n",
    "    else:\n",
    "        sub.loc[group_test_index,target] = ols.predict(x_test)\n",
    "sub.price_full = sub.price_doc/sub.full_sq\n",
    "sub.price_full.hist()"
   ]
  },
  {
   "cell_type": "markdown",
   "metadata": {},
   "source": [
    "## Trying forward selection"
   ]
  },
  {
   "cell_type": "code",
   "execution_count": 188,
   "metadata": {
    "collapsed": true
   },
   "outputs": [],
   "source": [
    "from itertools import combinations"
   ]
  },
  {
   "cell_type": "code",
   "execution_count": 281,
   "metadata": {
    "collapsed": true
   },
   "outputs": [],
   "source": [
    "combos = []\n",
    "for i in range(1,len(clean_df.columns.tolist())):\n",
    "    combos.append(combinations(clean_df.columns.tolist(),i))"
   ]
  },
  {
   "cell_type": "code",
   "execution_count": 301,
   "metadata": {
    "collapsed": true
   },
   "outputs": [],
   "source": [
    "# get the cols that in both\n",
    "# tr_cols = train.columns.tolist()\n",
    "# te_cols = test.columns.tolist()\n",
    "# cols = set(tr_cols).intersection(te_cols)\n",
    "\n",
    "scores = []\n",
    "df.replace([np.inf, -np.inf], np.nan,inplace=True)\n",
    "clean_df = df.drop('timestamp',axis=1)\n",
    "clean_df.dropna(axis=1, inplace=True)\n",
    "\n",
    "combos = []\n",
    "for i in range(2,len(clean_df.columns.tolist())):\n",
    "    combos.append(combinations(clean_df.columns.tolist(),i))\n",
    "    \n",
    "from sklearn.pipeline import make_pipeline\n",
    "from sklearn.preprocessing import MinMaxScaler\n",
    "pipe = make_pipeline(MinMaxScaler(),linear_model.LinearRegression())\n",
    "\n",
    "# for c in combos:\n",
    "#     for p in c:\n",
    "#         lm_data = clean_df.loc[:,p]\n",
    "#         df_obj = lm_data.select_dtypes(include=['object'])\n",
    "#         df_num = lm_data.select_dtypes(exclude=['object'])\n",
    "        \n",
    "        \n",
    "#         try:\n",
    "#             dummies = pd.get_dummies(df_obj)\n",
    "#         except:\n",
    "#             pass\n",
    "            \n",
    "#         if len(df_obj) > 0 and len(df_num) > 0:\n",
    "#             df_all = pd.concat([df_num,dummies],axis=1)\n",
    "\n",
    "#         elif len(df_obj) < 1:\n",
    "#             df_all = df_num\n",
    "            \n",
    "#         else:\n",
    "#             df_all = df_obj\n",
    "        \n",
    "#         x_train = df_all.loc[train_index,:]\n",
    "#         y_train = df.loc[train_index,'log_price']\n",
    "#         pipe.fit(x_train,y_train)\n",
    "#         scores.append(pipe.score(x_train,y_train))\n",
    "    "
   ]
  },
  {
   "cell_type": "code",
   "execution_count": null,
   "metadata": {
    "collapsed": true
   },
   "outputs": [],
   "source": [
    "print max(scores)"
   ]
  },
  {
   "cell_type": "code",
   "execution_count": 205,
   "metadata": {
    "collapsed": true
   },
   "outputs": [],
   "source": [
    "x = ('a','b','c')"
   ]
  },
  {
   "cell_type": "code",
   "execution_count": 206,
   "metadata": {},
   "outputs": [
    {
     "data": {
      "text/plain": [
       "['a', 'b', 'c']"
      ]
     },
     "execution_count": 206,
     "metadata": {},
     "output_type": "execute_result"
    }
   ],
   "source": []
  },
  {
   "cell_type": "code",
   "execution_count": 164,
   "metadata": {
    "collapsed": true
   },
   "outputs": [],
   "source": [
    "df.loc[test_index,'price_doc'] = np.exp(ols.predict(x_test)) * df.loc[test_index,'nominal_index']\n",
    "df['price_full'] = df.price_doc / df.full_sq"
   ]
  },
  {
   "cell_type": "code",
   "execution_count": 165,
   "metadata": {
    "collapsed": true
   },
   "outputs": [],
   "source": [
    "cols = ['price_doc','full_sq','price_full']\n",
    "sub = df.loc[test_index,cols]"
   ]
  },
  {
   "cell_type": "code",
   "execution_count": 167,
   "metadata": {},
   "outputs": [
    {
     "data": {
      "text/plain": [
       "<matplotlib.axes._subplots.AxesSubplot at 0x11251b690>"
      ]
     },
     "execution_count": 167,
     "metadata": {},
     "output_type": "execute_result"
    },
    {
     "data": {
      "image/png": "[encoded data removed]",
      "text/plain": [
       "<matplotlib.figure.Figure at 0x111180610>"
      ]
     },
     "metadata": {},
     "output_type": "display_data"
    }
   ],
   "source": []
  },
  {
   "cell_type": "code",
   "execution_count": 83,
   "metadata": {
    "collapsed": true
   },
   "outputs": [],
   "source": [
    "# kaggle score 0.33866\n",
    "# sub['price_doc'].to_frame().to_csv('../Chase/submissions/simple_linear_052616.csv')"
   ]
  },
  {
   "cell_type": "markdown",
   "metadata": {
    "collapsed": true
   },
   "source": [
    "## Looking at stats"
   ]
  },
  {
   "cell_type": "code",
   "execution_count": null,
   "metadata": {
    "collapsed": true
   },
   "outputs": [],
   "source": []
  },
  {
   "cell_type": "code",
   "execution_count": 54,
   "metadata": {
    "collapsed": true
   },
   "outputs": [],
   "source": [
    "cols = ['price_full','product_type','life_sq','floor','kremlin_km','sub_area','month']\n",
    "lm_data = df.loc[train_index,cols].copy()\n",
    "\n",
    "df_obj = lm_data.select_dtypes(include=['object'])\n",
    "df_num = lm_data.select_dtypes(exclude=['object'])\n",
    "\n",
    "dummies = pd.get_dummies(df_obj)\n",
    "df_all = pd.concat([df_num,dummies],axis=1)"
   ]
  },
  {
   "cell_type": "code",
   "execution_count": 55,
   "metadata": {
    "collapsed": true
   },
   "outputs": [],
   "source": []
  },
  {
   "cell_type": "code",
   "execution_count": 56,
   "metadata": {
    "scrolled": false
   },
   "outputs": [
    {
     "name": "stdout",
     "output_type": "stream",
     "text": [
      "                            OLS Regression Results                            \n",
      "==============================================================================\n",
      "Dep. Variable:             price_full   R-squared:                       0.464\n",
      "Model:                            OLS   Adj. R-squared:                  0.462\n",
      "Method:                 Least Squares   F-statistic:                     158.8\n",
      "Date:                Tue, 30 May 2017   Prob (F-statistic):               0.00\n",
      "Time:                        17:34:53   Log-Likelihood:            -3.4263e+05\n",
      "No. Observations:               29096   AIC:                         6.856e+05\n",
      "Df Residuals:                   28937   BIC:                         6.869e+05\n",
      "Df Model:                         158                                         \n",
      "Covariance Type:            nonrobust                                         \n",
      "==========================================================================================================\n",
      "                                             coef    std err          t      P>|t|      [0.025      0.975]\n",
      "----------------------------------------------------------------------------------------------------------\n",
      "Intercept                               1.032e+05   2056.884     50.192      0.000    9.92e+04    1.07e+05\n",
      "life_sq                                 -158.6363     11.643    -13.625      0.000    -181.457    -135.816\n",
      "floor                                    451.7134     36.811     12.271      0.000     379.563     523.864\n",
      "kremlin_km                             -1778.7685    189.554     -9.384      0.000   -2150.303   -1407.234\n",
      "product_type_Investment                 5.255e+04   1060.665     49.545      0.000    5.05e+04    5.46e+04\n",
      "product_type_OwnerOccupier              5.069e+04   1126.950     44.979      0.000    4.85e+04    5.29e+04\n",
      "sub_area_Ajeroport                      1.344e+04   3297.682      4.076      0.000    6977.273    1.99e+04\n",
      "sub_area_Akademicheskoe                 1.851e+04   2832.919      6.533      0.000     1.3e+04    2.41e+04\n",
      "sub_area_Alekseevskoe                   1.678e+04   3648.497      4.600      0.000    9630.045    2.39e+04\n",
      "sub_area_Altufevskoe                   -1.293e+04   4119.858     -3.140      0.002    -2.1e+04   -4859.325\n",
      "sub_area_Arbat                          7.812e+04   8518.481      9.171      0.000    6.14e+04    9.48e+04\n",
      "sub_area_Babushkinskoe                  3853.6546   3006.403      1.282      0.200   -2039.033    9746.342\n",
      "sub_area_Basmannoe                      2.331e+04   3933.873      5.925      0.000    1.56e+04     3.1e+04\n",
      "sub_area_Begovoe                        2.184e+04   4632.684      4.715      0.000    1.28e+04    3.09e+04\n",
      "sub_area_Beskudnikovskoe               -1.168e+04   2650.506     -4.406      0.000   -1.69e+04   -6482.469\n",
      "sub_area_Bibirevo                      -5559.8961   2174.511     -2.557      0.011   -9822.038   -1297.754\n",
      "sub_area_Birjulevo_Vostochnoe            -1.7e+04   2092.547     -8.123      0.000   -2.11e+04   -1.29e+04\n",
      "sub_area_Birjulevo_Zapadnoe            -1.601e+04   3121.759     -5.128      0.000   -2.21e+04   -9889.632\n",
      "sub_area_Bogorodskoe                   -1.296e+04   2286.361     -5.668      0.000   -1.74e+04   -8476.998\n",
      "sub_area_Brateevo                      -8261.5462   2451.654     -3.370      0.001   -1.31e+04   -3456.192\n",
      "sub_area_Butyrskoe                     -4556.5970   3612.247     -1.261      0.207   -1.16e+04    2523.574\n",
      "sub_area_Caricyno                      -3262.8916   2243.318     -1.454      0.146   -7659.898    1134.114\n",
      "sub_area_Cheremushki                     1.92e+04   2822.399      6.803      0.000    1.37e+04    2.47e+04\n",
      "sub_area_Chertanovo_Centralnoe          3750.4629   2357.307      1.591      0.112    -869.967    8370.893\n",
      "sub_area_Chertanovo_Juzhnoe             4043.9903   2025.064      1.997      0.046      74.772    8013.208\n",
      "sub_area_Chertanovo_Severnoe            -281.4483   2330.657     -0.121      0.904   -4849.642    4286.746\n",
      "sub_area_Danilovskoe                    6284.5339   3124.701      2.011      0.044     159.976    1.24e+04\n",
      "sub_area_Dmitrovskoe                   -9691.9613   2492.334     -3.889      0.000   -1.46e+04   -4806.872\n",
      "sub_area_Donskoe                        2.735e+04   3460.365      7.905      0.000    2.06e+04    3.41e+04\n",
      "sub_area_Dorogomilovo                   5.482e+04   4858.773     11.284      0.000    4.53e+04    6.43e+04\n",
      "sub_area_Filevskij_Park                 9127.1858   3142.983      2.904      0.004    2966.794    1.53e+04\n",
      "sub_area_Fili_Davydkovo                 5718.5513   3019.321      1.894      0.058    -199.456    1.16e+04\n",
      "sub_area_Gagarinskoe                    3.644e+04   3979.085      9.158      0.000    2.86e+04    4.42e+04\n",
      "sub_area_Goljanovo                     -1.153e+04   2007.559     -5.745      0.000   -1.55e+04   -7598.399\n",
      "sub_area_Golovinskoe                   -9098.1190   2272.576     -4.003      0.000   -1.36e+04   -4643.765\n",
      "sub_area_Hamovniki                      9.145e+04   4099.345     22.308      0.000    8.34e+04    9.95e+04\n",
      "sub_area_HoroshevoMnevniki              7168.3351   2409.656      2.975      0.003    2445.298    1.19e+04\n",
      "sub_area_Horoshevskoe                    2.05e+04   3318.333      6.177      0.000     1.4e+04     2.7e+04\n",
      "sub_area_Hovrino                        1569.5059   2473.796      0.634      0.526   -3279.249    6418.260\n",
      "sub_area_Ivanovskoe                    -1.576e+04   2415.673     -6.522      0.000   -2.05e+04    -1.1e+04\n",
      "sub_area_Izmajlovo                     -2070.5798   2117.709     -0.978      0.328   -6221.388    2080.228\n",
      "sub_area_Jakimanka                      1.056e+04   4486.939      2.353      0.019    1762.859    1.94e+04\n",
      "sub_area_Jaroslavskoe                  -1.619e+04   2960.989     -5.468      0.000    -2.2e+04   -1.04e+04\n",
      "sub_area_Jasenevo                       7588.1569   2154.802      3.522      0.000    3364.645    1.18e+04\n",
      "sub_area_Juzhnoe_Butovo                 2249.8998   2218.809      1.014      0.311   -2099.068    6598.868\n",
      "sub_area_Juzhnoe_Medvedkovo            -9345.8668   2837.184     -3.294      0.001   -1.49e+04   -3784.855\n",
      "sub_area_Juzhnoe_Tushino                1962.6764   2498.486      0.786      0.432   -2934.470    6859.823\n",
      "sub_area_Juzhnoportovoe                -1569.0291   3453.246     -0.454      0.650   -8337.550    5199.492\n",
      "sub_area_Kapotnja                      -2.092e+04   4650.477     -4.499      0.000      -3e+04   -1.18e+04\n",
      "sub_area_Konkovo                        1.559e+04   2252.666      6.918      0.000    1.12e+04       2e+04\n",
      "sub_area_Koptevo                       -5450.3687   2500.996     -2.179      0.029   -1.04e+04    -548.301\n",
      "sub_area_KosinoUhtomskoe                -1.34e+04   2192.735     -6.113      0.000   -1.77e+04   -9106.874\n",
      "sub_area_Kotlovka                       1884.9468   3090.636      0.610      0.542   -4172.841    7942.735\n",
      "sub_area_Krasnoselskoe                  2.676e+04   5732.864      4.667      0.000    1.55e+04     3.8e+04\n",
      "sub_area_Krjukovo                       8977.2654   4366.991      2.056      0.040     417.763    1.75e+04\n",
      "sub_area_Krylatskoe                     3.759e+04   3197.629     11.754      0.000    3.13e+04    4.39e+04\n",
      "sub_area_Kuncevo                        8264.9464   2513.051      3.289      0.001    3339.251    1.32e+04\n",
      "sub_area_Kurkino                        1.356e+04   4240.463      3.197      0.001    5246.161    2.19e+04\n",
      "sub_area_Kuzminki                      -1.265e+04   2404.054     -5.264      0.000   -1.74e+04   -7941.832\n",
      "sub_area_Lefortovo                     -9561.7224   3543.862     -2.698      0.007   -1.65e+04   -2615.589\n",
      "sub_area_Levoberezhnoe                  5032.3601   2845.547      1.769      0.077    -545.042    1.06e+04\n",
      "sub_area_Lianozovo                     -2562.4976   2950.579     -0.868      0.385   -8345.768    3220.773\n",
      "sub_area_Ljublino                      -1.223e+04   2044.883     -5.982      0.000   -1.62e+04   -8225.233\n",
      "sub_area_Lomonosovskoe                   3.85e+04   2943.262     13.081      0.000    3.27e+04    4.43e+04\n",
      "sub_area_Losinoostrovskoe                905.2367   2458.577      0.368      0.713   -3913.687    5724.161\n",
      "sub_area_Marfino                       -1.268e+04   3801.772     -3.334      0.001   -2.01e+04   -5225.223\n",
      "sub_area_Marina_Roshha                 -3884.3784   3647.419     -1.065      0.287    -1.1e+04    3264.731\n",
      "sub_area_Marino                        -6847.2559   1568.707     -4.365      0.000   -9921.995   -3772.517\n",
      "sub_area_Matushkino                     1.022e+04   5257.801      1.944      0.052     -82.708    2.05e+04\n",
      "sub_area_Meshhanskoe                    2.896e+04   4104.921      7.054      0.000    2.09e+04     3.7e+04\n",
      "sub_area_Metrogorodok                  -1.533e+04   4284.406     -3.579      0.000   -2.37e+04   -6934.753\n",
      "sub_area_Mitino                         7935.5237   1455.436      5.452      0.000    5082.802    1.08e+04\n",
      "sub_area_Molzhaninovskoe               -3.533e+04   3.14e+04     -1.124      0.261   -9.69e+04    2.63e+04\n",
      "sub_area_MoskvorecheSaburovo             -84.4760   3300.793     -0.026      0.980   -6554.181    6385.229\n",
      "sub_area_Mozhajskoe                    -4485.0400   2404.100     -1.866      0.062   -9197.188     227.107\n",
      "sub_area_NagatinoSadovniki             -3651.1664   2913.914     -1.253      0.210   -9362.571    2060.238\n",
      "sub_area_Nagatinskij_Zaton              4220.4321   2266.878      1.862      0.063    -222.754    8663.618\n",
      "sub_area_Nagornoe                       1.598e+04   2238.101      7.141      0.000    1.16e+04    2.04e+04\n",
      "sub_area_Nekrasovka                    -2.942e+04   1389.758    -21.170      0.000   -3.21e+04   -2.67e+04\n",
      "sub_area_Nizhegorodskoe                -2.332e+04   4055.272     -5.751      0.000   -3.13e+04   -1.54e+04\n",
      "sub_area_NovoPeredelkino               -1.125e+04   2827.529     -3.979      0.000   -1.68e+04   -5707.544\n",
      "sub_area_Novogireevo                   -5773.9687   2455.537     -2.351      0.019   -1.06e+04    -961.003\n",
      "sub_area_Novokosino                    -8522.5972   2761.754     -3.086      0.002   -1.39e+04   -3109.432\n",
      "sub_area_Obruchevskoe                   1.517e+04   2591.741      5.854      0.000    1.01e+04    2.03e+04\n",
      "sub_area_OchakovoMatveevskoe           -5754.8948   2193.089     -2.624      0.009   -1.01e+04   -1456.339\n",
      "sub_area_OrehovoBorisovo_Juzhnoe        -322.6284   2290.002     -0.141      0.888   -4811.137    4165.880\n",
      "sub_area_OrehovoBorisovo_Severnoe      -9835.6841   2267.677     -4.337      0.000   -1.43e+04   -5390.934\n",
      "sub_area_Ostankinskoe                   1.421e+04   3995.080      3.558      0.000    6382.509     2.2e+04\n",
      "sub_area_Otradnoe                      -4045.4711   1905.108     -2.123      0.034   -7779.570    -311.372\n",
      "sub_area_Pechatniki                    -1.859e+04   2620.129     -7.094      0.000   -2.37e+04   -1.35e+04\n",
      "sub_area_Perovo                        -1.437e+04   2374.022     -6.054      0.000    -1.9e+04   -9719.441\n",
      "sub_area_Pokrovskoe_Streshnevo          8606.1200   2558.523      3.364      0.001    3591.297    1.36e+04\n",
      "sub_area_Poselenie_Desjonovskoe        -1.995e+04   3207.335     -6.222      0.000   -2.62e+04   -1.37e+04\n",
      "sub_area_Poselenie_Filimonkovskoe      -3.654e+04   2847.579    -12.833      0.000   -4.21e+04    -3.1e+04\n",
      "sub_area_Poselenie_Kievskij             6.017e+04   2.37e+04      2.538      0.011    1.37e+04    1.07e+05\n",
      "sub_area_Poselenie_Kokoshkino          -2.725e+04   8446.126     -3.226      0.001   -4.38e+04   -1.07e+04\n",
      "sub_area_Poselenie_Krasnopahorskoe     -2.502e+04   8315.899     -3.008      0.003   -4.13e+04   -8715.531\n",
      "sub_area_Poselenie_Marushkinskoe       -2.822e+04   1.44e+04     -1.959      0.050   -5.65e+04      21.429\n",
      "sub_area_Poselenie_MihajlovoJarcevskoe -4348.8825    3.2e+04     -0.136      0.892    -6.7e+04    5.83e+04\n",
      "sub_area_Poselenie_Moskovskij          -3.066e+04   1720.248    -17.822      0.000    -3.4e+04   -2.73e+04\n",
      "sub_area_Poselenie_Mosrentgen          -4.063e+04   7209.015     -5.636      0.000   -5.48e+04   -2.65e+04\n",
      "sub_area_Poselenie_Novofedorovskoe     -9203.8249   7329.390     -1.256      0.209   -2.36e+04    5162.116\n",
      "sub_area_Poselenie_Pervomajskoe         -2.37e+04   4917.770     -4.819      0.000   -3.33e+04   -1.41e+04\n",
      "sub_area_Poselenie_Rjazanovskoe        -2.198e+04   6412.670     -3.428      0.001   -3.45e+04   -9410.517\n",
      "sub_area_Poselenie_Rogovskoe            3.418e+04    1.2e+04      2.853      0.004    1.07e+04    5.77e+04\n",
      "sub_area_Poselenie_Shherbinka          -2.979e+04   2803.361    -10.625      0.000   -3.53e+04   -2.43e+04\n",
      "sub_area_Poselenie_Sosenskoe            -3.14e+04   1494.058    -21.016      0.000   -3.43e+04   -2.85e+04\n",
      "sub_area_Poselenie_Vnukovskoe          -1.675e+04   1768.721     -9.472      0.000   -2.02e+04   -1.33e+04\n",
      "sub_area_Poselenie_Voronovskoe          1.166e+04   1.49e+04      0.784      0.433   -1.75e+04    4.08e+04\n",
      "sub_area_Poselenie_Voskresenskoe       -2.501e+04   2443.300    -10.235      0.000   -2.98e+04   -2.02e+04\n",
      "sub_area_Preobrazhenskoe               -4392.2708   2985.054     -1.471      0.141   -1.02e+04    1458.573\n",
      "sub_area_Presnenskoe                    3.704e+04   3272.661     11.317      0.000    3.06e+04    4.35e+04\n",
      "sub_area_Prospekt_Vernadskogo           3.226e+04   3386.238      9.526      0.000    2.56e+04    3.89e+04\n",
      "sub_area_Ramenki                        2.238e+04   2481.628      9.017      0.000    1.75e+04    2.72e+04\n",
      "sub_area_Rjazanskij                    -1.339e+04   2656.223     -5.040      0.000   -1.86e+04   -8180.551\n",
      "sub_area_Rostokino                       257.9654   4317.552      0.060      0.952   -8204.634    8720.565\n",
      "sub_area_Savelki                         1.08e+04   5126.511      2.107      0.035     754.098    2.09e+04\n",
      "sub_area_Savelovskoe                    6994.4815   4048.017      1.728      0.084    -939.818    1.49e+04\n",
      "sub_area_Severnoe                      -2.285e+04   5356.180     -4.266      0.000   -3.33e+04   -1.24e+04\n",
      "sub_area_Severnoe_Butovo                1.233e+04   2594.323      4.752      0.000    7243.966    1.74e+04\n",
      "sub_area_Severnoe_Izmajlovo            -9778.4846   2592.259     -3.772      0.000   -1.49e+04   -4697.538\n",
      "sub_area_Severnoe_Medvedkovo            3497.5945   2566.089      1.363      0.173   -1532.058    8527.247\n",
      "sub_area_Severnoe_Tushino               1.194e+04   1943.585      6.142      0.000    8128.627    1.57e+04\n",
      "sub_area_Shhukino                        1.73e+04   2812.799      6.149      0.000    1.18e+04    2.28e+04\n",
      "sub_area_Silino                         8231.4076   5356.418      1.537      0.124   -2267.418    1.87e+04\n",
      "sub_area_Sokol                          1.491e+04   4118.661      3.620      0.000    6834.992     2.3e+04\n",
      "sub_area_Sokolinaja_Gora               -7563.0338   2858.071     -2.646      0.008   -1.32e+04   -1961.083\n",
      "sub_area_Sokolniki                       2.72e+04   4480.122      6.071      0.000    1.84e+04     3.6e+04\n",
      "sub_area_Solncevo                      -2.331e+04   1662.200    -14.025      0.000   -2.66e+04   -2.01e+04\n",
      "sub_area_Staroe_Krjukovo                7662.4766   5403.552      1.418      0.156   -2928.734    1.83e+04\n",
      "sub_area_Strogino                       2.218e+04   1927.743     11.504      0.000    1.84e+04     2.6e+04\n",
      "sub_area_Sviblovo                       6898.7272   2959.138      2.331      0.020    1098.682    1.27e+04\n",
      "sub_area_Taganskoe                      1.963e+04   3455.239      5.681      0.000    1.29e+04    2.64e+04\n",
      "sub_area_Tekstilshhiki                 -1.852e+04   2251.369     -8.227      0.000   -2.29e+04   -1.41e+04\n",
      "sub_area_Teplyj_Stan                    6804.9290   2568.656      2.649      0.008    1770.245    1.18e+04\n",
      "sub_area_Timirjazevskoe                -5133.6081   3037.359     -1.690      0.091   -1.11e+04     819.755\n",
      "sub_area_Troickij_okrug                -1.039e+04   4767.553     -2.180      0.029   -1.97e+04   -1049.453\n",
      "sub_area_TroparevoNikulino              1.975e+04   2974.425      6.640      0.000    1.39e+04    2.56e+04\n",
      "sub_area_Tverskoe                      -4.895e+04   3170.507    -15.438      0.000   -5.52e+04   -4.27e+04\n",
      "sub_area_Veshnjaki                     -1.631e+04   2314.618     -7.045      0.000   -2.08e+04   -1.18e+04\n",
      "sub_area_Vnukovo                       -1.247e+04   5253.660     -2.374      0.018   -2.28e+04   -2177.139\n",
      "sub_area_Vojkovskoe                     3762.7297   3001.549      1.254      0.210   -2120.444    9645.904\n",
      "sub_area_Vostochnoe                    -1.622e+04   1.19e+04     -1.366      0.172   -3.95e+04    7050.880\n",
      "sub_area_Vostochnoe_Degunino           -8021.3874   3056.925     -2.624      0.009    -1.4e+04   -2029.673\n",
      "sub_area_Vostochnoe_Izmajlovo          -9321.1219   2674.922     -3.485      0.000   -1.46e+04   -4078.152\n",
      "sub_area_VyhinoZhulebino               -1.002e+04   2065.578     -4.852      0.000   -1.41e+04   -5973.158\n",
      "sub_area_Zamoskvoreche                   5.48e+04   5223.610     10.491      0.000    4.46e+04     6.5e+04\n",
      "sub_area_Zapadnoe_Degunino             -3.438e+04   1677.199    -20.501      0.000   -3.77e+04   -3.11e+04\n",
      "sub_area_Zjablikovo                     1530.2744   2938.196      0.521      0.602   -4228.724    7289.273\n",
      "sub_area_Zjuzino                         617.2471   2255.065      0.274      0.784   -3802.783    5037.277\n",
      "month_1                                -1346.8046    942.471     -1.429      0.153   -3194.090     500.481\n",
      "month_2                                -1142.6274    879.067     -1.300      0.194   -2865.638     580.383\n",
      "month_3                                 -499.4205    812.658     -0.615      0.539   -2092.267    1093.426\n",
      "month_4                                 -466.7903    799.377     -0.584      0.559   -2033.607    1100.026\n",
      "month_5                                  215.4325    852.280      0.253      0.800   -1455.076    1885.941\n",
      "month_6                                 -621.3757    847.039     -0.734      0.463   -2281.610    1038.859\n",
      "month_7                                -2104.4941    936.332     -2.248      0.025   -3939.749    -269.240\n",
      "month_8                                -2539.1041    941.584     -2.697      0.007   -4384.652    -693.556\n",
      "month_9                                 -459.5730    868.589     -0.529      0.597   -2162.046    1242.900\n",
      "month_10                               -3735.3080    832.291     -4.488      0.000   -5366.636   -2103.980\n",
      "month_11                               -2603.3280    812.086     -3.206      0.001   -4195.053   -1011.603\n",
      "==============================================================================\n",
      "Omnibus:                     5197.946   Durbin-Watson:                   1.972\n",
      "Prob(Omnibus):                  0.000   Jarque-Bera (JB):            64148.007\n",
      "Skew:                          -0.492   Prob(JB):                         0.00\n",
      "Kurtosis:                      10.207   Cond. No.                     2.42e+15\n",
      "==============================================================================\n",
      "\n",
      "Warnings:\n",
      "[1] Standard Errors assume that the covariance matrix of the errors is correctly specified.\n",
      "[2] The smallest eigenvalue is 1.13e-23. This might indicate that there are\n",
      "strong multicollinearity problems or that the design matrix is singular.\n"
     ]
    }
   ],
   "source": [
    "all_columns = \"+\".join(df_all.columns[1:-1])\n",
    "model = sm.ols(formula ='price_full ~ ' + all_columns, data = df_all)\n",
    "fitted = model.fit()\n",
    "print fitted.summary()"
   ]
  },
  {
   "cell_type": "code",
   "execution_count": 87,
   "metadata": {},
   "outputs": [
    {
     "data": {
      "text/plain": [
       "<matplotlib.text.Text at 0x110deb990>"
      ]
     },
     "execution_count": 87,
     "metadata": {},
     "output_type": "execute_result"
    },
    {
     "data": {
      "image/png": "[encoded data removed]",
      "text/plain": [
       "<matplotlib.figure.Figure at 0x110dd0990>"
      ]
     },
     "metadata": {},
     "output_type": "display_data"
    }
   ],
   "source": [
    "plt.hist(fitted.resid)\n",
    "plt.ylabel('Count')\n",
    "plt.xlabel('Normalized residuals')"
   ]
  },
  {
   "cell_type": "code",
   "execution_count": 307,
   "metadata": {},
   "outputs": [
    {
     "name": "stderr",
     "output_type": "stream",
     "text": [
      "/Library/Frameworks/Python.framework/Versions/2.7/lib/python2.7/site-packages/statsmodels/stats/outliers_influence.py:309: RuntimeWarning: invalid value encountered in sqrt\n",
      "  return  self.results.resid / sigma / np.sqrt(1 - hii)\n",
      "/Library/Frameworks/Python.framework/Versions/2.7/lib/python2.7/site-packages/scipy/stats/_distn_infrastructure.py:879: RuntimeWarning: invalid value encountered in greater\n",
      "  return (self.a < x) & (x < self.b)\n",
      "/Library/Frameworks/Python.framework/Versions/2.7/lib/python2.7/site-packages/scipy/stats/_distn_infrastructure.py:879: RuntimeWarning: invalid value encountered in less\n",
      "  return (self.a < x) & (x < self.b)\n",
      "/Library/Frameworks/Python.framework/Versions/2.7/lib/python2.7/site-packages/scipy/stats/_distn_infrastructure.py:1818: RuntimeWarning: invalid value encountered in less_equal\n",
      "  cond2 = cond0 & (x <= self.a)\n"
     ]
    },
    {
     "data": {
      "text/html": [
       "<div>\n",
       "<style>\n",
       "    .dataframe thead tr:only-child th {\n",
       "        text-align: right;\n",
       "    }\n",
       "\n",
       "    .dataframe thead th {\n",
       "        text-align: left;\n",
       "    }\n",
       "\n",
       "    .dataframe tbody tr th {\n",
       "        vertical-align: top;\n",
       "    }\n",
       "</style>\n",
       "<table border=\"1\" class=\"dataframe\">\n",
       "  <thead>\n",
       "    <tr style=\"text-align: right;\">\n",
       "      <th></th>\n",
       "      <th>c</th>\n",
       "      <th>p</th>\n",
       "    </tr>\n",
       "  </thead>\n",
       "  <tbody>\n",
       "    <tr>\n",
       "      <th>20221</th>\n",
       "      <td>1.236036e-15</td>\n",
       "      <td>1.0</td>\n",
       "    </tr>\n",
       "    <tr>\n",
       "      <th>5589</th>\n",
       "      <td>1.225272e-14</td>\n",
       "      <td>1.0</td>\n",
       "    </tr>\n",
       "    <tr>\n",
       "      <th>13536</th>\n",
       "      <td>2.282613e-13</td>\n",
       "      <td>1.0</td>\n",
       "    </tr>\n",
       "    <tr>\n",
       "      <th>7994</th>\n",
       "      <td>2.571682e-13</td>\n",
       "      <td>1.0</td>\n",
       "    </tr>\n",
       "    <tr>\n",
       "      <th>12519</th>\n",
       "      <td>5.616858e-13</td>\n",
       "      <td>1.0</td>\n",
       "    </tr>\n",
       "    <tr>\n",
       "      <th>23956</th>\n",
       "      <td>6.565785e-13</td>\n",
       "      <td>1.0</td>\n",
       "    </tr>\n",
       "    <tr>\n",
       "      <th>9063</th>\n",
       "      <td>6.566309e-13</td>\n",
       "      <td>1.0</td>\n",
       "    </tr>\n",
       "    <tr>\n",
       "      <th>27791</th>\n",
       "      <td>9.269465e-13</td>\n",
       "      <td>1.0</td>\n",
       "    </tr>\n",
       "    <tr>\n",
       "      <th>15215</th>\n",
       "      <td>9.387580e-13</td>\n",
       "      <td>1.0</td>\n",
       "    </tr>\n",
       "    <tr>\n",
       "      <th>10915</th>\n",
       "      <td>1.191312e-12</td>\n",
       "      <td>1.0</td>\n",
       "    </tr>\n",
       "    <tr>\n",
       "      <th>17412</th>\n",
       "      <td>1.884733e-12</td>\n",
       "      <td>1.0</td>\n",
       "    </tr>\n",
       "    <tr>\n",
       "      <th>5062</th>\n",
       "      <td>2.164396e-12</td>\n",
       "      <td>1.0</td>\n",
       "    </tr>\n",
       "    <tr>\n",
       "      <th>4680</th>\n",
       "      <td>2.520179e-12</td>\n",
       "      <td>1.0</td>\n",
       "    </tr>\n",
       "    <tr>\n",
       "      <th>9664</th>\n",
       "      <td>2.603609e-12</td>\n",
       "      <td>1.0</td>\n",
       "    </tr>\n",
       "    <tr>\n",
       "      <th>1856</th>\n",
       "      <td>3.011312e-12</td>\n",
       "      <td>1.0</td>\n",
       "    </tr>\n",
       "    <tr>\n",
       "      <th>7006</th>\n",
       "      <td>3.157925e-12</td>\n",
       "      <td>1.0</td>\n",
       "    </tr>\n",
       "    <tr>\n",
       "      <th>23599</th>\n",
       "      <td>3.213309e-12</td>\n",
       "      <td>1.0</td>\n",
       "    </tr>\n",
       "    <tr>\n",
       "      <th>3930</th>\n",
       "      <td>3.439949e-12</td>\n",
       "      <td>1.0</td>\n",
       "    </tr>\n",
       "    <tr>\n",
       "      <th>7803</th>\n",
       "      <td>3.992410e-12</td>\n",
       "      <td>1.0</td>\n",
       "    </tr>\n",
       "    <tr>\n",
       "      <th>13143</th>\n",
       "      <td>4.173530e-12</td>\n",
       "      <td>1.0</td>\n",
       "    </tr>\n",
       "    <tr>\n",
       "      <th>14919</th>\n",
       "      <td>7.989128e-12</td>\n",
       "      <td>1.0</td>\n",
       "    </tr>\n",
       "    <tr>\n",
       "      <th>18436</th>\n",
       "      <td>9.212131e-12</td>\n",
       "      <td>1.0</td>\n",
       "    </tr>\n",
       "    <tr>\n",
       "      <th>18843</th>\n",
       "      <td>9.212131e-12</td>\n",
       "      <td>1.0</td>\n",
       "    </tr>\n",
       "    <tr>\n",
       "      <th>22944</th>\n",
       "      <td>1.035059e-11</td>\n",
       "      <td>1.0</td>\n",
       "    </tr>\n",
       "    <tr>\n",
       "      <th>21327</th>\n",
       "      <td>1.044128e-11</td>\n",
       "      <td>1.0</td>\n",
       "    </tr>\n",
       "    <tr>\n",
       "      <th>14121</th>\n",
       "      <td>1.081055e-11</td>\n",
       "      <td>1.0</td>\n",
       "    </tr>\n",
       "    <tr>\n",
       "      <th>13803</th>\n",
       "      <td>1.179180e-11</td>\n",
       "      <td>1.0</td>\n",
       "    </tr>\n",
       "    <tr>\n",
       "      <th>13590</th>\n",
       "      <td>1.229062e-11</td>\n",
       "      <td>1.0</td>\n",
       "    </tr>\n",
       "    <tr>\n",
       "      <th>16273</th>\n",
       "      <td>1.272249e-11</td>\n",
       "      <td>1.0</td>\n",
       "    </tr>\n",
       "    <tr>\n",
       "      <th>28480</th>\n",
       "      <td>1.319049e-11</td>\n",
       "      <td>1.0</td>\n",
       "    </tr>\n",
       "    <tr>\n",
       "      <th>...</th>\n",
       "      <td>...</td>\n",
       "      <td>...</td>\n",
       "    </tr>\n",
       "    <tr>\n",
       "      <th>24900</th>\n",
       "      <td>2.380145e-03</td>\n",
       "      <td>1.0</td>\n",
       "    </tr>\n",
       "    <tr>\n",
       "      <th>11930</th>\n",
       "      <td>2.468073e-03</td>\n",
       "      <td>1.0</td>\n",
       "    </tr>\n",
       "    <tr>\n",
       "      <th>22887</th>\n",
       "      <td>2.558222e-03</td>\n",
       "      <td>1.0</td>\n",
       "    </tr>\n",
       "    <tr>\n",
       "      <th>9644</th>\n",
       "      <td>2.643812e-03</td>\n",
       "      <td>1.0</td>\n",
       "    </tr>\n",
       "    <tr>\n",
       "      <th>6901</th>\n",
       "      <td>2.727869e-03</td>\n",
       "      <td>1.0</td>\n",
       "    </tr>\n",
       "    <tr>\n",
       "      <th>1668</th>\n",
       "      <td>2.904319e-03</td>\n",
       "      <td>1.0</td>\n",
       "    </tr>\n",
       "    <tr>\n",
       "      <th>19383</th>\n",
       "      <td>2.998412e-03</td>\n",
       "      <td>1.0</td>\n",
       "    </tr>\n",
       "    <tr>\n",
       "      <th>16525</th>\n",
       "      <td>3.083202e-03</td>\n",
       "      <td>1.0</td>\n",
       "    </tr>\n",
       "    <tr>\n",
       "      <th>22866</th>\n",
       "      <td>3.167833e-03</td>\n",
       "      <td>1.0</td>\n",
       "    </tr>\n",
       "    <tr>\n",
       "      <th>16565</th>\n",
       "      <td>3.189557e-03</td>\n",
       "      <td>1.0</td>\n",
       "    </tr>\n",
       "    <tr>\n",
       "      <th>21843</th>\n",
       "      <td>3.346524e-03</td>\n",
       "      <td>1.0</td>\n",
       "    </tr>\n",
       "    <tr>\n",
       "      <th>8951</th>\n",
       "      <td>3.356226e-03</td>\n",
       "      <td>1.0</td>\n",
       "    </tr>\n",
       "    <tr>\n",
       "      <th>15656</th>\n",
       "      <td>3.440030e-03</td>\n",
       "      <td>1.0</td>\n",
       "    </tr>\n",
       "    <tr>\n",
       "      <th>26146</th>\n",
       "      <td>3.714791e-03</td>\n",
       "      <td>1.0</td>\n",
       "    </tr>\n",
       "    <tr>\n",
       "      <th>3060</th>\n",
       "      <td>3.737435e-03</td>\n",
       "      <td>1.0</td>\n",
       "    </tr>\n",
       "    <tr>\n",
       "      <th>15196</th>\n",
       "      <td>3.879962e-03</td>\n",
       "      <td>1.0</td>\n",
       "    </tr>\n",
       "    <tr>\n",
       "      <th>23619</th>\n",
       "      <td>4.060816e-03</td>\n",
       "      <td>1.0</td>\n",
       "    </tr>\n",
       "    <tr>\n",
       "      <th>17191</th>\n",
       "      <td>4.097498e-03</td>\n",
       "      <td>1.0</td>\n",
       "    </tr>\n",
       "    <tr>\n",
       "      <th>18271</th>\n",
       "      <td>4.193444e-03</td>\n",
       "      <td>1.0</td>\n",
       "    </tr>\n",
       "    <tr>\n",
       "      <th>3185</th>\n",
       "      <td>5.554672e-03</td>\n",
       "      <td>1.0</td>\n",
       "    </tr>\n",
       "    <tr>\n",
       "      <th>10377</th>\n",
       "      <td>6.316656e-03</td>\n",
       "      <td>1.0</td>\n",
       "    </tr>\n",
       "    <tr>\n",
       "      <th>2155</th>\n",
       "      <td>6.754353e-03</td>\n",
       "      <td>1.0</td>\n",
       "    </tr>\n",
       "    <tr>\n",
       "      <th>21620</th>\n",
       "      <td>7.011997e-03</td>\n",
       "      <td>1.0</td>\n",
       "    </tr>\n",
       "    <tr>\n",
       "      <th>15765</th>\n",
       "      <td>8.533812e-03</td>\n",
       "      <td>1.0</td>\n",
       "    </tr>\n",
       "    <tr>\n",
       "      <th>16220</th>\n",
       "      <td>1.086874e-02</td>\n",
       "      <td>1.0</td>\n",
       "    </tr>\n",
       "    <tr>\n",
       "      <th>23396</th>\n",
       "      <td>1.162950e-02</td>\n",
       "      <td>1.0</td>\n",
       "    </tr>\n",
       "    <tr>\n",
       "      <th>24563</th>\n",
       "      <td>4.037761e-02</td>\n",
       "      <td>1.0</td>\n",
       "    </tr>\n",
       "    <tr>\n",
       "      <th>13589</th>\n",
       "      <td>4.037761e-02</td>\n",
       "      <td>1.0</td>\n",
       "    </tr>\n",
       "    <tr>\n",
       "      <th>17585</th>\n",
       "      <td>NaN</td>\n",
       "      <td>NaN</td>\n",
       "    </tr>\n",
       "    <tr>\n",
       "      <th>27095</th>\n",
       "      <td>NaN</td>\n",
       "      <td>NaN</td>\n",
       "    </tr>\n",
       "  </tbody>\n",
       "</table>\n",
       "<p>29096 rows × 2 columns</p>\n",
       "</div>"
      ],
      "text/plain": [
       "                  c    p\n",
       "20221  1.236036e-15  1.0\n",
       "5589   1.225272e-14  1.0\n",
       "13536  2.282613e-13  1.0\n",
       "7994   2.571682e-13  1.0\n",
       "12519  5.616858e-13  1.0\n",
       "23956  6.565785e-13  1.0\n",
       "9063   6.566309e-13  1.0\n",
       "27791  9.269465e-13  1.0\n",
       "15215  9.387580e-13  1.0\n",
       "10915  1.191312e-12  1.0\n",
       "17412  1.884733e-12  1.0\n",
       "5062   2.164396e-12  1.0\n",
       "4680   2.520179e-12  1.0\n",
       "9664   2.603609e-12  1.0\n",
       "1856   3.011312e-12  1.0\n",
       "7006   3.157925e-12  1.0\n",
       "23599  3.213309e-12  1.0\n",
       "3930   3.439949e-12  1.0\n",
       "7803   3.992410e-12  1.0\n",
       "13143  4.173530e-12  1.0\n",
       "14919  7.989128e-12  1.0\n",
       "18436  9.212131e-12  1.0\n",
       "18843  9.212131e-12  1.0\n",
       "22944  1.035059e-11  1.0\n",
       "21327  1.044128e-11  1.0\n",
       "14121  1.081055e-11  1.0\n",
       "13803  1.179180e-11  1.0\n",
       "13590  1.229062e-11  1.0\n",
       "16273  1.272249e-11  1.0\n",
       "28480  1.319049e-11  1.0\n",
       "...             ...  ...\n",
       "24900  2.380145e-03  1.0\n",
       "11930  2.468073e-03  1.0\n",
       "22887  2.558222e-03  1.0\n",
       "9644   2.643812e-03  1.0\n",
       "6901   2.727869e-03  1.0\n",
       "1668   2.904319e-03  1.0\n",
       "19383  2.998412e-03  1.0\n",
       "16525  3.083202e-03  1.0\n",
       "22866  3.167833e-03  1.0\n",
       "16565  3.189557e-03  1.0\n",
       "21843  3.346524e-03  1.0\n",
       "8951   3.356226e-03  1.0\n",
       "15656  3.440030e-03  1.0\n",
       "26146  3.714791e-03  1.0\n",
       "3060   3.737435e-03  1.0\n",
       "15196  3.879962e-03  1.0\n",
       "23619  4.060816e-03  1.0\n",
       "17191  4.097498e-03  1.0\n",
       "18271  4.193444e-03  1.0\n",
       "3185   5.554672e-03  1.0\n",
       "10377  6.316656e-03  1.0\n",
       "2155   6.754353e-03  1.0\n",
       "21620  7.011997e-03  1.0\n",
       "15765  8.533812e-03  1.0\n",
       "16220  1.086874e-02  1.0\n",
       "23396  1.162950e-02  1.0\n",
       "24563  4.037761e-02  1.0\n",
       "13589  4.037761e-02  1.0\n",
       "17585           NaN  NaN\n",
       "27095           NaN  NaN\n",
       "\n",
       "[29096 rows x 2 columns]"
      ]
     },
     "execution_count": 307,
     "metadata": {},
     "output_type": "execute_result"
    }
   ],
   "source": [
    "influence = fitted.get_influence()\n",
    "#c is the distance and p is p-value\n",
    "x = pd.DataFrame({'c' :influence.cooks_distance[0], 'p': influence.cooks_distance[1]})\n",
    "x.sort_values('c')"
   ]
  },
  {
   "cell_type": "code",
   "execution_count": 46,
   "metadata": {},
   "outputs": [
    {
     "ename": "NameError",
     "evalue": "name 'fitted' is not defined",
     "output_type": "error",
     "traceback": [
      "\u001b[0;31m---------------------------------------------------------------------------\u001b[0m",
      "\u001b[0;31mNameError\u001b[0m                                 Traceback (most recent call last)",
      "\u001b[0;32m<ipython-input-46-740f94a3d38c>\u001b[0m in \u001b[0;36m<module>\u001b[0;34m()\u001b[0m\n\u001b[1;32m      1\u001b[0m \u001b[0;32mfrom\u001b[0m \u001b[0mstatsmodels\u001b[0m\u001b[0;34m.\u001b[0m\u001b[0mgraphics\u001b[0m\u001b[0;34m.\u001b[0m\u001b[0mregressionplots\u001b[0m \u001b[0;32mimport\u001b[0m \u001b[0;34m*\u001b[0m\u001b[0;34m\u001b[0m\u001b[0m\n\u001b[0;32m----> 2\u001b[0;31m \u001b[0mplot_leverage_resid2\u001b[0m\u001b[0;34m(\u001b[0m\u001b[0mfitted\u001b[0m\u001b[0;34m)\u001b[0m\u001b[0;34m\u001b[0m\u001b[0m\n\u001b[0m\u001b[1;32m      3\u001b[0m \u001b[0minfluence_plot\u001b[0m\u001b[0;34m(\u001b[0m\u001b[0mfitted\u001b[0m\u001b[0;34m)\u001b[0m\u001b[0;34m\u001b[0m\u001b[0m\n",
      "\u001b[0;31mNameError\u001b[0m: name 'fitted' is not defined"
     ]
    }
   ],
   "source": [
    "from statsmodels.graphics.regressionplots import *\n",
    "plot_leverage_resid2(fitted)\n",
    "influence_plot(fitted)"
   ]
  },
  {
   "cell_type": "code",
   "execution_count": 20,
   "metadata": {},
   "outputs": [
    {
     "data": {
      "text/plain": [
       "price_doc               8439.36\n",
       "full_sq                      55\n",
       "sub_area      Nagatinskij_Zaton\n",
       "kremlin_km              8.05738\n",
       "price_full              153.443\n",
       "Name: 27096, dtype: object"
      ]
     },
     "execution_count": 20,
     "metadata": {},
     "output_type": "execute_result"
    }
   ],
   "source": [
    "cols = ['price_doc','full_sq','sub_area','kremlin_km','price_full']\n",
    "df.loc[27096,cols]"
   ]
  },
  {
   "cell_type": "code",
   "execution_count": 17,
   "metadata": {},
   "outputs": [
    {
     "data": {
      "text/plain": [
       "456.50076120743444"
      ]
     },
     "execution_count": 17,
     "metadata": {},
     "output_type": "execute_result"
    }
   ],
   "source": []
  },
  {
   "cell_type": "code",
   "execution_count": null,
   "metadata": {
    "collapsed": true
   },
   "outputs": [],
   "source": []
  },
  {
   "cell_type": "code",
   "execution_count": null,
   "metadata": {
    "collapsed": true
   },
   "outputs": [],
   "source": []
  },
  {
   "cell_type": "code",
   "execution_count": null,
   "metadata": {
    "collapsed": true
   },
   "outputs": [],
   "source": []
  },
  {
   "cell_type": "code",
   "execution_count": null,
   "metadata": {
    "collapsed": true
   },
   "outputs": [],
   "source": []
  },
  {
   "cell_type": "code",
   "execution_count": 119,
   "metadata": {},
   "outputs": [
    {
     "name": "stdout",
     "output_type": "stream",
     "text": [
      "[ 0.55611992  0.57563789  0.64236933  0.60385353  0.59513042  0.59961819\n",
      "  0.57438759  0.53179857  0.6425252   0.65684506]\n"
     ]
    }
   ],
   "source": [
    "cv_scores = cross_val_score(ols, x_train, y_train, cv=10)\n",
    "print cv_scores"
   ]
  },
  {
   "cell_type": "code",
   "execution_count": 120,
   "metadata": {},
   "outputs": [
    {
     "data": {
      "text/plain": [
       "array([ 15.243526  ,  15.81082405,  15.33321917, ...,  15.11978371,\n",
       "        15.37032004,  15.75736919])"
      ]
     },
     "execution_count": 120,
     "metadata": {},
     "output_type": "execute_result"
    }
   ],
   "source": [
    "ols.predict(x_test)"
   ]
  },
  {
   "cell_type": "code",
   "execution_count": 121,
   "metadata": {},
   "outputs": [
    {
     "name": "stdout",
     "output_type": "stream",
     "text": [
      "[ 0.55611992  0.57563789  0.64236933  0.60385353  0.59513042  0.59961819\n",
      "  0.57438759  0.53179857  0.6425252   0.65684506]\n"
     ]
    }
   ],
   "source": [
    "cv_scores = cross_val_score(ols, x_train, y_train, cv=10)\n",
    "print cv_scores"
   ]
  },
  {
   "cell_type": "code",
   "execution_count": 122,
   "metadata": {
    "collapsed": true
   },
   "outputs": [],
   "source": [
    "test1 = pd.DataFrame({'price_doc': ols.predict(x_test)},index=test_index)"
   ]
  },
  {
   "cell_type": "code",
   "execution_count": 123,
   "metadata": {
    "collapsed": true
   },
   "outputs": [],
   "source": [
    "test['price_doc'] = ols.predict(x_test)"
   ]
  },
  {
   "cell_type": "code",
   "execution_count": 124,
   "metadata": {
    "collapsed": true
   },
   "outputs": [],
   "source": [
    "from sklearn.linear_model import Ridge\n",
    "from sklearn.pipeline import make_pipeline\n",
    "from sklearn.preprocessing import MinMaxScaler\n",
    "from sklearn.model_selection import GridSearchCV\n",
    "\n",
    "\n",
    "pipe  =  make_pipeline(MinMaxScaler(), Ridge())\n",
    "param_grid = {'ridge__alpha': [100,10,1,0.1,0.01,0.001,0.0001,0]}\n",
    "grid =  GridSearchCV(pipe, param_grid, cv=5)\n",
    "lm_predictions = grid.fit(x_train, y_train)"
   ]
  },
  {
   "cell_type": "code",
   "execution_count": 125,
   "metadata": {},
   "outputs": [
    {
     "name": "stdout",
     "output_type": "stream",
     "text": [
      "0.597609856336\n"
     ]
    }
   ],
   "source": [
    "# print lm_predictions.predict(x_train)\n",
    "print lm_predictions.best_score_"
   ]
  },
  {
   "cell_type": "code",
   "execution_count": null,
   "metadata": {
    "collapsed": true
   },
   "outputs": [],
   "source": [
    "from sklearn import preprocessing "
   ]
  },
  {
   "cell_type": "code",
   "execution_count": null,
   "metadata": {
    "collapsed": true
   },
   "outputs": [],
   "source": []
  },
  {
   "cell_type": "code",
   "execution_count": null,
   "metadata": {
    "collapsed": true
   },
   "outputs": [],
   "source": [
    "np.exp(log_y_test)"
   ]
  },
  {
   "cell_type": "code",
   "execution_count": 58,
   "metadata": {},
   "outputs": [
    {
     "data": {
      "text/plain": [
       "GridSearchCV(cv=5, error_score='raise',\n",
       "       estimator=Pipeline(steps=[('minmaxscaler', MinMaxScaler(copy=True, feature_range=(0, 1))), ('ridge', Ridge(alpha=1.0, copy_X=True, fit_intercept=True, max_iter=None,\n",
       "   normalize=False, random_state=None, solver='auto', tol=0.001))]),\n",
       "       fit_params={}, iid=True, n_jobs=1,\n",
       "       param_grid={'ridge__alpha': [100, 10, 1, 0.1, 0.01, 0.001, 0.0001, 0]},\n",
       "       pre_dispatch='2*n_jobs', refit=True, return_train_score=True,\n",
       "       scoring=None, verbose=0)"
      ]
     },
     "execution_count": 58,
     "metadata": {},
     "output_type": "execute_result"
    }
   ],
   "source": [
    "cols = ['timestamp','price_doc','nominal_index','adj_price_doc','price_full','log_price','price_full']\n",
    "\n",
    "pipe  =  make_pipeline(MinMaxScaler(), Ridge())\n",
    "param_grid = {'ridge__alpha': [100,10,1,0.1,0.01,0.001,0.0001,0]}\n",
    "grid =  GridSearchCV(pipe, param_grid, cv=5)\n",
    "grid.fit(x_train, y_train)"
   ]
  },
  {
   "cell_type": "code",
   "execution_count": 59,
   "metadata": {
    "collapsed": true
   },
   "outputs": [],
   "source": [
    "sub = grid.predict(x_test)"
   ]
  },
  {
   "cell_type": "code",
   "execution_count": 60,
   "metadata": {
    "collapsed": true
   },
   "outputs": [],
   "source": [
    "sub = pd.DataFrame({'id': test_index, 'price_doc':sub})"
   ]
  },
  {
   "cell_type": "code",
   "execution_count": 61,
   "metadata": {
    "collapsed": true
   },
   "outputs": [],
   "source": [
    "sub.loc[:,'nominal_index'] = df.loc[test_index,'nominal_index'].values"
   ]
  },
  {
   "cell_type": "code",
   "execution_count": 66,
   "metadata": {},
   "outputs": [
    {
     "data": {
      "text/plain": [
       "'112889900.000000'"
      ]
     },
     "execution_count": 66,
     "metadata": {},
     "output_type": "execute_result"
    }
   ],
   "source": [
    "'%f' % 1.128899e+08"
   ]
  },
  {
   "cell_type": "code",
   "execution_count": 62,
   "metadata": {
    "collapsed": true
   },
   "outputs": [],
   "source": [
    "sub.price_doc = sub.price_doc * sub.nominal_index"
   ]
  },
  {
   "cell_type": "code",
   "execution_count": 63,
   "metadata": {
    "collapsed": true
   },
   "outputs": [],
   "source": [
    "sub.loc[:,'price_doc'].to_frame().to_csv('../Chase/submissions/052617_linear_ridge_regression.csv')"
   ]
  },
  {
   "cell_type": "code",
   "execution_count": 126,
   "metadata": {},
   "outputs": [],
   "source": [
    "# sub.sort_values('price_doc')"
   ]
  },
  {
   "cell_type": "code",
   "execution_count": 127,
   "metadata": {
    "collapsed": true
   },
   "outputs": [],
   "source": [
    "# df.loc[test_index,'nominal_index']"
   ]
  },
  {
   "cell_type": "code",
   "execution_count": 128,
   "metadata": {},
   "outputs": [
    {
     "ename": "NameError",
     "evalue": "name 'sub' is not defined",
     "output_type": "error",
     "traceback": [
      "\u001b[0;31m---------------------------------------------------------------------------\u001b[0m",
      "\u001b[0;31mNameError\u001b[0m                                 Traceback (most recent call last)",
      "\u001b[0;32m<ipython-input-128-63bdb2221300>\u001b[0m in \u001b[0;36m<module>\u001b[0;34m()\u001b[0m\n\u001b[0;32m----> 1\u001b[0;31m \u001b[0msub\u001b[0m\u001b[0;34m.\u001b[0m\u001b[0mhead\u001b[0m\u001b[0;34m(\u001b[0m\u001b[0;34m)\u001b[0m\u001b[0;34m\u001b[0m\u001b[0m\n\u001b[0m",
      "\u001b[0;31mNameError\u001b[0m: name 'sub' is not defined"
     ]
    }
   ],
   "source": [
    "sub.head()"
   ]
  },
  {
   "cell_type": "code",
   "execution_count": null,
   "metadata": {
    "collapsed": true
   },
   "outputs": [],
   "source": []
  }
 ],
 "metadata": {
  "kernelspec": {
   "display_name": "Python 2",
   "language": "python",
   "name": "python2"
  },
  "language_info": {
   "codemirror_mode": {
    "name": "ipython",
    "version": 2
   },
   "file_extension": ".py",
   "mimetype": "text/x-python",
   "name": "python",
   "nbconvert_exporter": "python",
   "pygments_lexer": "ipython2",
   "version": "2.7.13"
  }
 },
 "nbformat": 4,
 "nbformat_minor": 2
}
