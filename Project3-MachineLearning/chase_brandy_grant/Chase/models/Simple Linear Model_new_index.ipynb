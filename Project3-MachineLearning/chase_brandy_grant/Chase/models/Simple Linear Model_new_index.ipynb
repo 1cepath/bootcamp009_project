{
 "cells": [
  {
   "cell_type": "code",
   "execution_count": 309,
   "metadata": {
    "collapsed": true
   },
   "outputs": [],
   "source": [
    "import pandas as pd\n",
    "from sklearn import preprocessing\n",
    "import numpy as np\n",
    "import statsmodels.formula.api as sm\n",
    "import matplotlib.pyplot as plt\n",
    "%matplotlib inline\n",
    "pd.set_option('display.max_columns', 500)\n"
   ]
  },
  {
   "cell_type": "markdown",
   "metadata": {},
   "source": [
    "### Playing around with using different columns that are complete"
   ]
  },
  {
   "cell_type": "code",
   "execution_count": 313,
   "metadata": {
    "collapsed": true
   },
   "outputs": [],
   "source": [
    "train = pd.read_csv('../data/clean_train_all_cols_chase.csv', parse_dates=['timestamp'], index_col=\"id\")  \n",
    "test = pd.read_csv('../data/clean_test_all_cols_chase.csv', parse_dates=['timestamp'], index_col=\"id\")\n",
    "locales = pd.read_csv('../data/okurg_chase.csv')\n",
    "gold = pd.read_csv('../data/gold_district.csv')\n",
    "raw = pd.read_csv('../../data/train.csv',parse_dates=['timestamp'])"
   ]
  },
  {
   "cell_type": "code",
   "execution_count": 314,
   "metadata": {
    "collapsed": true
   },
   "outputs": [],
   "source": [
    "# get the cols that in both\n",
    "tr_cols = train.columns.tolist()\n",
    "te_cols = test.columns.tolist()\n",
    "cols = set(tr_cols).intersection(te_cols)"
   ]
  },
  {
   "cell_type": "code",
   "execution_count": 315,
   "metadata": {
    "collapsed": true
   },
   "outputs": [],
   "source": [
    "# train = train[train.timestamp>'2013-01-01']"
   ]
  },
  {
   "cell_type": "code",
   "execution_count": 316,
   "metadata": {
    "collapsed": true
   },
   "outputs": [],
   "source": [
    "train_index = train.index.tolist()\n",
    "test_index = test.index.tolist()\n",
    "\n",
    "cols = ['life_sq','full_sq','floor','max_floor','kitch_sq','product_type',\n",
    "        'sub_area','kremlin_km','price_doc','timestamp']\n",
    "\n",
    "test['price_doc'] = np.nan\n",
    "\n",
    "df = pd.concat([train[cols].copy(),\n",
    "                test[cols].copy()],\n",
    "               ignore_index=False)\n",
    "\n",
    "df['month'] = df.timestamp.dt.month.astype(object)"
   ]
  },
  {
   "cell_type": "code",
   "execution_count": 317,
   "metadata": {},
   "outputs": [],
   "source": [
    "df = pd.merge(df,locales[['sub_area','okurg_district']],how=\"left\",on='sub_area').reset_index(drop=True).set_index(df.index)"
   ]
  },
  {
   "cell_type": "code",
   "execution_count": 318,
   "metadata": {},
   "outputs": [],
   "source": [
    "gold.set_index('month_year',inplace=True)"
   ]
  },
  {
   "cell_type": "code",
   "execution_count": 319,
   "metadata": {
    "collapsed": true
   },
   "outputs": [],
   "source": [
    "# gold.reset_index(inplace=True)"
   ]
  },
  {
   "cell_type": "code",
   "execution_count": 320,
   "metadata": {
    "collapsed": true
   },
   "outputs": [],
   "source": [
    "\n",
    "# gold.columns = ['period','month_year','nominal_index']\n",
    "# macro['month_year'] = pd.PeriodIndex(macro['month_year'], freq='M').strftime('%m/%y')\n",
    "df['month_year'] = pd.PeriodIndex(df['timestamp'], freq='M').strftime('%m/%y')\n",
    "\n",
    "# df = pd.merge(df,gold[['month_year','nominal_index','period']], how=\"left\", on=\"month_year\").reset_index(drop=True).set_index(df.index)"
   ]
  },
  {
   "cell_type": "code",
   "execution_count": 321,
   "metadata": {},
   "outputs": [],
   "source": [
    "gold_dict = gold.to_dict()"
   ]
  },
  {
   "cell_type": "code",
   "execution_count": 322,
   "metadata": {
    "collapsed": true
   },
   "outputs": [],
   "source": [
    "def get_index(df):\n",
    "    return gold_dict[df.okurg_district][df.month_year]"
   ]
  },
  {
   "cell_type": "code",
   "execution_count": 323,
   "metadata": {
    "collapsed": true
   },
   "outputs": [],
   "source": [
    "temp = df[['month_year','okurg_district']]"
   ]
  },
  {
   "cell_type": "code",
   "execution_count": 324,
   "metadata": {},
   "outputs": [],
   "source": [
    "# temp = df[['month_year','okurg_district']]\n",
    "\n",
    "# for row in temp.iterrows():\n",
    "#     row_id = row[0]\n",
    "#     district = row[1][1]\n",
    "#     month_year = row[1][0]\n",
    "#     temp.loc[row_id,'nominal_index'] = gold_dict[district][month_year]"
   ]
  },
  {
   "cell_type": "code",
   "execution_count": 336,
   "metadata": {},
   "outputs": [
    {
     "data": {
      "text/html": [
       "<div>\n",
       "<style>\n",
       "    .dataframe thead tr:only-child th {\n",
       "        text-align: right;\n",
       "    }\n",
       "\n",
       "    .dataframe thead th {\n",
       "        text-align: left;\n",
       "    }\n",
       "\n",
       "    .dataframe tbody tr th {\n",
       "        vertical-align: top;\n",
       "    }\n",
       "</style>\n",
       "<table border=\"1\" class=\"dataframe\">\n",
       "  <thead>\n",
       "    <tr style=\"text-align: right;\">\n",
       "      <th></th>\n",
       "      <th>eastern</th>\n",
       "      <th>northeastern</th>\n",
       "      <th>northern</th>\n",
       "      <th>northwestern</th>\n",
       "      <th>outside</th>\n",
       "      <th>southeastern</th>\n",
       "      <th>southern</th>\n",
       "      <th>southwestern</th>\n",
       "      <th>western</th>\n",
       "      <th>zelenograd</th>\n",
       "      <th>central</th>\n",
       "    </tr>\n",
       "    <tr>\n",
       "      <th>month_year</th>\n",
       "      <th></th>\n",
       "      <th></th>\n",
       "      <th></th>\n",
       "      <th></th>\n",
       "      <th></th>\n",
       "      <th></th>\n",
       "      <th></th>\n",
       "      <th></th>\n",
       "      <th></th>\n",
       "      <th></th>\n",
       "      <th></th>\n",
       "    </tr>\n",
       "  </thead>\n",
       "  <tbody>\n",
       "    <tr>\n",
       "      <th>08/11</th>\n",
       "      <td>1.000000</td>\n",
       "      <td>1.000000</td>\n",
       "      <td>1.000000</td>\n",
       "      <td>1.000000</td>\n",
       "      <td>1.000000</td>\n",
       "      <td>1.000000</td>\n",
       "      <td>1.000000</td>\n",
       "      <td>1.000000</td>\n",
       "      <td>1.000000</td>\n",
       "      <td>1.000000</td>\n",
       "      <td>1.0</td>\n",
       "    </tr>\n",
       "    <tr>\n",
       "      <th>09/11</th>\n",
       "      <td>0.987471</td>\n",
       "      <td>1.051406</td>\n",
       "      <td>1.005089</td>\n",
       "      <td>1.051406</td>\n",
       "      <td>1.051406</td>\n",
       "      <td>0.995682</td>\n",
       "      <td>1.005089</td>\n",
       "      <td>0.987471</td>\n",
       "      <td>0.947449</td>\n",
       "      <td>1.051406</td>\n",
       "      <td>1.0</td>\n",
       "    </tr>\n",
       "    <tr>\n",
       "      <th>10/11</th>\n",
       "      <td>0.999380</td>\n",
       "      <td>1.046138</td>\n",
       "      <td>1.056757</td>\n",
       "      <td>1.046138</td>\n",
       "      <td>1.046138</td>\n",
       "      <td>0.998270</td>\n",
       "      <td>1.056757</td>\n",
       "      <td>0.999380</td>\n",
       "      <td>0.935578</td>\n",
       "      <td>1.046138</td>\n",
       "      <td>1.0</td>\n",
       "    </tr>\n",
       "    <tr>\n",
       "      <th>11/11</th>\n",
       "      <td>1.064449</td>\n",
       "      <td>1.040038</td>\n",
       "      <td>1.051462</td>\n",
       "      <td>1.040038</td>\n",
       "      <td>1.040038</td>\n",
       "      <td>0.945810</td>\n",
       "      <td>1.051462</td>\n",
       "      <td>1.064449</td>\n",
       "      <td>0.946861</td>\n",
       "      <td>1.040038</td>\n",
       "      <td>1.0</td>\n",
       "    </tr>\n",
       "    <tr>\n",
       "      <th>12/11</th>\n",
       "      <td>1.052047</td>\n",
       "      <td>0.995274</td>\n",
       "      <td>1.045331</td>\n",
       "      <td>0.995274</td>\n",
       "      <td>0.995274</td>\n",
       "      <td>0.933960</td>\n",
       "      <td>1.045331</td>\n",
       "      <td>1.052047</td>\n",
       "      <td>1.008511</td>\n",
       "      <td>0.995274</td>\n",
       "      <td>1.0</td>\n",
       "    </tr>\n",
       "  </tbody>\n",
       "</table>\n",
       "</div>"
      ],
      "text/plain": [
       "             eastern  northeastern  northern  northwestern   outside  \\\n",
       "month_year                                                             \n",
       "08/11       1.000000      1.000000  1.000000      1.000000  1.000000   \n",
       "09/11       0.987471      1.051406  1.005089      1.051406  1.051406   \n",
       "10/11       0.999380      1.046138  1.056757      1.046138  1.046138   \n",
       "11/11       1.064449      1.040038  1.051462      1.040038  1.040038   \n",
       "12/11       1.052047      0.995274  1.045331      0.995274  0.995274   \n",
       "\n",
       "            southeastern  southern  southwestern   western  zelenograd  \\\n",
       "month_year                                                               \n",
       "08/11           1.000000  1.000000      1.000000  1.000000    1.000000   \n",
       "09/11           0.995682  1.005089      0.987471  0.947449    1.051406   \n",
       "10/11           0.998270  1.056757      0.999380  0.935578    1.046138   \n",
       "11/11           0.945810  1.051462      1.064449  0.946861    1.040038   \n",
       "12/11           0.933960  1.045331      1.052047  1.008511    0.995274   \n",
       "\n",
       "            central  \n",
       "month_year           \n",
       "08/11           1.0  \n",
       "09/11           1.0  \n",
       "10/11           1.0  \n",
       "11/11           1.0  \n",
       "12/11           1.0  "
      ]
     },
     "execution_count": 336,
     "metadata": {},
     "output_type": "execute_result"
    }
   ],
   "source": [
    "gold.head()"
   ]
  },
  {
   "cell_type": "code",
   "execution_count": 337,
   "metadata": {},
   "outputs": [
    {
     "data": {
      "text/plain": [
       "1.0"
      ]
     },
     "execution_count": 337,
     "metadata": {},
     "output_type": "execute_result"
    }
   ],
   "source": [
    "gold.loc['08/11','eastern']"
   ]
  },
  {
   "cell_type": "code",
   "execution_count": 338,
   "metadata": {},
   "outputs": [
    {
     "data": {
      "text/plain": [
       "Timestamp('2011-08-20 00:00:00')"
      ]
     },
     "execution_count": 338,
     "metadata": {},
     "output_type": "execute_result"
    }
   ],
   "source": [
    "df.timestamp.min()"
   ]
  },
  {
   "cell_type": "code",
   "execution_count": 341,
   "metadata": {},
   "outputs": [
    {
     "name": "stderr",
     "output_type": "stream",
     "text": [
      "/Library/Frameworks/Python.framework/Versions/2.7/lib/python2.7/site-packages/ipykernel_launcher.py:1: SettingWithCopyWarning: \n",
      "A value is trying to be set on a copy of a slice from a DataFrame.\n",
      "Try using .loc[row_indexer,col_indexer] = value instead\n",
      "\n",
      "See the caveats in the documentation: http://pandas.pydata.org/pandas-docs/stable/indexing.html#indexing-view-versus-copy\n",
      "  \"\"\"Entry point for launching an IPython kernel.\n"
     ]
    }
   ],
   "source": [
    "temp['nominal_index'] = temp.apply(lambda x:  gold.loc[x[0],x[1]], axis=1)"
   ]
  },
  {
   "cell_type": "code",
   "execution_count": 343,
   "metadata": {},
   "outputs": [],
   "source": [
    "df['nominal_index'] = temp.nominal_index"
   ]
  },
  {
   "cell_type": "code",
   "execution_count": 344,
   "metadata": {
    "collapsed": true
   },
   "outputs": [],
   "source": [
    "# rent_index = pd.read_csv('../data/rent_3room_index.csv',header=None)\n",
    "# rent_index.columns = ['month_year','nominal_index']\n",
    "# # macro['month_year'] = pd.PeriodIndex(macro['month_year'], freq='M').strftime('%m/%y')\n",
    "# df['month_year'] = pd.PeriodIndex(df['timestamp'], freq='M').strftime('%m/%y')\n",
    "\n",
    "# df = pd.merge(df,macro[['month_year','nominal_index']], how=\"left\", on=\"month_year\").reset_index(drop=True).set_index(df.index)"
   ]
  },
  {
   "cell_type": "code",
   "execution_count": 345,
   "metadata": {
    "collapsed": true
   },
   "outputs": [],
   "source": [
    "df.sub_area = df.sub_area.apply(lambda x: x.replace(\" \", \"_\"))\n",
    "df.sub_area = df.sub_area.apply(lambda x: x.replace(\"'\", \"\"))\n",
    "df.sub_area = df.sub_area.apply(lambda x: x.replace(\"-\", \"\"))"
   ]
  },
  {
   "cell_type": "code",
   "execution_count": 346,
   "metadata": {
    "collapsed": true
   },
   "outputs": [],
   "source": [
    "df['kitch_to_life'] = df.kitch_sq / df.life_sq\n",
    "df['life_to_full'] = df.life_sq / df.full_sq\n",
    "df['bld_type'] = 'med_rise'\n",
    "df.loc[df.max_floor <= 5,'bld_type'] = 'low_rise'\n",
    "df.loc[df.max_floor >= 17,'bld_type'] = 'high_rise'\n",
    "df['walk_up_penalty'] = 0\n",
    "df.loc[(df.floor>4) & (df.max_floor < 6),'walk_up_penalty'] = 1 "
   ]
  },
  {
   "cell_type": "code",
   "execution_count": 347,
   "metadata": {
    "collapsed": true
   },
   "outputs": [],
   "source": [
    "# df['price_doc'] = df.price_doc / df.nominal_index\n",
    "df['price_full'] = df.price_doc / df.full_sq\n",
    "\n",
    "## dropping outliers\n",
    "outliers = df[df.price_full < 30000].copy()\n",
    "df.drop(outliers.index,axis=0, inplace=True)\n",
    "for x in outliers.index.tolist():\n",
    "    train_index.remove(x)\n",
    "\n",
    "df['log_price'] = np.log(df.price_doc)\n",
    "df['log_price_full'] = np.log(df.price_full)\n",
    "# df['price_doc'] = df.price_doc / 1000\n"
   ]
  },
  {
   "cell_type": "code",
   "execution_count": 348,
   "metadata": {},
   "outputs": [
    {
     "data": {
      "text/plain": [
       "29096"
      ]
     },
     "execution_count": 348,
     "metadata": {},
     "output_type": "execute_result"
    }
   ],
   "source": [
    "len(train)"
   ]
  },
  {
   "cell_type": "code",
   "execution_count": 349,
   "metadata": {},
   "outputs": [
    {
     "data": {
      "text/plain": [
       "29096"
      ]
     },
     "execution_count": 349,
     "metadata": {},
     "output_type": "execute_result"
    }
   ],
   "source": [
    "len(train_index)"
   ]
  },
  {
   "cell_type": "markdown",
   "metadata": {},
   "source": [
    "### Multiple Linear Regression"
   ]
  },
  {
   "cell_type": "code",
   "execution_count": 350,
   "metadata": {},
   "outputs": [
    {
     "name": "stdout",
     "output_type": "stream",
     "text": [
      "R^2: 0.37\n"
     ]
    }
   ],
   "source": [
    "from sklearn import linear_model\n",
    "from sklearn.model_selection import KFold, cross_val_score\n",
    "\n",
    "ols = linear_model.LinearRegression()\n",
    "\n",
    "# cols to drop\n",
    "# drop_cols = ['timestamp','price_doc','nominal_index','adj_price_doc','price_full','log_price','price_full']\n",
    "cols = ['full_sq','floor','sub_area','kremlin_km','month','nominal_index']\n",
    "lm_data = df[cols].copy()\n",
    "\n",
    "df_obj = lm_data.select_dtypes(include=['object'])\n",
    "df_num = lm_data.select_dtypes(exclude=['object'])\n",
    "\n",
    "\n",
    "dummies = pd.get_dummies(df_obj)\n",
    "df_all = pd.concat([df_num,dummies],axis=1)\n",
    "\n",
    "x_train = df_all.loc[train_index]\n",
    "\n",
    "y_train = df.loc[train_index,'log_price_full']\n",
    "\n",
    "x_test = df_all.loc[test_index,:]\n",
    "\n",
    "ols.fit(x_train,y_train)\n",
    "print('R^2: %.2f' % ols.score(x_train, y_train))\n",
    "# df.log_price"
   ]
  },
  {
   "cell_type": "code",
   "execution_count": 351,
   "metadata": {
    "collapsed": true
   },
   "outputs": [],
   "source": [
    "# df.loc[test_index,'price_doc'] = ols.predict(x_test) * df.loc[test_index,'full_sq'] * df.loc[test_index,'nominal_index']\n",
    "df.loc[test_index,'price_doc'] = np.exp(ols.predict(x_test)) * df.loc[test_index,'full_sq'] #* df.loc[test_index,'nominal_index']\n",
    "# df.sort_values('price_full',ascending=False)"
   ]
  },
  {
   "cell_type": "code",
   "execution_count": 352,
   "metadata": {
    "collapsed": true
   },
   "outputs": [],
   "source": [
    "cols = ['price_doc','full_sq','price_full']\n",
    "sub = df.loc[test_index,cols]\n",
    "sub['price_full'] = sub.price_doc / sub.full_sq"
   ]
  },
  {
   "cell_type": "code",
   "execution_count": 353,
   "metadata": {},
   "outputs": [
    {
     "name": "stdout",
     "output_type": "stream",
     "text": [
      "147562.48896\n"
     ]
    },
    {
     "data": {
      "text/plain": [
       "<matplotlib.axes._subplots.AxesSubplot at 0x111ee98d0>"
      ]
     },
     "execution_count": 353,
     "metadata": {},
     "output_type": "execute_result"
    },
    {
     "data": {
      "image/png": "[encoded data removed]",
      "text/plain": [
       "<matplotlib.figure.Figure at 0x1141c10d0>"
      ]
     },
     "metadata": {},
     "output_type": "display_data"
    }
   ],
   "source": [
    "print sub.price_full.median()\n",
    "sub.price_full.hist()"
   ]
  },
  {
   "cell_type": "code",
   "execution_count": 355,
   "metadata": {
    "collapsed": true
   },
   "outputs": [],
   "source": [
    "# kaggle score 0.33776\n",
    "sub['price_doc'].to_frame().to_csv('../submissions/simple_linear_gold_0530_330PM.csv')"
   ]
  },
  {
   "cell_type": "markdown",
   "metadata": {},
   "source": [
    "## Minmax scaled"
   ]
  },
  {
   "cell_type": "code",
   "execution_count": 225,
   "metadata": {},
   "outputs": [
    {
     "name": "stdout",
     "output_type": "stream",
     "text": [
      "0.499236383113\n"
     ]
    }
   ],
   "source": [
    "from sklearn.preprocessing import MinMaxScaler\n",
    "from sklearn.model_selection import GridSearchCV\n",
    "from sklearn.pipeline import make_pipeline\n",
    "pipe  =  make_pipeline(MinMaxScaler(), linear_model.LinearRegression())\n",
    "\n",
    "\n",
    "cols = ['full_sq','floor','sub_area','kremlin_km','month']\n",
    "lm_data = df[cols].copy()\n",
    "\n",
    "df_obj = lm_data.select_dtypes(include=['object'])\n",
    "df_num = lm_data.select_dtypes(exclude=['object'])\n",
    "\n",
    "\n",
    "dummies = pd.get_dummies(df_obj)\n",
    "df_all = pd.concat([df_num,dummies],axis=1)\n",
    "\n",
    "x_train = df_all.loc[train_index]\n",
    "\n",
    "y_train = df.loc[train_index,'price_full']\n",
    "\n",
    "x_test = df_all.loc[test_index,:]\n",
    "\n",
    "param_grid = {}\n",
    "grid =  GridSearchCV(pipe, param_grid, cv=5)\n",
    "grid.fit(x_train, y_train)\n",
    "\n",
    "print grid.score(x_train,y_train)"
   ]
  },
  {
   "cell_type": "code",
   "execution_count": 226,
   "metadata": {
    "collapsed": true
   },
   "outputs": [],
   "source": [
    "df.loc[test_index,'price_doc'] = grid.predict(x_test) * df.loc[test_index,'full_sq'] * df.loc[test_index,'nominal_index']"
   ]
  },
  {
   "cell_type": "code",
   "execution_count": 227,
   "metadata": {
    "collapsed": true
   },
   "outputs": [],
   "source": [
    "cols = ['price_doc','full_sq','price_full']\n",
    "sub = df.loc[test_index,cols]\n",
    "sub['price_full'] = sub.price_doc / sub.full_sq"
   ]
  },
  {
   "cell_type": "code",
   "execution_count": 243,
   "metadata": {
    "collapsed": true
   },
   "outputs": [],
   "source": [
    "sub.loc[38110,'price_doc'] = sub.loc[38110,'full_sq'] * 75000\n",
    "sub.loc[33708,'price_doc'] = sub.loc[33708,'full_sq'] * 75000"
   ]
  },
  {
   "cell_type": "code",
   "execution_count": 244,
   "metadata": {},
   "outputs": [
    {
     "data": {
      "text/html": [
       "<div>\n",
       "<style>\n",
       "    .dataframe thead tr:only-child th {\n",
       "        text-align: right;\n",
       "    }\n",
       "\n",
       "    .dataframe thead th {\n",
       "        text-align: left;\n",
       "    }\n",
       "\n",
       "    .dataframe tbody tr th {\n",
       "        vertical-align: top;\n",
       "    }\n",
       "</style>\n",
       "<table border=\"1\" class=\"dataframe\">\n",
       "  <thead>\n",
       "    <tr style=\"text-align: right;\">\n",
       "      <th></th>\n",
       "      <th>price_doc</th>\n",
       "      <th>full_sq</th>\n",
       "      <th>price_full</th>\n",
       "    </tr>\n",
       "    <tr>\n",
       "      <th>id</th>\n",
       "      <th></th>\n",
       "      <th></th>\n",
       "      <th></th>\n",
       "    </tr>\n",
       "  </thead>\n",
       "  <tbody>\n",
       "    <tr>\n",
       "      <th>33708</th>\n",
       "      <td>3.322500e+06</td>\n",
       "      <td>44.30</td>\n",
       "      <td>-9.970153e+15</td>\n",
       "    </tr>\n",
       "    <tr>\n",
       "      <th>38110</th>\n",
       "      <td>4.342500e+06</td>\n",
       "      <td>57.90</td>\n",
       "      <td>-9.746333e+15</td>\n",
       "    </tr>\n",
       "    <tr>\n",
       "      <th>34127</th>\n",
       "      <td>3.030451e+06</td>\n",
       "      <td>69.42</td>\n",
       "      <td>4.365386e+04</td>\n",
       "    </tr>\n",
       "    <tr>\n",
       "      <th>33475</th>\n",
       "      <td>3.030451e+06</td>\n",
       "      <td>69.42</td>\n",
       "      <td>4.365386e+04</td>\n",
       "    </tr>\n",
       "    <tr>\n",
       "      <th>31944</th>\n",
       "      <td>3.183490e+06</td>\n",
       "      <td>69.42</td>\n",
       "      <td>4.585840e+04</td>\n",
       "    </tr>\n",
       "    <tr>\n",
       "      <th>35905</th>\n",
       "      <td>2.941465e+06</td>\n",
       "      <td>63.80</td>\n",
       "      <td>4.610446e+04</td>\n",
       "    </tr>\n",
       "    <tr>\n",
       "      <th>32897</th>\n",
       "      <td>3.120363e+06</td>\n",
       "      <td>67.12</td>\n",
       "      <td>4.648932e+04</td>\n",
       "    </tr>\n",
       "    <tr>\n",
       "      <th>32819</th>\n",
       "      <td>3.120363e+06</td>\n",
       "      <td>67.12</td>\n",
       "      <td>4.648932e+04</td>\n",
       "    </tr>\n",
       "    <tr>\n",
       "      <th>33571</th>\n",
       "      <td>2.382456e+06</td>\n",
       "      <td>51.20</td>\n",
       "      <td>4.653235e+04</td>\n",
       "    </tr>\n",
       "    <tr>\n",
       "      <th>35565</th>\n",
       "      <td>3.262005e+06</td>\n",
       "      <td>69.42</td>\n",
       "      <td>4.698941e+04</td>\n",
       "    </tr>\n",
       "    <tr>\n",
       "      <th>33935</th>\n",
       "      <td>2.406625e+06</td>\n",
       "      <td>51.10</td>\n",
       "      <td>4.709638e+04</td>\n",
       "    </tr>\n",
       "    <tr>\n",
       "      <th>33992</th>\n",
       "      <td>2.458513e+06</td>\n",
       "      <td>51.70</td>\n",
       "      <td>4.755343e+04</td>\n",
       "    </tr>\n",
       "    <tr>\n",
       "      <th>33625</th>\n",
       "      <td>2.458513e+06</td>\n",
       "      <td>51.70</td>\n",
       "      <td>4.755343e+04</td>\n",
       "    </tr>\n",
       "    <tr>\n",
       "      <th>30739</th>\n",
       "      <td>3.245141e+06</td>\n",
       "      <td>67.12</td>\n",
       "      <td>4.834835e+04</td>\n",
       "    </tr>\n",
       "    <tr>\n",
       "      <th>36526</th>\n",
       "      <td>3.593658e+06</td>\n",
       "      <td>74.21</td>\n",
       "      <td>4.842552e+04</td>\n",
       "    </tr>\n",
       "    <tr>\n",
       "      <th>35626</th>\n",
       "      <td>3.086144e+06</td>\n",
       "      <td>63.70</td>\n",
       "      <td>4.844810e+04</td>\n",
       "    </tr>\n",
       "    <tr>\n",
       "      <th>35114</th>\n",
       "      <td>8.277997e+06</td>\n",
       "      <td>169.30</td>\n",
       "      <td>4.889543e+04</td>\n",
       "    </tr>\n",
       "    <tr>\n",
       "      <th>32096</th>\n",
       "      <td>3.396874e+06</td>\n",
       "      <td>69.42</td>\n",
       "      <td>4.893220e+04</td>\n",
       "    </tr>\n",
       "    <tr>\n",
       "      <th>34576</th>\n",
       "      <td>3.294576e+06</td>\n",
       "      <td>67.12</td>\n",
       "      <td>4.908487e+04</td>\n",
       "    </tr>\n",
       "    <tr>\n",
       "      <th>33745</th>\n",
       "      <td>1.682866e+06</td>\n",
       "      <td>34.20</td>\n",
       "      <td>4.920662e+04</td>\n",
       "    </tr>\n",
       "    <tr>\n",
       "      <th>33568</th>\n",
       "      <td>1.656610e+06</td>\n",
       "      <td>33.60</td>\n",
       "      <td>4.930387e+04</td>\n",
       "    </tr>\n",
       "    <tr>\n",
       "      <th>33471</th>\n",
       "      <td>1.728634e+06</td>\n",
       "      <td>34.80</td>\n",
       "      <td>4.967340e+04</td>\n",
       "    </tr>\n",
       "    <tr>\n",
       "      <th>36748</th>\n",
       "      <td>8.225537e+06</td>\n",
       "      <td>165.00</td>\n",
       "      <td>4.985174e+04</td>\n",
       "    </tr>\n",
       "    <tr>\n",
       "      <th>34990</th>\n",
       "      <td>2.548746e+06</td>\n",
       "      <td>51.10</td>\n",
       "      <td>4.987762e+04</td>\n",
       "    </tr>\n",
       "    <tr>\n",
       "      <th>32589</th>\n",
       "      <td>2.558118e+06</td>\n",
       "      <td>51.10</td>\n",
       "      <td>5.006101e+04</td>\n",
       "    </tr>\n",
       "    <tr>\n",
       "      <th>33621</th>\n",
       "      <td>1.747924e+06</td>\n",
       "      <td>34.80</td>\n",
       "      <td>5.022771e+04</td>\n",
       "    </tr>\n",
       "    <tr>\n",
       "      <th>34104</th>\n",
       "      <td>1.747924e+06</td>\n",
       "      <td>34.80</td>\n",
       "      <td>5.022771e+04</td>\n",
       "    </tr>\n",
       "    <tr>\n",
       "      <th>33561</th>\n",
       "      <td>1.747924e+06</td>\n",
       "      <td>34.80</td>\n",
       "      <td>5.022771e+04</td>\n",
       "    </tr>\n",
       "    <tr>\n",
       "      <th>33856</th>\n",
       "      <td>1.720781e+06</td>\n",
       "      <td>34.20</td>\n",
       "      <td>5.031523e+04</td>\n",
       "    </tr>\n",
       "    <tr>\n",
       "      <th>35325</th>\n",
       "      <td>2.631463e+06</td>\n",
       "      <td>51.70</td>\n",
       "      <td>5.089871e+04</td>\n",
       "    </tr>\n",
       "    <tr>\n",
       "      <th>...</th>\n",
       "      <td>...</td>\n",
       "      <td>...</td>\n",
       "      <td>...</td>\n",
       "    </tr>\n",
       "    <tr>\n",
       "      <th>30664</th>\n",
       "      <td>1.504465e+07</td>\n",
       "      <td>56.30</td>\n",
       "      <td>2.672229e+05</td>\n",
       "    </tr>\n",
       "    <tr>\n",
       "      <th>35455</th>\n",
       "      <td>2.134194e+07</td>\n",
       "      <td>78.70</td>\n",
       "      <td>2.711810e+05</td>\n",
       "    </tr>\n",
       "    <tr>\n",
       "      <th>36535</th>\n",
       "      <td>2.833270e+07</td>\n",
       "      <td>103.10</td>\n",
       "      <td>2.748080e+05</td>\n",
       "    </tr>\n",
       "    <tr>\n",
       "      <th>35355</th>\n",
       "      <td>1.429334e+07</td>\n",
       "      <td>51.90</td>\n",
       "      <td>2.754015e+05</td>\n",
       "    </tr>\n",
       "    <tr>\n",
       "      <th>32001</th>\n",
       "      <td>4.335132e+07</td>\n",
       "      <td>156.53</td>\n",
       "      <td>2.769521e+05</td>\n",
       "    </tr>\n",
       "    <tr>\n",
       "      <th>37567</th>\n",
       "      <td>1.956501e+07</td>\n",
       "      <td>70.60</td>\n",
       "      <td>2.771248e+05</td>\n",
       "    </tr>\n",
       "    <tr>\n",
       "      <th>36236</th>\n",
       "      <td>2.216318e+07</td>\n",
       "      <td>79.90</td>\n",
       "      <td>2.773865e+05</td>\n",
       "    </tr>\n",
       "    <tr>\n",
       "      <th>32197</th>\n",
       "      <td>1.555183e+07</td>\n",
       "      <td>55.90</td>\n",
       "      <td>2.782081e+05</td>\n",
       "    </tr>\n",
       "    <tr>\n",
       "      <th>36825</th>\n",
       "      <td>1.747800e+07</td>\n",
       "      <td>62.80</td>\n",
       "      <td>2.783121e+05</td>\n",
       "    </tr>\n",
       "    <tr>\n",
       "      <th>37825</th>\n",
       "      <td>1.945240e+07</td>\n",
       "      <td>69.40</td>\n",
       "      <td>2.802939e+05</td>\n",
       "    </tr>\n",
       "    <tr>\n",
       "      <th>32048</th>\n",
       "      <td>1.388889e+07</td>\n",
       "      <td>49.40</td>\n",
       "      <td>2.811517e+05</td>\n",
       "    </tr>\n",
       "    <tr>\n",
       "      <th>32237</th>\n",
       "      <td>3.765156e+07</td>\n",
       "      <td>133.00</td>\n",
       "      <td>2.830944e+05</td>\n",
       "    </tr>\n",
       "    <tr>\n",
       "      <th>35034</th>\n",
       "      <td>1.385675e+07</td>\n",
       "      <td>48.70</td>\n",
       "      <td>2.845329e+05</td>\n",
       "    </tr>\n",
       "    <tr>\n",
       "      <th>32002</th>\n",
       "      <td>2.474795e+07</td>\n",
       "      <td>86.60</td>\n",
       "      <td>2.857731e+05</td>\n",
       "    </tr>\n",
       "    <tr>\n",
       "      <th>32076</th>\n",
       "      <td>2.202801e+07</td>\n",
       "      <td>76.90</td>\n",
       "      <td>2.864501e+05</td>\n",
       "    </tr>\n",
       "    <tr>\n",
       "      <th>35413</th>\n",
       "      <td>1.626094e+07</td>\n",
       "      <td>56.70</td>\n",
       "      <td>2.867890e+05</td>\n",
       "    </tr>\n",
       "    <tr>\n",
       "      <th>35012</th>\n",
       "      <td>1.752231e+07</td>\n",
       "      <td>60.90</td>\n",
       "      <td>2.877226e+05</td>\n",
       "    </tr>\n",
       "    <tr>\n",
       "      <th>32164</th>\n",
       "      <td>1.776697e+07</td>\n",
       "      <td>61.40</td>\n",
       "      <td>2.893643e+05</td>\n",
       "    </tr>\n",
       "    <tr>\n",
       "      <th>31466</th>\n",
       "      <td>4.471918e+07</td>\n",
       "      <td>154.53</td>\n",
       "      <td>2.893883e+05</td>\n",
       "    </tr>\n",
       "    <tr>\n",
       "      <th>31468</th>\n",
       "      <td>1.828139e+07</td>\n",
       "      <td>62.50</td>\n",
       "      <td>2.925022e+05</td>\n",
       "    </tr>\n",
       "    <tr>\n",
       "      <th>34373</th>\n",
       "      <td>1.315466e+07</td>\n",
       "      <td>44.90</td>\n",
       "      <td>2.929768e+05</td>\n",
       "    </tr>\n",
       "    <tr>\n",
       "      <th>31310</th>\n",
       "      <td>4.440025e+07</td>\n",
       "      <td>151.50</td>\n",
       "      <td>2.930710e+05</td>\n",
       "    </tr>\n",
       "    <tr>\n",
       "      <th>31317</th>\n",
       "      <td>2.364388e+07</td>\n",
       "      <td>78.00</td>\n",
       "      <td>3.031266e+05</td>\n",
       "    </tr>\n",
       "    <tr>\n",
       "      <th>30525</th>\n",
       "      <td>1.129817e+07</td>\n",
       "      <td>37.00</td>\n",
       "      <td>3.053558e+05</td>\n",
       "    </tr>\n",
       "    <tr>\n",
       "      <th>30913</th>\n",
       "      <td>2.247206e+07</td>\n",
       "      <td>73.10</td>\n",
       "      <td>3.074154e+05</td>\n",
       "    </tr>\n",
       "    <tr>\n",
       "      <th>31272</th>\n",
       "      <td>1.945965e+07</td>\n",
       "      <td>62.70</td>\n",
       "      <td>3.103613e+05</td>\n",
       "    </tr>\n",
       "    <tr>\n",
       "      <th>31099</th>\n",
       "      <td>2.086554e+07</td>\n",
       "      <td>66.90</td>\n",
       "      <td>3.118915e+05</td>\n",
       "    </tr>\n",
       "    <tr>\n",
       "      <th>31265</th>\n",
       "      <td>1.361528e+07</td>\n",
       "      <td>43.50</td>\n",
       "      <td>3.129949e+05</td>\n",
       "    </tr>\n",
       "    <tr>\n",
       "      <th>31949</th>\n",
       "      <td>1.256911e+07</td>\n",
       "      <td>40.00</td>\n",
       "      <td>3.142278e+05</td>\n",
       "    </tr>\n",
       "    <tr>\n",
       "      <th>30747</th>\n",
       "      <td>2.027364e+07</td>\n",
       "      <td>64.40</td>\n",
       "      <td>3.148080e+05</td>\n",
       "    </tr>\n",
       "  </tbody>\n",
       "</table>\n",
       "<p>7662 rows × 3 columns</p>\n",
       "</div>"
      ],
      "text/plain": [
       "          price_doc  full_sq    price_full\n",
       "id                                        \n",
       "33708  3.322500e+06    44.30 -9.970153e+15\n",
       "38110  4.342500e+06    57.90 -9.746333e+15\n",
       "34127  3.030451e+06    69.42  4.365386e+04\n",
       "33475  3.030451e+06    69.42  4.365386e+04\n",
       "31944  3.183490e+06    69.42  4.585840e+04\n",
       "35905  2.941465e+06    63.80  4.610446e+04\n",
       "32897  3.120363e+06    67.12  4.648932e+04\n",
       "32819  3.120363e+06    67.12  4.648932e+04\n",
       "33571  2.382456e+06    51.20  4.653235e+04\n",
       "35565  3.262005e+06    69.42  4.698941e+04\n",
       "33935  2.406625e+06    51.10  4.709638e+04\n",
       "33992  2.458513e+06    51.70  4.755343e+04\n",
       "33625  2.458513e+06    51.70  4.755343e+04\n",
       "30739  3.245141e+06    67.12  4.834835e+04\n",
       "36526  3.593658e+06    74.21  4.842552e+04\n",
       "35626  3.086144e+06    63.70  4.844810e+04\n",
       "35114  8.277997e+06   169.30  4.889543e+04\n",
       "32096  3.396874e+06    69.42  4.893220e+04\n",
       "34576  3.294576e+06    67.12  4.908487e+04\n",
       "33745  1.682866e+06    34.20  4.920662e+04\n",
       "33568  1.656610e+06    33.60  4.930387e+04\n",
       "33471  1.728634e+06    34.80  4.967340e+04\n",
       "36748  8.225537e+06   165.00  4.985174e+04\n",
       "34990  2.548746e+06    51.10  4.987762e+04\n",
       "32589  2.558118e+06    51.10  5.006101e+04\n",
       "33621  1.747924e+06    34.80  5.022771e+04\n",
       "34104  1.747924e+06    34.80  5.022771e+04\n",
       "33561  1.747924e+06    34.80  5.022771e+04\n",
       "33856  1.720781e+06    34.20  5.031523e+04\n",
       "35325  2.631463e+06    51.70  5.089871e+04\n",
       "...             ...      ...           ...\n",
       "30664  1.504465e+07    56.30  2.672229e+05\n",
       "35455  2.134194e+07    78.70  2.711810e+05\n",
       "36535  2.833270e+07   103.10  2.748080e+05\n",
       "35355  1.429334e+07    51.90  2.754015e+05\n",
       "32001  4.335132e+07   156.53  2.769521e+05\n",
       "37567  1.956501e+07    70.60  2.771248e+05\n",
       "36236  2.216318e+07    79.90  2.773865e+05\n",
       "32197  1.555183e+07    55.90  2.782081e+05\n",
       "36825  1.747800e+07    62.80  2.783121e+05\n",
       "37825  1.945240e+07    69.40  2.802939e+05\n",
       "32048  1.388889e+07    49.40  2.811517e+05\n",
       "32237  3.765156e+07   133.00  2.830944e+05\n",
       "35034  1.385675e+07    48.70  2.845329e+05\n",
       "32002  2.474795e+07    86.60  2.857731e+05\n",
       "32076  2.202801e+07    76.90  2.864501e+05\n",
       "35413  1.626094e+07    56.70  2.867890e+05\n",
       "35012  1.752231e+07    60.90  2.877226e+05\n",
       "32164  1.776697e+07    61.40  2.893643e+05\n",
       "31466  4.471918e+07   154.53  2.893883e+05\n",
       "31468  1.828139e+07    62.50  2.925022e+05\n",
       "34373  1.315466e+07    44.90  2.929768e+05\n",
       "31310  4.440025e+07   151.50  2.930710e+05\n",
       "31317  2.364388e+07    78.00  3.031266e+05\n",
       "30525  1.129817e+07    37.00  3.053558e+05\n",
       "30913  2.247206e+07    73.10  3.074154e+05\n",
       "31272  1.945965e+07    62.70  3.103613e+05\n",
       "31099  2.086554e+07    66.90  3.118915e+05\n",
       "31265  1.361528e+07    43.50  3.129949e+05\n",
       "31949  1.256911e+07    40.00  3.142278e+05\n",
       "30747  2.027364e+07    64.40  3.148080e+05\n",
       "\n",
       "[7662 rows x 3 columns]"
      ]
     },
     "execution_count": 244,
     "metadata": {},
     "output_type": "execute_result"
    }
   ],
   "source": [
    "sub.sort_values('price_full')"
   ]
  },
  {
   "cell_type": "code",
   "execution_count": 232,
   "metadata": {},
   "outputs": [
    {
     "data": {
      "text/plain": [
       "<matplotlib.axes._subplots.AxesSubplot at 0x113c24090>"
      ]
     },
     "execution_count": 232,
     "metadata": {},
     "output_type": "execute_result"
    },
    {
     "data": {
      "image/png": "[encoded data removed]",
      "text/plain": [
       "<matplotlib.figure.Figure at 0x110e24f10>"
      ]
     },
     "metadata": {},
     "output_type": "display_data"
    }
   ],
   "source": [
    "sub.price_full.hist()"
   ]
  },
  {
   "cell_type": "markdown",
   "metadata": {
    "collapsed": true
   },
   "source": [
    "## Looking at stats"
   ]
  },
  {
   "cell_type": "code",
   "execution_count": null,
   "metadata": {
    "collapsed": true
   },
   "outputs": [],
   "source": []
  },
  {
   "cell_type": "code",
   "execution_count": 93,
   "metadata": {
    "collapsed": true
   },
   "outputs": [],
   "source": [
    "cols = ['price_full','product_type','full_sq','floor','kremlin_km','sub_area','month']\n",
    "lm_data = df.loc[train_index,cols].copy()\n",
    "\n",
    "df_obj = lm_data.select_dtypes(include=['object'])\n",
    "df_num = lm_data.select_dtypes(exclude=['object'])\n",
    "\n",
    "dummies = pd.get_dummies(df_obj)\n",
    "df_all = pd.concat([df_num,dummies],axis=1)"
   ]
  },
  {
   "cell_type": "code",
   "execution_count": 94,
   "metadata": {
    "collapsed": true
   },
   "outputs": [],
   "source": [
    "all_columns = \"+\".join(df_all.columns[1:-1])"
   ]
  },
  {
   "cell_type": "code",
   "execution_count": 95,
   "metadata": {},
   "outputs": [
    {
     "name": "stdout",
     "output_type": "stream",
     "text": [
      "                            OLS Regression Results                            \n",
      "==============================================================================\n",
      "Dep. Variable:             price_full   R-squared:                       0.599\n",
      "Model:                            OLS   Adj. R-squared:                  0.597\n",
      "Method:                 Least Squares   F-statistic:                     259.1\n",
      "Date:                Sat, 27 May 2017   Prob (F-statistic):               0.00\n",
      "Time:                        18:48:17   Log-Likelihood:            -3.1863e+05\n",
      "No. Observations:               27566   AIC:                         6.376e+05\n",
      "Df Residuals:                   27407   BIC:                         6.389e+05\n",
      "Df Model:                         158                                         \n",
      "Covariance Type:            nonrobust                                         \n",
      "==========================================================================================================\n",
      "                                             coef    std err          t      P>|t|      [0.025      0.975]\n",
      "----------------------------------------------------------------------------------------------------------\n",
      "Intercept                               9.713e+04   1699.283     57.160      0.000    9.38e+04       1e+05\n",
      "full_sq                                 -110.0437      7.979    -13.792      0.000    -125.683     -94.404\n",
      "floor                                    485.4600     30.368     15.986      0.000     425.937     544.983\n",
      "kremlin_km                             -1411.9607    155.817     -9.062      0.000   -1717.369   -1106.552\n",
      "product_type_Investment                 5.416e+04    881.988     61.407      0.000    5.24e+04    5.59e+04\n",
      "product_type_OwnerOccupier              4.297e+04    911.846     47.126      0.000    4.12e+04    4.48e+04\n",
      "sub_area_Ajeroport                      1.609e+04   2734.920      5.883      0.000    1.07e+04    2.15e+04\n",
      "sub_area_Akademicheskoe                 1.983e+04   2342.095      8.466      0.000    1.52e+04    2.44e+04\n",
      "sub_area_Alekseevskoe                   1.649e+04   2994.219      5.507      0.000    1.06e+04    2.24e+04\n",
      "sub_area_Altufevskoe                   -7843.5230   3534.872     -2.219      0.027   -1.48e+04    -914.994\n",
      "sub_area_Arbat                          7.829e+04   6874.124     11.389      0.000    6.48e+04    9.18e+04\n",
      "sub_area_Babushkinskoe                  8071.0577   2525.095      3.196      0.001    3121.743     1.3e+04\n",
      "sub_area_Basmannoe                      2.612e+04   3241.540      8.057      0.000    1.98e+04    3.25e+04\n",
      "sub_area_Begovoe                        2.069e+04   3775.078      5.480      0.000    1.33e+04    2.81e+04\n",
      "sub_area_Beskudnikovskoe               -8409.2918   2258.589     -3.723      0.000   -1.28e+04   -3982.344\n",
      "sub_area_Bibirevo                      -4785.2896   1834.520     -2.608      0.009   -8381.041   -1189.539\n",
      "sub_area_Birjulevo_Vostochnoe          -2.006e+04   1749.374    -11.467      0.000   -2.35e+04   -1.66e+04\n",
      "sub_area_Birjulevo_Zapadnoe            -2.131e+04   2556.925     -8.334      0.000   -2.63e+04   -1.63e+04\n",
      "sub_area_Bogorodskoe                   -1.072e+04   1908.046     -5.618      0.000   -1.45e+04   -6979.443\n",
      "sub_area_Brateevo                      -9974.2476   2047.624     -4.871      0.000    -1.4e+04   -5960.802\n",
      "sub_area_Butyrskoe                      -803.6908   3018.721     -0.266      0.790   -6720.537    5113.156\n",
      "sub_area_Caricyno                      -4387.7434   1868.587     -2.348      0.019   -8050.268    -725.219\n",
      "sub_area_Cheremushki                    2.046e+04   2331.351      8.777      0.000    1.59e+04     2.5e+04\n",
      "sub_area_Chertanovo_Centralnoe          4140.2623   1954.145      2.119      0.034     310.039    7970.486\n",
      "sub_area_Chertanovo_Juzhnoe             2507.3659   1680.125      1.492      0.136    -785.765    5800.497\n",
      "sub_area_Chertanovo_Severnoe            1911.9668   1953.113      0.979      0.328   -1916.234    5740.167\n",
      "sub_area_Danilovskoe                    1.065e+04   2594.344      4.104      0.000    5562.942    1.57e+04\n",
      "sub_area_Dmitrovskoe                   -1.247e+04   2065.173     -6.036      0.000   -1.65e+04   -8418.005\n",
      "sub_area_Donskoe                        2.936e+04   2840.031     10.338      0.000    2.38e+04    3.49e+04\n",
      "sub_area_Dorogomilovo                   5.347e+04   3963.112     13.493      0.000    4.57e+04    6.12e+04\n",
      "sub_area_Filevskij_Park                 1.215e+04   2613.481      4.648      0.000    7024.606    1.73e+04\n",
      "sub_area_Fili_Davydkovo                 9957.5001   2537.728      3.924      0.000    4983.426    1.49e+04\n",
      "sub_area_Gagarinskoe                    3.781e+04   3258.126     11.606      0.000    3.14e+04    4.42e+04\n",
      "sub_area_Goljanovo                     -1.227e+04   1675.020     -7.323      0.000   -1.55e+04   -8982.748\n",
      "sub_area_Golovinskoe                   -6177.8014   1921.375     -3.215      0.001   -9943.794   -2411.809\n",
      "sub_area_Hamovniki                      9.274e+04   3342.188     27.749      0.000    8.62e+04    9.93e+04\n",
      "sub_area_HoroshevoMnevniki              1.046e+04   2007.202      5.211      0.000    6524.665    1.44e+04\n",
      "sub_area_Horoshevskoe                   1.838e+04   2702.815      6.802      0.000    1.31e+04    2.37e+04\n",
      "sub_area_Hovrino                        1983.0163   2067.036      0.959      0.337   -2068.478    6034.511\n",
      "sub_area_Ivanovskoe                    -1.656e+04   2018.384     -8.203      0.000   -2.05e+04   -1.26e+04\n",
      "sub_area_Izmajlovo                      -459.6721   1758.343     -0.261      0.794   -3906.113    2986.768\n",
      "sub_area_Jakimanka                      1.629e+04   3695.111      4.410      0.000    9052.101    2.35e+04\n",
      "sub_area_Jaroslavskoe                  -1.472e+04   2508.138     -5.869      0.000   -1.96e+04   -9803.460\n",
      "sub_area_Jasenevo                       6289.5586   1791.450      3.511      0.000    2778.226    9800.891\n",
      "sub_area_Juzhnoe_Butovo                -3299.4359   1832.771     -1.800      0.072   -6891.760     292.888\n",
      "sub_area_Juzhnoe_Medvedkovo             -481.7553   2472.858     -0.195      0.846   -5328.681    4365.170\n",
      "sub_area_Juzhnoe_Tushino                1425.8911   2083.153      0.684      0.494   -2657.194    5508.977\n",
      "sub_area_Juzhnoportovoe                  -83.4610   2832.764     -0.029      0.976   -5635.821    5468.899\n",
      "sub_area_Kapotnja                      -2.453e+04   3748.718     -6.545      0.000   -3.19e+04   -1.72e+04\n",
      "sub_area_Konkovo                         1.88e+04   1894.337      9.922      0.000    1.51e+04    2.25e+04\n",
      "sub_area_Koptevo                        -430.4609   2108.401     -0.204      0.838   -4563.034    3702.112\n",
      "sub_area_KosinoUhtomskoe               -1.432e+04   1844.158     -7.766      0.000   -1.79e+04   -1.07e+04\n",
      "sub_area_Kotlovka                       3267.6513   2555.807      1.279      0.201   -1741.860    8277.163\n",
      "sub_area_Krasnoselskoe                  3.401e+04   4745.412      7.168      0.000    2.47e+04    4.33e+04\n",
      "sub_area_Krjukovo                      -1733.3259   3589.619     -0.483      0.629   -8769.161    5302.509\n",
      "sub_area_Krylatskoe                     3.659e+04   2634.106     13.891      0.000    3.14e+04    4.18e+04\n",
      "sub_area_Kuncevo                        1.356e+04   2125.081      6.382      0.000    9397.207    1.77e+04\n",
      "sub_area_Kurkino                         1.57e+04   3608.481      4.352      0.000    8631.105    2.28e+04\n",
      "sub_area_Kuzminki                      -1.276e+04   1996.481     -6.391      0.000   -1.67e+04   -8846.619\n",
      "sub_area_Lefortovo                     -4175.3960   2960.073     -1.411      0.158   -9977.288    1626.497\n",
      "sub_area_Levoberezhnoe                  4693.9075   2364.912      1.985      0.047      58.560    9329.255\n",
      "sub_area_Lianozovo                      -202.1690   2489.800     -0.081      0.935   -5082.303    4677.965\n",
      "sub_area_Ljublino                      -1.237e+04   1705.983     -7.251      0.000   -1.57e+04   -9026.748\n",
      "sub_area_Lomonosovskoe                  3.694e+04   2407.361     15.344      0.000    3.22e+04    4.17e+04\n",
      "sub_area_Losinoostrovskoe              -1555.1498   2023.381     -0.769      0.442   -5521.079    2410.779\n",
      "sub_area_Marfino                       -1.035e+04   3178.496     -3.258      0.001   -1.66e+04   -4124.171\n",
      "sub_area_Marina_Roshha                  -463.7255   2998.563     -0.155      0.877   -6341.061    5413.610\n",
      "sub_area_Marino                        -7016.0767   1310.947     -5.352      0.000   -9585.598   -4446.555\n",
      "sub_area_Matushkino                     2226.1173   4371.590      0.509      0.611   -6342.421    1.08e+04\n",
      "sub_area_Meshhanskoe                     3.26e+04   3370.265      9.672      0.000     2.6e+04    3.92e+04\n",
      "sub_area_Metrogorodok                  -1.553e+04   3549.073     -4.377      0.000   -2.25e+04   -8577.783\n",
      "sub_area_Mitino                         6270.4214   1200.569      5.223      0.000    3917.246    8623.597\n",
      "sub_area_Molzhaninovskoe               -5.132e+04   2.53e+04     -2.029      0.043   -1.01e+05   -1732.127\n",
      "sub_area_MoskvorecheSaburovo            1852.2110   2764.022      0.670      0.503   -3565.411    7269.833\n",
      "sub_area_Mozhajskoe                     -877.7759   2046.327     -0.429      0.668   -4888.679    3133.128\n",
      "sub_area_NagatinoSadovniki             -1376.4461   2426.644     -0.567      0.571   -6132.790    3379.898\n",
      "sub_area_Nagatinskij_Zaton              2473.9583   1856.750      1.332      0.183   -1165.366    6113.282\n",
      "sub_area_Nagornoe                       1.747e+04   1861.031      9.389      0.000    1.38e+04    2.11e+04\n",
      "sub_area_Nekrasovka                    -3.059e+04   1154.396    -26.496      0.000   -3.28e+04   -2.83e+04\n",
      "sub_area_Nizhegorodskoe                -2.096e+04   3377.743     -6.205      0.000   -2.76e+04   -1.43e+04\n",
      "sub_area_NovoPeredelkino               -1.706e+04   2311.131     -7.381      0.000   -2.16e+04   -1.25e+04\n",
      "sub_area_Novogireevo                   -6510.2998   2031.764     -3.204      0.001   -1.05e+04   -2527.940\n",
      "sub_area_Novokosino                    -1.079e+04   2291.037     -4.711      0.000   -1.53e+04   -6303.575\n",
      "sub_area_Obruchevskoe                   2.021e+04   2163.045      9.341      0.000     1.6e+04    2.44e+04\n",
      "sub_area_OchakovoMatveevskoe            -835.3471   1849.304     -0.452      0.651   -4460.077    2789.383\n",
      "sub_area_OrehovoBorisovo_Juzhnoe       -3219.0149   1894.997     -1.699      0.089   -6933.304     495.274\n",
      "sub_area_OrehovoBorisovo_Severnoe      -1.029e+04   1905.816     -5.397      0.000    -1.4e+04   -6550.890\n",
      "sub_area_Ostankinskoe                   1.577e+04   3287.817      4.796      0.000    9324.394    2.22e+04\n",
      "sub_area_Otradnoe                      -3883.9017   1592.270     -2.439      0.015   -7004.832    -762.971\n",
      "sub_area_Pechatniki                    -1.683e+04   2184.450     -7.705      0.000   -2.11e+04   -1.25e+04\n",
      "sub_area_Perovo                         -1.42e+04   1978.411     -7.179      0.000   -1.81e+04   -1.03e+04\n",
      "sub_area_Pokrovskoe_Streshnevo          8773.1335   2101.671      4.174      0.000    4653.752    1.29e+04\n",
      "sub_area_Poselenie_Desjonovskoe        -2.607e+04   2629.669     -9.915      0.000   -3.12e+04   -2.09e+04\n",
      "sub_area_Poselenie_Filimonkovskoe      -4.086e+04   2364.446    -17.282      0.000   -4.55e+04   -3.62e+04\n",
      "sub_area_Poselenie_Kievskij             3.592e+04   1.91e+04      1.877      0.061   -1595.432    7.34e+04\n",
      "sub_area_Poselenie_Kokoshkino          -3.278e+04   6820.429     -4.806      0.000   -4.62e+04   -1.94e+04\n",
      "sub_area_Poselenie_Krasnopahorskoe     -2.983e+04   6860.665     -4.347      0.000   -4.33e+04   -1.64e+04\n",
      "sub_area_Poselenie_Marushkinskoe       -3.119e+04   1.29e+04     -2.412      0.016   -5.65e+04   -5846.480\n",
      "sub_area_Poselenie_MihajlovoJarcevskoe -2.485e+04   2.58e+04     -0.964      0.335   -7.54e+04    2.57e+04\n",
      "sub_area_Poselenie_Moskovskij          -3.344e+04   1425.514    -23.462      0.000   -3.62e+04   -3.07e+04\n",
      "sub_area_Poselenie_Mosrentgen            -3.3e+04   6530.977     -5.053      0.000   -4.58e+04   -2.02e+04\n",
      "sub_area_Poselenie_Novofedorovskoe     -1.596e+04   8624.385     -1.851      0.064   -3.29e+04     940.089\n",
      "sub_area_Poselenie_Pervomajskoe        -2.982e+04   4293.940     -6.944      0.000   -3.82e+04   -2.14e+04\n",
      "sub_area_Poselenie_Rjazanovskoe        -2.684e+04   5491.337     -4.887      0.000   -3.76e+04   -1.61e+04\n",
      "sub_area_Poselenie_Rogovskoe             8.32e+04   2.67e+04      3.121      0.002     3.1e+04    1.35e+05\n",
      "sub_area_Poselenie_Shherbinka          -3.547e+04   2307.799    -15.369      0.000      -4e+04   -3.09e+04\n",
      "sub_area_Poselenie_Sosenskoe           -3.394e+04   1242.525    -27.314      0.000   -3.64e+04   -3.15e+04\n",
      "sub_area_Poselenie_Vnukovskoe          -2.115e+04   1462.648    -14.461      0.000    -2.4e+04   -1.83e+04\n",
      "sub_area_Poselenie_Voronovskoe           869.0190    1.4e+04      0.062      0.951   -2.67e+04    2.84e+04\n",
      "sub_area_Poselenie_Voskresenskoe       -2.346e+04   1996.884    -11.748      0.000   -2.74e+04   -1.95e+04\n",
      "sub_area_Preobrazhenskoe               -1193.0912   2490.091     -0.479      0.632   -6073.795    3687.613\n",
      "sub_area_Presnenskoe                    4.904e+04   2744.057     17.870      0.000    4.37e+04    5.44e+04\n",
      "sub_area_Prospekt_Vernadskogo            3.58e+04   2805.849     12.758      0.000    3.03e+04    4.13e+04\n",
      "sub_area_Ramenki                        2.509e+04   2042.544     12.284      0.000    2.11e+04    2.91e+04\n",
      "sub_area_Rjazanskij                    -1.464e+04   2196.267     -6.667      0.000   -1.89e+04   -1.03e+04\n",
      "sub_area_Rostokino                      1684.9802   3571.954      0.472      0.637   -5316.231    8686.191\n",
      "sub_area_Savelki                        2717.9196   4259.975      0.638      0.523   -5631.847    1.11e+04\n",
      "sub_area_Savelovskoe                    6983.6081   3328.893      2.098      0.036     458.809    1.35e+04\n",
      "sub_area_Severnoe                      -1.647e+04   4731.884     -3.480      0.001   -2.57e+04   -7191.253\n",
      "sub_area_Severnoe_Butovo                5922.9176   2124.379      2.788      0.005    1759.027    1.01e+04\n",
      "sub_area_Severnoe_Izmajlovo            -7212.1414   2197.066     -3.283      0.001   -1.15e+04   -2905.780\n",
      "sub_area_Severnoe_Medvedkovo            2776.5492   2149.501      1.292      0.196   -1436.581    6989.679\n",
      "sub_area_Severnoe_Tushino               1.282e+04   1610.436      7.959      0.000    9661.584     1.6e+04\n",
      "sub_area_Shhukino                       1.868e+04   2326.894      8.027      0.000    1.41e+04    2.32e+04\n",
      "sub_area_Silino                         3064.9652   4488.314      0.683      0.495   -5732.357    1.19e+04\n",
      "sub_area_Sokol                          1.659e+04   3422.086      4.848      0.000    9882.849    2.33e+04\n",
      "sub_area_Sokolinaja_Gora               -4366.0969   2378.748     -1.835      0.066   -9028.563     296.369\n",
      "sub_area_Sokolniki                      2.922e+04   3674.285      7.952      0.000     2.2e+04    3.64e+04\n",
      "sub_area_Solncevo                      -2.532e+04   1383.431    -18.299      0.000    -2.8e+04   -2.26e+04\n",
      "sub_area_Staroe_Krjukovo                -104.9423   4516.020     -0.023      0.981   -8956.569    8746.685\n",
      "sub_area_Strogino                       2.354e+04   1592.118     14.785      0.000    2.04e+04    2.67e+04\n",
      "sub_area_Sviblovo                       9994.1773   2465.597      4.053      0.000    5161.482    1.48e+04\n",
      "sub_area_Taganskoe                      2.542e+04   2866.578      8.868      0.000    1.98e+04     3.1e+04\n",
      "sub_area_Tekstilshhiki                 -1.862e+04   1850.902    -10.058      0.000   -2.22e+04    -1.5e+04\n",
      "sub_area_Teplyj_Stan                    5762.9225   2145.086      2.687      0.007    1558.446    9967.399\n",
      "sub_area_Timirjazevskoe                -2054.4937   2524.152     -0.814      0.416   -7001.958    2892.971\n",
      "sub_area_Troickij_okrug                -1.685e+04   3996.529     -4.215      0.000   -2.47e+04   -9012.254\n",
      "sub_area_TroparevoNikulino              1.551e+04   2425.169      6.394      0.000    1.08e+04    2.03e+04\n",
      "sub_area_Tverskoe                      -4.394e+04   2615.469    -16.799      0.000   -4.91e+04   -3.88e+04\n",
      "sub_area_Veshnjaki                      -1.88e+04   1915.546     -9.813      0.000   -2.26e+04    -1.5e+04\n",
      "sub_area_Vnukovo                       -1.859e+04   4336.388     -4.287      0.000   -2.71e+04   -1.01e+04\n",
      "sub_area_Vojkovskoe                     6262.9993   2492.252      2.513      0.012    1378.059    1.11e+04\n",
      "sub_area_Vostochnoe                    -2.296e+04   9562.461     -2.401      0.016   -4.17e+04   -4215.955\n",
      "sub_area_Vostochnoe_Degunino           -1.075e+04   2514.534     -4.276      0.000   -1.57e+04   -5823.346\n",
      "sub_area_Vostochnoe_Izmajlovo          -9057.2366   2252.058     -4.022      0.000   -1.35e+04   -4643.088\n",
      "sub_area_VyhinoZhulebino               -1.126e+04   1723.363     -6.534      0.000   -1.46e+04   -7883.279\n",
      "sub_area_Zamoskvoreche                  5.571e+04   4264.756     13.063      0.000    4.73e+04    6.41e+04\n",
      "sub_area_Zapadnoe_Degunino             -3.521e+04   1382.872    -25.464      0.000   -3.79e+04   -3.25e+04\n",
      "sub_area_Zjablikovo                    -1351.0487   2424.349     -0.557      0.577   -6102.895    3400.797\n",
      "sub_area_Zjuzino                        4191.4406   1886.123      2.222      0.026     494.545    7888.336\n",
      "month_1                                 4156.3892    780.659      5.324      0.000    2626.258    5686.521\n",
      "month_2                                 3540.9819    730.399      4.848      0.000    2109.363    4972.600\n",
      "month_3                                 5609.3201    673.151      8.333      0.000    4289.909    6928.731\n",
      "month_4                                 7406.3350    661.647     11.194      0.000    6109.473    8703.197\n",
      "month_5                                 8469.9668    704.195     12.028      0.000    7089.709    9850.225\n",
      "month_6                                 6884.6232    700.592      9.827      0.000    5511.428    8257.818\n",
      "month_7                                 6929.9800    776.361      8.926      0.000    5408.273    8451.687\n",
      "month_8                                 6085.0465    780.630      7.795      0.000    4554.972    7615.121\n",
      "month_9                                 6137.6611    717.863      8.550      0.000    4730.613    7544.710\n",
      "month_10                                4581.1265    689.945      6.640      0.000    3228.799    5933.454\n",
      "month_11                                2887.6801    671.902      4.298      0.000    1570.718    4204.642\n",
      "==============================================================================\n",
      "Omnibus:                     7432.564   Durbin-Watson:                   1.962\n",
      "Prob(Omnibus):                  0.000   Jarque-Bera (JB):           195179.468\n",
      "Skew:                           0.718   Prob(JB):                         0.00\n",
      "Kurtosis:                      15.956   Cond. No.                     2.41e+15\n",
      "==============================================================================\n",
      "\n",
      "Warnings:\n",
      "[1] Standard Errors assume that the covariance matrix of the errors is correctly specified.\n",
      "[2] The smallest eigenvalue is 1.7e-23. This might indicate that there are\n",
      "strong multicollinearity problems or that the design matrix is singular.\n"
     ]
    }
   ],
   "source": [
    "model = sm.ols(formula ='price_full ~ ' + all_columns, data = df_all)\n",
    "fitted = model.fit()\n",
    "print fitted.summary()"
   ]
  },
  {
   "cell_type": "code",
   "execution_count": 25,
   "metadata": {},
   "outputs": [
    {
     "data": {
      "text/plain": [
       "<matplotlib.text.Text at 0x10b4532d0>"
      ]
     },
     "execution_count": 25,
     "metadata": {},
     "output_type": "execute_result"
    },
    {
     "data": {
      "image/png": "[encoded data removed]",
      "text/plain": [
       "<matplotlib.figure.Figure at 0x10c456090>"
      ]
     },
     "metadata": {},
     "output_type": "display_data"
    }
   ],
   "source": [
    "plt.hist(fitted.resid)\n",
    "plt.ylabel('Count')\n",
    "plt.xlabel('Normalized residuals')"
   ]
  },
  {
   "cell_type": "code",
   "execution_count": 26,
   "metadata": {},
   "outputs": [
    {
     "name": "stderr",
     "output_type": "stream",
     "text": [
      "/Library/Frameworks/Python.framework/Versions/2.7/lib/python2.7/site-packages/statsmodels/stats/outliers_influence.py:309: RuntimeWarning: invalid value encountered in sqrt\n",
      "  return  self.results.resid / sigma / np.sqrt(1 - hii)\n",
      "/Library/Frameworks/Python.framework/Versions/2.7/lib/python2.7/site-packages/scipy/stats/_distn_infrastructure.py:879: RuntimeWarning: invalid value encountered in greater\n",
      "  return (self.a < x) & (x < self.b)\n",
      "/Library/Frameworks/Python.framework/Versions/2.7/lib/python2.7/site-packages/scipy/stats/_distn_infrastructure.py:879: RuntimeWarning: invalid value encountered in less\n",
      "  return (self.a < x) & (x < self.b)\n",
      "/Library/Frameworks/Python.framework/Versions/2.7/lib/python2.7/site-packages/scipy/stats/_distn_infrastructure.py:1818: RuntimeWarning: invalid value encountered in less_equal\n",
      "  cond2 = cond0 & (x <= self.a)\n"
     ]
    },
    {
     "data": {
      "text/html": [
       "<div>\n",
       "<style>\n",
       "    .dataframe thead tr:only-child th {\n",
       "        text-align: right;\n",
       "    }\n",
       "\n",
       "    .dataframe thead th {\n",
       "        text-align: left;\n",
       "    }\n",
       "\n",
       "    .dataframe tbody tr th {\n",
       "        vertical-align: top;\n",
       "    }\n",
       "</style>\n",
       "<table border=\"1\" class=\"dataframe\">\n",
       "  <thead>\n",
       "    <tr style=\"text-align: right;\">\n",
       "      <th></th>\n",
       "      <th>c</th>\n",
       "      <th>p</th>\n",
       "    </tr>\n",
       "  </thead>\n",
       "  <tbody>\n",
       "    <tr>\n",
       "      <th>27074</th>\n",
       "      <td>6.755241e-16</td>\n",
       "      <td>1.000000e+00</td>\n",
       "    </tr>\n",
       "    <tr>\n",
       "      <th>19202</th>\n",
       "      <td>1.010253e-13</td>\n",
       "      <td>1.000000e+00</td>\n",
       "    </tr>\n",
       "    <tr>\n",
       "      <th>28939</th>\n",
       "      <td>3.003961e-13</td>\n",
       "      <td>1.000000e+00</td>\n",
       "    </tr>\n",
       "    <tr>\n",
       "      <th>28055</th>\n",
       "      <td>6.280352e-13</td>\n",
       "      <td>1.000000e+00</td>\n",
       "    </tr>\n",
       "    <tr>\n",
       "      <th>22834</th>\n",
       "      <td>1.004671e-12</td>\n",
       "      <td>1.000000e+00</td>\n",
       "    </tr>\n",
       "    <tr>\n",
       "      <th>3763</th>\n",
       "      <td>1.196070e-12</td>\n",
       "      <td>1.000000e+00</td>\n",
       "    </tr>\n",
       "    <tr>\n",
       "      <th>2446</th>\n",
       "      <td>1.314402e-12</td>\n",
       "      <td>1.000000e+00</td>\n",
       "    </tr>\n",
       "    <tr>\n",
       "      <th>28637</th>\n",
       "      <td>1.369680e-12</td>\n",
       "      <td>1.000000e+00</td>\n",
       "    </tr>\n",
       "    <tr>\n",
       "      <th>23538</th>\n",
       "      <td>1.856176e-12</td>\n",
       "      <td>1.000000e+00</td>\n",
       "    </tr>\n",
       "    <tr>\n",
       "      <th>5537</th>\n",
       "      <td>2.159125e-12</td>\n",
       "      <td>1.000000e+00</td>\n",
       "    </tr>\n",
       "    <tr>\n",
       "      <th>16907</th>\n",
       "      <td>2.369591e-12</td>\n",
       "      <td>1.000000e+00</td>\n",
       "    </tr>\n",
       "    <tr>\n",
       "      <th>22856</th>\n",
       "      <td>2.501109e-12</td>\n",
       "      <td>1.000000e+00</td>\n",
       "    </tr>\n",
       "    <tr>\n",
       "      <th>3757</th>\n",
       "      <td>3.252212e-12</td>\n",
       "      <td>1.000000e+00</td>\n",
       "    </tr>\n",
       "    <tr>\n",
       "      <th>10976</th>\n",
       "      <td>3.399781e-12</td>\n",
       "      <td>1.000000e+00</td>\n",
       "    </tr>\n",
       "    <tr>\n",
       "      <th>27986</th>\n",
       "      <td>3.755455e-12</td>\n",
       "      <td>1.000000e+00</td>\n",
       "    </tr>\n",
       "    <tr>\n",
       "      <th>17254</th>\n",
       "      <td>3.948952e-12</td>\n",
       "      <td>1.000000e+00</td>\n",
       "    </tr>\n",
       "    <tr>\n",
       "      <th>3780</th>\n",
       "      <td>4.350600e-12</td>\n",
       "      <td>1.000000e+00</td>\n",
       "    </tr>\n",
       "    <tr>\n",
       "      <th>14283</th>\n",
       "      <td>4.531615e-12</td>\n",
       "      <td>1.000000e+00</td>\n",
       "    </tr>\n",
       "    <tr>\n",
       "      <th>25731</th>\n",
       "      <td>5.032099e-12</td>\n",
       "      <td>1.000000e+00</td>\n",
       "    </tr>\n",
       "    <tr>\n",
       "      <th>7668</th>\n",
       "      <td>5.356963e-12</td>\n",
       "      <td>1.000000e+00</td>\n",
       "    </tr>\n",
       "    <tr>\n",
       "      <th>3801</th>\n",
       "      <td>5.801307e-12</td>\n",
       "      <td>1.000000e+00</td>\n",
       "    </tr>\n",
       "    <tr>\n",
       "      <th>9974</th>\n",
       "      <td>5.907072e-12</td>\n",
       "      <td>1.000000e+00</td>\n",
       "    </tr>\n",
       "    <tr>\n",
       "      <th>15029</th>\n",
       "      <td>8.719024e-12</td>\n",
       "      <td>1.000000e+00</td>\n",
       "    </tr>\n",
       "    <tr>\n",
       "      <th>14925</th>\n",
       "      <td>9.132743e-12</td>\n",
       "      <td>1.000000e+00</td>\n",
       "    </tr>\n",
       "    <tr>\n",
       "      <th>11265</th>\n",
       "      <td>9.388876e-12</td>\n",
       "      <td>1.000000e+00</td>\n",
       "    </tr>\n",
       "    <tr>\n",
       "      <th>21916</th>\n",
       "      <td>1.060123e-11</td>\n",
       "      <td>1.000000e+00</td>\n",
       "    </tr>\n",
       "    <tr>\n",
       "      <th>16352</th>\n",
       "      <td>1.114694e-11</td>\n",
       "      <td>1.000000e+00</td>\n",
       "    </tr>\n",
       "    <tr>\n",
       "      <th>2006</th>\n",
       "      <td>1.173485e-11</td>\n",
       "      <td>1.000000e+00</td>\n",
       "    </tr>\n",
       "    <tr>\n",
       "      <th>25558</th>\n",
       "      <td>1.197315e-11</td>\n",
       "      <td>1.000000e+00</td>\n",
       "    </tr>\n",
       "    <tr>\n",
       "      <th>9029</th>\n",
       "      <td>1.217851e-11</td>\n",
       "      <td>1.000000e+00</td>\n",
       "    </tr>\n",
       "    <tr>\n",
       "      <th>...</th>\n",
       "      <td>...</td>\n",
       "      <td>...</td>\n",
       "    </tr>\n",
       "    <tr>\n",
       "      <th>11930</th>\n",
       "      <td>2.254104e-03</td>\n",
       "      <td>1.000000e+00</td>\n",
       "    </tr>\n",
       "    <tr>\n",
       "      <th>22887</th>\n",
       "      <td>2.436858e-03</td>\n",
       "      <td>1.000000e+00</td>\n",
       "    </tr>\n",
       "    <tr>\n",
       "      <th>5816</th>\n",
       "      <td>2.532028e-03</td>\n",
       "      <td>1.000000e+00</td>\n",
       "    </tr>\n",
       "    <tr>\n",
       "      <th>26146</th>\n",
       "      <td>2.719843e-03</td>\n",
       "      <td>1.000000e+00</td>\n",
       "    </tr>\n",
       "    <tr>\n",
       "      <th>21843</th>\n",
       "      <td>2.780361e-03</td>\n",
       "      <td>1.000000e+00</td>\n",
       "    </tr>\n",
       "    <tr>\n",
       "      <th>19383</th>\n",
       "      <td>2.836882e-03</td>\n",
       "      <td>1.000000e+00</td>\n",
       "    </tr>\n",
       "    <tr>\n",
       "      <th>6901</th>\n",
       "      <td>2.857453e-03</td>\n",
       "      <td>1.000000e+00</td>\n",
       "    </tr>\n",
       "    <tr>\n",
       "      <th>9644</th>\n",
       "      <td>2.905694e-03</td>\n",
       "      <td>1.000000e+00</td>\n",
       "    </tr>\n",
       "    <tr>\n",
       "      <th>16525</th>\n",
       "      <td>3.091566e-03</td>\n",
       "      <td>1.000000e+00</td>\n",
       "    </tr>\n",
       "    <tr>\n",
       "      <th>22866</th>\n",
       "      <td>3.110231e-03</td>\n",
       "      <td>1.000000e+00</td>\n",
       "    </tr>\n",
       "    <tr>\n",
       "      <th>8951</th>\n",
       "      <td>3.226420e-03</td>\n",
       "      <td>1.000000e+00</td>\n",
       "    </tr>\n",
       "    <tr>\n",
       "      <th>23619</th>\n",
       "      <td>3.236379e-03</td>\n",
       "      <td>1.000000e+00</td>\n",
       "    </tr>\n",
       "    <tr>\n",
       "      <th>16565</th>\n",
       "      <td>3.239662e-03</td>\n",
       "      <td>1.000000e+00</td>\n",
       "    </tr>\n",
       "    <tr>\n",
       "      <th>15656</th>\n",
       "      <td>3.375871e-03</td>\n",
       "      <td>1.000000e+00</td>\n",
       "    </tr>\n",
       "    <tr>\n",
       "      <th>1668</th>\n",
       "      <td>3.386267e-03</td>\n",
       "      <td>1.000000e+00</td>\n",
       "    </tr>\n",
       "    <tr>\n",
       "      <th>3060</th>\n",
       "      <td>3.505284e-03</td>\n",
       "      <td>1.000000e+00</td>\n",
       "    </tr>\n",
       "    <tr>\n",
       "      <th>15196</th>\n",
       "      <td>3.572799e-03</td>\n",
       "      <td>1.000000e+00</td>\n",
       "    </tr>\n",
       "    <tr>\n",
       "      <th>18271</th>\n",
       "      <td>3.813949e-03</td>\n",
       "      <td>1.000000e+00</td>\n",
       "    </tr>\n",
       "    <tr>\n",
       "      <th>17191</th>\n",
       "      <td>4.095418e-03</td>\n",
       "      <td>1.000000e+00</td>\n",
       "    </tr>\n",
       "    <tr>\n",
       "      <th>21620</th>\n",
       "      <td>5.322809e-03</td>\n",
       "      <td>1.000000e+00</td>\n",
       "    </tr>\n",
       "    <tr>\n",
       "      <th>3185</th>\n",
       "      <td>6.309723e-03</td>\n",
       "      <td>1.000000e+00</td>\n",
       "    </tr>\n",
       "    <tr>\n",
       "      <th>2155</th>\n",
       "      <td>6.860440e-03</td>\n",
       "      <td>1.000000e+00</td>\n",
       "    </tr>\n",
       "    <tr>\n",
       "      <th>10377</th>\n",
       "      <td>7.423746e-03</td>\n",
       "      <td>1.000000e+00</td>\n",
       "    </tr>\n",
       "    <tr>\n",
       "      <th>15765</th>\n",
       "      <td>8.396634e-03</td>\n",
       "      <td>1.000000e+00</td>\n",
       "    </tr>\n",
       "    <tr>\n",
       "      <th>16220</th>\n",
       "      <td>1.053514e-02</td>\n",
       "      <td>1.000000e+00</td>\n",
       "    </tr>\n",
       "    <tr>\n",
       "      <th>23396</th>\n",
       "      <td>1.163334e-02</td>\n",
       "      <td>1.000000e+00</td>\n",
       "    </tr>\n",
       "    <tr>\n",
       "      <th>24563</th>\n",
       "      <td>2.627436e-02</td>\n",
       "      <td>1.000000e+00</td>\n",
       "    </tr>\n",
       "    <tr>\n",
       "      <th>13589</th>\n",
       "      <td>2.627436e-02</td>\n",
       "      <td>1.000000e+00</td>\n",
       "    </tr>\n",
       "    <tr>\n",
       "      <th>17585</th>\n",
       "      <td>5.082535e+00</td>\n",
       "      <td>5.561972e-87</td>\n",
       "    </tr>\n",
       "    <tr>\n",
       "      <th>27095</th>\n",
       "      <td>NaN</td>\n",
       "      <td>NaN</td>\n",
       "    </tr>\n",
       "  </tbody>\n",
       "</table>\n",
       "<p>29096 rows × 2 columns</p>\n",
       "</div>"
      ],
      "text/plain": [
       "                  c             p\n",
       "27074  6.755241e-16  1.000000e+00\n",
       "19202  1.010253e-13  1.000000e+00\n",
       "28939  3.003961e-13  1.000000e+00\n",
       "28055  6.280352e-13  1.000000e+00\n",
       "22834  1.004671e-12  1.000000e+00\n",
       "3763   1.196070e-12  1.000000e+00\n",
       "2446   1.314402e-12  1.000000e+00\n",
       "28637  1.369680e-12  1.000000e+00\n",
       "23538  1.856176e-12  1.000000e+00\n",
       "5537   2.159125e-12  1.000000e+00\n",
       "16907  2.369591e-12  1.000000e+00\n",
       "22856  2.501109e-12  1.000000e+00\n",
       "3757   3.252212e-12  1.000000e+00\n",
       "10976  3.399781e-12  1.000000e+00\n",
       "27986  3.755455e-12  1.000000e+00\n",
       "17254  3.948952e-12  1.000000e+00\n",
       "3780   4.350600e-12  1.000000e+00\n",
       "14283  4.531615e-12  1.000000e+00\n",
       "25731  5.032099e-12  1.000000e+00\n",
       "7668   5.356963e-12  1.000000e+00\n",
       "3801   5.801307e-12  1.000000e+00\n",
       "9974   5.907072e-12  1.000000e+00\n",
       "15029  8.719024e-12  1.000000e+00\n",
       "14925  9.132743e-12  1.000000e+00\n",
       "11265  9.388876e-12  1.000000e+00\n",
       "21916  1.060123e-11  1.000000e+00\n",
       "16352  1.114694e-11  1.000000e+00\n",
       "2006   1.173485e-11  1.000000e+00\n",
       "25558  1.197315e-11  1.000000e+00\n",
       "9029   1.217851e-11  1.000000e+00\n",
       "...             ...           ...\n",
       "11930  2.254104e-03  1.000000e+00\n",
       "22887  2.436858e-03  1.000000e+00\n",
       "5816   2.532028e-03  1.000000e+00\n",
       "26146  2.719843e-03  1.000000e+00\n",
       "21843  2.780361e-03  1.000000e+00\n",
       "19383  2.836882e-03  1.000000e+00\n",
       "6901   2.857453e-03  1.000000e+00\n",
       "9644   2.905694e-03  1.000000e+00\n",
       "16525  3.091566e-03  1.000000e+00\n",
       "22866  3.110231e-03  1.000000e+00\n",
       "8951   3.226420e-03  1.000000e+00\n",
       "23619  3.236379e-03  1.000000e+00\n",
       "16565  3.239662e-03  1.000000e+00\n",
       "15656  3.375871e-03  1.000000e+00\n",
       "1668   3.386267e-03  1.000000e+00\n",
       "3060   3.505284e-03  1.000000e+00\n",
       "15196  3.572799e-03  1.000000e+00\n",
       "18271  3.813949e-03  1.000000e+00\n",
       "17191  4.095418e-03  1.000000e+00\n",
       "21620  5.322809e-03  1.000000e+00\n",
       "3185   6.309723e-03  1.000000e+00\n",
       "2155   6.860440e-03  1.000000e+00\n",
       "10377  7.423746e-03  1.000000e+00\n",
       "15765  8.396634e-03  1.000000e+00\n",
       "16220  1.053514e-02  1.000000e+00\n",
       "23396  1.163334e-02  1.000000e+00\n",
       "24563  2.627436e-02  1.000000e+00\n",
       "13589  2.627436e-02  1.000000e+00\n",
       "17585  5.082535e+00  5.561972e-87\n",
       "27095           NaN           NaN\n",
       "\n",
       "[29096 rows x 2 columns]"
      ]
     },
     "execution_count": 26,
     "metadata": {},
     "output_type": "execute_result"
    }
   ],
   "source": [
    "influence = fitted.get_influence()\n",
    "#c is the distance and p is p-value\n",
    "x = pd.DataFrame({'c' :influence.cooks_distance[0], 'p': influence.cooks_distance[1]})\n",
    "x.sort_values('c')"
   ]
  },
  {
   "cell_type": "code",
   "execution_count": null,
   "metadata": {
    "collapsed": true
   },
   "outputs": [],
   "source": [
    "from statsmodels.graphics.regressionplots import *\n",
    "plot_leverage_resid2(fitted)\n",
    "influence_plot(fitted)"
   ]
  },
  {
   "cell_type": "code",
   "execution_count": 20,
   "metadata": {},
   "outputs": [
    {
     "data": {
      "text/plain": [
       "price_doc               8439.36\n",
       "full_sq                      55\n",
       "sub_area      Nagatinskij_Zaton\n",
       "kremlin_km              8.05738\n",
       "price_full              153.443\n",
       "Name: 27096, dtype: object"
      ]
     },
     "execution_count": 20,
     "metadata": {},
     "output_type": "execute_result"
    }
   ],
   "source": [
    "cols = ['price_doc','full_sq','sub_area','kremlin_km','price_full']\n",
    "df.loc[27096,cols]"
   ]
  },
  {
   "cell_type": "code",
   "execution_count": 17,
   "metadata": {},
   "outputs": [
    {
     "data": {
      "text/plain": [
       "456.50076120743444"
      ]
     },
     "execution_count": 17,
     "metadata": {},
     "output_type": "execute_result"
    }
   ],
   "source": []
  },
  {
   "cell_type": "code",
   "execution_count": null,
   "metadata": {
    "collapsed": true
   },
   "outputs": [],
   "source": []
  },
  {
   "cell_type": "code",
   "execution_count": null,
   "metadata": {
    "collapsed": true
   },
   "outputs": [],
   "source": []
  },
  {
   "cell_type": "code",
   "execution_count": null,
   "metadata": {
    "collapsed": true
   },
   "outputs": [],
   "source": []
  },
  {
   "cell_type": "code",
   "execution_count": null,
   "metadata": {
    "collapsed": true
   },
   "outputs": [],
   "source": []
  },
  {
   "cell_type": "code",
   "execution_count": 53,
   "metadata": {},
   "outputs": [
    {
     "name": "stdout",
     "output_type": "stream",
     "text": [
      "[ 0.42788215  0.55501799  0.5988087   0.5554951   0.54050592  0.55748369\n",
      "  0.55827505  0.61427153  0.57239928  0.61094148]\n"
     ]
    }
   ],
   "source": [
    "cv_scores = cross_val_score(ols, x_train, y_train, cv=10)\n",
    "print cv_scores"
   ]
  },
  {
   "cell_type": "code",
   "execution_count": 54,
   "metadata": {},
   "outputs": [
    {
     "data": {
      "text/plain": [
       "array([ 15.26927389,  15.76154285,  15.32017376, ...,  15.15358656,\n",
       "        15.2948478 ,  15.72791287])"
      ]
     },
     "execution_count": 54,
     "metadata": {},
     "output_type": "execute_result"
    }
   ],
   "source": [
    "ols.predict(x_test)"
   ]
  },
  {
   "cell_type": "code",
   "execution_count": 55,
   "metadata": {},
   "outputs": [
    {
     "name": "stdout",
     "output_type": "stream",
     "text": [
      "[ 0.42788215  0.55501799  0.5988087   0.5554951   0.54050592  0.55748369\n",
      "  0.55827505  0.61427153  0.57239928  0.61094148]\n"
     ]
    }
   ],
   "source": [
    "cv_scores = cross_val_score(ols, x_train, y_train, cv=10)\n",
    "print cv_scores"
   ]
  },
  {
   "cell_type": "code",
   "execution_count": 47,
   "metadata": {
    "collapsed": true
   },
   "outputs": [],
   "source": [
    "test1 = pd.DataFrame({'price_doc': ols.predict(x_test)},index=test_index)"
   ]
  },
  {
   "cell_type": "code",
   "execution_count": 48,
   "metadata": {
    "collapsed": true
   },
   "outputs": [],
   "source": [
    "test['price_doc'] = ols.predict(x_test)"
   ]
  },
  {
   "cell_type": "code",
   "execution_count": 56,
   "metadata": {
    "collapsed": true
   },
   "outputs": [],
   "source": [
    "from sklearn.linear_model import Ridge\n",
    "from sklearn.pipeline import make_pipeline\n",
    "from sklearn.preprocessing import MinMaxScaler\n",
    "from sklearn.model_selection import GridSearchCV\n",
    "\n",
    "\n",
    "pipe  =  make_pipeline(MinMaxScaler(), Ridge())\n",
    "param_grid = {'ridge__alpha': [100,10,1,0.1,0.01,0.001,0.0001,0]}\n",
    "grid =  GridSearchCV(pipe, param_grid, cv=5)\n",
    "lm_predictions = grid.fit(x_train, y_train)"
   ]
  },
  {
   "cell_type": "code",
   "execution_count": 57,
   "metadata": {},
   "outputs": [
    {
     "name": "stdout",
     "output_type": "stream",
     "text": [
      "0.55986024025\n"
     ]
    }
   ],
   "source": [
    "# print lm_predictions.predict(x_train)\n",
    "print lm_predictions.best_score_"
   ]
  },
  {
   "cell_type": "code",
   "execution_count": null,
   "metadata": {
    "collapsed": true
   },
   "outputs": [],
   "source": [
    "from sklearn import preprocessing "
   ]
  },
  {
   "cell_type": "code",
   "execution_count": null,
   "metadata": {
    "collapsed": true
   },
   "outputs": [],
   "source": []
  },
  {
   "cell_type": "code",
   "execution_count": null,
   "metadata": {
    "collapsed": true
   },
   "outputs": [],
   "source": [
    "np.exp(log_y_test)"
   ]
  },
  {
   "cell_type": "code",
   "execution_count": 58,
   "metadata": {},
   "outputs": [
    {
     "data": {
      "text/plain": [
       "GridSearchCV(cv=5, error_score='raise',\n",
       "       estimator=Pipeline(steps=[('minmaxscaler', MinMaxScaler(copy=True, feature_range=(0, 1))), ('ridge', Ridge(alpha=1.0, copy_X=True, fit_intercept=True, max_iter=None,\n",
       "   normalize=False, random_state=None, solver='auto', tol=0.001))]),\n",
       "       fit_params={}, iid=True, n_jobs=1,\n",
       "       param_grid={'ridge__alpha': [100, 10, 1, 0.1, 0.01, 0.001, 0.0001, 0]},\n",
       "       pre_dispatch='2*n_jobs', refit=True, return_train_score=True,\n",
       "       scoring=None, verbose=0)"
      ]
     },
     "execution_count": 58,
     "metadata": {},
     "output_type": "execute_result"
    }
   ],
   "source": [
    "cols = ['timestamp','price_doc','nominal_index','adj_price_doc','price_full','log_price','price_full']\n",
    "\n",
    "pipe  =  make_pipeline(MinMaxScaler(), Ridge())\n",
    "param_grid = {'ridge__alpha': [100,10,1,0.1,0.01,0.001,0.0001,0]}\n",
    "grid =  GridSearchCV(pipe, param_grid, cv=5)\n",
    "grid.fit(x_train, y_train)"
   ]
  },
  {
   "cell_type": "code",
   "execution_count": 59,
   "metadata": {
    "collapsed": true
   },
   "outputs": [],
   "source": [
    "sub = grid.predict(x_test)"
   ]
  },
  {
   "cell_type": "code",
   "execution_count": 60,
   "metadata": {
    "collapsed": true
   },
   "outputs": [],
   "source": [
    "sub = pd.DataFrame({'id': test_index, 'price_doc':sub})"
   ]
  },
  {
   "cell_type": "code",
   "execution_count": 61,
   "metadata": {
    "collapsed": true
   },
   "outputs": [],
   "source": [
    "sub.loc[:,'nominal_index'] = df.loc[test_index,'nominal_index'].values"
   ]
  },
  {
   "cell_type": "code",
   "execution_count": 66,
   "metadata": {},
   "outputs": [
    {
     "data": {
      "text/plain": [
       "'112889900.000000'"
      ]
     },
     "execution_count": 66,
     "metadata": {},
     "output_type": "execute_result"
    }
   ],
   "source": [
    "'%f' % 1.128899e+08"
   ]
  },
  {
   "cell_type": "code",
   "execution_count": 62,
   "metadata": {
    "collapsed": true
   },
   "outputs": [],
   "source": [
    "sub.price_doc = sub.price_doc * sub.nominal_index"
   ]
  },
  {
   "cell_type": "code",
   "execution_count": 63,
   "metadata": {
    "collapsed": true
   },
   "outputs": [],
   "source": [
    "sub.loc[:,'price_doc'].to_frame().to_csv('../Chase/submissions/052617_linear_ridge_regression.csv')"
   ]
  },
  {
   "cell_type": "code",
   "execution_count": 64,
   "metadata": {},
   "outputs": [
    {
     "data": {
      "text/html": [
       "<div>\n",
       "<style>\n",
       "    .dataframe thead tr:only-child th {\n",
       "        text-align: right;\n",
       "    }\n",
       "\n",
       "    .dataframe thead th {\n",
       "        text-align: left;\n",
       "    }\n",
       "\n",
       "    .dataframe tbody tr th {\n",
       "        vertical-align: top;\n",
       "    }\n",
       "</style>\n",
       "<table border=\"1\" class=\"dataframe\">\n",
       "  <thead>\n",
       "    <tr style=\"text-align: right;\">\n",
       "      <th></th>\n",
       "      <th>id</th>\n",
       "      <th>price_doc</th>\n",
       "      <th>nominal_index</th>\n",
       "    </tr>\n",
       "  </thead>\n",
       "  <tbody>\n",
       "    <tr>\n",
       "      <th>6938</th>\n",
       "      <td>37412</td>\n",
       "      <td>16.722780</td>\n",
       "      <td>1.162486</td>\n",
       "    </tr>\n",
       "    <tr>\n",
       "      <th>7654</th>\n",
       "      <td>38128</td>\n",
       "      <td>16.795930</td>\n",
       "      <td>1.162486</td>\n",
       "    </tr>\n",
       "    <tr>\n",
       "      <th>5143</th>\n",
       "      <td>35617</td>\n",
       "      <td>16.865221</td>\n",
       "      <td>1.173957</td>\n",
       "    </tr>\n",
       "    <tr>\n",
       "      <th>6092</th>\n",
       "      <td>36566</td>\n",
       "      <td>16.874353</td>\n",
       "      <td>1.173957</td>\n",
       "    </tr>\n",
       "    <tr>\n",
       "      <th>5422</th>\n",
       "      <td>35896</td>\n",
       "      <td>16.875906</td>\n",
       "      <td>1.173957</td>\n",
       "    </tr>\n",
       "    <tr>\n",
       "      <th>4552</th>\n",
       "      <td>35026</td>\n",
       "      <td>16.875906</td>\n",
       "      <td>1.173957</td>\n",
       "    </tr>\n",
       "    <tr>\n",
       "      <th>5166</th>\n",
       "      <td>35640</td>\n",
       "      <td>16.875906</td>\n",
       "      <td>1.173957</td>\n",
       "    </tr>\n",
       "    <tr>\n",
       "      <th>4112</th>\n",
       "      <td>34586</td>\n",
       "      <td>16.877455</td>\n",
       "      <td>1.173957</td>\n",
       "    </tr>\n",
       "    <tr>\n",
       "      <th>5638</th>\n",
       "      <td>36112</td>\n",
       "      <td>16.879989</td>\n",
       "      <td>1.173957</td>\n",
       "    </tr>\n",
       "    <tr>\n",
       "      <th>4617</th>\n",
       "      <td>35091</td>\n",
       "      <td>16.887796</td>\n",
       "      <td>1.173957</td>\n",
       "    </tr>\n",
       "    <tr>\n",
       "      <th>4697</th>\n",
       "      <td>35171</td>\n",
       "      <td>16.911206</td>\n",
       "      <td>1.173957</td>\n",
       "    </tr>\n",
       "    <tr>\n",
       "      <th>5751</th>\n",
       "      <td>36225</td>\n",
       "      <td>16.957039</td>\n",
       "      <td>1.173957</td>\n",
       "    </tr>\n",
       "    <tr>\n",
       "      <th>4042</th>\n",
       "      <td>34516</td>\n",
       "      <td>16.988215</td>\n",
       "      <td>1.173957</td>\n",
       "    </tr>\n",
       "    <tr>\n",
       "      <th>5651</th>\n",
       "      <td>36125</td>\n",
       "      <td>17.042997</td>\n",
       "      <td>1.173957</td>\n",
       "    </tr>\n",
       "    <tr>\n",
       "      <th>7085</th>\n",
       "      <td>37559</td>\n",
       "      <td>17.061701</td>\n",
       "      <td>1.162486</td>\n",
       "    </tr>\n",
       "    <tr>\n",
       "      <th>4852</th>\n",
       "      <td>35326</td>\n",
       "      <td>17.062022</td>\n",
       "      <td>1.173957</td>\n",
       "    </tr>\n",
       "    <tr>\n",
       "      <th>7526</th>\n",
       "      <td>38000</td>\n",
       "      <td>17.067083</td>\n",
       "      <td>1.162486</td>\n",
       "    </tr>\n",
       "    <tr>\n",
       "      <th>7318</th>\n",
       "      <td>37792</td>\n",
       "      <td>17.069329</td>\n",
       "      <td>1.162486</td>\n",
       "    </tr>\n",
       "    <tr>\n",
       "      <th>7468</th>\n",
       "      <td>37942</td>\n",
       "      <td>17.131200</td>\n",
       "      <td>1.162486</td>\n",
       "    </tr>\n",
       "    <tr>\n",
       "      <th>2911</th>\n",
       "      <td>33385</td>\n",
       "      <td>17.131981</td>\n",
       "      <td>1.194126</td>\n",
       "    </tr>\n",
       "    <tr>\n",
       "      <th>6942</th>\n",
       "      <td>37416</td>\n",
       "      <td>17.138135</td>\n",
       "      <td>1.162486</td>\n",
       "    </tr>\n",
       "    <tr>\n",
       "      <th>3094</th>\n",
       "      <td>33568</td>\n",
       "      <td>17.144261</td>\n",
       "      <td>1.194126</td>\n",
       "    </tr>\n",
       "    <tr>\n",
       "      <th>5867</th>\n",
       "      <td>36341</td>\n",
       "      <td>17.147322</td>\n",
       "      <td>1.173957</td>\n",
       "    </tr>\n",
       "    <tr>\n",
       "      <th>2320</th>\n",
       "      <td>32794</td>\n",
       "      <td>17.154779</td>\n",
       "      <td>1.194126</td>\n",
       "    </tr>\n",
       "    <tr>\n",
       "      <th>4851</th>\n",
       "      <td>35325</td>\n",
       "      <td>17.154889</td>\n",
       "      <td>1.173957</td>\n",
       "    </tr>\n",
       "    <tr>\n",
       "      <th>3271</th>\n",
       "      <td>33745</td>\n",
       "      <td>17.165836</td>\n",
       "      <td>1.194126</td>\n",
       "    </tr>\n",
       "    <tr>\n",
       "      <th>1947</th>\n",
       "      <td>32421</td>\n",
       "      <td>17.165838</td>\n",
       "      <td>1.194126</td>\n",
       "    </tr>\n",
       "    <tr>\n",
       "      <th>4516</th>\n",
       "      <td>34990</td>\n",
       "      <td>17.167156</td>\n",
       "      <td>1.173957</td>\n",
       "    </tr>\n",
       "    <tr>\n",
       "      <th>1538</th>\n",
       "      <td>32012</td>\n",
       "      <td>17.167415</td>\n",
       "      <td>1.194126</td>\n",
       "    </tr>\n",
       "    <tr>\n",
       "      <th>1658</th>\n",
       "      <td>32132</td>\n",
       "      <td>17.168994</td>\n",
       "      <td>1.194126</td>\n",
       "    </tr>\n",
       "    <tr>\n",
       "      <th>...</th>\n",
       "      <td>...</td>\n",
       "      <td>...</td>\n",
       "      <td>...</td>\n",
       "    </tr>\n",
       "    <tr>\n",
       "      <th>1780</th>\n",
       "      <td>32254</td>\n",
       "      <td>20.347228</td>\n",
       "      <td>1.194126</td>\n",
       "    </tr>\n",
       "    <tr>\n",
       "      <th>174</th>\n",
       "      <td>30648</td>\n",
       "      <td>20.375927</td>\n",
       "      <td>1.214295</td>\n",
       "    </tr>\n",
       "    <tr>\n",
       "      <th>1385</th>\n",
       "      <td>31859</td>\n",
       "      <td>20.378740</td>\n",
       "      <td>1.214295</td>\n",
       "    </tr>\n",
       "    <tr>\n",
       "      <th>1039</th>\n",
       "      <td>31513</td>\n",
       "      <td>20.392890</td>\n",
       "      <td>1.214295</td>\n",
       "    </tr>\n",
       "    <tr>\n",
       "      <th>1148</th>\n",
       "      <td>31622</td>\n",
       "      <td>20.419493</td>\n",
       "      <td>1.214295</td>\n",
       "    </tr>\n",
       "    <tr>\n",
       "      <th>2659</th>\n",
       "      <td>33133</td>\n",
       "      <td>20.427074</td>\n",
       "      <td>1.194126</td>\n",
       "    </tr>\n",
       "    <tr>\n",
       "      <th>216</th>\n",
       "      <td>30690</td>\n",
       "      <td>20.455450</td>\n",
       "      <td>1.214295</td>\n",
       "    </tr>\n",
       "    <tr>\n",
       "      <th>910</th>\n",
       "      <td>31384</td>\n",
       "      <td>20.469155</td>\n",
       "      <td>1.214295</td>\n",
       "    </tr>\n",
       "    <tr>\n",
       "      <th>1737</th>\n",
       "      <td>32211</td>\n",
       "      <td>20.531033</td>\n",
       "      <td>1.194126</td>\n",
       "    </tr>\n",
       "    <tr>\n",
       "      <th>2265</th>\n",
       "      <td>32739</td>\n",
       "      <td>20.611443</td>\n",
       "      <td>1.194126</td>\n",
       "    </tr>\n",
       "    <tr>\n",
       "      <th>905</th>\n",
       "      <td>31379</td>\n",
       "      <td>20.654308</td>\n",
       "      <td>1.214295</td>\n",
       "    </tr>\n",
       "    <tr>\n",
       "      <th>484</th>\n",
       "      <td>30958</td>\n",
       "      <td>20.688419</td>\n",
       "      <td>1.214295</td>\n",
       "    </tr>\n",
       "    <tr>\n",
       "      <th>1763</th>\n",
       "      <td>32237</td>\n",
       "      <td>20.727001</td>\n",
       "      <td>1.194126</td>\n",
       "    </tr>\n",
       "    <tr>\n",
       "      <th>1467</th>\n",
       "      <td>31941</td>\n",
       "      <td>20.742698</td>\n",
       "      <td>1.214295</td>\n",
       "    </tr>\n",
       "    <tr>\n",
       "      <th>950</th>\n",
       "      <td>31424</td>\n",
       "      <td>20.781847</td>\n",
       "      <td>1.214295</td>\n",
       "    </tr>\n",
       "    <tr>\n",
       "      <th>2649</th>\n",
       "      <td>33123</td>\n",
       "      <td>20.782861</td>\n",
       "      <td>1.194126</td>\n",
       "    </tr>\n",
       "    <tr>\n",
       "      <th>1569</th>\n",
       "      <td>32043</td>\n",
       "      <td>20.902349</td>\n",
       "      <td>1.194126</td>\n",
       "    </tr>\n",
       "    <tr>\n",
       "      <th>2365</th>\n",
       "      <td>32839</td>\n",
       "      <td>20.922755</td>\n",
       "      <td>1.194126</td>\n",
       "    </tr>\n",
       "    <tr>\n",
       "      <th>6559</th>\n",
       "      <td>37033</td>\n",
       "      <td>20.970929</td>\n",
       "      <td>1.173957</td>\n",
       "    </tr>\n",
       "    <tr>\n",
       "      <th>1088</th>\n",
       "      <td>31562</td>\n",
       "      <td>20.982963</td>\n",
       "      <td>1.214295</td>\n",
       "    </tr>\n",
       "    <tr>\n",
       "      <th>4990</th>\n",
       "      <td>35464</td>\n",
       "      <td>21.022479</td>\n",
       "      <td>1.173957</td>\n",
       "    </tr>\n",
       "    <tr>\n",
       "      <th>5975</th>\n",
       "      <td>36449</td>\n",
       "      <td>21.047286</td>\n",
       "      <td>1.173957</td>\n",
       "    </tr>\n",
       "    <tr>\n",
       "      <th>1671</th>\n",
       "      <td>32145</td>\n",
       "      <td>21.128344</td>\n",
       "      <td>1.194126</td>\n",
       "    </tr>\n",
       "    <tr>\n",
       "      <th>1722</th>\n",
       "      <td>32196</td>\n",
       "      <td>21.129048</td>\n",
       "      <td>1.194126</td>\n",
       "    </tr>\n",
       "    <tr>\n",
       "      <th>1527</th>\n",
       "      <td>32001</td>\n",
       "      <td>21.222425</td>\n",
       "      <td>1.194126</td>\n",
       "    </tr>\n",
       "    <tr>\n",
       "      <th>992</th>\n",
       "      <td>31466</td>\n",
       "      <td>21.322528</td>\n",
       "      <td>1.214295</td>\n",
       "    </tr>\n",
       "    <tr>\n",
       "      <th>836</th>\n",
       "      <td>31310</td>\n",
       "      <td>21.455155</td>\n",
       "      <td>1.214295</td>\n",
       "    </tr>\n",
       "    <tr>\n",
       "      <th>2467</th>\n",
       "      <td>32941</td>\n",
       "      <td>22.130290</td>\n",
       "      <td>1.194126</td>\n",
       "    </tr>\n",
       "    <tr>\n",
       "      <th>4196</th>\n",
       "      <td>34670</td>\n",
       "      <td>22.371742</td>\n",
       "      <td>1.173957</td>\n",
       "    </tr>\n",
       "    <tr>\n",
       "      <th>7212</th>\n",
       "      <td>37686</td>\n",
       "      <td>22.528478</td>\n",
       "      <td>1.162486</td>\n",
       "    </tr>\n",
       "  </tbody>\n",
       "</table>\n",
       "<p>7662 rows × 3 columns</p>\n",
       "</div>"
      ],
      "text/plain": [
       "         id  price_doc  nominal_index\n",
       "6938  37412  16.722780       1.162486\n",
       "7654  38128  16.795930       1.162486\n",
       "5143  35617  16.865221       1.173957\n",
       "6092  36566  16.874353       1.173957\n",
       "5422  35896  16.875906       1.173957\n",
       "4552  35026  16.875906       1.173957\n",
       "5166  35640  16.875906       1.173957\n",
       "4112  34586  16.877455       1.173957\n",
       "5638  36112  16.879989       1.173957\n",
       "4617  35091  16.887796       1.173957\n",
       "4697  35171  16.911206       1.173957\n",
       "5751  36225  16.957039       1.173957\n",
       "4042  34516  16.988215       1.173957\n",
       "5651  36125  17.042997       1.173957\n",
       "7085  37559  17.061701       1.162486\n",
       "4852  35326  17.062022       1.173957\n",
       "7526  38000  17.067083       1.162486\n",
       "7318  37792  17.069329       1.162486\n",
       "7468  37942  17.131200       1.162486\n",
       "2911  33385  17.131981       1.194126\n",
       "6942  37416  17.138135       1.162486\n",
       "3094  33568  17.144261       1.194126\n",
       "5867  36341  17.147322       1.173957\n",
       "2320  32794  17.154779       1.194126\n",
       "4851  35325  17.154889       1.173957\n",
       "3271  33745  17.165836       1.194126\n",
       "1947  32421  17.165838       1.194126\n",
       "4516  34990  17.167156       1.173957\n",
       "1538  32012  17.167415       1.194126\n",
       "1658  32132  17.168994       1.194126\n",
       "...     ...        ...            ...\n",
       "1780  32254  20.347228       1.194126\n",
       "174   30648  20.375927       1.214295\n",
       "1385  31859  20.378740       1.214295\n",
       "1039  31513  20.392890       1.214295\n",
       "1148  31622  20.419493       1.214295\n",
       "2659  33133  20.427074       1.194126\n",
       "216   30690  20.455450       1.214295\n",
       "910   31384  20.469155       1.214295\n",
       "1737  32211  20.531033       1.194126\n",
       "2265  32739  20.611443       1.194126\n",
       "905   31379  20.654308       1.214295\n",
       "484   30958  20.688419       1.214295\n",
       "1763  32237  20.727001       1.194126\n",
       "1467  31941  20.742698       1.214295\n",
       "950   31424  20.781847       1.214295\n",
       "2649  33123  20.782861       1.194126\n",
       "1569  32043  20.902349       1.194126\n",
       "2365  32839  20.922755       1.194126\n",
       "6559  37033  20.970929       1.173957\n",
       "1088  31562  20.982963       1.214295\n",
       "4990  35464  21.022479       1.173957\n",
       "5975  36449  21.047286       1.173957\n",
       "1671  32145  21.128344       1.194126\n",
       "1722  32196  21.129048       1.194126\n",
       "1527  32001  21.222425       1.194126\n",
       "992   31466  21.322528       1.214295\n",
       "836   31310  21.455155       1.214295\n",
       "2467  32941  22.130290       1.194126\n",
       "4196  34670  22.371742       1.173957\n",
       "7212  37686  22.528478       1.162486\n",
       "\n",
       "[7662 rows x 3 columns]"
      ]
     },
     "execution_count": 64,
     "metadata": {},
     "output_type": "execute_result"
    }
   ],
   "source": [
    "sub.sort_values('price_doc')"
   ]
  },
  {
   "cell_type": "code",
   "execution_count": 237,
   "metadata": {
    "collapsed": true
   },
   "outputs": [],
   "source": [
    "# df.loc[test_index,'nominal_index']"
   ]
  },
  {
   "cell_type": "code",
   "execution_count": 247,
   "metadata": {},
   "outputs": [
    {
     "data": {
      "text/html": [
       "<div>\n",
       "<style>\n",
       "    .dataframe thead tr:only-child th {\n",
       "        text-align: right;\n",
       "    }\n",
       "\n",
       "    .dataframe thead th {\n",
       "        text-align: left;\n",
       "    }\n",
       "\n",
       "    .dataframe tbody tr th {\n",
       "        vertical-align: top;\n",
       "    }\n",
       "</style>\n",
       "<table border=\"1\" class=\"dataframe\">\n",
       "  <thead>\n",
       "    <tr style=\"text-align: right;\">\n",
       "      <th></th>\n",
       "      <th>id</th>\n",
       "      <th>price_doc</th>\n",
       "      <th>nominal_index</th>\n",
       "    </tr>\n",
       "  </thead>\n",
       "  <tbody>\n",
       "    <tr>\n",
       "      <th>0</th>\n",
       "      <td>30474</td>\n",
       "      <td>4.176246e+06</td>\n",
       "      <td>1.214295</td>\n",
       "    </tr>\n",
       "    <tr>\n",
       "      <th>1</th>\n",
       "      <td>30475</td>\n",
       "      <td>9.594552e+06</td>\n",
       "      <td>1.214295</td>\n",
       "    </tr>\n",
       "    <tr>\n",
       "      <th>2</th>\n",
       "      <td>30476</td>\n",
       "      <td>5.235794e+06</td>\n",
       "      <td>1.214295</td>\n",
       "    </tr>\n",
       "    <tr>\n",
       "      <th>3</th>\n",
       "      <td>30477</td>\n",
       "      <td>9.846788e+06</td>\n",
       "      <td>1.214295</td>\n",
       "    </tr>\n",
       "    <tr>\n",
       "      <th>4</th>\n",
       "      <td>30478</td>\n",
       "      <td>2.628036e+06</td>\n",
       "      <td>1.214295</td>\n",
       "    </tr>\n",
       "  </tbody>\n",
       "</table>\n",
       "</div>"
      ],
      "text/plain": [
       "      id     price_doc  nominal_index\n",
       "0  30474  4.176246e+06       1.214295\n",
       "1  30475  9.594552e+06       1.214295\n",
       "2  30476  5.235794e+06       1.214295\n",
       "3  30477  9.846788e+06       1.214295\n",
       "4  30478  2.628036e+06       1.214295"
      ]
     },
     "execution_count": 247,
     "metadata": {},
     "output_type": "execute_result"
    }
   ],
   "source": [
    "sub.head()"
   ]
  },
  {
   "cell_type": "code",
   "execution_count": null,
   "metadata": {
    "collapsed": true
   },
   "outputs": [],
   "source": []
  }
 ],
 "metadata": {
  "kernelspec": {
   "display_name": "Python 2",
   "language": "python",
   "name": "python2"
  },
  "language_info": {
   "codemirror_mode": {
    "name": "ipython",
    "version": 2
   },
   "file_extension": ".py",
   "mimetype": "text/x-python",
   "name": "python",
   "nbconvert_exporter": "python",
   "pygments_lexer": "ipython2",
   "version": "2.7.13"
  }
 },
 "nbformat": 4,
 "nbformat_minor": 2
}
