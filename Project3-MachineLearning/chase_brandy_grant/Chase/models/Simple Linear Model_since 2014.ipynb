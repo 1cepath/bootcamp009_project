{
 "cells": [
  {
   "cell_type": "code",
   "execution_count": 2,
   "metadata": {
    "collapsed": true
   },
   "outputs": [],
   "source": [
    "import pandas as pd\n",
    "from sklearn import preprocessing\n",
    "import numpy as np\n",
    "import statsmodels.formula.api as sm\n",
    "import matplotlib.pyplot as plt\n",
    "%matplotlib inline\n",
    "pd.set_option('display.max_columns', 500)\n"
   ]
  },
  {
   "cell_type": "markdown",
   "metadata": {},
   "source": [
    "### Playing around with using different columns that are complete"
   ]
  },
  {
   "cell_type": "code",
   "execution_count": 3,
   "metadata": {
    "collapsed": true
   },
   "outputs": [],
   "source": [
    "train = pd.read_csv('../data/clean_train_all_cols_chase.csv', parse_dates=['timestamp'], index_col=\"id\")  \n",
    "test = pd.read_csv('../data/clean_test_all_cols_chase.csv', parse_dates=['timestamp'], index_col=\"id\")"
   ]
  },
  {
   "cell_type": "code",
   "execution_count": 4,
   "metadata": {
    "collapsed": true
   },
   "outputs": [],
   "source": [
    "# get the cols that in both\n",
    "tr_cols = train.columns.tolist()\n",
    "te_cols = test.columns.tolist()\n",
    "cols = set(tr_cols).intersection(te_cols)"
   ]
  },
  {
   "cell_type": "code",
   "execution_count": 5,
   "metadata": {
    "collapsed": true
   },
   "outputs": [],
   "source": [
    "train_index = train.index.tolist()\n",
    "test_index = test.index.tolist()\n",
    "\n",
    "cols = ['life_sq','full_sq','floor','max_floor','kitch_sq','product_type',\n",
    "        'sub_area','kremlin_km','price_doc','timestamp']\n",
    "\n",
    "test['price_doc'] = np.nan\n",
    "\n",
    "df = pd.concat([train[cols].copy(),\n",
    "                test[cols].copy()],\n",
    "               ignore_index=False)\n",
    "\n",
    "\n",
    "\n",
    "locales = pd.read_csv('../data/okurg_chase.csv')\n",
    "indices = pd.read_csv('../data/district_indices.csv')\n",
    "macro = pd.read_csv('../data/macro_chase.csv', parse_dates=[0])\n",
    "\n",
    "\n",
    "macro['quarter'] = pd.PeriodIndex(macro['Unnamed: 0'], freq='Q').strftime('Q%q-%y')\n",
    "df['month'] = df.timestamp.dt.month.astype(object)\n",
    "df['quarter'] = pd.PeriodIndex(df['timestamp'], freq='Q').strftime('Q%q-%y')\n",
    "\n",
    "df = pd.merge(df,locales[['sub_area','okurg_district']],\n",
    "              how=\"left\", on=\"sub_area\").reset_index(drop=True).set_index(df.index)\n",
    "\n",
    "df = pd.merge(df,macro[['quarter','nominal_index']],\n",
    "              how=\"left\", on=\"quarter\").reset_index(drop=True).set_index(df.index)\n",
    "\n",
    "\n",
    "\n",
    "# indices['month_year'] = pd.PeriodIndex(indices['date'], freq='M').strftime('%m/%y')\n",
    "# df['month_year'] = pd.PeriodIndex(df['timestamp'], freq='M').strftime('%m/%y')\n",
    "# indices.columns = ['id', 'okurg_district', 'month_year', 'price', 'date', 'nominal_index']"
   ]
  },
  {
   "cell_type": "code",
   "execution_count": null,
   "metadata": {
    "collapsed": true
   },
   "outputs": [],
   "source": []
  },
  {
   "cell_type": "code",
   "execution_count": 6,
   "metadata": {
    "collapsed": true
   },
   "outputs": [],
   "source": [
    "df.sub_area = df.sub_area.apply(lambda x: x.replace(\" \", \"_\"))\n",
    "df.sub_area = df.sub_area.apply(lambda x: x.replace(\"'\", \"\"))\n",
    "df.sub_area = df.sub_area.apply(lambda x: x.replace(\"-\", \"\"))"
   ]
  },
  {
   "cell_type": "code",
   "execution_count": 7,
   "metadata": {
    "collapsed": true
   },
   "outputs": [],
   "source": [
    "df['kitch_to_life'] = df.kitch_sq / df.life_sq\n",
    "df['life_to_full'] = df.life_sq / df.full_sq\n",
    "# df['bld_type'] = 'med_rise'\n",
    "# df.loc[df.max_floor <= 5,'bld_type'] = 'low_rise'\n",
    "# df.loc[df.max_floor >= 17,'bld_type'] = 'high_rise'\n",
    "df['walk_up_penalty'] = 0\n",
    "df.loc[(df.floor>4) & (df.max_floor < 6),'walk_up_penalty'] = 1 "
   ]
  },
  {
   "cell_type": "code",
   "execution_count": 8,
   "metadata": {
    "collapsed": true
   },
   "outputs": [],
   "source": [
    "df['price_doc'] = df.price_doc / df.nominal_index\n",
    "df['price_full'] = df.price_doc / df.full_sq\n",
    "df['log_price'] = np.log(df.price_doc)\n",
    "# df['price_doc'] = df.price_doc / 1000\n"
   ]
  },
  {
   "cell_type": "markdown",
   "metadata": {},
   "source": [
    "### Multiple Linear Regression"
   ]
  },
  {
   "cell_type": "code",
   "execution_count": 9,
   "metadata": {},
   "outputs": [
    {
     "name": "stdout",
     "output_type": "stream",
     "text": [
      "(36758, 19)\n",
      "(18538, 19)\n"
     ]
    }
   ],
   "source": [
    "print df.shape\n",
    "recent_df = df[(df.timestamp>'2014-06-02')].copy()\n",
    "print recent_df.shape\n",
    "train_index = recent_df[~recent_df.price_doc.isnull()].index.tolist()"
   ]
  },
  {
   "cell_type": "code",
   "execution_count": 14,
   "metadata": {},
   "outputs": [
    {
     "name": "stdout",
     "output_type": "stream",
     "text": [
      "R^2: 0.62\n"
     ]
    }
   ],
   "source": [
    "from sklearn import linear_model\n",
    "from sklearn.model_selection import KFold, cross_val_score\n",
    "\n",
    "ols = linear_model.LinearRegression()\n",
    "\n",
    "# cols to drop\n",
    "# drop_cols = ['timestamp','price_doc','nominal_index','adj_price_doc','price_full','log_price','price_full']\n",
    "cols = ['full_sq','floor','sub_area','kremlin_km','month','product_type']\n",
    "lm_data = recent_df[cols]\n",
    "\n",
    "df_obj = lm_data.select_dtypes(include=['object'])\n",
    "df_num = lm_data.select_dtypes(exclude=['object'])\n",
    "\n",
    "\n",
    "dummies = pd.get_dummies(df_obj)\n",
    "df_all = pd.concat([df_num,dummies],axis=1)\n",
    "\n",
    "x_train = df_all.loc[train_index,:]\n",
    "\n",
    "y_train = recent_df.loc[train_index,'log_price']\n",
    "\n",
    "x_test = df_all.loc[test_index,:]\n",
    "\n",
    "ols.fit(x_train,y_train)\n",
    "print('R^2: %.2f' % ols.score(x_train, y_train))\n",
    "# df.log_price"
   ]
  },
  {
   "cell_type": "code",
   "execution_count": 17,
   "metadata": {},
   "outputs": [],
   "source": [
    "df.loc[test_index,'price_doc'] = np.exp(ols.predict(x_test)) * df.loc[test_index,'nominal_index']\n",
    "df['price_full'] = df.price_doc / df.full_sq\n",
    "df.loc[df.price_full > 500000,'price_doc'] = df.loc[df.price_full > 500000,'full_sq'] * 500000\n",
    "df['price_full'] = df.price_doc / df.full_sq"
   ]
  },
  {
   "cell_type": "code",
   "execution_count": 18,
   "metadata": {
    "collapsed": true
   },
   "outputs": [],
   "source": [
    "cols = ['price_doc','full_sq','price_full']\n",
    "sub = df.loc[test_index,cols]"
   ]
  },
  {
   "cell_type": "code",
   "execution_count": 19,
   "metadata": {},
   "outputs": [
    {
     "data": {
      "text/plain": [
       "<matplotlib.axes._subplots.AxesSubplot at 0x10a00d650>"
      ]
     },
     "execution_count": 19,
     "metadata": {},
     "output_type": "execute_result"
    },
    {
     "data": {
      "image/png": "[encoded data removed]",
      "text/plain": [
       "<matplotlib.figure.Figure at 0x1044019d0>"
      ]
     },
     "metadata": {},
     "output_type": "display_data"
    }
   ],
   "source": []
  },
  {
   "cell_type": "code",
   "execution_count": 21,
   "metadata": {},
   "outputs": [],
   "source": [
    "# 0.34331\n",
    "sub['price_doc'].to_frame().to_csv('../submissions/simple_linear_lfy.csv')"
   ]
  },
  {
   "cell_type": "markdown",
   "metadata": {
    "collapsed": true
   },
   "source": [
    "## Looking at stats"
   ]
  },
  {
   "cell_type": "code",
   "execution_count": 22,
   "metadata": {},
   "outputs": [
    {
     "data": {
      "text/plain": [
       "Timestamp('2011-08-20 00:00:00')"
      ]
     },
     "execution_count": 22,
     "metadata": {},
     "output_type": "execute_result"
    }
   ],
   "source": []
  },
  {
   "cell_type": "code",
   "execution_count": 84,
   "metadata": {
    "collapsed": true
   },
   "outputs": [],
   "source": [
    "cols = ['price_full','product_type','full_sq','floor','kremlin_km','sub_area','month']\n",
    "lm_data = df.loc[train_index,cols].copy()\n",
    "\n",
    "df_obj = lm_data.select_dtypes(include=['object'])\n",
    "df_num = lm_data.select_dtypes(exclude=['object'])\n",
    "\n",
    "dummies = pd.get_dummies(df_obj)\n",
    "df_all = pd.concat([df_num,dummies],axis=1)"
   ]
  },
  {
   "cell_type": "code",
   "execution_count": 85,
   "metadata": {
    "collapsed": true
   },
   "outputs": [],
   "source": [
    "all_columns = \"+\".join(df_all.columns[1:-1])"
   ]
  },
  {
   "cell_type": "code",
   "execution_count": 86,
   "metadata": {},
   "outputs": [
    {
     "name": "stdout",
     "output_type": "stream",
     "text": [
      "                            OLS Regression Results                            \n",
      "==============================================================================\n",
      "Dep. Variable:             price_full   R-squared:                       0.504\n",
      "Model:                            OLS   Adj. R-squared:                  0.496\n",
      "Method:                 Least Squares   F-statistic:                     69.30\n",
      "Date:                Sun, 28 May 2017   Prob (F-statistic):               0.00\n",
      "Time:                        13:25:38   Log-Likelihood:            -1.2784e+05\n",
      "No. Observations:               10876   AIC:                         2.560e+05\n",
      "Df Residuals:                   10718   BIC:                         2.571e+05\n",
      "Df Model:                         157                                         \n",
      "Covariance Type:            nonrobust                                         \n",
      "======================================================================================================\n",
      "                                         coef    std err          t      P>|t|      [0.025      0.975]\n",
      "------------------------------------------------------------------------------------------------------\n",
      "Intercept                           1.045e+05   3000.884     34.807      0.000    9.86e+04     1.1e+05\n",
      "full_sq                              -68.2834     15.175     -4.500      0.000     -98.028     -38.539\n",
      "floor                                543.4207     60.322      9.009      0.000     425.179     661.662\n",
      "kremlin_km                         -1734.9049    282.459     -6.142      0.000   -2288.577   -1181.232\n",
      "product_type_Investment              5.27e+04   1571.387     33.540      0.000    4.96e+04    5.58e+04\n",
      "product_type_OwnerOccupier          5.175e+04   1616.322     32.016      0.000    4.86e+04    5.49e+04\n",
      "sub_area_Ajeroport                   2.06e+04   5465.552      3.769      0.000    9888.796    3.13e+04\n",
      "sub_area_Akademicheskoe             1.459e+04   4256.968      3.428      0.001    6248.313    2.29e+04\n",
      "sub_area_Alekseevskoe               2.203e+04   5815.169      3.789      0.000    1.06e+04    3.34e+04\n",
      "sub_area_Altufevskoe               -2.345e+04   6770.367     -3.464      0.001   -3.67e+04   -1.02e+04\n",
      "sub_area_Arbat                      6.154e+04   1.82e+04      3.375      0.001    2.58e+04    9.73e+04\n",
      "sub_area_Babushkinskoe             -2443.5990   5711.979     -0.428      0.669   -1.36e+04    8752.938\n",
      "sub_area_Basmannoe                  2.591e+04   6259.503      4.139      0.000    1.36e+04    3.82e+04\n",
      "sub_area_Begovoe                     3.86e+04   7588.459      5.087      0.000    2.37e+04    5.35e+04\n",
      "sub_area_Beskudnikovskoe           -6968.6956   4158.163     -1.676      0.094   -1.51e+04    1182.074\n",
      "sub_area_Bibirevo                  -5877.2034   3710.655     -1.584      0.113   -1.32e+04    1396.367\n",
      "sub_area_Birjulevo_Vostochnoe      -1.772e+04   3158.153     -5.612      0.000   -2.39e+04   -1.15e+04\n",
      "sub_area_Birjulevo_Zapadnoe        -2.285e+04   5388.982     -4.239      0.000   -3.34e+04   -1.23e+04\n",
      "sub_area_Bogorodskoe               -1.408e+04   3585.001     -3.928      0.000   -2.11e+04   -7055.831\n",
      "sub_area_Brateevo                  -6121.9549   3790.412     -1.615      0.106   -1.36e+04    1307.956\n",
      "sub_area_Butyrskoe                 -2415.7768   5986.211     -0.404      0.687   -1.41e+04    9318.306\n",
      "sub_area_Caricyno                  -5616.8431   3904.324     -1.439      0.150   -1.33e+04    2036.355\n",
      "sub_area_Cheremushki                2.578e+04   4481.132      5.753      0.000     1.7e+04    3.46e+04\n",
      "sub_area_Chertanovo_Centralnoe     -2253.5487   4359.560     -0.517      0.605   -1.08e+04    6291.996\n",
      "sub_area_Chertanovo_Juzhnoe         -419.0600   3246.807     -0.129      0.897   -6783.404    5945.284\n",
      "sub_area_Chertanovo_Severnoe       -2187.2780   3498.861     -0.625      0.532   -9045.694    4671.138\n",
      "sub_area_Danilovskoe                1.076e+04   4593.956      2.342      0.019    1754.457    1.98e+04\n",
      "sub_area_Dmitrovskoe               -7094.1686   4204.773     -1.687      0.092   -1.53e+04    1147.966\n",
      "sub_area_Donskoe                    3.498e+04   5477.725      6.387      0.000    2.42e+04    4.57e+04\n",
      "sub_area_Dorogomilovo               6.252e+04   7593.654      8.233      0.000    4.76e+04    7.74e+04\n",
      "sub_area_Filevskij_Park             6143.5763   4233.408      1.451      0.147   -2154.688    1.44e+04\n",
      "sub_area_Fili_Davydkovo              1.28e+04   4781.963      2.677      0.007    3428.206    2.22e+04\n",
      "sub_area_Gagarinskoe                5.696e+04   7354.249      7.745      0.000    4.25e+04    7.14e+04\n",
      "sub_area_Goljanovo                 -1.311e+04   3418.368     -3.836      0.000   -1.98e+04   -6412.190\n",
      "sub_area_Golovinskoe               -9059.6021   3664.173     -2.472      0.013   -1.62e+04   -1877.145\n",
      "sub_area_Hamovniki                  7.396e+04   6955.484     10.633      0.000    6.03e+04    8.76e+04\n",
      "sub_area_HoroshevoMnevniki          9757.1148   3848.032      2.536      0.011    2214.258    1.73e+04\n",
      "sub_area_Horoshevskoe               2.041e+04   4459.650      4.576      0.000    1.17e+04    2.92e+04\n",
      "sub_area_Hovrino                   -5644.3233   3725.392     -1.515      0.130   -1.29e+04    1658.135\n",
      "sub_area_Ivanovskoe                -1.565e+04   3982.953     -3.929      0.000   -2.35e+04   -7842.263\n",
      "sub_area_Izmajlovo                 -1.318e+04   3442.213     -3.828      0.000   -1.99e+04   -6428.752\n",
      "sub_area_Jakimanka                  1.125e+04   8029.541      1.401      0.161   -4489.168     2.7e+04\n",
      "sub_area_Jaroslavskoe              -2.009e+04   4940.162     -4.066      0.000   -2.98e+04   -1.04e+04\n",
      "sub_area_Jasenevo                   5346.8265   3678.624      1.453      0.146   -1863.958    1.26e+04\n",
      "sub_area_Juzhnoe_Butovo            -1289.1219   3499.088     -0.368      0.713   -8147.983    5569.739\n",
      "sub_area_Juzhnoe_Medvedkovo        -1.106e+04   4730.424     -2.337      0.019   -2.03e+04   -1782.833\n",
      "sub_area_Juzhnoe_Tushino            4980.8391   4445.992      1.120      0.263   -3734.130    1.37e+04\n",
      "sub_area_Juzhnoportovoe            -8357.0078   6080.176     -1.374      0.169   -2.03e+04    3561.263\n",
      "sub_area_Kapotnja                  -2.333e+04   1.03e+04     -2.265      0.024   -4.35e+04   -3135.898\n",
      "sub_area_Konkovo                    2.224e+04   3488.617      6.374      0.000    1.54e+04    2.91e+04\n",
      "sub_area_Koptevo                   -1.332e+04   3932.055     -3.388      0.001    -2.1e+04   -5616.049\n",
      "sub_area_KosinoUhtomskoe           -1.181e+04   3696.401     -3.195      0.001   -1.91e+04   -4562.651\n",
      "sub_area_Kotlovka                   1108.1185   4677.663      0.237      0.813   -8060.968    1.03e+04\n",
      "sub_area_Krasnoselskoe              1.649e+04   1.22e+04      1.355      0.175   -7358.748    4.03e+04\n",
      "sub_area_Krjukovo                   3031.7239   6498.381      0.467      0.641   -9706.306    1.58e+04\n",
      "sub_area_Krylatskoe                  3.81e+04   5364.757      7.102      0.000    2.76e+04    4.86e+04\n",
      "sub_area_Kuncevo                    7924.7052   4180.080      1.896      0.058    -269.027    1.61e+04\n",
      "sub_area_Kurkino                    3.082e+04   7273.330      4.237      0.000    1.66e+04    4.51e+04\n",
      "sub_area_Kuzminki                  -1.513e+04   3997.635     -3.785      0.000    -2.3e+04   -7293.790\n",
      "sub_area_Lefortovo                  -299.2935   5846.878     -0.051      0.959   -1.18e+04    1.12e+04\n",
      "sub_area_Levoberezhnoe              6543.9294   3668.576      1.784      0.074    -647.160    1.37e+04\n",
      "sub_area_Lianozovo                 -1081.2782   5329.190     -0.203      0.839   -1.15e+04    9364.922\n",
      "sub_area_Ljublino                  -1.562e+04   3303.282     -4.728      0.000   -2.21e+04   -9142.975\n",
      "sub_area_Lomonosovskoe              4.529e+04   4564.667      9.922      0.000    3.63e+04    5.42e+04\n",
      "sub_area_Losinoostrovskoe            959.7628   4035.451      0.238      0.812   -6950.468    8869.994\n",
      "sub_area_Marfino                    9412.2677   6611.366      1.424      0.155   -3547.236    2.24e+04\n",
      "sub_area_Marina_Roshha             -1.235e+04   6342.599     -1.947      0.052   -2.48e+04      81.980\n",
      "sub_area_Marino                    -8952.5081   2534.900     -3.532      0.000   -1.39e+04   -3983.634\n",
      "sub_area_Matushkino                 9231.3260   8161.176      1.131      0.258   -6766.091    2.52e+04\n",
      "sub_area_Meshhanskoe                4.979e+04   6477.330      7.686      0.000    3.71e+04    6.25e+04\n",
      "sub_area_Metrogorodok              -1.839e+04   6692.531     -2.748      0.006   -3.15e+04   -5275.334\n",
      "sub_area_Mitino                     7116.1061   2476.412      2.874      0.004    2261.880     1.2e+04\n",
      "sub_area_Molzhaninovskoe           -4.181e+04    3.1e+04     -1.348      0.178   -1.03e+05     1.9e+04\n",
      "sub_area_MoskvorecheSaburovo        7884.0652   5539.383      1.423      0.155   -2974.152    1.87e+04\n",
      "sub_area_Mozhajskoe                -7566.2032   3581.035     -2.113      0.035   -1.46e+04    -546.710\n",
      "sub_area_NagatinoSadovniki         -1690.8785   4640.422     -0.364      0.716   -1.08e+04    7405.210\n",
      "sub_area_Nagatinskij_Zaton          1896.5248   3001.380      0.632      0.527   -3986.737    7779.787\n",
      "sub_area_Nagornoe                   2.101e+04   3217.968      6.529      0.000    1.47e+04    2.73e+04\n",
      "sub_area_Nekrasovka                -3.212e+04   2363.704    -13.588      0.000   -3.68e+04   -2.75e+04\n",
      "sub_area_Nizhegorodskoe            -2.069e+04   7045.883     -2.936      0.003   -3.45e+04   -6876.967\n",
      "sub_area_NovoPeredelkino           -1.362e+04   5567.902     -2.446      0.014   -2.45e+04   -2706.439\n",
      "sub_area_Novogireevo               -7899.4635   4029.688     -1.960      0.050   -1.58e+04      -0.529\n",
      "sub_area_Novokosino                -1.717e+04   4243.397     -4.047      0.000   -2.55e+04   -8856.997\n",
      "sub_area_Obruchevskoe               1.493e+04   5159.907      2.893      0.004    4815.447     2.5e+04\n",
      "sub_area_OchakovoMatveevskoe       -1.869e+04   3409.991     -5.481      0.000   -2.54e+04    -1.2e+04\n",
      "sub_area_OrehovoBorisovo_Juzhnoe    1726.0485   4002.957      0.431      0.666   -6120.489    9572.586\n",
      "sub_area_OrehovoBorisovo_Severnoe    763.6171   3763.771      0.203      0.839   -6614.071    8141.305\n",
      "sub_area_Ostankinskoe               2.363e+04   6666.327      3.544      0.000    1.06e+04    3.67e+04\n",
      "sub_area_Otradnoe                  -3485.1987   3078.591     -1.132      0.258   -9519.808    2549.411\n",
      "sub_area_Pechatniki                -2.347e+04   4422.116     -5.307      0.000   -3.21e+04   -1.48e+04\n",
      "sub_area_Perovo                    -1.667e+04   3720.920     -4.479      0.000    -2.4e+04   -9372.885\n",
      "sub_area_Pokrovskoe_Streshnevo      7558.3701   4361.734      1.733      0.083    -991.437    1.61e+04\n",
      "sub_area_Poselenie_Desjonovskoe     -2.16e+04   4801.633     -4.499      0.000    -3.1e+04   -1.22e+04\n",
      "sub_area_Poselenie_Filimonkovskoe  -3.674e+04   4290.299     -8.563      0.000   -4.51e+04   -2.83e+04\n",
      "sub_area_Poselenie_Kievskij         1.041e+05   3.34e+04      3.122      0.002    3.87e+04     1.7e+05\n",
      "sub_area_Poselenie_Kokoshkino      -2.427e+04   1.62e+04     -1.502      0.133   -5.59e+04    7406.451\n",
      "sub_area_Poselenie_Krasnopahorskoe -1.841e+04   1.91e+04     -0.964      0.335   -5.59e+04     1.9e+04\n",
      "sub_area_Poselenie_Marushkinskoe   -3.445e+04   1.85e+04     -1.867      0.062   -7.06e+04    1720.915\n",
      "sub_area_Poselenie_Moskovskij      -3.434e+04   2316.842    -14.821      0.000   -3.89e+04   -2.98e+04\n",
      "sub_area_Poselenie_Mosrentgen      -4.505e+04   1.17e+04     -3.860      0.000   -6.79e+04   -2.22e+04\n",
      "sub_area_Poselenie_Novofedorovskoe -1.631e+04   1.07e+04     -1.530      0.126   -3.72e+04    4592.392\n",
      "sub_area_Poselenie_Pervomajskoe    -2.824e+04   7231.255     -3.906      0.000   -4.24e+04   -1.41e+04\n",
      "sub_area_Poselenie_Rjazanovskoe    -2.903e+04   9215.625     -3.150      0.002   -4.71e+04    -1.1e+04\n",
      "sub_area_Poselenie_Rogovskoe        2.204e+04   1.75e+04      1.257      0.209   -1.23e+04    5.64e+04\n",
      "sub_area_Poselenie_Shherbinka      -3.401e+04   4236.803     -8.027      0.000   -4.23e+04   -2.57e+04\n",
      "sub_area_Poselenie_Sosenskoe       -3.474e+04   2316.683    -14.997      0.000   -3.93e+04   -3.02e+04\n",
      "sub_area_Poselenie_Vnukovskoe        -1.8e+04   2527.159     -7.125      0.000    -2.3e+04   -1.31e+04\n",
      "sub_area_Poselenie_Voronovskoe      6885.8209   2.12e+04      0.324      0.746   -3.48e+04    4.85e+04\n",
      "sub_area_Poselenie_Voskresenskoe   -1.844e+04   4542.306     -4.060      0.000   -2.73e+04   -9537.011\n",
      "sub_area_Preobrazhenskoe           -6860.5046   5262.933     -1.304      0.192   -1.72e+04    3455.819\n",
      "sub_area_Presnenskoe                6.148e+04   4566.989     13.462      0.000    5.25e+04    7.04e+04\n",
      "sub_area_Prospekt_Vernadskogo       2.194e+04   5889.859      3.725      0.000    1.04e+04    3.35e+04\n",
      "sub_area_Ramenki                     2.54e+04   3805.570      6.674      0.000    1.79e+04    3.29e+04\n",
      "sub_area_Rjazanskij                -9552.2467   4241.106     -2.252      0.024   -1.79e+04   -1238.893\n",
      "sub_area_Rostokino                 -9679.8304   7494.221     -1.292      0.197   -2.44e+04    5010.232\n",
      "sub_area_Savelki                    6199.8217   8524.582      0.727      0.467   -1.05e+04    2.29e+04\n",
      "sub_area_Savelovskoe                1.632e+04   6294.616      2.592      0.010    3977.876    2.87e+04\n",
      "sub_area_Severnoe                  -1.693e+04   8638.220     -1.960      0.050   -3.39e+04      -0.378\n",
      "sub_area_Severnoe_Butovo            9515.3184   4122.495      2.308      0.021    1434.464    1.76e+04\n",
      "sub_area_Severnoe_Izmajlovo         -1.44e+04   4324.621     -3.331      0.001   -2.29e+04   -5927.354\n",
      "sub_area_Severnoe_Medvedkovo        1991.0635   4030.790      0.494      0.621   -5910.031    9892.158\n",
      "sub_area_Severnoe_Tushino           8204.5167   3554.795      2.308      0.021    1236.459    1.52e+04\n",
      "sub_area_Shhukino                   1.941e+04   4963.978      3.910      0.000    9676.664    2.91e+04\n",
      "sub_area_Silino                     2872.6910   8711.392      0.330      0.742   -1.42e+04    1.99e+04\n",
      "sub_area_Sokol                      1.248e+04   6478.784      1.927      0.054    -217.069    2.52e+04\n",
      "sub_area_Sokolinaja_Gora           -7344.7945   4476.866     -1.641      0.101   -1.61e+04    1430.693\n",
      "sub_area_Sokolniki                  3.065e+04   7773.721      3.943      0.000    1.54e+04    4.59e+04\n",
      "sub_area_Solncevo                  -3.222e+04   2719.886    -11.846      0.000   -3.76e+04   -2.69e+04\n",
      "sub_area_Staroe_Krjukovo            1.275e+04   8596.845      1.483      0.138   -4099.741    2.96e+04\n",
      "sub_area_Strogino                   2.725e+04   3597.357      7.575      0.000    2.02e+04    3.43e+04\n",
      "sub_area_Sviblovo                   5343.3907   4117.403      1.298      0.194   -2727.482    1.34e+04\n",
      "sub_area_Taganskoe                  2.242e+04   5330.729      4.206      0.000     1.2e+04    3.29e+04\n",
      "sub_area_Tekstilshhiki             -2.714e+04   3259.628     -8.326      0.000   -3.35e+04   -2.07e+04\n",
      "sub_area_Teplyj_Stan                5546.6362   4059.736      1.366      0.172   -2411.200    1.35e+04\n",
      "sub_area_Timirjazevskoe              566.0225   4973.315      0.114      0.909   -9182.597    1.03e+04\n",
      "sub_area_Troickij_okrug            -1.097e+04   7176.728     -1.528      0.126    -2.5e+04    3098.953\n",
      "sub_area_TroparevoNikulino          1.524e+04   4605.328      3.309      0.001    6212.128    2.43e+04\n",
      "sub_area_Tverskoe                  -5.618e+04   4648.793    -12.085      0.000   -6.53e+04   -4.71e+04\n",
      "sub_area_Veshnjaki                 -1.498e+04   3675.416     -4.076      0.000   -2.22e+04   -7775.691\n",
      "sub_area_Vnukovo                   -1.812e+04   1.07e+04     -1.697      0.090   -3.91e+04    2806.113\n",
      "sub_area_Vojkovskoe                 1.014e+04   4881.248      2.078      0.038     574.423    1.97e+04\n",
      "sub_area_Vostochnoe                -2.081e+04   2.18e+04     -0.954      0.340   -6.36e+04    2.19e+04\n",
      "sub_area_Vostochnoe_Degunino       -7420.4512   5432.083     -1.366      0.172   -1.81e+04    3227.439\n",
      "sub_area_Vostochnoe_Izmajlovo      -1.695e+04   4027.002     -4.210      0.000   -2.48e+04   -9058.166\n",
      "sub_area_VyhinoZhulebino           -1.188e+04   3245.112     -3.662      0.000   -1.82e+04   -5521.219\n",
      "sub_area_Zamoskvoreche              7.677e+04   8003.678      9.592      0.000    6.11e+04    9.25e+04\n",
      "sub_area_Zapadnoe_Degunino         -4.179e+04   2738.676    -15.258      0.000   -4.72e+04   -3.64e+04\n",
      "sub_area_Zjablikovo                -3760.5937   4648.009     -0.809      0.418   -1.29e+04    5350.365\n",
      "sub_area_Zjuzino                   -4726.1374   3791.917     -1.246      0.213   -1.22e+04    2706.722\n",
      "month_1                             -431.8272   1723.299     -0.251      0.802   -3809.813    2946.158\n",
      "month_2                            -4071.4172   1621.601     -2.511      0.012   -7250.057    -892.778\n",
      "month_3                              495.5107   1489.766      0.333      0.739   -2424.707    3415.728\n",
      "month_4                            -3134.2016   1387.297     -2.259      0.024   -5853.560    -414.843\n",
      "month_5                            -3348.5578   1571.822     -2.130      0.033   -6429.621    -267.495\n",
      "month_6                            -4040.5703   1101.823     -3.667      0.000   -6200.347   -1880.794\n",
      "month_7                            -2647.1942   1410.690     -1.877      0.061   -5412.408     118.019\n",
      "month_8                            -4508.0024   1350.854     -3.337      0.001   -7155.926   -1860.079\n",
      "month_9                            -2904.8033   1228.154     -2.365      0.018   -5312.212    -497.395\n",
      "month_10                           -5632.3185   1222.665     -4.607      0.000   -8028.968   -3235.669\n",
      "month_11                           -2818.8274   1183.968     -2.381      0.017   -5139.624    -498.031\n",
      "==============================================================================\n",
      "Omnibus:                     1974.019   Durbin-Watson:                   1.998\n",
      "Prob(Omnibus):                  0.000   Jarque-Bera (JB):            24593.577\n",
      "Skew:                          -0.500   Prob(JB):                         0.00\n",
      "Kurtosis:                      10.299   Cond. No.                     1.17e+16\n",
      "==============================================================================\n",
      "\n",
      "Warnings:\n",
      "[1] Standard Errors assume that the covariance matrix of the errors is correctly specified.\n",
      "[2] The smallest eigenvalue is 2.98e-25. This might indicate that there are\n",
      "strong multicollinearity problems or that the design matrix is singular.\n"
     ]
    }
   ],
   "source": [
    "model = sm.ols(formula ='price_full ~ ' + all_columns, data = df_all)\n",
    "fitted = model.fit()\n",
    "print fitted.summary()"
   ]
  },
  {
   "cell_type": "code",
   "execution_count": 87,
   "metadata": {},
   "outputs": [
    {
     "data": {
      "text/plain": [
       "<matplotlib.text.Text at 0x110deb990>"
      ]
     },
     "execution_count": 87,
     "metadata": {},
     "output_type": "execute_result"
    },
    {
     "data": {
      "image/png": "[encoded data removed]",
      "text/plain": [
       "<matplotlib.figure.Figure at 0x110dd0990>"
      ]
     },
     "metadata": {},
     "output_type": "display_data"
    }
   ],
   "source": [
    "plt.hist(fitted.resid)\n",
    "plt.ylabel('Count')\n",
    "plt.xlabel('Normalized residuals')"
   ]
  },
  {
   "cell_type": "code",
   "execution_count": 13,
   "metadata": {},
   "outputs": [
    {
     "name": "stderr",
     "output_type": "stream",
     "text": [
      "/Library/Frameworks/Python.framework/Versions/2.7/lib/python2.7/site-packages/statsmodels/stats/outliers_influence.py:309: RuntimeWarning: invalid value encountered in sqrt\n",
      "  return  self.results.resid / sigma / np.sqrt(1 - hii)\n",
      "/Library/Frameworks/Python.framework/Versions/2.7/lib/python2.7/site-packages/scipy/stats/_distn_infrastructure.py:879: RuntimeWarning: invalid value encountered in greater\n",
      "  return (self.a < x) & (x < self.b)\n",
      "/Library/Frameworks/Python.framework/Versions/2.7/lib/python2.7/site-packages/scipy/stats/_distn_infrastructure.py:879: RuntimeWarning: invalid value encountered in less\n",
      "  return (self.a < x) & (x < self.b)\n",
      "/Library/Frameworks/Python.framework/Versions/2.7/lib/python2.7/site-packages/scipy/stats/_distn_infrastructure.py:1818: RuntimeWarning: invalid value encountered in less_equal\n",
      "  cond2 = cond0 & (x <= self.a)\n"
     ]
    },
    {
     "data": {
      "text/html": [
       "<div>\n",
       "<style>\n",
       "    .dataframe thead tr:only-child th {\n",
       "        text-align: right;\n",
       "    }\n",
       "\n",
       "    .dataframe thead th {\n",
       "        text-align: left;\n",
       "    }\n",
       "\n",
       "    .dataframe tbody tr th {\n",
       "        vertical-align: top;\n",
       "    }\n",
       "</style>\n",
       "<table border=\"1\" class=\"dataframe\">\n",
       "  <thead>\n",
       "    <tr style=\"text-align: right;\">\n",
       "      <th></th>\n",
       "      <th>c</th>\n",
       "      <th>p</th>\n",
       "    </tr>\n",
       "  </thead>\n",
       "  <tbody>\n",
       "    <tr>\n",
       "      <th>9349</th>\n",
       "      <td>3.474020e-14</td>\n",
       "      <td>1.0</td>\n",
       "    </tr>\n",
       "    <tr>\n",
       "      <th>28664</th>\n",
       "      <td>8.983351e-14</td>\n",
       "      <td>1.0</td>\n",
       "    </tr>\n",
       "    <tr>\n",
       "      <th>25428</th>\n",
       "      <td>2.247076e-13</td>\n",
       "      <td>1.0</td>\n",
       "    </tr>\n",
       "    <tr>\n",
       "      <th>28261</th>\n",
       "      <td>2.778466e-13</td>\n",
       "      <td>1.0</td>\n",
       "    </tr>\n",
       "    <tr>\n",
       "      <th>3800</th>\n",
       "      <td>3.988187e-13</td>\n",
       "      <td>1.0</td>\n",
       "    </tr>\n",
       "    <tr>\n",
       "      <th>20326</th>\n",
       "      <td>8.023842e-13</td>\n",
       "      <td>1.0</td>\n",
       "    </tr>\n",
       "    <tr>\n",
       "      <th>7330</th>\n",
       "      <td>1.619461e-12</td>\n",
       "      <td>1.0</td>\n",
       "    </tr>\n",
       "    <tr>\n",
       "      <th>3741</th>\n",
       "      <td>1.730600e-12</td>\n",
       "      <td>1.0</td>\n",
       "    </tr>\n",
       "    <tr>\n",
       "      <th>22505</th>\n",
       "      <td>1.953423e-12</td>\n",
       "      <td>1.0</td>\n",
       "    </tr>\n",
       "    <tr>\n",
       "      <th>3211</th>\n",
       "      <td>2.099383e-12</td>\n",
       "      <td>1.0</td>\n",
       "    </tr>\n",
       "    <tr>\n",
       "      <th>2982</th>\n",
       "      <td>2.113223e-12</td>\n",
       "      <td>1.0</td>\n",
       "    </tr>\n",
       "    <tr>\n",
       "      <th>16068</th>\n",
       "      <td>2.154543e-12</td>\n",
       "      <td>1.0</td>\n",
       "    </tr>\n",
       "    <tr>\n",
       "      <th>18745</th>\n",
       "      <td>2.309453e-12</td>\n",
       "      <td>1.0</td>\n",
       "    </tr>\n",
       "    <tr>\n",
       "      <th>4250</th>\n",
       "      <td>2.320733e-12</td>\n",
       "      <td>1.0</td>\n",
       "    </tr>\n",
       "    <tr>\n",
       "      <th>26249</th>\n",
       "      <td>3.327657e-12</td>\n",
       "      <td>1.0</td>\n",
       "    </tr>\n",
       "    <tr>\n",
       "      <th>13425</th>\n",
       "      <td>3.397483e-12</td>\n",
       "      <td>1.0</td>\n",
       "    </tr>\n",
       "    <tr>\n",
       "      <th>16447</th>\n",
       "      <td>3.656684e-12</td>\n",
       "      <td>1.0</td>\n",
       "    </tr>\n",
       "    <tr>\n",
       "      <th>25135</th>\n",
       "      <td>3.721168e-12</td>\n",
       "      <td>1.0</td>\n",
       "    </tr>\n",
       "    <tr>\n",
       "      <th>20419</th>\n",
       "      <td>3.798086e-12</td>\n",
       "      <td>1.0</td>\n",
       "    </tr>\n",
       "    <tr>\n",
       "      <th>10628</th>\n",
       "      <td>3.810530e-12</td>\n",
       "      <td>1.0</td>\n",
       "    </tr>\n",
       "    <tr>\n",
       "      <th>24792</th>\n",
       "      <td>3.944611e-12</td>\n",
       "      <td>1.0</td>\n",
       "    </tr>\n",
       "    <tr>\n",
       "      <th>27547</th>\n",
       "      <td>3.963409e-12</td>\n",
       "      <td>1.0</td>\n",
       "    </tr>\n",
       "    <tr>\n",
       "      <th>9720</th>\n",
       "      <td>4.454102e-12</td>\n",
       "      <td>1.0</td>\n",
       "    </tr>\n",
       "    <tr>\n",
       "      <th>22547</th>\n",
       "      <td>4.875802e-12</td>\n",
       "      <td>1.0</td>\n",
       "    </tr>\n",
       "    <tr>\n",
       "      <th>8900</th>\n",
       "      <td>4.918309e-12</td>\n",
       "      <td>1.0</td>\n",
       "    </tr>\n",
       "    <tr>\n",
       "      <th>24126</th>\n",
       "      <td>5.347587e-12</td>\n",
       "      <td>1.0</td>\n",
       "    </tr>\n",
       "    <tr>\n",
       "      <th>23616</th>\n",
       "      <td>5.520238e-12</td>\n",
       "      <td>1.0</td>\n",
       "    </tr>\n",
       "    <tr>\n",
       "      <th>5081</th>\n",
       "      <td>6.594404e-12</td>\n",
       "      <td>1.0</td>\n",
       "    </tr>\n",
       "    <tr>\n",
       "      <th>27678</th>\n",
       "      <td>6.654704e-12</td>\n",
       "      <td>1.0</td>\n",
       "    </tr>\n",
       "    <tr>\n",
       "      <th>9371</th>\n",
       "      <td>7.139304e-12</td>\n",
       "      <td>1.0</td>\n",
       "    </tr>\n",
       "    <tr>\n",
       "      <th>...</th>\n",
       "      <td>...</td>\n",
       "      <td>...</td>\n",
       "    </tr>\n",
       "    <tr>\n",
       "      <th>28298</th>\n",
       "      <td>6.488648e-03</td>\n",
       "      <td>1.0</td>\n",
       "    </tr>\n",
       "    <tr>\n",
       "      <th>17522</th>\n",
       "      <td>6.560450e-03</td>\n",
       "      <td>1.0</td>\n",
       "    </tr>\n",
       "    <tr>\n",
       "      <th>23586</th>\n",
       "      <td>6.725685e-03</td>\n",
       "      <td>1.0</td>\n",
       "    </tr>\n",
       "    <tr>\n",
       "      <th>23396</th>\n",
       "      <td>6.768508e-03</td>\n",
       "      <td>1.0</td>\n",
       "    </tr>\n",
       "    <tr>\n",
       "      <th>24900</th>\n",
       "      <td>7.322329e-03</td>\n",
       "      <td>1.0</td>\n",
       "    </tr>\n",
       "    <tr>\n",
       "      <th>23619</th>\n",
       "      <td>7.512318e-03</td>\n",
       "      <td>1.0</td>\n",
       "    </tr>\n",
       "    <tr>\n",
       "      <th>22810</th>\n",
       "      <td>7.514382e-03</td>\n",
       "      <td>1.0</td>\n",
       "    </tr>\n",
       "    <tr>\n",
       "      <th>16425</th>\n",
       "      <td>7.889963e-03</td>\n",
       "      <td>1.0</td>\n",
       "    </tr>\n",
       "    <tr>\n",
       "      <th>27225</th>\n",
       "      <td>7.908996e-03</td>\n",
       "      <td>1.0</td>\n",
       "    </tr>\n",
       "    <tr>\n",
       "      <th>3041</th>\n",
       "      <td>8.387622e-03</td>\n",
       "      <td>1.0</td>\n",
       "    </tr>\n",
       "    <tr>\n",
       "      <th>11359</th>\n",
       "      <td>8.475878e-03</td>\n",
       "      <td>1.0</td>\n",
       "    </tr>\n",
       "    <tr>\n",
       "      <th>16565</th>\n",
       "      <td>9.256775e-03</td>\n",
       "      <td>1.0</td>\n",
       "    </tr>\n",
       "    <tr>\n",
       "      <th>17191</th>\n",
       "      <td>9.596703e-03</td>\n",
       "      <td>1.0</td>\n",
       "    </tr>\n",
       "    <tr>\n",
       "      <th>1412</th>\n",
       "      <td>9.764786e-03</td>\n",
       "      <td>1.0</td>\n",
       "    </tr>\n",
       "    <tr>\n",
       "      <th>23936</th>\n",
       "      <td>9.969372e-03</td>\n",
       "      <td>1.0</td>\n",
       "    </tr>\n",
       "    <tr>\n",
       "      <th>16525</th>\n",
       "      <td>1.028932e-02</td>\n",
       "      <td>1.0</td>\n",
       "    </tr>\n",
       "    <tr>\n",
       "      <th>18072</th>\n",
       "      <td>1.221576e-02</td>\n",
       "      <td>1.0</td>\n",
       "    </tr>\n",
       "    <tr>\n",
       "      <th>17345</th>\n",
       "      <td>1.238046e-02</td>\n",
       "      <td>1.0</td>\n",
       "    </tr>\n",
       "    <tr>\n",
       "      <th>15196</th>\n",
       "      <td>1.359470e-02</td>\n",
       "      <td>1.0</td>\n",
       "    </tr>\n",
       "    <tr>\n",
       "      <th>26147</th>\n",
       "      <td>1.588227e-02</td>\n",
       "      <td>1.0</td>\n",
       "    </tr>\n",
       "    <tr>\n",
       "      <th>5816</th>\n",
       "      <td>1.640673e-02</td>\n",
       "      <td>1.0</td>\n",
       "    </tr>\n",
       "    <tr>\n",
       "      <th>6901</th>\n",
       "      <td>1.911661e-02</td>\n",
       "      <td>1.0</td>\n",
       "    </tr>\n",
       "    <tr>\n",
       "      <th>26995</th>\n",
       "      <td>1.974590e-02</td>\n",
       "      <td>1.0</td>\n",
       "    </tr>\n",
       "    <tr>\n",
       "      <th>10377</th>\n",
       "      <td>2.137457e-02</td>\n",
       "      <td>1.0</td>\n",
       "    </tr>\n",
       "    <tr>\n",
       "      <th>3185</th>\n",
       "      <td>2.506777e-02</td>\n",
       "      <td>1.0</td>\n",
       "    </tr>\n",
       "    <tr>\n",
       "      <th>24563</th>\n",
       "      <td>3.209133e-02</td>\n",
       "      <td>1.0</td>\n",
       "    </tr>\n",
       "    <tr>\n",
       "      <th>13589</th>\n",
       "      <td>3.209133e-02</td>\n",
       "      <td>1.0</td>\n",
       "    </tr>\n",
       "    <tr>\n",
       "      <th>21620</th>\n",
       "      <td>5.905948e-02</td>\n",
       "      <td>1.0</td>\n",
       "    </tr>\n",
       "    <tr>\n",
       "      <th>17585</th>\n",
       "      <td>NaN</td>\n",
       "      <td>NaN</td>\n",
       "    </tr>\n",
       "    <tr>\n",
       "      <th>27096</th>\n",
       "      <td>NaN</td>\n",
       "      <td>NaN</td>\n",
       "    </tr>\n",
       "  </tbody>\n",
       "</table>\n",
       "<p>29097 rows × 2 columns</p>\n",
       "</div>"
      ],
      "text/plain": [
       "                  c    p\n",
       "9349   3.474020e-14  1.0\n",
       "28664  8.983351e-14  1.0\n",
       "25428  2.247076e-13  1.0\n",
       "28261  2.778466e-13  1.0\n",
       "3800   3.988187e-13  1.0\n",
       "20326  8.023842e-13  1.0\n",
       "7330   1.619461e-12  1.0\n",
       "3741   1.730600e-12  1.0\n",
       "22505  1.953423e-12  1.0\n",
       "3211   2.099383e-12  1.0\n",
       "2982   2.113223e-12  1.0\n",
       "16068  2.154543e-12  1.0\n",
       "18745  2.309453e-12  1.0\n",
       "4250   2.320733e-12  1.0\n",
       "26249  3.327657e-12  1.0\n",
       "13425  3.397483e-12  1.0\n",
       "16447  3.656684e-12  1.0\n",
       "25135  3.721168e-12  1.0\n",
       "20419  3.798086e-12  1.0\n",
       "10628  3.810530e-12  1.0\n",
       "24792  3.944611e-12  1.0\n",
       "27547  3.963409e-12  1.0\n",
       "9720   4.454102e-12  1.0\n",
       "22547  4.875802e-12  1.0\n",
       "8900   4.918309e-12  1.0\n",
       "24126  5.347587e-12  1.0\n",
       "23616  5.520238e-12  1.0\n",
       "5081   6.594404e-12  1.0\n",
       "27678  6.654704e-12  1.0\n",
       "9371   7.139304e-12  1.0\n",
       "...             ...  ...\n",
       "28298  6.488648e-03  1.0\n",
       "17522  6.560450e-03  1.0\n",
       "23586  6.725685e-03  1.0\n",
       "23396  6.768508e-03  1.0\n",
       "24900  7.322329e-03  1.0\n",
       "23619  7.512318e-03  1.0\n",
       "22810  7.514382e-03  1.0\n",
       "16425  7.889963e-03  1.0\n",
       "27225  7.908996e-03  1.0\n",
       "3041   8.387622e-03  1.0\n",
       "11359  8.475878e-03  1.0\n",
       "16565  9.256775e-03  1.0\n",
       "17191  9.596703e-03  1.0\n",
       "1412   9.764786e-03  1.0\n",
       "23936  9.969372e-03  1.0\n",
       "16525  1.028932e-02  1.0\n",
       "18072  1.221576e-02  1.0\n",
       "17345  1.238046e-02  1.0\n",
       "15196  1.359470e-02  1.0\n",
       "26147  1.588227e-02  1.0\n",
       "5816   1.640673e-02  1.0\n",
       "6901   1.911661e-02  1.0\n",
       "26995  1.974590e-02  1.0\n",
       "10377  2.137457e-02  1.0\n",
       "3185   2.506777e-02  1.0\n",
       "24563  3.209133e-02  1.0\n",
       "13589  3.209133e-02  1.0\n",
       "21620  5.905948e-02  1.0\n",
       "17585           NaN  NaN\n",
       "27096           NaN  NaN\n",
       "\n",
       "[29097 rows x 2 columns]"
      ]
     },
     "execution_count": 13,
     "metadata": {},
     "output_type": "execute_result"
    }
   ],
   "source": [
    "influence = fitted.get_influence()\n",
    "#c is the distance and p is p-value\n",
    "x = pd.DataFrame({'c' :influence.cooks_distance[0], 'p': influence.cooks_distance[1]})\n",
    "x.sort_values('c')"
   ]
  },
  {
   "cell_type": "code",
   "execution_count": null,
   "metadata": {
    "collapsed": true
   },
   "outputs": [],
   "source": [
    "from statsmodels.graphics.regressionplots import *\n",
    "plot_leverage_resid2(fitted)\n",
    "influence_plot(fitted)"
   ]
  },
  {
   "cell_type": "code",
   "execution_count": 20,
   "metadata": {},
   "outputs": [
    {
     "data": {
      "text/plain": [
       "price_doc               8439.36\n",
       "full_sq                      55\n",
       "sub_area      Nagatinskij_Zaton\n",
       "kremlin_km              8.05738\n",
       "price_full              153.443\n",
       "Name: 27096, dtype: object"
      ]
     },
     "execution_count": 20,
     "metadata": {},
     "output_type": "execute_result"
    }
   ],
   "source": [
    "cols = ['price_doc','full_sq','sub_area','kremlin_km','price_full']\n",
    "df.loc[27096,cols]"
   ]
  },
  {
   "cell_type": "code",
   "execution_count": 17,
   "metadata": {},
   "outputs": [
    {
     "data": {
      "text/plain": [
       "456.50076120743444"
      ]
     },
     "execution_count": 17,
     "metadata": {},
     "output_type": "execute_result"
    }
   ],
   "source": []
  },
  {
   "cell_type": "code",
   "execution_count": null,
   "metadata": {
    "collapsed": true
   },
   "outputs": [],
   "source": []
  },
  {
   "cell_type": "code",
   "execution_count": null,
   "metadata": {
    "collapsed": true
   },
   "outputs": [],
   "source": []
  },
  {
   "cell_type": "code",
   "execution_count": null,
   "metadata": {
    "collapsed": true
   },
   "outputs": [],
   "source": []
  },
  {
   "cell_type": "code",
   "execution_count": null,
   "metadata": {
    "collapsed": true
   },
   "outputs": [],
   "source": []
  },
  {
   "cell_type": "code",
   "execution_count": 119,
   "metadata": {},
   "outputs": [
    {
     "name": "stdout",
     "output_type": "stream",
     "text": [
      "[ 0.55611992  0.57563789  0.64236933  0.60385353  0.59513042  0.59961819\n",
      "  0.57438759  0.53179857  0.6425252   0.65684506]\n"
     ]
    }
   ],
   "source": [
    "cv_scores = cross_val_score(ols, x_train, y_train, cv=10)\n",
    "print cv_scores"
   ]
  },
  {
   "cell_type": "code",
   "execution_count": 120,
   "metadata": {},
   "outputs": [
    {
     "data": {
      "text/plain": [
       "array([ 15.243526  ,  15.81082405,  15.33321917, ...,  15.11978371,\n",
       "        15.37032004,  15.75736919])"
      ]
     },
     "execution_count": 120,
     "metadata": {},
     "output_type": "execute_result"
    }
   ],
   "source": [
    "ols.predict(x_test)"
   ]
  },
  {
   "cell_type": "code",
   "execution_count": 121,
   "metadata": {},
   "outputs": [
    {
     "name": "stdout",
     "output_type": "stream",
     "text": [
      "[ 0.55611992  0.57563789  0.64236933  0.60385353  0.59513042  0.59961819\n",
      "  0.57438759  0.53179857  0.6425252   0.65684506]\n"
     ]
    }
   ],
   "source": [
    "cv_scores = cross_val_score(ols, x_train, y_train, cv=10)\n",
    "print cv_scores"
   ]
  },
  {
   "cell_type": "code",
   "execution_count": 122,
   "metadata": {
    "collapsed": true
   },
   "outputs": [],
   "source": [
    "test1 = pd.DataFrame({'price_doc': ols.predict(x_test)},index=test_index)"
   ]
  },
  {
   "cell_type": "code",
   "execution_count": 123,
   "metadata": {
    "collapsed": true
   },
   "outputs": [],
   "source": [
    "test['price_doc'] = ols.predict(x_test)"
   ]
  },
  {
   "cell_type": "code",
   "execution_count": 124,
   "metadata": {
    "collapsed": true
   },
   "outputs": [],
   "source": [
    "from sklearn.linear_model import Ridge\n",
    "from sklearn.pipeline import make_pipeline\n",
    "from sklearn.preprocessing import MinMaxScaler\n",
    "from sklearn.model_selection import GridSearchCV\n",
    "\n",
    "\n",
    "pipe  =  make_pipeline(MinMaxScaler(), Ridge())\n",
    "param_grid = {'ridge__alpha': [100,10,1,0.1,0.01,0.001,0.0001,0]}\n",
    "grid =  GridSearchCV(pipe, param_grid, cv=5)\n",
    "lm_predictions = grid.fit(x_train, y_train)"
   ]
  },
  {
   "cell_type": "code",
   "execution_count": 125,
   "metadata": {},
   "outputs": [
    {
     "name": "stdout",
     "output_type": "stream",
     "text": [
      "0.597609856336\n"
     ]
    }
   ],
   "source": [
    "# print lm_predictions.predict(x_train)\n",
    "print lm_predictions.best_score_"
   ]
  },
  {
   "cell_type": "code",
   "execution_count": null,
   "metadata": {
    "collapsed": true
   },
   "outputs": [],
   "source": [
    "from sklearn import preprocessing "
   ]
  },
  {
   "cell_type": "code",
   "execution_count": null,
   "metadata": {
    "collapsed": true
   },
   "outputs": [],
   "source": []
  },
  {
   "cell_type": "code",
   "execution_count": null,
   "metadata": {
    "collapsed": true
   },
   "outputs": [],
   "source": [
    "np.exp(log_y_test)"
   ]
  },
  {
   "cell_type": "code",
   "execution_count": 58,
   "metadata": {},
   "outputs": [
    {
     "data": {
      "text/plain": [
       "GridSearchCV(cv=5, error_score='raise',\n",
       "       estimator=Pipeline(steps=[('minmaxscaler', MinMaxScaler(copy=True, feature_range=(0, 1))), ('ridge', Ridge(alpha=1.0, copy_X=True, fit_intercept=True, max_iter=None,\n",
       "   normalize=False, random_state=None, solver='auto', tol=0.001))]),\n",
       "       fit_params={}, iid=True, n_jobs=1,\n",
       "       param_grid={'ridge__alpha': [100, 10, 1, 0.1, 0.01, 0.001, 0.0001, 0]},\n",
       "       pre_dispatch='2*n_jobs', refit=True, return_train_score=True,\n",
       "       scoring=None, verbose=0)"
      ]
     },
     "execution_count": 58,
     "metadata": {},
     "output_type": "execute_result"
    }
   ],
   "source": [
    "cols = ['timestamp','price_doc','nominal_index','adj_price_doc','price_full','log_price','price_full']\n",
    "\n",
    "pipe  =  make_pipeline(MinMaxScaler(), Ridge())\n",
    "param_grid = {'ridge__alpha': [100,10,1,0.1,0.01,0.001,0.0001,0]}\n",
    "grid =  GridSearchCV(pipe, param_grid, cv=5)\n",
    "grid.fit(x_train, y_train)"
   ]
  },
  {
   "cell_type": "code",
   "execution_count": 59,
   "metadata": {
    "collapsed": true
   },
   "outputs": [],
   "source": [
    "sub = grid.predict(x_test)"
   ]
  },
  {
   "cell_type": "code",
   "execution_count": 60,
   "metadata": {
    "collapsed": true
   },
   "outputs": [],
   "source": [
    "sub = pd.DataFrame({'id': test_index, 'price_doc':sub})"
   ]
  },
  {
   "cell_type": "code",
   "execution_count": 61,
   "metadata": {
    "collapsed": true
   },
   "outputs": [],
   "source": [
    "sub.loc[:,'nominal_index'] = df.loc[test_index,'nominal_index'].values"
   ]
  },
  {
   "cell_type": "code",
   "execution_count": 66,
   "metadata": {},
   "outputs": [
    {
     "data": {
      "text/plain": [
       "'112889900.000000'"
      ]
     },
     "execution_count": 66,
     "metadata": {},
     "output_type": "execute_result"
    }
   ],
   "source": [
    "'%f' % 1.128899e+08"
   ]
  },
  {
   "cell_type": "code",
   "execution_count": 62,
   "metadata": {
    "collapsed": true
   },
   "outputs": [],
   "source": [
    "sub.price_doc = sub.price_doc * sub.nominal_index"
   ]
  },
  {
   "cell_type": "code",
   "execution_count": 63,
   "metadata": {
    "collapsed": true
   },
   "outputs": [],
   "source": [
    "sub.loc[:,'price_doc'].to_frame().to_csv('../Chase/submissions/052617_linear_ridge_regression.csv')"
   ]
  },
  {
   "cell_type": "code",
   "execution_count": 64,
   "metadata": {},
   "outputs": [
    {
     "data": {
      "text/html": [
       "<div>\n",
       "<style>\n",
       "    .dataframe thead tr:only-child th {\n",
       "        text-align: right;\n",
       "    }\n",
       "\n",
       "    .dataframe thead th {\n",
       "        text-align: left;\n",
       "    }\n",
       "\n",
       "    .dataframe tbody tr th {\n",
       "        vertical-align: top;\n",
       "    }\n",
       "</style>\n",
       "<table border=\"1\" class=\"dataframe\">\n",
       "  <thead>\n",
       "    <tr style=\"text-align: right;\">\n",
       "      <th></th>\n",
       "      <th>id</th>\n",
       "      <th>price_doc</th>\n",
       "      <th>nominal_index</th>\n",
       "    </tr>\n",
       "  </thead>\n",
       "  <tbody>\n",
       "    <tr>\n",
       "      <th>6938</th>\n",
       "      <td>37412</td>\n",
       "      <td>16.722780</td>\n",
       "      <td>1.162486</td>\n",
       "    </tr>\n",
       "    <tr>\n",
       "      <th>7654</th>\n",
       "      <td>38128</td>\n",
       "      <td>16.795930</td>\n",
       "      <td>1.162486</td>\n",
       "    </tr>\n",
       "    <tr>\n",
       "      <th>5143</th>\n",
       "      <td>35617</td>\n",
       "      <td>16.865221</td>\n",
       "      <td>1.173957</td>\n",
       "    </tr>\n",
       "    <tr>\n",
       "      <th>6092</th>\n",
       "      <td>36566</td>\n",
       "      <td>16.874353</td>\n",
       "      <td>1.173957</td>\n",
       "    </tr>\n",
       "    <tr>\n",
       "      <th>5422</th>\n",
       "      <td>35896</td>\n",
       "      <td>16.875906</td>\n",
       "      <td>1.173957</td>\n",
       "    </tr>\n",
       "    <tr>\n",
       "      <th>4552</th>\n",
       "      <td>35026</td>\n",
       "      <td>16.875906</td>\n",
       "      <td>1.173957</td>\n",
       "    </tr>\n",
       "    <tr>\n",
       "      <th>5166</th>\n",
       "      <td>35640</td>\n",
       "      <td>16.875906</td>\n",
       "      <td>1.173957</td>\n",
       "    </tr>\n",
       "    <tr>\n",
       "      <th>4112</th>\n",
       "      <td>34586</td>\n",
       "      <td>16.877455</td>\n",
       "      <td>1.173957</td>\n",
       "    </tr>\n",
       "    <tr>\n",
       "      <th>5638</th>\n",
       "      <td>36112</td>\n",
       "      <td>16.879989</td>\n",
       "      <td>1.173957</td>\n",
       "    </tr>\n",
       "    <tr>\n",
       "      <th>4617</th>\n",
       "      <td>35091</td>\n",
       "      <td>16.887796</td>\n",
       "      <td>1.173957</td>\n",
       "    </tr>\n",
       "    <tr>\n",
       "      <th>4697</th>\n",
       "      <td>35171</td>\n",
       "      <td>16.911206</td>\n",
       "      <td>1.173957</td>\n",
       "    </tr>\n",
       "    <tr>\n",
       "      <th>5751</th>\n",
       "      <td>36225</td>\n",
       "      <td>16.957039</td>\n",
       "      <td>1.173957</td>\n",
       "    </tr>\n",
       "    <tr>\n",
       "      <th>4042</th>\n",
       "      <td>34516</td>\n",
       "      <td>16.988215</td>\n",
       "      <td>1.173957</td>\n",
       "    </tr>\n",
       "    <tr>\n",
       "      <th>5651</th>\n",
       "      <td>36125</td>\n",
       "      <td>17.042997</td>\n",
       "      <td>1.173957</td>\n",
       "    </tr>\n",
       "    <tr>\n",
       "      <th>7085</th>\n",
       "      <td>37559</td>\n",
       "      <td>17.061701</td>\n",
       "      <td>1.162486</td>\n",
       "    </tr>\n",
       "    <tr>\n",
       "      <th>4852</th>\n",
       "      <td>35326</td>\n",
       "      <td>17.062022</td>\n",
       "      <td>1.173957</td>\n",
       "    </tr>\n",
       "    <tr>\n",
       "      <th>7526</th>\n",
       "      <td>38000</td>\n",
       "      <td>17.067083</td>\n",
       "      <td>1.162486</td>\n",
       "    </tr>\n",
       "    <tr>\n",
       "      <th>7318</th>\n",
       "      <td>37792</td>\n",
       "      <td>17.069329</td>\n",
       "      <td>1.162486</td>\n",
       "    </tr>\n",
       "    <tr>\n",
       "      <th>7468</th>\n",
       "      <td>37942</td>\n",
       "      <td>17.131200</td>\n",
       "      <td>1.162486</td>\n",
       "    </tr>\n",
       "    <tr>\n",
       "      <th>2911</th>\n",
       "      <td>33385</td>\n",
       "      <td>17.131981</td>\n",
       "      <td>1.194126</td>\n",
       "    </tr>\n",
       "    <tr>\n",
       "      <th>6942</th>\n",
       "      <td>37416</td>\n",
       "      <td>17.138135</td>\n",
       "      <td>1.162486</td>\n",
       "    </tr>\n",
       "    <tr>\n",
       "      <th>3094</th>\n",
       "      <td>33568</td>\n",
       "      <td>17.144261</td>\n",
       "      <td>1.194126</td>\n",
       "    </tr>\n",
       "    <tr>\n",
       "      <th>5867</th>\n",
       "      <td>36341</td>\n",
       "      <td>17.147322</td>\n",
       "      <td>1.173957</td>\n",
       "    </tr>\n",
       "    <tr>\n",
       "      <th>2320</th>\n",
       "      <td>32794</td>\n",
       "      <td>17.154779</td>\n",
       "      <td>1.194126</td>\n",
       "    </tr>\n",
       "    <tr>\n",
       "      <th>4851</th>\n",
       "      <td>35325</td>\n",
       "      <td>17.154889</td>\n",
       "      <td>1.173957</td>\n",
       "    </tr>\n",
       "    <tr>\n",
       "      <th>3271</th>\n",
       "      <td>33745</td>\n",
       "      <td>17.165836</td>\n",
       "      <td>1.194126</td>\n",
       "    </tr>\n",
       "    <tr>\n",
       "      <th>1947</th>\n",
       "      <td>32421</td>\n",
       "      <td>17.165838</td>\n",
       "      <td>1.194126</td>\n",
       "    </tr>\n",
       "    <tr>\n",
       "      <th>4516</th>\n",
       "      <td>34990</td>\n",
       "      <td>17.167156</td>\n",
       "      <td>1.173957</td>\n",
       "    </tr>\n",
       "    <tr>\n",
       "      <th>1538</th>\n",
       "      <td>32012</td>\n",
       "      <td>17.167415</td>\n",
       "      <td>1.194126</td>\n",
       "    </tr>\n",
       "    <tr>\n",
       "      <th>1658</th>\n",
       "      <td>32132</td>\n",
       "      <td>17.168994</td>\n",
       "      <td>1.194126</td>\n",
       "    </tr>\n",
       "    <tr>\n",
       "      <th>...</th>\n",
       "      <td>...</td>\n",
       "      <td>...</td>\n",
       "      <td>...</td>\n",
       "    </tr>\n",
       "    <tr>\n",
       "      <th>1780</th>\n",
       "      <td>32254</td>\n",
       "      <td>20.347228</td>\n",
       "      <td>1.194126</td>\n",
       "    </tr>\n",
       "    <tr>\n",
       "      <th>174</th>\n",
       "      <td>30648</td>\n",
       "      <td>20.375927</td>\n",
       "      <td>1.214295</td>\n",
       "    </tr>\n",
       "    <tr>\n",
       "      <th>1385</th>\n",
       "      <td>31859</td>\n",
       "      <td>20.378740</td>\n",
       "      <td>1.214295</td>\n",
       "    </tr>\n",
       "    <tr>\n",
       "      <th>1039</th>\n",
       "      <td>31513</td>\n",
       "      <td>20.392890</td>\n",
       "      <td>1.214295</td>\n",
       "    </tr>\n",
       "    <tr>\n",
       "      <th>1148</th>\n",
       "      <td>31622</td>\n",
       "      <td>20.419493</td>\n",
       "      <td>1.214295</td>\n",
       "    </tr>\n",
       "    <tr>\n",
       "      <th>2659</th>\n",
       "      <td>33133</td>\n",
       "      <td>20.427074</td>\n",
       "      <td>1.194126</td>\n",
       "    </tr>\n",
       "    <tr>\n",
       "      <th>216</th>\n",
       "      <td>30690</td>\n",
       "      <td>20.455450</td>\n",
       "      <td>1.214295</td>\n",
       "    </tr>\n",
       "    <tr>\n",
       "      <th>910</th>\n",
       "      <td>31384</td>\n",
       "      <td>20.469155</td>\n",
       "      <td>1.214295</td>\n",
       "    </tr>\n",
       "    <tr>\n",
       "      <th>1737</th>\n",
       "      <td>32211</td>\n",
       "      <td>20.531033</td>\n",
       "      <td>1.194126</td>\n",
       "    </tr>\n",
       "    <tr>\n",
       "      <th>2265</th>\n",
       "      <td>32739</td>\n",
       "      <td>20.611443</td>\n",
       "      <td>1.194126</td>\n",
       "    </tr>\n",
       "    <tr>\n",
       "      <th>905</th>\n",
       "      <td>31379</td>\n",
       "      <td>20.654308</td>\n",
       "      <td>1.214295</td>\n",
       "    </tr>\n",
       "    <tr>\n",
       "      <th>484</th>\n",
       "      <td>30958</td>\n",
       "      <td>20.688419</td>\n",
       "      <td>1.214295</td>\n",
       "    </tr>\n",
       "    <tr>\n",
       "      <th>1763</th>\n",
       "      <td>32237</td>\n",
       "      <td>20.727001</td>\n",
       "      <td>1.194126</td>\n",
       "    </tr>\n",
       "    <tr>\n",
       "      <th>1467</th>\n",
       "      <td>31941</td>\n",
       "      <td>20.742698</td>\n",
       "      <td>1.214295</td>\n",
       "    </tr>\n",
       "    <tr>\n",
       "      <th>950</th>\n",
       "      <td>31424</td>\n",
       "      <td>20.781847</td>\n",
       "      <td>1.214295</td>\n",
       "    </tr>\n",
       "    <tr>\n",
       "      <th>2649</th>\n",
       "      <td>33123</td>\n",
       "      <td>20.782861</td>\n",
       "      <td>1.194126</td>\n",
       "    </tr>\n",
       "    <tr>\n",
       "      <th>1569</th>\n",
       "      <td>32043</td>\n",
       "      <td>20.902349</td>\n",
       "      <td>1.194126</td>\n",
       "    </tr>\n",
       "    <tr>\n",
       "      <th>2365</th>\n",
       "      <td>32839</td>\n",
       "      <td>20.922755</td>\n",
       "      <td>1.194126</td>\n",
       "    </tr>\n",
       "    <tr>\n",
       "      <th>6559</th>\n",
       "      <td>37033</td>\n",
       "      <td>20.970929</td>\n",
       "      <td>1.173957</td>\n",
       "    </tr>\n",
       "    <tr>\n",
       "      <th>1088</th>\n",
       "      <td>31562</td>\n",
       "      <td>20.982963</td>\n",
       "      <td>1.214295</td>\n",
       "    </tr>\n",
       "    <tr>\n",
       "      <th>4990</th>\n",
       "      <td>35464</td>\n",
       "      <td>21.022479</td>\n",
       "      <td>1.173957</td>\n",
       "    </tr>\n",
       "    <tr>\n",
       "      <th>5975</th>\n",
       "      <td>36449</td>\n",
       "      <td>21.047286</td>\n",
       "      <td>1.173957</td>\n",
       "    </tr>\n",
       "    <tr>\n",
       "      <th>1671</th>\n",
       "      <td>32145</td>\n",
       "      <td>21.128344</td>\n",
       "      <td>1.194126</td>\n",
       "    </tr>\n",
       "    <tr>\n",
       "      <th>1722</th>\n",
       "      <td>32196</td>\n",
       "      <td>21.129048</td>\n",
       "      <td>1.194126</td>\n",
       "    </tr>\n",
       "    <tr>\n",
       "      <th>1527</th>\n",
       "      <td>32001</td>\n",
       "      <td>21.222425</td>\n",
       "      <td>1.194126</td>\n",
       "    </tr>\n",
       "    <tr>\n",
       "      <th>992</th>\n",
       "      <td>31466</td>\n",
       "      <td>21.322528</td>\n",
       "      <td>1.214295</td>\n",
       "    </tr>\n",
       "    <tr>\n",
       "      <th>836</th>\n",
       "      <td>31310</td>\n",
       "      <td>21.455155</td>\n",
       "      <td>1.214295</td>\n",
       "    </tr>\n",
       "    <tr>\n",
       "      <th>2467</th>\n",
       "      <td>32941</td>\n",
       "      <td>22.130290</td>\n",
       "      <td>1.194126</td>\n",
       "    </tr>\n",
       "    <tr>\n",
       "      <th>4196</th>\n",
       "      <td>34670</td>\n",
       "      <td>22.371742</td>\n",
       "      <td>1.173957</td>\n",
       "    </tr>\n",
       "    <tr>\n",
       "      <th>7212</th>\n",
       "      <td>37686</td>\n",
       "      <td>22.528478</td>\n",
       "      <td>1.162486</td>\n",
       "    </tr>\n",
       "  </tbody>\n",
       "</table>\n",
       "<p>7662 rows × 3 columns</p>\n",
       "</div>"
      ],
      "text/plain": [
       "         id  price_doc  nominal_index\n",
       "6938  37412  16.722780       1.162486\n",
       "7654  38128  16.795930       1.162486\n",
       "5143  35617  16.865221       1.173957\n",
       "6092  36566  16.874353       1.173957\n",
       "5422  35896  16.875906       1.173957\n",
       "4552  35026  16.875906       1.173957\n",
       "5166  35640  16.875906       1.173957\n",
       "4112  34586  16.877455       1.173957\n",
       "5638  36112  16.879989       1.173957\n",
       "4617  35091  16.887796       1.173957\n",
       "4697  35171  16.911206       1.173957\n",
       "5751  36225  16.957039       1.173957\n",
       "4042  34516  16.988215       1.173957\n",
       "5651  36125  17.042997       1.173957\n",
       "7085  37559  17.061701       1.162486\n",
       "4852  35326  17.062022       1.173957\n",
       "7526  38000  17.067083       1.162486\n",
       "7318  37792  17.069329       1.162486\n",
       "7468  37942  17.131200       1.162486\n",
       "2911  33385  17.131981       1.194126\n",
       "6942  37416  17.138135       1.162486\n",
       "3094  33568  17.144261       1.194126\n",
       "5867  36341  17.147322       1.173957\n",
       "2320  32794  17.154779       1.194126\n",
       "4851  35325  17.154889       1.173957\n",
       "3271  33745  17.165836       1.194126\n",
       "1947  32421  17.165838       1.194126\n",
       "4516  34990  17.167156       1.173957\n",
       "1538  32012  17.167415       1.194126\n",
       "1658  32132  17.168994       1.194126\n",
       "...     ...        ...            ...\n",
       "1780  32254  20.347228       1.194126\n",
       "174   30648  20.375927       1.214295\n",
       "1385  31859  20.378740       1.214295\n",
       "1039  31513  20.392890       1.214295\n",
       "1148  31622  20.419493       1.214295\n",
       "2659  33133  20.427074       1.194126\n",
       "216   30690  20.455450       1.214295\n",
       "910   31384  20.469155       1.214295\n",
       "1737  32211  20.531033       1.194126\n",
       "2265  32739  20.611443       1.194126\n",
       "905   31379  20.654308       1.214295\n",
       "484   30958  20.688419       1.214295\n",
       "1763  32237  20.727001       1.194126\n",
       "1467  31941  20.742698       1.214295\n",
       "950   31424  20.781847       1.214295\n",
       "2649  33123  20.782861       1.194126\n",
       "1569  32043  20.902349       1.194126\n",
       "2365  32839  20.922755       1.194126\n",
       "6559  37033  20.970929       1.173957\n",
       "1088  31562  20.982963       1.214295\n",
       "4990  35464  21.022479       1.173957\n",
       "5975  36449  21.047286       1.173957\n",
       "1671  32145  21.128344       1.194126\n",
       "1722  32196  21.129048       1.194126\n",
       "1527  32001  21.222425       1.194126\n",
       "992   31466  21.322528       1.214295\n",
       "836   31310  21.455155       1.214295\n",
       "2467  32941  22.130290       1.194126\n",
       "4196  34670  22.371742       1.173957\n",
       "7212  37686  22.528478       1.162486\n",
       "\n",
       "[7662 rows x 3 columns]"
      ]
     },
     "execution_count": 64,
     "metadata": {},
     "output_type": "execute_result"
    }
   ],
   "source": [
    "sub.sort_values('price_doc')"
   ]
  },
  {
   "cell_type": "code",
   "execution_count": 237,
   "metadata": {
    "collapsed": true
   },
   "outputs": [],
   "source": [
    "# df.loc[test_index,'nominal_index']"
   ]
  },
  {
   "cell_type": "code",
   "execution_count": 247,
   "metadata": {},
   "outputs": [
    {
     "data": {
      "text/html": [
       "<div>\n",
       "<style>\n",
       "    .dataframe thead tr:only-child th {\n",
       "        text-align: right;\n",
       "    }\n",
       "\n",
       "    .dataframe thead th {\n",
       "        text-align: left;\n",
       "    }\n",
       "\n",
       "    .dataframe tbody tr th {\n",
       "        vertical-align: top;\n",
       "    }\n",
       "</style>\n",
       "<table border=\"1\" class=\"dataframe\">\n",
       "  <thead>\n",
       "    <tr style=\"text-align: right;\">\n",
       "      <th></th>\n",
       "      <th>id</th>\n",
       "      <th>price_doc</th>\n",
       "      <th>nominal_index</th>\n",
       "    </tr>\n",
       "  </thead>\n",
       "  <tbody>\n",
       "    <tr>\n",
       "      <th>0</th>\n",
       "      <td>30474</td>\n",
       "      <td>4.176246e+06</td>\n",
       "      <td>1.214295</td>\n",
       "    </tr>\n",
       "    <tr>\n",
       "      <th>1</th>\n",
       "      <td>30475</td>\n",
       "      <td>9.594552e+06</td>\n",
       "      <td>1.214295</td>\n",
       "    </tr>\n",
       "    <tr>\n",
       "      <th>2</th>\n",
       "      <td>30476</td>\n",
       "      <td>5.235794e+06</td>\n",
       "      <td>1.214295</td>\n",
       "    </tr>\n",
       "    <tr>\n",
       "      <th>3</th>\n",
       "      <td>30477</td>\n",
       "      <td>9.846788e+06</td>\n",
       "      <td>1.214295</td>\n",
       "    </tr>\n",
       "    <tr>\n",
       "      <th>4</th>\n",
       "      <td>30478</td>\n",
       "      <td>2.628036e+06</td>\n",
       "      <td>1.214295</td>\n",
       "    </tr>\n",
       "  </tbody>\n",
       "</table>\n",
       "</div>"
      ],
      "text/plain": [
       "      id     price_doc  nominal_index\n",
       "0  30474  4.176246e+06       1.214295\n",
       "1  30475  9.594552e+06       1.214295\n",
       "2  30476  5.235794e+06       1.214295\n",
       "3  30477  9.846788e+06       1.214295\n",
       "4  30478  2.628036e+06       1.214295"
      ]
     },
     "execution_count": 247,
     "metadata": {},
     "output_type": "execute_result"
    }
   ],
   "source": [
    "sub.head()"
   ]
  },
  {
   "cell_type": "code",
   "execution_count": null,
   "metadata": {
    "collapsed": true
   },
   "outputs": [],
   "source": []
  }
 ],
 "metadata": {
  "kernelspec": {
   "display_name": "Python 2",
   "language": "python",
   "name": "python2"
  },
  "language_info": {
   "codemirror_mode": {
    "name": "ipython",
    "version": 2
   },
   "file_extension": ".py",
   "mimetype": "text/x-python",
   "name": "python",
   "nbconvert_exporter": "python",
   "pygments_lexer": "ipython2",
   "version": "2.7.13"
  }
 },
 "nbformat": 4,
 "nbformat_minor": 2
}
