{
 "cells": [
  {
   "cell_type": "code",
   "execution_count": 96,
   "metadata": {
    "collapsed": true
   },
   "outputs": [],
   "source": [
    "import pandas as pd\n",
    "from sklearn import preprocessing\n",
    "import numpy as np\n",
    "import statsmodels.formula.api as sm\n",
    "import matplotlib.pyplot as plt\n",
    "%matplotlib inline\n",
    "pd.set_option('display.max_columns', 500)"
   ]
  },
  {
   "cell_type": "code",
   "execution_count": 97,
   "metadata": {
    "collapsed": true
   },
   "outputs": [],
   "source": [
    "russia = pd.read_csv('../data/macro_chase.csv')\n",
    "moscow = pd.read_csv('../data/moscow_index_raw.csv',header=None,parse_dates=[0]) # parse_dates=['date']"
   ]
  },
  {
   "cell_type": "code",
   "execution_count": 98,
   "metadata": {
    "collapsed": true
   },
   "outputs": [],
   "source": [
    "moscow.columns = ['date','price']"
   ]
  },
  {
   "cell_type": "code",
   "execution_count": 99,
   "metadata": {
    "collapsed": true
   },
   "outputs": [],
   "source": [
    "moscow = moscow[moscow.date>'2011-08-01']\n",
    "moscow['month'] = moscow.date.dt.month.astype(str)\n",
    "moscow['year'] = moscow.date.dt.year.astype(str)\n",
    "moscow.loc[:,'month_year'] = moscow.apply(lambda x:'%s/%s' % (x['month'],x['year']), axis=1)"
   ]
  },
  {
   "cell_type": "code",
   "execution_count": 109,
   "metadata": {
    "collapsed": true
   },
   "outputs": [],
   "source": [
    "moscow_index = pd.DataFrame(moscow.groupby('month_year').price.mean())\n",
    "\n",
    "moscow_index.index = pd.to_datetime(moscow_index.index,format=\"%m/%Y\")\n",
    "\n",
    "moscow_index.sort_index(inplace=True)\n",
    "\n",
    "moscow_index['nominal_index'] = moscow_index.price / moscow_index.price[0]"
   ]
  },
  {
   "cell_type": "code",
   "execution_count": 110,
   "metadata": {
    "collapsed": true
   },
   "outputs": [],
   "source": [
    "moscow_index.to_csv('../data/moscow_index.csv')"
   ]
  },
  {
   "cell_type": "code",
   "execution_count": null,
   "metadata": {
    "collapsed": true
   },
   "outputs": [],
   "source": []
  }
 ],
 "metadata": {
  "kernelspec": {
   "display_name": "Python 2",
   "language": "python",
   "name": "python2"
  },
  "language_info": {
   "codemirror_mode": {
    "name": "ipython",
    "version": 2
   },
   "file_extension": ".py",
   "mimetype": "text/x-python",
   "name": "python",
   "nbconvert_exporter": "python",
   "pygments_lexer": "ipython2",
   "version": "2.7.13"
  }
 },
 "nbformat": 4,
 "nbformat_minor": 2
}
