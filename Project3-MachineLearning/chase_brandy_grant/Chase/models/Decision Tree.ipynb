{
 "cells": [
  {
   "cell_type": "code",
   "execution_count": 790,
   "metadata": {
    "collapsed": true
   },
   "outputs": [],
   "source": [
    "import pandas as pd\n",
    "from sklearn import preprocessing\n",
    "import numpy as np\n",
    "import statsmodels.formula.api as sm\n",
    "import matplotlib.pyplot as plt\n",
    "%matplotlib inline\n",
    "pd.set_option('display.max_columns', 500)\n"
   ]
  },
  {
   "cell_type": "code",
   "execution_count": 791,
   "metadata": {
    "collapsed": true
   },
   "outputs": [],
   "source": [
    "train = pd.read_csv('../data/clean_train_only_complete_cols_chase.csv', parse_dates=['timestamp'], index_col=\"id\")  \n",
    "test = pd.read_csv('../data/clean_test_only_complete_cols_chase.csv', parse_dates=['timestamp'], index_col=\"id\")\n",
    "macro = pd.read_csv('../data/macro_brent_contracts_rent3bus.csv',parse_dates=[0])\n",
    "\n",
    "train = train[train.timestamp>'2011-01-01']\n",
    "macro = macro[macro.timestamp>'2011-01-01']\n",
    "macro.reset_index(drop=True,inplace=True)\n",
    "# macro = pd.read_csv('../data/macro_chase.csv',parse_dates=[0])"
   ]
  },
  {
   "cell_type": "code",
   "execution_count": 792,
   "metadata": {
    "collapsed": true
   },
   "outputs": [],
   "source": [
    "train_index = train.index.tolist()\n",
    "test_index = test.index.tolist()\n",
    "\n",
    "# cols = ['life_sq','full_sq','floor','max_floor','kitch_sq','product_type',\n",
    "#         'sub_area','kremlin_km','price_doc','timestamp','price_full']\n",
    "\n",
    "tr_cols = train.columns.tolist()\n",
    "te_cols = test.columns.tolist()\n",
    "cols = list(set(tr_cols).intersection(te_cols))\n",
    "cols.append('price_doc')\n",
    "\n",
    "test['price_doc'] = np.nan\n",
    "\n",
    "df = pd.concat([train[cols].copy(),\n",
    "                test[cols].copy()],\n",
    "               ignore_index=False)\n",
    "\n",
    "df['month'] = df.timestamp.dt.month.astype(object)"
   ]
  },
  {
   "cell_type": "code",
   "execution_count": null,
   "metadata": {},
   "outputs": [],
   "source": []
  },
  {
   "cell_type": "code",
   "execution_count": 793,
   "metadata": {},
   "outputs": [],
   "source": [
    "macro['month_year'] = pd.PeriodIndex(macro['timestamp'], freq='M').strftime('%m_%y')\n",
    "df['month_year'] = pd.PeriodIndex(df['timestamp'], freq='M').strftime('%m_%y')"
   ]
  },
  {
   "cell_type": "code",
   "execution_count": 794,
   "metadata": {},
   "outputs": [],
   "source": [
    "macro_grouped = macro.groupby('month_year').mean()"
   ]
  },
  {
   "cell_type": "code",
   "execution_count": 795,
   "metadata": {},
   "outputs": [],
   "source": [
    "macro_grouped['date'] = pd.to_datetime(macro_grouped.index.tolist(), format='%m_%y')\n",
    "macro_grouped.sort_values('date',inplace=True)"
   ]
  },
  {
   "cell_type": "code",
   "execution_count": 796,
   "metadata": {
    "collapsed": true
   },
   "outputs": [],
   "source": [
    "macro_grouped['build_contract_index'] = macro_grouped.average_provision_of_build_contract_moscow/macro_grouped.average_provision_of_build_contract_moscow[0]\n",
    "macro_grouped['brent_index'] = macro_grouped.brent/macro_grouped.brent[0]\n",
    "macro_grouped['rent_index'] = macro_grouped.rent_price_3room_bus/macro_grouped.rent_price_3room_bus[0]"
   ]
  },
  {
   "cell_type": "code",
   "execution_count": 797,
   "metadata": {},
   "outputs": [],
   "source": [
    "macro_grouped['adjustment_index'] = macro_grouped[['rent_index','brent_index','build_contract_index']].apply(np.mean,axis=1)"
   ]
  },
  {
   "cell_type": "code",
   "execution_count": 798,
   "metadata": {},
   "outputs": [],
   "source": [
    "macro_grouped.reset_index(inplace=True)"
   ]
  },
  {
   "cell_type": "code",
   "execution_count": 799,
   "metadata": {},
   "outputs": [],
   "source": [
    "df = pd.merge(df,macro_grouped[['month_year','adjustment_index']],\n",
    "              how=\"left\", on=\"month_year\").reset_index(drop=True).set_index(df.index)\n",
    "# df['real_price_doc'] = df.price_doc / df.rent_index\n",
    "df['adj_price_doc'] = df.price_doc / df.adjustment_index"
   ]
  },
  {
   "cell_type": "code",
   "execution_count": 800,
   "metadata": {
    "collapsed": true
   },
   "outputs": [],
   "source": [
    "# macro['quarter'] = pd.PeriodIndex(macro['Unnamed: 0'], freq='Q').strftime('%qQ%y')\n",
    "# df['quarter'] = pd.PeriodIndex(df['timestamp'], freq='Q').strftime('%qQ%y')\n",
    "\n",
    "# df = pd.merge(df,macro[['quarter','adjustment_index']], how=\"left\", on=\"quarter\").reset_index(drop=True).set_index(df.index)\n",
    "# df['real_price_doc'] = df.price_doc / df.adjustment_index"
   ]
  },
  {
   "cell_type": "code",
   "execution_count": 801,
   "metadata": {
    "collapsed": true
   },
   "outputs": [],
   "source": [
    "# moscow = moscow[moscow.date > df.timestamp.min()]\n",
    "# moscow.reset_index(drop=True,inplace=True)\n",
    "# moscow['adjustment_index'] = moscow.price / moscow.price[0] "
   ]
  },
  {
   "cell_type": "code",
   "execution_count": 802,
   "metadata": {
    "collapsed": true
   },
   "outputs": [],
   "source": [
    "# moscow = pd.read_csv('../data/moscow_index.csv',header=None,parse_dates=[0])\n",
    "# moscow.columns = ['date','price']\n",
    "\n",
    "# df['month_year'] = pd.PeriodIndex(df['timestamp'], freq='M').strftime('%m/%y')\n",
    "# df = pd.merge(df,moscow[['month_year','# moscow['adjustment_indexadjustment_index'] = moscow.price / moscow.price[0] ']], how=\"left\", on=\"month_year\").reset_index(drop=True).set_index(df.index)"
   ]
  },
  {
   "cell_type": "code",
   "execution_count": 803,
   "metadata": {
    "collapsed": true
   },
   "outputs": [],
   "source": [
    "# cleaning up names\n",
    "df.sub_area = df.sub_area.apply(lambda x: x.replace(\" \", \"_\"))\n",
    "df.sub_area = df.sub_area.apply(lambda x: x.replace(\"'\", \"\"))\n",
    "df.sub_area = df.sub_area.apply(lambda x: x.replace(\"-\", \"\"))"
   ]
  },
  {
   "cell_type": "code",
   "execution_count": 804,
   "metadata": {
    "collapsed": true
   },
   "outputs": [],
   "source": [
    "df['kitch_to_life'] = df.kitch_sq / df.life_sq\n",
    "df['life_to_full'] = df.life_sq / df.full_sq\n",
    "df['walk_up_penalty'] = 0\n",
    "df.loc[(df.floor>4) & (df.max_floor < 6),'walk_up_penalty'] = 1 "
   ]
  },
  {
   "cell_type": "code",
   "execution_count": null,
   "metadata": {
    "collapsed": true
   },
   "outputs": [],
   "source": []
  },
  {
   "cell_type": "markdown",
   "metadata": {},
   "source": [
    "## Helper Functions"
   ]
  },
  {
   "cell_type": "code",
   "execution_count": 805,
   "metadata": {
    "collapsed": true
   },
   "outputs": [],
   "source": [
    "def addMultiples(df):\n",
    "    df['price_full'] = df.price_doc / df.full_sq\n",
    "    df['adj_price_full'] = df.adj_price_doc / df.full_sq\n",
    "    df['adj_price_class'] = pd.qcut(df.adj_price_full, 5, labels=[\"E\",\"D\",\"C\",\"B\",\"A\"])"
   ]
  },
  {
   "cell_type": "code",
   "execution_count": 806,
   "metadata": {},
   "outputs": [
    {
     "name": "stdout",
     "output_type": "stream",
     "text": [
      "138254.170315\n",
      "124184.904397\n"
     ]
    }
   ],
   "source": [
    "addMultiples(df)\n",
    "print df.price_full.median()\n",
    "print df.adj_price_full.median()"
   ]
  },
  {
   "cell_type": "markdown",
   "metadata": {},
   "source": [
    "## Decision Tree Classifier"
   ]
  },
  {
   "cell_type": "code",
   "execution_count": 825,
   "metadata": {
    "collapsed": true
   },
   "outputs": [],
   "source": [
    "from sklearn.tree import DecisionTreeClassifier\n",
    "from sklearn.model_selection import train_test_split"
   ]
  },
  {
   "cell_type": "code",
   "execution_count": null,
   "metadata": {
    "collapsed": true
   },
   "outputs": [],
   "source": []
  },
  {
   "cell_type": "code",
   "execution_count": 826,
   "metadata": {},
   "outputs": [],
   "source": [
    "# creating a variable for how expensive the property is    \n",
    "addMultiples(df)\n",
    "\n",
    "## dropping outliers\n",
    "outliers = df[df.adj_price_full < 30000].copy()\n",
    "df.drop(outliers.index,axis=0, inplace=True)\n",
    "for x in outliers.index.tolist():\n",
    "    train_index.remove(x)\n",
    "    \n",
    "\n",
    "# drop_cols = ['timestamp','price_doc','price_full','okurg_district','sub_area']\n",
    "keep_cols = ['kremlin_km','floor','full_sq','product_type','full_sq','kitch_sq','max_floor','life_sq','sub_area']\n",
    "\n",
    "# dataset\n",
    "df_tcl = df[keep_cols].copy()\n",
    "\n",
    "\n",
    "# dummify\n",
    "df_obj = df_tcl.select_dtypes(include=['object']).copy()\n",
    "df_num = df_tcl.select_dtypes(exclude=['object']).copy()\n",
    "\n",
    "dummies = pd.get_dummies(df_obj)\n",
    "df_all = pd.concat([df_num,dummies],axis=1)\n"
   ]
  },
  {
   "cell_type": "code",
   "execution_count": 827,
   "metadata": {},
   "outputs": [
    {
     "data": {
      "text/plain": [
       "0.5365342279064892"
      ]
     },
     "execution_count": 827,
     "metadata": {},
     "output_type": "execute_result"
    }
   ],
   "source": [
    "tree_clf = DecisionTreeClassifier(max_depth=8)\n",
    "\n",
    "x = df_all.loc[train_index,:]\n",
    "y = df.loc[train_index,'adj_price_class']\n",
    "x_train, x_test, y_train, y_test = train_test_split(x, y, test_size=0.33, random_state=42)\n",
    "tree_clf.fit(x_train,y_train)\n",
    "\n",
    "1.0 * sum(tree_clf.predict(x_test) == y_test) / len(y_test)\n"
   ]
  },
  {
   "cell_type": "code",
   "execution_count": 828,
   "metadata": {},
   "outputs": [],
   "source": [
    "df.loc[test_index,'adj_price_class'] = tree_clf.predict(df_all.loc[test_index,:])\n",
    "\n",
    "multiples = df.loc[train_index,['adj_price_class','adj_price_full']].groupby('adj_price_class').median().to_dict()\n",
    "\n",
    "\n",
    "df.loc[test_index,'adj_price_full'] = df.adj_price_class.apply(lambda x: multiples['adj_price_full'].get(x))"
   ]
  },
  {
   "cell_type": "code",
   "execution_count": 829,
   "metadata": {},
   "outputs": [
    {
     "data": {
      "text/plain": [
       "<matplotlib.axes._subplots.AxesSubplot at 0x117f226d0>"
      ]
     },
     "execution_count": 829,
     "metadata": {},
     "output_type": "execute_result"
    },
    {
     "data": {
      "image/png": "[encoded data removed]",
      "text/plain": [
       "<matplotlib.figure.Figure at 0x130dc7610>"
      ]
     },
     "metadata": {},
     "output_type": "display_data"
    }
   ],
   "source": [
    "df.loc[test_index,'adj_price_full'].hist()"
   ]
  },
  {
   "cell_type": "markdown",
   "metadata": {},
   "source": [
    "## Decision Tree Regression\n",
    "based on price multiple"
   ]
  },
  {
   "cell_type": "code",
   "execution_count": 830,
   "metadata": {
    "collapsed": true
   },
   "outputs": [],
   "source": [
    "from sklearn.tree import DecisionTreeRegressor\n",
    "from sklearn.model_selection import train_test_split\n",
    "from sklearn.pipeline import Pipeline"
   ]
  },
  {
   "cell_type": "code",
   "execution_count": null,
   "metadata": {
    "collapsed": true
   },
   "outputs": [],
   "source": []
  },
  {
   "cell_type": "code",
   "execution_count": 831,
   "metadata": {},
   "outputs": [
    {
     "name": "stdout",
     "output_type": "stream",
     "text": [
      "1 0.282507090418\n",
      "2 0.345443855084\n",
      "3 0.39331142751\n",
      "4 0.436677413228\n",
      "5 0.461965070533\n",
      "6 0.470215993667\n",
      "7 0.478183205861\n",
      "8 0.466660990451\n",
      "9 0.449029577143\n",
      "10 0.430587323109\n",
      "11 0.413280690592\n",
      "12 0.384263441345\n",
      "13 0.361821912362\n",
      "14 0.326927625227\n"
     ]
    }
   ],
   "source": [
    "drop_cols = ['timestamp','adj_price_class','price_doc','adj_price_full','month_year','adj_price_doc','price_full']\n",
    "df_trg = df.drop(drop_cols,axis=1)\n",
    "\n",
    "df_obj = df_trg.select_dtypes(include=['object']).copy()\n",
    "df_num = df_trg.select_dtypes(exclude=['object']).copy()\n",
    "\n",
    "# df = df[keep_cols]\n",
    "# df_obj = df.select_dtypes(include=['object'])\n",
    "# df_num = df.select_dtypes(exclude=['object'])\n",
    "\n",
    "dummies = pd.get_dummies(df_obj)\n",
    "df_all = pd.concat([df_num,dummies],axis=1)\n",
    "\n",
    "df_all = df_all.apply(lambda x: x.astype(float)) \n",
    "\n",
    "x = df_all.loc[train_index,:]\n",
    "y = df.loc[train_index,'adj_price_full']\n",
    "x_train, x_test, y_train, y_test = train_test_split(x, y, test_size=0.33, random_state=42)\n",
    "    \n",
    "for i in range(1,15):\n",
    "    tree_reg = DecisionTreeRegressor(max_depth=i)\n",
    "\n",
    "    tree_reg.fit(x_train,y_train)\n",
    "    print i, tree_reg.score(x_test,y_test)"
   ]
  },
  {
   "cell_type": "code",
   "execution_count": 832,
   "metadata": {},
   "outputs": [
    {
     "name": "stdout",
     "output_type": "stream",
     "text": [
      "159634.911395\n"
     ]
    },
    {
     "data": {
      "image/png": "[encoded data removed]",
      "text/plain": [
       "<matplotlib.figure.Figure at 0x11a51cc90>"
      ]
     },
     "metadata": {},
     "output_type": "display_data"
    }
   ],
   "source": [
    "tree_reg = DecisionTreeRegressor(max_depth=7)\n",
    "tree_reg.fit(x_train,y_train)\n",
    "df.loc[test_index,'adj_price_full'] = tree_reg.predict(df_all.loc[test_index,:])\n",
    "df.loc[test_index,'adj_price_doc'] = df.loc[test_index,'full_sq'] * df.loc[test_index,'adj_price_full']\n",
    "df.loc[test_index,'adj_price_full'].hist()\n",
    "print df.loc[test_index,'adj_price_full'].median()"
   ]
  },
  {
   "cell_type": "code",
   "execution_count": 854,
   "metadata": {},
   "outputs": [
    {
     "name": "stdout",
     "output_type": "stream",
     "text": [
      "133764.512087\n"
     ]
    },
    {
     "data": {
      "image/png": "[encoded data removed]",
      "text/plain": [
       "<matplotlib.figure.Figure at 0x1230c0690>"
      ]
     },
     "metadata": {},
     "output_type": "display_data"
    }
   ],
   "source": [
    "df.loc[test_index,'price_doc'] = df.loc[test_index,'adj_price_doc'] * df.loc[test_index,'adjustment_index']\n",
    "\n",
    "addMultiples(df)\n",
    "df.loc[test_index,'price_full'].hist()\n",
    "print df.loc[test_index,'adj_price_full'].median()"
   ]
  },
  {
   "cell_type": "code",
   "execution_count": 855,
   "metadata": {},
   "outputs": [
    {
     "data": {
      "text/plain": [
       "126980.53030848572"
      ]
     },
     "execution_count": 855,
     "metadata": {},
     "output_type": "execute_result"
    }
   ],
   "source": [
    "df.loc[test_index,'price_full'].median()"
   ]
  },
  {
   "cell_type": "code",
   "execution_count": 836,
   "metadata": {
    "collapsed": true
   },
   "outputs": [],
   "source": [
    "# 0.33925\n",
    "# df.loc[test_index,'price_doc'].to_frame().to_csv('../submissions/decision_tree_price_multiple_052817.csv')"
   ]
  },
  {
   "cell_type": "code",
   "execution_count": 837,
   "metadata": {},
   "outputs": [
    {
     "data": {
      "text/plain": [
       "143234.1250509639"
      ]
     },
     "execution_count": 837,
     "metadata": {},
     "output_type": "execute_result"
    }
   ],
   "source": [
    "old = pd.read_csv('../submissions/decision_tree_price_multiple_052817.csv')\n",
    "old.set_index('id',inplace=True)\n",
    "\n",
    "old['full_sq'] = df.loc[test_index,'full_sq']\n",
    "\n",
    "old['price_full'] = old.price_doc / old.full_sq\n",
    "\n",
    "old.price_full.median()"
   ]
  },
  {
   "cell_type": "markdown",
   "metadata": {},
   "source": [
    "## Decision Tree Regressor \n",
    "price_doc"
   ]
  },
  {
   "cell_type": "code",
   "execution_count": 838,
   "metadata": {},
   "outputs": [
    {
     "name": "stdout",
     "output_type": "stream",
     "text": [
      "1 0.243826886098\n",
      "2 0.427576421267\n",
      "3 0.548300481331\n",
      "4 0.583586064023\n",
      "5 0.592888646426\n",
      "6 0.586548100804\n",
      "7 0.571272216457\n",
      "8 0.567284867612\n",
      "9 0.583334157004\n",
      "10 0.554857474142\n",
      "11 0.555765958725\n",
      "12 0.541896420675\n",
      "13 0.488918223952\n",
      "14 0.48411890038\n"
     ]
    }
   ],
   "source": [
    "drop_cols = ['timestamp','adj_price_class','price_doc','adj_price_full','month_year','adj_price_doc','price_full']\n",
    "df_trg = df.drop(drop_cols,axis=1)\n",
    "\n",
    "df_obj = df_trg.select_dtypes(include=['object']).copy()\n",
    "df_num = df_trg.select_dtypes(exclude=['object']).copy()\n",
    "\n",
    "# df = df[keep_cols]\n",
    "# df_obj = df.select_dtypes(include=['object'])\n",
    "# df_num = df.select_dtypes(exclude=['object'])\n",
    "\n",
    "dummies = pd.get_dummies(df_obj)\n",
    "df_all = pd.concat([df_num,dummies],axis=1)\n",
    "\n",
    "df_all = df_all.apply(lambda x: x.astype(float)) \n",
    "\n",
    "\n",
    "x = df_all.loc[train_index,:]\n",
    "y = df.loc[train_index,'adj_price_doc']\n",
    "x_train, x_test, y_train, y_test = train_test_split(x, y, test_size=0.33, random_state=42)\n",
    "\n",
    "for i in range(1,15):\n",
    "    tree_reg = DecisionTreeRegressor(max_depth=i)\n",
    "    tree_reg.fit(x_train,y_train)\n",
    "    print i, tree_reg.score(x_test,y_test)"
   ]
  },
  {
   "cell_type": "code",
   "execution_count": 847,
   "metadata": {},
   "outputs": [
    {
     "name": "stdout",
     "output_type": "stream",
     "text": [
      "133764.512087\n"
     ]
    },
    {
     "data": {
      "image/png": "[encoded data removed]",
      "text/plain": [
       "<matplotlib.figure.Figure at 0x12308bc90>"
      ]
     },
     "metadata": {},
     "output_type": "display_data"
    }
   ],
   "source": [
    "tree_reg = DecisionTreeRegressor(max_depth=5)\n",
    "tree_reg.fit(x_train,y_train)\n",
    "df.loc[test_index,'adj_price_doc'] = tree_reg.predict(df_all.loc[test_index,:])\n",
    "addMultiples(df)\n",
    "df.loc[test_index,'adj_price_full'].hist()\n",
    "print df.loc[test_index,'adj_price_full'].median()\n",
    "# df.loc[test_index,'real_price_full'].hist()"
   ]
  },
  {
   "cell_type": "code",
   "execution_count": 845,
   "metadata": {},
   "outputs": [
    {
     "name": "stdout",
     "output_type": "stream",
     "text": [
      "126980.530308\n"
     ]
    },
    {
     "data": {
      "image/png": "[encoded data removed]",
      "text/plain": [
       "<matplotlib.figure.Figure at 0x1377641d0>"
      ]
     },
     "metadata": {},
     "output_type": "display_data"
    }
   ],
   "source": [
    "df.loc[test_index,'price_doc'] = df.loc[test_index,'adjustment_index'] * df.loc[test_index,'adj_price_doc']\n",
    "addMultiples(df)\n",
    "df.loc[test_index,'price_full'].hist()\n",
    "print df.loc[test_index,'price_full'].median()"
   ]
  },
  {
   "cell_type": "code",
   "execution_count": 853,
   "metadata": {
    "collapsed": true
   },
   "outputs": [],
   "source": [
    "# 0.36993\n",
    "# df.loc[test_index,'price_doc'].to_frame().to_csv('../submissions/decision_tree_price_doc_rentbrent_index_052917.csv')"
   ]
  },
  {
   "cell_type": "code",
   "execution_count": 851,
   "metadata": {},
   "outputs": [
    {
     "data": {
      "text/plain": [
       "143103.44827586206"
      ]
     },
     "execution_count": 851,
     "metadata": {},
     "output_type": "execute_result"
    }
   ],
   "source": [
    "df[(df.timestamp>'2014-06-30') & (df.timestamp<'2015-06-30')].price_full.median()"
   ]
  },
  {
   "cell_type": "code",
   "execution_count": 842,
   "metadata": {
    "collapsed": true
   },
   "outputs": [],
   "source": [
    "# kaggle 0.36506\n",
    "# df.loc[test_index,'price_doc'].to_frame().to_csv('../submissions/decision_tree_price_doc_052817.csv')"
   ]
  },
  {
   "cell_type": "code",
   "execution_count": 843,
   "metadata": {},
   "outputs": [
    {
     "data": {
      "text/plain": [
       "144246.7833103968"
      ]
     },
     "execution_count": 843,
     "metadata": {},
     "output_type": "execute_result"
    }
   ],
   "source": [
    "old = pd.read_csv('../submissions/decision_tree_price_doc_052817.csv')\n",
    "old.set_index('id',inplace=True)\n",
    "\n",
    "old['full_sq'] = df.loc[test_index,'full_sq']\n",
    "\n",
    "old['price_full'] = old.price_doc / old.full_sq\n",
    "\n",
    "old.price_full.median()"
   ]
  },
  {
   "cell_type": "code",
   "execution_count": 844,
   "metadata": {},
   "outputs": [
    {
     "data": {
      "text/plain": [
       "126980.53030848555"
      ]
     },
     "execution_count": 844,
     "metadata": {},
     "output_type": "execute_result"
    }
   ],
   "source": [
    "df.loc[test_index,'price_full'].median()"
   ]
  },
  {
   "cell_type": "code",
   "execution_count": null,
   "metadata": {
    "collapsed": true
   },
   "outputs": [],
   "source": []
  },
  {
   "cell_type": "code",
   "execution_count": null,
   "metadata": {
    "collapsed": true
   },
   "outputs": [],
   "source": []
  },
  {
   "cell_type": "code",
   "execution_count": null,
   "metadata": {
    "collapsed": true
   },
   "outputs": [],
   "source": []
  },
  {
   "cell_type": "code",
   "execution_count": null,
   "metadata": {
    "collapsed": true
   },
   "outputs": [],
   "source": []
  }
 ],
 "metadata": {
  "kernelspec": {
   "display_name": "Python 2",
   "language": "python",
   "name": "python2"
  },
  "language_info": {
   "codemirror_mode": {
    "name": "ipython",
    "version": 2
   },
   "file_extension": ".py",
   "mimetype": "text/x-python",
   "name": "python",
   "nbconvert_exporter": "python",
   "pygments_lexer": "ipython2",
   "version": "2.7.13"
  }
 },
 "nbformat": 4,
 "nbformat_minor": 2
}
