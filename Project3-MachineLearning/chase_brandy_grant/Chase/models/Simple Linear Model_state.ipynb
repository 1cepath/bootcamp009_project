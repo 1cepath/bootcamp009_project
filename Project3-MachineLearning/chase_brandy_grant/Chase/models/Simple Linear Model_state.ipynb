{
 "cells": [
  {
   "cell_type": "code",
   "execution_count": 21,
   "metadata": {
    "collapsed": true
   },
   "outputs": [],
   "source": [
    "import pandas as pd\n",
    "from sklearn import preprocessing\n",
    "import numpy as np\n",
    "import statsmodels.formula.api as sm\n",
    "import matplotlib.pyplot as plt\n",
    "%matplotlib inline\n",
    "pd.set_option('display.max_columns', 500)\n",
    "pd.set_option('display.float_format', lambda x: '%.1f' % x)\n"
   ]
  },
  {
   "cell_type": "markdown",
   "metadata": {},
   "source": [
    "### Playing around with using different columns that are complete"
   ]
  },
  {
   "cell_type": "code",
   "execution_count": 24,
   "metadata": {
    "collapsed": true
   },
   "outputs": [],
   "source": [
    "train = pd.read_csv('../data/clean_train_all_cols_chase.csv', parse_dates=['timestamp'], index_col=\"id\")  \n",
    "test = pd.read_csv('../data/clean_test_all_cols_chase.csv', parse_dates=['timestamp'], index_col=\"id\")"
   ]
  },
  {
   "cell_type": "code",
   "execution_count": 25,
   "metadata": {
    "collapsed": true
   },
   "outputs": [],
   "source": [
    "# get the cols that in both\n",
    "tr_cols = train.columns.tolist()\n",
    "te_cols = test.columns.tolist()\n",
    "cols = list(set(tr_cols).intersection(te_cols))\n",
    "cols.append('price_doc')"
   ]
  },
  {
   "cell_type": "code",
   "execution_count": 26,
   "metadata": {
    "collapsed": true
   },
   "outputs": [],
   "source": [
    "train_index = train.index.tolist()\n",
    "test_index = test.index.tolist()\n",
    "\n",
    "# cols = ['life_sq','full_sq','floor','max_floor','kitch_sq','product_type',\n",
    "#         'sub_area','kremlin_km','price_doc','timestamp']\n",
    "\n",
    "test['price_doc'] = np.nan\n",
    "\n",
    "df = pd.concat([train[cols].copy(),\n",
    "                test[cols].copy()],\n",
    "               ignore_index=False)\n",
    "\n",
    "\n",
    "\n",
    "locales = pd.read_csv('../data/okurg_chase.csv')\n",
    "indices = pd.read_csv('../data/district_indices.csv')\n",
    "macro = pd.read_csv('../data/macro_chase.csv', parse_dates=[0])\n",
    "\n",
    "\n",
    "macro['quarter'] = pd.PeriodIndex(macro['Unnamed: 0'], freq='Q').strftime('Q%q-%y')\n",
    "df['month'] = df.timestamp.dt.month.astype(object)\n",
    "df['quarter'] = pd.PeriodIndex(df['timestamp'], freq='Q').strftime('Q%q-%y')\n",
    "\n",
    "df = pd.merge(df,locales[['sub_area','okurg_district']],\n",
    "              how=\"left\", on=\"sub_area\").reset_index(drop=True).set_index(df.index)\n",
    "\n",
    "df = pd.merge(df,macro[['quarter','nominal_index']],\n",
    "              how=\"left\", on=\"quarter\").reset_index(drop=True).set_index(df.index)\n",
    "\n",
    "\n",
    "\n",
    "# indices['month_year'] = pd.PeriodIndex(indices['date'], freq='M').strftime('%m/%y')\n",
    "# df['month_year'] = pd.PeriodIndex(df['timestamp'], freq='M').strftime('%m/%y')\n",
    "# indices.columns = ['id', 'okurg_district', 'month_year', 'price', 'date', 'nominal_index']"
   ]
  },
  {
   "cell_type": "code",
   "execution_count": 27,
   "metadata": {
    "collapsed": true
   },
   "outputs": [],
   "source": [
    "df.state = df.state.astype(object)"
   ]
  },
  {
   "cell_type": "code",
   "execution_count": 28,
   "metadata": {
    "collapsed": true
   },
   "outputs": [],
   "source": [
    "df.sub_area = df.sub_area.apply(lambda x: x.replace(\" \", \"_\"))\n",
    "df.sub_area = df.sub_area.apply(lambda x: x.replace(\"'\", \"\"))\n",
    "df.sub_area = df.sub_area.apply(lambda x: x.replace(\"-\", \"\"))"
   ]
  },
  {
   "cell_type": "code",
   "execution_count": 29,
   "metadata": {
    "collapsed": true
   },
   "outputs": [],
   "source": [
    "df['kitch_to_life'] = df.kitch_sq / df.life_sq\n",
    "df['life_to_full'] = df.life_sq / df.full_sq\n",
    "# df['bld_type'] = 'med_rise'\n",
    "# df.loc[df.max_floor <= 5,'bld_type'] = 'low_rise'\n",
    "# df.loc[df.max_floor >= 17,'bld_type'] = 'high_rise'\n",
    "df['walk_up_penalty'] = 0\n",
    "df.loc[(df.floor>4) & (df.max_floor < 6),'walk_up_penalty'] = 1 "
   ]
  },
  {
   "cell_type": "code",
   "execution_count": 30,
   "metadata": {
    "collapsed": true
   },
   "outputs": [],
   "source": [
    "df['price_doc'] = df.price_doc / df.nominal_index\n",
    "df['price_full'] = df.price_doc / df.full_sq\n",
    "df['log_price'] = np.log(df.price_doc)\n",
    "# df['price_doc'] = df.price_doc / 1000\n"
   ]
  },
  {
   "cell_type": "code",
   "execution_count": null,
   "metadata": {
    "collapsed": true
   },
   "outputs": [],
   "source": []
  },
  {
   "cell_type": "markdown",
   "metadata": {},
   "source": [
    "### Multiple Linear Regression"
   ]
  },
  {
   "cell_type": "code",
   "execution_count": 31,
   "metadata": {
    "collapsed": true
   },
   "outputs": [],
   "source": [
    "# print df.shape\n",
    "# recent_df = df[(df.timestamp>'2013-01-01')].copy()\n",
    "# print recent_df.shape\n",
    "# train_index = recent_df[~recent_df.price_doc.isnull()].index.tolist()"
   ]
  },
  {
   "cell_type": "code",
   "execution_count": 38,
   "metadata": {},
   "outputs": [
    {
     "data": {
      "text/plain": [
       "array([ 0.50738972,  0.57371039,  0.55237563,  0.58395594,  0.58552841])"
      ]
     },
     "execution_count": 38,
     "metadata": {},
     "output_type": "execute_result"
    }
   ],
   "source": [
    "from sklearn import linear_model\n",
    "from sklearn.model_selection import KFold, cross_val_score\n",
    "from sklearn.pipeline import make_pipeline\n",
    "from sklearn.preprocessing import MinMaxScaler\n",
    "from sklearn.model_selection import GridSearchCV\n",
    "\n",
    "ols = linear_model.LinearRegression()\n",
    "# pipe  =  make_pipeline(MinMaxScaler(), ols)\n",
    "# param_grid = {'ridge__alpha': [100,10,1,0.1,0.01,0.001,0.0001,0]}\n",
    "# grid =  GridSearchCV(pipe, cv=5)\n",
    "# lm_predictions = grid.fit(x_train, y_train)\n",
    "# ols = linear_model.LinearRegression()\n",
    "\n",
    "# cols to drop\n",
    "# drop_cols = ['timestamp','price_doc','nominal_index','adj_price_doc','price_full','log_price','price_full']\n",
    "cols = ['full_sq','floor','sub_area','kremlin_km','month','product_type','state']\n",
    "\n",
    "lm_data = df[cols]\n",
    "df_obj = lm_data.select_dtypes(include=['object'])\n",
    "df_num = lm_data.select_dtypes(exclude=['object'])\n",
    "\n",
    "\n",
    "dummies = pd.get_dummies(df_obj)\n",
    "df_all = pd.concat([df_num,dummies],axis=1)\n",
    "\n",
    "x_train = df_all.loc[train_index,:]\n",
    "\n",
    "y_train = df.loc[train_index,'log_price']\n",
    "x_test = df_all.loc[test_index,:]\n",
    "\n",
    "cross_val_score(ols, x_train, y_train, cv=5)\n",
    "# print('R^2: %.2f' % pipe.score(x_train, y_train))\n"
   ]
  },
  {
   "cell_type": "code",
   "execution_count": 48,
   "metadata": {},
   "outputs": [],
   "source": [
    "ols.fit(x_train,y_train)\n",
    "df.loc[test_index,'price_doc'] = np.exp(ols.predict(x_test)) * df.loc[test_index,'nominal_index']\n",
    "df['price_full'] = df.price_doc / df.full_sq"
   ]
  },
  {
   "cell_type": "code",
   "execution_count": 49,
   "metadata": {
    "collapsed": true
   },
   "outputs": [],
   "source": [
    "cols = ['price_doc','full_sq','price_full']\n",
    "sub = df.loc[test_index,cols]"
   ]
  },
  {
   "cell_type": "code",
   "execution_count": 50,
   "metadata": {},
   "outputs": [
    {
     "data": {
      "text/plain": [
       "<matplotlib.axes._subplots.AxesSubplot at 0x10adcc1d0>"
      ]
     },
     "execution_count": 50,
     "metadata": {},
     "output_type": "execute_result"
    },
    {
     "data": {
      "image/png": "[encoded data removed]",
      "text/plain": [
       "<matplotlib.figure.Figure at 0x10befabd0>"
      ]
     },
     "metadata": {},
     "output_type": "display_data"
    }
   ],
   "source": [
    "sub.price_full.hist()"
   ]
  },
  {
   "cell_type": "code",
   "execution_count": 52,
   "metadata": {},
   "outputs": [],
   "source": [
    "# kaggle score 0.33866\n",
    "sub['price_doc'].to_frame().to_csv('../submissions/simple_linear_05916.csv')"
   ]
  },
  {
   "cell_type": "markdown",
   "metadata": {
    "collapsed": true
   },
   "source": [
    "## Looking at stats"
   ]
  },
  {
   "cell_type": "code",
   "execution_count": null,
   "metadata": {
    "collapsed": true
   },
   "outputs": [],
   "source": []
  },
  {
   "cell_type": "code",
   "execution_count": 304,
   "metadata": {
    "collapsed": true
   },
   "outputs": [],
   "source": [
    "cols = ['price_full','product_type','full_sq','floor','kremlin_km','sub_area','month']\n",
    "lm_data = df.loc[train_index,cols].copy()\n",
    "\n",
    "df_obj = lm_data.select_dtypes(include=['object'])\n",
    "df_num = lm_data.select_dtypes(exclude=['object'])\n",
    "\n",
    "dummies = pd.get_dummies(df_obj)\n",
    "df_all = pd.concat([df_num,dummies],axis=1)"
   ]
  },
  {
   "cell_type": "code",
   "execution_count": 305,
   "metadata": {
    "collapsed": true
   },
   "outputs": [],
   "source": [
    "all_columns = \"+\".join(df_all.columns[1:-1])"
   ]
  },
  {
   "cell_type": "code",
   "execution_count": 306,
   "metadata": {},
   "outputs": [
    {
     "name": "stdout",
     "output_type": "stream",
     "text": [
      "                            OLS Regression Results                            \n",
      "==============================================================================\n",
      "Dep. Variable:             price_full   R-squared:                       0.462\n",
      "Model:                            OLS   Adj. R-squared:                  0.459\n",
      "Method:                 Least Squares   F-statistic:                     168.1\n",
      "Date:                Mon, 29 May 2017   Prob (F-statistic):               0.00\n",
      "Time:                        15:43:53   Log-Likelihood:            -3.4269e+05\n",
      "No. Observations:               29096   AIC:                         6.857e+05\n",
      "Df Residuals:                   28947   BIC:                         6.869e+05\n",
      "Df Model:                         148                                         \n",
      "Covariance Type:            nonrobust                                         \n",
      "==========================================================================================================\n",
      "                                             coef    std err          t      P>|t|      [0.025      0.975]\n",
      "----------------------------------------------------------------------------------------------------------\n",
      "Intercept                               1.021e+05   1942.319     52.584      0.000    9.83e+04    1.06e+05\n",
      "full_sq                                  -94.1515      9.536     -9.873      0.000    -112.843     -75.460\n",
      "floor                                    464.6350     37.010     12.554      0.000     392.095     537.175\n",
      "kremlin_km                             -1762.9819    189.826     -9.287      0.000   -2135.050   -1390.914\n",
      "month                                   -102.2703     52.969     -1.931      0.054    -206.092       1.551\n",
      "product_type_Investment                 5.356e+04    993.761     53.897      0.000    5.16e+04    5.55e+04\n",
      "product_type_OwnerOccupier              4.857e+04   1066.004     45.566      0.000    4.65e+04    5.07e+04\n",
      "sub_area_Ajeroport                      1.261e+04   3557.877      3.543      0.000    5632.892    1.96e+04\n",
      "sub_area_Akademicheskoe                 1.786e+04   3113.696      5.735      0.000    1.18e+04     2.4e+04\n",
      "sub_area_Alekseevskoe                   1.592e+04   3882.554      4.101      0.000    8313.916    2.35e+04\n",
      "sub_area_Altufevskoe                   -1.385e+04   4622.684     -2.997      0.003   -2.29e+04   -4792.481\n",
      "sub_area_Arbat                          7.758e+04   8566.547      9.056      0.000    6.08e+04    9.44e+04\n",
      "sub_area_Babushkinskoe                  2858.1731   3589.486      0.796      0.426   -4177.384    9893.731\n",
      "sub_area_Basmannoe                      2.226e+04   4005.920      5.557      0.000    1.44e+04    3.01e+04\n",
      "sub_area_Begovoe                        2.094e+04   4726.103      4.431      0.000    1.17e+04    3.02e+04\n",
      "sub_area_Beskudnikovskoe               -1.241e+04   3288.113     -3.773      0.000   -1.89e+04   -5961.021\n",
      "sub_area_Bibirevo                      -6396.1610   3076.685     -2.079      0.038   -1.24e+04    -365.716\n",
      "sub_area_Birjulevo_Vostochnoe          -1.756e+04   3168.916     -5.542      0.000   -2.38e+04   -1.14e+04\n",
      "sub_area_Birjulevo_Zapadnoe            -1.677e+04   3950.528     -4.245      0.000   -2.45e+04   -9025.576\n",
      "sub_area_Bogorodskoe                   -1.377e+04   2749.761     -5.007      0.000   -1.92e+04   -8377.946\n",
      "sub_area_Brateevo                      -8812.5795   3269.802     -2.695      0.007   -1.52e+04   -2403.617\n",
      "sub_area_Butyrskoe                     -5061.0480   3868.542     -1.308      0.191   -1.26e+04    2521.472\n",
      "sub_area_Caricyno                      -4174.5508   3023.667     -1.381      0.167   -1.01e+04    1751.976\n",
      "sub_area_Cheremushki                     1.83e+04   3256.208      5.621      0.000    1.19e+04    2.47e+04\n",
      "sub_area_Chertanovo_Centralnoe          2915.6388   3192.363      0.913      0.361   -3341.540    9172.818\n",
      "sub_area_Chertanovo_Juzhnoe             3006.6263   3061.388      0.982      0.326   -2993.835    9007.088\n",
      "sub_area_Chertanovo_Severnoe            -820.5138   3052.045     -0.269      0.788   -6802.663    5161.635\n",
      "sub_area_Danilovskoe                    5442.5216   3242.796      1.678      0.093    -913.508    1.18e+04\n",
      "sub_area_Dmitrovskoe                   -1.041e+04   3320.875     -3.136      0.002   -1.69e+04   -3905.616\n",
      "sub_area_Donskoe                        2.678e+04   3605.443      7.428      0.000    1.97e+04    3.38e+04\n",
      "sub_area_Dorogomilovo                   5.403e+04   4956.406     10.901      0.000    4.43e+04    6.37e+04\n",
      "sub_area_Filevskij_Park                 8399.0395   3421.024      2.455      0.014    1693.676    1.51e+04\n",
      "sub_area_Fili_Davydkovo                 4949.2188   3431.957      1.442      0.149   -1777.575    1.17e+04\n",
      "sub_area_Gagarinskoe                    3.572e+04   4185.870      8.534      0.000    2.75e+04    4.39e+04\n",
      "sub_area_Goljanovo                     -1.234e+04   2842.819     -4.342      0.000   -1.79e+04   -6770.994\n",
      "sub_area_Golovinskoe                   -9858.4390   2987.127     -3.300      0.001   -1.57e+04   -4003.534\n",
      "sub_area_Hamovniki                      9.008e+04   4146.412     21.724      0.000    8.19e+04    9.82e+04\n",
      "sub_area_HoroshevoMnevniki              6158.4025   2876.694      2.141      0.032     519.950    1.18e+04\n",
      "sub_area_Horoshevskoe                   2.013e+04   3525.554      5.709      0.000    1.32e+04     2.7e+04\n",
      "sub_area_Hovrino                         640.1081   3237.677      0.198      0.843   -5705.888    6986.105\n",
      "sub_area_Ivanovskoe                    -1.672e+04   3121.754     -5.355      0.000   -2.28e+04   -1.06e+04\n",
      "sub_area_Izmajlovo                     -3372.7091   2741.868     -1.230      0.219   -8746.897    2001.479\n",
      "sub_area_Jakimanka                      1.021e+04   4496.408      2.270      0.023    1393.972     1.9e+04\n",
      "sub_area_Jaroslavskoe                  -1.683e+04   3588.911     -4.690      0.000   -2.39e+04   -9797.156\n",
      "sub_area_Jasenevo                       6676.4621   3134.499      2.130      0.033     532.700    1.28e+04\n",
      "sub_area_Juzhnoe_Butovo                 1805.2155   3560.089      0.507      0.612   -5172.722    8783.153\n",
      "sub_area_Juzhnoe_Medvedkovo            -1.002e+04   3465.315     -2.892      0.004   -1.68e+04   -3231.210\n",
      "sub_area_Juzhnoe_Tushino                1007.4745   3309.190      0.304      0.761   -5478.690    7493.639\n",
      "sub_area_Juzhnoportovoe                -2435.2671   3608.808     -0.675      0.500   -9508.698    4638.163\n",
      "sub_area_Kapotnja                       -2.11e+04   5217.600     -4.045      0.000   -3.13e+04   -1.09e+04\n",
      "sub_area_Konkovo                        1.457e+04   2979.382      4.891      0.000    8733.297    2.04e+04\n",
      "sub_area_Koptevo                       -6079.6876   3013.556     -2.017      0.044    -1.2e+04    -172.979\n",
      "sub_area_KosinoUhtomskoe               -1.361e+04   3192.000     -4.263      0.000   -1.99e+04   -7351.570\n",
      "sub_area_Kotlovka                       1292.4029   3394.129      0.381      0.703   -5360.246    7945.052\n",
      "sub_area_Krasnoselskoe                  2.571e+04   5796.093      4.435      0.000    1.43e+04    3.71e+04\n",
      "sub_area_Krjukovo                       7973.2400   5648.264      1.412      0.158   -3097.616     1.9e+04\n",
      "sub_area_Krylatskoe                     3.713e+04   3756.999      9.884      0.000    2.98e+04    4.45e+04\n",
      "sub_area_Kuncevo                        7492.6538   3160.846      2.370      0.018    1297.251    1.37e+04\n",
      "sub_area_Kurkino                        1.333e+04   5010.371      2.660      0.008    3504.670    2.31e+04\n",
      "sub_area_Kuzminki                      -1.347e+04   2950.156     -4.566      0.000   -1.93e+04   -7686.765\n",
      "sub_area_Lefortovo                     -1.022e+04   3696.011     -2.764      0.006   -1.75e+04   -2972.618\n",
      "sub_area_Levoberezhnoe                  5173.3708   3584.385      1.443      0.149   -1852.188    1.22e+04\n",
      "sub_area_Lianozovo                     -3253.0383   3715.185     -0.876      0.381   -1.05e+04    4028.894\n",
      "sub_area_Ljublino                      -1.278e+04   2767.364     -4.619      0.000   -1.82e+04   -7357.421\n",
      "sub_area_Lomonosovskoe                  3.772e+04   3347.789     11.267      0.000    3.12e+04    4.43e+04\n",
      "sub_area_Losinoostrovskoe               -164.8822   3228.238     -0.051      0.959   -6492.377    6162.613\n",
      "sub_area_Marfino                       -1.343e+04   4098.129     -3.278      0.001   -2.15e+04   -5401.295\n",
      "sub_area_Marina_Roshha                 -4404.5915   3761.619     -1.171      0.242   -1.18e+04    2968.354\n",
      "sub_area_Marino                        -7290.9240   2520.608     -2.893      0.004   -1.22e+04   -2350.416\n",
      "sub_area_Matushkino                     9348.8753   6376.632      1.466      0.143   -3149.615    2.18e+04\n",
      "sub_area_Meshhanskoe                    2.848e+04   4147.406      6.866      0.000    2.03e+04    3.66e+04\n",
      "sub_area_Metrogorodok                  -1.606e+04   4679.906     -3.431      0.001   -2.52e+04   -6882.750\n",
      "sub_area_Mitino                         7201.6651   2838.949      2.537      0.011    1637.194    1.28e+04\n",
      "sub_area_Molzhaninovskoe               -3.645e+04   3.18e+04     -1.145      0.252   -9.89e+04     2.6e+04\n",
      "sub_area_MoskvorecheSaburovo            -544.0999   3831.714     -0.142      0.887   -8054.436    6966.236\n",
      "sub_area_Mozhajskoe                    -5155.2659   3101.613     -1.662      0.096   -1.12e+04     924.038\n",
      "sub_area_NagatinoSadovniki             -4097.0922   3269.902     -1.253      0.210   -1.05e+04    2312.066\n",
      "sub_area_Nagatinskij_Zaton              4433.0479   2719.204      1.630      0.103    -896.716    9762.812\n",
      "sub_area_Nagornoe                       1.519e+04   2755.385      5.513      0.000    9789.491    2.06e+04\n",
      "sub_area_Nekrasovka                    -3.028e+04   2928.373    -10.341      0.000    -3.6e+04   -2.45e+04\n",
      "sub_area_Nizhegorodskoe                -2.413e+04   4264.213     -5.658      0.000   -3.25e+04   -1.58e+04\n",
      "sub_area_NovoPeredelkino               -1.208e+04   3814.513     -3.166      0.002   -1.96e+04   -4599.315\n",
      "sub_area_Novogireevo                   -6467.5081   3049.236     -2.121      0.034   -1.24e+04    -490.866\n",
      "sub_area_Novokosino                    -9210.9765   3496.669     -2.634      0.008   -1.61e+04   -2357.344\n",
      "sub_area_Obruchevskoe                   1.252e+04   3158.036      3.965      0.000    6332.971    1.87e+04\n",
      "sub_area_OchakovoMatveevskoe           -6205.0227   2849.601     -2.178      0.029   -1.18e+04    -619.675\n",
      "sub_area_OrehovoBorisovo_Juzhnoe       -1259.4535   3270.205     -0.385      0.700   -7669.206    5150.299\n",
      "sub_area_OrehovoBorisovo_Severnoe      -1.091e+04   3155.489     -3.458      0.001   -1.71e+04   -4725.703\n",
      "sub_area_Ostankinskoe                   1.369e+04   4203.213      3.257      0.001    5453.137    2.19e+04\n",
      "sub_area_Otradnoe                      -4666.9516   2669.126     -1.748      0.080   -9898.562     564.658\n",
      "sub_area_Pechatniki                    -1.909e+04   3093.901     -6.171      0.000   -2.52e+04    -1.3e+04\n",
      "sub_area_Perovo                        -1.506e+04   2886.158     -5.219      0.000   -2.07e+04   -9405.768\n",
      "sub_area_Pokrovskoe_Streshnevo          7881.8257   3241.465      2.432      0.015    1528.404    1.42e+04\n",
      "sub_area_Poselenie_Desjonovskoe        -2.064e+04   4514.142     -4.573      0.000   -2.95e+04   -1.18e+04\n",
      "sub_area_Poselenie_Filimonkovskoe      -3.714e+04   4199.112     -8.846      0.000   -4.54e+04   -2.89e+04\n",
      "sub_area_Poselenie_Kievskij             6.069e+04   2.43e+04      2.494      0.013     1.3e+04    1.08e+05\n",
      "sub_area_Poselenie_Kokoshkino          -2.604e+04   9124.259     -2.854      0.004   -4.39e+04   -8157.131\n",
      "sub_area_Poselenie_Krasnopahorskoe     -2.323e+04   9138.567     -2.542      0.011   -4.11e+04   -5314.060\n",
      "sub_area_Poselenie_Marushkinskoe        -2.85e+04   1.49e+04     -1.912      0.056   -5.77e+04     715.917\n",
      "sub_area_Poselenie_MihajlovoJarcevskoe -5056.8885   3.25e+04     -0.156      0.876   -6.88e+04    5.87e+04\n",
      "sub_area_Poselenie_Moskovskij          -3.207e+04   3190.045    -10.052      0.000   -3.83e+04   -2.58e+04\n",
      "sub_area_Poselenie_Mosrentgen          -4.049e+04   7621.766     -5.312      0.000   -5.54e+04   -2.56e+04\n",
      "sub_area_Poselenie_Novofedorovskoe     -9869.8162   8489.899     -1.163      0.245   -2.65e+04    6770.775\n",
      "sub_area_Poselenie_Pervomajskoe        -2.547e+04   6082.850     -4.187      0.000   -3.74e+04   -1.35e+04\n",
      "sub_area_Poselenie_Rjazanovskoe        -2.309e+04   7237.692     -3.190      0.001   -3.73e+04   -8899.863\n",
      "sub_area_Poselenie_Rogovskoe            2.739e+04    1.3e+04      2.106      0.035    1899.204    5.29e+04\n",
      "sub_area_Poselenie_Shherbinka          -3.072e+04   4145.717     -7.410      0.000   -3.88e+04   -2.26e+04\n",
      "sub_area_Poselenie_Sosenskoe           -3.269e+04   3039.764    -10.753      0.000   -3.86e+04   -2.67e+04\n",
      "sub_area_Poselenie_Vnukovskoe          -1.792e+04   3271.243     -5.479      0.000   -2.43e+04   -1.15e+04\n",
      "sub_area_Poselenie_Voronovskoe          1.079e+04   1.56e+04      0.691      0.489   -1.98e+04    4.14e+04\n",
      "sub_area_Poselenie_Voskresenskoe       -2.233e+04   3829.947     -5.830      0.000   -2.98e+04   -1.48e+04\n",
      "sub_area_Preobrazhenskoe               -5234.5061   3328.508     -1.573      0.116   -1.18e+04    1289.522\n",
      "sub_area_Presnenskoe                    3.558e+04   3362.817     10.581      0.000     2.9e+04    4.22e+04\n",
      "sub_area_Prospekt_Vernadskogo           3.116e+04   3828.784      8.139      0.000    2.37e+04    3.87e+04\n",
      "sub_area_Ramenki                        2.202e+04   2910.670      7.564      0.000    1.63e+04    2.77e+04\n",
      "sub_area_Rjazanskij                    -1.395e+04   3133.575     -4.453      0.000   -2.01e+04   -7812.285\n",
      "sub_area_Rostokino                     -1116.0177   4616.015     -0.242      0.809   -1.02e+04    7931.584\n",
      "sub_area_Savelki                        9784.4880   6226.155      1.572      0.116   -2419.063     2.2e+04\n",
      "sub_area_Savelovskoe                    6114.4686   4204.128      1.454      0.146   -2125.816    1.44e+04\n",
      "sub_area_Severnoe                      -2.315e+04   5930.462     -3.903      0.000   -3.48e+04   -1.15e+04\n",
      "sub_area_Severnoe_Butovo                1.178e+04   3630.218      3.245      0.001    4664.242    1.89e+04\n",
      "sub_area_Severnoe_Izmajlovo            -1.046e+04   3234.161     -3.236      0.001   -1.68e+04   -4125.264\n",
      "sub_area_Severnoe_Medvedkovo            2673.6889   3332.318      0.802      0.422   -3857.808    9205.186\n",
      "sub_area_Severnoe_Tushino               1.085e+04   2960.171      3.666      0.000    5049.018    1.67e+04\n",
      "sub_area_Shhukino                       1.632e+04   3286.866      4.965      0.000    9877.211    2.28e+04\n",
      "sub_area_Silino                         7329.5696   6469.957      1.133      0.257   -5351.842       2e+04\n",
      "sub_area_Sokol                          1.411e+04   4414.659      3.196      0.001    5458.028    2.28e+04\n",
      "sub_area_Sokolinaja_Gora               -8294.5392   3157.421     -2.627      0.009   -1.45e+04   -2105.849\n",
      "sub_area_Sokolniki                      2.654e+04   4633.804      5.727      0.000    1.75e+04    3.56e+04\n",
      "sub_area_Solncevo                      -2.415e+04   2848.912     -8.477      0.000   -2.97e+04   -1.86e+04\n",
      "sub_area_Staroe_Krjukovo                6365.5219   6481.571      0.982      0.326   -6338.655    1.91e+04\n",
      "sub_area_Strogino                       2.128e+04   2870.076      7.416      0.000    1.57e+04    2.69e+04\n",
      "sub_area_Sviblovo                       6683.0100   3460.938      1.931      0.053    -100.588    1.35e+04\n",
      "sub_area_Taganskoe                      1.891e+04   3509.842      5.388      0.000     1.2e+04    2.58e+04\n",
      "sub_area_Tekstilshhiki                 -1.925e+04   2747.469     -7.008      0.000   -2.46e+04   -1.39e+04\n",
      "sub_area_Teplyj_Stan                    5725.1671   3367.384      1.700      0.089    -875.061    1.23e+04\n",
      "sub_area_Timirjazevskoe                -5774.9529   3343.055     -1.727      0.084   -1.23e+04     777.588\n",
      "sub_area_Troickij_okrug                -1.113e+04   5929.985     -1.878      0.060   -2.28e+04     489.316\n",
      "sub_area_TroparevoNikulino              1.909e+04   3563.031      5.358      0.000    1.21e+04    2.61e+04\n",
      "sub_area_Tverskoe                      -5.003e+04   3068.369    -16.305      0.000    -5.6e+04    -4.4e+04\n",
      "sub_area_Veshnjaki                     -1.718e+04   3031.510     -5.667      0.000   -2.31e+04   -1.12e+04\n",
      "sub_area_Vnukovo                       -1.383e+04   6028.929     -2.293      0.022   -2.56e+04   -2009.665\n",
      "sub_area_Vojkovskoe                     3082.7534   3475.440      0.887      0.375   -3729.269    9894.776\n",
      "sub_area_Vostochnoe                    -1.787e+04   1.22e+04     -1.462      0.144   -4.18e+04    6093.435\n",
      "sub_area_Vostochnoe_Degunino           -8804.6264   3655.482     -2.409      0.016    -1.6e+04   -1639.714\n",
      "sub_area_Vostochnoe_Izmajlovo          -1.028e+04   3321.974     -3.095      0.002   -1.68e+04   -3770.734\n",
      "sub_area_VyhinoZhulebino               -1.063e+04   2913.537     -3.650      0.000   -1.63e+04   -4924.073\n",
      "sub_area_Zamoskvoreche                  5.357e+04   5236.602     10.230      0.000    4.33e+04    6.38e+04\n",
      "sub_area_Zapadnoe_Degunino             -3.537e+04   2773.060    -12.756      0.000   -4.08e+04   -2.99e+04\n",
      "sub_area_Zjablikovo                      736.5139   3705.828      0.199      0.842   -6527.080    8000.108\n",
      "==============================================================================\n",
      "Omnibus:                     5113.079   Durbin-Watson:                   1.970\n",
      "Prob(Omnibus):                  0.000   Jarque-Bera (JB):            63838.202\n",
      "Skew:                          -0.471   Prob(JB):                         0.00\n",
      "Kurtosis:                      10.195   Cond. No.                     2.85e+15\n",
      "==============================================================================\n",
      "\n",
      "Warnings:\n",
      "[1] Standard Errors assume that the covariance matrix of the errors is correctly specified.\n",
      "[2] The smallest eigenvalue is 1.31e-23. This might indicate that there are\n",
      "strong multicollinearity problems or that the design matrix is singular.\n"
     ]
    }
   ],
   "source": [
    "model = sm.ols(formula ='price_full ~ ' + all_columns, data = df_all)\n",
    "fitted = model.fit()\n",
    "print fitted.summary()"
   ]
  },
  {
   "cell_type": "code",
   "execution_count": 87,
   "metadata": {},
   "outputs": [
    {
     "data": {
      "text/plain": [
       "<matplotlib.text.Text at 0x110deb990>"
      ]
     },
     "execution_count": 87,
     "metadata": {},
     "output_type": "execute_result"
    },
    {
     "data": {
      "image/png": "[encoded data removed]",
      "text/plain": [
       "<matplotlib.figure.Figure at 0x110dd0990>"
      ]
     },
     "metadata": {},
     "output_type": "display_data"
    }
   ],
   "source": [
    "plt.hist(fitted.resid)\n",
    "plt.ylabel('Count')\n",
    "plt.xlabel('Normalized residuals')"
   ]
  },
  {
   "cell_type": "code",
   "execution_count": 307,
   "metadata": {},
   "outputs": [
    {
     "name": "stderr",
     "output_type": "stream",
     "text": [
      "/Library/Frameworks/Python.framework/Versions/2.7/lib/python2.7/site-packages/statsmodels/stats/outliers_influence.py:309: RuntimeWarning: invalid value encountered in sqrt\n",
      "  return  self.results.resid / sigma / np.sqrt(1 - hii)\n",
      "/Library/Frameworks/Python.framework/Versions/2.7/lib/python2.7/site-packages/scipy/stats/_distn_infrastructure.py:879: RuntimeWarning: invalid value encountered in greater\n",
      "  return (self.a < x) & (x < self.b)\n",
      "/Library/Frameworks/Python.framework/Versions/2.7/lib/python2.7/site-packages/scipy/stats/_distn_infrastructure.py:879: RuntimeWarning: invalid value encountered in less\n",
      "  return (self.a < x) & (x < self.b)\n",
      "/Library/Frameworks/Python.framework/Versions/2.7/lib/python2.7/site-packages/scipy/stats/_distn_infrastructure.py:1818: RuntimeWarning: invalid value encountered in less_equal\n",
      "  cond2 = cond0 & (x <= self.a)\n"
     ]
    },
    {
     "data": {
      "text/html": [
       "<div>\n",
       "<style>\n",
       "    .dataframe thead tr:only-child th {\n",
       "        text-align: right;\n",
       "    }\n",
       "\n",
       "    .dataframe thead th {\n",
       "        text-align: left;\n",
       "    }\n",
       "\n",
       "    .dataframe tbody tr th {\n",
       "        vertical-align: top;\n",
       "    }\n",
       "</style>\n",
       "<table border=\"1\" class=\"dataframe\">\n",
       "  <thead>\n",
       "    <tr style=\"text-align: right;\">\n",
       "      <th></th>\n",
       "      <th>c</th>\n",
       "      <th>p</th>\n",
       "    </tr>\n",
       "  </thead>\n",
       "  <tbody>\n",
       "    <tr>\n",
       "      <th>20221</th>\n",
       "      <td>1.236036e-15</td>\n",
       "      <td>1.0</td>\n",
       "    </tr>\n",
       "    <tr>\n",
       "      <th>5589</th>\n",
       "      <td>1.225272e-14</td>\n",
       "      <td>1.0</td>\n",
       "    </tr>\n",
       "    <tr>\n",
       "      <th>13536</th>\n",
       "      <td>2.282613e-13</td>\n",
       "      <td>1.0</td>\n",
       "    </tr>\n",
       "    <tr>\n",
       "      <th>7994</th>\n",
       "      <td>2.571682e-13</td>\n",
       "      <td>1.0</td>\n",
       "    </tr>\n",
       "    <tr>\n",
       "      <th>12519</th>\n",
       "      <td>5.616858e-13</td>\n",
       "      <td>1.0</td>\n",
       "    </tr>\n",
       "    <tr>\n",
       "      <th>23956</th>\n",
       "      <td>6.565785e-13</td>\n",
       "      <td>1.0</td>\n",
       "    </tr>\n",
       "    <tr>\n",
       "      <th>9063</th>\n",
       "      <td>6.566309e-13</td>\n",
       "      <td>1.0</td>\n",
       "    </tr>\n",
       "    <tr>\n",
       "      <th>27791</th>\n",
       "      <td>9.269465e-13</td>\n",
       "      <td>1.0</td>\n",
       "    </tr>\n",
       "    <tr>\n",
       "      <th>15215</th>\n",
       "      <td>9.387580e-13</td>\n",
       "      <td>1.0</td>\n",
       "    </tr>\n",
       "    <tr>\n",
       "      <th>10915</th>\n",
       "      <td>1.191312e-12</td>\n",
       "      <td>1.0</td>\n",
       "    </tr>\n",
       "    <tr>\n",
       "      <th>17412</th>\n",
       "      <td>1.884733e-12</td>\n",
       "      <td>1.0</td>\n",
       "    </tr>\n",
       "    <tr>\n",
       "      <th>5062</th>\n",
       "      <td>2.164396e-12</td>\n",
       "      <td>1.0</td>\n",
       "    </tr>\n",
       "    <tr>\n",
       "      <th>4680</th>\n",
       "      <td>2.520179e-12</td>\n",
       "      <td>1.0</td>\n",
       "    </tr>\n",
       "    <tr>\n",
       "      <th>9664</th>\n",
       "      <td>2.603609e-12</td>\n",
       "      <td>1.0</td>\n",
       "    </tr>\n",
       "    <tr>\n",
       "      <th>1856</th>\n",
       "      <td>3.011312e-12</td>\n",
       "      <td>1.0</td>\n",
       "    </tr>\n",
       "    <tr>\n",
       "      <th>7006</th>\n",
       "      <td>3.157925e-12</td>\n",
       "      <td>1.0</td>\n",
       "    </tr>\n",
       "    <tr>\n",
       "      <th>23599</th>\n",
       "      <td>3.213309e-12</td>\n",
       "      <td>1.0</td>\n",
       "    </tr>\n",
       "    <tr>\n",
       "      <th>3930</th>\n",
       "      <td>3.439949e-12</td>\n",
       "      <td>1.0</td>\n",
       "    </tr>\n",
       "    <tr>\n",
       "      <th>7803</th>\n",
       "      <td>3.992410e-12</td>\n",
       "      <td>1.0</td>\n",
       "    </tr>\n",
       "    <tr>\n",
       "      <th>13143</th>\n",
       "      <td>4.173530e-12</td>\n",
       "      <td>1.0</td>\n",
       "    </tr>\n",
       "    <tr>\n",
       "      <th>14919</th>\n",
       "      <td>7.989128e-12</td>\n",
       "      <td>1.0</td>\n",
       "    </tr>\n",
       "    <tr>\n",
       "      <th>18436</th>\n",
       "      <td>9.212131e-12</td>\n",
       "      <td>1.0</td>\n",
       "    </tr>\n",
       "    <tr>\n",
       "      <th>18843</th>\n",
       "      <td>9.212131e-12</td>\n",
       "      <td>1.0</td>\n",
       "    </tr>\n",
       "    <tr>\n",
       "      <th>22944</th>\n",
       "      <td>1.035059e-11</td>\n",
       "      <td>1.0</td>\n",
       "    </tr>\n",
       "    <tr>\n",
       "      <th>21327</th>\n",
       "      <td>1.044128e-11</td>\n",
       "      <td>1.0</td>\n",
       "    </tr>\n",
       "    <tr>\n",
       "      <th>14121</th>\n",
       "      <td>1.081055e-11</td>\n",
       "      <td>1.0</td>\n",
       "    </tr>\n",
       "    <tr>\n",
       "      <th>13803</th>\n",
       "      <td>1.179180e-11</td>\n",
       "      <td>1.0</td>\n",
       "    </tr>\n",
       "    <tr>\n",
       "      <th>13590</th>\n",
       "      <td>1.229062e-11</td>\n",
       "      <td>1.0</td>\n",
       "    </tr>\n",
       "    <tr>\n",
       "      <th>16273</th>\n",
       "      <td>1.272249e-11</td>\n",
       "      <td>1.0</td>\n",
       "    </tr>\n",
       "    <tr>\n",
       "      <th>28480</th>\n",
       "      <td>1.319049e-11</td>\n",
       "      <td>1.0</td>\n",
       "    </tr>\n",
       "    <tr>\n",
       "      <th>...</th>\n",
       "      <td>...</td>\n",
       "      <td>...</td>\n",
       "    </tr>\n",
       "    <tr>\n",
       "      <th>24900</th>\n",
       "      <td>2.380145e-03</td>\n",
       "      <td>1.0</td>\n",
       "    </tr>\n",
       "    <tr>\n",
       "      <th>11930</th>\n",
       "      <td>2.468073e-03</td>\n",
       "      <td>1.0</td>\n",
       "    </tr>\n",
       "    <tr>\n",
       "      <th>22887</th>\n",
       "      <td>2.558222e-03</td>\n",
       "      <td>1.0</td>\n",
       "    </tr>\n",
       "    <tr>\n",
       "      <th>9644</th>\n",
       "      <td>2.643812e-03</td>\n",
       "      <td>1.0</td>\n",
       "    </tr>\n",
       "    <tr>\n",
       "      <th>6901</th>\n",
       "      <td>2.727869e-03</td>\n",
       "      <td>1.0</td>\n",
       "    </tr>\n",
       "    <tr>\n",
       "      <th>1668</th>\n",
       "      <td>2.904319e-03</td>\n",
       "      <td>1.0</td>\n",
       "    </tr>\n",
       "    <tr>\n",
       "      <th>19383</th>\n",
       "      <td>2.998412e-03</td>\n",
       "      <td>1.0</td>\n",
       "    </tr>\n",
       "    <tr>\n",
       "      <th>16525</th>\n",
       "      <td>3.083202e-03</td>\n",
       "      <td>1.0</td>\n",
       "    </tr>\n",
       "    <tr>\n",
       "      <th>22866</th>\n",
       "      <td>3.167833e-03</td>\n",
       "      <td>1.0</td>\n",
       "    </tr>\n",
       "    <tr>\n",
       "      <th>16565</th>\n",
       "      <td>3.189557e-03</td>\n",
       "      <td>1.0</td>\n",
       "    </tr>\n",
       "    <tr>\n",
       "      <th>21843</th>\n",
       "      <td>3.346524e-03</td>\n",
       "      <td>1.0</td>\n",
       "    </tr>\n",
       "    <tr>\n",
       "      <th>8951</th>\n",
       "      <td>3.356226e-03</td>\n",
       "      <td>1.0</td>\n",
       "    </tr>\n",
       "    <tr>\n",
       "      <th>15656</th>\n",
       "      <td>3.440030e-03</td>\n",
       "      <td>1.0</td>\n",
       "    </tr>\n",
       "    <tr>\n",
       "      <th>26146</th>\n",
       "      <td>3.714791e-03</td>\n",
       "      <td>1.0</td>\n",
       "    </tr>\n",
       "    <tr>\n",
       "      <th>3060</th>\n",
       "      <td>3.737435e-03</td>\n",
       "      <td>1.0</td>\n",
       "    </tr>\n",
       "    <tr>\n",
       "      <th>15196</th>\n",
       "      <td>3.879962e-03</td>\n",
       "      <td>1.0</td>\n",
       "    </tr>\n",
       "    <tr>\n",
       "      <th>23619</th>\n",
       "      <td>4.060816e-03</td>\n",
       "      <td>1.0</td>\n",
       "    </tr>\n",
       "    <tr>\n",
       "      <th>17191</th>\n",
       "      <td>4.097498e-03</td>\n",
       "      <td>1.0</td>\n",
       "    </tr>\n",
       "    <tr>\n",
       "      <th>18271</th>\n",
       "      <td>4.193444e-03</td>\n",
       "      <td>1.0</td>\n",
       "    </tr>\n",
       "    <tr>\n",
       "      <th>3185</th>\n",
       "      <td>5.554672e-03</td>\n",
       "      <td>1.0</td>\n",
       "    </tr>\n",
       "    <tr>\n",
       "      <th>10377</th>\n",
       "      <td>6.316656e-03</td>\n",
       "      <td>1.0</td>\n",
       "    </tr>\n",
       "    <tr>\n",
       "      <th>2155</th>\n",
       "      <td>6.754353e-03</td>\n",
       "      <td>1.0</td>\n",
       "    </tr>\n",
       "    <tr>\n",
       "      <th>21620</th>\n",
       "      <td>7.011997e-03</td>\n",
       "      <td>1.0</td>\n",
       "    </tr>\n",
       "    <tr>\n",
       "      <th>15765</th>\n",
       "      <td>8.533812e-03</td>\n",
       "      <td>1.0</td>\n",
       "    </tr>\n",
       "    <tr>\n",
       "      <th>16220</th>\n",
       "      <td>1.086874e-02</td>\n",
       "      <td>1.0</td>\n",
       "    </tr>\n",
       "    <tr>\n",
       "      <th>23396</th>\n",
       "      <td>1.162950e-02</td>\n",
       "      <td>1.0</td>\n",
       "    </tr>\n",
       "    <tr>\n",
       "      <th>24563</th>\n",
       "      <td>4.037761e-02</td>\n",
       "      <td>1.0</td>\n",
       "    </tr>\n",
       "    <tr>\n",
       "      <th>13589</th>\n",
       "      <td>4.037761e-02</td>\n",
       "      <td>1.0</td>\n",
       "    </tr>\n",
       "    <tr>\n",
       "      <th>17585</th>\n",
       "      <td>NaN</td>\n",
       "      <td>NaN</td>\n",
       "    </tr>\n",
       "    <tr>\n",
       "      <th>27095</th>\n",
       "      <td>NaN</td>\n",
       "      <td>NaN</td>\n",
       "    </tr>\n",
       "  </tbody>\n",
       "</table>\n",
       "<p>29096 rows × 2 columns</p>\n",
       "</div>"
      ],
      "text/plain": [
       "                  c    p\n",
       "20221  1.236036e-15  1.0\n",
       "5589   1.225272e-14  1.0\n",
       "13536  2.282613e-13  1.0\n",
       "7994   2.571682e-13  1.0\n",
       "12519  5.616858e-13  1.0\n",
       "23956  6.565785e-13  1.0\n",
       "9063   6.566309e-13  1.0\n",
       "27791  9.269465e-13  1.0\n",
       "15215  9.387580e-13  1.0\n",
       "10915  1.191312e-12  1.0\n",
       "17412  1.884733e-12  1.0\n",
       "5062   2.164396e-12  1.0\n",
       "4680   2.520179e-12  1.0\n",
       "9664   2.603609e-12  1.0\n",
       "1856   3.011312e-12  1.0\n",
       "7006   3.157925e-12  1.0\n",
       "23599  3.213309e-12  1.0\n",
       "3930   3.439949e-12  1.0\n",
       "7803   3.992410e-12  1.0\n",
       "13143  4.173530e-12  1.0\n",
       "14919  7.989128e-12  1.0\n",
       "18436  9.212131e-12  1.0\n",
       "18843  9.212131e-12  1.0\n",
       "22944  1.035059e-11  1.0\n",
       "21327  1.044128e-11  1.0\n",
       "14121  1.081055e-11  1.0\n",
       "13803  1.179180e-11  1.0\n",
       "13590  1.229062e-11  1.0\n",
       "16273  1.272249e-11  1.0\n",
       "28480  1.319049e-11  1.0\n",
       "...             ...  ...\n",
       "24900  2.380145e-03  1.0\n",
       "11930  2.468073e-03  1.0\n",
       "22887  2.558222e-03  1.0\n",
       "9644   2.643812e-03  1.0\n",
       "6901   2.727869e-03  1.0\n",
       "1668   2.904319e-03  1.0\n",
       "19383  2.998412e-03  1.0\n",
       "16525  3.083202e-03  1.0\n",
       "22866  3.167833e-03  1.0\n",
       "16565  3.189557e-03  1.0\n",
       "21843  3.346524e-03  1.0\n",
       "8951   3.356226e-03  1.0\n",
       "15656  3.440030e-03  1.0\n",
       "26146  3.714791e-03  1.0\n",
       "3060   3.737435e-03  1.0\n",
       "15196  3.879962e-03  1.0\n",
       "23619  4.060816e-03  1.0\n",
       "17191  4.097498e-03  1.0\n",
       "18271  4.193444e-03  1.0\n",
       "3185   5.554672e-03  1.0\n",
       "10377  6.316656e-03  1.0\n",
       "2155   6.754353e-03  1.0\n",
       "21620  7.011997e-03  1.0\n",
       "15765  8.533812e-03  1.0\n",
       "16220  1.086874e-02  1.0\n",
       "23396  1.162950e-02  1.0\n",
       "24563  4.037761e-02  1.0\n",
       "13589  4.037761e-02  1.0\n",
       "17585           NaN  NaN\n",
       "27095           NaN  NaN\n",
       "\n",
       "[29096 rows x 2 columns]"
      ]
     },
     "execution_count": 307,
     "metadata": {},
     "output_type": "execute_result"
    }
   ],
   "source": [
    "influence = fitted.get_influence()\n",
    "#c is the distance and p is p-value\n",
    "x = pd.DataFrame({'c' :influence.cooks_distance[0], 'p': influence.cooks_distance[1]})\n",
    "x.sort_values('c')"
   ]
  },
  {
   "cell_type": "code",
   "execution_count": null,
   "metadata": {
    "collapsed": true
   },
   "outputs": [],
   "source": [
    "from statsmodels.graphics.regressionplots import *\n",
    "plot_leverage_resid2(fitted)\n",
    "influence_plot(fitted)"
   ]
  },
  {
   "cell_type": "code",
   "execution_count": 20,
   "metadata": {},
   "outputs": [
    {
     "data": {
      "text/plain": [
       "price_doc               8439.36\n",
       "full_sq                      55\n",
       "sub_area      Nagatinskij_Zaton\n",
       "kremlin_km              8.05738\n",
       "price_full              153.443\n",
       "Name: 27096, dtype: object"
      ]
     },
     "execution_count": 20,
     "metadata": {},
     "output_type": "execute_result"
    }
   ],
   "source": [
    "cols = ['price_doc','full_sq','sub_area','kremlin_km','price_full']\n",
    "df.loc[27096,cols]"
   ]
  },
  {
   "cell_type": "code",
   "execution_count": 17,
   "metadata": {},
   "outputs": [
    {
     "data": {
      "text/plain": [
       "456.50076120743444"
      ]
     },
     "execution_count": 17,
     "metadata": {},
     "output_type": "execute_result"
    }
   ],
   "source": []
  },
  {
   "cell_type": "code",
   "execution_count": null,
   "metadata": {
    "collapsed": true
   },
   "outputs": [],
   "source": []
  },
  {
   "cell_type": "code",
   "execution_count": null,
   "metadata": {
    "collapsed": true
   },
   "outputs": [],
   "source": []
  },
  {
   "cell_type": "code",
   "execution_count": null,
   "metadata": {
    "collapsed": true
   },
   "outputs": [],
   "source": []
  },
  {
   "cell_type": "code",
   "execution_count": null,
   "metadata": {
    "collapsed": true
   },
   "outputs": [],
   "source": []
  },
  {
   "cell_type": "code",
   "execution_count": 119,
   "metadata": {},
   "outputs": [
    {
     "name": "stdout",
     "output_type": "stream",
     "text": [
      "[ 0.55611992  0.57563789  0.64236933  0.60385353  0.59513042  0.59961819\n",
      "  0.57438759  0.53179857  0.6425252   0.65684506]\n"
     ]
    }
   ],
   "source": [
    "cv_scores = cross_val_score(ols, x_train, y_train, cv=10)\n",
    "print cv_scores"
   ]
  },
  {
   "cell_type": "code",
   "execution_count": 120,
   "metadata": {},
   "outputs": [
    {
     "data": {
      "text/plain": [
       "array([ 15.243526  ,  15.81082405,  15.33321917, ...,  15.11978371,\n",
       "        15.37032004,  15.75736919])"
      ]
     },
     "execution_count": 120,
     "metadata": {},
     "output_type": "execute_result"
    }
   ],
   "source": [
    "ols.predict(x_test)"
   ]
  },
  {
   "cell_type": "code",
   "execution_count": 121,
   "metadata": {},
   "outputs": [
    {
     "name": "stdout",
     "output_type": "stream",
     "text": [
      "[ 0.55611992  0.57563789  0.64236933  0.60385353  0.59513042  0.59961819\n",
      "  0.57438759  0.53179857  0.6425252   0.65684506]\n"
     ]
    }
   ],
   "source": [
    "cv_scores = cross_val_score(ols, x_train, y_train, cv=10)\n",
    "print cv_scores"
   ]
  },
  {
   "cell_type": "code",
   "execution_count": 122,
   "metadata": {
    "collapsed": true
   },
   "outputs": [],
   "source": [
    "test1 = pd.DataFrame({'price_doc': ols.predict(x_test)},index=test_index)"
   ]
  },
  {
   "cell_type": "code",
   "execution_count": 123,
   "metadata": {
    "collapsed": true
   },
   "outputs": [],
   "source": [
    "test['price_doc'] = ols.predict(x_test)"
   ]
  },
  {
   "cell_type": "code",
   "execution_count": 124,
   "metadata": {
    "collapsed": true
   },
   "outputs": [],
   "source": [
    "from sklearn.linear_model import Ridge\n",
    "from sklearn.pipeline import make_pipeline\n",
    "from sklearn.preprocessing import MinMaxScaler\n",
    "from sklearn.model_selection import GridSearchCV\n",
    "\n",
    "\n",
    "pipe  =  make_pipeline(MinMaxScaler(), Ridge())\n",
    "param_grid = {'ridge__alpha': [100,10,1,0.1,0.01,0.001,0.0001,0]}\n",
    "grid =  GridSearchCV(pipe, param_grid, cv=5)\n",
    "lm_predictions = grid.fit(x_train, y_train)"
   ]
  },
  {
   "cell_type": "code",
   "execution_count": 125,
   "metadata": {},
   "outputs": [
    {
     "name": "stdout",
     "output_type": "stream",
     "text": [
      "0.597609856336\n"
     ]
    }
   ],
   "source": [
    "# print lm_predictions.predict(x_train)\n",
    "print lm_predictions.best_score_"
   ]
  },
  {
   "cell_type": "code",
   "execution_count": null,
   "metadata": {
    "collapsed": true
   },
   "outputs": [],
   "source": [
    "from sklearn import preprocessing "
   ]
  },
  {
   "cell_type": "code",
   "execution_count": null,
   "metadata": {
    "collapsed": true
   },
   "outputs": [],
   "source": []
  },
  {
   "cell_type": "code",
   "execution_count": null,
   "metadata": {
    "collapsed": true
   },
   "outputs": [],
   "source": [
    "np.exp(log_y_test)"
   ]
  },
  {
   "cell_type": "code",
   "execution_count": 58,
   "metadata": {},
   "outputs": [
    {
     "data": {
      "text/plain": [
       "GridSearchCV(cv=5, error_score='raise',\n",
       "       estimator=Pipeline(steps=[('minmaxscaler', MinMaxScaler(copy=True, feature_range=(0, 1))), ('ridge', Ridge(alpha=1.0, copy_X=True, fit_intercept=True, max_iter=None,\n",
       "   normalize=False, random_state=None, solver='auto', tol=0.001))]),\n",
       "       fit_params={}, iid=True, n_jobs=1,\n",
       "       param_grid={'ridge__alpha': [100, 10, 1, 0.1, 0.01, 0.001, 0.0001, 0]},\n",
       "       pre_dispatch='2*n_jobs', refit=True, return_train_score=True,\n",
       "       scoring=None, verbose=0)"
      ]
     },
     "execution_count": 58,
     "metadata": {},
     "output_type": "execute_result"
    }
   ],
   "source": [
    "cols = ['timestamp','price_doc','nominal_index','adj_price_doc','price_full','log_price','price_full']\n",
    "\n",
    "pipe  =  make_pipeline(MinMaxScaler(), Ridge())\n",
    "param_grid = {'ridge__alpha': [100,10,1,0.1,0.01,0.001,0.0001,0]}\n",
    "grid =  GridSearchCV(pipe, param_grid, cv=5)\n",
    "grid.fit(x_train, y_train)"
   ]
  },
  {
   "cell_type": "code",
   "execution_count": 59,
   "metadata": {
    "collapsed": true
   },
   "outputs": [],
   "source": [
    "sub = grid.predict(x_test)"
   ]
  },
  {
   "cell_type": "code",
   "execution_count": 60,
   "metadata": {
    "collapsed": true
   },
   "outputs": [],
   "source": [
    "sub = pd.DataFrame({'id': test_index, 'price_doc':sub})"
   ]
  },
  {
   "cell_type": "code",
   "execution_count": 61,
   "metadata": {
    "collapsed": true
   },
   "outputs": [],
   "source": [
    "sub.loc[:,'nominal_index'] = df.loc[test_index,'nominal_index'].values"
   ]
  },
  {
   "cell_type": "code",
   "execution_count": 66,
   "metadata": {},
   "outputs": [
    {
     "data": {
      "text/plain": [
       "'112889900.000000'"
      ]
     },
     "execution_count": 66,
     "metadata": {},
     "output_type": "execute_result"
    }
   ],
   "source": [
    "'%f' % 1.128899e+08"
   ]
  },
  {
   "cell_type": "code",
   "execution_count": 62,
   "metadata": {
    "collapsed": true
   },
   "outputs": [],
   "source": [
    "sub.price_doc = sub.price_doc * sub.nominal_index"
   ]
  },
  {
   "cell_type": "code",
   "execution_count": 63,
   "metadata": {
    "collapsed": true
   },
   "outputs": [],
   "source": [
    "sub.loc[:,'price_doc'].to_frame().to_csv('../Chase/submissions/052617_linear_ridge_regression.csv')"
   ]
  },
  {
   "cell_type": "code",
   "execution_count": 64,
   "metadata": {},
   "outputs": [
    {
     "data": {
      "text/html": [
       "<div>\n",
       "<style>\n",
       "    .dataframe thead tr:only-child th {\n",
       "        text-align: right;\n",
       "    }\n",
       "\n",
       "    .dataframe thead th {\n",
       "        text-align: left;\n",
       "    }\n",
       "\n",
       "    .dataframe tbody tr th {\n",
       "        vertical-align: top;\n",
       "    }\n",
       "</style>\n",
       "<table border=\"1\" class=\"dataframe\">\n",
       "  <thead>\n",
       "    <tr style=\"text-align: right;\">\n",
       "      <th></th>\n",
       "      <th>id</th>\n",
       "      <th>price_doc</th>\n",
       "      <th>nominal_index</th>\n",
       "    </tr>\n",
       "  </thead>\n",
       "  <tbody>\n",
       "    <tr>\n",
       "      <th>6938</th>\n",
       "      <td>37412</td>\n",
       "      <td>16.722780</td>\n",
       "      <td>1.162486</td>\n",
       "    </tr>\n",
       "    <tr>\n",
       "      <th>7654</th>\n",
       "      <td>38128</td>\n",
       "      <td>16.795930</td>\n",
       "      <td>1.162486</td>\n",
       "    </tr>\n",
       "    <tr>\n",
       "      <th>5143</th>\n",
       "      <td>35617</td>\n",
       "      <td>16.865221</td>\n",
       "      <td>1.173957</td>\n",
       "    </tr>\n",
       "    <tr>\n",
       "      <th>6092</th>\n",
       "      <td>36566</td>\n",
       "      <td>16.874353</td>\n",
       "      <td>1.173957</td>\n",
       "    </tr>\n",
       "    <tr>\n",
       "      <th>5422</th>\n",
       "      <td>35896</td>\n",
       "      <td>16.875906</td>\n",
       "      <td>1.173957</td>\n",
       "    </tr>\n",
       "    <tr>\n",
       "      <th>4552</th>\n",
       "      <td>35026</td>\n",
       "      <td>16.875906</td>\n",
       "      <td>1.173957</td>\n",
       "    </tr>\n",
       "    <tr>\n",
       "      <th>5166</th>\n",
       "      <td>35640</td>\n",
       "      <td>16.875906</td>\n",
       "      <td>1.173957</td>\n",
       "    </tr>\n",
       "    <tr>\n",
       "      <th>4112</th>\n",
       "      <td>34586</td>\n",
       "      <td>16.877455</td>\n",
       "      <td>1.173957</td>\n",
       "    </tr>\n",
       "    <tr>\n",
       "      <th>5638</th>\n",
       "      <td>36112</td>\n",
       "      <td>16.879989</td>\n",
       "      <td>1.173957</td>\n",
       "    </tr>\n",
       "    <tr>\n",
       "      <th>4617</th>\n",
       "      <td>35091</td>\n",
       "      <td>16.887796</td>\n",
       "      <td>1.173957</td>\n",
       "    </tr>\n",
       "    <tr>\n",
       "      <th>4697</th>\n",
       "      <td>35171</td>\n",
       "      <td>16.911206</td>\n",
       "      <td>1.173957</td>\n",
       "    </tr>\n",
       "    <tr>\n",
       "      <th>5751</th>\n",
       "      <td>36225</td>\n",
       "      <td>16.957039</td>\n",
       "      <td>1.173957</td>\n",
       "    </tr>\n",
       "    <tr>\n",
       "      <th>4042</th>\n",
       "      <td>34516</td>\n",
       "      <td>16.988215</td>\n",
       "      <td>1.173957</td>\n",
       "    </tr>\n",
       "    <tr>\n",
       "      <th>5651</th>\n",
       "      <td>36125</td>\n",
       "      <td>17.042997</td>\n",
       "      <td>1.173957</td>\n",
       "    </tr>\n",
       "    <tr>\n",
       "      <th>7085</th>\n",
       "      <td>37559</td>\n",
       "      <td>17.061701</td>\n",
       "      <td>1.162486</td>\n",
       "    </tr>\n",
       "    <tr>\n",
       "      <th>4852</th>\n",
       "      <td>35326</td>\n",
       "      <td>17.062022</td>\n",
       "      <td>1.173957</td>\n",
       "    </tr>\n",
       "    <tr>\n",
       "      <th>7526</th>\n",
       "      <td>38000</td>\n",
       "      <td>17.067083</td>\n",
       "      <td>1.162486</td>\n",
       "    </tr>\n",
       "    <tr>\n",
       "      <th>7318</th>\n",
       "      <td>37792</td>\n",
       "      <td>17.069329</td>\n",
       "      <td>1.162486</td>\n",
       "    </tr>\n",
       "    <tr>\n",
       "      <th>7468</th>\n",
       "      <td>37942</td>\n",
       "      <td>17.131200</td>\n",
       "      <td>1.162486</td>\n",
       "    </tr>\n",
       "    <tr>\n",
       "      <th>2911</th>\n",
       "      <td>33385</td>\n",
       "      <td>17.131981</td>\n",
       "      <td>1.194126</td>\n",
       "    </tr>\n",
       "    <tr>\n",
       "      <th>6942</th>\n",
       "      <td>37416</td>\n",
       "      <td>17.138135</td>\n",
       "      <td>1.162486</td>\n",
       "    </tr>\n",
       "    <tr>\n",
       "      <th>3094</th>\n",
       "      <td>33568</td>\n",
       "      <td>17.144261</td>\n",
       "      <td>1.194126</td>\n",
       "    </tr>\n",
       "    <tr>\n",
       "      <th>5867</th>\n",
       "      <td>36341</td>\n",
       "      <td>17.147322</td>\n",
       "      <td>1.173957</td>\n",
       "    </tr>\n",
       "    <tr>\n",
       "      <th>2320</th>\n",
       "      <td>32794</td>\n",
       "      <td>17.154779</td>\n",
       "      <td>1.194126</td>\n",
       "    </tr>\n",
       "    <tr>\n",
       "      <th>4851</th>\n",
       "      <td>35325</td>\n",
       "      <td>17.154889</td>\n",
       "      <td>1.173957</td>\n",
       "    </tr>\n",
       "    <tr>\n",
       "      <th>3271</th>\n",
       "      <td>33745</td>\n",
       "      <td>17.165836</td>\n",
       "      <td>1.194126</td>\n",
       "    </tr>\n",
       "    <tr>\n",
       "      <th>1947</th>\n",
       "      <td>32421</td>\n",
       "      <td>17.165838</td>\n",
       "      <td>1.194126</td>\n",
       "    </tr>\n",
       "    <tr>\n",
       "      <th>4516</th>\n",
       "      <td>34990</td>\n",
       "      <td>17.167156</td>\n",
       "      <td>1.173957</td>\n",
       "    </tr>\n",
       "    <tr>\n",
       "      <th>1538</th>\n",
       "      <td>32012</td>\n",
       "      <td>17.167415</td>\n",
       "      <td>1.194126</td>\n",
       "    </tr>\n",
       "    <tr>\n",
       "      <th>1658</th>\n",
       "      <td>32132</td>\n",
       "      <td>17.168994</td>\n",
       "      <td>1.194126</td>\n",
       "    </tr>\n",
       "    <tr>\n",
       "      <th>...</th>\n",
       "      <td>...</td>\n",
       "      <td>...</td>\n",
       "      <td>...</td>\n",
       "    </tr>\n",
       "    <tr>\n",
       "      <th>1780</th>\n",
       "      <td>32254</td>\n",
       "      <td>20.347228</td>\n",
       "      <td>1.194126</td>\n",
       "    </tr>\n",
       "    <tr>\n",
       "      <th>174</th>\n",
       "      <td>30648</td>\n",
       "      <td>20.375927</td>\n",
       "      <td>1.214295</td>\n",
       "    </tr>\n",
       "    <tr>\n",
       "      <th>1385</th>\n",
       "      <td>31859</td>\n",
       "      <td>20.378740</td>\n",
       "      <td>1.214295</td>\n",
       "    </tr>\n",
       "    <tr>\n",
       "      <th>1039</th>\n",
       "      <td>31513</td>\n",
       "      <td>20.392890</td>\n",
       "      <td>1.214295</td>\n",
       "    </tr>\n",
       "    <tr>\n",
       "      <th>1148</th>\n",
       "      <td>31622</td>\n",
       "      <td>20.419493</td>\n",
       "      <td>1.214295</td>\n",
       "    </tr>\n",
       "    <tr>\n",
       "      <th>2659</th>\n",
       "      <td>33133</td>\n",
       "      <td>20.427074</td>\n",
       "      <td>1.194126</td>\n",
       "    </tr>\n",
       "    <tr>\n",
       "      <th>216</th>\n",
       "      <td>30690</td>\n",
       "      <td>20.455450</td>\n",
       "      <td>1.214295</td>\n",
       "    </tr>\n",
       "    <tr>\n",
       "      <th>910</th>\n",
       "      <td>31384</td>\n",
       "      <td>20.469155</td>\n",
       "      <td>1.214295</td>\n",
       "    </tr>\n",
       "    <tr>\n",
       "      <th>1737</th>\n",
       "      <td>32211</td>\n",
       "      <td>20.531033</td>\n",
       "      <td>1.194126</td>\n",
       "    </tr>\n",
       "    <tr>\n",
       "      <th>2265</th>\n",
       "      <td>32739</td>\n",
       "      <td>20.611443</td>\n",
       "      <td>1.194126</td>\n",
       "    </tr>\n",
       "    <tr>\n",
       "      <th>905</th>\n",
       "      <td>31379</td>\n",
       "      <td>20.654308</td>\n",
       "      <td>1.214295</td>\n",
       "    </tr>\n",
       "    <tr>\n",
       "      <th>484</th>\n",
       "      <td>30958</td>\n",
       "      <td>20.688419</td>\n",
       "      <td>1.214295</td>\n",
       "    </tr>\n",
       "    <tr>\n",
       "      <th>1763</th>\n",
       "      <td>32237</td>\n",
       "      <td>20.727001</td>\n",
       "      <td>1.194126</td>\n",
       "    </tr>\n",
       "    <tr>\n",
       "      <th>1467</th>\n",
       "      <td>31941</td>\n",
       "      <td>20.742698</td>\n",
       "      <td>1.214295</td>\n",
       "    </tr>\n",
       "    <tr>\n",
       "      <th>950</th>\n",
       "      <td>31424</td>\n",
       "      <td>20.781847</td>\n",
       "      <td>1.214295</td>\n",
       "    </tr>\n",
       "    <tr>\n",
       "      <th>2649</th>\n",
       "      <td>33123</td>\n",
       "      <td>20.782861</td>\n",
       "      <td>1.194126</td>\n",
       "    </tr>\n",
       "    <tr>\n",
       "      <th>1569</th>\n",
       "      <td>32043</td>\n",
       "      <td>20.902349</td>\n",
       "      <td>1.194126</td>\n",
       "    </tr>\n",
       "    <tr>\n",
       "      <th>2365</th>\n",
       "      <td>32839</td>\n",
       "      <td>20.922755</td>\n",
       "      <td>1.194126</td>\n",
       "    </tr>\n",
       "    <tr>\n",
       "      <th>6559</th>\n",
       "      <td>37033</td>\n",
       "      <td>20.970929</td>\n",
       "      <td>1.173957</td>\n",
       "    </tr>\n",
       "    <tr>\n",
       "      <th>1088</th>\n",
       "      <td>31562</td>\n",
       "      <td>20.982963</td>\n",
       "      <td>1.214295</td>\n",
       "    </tr>\n",
       "    <tr>\n",
       "      <th>4990</th>\n",
       "      <td>35464</td>\n",
       "      <td>21.022479</td>\n",
       "      <td>1.173957</td>\n",
       "    </tr>\n",
       "    <tr>\n",
       "      <th>5975</th>\n",
       "      <td>36449</td>\n",
       "      <td>21.047286</td>\n",
       "      <td>1.173957</td>\n",
       "    </tr>\n",
       "    <tr>\n",
       "      <th>1671</th>\n",
       "      <td>32145</td>\n",
       "      <td>21.128344</td>\n",
       "      <td>1.194126</td>\n",
       "    </tr>\n",
       "    <tr>\n",
       "      <th>1722</th>\n",
       "      <td>32196</td>\n",
       "      <td>21.129048</td>\n",
       "      <td>1.194126</td>\n",
       "    </tr>\n",
       "    <tr>\n",
       "      <th>1527</th>\n",
       "      <td>32001</td>\n",
       "      <td>21.222425</td>\n",
       "      <td>1.194126</td>\n",
       "    </tr>\n",
       "    <tr>\n",
       "      <th>992</th>\n",
       "      <td>31466</td>\n",
       "      <td>21.322528</td>\n",
       "      <td>1.214295</td>\n",
       "    </tr>\n",
       "    <tr>\n",
       "      <th>836</th>\n",
       "      <td>31310</td>\n",
       "      <td>21.455155</td>\n",
       "      <td>1.214295</td>\n",
       "    </tr>\n",
       "    <tr>\n",
       "      <th>2467</th>\n",
       "      <td>32941</td>\n",
       "      <td>22.130290</td>\n",
       "      <td>1.194126</td>\n",
       "    </tr>\n",
       "    <tr>\n",
       "      <th>4196</th>\n",
       "      <td>34670</td>\n",
       "      <td>22.371742</td>\n",
       "      <td>1.173957</td>\n",
       "    </tr>\n",
       "    <tr>\n",
       "      <th>7212</th>\n",
       "      <td>37686</td>\n",
       "      <td>22.528478</td>\n",
       "      <td>1.162486</td>\n",
       "    </tr>\n",
       "  </tbody>\n",
       "</table>\n",
       "<p>7662 rows × 3 columns</p>\n",
       "</div>"
      ],
      "text/plain": [
       "         id  price_doc  nominal_index\n",
       "6938  37412  16.722780       1.162486\n",
       "7654  38128  16.795930       1.162486\n",
       "5143  35617  16.865221       1.173957\n",
       "6092  36566  16.874353       1.173957\n",
       "5422  35896  16.875906       1.173957\n",
       "4552  35026  16.875906       1.173957\n",
       "5166  35640  16.875906       1.173957\n",
       "4112  34586  16.877455       1.173957\n",
       "5638  36112  16.879989       1.173957\n",
       "4617  35091  16.887796       1.173957\n",
       "4697  35171  16.911206       1.173957\n",
       "5751  36225  16.957039       1.173957\n",
       "4042  34516  16.988215       1.173957\n",
       "5651  36125  17.042997       1.173957\n",
       "7085  37559  17.061701       1.162486\n",
       "4852  35326  17.062022       1.173957\n",
       "7526  38000  17.067083       1.162486\n",
       "7318  37792  17.069329       1.162486\n",
       "7468  37942  17.131200       1.162486\n",
       "2911  33385  17.131981       1.194126\n",
       "6942  37416  17.138135       1.162486\n",
       "3094  33568  17.144261       1.194126\n",
       "5867  36341  17.147322       1.173957\n",
       "2320  32794  17.154779       1.194126\n",
       "4851  35325  17.154889       1.173957\n",
       "3271  33745  17.165836       1.194126\n",
       "1947  32421  17.165838       1.194126\n",
       "4516  34990  17.167156       1.173957\n",
       "1538  32012  17.167415       1.194126\n",
       "1658  32132  17.168994       1.194126\n",
       "...     ...        ...            ...\n",
       "1780  32254  20.347228       1.194126\n",
       "174   30648  20.375927       1.214295\n",
       "1385  31859  20.378740       1.214295\n",
       "1039  31513  20.392890       1.214295\n",
       "1148  31622  20.419493       1.214295\n",
       "2659  33133  20.427074       1.194126\n",
       "216   30690  20.455450       1.214295\n",
       "910   31384  20.469155       1.214295\n",
       "1737  32211  20.531033       1.194126\n",
       "2265  32739  20.611443       1.194126\n",
       "905   31379  20.654308       1.214295\n",
       "484   30958  20.688419       1.214295\n",
       "1763  32237  20.727001       1.194126\n",
       "1467  31941  20.742698       1.214295\n",
       "950   31424  20.781847       1.214295\n",
       "2649  33123  20.782861       1.194126\n",
       "1569  32043  20.902349       1.194126\n",
       "2365  32839  20.922755       1.194126\n",
       "6559  37033  20.970929       1.173957\n",
       "1088  31562  20.982963       1.214295\n",
       "4990  35464  21.022479       1.173957\n",
       "5975  36449  21.047286       1.173957\n",
       "1671  32145  21.128344       1.194126\n",
       "1722  32196  21.129048       1.194126\n",
       "1527  32001  21.222425       1.194126\n",
       "992   31466  21.322528       1.214295\n",
       "836   31310  21.455155       1.214295\n",
       "2467  32941  22.130290       1.194126\n",
       "4196  34670  22.371742       1.173957\n",
       "7212  37686  22.528478       1.162486\n",
       "\n",
       "[7662 rows x 3 columns]"
      ]
     },
     "execution_count": 64,
     "metadata": {},
     "output_type": "execute_result"
    }
   ],
   "source": [
    "sub.sort_values('price_doc')"
   ]
  },
  {
   "cell_type": "code",
   "execution_count": 237,
   "metadata": {
    "collapsed": true
   },
   "outputs": [],
   "source": [
    "# df.loc[test_index,'nominal_index']"
   ]
  },
  {
   "cell_type": "code",
   "execution_count": 247,
   "metadata": {},
   "outputs": [
    {
     "data": {
      "text/html": [
       "<div>\n",
       "<style>\n",
       "    .dataframe thead tr:only-child th {\n",
       "        text-align: right;\n",
       "    }\n",
       "\n",
       "    .dataframe thead th {\n",
       "        text-align: left;\n",
       "    }\n",
       "\n",
       "    .dataframe tbody tr th {\n",
       "        vertical-align: top;\n",
       "    }\n",
       "</style>\n",
       "<table border=\"1\" class=\"dataframe\">\n",
       "  <thead>\n",
       "    <tr style=\"text-align: right;\">\n",
       "      <th></th>\n",
       "      <th>id</th>\n",
       "      <th>price_doc</th>\n",
       "      <th>nominal_index</th>\n",
       "    </tr>\n",
       "  </thead>\n",
       "  <tbody>\n",
       "    <tr>\n",
       "      <th>0</th>\n",
       "      <td>30474</td>\n",
       "      <td>4.176246e+06</td>\n",
       "      <td>1.214295</td>\n",
       "    </tr>\n",
       "    <tr>\n",
       "      <th>1</th>\n",
       "      <td>30475</td>\n",
       "      <td>9.594552e+06</td>\n",
       "      <td>1.214295</td>\n",
       "    </tr>\n",
       "    <tr>\n",
       "      <th>2</th>\n",
       "      <td>30476</td>\n",
       "      <td>5.235794e+06</td>\n",
       "      <td>1.214295</td>\n",
       "    </tr>\n",
       "    <tr>\n",
       "      <th>3</th>\n",
       "      <td>30477</td>\n",
       "      <td>9.846788e+06</td>\n",
       "      <td>1.214295</td>\n",
       "    </tr>\n",
       "    <tr>\n",
       "      <th>4</th>\n",
       "      <td>30478</td>\n",
       "      <td>2.628036e+06</td>\n",
       "      <td>1.214295</td>\n",
       "    </tr>\n",
       "  </tbody>\n",
       "</table>\n",
       "</div>"
      ],
      "text/plain": [
       "      id     price_doc  nominal_index\n",
       "0  30474  4.176246e+06       1.214295\n",
       "1  30475  9.594552e+06       1.214295\n",
       "2  30476  5.235794e+06       1.214295\n",
       "3  30477  9.846788e+06       1.214295\n",
       "4  30478  2.628036e+06       1.214295"
      ]
     },
     "execution_count": 247,
     "metadata": {},
     "output_type": "execute_result"
    }
   ],
   "source": [
    "sub.head()"
   ]
  },
  {
   "cell_type": "code",
   "execution_count": null,
   "metadata": {
    "collapsed": true
   },
   "outputs": [],
   "source": []
  }
 ],
 "metadata": {
  "kernelspec": {
   "display_name": "Python 2",
   "language": "python",
   "name": "python2"
  },
  "language_info": {
   "codemirror_mode": {
    "name": "ipython",
    "version": 2
   },
   "file_extension": ".py",
   "mimetype": "text/x-python",
   "name": "python",
   "nbconvert_exporter": "python",
   "pygments_lexer": "ipython2",
   "version": "2.7.13"
  }
 },
 "nbformat": 4,
 "nbformat_minor": 2
}
