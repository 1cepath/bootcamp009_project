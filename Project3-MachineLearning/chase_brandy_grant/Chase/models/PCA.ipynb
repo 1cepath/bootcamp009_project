{
 "cells": [
  {
   "cell_type": "code",
   "execution_count": 88,
   "metadata": {
    "collapsed": true
   },
   "outputs": [],
   "source": [
    "import pandas as pd\n",
    "from sklearn import preprocessing\n",
    "import numpy as np\n",
    "import statsmodels.formula.api as sm\n",
    "import matplotlib.pyplot as plt\n",
    "%matplotlib inline\n",
    "pd.set_option('display.max_columns', 500)\n"
   ]
  },
  {
   "cell_type": "code",
   "execution_count": 254,
   "metadata": {
    "collapsed": true
   },
   "outputs": [],
   "source": [
    "df = pd.read_csv('../data/clean_train_all_cols_chase.csv', parse_dates=['timestamp'], index_col=\"id\")  \n",
    "# test = pd.read_csv('../data/clean_test_all_cols_chase.csv', parse_dates=['timestamp'], index_col=\"id\")"
   ]
  },
  {
   "cell_type": "code",
   "execution_count": 255,
   "metadata": {},
   "outputs": [
    {
     "name": "stdout",
     "output_type": "stream",
     "text": [
      "(29096, 299)\n",
      "(29096, 295)\n"
     ]
    }
   ],
   "source": [
    "macro = pd.read_csv('../data/macro_chase.csv')\n",
    "macro['quarter'] = pd.PeriodIndex(macro['Unnamed: 0'], freq='Q').strftime('Q%q-%y')\n",
    "df['quarter'] = pd.PeriodIndex(df['timestamp'], freq='Q').strftime('Q%q-%y')\n",
    "\n",
    "df = pd.merge(df,macro[['quarter','nominal_index']], how=\"left\", on=\"quarter\").reset_index(drop=True).set_index(df.index)\n",
    "\n",
    "cols = ['material', 'build_year', 'num_room', 'state']\n",
    "print df.shape\n",
    "df.drop(cols,axis=1,inplace=True)\n",
    "print df.shape"
   ]
  },
  {
   "cell_type": "code",
   "execution_count": 256,
   "metadata": {},
   "outputs": [
    {
     "name": "stdout",
     "output_type": "stream",
     "text": [
      "(29096, 260)\n"
     ]
    }
   ],
   "source": [
    "# drop all columns that don't have atleast 28000 values\n",
    "df.dropna(thresh=28000, axis=1, inplace=True)\n",
    "print df.shape"
   ]
  },
  {
   "cell_type": "code",
   "execution_count": 257,
   "metadata": {},
   "outputs": [
    {
     "name": "stdout",
     "output_type": "stream",
     "text": [
      "(28090, 260)\n"
     ]
    }
   ],
   "source": [
    "df.dropna(axis=0,inplace=True)\n",
    "print df.shape"
   ]
  },
  {
   "cell_type": "code",
   "execution_count": 258,
   "metadata": {
    "collapsed": true
   },
   "outputs": [],
   "source": [
    "# cleaning up the names of the neighborhoods\n",
    "df.sub_area = df.sub_area.apply(lambda x: x.replace(\" \", \"_\"))\n",
    "df.sub_area = df.sub_area.apply(lambda x: x.replace(\"'\", \"\"))\n",
    "df.sub_area = df.sub_area.apply(lambda x: x.replace(\"-\", \"\"))"
   ]
  },
  {
   "cell_type": "code",
   "execution_count": 259,
   "metadata": {
    "collapsed": true
   },
   "outputs": [],
   "source": [
    "df['kitch_to_life'] = df.kitch_sq / df.life_sq\n",
    "df['life_to_full'] = df.life_sq / df.full_sq\n",
    "df['walk_up_penalty'] = 0\n",
    "df.loc[(df.floor>4) & (df.max_floor < 6),'walk_up_penalty'] = 1 "
   ]
  },
  {
   "cell_type": "code",
   "execution_count": 260,
   "metadata": {
    "collapsed": true
   },
   "outputs": [],
   "source": [
    "df['price_doc'] = df.price_doc / df.nominal_index\n",
    "df['price_full'] = df.price_doc / df.full_sq\n",
    "# df['log_price'] = np.log(df.price_doc)\n",
    "\n",
    "# creating a variable for how expensive the property is\n",
    "df['price_class'] = pd.qcut(df.price_full, 5, labels=[\"E\",\"D\",\"C\",\"B\",\"A\"])"
   ]
  },
  {
   "cell_type": "code",
   "execution_count": null,
   "metadata": {
    "collapsed": true
   },
   "outputs": [],
   "source": []
  },
  {
   "cell_type": "code",
   "execution_count": null,
   "metadata": {
    "collapsed": true
   },
   "outputs": [],
   "source": []
  },
  {
   "cell_type": "markdown",
   "metadata": {},
   "source": [
    "## PCA"
   ]
  },
  {
   "cell_type": "code",
   "execution_count": 261,
   "metadata": {
    "collapsed": true
   },
   "outputs": [],
   "source": [
    "from sklearn.model_selection import train_test_split"
   ]
  },
  {
   "cell_type": "code",
   "execution_count": 290,
   "metadata": {
    "collapsed": true
   },
   "outputs": [],
   "source": [
    "from sklearn.pipeline import FeatureUnion\n",
    "from sklearn.decomposition import PCA\n",
    "from sklearn.decomposition import KernelPCA\n",
    "\n",
    "\n",
    "drop_cols = ['timestamp','price_doc','price_full','okurg_district','sub_area','quarter']\n",
    "keep_cols = ['price_class','kremlin_km','floor','full_sq','product_type','full_sq','kitch_sq','max_floor','life_sq']\n",
    "\n",
    "\n",
    "df_obj = df.drop(drop_cols,axis=1).select_dtypes(include=['object'])\n",
    "df_num = df.drop(drop_cols,axis=1).select_dtypes(exclude=['object'])\n",
    "\n",
    "# df = df[keep_cols]\n",
    "# df_obj = df.select_dtypes(include=['object'])\n",
    "# df_num = df.select_dtypes(exclude=['object'])\n",
    "\n",
    "dummies = pd.get_dummies(df_obj)\n",
    "df_all = pd.concat([df_num,dummies],axis=1)"
   ]
  },
  {
   "cell_type": "code",
   "execution_count": null,
   "metadata": {
    "collapsed": true
   },
   "outputs": [],
   "source": []
  }
 ],
 "metadata": {
  "kernelspec": {
   "display_name": "Python 2",
   "language": "python",
   "name": "python2"
  },
  "language_info": {
   "codemirror_mode": {
    "name": "ipython",
    "version": 2
   },
   "file_extension": ".py",
   "mimetype": "text/x-python",
   "name": "python",
   "nbconvert_exporter": "python",
   "pygments_lexer": "ipython2",
   "version": "2.7.13"
  }
 },
 "nbformat": 4,
 "nbformat_minor": 2
}
