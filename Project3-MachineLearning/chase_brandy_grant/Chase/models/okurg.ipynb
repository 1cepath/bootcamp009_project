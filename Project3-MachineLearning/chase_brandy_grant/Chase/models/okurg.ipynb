{
 "cells": [
  {
   "cell_type": "code",
   "execution_count": 27,
   "metadata": {
    "collapsed": true
   },
   "outputs": [],
   "source": [
    "import pandas as pd\n",
    "import numpy as np\n",
    "import os\n",
    "pd.set_option('display.max_columns', 500)"
   ]
  },
  {
   "cell_type": "code",
   "execution_count": 20,
   "metadata": {},
   "outputs": [
    {
     "name": "stdout",
     "output_type": "stream",
     "text": [
      "/Users/chaseedge/Documents/bootcamp/projects/bootcamp009_project/Project3-MachineLearning/chase_brandy_grant/Chase/data/indices\n"
     ]
    }
   ],
   "source": [
    "%cd indices"
   ]
  },
  {
   "cell_type": "code",
   "execution_count": 26,
   "metadata": {},
   "outputs": [
    {
     "name": "stdout",
     "output_type": "stream",
     "text": [
      "C.csv        N.csv        NW.csv       S.csv        SW.csv       Z.csv\r\n",
      "E.csv        NE.csv       O.csv        SE.csv       W.csv        outside.csv\r\n"
     ]
    }
   ],
   "source": [
    "%ls"
   ]
  },
  {
   "cell_type": "code",
   "execution_count": 36,
   "metadata": {},
   "outputs": [],
   "source": [
    "files = os.listdir('.')"
   ]
  },
  {
   "cell_type": "code",
   "execution_count": 97,
   "metadata": {},
   "outputs": [],
   "source": [
    "files_dict = {}\n",
    "for f in files:\n",
    "    x = f.split(\".\")[0]\n",
    "    data = pd.read_csv(f,header=None,parse_dates=[0])\n",
    "    data.columns = ['date','price']\n",
    "    files_dict[x] = data\n",
    "    "
   ]
  },
  {
   "cell_type": "code",
   "execution_count": 263,
   "metadata": {},
   "outputs": [],
   "source": [
    "dist_names = {\n",
    "    'C':'central',\n",
    "    'E':'eastern',\n",
    "    'S': 'southern',\n",
    "    'SW': 'southwestern',\n",
    "    'NE': 'northeastern',\n",
    "    'N':'northern',\n",
    "    'outside':'outside',\n",
    "    'W':'western',\n",
    "    'Z':'zelenograd',\n",
    "    'SE':'southeastern',\n",
    "    'NW':'northwestern'\n",
    "}"
   ]
  },
  {
   "cell_type": "code",
   "execution_count": 264,
   "metadata": {},
   "outputs": [],
   "source": [
    "for k,v in files_dict.items():\n",
    "    v['month'] = v.date.dt.month.astype(str)\n",
    "    v['year'] = v.date.dt.year.astype(str)\n",
    "    v.loc[:,'month_year'] = v.apply(lambda x:'%s/%s' % (x['month'],x['year']), axis=1)\n",
    "    v['district'] = dist_names[k]\n",
    "#     v = v.groupby('month_year').price.mean()"
   ]
  },
  {
   "cell_type": "code",
   "execution_count": 265,
   "metadata": {},
   "outputs": [],
   "source": [
    "df = pd.concat(files_dict)"
   ]
  },
  {
   "cell_type": "code",
   "execution_count": 266,
   "metadata": {},
   "outputs": [],
   "source": [
    "dfg = df.groupby(['district','month_year']).price.mean().reset_index()"
   ]
  },
  {
   "cell_type": "code",
   "execution_count": 267,
   "metadata": {},
   "outputs": [],
   "source": [
    "dfg['date'] = pd.to_datetime(dfg.month_year,format=\"%m/%Y\")"
   ]
  },
  {
   "cell_type": "code",
   "execution_count": 268,
   "metadata": {},
   "outputs": [],
   "source": [
    "dfg.sort_values('date',inplace=True)"
   ]
  },
  {
   "cell_type": "code",
   "execution_count": 269,
   "metadata": {},
   "outputs": [],
   "source": [
    "dfg = dfg[(dfg.date>'2011-07-01')&(dfg.date<'2017-06-01')]\n"
   ]
  },
  {
   "cell_type": "code",
   "execution_count": 270,
   "metadata": {},
   "outputs": [],
   "source": [
    "dfg.sort_values(['district','date'],inplace=True)"
   ]
  },
  {
   "cell_type": "code",
   "execution_count": 271,
   "metadata": {},
   "outputs": [],
   "source": [
    "districts = dfg.district.unique()"
   ]
  },
  {
   "cell_type": "code",
   "execution_count": 272,
   "metadata": {},
   "outputs": [
    {
     "data": {
      "text/plain": [
       "214349.25373134328"
      ]
     },
     "execution_count": 272,
     "metadata": {},
     "output_type": "execute_result"
    }
   ],
   "source": [
    "dfg.iloc[0,2]"
   ]
  },
  {
   "cell_type": "code",
   "execution_count": 273,
   "metadata": {},
   "outputs": [],
   "source": [
    "for d in districts:\n",
    "    g_index = dfg[dfg.district==d].index.tolist()\n",
    "    dfg.loc[g_index,'nominal_index'] = dfg.loc[g_index,'price'] / dfg.loc[g_index[0],'price']"
   ]
  },
  {
   "cell_type": "code",
   "execution_count": 243,
   "metadata": {},
   "outputs": [
    {
     "name": "stdout",
     "output_type": "stream",
     "text": [
      "/Users/chaseedge/Documents/bootcamp/projects/bootcamp009_project/Project3-MachineLearning/chase_brandy_grant/Chase\n"
     ]
    }
   ],
   "source": [
    "% cd .."
   ]
  },
  {
   "cell_type": "code",
   "execution_count": 274,
   "metadata": {
    "collapsed": true
   },
   "outputs": [],
   "source": [
    "dfg.to_csv('data/district_indices.csv')"
   ]
  },
  {
   "cell_type": "code",
   "execution_count": 275,
   "metadata": {},
   "outputs": [],
   "source": [
    "okurg = pd.read_csv('../data/okurg.csv')"
   ]
  },
  {
   "cell_type": "code",
   "execution_count": 253,
   "metadata": {
    "collapsed": true
   },
   "outputs": [],
   "source": [
    "x = \"asdf\""
   ]
  },
  {
   "cell_type": "code",
   "execution_count": 256,
   "metadata": {},
   "outputs": [
    {
     "data": {
      "text/plain": [
       "'asdf'"
      ]
     },
     "execution_count": 256,
     "metadata": {},
     "output_type": "execute_result"
    }
   ],
   "source": [
    "\"Asdf\".lower()"
   ]
  },
  {
   "cell_type": "code",
   "execution_count": 276,
   "metadata": {},
   "outputs": [
    {
     "data": {
      "text/plain": [
       "array(['northern', 'southwestern', 'northeastern', 'central', 'southern',\n",
       "       'eastern', 'western', 'northwestern', 'southeastern', 'zelenograd',\n",
       "       'novomoskovsky', 'troitsky', 'troitsky\\xc2\\xa0'], dtype=object)"
      ]
     },
     "execution_count": 276,
     "metadata": {},
     "output_type": "execute_result"
    }
   ],
   "source": [
    "okurg.okurg_district = okurg.okurg_district.apply(lambda x: x.strip())\n",
    "okurg.okurg_district = okurg.okurg_district.apply(lambda x: x.lower())\n",
    "okurg.okurg_district = okurg.okurg_district.apply(lambda x: x.replace(\" \",\"\"))\n",
    "okurg.okurg_district.unique()"
   ]
  },
  {
   "cell_type": "code",
   "execution_count": 280,
   "metadata": {},
   "outputs": [],
   "source": [
    "okurg.loc[okurg.okurg_district=='novomoskovsky','okurg_district'] = 'outside'\n",
    "okurg.loc[okurg.okurg_district=='troitsky','okurg_district'] = 'outside'\n",
    "okurg.loc[okurg.okurg_district=='troitsky\\xc2\\xa0','okurg_district'] = 'outside'"
   ]
  },
  {
   "cell_type": "code",
   "execution_count": 281,
   "metadata": {},
   "outputs": [
    {
     "data": {
      "text/plain": [
       "array(['northern', 'southwestern', 'northeastern', 'central', 'southern',\n",
       "       'eastern', 'western', 'northwestern', 'southeastern', 'zelenograd',\n",
       "       'outside'], dtype=object)"
      ]
     },
     "execution_count": 281,
     "metadata": {},
     "output_type": "execute_result"
    }
   ],
   "source": [
    "okurg.okurg_district.unique()"
   ]
  },
  {
   "cell_type": "code",
   "execution_count": 282,
   "metadata": {},
   "outputs": [
    {
     "data": {
      "text/plain": [
       "array(['central', 'eastern', 'northeastern', 'northern', 'northwestern',\n",
       "       'outside', 'southeastern', 'southern', 'southwestern', 'western',\n",
       "       'zelenograd'], dtype=object)"
      ]
     },
     "execution_count": 282,
     "metadata": {},
     "output_type": "execute_result"
    }
   ],
   "source": [
    "dfg.district.unique()"
   ]
  },
  {
   "cell_type": "code",
   "execution_count": 285,
   "metadata": {},
   "outputs": [],
   "source": [
    "okurg.to_csv('data/okurg_chase.csv')"
   ]
  },
  {
   "cell_type": "code",
   "execution_count": null,
   "metadata": {
    "collapsed": true
   },
   "outputs": [],
   "source": []
  }
 ],
 "metadata": {
  "kernelspec": {
   "display_name": "Python 2",
   "language": "python",
   "name": "python2"
  },
  "language_info": {
   "codemirror_mode": {
    "name": "ipython",
    "version": 2
   },
   "file_extension": ".py",
   "mimetype": "text/x-python",
   "name": "python",
   "nbconvert_exporter": "python",
   "pygments_lexer": "ipython2",
   "version": "2.7.13"
  }
 },
 "nbformat": 4,
 "nbformat_minor": 2
}
