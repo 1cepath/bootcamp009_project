{
 "cells": [
  {
   "cell_type": "code",
   "execution_count": 39,
   "metadata": {
    "collapsed": true
   },
   "outputs": [],
   "source": [
    "import pandas as pd\n",
    "from sklearn import preprocessing\n",
    "import numpy as np\n",
    "import statsmodels.formula.api as sm\n",
    "import matplotlib.pyplot as plt\n",
    "from sklearn.cluster import DBSCAN\n",
    "from geopy.distance import great_circle\n",
    "from shapely.geometry import MultiPoint\n",
    "%matplotlib inline\n",
    "pd.set_option('display.max_columns', 500)\n"
   ]
  },
  {
   "cell_type": "code",
   "execution_count": 40,
   "metadata": {
    "collapsed": true
   },
   "outputs": [],
   "source": [
    "train = pd.read_csv('../data/clean_train_only_complete_cols_chase.csv', parse_dates=['timestamp'], index_col=\"id\")  \n",
    "test = pd.read_csv('../data/clean_test_only_complete_cols_chase.csv', parse_dates=['timestamp'], index_col=\"id\")\n",
    "macro = pd.read_csv('../data/macro_chase.csv',parse_dates=[0])\n"
   ]
  },
  {
   "cell_type": "code",
   "execution_count": 41,
   "metadata": {},
   "outputs": [],
   "source": [
    "geo_df = pd.read_csv('../data/Longitud_Latitud.csv')\n",
    "geo_df.columns = ['no', 'sub_area', 'lon', 'lat']\n",
    "coords = geo_df.as_matrix(columns=['lat', 'lon'])"
   ]
  },
  {
   "cell_type": "code",
   "execution_count": 42,
   "metadata": {
    "collapsed": true
   },
   "outputs": [],
   "source": [
    "train_index = train.index.tolist()\n",
    "test_index = test.index.tolist()\n",
    "\n",
    "# cols = ['life_sq','full_sq','floor','max_floor','kitch_sq','product_type',\n",
    "#         'sub_area','kremlin_km','price_doc','timestamp','price_full']\n",
    "\n",
    "tr_cols = train.columns.tolist()\n",
    "te_cols = test.columns.tolist()\n",
    "cols = list(set(tr_cols).intersection(te_cols))\n",
    "cols.append('price_doc')\n",
    "\n",
    "test['price_doc'] = np.nan\n",
    "\n",
    "df = pd.concat([train[cols].copy(),\n",
    "                test[cols].copy()],\n",
    "               ignore_index=False)\n",
    "\n",
    "df['month'] = df.timestamp.dt.month.astype(object)"
   ]
  },
  {
   "cell_type": "code",
   "execution_count": 43,
   "metadata": {
    "collapsed": true
   },
   "outputs": [],
   "source": [
    "# http://geoffboeing.com/2014/08/clustering-to-reduce-spatial-data-set-size/\n",
    "def getClusters(coords,km_radius):\n",
    "    kms_per_radian = 6371.0088\n",
    "    epsilon = km_radius / kms_per_radian\n",
    "    db = DBSCAN(eps=epsilon, min_samples=1, algorithm='ball_tree', metric='haversine').fit(np.radians(coords))\n",
    "    return db.labels_\n",
    "\n"
   ]
  },
  {
   "cell_type": "code",
   "execution_count": 44,
   "metadata": {
    "collapsed": true
   },
   "outputs": [],
   "source": [
    "geo_df['new_group_id'] = getClusters(coords,5.5)\n",
    "geo_df.new_group_id = geo_df.new_group_id.astype(object)"
   ]
  },
  {
   "cell_type": "code",
   "execution_count": 45,
   "metadata": {},
   "outputs": [],
   "source": [
    "# this is just to check to see if new_group is already in the df\n",
    "if 'new_group_id' in df.columns.tolist():\n",
    "    df.drop('new_group_id',axis=1,inplace=True)\n",
    "df = pd.merge(df,geo_df[['sub_area','new_group_id']],\n",
    "              how=\"left\", on=\"sub_area\").reset_index(drop=True).set_index(df.index)"
   ]
  },
  {
   "cell_type": "code",
   "execution_count": 46,
   "metadata": {
    "collapsed": true
   },
   "outputs": [],
   "source": [
    "macro['quarter'] = pd.PeriodIndex(macro['Unnamed: 0'], freq='Q').strftime('%qQ%y')\n",
    "df['quarter'] = pd.PeriodIndex(df['timestamp'], freq='Q').strftime('%qQ%y')\n",
    "\n",
    "df = pd.merge(df,macro[['quarter','nominal_index']], how=\"left\", on=\"quarter\").reset_index(drop=True).set_index(df.index)\n",
    "df['real_price_doc'] = df.price_doc / df.nominal_index"
   ]
  },
  {
   "cell_type": "code",
   "execution_count": 47,
   "metadata": {
    "collapsed": true
   },
   "outputs": [],
   "source": [
    "# moscow = moscow[moscow.date > df.timestamp.min()]\n",
    "# moscow.reset_index(drop=True,inplace=True)\n",
    "# moscow['nominal_index'] = moscow.price / moscow.price[0] "
   ]
  },
  {
   "cell_type": "code",
   "execution_count": 48,
   "metadata": {
    "collapsed": true
   },
   "outputs": [],
   "source": [
    "# moscow = pd.read_csv('../data/moscow_index.csv',header=None,parse_dates=[0])\n",
    "# moscow.columns = ['date','price']\n",
    "\n",
    "# df['month_year'] = pd.PeriodIndex(df['timestamp'], freq='M').strftime('%m/%y')\n",
    "# df = pd.merge(df,moscow[['month_year','nominal_index']], how=\"left\", on=\"month_year\").reset_index(drop=True).set_index(df.index)"
   ]
  },
  {
   "cell_type": "code",
   "execution_count": 49,
   "metadata": {
    "collapsed": true
   },
   "outputs": [],
   "source": [
    "# cleaning up names\n",
    "df.sub_area = df.sub_area.apply(lambda x: x.replace(\" \", \"_\"))\n",
    "df.sub_area = df.sub_area.apply(lambda x: x.replace(\"'\", \"\"))\n",
    "df.sub_area = df.sub_area.apply(lambda x: x.replace(\"-\", \"\"))"
   ]
  },
  {
   "cell_type": "code",
   "execution_count": 50,
   "metadata": {
    "collapsed": true
   },
   "outputs": [],
   "source": [
    "df['kitch_to_life'] = df.kitch_sq / df.life_sq\n",
    "df['life_to_full'] = df.life_sq / df.full_sq\n",
    "df['walk_up_penalty'] = 0\n",
    "df.loc[(df.floor>4) & (df.max_floor < 6),'walk_up_penalty'] = 1 "
   ]
  },
  {
   "cell_type": "code",
   "execution_count": null,
   "metadata": {
    "collapsed": true
   },
   "outputs": [],
   "source": []
  },
  {
   "cell_type": "markdown",
   "metadata": {},
   "source": [
    "## Helper Functions"
   ]
  },
  {
   "cell_type": "code",
   "execution_count": 51,
   "metadata": {
    "collapsed": true
   },
   "outputs": [],
   "source": [
    "def addMultiples(df):\n",
    "    df['price_full'] = df.price_doc / df.full_sq\n",
    "    df['real_price_full'] = df.real_price_doc / df.full_sq\n",
    "    df['real_price_class'] = pd.qcut(df.real_price_full, 5, labels=[\"E\",\"D\",\"C\",\"B\",\"A\"])"
   ]
  },
  {
   "cell_type": "code",
   "execution_count": null,
   "metadata": {
    "collapsed": true
   },
   "outputs": [],
   "source": []
  },
  {
   "cell_type": "markdown",
   "metadata": {},
   "source": [
    "## Decision Tree Classifier"
   ]
  },
  {
   "cell_type": "code",
   "execution_count": 52,
   "metadata": {
    "collapsed": true
   },
   "outputs": [],
   "source": [
    "from sklearn.tree import DecisionTreeClassifier\n",
    "from sklearn.model_selection import train_test_split"
   ]
  },
  {
   "cell_type": "code",
   "execution_count": null,
   "metadata": {
    "collapsed": true
   },
   "outputs": [],
   "source": []
  },
  {
   "cell_type": "code",
   "execution_count": 53,
   "metadata": {
    "collapsed": true
   },
   "outputs": [],
   "source": [
    "# creating a variable for how expensive the property is    \n",
    "addMultiples(df)\n",
    "\n",
    "## dropping outliers\n",
    "outliers = df[df.real_price_full < 30000].copy()\n",
    "df.drop(outliers.index,axis=0, inplace=True)\n",
    "for x in outliers.index.tolist():\n",
    "    train_index.remove(x)\n",
    "    \n",
    "\n",
    "# drop_cols = ['timestamp','price_doc','price_full','okurg_district','sub_area']\n",
    "keep_cols = ['new_group_id','kremlin_km','floor','full_sq','product_type','full_sq','kitch_sq','max_floor','life_sq','sub_area']\n",
    "\n",
    "# dataset\n",
    "df_tcl = df[keep_cols].copy()\n",
    "\n",
    "\n",
    "# dummify\n",
    "df_obj = df_tcl.select_dtypes(include=['object']).copy()\n",
    "df_num = df_tcl.select_dtypes(exclude=['object']).copy()\n",
    "\n",
    "dummies = pd.get_dummies(df_obj)\n",
    "df_all = pd.concat([df_num,dummies],axis=1)\n"
   ]
  },
  {
   "cell_type": "code",
   "execution_count": 54,
   "metadata": {},
   "outputs": [
    {
     "data": {
      "text/plain": [
       "0.5079465319440059"
      ]
     },
     "execution_count": 54,
     "metadata": {},
     "output_type": "execute_result"
    }
   ],
   "source": [
    "tree_clf = DecisionTreeClassifier(max_depth=5)\n",
    "\n",
    "x = df_all.loc[train_index,:]\n",
    "y = df.loc[train_index,'real_price_class']\n",
    "x_train, x_test, y_train, y_test = train_test_split(x, y, test_size=0.33, random_state=42)\n",
    "tree_clf.fit(x_train,y_train)\n",
    "\n",
    "1.0 * sum(tree_clf.predict(x_test) == y_test) / len(y_test)\n"
   ]
  },
  {
   "cell_type": "code",
   "execution_count": 55,
   "metadata": {
    "collapsed": true
   },
   "outputs": [],
   "source": [
    "df.loc[test_index,'real_price_class'] = tree_clf.predict(df_all.loc[test_index,:])\n",
    "\n",
    "multiples = df.loc[train_index,['real_price_class','real_price_full']].groupby('real_price_class').median().to_dict()\n",
    "\n",
    "\n",
    "df.loc[test_index,'real_price_full'] = df.real_price_class.apply(lambda x: multiples['real_price_full'].get(x))"
   ]
  },
  {
   "cell_type": "code",
   "execution_count": 56,
   "metadata": {},
   "outputs": [
    {
     "data": {
      "text/plain": [
       "<matplotlib.axes._subplots.AxesSubplot at 0x10e576d10>"
      ]
     },
     "execution_count": 56,
     "metadata": {},
     "output_type": "execute_result"
    },
    {
     "data": {
      "image/png": "[encoded data removed]",
      "text/plain": [
       "<matplotlib.figure.Figure at 0x10de68990>"
      ]
     },
     "metadata": {},
     "output_type": "display_data"
    }
   ],
   "source": [
    "df.loc[test_index,'real_price_full'].hist()"
   ]
  },
  {
   "cell_type": "markdown",
   "metadata": {},
   "source": [
    "## Decision Tree Regression\n",
    "based on price multiple"
   ]
  },
  {
   "cell_type": "code",
   "execution_count": 57,
   "metadata": {
    "collapsed": true
   },
   "outputs": [],
   "source": [
    "from sklearn.tree import DecisionTreeRegressor\n",
    "from sklearn.model_selection import train_test_split\n",
    "from sklearn.pipeline import Pipeline"
   ]
  },
  {
   "cell_type": "code",
   "execution_count": null,
   "metadata": {
    "collapsed": true
   },
   "outputs": [],
   "source": []
  },
  {
   "cell_type": "code",
   "execution_count": 58,
   "metadata": {},
   "outputs": [
    {
     "name": "stdout",
     "output_type": "stream",
     "text": [
      "0.505120393382\n"
     ]
    }
   ],
   "source": [
    "drop_cols = ['timestamp','real_price_class','price_doc','real_price_full','quarter','real_price_doc','price_full']\n",
    "df_trg = df.drop(drop_cols,axis=1)\n",
    "\n",
    "df_obj = df_trg.select_dtypes(include=['object']).copy()\n",
    "df_num = df_trg.select_dtypes(exclude=['object']).copy()\n",
    "\n",
    "# df = df[keep_cols]\n",
    "# df_obj = df.select_dtypes(include=['object'])\n",
    "# df_num = df.select_dtypes(exclude=['object'])\n",
    "\n",
    "dummies = pd.get_dummies(df_obj)\n",
    "df_all = pd.concat([df_num,dummies],axis=1)\n",
    "\n",
    "df_all = df_all.apply(lambda x: x.astype(float)) \n",
    "\n",
    "\n",
    "\n",
    "tree_reg = DecisionTreeRegressor(max_depth=5)\n",
    "\n",
    "x = df_all.loc[train_index,:]\n",
    "y = df.loc[train_index,'real_price_full']\n",
    "x_train, x_test, y_train, y_test = train_test_split(x, y, test_size=0.33, random_state=42)\n",
    "tree_reg.fit(x_train,y_train)\n",
    "print tree_reg.score(x_test,y_test)"
   ]
  },
  {
   "cell_type": "code",
   "execution_count": 59,
   "metadata": {},
   "outputs": [
    {
     "data": {
      "text/plain": [
       "<matplotlib.axes._subplots.AxesSubplot at 0x15e933cd0>"
      ]
     },
     "execution_count": 59,
     "metadata": {},
     "output_type": "execute_result"
    },
    {
     "data": {
      "image/png": "[encoded data removed]",
      "text/plain": [
       "<matplotlib.figure.Figure at 0x10e608810>"
      ]
     },
     "metadata": {},
     "output_type": "display_data"
    }
   ],
   "source": [
    "df.loc[test_index,'real_price_full'] = tree_reg.predict(df_all.loc[test_index,:])\n",
    "df.loc[test_index,'real_price_doc'] = df.loc[test_index,'full_sq'] * df.loc[test_index,'real_price_full']\n",
    "df.loc[test_index,'real_price_full'].hist()"
   ]
  },
  {
   "cell_type": "code",
   "execution_count": 60,
   "metadata": {},
   "outputs": [
    {
     "data": {
      "text/plain": [
       "<matplotlib.axes._subplots.AxesSubplot at 0x10e58a3d0>"
      ]
     },
     "execution_count": 60,
     "metadata": {},
     "output_type": "execute_result"
    },
    {
     "data": {
      "image/png": "[encoded data removed]",
      "text/plain": [
       "<matplotlib.figure.Figure at 0x1408b6210>"
      ]
     },
     "metadata": {},
     "output_type": "display_data"
    }
   ],
   "source": [
    "df.price_doc = df.real_price_doc * df.nominal_index\n",
    "\n",
    "addMultiples(df)\n",
    "df.loc[test_index,'price_full'].hist()"
   ]
  },
  {
   "cell_type": "code",
   "execution_count": 61,
   "metadata": {
    "collapsed": true
   },
   "outputs": [],
   "source": [
    "# 0.33925\n",
    "# df.loc[test_index,'price_doc'].to_frame().to_csv('../submissions/decision_tree_price_multiple_052817.csv')"
   ]
  },
  {
   "cell_type": "code",
   "execution_count": null,
   "metadata": {
    "collapsed": true
   },
   "outputs": [],
   "source": []
  },
  {
   "cell_type": "markdown",
   "metadata": {},
   "source": [
    "## Decision Tree Regressor \n",
    "price_doc"
   ]
  },
  {
   "cell_type": "code",
   "execution_count": 62,
   "metadata": {},
   "outputs": [
    {
     "name": "stdout",
     "output_type": "stream",
     "text": [
      "0.642227824154\n"
     ]
    }
   ],
   "source": [
    "drop_cols = ['timestamp','real_price_class','price_doc','real_price_full','quarter','real_price_doc','price_full']\n",
    "df_trg = df.drop(drop_cols,axis=1)\n",
    "\n",
    "df_obj = df_trg.select_dtypes(include=['object']).copy()\n",
    "df_num = df_trg.select_dtypes(exclude=['object']).copy()\n",
    "\n",
    "# df = df[keep_cols]\n",
    "# df_obj = df.select_dtypes(include=['object'])\n",
    "# df_num = df.select_dtypes(exclude=['object'])\n",
    "\n",
    "dummies = pd.get_dummies(df_obj)\n",
    "df_all = pd.concat([df_num,dummies],axis=1)\n",
    "\n",
    "df_all = df_all.apply(lambda x: x.astype(float)) \n",
    "\n",
    "\n",
    "\n",
    "tree_reg = DecisionTreeRegressor(max_depth=5)\n",
    "\n",
    "x = df_all.loc[train_index,:]\n",
    "y = df.loc[train_index,'real_price_doc']\n",
    "x_train, x_test, y_train, y_test = train_test_split(x, y, test_size=0.33, random_state=42)\n",
    "tree_reg.fit(x_train,y_train)\n",
    "print tree_reg.score(x_test,y_test)"
   ]
  },
  {
   "cell_type": "code",
   "execution_count": 63,
   "metadata": {},
   "outputs": [
    {
     "data": {
      "text/plain": [
       "<matplotlib.axes._subplots.AxesSubplot at 0x10c449450>"
      ]
     },
     "execution_count": 63,
     "metadata": {},
     "output_type": "execute_result"
    },
    {
     "data": {
      "image/png": "[encoded data removed]",
      "text/plain": [
       "<matplotlib.figure.Figure at 0x15e92c390>"
      ]
     },
     "metadata": {},
     "output_type": "display_data"
    }
   ],
   "source": [
    "df.loc[test_index,'real_price_doc'] = tree_reg.predict(df_all.loc[test_index,:])\n",
    "addMultiples(df)\n",
    "df.loc[test_index,'real_price_full'].hist()\n",
    "# df.loc[test_index,'real_price_full'].hist()"
   ]
  },
  {
   "cell_type": "code",
   "execution_count": 64,
   "metadata": {},
   "outputs": [
    {
     "data": {
      "text/plain": [
       "<matplotlib.axes._subplots.AxesSubplot at 0x10c2f8f10>"
      ]
     },
     "execution_count": 64,
     "metadata": {},
     "output_type": "execute_result"
    },
    {
     "data": {
      "image/png": "[encoded data removed]",
      "text/plain": [
       "<matplotlib.figure.Figure at 0x10427dcd0>"
      ]
     },
     "metadata": {},
     "output_type": "display_data"
    }
   ],
   "source": [
    "df.loc[test_index,'price_doc'] = df.loc[test_index,'nominal_index'] * df.loc[test_index,'real_price_doc']\n",
    "addMultiples(df)\n",
    "df.loc[test_index,'price_full'].hist()"
   ]
  },
  {
   "cell_type": "code",
   "execution_count": 65,
   "metadata": {
    "collapsed": true
   },
   "outputs": [],
   "source": [
    "# kaggle 0.36506\n",
    "# df.loc[test_index,'price_doc'].to_frame().to_csv('../submissions/decision_tree_price_doc_052817.csv')"
   ]
  },
  {
   "cell_type": "code",
   "execution_count": null,
   "metadata": {
    "collapsed": true
   },
   "outputs": [],
   "source": []
  }
 ],
 "metadata": {
  "kernelspec": {
   "display_name": "Python 2",
   "language": "python",
   "name": "python2"
  },
  "language_info": {
   "codemirror_mode": {
    "name": "ipython",
    "version": 2
   },
   "file_extension": ".py",
   "mimetype": "text/x-python",
   "name": "python",
   "nbconvert_exporter": "python",
   "pygments_lexer": "ipython2",
   "version": "2.7.13"
  }
 },
 "nbformat": 4,
 "nbformat_minor": 2
}
