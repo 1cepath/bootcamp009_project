{
 "cells": [
  {
   "cell_type": "code",
   "execution_count": 1,
   "metadata": {
    "collapsed": true
   },
   "outputs": [],
   "source": [
    "import pandas as pd\n",
    "import math\n",
    "from sklearn import preprocessing\n",
    "from sklearn.neighbors import KNeighborsClassifier,KNeighborsRegressor\n",
    "import seaborn as sns\n",
    "import numpy as np\n",
    "import matplotlib.pyplot as plt\n",
    "%matplotlib inline\n",
    "pd.set_option('display.max_columns', 500)"
   ]
  },
  {
   "cell_type": "code",
   "execution_count": 2,
   "metadata": {
    "collapsed": true
   },
   "outputs": [],
   "source": [
    "raw_train = pd.read_csv(\"../../data/train.csv\", parse_dates=['timestamp'],index_col=\"id\")\n",
    "raw_test = pd.read_csv(\"../../data/test.csv\", parse_dates=['timestamp'],index_col=\"id\")\n",
    "locales = pd.read_csv(\"../../data/okurg.csv\")"
   ]
  },
  {
   "cell_type": "code",
   "execution_count": 16,
   "metadata": {},
   "outputs": [
    {
     "data": {
      "text/plain": [
       "<matplotlib.axes._subplots.AxesSubplot at 0x130263210>"
      ]
     },
     "execution_count": 16,
     "metadata": {},
     "output_type": "execute_result"
    },
    {
     "data": {
      "image/png": "[encoded data removed]",
      "text/plain": [
       "<matplotlib.figure.Figure at 0x1301d6190>"
      ]
     },
     "metadata": {},
     "output_type": "display_data"
    }
   ],
   "source": [
    "fig, axs = plt.subplots(ncols = 2, figsize=(12,6))\n",
    "# axs[0].title = 'OwnerOccupier - State'\n",
    "# axs[1].title = 'Investment - State'\n",
    "raw_train[(raw_train.state<5) & (raw_train.product_type=='OwnerOccupier')].state.hist(ax=axs[0])\n",
    "raw_train[(raw_train.state<5) & (raw_train.product_type=='Investment')].state.hist(ax=axs[1])\n",
    "# raw_train[raw_train.state<5].state.hist(ax=axs[1])"
   ]
  },
  {
   "cell_type": "code",
   "execution_count": 13,
   "metadata": {},
   "outputs": [
    {
     "data": {
      "text/plain": [
       "array(['Investment', 'OwnerOccupier'], dtype=object)"
      ]
     },
     "execution_count": 13,
     "metadata": {},
     "output_type": "execute_result"
    }
   ],
   "source": [
    "raw_train.product_type.unique()"
   ]
  },
  {
   "cell_type": "code",
   "execution_count": 70,
   "metadata": {
    "collapsed": true
   },
   "outputs": [],
   "source": [
    "cols = raw_train.columns.tolist()[0:12]\n",
    "cols.append('price_doc')\n",
    "df = pd.merge(raw_train[cols],locales, how=\"left\", on=\"sub_area\").reset_index(drop=True).set_index(raw_train.index)\n",
    "df.drop([2121,20247,17586,26362],axis=0,inplace=True)"
   ]
  },
  {
   "cell_type": "code",
   "execution_count": 71,
   "metadata": {},
   "outputs": [
    {
     "name": "stdout",
     "output_type": "stream",
     "text": [
      "(30467, 15)\n",
      "(30024, 15)\n"
     ]
    }
   ],
   "source": [
    "df = df.assign(price_full = lambda df: df.price_doc / df.full_sq)\n",
    "print df.shape\n",
    "df = df[(df.price_full < 600000) & (df.price_full > 20000)]\n",
    "print df.shape"
   ]
  },
  {
   "cell_type": "code",
   "execution_count": 72,
   "metadata": {},
   "outputs": [
    {
     "name": "stdout",
     "output_type": "stream",
     "text": [
      "(13399, 15)\n"
     ]
    }
   ],
   "source": [
    "bad_year = df[df.build_year.isnull()]\n",
    "print bad_year.shape"
   ]
  },
  {
   "cell_type": "code",
   "execution_count": 107,
   "metadata": {},
   "outputs": [
    {
     "name": "stdout",
     "output_type": "stream",
     "text": [
      "(16684, 15)\n",
      "107111.055138\n",
      "154838.709677\n",
      "160526.315789\n",
      "177914.527333\n"
     ]
    }
   ],
   "source": [
    "good_state = df[(~df.state.isnull()) &(df.state <6) ]\n",
    "print good_state.shape\n",
    "# bad_state.plot.scatter(x='state',y='price_full')\n",
    "for group in good_state.groupby('state'):\n",
    "    print group[1].price_full.median()\n",
    "    "
   ]
  },
  {
   "cell_type": "code",
   "execution_count": 122,
   "metadata": {},
   "outputs": [
    {
     "name": "stdout",
     "output_type": "stream",
     "text": [
      "(13340, 15)\n"
     ]
    },
    {
     "data": {
      "text/plain": [
       "<matplotlib.axes._subplots.AxesSubplot at 0x115a71690>"
      ]
     },
     "execution_count": 122,
     "metadata": {},
     "output_type": "execute_result"
    },
    {
     "data": {
      "image/png": "[encoded data removed]",
      "text/plain": [
       "<matplotlib.figure.Figure at 0x116065290>"
      ]
     },
     "metadata": {},
     "output_type": "display_data"
    }
   ],
   "source": [
    "bad_state = df[(df.state.isnull()) | (df.state > 6) ]\n",
    "print bad_state.shape\n",
    "# bad_state.plot.scatter(x='state',y='price_full')\n",
    "# fig, axs = plt.subplots(nrows = 4, figsize=(12,6))\n",
    "# i = 0\n",
    "bad_state.price_full.hist()"
   ]
  },
  {
   "cell_type": "code",
   "execution_count": 123,
   "metadata": {},
   "outputs": [
    {
     "data": {
      "text/plain": [
       "117398.19827586207"
      ]
     },
     "execution_count": 123,
     "metadata": {},
     "output_type": "execute_result"
    }
   ],
   "source": [
    "bad_state.price_full.median()"
   ]
  },
  {
   "cell_type": "code",
   "execution_count": 74,
   "metadata": {},
   "outputs": [
    {
     "data": {
      "text/plain": [
       "<matplotlib.axes._subplots.AxesSubplot at 0x10a6ba790>"
      ]
     },
     "execution_count": 74,
     "metadata": {},
     "output_type": "execute_result"
    },
    {
     "data": {
      "image/png": "[encoded data removed]",
      "text/plain": [
       "<matplotlib.figure.Figure at 0x119e15550>"
      ]
     },
     "metadata": {},
     "output_type": "display_data"
    }
   ],
   "source": [
    "fig, axs = plt.subplots(ncols = 2, figsize=(12,6))\n",
    "# axs[0].title = \"Price to Full with Build Year\"\n",
    "# axs[1].title = \"Price to Full without Build Year\"\n",
    "bad_year.price_full.hist(ax=axs[0])\n",
    "df[~df.build_year.isnull()].price_full.hist(ax=axs[1])"
   ]
  },
  {
   "cell_type": "code",
   "execution_count": 53,
   "metadata": {},
   "outputs": [
    {
     "data": {
      "text/plain": [
       "<matplotlib.axes._subplots.AxesSubplot at 0x11202c350>"
      ]
     },
     "execution_count": 53,
     "metadata": {},
     "output_type": "execute_result"
    },
    {
     "data": {
      "image/png": "[encoded data removed]",
      "text/plain": [
       "<matplotlib.figure.Figure at 0x11247a150>"
      ]
     },
     "metadata": {},
     "output_type": "display_data"
    }
   ],
   "source": [
    "fig, axs = plt.subplots(figsize=(12,6))\n",
    "bad_year.price_full.hist(ax=axs)"
   ]
  },
  {
   "cell_type": "code",
   "execution_count": 124,
   "metadata": {
    "collapsed": true
   },
   "outputs": [],
   "source": [
    "bad_state = raw_test[raw_test.state.isnull()]"
   ]
  },
  {
   "cell_type": "code",
   "execution_count": 119,
   "metadata": {},
   "outputs": [
    {
     "data": {
      "text/plain": [
       "(0, 290)"
      ]
     },
     "execution_count": 119,
     "metadata": {},
     "output_type": "execute_result"
    }
   ],
   "source": [
    "bad_state.sub"
   ]
  },
  {
   "cell_type": "code",
   "execution_count": null,
   "metadata": {
    "collapsed": true
   },
   "outputs": [],
   "source": []
  }
 ],
 "metadata": {
  "kernelspec": {
   "display_name": "Python 2",
   "language": "python",
   "name": "python2"
  },
  "language_info": {
   "codemirror_mode": {
    "name": "ipython",
    "version": 2
   },
   "file_extension": ".py",
   "mimetype": "text/x-python",
   "name": "python",
   "nbconvert_exporter": "python",
   "pygments_lexer": "ipython2",
   "version": "2.7.13"
  }
 },
 "nbformat": 4,
 "nbformat_minor": 2
}
