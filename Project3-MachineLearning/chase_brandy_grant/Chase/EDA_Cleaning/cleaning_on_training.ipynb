{
 "cells": [
  {
   "cell_type": "code",
   "execution_count": 1,
   "metadata": {
    "collapsed": true
   },
   "outputs": [],
   "source": [
    "import pandas as pd\n",
    "import math\n",
    "from sklearn import preprocessing\n",
    "from sklearn.neighbors import KNeighborsClassifier,KNeighborsRegressor\n",
    "import seaborn as sns\n",
    "import numpy as np\n",
    "import matplotlib.pyplot as plt\n",
    "%matplotlib inline\n",
    "pd.set_option('display.max_columns', 500)"
   ]
  },
  {
   "cell_type": "code",
   "execution_count": 2,
   "metadata": {
    "collapsed": true
   },
   "outputs": [],
   "source": [
    "impute = True"
   ]
  },
  {
   "cell_type": "code",
   "execution_count": 5,
   "metadata": {},
   "outputs": [],
   "source": [
    "raw_train = pd.read_csv(\"../../data/train.csv\", parse_dates=['timestamp'],index_col=\"id\")\n",
    "raw_test = pd.read_csv(\"../../data/test.csv\", parse_dates=['timestamp'],index_col=\"id\")\n",
    "locales = pd.read_csv(\"../../data/okurg.csv\")"
   ]
  },
  {
   "cell_type": "code",
   "execution_count": 6,
   "metadata": {
    "collapsed": true
   },
   "outputs": [],
   "source": [
    "# list of rows that we remove\n",
    "dropped = []"
   ]
  },
  {
   "cell_type": "code",
   "execution_count": 7,
   "metadata": {
    "collapsed": true
   },
   "outputs": [],
   "source": [
    "# top fields from Grant's xgb\n",
    "fields = ['timestamp','price_doc','kremlin_km','full_sq', 'life_sq', 'kitch_sq', 'floor', 'max_floor', 'build_year', \n",
    "          'num_room', 'state','material','sub_area']\n",
    "bad_ids = [2121,20247]"
   ]
  },
  {
   "cell_type": "code",
   "execution_count": 8,
   "metadata": {
    "collapsed": true
   },
   "outputs": [],
   "source": [
    "all_cols = False"
   ]
  },
  {
   "cell_type": "code",
   "execution_count": 9,
   "metadata": {},
   "outputs": [],
   "source": [
    "if all_cols:\n",
    "    df = raw_train.copy()\n",
    "else:\n",
    "    df = raw_train.loc[:,fields]\n",
    "    test = raw_test.loc[:,fields]\n",
    "\n",
    "\n",
    "df = pd.merge(df,locales, how=\"left\", on=\"sub_area\").reset_index(drop=True).set_index(df.index)\n",
    "df.drop(bad_ids,axis=0,inplace=True)\n",
    "\n"
   ]
  },
  {
   "cell_type": "code",
   "execution_count": 10,
   "metadata": {},
   "outputs": [
    {
     "data": {
      "text/plain": [
       "30469"
      ]
     },
     "execution_count": 10,
     "metadata": {},
     "output_type": "execute_result"
    }
   ],
   "source": [
    "len(df)"
   ]
  },
  {
   "cell_type": "markdown",
   "metadata": {},
   "source": [
    "## Thoughts\n",
    "* outliers?\n",
    "    df[df.life_to_full<.25]\n",
    "    "
   ]
  },
  {
   "cell_type": "code",
   "execution_count": 11,
   "metadata": {},
   "outputs": [
    {
     "data": {
      "text/plain": [
       "898"
      ]
     },
     "execution_count": 11,
     "metadata": {},
     "output_type": "execute_result"
    }
   ],
   "source": [
    "sum(df.build_year<=1)"
   ]
  },
  {
   "cell_type": "markdown",
   "metadata": {},
   "source": [
    "# Missingness Overview"
   ]
  },
  {
   "cell_type": "code",
   "execution_count": 12,
   "metadata": {},
   "outputs": [
    {
     "name": "stdout",
     "output_type": "stream",
     "text": [
      "shape of data (30469, 14)\n",
      "num cols missing 8\n",
      "num rows missing 15654\n",
      "rows with missing 51.38%\n",
      "\n",
      "\n",
      "number of missing full_sq 0\n",
      "number of missing life_sq 6383\n",
      "number of missing kitch_sq 9571\n",
      "number of missing floor 167\n",
      "number of missing max_floor 9571\n",
      "number of missing build_year 13604\n",
      "number of missing num_room 9571\n",
      "number of missing state 13558\n",
      "number of missing sub_area 0\n"
     ]
    }
   ],
   "source": [
    "print \"shape of data {}\".format(df.shape)\n",
    "missing = df.isnull()\n",
    "print \"num cols missing {}\".format(sum(missing.any(axis=0)))\n",
    "print \"num rows missing {}\".format(sum(missing.any(axis=1)))\n",
    "print \"rows with missing {:.2f}%\".format(100. * sum(missing.any(axis=1))/len(df))\n",
    "print \"\\n\"\n",
    "cols = ['full_sq', 'life_sq', 'kitch_sq', 'floor', 'max_floor', 'build_year', 'num_room', 'state','sub_area']\n",
    "for col in cols:\n",
    "    print \"number of missing {} {}\".format(col,sum(df[col].isnull()))"
   ]
  },
  {
   "cell_type": "markdown",
   "metadata": {},
   "source": [
    "### Helper Functions"
   ]
  },
  {
   "cell_type": "code",
   "execution_count": 13,
   "metadata": {
    "collapsed": true
   },
   "outputs": [],
   "source": [
    "def add_multiples(df):\n",
    "    \"\"\" add/update price multiples and sq ratios. This is just for finding outliers \"\"\"\n",
    "    \n",
    "    # create the columns for price / sq\n",
    "    price_to_full = df.price_doc / df.full_sq\n",
    "    df.loc[:,'price_full'] = price_to_full\n",
    "    df.loc[:,'price_full_std'] = (price_to_full - np.nanmean(price_to_full)) / np.nanstd(price_to_full)\n",
    "\n",
    "def getKremlinGroup(df, id):\n",
    "    \"\"\" returns the group that are the same distance from the kremlin\"\"\"\n",
    "    x = df.loc[id,'kremlin_km']\n",
    "    return df.loc[df.kremlin_km==x,:]\n",
    "    "
   ]
  },
  {
   "cell_type": "code",
   "execution_count": 14,
   "metadata": {},
   "outputs": [
    {
     "name": "stderr",
     "output_type": "stream",
     "text": [
      "/Library/Frameworks/Python.framework/Versions/2.7/lib/python2.7/site-packages/numpy/lib/nanfunctions.py:1304: RuntimeWarning: invalid value encountered in subtract\n",
      "  np.subtract(arr, avg, out=arr, casting='unsafe')\n"
     ]
    }
   ],
   "source": [
    "add_multiples(df)"
   ]
  },
  {
   "cell_type": "code",
   "execution_count": 15,
   "metadata": {},
   "outputs": [
    {
     "data": {
      "text/plain": [
       "1088"
      ]
     },
     "execution_count": 15,
     "metadata": {},
     "output_type": "execute_result"
    }
   ],
   "source": [
    "len(df[df.price_full<30000])"
   ]
  },
  {
   "cell_type": "code",
   "execution_count": 16,
   "metadata": {
    "collapsed": true
   },
   "outputs": [],
   "source": [
    "# Dropping all price multiples that are less than half the median price for all russia"
   ]
  },
  {
   "cell_type": "code",
   "execution_count": 17,
   "metadata": {
    "collapsed": true
   },
   "outputs": [],
   "source": [
    "df.drop(df[df.price_full<30000].index,axis=0,inplace=True)"
   ]
  },
  {
   "cell_type": "markdown",
   "metadata": {},
   "source": [
    "## Initial changes\n",
    "Drop some initial outliers\n",
    "    * full_sq < 10 set to nan\n",
    "    * life > full both to nan\n",
    "    * kitch > full both to nan\n",
    "    * kitch > life both to nan\n",
    "    * kitch > 200 to nan\n",
    "    * floor == 0 to nan\n",
    "    * max_floor == 0 to nan\n",
    "    * max_floor < floor to nan\n",
    "    * build_year \n",
    "        * 1500 < build_year > 2018 to nan\n",
    "    * num_room == 0 to nan\n",
    "\n",
    "    "
   ]
  },
  {
   "cell_type": "code",
   "execution_count": 18,
   "metadata": {
    "collapsed": true
   },
   "outputs": [],
   "source": [
    "def printStats(test):\n",
    "    print \"number that full_sq > 450 : \", len(test[test.full_sq > 450])\n",
    "    print \"number that full_sq < 10 : \", len(test[test.full_sq < 10])\n",
    "    print \"number that full < life : \", len(test[test.full_sq < test.life_sq])\n",
    "    print \"number that full < kitch : \", len(test[test.full_sq < test.kitch_sq])\n",
    "    print \"number that life < kitch : \", len(test[test.life_sq < test.kitch_sq])\n",
    "    print \"number that kitch > 200 : \", len(test[test.kitch_sq > 200])\n",
    "    print \"number that kitch <= 1 : \", len(test[test.kitch_sq <= 1])\n",
    "\n",
    "    print \"number that floor == 0 : \", len(test[test.floor == 0])\n",
    "    print \"number that floor > 70 : \", len(test[test.floor > 70])\n",
    "    print \"number that max_floor > 70 : \", len(test[test.max_floor > 70])\n",
    "    print \"number that max_floor == 0 : \", len(test[test.max_floor == 0])\n",
    "    print \"number that max_floor < floor : \", len(test[test.max_floor < test.floor])\n",
    "    print \"number that num_room == 0 : \", len(test[test.num_room == 0])\n",
    "    print \"number that build_year <=1  : \", len(test[test.build_year <= 1])"
   ]
  },
  {
   "cell_type": "code",
   "execution_count": 19,
   "metadata": {},
   "outputs": [
    {
     "name": "stdout",
     "output_type": "stream",
     "text": [
      "Test data stats\n",
      "number that full_sq > 450 :  0\n",
      "number that full_sq < 10 :  3\n",
      "number that full < life :  12\n",
      "number that full < kitch :  5\n",
      "number that life < kitch :  12\n",
      "number that kitch > 200 :  2\n",
      "number that kitch <= 1 :  2128\n",
      "number that floor == 0 :  0\n",
      "number that floor > 70 :  0\n",
      "number that max_floor > 70 :  0\n",
      "number that max_floor == 0 :  233\n",
      "number that max_floor < floor :  643\n",
      "number that num_room == 0 :  0\n",
      "number that build_year <=1  :  556\n",
      "\n",
      "\n",
      "Training data stats\n",
      "number that full_sq > 450 :  0\n",
      "number that full_sq < 10 :  29\n",
      "number that full < life :  37\n",
      "number that full < kitch :  12\n",
      "number that life < kitch :  55\n",
      "number that kitch > 200 :  5\n",
      "number that kitch <= 1 :  6223\n",
      "number that floor == 0 :  8\n",
      "number that floor > 70 :  1\n",
      "number that max_floor > 70 :  4\n",
      "number that max_floor == 0 :  549\n",
      "number that max_floor < floor :  1490\n",
      "number that num_room == 0 :  14\n",
      "number that build_year <=1  :  895\n"
     ]
    }
   ],
   "source": [
    "print \"Test data stats\"\n",
    "printStats(test)\n",
    "print \"\\n\"\n",
    "print \"Training data stats\"\n",
    "printStats(df)"
   ]
  },
  {
   "cell_type": "code",
   "execution_count": 20,
   "metadata": {},
   "outputs": [
    {
     "name": "stdout",
     "output_type": "stream",
     "text": [
      "number of missing sq rows  114\n"
     ]
    }
   ],
   "source": [
    "q = 'full_sq < 10 or full_sq < life_sq or full_sq < kitch_sq or life_sq < kitch_sq'\n",
    "\n",
    "df.loc[df.query(q).index,['full_sq','life_sq','kitch_sq']] = np.nan\n",
    "\n",
    "df.loc[df.floor == 0, 'floor'] = np.nan\n",
    "df.loc[df.floor > 70, 'floor'] = np.nan\n",
    "\n",
    "df.loc[df.full_sq > 450,'full_sq'] = np.nan\n",
    "df.loc[df.life_sq <= 1, 'life_sq'] = np.nan\n",
    "df.loc[df.kitch_sq <= 1, 'kitch_sq'] = np.nan\n",
    "\n",
    "df.loc[df.max_floor > 70, 'max_floor'] = np.nan\n",
    "df.loc[df.max_floor == 0, 'max_floor'] = np.nan\n",
    "\n",
    "df.loc[df.num_room == 0, 'num_room'] = np.nan\n",
    "\n",
    "bad_sq = df[df[['full_sq','life_sq','kitch_sq']].isnull().all(axis=1)]\n",
    "print \"number of missing sq rows \", len(bad_sq)\n",
    "\n",
    "# some of the years are screwed up\n",
    "if impute:\n",
    "    df.loc[df.build_year < 1875, 'build_year'] = 1875 # 1875 is the oldest in the test\n",
    "    df.loc[df.build_year==1, 'build_year'] = 2001\n",
    "    df.loc[df.build_year==3, 'build_year'] = 2003\n",
    "    df.loc[df.build_year==20, 'build_year'] = 2000\n",
    "    df.loc[df.build_year==71, 'build_year'] = 1971\n",
    "    df.loc[df.build_year==215, 'build_year'] = 2015\n",
    "    df.loc[15223,'build_year'] = 1965\n",
    "    df.loc[10092,'build_year'] = 2005\n",
    "    df.loc[10093,'build_year'] = 2009\n",
    "    \n",
    "else:\n",
    "    df.loc[(df.build_year<1500) | (df.build_year>2018),'build_year'] = np.nan"
   ]
  },
  {
   "cell_type": "markdown",
   "metadata": {},
   "source": [
    "### Initial drops"
   ]
  },
  {
   "cell_type": "code",
   "execution_count": 213,
   "metadata": {
    "collapsed": true
   },
   "outputs": [],
   "source": [
    "# no years in the test before 1875\n",
    "df.drop(df[df.build_year<1875].index, axis=0, inplace=True)\n",
    "\n",
    "# no sq data\n",
    "df.drop(bad_sq.index,axis=0, inplace=True)\n"
   ]
  },
  {
   "cell_type": "code",
   "execution_count": 214,
   "metadata": {},
   "outputs": [
    {
     "name": "stdout",
     "output_type": "stream",
     "text": [
      "number that full_sq > 450 :  0\n",
      "number that full_sq < 10 :  0\n",
      "number that full < life :  0\n",
      "number that full < kitch :  0\n",
      "number that life < kitch :  0\n",
      "number that kitch > 200 :  0\n",
      "number that kitch <= 1 :  0\n",
      "number that floor == 0 :  0\n",
      "number that floor > 70 :  0\n",
      "number that max_floor > 70 :  0\n",
      "number that max_floor == 0 :  0\n",
      "number that max_floor < floor :  936\n",
      "number that num_room == 0 :  0\n",
      "number that build_year <=1  :  0\n"
     ]
    }
   ],
   "source": [
    "printStats(df)"
   ]
  },
  {
   "cell_type": "markdown",
   "metadata": {},
   "source": [
    "## FLOORS & MAX FLOOR\n",
    "\n",
    "I think for the columns that floor > max_floor and the max_floor is not 1 or 0, the columns are actually reversed.\n",
    "The number of 1 0s show up more in the same region that has the majority of 1 and 0s. I think this region just has poor reporting and uses 1 or 0 as missing.\n",
    "\n",
    "\n",
    "#### Floor > Max_Floor and Max_floor > 1\n",
    "Switch the columns\n",
    "\n",
    "#### Remaining Max_floor\n",
    "impute using KNN\n"
   ]
  },
  {
   "cell_type": "markdown",
   "metadata": {},
   "source": [
    "### Max vs Floor\n",
    "when floor > max_floor. I think the \n",
    "\n",
    "Looks like the distribution of floors is off in the missing data. I think the columns are acutally switched.\n",
    "Like the rows with messed up sq feet, there are a lot of 1s and 0s that come from the Novomoskovsky region.\n",
    "I think the 0s and 1s are nan here too"
   ]
  },
  {
   "cell_type": "code",
   "execution_count": 215,
   "metadata": {
    "collapsed": true
   },
   "outputs": [],
   "source": [
    "missing = df[(df.floor>df.max_floor)]\n",
    "missing = missing.drop(['timestamp','sub_area','okurg_district','price_doc'],axis=1)"
   ]
  },
  {
   "cell_type": "code",
   "execution_count": 216,
   "metadata": {},
   "outputs": [
    {
     "name": "stdout",
     "output_type": "stream",
     "text": [
      "left Floor distribution of questionable ones, floor>max and floor > 1\n",
      "right floor distribution for floor < max and floor > 1\n"
     ]
    },
    {
     "data": {
      "text/plain": [
       "<matplotlib.axes._subplots.AxesSubplot at 0x1145b7b10>"
      ]
     },
     "execution_count": 216,
     "metadata": {},
     "output_type": "execute_result"
    },
    {
     "data": {
      "image/png": "[encoded data removed]",
      "text/plain": [
       "<matplotlib.figure.Figure at 0x1137d3f90>"
      ]
     },
     "metadata": {},
     "output_type": "display_data"
    }
   ],
   "source": [
    "fig, axs = plt.subplots(ncols = 2, figsize=(12,6))\n",
    "missing.floor.hist(ax=axs[0])\n",
    "print \"left Floor distribution of questionable ones, floor>max and floor > 1\"\n",
    "print \"right floor distribution for floor < max and floor > 1\"\n",
    "df[(df.max_floor>=df.floor)].floor.hist(ax=axs[1])"
   ]
  },
  {
   "cell_type": "code",
   "execution_count": 217,
   "metadata": {},
   "outputs": [
    {
     "name": "stdout",
     "output_type": "stream",
     "text": [
      "left: max_floor distribution of the questionable data, floor > max_floor \n",
      "right: max_floor distribution of good data, floor < max\n"
     ]
    },
    {
     "data": {
      "text/plain": [
       "<matplotlib.axes._subplots.AxesSubplot at 0x113e73b50>"
      ]
     },
     "execution_count": 217,
     "metadata": {},
     "output_type": "execute_result"
    },
    {
     "data": {
      "image/png": "[encoded data removed]",
      "text/plain": [
       "<matplotlib.figure.Figure at 0x1144225d0>"
      ]
     },
     "metadata": {},
     "output_type": "display_data"
    }
   ],
   "source": [
    "fig, axs = plt.subplots(ncols = 2, figsize=(12,6))\n",
    "missing.max_floor.hist(ax=axs[0])\n",
    "print \"left: max_floor distribution of the questionable data, floor > max_floor \"\n",
    "print \"right: max_floor distribution of good data, floor < max\"\n",
    "df[(df.max_floor>=df.floor)].max_floor.hist(ax=axs[1])"
   ]
  },
  {
   "cell_type": "code",
   "execution_count": 218,
   "metadata": {
    "collapsed": true
   },
   "outputs": [],
   "source": [
    "dfg = df[df.max_floor>=df.floor].groupby('kremlin_km')    \n",
    "# missing is the columns where floor > max and max_floor > 0\n",
    "# max_floor = 1 or 0, the thought \n",
    "for x in missing.iterrows():\n",
    "    try:\n",
    "        k = x[1].kremlin_km\n",
    "        group = dfg.get_group(k)\n",
    "        group = group[group.floor<group.max_floor]\n",
    "        max_floors = group.max_floor.tolist()\n",
    "        floors = group.floor.tolist()\n",
    "        x[1].floor_count_in_grp_max = max_floors.count(x[1].floor)\n",
    "        x[1].max_floor_count_grp_max = max_floors.count(x[1].max_floor)\n",
    "        x[1].floor_count_grp_floor = floors.count(x[1].floor)\n",
    "    except:\n",
    "        pass"
   ]
  },
  {
   "cell_type": "markdown",
   "metadata": {},
   "source": [
    "### Floor count frequency in the complete data\n",
    "Want to see how often the questionable floors [floor > max_floor] show up in the good dataset [floor < max_floor]"
   ]
  },
  {
   "cell_type": "code",
   "execution_count": 219,
   "metadata": {
    "collapsed": true
   },
   "outputs": [],
   "source": [
    "temp = missing[['kremlin_km','floor','max_floor']].copy()\n",
    "\n",
    "floors = df[df.floor<df.max_floor].floor.value_counts()\n",
    "\n",
    "# frequency count of floors\n",
    "floorsCounts = {k:v for k,v in zip(floors.index.tolist(),floors.tolist())}\n",
    "\n",
    "# dictionary of the ratios\n",
    "floorsRatios = {k:\"%.2f\" % (v*1./sum(floorsCounts.values())) for k,v in zip(floors.index.tolist(),floors.tolist())}\n",
    "\n",
    "temp.loc[:,'floorFrequency'] = np.nan\n",
    "\n",
    "temp.floorFrequency = temp.floor.apply(lambda x: floorsRatios[x])"
   ]
  },
  {
   "cell_type": "code",
   "execution_count": 220,
   "metadata": {},
   "outputs": [
    {
     "data": {
      "text/html": [
       "<div>\n",
       "<style>\n",
       "    .dataframe thead tr:only-child th {\n",
       "        text-align: right;\n",
       "    }\n",
       "\n",
       "    .dataframe thead th {\n",
       "        text-align: left;\n",
       "    }\n",
       "\n",
       "    .dataframe tbody tr th {\n",
       "        vertical-align: top;\n",
       "    }\n",
       "</style>\n",
       "<table border=\"1\" class=\"dataframe\">\n",
       "  <thead>\n",
       "    <tr style=\"text-align: right;\">\n",
       "      <th></th>\n",
       "      <th>kremlin_km</th>\n",
       "      <th>floor</th>\n",
       "      <th>max_floor</th>\n",
       "      <th>floorFrequency</th>\n",
       "    </tr>\n",
       "    <tr>\n",
       "      <th>id</th>\n",
       "      <th></th>\n",
       "      <th></th>\n",
       "      <th></th>\n",
       "      <th></th>\n",
       "    </tr>\n",
       "  </thead>\n",
       "  <tbody>\n",
       "    <tr>\n",
       "      <th>27499</th>\n",
       "      <td>9.145442</td>\n",
       "      <td>37.0</td>\n",
       "      <td>1.0</td>\n",
       "      <td>0.00</td>\n",
       "    </tr>\n",
       "    <tr>\n",
       "      <th>28445</th>\n",
       "      <td>20.549464</td>\n",
       "      <td>25.0</td>\n",
       "      <td>19.0</td>\n",
       "      <td>0.00</td>\n",
       "    </tr>\n",
       "    <tr>\n",
       "      <th>20596</th>\n",
       "      <td>14.989998</td>\n",
       "      <td>25.0</td>\n",
       "      <td>1.0</td>\n",
       "      <td>0.00</td>\n",
       "    </tr>\n",
       "    <tr>\n",
       "      <th>19310</th>\n",
       "      <td>13.310013</td>\n",
       "      <td>25.0</td>\n",
       "      <td>23.0</td>\n",
       "      <td>0.00</td>\n",
       "    </tr>\n",
       "    <tr>\n",
       "      <th>10795</th>\n",
       "      <td>18.752843</td>\n",
       "      <td>25.0</td>\n",
       "      <td>1.0</td>\n",
       "      <td>0.00</td>\n",
       "    </tr>\n",
       "    <tr>\n",
       "      <th>11367</th>\n",
       "      <td>18.752843</td>\n",
       "      <td>25.0</td>\n",
       "      <td>1.0</td>\n",
       "      <td>0.00</td>\n",
       "    </tr>\n",
       "    <tr>\n",
       "      <th>22228</th>\n",
       "      <td>23.373697</td>\n",
       "      <td>25.0</td>\n",
       "      <td>9.0</td>\n",
       "      <td>0.00</td>\n",
       "    </tr>\n",
       "    <tr>\n",
       "      <th>11687</th>\n",
       "      <td>17.948904</td>\n",
       "      <td>25.0</td>\n",
       "      <td>1.0</td>\n",
       "      <td>0.00</td>\n",
       "    </tr>\n",
       "    <tr>\n",
       "      <th>23892</th>\n",
       "      <td>14.998673</td>\n",
       "      <td>25.0</td>\n",
       "      <td>1.0</td>\n",
       "      <td>0.00</td>\n",
       "    </tr>\n",
       "    <tr>\n",
       "      <th>11999</th>\n",
       "      <td>21.820715</td>\n",
       "      <td>25.0</td>\n",
       "      <td>1.0</td>\n",
       "      <td>0.00</td>\n",
       "    </tr>\n",
       "    <tr>\n",
       "      <th>9767</th>\n",
       "      <td>18.752843</td>\n",
       "      <td>24.0</td>\n",
       "      <td>1.0</td>\n",
       "      <td>0.00</td>\n",
       "    </tr>\n",
       "    <tr>\n",
       "      <th>13197</th>\n",
       "      <td>14.294238</td>\n",
       "      <td>24.0</td>\n",
       "      <td>1.0</td>\n",
       "      <td>0.00</td>\n",
       "    </tr>\n",
       "    <tr>\n",
       "      <th>10492</th>\n",
       "      <td>18.752843</td>\n",
       "      <td>24.0</td>\n",
       "      <td>1.0</td>\n",
       "      <td>0.00</td>\n",
       "    </tr>\n",
       "    <tr>\n",
       "      <th>17805</th>\n",
       "      <td>14.998673</td>\n",
       "      <td>24.0</td>\n",
       "      <td>1.0</td>\n",
       "      <td>0.00</td>\n",
       "    </tr>\n",
       "    <tr>\n",
       "      <th>26236</th>\n",
       "      <td>17.718526</td>\n",
       "      <td>24.0</td>\n",
       "      <td>1.0</td>\n",
       "      <td>0.00</td>\n",
       "    </tr>\n",
       "  </tbody>\n",
       "</table>\n",
       "</div>"
      ],
      "text/plain": [
       "       kremlin_km  floor  max_floor floorFrequency\n",
       "id                                                \n",
       "27499    9.145442   37.0        1.0           0.00\n",
       "28445   20.549464   25.0       19.0           0.00\n",
       "20596   14.989998   25.0        1.0           0.00\n",
       "19310   13.310013   25.0       23.0           0.00\n",
       "10795   18.752843   25.0        1.0           0.00\n",
       "11367   18.752843   25.0        1.0           0.00\n",
       "22228   23.373697   25.0        9.0           0.00\n",
       "11687   17.948904   25.0        1.0           0.00\n",
       "23892   14.998673   25.0        1.0           0.00\n",
       "11999   21.820715   25.0        1.0           0.00\n",
       "9767    18.752843   24.0        1.0           0.00\n",
       "13197   14.294238   24.0        1.0           0.00\n",
       "10492   18.752843   24.0        1.0           0.00\n",
       "17805   14.998673   24.0        1.0           0.00\n",
       "26236   17.718526   24.0        1.0           0.00"
      ]
     },
     "execution_count": 220,
     "metadata": {},
     "output_type": "execute_result"
    }
   ],
   "source": [
    "temp[temp.floor>3].sort_values('floor',ascending=False).head(15)"
   ]
  },
  {
   "cell_type": "markdown",
   "metadata": {},
   "source": [
    "So it looks like the higher ones are definitely off, the problem is with the ones less than 5. <br>\n",
    "Let's look at the distribution before and after reversing the columns"
   ]
  },
  {
   "cell_type": "code",
   "execution_count": 221,
   "metadata": {},
   "outputs": [
    {
     "name": "stdout",
     "output_type": "stream",
     "text": [
      "left is good data before the flip and right is after the flip, not real change\n"
     ]
    },
    {
     "data": {
      "text/plain": [
       "<matplotlib.axes._subplots.AxesSubplot at 0x114c95b50>"
      ]
     },
     "execution_count": 221,
     "metadata": {},
     "output_type": "execute_result"
    },
    {
     "data": {
      "image/png": "[encoded data removed]",
      "text/plain": [
       "<matplotlib.figure.Figure at 0x112fc2650>"
      ]
     },
     "metadata": {},
     "output_type": "display_data"
    }
   ],
   "source": [
    "fig, axs = plt.subplots(ncols = 2, figsize=(12,6))\n",
    "df[df.floor<=df.max_floor].floor.hist(ax=axs[0])\n",
    "print \"left is good data before the flip and right is after the flip, not real change\"\n",
    "temp = df.copy()\n",
    "bad_index = temp[(temp.floor>temp.max_floor) & (temp.max_floor != 0)].index\n",
    "new_floor = temp.loc[bad_index,'max_floor'].tolist()\n",
    "new_max = temp.loc[bad_index,'floor'].tolist()\n",
    "temp.loc[bad_index,'floor'] = new_floor\n",
    "temp.loc[bad_index,'max_floor']= new_max\n",
    "\n",
    "# distribution stays about the same after making this adjustment\n",
    "temp[df.floor<=df.max_floor].floor.hist(ax=axs[1])"
   ]
  },
  {
   "cell_type": "code",
   "execution_count": 222,
   "metadata": {
    "collapsed": true
   },
   "outputs": [],
   "source": [
    "if impute:\n",
    "    bad_floors = df[df.floor>df.max_floor].copy()\n",
    "    indx = bad_floors.index\n",
    "\n",
    "    # switching the floor columns \n",
    "    new_floor = df.loc[indx,'max_floor']\n",
    "    new_max = df.loc[indx,'floor']\n",
    "    \n",
    "    bad_floors.loc[indx,'max_floor'] = new_max\n",
    "    bad_floors.loc[indx, 'floor'] = new_floor\n",
    "    df.loc[bad_floors.index,:] = bad_floors\n",
    "\n",
    "else:\n",
    "    bad_floors.loc[:,'max_floor'] = np.nan\n",
    "# bad_floors.sort_values('max_floor')"
   ]
  },
  {
   "cell_type": "code",
   "execution_count": 223,
   "metadata": {},
   "outputs": [
    {
     "data": {
      "text/plain": [
       "30471"
      ]
     },
     "execution_count": 223,
     "metadata": {},
     "output_type": "execute_result"
    }
   ],
   "source": [
    "len(raw_train)"
   ]
  },
  {
   "cell_type": "markdown",
   "metadata": {},
   "source": [
    "# Imputing Missing Floors\n",
    "\n",
    "### KNN Regression first\n",
    "\n",
    "Want to give more weight to neighborhood, so adding another kremlin variable"
   ]
  },
  {
   "cell_type": "code",
   "execution_count": 224,
   "metadata": {
    "collapsed": true
   },
   "outputs": [],
   "source": [
    "cols = ['price_doc','kremlin_km', 'full_sq', 'floor', 'max_floor']\n",
    "\n",
    "complete = df.loc[~df[cols].isnull().any(axis=1),cols].copy()\n",
    "complete['kremlin_km2'] = complete['kremlin_km']\n",
    "\n",
    "missing = df.loc[df.max_floor.isnull(),cols].copy()\n",
    "missing['kremlin_km2'] = missing['kremlin_km']\n",
    "cols = ['price_doc','kremlin_km', 'full_sq', 'floor','kremlin_km2']\n",
    "\n",
    "missing = missing.loc[~missing[cols].isnull().any(axis=1),:]\n",
    "prediction_inputs = missing.drop('max_floor',axis=1).copy()"
   ]
  },
  {
   "cell_type": "code",
   "execution_count": 225,
   "metadata": {
    "collapsed": true
   },
   "outputs": [],
   "source": [
    "predictGroups = prediction_inputs.groupby('floor')"
   ]
  },
  {
   "cell_type": "code",
   "execution_count": 226,
   "metadata": {
    "collapsed": true
   },
   "outputs": [],
   "source": [
    "for p in predictGroups:\n",
    "    c = complete[complete.max_floor > p[0]]\n",
    "    n = len(c)\n",
    "        \n",
    "    neigh = KNeighborsRegressor(n_neighbors=min(2,n))\n",
    "    missing.loc[p[1].index,'max_floor_KNNR2'] = neigh.fit(c.drop('max_floor',axis=1),\n",
    "                                          c.max_floor).predict(p[1])\n",
    "\n",
    "    neigh = KNeighborsRegressor(n_neighbors=min(5,n))\n",
    "    missing.loc[p[1].index,'max_floor_KNNR5'] = neigh.fit(c.drop('max_floor',axis=1),\n",
    "                                          c.max_floor).predict(p[1])\n",
    "\n",
    "    neigh = KNeighborsRegressor(n_neighbors=min(100,n))\n",
    "    missing.loc[p[1].index,'max_floor_KNNR100'] = neigh.fit(c.drop('max_floor',axis=1),\n",
    "                                          c.max_floor).predict(p[1])"
   ]
  },
  {
   "cell_type": "code",
   "execution_count": null,
   "metadata": {
    "collapsed": true
   },
   "outputs": [],
   "source": []
  },
  {
   "cell_type": "markdown",
   "metadata": {},
   "source": [
    "### Trying KNN with everything as a category\n",
    "\n",
    "Set all columns to category because I wanted to find try and match up the exact building from the group. Rounded the sq meters to the closest 5 to improve the odds of matching."
   ]
  },
  {
   "cell_type": "code",
   "execution_count": 227,
   "metadata": {
    "collapsed": true
   },
   "outputs": [],
   "source": [
    "def roundIt(x, base=5):\n",
    "    return int(base * round(float(x)/base))"
   ]
  },
  {
   "cell_type": "code",
   "execution_count": 228,
   "metadata": {
    "collapsed": true
   },
   "outputs": [],
   "source": [
    "cols = ['price_doc','kremlin_km', 'full_sq', 'floor','kremlin_km2']\n",
    "\n",
    "# make the sq round so it's easier to match \n",
    "missing['full_sq'] = missing['full_sq'].apply(roundIt)\n",
    "missing['price_doc'] = missing['price_doc'].apply(roundIt,base=10000)\n",
    "\n",
    "## drop all rows with missing in anything except max_floor\n",
    "prediction_inputs = missing[cols].apply(lambda x: x.astype('category'),axis=0)\n",
    "\n",
    "predictGroups = prediction_inputs.groupby('floor')\n",
    "\n",
    "for p in predictGroups:\n",
    "    c = complete[complete.max_floor > p[0]]\n",
    "    n = len(c)\n",
    "\n",
    "    neigh = KNeighborsClassifier(n_neighbors=min(2,n))\n",
    "    missing.loc[p[1].index,'max_floor_KNNC2'] = neigh.fit(c.drop('max_floor',axis=1),\n",
    "                                          c.max_floor).predict(p[1])\n",
    "\n",
    "    neigh = KNeighborsClassifier(n_neighbors=min(5,n))\n",
    "    missing.loc[p[1].index,'max_floor_KNNC5'] = neigh.fit(c.drop('max_floor',axis=1),\n",
    "                                          c.max_floor).predict(p[1])\n",
    "\n",
    "    neigh = KNeighborsClassifier(n_neighbors=min(100,n))\n",
    "    missing.loc[p[1].index,'max_floor_KNNC100'] = neigh.fit(c.drop('max_floor',axis=1),\n",
    "                                          c.max_floor).predict(p[1])\n",
    "\n"
   ]
  },
  {
   "cell_type": "markdown",
   "metadata": {},
   "source": [
    "## Selecting Max_floor\n",
    "Selected the max floor based on the mode from all of the KNN observations"
   ]
  },
  {
   "cell_type": "code",
   "execution_count": 229,
   "metadata": {
    "collapsed": true
   },
   "outputs": [],
   "source": [
    "missing = missing.apply(pd.to_numeric)\n",
    "for col in missing.columns[6:12]:\n",
    "    missing.loc[missing[col] < missing.floor, col] = np.nan"
   ]
  },
  {
   "cell_type": "code",
   "execution_count": 230,
   "metadata": {
    "collapsed": true
   },
   "outputs": [],
   "source": [
    "missing.max_floor = missing.iloc[:,6:12].mode(axis=1,numeric_only=True)"
   ]
  },
  {
   "cell_type": "code",
   "execution_count": 231,
   "metadata": {
    "collapsed": true
   },
   "outputs": [],
   "source": [
    "if impute:\n",
    "    df.loc[missing.index,'max_floor'] = missing.max_floor"
   ]
  },
  {
   "cell_type": "code",
   "execution_count": null,
   "metadata": {
    "collapsed": true
   },
   "outputs": [],
   "source": []
  },
  {
   "cell_type": "markdown",
   "metadata": {},
   "source": [
    "## Missing SQ"
   ]
  },
  {
   "cell_type": "code",
   "execution_count": 232,
   "metadata": {},
   "outputs": [
    {
     "name": "stdout",
     "output_type": "stream",
     "text": [
      "num missing life_sq 6773\n",
      "num missing kitch_sq 15272\n"
     ]
    }
   ],
   "source": [
    "print \"num missing life_sq\", sum(df.life_sq.isnull())\n",
    "print \"num missing kitch_sq\", sum(df.kitch_sq.isnull())"
   ]
  },
  {
   "cell_type": "code",
   "execution_count": 233,
   "metadata": {
    "collapsed": true
   },
   "outputs": [],
   "source": [
    "df = df.assign(life_to_full = lambda df: df.life_sq / df.full_sq)\n",
    "df = df.assign(kitch_to_life = lambda df: df.kitch_sq / df.life_sq)"
   ]
  },
  {
   "cell_type": "code",
   "execution_count": 234,
   "metadata": {},
   "outputs": [
    {
     "data": {
      "text/plain": [
       "29267"
      ]
     },
     "execution_count": 234,
     "metadata": {},
     "output_type": "execute_result"
    }
   ],
   "source": [
    "len(df)"
   ]
  },
  {
   "cell_type": "code",
   "execution_count": 235,
   "metadata": {
    "collapsed": true
   },
   "outputs": [],
   "source": [
    "missing = df[df.life_sq.isnull() | df.kitch_sq.isnull()].copy()\n",
    "df = df.assign(diff_full_life = lambda df: df.full_sq - df.life_sq)\n",
    "df.loc[df.life_to_full<.15,['full_sq','life_sq','kitch_sq']] = np.nan \n",
    "bad = df[df[['full_sq','life_sq','kitch_sq']].isnull().all(axis=1)].index"
   ]
  },
  {
   "cell_type": "code",
   "execution_count": 236,
   "metadata": {},
   "outputs": [
    {
     "data": {
      "text/plain": [
       "29267"
      ]
     },
     "execution_count": 236,
     "metadata": {},
     "output_type": "execute_result"
    }
   ],
   "source": [
    "len(df)"
   ]
  },
  {
   "cell_type": "markdown",
   "metadata": {},
   "source": [
    "### Will use median of the dist group ratios to impute missingness\n",
    "first life_sq"
   ]
  },
  {
   "cell_type": "code",
   "execution_count": 237,
   "metadata": {},
   "outputs": [
    {
     "name": "stdout",
     "output_type": "stream",
     "text": [
      "9572\n",
      "6235\n"
     ]
    }
   ],
   "source": [
    "print sum(raw_train.kitch_sq.isnull())\n",
    "print sum(raw_train.kitch_sq<=1)"
   ]
  },
  {
   "cell_type": "code",
   "execution_count": 238,
   "metadata": {},
   "outputs": [
    {
     "data": {
      "text/plain": [
       "array([[<matplotlib.axes._subplots.AxesSubplot object at 0x110fb6ed0>]], dtype=object)"
      ]
     },
     "execution_count": 238,
     "metadata": {},
     "output_type": "execute_result"
    },
    {
     "data": {
      "image/png": "[encoded data removed]",
      "text/plain": [
       "<matplotlib.figure.Figure at 0x110fd01d0>"
      ]
     },
     "metadata": {},
     "output_type": "display_data"
    }
   ],
   "source": [
    "# most of the aparts have a life to full ratio of 60%\n",
    "df[df.life_sq>0].hist('life_to_full')"
   ]
  },
  {
   "cell_type": "code",
   "execution_count": 239,
   "metadata": {
    "collapsed": true
   },
   "outputs": [],
   "source": [
    "test.loc[test.full_sq == 0,'full_sq'] = np.nan\n",
    "test.loc[test.full_sq<test.life_sq,'full_sq'] = np.nan\n",
    "test = test.assign(life_to_full = lambda df: df.life_sq / df.full_sq)\n",
    "test = test.assign(kitch_to_life = lambda df: df.kitch_sq / df.life_sq)"
   ]
  },
  {
   "cell_type": "code",
   "execution_count": 240,
   "metadata": {},
   "outputs": [
    {
     "data": {
      "text/plain": [
       "array([[<matplotlib.axes._subplots.AxesSubplot object at 0x10bfe8f90>]], dtype=object)"
      ]
     },
     "execution_count": 240,
     "metadata": {},
     "output_type": "execute_result"
    },
    {
     "data": {
      "image/png": "[encoded data removed]",
      "text/plain": [
       "<matplotlib.figure.Figure at 0x10c013b90>"
      ]
     },
     "metadata": {},
     "output_type": "display_data"
    }
   ],
   "source": [
    "# Similiar to the uncleaned test datat\n",
    "test.hist('life_to_full')"
   ]
  },
  {
   "cell_type": "code",
   "execution_count": 241,
   "metadata": {
    "collapsed": true
   },
   "outputs": [],
   "source": [
    "cols = ['price_doc','kremlin_km', 'full_sq','life_sq','life_to_full','floor', 'sub_area']\n",
    "complete = df.loc[~df[cols].isnull().any(axis=1),cols].copy()\n",
    "\n",
    "missingGroupsKrem = missing.groupby('kremlin_km')\n",
    "missingGroupsSubArea = missing.groupby('sub_area')\n",
    "for g in missingGroupsKrem:\n",
    "    c = complete[complete.kremlin_km == g[0]]\n",
    "    if len(c) < 1:\n",
    "        c = complete[complete.sub_area == g[1].sub_area.unique().tolist()[0]]\n",
    "    ratio = np.nanmedian(c.life_to_full)\n",
    "    missing.loc[g[1].index,'life_sq'] = g[1].full_sq * ratio"
   ]
  },
  {
   "cell_type": "markdown",
   "metadata": {},
   "source": [
    "### Kitch_sq\n",
    "going to do the same for kitch_sq "
   ]
  },
  {
   "cell_type": "code",
   "execution_count": 242,
   "metadata": {},
   "outputs": [
    {
     "data": {
      "text/plain": [
       "array([[<matplotlib.axes._subplots.AxesSubplot object at 0x10d6b1ad0>]], dtype=object)"
      ]
     },
     "execution_count": 242,
     "metadata": {},
     "output_type": "execute_result"
    },
    {
     "data": {
      "image/png": "[encoded data removed]",
      "text/plain": [
       "<matplotlib.figure.Figure at 0x10bff3dd0>"
      ]
     },
     "metadata": {},
     "output_type": "display_data"
    }
   ],
   "source": [
    "df[df.kitch_sq>0].hist('kitch_to_life')"
   ]
  },
  {
   "cell_type": "code",
   "execution_count": 243,
   "metadata": {},
   "outputs": [
    {
     "data": {
      "text/plain": [
       "array([[<matplotlib.axes._subplots.AxesSubplot object at 0x10d4a2990>]], dtype=object)"
      ]
     },
     "execution_count": 243,
     "metadata": {},
     "output_type": "execute_result"
    },
    {
     "data": {
      "image/png": "[encoded data removed]",
      "text/plain": [
       "<matplotlib.figure.Figure at 0x10d489b90>"
      ]
     },
     "metadata": {},
     "output_type": "display_data"
    }
   ],
   "source": [
    "# distribution is about 20-30%\n",
    "test[(test.kitch_to_life>0) & (test.kitch_to_life<1)].hist('kitch_to_life')"
   ]
  },
  {
   "cell_type": "code",
   "execution_count": 244,
   "metadata": {
    "collapsed": true
   },
   "outputs": [],
   "source": [
    "cols = ['price_doc','kremlin_km','life_sq','kitch_sq','kitch_to_life','floor', 'sub_area']\n",
    "complete = df.loc[~df[cols].isnull().any(axis=1),cols].copy()\n",
    "\n",
    "missingGroupsKrem = missing.groupby('kremlin_km')\n",
    "missingGroupsSubArea = missing.groupby('sub_area')\n",
    "for g in missingGroupsKrem:\n",
    "    c = complete[complete.kremlin_km == g[0]]\n",
    "    if len(c) < 1:\n",
    "        c = complete[complete.sub_area == g[1].sub_area.unique().tolist()[0]]\n",
    "    ratio = np.nanmedian(c.kitch_to_life)\n",
    "    missing.loc[g[1].index,'kitch_sq'] = g[1].life_sq * ratio"
   ]
  },
  {
   "cell_type": "code",
   "execution_count": 245,
   "metadata": {},
   "outputs": [
    {
     "data": {
      "text/html": [
       "<div>\n",
       "<style>\n",
       "    .dataframe thead tr:only-child th {\n",
       "        text-align: right;\n",
       "    }\n",
       "\n",
       "    .dataframe thead th {\n",
       "        text-align: left;\n",
       "    }\n",
       "\n",
       "    .dataframe tbody tr th {\n",
       "        vertical-align: top;\n",
       "    }\n",
       "</style>\n",
       "<table border=\"1\" class=\"dataframe\">\n",
       "  <thead>\n",
       "    <tr style=\"text-align: right;\">\n",
       "      <th></th>\n",
       "      <th>timestamp</th>\n",
       "      <th>price_doc</th>\n",
       "      <th>kremlin_km</th>\n",
       "      <th>full_sq</th>\n",
       "      <th>life_sq</th>\n",
       "      <th>kitch_sq</th>\n",
       "      <th>floor</th>\n",
       "      <th>max_floor</th>\n",
       "      <th>build_year</th>\n",
       "      <th>num_room</th>\n",
       "      <th>state</th>\n",
       "      <th>material</th>\n",
       "      <th>sub_area</th>\n",
       "      <th>okurg_district</th>\n",
       "      <th>price_full</th>\n",
       "      <th>price_full_std</th>\n",
       "      <th>life_to_full</th>\n",
       "      <th>kitch_to_life</th>\n",
       "    </tr>\n",
       "    <tr>\n",
       "      <th>id</th>\n",
       "      <th></th>\n",
       "      <th></th>\n",
       "      <th></th>\n",
       "      <th></th>\n",
       "      <th></th>\n",
       "      <th></th>\n",
       "      <th></th>\n",
       "      <th></th>\n",
       "      <th></th>\n",
       "      <th></th>\n",
       "      <th></th>\n",
       "      <th></th>\n",
       "      <th></th>\n",
       "      <th></th>\n",
       "      <th></th>\n",
       "      <th></th>\n",
       "      <th></th>\n",
       "      <th></th>\n",
       "    </tr>\n",
       "  </thead>\n",
       "  <tbody>\n",
       "    <tr>\n",
       "      <th>30461</th>\n",
       "      <td>2015-06-29</td>\n",
       "      <td>6370777</td>\n",
       "      <td>15.750244</td>\n",
       "      <td>50.0</td>\n",
       "      <td>50.0</td>\n",
       "      <td>11.434783</td>\n",
       "      <td>7.0</td>\n",
       "      <td>7.0</td>\n",
       "      <td>2015.0</td>\n",
       "      <td>1.0</td>\n",
       "      <td>1.0</td>\n",
       "      <td>1.0</td>\n",
       "      <td>Poselenie Moskovskij</td>\n",
       "      <td>Novomoskovsky</td>\n",
       "      <td>127415.540000</td>\n",
       "      <td>NaN</td>\n",
       "      <td>NaN</td>\n",
       "      <td>NaN</td>\n",
       "    </tr>\n",
       "    <tr>\n",
       "      <th>30462</th>\n",
       "      <td>2015-06-29</td>\n",
       "      <td>5778893</td>\n",
       "      <td>16.957155</td>\n",
       "      <td>51.0</td>\n",
       "      <td>51.0</td>\n",
       "      <td>9.422833</td>\n",
       "      <td>4.0</td>\n",
       "      <td>17.0</td>\n",
       "      <td>NaN</td>\n",
       "      <td>2.0</td>\n",
       "      <td>1.0</td>\n",
       "      <td>4.0</td>\n",
       "      <td>Solncevo</td>\n",
       "      <td>Western</td>\n",
       "      <td>113311.627451</td>\n",
       "      <td>NaN</td>\n",
       "      <td>NaN</td>\n",
       "      <td>NaN</td>\n",
       "    </tr>\n",
       "    <tr>\n",
       "      <th>30467</th>\n",
       "      <td>2015-06-30</td>\n",
       "      <td>10262010</td>\n",
       "      <td>10.514468</td>\n",
       "      <td>56.0</td>\n",
       "      <td>53.5</td>\n",
       "      <td>9.953488</td>\n",
       "      <td>19.0</td>\n",
       "      <td>19.0</td>\n",
       "      <td>2017.0</td>\n",
       "      <td>2.0</td>\n",
       "      <td>1.0</td>\n",
       "      <td>1.0</td>\n",
       "      <td>Sviblovo</td>\n",
       "      <td>North Eastern</td>\n",
       "      <td>183250.178571</td>\n",
       "      <td>NaN</td>\n",
       "      <td>0.910714</td>\n",
       "      <td>NaN</td>\n",
       "    </tr>\n",
       "    <tr>\n",
       "      <th>30468</th>\n",
       "      <td>2015-06-30</td>\n",
       "      <td>6750554</td>\n",
       "      <td>0.072897</td>\n",
       "      <td>52.0</td>\n",
       "      <td>52.0</td>\n",
       "      <td>11.555556</td>\n",
       "      <td>13.0</td>\n",
       "      <td>17.0</td>\n",
       "      <td>NaN</td>\n",
       "      <td>2.0</td>\n",
       "      <td>1.0</td>\n",
       "      <td>1.0</td>\n",
       "      <td>Tverskoe</td>\n",
       "      <td>Central</td>\n",
       "      <td>129818.346154</td>\n",
       "      <td>NaN</td>\n",
       "      <td>NaN</td>\n",
       "      <td>NaN</td>\n",
       "    </tr>\n",
       "    <tr>\n",
       "      <th>30471</th>\n",
       "      <td>2015-06-30</td>\n",
       "      <td>6970959</td>\n",
       "      <td>21.905792</td>\n",
       "      <td>45.0</td>\n",
       "      <td>45.0</td>\n",
       "      <td>8.766603</td>\n",
       "      <td>10.0</td>\n",
       "      <td>20.0</td>\n",
       "      <td>NaN</td>\n",
       "      <td>1.0</td>\n",
       "      <td>1.0</td>\n",
       "      <td>1.0</td>\n",
       "      <td>Poselenie Vnukovskoe</td>\n",
       "      <td>Novomoskovsky</td>\n",
       "      <td>154910.200000</td>\n",
       "      <td>NaN</td>\n",
       "      <td>NaN</td>\n",
       "      <td>NaN</td>\n",
       "    </tr>\n",
       "  </tbody>\n",
       "</table>\n",
       "</div>"
      ],
      "text/plain": [
       "       timestamp  price_doc  kremlin_km  full_sq  life_sq   kitch_sq  floor  \\\n",
       "id                                                                            \n",
       "30461 2015-06-29    6370777   15.750244     50.0     50.0  11.434783    7.0   \n",
       "30462 2015-06-29    5778893   16.957155     51.0     51.0   9.422833    4.0   \n",
       "30467 2015-06-30   10262010   10.514468     56.0     53.5   9.953488   19.0   \n",
       "30468 2015-06-30    6750554    0.072897     52.0     52.0  11.555556   13.0   \n",
       "30471 2015-06-30    6970959   21.905792     45.0     45.0   8.766603   10.0   \n",
       "\n",
       "       max_floor  build_year  num_room  state  material              sub_area  \\\n",
       "id                                                                              \n",
       "30461        7.0      2015.0       1.0    1.0       1.0  Poselenie Moskovskij   \n",
       "30462       17.0         NaN       2.0    1.0       4.0              Solncevo   \n",
       "30467       19.0      2017.0       2.0    1.0       1.0              Sviblovo   \n",
       "30468       17.0         NaN       2.0    1.0       1.0              Tverskoe   \n",
       "30471       20.0         NaN       1.0    1.0       1.0  Poselenie Vnukovskoe   \n",
       "\n",
       "       okurg_district     price_full  price_full_std  life_to_full  \\\n",
       "id                                                                   \n",
       "30461  Novomoskovsky   127415.540000             NaN           NaN   \n",
       "30462        Western   113311.627451             NaN           NaN   \n",
       "30467  North Eastern   183250.178571             NaN      0.910714   \n",
       "30468        Central   129818.346154             NaN           NaN   \n",
       "30471  Novomoskovsky   154910.200000             NaN           NaN   \n",
       "\n",
       "       kitch_to_life  \n",
       "id                    \n",
       "30461            NaN  \n",
       "30462            NaN  \n",
       "30467            NaN  \n",
       "30468            NaN  \n",
       "30471            NaN  "
      ]
     },
     "execution_count": 245,
     "metadata": {},
     "output_type": "execute_result"
    }
   ],
   "source": [
    "missing.tail()"
   ]
  },
  {
   "cell_type": "code",
   "execution_count": 246,
   "metadata": {
    "collapsed": true
   },
   "outputs": [],
   "source": [
    "cols = ['life_sq','kitch_sq','floor','max_floor']\n",
    "df.loc[missing.index,cols] = missing.loc[:,cols]"
   ]
  },
  {
   "cell_type": "code",
   "execution_count": 247,
   "metadata": {
    "collapsed": true
   },
   "outputs": [],
   "source": [
    "## for all columns\n",
    "# df.drop(['life_to_full', 'kitch_to_life', 'diff_full_life'],axis=1).to_csv('../input/clean_train_all_columns_chase.csv')"
   ]
  },
  {
   "cell_type": "code",
   "execution_count": 248,
   "metadata": {
    "collapsed": true
   },
   "outputs": [],
   "source": [
    "df.drop(df[df.full_sq.isnull()].index,axis=0,inplace=True)\n",
    "\n",
    "df.drop(df[df.kitch_sq.isnull()].index, axis=0,inplace=True)\n",
    "\n",
    "\n",
    "df.drop(df[df.floor.isnull()].index, axis=0,inplace=True)\n",
    "df.drop(df[df.max_floor.isnull()].index, axis=0,inplace=True)\n",
    "df['quarter'] = pd.PeriodIndex(df['timestamp'], freq='Q').strftime('Q%q-%y')\n",
    "\n",
    "cols = ['quarter','timestamp', 'price_doc', 'kremlin_km', 'full_sq', 'life_sq', 'floor',\n",
    "        'max_floor','sub_area', 'okurg_district']\n",
    "\n",
    "df[cols].to_csv('../data/clean_train_chase.csv')\n",
    "\n",
    "# df.loc[:,~df.isnull().any(axis=0)].to_csv('../Chase/data/clean_train_all_cols_chase.csv')"
   ]
  },
  {
   "cell_type": "code",
   "execution_count": 251,
   "metadata": {},
   "outputs": [
    {
     "data": {
      "text/plain": [
       "135294.11764705883"
      ]
     },
     "execution_count": 251,
     "metadata": {},
     "output_type": "execute_result"
    }
   ],
   "source": [
    "np.nanmedian(raw_train.price_doc / raw_train.full_sq)"
   ]
  },
  {
   "cell_type": "code",
   "execution_count": 250,
   "metadata": {},
   "outputs": [
    {
     "data": {
      "text/plain": [
       "138275.15182724252"
      ]
     },
     "execution_count": 250,
     "metadata": {},
     "output_type": "execute_result"
    }
   ],
   "source": [
    "df.price_full.median()"
   ]
  },
  {
   "cell_type": "code",
   "execution_count": 176,
   "metadata": {},
   "outputs": [
    {
     "data": {
      "text/plain": [
       "21445"
      ]
     },
     "execution_count": 176,
     "metadata": {},
     "output_type": "execute_result"
    }
   ],
   "source": [
    "len(df[df.price_full>100000])"
   ]
  },
  {
   "cell_type": "code",
   "execution_count": null,
   "metadata": {
    "collapsed": true
   },
   "outputs": [],
   "source": []
  },
  {
   "cell_type": "code",
   "execution_count": null,
   "metadata": {
    "collapsed": true
   },
   "outputs": [],
   "source": []
  },
  {
   "cell_type": "markdown",
   "metadata": {},
   "source": [
    "# STOP HERE\n",
    "\n",
    "\n",
    "<br>\n",
    "<br>\n",
    "\n",
    "### DIFFERENT DATA SET\n",
    "this is something I'm playing with. Just trying different columns"
   ]
  },
  {
   "cell_type": "code",
   "execution_count": null,
   "metadata": {
    "collapsed": true
   },
   "outputs": [],
   "source": [
    "x.max"
   ]
  },
  {
   "cell_type": "code",
   "execution_count": 360,
   "metadata": {
    "collapsed": true
   },
   "outputs": [],
   "source": [
    "x = df[df.isnull().any(axis=1)].sum().to_frame()\n",
    "x = df.isnull().sum()\n",
    "x.sort_values()\n",
    "\n",
    "columns = x[x<5000].index.tolist()"
   ]
  },
  {
   "cell_type": "code",
   "execution_count": 361,
   "metadata": {
    "collapsed": true
   },
   "outputs": [],
   "source": [
    "cols = columns[1:277]\n",
    "cols.append('okurg_district')\n",
    "cols.append('price_doc')\n",
    "cols.append('timestamp')"
   ]
  },
  {
   "cell_type": "code",
   "execution_count": 362,
   "metadata": {
    "collapsed": true
   },
   "outputs": [],
   "source": [
    "\n",
    "temp = df[cols].copy()\n",
    "temp = temp[~temp.isnull().any(axis=1)]"
   ]
  },
  {
   "cell_type": "code",
   "execution_count": null,
   "metadata": {
    "collapsed": true
   },
   "outputs": [],
   "source": [
    "        "
   ]
  },
  {
   "cell_type": "code",
   "execution_count": 363,
   "metadata": {
    "collapsed": true
   },
   "outputs": [],
   "source": [
    "df_numeric = temp.select_dtypes(exclude=['object'])\n",
    "df_obj = temp.select_dtypes(include=['object']).copy()\n",
    "\n",
    "for c in df_obj:\n",
    "    df_obj[c] = pd.factorize(df_obj[c])[0]\n",
    "\n",
    "df_all = pd.concat([df_numeric, df_obj], axis=1)"
   ]
  },
  {
   "cell_type": "code",
   "execution_count": 364,
   "metadata": {},
   "outputs": [
    {
     "data": {
      "text/plain": [
       "array([[ 43.  ,  28.12,   4.  , ...,   0.  ,   0.  ,   0.  ],\n",
       "       [ 34.  ,  19.  ,   3.  , ...,   0.  ,   1.  ,   1.  ],\n",
       "       [ 43.  ,  29.  ,   2.  , ...,   0.  ,   2.  ,   2.  ],\n",
       "       ..., \n",
       "       [ 86.  ,  59.  ,   3.  , ...,   0.  ,   2.  ,   4.  ],\n",
       "       [ 64.  ,  32.  ,   5.  , ...,   0.  ,   3.  ,   9.  ],\n",
       "       [ 43.  ,  28.  ,   1.  , ...,   0.  ,   2.  ,   5.  ]])"
      ]
     },
     "execution_count": 364,
     "metadata": {},
     "output_type": "execute_result"
    }
   ],
   "source": [
    "import sklearn.feature_selection as fs\n",
    "select15 = fs.SelectKBest(fs.f_regression, k='all')\n",
    "select15.fit_transform(df_all.drop(['price_doc','timestamp'],axis=1), df_all.price_doc)"
   ]
  },
  {
   "cell_type": "code",
   "execution_count": 365,
   "metadata": {
    "collapsed": true
   },
   "outputs": [],
   "source": [
    "scores = pd.DataFrame(select15.scores_,cols[:-2],columns=[\"score\"])\n",
    "cols = scores[scores.score>500].index.tolist()\n",
    "cols.append('floor')\n",
    "cols.append('sub_area')\n",
    "df_new = temp[cols].copy()"
   ]
  },
  {
   "cell_type": "code",
   "execution_count": 366,
   "metadata": {
    "collapsed": true
   },
   "outputs": [],
   "source": [
    "df_new.loc[:,'timestamp'] = df_all.timestamp.values\n",
    "df_new.loc[:,'price_doc'] = df_all.price_doc.values\n",
    "\n",
    "# df_new.to_csv('../Chase/data/clean_training_60_cols_chase.csv')"
   ]
  },
  {
   "cell_type": "code",
   "execution_count": 59,
   "metadata": {
    "collapsed": true
   },
   "outputs": [],
   "source": []
  },
  {
   "cell_type": "code",
   "execution_count": null,
   "metadata": {
    "collapsed": true
   },
   "outputs": [],
   "source": []
  },
  {
   "cell_type": "code",
   "execution_count": 370,
   "metadata": {},
   "outputs": [
    {
     "name": "stdout",
     "output_type": "stream",
     "text": [
      "['full_sq', 'life_sq', 'max_floor', 'kitch_sq', 'healthcare_centers_raion', '0_17_female', 'incineration_km', 'railroad_station_walk_km', 'railroad_station_walk_min', 'ID_railroad_station_walk', 'water_km', 'bulvar_ring_km', 'railroad_km', 'ID_railroad_terminal', 'radiation_km', 'stadium_km', 'detention_facility_km', 'workplaces_km', 'office_count_500', 'sport_count_500', 'cafe_count_1000_price_500', 'cafe_count_1000_price_4000', 'cafe_count_1000_price_high', 'big_church_count_1000', 'cafe_count_1500', 'cafe_count_1500_price_500', 'cafe_count_1500_price_4000', 'cafe_count_1500_price_high', 'big_church_count_1500', 'cafe_count_2000', 'cafe_count_2000_price_500', 'cafe_count_2000_price_1000', 'cafe_count_2000_price_4000', 'cafe_count_2000_price_high', 'big_church_count_2000', 'cafe_count_3000', 'cafe_count_3000_na_price', 'cafe_count_3000_price_500', 'cafe_count_3000_price_1000', 'cafe_count_3000_price_1500', 'cafe_count_3000_price_2500', 'cafe_count_3000_price_4000', 'cafe_count_3000_price_high', 'big_church_count_3000', 'church_count_3000', 'mosque_count_3000', 'leisure_count_3000', 'sport_count_3000', 'market_count_3000', 'green_part_5000', 'prom_part_5000', 'office_count_5000', 'office_sqm_5000', 'trc_count_5000', 'trc_sqm_5000', 'cafe_count_5000', 'floor', 'sub_area', 'timestamp', 'price_doc']\n"
     ]
    }
   ],
   "source": [
    "print df_new.columns.tolist()"
   ]
  },
  {
   "cell_type": "markdown",
   "metadata": {},
   "source": [
    "# REALLY STOP HERE\n",
    "everything else is old"
   ]
  },
  {
   "cell_type": "markdown",
   "metadata": {},
   "source": [
    "# Missing Build Year"
   ]
  },
  {
   "cell_type": "code",
   "execution_count": 228,
   "metadata": {
    "collapsed": true
   },
   "outputs": [],
   "source": [
    "add_multiples(df)"
   ]
  },
  {
   "cell_type": "code",
   "execution_count": 229,
   "metadata": {
    "collapsed": true
   },
   "outputs": [],
   "source": [
    "df['quarter'] = pd.PeriodIndex(df['timestamp'], freq='Q').strftime('Q%q-%y')"
   ]
  },
  {
   "cell_type": "code",
   "execution_count": 230,
   "metadata": {
    "collapsed": true
   },
   "outputs": [],
   "source": [
    "dfg = df.loc[:,['quarter','okurg_district','price_full']].groupby('okurg_district')"
   ]
  },
  {
   "cell_type": "code",
   "execution_count": 231,
   "metadata": {
    "collapsed": true
   },
   "outputs": [],
   "source": [
    "md = dfg.aggregate(np.nanmedian)"
   ]
  },
  {
   "cell_type": "code",
   "execution_count": 232,
   "metadata": {
    "collapsed": true
   },
   "outputs": [],
   "source": [
    "x = np.log(df.price_doc)\n",
    "y = np.log(df.price_doc + 1)"
   ]
  },
  {
   "cell_type": "code",
   "execution_count": 233,
   "metadata": {},
   "outputs": [
    {
     "name": "stdout",
     "output_type": "stream",
     "text": [
      "id\n",
      "7675    16.128046\n",
      "8138    16.012735\n",
      "8156    15.763069\n",
      "8157    15.775605\n",
      "8171    15.243067\n",
      "8178    15.679591\n",
      "8258    16.308716\n",
      "8285    15.856731\n",
      "8290    16.275099\n",
      "8296    14.285514\n",
      "Name: price_doc, dtype: float64\n",
      "id\n",
      "7675    16.128046\n",
      "8138    16.012735\n",
      "8156    15.763069\n",
      "8157    15.775605\n",
      "8171    15.243067\n",
      "8178    15.679591\n",
      "8258    16.308716\n",
      "8285    15.856731\n",
      "8290    16.275099\n",
      "8296    14.285515\n",
      "Name: price_doc, dtype: float64\n"
     ]
    }
   ],
   "source": [
    "print(x[0:10])\n",
    "print(y[0:10])"
   ]
  },
  {
   "cell_type": "code",
   "execution_count": null,
   "metadata": {
    "collapsed": true
   },
   "outputs": [],
   "source": []
  },
  {
   "cell_type": "code",
   "execution_count": null,
   "metadata": {
    "collapsed": true
   },
   "outputs": [],
   "source": []
  },
  {
   "cell_type": "code",
   "execution_count": null,
   "metadata": {
    "collapsed": true
   },
   "outputs": [],
   "source": []
  },
  {
   "cell_type": "code",
   "execution_count": 234,
   "metadata": {
    "collapsed": true
   },
   "outputs": [],
   "source": [
    "add_multiples(df)"
   ]
  },
  {
   "cell_type": "code",
   "execution_count": 235,
   "metadata": {},
   "outputs": [
    {
     "data": {
      "text/html": [
       "<div>\n",
       "<style>\n",
       "    .dataframe thead tr:only-child th {\n",
       "        text-align: right;\n",
       "    }\n",
       "\n",
       "    .dataframe thead th {\n",
       "        text-align: left;\n",
       "    }\n",
       "\n",
       "    .dataframe tbody tr th {\n",
       "        vertical-align: top;\n",
       "    }\n",
       "</style>\n",
       "<table border=\"1\" class=\"dataframe\">\n",
       "  <thead>\n",
       "    <tr style=\"text-align: right;\">\n",
       "      <th></th>\n",
       "      <th>timestamp</th>\n",
       "      <th>price_doc</th>\n",
       "      <th>kremlin_km</th>\n",
       "      <th>full_sq</th>\n",
       "      <th>life_sq</th>\n",
       "      <th>kitch_sq</th>\n",
       "      <th>floor</th>\n",
       "      <th>max_floor</th>\n",
       "      <th>build_year</th>\n",
       "      <th>num_room</th>\n",
       "      <th>state</th>\n",
       "      <th>material</th>\n",
       "      <th>sub_area</th>\n",
       "      <th>okurg_district</th>\n",
       "      <th>life_to_full</th>\n",
       "      <th>kitch_to_life</th>\n",
       "      <th>diff_full_life</th>\n",
       "      <th>price_full</th>\n",
       "      <th>price_full_std</th>\n",
       "      <th>quarter</th>\n",
       "    </tr>\n",
       "    <tr>\n",
       "      <th>id</th>\n",
       "      <th></th>\n",
       "      <th></th>\n",
       "      <th></th>\n",
       "      <th></th>\n",
       "      <th></th>\n",
       "      <th></th>\n",
       "      <th></th>\n",
       "      <th></th>\n",
       "      <th></th>\n",
       "      <th></th>\n",
       "      <th></th>\n",
       "      <th></th>\n",
       "      <th></th>\n",
       "      <th></th>\n",
       "      <th></th>\n",
       "      <th></th>\n",
       "      <th></th>\n",
       "      <th></th>\n",
       "      <th></th>\n",
       "      <th></th>\n",
       "    </tr>\n",
       "  </thead>\n",
       "  <tbody>\n",
       "    <tr>\n",
       "      <th>16102</th>\n",
       "      <td>2014-03-17</td>\n",
       "      <td>65000000</td>\n",
       "      <td>3.328401</td>\n",
       "      <td>120.0</td>\n",
       "      <td>63.0</td>\n",
       "      <td>17.0</td>\n",
       "      <td>15.0</td>\n",
       "      <td>20.0</td>\n",
       "      <td>2002.0</td>\n",
       "      <td>3.0</td>\n",
       "      <td>4.0</td>\n",
       "      <td>4.0</td>\n",
       "      <td>Hamovniki</td>\n",
       "      <td>Central</td>\n",
       "      <td>0.525000</td>\n",
       "      <td>0.269841</td>\n",
       "      <td>57.0</td>\n",
       "      <td>541666.666667</td>\n",
       "      <td>6.909713</td>\n",
       "      <td>Q1-14</td>\n",
       "    </tr>\n",
       "    <tr>\n",
       "      <th>11088</th>\n",
       "      <td>2013-10-08</td>\n",
       "      <td>71200000</td>\n",
       "      <td>10.685592</td>\n",
       "      <td>132.0</td>\n",
       "      <td>76.0</td>\n",
       "      <td>12.0</td>\n",
       "      <td>16.0</td>\n",
       "      <td>28.0</td>\n",
       "      <td>2006.0</td>\n",
       "      <td>4.0</td>\n",
       "      <td>NaN</td>\n",
       "      <td>4.0</td>\n",
       "      <td>Prospekt Vernadskogo</td>\n",
       "      <td>Western</td>\n",
       "      <td>0.575758</td>\n",
       "      <td>0.157895</td>\n",
       "      <td>56.0</td>\n",
       "      <td>539393.939394</td>\n",
       "      <td>6.869888</td>\n",
       "      <td>Q4-13</td>\n",
       "    </tr>\n",
       "    <tr>\n",
       "      <th>15811</th>\n",
       "      <td>2014-03-06</td>\n",
       "      <td>17700000</td>\n",
       "      <td>1.354750</td>\n",
       "      <td>39.0</td>\n",
       "      <td>28.0</td>\n",
       "      <td>6.0</td>\n",
       "      <td>4.0</td>\n",
       "      <td>6.0</td>\n",
       "      <td>1931.0</td>\n",
       "      <td>2.0</td>\n",
       "      <td>4.0</td>\n",
       "      <td>2.0</td>\n",
       "      <td>Hamovniki</td>\n",
       "      <td>Central</td>\n",
       "      <td>0.717949</td>\n",
       "      <td>0.214286</td>\n",
       "      <td>11.0</td>\n",
       "      <td>453846.153846</td>\n",
       "      <td>5.370852</td>\n",
       "      <td>Q1-14</td>\n",
       "    </tr>\n",
       "    <tr>\n",
       "      <th>17175</th>\n",
       "      <td>2014-04-09</td>\n",
       "      <td>14000000</td>\n",
       "      <td>2.301970</td>\n",
       "      <td>31.0</td>\n",
       "      <td>17.0</td>\n",
       "      <td>6.0</td>\n",
       "      <td>9.0</td>\n",
       "      <td>12.0</td>\n",
       "      <td>1954.0</td>\n",
       "      <td>1.0</td>\n",
       "      <td>3.0</td>\n",
       "      <td>2.0</td>\n",
       "      <td>Arbat</td>\n",
       "      <td>Central</td>\n",
       "      <td>0.548387</td>\n",
       "      <td>0.352941</td>\n",
       "      <td>14.0</td>\n",
       "      <td>451612.903226</td>\n",
       "      <td>5.331719</td>\n",
       "      <td>Q2-14</td>\n",
       "    </tr>\n",
       "    <tr>\n",
       "      <th>22697</th>\n",
       "      <td>2014-09-19</td>\n",
       "      <td>55000000</td>\n",
       "      <td>1.730353</td>\n",
       "      <td>125.0</td>\n",
       "      <td>67.0</td>\n",
       "      <td>9.0</td>\n",
       "      <td>7.0</td>\n",
       "      <td>9.0</td>\n",
       "      <td>1990.0</td>\n",
       "      <td>4.0</td>\n",
       "      <td>3.0</td>\n",
       "      <td>2.0</td>\n",
       "      <td>Tverskoe</td>\n",
       "      <td>Central</td>\n",
       "      <td>0.536000</td>\n",
       "      <td>0.134328</td>\n",
       "      <td>58.0</td>\n",
       "      <td>440000.000000</td>\n",
       "      <td>5.128229</td>\n",
       "      <td>Q3-14</td>\n",
       "    </tr>\n",
       "  </tbody>\n",
       "</table>\n",
       "</div>"
      ],
      "text/plain": [
       "       timestamp  price_doc  kremlin_km  full_sq  life_sq  kitch_sq  floor  \\\n",
       "id                                                                           \n",
       "16102 2014-03-17   65000000    3.328401    120.0     63.0      17.0   15.0   \n",
       "11088 2013-10-08   71200000   10.685592    132.0     76.0      12.0   16.0   \n",
       "15811 2014-03-06   17700000    1.354750     39.0     28.0       6.0    4.0   \n",
       "17175 2014-04-09   14000000    2.301970     31.0     17.0       6.0    9.0   \n",
       "22697 2014-09-19   55000000    1.730353    125.0     67.0       9.0    7.0   \n",
       "\n",
       "       max_floor  build_year  num_room  state  material              sub_area  \\\n",
       "id                                                                              \n",
       "16102       20.0      2002.0       3.0    4.0       4.0             Hamovniki   \n",
       "11088       28.0      2006.0       4.0    NaN       4.0  Prospekt Vernadskogo   \n",
       "15811        6.0      1931.0       2.0    4.0       2.0             Hamovniki   \n",
       "17175       12.0      1954.0       1.0    3.0       2.0                 Arbat   \n",
       "22697        9.0      1990.0       4.0    3.0       2.0              Tverskoe   \n",
       "\n",
       "      okurg_district  life_to_full  kitch_to_life  diff_full_life  \\\n",
       "id                                                                  \n",
       "16102       Central       0.525000       0.269841            57.0   \n",
       "11088       Western       0.575758       0.157895            56.0   \n",
       "15811       Central       0.717949       0.214286            11.0   \n",
       "17175       Central       0.548387       0.352941            14.0   \n",
       "22697       Central       0.536000       0.134328            58.0   \n",
       "\n",
       "          price_full  price_full_std quarter  \n",
       "id                                            \n",
       "16102  541666.666667        6.909713   Q1-14  \n",
       "11088  539393.939394        6.869888   Q4-13  \n",
       "15811  453846.153846        5.370852   Q1-14  \n",
       "17175  451612.903226        5.331719   Q2-14  \n",
       "22697  440000.000000        5.128229   Q3-14  "
      ]
     },
     "execution_count": 235,
     "metadata": {},
     "output_type": "execute_result"
    }
   ],
   "source": [
    "df.sort_values('price_full_std',ascending=False).head()"
   ]
  },
  {
   "cell_type": "code",
   "execution_count": null,
   "metadata": {
    "collapsed": true
   },
   "outputs": [],
   "source": []
  },
  {
   "cell_type": "code",
   "execution_count": null,
   "metadata": {
    "collapsed": true
   },
   "outputs": [],
   "source": []
  },
  {
   "cell_type": "code",
   "execution_count": 178,
   "metadata": {
    "collapsed": true
   },
   "outputs": [],
   "source": [
    "bad_sq = df.query('full_sq < life_sq or life_sq < kitch_sq or full_sq.isnull()')"
   ]
  },
  {
   "cell_type": "code",
   "execution_count": 929,
   "metadata": {
    "collapsed": true
   },
   "outputs": [],
   "source": [
    "# change all full and life <= 10 to NaN\n",
    "df.loc[df.full_sq < 10,'full_sq'] = np.nan\n",
    "df.loc[df.life_sq < 10,['life_sq','kitch_sq']] = np.nan\n",
    "\n",
    "df.loc[(df.kitch_sq >= df.life_sq), 'kitch_sq'] = np.nan\n",
    "df.loc[(df.kitch_sq >= df.full_sq),'kitch_sq'] = np.nan"
   ]
  },
  {
   "cell_type": "code",
   "execution_count": 930,
   "metadata": {
    "collapsed": true
   },
   "outputs": [],
   "source": [
    "# remove the rows that don't have either full_sq or life_sq\n",
    "bad = df[(df.full_sq.isnull())& (df.life_sq.isnull())]\n",
    "df.drop(bad.index, axis=0, inplace=True)\n",
    "\n",
    "dropped.extend(bad.index)\n"
   ]
  },
  {
   "cell_type": "markdown",
   "metadata": {},
   "source": [
    "### Square Meter (full_sq, life_sq, kitch_sq)\n",
    "\n",
    "Added price to square meters columns to help identify outliers\n",
    "#### Adjustments\n",
    "    * full and life < 10 are set to np.nan (10 is about a 100 sq foot apt)\n",
    "    * full < life check to see which one appears to be the incorrect value based on price multiples stds.\n",
    "\n",
    "kitchens with 0 or 1 maybe studio apts"
   ]
  },
  {
   "cell_type": "code",
   "execution_count": 931,
   "metadata": {},
   "outputs": [
    {
     "data": {
      "text/html": [
       "<div>\n",
       "<style>\n",
       "    .dataframe thead tr:only-child th {\n",
       "        text-align: right;\n",
       "    }\n",
       "\n",
       "    .dataframe thead th {\n",
       "        text-align: left;\n",
       "    }\n",
       "\n",
       "    .dataframe tbody tr th {\n",
       "        vertical-align: top;\n",
       "    }\n",
       "</style>\n",
       "<table border=\"1\" class=\"dataframe\">\n",
       "  <thead>\n",
       "    <tr style=\"text-align: right;\">\n",
       "      <th></th>\n",
       "      <th>price_doc</th>\n",
       "      <th>kremlin_km</th>\n",
       "      <th>full_sq</th>\n",
       "      <th>life_sq</th>\n",
       "      <th>kitch_sq</th>\n",
       "      <th>floor</th>\n",
       "      <th>max_floor</th>\n",
       "      <th>build_year</th>\n",
       "      <th>num_room</th>\n",
       "      <th>state</th>\n",
       "      <th>kindergarten_km</th>\n",
       "      <th>green_zone_km</th>\n",
       "      <th>school_km</th>\n",
       "      <th>material</th>\n",
       "      <th>metro_min_avto</th>\n",
       "      <th>public_healthcare_km</th>\n",
       "      <th>sub_area</th>\n",
       "      <th>industrial_km</th>\n",
       "      <th>metro_min_walk</th>\n",
       "      <th>public_transport_station_km</th>\n",
       "      <th>railroad_km</th>\n",
       "      <th>swim_pool_km</th>\n",
       "      <th>timestamp</th>\n",
       "      <th>okurg_district</th>\n",
       "      <th>price_to_full</th>\n",
       "      <th>price_to_life</th>\n",
       "      <th>price_to_full_std</th>\n",
       "      <th>price_to_life_std</th>\n",
       "      <th>life_to_full</th>\n",
       "      <th>kitch_to_life</th>\n",
       "    </tr>\n",
       "    <tr>\n",
       "      <th>id</th>\n",
       "      <th></th>\n",
       "      <th></th>\n",
       "      <th></th>\n",
       "      <th></th>\n",
       "      <th></th>\n",
       "      <th></th>\n",
       "      <th></th>\n",
       "      <th></th>\n",
       "      <th></th>\n",
       "      <th></th>\n",
       "      <th></th>\n",
       "      <th></th>\n",
       "      <th></th>\n",
       "      <th></th>\n",
       "      <th></th>\n",
       "      <th></th>\n",
       "      <th></th>\n",
       "      <th></th>\n",
       "      <th></th>\n",
       "      <th></th>\n",
       "      <th></th>\n",
       "      <th></th>\n",
       "      <th></th>\n",
       "      <th></th>\n",
       "      <th></th>\n",
       "      <th></th>\n",
       "      <th></th>\n",
       "      <th></th>\n",
       "      <th></th>\n",
       "      <th></th>\n",
       "    </tr>\n",
       "  </thead>\n",
       "  <tbody>\n",
       "    <tr>\n",
       "      <th>3530</th>\n",
       "      <td>6868818</td>\n",
       "      <td>16.139809</td>\n",
       "      <td>5326.0</td>\n",
       "      <td>22.0</td>\n",
       "      <td>NaN</td>\n",
       "      <td>13.0</td>\n",
       "      <td>NaN</td>\n",
       "      <td>NaN</td>\n",
       "      <td>NaN</td>\n",
       "      <td>NaN</td>\n",
       "      <td>0.780191</td>\n",
       "      <td>0.499398</td>\n",
       "      <td>0.699257</td>\n",
       "      <td>NaN</td>\n",
       "      <td>4.907833</td>\n",
       "      <td>2.149384</td>\n",
       "      <td>Birjulevo Vostochnoe</td>\n",
       "      <td>0.214503</td>\n",
       "      <td>28.439791</td>\n",
       "      <td>0.228109</td>\n",
       "      <td>0.841827</td>\n",
       "      <td>3.381655</td>\n",
       "      <td>2012-09-07</td>\n",
       "      <td>Southern</td>\n",
       "      <td>1289.676680</td>\n",
       "      <td>312219.000000</td>\n",
       "      <td>NaN</td>\n",
       "      <td>NaN</td>\n",
       "      <td>0.004131</td>\n",
       "      <td>NaN</td>\n",
       "    </tr>\n",
       "    <tr>\n",
       "      <th>2783</th>\n",
       "      <td>13250000</td>\n",
       "      <td>12.307897</td>\n",
       "      <td>729.0</td>\n",
       "      <td>44.0</td>\n",
       "      <td>NaN</td>\n",
       "      <td>12.0</td>\n",
       "      <td>NaN</td>\n",
       "      <td>NaN</td>\n",
       "      <td>NaN</td>\n",
       "      <td>NaN</td>\n",
       "      <td>0.136485</td>\n",
       "      <td>0.023740</td>\n",
       "      <td>0.426871</td>\n",
       "      <td>NaN</td>\n",
       "      <td>2.685885</td>\n",
       "      <td>0.564859</td>\n",
       "      <td>Troparevo-Nikulino</td>\n",
       "      <td>1.415226</td>\n",
       "      <td>22.127146</td>\n",
       "      <td>0.119978</td>\n",
       "      <td>1.383085</td>\n",
       "      <td>2.488351</td>\n",
       "      <td>2012-07-06</td>\n",
       "      <td>Western</td>\n",
       "      <td>18175.582990</td>\n",
       "      <td>301136.363636</td>\n",
       "      <td>NaN</td>\n",
       "      <td>NaN</td>\n",
       "      <td>0.060357</td>\n",
       "      <td>NaN</td>\n",
       "    </tr>\n",
       "    <tr>\n",
       "      <th>22788</th>\n",
       "      <td>4725142</td>\n",
       "      <td>0.072897</td>\n",
       "      <td>637.0</td>\n",
       "      <td>637.0</td>\n",
       "      <td>10.0</td>\n",
       "      <td>18.0</td>\n",
       "      <td>19.0</td>\n",
       "      <td>2016.0</td>\n",
       "      <td>2.0</td>\n",
       "      <td>1.0</td>\n",
       "      <td>1.048962</td>\n",
       "      <td>0.189089</td>\n",
       "      <td>0.269716</td>\n",
       "      <td>4.0</td>\n",
       "      <td>1.482746</td>\n",
       "      <td>2.608162</td>\n",
       "      <td>Tverskoe</td>\n",
       "      <td>2.640803</td>\n",
       "      <td>13.459068</td>\n",
       "      <td>0.326035</td>\n",
       "      <td>2.566044</td>\n",
       "      <td>1.421099</td>\n",
       "      <td>2014-09-23</td>\n",
       "      <td>Central</td>\n",
       "      <td>7417.805338</td>\n",
       "      <td>7417.805338</td>\n",
       "      <td>NaN</td>\n",
       "      <td>NaN</td>\n",
       "      <td>1.000000</td>\n",
       "      <td>0.015699</td>\n",
       "    </tr>\n",
       "    <tr>\n",
       "      <th>18344</th>\n",
       "      <td>6213200</td>\n",
       "      <td>20.549464</td>\n",
       "      <td>634.0</td>\n",
       "      <td>NaN</td>\n",
       "      <td>0.0</td>\n",
       "      <td>3.0</td>\n",
       "      <td>17.0</td>\n",
       "      <td>NaN</td>\n",
       "      <td>2.0</td>\n",
       "      <td>NaN</td>\n",
       "      <td>0.286711</td>\n",
       "      <td>0.017572</td>\n",
       "      <td>0.214197</td>\n",
       "      <td>1.0</td>\n",
       "      <td>4.721045</td>\n",
       "      <td>5.422551</td>\n",
       "      <td>Nekrasovka</td>\n",
       "      <td>0.394108</td>\n",
       "      <td>45.322032</td>\n",
       "      <td>0.035986</td>\n",
       "      <td>1.214861</td>\n",
       "      <td>8.106936</td>\n",
       "      <td>2014-05-13</td>\n",
       "      <td>South Eastern</td>\n",
       "      <td>9800.000000</td>\n",
       "      <td>NaN</td>\n",
       "      <td>NaN</td>\n",
       "      <td>NaN</td>\n",
       "      <td>NaN</td>\n",
       "      <td>NaN</td>\n",
       "    </tr>\n",
       "    <tr>\n",
       "      <th>5947</th>\n",
       "      <td>10200000</td>\n",
       "      <td>16.292579</td>\n",
       "      <td>634.0</td>\n",
       "      <td>38.0</td>\n",
       "      <td>NaN</td>\n",
       "      <td>3.0</td>\n",
       "      <td>NaN</td>\n",
       "      <td>NaN</td>\n",
       "      <td>NaN</td>\n",
       "      <td>NaN</td>\n",
       "      <td>0.025172</td>\n",
       "      <td>0.121641</td>\n",
       "      <td>0.353390</td>\n",
       "      <td>NaN</td>\n",
       "      <td>1.746993</td>\n",
       "      <td>1.566321</td>\n",
       "      <td>Lianozovo</td>\n",
       "      <td>1.063524</td>\n",
       "      <td>8.067791</td>\n",
       "      <td>0.204624</td>\n",
       "      <td>1.426593</td>\n",
       "      <td>2.029415</td>\n",
       "      <td>2013-02-07</td>\n",
       "      <td>North Eastern</td>\n",
       "      <td>16088.328076</td>\n",
       "      <td>268421.052632</td>\n",
       "      <td>NaN</td>\n",
       "      <td>NaN</td>\n",
       "      <td>0.059937</td>\n",
       "      <td>NaN</td>\n",
       "    </tr>\n",
       "  </tbody>\n",
       "</table>\n",
       "</div>"
      ],
      "text/plain": [
       "       price_doc  kremlin_km  full_sq  life_sq  kitch_sq  floor  max_floor  \\\n",
       "id                                                                           \n",
       "3530     6868818   16.139809   5326.0     22.0       NaN   13.0        NaN   \n",
       "2783    13250000   12.307897    729.0     44.0       NaN   12.0        NaN   \n",
       "22788    4725142    0.072897    637.0    637.0      10.0   18.0       19.0   \n",
       "18344    6213200   20.549464    634.0      NaN       0.0    3.0       17.0   \n",
       "5947    10200000   16.292579    634.0     38.0       NaN    3.0        NaN   \n",
       "\n",
       "       build_year  num_room  state  kindergarten_km  green_zone_km  school_km  \\\n",
       "id                                                                              \n",
       "3530          NaN       NaN    NaN         0.780191       0.499398   0.699257   \n",
       "2783          NaN       NaN    NaN         0.136485       0.023740   0.426871   \n",
       "22788      2016.0       2.0    1.0         1.048962       0.189089   0.269716   \n",
       "18344         NaN       2.0    NaN         0.286711       0.017572   0.214197   \n",
       "5947          NaN       NaN    NaN         0.025172       0.121641   0.353390   \n",
       "\n",
       "       material  metro_min_avto  public_healthcare_km              sub_area  \\\n",
       "id                                                                            \n",
       "3530        NaN        4.907833              2.149384  Birjulevo Vostochnoe   \n",
       "2783        NaN        2.685885              0.564859    Troparevo-Nikulino   \n",
       "22788       4.0        1.482746              2.608162              Tverskoe   \n",
       "18344       1.0        4.721045              5.422551            Nekrasovka   \n",
       "5947        NaN        1.746993              1.566321             Lianozovo   \n",
       "\n",
       "       industrial_km  metro_min_walk  public_transport_station_km  \\\n",
       "id                                                                  \n",
       "3530        0.214503       28.439791                     0.228109   \n",
       "2783        1.415226       22.127146                     0.119978   \n",
       "22788       2.640803       13.459068                     0.326035   \n",
       "18344       0.394108       45.322032                     0.035986   \n",
       "5947        1.063524        8.067791                     0.204624   \n",
       "\n",
       "       railroad_km  swim_pool_km  timestamp  okurg_district  price_to_full  \\\n",
       "id                                                                           \n",
       "3530      0.841827      3.381655 2012-09-07       Southern     1289.676680   \n",
       "2783      1.383085      2.488351 2012-07-06        Western    18175.582990   \n",
       "22788     2.566044      1.421099 2014-09-23        Central     7417.805338   \n",
       "18344     1.214861      8.106936 2014-05-13  South Eastern     9800.000000   \n",
       "5947      1.426593      2.029415 2013-02-07  North Eastern    16088.328076   \n",
       "\n",
       "       price_to_life  price_to_full_std  price_to_life_std  life_to_full  \\\n",
       "id                                                                         \n",
       "3530   312219.000000                NaN                NaN      0.004131   \n",
       "2783   301136.363636                NaN                NaN      0.060357   \n",
       "22788    7417.805338                NaN                NaN      1.000000   \n",
       "18344            NaN                NaN                NaN           NaN   \n",
       "5947   268421.052632                NaN                NaN      0.059937   \n",
       "\n",
       "       kitch_to_life  \n",
       "id                    \n",
       "3530             NaN  \n",
       "2783             NaN  \n",
       "22788       0.015699  \n",
       "18344            NaN  \n",
       "5947             NaN  "
      ]
     },
     "execution_count": 931,
     "metadata": {},
     "output_type": "execute_result"
    }
   ],
   "source": [
    "df.sort_values('full_sq', ascending=False).head()"
   ]
  },
  {
   "cell_type": "code",
   "execution_count": 932,
   "metadata": {
    "collapsed": true
   },
   "outputs": [],
   "source": [
    "# changed the max to 53\n",
    "df.loc[3530,'full_sq'] = 53"
   ]
  },
  {
   "cell_type": "code",
   "execution_count": 934,
   "metadata": {},
   "outputs": [
    {
     "data": {
      "text/html": [
       "<div>\n",
       "<style>\n",
       "    .dataframe thead tr:only-child th {\n",
       "        text-align: right;\n",
       "    }\n",
       "\n",
       "    .dataframe thead th {\n",
       "        text-align: left;\n",
       "    }\n",
       "\n",
       "    .dataframe tbody tr th {\n",
       "        vertical-align: top;\n",
       "    }\n",
       "</style>\n",
       "<table border=\"1\" class=\"dataframe\">\n",
       "  <thead>\n",
       "    <tr style=\"text-align: right;\">\n",
       "      <th></th>\n",
       "      <th>price_doc</th>\n",
       "      <th>kremlin_km</th>\n",
       "      <th>full_sq</th>\n",
       "      <th>life_sq</th>\n",
       "      <th>kitch_sq</th>\n",
       "      <th>floor</th>\n",
       "      <th>max_floor</th>\n",
       "      <th>build_year</th>\n",
       "      <th>num_room</th>\n",
       "      <th>state</th>\n",
       "      <th>kindergarten_km</th>\n",
       "      <th>green_zone_km</th>\n",
       "      <th>school_km</th>\n",
       "      <th>material</th>\n",
       "      <th>metro_min_avto</th>\n",
       "      <th>public_healthcare_km</th>\n",
       "      <th>sub_area</th>\n",
       "      <th>industrial_km</th>\n",
       "      <th>metro_min_walk</th>\n",
       "      <th>public_transport_station_km</th>\n",
       "      <th>railroad_km</th>\n",
       "      <th>swim_pool_km</th>\n",
       "      <th>timestamp</th>\n",
       "      <th>okurg_district</th>\n",
       "      <th>price_to_full</th>\n",
       "      <th>price_to_life</th>\n",
       "      <th>price_to_full_std</th>\n",
       "      <th>price_to_life_std</th>\n",
       "      <th>life_to_full</th>\n",
       "      <th>kitch_to_life</th>\n",
       "    </tr>\n",
       "    <tr>\n",
       "      <th>id</th>\n",
       "      <th></th>\n",
       "      <th></th>\n",
       "      <th></th>\n",
       "      <th></th>\n",
       "      <th></th>\n",
       "      <th></th>\n",
       "      <th></th>\n",
       "      <th></th>\n",
       "      <th></th>\n",
       "      <th></th>\n",
       "      <th></th>\n",
       "      <th></th>\n",
       "      <th></th>\n",
       "      <th></th>\n",
       "      <th></th>\n",
       "      <th></th>\n",
       "      <th></th>\n",
       "      <th></th>\n",
       "      <th></th>\n",
       "      <th></th>\n",
       "      <th></th>\n",
       "      <th></th>\n",
       "      <th></th>\n",
       "      <th></th>\n",
       "      <th></th>\n",
       "      <th></th>\n",
       "      <th></th>\n",
       "      <th></th>\n",
       "      <th></th>\n",
       "      <th></th>\n",
       "    </tr>\n",
       "  </thead>\n",
       "  <tbody>\n",
       "    <tr>\n",
       "      <th>16102</th>\n",
       "      <td>65000000</td>\n",
       "      <td>3.328401</td>\n",
       "      <td>120.0</td>\n",
       "      <td>63.0</td>\n",
       "      <td>17.0</td>\n",
       "      <td>15.0</td>\n",
       "      <td>20.0</td>\n",
       "      <td>2002.0</td>\n",
       "      <td>3.0</td>\n",
       "      <td>4.0</td>\n",
       "      <td>0.367275</td>\n",
       "      <td>0.038431</td>\n",
       "      <td>0.438905</td>\n",
       "      <td>4.0</td>\n",
       "      <td>1.365098</td>\n",
       "      <td>0.951508</td>\n",
       "      <td>Hamovniki</td>\n",
       "      <td>1.450669</td>\n",
       "      <td>4.670340</td>\n",
       "      <td>0.156870</td>\n",
       "      <td>1.032216</td>\n",
       "      <td>1.398559</td>\n",
       "      <td>2014-03-17</td>\n",
       "      <td>Central</td>\n",
       "      <td>541666.666667</td>\n",
       "      <td>1.031746e+06</td>\n",
       "      <td>7.441133</td>\n",
       "      <td>7.064074</td>\n",
       "      <td>0.525000</td>\n",
       "      <td>0.269841</td>\n",
       "    </tr>\n",
       "    <tr>\n",
       "      <th>11088</th>\n",
       "      <td>71200000</td>\n",
       "      <td>10.685592</td>\n",
       "      <td>132.0</td>\n",
       "      <td>76.0</td>\n",
       "      <td>12.0</td>\n",
       "      <td>16.0</td>\n",
       "      <td>28.0</td>\n",
       "      <td>2006.0</td>\n",
       "      <td>4.0</td>\n",
       "      <td>NaN</td>\n",
       "      <td>0.482608</td>\n",
       "      <td>0.300011</td>\n",
       "      <td>0.307083</td>\n",
       "      <td>4.0</td>\n",
       "      <td>2.474512</td>\n",
       "      <td>1.186187</td>\n",
       "      <td>Prospekt Vernadskogo</td>\n",
       "      <td>2.282690</td>\n",
       "      <td>15.060547</td>\n",
       "      <td>0.250839</td>\n",
       "      <td>2.005483</td>\n",
       "      <td>0.452202</td>\n",
       "      <td>2013-10-08</td>\n",
       "      <td>Western</td>\n",
       "      <td>539393.939394</td>\n",
       "      <td>9.368421e+05</td>\n",
       "      <td>7.399770</td>\n",
       "      <td>6.225587</td>\n",
       "      <td>0.575758</td>\n",
       "      <td>0.157895</td>\n",
       "    </tr>\n",
       "    <tr>\n",
       "      <th>24859</th>\n",
       "      <td>53787140</td>\n",
       "      <td>4.190635</td>\n",
       "      <td>101.0</td>\n",
       "      <td>NaN</td>\n",
       "      <td>0.0</td>\n",
       "      <td>15.0</td>\n",
       "      <td>0.0</td>\n",
       "      <td>NaN</td>\n",
       "      <td>2.0</td>\n",
       "      <td>NaN</td>\n",
       "      <td>0.151933</td>\n",
       "      <td>0.123367</td>\n",
       "      <td>0.495513</td>\n",
       "      <td>4.0</td>\n",
       "      <td>1.498269</td>\n",
       "      <td>2.091276</td>\n",
       "      <td>Donskoe</td>\n",
       "      <td>1.216591</td>\n",
       "      <td>11.697905</td>\n",
       "      <td>0.038747</td>\n",
       "      <td>1.215073</td>\n",
       "      <td>1.336556</td>\n",
       "      <td>2014-11-18</td>\n",
       "      <td>Southern</td>\n",
       "      <td>532545.940594</td>\n",
       "      <td>NaN</td>\n",
       "      <td>7.275139</td>\n",
       "      <td>NaN</td>\n",
       "      <td>NaN</td>\n",
       "      <td>NaN</td>\n",
       "    </tr>\n",
       "    <tr>\n",
       "      <th>7460</th>\n",
       "      <td>91066096</td>\n",
       "      <td>7.424229</td>\n",
       "      <td>185.0</td>\n",
       "      <td>66.0</td>\n",
       "      <td>NaN</td>\n",
       "      <td>33.0</td>\n",
       "      <td>NaN</td>\n",
       "      <td>NaN</td>\n",
       "      <td>NaN</td>\n",
       "      <td>NaN</td>\n",
       "      <td>0.543921</td>\n",
       "      <td>0.123274</td>\n",
       "      <td>0.883583</td>\n",
       "      <td>NaN</td>\n",
       "      <td>3.721862</td>\n",
       "      <td>1.491677</td>\n",
       "      <td>Ramenki</td>\n",
       "      <td>0.858441</td>\n",
       "      <td>30.224681</td>\n",
       "      <td>0.379486</td>\n",
       "      <td>0.920536</td>\n",
       "      <td>0.485134</td>\n",
       "      <td>2013-04-19</td>\n",
       "      <td>Western</td>\n",
       "      <td>492249.167568</td>\n",
       "      <td>1.379789e+06</td>\n",
       "      <td>6.541751</td>\n",
       "      <td>10.139075</td>\n",
       "      <td>0.356757</td>\n",
       "      <td>NaN</td>\n",
       "    </tr>\n",
       "    <tr>\n",
       "      <th>3560</th>\n",
       "      <td>77000000</td>\n",
       "      <td>3.477546</td>\n",
       "      <td>157.0</td>\n",
       "      <td>89.0</td>\n",
       "      <td>NaN</td>\n",
       "      <td>15.0</td>\n",
       "      <td>NaN</td>\n",
       "      <td>NaN</td>\n",
       "      <td>NaN</td>\n",
       "      <td>NaN</td>\n",
       "      <td>0.191674</td>\n",
       "      <td>0.344225</td>\n",
       "      <td>1.072453</td>\n",
       "      <td>NaN</td>\n",
       "      <td>1.244796</td>\n",
       "      <td>1.189904</td>\n",
       "      <td>Mar'ina Roshha</td>\n",
       "      <td>0.529682</td>\n",
       "      <td>11.417722</td>\n",
       "      <td>0.234259</td>\n",
       "      <td>1.220031</td>\n",
       "      <td>1.023092</td>\n",
       "      <td>2012-09-10</td>\n",
       "      <td>North Eastern</td>\n",
       "      <td>490445.859873</td>\n",
       "      <td>8.651685e+05</td>\n",
       "      <td>6.508932</td>\n",
       "      <td>5.592343</td>\n",
       "      <td>0.566879</td>\n",
       "      <td>NaN</td>\n",
       "    </tr>\n",
       "  </tbody>\n",
       "</table>\n",
       "</div>"
      ],
      "text/plain": [
       "       price_doc  kremlin_km  full_sq  life_sq  kitch_sq  floor  max_floor  \\\n",
       "id                                                                           \n",
       "16102   65000000    3.328401    120.0     63.0      17.0   15.0       20.0   \n",
       "11088   71200000   10.685592    132.0     76.0      12.0   16.0       28.0   \n",
       "24859   53787140    4.190635    101.0      NaN       0.0   15.0        0.0   \n",
       "7460    91066096    7.424229    185.0     66.0       NaN   33.0        NaN   \n",
       "3560    77000000    3.477546    157.0     89.0       NaN   15.0        NaN   \n",
       "\n",
       "       build_year  num_room  state  kindergarten_km  green_zone_km  school_km  \\\n",
       "id                                                                              \n",
       "16102      2002.0       3.0    4.0         0.367275       0.038431   0.438905   \n",
       "11088      2006.0       4.0    NaN         0.482608       0.300011   0.307083   \n",
       "24859         NaN       2.0    NaN         0.151933       0.123367   0.495513   \n",
       "7460          NaN       NaN    NaN         0.543921       0.123274   0.883583   \n",
       "3560          NaN       NaN    NaN         0.191674       0.344225   1.072453   \n",
       "\n",
       "       material  metro_min_avto  public_healthcare_km              sub_area  \\\n",
       "id                                                                            \n",
       "16102       4.0        1.365098              0.951508             Hamovniki   \n",
       "11088       4.0        2.474512              1.186187  Prospekt Vernadskogo   \n",
       "24859       4.0        1.498269              2.091276               Donskoe   \n",
       "7460        NaN        3.721862              1.491677               Ramenki   \n",
       "3560        NaN        1.244796              1.189904        Mar'ina Roshha   \n",
       "\n",
       "       industrial_km  metro_min_walk  public_transport_station_km  \\\n",
       "id                                                                  \n",
       "16102       1.450669        4.670340                     0.156870   \n",
       "11088       2.282690       15.060547                     0.250839   \n",
       "24859       1.216591       11.697905                     0.038747   \n",
       "7460        0.858441       30.224681                     0.379486   \n",
       "3560        0.529682       11.417722                     0.234259   \n",
       "\n",
       "       railroad_km  swim_pool_km  timestamp  okurg_district  price_to_full  \\\n",
       "id                                                                           \n",
       "16102     1.032216      1.398559 2014-03-17        Central   541666.666667   \n",
       "11088     2.005483      0.452202 2013-10-08        Western   539393.939394   \n",
       "24859     1.215073      1.336556 2014-11-18       Southern   532545.940594   \n",
       "7460      0.920536      0.485134 2013-04-19        Western   492249.167568   \n",
       "3560      1.220031      1.023092 2012-09-10  North Eastern   490445.859873   \n",
       "\n",
       "       price_to_life  price_to_full_std  price_to_life_std  life_to_full  \\\n",
       "id                                                                         \n",
       "16102   1.031746e+06           7.441133           7.064074      0.525000   \n",
       "11088   9.368421e+05           7.399770           6.225587      0.575758   \n",
       "24859            NaN           7.275139                NaN           NaN   \n",
       "7460    1.379789e+06           6.541751          10.139075      0.356757   \n",
       "3560    8.651685e+05           6.508932           5.592343      0.566879   \n",
       "\n",
       "       kitch_to_life  \n",
       "id                    \n",
       "16102       0.269841  \n",
       "11088       0.157895  \n",
       "24859            NaN  \n",
       "7460             NaN  \n",
       "3560             NaN  "
      ]
     },
     "execution_count": 934,
     "metadata": {},
     "output_type": "execute_result"
    }
   ],
   "source": [
    "df.sort_values('price_to_full',ascending=False).head()"
   ]
  },
  {
   "cell_type": "code",
   "execution_count": null,
   "metadata": {
    "collapsed": true
   },
   "outputs": [],
   "source": []
  },
  {
   "cell_type": "markdown",
   "metadata": {},
   "source": [
    "#### Checking life_sq for possible wrong inputs"
   ]
  },
  {
   "cell_type": "code",
   "execution_count": 935,
   "metadata": {
    "collapsed": true
   },
   "outputs": [],
   "source": [
    "off = df[df.full_sq < df.life_sq].sort_values('life_sq', ascending=False)[0:15]\n",
    "# off"
   ]
  },
  {
   "cell_type": "code",
   "execution_count": 936,
   "metadata": {
    "collapsed": true
   },
   "outputs": [],
   "source": [
    "# these appear to be off a digit \n",
    "off_index = off[0:13].index\n",
    "if impute:\n",
    "    df.loc[13549,'life_sq'] = df.loc[13549,'life_sq'] / 10 # off two digits\n",
    "    df.loc[off_index,'life_sq'] = df.loc[off_index,'life_sq']/10\n",
    "else:\n",
    "    df.loc[off_index,'life_sq'] = np.nan"
   ]
  },
  {
   "cell_type": "code",
   "execution_count": 937,
   "metadata": {
    "collapsed": true
   },
   "outputs": [],
   "source": [
    "# df.loc[off.index,:]"
   ]
  },
  {
   "cell_type": "markdown",
   "metadata": {},
   "source": [
    "### Full vs Life\n",
    "when full < life, take the one that seems like less of an outlier "
   ]
  },
  {
   "cell_type": "code",
   "execution_count": 938,
   "metadata": {},
   "outputs": [
    {
     "name": "stdout",
     "output_type": "stream",
     "text": [
      "number of rows  17\n"
     ]
    },
    {
     "data": {
      "text/html": [
       "<div>\n",
       "<style>\n",
       "    .dataframe thead tr:only-child th {\n",
       "        text-align: right;\n",
       "    }\n",
       "\n",
       "    .dataframe thead th {\n",
       "        text-align: left;\n",
       "    }\n",
       "\n",
       "    .dataframe tbody tr th {\n",
       "        vertical-align: top;\n",
       "    }\n",
       "</style>\n",
       "<table border=\"1\" class=\"dataframe\">\n",
       "  <thead>\n",
       "    <tr style=\"text-align: right;\">\n",
       "      <th></th>\n",
       "      <th>price_doc</th>\n",
       "      <th>kremlin_km</th>\n",
       "      <th>full_sq</th>\n",
       "      <th>life_sq</th>\n",
       "      <th>kitch_sq</th>\n",
       "      <th>floor</th>\n",
       "      <th>max_floor</th>\n",
       "      <th>build_year</th>\n",
       "      <th>num_room</th>\n",
       "      <th>state</th>\n",
       "      <th>kindergarten_km</th>\n",
       "      <th>green_zone_km</th>\n",
       "      <th>school_km</th>\n",
       "      <th>material</th>\n",
       "      <th>metro_min_avto</th>\n",
       "      <th>public_healthcare_km</th>\n",
       "      <th>sub_area</th>\n",
       "      <th>industrial_km</th>\n",
       "      <th>metro_min_walk</th>\n",
       "      <th>public_transport_station_km</th>\n",
       "      <th>railroad_km</th>\n",
       "      <th>swim_pool_km</th>\n",
       "      <th>timestamp</th>\n",
       "      <th>okurg_district</th>\n",
       "      <th>price_to_full</th>\n",
       "      <th>price_to_life</th>\n",
       "      <th>price_to_full_std</th>\n",
       "      <th>price_to_life_std</th>\n",
       "      <th>life_to_full</th>\n",
       "      <th>kitch_to_life</th>\n",
       "    </tr>\n",
       "    <tr>\n",
       "      <th>id</th>\n",
       "      <th></th>\n",
       "      <th></th>\n",
       "      <th></th>\n",
       "      <th></th>\n",
       "      <th></th>\n",
       "      <th></th>\n",
       "      <th></th>\n",
       "      <th></th>\n",
       "      <th></th>\n",
       "      <th></th>\n",
       "      <th></th>\n",
       "      <th></th>\n",
       "      <th></th>\n",
       "      <th></th>\n",
       "      <th></th>\n",
       "      <th></th>\n",
       "      <th></th>\n",
       "      <th></th>\n",
       "      <th></th>\n",
       "      <th></th>\n",
       "      <th></th>\n",
       "      <th></th>\n",
       "      <th></th>\n",
       "      <th></th>\n",
       "      <th></th>\n",
       "      <th></th>\n",
       "      <th></th>\n",
       "      <th></th>\n",
       "      <th></th>\n",
       "      <th></th>\n",
       "    </tr>\n",
       "  </thead>\n",
       "  <tbody>\n",
       "    <tr>\n",
       "      <th>1825</th>\n",
       "      <td>5200000</td>\n",
       "      <td>13.635361</td>\n",
       "      <td>18.0</td>\n",
       "      <td>38.0</td>\n",
       "      <td>NaN</td>\n",
       "      <td>NaN</td>\n",
       "      <td>NaN</td>\n",
       "      <td>NaN</td>\n",
       "      <td>NaN</td>\n",
       "      <td>NaN</td>\n",
       "      <td>0.228476</td>\n",
       "      <td>0.075926</td>\n",
       "      <td>0.313596</td>\n",
       "      <td>NaN</td>\n",
       "      <td>2.334253</td>\n",
       "      <td>1.624978</td>\n",
       "      <td>Ljublino</td>\n",
       "      <td>1.083078</td>\n",
       "      <td>21.636236</td>\n",
       "      <td>0.103915</td>\n",
       "      <td>2.416847</td>\n",
       "      <td>3.217099</td>\n",
       "      <td>2012-04-09</td>\n",
       "      <td>South Eastern</td>\n",
       "      <td>288888.888889</td>\n",
       "      <td>136842.105263</td>\n",
       "      <td>2.840665</td>\n",
       "      <td>-0.842502</td>\n",
       "      <td>NaN</td>\n",
       "      <td>NaN</td>\n",
       "    </tr>\n",
       "    <tr>\n",
       "      <th>6534</th>\n",
       "      <td>13801229</td>\n",
       "      <td>13.143751</td>\n",
       "      <td>80.0</td>\n",
       "      <td>88.0</td>\n",
       "      <td>NaN</td>\n",
       "      <td>9.0</td>\n",
       "      <td>NaN</td>\n",
       "      <td>NaN</td>\n",
       "      <td>NaN</td>\n",
       "      <td>NaN</td>\n",
       "      <td>1.424717</td>\n",
       "      <td>0.646005</td>\n",
       "      <td>0.510474</td>\n",
       "      <td>NaN</td>\n",
       "      <td>3.405352</td>\n",
       "      <td>0.742342</td>\n",
       "      <td>Pokrovskoe Streshnevo</td>\n",
       "      <td>0.443602</td>\n",
       "      <td>27.479760</td>\n",
       "      <td>0.110209</td>\n",
       "      <td>0.713374</td>\n",
       "      <td>3.781754</td>\n",
       "      <td>2013-03-15</td>\n",
       "      <td>North Western</td>\n",
       "      <td>172515.362500</td>\n",
       "      <td>156832.147727</td>\n",
       "      <td>0.722707</td>\n",
       "      <td>-0.665888</td>\n",
       "      <td>NaN</td>\n",
       "      <td>NaN</td>\n",
       "    </tr>\n",
       "    <tr>\n",
       "      <th>6996</th>\n",
       "      <td>6290256</td>\n",
       "      <td>20.549464</td>\n",
       "      <td>73.0</td>\n",
       "      <td>77.0</td>\n",
       "      <td>NaN</td>\n",
       "      <td>10.0</td>\n",
       "      <td>NaN</td>\n",
       "      <td>NaN</td>\n",
       "      <td>NaN</td>\n",
       "      <td>NaN</td>\n",
       "      <td>0.286711</td>\n",
       "      <td>0.017572</td>\n",
       "      <td>0.214197</td>\n",
       "      <td>NaN</td>\n",
       "      <td>4.721045</td>\n",
       "      <td>5.422551</td>\n",
       "      <td>Nekrasovka</td>\n",
       "      <td>0.394108</td>\n",
       "      <td>45.322032</td>\n",
       "      <td>0.035986</td>\n",
       "      <td>1.214861</td>\n",
       "      <td>8.106936</td>\n",
       "      <td>2013-04-03</td>\n",
       "      <td>South Eastern</td>\n",
       "      <td>86167.890411</td>\n",
       "      <td>81691.636364</td>\n",
       "      <td>-0.848787</td>\n",
       "      <td>-1.329762</td>\n",
       "      <td>NaN</td>\n",
       "      <td>NaN</td>\n",
       "    </tr>\n",
       "    <tr>\n",
       "      <th>8104</th>\n",
       "      <td>3622465</td>\n",
       "      <td>20.549464</td>\n",
       "      <td>37.0</td>\n",
       "      <td>38.0</td>\n",
       "      <td>NaN</td>\n",
       "      <td>8.0</td>\n",
       "      <td>NaN</td>\n",
       "      <td>NaN</td>\n",
       "      <td>NaN</td>\n",
       "      <td>NaN</td>\n",
       "      <td>0.286711</td>\n",
       "      <td>0.017572</td>\n",
       "      <td>0.214197</td>\n",
       "      <td>NaN</td>\n",
       "      <td>4.721045</td>\n",
       "      <td>5.422551</td>\n",
       "      <td>Nekrasovka</td>\n",
       "      <td>0.394108</td>\n",
       "      <td>45.322032</td>\n",
       "      <td>0.035986</td>\n",
       "      <td>1.214861</td>\n",
       "      <td>8.106936</td>\n",
       "      <td>2013-05-23</td>\n",
       "      <td>South Eastern</td>\n",
       "      <td>97904.459459</td>\n",
       "      <td>95328.026316</td>\n",
       "      <td>-0.635186</td>\n",
       "      <td>-1.209283</td>\n",
       "      <td>NaN</td>\n",
       "      <td>NaN</td>\n",
       "    </tr>\n",
       "    <tr>\n",
       "      <th>9485</th>\n",
       "      <td>3000000</td>\n",
       "      <td>13.687390</td>\n",
       "      <td>52.0</td>\n",
       "      <td>53.0</td>\n",
       "      <td>8.0</td>\n",
       "      <td>12.0</td>\n",
       "      <td>1.0</td>\n",
       "      <td>1983.0</td>\n",
       "      <td>2.0</td>\n",
       "      <td>3.0</td>\n",
       "      <td>0.194483</td>\n",
       "      <td>0.030993</td>\n",
       "      <td>0.298627</td>\n",
       "      <td>1.0</td>\n",
       "      <td>3.198813</td>\n",
       "      <td>2.625650</td>\n",
       "      <td>Juzhnoe Medvedkovo</td>\n",
       "      <td>0.484628</td>\n",
       "      <td>25.427899</td>\n",
       "      <td>0.137156</td>\n",
       "      <td>0.659250</td>\n",
       "      <td>5.202360</td>\n",
       "      <td>2013-07-27</td>\n",
       "      <td>North Eastern</td>\n",
       "      <td>57692.307692</td>\n",
       "      <td>56603.773585</td>\n",
       "      <td>-1.367033</td>\n",
       "      <td>-1.551417</td>\n",
       "      <td>NaN</td>\n",
       "      <td>0.150943</td>\n",
       "    </tr>\n",
       "  </tbody>\n",
       "</table>\n",
       "</div>"
      ],
      "text/plain": [
       "      price_doc  kremlin_km  full_sq  life_sq  kitch_sq  floor  max_floor  \\\n",
       "id                                                                          \n",
       "1825    5200000   13.635361     18.0     38.0       NaN    NaN        NaN   \n",
       "6534   13801229   13.143751     80.0     88.0       NaN    9.0        NaN   \n",
       "6996    6290256   20.549464     73.0     77.0       NaN   10.0        NaN   \n",
       "8104    3622465   20.549464     37.0     38.0       NaN    8.0        NaN   \n",
       "9485    3000000   13.687390     52.0     53.0       8.0   12.0        1.0   \n",
       "\n",
       "      build_year  num_room  state  kindergarten_km  green_zone_km  school_km  \\\n",
       "id                                                                             \n",
       "1825         NaN       NaN    NaN         0.228476       0.075926   0.313596   \n",
       "6534         NaN       NaN    NaN         1.424717       0.646005   0.510474   \n",
       "6996         NaN       NaN    NaN         0.286711       0.017572   0.214197   \n",
       "8104         NaN       NaN    NaN         0.286711       0.017572   0.214197   \n",
       "9485      1983.0       2.0    3.0         0.194483       0.030993   0.298627   \n",
       "\n",
       "      material  metro_min_avto  public_healthcare_km               sub_area  \\\n",
       "id                                                                            \n",
       "1825       NaN        2.334253              1.624978               Ljublino   \n",
       "6534       NaN        3.405352              0.742342  Pokrovskoe Streshnevo   \n",
       "6996       NaN        4.721045              5.422551             Nekrasovka   \n",
       "8104       NaN        4.721045              5.422551             Nekrasovka   \n",
       "9485       1.0        3.198813              2.625650     Juzhnoe Medvedkovo   \n",
       "\n",
       "      industrial_km  metro_min_walk  public_transport_station_km  railroad_km  \\\n",
       "id                                                                              \n",
       "1825       1.083078       21.636236                     0.103915     2.416847   \n",
       "6534       0.443602       27.479760                     0.110209     0.713374   \n",
       "6996       0.394108       45.322032                     0.035986     1.214861   \n",
       "8104       0.394108       45.322032                     0.035986     1.214861   \n",
       "9485       0.484628       25.427899                     0.137156     0.659250   \n",
       "\n",
       "      swim_pool_km  timestamp  okurg_district  price_to_full  price_to_life  \\\n",
       "id                                                                            \n",
       "1825      3.217099 2012-04-09  South Eastern   288888.888889  136842.105263   \n",
       "6534      3.781754 2013-03-15  North Western   172515.362500  156832.147727   \n",
       "6996      8.106936 2013-04-03  South Eastern    86167.890411   81691.636364   \n",
       "8104      8.106936 2013-05-23  South Eastern    97904.459459   95328.026316   \n",
       "9485      5.202360 2013-07-27  North Eastern    57692.307692   56603.773585   \n",
       "\n",
       "      price_to_full_std  price_to_life_std  life_to_full  kitch_to_life  \n",
       "id                                                                       \n",
       "1825           2.840665          -0.842502           NaN            NaN  \n",
       "6534           0.722707          -0.665888           NaN            NaN  \n",
       "6996          -0.848787          -1.329762           NaN            NaN  \n",
       "8104          -0.635186          -1.209283           NaN            NaN  \n",
       "9485          -1.367033          -1.551417           NaN       0.150943  "
      ]
     },
     "execution_count": 938,
     "metadata": {},
     "output_type": "execute_result"
    }
   ],
   "source": [
    "bad_df = df[df.full_sq < df.life_sq]\n",
    "print \"number of rows \" , len(bad_df)\n",
    "bad_df.head()"
   ]
  },
  {
   "cell_type": "code",
   "execution_count": 939,
   "metadata": {},
   "outputs": [
    {
     "data": {
      "text/plain": [
       "7"
      ]
     },
     "execution_count": 939,
     "metadata": {},
     "output_type": "execute_result"
    }
   ],
   "source": [
    "sum(df.full_sq.isnull())"
   ]
  },
  {
   "cell_type": "markdown",
   "metadata": {},
   "source": [
    "## Life_sq > Full_sq???\n",
    "select the one that seems like the least of an outlier based on price to sq"
   ]
  },
  {
   "cell_type": "code",
   "execution_count": 940,
   "metadata": {
    "collapsed": true
   },
   "outputs": [],
   "source": [
    "# select full and np.nan life if price to full is more reasonable\n",
    "full_ind = bad_df[abs(bad_df.price_to_full_std) < abs(bad_df.price_to_life_std)].index\n",
    "\n",
    "# select life and np.nan full if price to full is more reasonable\n",
    "life_ind = [x for x in bad_df.index if x not in full_ind]\n",
    "\n",
    "df.loc[full_ind, 'life_sq'] = np.nan\n",
    "df.loc[life_ind, 'full_sq'] = np.nan\n",
    "\n",
    "\n",
    "# updating multiples\n",
    "add_multiples(df)"
   ]
  },
  {
   "cell_type": "code",
   "execution_count": 941,
   "metadata": {
    "collapsed": true
   },
   "outputs": [],
   "source": [
    "# df[df.life_sq.isnull()]"
   ]
  },
  {
   "cell_type": "markdown",
   "metadata": {},
   "source": [
    "#### Characteristics by Neighborhood\n",
    "Grouped the data by subset and will take the median neighborhood ratios of sq meters to impute missingness"
   ]
  },
  {
   "cell_type": "code",
   "execution_count": 942,
   "metadata": {},
   "outputs": [
    {
     "data": {
      "text/html": [
       "<div>\n",
       "<style>\n",
       "    .dataframe thead tr:only-child th {\n",
       "        text-align: right;\n",
       "    }\n",
       "\n",
       "    .dataframe thead th {\n",
       "        text-align: left;\n",
       "    }\n",
       "\n",
       "    .dataframe tbody tr th {\n",
       "        vertical-align: top;\n",
       "    }\n",
       "</style>\n",
       "<table border=\"1\" class=\"dataframe\">\n",
       "  <thead>\n",
       "    <tr style=\"text-align: right;\">\n",
       "      <th></th>\n",
       "      <th>price_doc</th>\n",
       "      <th>kremlin_km</th>\n",
       "      <th>full_sq</th>\n",
       "      <th>life_sq</th>\n",
       "      <th>kitch_sq</th>\n",
       "      <th>floor</th>\n",
       "      <th>max_floor</th>\n",
       "      <th>build_year</th>\n",
       "      <th>num_room</th>\n",
       "      <th>state</th>\n",
       "      <th>kindergarten_km</th>\n",
       "      <th>green_zone_km</th>\n",
       "      <th>school_km</th>\n",
       "      <th>material</th>\n",
       "      <th>metro_min_avto</th>\n",
       "      <th>public_healthcare_km</th>\n",
       "      <th>sub_area</th>\n",
       "      <th>industrial_km</th>\n",
       "      <th>metro_min_walk</th>\n",
       "      <th>public_transport_station_km</th>\n",
       "      <th>railroad_km</th>\n",
       "      <th>swim_pool_km</th>\n",
       "      <th>timestamp</th>\n",
       "      <th>okurg_district</th>\n",
       "      <th>price_to_full</th>\n",
       "      <th>price_to_life</th>\n",
       "      <th>price_to_full_std</th>\n",
       "      <th>price_to_life_std</th>\n",
       "      <th>life_to_full</th>\n",
       "      <th>kitch_to_life</th>\n",
       "    </tr>\n",
       "    <tr>\n",
       "      <th>id</th>\n",
       "      <th></th>\n",
       "      <th></th>\n",
       "      <th></th>\n",
       "      <th></th>\n",
       "      <th></th>\n",
       "      <th></th>\n",
       "      <th></th>\n",
       "      <th></th>\n",
       "      <th></th>\n",
       "      <th></th>\n",
       "      <th></th>\n",
       "      <th></th>\n",
       "      <th></th>\n",
       "      <th></th>\n",
       "      <th></th>\n",
       "      <th></th>\n",
       "      <th></th>\n",
       "      <th></th>\n",
       "      <th></th>\n",
       "      <th></th>\n",
       "      <th></th>\n",
       "      <th></th>\n",
       "      <th></th>\n",
       "      <th></th>\n",
       "      <th></th>\n",
       "      <th></th>\n",
       "      <th></th>\n",
       "      <th></th>\n",
       "      <th></th>\n",
       "      <th></th>\n",
       "    </tr>\n",
       "  </thead>\n",
       "  <tbody>\n",
       "    <tr>\n",
       "      <th>27398</th>\n",
       "      <td>6489774</td>\n",
       "      <td>16.957155</td>\n",
       "      <td>62.0</td>\n",
       "      <td>NaN</td>\n",
       "      <td>NaN</td>\n",
       "      <td>13.0</td>\n",
       "      <td>17.0</td>\n",
       "      <td>NaN</td>\n",
       "      <td>2.0</td>\n",
       "      <td>1.0</td>\n",
       "      <td>0.230087</td>\n",
       "      <td>0.360319</td>\n",
       "      <td>0.044599</td>\n",
       "      <td>1.0</td>\n",
       "      <td>3.343157</td>\n",
       "      <td>1.242741</td>\n",
       "      <td>Solncevo</td>\n",
       "      <td>0.631064</td>\n",
       "      <td>24.450869</td>\n",
       "      <td>0.257288</td>\n",
       "      <td>0.874445</td>\n",
       "      <td>2.128289</td>\n",
       "      <td>2015-01-21</td>\n",
       "      <td>Western</td>\n",
       "      <td>104673.774194</td>\n",
       "      <td>NaN</td>\n",
       "      <td>-0.511887</td>\n",
       "      <td>NaN</td>\n",
       "      <td>NaN</td>\n",
       "      <td>NaN</td>\n",
       "    </tr>\n",
       "    <tr>\n",
       "      <th>30446</th>\n",
       "      <td>7567425</td>\n",
       "      <td>16.957155</td>\n",
       "      <td>79.0</td>\n",
       "      <td>NaN</td>\n",
       "      <td>NaN</td>\n",
       "      <td>17.0</td>\n",
       "      <td>17.0</td>\n",
       "      <td>NaN</td>\n",
       "      <td>3.0</td>\n",
       "      <td>1.0</td>\n",
       "      <td>0.230087</td>\n",
       "      <td>0.360319</td>\n",
       "      <td>0.044599</td>\n",
       "      <td>1.0</td>\n",
       "      <td>3.343157</td>\n",
       "      <td>1.242741</td>\n",
       "      <td>Solncevo</td>\n",
       "      <td>0.631064</td>\n",
       "      <td>24.450869</td>\n",
       "      <td>0.257288</td>\n",
       "      <td>0.874445</td>\n",
       "      <td>2.128289</td>\n",
       "      <td>2015-06-27</td>\n",
       "      <td>Western</td>\n",
       "      <td>95790.189873</td>\n",
       "      <td>NaN</td>\n",
       "      <td>-0.673618</td>\n",
       "      <td>NaN</td>\n",
       "      <td>NaN</td>\n",
       "      <td>NaN</td>\n",
       "    </tr>\n",
       "  </tbody>\n",
       "</table>\n",
       "</div>"
      ],
      "text/plain": [
       "       price_doc  kremlin_km  full_sq  life_sq  kitch_sq  floor  max_floor  \\\n",
       "id                                                                           \n",
       "27398    6489774   16.957155     62.0      NaN       NaN   13.0       17.0   \n",
       "30446    7567425   16.957155     79.0      NaN       NaN   17.0       17.0   \n",
       "\n",
       "       build_year  num_room  state  kindergarten_km  green_zone_km  school_km  \\\n",
       "id                                                                              \n",
       "27398         NaN       2.0    1.0         0.230087       0.360319   0.044599   \n",
       "30446         NaN       3.0    1.0         0.230087       0.360319   0.044599   \n",
       "\n",
       "       material  metro_min_avto  public_healthcare_km  sub_area  \\\n",
       "id                                                                \n",
       "27398       1.0        3.343157              1.242741  Solncevo   \n",
       "30446       1.0        3.343157              1.242741  Solncevo   \n",
       "\n",
       "       industrial_km  metro_min_walk  public_transport_station_km  \\\n",
       "id                                                                  \n",
       "27398       0.631064       24.450869                     0.257288   \n",
       "30446       0.631064       24.450869                     0.257288   \n",
       "\n",
       "       railroad_km  swim_pool_km  timestamp okurg_district  price_to_full  \\\n",
       "id                                                                          \n",
       "27398     0.874445      2.128289 2015-01-21       Western   104673.774194   \n",
       "30446     0.874445      2.128289 2015-06-27       Western    95790.189873   \n",
       "\n",
       "       price_to_life  price_to_full_std  price_to_life_std  life_to_full  \\\n",
       "id                                                                         \n",
       "27398            NaN          -0.511887                NaN           NaN   \n",
       "30446            NaN          -0.673618                NaN           NaN   \n",
       "\n",
       "       kitch_to_life  \n",
       "id                    \n",
       "27398            NaN  \n",
       "30446            NaN  "
      ]
     },
     "execution_count": 942,
     "metadata": {},
     "output_type": "execute_result"
    }
   ],
   "source": [
    "df.loc[[27398,30446],:]"
   ]
  },
  {
   "cell_type": "code",
   "execution_count": 943,
   "metadata": {
    "collapsed": true
   },
   "outputs": [],
   "source": [
    "dfg = df.groupby('sub_area')\n",
    "life_full_dict = dfg['life_to_full'].aggregate('median').to_dict()\n",
    "kitch_life_dict = dfg['kitch_to_life'].aggregate('median').to_dict()"
   ]
  },
  {
   "cell_type": "code",
   "execution_count": 944,
   "metadata": {
    "collapsed": true
   },
   "outputs": [],
   "source": [
    "# impute the missing sq by using the sub areas \n",
    "\n",
    "mis_full_index = df[df.full_sq.isnull()].index\n",
    "mis_life_index = df[df.life_sq.isnull()].index\n",
    "mis_kitch_index = df[df.kitch_sq.isnull() | (df.kitch_sq > df.life_sq)].index\n",
    "\n",
    "if impute:\n",
    "    # update the life_to_full ratio from median of subareas\n",
    "    df.loc[mis_full_index,'life_to_full'] = [life_full_dict[x] for x in df.loc[mis_full_index,'sub_area']]\n",
    "    df.loc[mis_life_index,'life_to_full'] = [life_full_dict[x] for x in df.loc[mis_life_index,'sub_area']]\n",
    "    df.loc[mis_kitch_index,'kitch_to_life'] = [kitch_life_dict[x] for x in df.loc[mis_kitch_index,'sub_area']]\n",
    "    \n",
    "    # impute sq based off of ratio\n",
    "    df.loc[mis_full_index,:] = df.loc[mis_full_index,:].assign(full_sq = lambda x: x.life_sq / x.life_to_full)\n",
    "    df.loc[mis_life_index,:] = df.loc[mis_life_index,:].assign(life_sq = lambda x: x.full_sq * x.life_to_full)\n",
    "    df.loc[mis_kitch_index,:] = df.loc[mis_kitch_index,:].assign(kitch_sq = lambda x: x.life_sq * x.kitch_to_life)"
   ]
  },
  {
   "cell_type": "code",
   "execution_count": 945,
   "metadata": {
    "collapsed": true
   },
   "outputs": [],
   "source": [
    "add_multiples(df)"
   ]
  },
  {
   "cell_type": "code",
   "execution_count": null,
   "metadata": {
    "collapsed": true
   },
   "outputs": [],
   "source": []
  },
  {
   "cell_type": "code",
   "execution_count": null,
   "metadata": {
    "collapsed": true
   },
   "outputs": [],
   "source": []
  },
  {
   "cell_type": "code",
   "execution_count": null,
   "metadata": {
    "collapsed": true
   },
   "outputs": [],
   "source": []
  },
  {
   "cell_type": "code",
   "execution_count": null,
   "metadata": {
    "collapsed": true
   },
   "outputs": [],
   "source": []
  },
  {
   "cell_type": "code",
   "execution_count": null,
   "metadata": {
    "collapsed": true
   },
   "outputs": [],
   "source": []
  },
  {
   "cell_type": "code",
   "execution_count": null,
   "metadata": {
    "collapsed": true
   },
   "outputs": [],
   "source": []
  },
  {
   "cell_type": "markdown",
   "metadata": {},
   "source": [
    "### Building characteristics\n",
    "Imputations: \n",
    "    Years = change every build year less than 1875 to 1875"
   ]
  },
  {
   "cell_type": "code",
   "execution_count": 947,
   "metadata": {
    "collapsed": true
   },
   "outputs": [],
   "source": [
    "if impute:\n",
    "    df.loc[df.build_year < 1875, 'build_year'] = 1875\n",
    "    df.loc[df.build_year==1, 'build_year'] = 2001\n",
    "    df.loc[df.build_year==3, 'build_year'] = 2003\n",
    "    df.loc[df.build_year==20, 'build_year'] = 2000\n",
    "    df.loc[df.build_year==71, 'build_year'] = 1971\n",
    "    df.loc[df.build_year==215, 'build_year'] = 2015\n",
    "    df.loc[15223,'build_year'] = 1965\n",
    "    df.loc[10092,'build_year'] = 2005\n",
    "    df.loc[10093,'build_year'] = 2009"
   ]
  },
  {
   "cell_type": "markdown",
   "metadata": {},
   "source": [
    "#### If max floor is nan\n",
    "try a random sample from first the group by distance else the DF set"
   ]
  },
  {
   "cell_type": "code",
   "execution_count": 983,
   "metadata": {
    "collapsed": true
   },
   "outputs": [],
   "source": [
    "bad = df[df.max_floor.isnull()].index\n",
    "if impute:\n",
    "    df.loc[bad,\"max_floor\"] = [imputeMaxFloor(x) for x in bad]"
   ]
  },
  {
   "cell_type": "code",
   "execution_count": 989,
   "metadata": {},
   "outputs": [
    {
     "data": {
      "text/plain": [
       "8"
      ]
     },
     "execution_count": 989,
     "metadata": {},
     "output_type": "execute_result"
    }
   ],
   "source": [
    "np.random.randint(15)"
   ]
  },
  {
   "cell_type": "code",
   "execution_count": 991,
   "metadata": {
    "collapsed": true
   },
   "outputs": [],
   "source": [
    "bad = df[df.floor.isnull()].index\n",
    "if impute:\n",
    "    df.loc[bad,'floor'] = [np.random.randint(df.loc[x,'max_floor']) for x in bad]"
   ]
  },
  {
   "cell_type": "code",
   "execution_count": null,
   "metadata": {
    "collapsed": true
   },
   "outputs": [],
   "source": []
  },
  {
   "cell_type": "markdown",
   "metadata": {},
   "source": [
    "### Looking at missing year\n",
    "first see if it matches any other buildings by max_floor in the dist group"
   ]
  },
  {
   "cell_type": "code",
   "execution_count": null,
   "metadata": {
    "collapsed": true
   },
   "outputs": [],
   "source": []
  },
  {
   "cell_type": "code",
   "execution_count": 42,
   "metadata": {},
   "outputs": [
    {
     "data": {
      "text/html": [
       "<div>\n",
       "<style>\n",
       "    .dataframe thead tr:only-child th {\n",
       "        text-align: right;\n",
       "    }\n",
       "\n",
       "    .dataframe thead th {\n",
       "        text-align: left;\n",
       "    }\n",
       "\n",
       "    .dataframe tbody tr th {\n",
       "        vertical-align: top;\n",
       "    }\n",
       "</style>\n",
       "<table border=\"1\" class=\"dataframe\">\n",
       "  <thead>\n",
       "    <tr style=\"text-align: right;\">\n",
       "      <th></th>\n",
       "      <th>timestamp</th>\n",
       "      <th>price_doc</th>\n",
       "      <th>kremlin_km</th>\n",
       "      <th>full_sq</th>\n",
       "      <th>life_sq</th>\n",
       "      <th>kitch_sq</th>\n",
       "      <th>floor</th>\n",
       "      <th>max_floor</th>\n",
       "      <th>build_year</th>\n",
       "      <th>num_room</th>\n",
       "      <th>state</th>\n",
       "      <th>material</th>\n",
       "      <th>sub_area</th>\n",
       "      <th>okurg_district</th>\n",
       "      <th>life_to_full</th>\n",
       "      <th>kitch_to_life</th>\n",
       "      <th>diff_full_life</th>\n",
       "    </tr>\n",
       "    <tr>\n",
       "      <th>id</th>\n",
       "      <th></th>\n",
       "      <th></th>\n",
       "      <th></th>\n",
       "      <th></th>\n",
       "      <th></th>\n",
       "      <th></th>\n",
       "      <th></th>\n",
       "      <th></th>\n",
       "      <th></th>\n",
       "      <th></th>\n",
       "      <th></th>\n",
       "      <th></th>\n",
       "      <th></th>\n",
       "      <th></th>\n",
       "      <th></th>\n",
       "      <th></th>\n",
       "      <th></th>\n",
       "    </tr>\n",
       "  </thead>\n",
       "  <tbody>\n",
       "    <tr>\n",
       "      <th>1</th>\n",
       "      <td>2011-08-20</td>\n",
       "      <td>5850000</td>\n",
       "      <td>15.156211</td>\n",
       "      <td>43.0</td>\n",
       "      <td>27.0</td>\n",
       "      <td>NaN</td>\n",
       "      <td>4.0</td>\n",
       "      <td>5.0</td>\n",
       "      <td>NaN</td>\n",
       "      <td>NaN</td>\n",
       "      <td>NaN</td>\n",
       "      <td>NaN</td>\n",
       "      <td>Bibirevo</td>\n",
       "      <td>North Eastern</td>\n",
       "      <td>0.627907</td>\n",
       "      <td>NaN</td>\n",
       "      <td>16.0</td>\n",
       "    </tr>\n",
       "    <tr>\n",
       "      <th>2</th>\n",
       "      <td>2011-08-23</td>\n",
       "      <td>6000000</td>\n",
       "      <td>8.698054</td>\n",
       "      <td>34.0</td>\n",
       "      <td>19.0</td>\n",
       "      <td>NaN</td>\n",
       "      <td>3.0</td>\n",
       "      <td>9.0</td>\n",
       "      <td>NaN</td>\n",
       "      <td>NaN</td>\n",
       "      <td>NaN</td>\n",
       "      <td>NaN</td>\n",
       "      <td>Nagatinskij Zaton</td>\n",
       "      <td>Southern</td>\n",
       "      <td>0.558824</td>\n",
       "      <td>NaN</td>\n",
       "      <td>15.0</td>\n",
       "    </tr>\n",
       "    <tr>\n",
       "      <th>3</th>\n",
       "      <td>2011-08-27</td>\n",
       "      <td>5700000</td>\n",
       "      <td>9.067885</td>\n",
       "      <td>43.0</td>\n",
       "      <td>29.0</td>\n",
       "      <td>NaN</td>\n",
       "      <td>2.0</td>\n",
       "      <td>5.0</td>\n",
       "      <td>NaN</td>\n",
       "      <td>NaN</td>\n",
       "      <td>NaN</td>\n",
       "      <td>NaN</td>\n",
       "      <td>Tekstil'shhiki</td>\n",
       "      <td>South Eastern</td>\n",
       "      <td>0.674419</td>\n",
       "      <td>NaN</td>\n",
       "      <td>14.0</td>\n",
       "    </tr>\n",
       "    <tr>\n",
       "      <th>4</th>\n",
       "      <td>2011-09-01</td>\n",
       "      <td>13100000</td>\n",
       "      <td>19.487005</td>\n",
       "      <td>89.0</td>\n",
       "      <td>50.0</td>\n",
       "      <td>NaN</td>\n",
       "      <td>9.0</td>\n",
       "      <td>17.0</td>\n",
       "      <td>NaN</td>\n",
       "      <td>NaN</td>\n",
       "      <td>NaN</td>\n",
       "      <td>NaN</td>\n",
       "      <td>Mitino</td>\n",
       "      <td>North Western</td>\n",
       "      <td>0.561798</td>\n",
       "      <td>NaN</td>\n",
       "      <td>39.0</td>\n",
       "    </tr>\n",
       "    <tr>\n",
       "      <th>5</th>\n",
       "      <td>2011-09-05</td>\n",
       "      <td>16331452</td>\n",
       "      <td>2.578671</td>\n",
       "      <td>77.0</td>\n",
       "      <td>77.0</td>\n",
       "      <td>NaN</td>\n",
       "      <td>4.0</td>\n",
       "      <td>8.0</td>\n",
       "      <td>NaN</td>\n",
       "      <td>NaN</td>\n",
       "      <td>NaN</td>\n",
       "      <td>NaN</td>\n",
       "      <td>Basmannoe</td>\n",
       "      <td>Central</td>\n",
       "      <td>1.000000</td>\n",
       "      <td>NaN</td>\n",
       "      <td>0.0</td>\n",
       "    </tr>\n",
       "  </tbody>\n",
       "</table>\n",
       "</div>"
      ],
      "text/plain": [
       "    timestamp  price_doc  kremlin_km  full_sq  life_sq  kitch_sq  floor  \\\n",
       "id                                                                        \n",
       "1  2011-08-20    5850000   15.156211     43.0     27.0       NaN    4.0   \n",
       "2  2011-08-23    6000000    8.698054     34.0     19.0       NaN    3.0   \n",
       "3  2011-08-27    5700000    9.067885     43.0     29.0       NaN    2.0   \n",
       "4  2011-09-01   13100000   19.487005     89.0     50.0       NaN    9.0   \n",
       "5  2011-09-05   16331452    2.578671     77.0     77.0       NaN    4.0   \n",
       "\n",
       "    max_floor  build_year  num_room  state  material           sub_area  \\\n",
       "id                                                                        \n",
       "1         5.0         NaN       NaN    NaN       NaN           Bibirevo   \n",
       "2         9.0         NaN       NaN    NaN       NaN  Nagatinskij Zaton   \n",
       "3         5.0         NaN       NaN    NaN       NaN     Tekstil'shhiki   \n",
       "4        17.0         NaN       NaN    NaN       NaN             Mitino   \n",
       "5         8.0         NaN       NaN    NaN       NaN          Basmannoe   \n",
       "\n",
       "    okurg_district  life_to_full  kitch_to_life  diff_full_life  \n",
       "id                                                               \n",
       "1   North Eastern       0.627907            NaN            16.0  \n",
       "2        Southern       0.558824            NaN            15.0  \n",
       "3   South Eastern       0.674419            NaN            14.0  \n",
       "4   North Western       0.561798            NaN            39.0  \n",
       "5         Central       1.000000            NaN             0.0  "
      ]
     },
     "execution_count": 42,
     "metadata": {},
     "output_type": "execute_result"
    }
   ],
   "source": [
    "df.head()"
   ]
  },
  {
   "cell_type": "code",
   "execution_count": null,
   "metadata": {
    "collapsed": true
   },
   "outputs": [],
   "source": []
  },
  {
   "cell_type": "code",
   "execution_count": null,
   "metadata": {
    "collapsed": true
   },
   "outputs": [],
   "source": []
  },
  {
   "cell_type": "code",
   "execution_count": null,
   "metadata": {
    "collapsed": true
   },
   "outputs": [],
   "source": []
  },
  {
   "cell_type": "code",
   "execution_count": null,
   "metadata": {
    "collapsed": true
   },
   "outputs": [],
   "source": []
  },
  {
   "cell_type": "code",
   "execution_count": null,
   "metadata": {
    "collapsed": true
   },
   "outputs": [],
   "source": []
  },
  {
   "cell_type": "code",
   "execution_count": null,
   "metadata": {
    "collapsed": true
   },
   "outputs": [],
   "source": []
  },
  {
   "cell_type": "code",
   "execution_count": null,
   "metadata": {
    "collapsed": true
   },
   "outputs": [],
   "source": []
  },
  {
   "cell_type": "code",
   "execution_count": 1219,
   "metadata": {
    "collapsed": true
   },
   "outputs": [],
   "source": [
    "ms_distances = missing.kremlin_km.unique()"
   ]
  },
  {
   "cell_type": "code",
   "execution_count": 1262,
   "metadata": {
    "collapsed": true
   },
   "outputs": [],
   "source": [
    "for d in ms_distances:\n",
    "    c = complete[complete.kremlin_km == d]\n",
    "    \n",
    "    # check to make sure there are enough observations in the complete group, if not use total complete\n",
    "    if len(c) < 3:\n",
    "        c = complete\n",
    "    m = missing[missing.kremlin_km == d]\n",
    "    n = int(math.sqrt(len(c)))\n",
    "\n",
    "    neigh = KNeighborsRegressor(n_neighbors=n)\n",
    "    neigh.fit(c.drop('floor', axis=1),c.floor)\n",
    "        \n",
    "    missing.loc[m.index,'floor'] = neigh.predict(m.drop('floor', axis=1))\n"
   ]
  },
  {
   "cell_type": "code",
   "execution_count": 1266,
   "metadata": {
    "collapsed": true
   },
   "outputs": [],
   "source": [
    "if impute:\n",
    "    df.loc[missing.index,'floor'] = missing.floor"
   ]
  }
 ],
 "metadata": {
  "kernelspec": {
   "display_name": "Python 2",
   "language": "python",
   "name": "python2"
  },
  "language_info": {
   "codemirror_mode": {
    "name": "ipython",
    "version": 2
   },
   "file_extension": ".py",
   "mimetype": "text/x-python",
   "name": "python",
   "nbconvert_exporter": "python",
   "pygments_lexer": "ipython2",
   "version": "2.7.13"
  }
 },
 "nbformat": 4,
 "nbformat_minor": 2
}
