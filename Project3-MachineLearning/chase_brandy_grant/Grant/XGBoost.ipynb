{
 "cells": [
  {
   "cell_type": "code",
   "execution_count": 1,
   "metadata": {
    "collapsed": true
   },
   "outputs": [],
   "source": [
    "import pandas as pd\n",
    "from pandas.io.json import build_table_schema\n",
    "from pandas.plotting import scatter_matrix\n",
    "import seaborn as sns\n",
    "import numpy as np\n",
    "import scipy as sp\n",
    "import os\n",
    "import xgboost as xgb\n",
    "import visualization as vis\n",
    "import matplotlib.pyplot as plt\n",
    "import matplotlib\n",
    "%matplotlib inline\n",
    "\n",
    "DIR_PATH = './'"
   ]
  },
  {
   "cell_type": "code",
   "execution_count": 2,
   "metadata": {
    "collapsed": false
   },
   "outputs": [
    {
     "name": "stdout",
     "output_type": "stream",
     "text": [
      "247\n",
      "****************************************\n",
      "246\n"
     ]
    }
   ],
   "source": [
    "traindata  = pd.read_csv(\"./data/clean_train_only_complete_cols_chase.csv\")\n",
    "testdata = pd.read_csv(\"./data/clean_test_only_complete_cols_chase.csv\")\n",
    "print len(traindata.columns.values)\n",
    "print 40 * '*'\n",
    "print len(testdata.columns.values)\n",
    "id_test = testdata.id\n"
   ]
  },
  {
   "cell_type": "code",
   "execution_count": 4,
   "metadata": {
    "collapsed": true
   },
   "outputs": [],
   "source": [
    "traindata.loc[:, 'log_price_doc'] = np.log(traindata['price_doc'] + 1)\n",
    "\n",
    "traindata.loc[:, 'year'] =  traindata.loc[:,'timestamp'].apply(lambda x: x[0:4])\n",
    "traindata.loc[:, 'month'] =  traindata.loc[:, 'timestamp'].apply(lambda x: x[5:7])\n",
    "testdata.loc[:, 'year'] = testdata.loc[:, 'timestamp'].apply(lambda x: x[0:4])\n",
    "testdata.loc[:, 'month'] = testdata.loc[:, 'timestamp'].apply(lambda x: x[0:4])"
   ]
  },
  {
   "cell_type": "code",
   "execution_count": 5,
   "metadata": {
    "collapsed": false
   },
   "outputs": [
    {
     "name": "stdout",
     "output_type": "stream",
     "text": [
      "timestamp\n",
      "product_type\n",
      "sub_area\n",
      "culture_objects_top_25\n",
      "thermal_power_plant_raion\n",
      "incineration_raion\n",
      "oil_chemistry_raion\n",
      "radiation_raion\n",
      "railroad_terminal_raion\n",
      "big_market_raion\n",
      "nuclear_reactor_raion\n",
      "detention_facility_raion\n",
      "water_1line\n",
      "big_road1_1line\n",
      "railroad_1line\n",
      "ecology\n",
      "okurg_district\n",
      "year\n",
      "month\n"
     ]
    }
   ],
   "source": [
    "from sklearn import model_selection, preprocessing\n",
    "for f in testdata.columns:\n",
    "    if testdata[f].dtype=='object':\n",
    "        print(f)\n",
    "        lbl = preprocessing.LabelEncoder()\n",
    "        lbl.fit(list(testdata[f].values.astype('str')))\n",
    "        testdata[f] = lbl.transform(list(testdata[f].values.astype('str')))"
   ]
  },
  {
   "cell_type": "code",
   "execution_count": 6,
   "metadata": {
    "collapsed": false
   },
   "outputs": [
    {
     "name": "stdout",
     "output_type": "stream",
     "text": [
      "timestamp\n",
      "product_type\n",
      "sub_area\n",
      "culture_objects_top_25\n",
      "thermal_power_plant_raion\n",
      "incineration_raion\n",
      "oil_chemistry_raion\n",
      "radiation_raion\n",
      "railroad_terminal_raion\n",
      "big_market_raion\n",
      "nuclear_reactor_raion\n",
      "detention_facility_raion\n",
      "water_1line\n",
      "big_road1_1line\n",
      "railroad_1line\n",
      "ecology\n",
      "okurg_district\n",
      "year\n",
      "month\n"
     ]
    }
   ],
   "source": [
    "from sklearn import model_selection, preprocessing\n",
    "for f in traindata.columns:\n",
    "    if traindata[f].dtype=='object':\n",
    "        print(f)\n",
    "        lbl = preprocessing.LabelEncoder()\n",
    "        lbl.fit(list(traindata[f].values.astype('str')))\n",
    "        traindata[f] = lbl.transform(list(traindata[f].values.astype('str')))"
   ]
  },
  {
   "cell_type": "code",
   "execution_count": 7,
   "metadata": {
    "collapsed": true
   },
   "outputs": [],
   "source": [
    "feature_cols = ['full_sq', 'life_sq', 'floor', 'max_floor', 'kitch_sq',\n",
    "               'kindergarten_km', 'school_km', 'park_km', 'green_zone_km', 'industrial_km',\n",
    "               'metro_min_avto', 'railroad_km','public_transport_station_km','sub_area',\n",
    "               'swim_pool_km','cemetery_km','public_healthcare_km','fitness_km','radiation_km',\n",
    "               'big_road1_km', 'theater_km','market_shop_km','ID_metro','hospice_morgue_km',\n",
    "               'metro_km_avto','ttk_km','church_synagogue_km','mosque_km','big_road2_km',\n",
    "               'water_km','green_part_1500',\n",
    "               'water_treatment_km','catering_km','university_km','big_church_km','shopping_centers_km',\n",
    "               'detention_facility_km','additional_education_km','preschool_km','zd_vokzaly_avto_km',\n",
    "               'power_transmission_line_km','area_m','workplaces_km']\n",
    "# target_column  = ['log_price_doc']\n",
    "target_column  = ['price_full']"
   ]
  },
  {
   "cell_type": "code",
   "execution_count": 8,
   "metadata": {
    "collapsed": false
   },
   "outputs": [],
   "source": [
    "X_data =  traindata[feature_cols]\n",
    "y_data =  traindata[target_column]\n",
    "X_testdata = testdata[feature_cols] # note this only for Kaggle and there is no y_testdata"
   ]
  },
  {
   "cell_type": "code",
   "execution_count": 9,
   "metadata": {
    "collapsed": false
   },
   "outputs": [
    {
     "name": "stdout",
     "output_type": "stream",
     "text": [
      "(29096, 43)\n",
      "(29096, 1)\n",
      "(7662, 43)\n"
     ]
    }
   ],
   "source": [
    "X_train = X_data.values\n",
    "Y_train = y_data.values\n",
    "X_test = X_testdata.values\n",
    "\n",
    "print(X_train.shape)\n",
    "print(Y_train.shape)\n",
    "print(X_test.shape)"
   ]
  },
  {
   "cell_type": "code",
   "execution_count": 29,
   "metadata": {
    "collapsed": false
   },
   "outputs": [
    {
     "name": "stdout",
     "output_type": "stream",
     "text": [
      "[0]\ttrain-rmse:139636\ttest-rmse:139643\n",
      "[50]\ttrain-rmse:36404.3\ttest-rmse:37806.5\n",
      "[100]\ttrain-rmse:32795.1\ttest-rmse:35529.7\n",
      "[150]\ttrain-rmse:31459.9\ttest-rmse:35223.5\n",
      "[200]\ttrain-rmse:30427.2\ttest-rmse:35077.1\n",
      "[250]\ttrain-rmse:29504.9\ttest-rmse:34998.6\n",
      "[300]\ttrain-rmse:28671.2\ttest-rmse:34940.5\n",
      "[350]\ttrain-rmse:27911.1\ttest-rmse:34885\n",
      "[400]\ttrain-rmse:27240.4\ttest-rmse:34864\n",
      "[450]\ttrain-rmse:26625.2\ttest-rmse:34856.5\n"
     ]
    }
   ],
   "source": [
    "xgb_params = {\n",
    "    'eta': 0.05,\n",
    "    'max_depth': 5,\n",
    "    'subsample': 0.7,\n",
    "   'colsample_bytree': 0.7,\n",
    "    'objective': 'reg:linear',\n",
    "    'eval_metric': 'rmse',\n",
    "    'silent': 0\n",
    "}\n",
    "\n",
    "\n",
    "dtrain = xgb.DMatrix(X_train,Y_train)\n",
    "dtest = xgb.DMatrix(X_test)\n",
    "\n",
    "cv_output = xgb.cv(xgb_params, dtrain, num_boost_round=1000, early_stopping_rounds=20,\n",
    "    verbose_eval=50, show_stdv=False)\n",
    "\n",
    "num_boost_rounds = len(cv_output)\n",
    "model = xgb.train(dict(xgb_params, silent=0), dtrain, num_boost_round= num_boost_rounds)"
   ]
  },
  {
   "cell_type": "code",
   "execution_count": 30,
   "metadata": {
    "collapsed": false
   },
   "outputs": [
    {
     "data": {
      "text/plain": [
       "(array([  2.07000000e+02,   1.81300000e+03,   2.63400000e+03,\n",
       "          2.31800000e+03,   5.40000000e+02,   1.03000000e+02,\n",
       "          2.90000000e+01,   1.40000000e+01,   2.00000000e+00,\n",
       "          2.00000000e+00]),\n",
       " array([  48255.0546875 ,   82515.63359375,  116776.2125    ,\n",
       "         151036.79140625,  185297.3703125 ,  219557.94921875,\n",
       "         253818.528125  ,  288079.10703125,  322339.6859375 ,\n",
       "         356600.26484375,  390860.84375   ]),\n",
       " <a list of 10 Patch objects>)"
      ]
     },
     "execution_count": 30,
     "metadata": {},
     "output_type": "execute_result"
    },
    {
     "data": {
      "image/png": "[encoded data removed]",
      "text/plain": [
       "<matplotlib.figure.Figure at 0x11219d2d0>"
      ]
     },
     "metadata": {},
     "output_type": "display_data"
    }
   ],
   "source": [
    "y_predict = model.predict(dtest)\n",
    "plt.hist(y_predict)"
   ]
  },
  {
   "cell_type": "code",
   "execution_count": 31,
   "metadata": {
    "collapsed": false
   },
   "outputs": [],
   "source": [
    "#y_predict_new =  np.exp(y_predict) - 1\n",
    "y_predict_new = y_predict * testdata.full_sq * 0.975\n",
    "output = pd.DataFrame({'id': id_test, 'price_doc': y_predict_new})"
   ]
  },
  {
   "cell_type": "code",
   "execution_count": 32,
   "metadata": {
    "collapsed": false
   },
   "outputs": [
    {
     "data": {
      "text/plain": [
       "(array([  5.02600000e+03,   2.22900000e+03,   2.97000000e+02,\n",
       "          6.90000000e+01,   1.90000000e+01,   9.00000000e+00,\n",
       "          7.00000000e+00,   3.00000000e+00,   1.00000000e+00,\n",
       "          2.00000000e+00]),\n",
       " array([  1966806.41015625,   7678553.04422578,  13390299.67829531,\n",
       "         19102046.31236484,  24813792.94643437,  30525539.5805039 ,\n",
       "         36237286.21457343,  41949032.84864296,  47660779.48271249,\n",
       "         53372526.11678202,  59084272.75085156]),\n",
       " <a list of 10 Patch objects>)"
      ]
     },
     "execution_count": 32,
     "metadata": {},
     "output_type": "execute_result"
    },
    {
     "data": {
      "image/png": "[encoded data removed]",
      "text/plain": [
       "<matplotlib.figure.Figure at 0x111f0d1d0>"
      ]
     },
     "metadata": {},
     "output_type": "display_data"
    }
   ],
   "source": [
    "plt.hist(y_predict_new)"
   ]
  },
  {
   "cell_type": "code",
   "execution_count": 34,
   "metadata": {
    "collapsed": false
   },
   "outputs": [
    {
     "name": "stdout",
     "output_type": "stream",
     "text": [
      "(7662, 2)\n"
     ]
    }
   ],
   "source": [
    "print output.shape\n",
    "output.to_csv('submission_xgb_05_30_17_newcolumns_FUDGE97.5.csv', index=False)"
   ]
  },
  {
   "cell_type": "code",
   "execution_count": null,
   "metadata": {
    "collapsed": true
   },
   "outputs": [],
   "source": []
  }
 ],
 "metadata": {
  "kernelspec": {
   "display_name": "Python [conda root]",
   "language": "python",
   "name": "conda-root-py"
  },
  "language_info": {
   "codemirror_mode": {
    "name": "ipython",
    "version": 2
   },
   "file_extension": ".py",
   "mimetype": "text/x-python",
   "name": "python",
   "nbconvert_exporter": "python",
   "pygments_lexer": "ipython2",
   "version": "2.7.12"
  }
 },
 "nbformat": 4,
 "nbformat_minor": 2
}
