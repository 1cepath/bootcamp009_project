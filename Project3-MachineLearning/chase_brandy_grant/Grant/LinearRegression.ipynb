{
 "cells": [
  {
   "cell_type": "code",
   "execution_count": 1,
   "metadata": {
    "collapsed": true
   },
   "outputs": [],
   "source": [
    "import pandas as pd\n",
    "from pandas.io.json import build_table_schema\n",
    "from pandas.plotting import scatter_matrix\n",
    "import seaborn as sns\n",
    "import numpy as np\n",
    "import scipy as sp\n",
    "import os\n",
    "import xgboost as xgb\n",
    "import visualization as vis\n",
    "import matplotlib.pyplot as plt\n",
    "import matplotlib\n",
    "import plot_improper_processing as plt_imp\n",
    "import time\n",
    "from operator import itemgetter\n",
    "import seaborn as sns\n",
    "%matplotlib inline\n",
    "\n",
    "DIR_PATH = './'"
   ]
  },
  {
   "cell_type": "code",
   "execution_count": 2,
   "metadata": {
    "collapsed": false
   },
   "outputs": [
    {
     "name": "stdout",
     "output_type": "stream",
     "text": [
      "247\n",
      "****************************************\n",
      "246\n"
     ]
    }
   ],
   "source": [
    "traindata  = pd.read_csv(\"./data/clean_train_only_complete_cols_chase.csv\")\n",
    "testdata = pd.read_csv(\"./data/clean_test_only_complete_cols_chase.csv\")\n",
    "print len(traindata.columns.values)\n",
    "print 40 * '*'\n",
    "print len(testdata.columns.values)"
   ]
  },
  {
   "cell_type": "code",
   "execution_count": 3,
   "metadata": {
    "collapsed": true
   },
   "outputs": [],
   "source": [
    "traindata.loc[:, 'log_price_doc'] = np.log(traindata['price_doc'] + 1)\n",
    "\n",
    "traindata.loc[:, 'year'] =  traindata.loc[:,'timestamp'].apply(lambda x: x[0:4])\n",
    "traindata.loc[:, 'month'] =  traindata.loc[:, 'timestamp'].apply(lambda x: x[5:7])\n",
    "testdata.loc[:, 'year'] = testdata.loc[:, 'timestamp'].apply(lambda x: x[0:4])\n",
    "testdata.loc[:, 'month'] = testdata.loc[:, 'timestamp'].apply(lambda x: x[0:4])"
   ]
  },
  {
   "cell_type": "code",
   "execution_count": 4,
   "metadata": {
    "collapsed": false
   },
   "outputs": [
    {
     "name": "stdout",
     "output_type": "stream",
     "text": [
      "timestamp\n",
      "product_type\n",
      "sub_area\n",
      "culture_objects_top_25\n",
      "thermal_power_plant_raion\n",
      "incineration_raion\n",
      "oil_chemistry_raion\n",
      "radiation_raion\n",
      "railroad_terminal_raion\n",
      "big_market_raion\n",
      "nuclear_reactor_raion\n",
      "detention_facility_raion\n",
      "water_1line\n",
      "big_road1_1line\n",
      "railroad_1line\n",
      "ecology\n",
      "okurg_district\n",
      "year\n",
      "month\n"
     ]
    }
   ],
   "source": [
    "from sklearn import model_selection, preprocessing\n",
    "for f in testdata.columns:\n",
    "    if testdata[f].dtype=='object':\n",
    "        print(f)\n",
    "        lbl = preprocessing.LabelEncoder()\n",
    "        lbl.fit(list(testdata[f].values.astype('str')))\n",
    "        testdata[f] = lbl.transform(list(testdata[f].values.astype('str')))"
   ]
  },
  {
   "cell_type": "code",
   "execution_count": 5,
   "metadata": {
    "collapsed": false
   },
   "outputs": [
    {
     "name": "stdout",
     "output_type": "stream",
     "text": [
      "timestamp\n",
      "product_type\n",
      "sub_area\n",
      "culture_objects_top_25\n",
      "thermal_power_plant_raion\n",
      "incineration_raion\n",
      "oil_chemistry_raion\n",
      "radiation_raion\n",
      "railroad_terminal_raion\n",
      "big_market_raion\n",
      "nuclear_reactor_raion\n",
      "detention_facility_raion\n",
      "water_1line\n",
      "big_road1_1line\n",
      "railroad_1line\n",
      "ecology\n",
      "okurg_district\n",
      "year\n",
      "month\n"
     ]
    }
   ],
   "source": [
    "from sklearn import model_selection, preprocessing\n",
    "for f in traindata.columns:\n",
    "    if traindata[f].dtype=='object':\n",
    "        print(f)\n",
    "        lbl = preprocessing.LabelEncoder()\n",
    "        lbl.fit(list(traindata[f].values.astype('str')))\n",
    "        traindata[f] = lbl.transform(list(traindata[f].values.astype('str')))"
   ]
  },
  {
   "cell_type": "code",
   "execution_count": 6,
   "metadata": {
    "collapsed": true
   },
   "outputs": [],
   "source": [
    "feature_cols = ['full_sq', 'life_sq', 'floor', 'max_floor', 'kitch_sq',\n",
    "               'kindergarten_km', 'school_km', 'park_km', 'green_zone_km', 'industrial_km',\n",
    "               'metro_min_avto', 'railroad_km','public_transport_station_km','sub_area',\n",
    "               'swim_pool_km','cemetery_km','public_healthcare_km','fitness_km','radiation_km',\n",
    "               'year','month']\n",
    "target_column  = ['log_price_doc']"
   ]
  },
  {
   "cell_type": "code",
   "execution_count": 7,
   "metadata": {
    "collapsed": true
   },
   "outputs": [],
   "source": [
    "X_data =  traindata[feature_cols]\n",
    "y_data =  traindata[target_column]\n",
    "X_testdata = testdata[feature_cols] # note this only for Kaggle and there is no y_testdata"
   ]
  },
  {
   "cell_type": "code",
   "execution_count": 8,
   "metadata": {
    "collapsed": false
   },
   "outputs": [
    {
     "name": "stdout",
     "output_type": "stream",
     "text": [
      "(29096, 21)\n",
      "(29096, 1)\n",
      "(7662, 21)\n"
     ]
    }
   ],
   "source": [
    "X_train = X_data.values\n",
    "Y_train = y_data.values\n",
    "X_test = X_testdata.values\n",
    "\n",
    "print(X_train.shape)\n",
    "print(Y_train.shape)\n",
    "print(X_test.shape)"
   ]
  },
  {
   "cell_type": "markdown",
   "metadata": {},
   "source": [
    "# Linear Regression (Information Leakage) "
   ]
  },
  {
   "cell_type": "code",
   "execution_count": 9,
   "metadata": {
    "collapsed": false
   },
   "outputs": [],
   "source": [
    "from sklearn.model_selection import GridSearchCV\n",
    "from sklearn.linear_model import Ridge\n",
    "from sklearn.preprocessing import MinMaxScaler, StandardScaler "
   ]
  },
  {
   "cell_type": "code",
   "execution_count": 10,
   "metadata": {
    "collapsed": true
   },
   "outputs": [],
   "source": [
    "xRid_train, xRid_test, yRid_train, yRid_test = model_selection.train_test_split(X_train,Y_train,random_state=42)"
   ]
  },
  {
   "cell_type": "code",
   "execution_count": 11,
   "metadata": {
    "collapsed": false
   },
   "outputs": [],
   "source": [
    "stdScaler = StandardScaler()\n",
    "stdScaler.fit(xRid_train)\n",
    "xRid_train_scaled = stdScaler.transform(xRid_train)\n",
    "xRid_test_scaled = stdScaler.transform(xRid_test)"
   ]
  },
  {
   "cell_type": "code",
   "execution_count": 12,
   "metadata": {
    "collapsed": false
   },
   "outputs": [
    {
     "data": {
      "text/plain": [
       "GridSearchCV(cv=5, error_score='raise',\n",
       "       estimator=Ridge(alpha=1.0, copy_X=True, fit_intercept=True, max_iter=None,\n",
       "   normalize=False, random_state=None, solver='auto', tol=0.001),\n",
       "       fit_params={}, iid=True, n_jobs=1,\n",
       "       param_grid={'alpha': [100, 10, 1, 0.1, 0.01, 0.001, 0.0001, 0]},\n",
       "       pre_dispatch='2*n_jobs', refit=True, return_train_score=True,\n",
       "       scoring=None, verbose=0)"
      ]
     },
     "execution_count": 12,
     "metadata": {},
     "output_type": "execute_result"
    }
   ],
   "source": [
    "param_grid = {'alpha': [100,10,1,0.1,0.01,0.001,0.0001,0]}\n",
    "grid =  GridSearchCV(Ridge(), param_grid, cv =5)\n",
    "grid.fit(xRid_train_scaled, yRid_train)"
   ]
  },
  {
   "cell_type": "code",
   "execution_count": 13,
   "metadata": {
    "collapsed": false
   },
   "outputs": [
    {
     "name": "stdout",
     "output_type": "stream",
     "text": [
      "Best parameters: {'alpha': 1}\n",
      "Best cross-validation score: 0.513\n"
     ]
    }
   ],
   "source": [
    "print(\"Best parameters: {}\".format(grid.best_params_))\n",
    "print(\"Best cross-validation score: {:.3f}\".format(grid.best_score_))"
   ]
  },
  {
   "cell_type": "code",
   "execution_count": 14,
   "metadata": {
    "collapsed": false
   },
   "outputs": [
    {
     "name": "stdout",
     "output_type": "stream",
     "text": [
      "The R^2 on the training set:  0.514034\n",
      "The R^2 on the test set:  0.535695\n"
     ]
    }
   ],
   "source": [
    "print(\"The R^2 on the training set:  {:.6f}\".format(grid.score(xRid_train_scaled, yRid_train)))\n",
    "print(\"The R^2 on the test set:  {:.6f}\".format(grid.score(xRid_test_scaled, yRid_test)))"
   ]
  },
  {
   "cell_type": "code",
   "execution_count": 15,
   "metadata": {
    "collapsed": false
   },
   "outputs": [
    {
     "data": {
      "text/plain": [
       "GridSearchCV(cv=5, error_score='raise',\n",
       "       estimator=Pipeline(steps=[('standardscaler', StandardScaler(copy=True, with_mean=True, with_std=True)), ('ridge', Ridge(alpha=1.0, copy_X=True, fit_intercept=True, max_iter=None,\n",
       "   normalize=False, random_state=None, solver='auto', tol=0.001))]),\n",
       "       fit_params={}, iid=True, n_jobs=1,\n",
       "       param_grid={'ridge__alpha': [100, 10, 1, 0.1, 0.01, 0.001, 0.0001, 0]},\n",
       "       pre_dispatch='2*n_jobs', refit=True, return_train_score=True,\n",
       "       scoring=None, verbose=0)"
      ]
     },
     "execution_count": 15,
     "metadata": {},
     "output_type": "execute_result"
    }
   ],
   "source": [
    "from sklearn.pipeline import make_pipeline \n",
    "pipe  =  make_pipeline(StandardScaler(), Ridge())\n",
    "param_grid = {'ridge__alpha': [100,10,1,0.1,0.01,0.001,0.0001,0]}\n",
    "grid_pipe =  GridSearchCV(pipe, param_grid, cv=5)\n",
    "grid_pipe.fit(xRid_train, yRid_train)"
   ]
  },
  {
   "cell_type": "code",
   "execution_count": 16,
   "metadata": {
    "collapsed": false
   },
   "outputs": [
    {
     "name": "stdout",
     "output_type": "stream",
     "text": [
      "Best parameters: {'ridge__alpha': 1}\n",
      "Best Cross-validation RMS: 0.513\n"
     ]
    }
   ],
   "source": [
    "print(\"Best parameters: {}\".format(grid_pipe.best_params_))\n",
    "print(\"Best Cross-validation RMS: {:.3f}\".format(grid_pipe.best_score_))\n",
    "#print(\"Test Best Score: {:.3f}\".format(grid.score(X_test, Y_test)))\n"
   ]
  },
  {
   "cell_type": "code",
   "execution_count": 17,
   "metadata": {
    "collapsed": false
   },
   "outputs": [
    {
     "name": "stdout",
     "output_type": "stream",
     "text": [
      "The R^2 on the training set:  -2.090784\n",
      "The R^2 on the test set:  -2.057073\n"
     ]
    }
   ],
   "source": [
    "print(\"The R^2 on the training set:  {:.6f}\".format(grid_pipe.score(xRid_train_scaled, yRid_train)))\n",
    "print(\"The R^2 on the test set:  {:.6f}\".format(grid_pipe.score(xRid_test_scaled, yRid_test)))"
   ]
  },
  {
   "cell_type": "code",
   "execution_count": 19,
   "metadata": {
    "collapsed": false
   },
   "outputs": [
    {
     "data": {
      "image/png": "[encoded data removed]",
      "text/plain": [
       "<matplotlib.figure.Figure at 0x110629b50>"
      ]
     },
     "metadata": {},
     "output_type": "display_data"
    }
   ],
   "source": [
    "plt_imp.plot_improper_processing()"
   ]
  },
  {
   "cell_type": "code",
   "execution_count": 21,
   "metadata": {
    "collapsed": false
   },
   "outputs": [
    {
     "data": {
      "image/png": "[encoded data removed]",
      "text/plain": [
       "<matplotlib.figure.Figure at 0x10fbe5850>"
      ]
     },
     "metadata": {},
     "output_type": "display_data"
    }
   ],
   "source": [
    "plt_imp.plot_proper_processing()"
   ]
  },
  {
   "cell_type": "code",
   "execution_count": null,
   "metadata": {
    "collapsed": true
   },
   "outputs": [],
   "source": []
  }
 ],
 "metadata": {
  "kernelspec": {
   "display_name": "Python [conda root]",
   "language": "python",
   "name": "conda-root-py"
  },
  "language_info": {
   "codemirror_mode": {
    "name": "ipython",
    "version": 2
   },
   "file_extension": ".py",
   "mimetype": "text/x-python",
   "name": "python",
   "nbconvert_exporter": "python",
   "pygments_lexer": "ipython2",
   "version": "2.7.12"
  }
 },
 "nbformat": 4,
 "nbformat_minor": 2
}
