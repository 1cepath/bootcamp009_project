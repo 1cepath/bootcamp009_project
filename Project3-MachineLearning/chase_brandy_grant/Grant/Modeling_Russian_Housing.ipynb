{
 "cells": [
  {
   "cell_type": "markdown",
   "metadata": {
    "collapsed": false
   },
   "source": [
    "## Some standard imports of libriaries "
   ]
  },
  {
   "cell_type": "code",
   "execution_count": 1,
   "metadata": {
    "collapsed": true
   },
   "outputs": [],
   "source": [
    "import pandas as pd\n",
    "from pandas.io.json import build_table_schema\n",
    "from pandas.plotting import scatter_matrix\n",
    "import seaborn as sns\n",
    "import numpy as np\n",
    "import scipy as sp\n",
    "import os\n",
    "import xgboost as xgb\n",
    "import visualization as vis\n",
    "import matplotlib.pyplot as plt\n",
    "import matplotlib\n",
    "%matplotlib inline\n",
    "\n",
    "DIR_PATH = './'"
   ]
  },
  {
   "cell_type": "markdown",
   "metadata": {},
   "source": [
    "## Columns/features currently in use"
   ]
  },
  {
   "cell_type": "code",
   "execution_count": 47,
   "metadata": {
    "collapsed": false
   },
   "outputs": [
    {
     "name": "stdout",
     "output_type": "stream",
     "text": [
      "['id' 'quarter' 'timestamp' 'price_doc' 'kremlin_km' 'full_sq' 'life_sq'\n",
      " 'floor' 'max_floor' 'sub_area' 'okurg_district']\n",
      "****************************************\n",
      "['id' 'timestamp' 'kremlin_km' 'full_sq' 'life_sq' 'kitch_sq' 'floor'\n",
      " 'max_floor' 'build_year' 'num_room' 'state' 'material' 'sub_area'\n",
      " 'okurg_district']\n"
     ]
    }
   ],
   "source": [
    "train  = pd.read_csv(\"clean_train_chase.csv\")\n",
    "test = pd.read_csv(\"clean_test_chase.csv\")\n",
    "print train.columns.values\n",
    "print 40 * '*'\n",
    "print test.columns.values"
   ]
  },
  {
   "cell_type": "code",
   "execution_count": 48,
   "metadata": {
    "collapsed": false
   },
   "outputs": [
    {
     "data": {
      "text/html": [
       "<div>\n",
       "<style>\n",
       "    .dataframe thead tr:only-child th {\n",
       "        text-align: right;\n",
       "    }\n",
       "\n",
       "    .dataframe thead th {\n",
       "        text-align: left;\n",
       "    }\n",
       "\n",
       "    .dataframe tbody tr th {\n",
       "        vertical-align: top;\n",
       "    }\n",
       "</style>\n",
       "<table border=\"1\" class=\"dataframe\">\n",
       "  <thead>\n",
       "    <tr style=\"text-align: right;\">\n",
       "      <th></th>\n",
       "      <th>id</th>\n",
       "      <th>quarter</th>\n",
       "      <th>timestamp</th>\n",
       "      <th>price_doc</th>\n",
       "      <th>kremlin_km</th>\n",
       "      <th>full_sq</th>\n",
       "      <th>life_sq</th>\n",
       "      <th>floor</th>\n",
       "      <th>max_floor</th>\n",
       "      <th>sub_area</th>\n",
       "      <th>okurg_district</th>\n",
       "    </tr>\n",
       "  </thead>\n",
       "  <tbody>\n",
       "    <tr>\n",
       "      <th>0</th>\n",
       "      <td>1</td>\n",
       "      <td>Q3-11</td>\n",
       "      <td>2011-08-20</td>\n",
       "      <td>5850000</td>\n",
       "      <td>15.156211</td>\n",
       "      <td>43.0</td>\n",
       "      <td>28.120000</td>\n",
       "      <td>4.0</td>\n",
       "      <td>5.0</td>\n",
       "      <td>Bibirevo</td>\n",
       "      <td>North Eastern</td>\n",
       "    </tr>\n",
       "    <tr>\n",
       "      <th>1</th>\n",
       "      <td>2</td>\n",
       "      <td>Q3-11</td>\n",
       "      <td>2011-08-23</td>\n",
       "      <td>6000000</td>\n",
       "      <td>8.698054</td>\n",
       "      <td>34.0</td>\n",
       "      <td>19.000000</td>\n",
       "      <td>3.0</td>\n",
       "      <td>9.0</td>\n",
       "      <td>Nagatinskij Zaton</td>\n",
       "      <td>Southern</td>\n",
       "    </tr>\n",
       "    <tr>\n",
       "      <th>2</th>\n",
       "      <td>3</td>\n",
       "      <td>Q3-11</td>\n",
       "      <td>2011-08-27</td>\n",
       "      <td>5700000</td>\n",
       "      <td>9.067885</td>\n",
       "      <td>43.0</td>\n",
       "      <td>29.000000</td>\n",
       "      <td>2.0</td>\n",
       "      <td>5.0</td>\n",
       "      <td>Tekstil'shhiki</td>\n",
       "      <td>South Eastern</td>\n",
       "    </tr>\n",
       "    <tr>\n",
       "      <th>3</th>\n",
       "      <td>4</td>\n",
       "      <td>Q3-11</td>\n",
       "      <td>2011-09-01</td>\n",
       "      <td>13100000</td>\n",
       "      <td>19.487005</td>\n",
       "      <td>89.0</td>\n",
       "      <td>67.522222</td>\n",
       "      <td>9.0</td>\n",
       "      <td>17.0</td>\n",
       "      <td>Mitino</td>\n",
       "      <td>North Western</td>\n",
       "    </tr>\n",
       "    <tr>\n",
       "      <th>4</th>\n",
       "      <td>5</td>\n",
       "      <td>Q3-11</td>\n",
       "      <td>2011-09-05</td>\n",
       "      <td>16331452</td>\n",
       "      <td>2.578671</td>\n",
       "      <td>77.0</td>\n",
       "      <td>70.777778</td>\n",
       "      <td>4.0</td>\n",
       "      <td>8.0</td>\n",
       "      <td>Basmannoe</td>\n",
       "      <td>Central</td>\n",
       "    </tr>\n",
       "  </tbody>\n",
       "</table>\n",
       "</div>"
      ],
      "text/plain": [
       "   id quarter   timestamp  price_doc  kremlin_km  full_sq    life_sq  floor  \\\n",
       "0   1   Q3-11  2011-08-20    5850000   15.156211     43.0  28.120000    4.0   \n",
       "1   2   Q3-11  2011-08-23    6000000    8.698054     34.0  19.000000    3.0   \n",
       "2   3   Q3-11  2011-08-27    5700000    9.067885     43.0  29.000000    2.0   \n",
       "3   4   Q3-11  2011-09-01   13100000   19.487005     89.0  67.522222    9.0   \n",
       "4   5   Q3-11  2011-09-05   16331452    2.578671     77.0  70.777778    4.0   \n",
       "\n",
       "   max_floor           sub_area  okurg_district  \n",
       "0        5.0           Bibirevo  North Eastern   \n",
       "1        9.0  Nagatinskij Zaton       Southern   \n",
       "2        5.0     Tekstil'shhiki  South Eastern   \n",
       "3       17.0             Mitino  North Western   \n",
       "4        8.0          Basmannoe        Central   "
      ]
     },
     "execution_count": 48,
     "metadata": {},
     "output_type": "execute_result"
    }
   ],
   "source": [
    "train.head()"
   ]
  },
  {
   "cell_type": "markdown",
   "metadata": {},
   "source": [
    "## The datatypes for each column"
   ]
  },
  {
   "cell_type": "code",
   "execution_count": 49,
   "metadata": {
    "collapsed": false
   },
   "outputs": [
    {
     "data": {
      "text/plain": [
       "{dtype('int64'): Index([u'id', u'price_doc'], dtype='object'),\n",
       " dtype('float64'): Index([u'kremlin_km', u'full_sq', u'life_sq', u'floor', u'max_floor'], dtype='object'),\n",
       " dtype('O'): Index([u'quarter', u'timestamp', u'sub_area', u'okurg_district'], dtype='object')}"
      ]
     },
     "execution_count": 49,
     "metadata": {},
     "output_type": "execute_result"
    }
   ],
   "source": [
    "g = train.columns.to_series().groupby(train.dtypes).groups\n",
    "g"
   ]
  },
  {
   "cell_type": "code",
   "execution_count": 50,
   "metadata": {
    "collapsed": false
   },
   "outputs": [
    {
     "name": "stdout",
     "output_type": "stream",
     "text": [
      "(29098, 11)\n",
      "(7662, 14)\n"
     ]
    }
   ],
   "source": [
    "print train.shape\n",
    "print test.shape"
   ]
  },
  {
   "cell_type": "code",
   "execution_count": 51,
   "metadata": {
    "collapsed": false
   },
   "outputs": [],
   "source": [
    "## some simple feauture engineering from Shu. \n",
    "train.loc[:, 'log_price_doc'] = np.log(train['price_doc'] + 1)\n",
    "\n",
    "train.loc[:, 'year'] =  train.loc[:,'timestamp'].apply(lambda x: x[0:4])\n",
    "train.loc[:, 'month'] =  train.loc[:, 'timestamp'].apply(lambda x: x[5:7])\n",
    "test.loc[:, 'year'] = test.loc[:, 'timestamp'].apply(lambda x: x[0:4])\n",
    "test.loc[:, 'month'] = test.loc[:, 'timestamp'].apply(lambda x: x[0:4])\n"
   ]
  },
  {
   "cell_type": "code",
   "execution_count": 52,
   "metadata": {
    "collapsed": false
   },
   "outputs": [],
   "source": [
    "train.drop([\"id\", \"timestamp\", \"price_doc\",\"quarter\"], axis=1, inplace= True)\n",
    "test.drop([\"id\", \"timestamp\"], axis =1, inplace=True)"
   ]
  },
  {
   "cell_type": "code",
   "execution_count": 53,
   "metadata": {
    "collapsed": false
   },
   "outputs": [
    {
     "name": "stdout",
     "output_type": "stream",
     "text": [
      "['quarter' 'kremlin_km' 'full_sq' 'life_sq' 'floor' 'max_floor' 'sub_area'\n",
      " 'okurg_district' 'log_price_doc' 'year' 'month']\n",
      "****************************************\n",
      "['kremlin_km' 'full_sq' 'life_sq' 'kitch_sq' 'floor' 'max_floor'\n",
      " 'build_year' 'num_room' 'state' 'material' 'sub_area' 'okurg_district'\n",
      " 'year' 'month']\n"
     ]
    }
   ],
   "source": [
    "print train.columns.values\n",
    "print 40 * '*'\n",
    "print test.columns.values"
   ]
  },
  {
   "cell_type": "code",
   "execution_count": 7,
   "metadata": {
    "collapsed": false
   },
   "outputs": [
    {
     "name": "stdout",
     "output_type": "stream",
     "text": [
      "product_type\n",
      "sub_area\n",
      "okurg_district\n",
      "year\n",
      "month\n"
     ]
    }
   ],
   "source": [
    "from sklearn import model_selection, preprocessing\n",
    "for f in train.columns:\n",
    "    if train[f].dtype=='object':\n",
    "        print(f)\n",
    "        lbl = preprocessing.LabelEncoder()\n",
    "        lbl.fit(list(train[f].values.astype('str')))\n",
    "        train[f] = lbl.transform(list(train[f].values.astype('str')))"
   ]
  },
  {
   "cell_type": "code",
   "execution_count": 8,
   "metadata": {
    "collapsed": false
   },
   "outputs": [
    {
     "name": "stdout",
     "output_type": "stream",
     "text": [
      "product_type\n",
      "sub_area\n",
      "okurg_district\n",
      "year\n",
      "month\n"
     ]
    }
   ],
   "source": [
    "from sklearn import model_selection, preprocessing\n",
    "for f in test.columns:\n",
    "    if test[f].dtype=='object':\n",
    "        print(f)\n",
    "        lbl = preprocessing.LabelEncoder()\n",
    "        lbl.fit(list(test[f].values.astype('str')))\n",
    "        test[f] = lbl.transform(list(test[f].values.astype('str')))"
   ]
  },
  {
   "cell_type": "code",
   "execution_count": 9,
   "metadata": {
    "collapsed": false
   },
   "outputs": [
    {
     "name": "stdout",
     "output_type": "stream",
     "text": [
      "['full_sq' 'floor' 'max_floor' 'product_type' 'sub_area' 'metro_min_walk'\n",
      " 'kindergarten_km' 'park_km' 'kremlin_km' 'oil_chemistry_km'\n",
      " 'nuclear_reactor_km' 'big_market_km' 'market_shop_km'\n",
      " 'detention_facility_km' 'public_healthcare_km' 'university_km'\n",
      " 'workplaces_km' 'preschool_km' 'big_church_km' 'okurg_district'\n",
      " 'pop_density' 'elder_ratio' 'youth_ratio' 'floor_ratio' 'year' 'month'\n",
      " 'oil_urals' 'cpi' 'eurrub' 'average_provision_of_build_contract_moscow'\n",
      " 'micex' 'mortgage_rate' 'rent_price_4+room_bus' 'sd_oil_yearly'\n",
      " 'sd_cpi_yearly' 'sd_eurrub_yearly' 'sd_micex_yearly' 'sd_mortgage_yearly'\n",
      " 'sd_rent_yearly' 'log_price_doc']\n",
      "The number of columns after slight feature engineering is 40.00\n"
     ]
    }
   ],
   "source": [
    "print train.columns.values\n",
    "print(\"The number of columns after slight feature engineering is {:.2f}\".format(len(list(train.columns.values))))"
   ]
  },
  {
   "cell_type": "code",
   "execution_count": 10,
   "metadata": {
    "collapsed": false,
    "scrolled": true
   },
   "outputs": [
    {
     "data": {
      "text/plain": [
       "{dtype('int64'): Index([u'full_sq', u'floor', u'product_type', u'sub_area', u'okurg_district',\n",
       "        u'year', u'month'],\n",
       "       dtype='object'),\n",
       " dtype('float64'): Index([u'max_floor', u'metro_min_walk', u'kindergarten_km', u'park_km',\n",
       "        u'kremlin_km', u'oil_chemistry_km', u'nuclear_reactor_km',\n",
       "        u'big_market_km', u'market_shop_km', u'detention_facility_km',\n",
       "        u'public_healthcare_km', u'university_km', u'workplaces_km',\n",
       "        u'preschool_km', u'big_church_km', u'pop_density', u'elder_ratio',\n",
       "        u'youth_ratio', u'floor_ratio', u'oil_urals', u'cpi', u'eurrub',\n",
       "        u'average_provision_of_build_contract_moscow', u'micex',\n",
       "        u'mortgage_rate', u'rent_price_4+room_bus', u'sd_oil_yearly',\n",
       "        u'sd_cpi_yearly', u'sd_eurrub_yearly', u'sd_micex_yearly',\n",
       "        u'sd_mortgage_yearly', u'sd_rent_yearly', u'log_price_doc'],\n",
       "       dtype='object')}"
      ]
     },
     "execution_count": 10,
     "metadata": {},
     "output_type": "execute_result"
    }
   ],
   "source": [
    "g = train.columns.to_series().groupby(train.dtypes).groups\n",
    "g# The year is a float and maybe it should be a categorical variable. "
   ]
  },
  {
   "cell_type": "code",
   "execution_count": 21,
   "metadata": {
    "collapsed": false
   },
   "outputs": [
    {
     "name": "stdout",
     "output_type": "stream",
     "text": [
      "(30142, 8)\n",
      "(30142,)\n",
      "(7662, 8)\n"
     ]
    }
   ],
   "source": [
    "# model_features  = ['full_sq', 'life_sq', 'floor', 'build_year',\n",
    "#                    'max_floor', 'kitch_sq', 'num_room', 'state', 'kindergarten_km',\n",
    "#                    'green_zone_km', 'school_km', 'metro_min_avto',\n",
    "#                    'public_healthcare_km', 'industrial_km',\n",
    "#                    'metro_min_walk', 'railroad_km', 'swim_pool_km', 'material',\n",
    "#                    'sub_area_le']\n",
    "\n",
    "# model_features_noMissing = ['full_sq','kindergarten_km','green_zone_km', 'school_km', 'metro_min_avto',\n",
    "#                             'public_healthcare_km', 'industrial_km', 'railroad_km', 'swim_pool_km','sub_area_le',\n",
    "#                             'year','month']\n",
    "\n",
    "model_features_noMissing = ['full_sq', \n",
    "                            'floor', \n",
    "                            'max_floor', \n",
    "                            'product_type', \n",
    "                            'sub_area',\n",
    "                            'metro_min_walk',\n",
    "                            'kindergarten_km',\n",
    "                            'park_km',\n",
    "                            'kremlin_km',\n",
    "                            'oil_chemistry_km',\n",
    "                            'nuclear_reactor_km',\n",
    "                            'big_market_km',\n",
    "                            'market_shop_km',\n",
    "                            'detention_facility_km',\n",
    "                            'public_healthcare_km',\n",
    "                            'university_km',\n",
    "                            'workplaces_km',\n",
    "                            'preschool_km',\n",
    "                            'big_church_km',\n",
    "                            'okurg_district',\n",
    "                            'pop_density',\n",
    "                            'elder_ratio',\n",
    "                            'youth_ratio',\n",
    "                            'floor_ratio',\n",
    "                            'year',\n",
    "                            'month',\n",
    "                            'oil_urals',\n",
    "                            'cpi',\n",
    "                            'eurrub',\n",
    "                            'average_provision_of_build_contract_moscow',\n",
    "                            'micex', 'mortgage_rate', 'rent_price_4+room_bus', 'sd_oil_yearly',\n",
    "                            'sd_cpi_yearly', 'sd_eurrub_yearly', 'sd_micex_yearly', 'sd_mortgage_yearly',\n",
    "                            'sd_rent_yearly']\n",
    "# top 8\n",
    "#f0, f8, f6, f5, f11, f10, f14, f16\n",
    "model_features_noMissing = ['full_sq', #0\n",
    "                            'metro_min_walk', #5\n",
    "                            'kindergarten_km', #6\n",
    "                            'kremlin_km', #8\n",
    "                            'nuclear_reactor_km', # 10\n",
    "                            'big_market_km', #11\n",
    "                            'public_healthcare_km', # 14\n",
    "                            'workplaces_km',#16\n",
    "                           ]\n",
    "\n",
    "\n",
    "'full_sq'"
   ]
  },
  {
   "cell_type": "code",
   "execution_count": null,
   "metadata": {
    "collapsed": true
   },
   "outputs": [],
   "source": [
    "X_train = train[model_features_noMissing].values\n",
    "Y_train = train['log_price_doc'].values\n",
    "X_test = test[model_features_noMissing].values\n",
    "\n",
    "print(X_train.shape)\n",
    "print(Y_train.shape)\n",
    "print(X_test.shape)"
   ]
  },
  {
   "cell_type": "code",
   "execution_count": 22,
   "metadata": {
    "collapsed": false
   },
   "outputs": [
    {
     "name": "stdout",
     "output_type": "stream",
     "text": [
      "['full_sq' 'metro_min_walk' 'kindergarten_km' 'kremlin_km'\n",
      " 'nuclear_reactor_km' 'big_market_km' 'public_healthcare_km'\n",
      " 'workplaces_km']\n"
     ]
    }
   ],
   "source": [
    "print  train[model_features_noMissing].columns.values"
   ]
  },
  {
   "cell_type": "markdown",
   "metadata": {},
   "source": [
    "# Checking that we are no longer using missing data"
   ]
  },
  {
   "cell_type": "code",
   "execution_count": 23,
   "metadata": {
    "collapsed": false
   },
   "outputs": [
    {
     "data": {
      "image/png": "[encoded data removed]",
      "text/plain": [
       "<matplotlib.figure.Figure at 0x110903dd0>"
      ]
     },
     "metadata": {},
     "output_type": "display_data"
    },
    {
     "data": {
      "text/plain": [
       "array([], dtype=object)"
      ]
     },
     "execution_count": 23,
     "metadata": {},
     "output_type": "execute_result"
    }
   ],
   "source": [
    "# list_of_num_features = ['floor', 'metro_min_walk', 'kindergarten_km', 'park_km',\n",
    "#         'kremlin_km', 'oil_chemistry_km', 'nuclear_reactor_km',\n",
    "#         'big_market_km', 'market_shop_km', 'detention_facility_km',\n",
    "#         'public_healthcare_km', 'university_km', 'workplaces_km',\n",
    "#         'preschool_km', 'big_church_km', 'oil_urals', 'cpi', 'ppi',\n",
    "#         'eurrub', 'brent', 'average_provision_of_build_contract_moscow',\n",
    "#         'micex', 'mortgage_rate', 'rent_price_4+room_bus', 'sd_oil_yearly',\n",
    "#         'sd_cpi_yearly', 'sd_ppi_yearly', 'sd_eurrub_yearly',\n",
    "#         'sd_brent_yearly', 'sd_micex_yearly', 'sd_mortgage_yearly',\n",
    "#         'sd_rent_yearly', 'sq_metr', 'pop_density', 'elder_ratio',\n",
    "#         'youth_ratio']\n",
    "\n",
    "list_of_num_features =  ['full_sq', \n",
    "                            'floor', \n",
    "                            'max_floor', \n",
    "                            'product_type', \n",
    "                            'sub_area',\n",
    "                            'metro_min_walk',\n",
    "                            'kindergarten_km',\n",
    "                            'park_km',\n",
    "                            'kremlin_km',\n",
    "                            'oil_chemistry_km',\n",
    "                            'nuclear_reactor_km',\n",
    "                            'big_market_km',\n",
    "                            'market_shop_km',\n",
    "                            'detention_facility_km',\n",
    "                            'public_healthcare_km',\n",
    "                            'university_km',\n",
    "                            'workplaces_km',\n",
    "                            'preschool_km',\n",
    "                            'big_church_km',\n",
    "                            'okurg_district',\n",
    "                            'pop_density',\n",
    "                            'elder_ratio',\n",
    "                            'youth_ratio',\n",
    "                            'floor_ratio',\n",
    "                            'year',\n",
    "                            'month',\n",
    "                            'oil_urals',\n",
    "                            'cpi',\n",
    "                            'eurrub',\n",
    "                            'average_provision_of_build_contract_moscow',\n",
    "                            'micex', 'mortgage_rate', 'rent_price_4+room_bus', 'sd_oil_yearly',\n",
    "                            'sd_cpi_yearly', 'sd_eurrub_yearly', 'sd_micex_yearly', 'sd_mortgage_yearly',\n",
    "                            'sd_rent_yearly']\n",
    "\n",
    "missing_df = train[list_of_num_features].isnull().sum(axis=0).reset_index()\n",
    "\n",
    "\n",
    "missing_df.columns = ['column_name', 'missing_count']\n",
    "missing_df = missing_df.loc[missing_df['missing_count'] > 0]\n",
    "ind = np.arange(missing_df.shape[0])\n",
    "width =  0.9 \n",
    "fig, ax = plt.subplots(figsize=(8,10))\n",
    "rects = ax.barh(ind, missing_df.missing_count.values, color ='y')\n",
    "ax.set_yticks(ind)\n",
    "ax.set_yticklabels(missing_df.column_name.values, rotation='horizontal')\n",
    "ax.set_xlabel(\"Count of missing values\")\n",
    "ax.set_title(\"Number of missing values in each column\")\n",
    "plt.show()\n",
    "missing_df.loc[:,'column_name'].values"
   ]
  },
  {
   "cell_type": "markdown",
   "metadata": {},
   "source": [
    "## Modelling:\n",
    "### Here we go! The first model of interest is the Random Forest. \n",
    "### We want to use this first, since we have't scaled the features (yet) and they don't require heavy tuning.\n",
    "### Note: Will go back to use simple Decision Tree, because we want to have some representation of the decision making. BOOM!\n",
    "\n",
    "### The important features to adjust are n_estimators, max_features, and max depth. For n_estimators larger is always better.  Smaller max_features reduces overfitting.\n",
    "\n",
    "### Empirical good default values are max_features=n_features for regression problems\n",
    "\n",
    "\n"
   ]
  },
  {
   "cell_type": "code",
   "execution_count": 24,
   "metadata": {
    "collapsed": false
   },
   "outputs": [],
   "source": [
    "from sklearn.tree import DecisionTreeRegressor \n",
    "tree = DecisionTreeRegressor().fit(X_train, Y_train)"
   ]
  },
  {
   "cell_type": "code",
   "execution_count": 25,
   "metadata": {
    "collapsed": false
   },
   "outputs": [
    {
     "data": {
      "text/plain": [
       "(array([   17.,    14.,   318.,   367.,   810.,  3278.,  2274.,   486.,\n",
       "           84.,    14.]),\n",
       " array([ 12.46844076,  13.02773789,  13.58703502,  14.14633215,\n",
       "         14.70562928,  15.2649264 ,  15.82422353,  16.38352066,\n",
       "         16.94281779,  17.50211492,  18.06141205]),\n",
       " <a list of 10 Patch objects>)"
      ]
     },
     "execution_count": 25,
     "metadata": {},
     "output_type": "execute_result"
    },
    {
     "data": {
      "image/png": "[encoded data removed]",
      "text/plain": [
       "<matplotlib.figure.Figure at 0x110a2ed10>"
      ]
     },
     "metadata": {},
     "output_type": "display_data"
    }
   ],
   "source": [
    "log_y_test = tree.predict(X_test)\n",
    "plt.hist(log_y_test)"
   ]
  },
  {
   "cell_type": "code",
   "execution_count": 26,
   "metadata": {
    "collapsed": false
   },
   "outputs": [
    {
     "name": "stdout",
     "output_type": "stream",
     "text": [
      "The R^2 on the training set:  0.957587\n"
     ]
    }
   ],
   "source": [
    "print(\"The R^2 on the training set:  {:.6f}\".format(tree.score(X_train, Y_train)))"
   ]
  },
  {
   "cell_type": "code",
   "execution_count": 28,
   "metadata": {
    "collapsed": false
   },
   "outputs": [],
   "source": [
    "from sklearn.ensemble import RandomForestRegressor"
   ]
  },
  {
   "cell_type": "code",
   "execution_count": 29,
   "metadata": {
    "collapsed": false
   },
   "outputs": [
    {
     "name": "stdout",
     "output_type": "stream",
     "text": [
      "8\n"
     ]
    },
    {
     "data": {
      "text/plain": [
       "RandomForestRegressor(bootstrap=True, criterion='mse', max_depth=None,\n",
       "           max_features=8, max_leaf_nodes=None, min_impurity_split=1e-07,\n",
       "           min_samples_leaf=1, min_samples_split=2,\n",
       "           min_weight_fraction_leaf=0.0, n_estimators=600, n_jobs=1,\n",
       "           oob_score=False, random_state=2, verbose=0, warm_start=False)"
      ]
     },
     "execution_count": 29,
     "metadata": {},
     "output_type": "execute_result"
    }
   ],
   "source": [
    "n_features = X_train.shape[1] # Random Forest cannot handle missing data\n",
    "print n_features\n",
    "forest = RandomForestRegressor(n_estimators=600, random_state= 2, max_features=n_features)\n",
    "forest.fit(X_train, Y_train) \n"
   ]
  },
  {
   "cell_type": "code",
   "execution_count": 30,
   "metadata": {
    "collapsed": false
   },
   "outputs": [
    {
     "data": {
      "text/plain": [
       "array([ 16.06426923,  15.21584189,  15.58166778, ...,  14.90191561,\n",
       "        15.0916952 ,  15.72553977])"
      ]
     },
     "execution_count": 30,
     "metadata": {},
     "output_type": "execute_result"
    }
   ],
   "source": [
    "import math \n",
    "log_y_test = forest.predict(X_test)\n",
    "log_y_test"
   ]
  },
  {
   "cell_type": "code",
   "execution_count": 31,
   "metadata": {
    "collapsed": false
   },
   "outputs": [
    {
     "data": {
      "text/plain": [
       "(array([   60.,   248.,   896.,  2642.,  2315.,  1045.,   333.,    88.,\n",
       "           26.,     9.]),\n",
       " array([ 14.19507983,  14.54246897,  14.88985811,  15.23724725,\n",
       "         15.5846364 ,  15.93202554,  16.27941468,  16.62680383,\n",
       "         16.97419297,  17.32158211,  17.66897125]),\n",
       " <a list of 10 Patch objects>)"
      ]
     },
     "execution_count": 31,
     "metadata": {},
     "output_type": "execute_result"
    },
    {
     "data": {
      "image/png": "[encoded data removed]",
      "text/plain": [
       "<matplotlib.figure.Figure at 0x12ff8f6d0>"
      ]
     },
     "metadata": {},
     "output_type": "display_data"
    }
   ],
   "source": [
    "plt.hist(log_y_test)"
   ]
  },
  {
   "cell_type": "code",
   "execution_count": 32,
   "metadata": {
    "collapsed": false
   },
   "outputs": [
    {
     "name": "stdout",
     "output_type": "stream",
     "text": [
      "The R^2 on the training set:  0.881989\n"
     ]
    }
   ],
   "source": [
    "print(\"The R^2 on the training set:  {:.6f}\".format(forest.score(X_train, Y_train)))"
   ]
  },
  {
   "cell_type": "markdown",
   "metadata": {},
   "source": [
    "## The R^2 on the training set:  0.878585 (only features with no missing data) \n",
    "## The R^2 on the training set:  0.911619 with the year and month added as features\n"
   ]
  },
  {
   "cell_type": "code",
   "execution_count": 33,
   "metadata": {
    "collapsed": false
   },
   "outputs": [],
   "source": [
    "y_pred = np.exp(log_y_test) - 1"
   ]
  },
  {
   "cell_type": "code",
   "execution_count": 34,
   "metadata": {
    "collapsed": true
   },
   "outputs": [],
   "source": [
    "submit = pd.DataFrame({'id': np.array(test.index)+30474, 'price_doc': y_pred})\n",
    "submit.to_csv('submissionRF_05_25_17.csv', index=False)"
   ]
  },
  {
   "cell_type": "markdown",
   "metadata": {},
   "source": [
    "# XGBoost"
   ]
  },
  {
   "cell_type": "code",
   "execution_count": 35,
   "metadata": {
    "collapsed": false
   },
   "outputs": [
    {
     "name": "stdout",
     "output_type": "stream",
     "text": [
      "[0]\ttrain-rmse:14.367\ttest-rmse:14.367\n",
      "[50]\ttrain-rmse:1.20751\ttest-rmse:1.21012\n",
      "[100]\ttrain-rmse:0.467767\ttest-rmse:0.484432\n",
      "[150]\ttrain-rmse:0.44952\ttest-rmse:0.474975\n",
      "[200]\ttrain-rmse:0.440562\ttest-rmse:0.473865\n",
      "[250]\ttrain-rmse:0.433204\ttest-rmse:0.473344\n",
      "[300]\ttrain-rmse:0.425772\ttest-rmse:0.472902\n",
      "[350]\ttrain-rmse:0.418756\ttest-rmse:0.472777\n"
     ]
    }
   ],
   "source": [
    "xgb_params = {\n",
    "    'eta': 0.05,\n",
    "    'max_depth': 5,\n",
    "    'subsample': 0.7,\n",
    "   'colsample_bytree': 0.7,\n",
    "    'objective': 'reg:linear',\n",
    "    'eval_metric': 'rmse',\n",
    "    'silent': 0\n",
    "}\n",
    "\n",
    "\n",
    "\n",
    "dtrain = xgb.DMatrix(X_train,Y_train)\n",
    "dtest = xgb.DMatrix(X_test)\n",
    "\n",
    "cv_output = xgb.cv(xgb_params, dtrain, num_boost_round=1000, early_stopping_rounds=20,\n",
    "    verbose_eval=50, show_stdv=False)\n",
    "\n",
    "num_boost_rounds = len(cv_output)\n",
    "model = xgb.train(dict(xgb_params, silent=0), dtrain, num_boost_round= num_boost_rounds)\n",
    "\n"
   ]
  },
  {
   "cell_type": "code",
   "execution_count": 36,
   "metadata": {
    "collapsed": false
   },
   "outputs": [
    {
     "data": {
      "image/png": "[encoded data removed]",
      "text/plain": [
       "<matplotlib.figure.Figure at 0x169c54f50>"
      ]
     },
     "metadata": {},
     "output_type": "display_data"
    }
   ],
   "source": [
    "fig, ax = plt.subplots(figsize=(12,18))\n",
    "xgb.plot_importance(model, max_num_features=20, height=0.8, ax=ax)\n",
    "\n",
    "#f0, f8, f6, f5, f11, f10, f14, f16\n",
    "plt.show()"
   ]
  },
  {
   "cell_type": "code",
   "execution_count": 38,
   "metadata": {
    "collapsed": false
   },
   "outputs": [
    {
     "data": {
      "text/plain": [
       "(array([  128.,   512.,  2102.,  2777.,  1370.,   527.,   151.,    65.,\n",
       "           23.,     7.]),\n",
       " array([ 14.55560684,  14.8658514 ,  15.17609596,  15.48634052,\n",
       "         15.79658508,  16.10682964,  16.4170742 ,  16.72731876,\n",
       "         17.03756332,  17.34780788,  17.65805244]),\n",
       " <a list of 10 Patch objects>)"
      ]
     },
     "execution_count": 38,
     "metadata": {},
     "output_type": "execute_result"
    },
    {
     "data": {
      "image/png": "[encoded data removed]",
      "text/plain": [
       "<matplotlib.figure.Figure at 0x111306950>"
      ]
     },
     "metadata": {},
     "output_type": "display_data"
    }
   ],
   "source": [
    "y_predict = model.predict(dtest)\n",
    "plt.hist(y_predict)"
   ]
  },
  {
   "cell_type": "code",
   "execution_count": 39,
   "metadata": {
    "collapsed": false
   },
   "outputs": [
    {
     "data": {
      "text/plain": [
       "array([ 10281108.  ,   4247753.  ,   8158000.5 , ...,   2802053.25,\n",
       "         3539301.  ,   6404240.5 ], dtype=float32)"
      ]
     },
     "execution_count": 39,
     "metadata": {},
     "output_type": "execute_result"
    }
   ],
   "source": [
    "np.exp(y_predict) - 1 "
   ]
  },
  {
   "cell_type": "code",
   "execution_count": 40,
   "metadata": {
    "collapsed": false
   },
   "outputs": [],
   "source": [
    "y_predict_new =  np.exp(y_predict) - 1\n",
    "output = pd.DataFrame({'id': np.array(test.index)+30474, 'price_doc': y_predict_new})"
   ]
  },
  {
   "cell_type": "code",
   "execution_count": 41,
   "metadata": {
    "collapsed": false
   },
   "outputs": [
    {
     "data": {
      "text/plain": [
       "(7662, 2)"
      ]
     },
     "execution_count": 41,
     "metadata": {},
     "output_type": "execute_result"
    }
   ],
   "source": [
    "output.shape"
   ]
  },
  {
   "cell_type": "code",
   "execution_count": 42,
   "metadata": {
    "collapsed": false
   },
   "outputs": [],
   "source": [
    "output.to_csv('submission_xgb_05_25_17.csv', index=False)"
   ]
  },
  {
   "cell_type": "code",
   "execution_count": 45,
   "metadata": {
    "collapsed": true
   },
   "outputs": [],
   "source": [
    "# Lasso Regression: Do we need CV for feature selection"
   ]
  },
  {
   "cell_type": "markdown",
   "metadata": {},
   "source": [
    "## Ridge Regression:  \n",
    "### L2. So we are wanting learn two things from this model. 1) Implement a cross-validation 5-fold method to determine the coffiecient lambda/alpha. 2) Scale that data down!  We need to have all the features on the same scale. Let's get to work! "
   ]
  },
  {
   "cell_type": "code",
   "execution_count": 43,
   "metadata": {
    "collapsed": false
   },
   "outputs": [],
   "source": [
    "from sklearn.model_selection import GridSearchCV\n",
    "from sklearn.linear_model import Ridge\n",
    "from sklearn.preprocessing import MinMaxScaler # All the features will be between 0 and 1 "
   ]
  },
  {
   "cell_type": "code",
   "execution_count": 44,
   "metadata": {
    "collapsed": false
   },
   "outputs": [
    {
     "data": {
      "text/plain": [
       "MinMaxScaler(copy=True, feature_range=(0, 1))"
      ]
     },
     "execution_count": 44,
     "metadata": {},
     "output_type": "execute_result"
    }
   ],
   "source": [
    "#Currently we don't have that many variables 12 and we are probably not overfitting. \n",
    "\n",
    "#Scaling it!\n",
    "scaler = MinMaxScaler() \n",
    "scaler.fit(X_train)"
   ]
  },
  {
   "cell_type": "code",
   "execution_count": 45,
   "metadata": {
    "collapsed": false
   },
   "outputs": [],
   "source": [
    "X_train_scaled = scaler.transform(X_train)"
   ]
  },
  {
   "cell_type": "code",
   "execution_count": 46,
   "metadata": {
    "collapsed": false
   },
   "outputs": [
    {
     "name": "stdout",
     "output_type": "stream",
     "text": [
      "transformed shape (30142, 39)\n",
      "per-feature minimum before scaling [  1.00000000e+01   1.00000000e+00   1.00000000e+00   0.00000000e+00\n",
      "   0.00000000e+00   8.00000000e-02   4.70000000e-04   3.73717500e-03\n",
      "   7.28965530e-02   5.10709937e-01   3.09810795e-01   6.61366220e-01\n",
      "   3.84714600e-03   4.12270840e-02   2.65695100e-03   3.13000000e-04\n",
      "   4.96552170e-02   2.91622490e-02   4.07187200e-03   0.00000000e+00\n",
      "   1.53000000e-05   1.14854244e-01   7.80066100e-02   2.70270270e-02\n",
      "   0.00000000e+00   0.00000000e+00   4.63414000e+01   3.53000000e+02\n",
      "   3.84337000e+01   5.96000000e+00   1.23743000e+03   1.14000000e+01\n",
      "   1.00080000e+02   3.80890499e+00   5.08069198e+00   7.67611131e-01\n",
      "   6.74001118e+01   2.20399655e-01   1.05679591e+01]\n",
      "per-feature maximum before scaling [  4.07000000e+02   4.40000000e+01   5.70000000e+01   1.00000000e+00\n",
      "   1.44000000e+02   7.11215806e+02   2.90857738e+01   4.73515383e+01\n",
      "   7.07387691e+01   7.04134343e+01   6.42569575e+01   5.95016484e+01\n",
      "   4.11036507e+01   8.93713736e+01   7.60551351e+01   8.48621477e+01\n",
      "   5.52782246e+01   4.73947061e+01   4.56690595e+01   1.20000000e+01\n",
      "   2.82977970e-02   3.20315868e-01   2.60694871e-01   1.00000000e+00\n",
      "   2.91000000e+02   1.00000000e+01   1.22520000e+02   4.89500000e+02\n",
      "   8.49605000e+01   7.13000000e+00   1.83818000e+03   1.47100000e+01\n",
      "   2.12870000e+02   1.44881948e+01   1.44820904e+01   7.03636263e+00\n",
      "   1.46135335e+02   7.17897215e-01   2.76027663e+01]\n",
      "--------------------Some Day I'm going to Scale that Mountain!--------------------\n",
      "per-feature minimum after scaling [ 0.  0.  0.  0.  0.  0.  0.  0.  0.  0.  0.  0.  0.  0.  0.  0.  0.  0.\n",
      "  0.  0.  0.  0.  0.  0.  0.  0.  0.  0.  0.  0.  0.  0.  0.  0.  0.  0.\n",
      "  0.  0.  0.]\n",
      "per-feature maximum after scaling [ 1.  1.  1.  1.  1.  1.  1.  1.  1.  1.  1.  1.  1.  1.  1.  1.  1.  1.\n",
      "  1.  1.  1.  1.  1.  1.  1.  1.  1.  1.  1.  1.  1.  1.  1.  1.  1.  1.\n",
      "  1.  1.  1.]\n",
      "Scaled it!\n"
     ]
    }
   ],
   "source": [
    "print(\"transformed shape {}\".format(X_train_scaled.shape))\n",
    "print(\"per-feature minimum before scaling {}\".format(X_train.min(axis=0)))\n",
    "print(\"per-feature maximum before scaling {}\".format(X_train.max(axis=0)))\n",
    "print 20 * '-' + \"Some Day I'm going to Scale that Mountain!\" + 20 * '-'\n",
    "print(\"per-feature minimum after scaling {}\".format(X_train_scaled.min(axis=0)))\n",
    "print(\"per-feature maximum after scaling {}\".format(X_train_scaled.max(axis=0)))\n",
    "print \"Scaled it!\"\n",
    "X_test_scaled = scaler.transform(X_test)"
   ]
  },
  {
   "cell_type": "code",
   "execution_count": 47,
   "metadata": {
    "collapsed": false
   },
   "outputs": [
    {
     "name": "stderr",
     "output_type": "stream",
     "text": [
      "/Users/yogadude/anaconda/lib/python2.7/site-packages/scipy/linalg/basic.py:223: RuntimeWarning: scipy.linalg.solve\n",
      "Ill-conditioned matrix detected. Result is not guaranteed to be accurate.\n",
      "Reciprocal condition number: 3.72013382369e-17\n",
      "  ' condition number: {}'.format(rcond), RuntimeWarning)\n",
      "/Users/yogadude/anaconda/lib/python2.7/site-packages/scipy/linalg/basic.py:223: RuntimeWarning: scipy.linalg.solve\n",
      "Ill-conditioned matrix detected. Result is not guaranteed to be accurate.\n",
      "Reciprocal condition number: 5.22546099646e-18\n",
      "  ' condition number: {}'.format(rcond), RuntimeWarning)\n",
      "/Users/yogadude/anaconda/lib/python2.7/site-packages/scipy/linalg/basic.py:223: RuntimeWarning: scipy.linalg.solve\n",
      "Ill-conditioned matrix detected. Result is not guaranteed to be accurate.\n",
      "Reciprocal condition number: 3.95560119593e-18\n",
      "  ' condition number: {}'.format(rcond), RuntimeWarning)\n",
      "/Users/yogadude/anaconda/lib/python2.7/site-packages/scipy/linalg/basic.py:223: RuntimeWarning: scipy.linalg.solve\n",
      "Ill-conditioned matrix detected. Result is not guaranteed to be accurate.\n",
      "Reciprocal condition number: 3.17586955992e-18\n",
      "  ' condition number: {}'.format(rcond), RuntimeWarning)\n",
      "/Users/yogadude/anaconda/lib/python2.7/site-packages/scipy/linalg/basic.py:223: RuntimeWarning: scipy.linalg.solve\n",
      "Ill-conditioned matrix detected. Result is not guaranteed to be accurate.\n",
      "Reciprocal condition number: 2.12530452769e-17\n",
      "  ' condition number: {}'.format(rcond), RuntimeWarning)\n"
     ]
    },
    {
     "data": {
      "text/plain": [
       "GridSearchCV(cv=5, error_score='raise',\n",
       "       estimator=Ridge(alpha=1.0, copy_X=True, fit_intercept=True, max_iter=None,\n",
       "   normalize=False, random_state=None, solver='auto', tol=0.001),\n",
       "       fit_params={}, iid=True, n_jobs=1,\n",
       "       param_grid={'alpha': [100, 10, 1, 0.1, 0.01, 0.001, 0.0001, 0]},\n",
       "       pre_dispatch='2*n_jobs', refit=True, return_train_score=True,\n",
       "       scoring=None, verbose=0)"
      ]
     },
     "execution_count": 47,
     "metadata": {},
     "output_type": "execute_result"
    }
   ],
   "source": [
    "# prepare a range of alpha values to test\n",
    "param_grid = {'alpha': [100,10,1,0.1,0.01,0.001,0.0001,0]}\n",
    "grid =  GridSearchCV(Ridge(), param_grid, cv =5)\n",
    "grid.fit(X_train_scaled,Y_train)"
   ]
  },
  {
   "cell_type": "code",
   "execution_count": 48,
   "metadata": {
    "collapsed": false
   },
   "outputs": [
    {
     "name": "stdout",
     "output_type": "stream",
     "text": [
      "Best parameters: {'alpha': 10}\n",
      "Best cross-validation score: 0.291\n"
     ]
    }
   ],
   "source": [
    "print(\"Best parameters: {}\".format(grid.best_params_))\n",
    "print(\"Best cross-validation score: {:.3f}\".format(grid.best_score_))"
   ]
  },
  {
   "cell_type": "code",
   "execution_count": 49,
   "metadata": {
    "collapsed": false,
    "scrolled": true
   },
   "outputs": [
    {
     "data": {
      "text/html": [
       "<div>\n",
       "<style>\n",
       "    .dataframe thead tr:only-child th {\n",
       "        text-align: right;\n",
       "    }\n",
       "\n",
       "    .dataframe thead th {\n",
       "        text-align: left;\n",
       "    }\n",
       "\n",
       "    .dataframe tbody tr th {\n",
       "        vertical-align: top;\n",
       "    }\n",
       "</style>\n",
       "<table border=\"1\" class=\"dataframe\">\n",
       "  <thead>\n",
       "    <tr style=\"text-align: right;\">\n",
       "      <th></th>\n",
       "      <th>mean_fit_time</th>\n",
       "      <th>mean_score_time</th>\n",
       "      <th>mean_test_score</th>\n",
       "      <th>mean_train_score</th>\n",
       "      <th>param_alpha</th>\n",
       "      <th>params</th>\n",
       "      <th>rank_test_score</th>\n",
       "      <th>split0_test_score</th>\n",
       "      <th>split0_train_score</th>\n",
       "      <th>split1_test_score</th>\n",
       "      <th>...</th>\n",
       "      <th>split2_test_score</th>\n",
       "      <th>split2_train_score</th>\n",
       "      <th>split3_test_score</th>\n",
       "      <th>split3_train_score</th>\n",
       "      <th>split4_test_score</th>\n",
       "      <th>split4_train_score</th>\n",
       "      <th>std_fit_time</th>\n",
       "      <th>std_score_time</th>\n",
       "      <th>std_test_score</th>\n",
       "      <th>std_train_score</th>\n",
       "    </tr>\n",
       "  </thead>\n",
       "  <tbody>\n",
       "    <tr>\n",
       "      <th>0</th>\n",
       "      <td>0.038269</td>\n",
       "      <td>0.000823</td>\n",
       "      <td>0.248858</td>\n",
       "      <td>0.266785</td>\n",
       "      <td>100</td>\n",
       "      <td>{u'alpha': 100}</td>\n",
       "      <td>2</td>\n",
       "      <td>0.205252</td>\n",
       "      <td>0.282399</td>\n",
       "      <td>0.172722</td>\n",
       "      <td>...</td>\n",
       "      <td>0.193065</td>\n",
       "      <td>0.285271</td>\n",
       "      <td>0.263395</td>\n",
       "      <td>0.253101</td>\n",
       "      <td>0.409877</td>\n",
       "      <td>0.224054</td>\n",
       "      <td>0.009392</td>\n",
       "      <td>0.000281</td>\n",
       "      <td>0.085963</td>\n",
       "      <td>0.024887</td>\n",
       "    </tr>\n",
       "    <tr>\n",
       "      <th>1</th>\n",
       "      <td>0.025485</td>\n",
       "      <td>0.000618</td>\n",
       "      <td>0.291494</td>\n",
       "      <td>0.350426</td>\n",
       "      <td>10</td>\n",
       "      <td>{u'alpha': 10}</td>\n",
       "      <td>1</td>\n",
       "      <td>0.271690</td>\n",
       "      <td>0.366014</td>\n",
       "      <td>0.218456</td>\n",
       "      <td>...</td>\n",
       "      <td>0.267092</td>\n",
       "      <td>0.369698</td>\n",
       "      <td>0.364325</td>\n",
       "      <td>0.337894</td>\n",
       "      <td>0.335924</td>\n",
       "      <td>0.301386</td>\n",
       "      <td>0.001009</td>\n",
       "      <td>0.000139</td>\n",
       "      <td>0.052155</td>\n",
       "      <td>0.027892</td>\n",
       "    </tr>\n",
       "    <tr>\n",
       "      <th>2</th>\n",
       "      <td>0.024134</td>\n",
       "      <td>0.000558</td>\n",
       "      <td>0.139985</td>\n",
       "      <td>0.356210</td>\n",
       "      <td>1</td>\n",
       "      <td>{u'alpha': 1}</td>\n",
       "      <td>8</td>\n",
       "      <td>0.270878</td>\n",
       "      <td>0.371932</td>\n",
       "      <td>0.211609</td>\n",
       "      <td>...</td>\n",
       "      <td>0.271699</td>\n",
       "      <td>0.375576</td>\n",
       "      <td>0.371342</td>\n",
       "      <td>0.343682</td>\n",
       "      <td>-0.425639</td>\n",
       "      <td>0.307270</td>\n",
       "      <td>0.000438</td>\n",
       "      <td>0.000008</td>\n",
       "      <td>0.287418</td>\n",
       "      <td>0.027822</td>\n",
       "    </tr>\n",
       "    <tr>\n",
       "      <th>3</th>\n",
       "      <td>0.026688</td>\n",
       "      <td>0.000689</td>\n",
       "      <td>0.154922</td>\n",
       "      <td>0.356430</td>\n",
       "      <td>0.1</td>\n",
       "      <td>{u'alpha': 0.1}</td>\n",
       "      <td>7</td>\n",
       "      <td>0.268912</td>\n",
       "      <td>0.372182</td>\n",
       "      <td>0.210291</td>\n",
       "      <td>...</td>\n",
       "      <td>0.271424</td>\n",
       "      <td>0.375802</td>\n",
       "      <td>0.371934</td>\n",
       "      <td>0.343861</td>\n",
       "      <td>-0.347979</td>\n",
       "      <td>0.307591</td>\n",
       "      <td>0.002269</td>\n",
       "      <td>0.000108</td>\n",
       "      <td>0.256755</td>\n",
       "      <td>0.027776</td>\n",
       "    </tr>\n",
       "    <tr>\n",
       "      <th>4</th>\n",
       "      <td>0.028834</td>\n",
       "      <td>0.000822</td>\n",
       "      <td>0.168242</td>\n",
       "      <td>0.356434</td>\n",
       "      <td>0.01</td>\n",
       "      <td>{u'alpha': 0.01}</td>\n",
       "      <td>6</td>\n",
       "      <td>0.268621</td>\n",
       "      <td>0.372186</td>\n",
       "      <td>0.210168</td>\n",
       "      <td>...</td>\n",
       "      <td>0.271365</td>\n",
       "      <td>0.375805</td>\n",
       "      <td>0.371995</td>\n",
       "      <td>0.343864</td>\n",
       "      <td>-0.280962</td>\n",
       "      <td>0.307600</td>\n",
       "      <td>0.001861</td>\n",
       "      <td>0.000196</td>\n",
       "      <td>0.230544</td>\n",
       "      <td>0.027774</td>\n",
       "    </tr>\n",
       "    <tr>\n",
       "      <th>5</th>\n",
       "      <td>0.024281</td>\n",
       "      <td>0.000570</td>\n",
       "      <td>0.169834</td>\n",
       "      <td>0.356434</td>\n",
       "      <td>0.001</td>\n",
       "      <td>{u'alpha': 0.001}</td>\n",
       "      <td>5</td>\n",
       "      <td>0.268591</td>\n",
       "      <td>0.372186</td>\n",
       "      <td>0.210156</td>\n",
       "      <td>...</td>\n",
       "      <td>0.271359</td>\n",
       "      <td>0.375805</td>\n",
       "      <td>0.372001</td>\n",
       "      <td>0.343864</td>\n",
       "      <td>-0.272959</td>\n",
       "      <td>0.307600</td>\n",
       "      <td>0.000230</td>\n",
       "      <td>0.000023</td>\n",
       "      <td>0.227424</td>\n",
       "      <td>0.027774</td>\n",
       "    </tr>\n",
       "    <tr>\n",
       "      <th>6</th>\n",
       "      <td>0.023666</td>\n",
       "      <td>0.000583</td>\n",
       "      <td>0.169996</td>\n",
       "      <td>0.356434</td>\n",
       "      <td>0.0001</td>\n",
       "      <td>{u'alpha': 0.0001}</td>\n",
       "      <td>4</td>\n",
       "      <td>0.268588</td>\n",
       "      <td>0.372186</td>\n",
       "      <td>0.210155</td>\n",
       "      <td>...</td>\n",
       "      <td>0.271358</td>\n",
       "      <td>0.375805</td>\n",
       "      <td>0.372002</td>\n",
       "      <td>0.343864</td>\n",
       "      <td>-0.272144</td>\n",
       "      <td>0.307600</td>\n",
       "      <td>0.000636</td>\n",
       "      <td>0.000082</td>\n",
       "      <td>0.227106</td>\n",
       "      <td>0.027774</td>\n",
       "    </tr>\n",
       "    <tr>\n",
       "      <th>7</th>\n",
       "      <td>0.024565</td>\n",
       "      <td>0.000692</td>\n",
       "      <td>0.170014</td>\n",
       "      <td>0.356434</td>\n",
       "      <td>0</td>\n",
       "      <td>{u'alpha': 0}</td>\n",
       "      <td>3</td>\n",
       "      <td>0.268588</td>\n",
       "      <td>0.372186</td>\n",
       "      <td>0.210155</td>\n",
       "      <td>...</td>\n",
       "      <td>0.271358</td>\n",
       "      <td>0.375805</td>\n",
       "      <td>0.372002</td>\n",
       "      <td>0.343864</td>\n",
       "      <td>-0.272054</td>\n",
       "      <td>0.307600</td>\n",
       "      <td>0.001439</td>\n",
       "      <td>0.000155</td>\n",
       "      <td>0.227071</td>\n",
       "      <td>0.027774</td>\n",
       "    </tr>\n",
       "  </tbody>\n",
       "</table>\n",
       "<p>8 rows × 21 columns</p>\n",
       "</div>"
      ],
      "text/plain": [
       "   mean_fit_time  mean_score_time  mean_test_score  mean_train_score  \\\n",
       "0       0.038269         0.000823         0.248858          0.266785   \n",
       "1       0.025485         0.000618         0.291494          0.350426   \n",
       "2       0.024134         0.000558         0.139985          0.356210   \n",
       "3       0.026688         0.000689         0.154922          0.356430   \n",
       "4       0.028834         0.000822         0.168242          0.356434   \n",
       "5       0.024281         0.000570         0.169834          0.356434   \n",
       "6       0.023666         0.000583         0.169996          0.356434   \n",
       "7       0.024565         0.000692         0.170014          0.356434   \n",
       "\n",
       "  param_alpha              params  rank_test_score  split0_test_score  \\\n",
       "0         100     {u'alpha': 100}                2           0.205252   \n",
       "1          10      {u'alpha': 10}                1           0.271690   \n",
       "2           1       {u'alpha': 1}                8           0.270878   \n",
       "3         0.1     {u'alpha': 0.1}                7           0.268912   \n",
       "4        0.01    {u'alpha': 0.01}                6           0.268621   \n",
       "5       0.001   {u'alpha': 0.001}                5           0.268591   \n",
       "6      0.0001  {u'alpha': 0.0001}                4           0.268588   \n",
       "7           0       {u'alpha': 0}                3           0.268588   \n",
       "\n",
       "   split0_train_score  split1_test_score       ...         split2_test_score  \\\n",
       "0            0.282399           0.172722       ...                  0.193065   \n",
       "1            0.366014           0.218456       ...                  0.267092   \n",
       "2            0.371932           0.211609       ...                  0.271699   \n",
       "3            0.372182           0.210291       ...                  0.271424   \n",
       "4            0.372186           0.210168       ...                  0.271365   \n",
       "5            0.372186           0.210156       ...                  0.271359   \n",
       "6            0.372186           0.210155       ...                  0.271358   \n",
       "7            0.372186           0.210155       ...                  0.271358   \n",
       "\n",
       "   split2_train_score  split3_test_score  split3_train_score  \\\n",
       "0            0.285271           0.263395            0.253101   \n",
       "1            0.369698           0.364325            0.337894   \n",
       "2            0.375576           0.371342            0.343682   \n",
       "3            0.375802           0.371934            0.343861   \n",
       "4            0.375805           0.371995            0.343864   \n",
       "5            0.375805           0.372001            0.343864   \n",
       "6            0.375805           0.372002            0.343864   \n",
       "7            0.375805           0.372002            0.343864   \n",
       "\n",
       "   split4_test_score  split4_train_score  std_fit_time  std_score_time  \\\n",
       "0           0.409877            0.224054      0.009392        0.000281   \n",
       "1           0.335924            0.301386      0.001009        0.000139   \n",
       "2          -0.425639            0.307270      0.000438        0.000008   \n",
       "3          -0.347979            0.307591      0.002269        0.000108   \n",
       "4          -0.280962            0.307600      0.001861        0.000196   \n",
       "5          -0.272959            0.307600      0.000230        0.000023   \n",
       "6          -0.272144            0.307600      0.000636        0.000082   \n",
       "7          -0.272054            0.307600      0.001439        0.000155   \n",
       "\n",
       "   std_test_score  std_train_score  \n",
       "0        0.085963         0.024887  \n",
       "1        0.052155         0.027892  \n",
       "2        0.287418         0.027822  \n",
       "3        0.256755         0.027776  \n",
       "4        0.230544         0.027774  \n",
       "5        0.227424         0.027774  \n",
       "6        0.227106         0.027774  \n",
       "7        0.227071         0.027774  \n",
       "\n",
       "[8 rows x 21 columns]"
      ]
     },
     "execution_count": 49,
     "metadata": {},
     "output_type": "execute_result"
    }
   ],
   "source": [
    "results = pd.DataFrame(grid.cv_results_)\n",
    "results # change this to show the entire DF "
   ]
  },
  {
   "cell_type": "code",
   "execution_count": 50,
   "metadata": {
    "collapsed": false
   },
   "outputs": [
    {
     "name": "stdout",
     "output_type": "stream",
     "text": [
      "The R^2 on the training set:  0.349773\n"
     ]
    }
   ],
   "source": [
    "print(\"The R^2 on the training set:  {:.6f}\".format(grid.score(X_train_scaled, Y_train)))"
   ]
  },
  {
   "cell_type": "code",
   "execution_count": 51,
   "metadata": {
    "collapsed": false
   },
   "outputs": [],
   "source": [
    "log_y_test_L2 =grid.predict(X_test_scaled)\n",
    "y_pred = np.exp(log_y_test_L2) - 1"
   ]
  },
  {
   "cell_type": "code",
   "execution_count": 52,
   "metadata": {
    "collapsed": false
   },
   "outputs": [
    {
     "data": {
      "text/plain": [
       "(array([  5.40000000e+01,   3.10000000e+02,   3.34600000e+03,\n",
       "          3.35300000e+03,   5.17000000e+02,   6.40000000e+01,\n",
       "          1.10000000e+01,   4.00000000e+00,   2.00000000e+00,\n",
       "          1.00000000e+00]),\n",
       " array([ 14.34349368,  14.80280323,  15.26211278,  15.72142233,\n",
       "         16.18073188,  16.64004143,  17.09935098,  17.55866052,\n",
       "         18.01797007,  18.47727962,  18.93658917]),\n",
       " <a list of 10 Patch objects>)"
      ]
     },
     "execution_count": 52,
     "metadata": {},
     "output_type": "execute_result"
    },
    {
     "data": {
      "image/png": "[encoded data removed]",
      "text/plain": [
       "<matplotlib.figure.Figure at 0x13020d390>"
      ]
     },
     "metadata": {},
     "output_type": "display_data"
    }
   ],
   "source": [
    "plt.hist(log_y_test_L2) # The finger from Ridge.  "
   ]
  },
  {
   "cell_type": "markdown",
   "metadata": {
    "collapsed": true
   },
   "source": [
    "# Can you throw me a Line? That's a Pipe.... line.\n",
    "## So in this section we are just coming to terms with using a pipeline on our data. Let me see you work,work, work ..."
   ]
  },
  {
   "cell_type": "code",
   "execution_count": 53,
   "metadata": {
    "collapsed": false
   },
   "outputs": [
    {
     "name": "stderr",
     "output_type": "stream",
     "text": [
      "/Users/yogadude/anaconda/lib/python2.7/site-packages/scipy/linalg/basic.py:223: RuntimeWarning: scipy.linalg.solve\n",
      "Ill-conditioned matrix detected. Result is not guaranteed to be accurate.\n",
      "Reciprocal condition number: 2.88960407568e-17\n",
      "  ' condition number: {}'.format(rcond), RuntimeWarning)\n",
      "/Users/yogadude/anaconda/lib/python2.7/site-packages/scipy/linalg/basic.py:223: RuntimeWarning: scipy.linalg.solve\n",
      "Ill-conditioned matrix detected. Result is not guaranteed to be accurate.\n",
      "Reciprocal condition number: 5.03456854585e-18\n",
      "  ' condition number: {}'.format(rcond), RuntimeWarning)\n",
      "/Users/yogadude/anaconda/lib/python2.7/site-packages/scipy/linalg/basic.py:223: RuntimeWarning: scipy.linalg.solve\n",
      "Ill-conditioned matrix detected. Result is not guaranteed to be accurate.\n",
      "Reciprocal condition number: 2.35514916176e-18\n",
      "  ' condition number: {}'.format(rcond), RuntimeWarning)\n",
      "/Users/yogadude/anaconda/lib/python2.7/site-packages/scipy/linalg/basic.py:223: RuntimeWarning: scipy.linalg.solve\n",
      "Ill-conditioned matrix detected. Result is not guaranteed to be accurate.\n",
      "Reciprocal condition number: 4.68399345947e-18\n",
      "  ' condition number: {}'.format(rcond), RuntimeWarning)\n",
      "/Users/yogadude/anaconda/lib/python2.7/site-packages/scipy/linalg/basic.py:223: RuntimeWarning: scipy.linalg.solve\n",
      "Ill-conditioned matrix detected. Result is not guaranteed to be accurate.\n",
      "Reciprocal condition number: 2.59581040443e-17\n",
      "  ' condition number: {}'.format(rcond), RuntimeWarning)\n",
      "/Users/yogadude/anaconda/lib/python2.7/site-packages/scipy/linalg/basic.py:223: RuntimeWarning: scipy.linalg.solve\n",
      "Ill-conditioned matrix detected. Result is not guaranteed to be accurate.\n",
      "Reciprocal condition number: 2.81063638007e-17\n",
      "  ' condition number: {}'.format(rcond), RuntimeWarning)\n"
     ]
    },
    {
     "data": {
      "text/plain": [
       "GridSearchCV(cv=5, error_score='raise',\n",
       "       estimator=Pipeline(steps=[('minmaxscaler', MinMaxScaler(copy=True, feature_range=(0, 1))), ('ridge', Ridge(alpha=1.0, copy_X=True, fit_intercept=True, max_iter=None,\n",
       "   normalize=False, random_state=None, solver='auto', tol=0.001))]),\n",
       "       fit_params={}, iid=True, n_jobs=1,\n",
       "       param_grid={'ridge__alpha': [100, 10, 1, 0.1, 0.01, 0.001, 0.0001, 0]},\n",
       "       pre_dispatch='2*n_jobs', refit=True, return_train_score=True,\n",
       "       scoring=None, verbose=0)"
      ]
     },
     "execution_count": 53,
     "metadata": {},
     "output_type": "execute_result"
    }
   ],
   "source": [
    "from sklearn.pipeline import make_pipeline \n",
    "pipe  =  make_pipeline(MinMaxScaler(), Ridge())\n",
    "param_grid = {'ridge__alpha': [100,10,1,0.1,0.01,0.001,0.0001,0]}\n",
    "grid =  GridSearchCV(pipe, param_grid, cv=5)\n",
    "grid.fit(X_train, Y_train)"
   ]
  },
  {
   "cell_type": "code",
   "execution_count": 54,
   "metadata": {
    "collapsed": false
   },
   "outputs": [
    {
     "name": "stdout",
     "output_type": "stream",
     "text": [
      "Best Cross-validation RMS: 0.170\n",
      "Best parameters: {'ridge__alpha': 0}\n"
     ]
    }
   ],
   "source": [
    "print(\"Best Cross-validation RMS: {:.3f}\".format(grid.best_score_))\n",
    "#print(\"Test Best Score: {:.3f}\".format(grid.score(X_test, Y_test)))\n",
    "print(\"Best parameters: {}\".format(grid.best_params_))"
   ]
  },
  {
   "cell_type": "markdown",
   "metadata": {},
   "source": [
    "# Wait! What? You Going Non-Linear On Me?! You Know it! "
   ]
  },
  {
   "cell_type": "code",
   "execution_count": 73,
   "metadata": {
    "collapsed": true
   },
   "outputs": [],
   "source": [
    "from sklearn.preprocessing import PolynomialFeatures"
   ]
  },
  {
   "cell_type": "code",
   "execution_count": 35,
   "metadata": {
    "collapsed": false
   },
   "outputs": [],
   "source": [
    "## Don't Run this \n",
    "# pipe2 = make_pipeline(MinMaxScaler(), PolynomialFeatures(), Ridge())\n",
    "# param_grid ={'polynomialfeatures__degree': [1,2,3],\n",
    "#             'ridge__alpha': [100,10,1,0.1,0.01,0.001,0.0001,0]}\n",
    "# grid = GridSearchCV(pipe2, param_grid=param_grid, cv=5, n_jobs=-1)\n",
    "# grid.fit(X_train, Y_train)\n"
   ]
  },
  {
   "cell_type": "code",
   "execution_count": null,
   "metadata": {
    "collapsed": true
   },
   "outputs": [],
   "source": []
  }
 ],
 "metadata": {
  "anaconda-cloud": {},
  "kernelspec": {
   "display_name": "Python [conda root]",
   "language": "python",
   "name": "conda-root-py"
  },
  "language_info": {
   "codemirror_mode": {
    "name": "ipython",
    "version": 2
   },
   "file_extension": ".py",
   "mimetype": "text/x-python",
   "name": "python",
   "nbconvert_exporter": "python",
   "pygments_lexer": "ipython2",
   "version": "2.7.12"
  }
 },
 "nbformat": 4,
 "nbformat_minor": 2
}
