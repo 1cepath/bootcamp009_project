{
 "cells": [
  {
   "cell_type": "markdown",
   "metadata": {},
   "source": [
    "importing some of the standard libraries"
   ]
  },
  {
   "cell_type": "code",
   "execution_count": 1,
   "metadata": {
    "collapsed": false
   },
   "outputs": [],
   "source": [
    "import pandas as pd\n",
    "from pandas.io.json import build_table_schema\n",
    "from pandas.plotting import scatter_matrix\n",
    "import seaborn as sns\n",
    "import numpy as np\n",
    "import scipy as sp\n",
    "import os\n",
    "import xgboost as xgb\n",
    "import visualization as vis\n",
    "import matplotlib.pyplot as plt\n",
    "import matplotlib\n",
    "import plot_improper_processing as plt_imp\n",
    "import time\n",
    "from operator import itemgetter\n",
    "import seaborn as sns\n",
    "%matplotlib inline\n",
    "\n",
    "DIR_PATH = './'"
   ]
  },
  {
   "cell_type": "markdown",
   "metadata": {},
   "source": [
    "Loading the data and printing out the length of the columns \n",
    "This includes all the columns after cleaning and imputation. (Thanks Chase)"
   ]
  },
  {
   "cell_type": "code",
   "execution_count": 2,
   "metadata": {
    "collapsed": false
   },
   "outputs": [
    {
     "name": "stdout",
     "output_type": "stream",
     "text": [
      "247\n",
      "****************************************\n",
      "246\n"
     ]
    }
   ],
   "source": [
    "traindata  = pd.read_csv(\"./data/clean_train_only_complete_cols_chase.csv\")\n",
    "testdata = pd.read_csv(\"./data/clean_test_only_complete_cols_chase.csv\")\n",
    "print len(traindata.columns.values)\n",
    "print 40 * '*'\n",
    "print len(testdata.columns.values)"
   ]
  },
  {
   "cell_type": "markdown",
   "metadata": {},
   "source": [
    "some feature engineering"
   ]
  },
  {
   "cell_type": "code",
   "execution_count": 3,
   "metadata": {
    "collapsed": false
   },
   "outputs": [
    {
     "data": {
      "text/html": [
       "<div>\n",
       "<style>\n",
       "    .dataframe thead tr:only-child th {\n",
       "        text-align: right;\n",
       "    }\n",
       "\n",
       "    .dataframe thead th {\n",
       "        text-align: left;\n",
       "    }\n",
       "\n",
       "    .dataframe tbody tr th {\n",
       "        vertical-align: top;\n",
       "    }\n",
       "</style>\n",
       "<table border=\"1\" class=\"dataframe\">\n",
       "  <thead>\n",
       "    <tr style=\"text-align: right;\">\n",
       "      <th></th>\n",
       "      <th>id</th>\n",
       "      <th>timestamp</th>\n",
       "      <th>full_sq</th>\n",
       "      <th>life_sq</th>\n",
       "      <th>floor</th>\n",
       "      <th>max_floor</th>\n",
       "      <th>kitch_sq</th>\n",
       "      <th>product_type</th>\n",
       "      <th>sub_area</th>\n",
       "      <th>area_m</th>\n",
       "      <th>...</th>\n",
       "      <th>cafe_count_5000_price_high</th>\n",
       "      <th>big_church_count_5000</th>\n",
       "      <th>church_count_5000</th>\n",
       "      <th>mosque_count_5000</th>\n",
       "      <th>leisure_count_5000</th>\n",
       "      <th>sport_count_5000</th>\n",
       "      <th>market_count_5000</th>\n",
       "      <th>price_doc</th>\n",
       "      <th>okurg_district</th>\n",
       "      <th>price_full</th>\n",
       "    </tr>\n",
       "  </thead>\n",
       "  <tbody>\n",
       "    <tr>\n",
       "      <th>0</th>\n",
       "      <td>1</td>\n",
       "      <td>2011-08-20</td>\n",
       "      <td>43.0</td>\n",
       "      <td>28.120000</td>\n",
       "      <td>4.0</td>\n",
       "      <td>5.0</td>\n",
       "      <td>4.962353</td>\n",
       "      <td>Investment</td>\n",
       "      <td>Bibirevo</td>\n",
       "      <td>6.407578e+06</td>\n",
       "      <td>...</td>\n",
       "      <td>0</td>\n",
       "      <td>13</td>\n",
       "      <td>22</td>\n",
       "      <td>1</td>\n",
       "      <td>0</td>\n",
       "      <td>52</td>\n",
       "      <td>4</td>\n",
       "      <td>5850000</td>\n",
       "      <td>North Eastern</td>\n",
       "      <td>136046.511628</td>\n",
       "    </tr>\n",
       "    <tr>\n",
       "      <th>1</th>\n",
       "      <td>2</td>\n",
       "      <td>2011-08-23</td>\n",
       "      <td>34.0</td>\n",
       "      <td>19.000000</td>\n",
       "      <td>3.0</td>\n",
       "      <td>9.0</td>\n",
       "      <td>5.066667</td>\n",
       "      <td>Investment</td>\n",
       "      <td>Nagatinskij Zaton</td>\n",
       "      <td>9.589337e+06</td>\n",
       "      <td>...</td>\n",
       "      <td>0</td>\n",
       "      <td>15</td>\n",
       "      <td>29</td>\n",
       "      <td>1</td>\n",
       "      <td>10</td>\n",
       "      <td>66</td>\n",
       "      <td>14</td>\n",
       "      <td>6000000</td>\n",
       "      <td>Southern</td>\n",
       "      <td>176470.588235</td>\n",
       "    </tr>\n",
       "    <tr>\n",
       "      <th>2</th>\n",
       "      <td>3</td>\n",
       "      <td>2011-08-27</td>\n",
       "      <td>43.0</td>\n",
       "      <td>29.000000</td>\n",
       "      <td>2.0</td>\n",
       "      <td>5.0</td>\n",
       "      <td>7.327128</td>\n",
       "      <td>Investment</td>\n",
       "      <td>Tekstil'shhiki</td>\n",
       "      <td>4.808270e+06</td>\n",
       "      <td>...</td>\n",
       "      <td>0</td>\n",
       "      <td>11</td>\n",
       "      <td>27</td>\n",
       "      <td>0</td>\n",
       "      <td>4</td>\n",
       "      <td>67</td>\n",
       "      <td>10</td>\n",
       "      <td>5700000</td>\n",
       "      <td>South Eastern</td>\n",
       "      <td>132558.139535</td>\n",
       "    </tr>\n",
       "    <tr>\n",
       "      <th>3</th>\n",
       "      <td>4</td>\n",
       "      <td>2011-09-01</td>\n",
       "      <td>89.0</td>\n",
       "      <td>67.522222</td>\n",
       "      <td>9.0</td>\n",
       "      <td>17.0</td>\n",
       "      <td>18.005926</td>\n",
       "      <td>Investment</td>\n",
       "      <td>Mitino</td>\n",
       "      <td>1.258354e+07</td>\n",
       "      <td>...</td>\n",
       "      <td>1</td>\n",
       "      <td>4</td>\n",
       "      <td>4</td>\n",
       "      <td>0</td>\n",
       "      <td>0</td>\n",
       "      <td>26</td>\n",
       "      <td>3</td>\n",
       "      <td>13100000</td>\n",
       "      <td>North Western</td>\n",
       "      <td>147191.011236</td>\n",
       "    </tr>\n",
       "    <tr>\n",
       "      <th>4</th>\n",
       "      <td>5</td>\n",
       "      <td>2011-09-05</td>\n",
       "      <td>77.0</td>\n",
       "      <td>70.777778</td>\n",
       "      <td>4.0</td>\n",
       "      <td>8.0</td>\n",
       "      <td>14.155556</td>\n",
       "      <td>Investment</td>\n",
       "      <td>Basmannoe</td>\n",
       "      <td>8.398461e+06</td>\n",
       "      <td>...</td>\n",
       "      <td>17</td>\n",
       "      <td>135</td>\n",
       "      <td>236</td>\n",
       "      <td>2</td>\n",
       "      <td>91</td>\n",
       "      <td>195</td>\n",
       "      <td>14</td>\n",
       "      <td>16331452</td>\n",
       "      <td>Central</td>\n",
       "      <td>212096.779221</td>\n",
       "    </tr>\n",
       "  </tbody>\n",
       "</table>\n",
       "<p>5 rows × 247 columns</p>\n",
       "</div>"
      ],
      "text/plain": [
       "   id   timestamp  full_sq    life_sq  floor  max_floor   kitch_sq  \\\n",
       "0   1  2011-08-20     43.0  28.120000    4.0        5.0   4.962353   \n",
       "1   2  2011-08-23     34.0  19.000000    3.0        9.0   5.066667   \n",
       "2   3  2011-08-27     43.0  29.000000    2.0        5.0   7.327128   \n",
       "3   4  2011-09-01     89.0  67.522222    9.0       17.0  18.005926   \n",
       "4   5  2011-09-05     77.0  70.777778    4.0        8.0  14.155556   \n",
       "\n",
       "  product_type           sub_area        area_m      ...        \\\n",
       "0   Investment           Bibirevo  6.407578e+06      ...         \n",
       "1   Investment  Nagatinskij Zaton  9.589337e+06      ...         \n",
       "2   Investment     Tekstil'shhiki  4.808270e+06      ...         \n",
       "3   Investment             Mitino  1.258354e+07      ...         \n",
       "4   Investment          Basmannoe  8.398461e+06      ...         \n",
       "\n",
       "   cafe_count_5000_price_high  big_church_count_5000  church_count_5000  \\\n",
       "0                           0                     13                 22   \n",
       "1                           0                     15                 29   \n",
       "2                           0                     11                 27   \n",
       "3                           1                      4                  4   \n",
       "4                          17                    135                236   \n",
       "\n",
       "   mosque_count_5000  leisure_count_5000  sport_count_5000  market_count_5000  \\\n",
       "0                  1                   0                52                  4   \n",
       "1                  1                  10                66                 14   \n",
       "2                  0                   4                67                 10   \n",
       "3                  0                   0                26                  3   \n",
       "4                  2                  91               195                 14   \n",
       "\n",
       "   price_doc  okurg_district     price_full  \n",
       "0    5850000  North Eastern   136046.511628  \n",
       "1    6000000       Southern   176470.588235  \n",
       "2    5700000  South Eastern   132558.139535  \n",
       "3   13100000  North Western   147191.011236  \n",
       "4   16331452        Central   212096.779221  \n",
       "\n",
       "[5 rows x 247 columns]"
      ]
     },
     "execution_count": 3,
     "metadata": {},
     "output_type": "execute_result"
    }
   ],
   "source": [
    "traindata.head()"
   ]
  },
  {
   "cell_type": "code",
   "execution_count": 4,
   "metadata": {
    "collapsed": false
   },
   "outputs": [
    {
     "data": {
      "text/plain": [
       "{dtype('int64'): Index([u'id', u'raion_popul', u'children_preschool',\n",
       "        u'preschool_education_centers_raion', u'children_school',\n",
       "        u'school_education_centers_raion',\n",
       "        u'school_education_centers_top_20_raion', u'healthcare_centers_raion',\n",
       "        u'university_top_20_raion', u'sport_objects_raion',\n",
       "        ...\n",
       "        u'cafe_count_5000_price_2500', u'cafe_count_5000_price_4000',\n",
       "        u'cafe_count_5000_price_high', u'big_church_count_5000',\n",
       "        u'church_count_5000', u'mosque_count_5000', u'leisure_count_5000',\n",
       "        u'sport_count_5000', u'market_count_5000', u'price_doc'],\n",
       "       dtype='object', length=156),\n",
       " dtype('float64'): Index([u'full_sq', u'life_sq', u'floor', u'max_floor', u'kitch_sq', u'area_m',\n",
       "        u'green_zone_part', u'indust_part', u'metro_min_avto', u'metro_km_avto',\n",
       "        u'kindergarten_km', u'school_km', u'park_km', u'green_zone_km',\n",
       "        u'industrial_km', u'water_treatment_km', u'cemetery_km',\n",
       "        u'incineration_km', u'railroad_station_avto_km',\n",
       "        u'railroad_station_avto_min', u'public_transport_station_km',\n",
       "        u'public_transport_station_min_walk', u'water_km', u'mkad_km',\n",
       "        u'ttk_km', u'sadovoe_km', u'bulvar_ring_km', u'kremlin_km',\n",
       "        u'big_road1_km', u'big_road2_km', u'railroad_km', u'zd_vokzaly_avto_km',\n",
       "        u'bus_terminal_avto_km', u'oil_chemistry_km', u'nuclear_reactor_km',\n",
       "        u'radiation_km', u'power_transmission_line_km',\n",
       "        u'thermal_power_plant_km', u'ts_km', u'big_market_km',\n",
       "        u'market_shop_km', u'fitness_km', u'swim_pool_km', u'ice_rink_km',\n",
       "        u'stadium_km', u'basketball_km', u'hospice_morgue_km',\n",
       "        u'detention_facility_km', u'public_healthcare_km', u'university_km',\n",
       "        u'workplaces_km', u'shopping_centers_km', u'office_km',\n",
       "        u'additional_education_km', u'preschool_km', u'big_church_km',\n",
       "        u'church_synagogue_km', u'mosque_km', u'theater_km', u'museum_km',\n",
       "        u'exhibition_km', u'catering_km', u'green_part_500', u'prom_part_500',\n",
       "        u'green_part_1000', u'prom_part_1000', u'green_part_1500',\n",
       "        u'prom_part_1500', u'green_part_2000', u'prom_part_2000',\n",
       "        u'green_part_3000', u'prom_part_3000', u'green_part_5000',\n",
       "        u'price_full'],\n",
       "       dtype='object'),\n",
       " dtype('O'): Index([u'timestamp', u'product_type', u'sub_area', u'culture_objects_top_25',\n",
       "        u'thermal_power_plant_raion', u'incineration_raion',\n",
       "        u'oil_chemistry_raion', u'radiation_raion', u'railroad_terminal_raion',\n",
       "        u'big_market_raion', u'nuclear_reactor_raion',\n",
       "        u'detention_facility_raion', u'water_1line', u'big_road1_1line',\n",
       "        u'railroad_1line', u'ecology', u'okurg_district'],\n",
       "       dtype='object')}"
      ]
     },
     "execution_count": 4,
     "metadata": {},
     "output_type": "execute_result"
    }
   ],
   "source": [
    "g = traindata.columns.to_series().groupby(traindata.dtypes).groups\n",
    "g# The year is a float and maybe it should be a categorical variable. "
   ]
  },
  {
   "cell_type": "code",
   "execution_count": 5,
   "metadata": {
    "collapsed": false
   },
   "outputs": [],
   "source": [
    "traindata.loc[:, 'log_price_doc'] = np.log(traindata['price_doc'] + 1)\n",
    "\n",
    "traindata.loc[:, 'year'] =  traindata.loc[:,'timestamp'].apply(lambda x: x[0:4])\n",
    "traindata.loc[:, 'month'] =  traindata.loc[:, 'timestamp'].apply(lambda x: x[5:7])\n",
    "testdata.loc[:, 'year'] = testdata.loc[:, 'timestamp'].apply(lambda x: x[0:4])\n",
    "testdata.loc[:, 'month'] = testdata.loc[:, 'timestamp'].apply(lambda x: x[0:4])"
   ]
  },
  {
   "cell_type": "code",
   "execution_count": 6,
   "metadata": {
    "collapsed": false
   },
   "outputs": [
    {
     "name": "stdout",
     "output_type": "stream",
     "text": [
      "timestamp\n",
      "product_type\n",
      "sub_area\n",
      "culture_objects_top_25\n",
      "thermal_power_plant_raion\n",
      "incineration_raion\n",
      "oil_chemistry_raion\n",
      "radiation_raion\n",
      "railroad_terminal_raion\n",
      "big_market_raion\n",
      "nuclear_reactor_raion\n",
      "detention_facility_raion\n",
      "water_1line\n",
      "big_road1_1line\n",
      "railroad_1line\n",
      "ecology\n",
      "okurg_district\n",
      "year\n",
      "month\n"
     ]
    }
   ],
   "source": [
    "from sklearn import model_selection, preprocessing\n",
    "for f in testdata.columns:\n",
    "    if testdata[f].dtype=='object':\n",
    "        print(f)\n",
    "        lbl = preprocessing.LabelEncoder()\n",
    "        lbl.fit(list(testdata[f].values.astype('str')))\n",
    "        testdata[f] = lbl.transform(list(testdata[f].values.astype('str')))"
   ]
  },
  {
   "cell_type": "code",
   "execution_count": 7,
   "metadata": {
    "collapsed": false
   },
   "outputs": [
    {
     "name": "stdout",
     "output_type": "stream",
     "text": [
      "timestamp\n",
      "product_type\n",
      "sub_area\n",
      "culture_objects_top_25\n",
      "thermal_power_plant_raion\n",
      "incineration_raion\n",
      "oil_chemistry_raion\n",
      "radiation_raion\n",
      "railroad_terminal_raion\n",
      "big_market_raion\n",
      "nuclear_reactor_raion\n",
      "detention_facility_raion\n",
      "water_1line\n",
      "big_road1_1line\n",
      "railroad_1line\n",
      "ecology\n",
      "okurg_district\n",
      "year\n",
      "month\n"
     ]
    }
   ],
   "source": [
    "from sklearn import model_selection, preprocessing\n",
    "for f in traindata.columns:\n",
    "    if traindata[f].dtype=='object':\n",
    "        print(f)\n",
    "        lbl = preprocessing.LabelEncoder()\n",
    "        lbl.fit(list(traindata[f].values.astype('str')))\n",
    "        traindata[f] = lbl.transform(list(traindata[f].values.astype('str')))"
   ]
  },
  {
   "cell_type": "markdown",
   "metadata": {},
   "source": [
    "From the EDA we are going to only examine the top 22 columns and the target parameter is the\n",
    "log_price_doc"
   ]
  },
  {
   "cell_type": "code",
   "execution_count": 8,
   "metadata": {
    "collapsed": false
   },
   "outputs": [],
   "source": [
    "feature_cols = ['full_sq', 'life_sq', 'floor', 'max_floor', 'kitch_sq',\n",
    "               'kindergarten_km', 'school_km', 'park_km', 'green_zone_km', 'industrial_km',\n",
    "               'metro_min_avto', 'railroad_km','public_transport_station_km','sub_area',\n",
    "               'swim_pool_km','cemetery_km','public_healthcare_km','fitness_km','radiation_km',\n",
    "               'year','month']\n",
    "target_column  = ['log_price_doc']"
   ]
  },
  {
   "cell_type": "markdown",
   "metadata": {},
   "source": [
    "Filter out only the columns of interest"
   ]
  },
  {
   "cell_type": "code",
   "execution_count": 9,
   "metadata": {
    "collapsed": false
   },
   "outputs": [],
   "source": [
    "X_data =  traindata[feature_cols]\n",
    "y_data =  traindata[target_column]\n",
    "X_testdata = testdata[feature_cols] # note this only for Kaggle and there is no y_testdata\n"
   ]
  },
  {
   "cell_type": "code",
   "execution_count": 10,
   "metadata": {
    "collapsed": false
   },
   "outputs": [
    {
     "name": "stdout",
     "output_type": "stream",
     "text": [
      "(29096, 21)\n",
      "(29096, 1)\n",
      "(7662, 21)\n"
     ]
    }
   ],
   "source": [
    "X_train = X_data.values\n",
    "Y_train = y_data.values\n",
    "X_test = X_testdata.values\n",
    "\n",
    "print(X_train.shape)\n",
    "print(Y_train.shape)\n",
    "print(X_test.shape)"
   ]
  },
  {
   "cell_type": "markdown",
   "metadata": {},
   "source": [
    "## Decision Tree Models "
   ]
  },
  {
   "cell_type": "code",
   "execution_count": 11,
   "metadata": {
    "collapsed": false
   },
   "outputs": [],
   "source": [
    "from sklearn.tree import DecisionTreeRegressor \n",
    "tree = DecisionTreeRegressor().fit(X_train, Y_train)"
   ]
  },
  {
   "cell_type": "code",
   "execution_count": 12,
   "metadata": {
    "collapsed": false
   },
   "outputs": [
    {
     "data": {
      "image/png": "[encoded data removed]",
      "text/plain": [
       "<matplotlib.figure.Figure at 0x110e48f10>"
      ]
     },
     "metadata": {},
     "output_type": "display_data"
    }
   ],
   "source": [
    "log_y_test = tree.predict(X_test)\n",
    "\n",
    "fig, ax = plt.subplots(figsize=(10,6))\n",
    "rects = ax.hist(log_y_test, color ='r')\n",
    "ax.set_xlabel(\"Predicted Log(Price + 1)\")\n",
    "ax.set_title(\"\")\n",
    "plt.show()\n"
   ]
  },
  {
   "cell_type": "code",
   "execution_count": 13,
   "metadata": {
    "collapsed": false
   },
   "outputs": [
    {
     "name": "stdout",
     "output_type": "stream",
     "text": [
      "The R^2 on the training set:  0.999878\n"
     ]
    }
   ],
   "source": [
    "print(\"The R^2 on the training set:  {:.6f}\".format(tree.score(X_train, Y_train)))"
   ]
  },
  {
   "cell_type": "markdown",
   "metadata": {},
   "source": [
    "This is a single Decision Tree and we know that we are overfitting. And since this is model is not going to produce a high accuracy we shall split the training data to evaluate the model."
   ]
  },
  {
   "cell_type": "code",
   "execution_count": 14,
   "metadata": {
    "collapsed": false
   },
   "outputs": [],
   "source": [
    "xtree_train, xtree_test, ytree_train, ytree_test = model_selection.train_test_split(X_train,Y_train,random_state=42)"
   ]
  },
  {
   "cell_type": "code",
   "execution_count": 15,
   "metadata": {
    "collapsed": false
   },
   "outputs": [
    {
     "name": "stdout",
     "output_type": "stream",
     "text": [
      "Accuracy on training set 1.000\n",
      "Accuracy on test set 0.216\n",
      "The severe overfitting of the unrestrained Decision Tree!!\n"
     ]
    }
   ],
   "source": [
    "tree = DecisionTreeRegressor().fit(xtree_train, ytree_train)\n",
    "\n",
    "print(\"Accuracy on training set {:.3f}\".format(tree.score(xtree_train, ytree_train)))\n",
    "print(\"Accuracy on test set {:.3f}\".format(tree.score(xtree_test, ytree_test)))\n",
    "print(\"The severe overfitting of the unrestrained Decision Tree!!\")"
   ]
  },
  {
   "cell_type": "code",
   "execution_count": 16,
   "metadata": {
    "collapsed": false
   },
   "outputs": [],
   "source": [
    "from sklearn.model_selection import GridSearchCV"
   ]
  },
  {
   "cell_type": "code",
   "execution_count": 17,
   "metadata": {
    "collapsed": true
   },
   "outputs": [],
   "source": [
    "def report(grid_scores, n_top=3):\n",
    "    \"\"\"Report top n_top parameters settings, default n_top=3.\n",
    "\n",
    "    Args\n",
    "    ----\n",
    "    grid_scores -- output from grid or random search\n",
    "    n_top -- how many to report, of top models\n",
    "\n",
    "    Returns\n",
    "    -------\n",
    "    top_params -- [dict] top parameter settings found in\n",
    "                  search\n",
    "    \"\"\"\n",
    "    top_scores = sorted(grid_scores,\n",
    "                        key=itemgetter(1),\n",
    "                        reverse=True)[:n_top]\n",
    "    for i, score in enumerate(top_scores):\n",
    "        print(\"Model with rank: {0}\".format(i + 1))\n",
    "        print((\"Mean validation score: \"\n",
    "               \"{0:.3f} (std: {1:.3f})\").format(\n",
    "               score.mean_validation_score,\n",
    "               np.std(score.cv_validation_scores)))\n",
    "        print(\"Parameters: {0}\".format(score.parameters))\n",
    "        print(\"\")\n",
    "\n",
    "    return top_scores[0].parameters"
   ]
  },
  {
   "cell_type": "code",
   "execution_count": 18,
   "metadata": {
    "collapsed": true
   },
   "outputs": [],
   "source": [
    "def run_gridsearch(X, y, clf, param_grid, cv=5):\n",
    "    \"\"\"Run a grid search for best Decision Tree parameters.\n",
    "\n",
    "    Args\n",
    "    ----\n",
    "    X -- features\n",
    "    y -- targets \n",
    "    cf -- scikit-learn Decision Tree\n",
    "    param_grid -- [dict] parameter settings to test\n",
    "    cv -- fold of cross-validation, default 5\n",
    "\n",
    "    Returns\n",
    "    -------\n",
    "    top_params -- [dict] from report()\n",
    "    \"\"\"\n",
    "    grid_search = GridSearchCV(clf,\n",
    "                               param_grid=param_grid,\n",
    "                               cv=cv, n_jobs = 3)\n",
    "    start = time.time()\n",
    "    grid_search.fit(X, y)\n",
    "\n",
    "    print((\"\\nGridSearchCV took {:.2f} \"\n",
    "           \"seconds for {:d} candidate \"\n",
    "           \"parameter settings.\").format(time.time() - start,\n",
    "                len(grid_search.grid_scores_)))\n",
    "\n",
    "    top_params = report(grid_search.grid_scores_, 3)\n",
    "    return  top_params, grid_search"
   ]
  },
  {
   "cell_type": "code",
   "execution_count": 19,
   "metadata": {
    "collapsed": false
   },
   "outputs": [
    {
     "name": "stdout",
     "output_type": "stream",
     "text": [
      "-- Grid Parameter Search via 5-fold CV\n",
      "\n",
      "GridSearchCV took 48.76 seconds for 144 candidate parameter settings.\n",
      "Model with rank: 1\n",
      "Mean validation score: 0.537 (std: 0.006)\n",
      "Parameters: {'min_samples_split': 10, 'max_leaf_nodes': None, 'max_depth': 10, 'min_samples_leaf': 10}\n",
      "\n",
      "Model with rank: 2\n",
      "Mean validation score: 0.537 (std: 0.006)\n",
      "Parameters: {'min_samples_split': 20, 'max_leaf_nodes': None, 'max_depth': 10, 'min_samples_leaf': 10}\n",
      "\n",
      "Model with rank: 3\n",
      "Mean validation score: 0.537 (std: 0.006)\n",
      "Parameters: {'min_samples_split': 2, 'max_leaf_nodes': None, 'max_depth': 10, 'min_samples_leaf': 10}\n",
      "\n"
     ]
    },
    {
     "name": "stderr",
     "output_type": "stream",
     "text": [
      "/Users/yogadude/anaconda/lib/python2.7/site-packages/sklearn/model_selection/_search.py:667: DeprecationWarning: The grid_scores_ attribute was deprecated in version 0.18 in favor of the more elaborate cv_results_ attribute. The grid_scores_ attribute will not be available from 0.20\n",
      "  DeprecationWarning)\n",
      "/Users/yogadude/anaconda/lib/python2.7/site-packages/sklearn/model_selection/_search.py:667: DeprecationWarning: The grid_scores_ attribute was deprecated in version 0.18 in favor of the more elaborate cv_results_ attribute. The grid_scores_ attribute will not be available from 0.20\n",
      "  DeprecationWarning)\n"
     ]
    }
   ],
   "source": [
    "print(\"-- Grid Parameter Search via 5-fold CV\")\n",
    "\n",
    "# set of parameters to test\n",
    "param_grid = {\"min_samples_split\": [2, 10, 20],\n",
    "              \"max_depth\": [None, 2, 5, 10],\n",
    "              \"min_samples_leaf\": [1, 5, 10],\n",
    "              \"max_leaf_nodes\": [None, 5, 10, 20],\n",
    "              }\n",
    "\n",
    "dt = DecisionTreeRegressor()\n",
    "ts_gs, dt_grid= run_gridsearch(xtree_train, ytree_train, dt, param_grid, cv=5)"
   ]
  },
  {
   "cell_type": "code",
   "execution_count": 20,
   "metadata": {
    "collapsed": false
   },
   "outputs": [
    {
     "name": "stdout",
     "output_type": "stream",
     "text": [
      "\n",
      "-- Best Parameters:\n",
      "parameter: min_samples_split    setting: 10\n",
      "parameter: max_leaf_nodes       setting: None\n",
      "parameter: max_depth            setting: 10\n",
      "parameter: min_samples_leaf     setting: 10\n"
     ]
    }
   ],
   "source": [
    "print(\"\\n-- Best Parameters:\")\n",
    "for k, v in ts_gs.items():\n",
    "    print(\"parameter: {:<20s} setting: {}\".format(k, v))"
   ]
  },
  {
   "cell_type": "code",
   "execution_count": 21,
   "metadata": {
    "collapsed": false
   },
   "outputs": [
    {
     "name": "stdout",
     "output_type": "stream",
     "text": [
      "Accuracy on training set 0.628\n",
      "Accuracy on test set 0.568\n",
      "No longer overfitting of the Decision Tree!!\n"
     ]
    }
   ],
   "source": [
    "best_tree = DecisionTreeRegressor(min_samples_split = 20, max_depth=10,min_samples_leaf=10).fit(xtree_train, ytree_train)\n",
    "\n",
    "print(\"Accuracy on training set {:.3f}\".format(best_tree.score(xtree_train, ytree_train)))\n",
    "print(\"Accuracy on test set {:.3f}\".format(best_tree.score(xtree_test, ytree_test)))\n",
    "print(\"No longer overfitting of the Decision Tree!!\")"
   ]
  },
  {
   "cell_type": "code",
   "execution_count": 53,
   "metadata": {
    "collapsed": false,
    "scrolled": true
   },
   "outputs": [
    {
     "data": {
      "text/plain": [
       "array([[[[ 0.2031854 ,  0.3062827 ,  0.36373875,  0.39715715],\n",
       "         [ 0.39867576,  0.44529557,  0.47272451,  0.47246823],\n",
       "         [ 0.47236833,  0.3879964 ,  0.3879964 ,  0.3879964 ]],\n",
       "\n",
       "        [[ 0.3879964 ,  0.3879964 ,  0.3879964 ,  0.3879964 ],\n",
       "         [ 0.3879964 ,  0.3879964 ,  0.46895246,  0.46895246],\n",
       "         [ 0.46895246,  0.46895246,  0.46895246,  0.46895246]],\n",
       "\n",
       "        [[ 0.46895246,  0.46895246,  0.46895246,  0.50879353],\n",
       "         [ 0.50879353,  0.50879353,  0.50879353,  0.50879353],\n",
       "         [ 0.50879353,  0.50879353,  0.50879353,  0.50879353]],\n",
       "\n",
       "        [[ 0.34882495,  0.34882495,  0.34882495,  0.34882495],\n",
       "         [ 0.34882495,  0.34882495,  0.34882495,  0.34882495],\n",
       "         [ 0.34882495,  0.3879964 ,  0.3879964 ,  0.3879964 ]]],\n",
       "\n",
       "\n",
       "       [[[ 0.3879964 ,  0.3879964 ,  0.3879964 ,  0.3879964 ],\n",
       "         [ 0.3879964 ,  0.3879964 ,  0.44389983,  0.44389983],\n",
       "         [ 0.44389983,  0.44389983,  0.44389983,  0.44389983]],\n",
       "\n",
       "        [[ 0.44389983,  0.44389983,  0.44389983,  0.44389983],\n",
       "         [ 0.44389983,  0.44389983,  0.44389983,  0.44389983],\n",
       "         [ 0.44389983,  0.44389983,  0.44389983,  0.44389983]],\n",
       "\n",
       "        [[ 0.51227945,  0.51212316,  0.51238275,  0.51230932],\n",
       "         [ 0.51230932,  0.51230932,  0.51217057,  0.51202619],\n",
       "         [ 0.51202619,  0.3879964 ,  0.3879964 ,  0.3879964 ]],\n",
       "\n",
       "        [[ 0.3879964 ,  0.3879964 ,  0.3879964 ,  0.3879964 ],\n",
       "         [ 0.3879964 ,  0.3879964 ,  0.46895246,  0.46895246],\n",
       "         [ 0.46895246,  0.46895246,  0.46895246,  0.46895246]]],\n",
       "\n",
       "\n",
       "       [[[ 0.46895246,  0.46895246,  0.46895246,  0.5092688 ],\n",
       "         [ 0.5092688 ,  0.5092688 ,  0.5092688 ,  0.5092688 ],\n",
       "         [ 0.5092688 ,  0.5092688 ,  0.5092688 ,  0.5092688 ]],\n",
       "\n",
       "        [[ 0.49979099,  0.50839506,  0.51519119,  0.52450899],\n",
       "         [ 0.52385592,  0.53133691,  0.53655899,  0.53684054],\n",
       "         [ 0.53659015,  0.3879964 ,  0.3879964 ,  0.3879964 ]],\n",
       "\n",
       "        [[ 0.3879964 ,  0.3879964 ,  0.3879964 ,  0.3879964 ],\n",
       "         [ 0.3879964 ,  0.3879964 ,  0.46895246,  0.46895246],\n",
       "         [ 0.46895246,  0.46895246,  0.46895246,  0.46895246]],\n",
       "\n",
       "        [[ 0.46895246,  0.46895246,  0.46895246,  0.50879353],\n",
       "         [ 0.50879353,  0.50879353,  0.50879353,  0.50879353],\n",
       "         [ 0.50879353,  0.50879353,  0.50879353,  0.50879353]]]])"
      ]
     },
     "execution_count": 53,
     "metadata": {},
     "output_type": "execute_result"
    }
   ],
   "source": [
    "dt_grid.cv_results_['mean_test_score'].reshape(3,4,3,4)\n",
    "# sns.heatmap(rf_grid.cv_results_['mean_test_score'].reshape(10,11),\n",
    "#             xticklabels=param_grid[\"n_estimators\"], yticklabels=param_grid[\"max_features\"])"
   ]
  },
  {
   "cell_type": "markdown",
   "metadata": {
    "collapsed": true
   },
   "source": [
    "Random Forest implementation "
   ]
  },
  {
   "cell_type": "code",
   "execution_count": 22,
   "metadata": {
    "collapsed": false,
    "scrolled": true
   },
   "outputs": [
    {
     "name": "stdout",
     "output_type": "stream",
     "text": [
      "Accuracy on training set 0.922\n",
      "Accuracy on test set 0.581\n",
      "Also overfitting of the unrestrained Random Forest!!\n"
     ]
    }
   ],
   "source": [
    "from sklearn.ensemble import RandomForestRegressor\n",
    "# We start with using the default parameters \n",
    "forest = RandomForestRegressor()\n",
    "forest.fit(xtree_train, ytree_train.ravel())\n",
    "print(\"Accuracy on training set {:.3f}\".format(forest.score(xtree_train, ytree_train)))\n",
    "print(\"Accuracy on test set {:.3f}\".format(forest.score(xtree_test, ytree_test)))\n",
    "print(\"Also overfitting of the unrestrained Random Forest!!\")"
   ]
  },
  {
   "cell_type": "code",
   "execution_count": 23,
   "metadata": {
    "collapsed": false
   },
   "outputs": [
    {
     "data": {
      "text/plain": [
       "RandomForestRegressor(bootstrap=True, criterion='mse', max_depth=None,\n",
       "           max_features='auto', max_leaf_nodes=None,\n",
       "           min_impurity_split=1e-07, min_samples_leaf=1,\n",
       "           min_samples_split=2, min_weight_fraction_leaf=0.0,\n",
       "           n_estimators=10, n_jobs=1, oob_score=False, random_state=None,\n",
       "           verbose=0, warm_start=False)"
      ]
     },
     "execution_count": 23,
     "metadata": {},
     "output_type": "execute_result"
    }
   ],
   "source": [
    "blah = RandomForestRegressor()\n",
    "blah"
   ]
  },
  {
   "cell_type": "code",
   "execution_count": 61,
   "metadata": {
    "collapsed": false
   },
   "outputs": [
    {
     "name": "stdout",
     "output_type": "stream",
     "text": [
      "-- Grid Parameter Search via 5-fold CV\n",
      "\n",
      "GridSearchCV took 45016.63 seconds for 160 candidate parameter settings.\n",
      "Model with rank: 1\n",
      "Mean validation score: 0.607 (std: 0.015)\n",
      "Parameters: {'max_features': 5, 'n_estimators': 900}\n",
      "\n",
      "Model with rank: 2\n",
      "Mean validation score: 0.607 (std: 0.016)\n",
      "Parameters: {'max_features': 5, 'n_estimators': 700}\n",
      "\n",
      "Model with rank: 3\n",
      "Mean validation score: 0.607 (std: 0.015)\n",
      "Parameters: {'max_features': 5, 'n_estimators': 650}\n",
      "\n"
     ]
    },
    {
     "name": "stderr",
     "output_type": "stream",
     "text": [
      "/Users/yogadude/anaconda/lib/python2.7/site-packages/sklearn/model_selection/_search.py:667: DeprecationWarning: The grid_scores_ attribute was deprecated in version 0.18 in favor of the more elaborate cv_results_ attribute. The grid_scores_ attribute will not be available from 0.20\n",
      "  DeprecationWarning)\n",
      "/Users/yogadude/anaconda/lib/python2.7/site-packages/sklearn/model_selection/_search.py:667: DeprecationWarning: The grid_scores_ attribute was deprecated in version 0.18 in favor of the more elaborate cv_results_ attribute. The grid_scores_ attribute will not be available from 0.20\n",
      "  DeprecationWarning)\n"
     ]
    }
   ],
   "source": [
    "print(\"-- Grid Parameter Search via 5-fold CV\")\n",
    "\n",
    "n_estimate = list(range(400, 950,50))\n",
    "n_estimate =  n_estimate[1:]\n",
    "maxlist_features = list(range(5,xtree_train.shape[1]))\n",
    "# set of parameters to test\n",
    "param_grid = {\"n_estimators\": n_estimate,\n",
    "              \"max_features\": maxlist_features\n",
    "              }\n",
    "rf = RandomForestRegressor()\n",
    "ts_gs, rf_grid = run_gridsearch(xtree_train, ytree_train.ravel(), rf, param_grid, cv=5)"
   ]
  },
  {
   "cell_type": "code",
   "execution_count": 65,
   "metadata": {
    "collapsed": false
   },
   "outputs": [
    {
     "name": "stdout",
     "output_type": "stream",
     "text": [
      "10\n",
      "16\n"
     ]
    }
   ],
   "source": [
    "print len(n_estimate)\n",
    "print len(maxlist_features)"
   ]
  },
  {
   "cell_type": "code",
   "execution_count": 62,
   "metadata": {
    "collapsed": false
   },
   "outputs": [
    {
     "name": "stdout",
     "output_type": "stream",
     "text": [
      "\n",
      "-- Best Parameters:\n",
      "parameter: max_features         setting: 5\n",
      "parameter: n_estimators         setting: 900\n"
     ]
    }
   ],
   "source": [
    "print(\"\\n-- Best Parameters:\")\n",
    "for k, v in ts_gs.items():\n",
    "    print(\"parameter: {:<20s} setting: {}\".format(k, v))"
   ]
  },
  {
   "cell_type": "code",
   "execution_count": 66,
   "metadata": {
    "collapsed": false
   },
   "outputs": [
    {
     "name": "stdout",
     "output_type": "stream",
     "text": [
      "Accuracy on training set 0.948\n",
      "Accuracy on test set 0.629\n",
      "No longer overfitting of the Random Forest, as much!!\n"
     ]
    }
   ],
   "source": [
    "best_rf = RandomForestRegressor(max_features = 5, n_estimators = 900).fit(xtree_train, ytree_train.ravel())\n",
    "\n",
    "print(\"Accuracy on training set {:.3f}\".format(best_rf.score(xtree_train, ytree_train)))\n",
    "print(\"Accuracy on test set {:.3f}\".format(best_rf.score(xtree_test, ytree_test)))\n",
    "print(\"No longer overfitting of the Random Forest, as much!!\")"
   ]
  },
  {
   "cell_type": "code",
   "execution_count": 68,
   "metadata": {
    "collapsed": false
   },
   "outputs": [
    {
     "data": {
      "image/png": "[encoded data removed]",
      "text/plain": [
       "<matplotlib.figure.Figure at 0x1d4176690>"
      ]
     },
     "metadata": {},
     "output_type": "display_data"
    }
   ],
   "source": [
    "sns.heatmap(rf_grid.cv_results_['mean_test_score'].reshape(10,16),\n",
    "            xticklabels=param_grid[\"max_features\"], yticklabels=param_grid[\"n_estimators\"])\n",
    "plt.show()"
   ]
  },
  {
   "cell_type": "code",
   "execution_count": 60,
   "metadata": {
    "collapsed": false
   },
   "outputs": [
    {
     "data": {
      "text/plain": [
       "RandomForestRegressor(bootstrap=True, criterion='mse', max_depth=None,\n",
       "           max_features=10, max_leaf_nodes=None, min_impurity_split=1e-07,\n",
       "           min_samples_leaf=1, min_samples_split=2,\n",
       "           min_weight_fraction_leaf=0.0, n_estimators=700, n_jobs=1,\n",
       "           oob_score=False, random_state=None, verbose=0, warm_start=False)"
      ]
     },
     "execution_count": 60,
     "metadata": {},
     "output_type": "execute_result"
    }
   ],
   "source": []
  },
  {
   "cell_type": "code",
   "execution_count": null,
   "metadata": {
    "collapsed": true
   },
   "outputs": [],
   "source": []
  }
 ],
 "metadata": {
  "anaconda-cloud": {},
  "kernelspec": {
   "display_name": "Python [conda root]",
   "language": "python",
   "name": "conda-root-py"
  },
  "language_info": {
   "codemirror_mode": {
    "name": "ipython",
    "version": 2
   },
   "file_extension": ".py",
   "mimetype": "text/x-python",
   "name": "python",
   "nbconvert_exporter": "python",
   "pygments_lexer": "ipython2",
   "version": "2.7.12"
  }
 },
 "nbformat": 4,
 "nbformat_minor": 2
}
