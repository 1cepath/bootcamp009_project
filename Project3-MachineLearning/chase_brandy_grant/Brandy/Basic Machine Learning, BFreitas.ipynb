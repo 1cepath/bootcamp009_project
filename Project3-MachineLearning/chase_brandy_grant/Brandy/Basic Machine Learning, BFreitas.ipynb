{
 "cells": [
  {
   "cell_type": "markdown",
   "metadata": {},
   "source": [
    "# Basic ML:\n",
    "### Trying out some basic ML on the cleaned up datasets"
   ]
  },
  {
   "cell_type": "code",
   "execution_count": 19,
   "metadata": {
    "collapsed": true
   },
   "outputs": [],
   "source": [
    "#import packages\n",
    "import pandas as pd\n",
    "import numpy as np\n",
    "import scipy as sp\n",
    "import sklearn\n",
    "import matplotlib.pyplot as plt\n",
    "%matplotlib inline"
   ]
  },
  {
   "cell_type": "code",
   "execution_count": 37,
   "metadata": {
    "collapsed": false
   },
   "outputs": [],
   "source": [
    "#import data, test and train\n",
    "train = pd.read_csv(\"train_final.csv\", parse_dates=['timestamp'])\n",
    "test = pd.read_csv(\"test_final.csv\", parse_dates=['timestamp'])"
   ]
  },
  {
   "cell_type": "code",
   "execution_count": 15,
   "metadata": {
    "collapsed": false
   },
   "outputs": [
    {
     "data": {
      "text/plain": [
       "Index([u'id', u'timestamp', u'full_sq', u'floor', u'max_floor',\n",
       "       u'product_type', u'sub_area', u'metro_min_walk', u'kindergarten_km',\n",
       "       u'park_km', u'kremlin_km', u'oil_chemistry_km', u'nuclear_reactor_km',\n",
       "       u'big_market_km', u'market_shop_km', u'detention_facility_km',\n",
       "       u'public_healthcare_km', u'university_km', u'workplaces_km',\n",
       "       u'preschool_km', u'big_church_km', u'okurg_district', u'pop_density',\n",
       "       u'elder_ratio', u'youth_ratio', u'floor_ratio', u'year', u'month',\n",
       "       u'oil_urals', u'cpi', u'eurrub',\n",
       "       u'average_provision_of_build_contract_moscow', u'micex',\n",
       "       u'mortgage_rate', u'rent_price_4+room_bus', u'sd_oil_yearly',\n",
       "       u'sd_cpi_yearly', u'sd_eurrub_yearly', u'sd_micex_yearly',\n",
       "       u'sd_mortgage_yearly', u'sd_rent_yearly', u'price_doc',\n",
       "       u'log_price_doc'],\n",
       "      dtype='object')"
      ]
     },
     "execution_count": 15,
     "metadata": {},
     "output_type": "execute_result"
    }
   ],
   "source": [
    "train.columns"
   ]
  },
  {
   "cell_type": "code",
   "execution_count": null,
   "metadata": {
    "collapsed": true
   },
   "outputs": [],
   "source": [
    "train_dum = pd.get_dummies(train['sub_area'], prefix='sub', prefix_sep='__')\n",
    "sub.head()\n",
    "train2 = pd.concat([train2.drop('sub_area', axis=1), sub], axis=1)\n",
    "\n",
    "prodtype = pd.get_dummies(train2['product_type'], prefix='prodtype', prefix_sep='__')\n",
    "prodtype.head()\n",
    "train2 = pd.concat([train2.drop('product_type', axis=1), prodtype], axis=1)\n"
   ]
  },
  {
   "cell_type": "code",
   "execution_count": null,
   "metadata": {
    "collapsed": true
   },
   "outputs": [],
   "source": []
  },
  {
   "cell_type": "code",
   "execution_count": null,
   "metadata": {
    "collapsed": true
   },
   "outputs": [],
   "source": [
    "'full_sq' 'rent_price_4+room_bus' 'sd_cpi_yearly' 'floor_ratio' 'metro_min_walk', 'kindergarten_km', 'nuclear_reactor_km','big_market_km', 'market_shop_km', 'detention_facility_km','public_healthcare_km', 'university_km', 'workplaces_km', 'pop_density'\n",
    "       u'preschool_km', u'big_church_km', u'okurg_district', u'pop_density',"
   ]
  },
  {
   "cell_type": "code",
   "execution_count": null,
   "metadata": {
    "collapsed": true
   },
   "outputs": [],
   "source": [
    "'product_type', u'sub_area', u'metro_min_walk', u'kindergarten_km',\n",
    "       u'park_km', u'kremlin_km', u'oil_chemistry_km', u'nuclear_reactor_km',\n",
    "       u'big_market_km', u'market_shop_km', u'detention_facility_km',\n",
    "       u'public_healthcare_km', u'university_km', u'workplaces_km',\n",
    "       u'preschool_km', u'big_church_km', u'okurg_district', u'pop_density',\n",
    "       u'elder_ratio', u'youth_ratio', u'floor_ratio', u'year', u'month',\n",
    "       u'oil_urals', u'cpi', u'eurrub',\n",
    "       u'average_provision_of_build_contract_moscow', u'micex',\n",
    "       u'mortgage_rate', u'rent_price_4+room_bus', u'sd_oil_yearly',\n",
    "       u'sd_cpi_yearly', u'sd_eurrub_yearly', u'sd_micex_yearly',\n",
    "       u'sd_mortgage_yearly', u'sd_rent_yearly', u'price_doc',\n",
    "       u'log_price_doc'],"
   ]
  },
  {
   "cell_type": "code",
   "execution_count": 38,
   "metadata": {
    "collapsed": true
   },
   "outputs": [],
   "source": [
    "#add a log price column:\n",
    "train.loc[:, 'log_price_doc'] = np.log(train['price_doc'] + 1)"
   ]
  },
  {
   "cell_type": "code",
   "execution_count": 39,
   "metadata": {
    "collapsed": true
   },
   "outputs": [],
   "source": [
    "train_encode = train.copy()"
   ]
  },
  {
   "cell_type": "code",
   "execution_count": 40,
   "metadata": {
    "collapsed": false
   },
   "outputs": [
    {
     "name": "stdout",
     "output_type": "stream",
     "text": [
      "product_type\n",
      "sub_area\n",
      "okurg_district\n"
     ]
    }
   ],
   "source": [
    "#label encode as a trial for the train data using label encoder:\n",
    "from sklearn import model_selection, preprocessing\n",
    "for f in train_encode.columns:\n",
    "    if train_encode[f].dtype=='object':\n",
    "        print(f)\n",
    "        lbl = preprocessing.LabelEncoder()\n",
    "        lbl.fit(list(train_encode[f].values.astype('str')))\n",
    "        train_encode[f] = lbl.transform(list(train_encode[f].values.astype('str')))"
   ]
  },
  {
   "cell_type": "code",
   "execution_count": null,
   "metadata": {
    "collapsed": true
   },
   "outputs": [],
   "source": []
  },
  {
   "cell_type": "code",
   "execution_count": 5,
   "metadata": {
    "collapsed": false
   },
   "outputs": [
    {
     "data": {
      "text/plain": [
       "Index([u'id', u'timestamp', u'full_sq', u'floor', u'max_floor',\n",
       "       u'product_type', u'sub_area', u'metro_min_walk', u'kindergarten_km',\n",
       "       u'park_km', u'kremlin_km', u'oil_chemistry_km', u'nuclear_reactor_km',\n",
       "       u'big_market_km', u'market_shop_km', u'detention_facility_km',\n",
       "       u'public_healthcare_km', u'university_km', u'workplaces_km',\n",
       "       u'preschool_km', u'big_church_km', u'okurg_district', u'pop_density',\n",
       "       u'elder_ratio', u'youth_ratio', u'floor_ratio', u'year', u'month',\n",
       "       u'oil_urals', u'cpi', u'eurrub',\n",
       "       u'average_provision_of_build_contract_moscow', u'micex',\n",
       "       u'mortgage_rate', u'rent_price_4+room_bus', u'sd_oil_yearly',\n",
       "       u'sd_cpi_yearly', u'sd_eurrub_yearly', u'sd_micex_yearly',\n",
       "       u'sd_mortgage_yearly', u'sd_rent_yearly'],\n",
       "      dtype='object')"
      ]
     },
     "execution_count": 5,
     "metadata": {},
     "output_type": "execute_result"
    }
   ],
   "source": [
    "test.columns"
   ]
  },
  {
   "cell_type": "markdown",
   "metadata": {},
   "source": [
    "## Initial EDA for the train set to explain features:"
   ]
  },
  {
   "cell_type": "code",
   "execution_count": 41,
   "metadata": {
    "collapsed": false
   },
   "outputs": [
    {
     "data": {
      "text/html": [
       "<div>\n",
       "<style>\n",
       "    .dataframe thead tr:only-child th {\n",
       "        text-align: right;\n",
       "    }\n",
       "\n",
       "    .dataframe thead th {\n",
       "        text-align: left;\n",
       "    }\n",
       "\n",
       "    .dataframe tbody tr th {\n",
       "        vertical-align: top;\n",
       "    }\n",
       "</style>\n",
       "<table border=\"1\" class=\"dataframe\">\n",
       "  <thead>\n",
       "    <tr style=\"text-align: right;\">\n",
       "      <th></th>\n",
       "      <th>mean</th>\n",
       "      <th>count</th>\n",
       "    </tr>\n",
       "    <tr>\n",
       "      <th>okurg_district</th>\n",
       "      <th></th>\n",
       "      <th></th>\n",
       "    </tr>\n",
       "  </thead>\n",
       "  <tbody>\n",
       "    <tr>\n",
       "      <th>Central</th>\n",
       "      <td>15.858084</td>\n",
       "      <td>1614</td>\n",
       "    </tr>\n",
       "    <tr>\n",
       "      <th>Eastern</th>\n",
       "      <td>15.551603</td>\n",
       "      <td>2894</td>\n",
       "    </tr>\n",
       "    <tr>\n",
       "      <th>North Eastern</th>\n",
       "      <td>15.627652</td>\n",
       "      <td>2210</td>\n",
       "    </tr>\n",
       "    <tr>\n",
       "      <th>North Western</th>\n",
       "      <td>15.836879</td>\n",
       "      <td>2060</td>\n",
       "    </tr>\n",
       "    <tr>\n",
       "      <th>Northern</th>\n",
       "      <td>15.635618</td>\n",
       "      <td>2218</td>\n",
       "    </tr>\n",
       "    <tr>\n",
       "      <th>Novomoskovsky</th>\n",
       "      <td>15.416950</td>\n",
       "      <td>6088</td>\n",
       "    </tr>\n",
       "    <tr>\n",
       "      <th>South Eastern</th>\n",
       "      <td>15.545286</td>\n",
       "      <td>3919</td>\n",
       "    </tr>\n",
       "    <tr>\n",
       "      <th>South Western</th>\n",
       "      <td>15.809136</td>\n",
       "      <td>2417</td>\n",
       "    </tr>\n",
       "    <tr>\n",
       "      <th>Southern</th>\n",
       "      <td>15.684957</td>\n",
       "      <td>3186</td>\n",
       "    </tr>\n",
       "    <tr>\n",
       "      <th>Troitsky</th>\n",
       "      <td>15.175558</td>\n",
       "      <td>472</td>\n",
       "    </tr>\n",
       "    <tr>\n",
       "      <th>Western</th>\n",
       "      <td>15.750562</td>\n",
       "      <td>2140</td>\n",
       "    </tr>\n",
       "    <tr>\n",
       "      <th>Zelenograd</th>\n",
       "      <td>15.411701</td>\n",
       "      <td>924</td>\n",
       "    </tr>\n",
       "  </tbody>\n",
       "</table>\n",
       "</div>"
      ],
      "text/plain": [
       "                     mean  count\n",
       "okurg_district                  \n",
       "Central         15.858084   1614\n",
       "Eastern         15.551603   2894\n",
       "North Eastern   15.627652   2210\n",
       "North Western   15.836879   2060\n",
       "Northern        15.635618   2218\n",
       "Novomoskovsky   15.416950   6088\n",
       "South Eastern   15.545286   3919\n",
       "South Western   15.809136   2417\n",
       "Southern        15.684957   3186\n",
       "Troitsky        15.175558    472\n",
       "Western         15.750562   2140\n",
       "Zelenograd      15.411701    924"
      ]
     },
     "execution_count": 41,
     "metadata": {},
     "output_type": "execute_result"
    }
   ],
   "source": [
    "#plot subarea and prices (maybe add a map for the presentation with the prices on them)\n",
    "train.groupby('okurg_district')['log_price_doc'].agg(['mean','count'])"
   ]
  },
  {
   "cell_type": "code",
   "execution_count": 42,
   "metadata": {
    "collapsed": true
   },
   "outputs": [],
   "source": [
    "train_dollars = train.copy()"
   ]
  },
  {
   "cell_type": "code",
   "execution_count": 43,
   "metadata": {
    "collapsed": false
   },
   "outputs": [],
   "source": [
    "train_dollars[\"dollars\"]= (train_dollars[\"price_doc\"] * 0.018).astype(\"float\")"
   ]
  },
  {
   "cell_type": "code",
   "execution_count": 44,
   "metadata": {
    "collapsed": false
   },
   "outputs": [
    {
     "data": {
      "text/html": [
       "<div>\n",
       "<style>\n",
       "    .dataframe thead tr:only-child th {\n",
       "        text-align: right;\n",
       "    }\n",
       "\n",
       "    .dataframe thead th {\n",
       "        text-align: left;\n",
       "    }\n",
       "\n",
       "    .dataframe tbody tr th {\n",
       "        vertical-align: top;\n",
       "    }\n",
       "</style>\n",
       "<table border=\"1\" class=\"dataframe\">\n",
       "  <thead>\n",
       "    <tr style=\"text-align: right;\">\n",
       "      <th></th>\n",
       "      <th>mean</th>\n",
       "      <th>count</th>\n",
       "    </tr>\n",
       "    <tr>\n",
       "      <th>okurg_district</th>\n",
       "      <th></th>\n",
       "      <th></th>\n",
       "    </tr>\n",
       "  </thead>\n",
       "  <tbody>\n",
       "    <tr>\n",
       "      <th>Central</th>\n",
       "      <td>186801.964082</td>\n",
       "      <td>1614</td>\n",
       "    </tr>\n",
       "    <tr>\n",
       "      <th>Eastern</th>\n",
       "      <td>120452.586860</td>\n",
       "      <td>2894</td>\n",
       "    </tr>\n",
       "    <tr>\n",
       "      <th>North Eastern</th>\n",
       "      <td>130582.773106</td>\n",
       "      <td>2210</td>\n",
       "    </tr>\n",
       "    <tr>\n",
       "      <th>North Western</th>\n",
       "      <td>156752.219228</td>\n",
       "      <td>2060</td>\n",
       "    </tr>\n",
       "    <tr>\n",
       "      <th>Northern</th>\n",
       "      <td>132921.472334</td>\n",
       "      <td>2218</td>\n",
       "    </tr>\n",
       "    <tr>\n",
       "      <th>Novomoskovsky</th>\n",
       "      <td>94533.530218</td>\n",
       "      <td>6088</td>\n",
       "    </tr>\n",
       "    <tr>\n",
       "      <th>South Eastern</th>\n",
       "      <td>112187.654295</td>\n",
       "      <td>3919</td>\n",
       "    </tr>\n",
       "    <tr>\n",
       "      <th>South Western</th>\n",
       "      <td>163100.589900</td>\n",
       "      <td>2417</td>\n",
       "    </tr>\n",
       "    <tr>\n",
       "      <th>Southern</th>\n",
       "      <td>135905.786147</td>\n",
       "      <td>3186</td>\n",
       "    </tr>\n",
       "    <tr>\n",
       "      <th>Troitsky</th>\n",
       "      <td>78229.216716</td>\n",
       "      <td>472</td>\n",
       "    </tr>\n",
       "    <tr>\n",
       "      <th>Western</th>\n",
       "      <td>156176.434136</td>\n",
       "      <td>2140</td>\n",
       "    </tr>\n",
       "    <tr>\n",
       "      <th>Zelenograd</th>\n",
       "      <td>102246.041455</td>\n",
       "      <td>924</td>\n",
       "    </tr>\n",
       "  </tbody>\n",
       "</table>\n",
       "</div>"
      ],
      "text/plain": [
       "                         mean  count\n",
       "okurg_district                      \n",
       "Central         186801.964082   1614\n",
       "Eastern         120452.586860   2894\n",
       "North Eastern   130582.773106   2210\n",
       "North Western   156752.219228   2060\n",
       "Northern        132921.472334   2218\n",
       "Novomoskovsky    94533.530218   6088\n",
       "South Eastern   112187.654295   3919\n",
       "South Western   163100.589900   2417\n",
       "Southern        135905.786147   3186\n",
       "Troitsky         78229.216716    472\n",
       "Western         156176.434136   2140\n",
       "Zelenograd      102246.041455    924"
      ]
     },
     "execution_count": 44,
     "metadata": {},
     "output_type": "execute_result"
    }
   ],
   "source": [
    "train_dollars.groupby('okurg_district')['dollars'].agg(['mean','count'])"
   ]
  },
  {
   "cell_type": "code",
   "execution_count": 45,
   "metadata": {
    "collapsed": false
   },
   "outputs": [
    {
     "data": {
      "text/html": [
       "<div>\n",
       "<style>\n",
       "    .dataframe thead tr:only-child th {\n",
       "        text-align: right;\n",
       "    }\n",
       "\n",
       "    .dataframe thead th {\n",
       "        text-align: left;\n",
       "    }\n",
       "\n",
       "    .dataframe tbody tr th {\n",
       "        vertical-align: top;\n",
       "    }\n",
       "</style>\n",
       "<table border=\"1\" class=\"dataframe\">\n",
       "  <thead>\n",
       "    <tr style=\"text-align: right;\">\n",
       "      <th></th>\n",
       "      <th>count</th>\n",
       "    </tr>\n",
       "    <tr>\n",
       "      <th>okurg_district</th>\n",
       "      <th></th>\n",
       "    </tr>\n",
       "  </thead>\n",
       "  <tbody>\n",
       "    <tr>\n",
       "      <th>Central</th>\n",
       "      <td>1614</td>\n",
       "    </tr>\n",
       "    <tr>\n",
       "      <th>Eastern</th>\n",
       "      <td>2894</td>\n",
       "    </tr>\n",
       "    <tr>\n",
       "      <th>North Eastern</th>\n",
       "      <td>2210</td>\n",
       "    </tr>\n",
       "    <tr>\n",
       "      <th>North Western</th>\n",
       "      <td>2060</td>\n",
       "    </tr>\n",
       "    <tr>\n",
       "      <th>Northern</th>\n",
       "      <td>2218</td>\n",
       "    </tr>\n",
       "    <tr>\n",
       "      <th>Novomoskovsky</th>\n",
       "      <td>6088</td>\n",
       "    </tr>\n",
       "    <tr>\n",
       "      <th>South Eastern</th>\n",
       "      <td>3919</td>\n",
       "    </tr>\n",
       "    <tr>\n",
       "      <th>South Western</th>\n",
       "      <td>2417</td>\n",
       "    </tr>\n",
       "    <tr>\n",
       "      <th>Southern</th>\n",
       "      <td>3186</td>\n",
       "    </tr>\n",
       "    <tr>\n",
       "      <th>Troitsky</th>\n",
       "      <td>472</td>\n",
       "    </tr>\n",
       "    <tr>\n",
       "      <th>Western</th>\n",
       "      <td>2140</td>\n",
       "    </tr>\n",
       "    <tr>\n",
       "      <th>Zelenograd</th>\n",
       "      <td>924</td>\n",
       "    </tr>\n",
       "  </tbody>\n",
       "</table>\n",
       "</div>"
      ],
      "text/plain": [
       "                count\n",
       "okurg_district       \n",
       "Central          1614\n",
       "Eastern          2894\n",
       "North Eastern    2210\n",
       "North Western    2060\n",
       "Northern         2218\n",
       "Novomoskovsky    6088\n",
       "South Eastern    3919\n",
       "South Western    2417\n",
       "Southern         3186\n",
       "Troitsky          472\n",
       "Western          2140\n",
       "Zelenograd        924"
      ]
     },
     "execution_count": 45,
     "metadata": {},
     "output_type": "execute_result"
    }
   ],
   "source": [
    "train.groupby('okurg_district')['id'].agg(['count'])"
   ]
  },
  {
   "cell_type": "code",
   "execution_count": 46,
   "metadata": {
    "collapsed": false
   },
   "outputs": [
    {
     "data": {
      "text/plain": [
       "<matplotlib.axes._subplots.AxesSubplot at 0x11100ac50>"
      ]
     },
     "execution_count": 46,
     "metadata": {},
     "output_type": "execute_result"
    },
    {
     "data": {
      "image/png": "[encoded data removed]",
      "text/plain": [
       "<matplotlib.figure.Figure at 0x10f4d6bd0>"
      ]
     },
     "metadata": {},
     "output_type": "display_data"
    }
   ],
   "source": [
    "train.groupby('okurg_district')['id'].agg(['count']).plot(kind = 'bar')"
   ]
  },
  {
   "cell_type": "code",
   "execution_count": 47,
   "metadata": {
    "collapsed": false
   },
   "outputs": [
    {
     "data": {
      "text/plain": [
       "<matplotlib.axes._subplots.AxesSubplot at 0x110ff0fd0>"
      ]
     },
     "execution_count": 47,
     "metadata": {},
     "output_type": "execute_result"
    },
    {
     "data": {
      "image/png": "[encoded data removed]",
      "text/plain": [
       "<matplotlib.figure.Figure at 0x110db48d0>"
      ]
     },
     "metadata": {},
     "output_type": "display_data"
    }
   ],
   "source": [
    "test.groupby('okurg_district')['id'].agg(['count']).plot(kind = 'bar')"
   ]
  },
  {
   "cell_type": "code",
   "execution_count": 48,
   "metadata": {
    "collapsed": false
   },
   "outputs": [
    {
     "data": {
      "text/plain": [
       "<matplotlib.axes._subplots.AxesSubplot at 0x110db4750>"
      ]
     },
     "execution_count": 48,
     "metadata": {},
     "output_type": "execute_result"
    },
    {
     "data": {
      "image/png": "[encoded data removed]",
      "text/plain": [
       "<matplotlib.figure.Figure at 0x1107476d0>"
      ]
     },
     "metadata": {},
     "output_type": "display_data"
    }
   ],
   "source": [
    "train.groupby('okurg_district')['price_doc'].agg(['mean']).plot(kind = 'bar')\n",
    "#should really be buying in Novomo... "
   ]
  },
  {
   "cell_type": "code",
   "execution_count": null,
   "metadata": {
    "collapsed": true
   },
   "outputs": [],
   "source": []
  },
  {
   "cell_type": "code",
   "execution_count": null,
   "metadata": {
    "collapsed": true
   },
   "outputs": [],
   "source": []
  },
  {
   "cell_type": "markdown",
   "metadata": {},
   "source": [
    "## Models"
   ]
  },
  {
   "cell_type": "code",
   "execution_count": 122,
   "metadata": {
    "collapsed": true
   },
   "outputs": [],
   "source": [
    "X_moscow = train_encode[['full_sq','floor','max_floor','product_type','sub_area','metro_min_walk','kindergarten_km',\n",
    "'park_km','kremlin_km','oil_chemistry_km','nuclear_reactor_km','big_market_km', \n",
    "'market_shop_km', 'detention_facility_km','public_healthcare_km','university_km',\n",
    "'workplaces_km','preschool_km','big_church_km','okurg_district','pop_density',\n",
    "'elder_ratio','youth_ratio','floor_ratio','year','month','oil_urals','cpi','eurrub',\n",
    "'average_provision_of_build_contract_moscow','micex','mortgage_rate','rent_price_4+room_bus',\n",
    "'sd_oil_yearly','sd_cpi_yearly','sd_eurrub_yearly','sd_micex_yearly','sd_mortgage_yearly','sd_rent_yearly']]\n",
    "\n",
    "\n",
    "Y_moscow = train_encode['price_doc']"
   ]
  },
  {
   "cell_type": "code",
   "execution_count": null,
   "metadata": {
    "collapsed": true
   },
   "outputs": [],
   "source": []
  },
  {
   "cell_type": "code",
   "execution_count": 102,
   "metadata": {
    "collapsed": true
   },
   "outputs": [],
   "source": [
    "X_moscow = train_encode[['okurg_district','full_sq','rent_price_4+room_bus','sd_cpi_yearly','floor_ratio',\n",
    "                         'metro_min_walk','kindergarten_km','nuclear_reactor_km','big_market_km','market_shop_km',\n",
    "                         'detention_facility_km','public_healthcare_km', 'university_km','workplaces_km', \n",
    "                         'pop_density']]\n",
    "Y_moscow = train_encode[\"price_doc\"]"
   ]
  },
  {
   "cell_type": "code",
   "execution_count": null,
   "metadata": {
    "collapsed": true
   },
   "outputs": [],
   "source": []
  },
  {
   "cell_type": "code",
   "execution_count": null,
   "metadata": {
    "collapsed": true
   },
   "outputs": [],
   "source": []
  },
  {
   "cell_type": "code",
   "execution_count": 68,
   "metadata": {
    "collapsed": true
   },
   "outputs": [],
   "source": [
    "from sklearn import linear_model\n",
    "ols = linear_model.LinearRegression()"
   ]
  },
  {
   "cell_type": "code",
   "execution_count": 73,
   "metadata": {
    "collapsed": true
   },
   "outputs": [],
   "source": []
  },
  {
   "cell_type": "code",
   "execution_count": null,
   "metadata": {
    "collapsed": true
   },
   "outputs": [],
   "source": []
  },
  {
   "cell_type": "code",
   "execution_count": 143,
   "metadata": {
    "collapsed": false
   },
   "outputs": [
    {
     "name": "stdout",
     "output_type": "stream",
     "text": [
      "R^2 for train set: 0.479974\n",
      "--------------------------------------------------\n",
      "R^2 for test  set: 0.505760\n"
     ]
    }
   ],
   "source": [
    "ols.fit(X_train, Y_train)\n",
    "print(\"R^2 for train set: %f\" %ols.score(X_train, Y_train))\n",
    "\n",
    "print('-'*50)\n",
    "\n",
    "print(\"R^2 for test  set: %f\" %ols.score(X_test, Y_test))"
   ]
  },
  {
   "cell_type": "code",
   "execution_count": 75,
   "metadata": {
    "collapsed": false,
    "scrolled": true
   },
   "outputs": [
    {
     "data": {
      "text/html": [
       "<div>\n",
       "<style>\n",
       "    .dataframe thead tr:only-child th {\n",
       "        text-align: right;\n",
       "    }\n",
       "\n",
       "    .dataframe thead th {\n",
       "        text-align: left;\n",
       "    }\n",
       "\n",
       "    .dataframe tbody tr th {\n",
       "        vertical-align: top;\n",
       "    }\n",
       "</style>\n",
       "<table border=\"1\" class=\"dataframe\">\n",
       "  <thead>\n",
       "    <tr style=\"text-align: right;\">\n",
       "      <th></th>\n",
       "      <th>coefficient</th>\n",
       "    </tr>\n",
       "  </thead>\n",
       "  <tbody>\n",
       "    <tr>\n",
       "      <th>full_sq</th>\n",
       "      <td>1.350784e-02</td>\n",
       "    </tr>\n",
       "    <tr>\n",
       "      <th>floor</th>\n",
       "      <td>3.866929e-03</td>\n",
       "    </tr>\n",
       "    <tr>\n",
       "      <th>max_floor</th>\n",
       "      <td>3.843141e-03</td>\n",
       "    </tr>\n",
       "    <tr>\n",
       "      <th>product_type</th>\n",
       "      <td>1.596397e-02</td>\n",
       "    </tr>\n",
       "    <tr>\n",
       "      <th>sub_area</th>\n",
       "      <td>-6.029307e-04</td>\n",
       "    </tr>\n",
       "    <tr>\n",
       "      <th>metro_min_walk</th>\n",
       "      <td>-1.593894e-03</td>\n",
       "    </tr>\n",
       "    <tr>\n",
       "      <th>kindergarten_km</th>\n",
       "      <td>-1.112521e-03</td>\n",
       "    </tr>\n",
       "    <tr>\n",
       "      <th>park_km</th>\n",
       "      <td>8.844474e-03</td>\n",
       "    </tr>\n",
       "    <tr>\n",
       "      <th>kremlin_km</th>\n",
       "      <td>-1.419937e-02</td>\n",
       "    </tr>\n",
       "    <tr>\n",
       "      <th>oil_chemistry_km</th>\n",
       "      <td>4.132887e-03</td>\n",
       "    </tr>\n",
       "    <tr>\n",
       "      <th>nuclear_reactor_km</th>\n",
       "      <td>-4.899556e-04</td>\n",
       "    </tr>\n",
       "    <tr>\n",
       "      <th>big_market_km</th>\n",
       "      <td>5.224814e-03</td>\n",
       "    </tr>\n",
       "    <tr>\n",
       "      <th>market_shop_km</th>\n",
       "      <td>-2.457009e-03</td>\n",
       "    </tr>\n",
       "    <tr>\n",
       "      <th>detention_facility_km</th>\n",
       "      <td>-1.650357e-03</td>\n",
       "    </tr>\n",
       "    <tr>\n",
       "      <th>public_healthcare_km</th>\n",
       "      <td>-1.984772e-02</td>\n",
       "    </tr>\n",
       "    <tr>\n",
       "      <th>university_km</th>\n",
       "      <td>1.397187e-03</td>\n",
       "    </tr>\n",
       "    <tr>\n",
       "      <th>workplaces_km</th>\n",
       "      <td>-1.250639e-02</td>\n",
       "    </tr>\n",
       "    <tr>\n",
       "      <th>preschool_km</th>\n",
       "      <td>4.399731e-02</td>\n",
       "    </tr>\n",
       "    <tr>\n",
       "      <th>big_church_km</th>\n",
       "      <td>-4.329402e-03</td>\n",
       "    </tr>\n",
       "    <tr>\n",
       "      <th>okurg_district</th>\n",
       "      <td>1.581764e-02</td>\n",
       "    </tr>\n",
       "    <tr>\n",
       "      <th>pop_density</th>\n",
       "      <td>4.225432e+00</td>\n",
       "    </tr>\n",
       "    <tr>\n",
       "      <th>elder_ratio</th>\n",
       "      <td>1.834569e-01</td>\n",
       "    </tr>\n",
       "    <tr>\n",
       "      <th>youth_ratio</th>\n",
       "      <td>-1.461848e-01</td>\n",
       "    </tr>\n",
       "    <tr>\n",
       "      <th>floor_ratio</th>\n",
       "      <td>-3.276225e-02</td>\n",
       "    </tr>\n",
       "    <tr>\n",
       "      <th>year</th>\n",
       "      <td>-3.179881e+08</td>\n",
       "    </tr>\n",
       "    <tr>\n",
       "      <th>month</th>\n",
       "      <td>3.435920e-03</td>\n",
       "    </tr>\n",
       "    <tr>\n",
       "      <th>oil_urals</th>\n",
       "      <td>7.579672e-04</td>\n",
       "    </tr>\n",
       "    <tr>\n",
       "      <th>cpi</th>\n",
       "      <td>2.023969e-04</td>\n",
       "    </tr>\n",
       "    <tr>\n",
       "      <th>eurrub</th>\n",
       "      <td>2.784054e-03</td>\n",
       "    </tr>\n",
       "    <tr>\n",
       "      <th>average_provision_of_build_contract_moscow</th>\n",
       "      <td>6.302852e-04</td>\n",
       "    </tr>\n",
       "    <tr>\n",
       "      <th>micex</th>\n",
       "      <td>-7.442033e-05</td>\n",
       "    </tr>\n",
       "    <tr>\n",
       "      <th>mortgage_rate</th>\n",
       "      <td>7.947810e-03</td>\n",
       "    </tr>\n",
       "    <tr>\n",
       "      <th>rent_price_4+room_bus</th>\n",
       "      <td>3.586858e-04</td>\n",
       "    </tr>\n",
       "    <tr>\n",
       "      <th>sd_oil_yearly</th>\n",
       "      <td>-2.252386e+07</td>\n",
       "    </tr>\n",
       "    <tr>\n",
       "      <th>sd_cpi_yearly</th>\n",
       "      <td>7.864714e+07</td>\n",
       "    </tr>\n",
       "    <tr>\n",
       "      <th>sd_eurrub_yearly</th>\n",
       "      <td>7.932994e+07</td>\n",
       "    </tr>\n",
       "    <tr>\n",
       "      <th>sd_micex_yearly</th>\n",
       "      <td>-3.763271e+06</td>\n",
       "    </tr>\n",
       "    <tr>\n",
       "      <th>sd_mortgage_yearly</th>\n",
       "      <td>5.968352e+06</td>\n",
       "    </tr>\n",
       "    <tr>\n",
       "      <th>sd_rent_yearly</th>\n",
       "      <td>-1.639362e+07</td>\n",
       "    </tr>\n",
       "    <tr>\n",
       "      <th>intercept</th>\n",
       "      <td>6.399459e+11</td>\n",
       "    </tr>\n",
       "  </tbody>\n",
       "</table>\n",
       "</div>"
      ],
      "text/plain": [
       "                                             coefficient\n",
       "full_sq                                     1.350784e-02\n",
       "floor                                       3.866929e-03\n",
       "max_floor                                   3.843141e-03\n",
       "product_type                                1.596397e-02\n",
       "sub_area                                   -6.029307e-04\n",
       "metro_min_walk                             -1.593894e-03\n",
       "kindergarten_km                            -1.112521e-03\n",
       "park_km                                     8.844474e-03\n",
       "kremlin_km                                 -1.419937e-02\n",
       "oil_chemistry_km                            4.132887e-03\n",
       "nuclear_reactor_km                         -4.899556e-04\n",
       "big_market_km                               5.224814e-03\n",
       "market_shop_km                             -2.457009e-03\n",
       "detention_facility_km                      -1.650357e-03\n",
       "public_healthcare_km                       -1.984772e-02\n",
       "university_km                               1.397187e-03\n",
       "workplaces_km                              -1.250639e-02\n",
       "preschool_km                                4.399731e-02\n",
       "big_church_km                              -4.329402e-03\n",
       "okurg_district                              1.581764e-02\n",
       "pop_density                                 4.225432e+00\n",
       "elder_ratio                                 1.834569e-01\n",
       "youth_ratio                                -1.461848e-01\n",
       "floor_ratio                                -3.276225e-02\n",
       "year                                       -3.179881e+08\n",
       "month                                       3.435920e-03\n",
       "oil_urals                                   7.579672e-04\n",
       "cpi                                         2.023969e-04\n",
       "eurrub                                      2.784054e-03\n",
       "average_provision_of_build_contract_moscow  6.302852e-04\n",
       "micex                                      -7.442033e-05\n",
       "mortgage_rate                               7.947810e-03\n",
       "rent_price_4+room_bus                       3.586858e-04\n",
       "sd_oil_yearly                              -2.252386e+07\n",
       "sd_cpi_yearly                               7.864714e+07\n",
       "sd_eurrub_yearly                            7.932994e+07\n",
       "sd_micex_yearly                            -3.763271e+06\n",
       "sd_mortgage_yearly                          5.968352e+06\n",
       "sd_rent_yearly                             -1.639362e+07\n",
       "intercept                                   6.399459e+11"
      ]
     },
     "execution_count": 75,
     "metadata": {},
     "output_type": "execute_result"
    }
   ],
   "source": [
    "colnames = X_moscow.columns\n",
    "result = pd.DataFrame(ols.coef_).transpose() #you can name the columns this way\n",
    "result.columns = colnames.tolist()\n",
    "result['intercept'] = ols.intercept_ \n",
    "result = result.transpose()\n",
    "result.columns = ['coefficient']\n",
    "result"
   ]
  },
  {
   "cell_type": "code",
   "execution_count": null,
   "metadata": {
    "collapsed": true
   },
   "outputs": [],
   "source": []
  },
  {
   "cell_type": "code",
   "execution_count": null,
   "metadata": {
    "collapsed": true
   },
   "outputs": [],
   "source": []
  },
  {
   "cell_type": "code",
   "execution_count": 123,
   "metadata": {
    "collapsed": false
   },
   "outputs": [
    {
     "name": "stdout",
     "output_type": "stream",
     "text": [
      "(30142, 15)\n"
     ]
    }
   ],
   "source": [
    "import sklearn.feature_selection as fs\n",
    "select15 = fs.SelectKBest(fs.f_regression, k=15).fit_transform(X_moscow, Y_moscow)##y.flatten())\n",
    "print(select15.shape)"
   ]
  },
  {
   "cell_type": "code",
   "execution_count": 124,
   "metadata": {
    "collapsed": false
   },
   "outputs": [
    {
     "name": "stdout",
     "output_type": "stream",
     "text": [
      "[ 197.            4.38302366    5.82214606    4.19836111    0.70475429]\n"
     ]
    }
   ],
   "source": [
    "print(select3[0, :])"
   ]
  },
  {
   "cell_type": "code",
   "execution_count": null,
   "metadata": {
    "collapsed": true
   },
   "outputs": [],
   "source": [
    "#full_sq, kremlin_km, "
   ]
  },
  {
   "cell_type": "code",
   "execution_count": 86,
   "metadata": {
    "collapsed": false,
    "scrolled": true
   },
   "outputs": [
    {
     "name": "stdout",
     "output_type": "stream",
     "text": [
      "[ 197.           15.86004061    0.93634961    4.38302366    5.82214606\n",
      "    4.19836111    2.21563708    2.22221667    0.70475429    0.55412125]\n"
     ]
    }
   ],
   "source": [
    "print(select10[0, :])"
   ]
  },
  {
   "cell_type": "code",
   "execution_count": 88,
   "metadata": {
    "collapsed": false
   },
   "outputs": [
    {
     "name": "stdout",
     "output_type": "stream",
     "text": [
      "   full_sq  floor  max_floor  product_type  sub_area  metro_min_walk  kindergarten_km  park_km  kremlin_km  oil_chemistry_km  nuclear_reactor_km  big_market_km  market_shop_km  detention_facility_km  public_healthcare_km  university_km  workplaces_km  preschool_km  big_church_km  okurg_district  pop_density  elder_ratio  youth_ratio  floor_ratio  year  month  oil_urals    cpi  eurrub  average_provision_of_build_contract_moscow   micex  mortgage_rate  rent_price_4+room_bus  sd_oil_yearly  sd_cpi_yearly  sd_eurrub_yearly  sd_micex_yearly  sd_mortgage_yearly  sd_rent_yearly\n",
      "0      197      3       19.0             1       106       15.860041         0.498263  0.93635    4.383024         13.399431            5.822146      13.007747        3.316296               4.198361              2.215637       2.222217       0.704754      0.069141       0.554121               0     0.010593     0.267821     0.120912     0.157895  2014      9    95.6732  428.6   48.97                                        6.14  1392.4          12.29                  173.3      14.488195      10.395346          6.599686        68.573449              0.2204       16.823747\n"
     ]
    }
   ],
   "source": [
    "print X_moscow.head(1).to_string()"
   ]
  },
  {
   "cell_type": "code",
   "execution_count": null,
   "metadata": {
    "collapsed": true
   },
   "outputs": [],
   "source": [
    "#full_sq, metro_min_walk, park_km, kremlin_km, "
   ]
  },
  {
   "cell_type": "code",
   "execution_count": 125,
   "metadata": {
    "collapsed": false
   },
   "outputs": [
    {
     "name": "stdout",
     "output_type": "stream",
     "text": [
      "[  1.97000000e+02   1.58600406e+01   4.98262658e-01   9.36349613e-01\n",
      "   4.38302366e+00   5.82214606e+00   3.31629647e+00   4.19836111e+00\n",
      "   2.21563708e+00   2.22221667e+00   7.04754295e-01   6.91413420e-02\n",
      "   5.54121253e-01   1.05928400e-02   2.67821220e-01]\n"
     ]
    }
   ],
   "source": [
    "print(select15[0, :])"
   ]
  },
  {
   "cell_type": "code",
   "execution_count": null,
   "metadata": {
    "collapsed": true
   },
   "outputs": [],
   "source": []
  },
  {
   "cell_type": "markdown",
   "metadata": {},
   "source": []
  },
  {
   "cell_type": "code",
   "execution_count": null,
   "metadata": {
    "collapsed": true
   },
   "outputs": [],
   "source": [
    "X_moscow = train_encode[['full_sq','kremlin_km','big_church_km','pop_density',\n",
    "                         'nuclear_reactor_km','park_km', 'metro_min_walk',\n",
    "                         'detention_facility_km','workplaces_km']]\n",
    "Y_moscow = train_encode[\"price_doc\"]"
   ]
  },
  {
   "cell_type": "code",
   "execution_count": 152,
   "metadata": {
    "collapsed": true
   },
   "outputs": [],
   "source": [
    "#trying out the top selected from the KBest\n",
    "from sklearn.model_selection import train_test_split\n",
    "X_moscow = train_encode[['full_sq', 'kremlin_km', 'pop_density', 'sd_cpi_yearly', ]]\n",
    "Y_moscow = train_encode[\"log_price_doc\"]\n",
    "\n",
    "X_train, X_test, Y_train, Y_test = train_test_split(X_moscow, Y_moscow, test_size=0.3, random_state=42)"
   ]
  },
  {
   "cell_type": "code",
   "execution_count": 153,
   "metadata": {
    "collapsed": false
   },
   "outputs": [
    {
     "name": "stdout",
     "output_type": "stream",
     "text": [
      "R^2 for train set: 0.309647\n",
      "--------------------------------------------------\n",
      "R^2 for test  set: 0.356155\n"
     ]
    }
   ],
   "source": [
    "ols.fit(X_train, Y_train)\n",
    "print(\"R^2 for train set: %f\" %ols.score(X_train, Y_train))\n",
    "\n",
    "print('-'*50)\n",
    "\n",
    "print(\"R^2 for test  set: %f\" %ols.score(X_test, Y_test))"
   ]
  },
  {
   "cell_type": "code",
   "execution_count": null,
   "metadata": {
    "collapsed": true
   },
   "outputs": [],
   "source": []
  },
  {
   "cell_type": "code",
   "execution_count": null,
   "metadata": {
    "collapsed": true
   },
   "outputs": [],
   "source": [
    "#Ridge Regression"
   ]
  },
  {
   "cell_type": "code",
   "execution_count": 139,
   "metadata": {
    "collapsed": false
   },
   "outputs": [
    {
     "data": {
      "text/plain": [
       "(array([   142898.87479383,   -160963.3585611 ,  33646091.70913586]),\n",
       " 1677213.3658905942)"
      ]
     },
     "execution_count": 139,
     "metadata": {},
     "output_type": "execute_result"
    }
   ],
   "source": [
    "from sklearn import linear_model\n",
    "ridge = linear_model.Ridge(alpha = 1) # create a ridge regression instance\n",
    "ridge.fit(X_moscow, Y_moscow) # fit data\n",
    "ridge.coef_, ridge.intercept_ # print out the coefficients"
   ]
  },
  {
   "cell_type": "code",
   "execution_count": 140,
   "metadata": {
    "collapsed": false
   },
   "outputs": [
    {
     "name": "stdout",
     "output_type": "stream",
     "text": [
      "The determination of ridge regression is: 0.4871\n"
     ]
    }
   ],
   "source": [
    "print(\"The determination of ridge regression is: %.4f\" %ridge.score(X_moscow, Y_moscow))"
   ]
  },
  {
   "cell_type": "code",
   "execution_count": null,
   "metadata": {
    "collapsed": true
   },
   "outputs": [],
   "source": []
  },
  {
   "cell_type": "code",
   "execution_count": null,
   "metadata": {
    "collapsed": true
   },
   "outputs": [],
   "source": [
    "#elastic net?"
   ]
  },
  {
   "cell_type": "code",
   "execution_count": 147,
   "metadata": {
    "collapsed": true
   },
   "outputs": [],
   "source": [
    "X_moscow = train_encode[['full_sq','kremlin_km','big_church_km','pop_density',\n",
    "                         'nuclear_reactor_km','park_km', 'metro_min_walk',\n",
    "                         'detention_facility_km','workplaces_km']]\n",
    "Y_moscow = train_encode[\"price_doc\"]"
   ]
  },
  {
   "cell_type": "code",
   "execution_count": 148,
   "metadata": {
    "collapsed": false
   },
   "outputs": [
    {
     "data": {
      "text/plain": [
       "(array([ 142322.33156279, -149938.88539986,  -96010.12895935,\n",
       "           2585.30397628,  -79167.64287916,   42077.82770996,\n",
       "           7628.90676091,   -1976.57348175,  -21270.66650083]),\n",
       " 2603248.1946900534)"
      ]
     },
     "execution_count": 148,
     "metadata": {},
     "output_type": "execute_result"
    }
   ],
   "source": [
    "elastic = linear_model.ElasticNet(alpha = 1, l1_ratio = 0.5)\n",
    "elastic.fit(X_moscow, Y_moscow) # fit model\n",
    "elastic.coef_, elastic.intercept_ # coefficients"
   ]
  },
  {
   "cell_type": "code",
   "execution_count": 149,
   "metadata": {
    "collapsed": false
   },
   "outputs": [
    {
     "name": "stdout",
     "output_type": "stream",
     "text": [
      "The determination of ElasticNet is: 0.4928\n"
     ]
    }
   ],
   "source": [
    "print(\"The determination of ElasticNet is: %.4f\" %elastic.score(X_moscow, Y_moscow))"
   ]
  },
  {
   "cell_type": "code",
   "execution_count": null,
   "metadata": {
    "collapsed": true
   },
   "outputs": [],
   "source": []
  },
  {
   "cell_type": "markdown",
   "metadata": {},
   "source": [
    "# Scaling:"
   ]
  },
  {
   "cell_type": "markdown",
   "metadata": {},
   "source": [
    "### Multi Linear Regression"
   ]
  },
  {
   "cell_type": "code",
   "execution_count": 159,
   "metadata": {
    "collapsed": false
   },
   "outputs": [
    {
     "name": "stdout",
     "output_type": "stream",
     "text": [
      "R^2 for standard scaler train set: 0.487823\n",
      "--------------------------------------------------\n",
      "R^2 for standard scaler test  set: 0.512264\n",
      "--------------------------------------------------\n",
      "R^2 for robust scaler train set: 0.487823\n",
      "--------------------------------------------------\n",
      "R^2 for robust scaler test  set: 0.512264\n"
     ]
    }
   ],
   "source": [
    "#Trying out Scaling:\n",
    "from sklearn.preprocessing import StandardScaler, RobustScaler\n",
    "from sklearn import linear_model\n",
    "ols = linear_model.LinearRegression()\n",
    "\n",
    "#Train Test Split\n",
    "from sklearn.model_selection import train_test_split\n",
    "X_moscow = train_encode[['full_sq', 'kremlin_km', 'pop_density', 'sd_cpi_yearly']]\n",
    "Y_moscow = train_encode[\"price_doc\"]\n",
    "X_train, X_test, Y_train, Y_test = train_test_split(X_moscow, Y_moscow, test_size=0.3, random_state=42)\n",
    "\n",
    "#Scale\n",
    "standard_scaler = StandardScaler()\n",
    "Xtr_s = standard_scaler.fit_transform(X_train)\n",
    "Xte_s = standard_scaler.transform(X_test)\n",
    "\n",
    "robust_scaler = RobustScaler()\n",
    "Xtr_r = robust_scaler.fit_transform(X_train)\n",
    "Xte_r = robust_scaler.transform(X_test)\n",
    "\n",
    "#multiple linear regression with scaling:\n",
    "ols.fit(Xtr_s, Y_train)\n",
    "print(\"R^2 for standard scaler train set: %f\" %ols.score(Xtr_s, Y_train))\n",
    "print('-'*50)\n",
    "print(\"R^2 for standard scaler test  set: %f\" %ols.score(Xte_s, Y_test))\n",
    "print('-'*50)\n",
    "ols.fit(Xtr_r, Y_train)\n",
    "print(\"R^2 for robust scaler train set: %f\" %ols.score(Xtr_r, Y_train))\n",
    "print('-'*50)\n",
    "print(\"R^2 for robust scaler test  set: %f\" %ols.score(Xte_r, Y_test))\n"
   ]
  },
  {
   "cell_type": "markdown",
   "metadata": {},
   "source": [
    "### K Best Selection with Scaling"
   ]
  },
  {
   "cell_type": "code",
   "execution_count": 191,
   "metadata": {
    "collapsed": false
   },
   "outputs": [
    {
     "name": "stdout",
     "output_type": "stream",
     "text": [
      "[ 6.73880676 -0.3860991  -0.22692243 -0.54543001 -1.38285456 -0.70606252\n",
      " -0.18586813 -0.93484165 -0.26000876 -0.68660523 -0.65624623 -0.41741921\n",
      " -0.59698626  0.12006196  1.13154143]\n",
      "[ 6.73880676 -0.3860991  -0.54543001 -1.38285456 -0.70606252 -0.18586813\n",
      " -0.93484165 -0.68660523 -0.65624623 -0.59698626]\n",
      "[ 6.73880676 -1.38285456 -0.70606252 -0.93484165 -0.68660523]\n",
      "--------------------------------------------------\n",
      "[ 6.73880676 -0.83319031  0.9788833   1.33324886  0.77115542 -0.3860991\n",
      " -0.22692243 -0.54543001 -1.38285456 -0.38158372 -0.70606252 -0.0303177\n",
      " -0.18586813 -0.93484165 -0.26000876 -0.68660523 -0.65624623 -0.41741921\n",
      " -0.59698626 -1.76934428  0.12006196  1.13154143 -0.7145071  -1.44002115\n",
      "  0.56458681  0.64030347 -0.10503052  0.51830566  0.01903523 -0.93356177\n",
      " -0.72638263 -0.37091213  0.48557767  1.0544569   0.45429378  0.8527691\n",
      " -0.24268153 -0.47294771 -0.02817721]\n",
      "--------------------------------------------------\n",
      "--------------------------------------------------\n",
      "[ 5.92       -0.13539406  0.19087386 -0.35699742 -1.03524901 -0.28142534\n",
      "  0.10015316 -0.3697484  -0.0429108  -0.29086944 -0.30244804 -0.64947938\n",
      " -0.45241414  0.04053178  1.04979343]\n",
      "[ 5.92       -0.13539406 -0.35699742 -1.03524901 -0.28142534  0.10015316\n",
      " -0.3697484  -0.29086944 -0.30244804 -0.45241414]\n",
      "[ 6.73880676 -1.38285456 -0.70606252 -0.93484165 -0.68660523]\n",
      "--------------------------------------------------\n",
      "[ 5.92       -0.375       0.625       1.          0.48333333 -0.13539406\n",
      "  0.19087386 -0.35699742 -1.03524901 -0.21990631 -0.28142534  0.12185518\n",
      "  0.10015316 -0.3697484  -0.0429108  -0.29086944 -0.30244804 -0.64947938\n",
      " -0.45241414 -1.25        0.04053178  1.04979343 -0.88810066 -0.91165413\n",
      "  0.          0.5        -0.77303152  0.50623441  0.24741104 -0.53191489\n",
      " -0.6561034  -0.025       0.50199045  0.60663358  0.          0.          0.\n",
      " -0.77112953  0.        ]\n"
     ]
    }
   ],
   "source": [
    "#K Best using scaling\n",
    "#use all parameters:\n",
    "#Note: log price prodices some slightly different important factors\n",
    "X_moscow = train_encode[['full_sq','floor','max_floor','product_type','sub_area','metro_min_walk','kindergarten_km',\n",
    "                        'park_km','kremlin_km','oil_chemistry_km','nuclear_reactor_km','big_market_km', \n",
    "                        'market_shop_km', 'detention_facility_km','public_healthcare_km','university_km',\n",
    "                        'workplaces_km','preschool_km','big_church_km','okurg_district','pop_density',\n",
    "                        'elder_ratio','youth_ratio','floor_ratio','year','month','oil_urals','cpi','eurrub',\n",
    "                        'average_provision_of_build_contract_moscow','micex','mortgage_rate','rent_price_4+room_bus',\n",
    "                        'sd_oil_yearly','sd_cpi_yearly','sd_eurrub_yearly','sd_micex_yearly',\n",
    "                        'sd_mortgage_yearly','sd_rent_yearly']]\n",
    "Y_moscow = train_encode['price_doc']\n",
    "\n",
    "#Scale X\n",
    "from sklearn.preprocessing import StandardScaler, RobustScaler\n",
    "\n",
    "standard_scaler = StandardScaler()\n",
    "Xtr_s = standard_scaler.fit_transform(X_moscow)\n",
    "robust_scaler = RobustScaler()\n",
    "Xtr_r = robust_scaler.fit_transform(X_moscow)\n",
    "\n",
    "#KBest Features (Enter # of Features -- 15)\n",
    "import sklearn.feature_selection as fs\n",
    "select15 = fs.SelectKBest(fs.f_regression, k=15).fit_transform(Xtr_s, Y_moscow)\n",
    "select15r = fs.SelectKBest(fs.f_regression, k=15).fit_transform(Xtr_r, Y_moscow)\n",
    "\n",
    "select10 = fs.SelectKBest(fs.f_regression, k=10).fit_transform(Xtr_s, Y_moscow)\n",
    "select10r = fs.SelectKBest(fs.f_regression, k=10).fit_transform(Xtr_r, Y_moscow)\n",
    "\n",
    "select5 = fs.SelectKBest(fs.f_regression, k=5).fit_transform(Xtr_s, Y_moscow)\n",
    "select5r = fs.SelectKBest(fs.f_regression, k=5).fit_transform(Xtr_r, Y_moscow)\n",
    "\n",
    "print(select15[0, :])\n",
    "print(select10[0, :])\n",
    "print(select5[0, :])\n",
    "print('-'*50)\n",
    "print Xtr_s[0,:]\n",
    "print('-'*50)\n",
    "print('-'*50)\n",
    "print(select15r[0, :])\n",
    "print(select10r[0, :])\n",
    "print(select5[0, :])\n",
    "print('-'*50)\n",
    "print Xtr_r[0,:]"
   ]
  },
  {
   "cell_type": "markdown",
   "metadata": {},
   "source": [
    "### Multi Linear Regression with New KBest from Above^^"
   ]
  },
  {
   "cell_type": "code",
   "execution_count": 217,
   "metadata": {
    "collapsed": false,
    "scrolled": false
   },
   "outputs": [
    {
     "name": "stdout",
     "output_type": "stream",
     "text": [
      "R^2 for train set: 0.484881\n",
      "--------------------------------------------------\n",
      "R^2 for test  set: 0.511360\n"
     ]
    }
   ],
   "source": [
    "#Trying out Scaling with different parameters:\n",
    "from sklearn.preprocessing import StandardScaler, RobustScaler\n",
    "from sklearn import linear_model\n",
    "ols = linear_model.LinearRegression()\n",
    "\n",
    "#Train Test Split\n",
    "from sklearn.model_selection import train_test_split\n",
    "X_moscow = train_encode[['full_sq','metro_min_walk','park_km','kremlin_km','nuclear_reactor_km',\n",
    "                         'market_shop_km','detention_facility_km','university_km','workplaces_km','okurg_district']]\n",
    "Y_moscow = train_encode[\"price_doc\"]\n",
    "X_train, X_test, Y_train, Y_test = train_test_split(X_moscow, Y_moscow, test_size=0.3, random_state=42)\n",
    "\n",
    "# #Scale\n",
    "# standard_scaler = StandardScaler()\n",
    "# Xtr_s = standard_scaler.fit_transform(X_train)\n",
    "# Xte_s = standard_scaler.transform(X_test)\n",
    "\n",
    "# robust_scaler = RobustScaler()\n",
    "# Xtr_r = robust_scaler.fit_transform(X_train)\n",
    "# Xte_r = robust_scaler.transform(X_test)\n",
    "\n",
    "#multiple linear regression with scaling:\n",
    "ols.fit(X_train, Y_train)\n",
    "print(\"R^2 for train set: %f\" %ols.score(X_train, Y_train))\n",
    "print('-'*50)\n",
    "print(\"R^2 for test  set: %f\" %ols.score(X_test, Y_test))\n",
    "# print('-'*50)\n",
    "# ols.fit(Xtr_r, Y_train)\n",
    "# print(\"R^2 for robust scaler train set: %f\" %ols.score(Xtr_r, Y_train))\n",
    "# print('-'*50)\n",
    "# print(\"R^2 for robust scaler test  set: %f\" %ols.score(Xte_r, Y_test))\n"
   ]
  },
  {
   "cell_type": "code",
   "execution_count": null,
   "metadata": {
    "collapsed": true
   },
   "outputs": [],
   "source": []
  },
  {
   "cell_type": "code",
   "execution_count": null,
   "metadata": {
    "collapsed": true
   },
   "outputs": [],
   "source": []
  },
  {
   "cell_type": "code",
   "execution_count": 216,
   "metadata": {
    "collapsed": false
   },
   "outputs": [
    {
     "name": "stdout",
     "output_type": "stream",
     "text": [
      "product_type\n",
      "sub_area\n",
      "okurg_district\n"
     ]
    }
   ],
   "source": [
    "#label encode for the test data using label encoder:\n",
    "from sklearn import model_selection, preprocessing\n",
    "for f in test.columns:\n",
    "    if test[f].dtype=='object':\n",
    "        print(f)\n",
    "        lbl = preprocessing.LabelEncoder()\n",
    "        lbl.fit(list(test[f].values.astype('str')))\n",
    "        test[f] = lbl.transform(list(test[f].values.astype('str')))"
   ]
  },
  {
   "cell_type": "code",
   "execution_count": 219,
   "metadata": {
    "collapsed": false
   },
   "outputs": [],
   "source": [
    "#Predict based on model from cell above and generate a file to send to Kaggle:\n",
    "#log_y_test = forest.predict(X_test)\n",
    "#X_test = test[model_features_noMissing].values\n",
    "\n",
    "X_testpred = test[['full_sq','metro_min_walk','park_km','kremlin_km','nuclear_reactor_km',\n",
    "              'market_shop_km','detention_facility_km','university_km','workplaces_km','okurg_district']]\n",
    "\n",
    "y_pred = ols.predict(X_testpred)\n",
    "submission = pd.DataFrame({'id': np.array(test.index)+30474, 'price_doc': y_pred})\n",
    "submission.to_csv('submission_brandy.csv', index = False)"
   ]
  },
  {
   "cell_type": "code",
   "execution_count": null,
   "metadata": {
    "collapsed": true
   },
   "outputs": [],
   "source": []
  },
  {
   "cell_type": "code",
   "execution_count": null,
   "metadata": {
    "collapsed": true
   },
   "outputs": [],
   "source": []
  },
  {
   "cell_type": "code",
   "execution_count": 210,
   "metadata": {
    "collapsed": false
   },
   "outputs": [
    {
     "name": "stdout",
     "output_type": "stream",
     "text": [
      "R^2 for standard scaler train set: 0.484881\n",
      "--------------------------------------------------\n",
      "R^2 for standard scaler test  set: 0.511360\n",
      "--------------------------------------------------\n",
      "R^2 for robust scaler train set: 0.484881\n",
      "--------------------------------------------------\n",
      "R^2 for robust scaler test  set: 0.511360\n"
     ]
    }
   ],
   "source": [
    "#Trying out Scaling with different parameters:\n",
    "#multi using log and okurg district instead of big church:\n",
    "from sklearn.preprocessing import StandardScaler, RobustScaler\n",
    "from sklearn import linear_model\n",
    "ols = linear_model.LinearRegression()\n",
    "\n",
    "#Train Test Split\n",
    "from sklearn.model_selection import train_test_split\n",
    "X_moscow = train_encode[['full_sq','metro_min_walk','park_km','kremlin_km','nuclear_reactor_km',\n",
    "                         'market_shop_km','detention_facility_km','university_km','workplaces_km','okurg_district']]\n",
    "Y_moscow = train_encode[\"price_doc\"]\n",
    "X_train, X_test, Y_train, Y_test = train_test_split(X_moscow, Y_moscow, test_size=0.3, random_state=42)\n",
    "\n",
    "#Scale\n",
    "standard_scaler = StandardScaler()\n",
    "Xtr_s = standard_scaler.fit_transform(X_train)\n",
    "Xte_s = standard_scaler.transform(X_test)\n",
    "\n",
    "robust_scaler = RobustScaler()\n",
    "Xtr_r = robust_scaler.fit_transform(X_train)\n",
    "Xte_r = robust_scaler.transform(X_test)\n",
    "\n",
    "#multiple linear regression with scaling:\n",
    "ols.fit(Xtr_s, Y_train)\n",
    "print(\"R^2 for standard scaler train set: %f\" %ols.score(Xtr_s, Y_train))\n",
    "print('-'*50)\n",
    "print(\"R^2 for standard scaler test  set: %f\" %ols.score(Xte_s, Y_test))\n",
    "print('-'*50)\n",
    "ols.fit(Xtr_r, Y_train)\n",
    "print(\"R^2 for robust scaler train set: %f\" %ols.score(Xtr_r, Y_train))\n",
    "print('-'*50)\n",
    "print(\"R^2 for robust scaler test  set: %f\" %ols.score(Xte_r, Y_test))\n"
   ]
  },
  {
   "cell_type": "code",
   "execution_count": null,
   "metadata": {
    "collapsed": true
   },
   "outputs": [],
   "source": []
  },
  {
   "cell_type": "code",
   "execution_count": 201,
   "metadata": {
    "collapsed": false
   },
   "outputs": [
    {
     "name": "stdout",
     "output_type": "stream",
     "text": [
      "R^2 for standard scaler train set: 0.495699\n",
      "--------------------------------------------------\n",
      "R^2 for standard scaler test  set: 0.520433\n"
     ]
    }
   ],
   "source": [
    "#Trying out some of the random features from macro data:\n",
    "\n",
    "#X_moscow = train_encode[['full_sq','floor','max_floor','product_type','sub_area','metro_min_walk','kindergarten_km',\n",
    "#                         'park_km','kremlin_km','oil_chemistry_km','nuclear_reactor_km','big_market_km', \n",
    "#                         'market_shop_km', 'detention_facility_km','public_healthcare_km','university_km',\n",
    "#                         'workplaces_km','preschool_km','big_church_km','okurg_district','pop_density',\n",
    "#                         'elder_ratio','youth_ratio','floor_ratio','year','month','oil_urals','cpi','eurrub',\n",
    "#                         'average_provision_of_build_contract_moscow','micex','mortgage_rate','rent_price_4+room_bus',\n",
    "#                         'sd_oil_yearly','sd_cpi_yearly','sd_eurrub_yearly','sd_micex_yearly',\n",
    "#                         'sd_mortgage_yearly','sd_rent_yearly']]\n",
    "#Y_moscow = train_encode['price_doc']\n",
    "\n",
    "#Train Test Split\n",
    "from sklearn.model_selection import train_test_split\n",
    "X_moscow = train_encode[['full_sq','metro_min_walk','park_km','kremlin_km','nuclear_reactor_km',\n",
    "                         'market_shop_km','detention_facility_km','university_km','workplaces_km','okurg_district',\n",
    "                        'cpi','eurrub','mortgage_rate','rent_price_4+room_bus','sd_micex_yearly','sd_rent_yearly']]\n",
    "Y_moscow = train_encode[\"price_doc\"]\n",
    "X_train, X_test, Y_train, Y_test = train_test_split(X_moscow, Y_moscow, test_size=0.3, random_state=42)\n",
    "\n",
    "#Scale\n",
    "from sklearn.preprocessing import StandardScaler\n",
    "standard_scaler = StandardScaler()\n",
    "Xtr_s = standard_scaler.fit_transform(X_train)\n",
    "Xte_s = standard_scaler.transform(X_test)\n",
    "\n",
    "#multiple linear regression with scaling:\n",
    "ols.fit(Xtr_s, Y_train)\n",
    "print(\"R^2 for standard scaler train set: %f\" %ols.score(Xtr_s, Y_train))\n",
    "print('-'*50)\n",
    "print(\"R^2 for standard scaler test  set: %f\" %ols.score(Xte_s, Y_test))"
   ]
  },
  {
   "cell_type": "code",
   "execution_count": null,
   "metadata": {
    "collapsed": true
   },
   "outputs": [],
   "source": []
  },
  {
   "cell_type": "code",
   "execution_count": 207,
   "metadata": {
    "collapsed": false
   },
   "outputs": [
    {
     "name": "stdout",
     "output_type": "stream",
     "text": [
      "R^2 for standard scaler train set: 0.518643\n",
      "--------------------------------------------------\n",
      "R^2 for standard scaler test  set: 0.540316\n"
     ]
    }
   ],
   "source": [
    "#Trying out some of the random features from macro data:\n",
    "\n",
    "X_moscow = train_encode[['full_sq','floor','max_floor','product_type','sub_area','metro_min_walk','kindergarten_km',\n",
    "                        'park_km','kremlin_km','oil_chemistry_km','nuclear_reactor_km','big_market_km', \n",
    "                        'market_shop_km', 'detention_facility_km','public_healthcare_km','university_km',\n",
    "                        'workplaces_km','preschool_km','big_church_km','okurg_district','pop_density',\n",
    "                        'elder_ratio','youth_ratio','floor_ratio','year','month','oil_urals','cpi','eurrub',\n",
    "                        'average_provision_of_build_contract_moscow','micex','mortgage_rate','rent_price_4+room_bus',\n",
    "                        'sd_oil_yearly','sd_cpi_yearly','sd_eurrub_yearly','sd_micex_yearly',\n",
    "                        'sd_mortgage_yearly','sd_rent_yearly']]\n",
    "Y_moscow = train_encode['price_doc']\n",
    "\n",
    "#Train Test Split\n",
    "from sklearn.model_selection import train_test_split\n",
    "# #X_moscow = train_encode[['full_sq','metro_min_walk','park_km','kremlin_km','nuclear_reactor_km',\n",
    "#                          'market_shop_km','detention_facility_km','university_km','workplaces_km','okurg_district',\n",
    "#                         'cpi','eurrub','mortgage_rate','rent_price_4+room_bus','sd_micex_yearly','sd_rent_yearly']]\n",
    "#Y_moscow = train_encode[\"price_doc\"]\n",
    "X_train, X_test, Y_train, Y_test = train_test_split(X_moscow, Y_moscow, test_size=0.3, random_state=42)\n",
    "\n",
    "#Scale\n",
    "from sklearn.preprocessing import StandardScaler\n",
    "standard_scaler = StandardScaler()\n",
    "Xtr_s = standard_scaler.fit_transform(X_train)\n",
    "Xte_s = standard_scaler.transform(X_test)\n",
    "\n",
    "#multiple linear regression with scaling:\n",
    "ols.fit(Xtr_s, Y_train)\n",
    "print(\"R^2 for standard scaler train set: %f\" %ols.score(Xtr_s, Y_train))\n",
    "print('-'*50)\n",
    "print(\"R^2 for standard scaler test  set: %f\" %ols.score(Xte_s, Y_test))"
   ]
  },
  {
   "cell_type": "code",
   "execution_count": 208,
   "metadata": {
    "collapsed": false
   },
   "outputs": [
    {
     "name": "stdout",
     "output_type": "stream",
     "text": [
      "R^2 for standard scaler train set: 0.484503\n",
      "--------------------------------------------------\n",
      "R^2 for standard scaler test  set: 0.511265\n"
     ]
    }
   ],
   "source": [
    "#Trying out some of the random features from macro data:\n",
    "\n",
    "#X_moscow = train_encode[['full_sq','floor','max_floor','product_type','sub_area','metro_min_walk','kindergarten_km',\n",
    "#                         'park_km','kremlin_km','oil_chemistry_km','nuclear_reactor_km','big_market_km', \n",
    "#                         'market_shop_km', 'detention_facility_km','public_healthcare_km','university_km',\n",
    "#                         'workplaces_km','preschool_km','big_church_km','okurg_district','pop_density',\n",
    "#                         'elder_ratio','youth_ratio','floor_ratio','year','month','oil_urals','cpi','eurrub',\n",
    "#                         'average_provision_of_build_contract_moscow','micex','mortgage_rate','rent_price_4+room_bus',\n",
    "#                         'sd_oil_yearly','sd_cpi_yearly','sd_eurrub_yearly','sd_micex_yearly',\n",
    "#                         'sd_mortgage_yearly','sd_rent_yearly']]\n",
    "#Y_moscow = train_encode['price_doc']\n",
    "\n",
    "#Train Test Split\n",
    "from sklearn.model_selection import train_test_split\n",
    "X_moscow = train_encode[['full_sq','metro_min_walk','kremlin_km','nuclear_reactor_km',\n",
    "                         'market_shop_km','detention_facility_km','university_km','okurg_district']]\n",
    "Y_moscow = train_encode[\"price_doc\"]\n",
    "X_train, X_test, Y_train, Y_test = train_test_split(X_moscow, Y_moscow, test_size=0.3, random_state=42)\n",
    "\n",
    "#Scale\n",
    "from sklearn.preprocessing import StandardScaler\n",
    "standard_scaler = StandardScaler()\n",
    "Xtr_s = standard_scaler.fit_transform(X_train)\n",
    "Xte_s = standard_scaler.transform(X_test)\n",
    "\n",
    "#multiple linear regression with scaling:\n",
    "ols.fit(Xtr_s, Y_train)\n",
    "print(\"R^2 for standard scaler train set: %f\" %ols.score(Xtr_s, Y_train))\n",
    "print('-'*50)\n",
    "print(\"R^2 for standard scaler test  set: %f\" %ols.score(Xte_s, Y_test))"
   ]
  },
  {
   "cell_type": "markdown",
   "metadata": {},
   "source": [
    "### Ridge Regression with Scaling"
   ]
  },
  {
   "cell_type": "code",
   "execution_count": 200,
   "metadata": {
    "collapsed": false
   },
   "outputs": [
    {
     "name": "stdout",
     "output_type": "stream",
     "text": [
      "The determination of ridge regression with standard scaling is: 0.4932\n",
      "The determination of ridge regression with robust scaling is: 0.4938\n"
     ]
    }
   ],
   "source": [
    "#Ridge Regression with scaling\n",
    "#Performs the same with robust and standard scaling\n",
    "#Performs the same without the scaling\n",
    "#SLIGHTLY better with the okurg district\n",
    "\n",
    "Xr_moscow = train_encode[['full_sq','metro_min_walk','park_km','kremlin_km','nuclear_reactor_km',\n",
    "                         'market_shop_km','detention_facility_km','university_km','workplaces_km','okurg_district']]\n",
    "Xs_moscow = train_encode[['full_sq','metro_min_walk','park_km','kremlin_km','nuclear_reactor_km',\n",
    "                         'market_shop_km','detention_facility_km','university_km','workplaces_km','big_church_km']]\n",
    "Yr_moscow = train_encode[\"price_doc\"]\n",
    "\n",
    "Xs_moscow = standard_scaler.fit_transform(Xs_moscow)\n",
    "Xr_moscow = robust_scaler.fit_transform(Xr_moscow)\n",
    "\n",
    "from sklearn import linear_model\n",
    "ridge = linear_model.Ridge(alpha = 1) # create a ridge regression instance\n",
    "ridge.fit(Xs_moscow, Yr_moscow) # fit data\n",
    "ridge.coef_, ridge.intercept_ # print out the coefficients\n",
    "print(\"The determination of ridge regression with standard scaling is: %.4f\" %ridge.score(Xs_moscow, Yr_moscow))\n",
    "ridge.fit(Xr_moscow, Yr_moscow) # fit data\n",
    "ridge.coef_, ridge.intercept_ # print out the coefficients\n",
    "print(\"The determination of ridge regression with robust scaling is: %.4f\" %ridge.score(Xr_moscow, Yr_moscow))"
   ]
  },
  {
   "cell_type": "code",
   "execution_count": null,
   "metadata": {
    "collapsed": true
   },
   "outputs": [],
   "source": []
  },
  {
   "cell_type": "code",
   "execution_count": null,
   "metadata": {
    "collapsed": true
   },
   "outputs": [],
   "source": []
  },
  {
   "cell_type": "code",
   "execution_count": null,
   "metadata": {
    "collapsed": true
   },
   "outputs": [],
   "source": []
  },
  {
   "cell_type": "code",
   "execution_count": 161,
   "metadata": {
    "collapsed": false
   },
   "outputs": [
    {
     "name": "stdout",
     "output_type": "stream",
     "text": [
      "Testset accuracy using standard scaler: 0.043\n",
      "Testset accuracy using robust scaler:   0.045\n"
     ]
    }
   ],
   "source": [
    "from sklearn.neighbors import KNeighborsClassifier\n",
    "\n",
    "knn = KNeighborsClassifier()\n",
    "knn.fit(Xtr_s, Y_train)\n",
    "acc_s = knn.score(Xte_s, Y_test)\n",
    "print(\"Testset accuracy using standard scaler: %.3f\" % acc_s)\n",
    "knn.fit(Xtr_r, Y_train)\n",
    "acc_r = knn.score(Xte_r, Y_test)\n",
    "print(\"Testset accuracy using robust scaler:   %.3f\" % acc_r)"
   ]
  },
  {
   "cell_type": "code",
   "execution_count": null,
   "metadata": {
    "collapsed": true
   },
   "outputs": [],
   "source": []
  },
  {
   "cell_type": "code",
   "execution_count": null,
   "metadata": {
    "collapsed": true
   },
   "outputs": [],
   "source": []
  },
  {
   "cell_type": "markdown",
   "metadata": {},
   "source": [
    "This is from Hassem:"
   ]
  },
  {
   "cell_type": "code",
   "execution_count": null,
   "metadata": {
    "collapsed": true
   },
   "outputs": [],
   "source": [
    "train2 = train.copy()\n",
    "\n",
    "sub = pd.get_dummies(train2['sub_area'], prefix='sub', prefix_sep='__')\n",
    "sub.head()\n",
    "train2 = pd.concat([train2.drop('sub_area', axis=1), sub], axis=1)\n",
    "\n",
    "prodtype = pd.get_dummies(train2['product_type'], prefix='prodtype', prefix_sep='__')\n",
    "prodtype.head()\n",
    "train2 = pd.concat([train2.drop('product_type', axis=1), prodtype], axis=1)\n",
    "\n",
    "print train2.shape\n",
    "\n",
    "train2.head()"
   ]
  },
  {
   "cell_type": "code",
   "execution_count": null,
   "metadata": {
    "collapsed": true
   },
   "outputs": [],
   "source": [
    "X = train2.drop([\"id\", \"price_doc\"], axis = 1)\n",
    "\n",
    "Y = train2[\"price_doc\"]\n",
    "\n",
    "model = sm.OLS(Y, X)\n",
    "X = sm.add_constant(X)\n",
    "results = model.fit()\n",
    "print(results.summary())"
   ]
  },
  {
   "cell_type": "code",
   "execution_count": null,
   "metadata": {
    "collapsed": true
   },
   "outputs": [],
   "source": [
    "test2 = test.copy()\n",
    "\n",
    "sub = pd.get_dummies(test2['sub_area'], prefix='sub', prefix_sep='__')\n",
    "sub.head()\n",
    "test2 = pd.concat([test2.drop('sub_area', axis=1), sub], axis=1)\n",
    "\n",
    "prodtype = pd.get_dummies(test2['product_type'], prefix='prodtype', prefix_sep='__')\n",
    "prodtype.head()\n",
    "test2 = pd.concat([test2.drop('product_type', axis=1), prodtype], axis=1)\n",
    "\n",
    "print test2.shape\n",
    "\n",
    "test2.head()"
   ]
  },
  {
   "cell_type": "code",
   "execution_count": null,
   "metadata": {
    "collapsed": true
   },
   "outputs": [],
   "source": [
    "test_y = results.predict(test2.drop(\"id\", axis = 1))"
   ]
  },
  {
   "cell_type": "code",
   "execution_count": null,
   "metadata": {
    "collapsed": true
   },
   "outputs": [],
   "source": [
    "submission.loc[submission.price_doc < 0, ] "
   ]
  }
 ],
 "metadata": {
  "kernelspec": {
   "display_name": "Python 2",
   "language": "python",
   "name": "python2"
  },
  "language_info": {
   "codemirror_mode": {
    "name": "ipython",
    "version": 2
   },
   "file_extension": ".py",
   "mimetype": "text/x-python",
   "name": "python",
   "nbconvert_exporter": "python",
   "pygments_lexer": "ipython2",
   "version": "2.7.13"
  }
 },
 "nbformat": 4,
 "nbformat_minor": 2
}
