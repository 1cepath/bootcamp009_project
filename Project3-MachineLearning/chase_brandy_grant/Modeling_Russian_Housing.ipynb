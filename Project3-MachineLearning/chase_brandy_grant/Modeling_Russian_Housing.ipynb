{
 "cells": [
  {
   "cell_type": "code",
   "execution_count": 1,
   "metadata": {
    "collapsed": false
   },
   "outputs": [],
   "source": [
    "import pandas as pd\n",
    "from pandas.io.json import build_table_schema\n",
    "from pandas.plotting import scatter_matrix\n",
    "import seaborn as sns\n",
    "import numpy as np\n",
    "import scipy as sp\n",
    "import os\n",
    "import xgboost as xgb\n",
    "#import visualization as vis\n",
    "import matplotlib.pyplot as plt\n",
    "import matplotlib\n",
    "%matplotlib inline\n",
    "\n",
    "DIR_PATH = './'"
   ]
  },
  {
   "cell_type": "markdown",
   "metadata": {},
   "source": [
    "## Columns/features currently in use"
   ]
  },
  {
   "cell_type": "code",
   "execution_count": 2,
   "metadata": {
    "collapsed": false
   },
   "outputs": [
    {
     "name": "stdout",
     "output_type": "stream",
     "text": [
      "['id' 'timestamp' 'full_sq' 'life_sq' 'floor' 'build_year' 'max_floor'\n",
      " 'kitch_sq' 'num_room' 'state' 'kindergarten_km' 'green_zone_km'\n",
      " 'school_km' 'metro_min_avto' 'public_healthcare_km' 'sub_area'\n",
      " 'industrial_km' 'metro_min_walk' 'railroad_km' 'swim_pool_km' 'material'\n",
      " 'price_doc']\n",
      "****************************************\n",
      "['id' 'timestamp' 'full_sq' 'life_sq' 'floor' 'build_year' 'max_floor'\n",
      " 'kitch_sq' 'num_room' 'state' 'kindergarten_km' 'green_zone_km'\n",
      " 'school_km' 'metro_min_avto' 'public_healthcare_km' 'sub_area'\n",
      " 'industrial_km' 'metro_min_walk' 'railroad_km' 'swim_pool_km' 'material']\n"
     ]
    }
   ],
   "source": [
    "train  = pd.read_csv(\"train_top20_partClean.csv\")\n",
    "test = pd.read_csv(\"test_top20_partClean.csv\")\n",
    "print train.columns.values\n",
    "print 40 * '*'\n",
    "print test.columns.values"
   ]
  },
  {
   "cell_type": "markdown",
   "metadata": {},
   "source": [
    "## The datatypes for each column"
   ]
  },
  {
   "cell_type": "code",
   "execution_count": 3,
   "metadata": {
    "collapsed": false
   },
   "outputs": [
    {
     "data": {
      "text/plain": [
       "{dtype('int64'): Index([u'id', u'full_sq', u'price_doc'], dtype='object'),\n",
       " dtype('float64'): Index([u'life_sq', u'floor', u'build_year', u'max_floor', u'kitch_sq',\n",
       "        u'num_room', u'state', u'kindergarten_km', u'green_zone_km',\n",
       "        u'school_km', u'metro_min_avto', u'public_healthcare_km',\n",
       "        u'industrial_km', u'metro_min_walk', u'railroad_km', u'swim_pool_km',\n",
       "        u'material'],\n",
       "       dtype='object'),\n",
       " dtype('O'): Index([u'timestamp', u'sub_area'], dtype='object')}"
      ]
     },
     "execution_count": 3,
     "metadata": {},
     "output_type": "execute_result"
    }
   ],
   "source": [
    "g = train.columns.to_series().groupby(train.dtypes).groups\n",
    "g"
   ]
  },
  {
   "cell_type": "code",
   "execution_count": 4,
   "metadata": {
    "collapsed": false
   },
   "outputs": [],
   "source": [
    "## some simple feauture engineering from Shu. NOT SURE WHY DIDN'T STORE IN THE CSV \n",
    "#log transformation\n",
    "train.loc[:, 'log_price_doc'] = np.log(train['price_doc'] + 1)\n",
    "## time features\n",
    "\n",
    "# train.loc[:, 'year'] = train.loc[:, 'timestamp'].apply(lambda x: x.strftime('%Y'))\n",
    "# train.loc[:, 'month'] = train.loc[:, 'timestamp'].apply(lambda x: x.strftime('%m'))\n",
    "# test.loc[:, 'year'] = test.loc[:, 'timestamp'].apply(lambda x: x.strftime('%Y'))\n",
    "# test.loc[:, 'month'] = test.loc[:, 'timestamp'].apply(lambda x: x.strftime('%m'))\n",
    "\n",
    "train.loc[:, 'year'] =  train.loc[:,'timestamp'].apply(lambda x: x[0:4])\n",
    "train.loc[:, 'month'] =  train.loc[:, 'timestamp'].apply(lambda x: x[5:7])\n",
    "test.loc[:, 'year'] = test.loc[:, 'timestamp'].apply(lambda x: x[0:4])\n",
    "test.loc[:, 'month'] = test.loc[:, 'timestamp'].apply(lambda x: x[0:4])\n",
    "\n",
    "## property square meters\n",
    "train.loc[:,'year'] = train.loc[:, 'sq_metr'] = train.loc[:, ['full_sq','life_sq']].max(axis=1)\n",
    "\n",
    "## property unit_price\n",
    "train.loc[:, 'unit_price'] = train.loc[:, 'price_doc'] / train.loc[:, 'sq_metr']\n",
    "train.loc[train['unit_price'] > 600000, 'unit_price'] = np.nan\n",
    "\n",
    "## sub_area\n",
    "freq_area = np.array(train.loc[:, 'sub_area'].value_counts()[:60].index)\n",
    "train.loc[~train['sub_area'].isin(freq_area), 'sub_area'] = 'other'\n",
    "test.loc[~test['sub_area'].isin(freq_area), 'sub_area'] = 'other'\n"
   ]
  },
  {
   "cell_type": "code",
   "execution_count": 5,
   "metadata": {
    "collapsed": false
   },
   "outputs": [
    {
     "name": "stdout",
     "output_type": "stream",
     "text": [
      "encoding feature: sub_area\n"
     ]
    }
   ],
   "source": [
    "## label encoding\n",
    "from sklearn.preprocessing import LabelEncoder\n",
    "\n",
    "label_encoder = dict()\n",
    "\n",
    "for feature in ['sub_area']:\n",
    "    print('encoding feature: {}'.format(feature))\n",
    "    label_encoder[feature] = LabelEncoder()\n",
    "    label_encoder[feature].fit(train[feature])\n",
    "    train.loc[:, feature + '_le'] = label_encoder[feature].transform(train[feature])\n",
    "    test.loc[:, feature + '_le'] = label_encoder[feature].transform(test[feature])"
   ]
  },
  {
   "cell_type": "code",
   "execution_count": 6,
   "metadata": {
    "collapsed": false
   },
   "outputs": [
    {
     "name": "stdout",
     "output_type": "stream",
     "text": [
      "['id' 'timestamp' 'full_sq' 'life_sq' 'floor' 'build_year' 'max_floor'\n",
      " 'kitch_sq' 'num_room' 'state' 'kindergarten_km' 'green_zone_km'\n",
      " 'school_km' 'metro_min_avto' 'public_healthcare_km' 'sub_area'\n",
      " 'industrial_km' 'metro_min_walk' 'railroad_km' 'swim_pool_km' 'material'\n",
      " 'price_doc' 'log_price_doc' 'year' 'month' 'sq_metr' 'unit_price'\n",
      " 'sub_area_le']\n",
      "The number of columns after slight feature engineering is 28.00\n"
     ]
    }
   ],
   "source": [
    "print train.columns.values\n",
    "print(\"The number of columns after slight feature engineering is {:.2f}\".format(len(list(train.columns.values))))"
   ]
  },
  {
   "cell_type": "code",
   "execution_count": 40,
   "metadata": {
    "collapsed": false
   },
   "outputs": [
    {
     "data": {
      "text/plain": [
       "{dtype('int64'): Index([u'id', u'full_sq', u'price_doc', u'sub_area_le'], dtype='object'),\n",
       " dtype('float64'): Index([u'life_sq', u'floor', u'build_year', u'max_floor', u'kitch_sq',\n",
       "        u'num_room', u'state', u'kindergarten_km', u'green_zone_km',\n",
       "        u'school_km', u'metro_min_avto', u'public_healthcare_km',\n",
       "        u'industrial_km', u'metro_min_walk', u'railroad_km', u'swim_pool_km',\n",
       "        u'material', u'log_price_doc', u'year', u'sq_metr', u'unit_price'],\n",
       "       dtype='object'),\n",
       " dtype('O'): Index([u'timestamp', u'sub_area', u'month'], dtype='object')}"
      ]
     },
     "execution_count": 40,
     "metadata": {},
     "output_type": "execute_result"
    }
   ],
   "source": [
    "g = train.columns.to_series().groupby(train.dtypes).groups\n",
    "g # The year is a float and maybe it should be a categorical variable. "
   ]
  },
  {
   "cell_type": "code",
   "execution_count": 7,
   "metadata": {
    "collapsed": false
   },
   "outputs": [
    {
     "name": "stdout",
     "output_type": "stream",
     "text": [
      "(30471, 12)\n",
      "(30471,)\n",
      "(7662, 12)\n"
     ]
    }
   ],
   "source": [
    "model_features  = ['full_sq', 'life_sq', 'floor', 'build_year',\n",
    "                   'max_floor', 'kitch_sq', 'num_room', 'state', 'kindergarten_km',\n",
    "                   'green_zone_km', 'school_km', 'metro_min_avto',\n",
    "                   'public_healthcare_km', 'industrial_km',\n",
    "                   'metro_min_walk', 'railroad_km', 'swim_pool_km', 'material',\n",
    "                   'sub_area_le']\n",
    "\n",
    "model_features_noMissing = ['full_sq','kindergarten_km','green_zone_km', 'school_km', 'metro_min_avto',\n",
    "                            'public_healthcare_km', 'industrial_km', 'railroad_km', 'swim_pool_km','sub_area_le',\n",
    "                            'year','month']\n",
    "\n",
    "\n",
    "X_train = train[model_features_noMissing].values\n",
    "Y_train = train['log_price_doc'].values\n",
    "X_test = test[model_features_noMissing].values\n",
    "\n",
    "print(X_train.shape)\n",
    "print(Y_train.shape)\n",
    "print(X_test.shape)\n"
   ]
  },
  {
   "cell_type": "markdown",
   "metadata": {},
   "source": [
    "# Checking that we are no longer using missing data"
   ]
  },
  {
   "cell_type": "code",
   "execution_count": 8,
   "metadata": {
    "collapsed": false
   },
   "outputs": [
    {
     "data": {
      "image/png": "[encoded data removed]",
      "text/plain": [
       "<matplotlib.figure.Figure at 0x10fb16b50>"
      ]
     },
     "metadata": {},
     "output_type": "display_data"
    },
    {
     "data": {
      "text/plain": [
       "array([], dtype=object)"
      ]
     },
     "execution_count": 8,
     "metadata": {},
     "output_type": "execute_result"
    }
   ],
   "source": [
    "missing_df = train[['timestamp','full_sq', 'kindergarten_km','green_zone_km', 'school_km', 'metro_min_avto',\n",
    "                            'public_healthcare_km', 'industrial_km', 'railroad_km', 'swim_pool_km','sub_area_le']].isnull().sum(axis=0).reset_index()\n",
    "missing_df.columns = ['column_name', 'missing_count']\n",
    "missing_df = missing_df.loc[missing_df['missing_count'] > 0]\n",
    "ind = np.arange(missing_df.shape[0])\n",
    "width =  0.9 \n",
    "fig, ax = plt.subplots(figsize=(8,10))\n",
    "rects = ax.barh(ind, missing_df.missing_count.values, color ='y')\n",
    "ax.set_yticks(ind)\n",
    "ax.set_yticklabels(missing_df.column_name.values, rotation='horizontal')\n",
    "ax.set_xlabel(\"Count of missing values\")\n",
    "ax.set_title(\"Number of missing values in each column\")\n",
    "plt.show()\n",
    "missing_df.loc[:,'column_name'].values"
   ]
  },
  {
   "cell_type": "markdown",
   "metadata": {},
   "source": [
    "# Modelling:\n",
    "## Here we go! The first model of interest is the Random Forest. \n",
    "## We want to use this first, since we have't scaled the features (yet) and they don't require heavy tuning.\n",
    "## Note: Will go back to use simple Decision Tree, because we want to have some representation of the decision making. BOOM!\n",
    "\n",
    "## The important features to adjust are n_estimators, max_features, and max depth. For n_estimators larger is always better.  Smaller max_features reduces overfitting.\n",
    "\n",
    "## Empirical good default values are max_features=n_features for regression problems\n",
    "\n",
    "\n"
   ]
  },
  {
   "cell_type": "code",
   "execution_count": 9,
   "metadata": {
    "collapsed": false
   },
   "outputs": [],
   "source": [
    "from sklearn.ensemble import RandomForestRegressor"
   ]
  },
  {
   "cell_type": "code",
   "execution_count": 11,
   "metadata": {
    "collapsed": false
   },
   "outputs": [
    {
     "data": {
      "text/plain": [
       "RandomForestRegressor(bootstrap=True, criterion='mse', max_depth=None,\n",
       "           max_features=12, max_leaf_nodes=None, min_impurity_split=1e-07,\n",
       "           min_samples_leaf=1, min_samples_split=2,\n",
       "           min_weight_fraction_leaf=0.0, n_estimators=100, n_jobs=1,\n",
       "           oob_score=False, random_state=2, verbose=0, warm_start=False)"
      ]
     },
     "execution_count": 11,
     "metadata": {},
     "output_type": "execute_result"
    }
   ],
   "source": [
    "n_features = X_train.shape[1] # Random Forest cannot handle missing data\n",
    "\n",
    "forest = RandomForestRegressor(n_estimators=100, random_state= 2, max_features=n_features)\n",
    "forest.fit(X_train, Y_train) \n"
   ]
  },
  {
   "cell_type": "code",
   "execution_count": 12,
   "metadata": {
    "collapsed": false
   },
   "outputs": [
    {
     "data": {
      "text/plain": [
       "array([ 15.61170286,  16.0742473 ,  15.57420768, ...,  15.38751036,\n",
       "        15.44879787,  15.99300915])"
      ]
     },
     "execution_count": 12,
     "metadata": {},
     "output_type": "execute_result"
    }
   ],
   "source": [
    "import math \n",
    "log_y_test = forest.predict(X_test)\n",
    "log_y_test"
   ]
  },
  {
   "cell_type": "code",
   "execution_count": 13,
   "metadata": {
    "collapsed": false
   },
   "outputs": [
    {
     "name": "stdout",
     "output_type": "stream",
     "text": [
      "The R^2 on the training set:  0.905148\n"
     ]
    }
   ],
   "source": [
    "print(\"The R^2 on the training set:  {:.6f}\".format(forest.score(X_train, Y_train)))"
   ]
  },
  {
   "cell_type": "markdown",
   "metadata": {},
   "source": [
    "## The R^2 on the training set:  0.878585 (only features with no missing data) \n",
    "## The R^2 on the training set:  0.911619 with the year and month added as features\n"
   ]
  },
  {
   "cell_type": "code",
   "execution_count": 14,
   "metadata": {
    "collapsed": false
   },
   "outputs": [],
   "source": [
    "y_pred = np.exp(log_y_test) - 1"
   ]
  },
  {
   "cell_type": "code",
   "execution_count": 15,
   "metadata": {
    "collapsed": true
   },
   "outputs": [],
   "source": [
    "submit = pd.DataFrame({'id': np.array(test.index)+30474, 'price_doc': y_pred})\n",
    "submit.to_csv('submission.csv', index=False)"
   ]
  },
  {
   "cell_type": "markdown",
   "metadata": {},
   "source": [
    "# Ridge Regression:  L2. So we are wanting learn two things from this model. 1) Implement a cross-validation 5-fold method to determine the coffiecient lambda/alpha. 2) Scale that data down!  We need to have all the features on the same scale. Let's get to work! "
   ]
  },
  {
   "cell_type": "code",
   "execution_count": 43,
   "metadata": {
    "collapsed": false
   },
   "outputs": [],
   "source": [
    "from sklearn.model_selection import GridSearchCV\n",
    "from sklearn.linear_model import Ridge\n",
    "from sklearn.preprocessing import MinMaxScaler # All the features will be between 0 and 1 "
   ]
  },
  {
   "cell_type": "code",
   "execution_count": 44,
   "metadata": {
    "collapsed": false
   },
   "outputs": [
    {
     "data": {
      "text/plain": [
       "MinMaxScaler(copy=True, feature_range=(0, 1))"
      ]
     },
     "execution_count": 44,
     "metadata": {},
     "output_type": "execute_result"
    }
   ],
   "source": [
    "#Currently we don't have that many variables 12 and we are probably not overfitting. \n",
    "\n",
    "#Scaling it!\n",
    "scaler = MinMaxScaler() \n",
    "scaler.fit(X_train)"
   ]
  },
  {
   "cell_type": "code",
   "execution_count": 45,
   "metadata": {
    "collapsed": false
   },
   "outputs": [],
   "source": [
    "X_train_scaled = scaler.transform(X_train)"
   ]
  },
  {
   "cell_type": "code",
   "execution_count": 46,
   "metadata": {
    "collapsed": false
   },
   "outputs": [
    {
     "name": "stdout",
     "output_type": "stream",
     "text": [
      "transformed shape (30471, 12)\n",
      "per-feature minimum before scaling [0 0.00046974800000000003 0.0 0.0 0.0 0.0 0.0 0.0022994820000000003 0.0 0\n",
      " 0.0 '01']\n",
      "per-feature maximum before scaling [5326 29.08577383 1.9824481090000001 47.39470605 61.43847178 76.05513511\n",
      " 14.04816211 17.387118899999997 53.35929368 60 7478.0 '12']\n",
      "--------------------Some Day I'm going to Scale that Mountain!--------------------\n",
      "per-feature minimum after scaling [ 0.  0.  0.  0.  0.  0.  0.  0.  0.  0.  0.  0.]\n",
      "per-feature maximum after scaling [ 1.  1.  1.  1.  1.  1.  1.  1.  1.  1.  1.  1.]\n",
      "Scaled it!\n"
     ]
    }
   ],
   "source": [
    "print(\"transformed shape {}\".format(X_train_scaled.shape))\n",
    "print(\"per-feature minimum before scaling {}\".format(X_train.min(axis=0)))\n",
    "print(\"per-feature maximum before scaling {}\".format(X_train.max(axis=0)))\n",
    "print 20 * '-' + \"Some Day I'm going to Scale that Mountain!\" + 20 * '-'\n",
    "print(\"per-feature minimum after scaling {}\".format(X_train_scaled.min(axis=0)))\n",
    "print(\"per-feature maximum after scaling {}\".format(X_train_scaled.max(axis=0)))\n",
    "print \"Scaled it!\"\n",
    "X_test_scaled = scaler.transform(X_test)"
   ]
  },
  {
   "cell_type": "code",
   "execution_count": 47,
   "metadata": {
    "collapsed": false
   },
   "outputs": [
    {
     "data": {
      "text/plain": [
       "GridSearchCV(cv=5, error_score='raise',\n",
       "       estimator=Ridge(alpha=1.0, copy_X=True, fit_intercept=True, max_iter=None,\n",
       "   normalize=False, random_state=None, solver='auto', tol=0.001),\n",
       "       fit_params={}, iid=True, n_jobs=1,\n",
       "       param_grid={'alpha': [10, 1, 0.1, 0.01, 0.001, 0.0001, 0]},\n",
       "       pre_dispatch='2*n_jobs', refit=True, return_train_score=True,\n",
       "       scoring=None, verbose=0)"
      ]
     },
     "execution_count": 47,
     "metadata": {},
     "output_type": "execute_result"
    }
   ],
   "source": [
    "# prepare a range of alpha values to test\n",
    "param_grid = {'alpha': [10,1,0.1,0.01,0.001,0.0001,0]}\n",
    "grid =  GridSearchCV(Ridge(), param_grid, cv=5)\n",
    "grid.fit(X_train_scaled,Y_train)"
   ]
  },
  {
   "cell_type": "code",
   "execution_count": 48,
   "metadata": {
    "collapsed": false
   },
   "outputs": [
    {
     "name": "stdout",
     "output_type": "stream",
     "text": [
      "Best parameters: {'alpha': 1}\n",
      "Best cross-validation score: 0.073\n"
     ]
    }
   ],
   "source": [
    "print(\"Best parameters: {}\".format(grid.best_params_))\n",
    "print(\"Best cross-validation score: {:.3f}\".format(grid.best_score_))"
   ]
  },
  {
   "cell_type": "code",
   "execution_count": 49,
   "metadata": {
    "collapsed": false
   },
   "outputs": [
    {
     "data": {
      "text/html": [
       "<div>\n",
       "<style>\n",
       "    .dataframe thead tr:only-child th {\n",
       "        text-align: right;\n",
       "    }\n",
       "\n",
       "    .dataframe thead th {\n",
       "        text-align: left;\n",
       "    }\n",
       "\n",
       "    .dataframe tbody tr th {\n",
       "        vertical-align: top;\n",
       "    }\n",
       "</style>\n",
       "<table border=\"1\" class=\"dataframe\">\n",
       "  <thead>\n",
       "    <tr style=\"text-align: right;\">\n",
       "      <th></th>\n",
       "      <th>mean_fit_time</th>\n",
       "      <th>mean_score_time</th>\n",
       "      <th>mean_test_score</th>\n",
       "      <th>mean_train_score</th>\n",
       "      <th>param_alpha</th>\n",
       "      <th>params</th>\n",
       "      <th>rank_test_score</th>\n",
       "      <th>split0_test_score</th>\n",
       "      <th>split0_train_score</th>\n",
       "      <th>split1_test_score</th>\n",
       "      <th>...</th>\n",
       "      <th>split2_test_score</th>\n",
       "      <th>split2_train_score</th>\n",
       "      <th>split3_test_score</th>\n",
       "      <th>split3_train_score</th>\n",
       "      <th>split4_test_score</th>\n",
       "      <th>split4_train_score</th>\n",
       "      <th>std_fit_time</th>\n",
       "      <th>std_score_time</th>\n",
       "      <th>std_test_score</th>\n",
       "      <th>std_train_score</th>\n",
       "    </tr>\n",
       "  </thead>\n",
       "  <tbody>\n",
       "    <tr>\n",
       "      <th>0</th>\n",
       "      <td>0.013369</td>\n",
       "      <td>0.000771</td>\n",
       "      <td>0.052202</td>\n",
       "      <td>0.084751</td>\n",
       "      <td>10</td>\n",
       "      <td>{u'alpha': 10}</td>\n",
       "      <td>2</td>\n",
       "      <td>-0.043706</td>\n",
       "      <td>0.102603</td>\n",
       "      <td>0.093571</td>\n",
       "      <td>...</td>\n",
       "      <td>0.077299</td>\n",
       "      <td>0.084845</td>\n",
       "      <td>0.076066</td>\n",
       "      <td>0.081476</td>\n",
       "      <td>0.057795</td>\n",
       "      <td>0.075820</td>\n",
       "      <td>0.004315</td>\n",
       "      <td>0.000254</td>\n",
       "      <td>0.049278</td>\n",
       "      <td>0.009403</td>\n",
       "    </tr>\n",
       "    <tr>\n",
       "      <th>1</th>\n",
       "      <td>0.008856</td>\n",
       "      <td>0.000596</td>\n",
       "      <td>0.072600</td>\n",
       "      <td>0.136331</td>\n",
       "      <td>1</td>\n",
       "      <td>{u'alpha': 1}</td>\n",
       "      <td>1</td>\n",
       "      <td>-0.175069</td>\n",
       "      <td>0.211049</td>\n",
       "      <td>0.159287</td>\n",
       "      <td>...</td>\n",
       "      <td>0.118135</td>\n",
       "      <td>0.125467</td>\n",
       "      <td>0.135388</td>\n",
       "      <td>0.118433</td>\n",
       "      <td>0.125300</td>\n",
       "      <td>0.110937</td>\n",
       "      <td>0.001574</td>\n",
       "      <td>0.000274</td>\n",
       "      <td>0.124623</td>\n",
       "      <td>0.037653</td>\n",
       "    </tr>\n",
       "    <tr>\n",
       "      <th>2</th>\n",
       "      <td>0.007898</td>\n",
       "      <td>0.000445</td>\n",
       "      <td>-0.101198</td>\n",
       "      <td>0.163473</td>\n",
       "      <td>0.1</td>\n",
       "      <td>{u'alpha': 0.1}</td>\n",
       "      <td>3</td>\n",
       "      <td>-1.154872</td>\n",
       "      <td>0.312345</td>\n",
       "      <td>0.193292</td>\n",
       "      <td>...</td>\n",
       "      <td>0.127391</td>\n",
       "      <td>0.132107</td>\n",
       "      <td>0.166635</td>\n",
       "      <td>0.127933</td>\n",
       "      <td>0.161737</td>\n",
       "      <td>0.119870</td>\n",
       "      <td>0.000470</td>\n",
       "      <td>0.000030</td>\n",
       "      <td>0.527298</td>\n",
       "      <td>0.074542</td>\n",
       "    </tr>\n",
       "    <tr>\n",
       "      <th>3</th>\n",
       "      <td>0.007922</td>\n",
       "      <td>0.000591</td>\n",
       "      <td>-0.209906</td>\n",
       "      <td>0.165725</td>\n",
       "      <td>0.01</td>\n",
       "      <td>{u'alpha': 0.01}</td>\n",
       "      <td>4</td>\n",
       "      <td>-1.721797</td>\n",
       "      <td>0.322308</td>\n",
       "      <td>0.199155</td>\n",
       "      <td>...</td>\n",
       "      <td>0.133152</td>\n",
       "      <td>0.132239</td>\n",
       "      <td>0.172057</td>\n",
       "      <td>0.128331</td>\n",
       "      <td>0.168150</td>\n",
       "      <td>0.120243</td>\n",
       "      <td>0.000411</td>\n",
       "      <td>0.000210</td>\n",
       "      <td>0.756299</td>\n",
       "      <td>0.078389</td>\n",
       "    </tr>\n",
       "    <tr>\n",
       "      <th>4</th>\n",
       "      <td>0.007758</td>\n",
       "      <td>0.000449</td>\n",
       "      <td>-0.225021</td>\n",
       "      <td>0.165761</td>\n",
       "      <td>0.001</td>\n",
       "      <td>{u'alpha': 0.001}</td>\n",
       "      <td>5</td>\n",
       "      <td>-1.803083</td>\n",
       "      <td>0.322470</td>\n",
       "      <td>0.199797</td>\n",
       "      <td>...</td>\n",
       "      <td>0.136933</td>\n",
       "      <td>0.132241</td>\n",
       "      <td>0.172652</td>\n",
       "      <td>0.128337</td>\n",
       "      <td>0.168856</td>\n",
       "      <td>0.120248</td>\n",
       "      <td>0.000172</td>\n",
       "      <td>0.000028</td>\n",
       "      <td>0.789348</td>\n",
       "      <td>0.078452</td>\n",
       "    </tr>\n",
       "    <tr>\n",
       "      <th>5</th>\n",
       "      <td>0.007710</td>\n",
       "      <td>0.000436</td>\n",
       "      <td>-0.226554</td>\n",
       "      <td>0.165761</td>\n",
       "      <td>0.0001</td>\n",
       "      <td>{u'alpha': 0.0001}</td>\n",
       "      <td>6</td>\n",
       "      <td>-1.811557</td>\n",
       "      <td>0.322471</td>\n",
       "      <td>0.199862</td>\n",
       "      <td>...</td>\n",
       "      <td>0.137547</td>\n",
       "      <td>0.132242</td>\n",
       "      <td>0.172712</td>\n",
       "      <td>0.128337</td>\n",
       "      <td>0.168927</td>\n",
       "      <td>0.120248</td>\n",
       "      <td>0.000432</td>\n",
       "      <td>0.000045</td>\n",
       "      <td>0.792813</td>\n",
       "      <td>0.078452</td>\n",
       "    </tr>\n",
       "    <tr>\n",
       "      <th>6</th>\n",
       "      <td>0.007936</td>\n",
       "      <td>0.000472</td>\n",
       "      <td>-0.226724</td>\n",
       "      <td>0.165761</td>\n",
       "      <td>0</td>\n",
       "      <td>{u'alpha': 0}</td>\n",
       "      <td>7</td>\n",
       "      <td>-1.812502</td>\n",
       "      <td>0.322471</td>\n",
       "      <td>0.199869</td>\n",
       "      <td>...</td>\n",
       "      <td>0.137620</td>\n",
       "      <td>0.132242</td>\n",
       "      <td>0.172719</td>\n",
       "      <td>0.128337</td>\n",
       "      <td>0.168935</td>\n",
       "      <td>0.120248</td>\n",
       "      <td>0.000424</td>\n",
       "      <td>0.000070</td>\n",
       "      <td>0.793200</td>\n",
       "      <td>0.078452</td>\n",
       "    </tr>\n",
       "  </tbody>\n",
       "</table>\n",
       "<p>7 rows × 21 columns</p>\n",
       "</div>"
      ],
      "text/plain": [
       "   mean_fit_time  mean_score_time  mean_test_score  mean_train_score  \\\n",
       "0       0.013369         0.000771         0.052202          0.084751   \n",
       "1       0.008856         0.000596         0.072600          0.136331   \n",
       "2       0.007898         0.000445        -0.101198          0.163473   \n",
       "3       0.007922         0.000591        -0.209906          0.165725   \n",
       "4       0.007758         0.000449        -0.225021          0.165761   \n",
       "5       0.007710         0.000436        -0.226554          0.165761   \n",
       "6       0.007936         0.000472        -0.226724          0.165761   \n",
       "\n",
       "  param_alpha              params  rank_test_score  split0_test_score  \\\n",
       "0          10      {u'alpha': 10}                2          -0.043706   \n",
       "1           1       {u'alpha': 1}                1          -0.175069   \n",
       "2         0.1     {u'alpha': 0.1}                3          -1.154872   \n",
       "3        0.01    {u'alpha': 0.01}                4          -1.721797   \n",
       "4       0.001   {u'alpha': 0.001}                5          -1.803083   \n",
       "5      0.0001  {u'alpha': 0.0001}                6          -1.811557   \n",
       "6           0       {u'alpha': 0}                7          -1.812502   \n",
       "\n",
       "   split0_train_score  split1_test_score       ...         split2_test_score  \\\n",
       "0            0.102603           0.093571       ...                  0.077299   \n",
       "1            0.211049           0.159287       ...                  0.118135   \n",
       "2            0.312345           0.193292       ...                  0.127391   \n",
       "3            0.322308           0.199155       ...                  0.133152   \n",
       "4            0.322470           0.199797       ...                  0.136933   \n",
       "5            0.322471           0.199862       ...                  0.137547   \n",
       "6            0.322471           0.199869       ...                  0.137620   \n",
       "\n",
       "   split2_train_score  split3_test_score  split3_train_score  \\\n",
       "0            0.084845           0.076066            0.081476   \n",
       "1            0.125467           0.135388            0.118433   \n",
       "2            0.132107           0.166635            0.127933   \n",
       "3            0.132239           0.172057            0.128331   \n",
       "4            0.132241           0.172652            0.128337   \n",
       "5            0.132242           0.172712            0.128337   \n",
       "6            0.132242           0.172719            0.128337   \n",
       "\n",
       "   split4_test_score  split4_train_score  std_fit_time  std_score_time  \\\n",
       "0           0.057795            0.075820      0.004315        0.000254   \n",
       "1           0.125300            0.110937      0.001574        0.000274   \n",
       "2           0.161737            0.119870      0.000470        0.000030   \n",
       "3           0.168150            0.120243      0.000411        0.000210   \n",
       "4           0.168856            0.120248      0.000172        0.000028   \n",
       "5           0.168927            0.120248      0.000432        0.000045   \n",
       "6           0.168935            0.120248      0.000424        0.000070   \n",
       "\n",
       "   std_test_score  std_train_score  \n",
       "0        0.049278         0.009403  \n",
       "1        0.124623         0.037653  \n",
       "2        0.527298         0.074542  \n",
       "3        0.756299         0.078389  \n",
       "4        0.789348         0.078452  \n",
       "5        0.792813         0.078452  \n",
       "6        0.793200         0.078452  \n",
       "\n",
       "[7 rows x 21 columns]"
      ]
     },
     "execution_count": 49,
     "metadata": {},
     "output_type": "execute_result"
    }
   ],
   "source": [
    "results = pd.DataFrame(grid.cv_results_)\n",
    "results # change this to show the entire DF "
   ]
  },
  {
   "cell_type": "code",
   "execution_count": 54,
   "metadata": {
    "collapsed": false
   },
   "outputs": [
    {
     "name": "stdout",
     "output_type": "stream",
     "text": [
      "The R^2 on the training set:  0.130474\n"
     ]
    }
   ],
   "source": [
    "print(\"The R^2 on the training set:  {:.6f}\".format(grid.score(X_train_scaled, Y_train)))"
   ]
  },
  {
   "cell_type": "code",
   "execution_count": 56,
   "metadata": {
    "collapsed": false
   },
   "outputs": [],
   "source": [
    "log_y_test_L2 =grid.predict(X_test_scaled)\n",
    "y_pred = np.exp(log_y_test) - 1"
   ]
  },
  {
   "cell_type": "code",
   "execution_count": 58,
   "metadata": {
    "collapsed": false
   },
   "outputs": [
    {
     "data": {
      "text/plain": [
       "(array([  3.00000000e+00,   1.00000000e+00,   4.00000000e+00,\n",
       "          1.05000000e+02,   2.97000000e+02,   9.51000000e+02,\n",
       "          5.68100000e+03,   6.13000000e+02,   6.00000000e+00,\n",
       "          1.00000000e+00]),\n",
       " array([  9.14426498,   9.38420654,   9.6241481 ,   9.86408966,\n",
       "         10.10403122,  10.34397278,  10.58391434,  10.8238559 ,\n",
       "         11.06379746,  11.30373902,  11.54368058]),\n",
       " <a list of 10 Patch objects>)"
      ]
     },
     "execution_count": 58,
     "metadata": {},
     "output_type": "execute_result"
    },
    {
     "data": {
      "image/png": "[encoded data removed]",
      "text/plain": [
       "<matplotlib.figure.Figure at 0x113db34d0>"
      ]
     },
     "metadata": {},
     "output_type": "display_data"
    }
   ],
   "source": [
    "plt.hist(log_y_test_L2) # The finger from Ridge.  "
   ]
  },
  {
   "cell_type": "code",
   "execution_count": null,
   "metadata": {
    "collapsed": true
   },
   "outputs": [],
   "source": []
  }
 ],
 "metadata": {
  "kernelspec": {
   "display_name": "Python [conda root]",
   "language": "python",
   "name": "conda-root-py"
  },
  "language_info": {
   "codemirror_mode": {
    "name": "ipython",
    "version": 2
   },
   "file_extension": ".py",
   "mimetype": "text/x-python",
   "name": "python",
   "nbconvert_exporter": "python",
   "pygments_lexer": "ipython2",
   "version": "2.7.12"
  }
 },
 "nbformat": 4,
 "nbformat_minor": 2
}
